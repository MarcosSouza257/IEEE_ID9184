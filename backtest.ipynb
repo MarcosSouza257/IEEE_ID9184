{
 "cells": [
  {
   "cell_type": "code",
   "execution_count": 32,
   "metadata": {},
   "outputs": [],
   "source": [
    "# importações\n",
    "from utils import *\n",
    "from models import *\n",
    "from config import OUTPUT_DIR  # Importa a configuração da pasta de dados\n",
    "from tensorflow.keras.models import load_model # type: ignore\n"
   ]
  },
  {
   "cell_type": "markdown",
   "metadata": {},
   "source": [
    "# 1. Aplicabilidade do Modelo 2 no Mercado Real"
   ]
  },
  {
   "cell_type": "code",
   "execution_count": 36,
   "metadata": {},
   "outputs": [
    {
     "name": "stdout",
     "output_type": "stream",
     "text": [
      "Carregando dados para: PETR4\n",
      "Carregando dados para: VALE3\n",
      "Carregando dados para: BBDC4\n",
      "Carregando dados para: ITUB4\n"
     ]
    }
   ],
   "source": [
    "# Lista de ações\n",
    "stock_list = ['PETR4', 'VALE3', 'BBDC4','ITUB4']\n",
    "\n",
    "# Carrega os dados de todas as ações e calcula os indicadores e salva em um dicionario\n",
    "all_stock_data = load_stocks_data(stock_list)"
   ]
  },
  {
   "cell_type": "code",
   "execution_count": null,
   "metadata": {},
   "outputs": [
    {
     "ename": "TypeError",
     "evalue": "process_stocks_and_save_metrics() got an unexpected keyword argument 'save_artifacts'",
     "output_type": "error",
     "traceback": [
      "\u001b[1;31m---------------------------------------------------------------------------\u001b[0m",
      "\u001b[1;31mTypeError\u001b[0m                                 Traceback (most recent call last)",
      "Cell \u001b[1;32mIn[39], line 6\u001b[0m\n\u001b[0;32m      3\u001b[0m name_model \u001b[38;5;241m=\u001b[39m model_2\n\u001b[0;32m      5\u001b[0m \u001b[38;5;66;03m# Usando a Combinação 4: (\"Stock Data + IT (IFR + MMS + MME)\", stock_data + ifr + mms + mme),\u001b[39;00m\n\u001b[1;32m----> 6\u001b[0m result \u001b[38;5;241m=\u001b[39m \u001b[43mprocess_stocks_and_save_metrics\u001b[49m\u001b[43m(\u001b[49m\u001b[43mall_stock_data\u001b[49m\u001b[43m,\u001b[49m\u001b[43m \u001b[49m\u001b[38;5;241;43m4\u001b[39;49m\u001b[43m,\u001b[49m\u001b[43m \u001b[49m\u001b[43mname_model\u001b[49m\u001b[43m,\u001b[49m\u001b[43m \u001b[49m\u001b[43msave_artifacts\u001b[49m\u001b[38;5;241;43m=\u001b[39;49m\u001b[38;5;28;43;01mTrue\u001b[39;49;00m\u001b[43m)\u001b[49m \u001b[38;5;66;03m# Salva os artefatos\u001b[39;00m\n",
      "\u001b[1;31mTypeError\u001b[0m: process_stocks_and_save_metrics() got an unexpected keyword argument 'save_artifacts'"
     ]
    }
   ],
   "source": [
    "# Processando o Modelo 2\n",
    "\n",
    "name_model = model_2\n",
    "\n",
    "# Usando a Combinação 4: (\"Stock Data + IT (IFR + MMS + MME)\", stock_data + ifr + mms + mme),\n",
    "result = process_stocks_and_save_metrics(all_stock_data, 4, name_model, save_artifacts=True) # Salva os artefatos\n",
    "results_(process_stocks_and_save_metrics(all_stock_data, i + 1, name_model, save_artifacts=True))\n"
   ]
  },
  {
   "cell_type": "code",
   "execution_count": 2,
   "metadata": {},
   "outputs": [
    {
     "name": "stdout",
     "output_type": "stream",
     "text": [
      "Carregando dados para: PETR4\n"
     ]
    }
   ],
   "source": [
    "# Lista de ações\n",
    "stock_list = ['PETR4']\n",
    "\n",
    "# Carrega os dados de todas as ações e calcula os indicadores e salva em um dicionario\n",
    "stock_data = load_stocks_data(stock_list)"
   ]
  },
  {
   "cell_type": "code",
   "execution_count": null,
   "metadata": {},
   "outputs": [],
   "source": [
    "import os\n",
    "import pandas as pd\n",
    "import numpy as np\n",
    "from tensorflow.keras.models import load_model\n",
    "from sklearn.model_selection import train_test_split\n",
    "import joblib\n",
    "\n",
    "def predict_close(stock, df, model='model_2', num_combination=4, output_dir=\"output\"):\n",
    "    \"\"\"\n",
    "    Carrega modelos treinados, faz previsões nos dados de teste e retorna um DataFrame \n",
    "    com os valores reais e previstos desnormalizados.\n",
    "\n",
    "    Parâmetros:\n",
    "        stock (str): Nome do ativo.\n",
    "        df (pd.DataFrame): DataFrame contendo os dados para previsão.\n",
    "        model (str): Nome do modelo salvo. Padrão: 'model_2'.\n",
    "        num_combination (int): Identificador da combinação de features usada no treinamento.\n",
    "        output_dir (str): Diretório onde os modelos e scalers estão salvos.\n",
    "\n",
    "    Retorna:\n",
    "        pd.DataFrame: DataFrame contendo os dados de teste com a coluna \"close_predicted\" desnormalizada.\n",
    "    \"\"\"\n",
    "\n",
    "    df_results = pd.DataFrame()  # DataFrame vazio para armazenar os resultados\n",
    "\n",
    "    try:\n",
    "        # 🔹 Caminhos dos arquivos salvos\n",
    "        model_path = os.path.join(output_dir, f\"{stock}_{model}_comb_{num_combination}.h5\")\n",
    "        scaler_X_path = os.path.join(output_dir, f\"{stock}_{model}_comb_{num_combination}_scaler.pkl\")\n",
    "        scaler_y_path = os.path.join(output_dir, f\"{stock}_{model}_comb_{num_combination}_scaler_y.pkl\")  # Scaler para y\n",
    "\n",
    "        # 🔹 Carregando o modelo treinado e os scalers\n",
    "        model = load_model(model_path)\n",
    "        scaler_X = joblib.load(scaler_X_path)\n",
    "        scaler_y = joblib.load(scaler_y_path)  # Scaler para desnormalizar y\n",
    "\n",
    "        # 🔹 Realizar a combinação de features escolhida\n",
    "        df, description_combination = make_combination_data(df, num_combination)\n",
    "            \n",
    "        # 🔹 Definir target\n",
    "        df, target_column = define_target(df)\n",
    "\n",
    "        # 🔹 Separando variáveis independentes (X) e dependente (y)\n",
    "        X = df.drop(columns=[target_column]).values\n",
    "        y = df[target_column].values\n",
    "\n",
    "        # 🔹 Dividindo os dados (80% treino, 20% teste)\n",
    "        X_train, X_test, y_train, y_test = train_test_split(X, y, test_size=0.2, shuffle=False)\n",
    "\n",
    "        # 🔹 Normalizando os dados de teste\n",
    "        X_test_scaled = scaler_X.transform(X_test)\n",
    "        X_test_scaled = X_test_scaled.reshape((X_test_scaled.shape[0], 1, X_test_scaled.shape[1]))  # Reshape para LSTM\n",
    "\n",
    "        # 🔹 Fazendo previsões no conjunto de teste\n",
    "        y_pred_scaled = model.predict(X_test_scaled).flatten()\n",
    "\n",
    "        # 🔹 Desnormalizando as previsões\n",
    "        y_pred = scaler_y.inverse_transform(y_pred_scaled.reshape(-1, 1)).flatten()\n",
    "\n",
    "        # 🔹 Criando um DataFrame com os dados de teste e as previsões desnormalizadas\n",
    "        df_results = df.iloc[len(X_train):].copy()  # Pegando apenas os 20% finais (testes)\n",
    "        df_results[\"close_predicted\"] = y_pred\n",
    "        df_results[\"Stock\"] = stock  # Identificador da ação\n",
    "\n",
    "    except Exception as e:\n",
    "        print(f\"Erro ao processar {stock}: {e}\")\n",
    "\n",
    "    return df_results\n"
   ]
  },
  {
   "cell_type": "code",
   "execution_count": 17,
   "metadata": {},
   "outputs": [
    {
     "name": "stdout",
     "output_type": "stream",
     "text": [
      "PETR4\n"
     ]
    }
   ],
   "source": [
    "for stock in stock_list:\n",
    "    print(stock)"
   ]
  },
  {
   "cell_type": "code",
   "execution_count": 26,
   "metadata": {},
   "outputs": [
    {
     "name": "stderr",
     "output_type": "stream",
     "text": [
      "WARNING:absl:Compiled the loaded model, but the compiled metrics have yet to be built. `model.compile_metrics` will be empty until you train or evaluate the model.\n"
     ]
    },
    {
     "name": "stdout",
     "output_type": "stream",
     "text": [
      "\u001b[1m23/23\u001b[0m \u001b[32m━━━━━━━━━━━━━━━━━━━━\u001b[0m\u001b[37m\u001b[0m \u001b[1m1s\u001b[0m 18ms/step\n"
     ]
    }
   ],
   "source": [
    "for stock in stock_list:\n",
    "    df_petr = predict_close(stock, stock_data[stock])"
   ]
  },
  {
   "cell_type": "code",
   "execution_count": 27,
   "metadata": {},
   "outputs": [
    {
     "data": {
      "text/html": [
       "<div>\n",
       "<style scoped>\n",
       "    .dataframe tbody tr th:only-of-type {\n",
       "        vertical-align: middle;\n",
       "    }\n",
       "\n",
       "    .dataframe tbody tr th {\n",
       "        vertical-align: top;\n",
       "    }\n",
       "\n",
       "    .dataframe thead th {\n",
       "        text-align: right;\n",
       "    }\n",
       "</style>\n",
       "<table border=\"1\" class=\"dataframe\">\n",
       "  <thead>\n",
       "    <tr style=\"text-align: right;\">\n",
       "      <th></th>\n",
       "      <th>open</th>\n",
       "      <th>close</th>\n",
       "      <th>high</th>\n",
       "      <th>low</th>\n",
       "      <th>volume</th>\n",
       "      <th>ifr_14</th>\n",
       "      <th>mms_30</th>\n",
       "      <th>mms_5</th>\n",
       "      <th>mme_5</th>\n",
       "      <th>mme_30</th>\n",
       "      <th>close_next_day</th>\n",
       "      <th>close_predicted</th>\n",
       "      <th>Stock</th>\n",
       "    </tr>\n",
       "    <tr>\n",
       "      <th>date</th>\n",
       "      <th></th>\n",
       "      <th></th>\n",
       "      <th></th>\n",
       "      <th></th>\n",
       "      <th></th>\n",
       "      <th></th>\n",
       "      <th></th>\n",
       "      <th></th>\n",
       "      <th></th>\n",
       "      <th></th>\n",
       "      <th></th>\n",
       "      <th></th>\n",
       "      <th></th>\n",
       "    </tr>\n",
       "  </thead>\n",
       "  <tbody>\n",
       "    <tr>\n",
       "      <th>2019-10-23</th>\n",
       "      <td>0.502894</td>\n",
       "      <td>0.512316</td>\n",
       "      <td>0.502125</td>\n",
       "      <td>0.508677</td>\n",
       "      <td>0.065714</td>\n",
       "      <td>75.638066</td>\n",
       "      <td>0.478700</td>\n",
       "      <td>0.494929</td>\n",
       "      <td>0.498282</td>\n",
       "      <td>0.477203</td>\n",
       "      <td>0.499276</td>\n",
       "      <td>0.511140</td>\n",
       "      <td>PETR4</td>\n",
       "    </tr>\n",
       "    <tr>\n",
       "      <th>2019-10-24</th>\n",
       "      <td>0.515709</td>\n",
       "      <td>0.499276</td>\n",
       "      <td>0.505566</td>\n",
       "      <td>0.504077</td>\n",
       "      <td>0.086601</td>\n",
       "      <td>69.214428</td>\n",
       "      <td>0.479569</td>\n",
       "      <td>0.497661</td>\n",
       "      <td>0.498613</td>\n",
       "      <td>0.478627</td>\n",
       "      <td>0.518526</td>\n",
       "      <td>0.507621</td>\n",
       "      <td>PETR4</td>\n",
       "    </tr>\n",
       "    <tr>\n",
       "      <th>2019-10-25</th>\n",
       "      <td>0.516742</td>\n",
       "      <td>0.518526</td>\n",
       "      <td>0.511637</td>\n",
       "      <td>0.520385</td>\n",
       "      <td>0.106555</td>\n",
       "      <td>79.056597</td>\n",
       "      <td>0.481205</td>\n",
       "      <td>0.504492</td>\n",
       "      <td>0.505251</td>\n",
       "      <td>0.481201</td>\n",
       "      <td>0.525771</td>\n",
       "      <td>0.521176</td>\n",
       "      <td>PETR4</td>\n",
       "    </tr>\n",
       "    <tr>\n",
       "      <th>2019-10-28</th>\n",
       "      <td>0.517156</td>\n",
       "      <td>0.525771</td>\n",
       "      <td>0.513864</td>\n",
       "      <td>0.522685</td>\n",
       "      <td>0.053597</td>\n",
       "      <td>82.545443</td>\n",
       "      <td>0.482267</td>\n",
       "      <td>0.512068</td>\n",
       "      <td>0.512091</td>\n",
       "      <td>0.484077</td>\n",
       "      <td>0.530325</td>\n",
       "      <td>0.525661</td>\n",
       "      <td>PETR4</td>\n",
       "    </tr>\n",
       "    <tr>\n",
       "      <th>2019-10-29</th>\n",
       "      <td>0.520876</td>\n",
       "      <td>0.530325</td>\n",
       "      <td>0.519530</td>\n",
       "      <td>0.525612</td>\n",
       "      <td>0.071528</td>\n",
       "      <td>81.609181</td>\n",
       "      <td>0.483737</td>\n",
       "      <td>0.517243</td>\n",
       "      <td>0.518169</td>\n",
       "      <td>0.487061</td>\n",
       "      <td>0.535707</td>\n",
       "      <td>0.530115</td>\n",
       "      <td>PETR4</td>\n",
       "    </tr>\n",
       "  </tbody>\n",
       "</table>\n",
       "</div>"
      ],
      "text/plain": [
       "                open     close      high       low    volume     ifr_14  \\\n",
       "date                                                                      \n",
       "2019-10-23  0.502894  0.512316  0.502125  0.508677  0.065714  75.638066   \n",
       "2019-10-24  0.515709  0.499276  0.505566  0.504077  0.086601  69.214428   \n",
       "2019-10-25  0.516742  0.518526  0.511637  0.520385  0.106555  79.056597   \n",
       "2019-10-28  0.517156  0.525771  0.513864  0.522685  0.053597  82.545443   \n",
       "2019-10-29  0.520876  0.530325  0.519530  0.525612  0.071528  81.609181   \n",
       "\n",
       "              mms_30     mms_5     mme_5    mme_30  close_next_day  \\\n",
       "date                                                                 \n",
       "2019-10-23  0.478700  0.494929  0.498282  0.477203        0.499276   \n",
       "2019-10-24  0.479569  0.497661  0.498613  0.478627        0.518526   \n",
       "2019-10-25  0.481205  0.504492  0.505251  0.481201        0.525771   \n",
       "2019-10-28  0.482267  0.512068  0.512091  0.484077        0.530325   \n",
       "2019-10-29  0.483737  0.517243  0.518169  0.487061        0.535707   \n",
       "\n",
       "            close_predicted  Stock  \n",
       "date                                \n",
       "2019-10-23         0.511140  PETR4  \n",
       "2019-10-24         0.507621  PETR4  \n",
       "2019-10-25         0.521176  PETR4  \n",
       "2019-10-28         0.525661  PETR4  \n",
       "2019-10-29         0.530115  PETR4  "
      ]
     },
     "execution_count": 27,
     "metadata": {},
     "output_type": "execute_result"
    }
   ],
   "source": [
    "df_petr.head()"
   ]
  },
  {
   "cell_type": "code",
   "execution_count": null,
   "metadata": {},
   "outputs": [],
   "source": []
  }
 ],
 "metadata": {
  "kernelspec": {
   "display_name": "ieee",
   "language": "python",
   "name": "python3"
  },
  "language_info": {
   "codemirror_mode": {
    "name": "ipython",
    "version": 3
   },
   "file_extension": ".py",
   "mimetype": "text/x-python",
   "name": "python",
   "nbconvert_exporter": "python",
   "pygments_lexer": "ipython3",
   "version": "3.9.21"
  }
 },
 "nbformat": 4,
 "nbformat_minor": 2
}
