{
 "cells": [
  {
   "cell_type": "code",
   "execution_count": 1,
   "metadata": {},
   "outputs": [],
   "source": [
    "# importações\n",
    "from utils import *\n",
    "from models import *\n",
    "from config import OUTPUT_DIR  # Importa a configuração da pasta de dados"
   ]
  },
  {
   "cell_type": "markdown",
   "metadata": {},
   "source": [
    "# 1. Aplicabilidade do Modelo 2 no Mercado Real"
   ]
  },
  {
   "cell_type": "code",
   "execution_count": 2,
   "metadata": {},
   "outputs": [
    {
     "name": "stdout",
     "output_type": "stream",
     "text": [
      "Carregando dados para: PETR4\n"
     ]
    }
   ],
   "source": [
    "# Stock\n",
    "stock = ['PETR4']\n",
    "\n",
    "# Carrega os dados de todas as ações e calcula os indicadores e salva em um dicionario\n",
    "stock_data = load_stocks_data(stock)"
   ]
  },
  {
   "cell_type": "code",
   "execution_count": null,
   "metadata": {},
   "outputs": [
    {
     "name": "stdout",
     "output_type": "stream",
     "text": [
      "model_1: Processando PETR4 | Combinação 4...\n",
      "Epoch 1/50\n",
      "\u001b[1m90/90\u001b[0m \u001b[32m━━━━━━━━━━━━━━━━━━━━\u001b[0m\u001b[37m\u001b[0m \u001b[1m1s\u001b[0m 4ms/step - loss: 0.0665 - mae: 0.2038 - mape: 24256.1992 - mse: 0.0665 - val_loss: 0.0011 - val_mae: 0.0248 - val_mape: 6.4778 - val_mse: 0.0011\n",
      "Epoch 2/50\n",
      "\u001b[1m90/90\u001b[0m \u001b[32m━━━━━━━━━━━━━━━━━━━━\u001b[0m\u001b[37m\u001b[0m \u001b[1m0s\u001b[0m 2ms/step - loss: 0.0022 - mae: 0.0368 - mape: 8076.7412 - mse: 0.0022 - val_loss: 6.0967e-04 - val_mae: 0.0180 - val_mape: 4.4099 - val_mse: 6.0967e-04\n",
      "Epoch 3/50\n",
      "\u001b[1m90/90\u001b[0m \u001b[32m━━━━━━━━━━━━━━━━━━━━\u001b[0m\u001b[37m\u001b[0m \u001b[1m0s\u001b[0m 2ms/step - loss: 6.6748e-04 - mae: 0.0198 - mape: 13916.1963 - mse: 6.6748e-04 - val_loss: 4.4940e-04 - val_mae: 0.0147 - val_mape: 3.5629 - val_mse: 4.4940e-04\n",
      "Epoch 4/50\n",
      "\u001b[1m90/90\u001b[0m \u001b[32m━━━━━━━━━━━━━━━━━━━━\u001b[0m\u001b[37m\u001b[0m \u001b[1m0s\u001b[0m 2ms/step - loss: 3.0741e-04 - mae: 0.0128 - mape: 20023.9473 - mse: 3.0741e-04 - val_loss: 4.1332e-04 - val_mae: 0.0139 - val_mape: 3.3694 - val_mse: 4.1332e-04\n",
      "Epoch 5/50\n",
      "\u001b[1m90/90\u001b[0m \u001b[32m━━━━━━━━━━━━━━━━━━━━\u001b[0m\u001b[37m\u001b[0m \u001b[1m0s\u001b[0m 2ms/step - loss: 2.5976e-04 - mae: 0.0117 - mape: 4190.2988 - mse: 2.5976e-04 - val_loss: 3.9716e-04 - val_mae: 0.0136 - val_mape: 3.2874 - val_mse: 3.9716e-04\n",
      "Epoch 6/50\n",
      "\u001b[1m90/90\u001b[0m \u001b[32m━━━━━━━━━━━━━━━━━━━━\u001b[0m\u001b[37m\u001b[0m \u001b[1m0s\u001b[0m 2ms/step - loss: 2.4800e-04 - mae: 0.0114 - mape: 8517.6260 - mse: 2.4800e-04 - val_loss: 3.7910e-04 - val_mae: 0.0131 - val_mape: 3.1772 - val_mse: 3.7910e-04\n",
      "Epoch 7/50\n",
      "\u001b[1m90/90\u001b[0m \u001b[32m━━━━━━━━━━━━━━━━━━━━\u001b[0m\u001b[37m\u001b[0m \u001b[1m0s\u001b[0m 2ms/step - loss: 2.3614e-04 - mae: 0.0107 - mape: 13934.9434 - mse: 2.3614e-04 - val_loss: 3.7848e-04 - val_mae: 0.0134 - val_mape: 3.2155 - val_mse: 3.7848e-04\n",
      "Epoch 8/50\n",
      "\u001b[1m90/90\u001b[0m \u001b[32m━━━━━━━━━━━━━━━━━━━━\u001b[0m\u001b[37m\u001b[0m \u001b[1m0s\u001b[0m 2ms/step - loss: 2.3115e-04 - mae: 0.0107 - mape: 870.4413 - mse: 2.3115e-04 - val_loss: 3.5905e-04 - val_mae: 0.0126 - val_mape: 3.0484 - val_mse: 3.5905e-04\n",
      "Epoch 9/50\n",
      "\u001b[1m90/90\u001b[0m \u001b[32m━━━━━━━━━━━━━━━━━━━━\u001b[0m\u001b[37m\u001b[0m \u001b[1m0s\u001b[0m 2ms/step - loss: 2.1761e-04 - mae: 0.0106 - mape: 8330.6133 - mse: 2.1761e-04 - val_loss: 3.5423e-04 - val_mae: 0.0126 - val_mape: 3.0374 - val_mse: 3.5423e-04\n",
      "Epoch 10/50\n",
      "\u001b[1m90/90\u001b[0m \u001b[32m━━━━━━━━━━━━━━━━━━━━\u001b[0m\u001b[37m\u001b[0m \u001b[1m0s\u001b[0m 2ms/step - loss: 2.2104e-04 - mae: 0.0105 - mape: 9997.1963 - mse: 2.2104e-04 - val_loss: 3.5110e-04 - val_mae: 0.0125 - val_mape: 3.0215 - val_mse: 3.5110e-04\n",
      "Epoch 11/50\n",
      "\u001b[1m90/90\u001b[0m \u001b[32m━━━━━━━━━━━━━━━━━━━━\u001b[0m\u001b[37m\u001b[0m \u001b[1m0s\u001b[0m 3ms/step - loss: 2.0477e-04 - mae: 0.0100 - mape: 3071.7080 - mse: 2.0477e-04 - val_loss: 3.5039e-04 - val_mae: 0.0126 - val_mape: 3.0322 - val_mse: 3.5039e-04\n",
      "Epoch 12/50\n",
      "\u001b[1m90/90\u001b[0m \u001b[32m━━━━━━━━━━━━━━━━━━━━\u001b[0m\u001b[37m\u001b[0m \u001b[1m0s\u001b[0m 2ms/step - loss: 2.1283e-04 - mae: 0.0103 - mape: 3659.5840 - mse: 2.1283e-04 - val_loss: 3.4536e-04 - val_mae: 0.0123 - val_mape: 2.9726 - val_mse: 3.4536e-04\n",
      "Epoch 13/50\n",
      "\u001b[1m90/90\u001b[0m \u001b[32m━━━━━━━━━━━━━━━━━━━━\u001b[0m\u001b[37m\u001b[0m \u001b[1m0s\u001b[0m 2ms/step - loss: 2.1394e-04 - mae: 0.0103 - mape: 2881.0828 - mse: 2.1394e-04 - val_loss: 3.4640e-04 - val_mae: 0.0125 - val_mape: 3.0051 - val_mse: 3.4640e-04\n",
      "Epoch 14/50\n",
      "\u001b[1m90/90\u001b[0m \u001b[32m━━━━━━━━━━━━━━━━━━━━\u001b[0m\u001b[37m\u001b[0m \u001b[1m0s\u001b[0m 2ms/step - loss: 1.9274e-04 - mae: 0.0098 - mape: 620.7746 - mse: 1.9274e-04 - val_loss: 3.4436e-04 - val_mae: 0.0124 - val_mape: 2.9834 - val_mse: 3.4436e-04\n",
      "Epoch 15/50\n",
      "\u001b[1m90/90\u001b[0m \u001b[32m━━━━━━━━━━━━━━━━━━━━\u001b[0m\u001b[37m\u001b[0m \u001b[1m0s\u001b[0m 3ms/step - loss: 1.9583e-04 - mae: 0.0097 - mape: 16243.1035 - mse: 1.9583e-04 - val_loss: 3.8613e-04 - val_mae: 0.0131 - val_mape: 3.1533 - val_mse: 3.8613e-04\n",
      "Epoch 16/50\n",
      "\u001b[1m90/90\u001b[0m \u001b[32m━━━━━━━━━━━━━━━━━━━━\u001b[0m\u001b[37m\u001b[0m \u001b[1m0s\u001b[0m 2ms/step - loss: 1.8944e-04 - mae: 0.0099 - mape: 8998.5195 - mse: 1.8944e-04 - val_loss: 3.4148e-04 - val_mae: 0.0122 - val_mape: 2.9489 - val_mse: 3.4148e-04\n",
      "Epoch 17/50\n",
      "\u001b[1m90/90\u001b[0m \u001b[32m━━━━━━━━━━━━━━━━━━━━\u001b[0m\u001b[37m\u001b[0m \u001b[1m0s\u001b[0m 2ms/step - loss: 1.9516e-04 - mae: 0.0098 - mape: 1924.1340 - mse: 1.9516e-04 - val_loss: 3.4476e-04 - val_mae: 0.0122 - val_mape: 2.9510 - val_mse: 3.4476e-04\n",
      "Epoch 18/50\n",
      "\u001b[1m90/90\u001b[0m \u001b[32m━━━━━━━━━━━━━━━━━━━━\u001b[0m\u001b[37m\u001b[0m \u001b[1m0s\u001b[0m 2ms/step - loss: 1.9936e-04 - mae: 0.0100 - mape: 4364.1797 - mse: 1.9936e-04 - val_loss: 3.4103e-04 - val_mae: 0.0122 - val_mape: 2.9389 - val_mse: 3.4103e-04\n",
      "Epoch 19/50\n",
      "\u001b[1m90/90\u001b[0m \u001b[32m━━━━━━━━━━━━━━━━━━━━\u001b[0m\u001b[37m\u001b[0m \u001b[1m0s\u001b[0m 2ms/step - loss: 1.6818e-04 - mae: 0.0095 - mape: 29057.0410 - mse: 1.6818e-04 - val_loss: 3.4026e-04 - val_mae: 0.0122 - val_mape: 2.9463 - val_mse: 3.4026e-04\n",
      "Epoch 20/50\n",
      "\u001b[1m90/90\u001b[0m \u001b[32m━━━━━━━━━━━━━━━━━━━━\u001b[0m\u001b[37m\u001b[0m \u001b[1m0s\u001b[0m 2ms/step - loss: 1.8699e-04 - mae: 0.0098 - mape: 13598.7070 - mse: 1.8699e-04 - val_loss: 3.5560e-04 - val_mae: 0.0124 - val_mape: 2.9936 - val_mse: 3.5560e-04\n",
      "Epoch 21/50\n",
      "\u001b[1m90/90\u001b[0m \u001b[32m━━━━━━━━━━━━━━━━━━━━\u001b[0m\u001b[37m\u001b[0m \u001b[1m0s\u001b[0m 2ms/step - loss: 2.1777e-04 - mae: 0.0102 - mape: 27719.9023 - mse: 2.1777e-04 - val_loss: 3.3740e-04 - val_mae: 0.0121 - val_mape: 2.9223 - val_mse: 3.3740e-04\n",
      "Epoch 22/50\n",
      "\u001b[1m90/90\u001b[0m \u001b[32m━━━━━━━━━━━━━━━━━━━━\u001b[0m\u001b[37m\u001b[0m \u001b[1m0s\u001b[0m 2ms/step - loss: 1.8802e-04 - mae: 0.0099 - mape: 480.4932 - mse: 1.8802e-04 - val_loss: 3.9209e-04 - val_mae: 0.0133 - val_mape: 3.1870 - val_mse: 3.9209e-04\n",
      "Epoch 23/50\n",
      "\u001b[1m90/90\u001b[0m \u001b[32m━━━━━━━━━━━━━━━━━━━━\u001b[0m\u001b[37m\u001b[0m \u001b[1m0s\u001b[0m 2ms/step - loss: 2.0075e-04 - mae: 0.0100 - mape: 1042.8003 - mse: 2.0075e-04 - val_loss: 3.4663e-04 - val_mae: 0.0122 - val_mape: 2.9490 - val_mse: 3.4663e-04\n",
      "Epoch 24/50\n",
      "\u001b[1m90/90\u001b[0m \u001b[32m━━━━━━━━━━━━━━━━━━━━\u001b[0m\u001b[37m\u001b[0m \u001b[1m0s\u001b[0m 2ms/step - loss: 1.8556e-04 - mae: 0.0097 - mape: 2947.1777 - mse: 1.8556e-04 - val_loss: 3.5773e-04 - val_mae: 0.0125 - val_mape: 3.0043 - val_mse: 3.5773e-04\n",
      "Epoch 25/50\n",
      "\u001b[1m90/90\u001b[0m \u001b[32m━━━━━━━━━━━━━━━━━━━━\u001b[0m\u001b[37m\u001b[0m \u001b[1m0s\u001b[0m 2ms/step - loss: 1.9932e-04 - mae: 0.0100 - mape: 1376.1738 - mse: 1.9932e-04 - val_loss: 3.5155e-04 - val_mae: 0.0123 - val_mape: 2.9724 - val_mse: 3.5155e-04\n",
      "Epoch 26/50\n",
      "\u001b[1m90/90\u001b[0m \u001b[32m━━━━━━━━━━━━━━━━━━━━\u001b[0m\u001b[37m\u001b[0m \u001b[1m0s\u001b[0m 2ms/step - loss: 1.9101e-04 - mae: 0.0098 - mape: 6548.5386 - mse: 1.9101e-04 - val_loss: 3.3828e-04 - val_mae: 0.0121 - val_mape: 2.9102 - val_mse: 3.3828e-04\n",
      "Epoch 27/50\n",
      "\u001b[1m90/90\u001b[0m \u001b[32m━━━━━━━━━━━━━━━━━━━━\u001b[0m\u001b[37m\u001b[0m \u001b[1m0s\u001b[0m 2ms/step - loss: 1.8932e-04 - mae: 0.0097 - mape: 1500.7679 - mse: 1.8932e-04 - val_loss: 3.4609e-04 - val_mae: 0.0122 - val_mape: 2.9458 - val_mse: 3.4609e-04\n",
      "Epoch 28/50\n",
      "\u001b[1m90/90\u001b[0m \u001b[32m━━━━━━━━━━━━━━━━━━━━\u001b[0m\u001b[37m\u001b[0m \u001b[1m0s\u001b[0m 2ms/step - loss: 1.9289e-04 - mae: 0.0098 - mape: 15360.5479 - mse: 1.9289e-04 - val_loss: 3.3610e-04 - val_mae: 0.0120 - val_mape: 2.8999 - val_mse: 3.3610e-04\n",
      "Epoch 29/50\n",
      "\u001b[1m90/90\u001b[0m \u001b[32m━━━━━━━━━━━━━━━━━━━━\u001b[0m\u001b[37m\u001b[0m \u001b[1m0s\u001b[0m 2ms/step - loss: 1.9169e-04 - mae: 0.0098 - mape: 14580.1172 - mse: 1.9169e-04 - val_loss: 3.3420e-04 - val_mae: 0.0120 - val_mape: 2.8920 - val_mse: 3.3420e-04\n",
      "Epoch 30/50\n",
      "\u001b[1m90/90\u001b[0m \u001b[32m━━━━━━━━━━━━━━━━━━━━\u001b[0m\u001b[37m\u001b[0m \u001b[1m0s\u001b[0m 2ms/step - loss: 1.9464e-04 - mae: 0.0097 - mape: 16812.0547 - mse: 1.9464e-04 - val_loss: 3.5329e-04 - val_mae: 0.0124 - val_mape: 2.9783 - val_mse: 3.5329e-04\n",
      "Epoch 31/50\n",
      "\u001b[1m90/90\u001b[0m \u001b[32m━━━━━━━━━━━━━━━━━━━━\u001b[0m\u001b[37m\u001b[0m \u001b[1m0s\u001b[0m 2ms/step - loss: 1.8877e-04 - mae: 0.0098 - mape: 12155.1230 - mse: 1.8877e-04 - val_loss: 3.4946e-04 - val_mae: 0.0123 - val_mape: 2.9605 - val_mse: 3.4946e-04\n",
      "Epoch 32/50\n",
      "\u001b[1m90/90\u001b[0m \u001b[32m━━━━━━━━━━━━━━━━━━━━\u001b[0m\u001b[37m\u001b[0m \u001b[1m0s\u001b[0m 2ms/step - loss: 1.7340e-04 - mae: 0.0095 - mape: 3667.5505 - mse: 1.7340e-04 - val_loss: 3.4021e-04 - val_mae: 0.0121 - val_mape: 2.9141 - val_mse: 3.4021e-04\n",
      "Epoch 33/50\n",
      "\u001b[1m90/90\u001b[0m \u001b[32m━━━━━━━━━━━━━━━━━━━━\u001b[0m\u001b[37m\u001b[0m \u001b[1m0s\u001b[0m 2ms/step - loss: 1.7421e-04 - mae: 0.0095 - mape: 9063.6133 - mse: 1.7421e-04 - val_loss: 3.6954e-04 - val_mae: 0.0129 - val_mape: 3.0705 - val_mse: 3.6954e-04\n",
      "Epoch 34/50\n",
      "\u001b[1m90/90\u001b[0m \u001b[32m━━━━━━━━━━━━━━━━━━━━\u001b[0m\u001b[37m\u001b[0m \u001b[1m0s\u001b[0m 2ms/step - loss: 1.9306e-04 - mae: 0.0100 - mape: 2411.3857 - mse: 1.9306e-04 - val_loss: 3.2883e-04 - val_mae: 0.0121 - val_mape: 2.8961 - val_mse: 3.2883e-04\n",
      "Epoch 35/50\n",
      "\u001b[1m90/90\u001b[0m \u001b[32m━━━━━━━━━━━━━━━━━━━━\u001b[0m\u001b[37m\u001b[0m \u001b[1m0s\u001b[0m 2ms/step - loss: 1.7214e-04 - mae: 0.0093 - mape: 9116.3643 - mse: 1.7214e-04 - val_loss: 3.3191e-04 - val_mae: 0.0120 - val_mape: 2.8778 - val_mse: 3.3191e-04\n",
      "Epoch 36/50\n",
      "\u001b[1m90/90\u001b[0m \u001b[32m━━━━━━━━━━━━━━━━━━━━\u001b[0m\u001b[37m\u001b[0m \u001b[1m0s\u001b[0m 2ms/step - loss: 1.9107e-04 - mae: 0.0098 - mape: 13702.6016 - mse: 1.9107e-04 - val_loss: 3.3199e-04 - val_mae: 0.0124 - val_mape: 2.9415 - val_mse: 3.3199e-04\n",
      "Epoch 37/50\n",
      "\u001b[1m90/90\u001b[0m \u001b[32m━━━━━━━━━━━━━━━━━━━━\u001b[0m\u001b[37m\u001b[0m \u001b[1m0s\u001b[0m 2ms/step - loss: 1.8899e-04 - mae: 0.0098 - mape: 2801.5405 - mse: 1.8899e-04 - val_loss: 3.2338e-04 - val_mae: 0.0119 - val_mape: 2.8459 - val_mse: 3.2338e-04\n",
      "Epoch 38/50\n",
      "\u001b[1m90/90\u001b[0m \u001b[32m━━━━━━━━━━━━━━━━━━━━\u001b[0m\u001b[37m\u001b[0m \u001b[1m0s\u001b[0m 2ms/step - loss: 1.8199e-04 - mae: 0.0095 - mape: 10529.8018 - mse: 1.8199e-04 - val_loss: 3.3935e-04 - val_mae: 0.0121 - val_mape: 2.9135 - val_mse: 3.3935e-04\n",
      "Epoch 39/50\n",
      "\u001b[1m90/90\u001b[0m \u001b[32m━━━━━━━━━━━━━━━━━━━━\u001b[0m\u001b[37m\u001b[0m \u001b[1m0s\u001b[0m 2ms/step - loss: 1.9212e-04 - mae: 0.0098 - mape: 3945.9504 - mse: 1.9212e-04 - val_loss: 3.2971e-04 - val_mae: 0.0119 - val_mape: 2.8595 - val_mse: 3.2971e-04\n",
      "Epoch 40/50\n",
      "\u001b[1m90/90\u001b[0m \u001b[32m━━━━━━━━━━━━━━━━━━━━\u001b[0m\u001b[37m\u001b[0m \u001b[1m0s\u001b[0m 2ms/step - loss: 1.6746e-04 - mae: 0.0093 - mape: 6765.6655 - mse: 1.6746e-04 - val_loss: 3.3582e-04 - val_mae: 0.0126 - val_mape: 2.9789 - val_mse: 3.3582e-04\n",
      "Epoch 41/50\n",
      "\u001b[1m90/90\u001b[0m \u001b[32m━━━━━━━━━━━━━━━━━━━━\u001b[0m\u001b[37m\u001b[0m \u001b[1m0s\u001b[0m 2ms/step - loss: 2.0802e-04 - mae: 0.0101 - mape: 1520.2019 - mse: 2.0802e-04 - val_loss: 3.2244e-04 - val_mae: 0.0118 - val_mape: 2.8257 - val_mse: 3.2244e-04\n",
      "Epoch 42/50\n",
      "\u001b[1m90/90\u001b[0m \u001b[32m━━━━━━━━━━━━━━━━━━━━\u001b[0m\u001b[37m\u001b[0m \u001b[1m0s\u001b[0m 2ms/step - loss: 1.7186e-04 - mae: 0.0094 - mape: 684.2405 - mse: 1.7186e-04 - val_loss: 3.2161e-04 - val_mae: 0.0119 - val_mape: 2.8380 - val_mse: 3.2161e-04\n",
      "Epoch 43/50\n",
      "\u001b[1m90/90\u001b[0m \u001b[32m━━━━━━━━━━━━━━━━━━━━\u001b[0m\u001b[37m\u001b[0m \u001b[1m0s\u001b[0m 2ms/step - loss: 1.8522e-04 - mae: 0.0096 - mape: 8095.3135 - mse: 1.8522e-04 - val_loss: 3.3355e-04 - val_mae: 0.0120 - val_mape: 2.8751 - val_mse: 3.3355e-04\n",
      "Epoch 44/50\n",
      "\u001b[1m90/90\u001b[0m \u001b[32m━━━━━━━━━━━━━━━━━━━━\u001b[0m\u001b[37m\u001b[0m \u001b[1m0s\u001b[0m 2ms/step - loss: 2.0318e-04 - mae: 0.0100 - mape: 4917.4004 - mse: 2.0318e-04 - val_loss: 3.1988e-04 - val_mae: 0.0118 - val_mape: 2.8134 - val_mse: 3.1988e-04\n",
      "Epoch 45/50\n",
      "\u001b[1m90/90\u001b[0m \u001b[32m━━━━━━━━━━━━━━━━━━━━\u001b[0m\u001b[37m\u001b[0m \u001b[1m0s\u001b[0m 2ms/step - loss: 1.6381e-04 - mae: 0.0092 - mape: 7848.8237 - mse: 1.6381e-04 - val_loss: 3.1774e-04 - val_mae: 0.0118 - val_mape: 2.8093 - val_mse: 3.1774e-04\n",
      "Epoch 46/50\n",
      "\u001b[1m90/90\u001b[0m \u001b[32m━━━━━━━━━━━━━━━━━━━━\u001b[0m\u001b[37m\u001b[0m \u001b[1m0s\u001b[0m 2ms/step - loss: 1.7957e-04 - mae: 0.0095 - mape: 10368.2002 - mse: 1.7957e-04 - val_loss: 3.3298e-04 - val_mae: 0.0120 - val_mape: 2.8713 - val_mse: 3.3298e-04\n",
      "Epoch 47/50\n",
      "\u001b[1m90/90\u001b[0m \u001b[32m━━━━━━━━━━━━━━━━━━━━\u001b[0m\u001b[37m\u001b[0m \u001b[1m0s\u001b[0m 2ms/step - loss: 1.7018e-04 - mae: 0.0092 - mape: 650.0850 - mse: 1.7018e-04 - val_loss: 3.1470e-04 - val_mae: 0.0117 - val_mape: 2.7976 - val_mse: 3.1470e-04\n",
      "Epoch 48/50\n",
      "\u001b[1m90/90\u001b[0m \u001b[32m━━━━━━━━━━━━━━━━━━━━\u001b[0m\u001b[37m\u001b[0m \u001b[1m0s\u001b[0m 2ms/step - loss: 1.7510e-04 - mae: 0.0097 - mape: 1830.0823 - mse: 1.7510e-04 - val_loss: 3.2638e-04 - val_mae: 0.0119 - val_mape: 2.8388 - val_mse: 3.2638e-04\n",
      "Epoch 49/50\n",
      "\u001b[1m90/90\u001b[0m \u001b[32m━━━━━━━━━━━━━━━━━━━━\u001b[0m\u001b[37m\u001b[0m \u001b[1m0s\u001b[0m 2ms/step - loss: 1.7016e-04 - mae: 0.0093 - mape: 14925.1465 - mse: 1.7016e-04 - val_loss: 3.1783e-04 - val_mae: 0.0119 - val_mape: 2.8363 - val_mse: 3.1783e-04\n",
      "Epoch 50/50\n",
      "\u001b[1m90/90\u001b[0m \u001b[32m━━━━━━━━━━━━━━━━━━━━\u001b[0m\u001b[37m\u001b[0m \u001b[1m0s\u001b[0m 2ms/step - loss: 1.8433e-04 - mae: 0.0095 - mape: 4636.3706 - mse: 1.8433e-04 - val_loss: 3.1284e-04 - val_mae: 0.0116 - val_mape: 2.7743 - val_mse: 3.1284e-04\n"
     ]
    },
    {
     "name": "stderr",
     "output_type": "stream",
     "text": [
      "WARNING:absl:You are saving your model as an HDF5 file via `model.save()` or `keras.saving.save_model(model)`. This file format is considered legacy. We recommend using instead the native Keras format, e.g. `model.save('my_model.keras')` or `keras.saving.save_model(model, 'my_model.keras')`. \n"
     ]
    },
    {
     "name": "stdout",
     "output_type": "stream",
     "text": [
      "\u001b[1m23/23\u001b[0m \u001b[32m━━━━━━━━━━━━━━━━━━━━\u001b[0m\u001b[37m\u001b[0m \u001b[1m0s\u001b[0m 5ms/step\n"
     ]
    }
   ],
   "source": [
    "# Processando o Modelo 2\n",
    "\n",
    "name_model = model_2\n",
    "results_list = []\n",
    "\n",
    "# Usando a Combinação 4: (\"Stock Data + IT (IFR + MMS + MME)\", stock_data + ifr + mms + mme),\n",
    "results_list.append(process_stocks_and_save_metrics(stock, stock_data, 4, name_model))\n",
    "\n",
    "# Combina os resultados em um único DataFrame\n",
    "results_model_2 = pd.concat(results_list, ignore_index=True)\n",
    "\n",
    "# Salvar em CSV\n",
    "results_model_2.to_csv(f'{OUTPUT_DIR}/Estudos_IEEE_{name_model.__name__}_02.csv', sep=';', encoding='utf-8-sig')"
   ]
  },
  {
   "cell_type": "code",
   "execution_count": null,
   "metadata": {},
   "outputs": [],
   "source": []
  }
 ],
 "metadata": {
  "kernelspec": {
   "display_name": "ieee",
   "language": "python",
   "name": "python3"
  },
  "language_info": {
   "codemirror_mode": {
    "name": "ipython",
    "version": 3
   },
   "file_extension": ".py",
   "mimetype": "text/x-python",
   "name": "python",
   "nbconvert_exporter": "python",
   "pygments_lexer": "ipython3",
   "version": "3.9.21"
  }
 },
 "nbformat": 4,
 "nbformat_minor": 2
}
