{
 "cells": [
  {
   "cell_type": "code",
   "execution_count": 1,
   "metadata": {},
   "outputs": [],
   "source": [
    "# importações\n",
    "from utils import *\n",
    "from utils_backtest import *\n",
    "from models import *\n",
    "from config import *"
   ]
  },
  {
   "cell_type": "markdown",
   "metadata": {},
   "source": [
    "# 1. Aplicabilidade do Modelo 2 no Mercado Real"
   ]
  },
  {
   "cell_type": "code",
   "execution_count": 2,
   "metadata": {},
   "outputs": [
    {
     "name": "stdout",
     "output_type": "stream",
     "text": [
      "Carregando dados para: PETR4\n",
      "Carregando dados para: VALE3\n",
      "Carregando dados para: BBDC4\n",
      "Carregando dados para: ITUB4\n"
     ]
    }
   ],
   "source": [
    "# Lista de ações\n",
    "stock_list = ['PETR4', 'VALE3', 'BBDC4','ITUB4']\n",
    "\n",
    "# Carrega os dados de todas as ações e calcula os indicadores e salva em um dicionario\n",
    "all_stock_data = load_stocks_data(stock_list)"
   ]
  },
  {
   "cell_type": "markdown",
   "metadata": {},
   "source": [
    "## 2. Processar o Treino do Modelo para Salvar os artefatos"
   ]
  },
  {
   "cell_type": "code",
   "execution_count": 3,
   "metadata": {},
   "outputs": [
    {
     "name": "stdout",
     "output_type": "stream",
     "text": [
      "model_2: Processando PETR4 | Combinação 5...\n",
      "Epoch 1/50\n",
      "\u001b[1m90/90\u001b[0m \u001b[32m━━━━━━━━━━━━━━━━━━━━\u001b[0m\u001b[37m\u001b[0m \u001b[1m5s\u001b[0m 25ms/step - loss: 0.0576 - mae: 0.1759 - mape: 3116.7078 - mse: 0.0576 - val_loss: 6.3071e-04 - val_mae: 0.0173 - val_mape: 4.3974 - val_mse: 6.3071e-04\n",
      "Epoch 2/50\n",
      "\u001b[1m90/90\u001b[0m \u001b[32m━━━━━━━━━━━━━━━━━━━━\u001b[0m\u001b[37m\u001b[0m \u001b[1m2s\u001b[0m 21ms/step - loss: 4.3347e-04 - mae: 0.0158 - mape: 708.1550 - mse: 4.3347e-04 - val_loss: 5.2812e-04 - val_mae: 0.0164 - val_mape: 4.0572 - val_mse: 5.2812e-04\n",
      "Epoch 3/50\n",
      "\u001b[1m90/90\u001b[0m \u001b[32m━━━━━━━━━━━━━━━━━━━━\u001b[0m\u001b[37m\u001b[0m \u001b[1m2s\u001b[0m 19ms/step - loss: 2.8904e-04 - mae: 0.0123 - mape: 384.5552 - mse: 2.8904e-04 - val_loss: 4.6129e-04 - val_mae: 0.0142 - val_mape: 3.6171 - val_mse: 4.6129e-04\n",
      "Epoch 4/50\n",
      "\u001b[1m90/90\u001b[0m \u001b[32m━━━━━━━━━━━━━━━━━━━━\u001b[0m\u001b[37m\u001b[0m \u001b[1m2s\u001b[0m 20ms/step - loss: 2.8992e-04 - mae: 0.0124 - mape: 468.3375 - mse: 2.8992e-04 - val_loss: 5.1167e-04 - val_mae: 0.0164 - val_mape: 3.9993 - val_mse: 5.1167e-04\n",
      "Epoch 5/50\n",
      "\u001b[1m90/90\u001b[0m \u001b[32m━━━━━━━━━━━━━━━━━━━━\u001b[0m\u001b[37m\u001b[0m \u001b[1m2s\u001b[0m 19ms/step - loss: 2.8746e-04 - mae: 0.0122 - mape: 360.6918 - mse: 2.8746e-04 - val_loss: 6.7671e-04 - val_mae: 0.0210 - val_mape: 4.9203 - val_mse: 6.7671e-04\n",
      "Epoch 6/50\n",
      "\u001b[1m90/90\u001b[0m \u001b[32m━━━━━━━━━━━━━━━━━━━━\u001b[0m\u001b[37m\u001b[0m \u001b[1m2s\u001b[0m 19ms/step - loss: 2.7945e-04 - mae: 0.0122 - mape: 625.5204 - mse: 2.7945e-04 - val_loss: 7.0967e-04 - val_mae: 0.0218 - val_mape: 5.0941 - val_mse: 7.0967e-04\n",
      "Epoch 7/50\n",
      "\u001b[1m90/90\u001b[0m \u001b[32m━━━━━━━━━━━━━━━━━━━━\u001b[0m\u001b[37m\u001b[0m \u001b[1m2s\u001b[0m 19ms/step - loss: 2.8704e-04 - mae: 0.0121 - mape: 436.9288 - mse: 2.8704e-04 - val_loss: 5.8663e-04 - val_mae: 0.0189 - val_mape: 4.4762 - val_mse: 5.8663e-04\n",
      "Epoch 8/50\n",
      "\u001b[1m90/90\u001b[0m \u001b[32m━━━━━━━━━━━━━━━━━━━━\u001b[0m\u001b[37m\u001b[0m \u001b[1m2s\u001b[0m 20ms/step - loss: 2.6004e-04 - mae: 0.0118 - mape: 448.8081 - mse: 2.6004e-04 - val_loss: 5.0370e-04 - val_mae: 0.0168 - val_mape: 4.0266 - val_mse: 5.0370e-04\n",
      "Epoch 9/50\n",
      "\u001b[1m90/90\u001b[0m \u001b[32m━━━━━━━━━━━━━━━━━━━━\u001b[0m\u001b[37m\u001b[0m \u001b[1m2s\u001b[0m 19ms/step - loss: 2.4544e-04 - mae: 0.0114 - mape: 707.4835 - mse: 2.4544e-04 - val_loss: 5.1808e-04 - val_mae: 0.0174 - val_mape: 4.1273 - val_mse: 5.1808e-04\n",
      "Epoch 10/50\n",
      "\u001b[1m90/90\u001b[0m \u001b[32m━━━━━━━━━━━━━━━━━━━━\u001b[0m\u001b[37m\u001b[0m \u001b[1m2s\u001b[0m 19ms/step - loss: 2.6084e-04 - mae: 0.0120 - mape: 503.6898 - mse: 2.6084e-04 - val_loss: 5.1238e-04 - val_mae: 0.0173 - val_mape: 4.0845 - val_mse: 5.1238e-04\n",
      "Epoch 11/50\n",
      "\u001b[1m90/90\u001b[0m \u001b[32m━━━━━━━━━━━━━━━━━━━━\u001b[0m\u001b[37m\u001b[0m \u001b[1m2s\u001b[0m 19ms/step - loss: 2.5084e-04 - mae: 0.0119 - mape: 768.8207 - mse: 2.5084e-04 - val_loss: 5.8209e-04 - val_mae: 0.0193 - val_mape: 4.4827 - val_mse: 5.8209e-04\n",
      "Epoch 12/50\n",
      "\u001b[1m90/90\u001b[0m \u001b[32m━━━━━━━━━━━━━━━━━━━━\u001b[0m\u001b[37m\u001b[0m \u001b[1m2s\u001b[0m 19ms/step - loss: 2.5639e-04 - mae: 0.0118 - mape: 913.1005 - mse: 2.5639e-04 - val_loss: 4.1324e-04 - val_mae: 0.0145 - val_mape: 3.4966 - val_mse: 4.1324e-04\n",
      "Epoch 13/50\n",
      "\u001b[1m90/90\u001b[0m \u001b[32m━━━━━━━━━━━━━━━━━━━━\u001b[0m\u001b[37m\u001b[0m \u001b[1m2s\u001b[0m 19ms/step - loss: 2.5842e-04 - mae: 0.0119 - mape: 853.1294 - mse: 2.5842e-04 - val_loss: 4.0881e-04 - val_mae: 0.0145 - val_mape: 3.4817 - val_mse: 4.0881e-04\n",
      "Epoch 14/50\n",
      "\u001b[1m90/90\u001b[0m \u001b[32m━━━━━━━━━━━━━━━━━━━━\u001b[0m\u001b[37m\u001b[0m \u001b[1m2s\u001b[0m 21ms/step - loss: 2.5255e-04 - mae: 0.0119 - mape: 1021.1477 - mse: 2.5255e-04 - val_loss: 3.6924e-04 - val_mae: 0.0125 - val_mape: 3.1112 - val_mse: 3.6924e-04\n",
      "Epoch 15/50\n",
      "\u001b[1m90/90\u001b[0m \u001b[32m━━━━━━━━━━━━━━━━━━━━\u001b[0m\u001b[37m\u001b[0m \u001b[1m2s\u001b[0m 19ms/step - loss: 2.4100e-04 - mae: 0.0113 - mape: 1054.6077 - mse: 2.4100e-04 - val_loss: 3.6419e-04 - val_mae: 0.0124 - val_mape: 3.0706 - val_mse: 3.6419e-04\n",
      "Epoch 16/50\n",
      "\u001b[1m90/90\u001b[0m \u001b[32m━━━━━━━━━━━━━━━━━━━━\u001b[0m\u001b[37m\u001b[0m \u001b[1m2s\u001b[0m 19ms/step - loss: 2.4379e-04 - mae: 0.0115 - mape: 1076.3513 - mse: 2.4379e-04 - val_loss: 4.1835e-04 - val_mae: 0.0151 - val_mape: 3.5522 - val_mse: 4.1835e-04\n",
      "Epoch 17/50\n",
      "\u001b[1m90/90\u001b[0m \u001b[32m━━━━━━━━━━━━━━━━━━━━\u001b[0m\u001b[37m\u001b[0m \u001b[1m2s\u001b[0m 19ms/step - loss: 2.4400e-04 - mae: 0.0115 - mape: 1069.5061 - mse: 2.4400e-04 - val_loss: 4.0828e-04 - val_mae: 0.0148 - val_mape: 3.4825 - val_mse: 4.0828e-04\n",
      "Epoch 18/50\n",
      "\u001b[1m90/90\u001b[0m \u001b[32m━━━━━━━━━━━━━━━━━━━━\u001b[0m\u001b[37m\u001b[0m \u001b[1m2s\u001b[0m 19ms/step - loss: 2.2738e-04 - mae: 0.0112 - mape: 916.8718 - mse: 2.2738e-04 - val_loss: 4.1796e-04 - val_mae: 0.0151 - val_mape: 3.5330 - val_mse: 4.1796e-04\n",
      "Epoch 19/50\n",
      "\u001b[1m90/90\u001b[0m \u001b[32m━━━━━━━━━━━━━━━━━━━━\u001b[0m\u001b[37m\u001b[0m \u001b[1m2s\u001b[0m 20ms/step - loss: 2.4952e-04 - mae: 0.0116 - mape: 950.4860 - mse: 2.4952e-04 - val_loss: 5.6621e-04 - val_mae: 0.0193 - val_mape: 4.4100 - val_mse: 5.6621e-04\n",
      "Epoch 20/50\n",
      "\u001b[1m90/90\u001b[0m \u001b[32m━━━━━━━━━━━━━━━━━━━━\u001b[0m\u001b[37m\u001b[0m \u001b[1m2s\u001b[0m 20ms/step - loss: 2.8410e-04 - mae: 0.0126 - mape: 1199.4951 - mse: 2.8410e-04 - val_loss: 3.6699e-04 - val_mae: 0.0134 - val_mape: 3.1937 - val_mse: 3.6699e-04\n",
      "Epoch 21/50\n",
      "\u001b[1m90/90\u001b[0m \u001b[32m━━━━━━━━━━━━━━━━━━━━\u001b[0m\u001b[37m\u001b[0m \u001b[1m2s\u001b[0m 21ms/step - loss: 2.5671e-04 - mae: 0.0118 - mape: 1240.9288 - mse: 2.5671e-04 - val_loss: 4.4964e-04 - val_mae: 0.0163 - val_mape: 3.7599 - val_mse: 4.4964e-04\n",
      "Epoch 22/50\n",
      "\u001b[1m90/90\u001b[0m \u001b[32m━━━━━━━━━━━━━━━━━━━━\u001b[0m\u001b[37m\u001b[0m \u001b[1m2s\u001b[0m 20ms/step - loss: 2.5205e-04 - mae: 0.0117 - mape: 1170.3798 - mse: 2.5205e-04 - val_loss: 3.9583e-04 - val_mae: 0.0147 - val_mape: 3.4181 - val_mse: 3.9583e-04\n",
      "Epoch 23/50\n",
      "\u001b[1m90/90\u001b[0m \u001b[32m━━━━━━━━━━━━━━━━━━━━\u001b[0m\u001b[37m\u001b[0m \u001b[1m2s\u001b[0m 19ms/step - loss: 2.5838e-04 - mae: 0.0120 - mape: 1161.3259 - mse: 2.5838e-04 - val_loss: 4.9027e-04 - val_mae: 0.0174 - val_mape: 3.9453 - val_mse: 4.9027e-04\n",
      "Epoch 24/50\n",
      "\u001b[1m90/90\u001b[0m \u001b[32m━━━━━━━━━━━━━━━━━━━━\u001b[0m\u001b[37m\u001b[0m \u001b[1m2s\u001b[0m 20ms/step - loss: 2.4435e-04 - mae: 0.0116 - mape: 850.1486 - mse: 2.4435e-04 - val_loss: 3.3791e-04 - val_mae: 0.0126 - val_mape: 3.0272 - val_mse: 3.3791e-04\n",
      "Epoch 25/50\n",
      "\u001b[1m90/90\u001b[0m \u001b[32m━━━━━━━━━━━━━━━━━━━━\u001b[0m\u001b[37m\u001b[0m \u001b[1m2s\u001b[0m 19ms/step - loss: 2.3481e-04 - mae: 0.0113 - mape: 945.6017 - mse: 2.3481e-04 - val_loss: 3.7622e-04 - val_mae: 0.0140 - val_mape: 3.2837 - val_mse: 3.7622e-04\n",
      "Epoch 26/50\n",
      "\u001b[1m90/90\u001b[0m \u001b[32m━━━━━━━━━━━━━━━━━━━━\u001b[0m\u001b[37m\u001b[0m \u001b[1m2s\u001b[0m 20ms/step - loss: 2.3387e-04 - mae: 0.0114 - mape: 874.6910 - mse: 2.3387e-04 - val_loss: 3.2493e-04 - val_mae: 0.0122 - val_mape: 2.9297 - val_mse: 3.2493e-04\n",
      "Epoch 27/50\n",
      "\u001b[1m90/90\u001b[0m \u001b[32m━━━━━━━━━━━━━━━━━━━━\u001b[0m\u001b[37m\u001b[0m \u001b[1m2s\u001b[0m 19ms/step - loss: 2.1664e-04 - mae: 0.0107 - mape: 1235.3497 - mse: 2.1664e-04 - val_loss: 4.0648e-04 - val_mae: 0.0151 - val_mape: 3.4654 - val_mse: 4.0648e-04\n",
      "Epoch 28/50\n",
      "\u001b[1m90/90\u001b[0m \u001b[32m━━━━━━━━━━━━━━━━━━━━\u001b[0m\u001b[37m\u001b[0m \u001b[1m2s\u001b[0m 19ms/step - loss: 2.3326e-04 - mae: 0.0112 - mape: 985.0154 - mse: 2.3326e-04 - val_loss: 3.6690e-04 - val_mae: 0.0138 - val_mape: 3.2363 - val_mse: 3.6690e-04\n",
      "Epoch 29/50\n",
      "\u001b[1m90/90\u001b[0m \u001b[32m━━━━━━━━━━━━━━━━━━━━\u001b[0m\u001b[37m\u001b[0m \u001b[1m2s\u001b[0m 19ms/step - loss: 2.2653e-04 - mae: 0.0111 - mape: 1105.1387 - mse: 2.2653e-04 - val_loss: 3.8184e-04 - val_mae: 0.0144 - val_mape: 3.3291 - val_mse: 3.8184e-04\n",
      "Epoch 30/50\n",
      "\u001b[1m90/90\u001b[0m \u001b[32m━━━━━━━━━━━━━━━━━━━━\u001b[0m\u001b[37m\u001b[0m \u001b[1m2s\u001b[0m 19ms/step - loss: 2.3111e-04 - mae: 0.0113 - mape: 995.5212 - mse: 2.3111e-04 - val_loss: 3.2624e-04 - val_mae: 0.0123 - val_mape: 2.9587 - val_mse: 3.2624e-04\n",
      "Epoch 31/50\n",
      "\u001b[1m90/90\u001b[0m \u001b[32m━━━━━━━━━━━━━━━━━━━━\u001b[0m\u001b[37m\u001b[0m \u001b[1m2s\u001b[0m 19ms/step - loss: 2.2559e-04 - mae: 0.0111 - mape: 1057.3103 - mse: 2.2559e-04 - val_loss: 3.2501e-04 - val_mae: 0.0123 - val_mape: 2.9529 - val_mse: 3.2501e-04\n",
      "Epoch 32/50\n",
      "\u001b[1m90/90\u001b[0m \u001b[32m━━━━━━━━━━━━━━━━━━━━\u001b[0m\u001b[37m\u001b[0m \u001b[1m2s\u001b[0m 22ms/step - loss: 2.3946e-04 - mae: 0.0113 - mape: 1170.1292 - mse: 2.3946e-04 - val_loss: 3.5012e-04 - val_mae: 0.0135 - val_mape: 3.1341 - val_mse: 3.5012e-04\n",
      "Epoch 33/50\n",
      "\u001b[1m90/90\u001b[0m \u001b[32m━━━━━━━━━━━━━━━━━━━━\u001b[0m\u001b[37m\u001b[0m \u001b[1m2s\u001b[0m 19ms/step - loss: 2.3351e-04 - mae: 0.0113 - mape: 704.1241 - mse: 2.3351e-04 - val_loss: 3.5660e-04 - val_mae: 0.0127 - val_mape: 3.1263 - val_mse: 3.5660e-04\n",
      "Epoch 34/50\n",
      "\u001b[1m90/90\u001b[0m \u001b[32m━━━━━━━━━━━━━━━━━━━━\u001b[0m\u001b[37m\u001b[0m \u001b[1m2s\u001b[0m 19ms/step - loss: 2.3874e-04 - mae: 0.0113 - mape: 994.4821 - mse: 2.3874e-04 - val_loss: 3.5784e-04 - val_mae: 0.0138 - val_mape: 3.1946 - val_mse: 3.5784e-04\n",
      "Epoch 35/50\n",
      "\u001b[1m90/90\u001b[0m \u001b[32m━━━━━━━━━━━━━━━━━━━━\u001b[0m\u001b[37m\u001b[0m \u001b[1m2s\u001b[0m 19ms/step - loss: 2.1847e-04 - mae: 0.0109 - mape: 875.9103 - mse: 2.1847e-04 - val_loss: 3.0797e-04 - val_mae: 0.0118 - val_mape: 2.8353 - val_mse: 3.0797e-04\n",
      "Epoch 36/50\n",
      "\u001b[1m90/90\u001b[0m \u001b[32m━━━━━━━━━━━━━━━━━━━━\u001b[0m\u001b[37m\u001b[0m \u001b[1m2s\u001b[0m 19ms/step - loss: 2.0757e-04 - mae: 0.0105 - mape: 391.4924 - mse: 2.0757e-04 - val_loss: 3.2307e-04 - val_mae: 0.0125 - val_mape: 2.9605 - val_mse: 3.2307e-04\n",
      "Epoch 37/50\n",
      "\u001b[1m90/90\u001b[0m \u001b[32m━━━━━━━━━━━━━━━━━━━━\u001b[0m\u001b[37m\u001b[0m \u001b[1m2s\u001b[0m 19ms/step - loss: 2.0547e-04 - mae: 0.0106 - mape: 901.5724 - mse: 2.0547e-04 - val_loss: 3.1134e-04 - val_mae: 0.0119 - val_mape: 2.8772 - val_mse: 3.1134e-04\n",
      "Epoch 38/50\n",
      "\u001b[1m90/90\u001b[0m \u001b[32m━━━━━━━━━━━━━━━━━━━━\u001b[0m\u001b[37m\u001b[0m \u001b[1m2s\u001b[0m 20ms/step - loss: 2.1919e-04 - mae: 0.0108 - mape: 756.3094 - mse: 2.1919e-04 - val_loss: 3.8932e-04 - val_mae: 0.0148 - val_mape: 3.3789 - val_mse: 3.8932e-04\n",
      "Epoch 39/50\n",
      "\u001b[1m90/90\u001b[0m \u001b[32m━━━━━━━━━━━━━━━━━━━━\u001b[0m\u001b[37m\u001b[0m \u001b[1m2s\u001b[0m 19ms/step - loss: 2.2385e-04 - mae: 0.0109 - mape: 969.0140 - mse: 2.2385e-04 - val_loss: 3.0522e-04 - val_mae: 0.0119 - val_mape: 2.8321 - val_mse: 3.0522e-04\n",
      "Epoch 40/50\n",
      "\u001b[1m90/90\u001b[0m \u001b[32m━━━━━━━━━━━━━━━━━━━━\u001b[0m\u001b[37m\u001b[0m \u001b[1m2s\u001b[0m 20ms/step - loss: 2.3158e-04 - mae: 0.0111 - mape: 607.7159 - mse: 2.3158e-04 - val_loss: 3.2521e-04 - val_mae: 0.0121 - val_mape: 2.9438 - val_mse: 3.2521e-04\n",
      "Epoch 41/50\n",
      "\u001b[1m90/90\u001b[0m \u001b[32m━━━━━━━━━━━━━━━━━━━━\u001b[0m\u001b[37m\u001b[0m \u001b[1m2s\u001b[0m 20ms/step - loss: 2.1492e-04 - mae: 0.0107 - mape: 408.0919 - mse: 2.1492e-04 - val_loss: 3.5703e-04 - val_mae: 0.0129 - val_mape: 3.1238 - val_mse: 3.5703e-04\n",
      "Epoch 42/50\n",
      "\u001b[1m90/90\u001b[0m \u001b[32m━━━━━━━━━━━━━━━━━━━━\u001b[0m\u001b[37m\u001b[0m \u001b[1m2s\u001b[0m 21ms/step - loss: 2.1912e-04 - mae: 0.0109 - mape: 477.3445 - mse: 2.1912e-04 - val_loss: 3.0858e-04 - val_mae: 0.0117 - val_mape: 2.8287 - val_mse: 3.0858e-04\n",
      "Epoch 43/50\n",
      "\u001b[1m90/90\u001b[0m \u001b[32m━━━━━━━━━━━━━━━━━━━━\u001b[0m\u001b[37m\u001b[0m \u001b[1m2s\u001b[0m 20ms/step - loss: 2.0877e-04 - mae: 0.0105 - mape: 699.1662 - mse: 2.0877e-04 - val_loss: 3.2576e-04 - val_mae: 0.0128 - val_mape: 2.9931 - val_mse: 3.2576e-04\n",
      "Epoch 44/50\n",
      "\u001b[1m90/90\u001b[0m \u001b[32m━━━━━━━━━━━━━━━━━━━━\u001b[0m\u001b[37m\u001b[0m \u001b[1m2s\u001b[0m 20ms/step - loss: 2.0800e-04 - mae: 0.0107 - mape: 444.2217 - mse: 2.0800e-04 - val_loss: 3.0198e-04 - val_mae: 0.0118 - val_mape: 2.8051 - val_mse: 3.0198e-04\n",
      "Epoch 45/50\n",
      "\u001b[1m90/90\u001b[0m \u001b[32m━━━━━━━━━━━━━━━━━━━━\u001b[0m\u001b[37m\u001b[0m \u001b[1m2s\u001b[0m 19ms/step - loss: 2.0918e-04 - mae: 0.0105 - mape: 684.2388 - mse: 2.0918e-04 - val_loss: 3.0232e-04 - val_mae: 0.0117 - val_mape: 2.8131 - val_mse: 3.0232e-04\n",
      "Epoch 46/50\n",
      "\u001b[1m90/90\u001b[0m \u001b[32m━━━━━━━━━━━━━━━━━━━━\u001b[0m\u001b[37m\u001b[0m \u001b[1m2s\u001b[0m 19ms/step - loss: 2.0695e-04 - mae: 0.0105 - mape: 403.0161 - mse: 2.0695e-04 - val_loss: 3.2952e-04 - val_mae: 0.0122 - val_mape: 2.9353 - val_mse: 3.2952e-04\n",
      "Epoch 47/50\n",
      "\u001b[1m90/90\u001b[0m \u001b[32m━━━━━━━━━━━━━━━━━━━━\u001b[0m\u001b[37m\u001b[0m \u001b[1m2s\u001b[0m 19ms/step - loss: 2.1115e-04 - mae: 0.0107 - mape: 1052.8912 - mse: 2.1115e-04 - val_loss: 3.1476e-04 - val_mae: 0.0119 - val_mape: 2.8699 - val_mse: 3.1476e-04\n",
      "Epoch 48/50\n",
      "\u001b[1m90/90\u001b[0m \u001b[32m━━━━━━━━━━━━━━━━━━━━\u001b[0m\u001b[37m\u001b[0m \u001b[1m2s\u001b[0m 19ms/step - loss: 2.3297e-04 - mae: 0.0113 - mape: 493.3088 - mse: 2.3297e-04 - val_loss: 3.2206e-04 - val_mae: 0.0127 - val_mape: 2.9824 - val_mse: 3.2206e-04\n",
      "Epoch 49/50\n",
      "\u001b[1m90/90\u001b[0m \u001b[32m━━━━━━━━━━━━━━━━━━━━\u001b[0m\u001b[37m\u001b[0m \u001b[1m2s\u001b[0m 20ms/step - loss: 2.1027e-04 - mae: 0.0106 - mape: 530.0258 - mse: 2.1027e-04 - val_loss: 3.0586e-04 - val_mae: 0.0117 - val_mape: 2.8177 - val_mse: 3.0586e-04\n",
      "Epoch 50/50\n",
      "\u001b[1m90/90\u001b[0m \u001b[32m━━━━━━━━━━━━━━━━━━━━\u001b[0m\u001b[37m\u001b[0m \u001b[1m2s\u001b[0m 19ms/step - loss: 2.2496e-04 - mae: 0.0111 - mape: 615.4158 - mse: 2.2496e-04 - val_loss: 2.9801e-04 - val_mae: 0.0116 - val_mape: 2.7865 - val_mse: 2.9801e-04\n"
     ]
    },
    {
     "name": "stderr",
     "output_type": "stream",
     "text": [
      "WARNING:absl:You are saving your model as an HDF5 file via `model.save()` or `keras.saving.save_model(model)`. This file format is considered legacy. We recommend using instead the native Keras format, e.g. `model.save('my_model.keras')` or `keras.saving.save_model(model, 'my_model.keras')`. \n"
     ]
    },
    {
     "name": "stdout",
     "output_type": "stream",
     "text": [
      "\u001b[1m23/23\u001b[0m \u001b[32m━━━━━━━━━━━━━━━━━━━━\u001b[0m\u001b[37m\u001b[0m \u001b[1m1s\u001b[0m 17ms/step\n",
      "model_2: Processando VALE3 | Combinação 5...\n",
      "Epoch 1/50\n",
      "\u001b[1m90/90\u001b[0m \u001b[32m━━━━━━━━━━━━━━━━━━━━\u001b[0m\u001b[37m\u001b[0m \u001b[1m6s\u001b[0m 26ms/step - loss: 0.0826 - mae: 0.2087 - mape: 125792.4844 - mse: 0.0826 - val_loss: 0.0088 - val_mae: 0.0706 - val_mape: 6.0364 - val_mse: 0.0088\n",
      "Epoch 2/50\n",
      "\u001b[1m90/90\u001b[0m \u001b[32m━━━━━━━━━━━━━━━━━━━━\u001b[0m\u001b[37m\u001b[0m \u001b[1m2s\u001b[0m 20ms/step - loss: 4.5484e-04 - mae: 0.0162 - mape: 14444.9473 - mse: 4.5484e-04 - val_loss: 0.0026 - val_mae: 0.0387 - val_mape: 3.6592 - val_mse: 0.0026\n",
      "Epoch 3/50\n",
      "\u001b[1m90/90\u001b[0m \u001b[32m━━━━━━━━━━━━━━━━━━━━\u001b[0m\u001b[37m\u001b[0m \u001b[1m2s\u001b[0m 19ms/step - loss: 3.7987e-04 - mae: 0.0146 - mape: 10486.3135 - mse: 3.7987e-04 - val_loss: 0.0024 - val_mae: 0.0389 - val_mape: 3.7063 - val_mse: 0.0024\n",
      "Epoch 4/50\n",
      "\u001b[1m90/90\u001b[0m \u001b[32m━━━━━━━━━━━━━━━━━━━━\u001b[0m\u001b[37m\u001b[0m \u001b[1m2s\u001b[0m 20ms/step - loss: 4.0327e-04 - mae: 0.0148 - mape: 7288.1172 - mse: 4.0327e-04 - val_loss: 0.0032 - val_mae: 0.0435 - val_mape: 3.9233 - val_mse: 0.0032\n",
      "Epoch 5/50\n",
      "\u001b[1m90/90\u001b[0m \u001b[32m━━━━━━━━━━━━━━━━━━━━\u001b[0m\u001b[37m\u001b[0m \u001b[1m2s\u001b[0m 20ms/step - loss: 3.8045e-04 - mae: 0.0146 - mape: 6509.0054 - mse: 3.8045e-04 - val_loss: 0.0037 - val_mae: 0.0465 - val_mape: 4.1161 - val_mse: 0.0037\n",
      "Epoch 6/50\n",
      "\u001b[1m90/90\u001b[0m \u001b[32m━━━━━━━━━━━━━━━━━━━━\u001b[0m\u001b[37m\u001b[0m \u001b[1m2s\u001b[0m 20ms/step - loss: 3.8053e-04 - mae: 0.0146 - mape: 4413.2134 - mse: 3.8053e-04 - val_loss: 0.0037 - val_mae: 0.0457 - val_mape: 3.9872 - val_mse: 0.0037\n",
      "Epoch 7/50\n",
      "\u001b[1m90/90\u001b[0m \u001b[32m━━━━━━━━━━━━━━━━━━━━\u001b[0m\u001b[37m\u001b[0m \u001b[1m2s\u001b[0m 20ms/step - loss: 4.0432e-04 - mae: 0.0152 - mape: 4989.1943 - mse: 4.0432e-04 - val_loss: 0.0046 - val_mae: 0.0514 - val_mape: 4.4422 - val_mse: 0.0046\n",
      "Epoch 8/50\n",
      "\u001b[1m90/90\u001b[0m \u001b[32m━━━━━━━━━━━━━━━━━━━━\u001b[0m\u001b[37m\u001b[0m \u001b[1m2s\u001b[0m 22ms/step - loss: 3.9288e-04 - mae: 0.0150 - mape: 3759.8538 - mse: 3.9288e-04 - val_loss: 0.0039 - val_mae: 0.0460 - val_mape: 3.9679 - val_mse: 0.0039\n",
      "Epoch 9/50\n",
      "\u001b[1m90/90\u001b[0m \u001b[32m━━━━━━━━━━━━━━━━━━━━\u001b[0m\u001b[37m\u001b[0m \u001b[1m2s\u001b[0m 20ms/step - loss: 3.9737e-04 - mae: 0.0151 - mape: 5692.5508 - mse: 3.9737e-04 - val_loss: 0.0037 - val_mae: 0.0448 - val_mape: 3.8668 - val_mse: 0.0037\n",
      "Epoch 10/50\n",
      "\u001b[1m90/90\u001b[0m \u001b[32m━━━━━━━━━━━━━━━━━━━━\u001b[0m\u001b[37m\u001b[0m \u001b[1m2s\u001b[0m 20ms/step - loss: 4.0016e-04 - mae: 0.0152 - mape: 5620.4893 - mse: 4.0016e-04 - val_loss: 0.0043 - val_mae: 0.0485 - val_mape: 4.1581 - val_mse: 0.0043\n",
      "Epoch 11/50\n",
      "\u001b[1m90/90\u001b[0m \u001b[32m━━━━━━━━━━━━━━━━━━━━\u001b[0m\u001b[37m\u001b[0m \u001b[1m2s\u001b[0m 20ms/step - loss: 3.6658e-04 - mae: 0.0144 - mape: 4331.9004 - mse: 3.6658e-04 - val_loss: 0.0050 - val_mae: 0.0546 - val_mape: 4.7168 - val_mse: 0.0050\n",
      "Epoch 12/50\n",
      "\u001b[1m90/90\u001b[0m \u001b[32m━━━━━━━━━━━━━━━━━━━━\u001b[0m\u001b[37m\u001b[0m \u001b[1m2s\u001b[0m 20ms/step - loss: 3.5015e-04 - mae: 0.0141 - mape: 4971.2754 - mse: 3.5015e-04 - val_loss: 0.0028 - val_mae: 0.0388 - val_mape: 3.4101 - val_mse: 0.0028\n",
      "Epoch 13/50\n",
      "\u001b[1m90/90\u001b[0m \u001b[32m━━━━━━━━━━━━━━━━━━━━\u001b[0m\u001b[37m\u001b[0m \u001b[1m2s\u001b[0m 20ms/step - loss: 3.4310e-04 - mae: 0.0140 - mape: 4463.3276 - mse: 3.4310e-04 - val_loss: 0.0034 - val_mae: 0.0426 - val_mape: 3.6948 - val_mse: 0.0034\n"
     ]
    },
    {
     "name": "stderr",
     "output_type": "stream",
     "text": [
      "WARNING:absl:You are saving your model as an HDF5 file via `model.save()` or `keras.saving.save_model(model)`. This file format is considered legacy. We recommend using instead the native Keras format, e.g. `model.save('my_model.keras')` or `keras.saving.save_model(model, 'my_model.keras')`. \n"
     ]
    },
    {
     "name": "stdout",
     "output_type": "stream",
     "text": [
      "\u001b[1m23/23\u001b[0m \u001b[32m━━━━━━━━━━━━━━━━━━━━\u001b[0m\u001b[37m\u001b[0m \u001b[1m1s\u001b[0m 23ms/step\n",
      "model_2: Processando BBDC4 | Combinação 5...\n",
      "Epoch 1/50\n",
      "\u001b[1m88/88\u001b[0m \u001b[32m━━━━━━━━━━━━━━━━━━━━\u001b[0m\u001b[37m\u001b[0m \u001b[1m7s\u001b[0m 32ms/step - loss: 0.0596 - mae: 0.1699 - mape: 11898.5176 - mse: 0.0596 - val_loss: 0.0014 - val_mae: 0.0263 - val_mape: 5.0750 - val_mse: 0.0014\n",
      "Epoch 2/50\n",
      "\u001b[1m88/88\u001b[0m \u001b[32m━━━━━━━━━━━━━━━━━━━━\u001b[0m\u001b[37m\u001b[0m \u001b[1m3s\u001b[0m 30ms/step - loss: 6.2821e-04 - mae: 0.0179 - mape: 2515.5452 - mse: 6.2821e-04 - val_loss: 8.5527e-04 - val_mae: 0.0207 - val_mape: 4.1109 - val_mse: 8.5527e-04\n",
      "Epoch 3/50\n",
      "\u001b[1m88/88\u001b[0m \u001b[32m━━━━━━━━━━━━━━━━━━━━\u001b[0m\u001b[37m\u001b[0m \u001b[1m2s\u001b[0m 24ms/step - loss: 5.0794e-04 - mae: 0.0155 - mape: 269.8908 - mse: 5.0794e-04 - val_loss: 7.8478e-04 - val_mae: 0.0195 - val_mape: 3.8878 - val_mse: 7.8478e-04\n",
      "Epoch 4/50\n",
      "\u001b[1m88/88\u001b[0m \u001b[32m━━━━━━━━━━━━━━━━━━━━\u001b[0m\u001b[37m\u001b[0m \u001b[1m2s\u001b[0m 23ms/step - loss: 5.3622e-04 - mae: 0.0162 - mape: 300.1944 - mse: 5.3622e-04 - val_loss: 7.6561e-04 - val_mae: 0.0192 - val_mape: 3.8347 - val_mse: 7.6561e-04\n",
      "Epoch 5/50\n",
      "\u001b[1m88/88\u001b[0m \u001b[32m━━━━━━━━━━━━━━━━━━━━\u001b[0m\u001b[37m\u001b[0m \u001b[1m2s\u001b[0m 25ms/step - loss: 5.2475e-04 - mae: 0.0161 - mape: 459.0729 - mse: 5.2475e-04 - val_loss: 7.4661e-04 - val_mae: 0.0183 - val_mape: 3.7418 - val_mse: 7.4661e-04\n",
      "Epoch 6/50\n",
      "\u001b[1m88/88\u001b[0m \u001b[32m━━━━━━━━━━━━━━━━━━━━\u001b[0m\u001b[37m\u001b[0m \u001b[1m2s\u001b[0m 23ms/step - loss: 5.9626e-04 - mae: 0.0171 - mape: 20.6701 - mse: 5.9626e-04 - val_loss: 7.2631e-04 - val_mae: 0.0182 - val_mape: 3.6940 - val_mse: 7.2631e-04\n",
      "Epoch 7/50\n",
      "\u001b[1m88/88\u001b[0m \u001b[32m━━━━━━━━━━━━━━━━━━━━\u001b[0m\u001b[37m\u001b[0m \u001b[1m2s\u001b[0m 23ms/step - loss: 5.0226e-04 - mae: 0.0158 - mape: 676.3495 - mse: 5.0226e-04 - val_loss: 6.9502e-04 - val_mae: 0.0181 - val_mape: 3.6225 - val_mse: 6.9502e-04\n",
      "Epoch 8/50\n",
      "\u001b[1m88/88\u001b[0m \u001b[32m━━━━━━━━━━━━━━━━━━━━\u001b[0m\u001b[37m\u001b[0m \u001b[1m2s\u001b[0m 20ms/step - loss: 5.3418e-04 - mae: 0.0162 - mape: 867.2829 - mse: 5.3418e-04 - val_loss: 7.2446e-04 - val_mae: 0.0182 - val_mape: 3.7244 - val_mse: 7.2446e-04\n",
      "Epoch 9/50\n",
      "\u001b[1m88/88\u001b[0m \u001b[32m━━━━━━━━━━━━━━━━━━━━\u001b[0m\u001b[37m\u001b[0m \u001b[1m2s\u001b[0m 19ms/step - loss: 5.4401e-04 - mae: 0.0163 - mape: 1308.5482 - mse: 5.4401e-04 - val_loss: 6.7117e-04 - val_mae: 0.0180 - val_mape: 3.5779 - val_mse: 6.7117e-04\n",
      "Epoch 10/50\n",
      "\u001b[1m88/88\u001b[0m \u001b[32m━━━━━━━━━━━━━━━━━━━━\u001b[0m\u001b[37m\u001b[0m \u001b[1m2s\u001b[0m 19ms/step - loss: 5.4699e-04 - mae: 0.0163 - mape: 967.0560 - mse: 5.4699e-04 - val_loss: 6.6982e-04 - val_mae: 0.0181 - val_mape: 3.5745 - val_mse: 6.6982e-04\n",
      "Epoch 11/50\n",
      "\u001b[1m88/88\u001b[0m \u001b[32m━━━━━━━━━━━━━━━━━━━━\u001b[0m\u001b[37m\u001b[0m \u001b[1m2s\u001b[0m 20ms/step - loss: 5.3784e-04 - mae: 0.0161 - mape: 1105.8269 - mse: 5.3784e-04 - val_loss: 6.4144e-04 - val_mae: 0.0177 - val_mape: 3.5115 - val_mse: 6.4144e-04\n",
      "Epoch 12/50\n",
      "\u001b[1m88/88\u001b[0m \u001b[32m━━━━━━━━━━━━━━━━━━━━\u001b[0m\u001b[37m\u001b[0m \u001b[1m2s\u001b[0m 20ms/step - loss: 4.9544e-04 - mae: 0.0156 - mape: 1624.3949 - mse: 4.9544e-04 - val_loss: 6.2952e-04 - val_mae: 0.0178 - val_mape: 3.5101 - val_mse: 6.2952e-04\n",
      "Epoch 13/50\n",
      "\u001b[1m88/88\u001b[0m \u001b[32m━━━━━━━━━━━━━━━━━━━━\u001b[0m\u001b[37m\u001b[0m \u001b[1m2s\u001b[0m 20ms/step - loss: 4.9475e-04 - mae: 0.0157 - mape: 1084.2852 - mse: 4.9475e-04 - val_loss: 6.3856e-04 - val_mae: 0.0182 - val_mape: 3.5570 - val_mse: 6.3856e-04\n",
      "Epoch 14/50\n",
      "\u001b[1m88/88\u001b[0m \u001b[32m━━━━━━━━━━━━━━━━━━━━\u001b[0m\u001b[37m\u001b[0m \u001b[1m2s\u001b[0m 20ms/step - loss: 5.2114e-04 - mae: 0.0160 - mape: 1824.3127 - mse: 5.2114e-04 - val_loss: 5.9251e-04 - val_mae: 0.0170 - val_mape: 3.3891 - val_mse: 5.9251e-04\n",
      "Epoch 15/50\n",
      "\u001b[1m88/88\u001b[0m \u001b[32m━━━━━━━━━━━━━━━━━━━━\u001b[0m\u001b[37m\u001b[0m \u001b[1m2s\u001b[0m 19ms/step - loss: 5.0523e-04 - mae: 0.0158 - mape: 2581.0969 - mse: 5.0523e-04 - val_loss: 5.9738e-04 - val_mae: 0.0173 - val_mape: 3.4246 - val_mse: 5.9738e-04\n",
      "Epoch 16/50\n",
      "\u001b[1m88/88\u001b[0m \u001b[32m━━━━━━━━━━━━━━━━━━━━\u001b[0m\u001b[37m\u001b[0m \u001b[1m2s\u001b[0m 19ms/step - loss: 4.8654e-04 - mae: 0.0154 - mape: 1162.9868 - mse: 4.8654e-04 - val_loss: 5.9223e-04 - val_mae: 0.0169 - val_mape: 3.4010 - val_mse: 5.9223e-04\n",
      "Epoch 17/50\n",
      "\u001b[1m88/88\u001b[0m \u001b[32m━━━━━━━━━━━━━━━━━━━━\u001b[0m\u001b[37m\u001b[0m \u001b[1m2s\u001b[0m 20ms/step - loss: 5.0952e-04 - mae: 0.0159 - mape: 1199.6805 - mse: 5.0952e-04 - val_loss: 6.8869e-04 - val_mae: 0.0188 - val_mape: 3.8074 - val_mse: 6.8869e-04\n",
      "Epoch 18/50\n",
      "\u001b[1m88/88\u001b[0m \u001b[32m━━━━━━━━━━━━━━━━━━━━\u001b[0m\u001b[37m\u001b[0m \u001b[1m2s\u001b[0m 20ms/step - loss: 4.6896e-04 - mae: 0.0154 - mape: 1680.9884 - mse: 4.6896e-04 - val_loss: 6.1641e-04 - val_mae: 0.0174 - val_mape: 3.5040 - val_mse: 6.1641e-04\n",
      "Epoch 19/50\n",
      "\u001b[1m88/88\u001b[0m \u001b[32m━━━━━━━━━━━━━━━━━━━━\u001b[0m\u001b[37m\u001b[0m \u001b[1m2s\u001b[0m 20ms/step - loss: 4.4645e-04 - mae: 0.0148 - mape: 591.9530 - mse: 4.4645e-04 - val_loss: 6.0577e-04 - val_mae: 0.0173 - val_mape: 3.4799 - val_mse: 6.0577e-04\n",
      "Epoch 20/50\n",
      "\u001b[1m88/88\u001b[0m \u001b[32m━━━━━━━━━━━━━━━━━━━━\u001b[0m\u001b[37m\u001b[0m \u001b[1m2s\u001b[0m 19ms/step - loss: 4.5948e-04 - mae: 0.0150 - mape: 627.6646 - mse: 4.5948e-04 - val_loss: 7.0025e-04 - val_mae: 0.0192 - val_mape: 3.8514 - val_mse: 7.0025e-04\n",
      "Epoch 21/50\n",
      "\u001b[1m88/88\u001b[0m \u001b[32m━━━━━━━━━━━━━━━━━━━━\u001b[0m\u001b[37m\u001b[0m \u001b[1m2s\u001b[0m 21ms/step - loss: 4.5520e-04 - mae: 0.0151 - mape: 850.1125 - mse: 4.5520e-04 - val_loss: 7.8772e-04 - val_mae: 0.0210 - val_mape: 4.1672 - val_mse: 7.8772e-04\n",
      "Epoch 22/50\n",
      "\u001b[1m88/88\u001b[0m \u001b[32m━━━━━━━━━━━━━━━━━━━━\u001b[0m\u001b[37m\u001b[0m \u001b[1m2s\u001b[0m 19ms/step - loss: 4.5652e-04 - mae: 0.0149 - mape: 260.5567 - mse: 4.5652e-04 - val_loss: 8.0567e-04 - val_mae: 0.0214 - val_mape: 4.2502 - val_mse: 8.0567e-04\n",
      "Epoch 23/50\n",
      "\u001b[1m88/88\u001b[0m \u001b[32m━━━━━━━━━━━━━━━━━━━━\u001b[0m\u001b[37m\u001b[0m \u001b[1m2s\u001b[0m 19ms/step - loss: 4.4006e-04 - mae: 0.0149 - mape: 986.5579 - mse: 4.4006e-04 - val_loss: 6.6424e-04 - val_mae: 0.0185 - val_mape: 3.7091 - val_mse: 6.6424e-04\n",
      "Epoch 24/50\n",
      "\u001b[1m88/88\u001b[0m \u001b[32m━━━━━━━━━━━━━━━━━━━━\u001b[0m\u001b[37m\u001b[0m \u001b[1m2s\u001b[0m 20ms/step - loss: 4.1655e-04 - mae: 0.0144 - mape: 982.6354 - mse: 4.1655e-04 - val_loss: 6.5802e-04 - val_mae: 0.0185 - val_mape: 3.7072 - val_mse: 6.5802e-04\n",
      "Epoch 25/50\n",
      "\u001b[1m88/88\u001b[0m \u001b[32m━━━━━━━━━━━━━━━━━━━━\u001b[0m\u001b[37m\u001b[0m \u001b[1m2s\u001b[0m 20ms/step - loss: 4.1692e-04 - mae: 0.0143 - mape: 1580.7269 - mse: 4.1692e-04 - val_loss: 6.2064e-04 - val_mae: 0.0178 - val_mape: 3.5611 - val_mse: 6.2064e-04\n",
      "Epoch 26/50\n",
      "\u001b[1m88/88\u001b[0m \u001b[32m━━━━━━━━━━━━━━━━━━━━\u001b[0m\u001b[37m\u001b[0m \u001b[1m2s\u001b[0m 19ms/step - loss: 4.4511e-04 - mae: 0.0150 - mape: 1055.6614 - mse: 4.4511e-04 - val_loss: 6.2645e-04 - val_mae: 0.0179 - val_mape: 3.5790 - val_mse: 6.2645e-04\n"
     ]
    },
    {
     "name": "stderr",
     "output_type": "stream",
     "text": [
      "WARNING:absl:You are saving your model as an HDF5 file via `model.save()` or `keras.saving.save_model(model)`. This file format is considered legacy. We recommend using instead the native Keras format, e.g. `model.save('my_model.keras')` or `keras.saving.save_model(model, 'my_model.keras')`. \n"
     ]
    },
    {
     "name": "stdout",
     "output_type": "stream",
     "text": [
      "\u001b[1m22/22\u001b[0m \u001b[32m━━━━━━━━━━━━━━━━━━━━\u001b[0m\u001b[37m\u001b[0m \u001b[1m1s\u001b[0m 18ms/step\n",
      "model_2: Processando ITUB4 | Combinação 5...\n",
      "Epoch 1/50\n",
      "\u001b[1m90/90\u001b[0m \u001b[32m━━━━━━━━━━━━━━━━━━━━\u001b[0m\u001b[37m\u001b[0m \u001b[1m6s\u001b[0m 25ms/step - loss: 0.0634 - mae: 0.1786 - mape: 133815.6719 - mse: 0.0634 - val_loss: 0.0012 - val_mae: 0.0253 - val_mape: 4.1706 - val_mse: 0.0012\n",
      "Epoch 2/50\n",
      "\u001b[1m90/90\u001b[0m \u001b[32m━━━━━━━━━━━━━━━━━━━━\u001b[0m\u001b[37m\u001b[0m \u001b[1m2s\u001b[0m 20ms/step - loss: 3.8590e-04 - mae: 0.0144 - mape: 52284.1562 - mse: 3.8590e-04 - val_loss: 6.9876e-04 - val_mae: 0.0184 - val_mape: 3.1217 - val_mse: 6.9876e-04\n",
      "Epoch 3/50\n",
      "\u001b[1m90/90\u001b[0m \u001b[32m━━━━━━━━━━━━━━━━━━━━\u001b[0m\u001b[37m\u001b[0m \u001b[1m2s\u001b[0m 19ms/step - loss: 2.9085e-04 - mae: 0.0127 - mape: 42058.8203 - mse: 2.9085e-04 - val_loss: 6.5796e-04 - val_mae: 0.0178 - val_mape: 3.0221 - val_mse: 6.5796e-04\n",
      "Epoch 4/50\n",
      "\u001b[1m90/90\u001b[0m \u001b[32m━━━━━━━━━━━━━━━━━━━━\u001b[0m\u001b[37m\u001b[0m \u001b[1m2s\u001b[0m 21ms/step - loss: 2.8883e-04 - mae: 0.0127 - mape: 36857.6094 - mse: 2.8883e-04 - val_loss: 6.3830e-04 - val_mae: 0.0175 - val_mape: 2.9704 - val_mse: 6.3830e-04\n",
      "Epoch 5/50\n",
      "\u001b[1m90/90\u001b[0m \u001b[32m━━━━━━━━━━━━━━━━━━━━\u001b[0m\u001b[37m\u001b[0m \u001b[1m3s\u001b[0m 30ms/step - loss: 2.7538e-04 - mae: 0.0123 - mape: 33331.7031 - mse: 2.7538e-04 - val_loss: 6.3032e-04 - val_mae: 0.0172 - val_mape: 2.9462 - val_mse: 6.3032e-04\n",
      "Epoch 6/50\n",
      "\u001b[1m90/90\u001b[0m \u001b[32m━━━━━━━━━━━━━━━━━━━━\u001b[0m\u001b[37m\u001b[0m \u001b[1m3s\u001b[0m 32ms/step - loss: 2.7205e-04 - mae: 0.0121 - mape: 34980.1602 - mse: 2.7205e-04 - val_loss: 6.0822e-04 - val_mae: 0.0170 - val_mape: 2.8965 - val_mse: 6.0822e-04\n",
      "Epoch 7/50\n",
      "\u001b[1m90/90\u001b[0m \u001b[32m━━━━━━━━━━━━━━━━━━━━\u001b[0m\u001b[37m\u001b[0m \u001b[1m2s\u001b[0m 24ms/step - loss: 3.1295e-04 - mae: 0.0130 - mape: 35337.6836 - mse: 3.1295e-04 - val_loss: 6.5254e-04 - val_mae: 0.0178 - val_mape: 3.0506 - val_mse: 6.5254e-04\n",
      "Epoch 8/50\n",
      "\u001b[1m90/90\u001b[0m \u001b[32m━━━━━━━━━━━━━━━━━━━━\u001b[0m\u001b[37m\u001b[0m \u001b[1m3s\u001b[0m 32ms/step - loss: 3.9051e-04 - mae: 0.0149 - mape: 32649.2715 - mse: 3.9051e-04 - val_loss: 6.0360e-04 - val_mae: 0.0169 - val_mape: 2.8868 - val_mse: 6.0360e-04\n",
      "Epoch 9/50\n",
      "\u001b[1m90/90\u001b[0m \u001b[32m━━━━━━━━━━━━━━━━━━━━\u001b[0m\u001b[37m\u001b[0m \u001b[1m2s\u001b[0m 27ms/step - loss: 4.2138e-04 - mae: 0.0153 - mape: 32294.0605 - mse: 4.2138e-04 - val_loss: 5.6202e-04 - val_mae: 0.0163 - val_mape: 2.7773 - val_mse: 5.6202e-04\n",
      "Epoch 10/50\n",
      "\u001b[1m90/90\u001b[0m \u001b[32m━━━━━━━━━━━━━━━━━━━━\u001b[0m\u001b[37m\u001b[0m \u001b[1m3s\u001b[0m 37ms/step - loss: 2.9466e-04 - mae: 0.0126 - mape: 31362.4863 - mse: 2.9466e-04 - val_loss: 6.6185e-04 - val_mae: 0.0182 - val_mape: 3.0989 - val_mse: 6.6185e-04\n",
      "Epoch 11/50\n",
      "\u001b[1m90/90\u001b[0m \u001b[32m━━━━━━━━━━━━━━━━━━━━\u001b[0m\u001b[37m\u001b[0m \u001b[1m2s\u001b[0m 25ms/step - loss: 3.7641e-04 - mae: 0.0144 - mape: 33981.8008 - mse: 3.7641e-04 - val_loss: 5.4016e-04 - val_mae: 0.0160 - val_mape: 2.7226 - val_mse: 5.4016e-04\n",
      "Epoch 12/50\n",
      "\u001b[1m90/90\u001b[0m \u001b[32m━━━━━━━━━━━━━━━━━━━━\u001b[0m\u001b[37m\u001b[0m \u001b[1m2s\u001b[0m 24ms/step - loss: 2.8616e-04 - mae: 0.0124 - mape: 32701.0234 - mse: 2.8616e-04 - val_loss: 5.2284e-04 - val_mae: 0.0159 - val_mape: 2.6979 - val_mse: 5.2284e-04\n",
      "Epoch 13/50\n",
      "\u001b[1m90/90\u001b[0m \u001b[32m━━━━━━━━━━━━━━━━━━━━\u001b[0m\u001b[37m\u001b[0m \u001b[1m2s\u001b[0m 23ms/step - loss: 3.5992e-04 - mae: 0.0142 - mape: 31291.0840 - mse: 3.5992e-04 - val_loss: 5.3622e-04 - val_mae: 0.0160 - val_mape: 2.7301 - val_mse: 5.3622e-04\n",
      "Epoch 14/50\n",
      "\u001b[1m90/90\u001b[0m \u001b[32m━━━━━━━━━━━━━━━━━━━━\u001b[0m\u001b[37m\u001b[0m \u001b[1m3s\u001b[0m 36ms/step - loss: 3.8797e-04 - mae: 0.0145 - mape: 32300.3398 - mse: 3.8797e-04 - val_loss: 5.1585e-04 - val_mae: 0.0159 - val_mape: 2.6871 - val_mse: 5.1585e-04\n",
      "Epoch 15/50\n",
      "\u001b[1m90/90\u001b[0m \u001b[32m━━━━━━━━━━━━━━━━━━━━\u001b[0m\u001b[37m\u001b[0m \u001b[1m3s\u001b[0m 31ms/step - loss: 3.9095e-04 - mae: 0.0146 - mape: 32779.1328 - mse: 3.9095e-04 - val_loss: 5.1006e-04 - val_mae: 0.0156 - val_mape: 2.6554 - val_mse: 5.1006e-04\n",
      "Epoch 16/50\n",
      "\u001b[1m90/90\u001b[0m \u001b[32m━━━━━━━━━━━━━━━━━━━━\u001b[0m\u001b[37m\u001b[0m \u001b[1m3s\u001b[0m 28ms/step - loss: 3.3444e-04 - mae: 0.0135 - mape: 32327.3633 - mse: 3.3444e-04 - val_loss: 5.2586e-04 - val_mae: 0.0164 - val_mape: 2.7494 - val_mse: 5.2586e-04\n",
      "Epoch 17/50\n",
      "\u001b[1m90/90\u001b[0m \u001b[32m━━━━━━━━━━━━━━━━━━━━\u001b[0m\u001b[37m\u001b[0m \u001b[1m3s\u001b[0m 32ms/step - loss: 2.9868e-04 - mae: 0.0128 - mape: 29891.3535 - mse: 2.9868e-04 - val_loss: 5.5118e-04 - val_mae: 0.0171 - val_mape: 2.8400 - val_mse: 5.5118e-04\n",
      "Epoch 18/50\n",
      "\u001b[1m90/90\u001b[0m \u001b[32m━━━━━━━━━━━━━━━━━━━━\u001b[0m\u001b[37m\u001b[0m \u001b[1m3s\u001b[0m 34ms/step - loss: 2.8907e-04 - mae: 0.0124 - mape: 30389.6836 - mse: 2.8907e-04 - val_loss: 5.4651e-04 - val_mae: 0.0165 - val_mape: 2.8178 - val_mse: 5.4651e-04\n",
      "Epoch 19/50\n",
      "\u001b[1m90/90\u001b[0m \u001b[32m━━━━━━━━━━━━━━━━━━━━\u001b[0m\u001b[37m\u001b[0m \u001b[1m3s\u001b[0m 38ms/step - loss: 3.0770e-04 - mae: 0.0130 - mape: 30427.0273 - mse: 3.0770e-04 - val_loss: 4.8076e-04 - val_mae: 0.0154 - val_mape: 2.6027 - val_mse: 4.8076e-04\n",
      "Epoch 20/50\n",
      "\u001b[1m90/90\u001b[0m \u001b[32m━━━━━━━━━━━━━━━━━━━━\u001b[0m\u001b[37m\u001b[0m \u001b[1m3s\u001b[0m 30ms/step - loss: 3.2193e-04 - mae: 0.0132 - mape: 29726.0801 - mse: 3.2193e-04 - val_loss: 5.0636e-04 - val_mae: 0.0158 - val_mape: 2.7021 - val_mse: 5.0636e-04\n",
      "Epoch 21/50\n",
      "\u001b[1m90/90\u001b[0m \u001b[32m━━━━━━━━━━━━━━━━━━━━\u001b[0m\u001b[37m\u001b[0m \u001b[1m2s\u001b[0m 25ms/step - loss: 3.8481e-04 - mae: 0.0147 - mape: 29381.8535 - mse: 3.8481e-04 - val_loss: 5.0211e-04 - val_mae: 0.0157 - val_mape: 2.6811 - val_mse: 5.0211e-04\n",
      "Epoch 22/50\n",
      "\u001b[1m90/90\u001b[0m \u001b[32m━━━━━━━━━━━━━━━━━━━━\u001b[0m\u001b[37m\u001b[0m \u001b[1m2s\u001b[0m 23ms/step - loss: 2.8488e-04 - mae: 0.0125 - mape: 29986.1895 - mse: 2.8488e-04 - val_loss: 4.6824e-04 - val_mae: 0.0152 - val_mape: 2.5776 - val_mse: 4.6824e-04\n",
      "Epoch 23/50\n",
      "\u001b[1m90/90\u001b[0m \u001b[32m━━━━━━━━━━━━━━━━━━━━\u001b[0m\u001b[37m\u001b[0m \u001b[1m2s\u001b[0m 24ms/step - loss: 2.8398e-04 - mae: 0.0124 - mape: 30763.8418 - mse: 2.8398e-04 - val_loss: 4.8790e-04 - val_mae: 0.0156 - val_mape: 2.6566 - val_mse: 4.8790e-04\n",
      "Epoch 24/50\n",
      "\u001b[1m90/90\u001b[0m \u001b[32m━━━━━━━━━━━━━━━━━━━━\u001b[0m\u001b[37m\u001b[0m \u001b[1m2s\u001b[0m 24ms/step - loss: 4.7190e-04 - mae: 0.0163 - mape: 28873.8965 - mse: 4.7190e-04 - val_loss: 4.9130e-04 - val_mae: 0.0155 - val_mape: 2.6378 - val_mse: 4.9130e-04\n",
      "Epoch 25/50\n",
      "\u001b[1m90/90\u001b[0m \u001b[32m━━━━━━━━━━━━━━━━━━━━\u001b[0m\u001b[37m\u001b[0m \u001b[1m2s\u001b[0m 23ms/step - loss: 3.5856e-04 - mae: 0.0140 - mape: 31184.7754 - mse: 3.5856e-04 - val_loss: 4.7695e-04 - val_mae: 0.0156 - val_mape: 2.6220 - val_mse: 4.7695e-04\n",
      "Epoch 26/50\n",
      "\u001b[1m90/90\u001b[0m \u001b[32m━━━━━━━━━━━━━━━━━━━━\u001b[0m\u001b[37m\u001b[0m \u001b[1m2s\u001b[0m 23ms/step - loss: 2.5039e-04 - mae: 0.0115 - mape: 30436.6875 - mse: 2.5039e-04 - val_loss: 4.7733e-04 - val_mae: 0.0153 - val_mape: 2.5995 - val_mse: 4.7733e-04\n",
      "Epoch 27/50\n",
      "\u001b[1m90/90\u001b[0m \u001b[32m━━━━━━━━━━━━━━━━━━━━\u001b[0m\u001b[37m\u001b[0m \u001b[1m2s\u001b[0m 23ms/step - loss: 4.0351e-04 - mae: 0.0150 - mape: 28817.7324 - mse: 4.0351e-04 - val_loss: 4.8656e-04 - val_mae: 0.0155 - val_mape: 2.6400 - val_mse: 4.8656e-04\n",
      "Epoch 28/50\n",
      "\u001b[1m90/90\u001b[0m \u001b[32m━━━━━━━━━━━━━━━━━━━━\u001b[0m\u001b[37m\u001b[0m \u001b[1m2s\u001b[0m 22ms/step - loss: 3.1286e-04 - mae: 0.0131 - mape: 28865.2930 - mse: 3.1286e-04 - val_loss: 4.7509e-04 - val_mae: 0.0153 - val_mape: 2.6132 - val_mse: 4.7509e-04\n",
      "Epoch 29/50\n",
      "\u001b[1m90/90\u001b[0m \u001b[32m━━━━━━━━━━━━━━━━━━━━\u001b[0m\u001b[37m\u001b[0m \u001b[1m2s\u001b[0m 24ms/step - loss: 2.7442e-04 - mae: 0.0122 - mape: 30204.2285 - mse: 2.7442e-04 - val_loss: 4.8273e-04 - val_mae: 0.0160 - val_mape: 2.6763 - val_mse: 4.8273e-04\n",
      "Epoch 30/50\n",
      "\u001b[1m90/90\u001b[0m \u001b[32m━━━━━━━━━━━━━━━━━━━━\u001b[0m\u001b[37m\u001b[0m \u001b[1m4s\u001b[0m 46ms/step - loss: 2.5312e-04 - mae: 0.0117 - mape: 26872.4434 - mse: 2.5312e-04 - val_loss: 4.6345e-04 - val_mae: 0.0155 - val_mape: 2.6022 - val_mse: 4.6345e-04\n",
      "Epoch 31/50\n",
      "\u001b[1m90/90\u001b[0m \u001b[32m━━━━━━━━━━━━━━━━━━━━\u001b[0m\u001b[37m\u001b[0m \u001b[1m2s\u001b[0m 24ms/step - loss: 2.6230e-04 - mae: 0.0119 - mape: 26478.2617 - mse: 2.6230e-04 - val_loss: 4.5168e-04 - val_mae: 0.0150 - val_mape: 2.5475 - val_mse: 4.5168e-04\n",
      "Epoch 32/50\n",
      "\u001b[1m90/90\u001b[0m \u001b[32m━━━━━━━━━━━━━━━━━━━━\u001b[0m\u001b[37m\u001b[0m \u001b[1m2s\u001b[0m 23ms/step - loss: 3.4900e-04 - mae: 0.0139 - mape: 28519.6328 - mse: 3.4900e-04 - val_loss: 4.4050e-04 - val_mae: 0.0150 - val_mape: 2.5276 - val_mse: 4.4050e-04\n",
      "Epoch 33/50\n",
      "\u001b[1m90/90\u001b[0m \u001b[32m━━━━━━━━━━━━━━━━━━━━\u001b[0m\u001b[37m\u001b[0m \u001b[1m2s\u001b[0m 23ms/step - loss: 2.8582e-04 - mae: 0.0124 - mape: 28593.3184 - mse: 2.8582e-04 - val_loss: 4.4498e-04 - val_mae: 0.0151 - val_mape: 2.5317 - val_mse: 4.4498e-04\n",
      "Epoch 34/50\n",
      "\u001b[1m90/90\u001b[0m \u001b[32m━━━━━━━━━━━━━━━━━━━━\u001b[0m\u001b[37m\u001b[0m \u001b[1m2s\u001b[0m 21ms/step - loss: 2.7763e-04 - mae: 0.0124 - mape: 31510.0801 - mse: 2.7763e-04 - val_loss: 4.5217e-04 - val_mae: 0.0154 - val_mape: 2.5712 - val_mse: 4.5217e-04\n",
      "Epoch 35/50\n",
      "\u001b[1m90/90\u001b[0m \u001b[32m━━━━━━━━━━━━━━━━━━━━\u001b[0m\u001b[37m\u001b[0m \u001b[1m2s\u001b[0m 22ms/step - loss: 3.0284e-04 - mae: 0.0129 - mape: 29266.3848 - mse: 3.0284e-04 - val_loss: 4.5375e-04 - val_mae: 0.0155 - val_mape: 2.5909 - val_mse: 4.5375e-04\n",
      "Epoch 36/50\n",
      "\u001b[1m90/90\u001b[0m \u001b[32m━━━━━━━━━━━━━━━━━━━━\u001b[0m\u001b[37m\u001b[0m \u001b[1m2s\u001b[0m 23ms/step - loss: 2.3947e-04 - mae: 0.0114 - mape: 29448.0488 - mse: 2.3947e-04 - val_loss: 4.6058e-04 - val_mae: 0.0157 - val_mape: 2.6195 - val_mse: 4.6058e-04\n",
      "Epoch 37/50\n",
      "\u001b[1m90/90\u001b[0m \u001b[32m━━━━━━━━━━━━━━━━━━━━\u001b[0m\u001b[37m\u001b[0m \u001b[1m2s\u001b[0m 23ms/step - loss: 3.2365e-04 - mae: 0.0133 - mape: 30800.4746 - mse: 3.2365e-04 - val_loss: 4.4939e-04 - val_mae: 0.0154 - val_mape: 2.5608 - val_mse: 4.4939e-04\n",
      "Epoch 38/50\n",
      "\u001b[1m90/90\u001b[0m \u001b[32m━━━━━━━━━━━━━━━━━━━━\u001b[0m\u001b[37m\u001b[0m \u001b[1m2s\u001b[0m 25ms/step - loss: 2.8521e-04 - mae: 0.0125 - mape: 28640.5312 - mse: 2.8521e-04 - val_loss: 6.0202e-04 - val_mae: 0.0189 - val_mape: 3.0883 - val_mse: 6.0202e-04\n",
      "Epoch 39/50\n",
      "\u001b[1m90/90\u001b[0m \u001b[32m━━━━━━━━━━━━━━━━━━━━\u001b[0m\u001b[37m\u001b[0m \u001b[1m2s\u001b[0m 26ms/step - loss: 3.1233e-04 - mae: 0.0130 - mape: 27552.0918 - mse: 3.1233e-04 - val_loss: 5.0495e-04 - val_mae: 0.0167 - val_mape: 2.7563 - val_mse: 5.0495e-04\n",
      "Epoch 40/50\n",
      "\u001b[1m90/90\u001b[0m \u001b[32m━━━━━━━━━━━━━━━━━━━━\u001b[0m\u001b[37m\u001b[0m \u001b[1m2s\u001b[0m 26ms/step - loss: 2.7460e-04 - mae: 0.0122 - mape: 27898.6074 - mse: 2.7460e-04 - val_loss: 6.9099e-04 - val_mae: 0.0208 - val_mape: 3.3722 - val_mse: 6.9099e-04\n",
      "Epoch 41/50\n",
      "\u001b[1m90/90\u001b[0m \u001b[32m━━━━━━━━━━━━━━━━━━━━\u001b[0m\u001b[37m\u001b[0m \u001b[1m2s\u001b[0m 27ms/step - loss: 2.7139e-04 - mae: 0.0123 - mape: 27379.6348 - mse: 2.7139e-04 - val_loss: 5.3399e-04 - val_mae: 0.0175 - val_mape: 2.8747 - val_mse: 5.3399e-04\n",
      "Epoch 42/50\n",
      "\u001b[1m90/90\u001b[0m \u001b[32m━━━━━━━━━━━━━━━━━━━━\u001b[0m\u001b[37m\u001b[0m \u001b[1m2s\u001b[0m 26ms/step - loss: 2.5073e-04 - mae: 0.0116 - mape: 26423.8438 - mse: 2.5073e-04 - val_loss: 5.9812e-04 - val_mae: 0.0189 - val_mape: 3.0901 - val_mse: 5.9812e-04\n"
     ]
    },
    {
     "name": "stderr",
     "output_type": "stream",
     "text": [
      "WARNING:absl:You are saving your model as an HDF5 file via `model.save()` or `keras.saving.save_model(model)`. This file format is considered legacy. We recommend using instead the native Keras format, e.g. `model.save('my_model.keras')` or `keras.saving.save_model(model, 'my_model.keras')`. \n"
     ]
    },
    {
     "name": "stdout",
     "output_type": "stream",
     "text": [
      "\u001b[1m23/23\u001b[0m \u001b[32m━━━━━━━━━━━━━━━━━━━━\u001b[0m\u001b[37m\u001b[0m \u001b[1m1s\u001b[0m 27ms/step\n"
     ]
    }
   ],
   "source": [
    "# Processando o Modelo 2 para Salvar os Artefatos (modelo e scalers)\n",
    "\n",
    "name_model = model_2 # Modelo 2\n",
    "num_combination = 5 # Combinação 5\n",
    "\n",
    "'''\n",
    "7 combinações de dados disponíveis: \n",
    "     1. Stock Data\n",
    "     2. Stock Data + Google News\n",
    "     3. Stock Data + Twitter \n",
    "     4. Stock Data + (IFR + MMS + MME) \n",
    "     5. Google News + Twitter + IFR + MMS \n",
    "     6. Google News + Twitter + IFR + MME\n",
    "     7. Google News + Twitter + IFR + MME + MMS \n",
    "'''\n",
    "\n",
    "result = process_stocks_and_save_metrics(all_stock_data, num_combination, name_model, save_artifacts=True) # Salva os artefatos"
   ]
  },
  {
   "cell_type": "markdown",
   "metadata": {},
   "source": [
    "## 3. Processar o Backtest com Modelo salvo"
   ]
  },
  {
   "cell_type": "code",
   "execution_count": 6,
   "metadata": {},
   "outputs": [],
   "source": [
    "# Execute apenas se pulou a etapa anterior e deseja carregar os artefatos\n",
    "\n",
    "name_model = 'model_2' # Modelo 2\n",
    "num_combination = 5 # Combinação 5"
   ]
  },
  {
   "cell_type": "code",
   "execution_count": null,
   "metadata": {},
   "outputs": [
    {
     "name": "stdout",
     "output_type": "stream",
     "text": [
      "Processando PETR4...\n"
     ]
    },
    {
     "name": "stderr",
     "output_type": "stream",
     "text": [
      "WARNING:absl:Compiled the loaded model, but the compiled metrics have yet to be built. `model.compile_metrics` will be empty until you train or evaluate the model.\n"
     ]
    },
    {
     "name": "stdout",
     "output_type": "stream",
     "text": [
      "\u001b[1m23/23\u001b[0m \u001b[32m━━━━━━━━━━━━━━━━━━━━\u001b[0m\u001b[37m\u001b[0m \u001b[1m1s\u001b[0m 18ms/step\n",
      "PETR4 processado!\n",
      "Processando VALE3...\n"
     ]
    },
    {
     "name": "stderr",
     "output_type": "stream",
     "text": [
      "WARNING:absl:Compiled the loaded model, but the compiled metrics have yet to be built. `model.compile_metrics` will be empty until you train or evaluate the model.\n"
     ]
    },
    {
     "name": "stdout",
     "output_type": "stream",
     "text": [
      "\u001b[1m23/23\u001b[0m \u001b[32m━━━━━━━━━━━━━━━━━━━━\u001b[0m\u001b[37m\u001b[0m \u001b[1m1s\u001b[0m 16ms/step\n",
      "VALE3 processado!\n",
      "Processando BBDC4...\n"
     ]
    },
    {
     "name": "stderr",
     "output_type": "stream",
     "text": [
      "WARNING:absl:Compiled the loaded model, but the compiled metrics have yet to be built. `model.compile_metrics` will be empty until you train or evaluate the model.\n"
     ]
    },
    {
     "name": "stdout",
     "output_type": "stream",
     "text": [
      "\u001b[1m22/22\u001b[0m \u001b[32m━━━━━━━━━━━━━━━━━━━━\u001b[0m\u001b[37m\u001b[0m \u001b[1m1s\u001b[0m 17ms/step\n",
      "BBDC4 processado!\n",
      "Processando ITUB4...\n"
     ]
    },
    {
     "name": "stderr",
     "output_type": "stream",
     "text": [
      "WARNING:absl:Compiled the loaded model, but the compiled metrics have yet to be built. `model.compile_metrics` will be empty until you train or evaluate the model.\n"
     ]
    },
    {
     "name": "stdout",
     "output_type": "stream",
     "text": [
      "\u001b[1m23/23\u001b[0m \u001b[32m━━━━━━━━━━━━━━━━━━━━\u001b[0m\u001b[37m\u001b[0m \u001b[1m1s\u001b[0m 17ms/step\n",
      "ITUB4 processado!\n"
     ]
    }
   ],
   "source": [
    "results, signals = process_stocks(stock_list, all_stock_data, name_model, 5) # num_combination = 5"
   ]
  },
  {
   "cell_type": "code",
   "execution_count": null,
   "metadata": {},
   "outputs": [
    {
     "data": {
      "application/vnd.plotly.v1+json": {
       "config": {
        "plotlyServerURL": "https://plot.ly"
       },
       "data": [
        {
         "mode": "lines",
         "name": "Strategy with model_2",
         "type": "scatter",
         "x": [
          "2019-10-23",
          "2019-10-24",
          "2019-10-25",
          "2019-10-28",
          "2019-10-29",
          "2019-10-30",
          "2019-10-31",
          "2019-11-01",
          "2019-11-04",
          "2019-11-05",
          "2019-11-06",
          "2019-11-07",
          "2019-11-08",
          "2019-11-11",
          "2019-11-12",
          "2019-11-13",
          "2019-11-14",
          "2019-11-18",
          "2019-11-19",
          "2019-11-21",
          "2019-11-22",
          "2019-11-25",
          "2019-11-26",
          "2019-11-27",
          "2019-11-28",
          "2019-11-29",
          "2019-12-02",
          "2019-12-03",
          "2019-12-04",
          "2019-12-05",
          "2019-12-06",
          "2019-12-09",
          "2019-12-10",
          "2019-12-11",
          "2019-12-12",
          "2019-12-13",
          "2019-12-16",
          "2019-12-17",
          "2019-12-18",
          "2019-12-19",
          "2019-12-20",
          "2019-12-23",
          "2019-12-26",
          "2019-12-27",
          "2019-12-30",
          "2020-01-02",
          "2020-01-03",
          "2020-01-06",
          "2020-01-07",
          "2020-01-08",
          "2020-01-09",
          "2020-01-10",
          "2020-01-13",
          "2020-01-14",
          "2020-01-15",
          "2020-01-16",
          "2020-01-17",
          "2020-01-20",
          "2020-01-21",
          "2020-01-22",
          "2020-01-23",
          "2020-01-24",
          "2020-01-27",
          "2020-01-28",
          "2020-01-29",
          "2020-01-30",
          "2020-01-31",
          "2020-02-03",
          "2020-02-04",
          "2020-02-05",
          "2020-02-06",
          "2020-02-07",
          "2020-02-10",
          "2020-02-11",
          "2020-02-12",
          "2020-02-13",
          "2020-02-14",
          "2020-02-17",
          "2020-02-18",
          "2020-02-19",
          "2020-02-20",
          "2020-02-21",
          "2020-02-26",
          "2020-02-27",
          "2020-02-28",
          "2020-03-02",
          "2020-03-03",
          "2020-03-04",
          "2020-03-05",
          "2020-03-06",
          "2020-03-09",
          "2020-03-10",
          "2020-03-11",
          "2020-03-12",
          "2020-03-13",
          "2020-03-16",
          "2020-03-17",
          "2020-03-18",
          "2020-03-19",
          "2020-03-20",
          "2020-03-23",
          "2020-03-24",
          "2020-03-25",
          "2020-03-26",
          "2020-03-27",
          "2020-03-30",
          "2020-03-31",
          "2020-04-01",
          "2020-04-02",
          "2020-04-03",
          "2020-04-06",
          "2020-04-07",
          "2020-04-08",
          "2020-04-09",
          "2020-04-13",
          "2020-04-14",
          "2020-04-15",
          "2020-04-16",
          "2020-04-17",
          "2020-04-20",
          "2020-04-22",
          "2020-04-23",
          "2020-04-24",
          "2020-04-27",
          "2020-04-28",
          "2020-04-29",
          "2020-04-30",
          "2020-05-04",
          "2020-05-05",
          "2020-05-06",
          "2020-05-07",
          "2020-05-08",
          "2020-05-11",
          "2020-05-12",
          "2020-05-13",
          "2020-05-14",
          "2020-05-15",
          "2020-05-18",
          "2020-05-19",
          "2020-05-20",
          "2020-05-21",
          "2020-05-22",
          "2020-05-25",
          "2020-05-26",
          "2020-05-27",
          "2020-05-28",
          "2020-05-29",
          "2020-06-01",
          "2020-06-02",
          "2020-06-03",
          "2020-06-04",
          "2020-06-05",
          "2020-06-08",
          "2020-06-09",
          "2020-06-10",
          "2020-06-12",
          "2020-06-15",
          "2020-06-16",
          "2020-06-17",
          "2020-06-18",
          "2020-06-19",
          "2020-06-22",
          "2020-06-23",
          "2020-06-24",
          "2020-06-25",
          "2020-06-26",
          "2020-06-29",
          "2020-06-30",
          "2020-07-01",
          "2020-07-02",
          "2020-07-03",
          "2020-07-06",
          "2020-07-07",
          "2020-07-08",
          "2020-07-09",
          "2020-07-10",
          "2020-07-13",
          "2020-07-14",
          "2020-07-15",
          "2020-07-16",
          "2020-07-17",
          "2020-07-20",
          "2020-07-21",
          "2020-07-22",
          "2020-07-23",
          "2020-07-24",
          "2020-07-27",
          "2020-07-28",
          "2020-07-29",
          "2020-07-30",
          "2020-07-31",
          "2020-08-03",
          "2020-08-04",
          "2020-08-05",
          "2020-08-06",
          "2020-08-07",
          "2020-08-10",
          "2020-08-11",
          "2020-08-12",
          "2020-08-13",
          "2020-08-14",
          "2020-08-17",
          "2020-08-18",
          "2020-08-19",
          "2020-08-20",
          "2020-08-21",
          "2020-08-24",
          "2020-08-25",
          "2020-08-26",
          "2020-08-27",
          "2020-08-28",
          "2020-08-31",
          "2020-09-01",
          "2020-09-02",
          "2020-09-03",
          "2020-09-04",
          "2020-09-08",
          "2020-09-09",
          "2020-09-10",
          "2020-09-11",
          "2020-09-14",
          "2020-09-15",
          "2020-09-16",
          "2020-09-17",
          "2020-09-18",
          "2020-09-21",
          "2020-09-22",
          "2020-09-23",
          "2020-09-24",
          "2020-09-25",
          "2020-09-28",
          "2020-09-29",
          "2020-09-30",
          "2020-10-01",
          "2020-10-02",
          "2020-10-05",
          "2020-10-06",
          "2020-10-07",
          "2020-10-08",
          "2020-10-09",
          "2020-10-13",
          "2020-10-14",
          "2020-10-15",
          "2020-10-16",
          "2020-10-19",
          "2020-10-20",
          "2020-10-21",
          "2020-10-22",
          "2020-10-23",
          "2020-10-26",
          "2020-10-27",
          "2020-10-28",
          "2020-10-29",
          "2020-10-30",
          "2020-11-03",
          "2020-11-04",
          "2020-11-05",
          "2020-11-06",
          "2020-11-09",
          "2020-11-10",
          "2020-11-11",
          "2020-11-12",
          "2020-11-13",
          "2020-11-16",
          "2020-11-17",
          "2020-11-18",
          "2020-11-19",
          "2020-11-23",
          "2020-11-24",
          "2020-11-25",
          "2020-11-26",
          "2020-11-27",
          "2020-11-30",
          "2020-12-01",
          "2020-12-02",
          "2020-12-03",
          "2020-12-04",
          "2020-12-07",
          "2020-12-08",
          "2020-12-09",
          "2020-12-10",
          "2020-12-11",
          "2020-12-14",
          "2020-12-15",
          "2020-12-16",
          "2020-12-17",
          "2020-12-18",
          "2020-12-21",
          "2020-12-22",
          "2020-12-23",
          "2020-12-28",
          "2020-12-29",
          "2020-12-30",
          "2021-01-04",
          "2021-01-05",
          "2021-01-06",
          "2021-01-07",
          "2021-01-08",
          "2021-01-11",
          "2021-01-12",
          "2021-01-13",
          "2021-01-14",
          "2021-01-15",
          "2021-01-18",
          "2021-01-19",
          "2021-01-20",
          "2021-01-21",
          "2021-01-22",
          "2021-01-26",
          "2021-01-27",
          "2021-01-28",
          "2021-01-29",
          "2021-02-01",
          "2021-02-02",
          "2021-02-03",
          "2021-02-04",
          "2021-02-05",
          "2021-02-08",
          "2021-02-09",
          "2021-02-10",
          "2021-02-11",
          "2021-02-12",
          "2021-02-17",
          "2021-02-18",
          "2021-02-19",
          "2021-02-22",
          "2021-02-23",
          "2021-02-24",
          "2021-02-25",
          "2021-02-26",
          "2021-03-01",
          "2021-03-02",
          "2021-03-03",
          "2021-03-04",
          "2021-03-05",
          "2021-03-08",
          "2021-03-09",
          "2021-03-10",
          "2021-03-11",
          "2021-03-12",
          "2021-03-15",
          "2021-03-16",
          "2021-03-17",
          "2021-03-18",
          "2021-03-19",
          "2021-03-22",
          "2021-03-23",
          "2021-03-24",
          "2021-03-25",
          "2021-03-26",
          "2021-03-29",
          "2021-03-30",
          "2021-03-31",
          "2021-04-01",
          "2021-04-05",
          "2021-04-06",
          "2021-04-07",
          "2021-04-08",
          "2021-04-09",
          "2021-04-12",
          "2021-04-13",
          "2021-04-14",
          "2021-04-15",
          "2021-04-16",
          "2021-04-19",
          "2021-04-20",
          "2021-04-22",
          "2021-04-23",
          "2021-04-26",
          "2021-04-27",
          "2021-04-28",
          "2021-04-29",
          "2021-04-30",
          "2021-05-03",
          "2021-05-04",
          "2021-05-05",
          "2021-05-06",
          "2021-05-07",
          "2021-05-10",
          "2021-05-11",
          "2021-05-12",
          "2021-05-13",
          "2021-05-14",
          "2021-05-17",
          "2021-05-18",
          "2021-05-19",
          "2021-05-20",
          "2021-05-21",
          "2021-05-24",
          "2021-05-25",
          "2021-05-26",
          "2021-05-27",
          "2021-05-28",
          "2021-05-31",
          "2021-06-01",
          "2021-06-02",
          "2021-06-04",
          "2021-06-07",
          "2021-06-08",
          "2021-06-09",
          "2021-06-10",
          "2021-06-11",
          "2021-06-14",
          "2021-06-15",
          "2021-06-16",
          "2021-06-17",
          "2021-06-18",
          "2021-06-21",
          "2021-06-22",
          "2021-06-23",
          "2021-06-24",
          "2021-06-25",
          "2021-06-28",
          "2021-06-29",
          "2021-06-30",
          "2021-07-01",
          "2021-07-02",
          "2021-07-05",
          "2021-07-06",
          "2021-07-07",
          "2021-07-08",
          "2021-07-12",
          "2021-07-13",
          "2021-07-14",
          "2021-07-15",
          "2021-07-16",
          "2021-07-19",
          "2021-07-20",
          "2021-07-21",
          "2021-07-22",
          "2021-07-23",
          "2021-07-26",
          "2021-07-27",
          "2021-07-28",
          "2021-07-29",
          "2021-07-30",
          "2021-08-02",
          "2021-08-03",
          "2021-08-04",
          "2021-08-05",
          "2021-08-06",
          "2021-08-09",
          "2021-08-10",
          "2021-08-11",
          "2021-08-12",
          "2021-08-13",
          "2021-08-16",
          "2021-08-17",
          "2021-08-18",
          "2021-08-19",
          "2021-08-20",
          "2021-08-23",
          "2021-08-24",
          "2021-08-25",
          "2021-08-26",
          "2021-08-27",
          "2021-08-30",
          "2021-08-31",
          "2021-09-01",
          "2021-09-02",
          "2021-09-03",
          "2021-09-06",
          "2021-09-08",
          "2021-09-09",
          "2021-09-10",
          "2021-09-13",
          "2021-09-14",
          "2021-09-15",
          "2021-09-16",
          "2021-09-17",
          "2021-09-20",
          "2021-09-21",
          "2021-09-22",
          "2021-09-23",
          "2021-09-24",
          "2021-09-27",
          "2021-09-28",
          "2021-09-29",
          "2021-09-30",
          "2021-10-01",
          "2021-10-04",
          "2021-10-05",
          "2021-10-06",
          "2021-10-07",
          "2021-10-08",
          "2021-10-11",
          "2021-10-13",
          "2021-10-14",
          "2021-10-15",
          "2021-10-18",
          "2021-10-19",
          "2021-10-20",
          "2021-10-21",
          "2021-10-22",
          "2021-10-25",
          "2021-10-26",
          "2021-10-27",
          "2021-10-28",
          "2021-10-29",
          "2021-11-01",
          "2021-11-03",
          "2021-11-04",
          "2021-11-05",
          "2021-11-08",
          "2021-11-09",
          "2021-11-10",
          "2021-11-11",
          "2021-11-12",
          "2021-11-16",
          "2021-11-17",
          "2021-11-18",
          "2021-11-19",
          "2021-11-22",
          "2021-11-23",
          "2021-11-24",
          "2021-11-25",
          "2021-11-26",
          "2021-11-29",
          "2021-11-30",
          "2021-12-01",
          "2021-12-02",
          "2021-12-03",
          "2021-12-06",
          "2021-12-07",
          "2021-12-08",
          "2021-12-09",
          "2021-12-10",
          "2021-12-13",
          "2021-12-14",
          "2021-12-15",
          "2021-12-16",
          "2021-12-17",
          "2021-12-20",
          "2021-12-21",
          "2021-12-22",
          "2021-12-23",
          "2021-12-27",
          "2021-12-28",
          "2021-12-29",
          "2021-12-30",
          "2022-01-03",
          "2022-01-04",
          "2022-01-05",
          "2022-01-06",
          "2022-01-07",
          "2022-01-10",
          "2022-01-11",
          "2022-01-12",
          "2022-01-13",
          "2022-01-14",
          "2022-01-17",
          "2022-01-18",
          "2022-01-19",
          "2022-01-20",
          "2022-01-21",
          "2022-01-24",
          "2022-01-25",
          "2022-01-26",
          "2022-01-27",
          "2022-01-28",
          "2022-01-31",
          "2022-02-01",
          "2022-02-02",
          "2022-02-03",
          "2022-02-04",
          "2022-02-07",
          "2022-02-08",
          "2022-02-09",
          "2022-02-10",
          "2022-02-11",
          "2022-02-14",
          "2022-02-15",
          "2022-02-16",
          "2022-02-17",
          "2022-02-18",
          "2022-02-21",
          "2022-02-22",
          "2022-02-23",
          "2022-02-24",
          "2022-02-25",
          "2022-03-02",
          "2022-03-03",
          "2022-03-04",
          "2022-03-07",
          "2022-03-08",
          "2022-03-09",
          "2022-03-10",
          "2022-03-11",
          "2022-03-14",
          "2022-03-15",
          "2022-03-16",
          "2022-03-17",
          "2022-03-18",
          "2022-03-21",
          "2022-03-22",
          "2022-03-23",
          "2022-03-24",
          "2022-03-25",
          "2022-03-28",
          "2022-03-29",
          "2022-03-30",
          "2022-03-31",
          "2022-04-01",
          "2022-04-04",
          "2022-04-05",
          "2022-04-06",
          "2022-04-07",
          "2022-04-08",
          "2022-04-11",
          "2022-04-12",
          "2022-04-13",
          "2022-04-14",
          "2022-04-18",
          "2022-04-19",
          "2022-04-20",
          "2022-04-22",
          "2022-04-25",
          "2022-04-26",
          "2022-04-27",
          "2022-04-28",
          "2022-04-29",
          "2022-05-02",
          "2022-05-03",
          "2022-05-04",
          "2022-05-05",
          "2022-05-06",
          "2022-05-09",
          "2022-05-10",
          "2022-05-11",
          "2022-05-12",
          "2022-05-13",
          "2022-05-16",
          "2022-05-17",
          "2022-05-18",
          "2022-05-19",
          "2022-05-20",
          "2022-05-23",
          "2022-05-24",
          "2022-05-25",
          "2022-05-26",
          "2022-05-27",
          "2022-05-30",
          "2022-05-31",
          "2022-06-01",
          "2022-06-02",
          "2022-06-03",
          "2022-06-06",
          "2022-06-07",
          "2022-06-08",
          "2022-06-09",
          "2022-06-10",
          "2022-06-13",
          "2022-06-14",
          "2022-06-15",
          "2022-06-17",
          "2022-06-20",
          "2022-06-21",
          "2022-06-22",
          "2022-06-23",
          "2022-06-24",
          "2022-06-27",
          "2022-06-28",
          "2022-06-29",
          "2022-06-30",
          "2022-07-01",
          "2022-07-04",
          "2022-07-05",
          "2022-07-06",
          "2022-07-07",
          "2022-07-08",
          "2022-07-11",
          "2022-07-12",
          "2022-07-13",
          "2022-07-14",
          "2022-07-15",
          "2022-07-18",
          "2022-07-19",
          "2022-07-20",
          "2022-07-21",
          "2022-07-22",
          "2022-07-25",
          "2022-07-26",
          "2022-07-27",
          "2022-07-28",
          "2022-07-29",
          "2022-08-01",
          "2022-08-02",
          "2022-08-03",
          "2022-08-04",
          "2022-08-05",
          "2022-08-08",
          "2022-08-09",
          "2022-08-10",
          "2022-08-11",
          "2022-08-12",
          "2022-08-15",
          "2022-08-16",
          "2022-08-17",
          "2022-08-18",
          "2022-08-19",
          "2022-08-22",
          "2022-08-23",
          "2022-08-24",
          "2022-08-25",
          "2022-08-26",
          "2022-08-29",
          "2022-08-30",
          "2022-08-31",
          "2022-09-01",
          "2022-09-02",
          "2022-09-05",
          "2022-09-06",
          "2022-09-08",
          "2022-09-09",
          "2022-09-12",
          "2022-09-13",
          "2022-09-14",
          "2022-09-15",
          "2022-09-16"
         ],
         "y": {
          "bdata": "AAAAAACIw0AAAAAAAIjDQOscrXNCmcNApI8LcFzfw0Bqrl+5bAvEQEMQawaAP8RA6T8S/5Z9xED9gskCmoXEQCKuJ+3/2cRALqIuC7pGxEC/Pd3O9lLEQBhsnIysRcVAC3Ug+TCSxEB948Cq5OnEQIb+xgyljsRAFOWSagmMxEA4WVH6OxHEQM7y1/U05MNAC+iBSs6mw0C5CuGrzYHEQNWwfT7QZ8RA1bB9PtBnxEDVsH0+0GfEQNWwfT7QZ8RAQon77R2bxECfBj7C+kvEQKKhq69RO8RAM+qFd5MoxEAa2fUXVlvEQBrZ9RdWW8RAGtn1F1ZbxEAa2fUXVlvEQBrZ9RdWW8RA2vZoYhFNxEBWCaRCIr7EQOPOXLmapsRA485cuZqmxEDjzly5mqbEQOPOXLmapsRA485cuZqmxEA2RefIFGrEQAmXknmAVMRAiSH2Wz6bxEDE1q3rN07EQBGvp/KcTMRAAYfRurl5xEDCup59sZXEQMK6nn2xlcRAwrqefbGVxEDCup59sZXEQMK6nn2xlcRAwrqefbGVxEDCup59sZXEQMK6nn2xlcRAwrqefbGVxEAEX9w2tYzEQFa1stuWrsRAVrWy25auxEBWtbLblq7EQFa1stuWrsRA38hejY4txUANcCQ+/+LEQNtXqPO8TMRAfgwUM72jxEA67m2Geq7EQMZYbx6RLMRAxlhvHpEsxECwQ2JxvuvDQJINB2AsSMRAbUBjspjFw0C5As4e5mrEQBjS+fm5PcRAGNL5+bk9xEC2dxxztVXEQDp91IETb8RAOn3UgRNvxEA6fdSBE2/EQGfoFSgJP8RAuQ9fD9P5w0C5D18P0/nDQLK+8nvPV8NAy8LoiKPBwkD8SLNmiI3AQCHTClmqvL9ALBNdZxHMv0BRoslXJMvAQHWNMHq6bsBAjj5ozfkNwUCOPmjN+Q3BQCK3thqI+r9AImbRwTZXtEDn1SPSv+62QFwdjzRU/7NAQ1IZS2HWrEAQC5oWljmzQNo8xsYEha5AI8/97es1rkApseZ7FFeoQHWwrlygf6tAEurUHxHHqkCLd8C4ow+pQGgIiKGiEa9AqCXVOAFfsUDorwZorHuxQOivBmise7FA7RjH2Ff1sUDCmre21CazQM+BMz8UwrNA5dGmBgwgtkCqhHc06cq1QLMFy0tBorZABLvjMcLdt0D1aA7/7Aa4QATJHvO5GbZANJHhjApLtkCGs1LFYPG1QPS2HcR3VLVAliqmtZQstEA4KbCmY+S0QJ0FHWexk7RAPGZJMVj6tUBY/fo/p7u2QFj9+j+nu7ZAZo1hBWdbt0Ba2qDD5OG4QJ5ntjTA5LlAnme2NMDkuUCeZ7Y0wOS5QJ5ntjTA5LlAaqGr49fPuEDRmhuoih25QO1v86SUFrtAhetxJUO1ukC+Uv6z0QS6QAurbqcE/rhAFzDhZDujuEBoY/Lfxiu4QGTPd7jyw7pAdGdOMLirukBQYvjoCxa7QOyuc/G4Z7tA7K5z8bhnu0Bkfjl443G7QHBC12RLTbxA8fsoPEKUvEA8VNkk10m8QGiPKa/0Ur1AMh9w9k1OvUDrMSI4+j+/QA9Rg9YFBcBAD1GD1gUFwECeKNDGqL+/QLxoiNJzQcBA+ozsxh0Tv0CeEy5J0YG+QCvk0Q6SFr1ARuNNBPpDvUAmZ91AMnS+QB3VRvX6k75AzhEmNKHcvkCRgZf9maG+QK7uos19tb1ABh+DElXzvkDl+/+rMcy9QJGBl/2Zob5ANL8gbYuDvUDUtectf+69QNS15y1/7r1Ao4EkKxzovUAT6AIcJYG+QDe1+2UqXr5ACj4UfudFv0AeLKflecu+QBTn9i4eg79A8BoK0h+kvkAKPhR+50W/QJrXNY3erL5A+12irm3wv0DM6o5ZaFjAQJQ7aIe5ob9AQ/iTQniqv0BD+JNCeKq/QE2472X3XsBArHKN3gEZwEA3tO94I2C/QO0Z/uQYpr9ASJYdAc05wEBxbm89tMS/QMXIvPQ9M8BAHyQNd1Ttv0DwUI0DXL6+QNaSwT52D75A/5U9urcGvkDxt4ejbTXAQLGUX0MsPsBA8U+BFlXAv0C6UfPAdHDAQCxA7uqQH8BAQzz/G7hWwEDgdD7bFrC/QP7d3wgbZr9A3J9wUqRHv0D2aXLPbP6/QJf2Ak7Zxb9ACoDFL0oZv0AKgMUvShm/QK06pzXTU79AYa8bTxkpv0D2wQZnKPe+QGYVjkEquL5Amt9kxojYvkCa32TGiNi+QGMd4yMqBcBA+u58JWQMwED67nwlZAzAQPrufCVkDMBA+u58JWQMwEC7Ff4fVUjAQCoCv9w5fr9ArBK1wD8Sv0AxPFP0RLi+QChreC7Fs75AnHxcmcPOvkB7oBL2uIu/QA/JwqLFqr5A7QXLpVhZvUBDsHsjWyy9QFX2bJ/pK7xAgS57UmV4vECvoB0d7P67QEPJzcn4HbtACftm7wCOukD7+1R2+RS7QKcWIlrzgLtA9p+QZogLukDdHwvT7tG7QAtxLhVMjbxAIMjtd5k2vEAt7Frlu2O9QO1J1EY7O7xAf6jygR3UvEC+Rcto/Ym8QM1jr1QRJLxAxrotBH1hu0DF6MM3g7m7QOelAK5H67xAvnNhnAPivEAHYz0kDB2+QCOCQ4QnQL5AQ8u/ZOkkvkAiet99A3O9QFv5Tp09LbtAlwN6AFdXvEDSQAzgDq+7QGZPB8htBL1AFIlkC4WmvUDIyvNVj5S9QKsz6bv9UL1AIVUg51hpwEARLPE2vabAQBEs8Ta9psBAESzxNr2mwECB0Se8Cz/BQHvaBBMCwcFAe9oEEwLBwUB72gQTAsHBQEkordEaB8JAHbToOTE0w0AveE1/6qvDQC94TX/qq8NAL3hNf+qrw0DeaYRMsVHDQDZqW5BgxsJAJPC2cOlow0A0bjQt5LDDQDzaRCk+4cNAFDt80f0zxEAEPEbE8/LDQDkSCTds2MNARIBgLcIXxEAlk7sr0N7EQBnoJ3qLjMRAGegneouMxEAZ6Cd6i4zEQBDveI7n38RAFZTetqPwxED0MwBHaPjEQJBSEXjRBcRA9qjIKDhAxEDcxJvottbEQOYWN3tgCsVAoFB3uZcexUD35oaQtijFQFSU1iw/asVAWJQ3SBlgxUBYlDdIGWDFQFiUN0gZYMVAWJQ3SBlgxUBYlDdIGWDFQDel0KNHBMVAUiibIwDXw0DKtwsoEhTEQL/tvPpSu8NAbOmdxEmQw0Bxi2itXxLEQCDfJ21pQcRArZixUnbiw0DfNR/gLX7DQFxOGA3KmcNAp9HP/y8kxEBAL8/3+ArEQEAvz/f4CsRAVU+kNpJOxEACUnzFXUrFQB5of3euicVAHmh/d66JxUAeaH93ronFQB5of3euicVAJ6+UF5kbxUCLugm9ylfFQJ8C1uOdmMVAA5VMf/brxUAp0MNPVvbFQCnQw09W9sVADSyaCxdZxUAreRrywh/AQIF8GLV2VMJA1T0nR8ykwkDTRj0h54bBQLpOZXxwpsBAwUZoPWUkwUBV4UXuH1DBQN40EfvQiMBAH3uAA22JwUAdw28kqbnBQB3DbySpucFAiylduiT9wUB0l3sQCFPCQHSXexAIU8JAdJd7EAhTwkB0l3sQCFPCQHSXexAIU8JASnjv/vtCw0BlN8oDonLCQA3WojEkL8NAmgjXYRW4wkC0ISQLfwXCQPKWNwZ1CsJAon+kLLZowkCD4LIDPqfCQNct7s2WKMNApw/fzxbywkCUI4EGdkPDQMHZbZVrD8NA0HpUqpc0w0BN7pzWoi/DQMph5QKuKsNAMRkMF1bgwkDrOcEF8tPCQMHZbZVrD8NABg9SxT4jw0CqiQkAaoHDQPnEg7YrScJA7+ZyKnomwkClGgE6EXDDQJdb01k9dcNAH/6DEOIQw0CFLv1E4QvDQCu9EWrLLMNAgTgz74F/wkC0e8N++VHDQHJ8tPjLAcNAdQxPnbbDwkCRllpU3G/CQMjbq0pS68FAGZjQnwnSwkBz3h+kCoHCQIav3td/nMJAhq/e13+cwkCGr97Xf5zCQIav3td/nMJA4OYbpcfYwkDnOdFTywjEQH+lkoVfAcRAf6WShV8BxEAQlvTg3E/EQJMZ5fK+G8RAGDwR4nsgxEARNTC+t4jEQKUoO9xsBsRA6NgMMaZBxECc6nW8xzfEQC3FwiRo+cRA5LvhdiLdxEBU/luSFkDFQFTxXg9VRsVAVPFeD1VGxUBU8V4PVUbFQFTxXg9VRsVAVPFeD1VGxUBU8V4PVUbFQFTxXg9VRsVAHK21/RktxUAUUUBS7mrFQESwXIE4g8VAvOaClTGkxEBFM5Q9Js7EQFCX5fRDWcVALW18YGN6xUA86kDRgZPFQDzqQNGBk8VAPOpA0YGTxUD80TpLuX7FQAhDE8yCm8VAIlmF8FZyxUAYFvJa5+fEQM5DM9u8AcVAzEcdVGnVxEDMRx1UadXEQDwJ2ajWxsRAIbQA9mQuxEAhtAD2ZC7EQJfVb38vgcRAF8WNvtKlxEAXxY2+0qXEQEBDxX0QL8RAEfxU+e3Jw0DefnuzYBrEQFGmKM3VQMRAA6oXH5MxxEB1yJJkk1fEQHXIkmSTV8RAdciSZJNXxEBx7oA5+53EQMf5/CWFqsRAQuHsJ/UVxEDmA0h+FVDEQPq1m/3EysRAWaUtr9FExEBua6JRRSvGQFMcTApCRsZAUxxMCkJGxkBTHEwKQkbGQFMcTApCRsZAvYC0tD61xkBCIRlhnO/GQLuJFmklxMZAwvvk0pL9xkB4SNmbs7/GQDySP/0HmcZAsmvaLriOxkDJSz3X/vrGQMmYWAJdi8dArLW4gAiyx0B7ISFbpILHQHshIVukgsdAeyEhW6SCx0B7ISFbpILHQJr3vC1eQsdADIDi/qjPxkAc011xRYnGQF9Q/nMpq8ZAL36vZrgmxUC3hAsa5LDFQHANY+Ath8VAzPAuhTNvxkCUV61VAB7GQJRXrVUAHsZAlFetVQAexkCUV61VAB7GQLcLxDTIyMZASmzWiYFox0AGqdtXDB/IQBL15x6YMshAEvXnHpgyyEAS9ecemDLIQBL15x6YMshATQEUYhlsyED2athx9kDIQAs/B6uOEMlACfH8aKnGyEAJ8fxoqcbIQAnx/GipxshAYWuWMu21yECq5rzSvTzJQP9+g9KXcMlAt09umvbAyUD9Spyi9/LJQCn0Z8aeyMlAxFYE6aOhyUA3AWuHbivIQHE1vzjEqshAyimKCuiZx0AkNiYCvlPHQL4ch0kYN8lA7uDg9XnvyEBc1Ju0Y9TIQEtxFmK5ochARetR+VG1xkBJ+BPjoIzHQEc9TkxUacZAQzCMYgWSxUBEWQqMBmzFQOF98+1qsMVAduNDoCI0xkAc4zoZyyHGQPhCB4htvsVAZKPJ3oVFxkCo1T2RkovGQIIK6eUyocZAjj2TKOaCxkAyZNgkZRHGQGlPODF3VMZA0RqSq+7Hx0AbNePQ+LnHQBs149D4ucdAGzXj0Pi5x0AbNePQ+LnHQBs149D4ucdAw5x5INaJx0BXD4+n0hbFQP/tOA3/XMVAbtvIwvF5xUBDfw1ktcjFQEN/DWS1yMVAQ38NZLXIxUA7AlKa5vHFQIHOd8MqysVAukhYi/TgxUBQTCWzHxbGQNskZB/6bcZA3a6KyUrQxUCePLe3UhXFQCtaCXlVHsVAbnFYnn9DxUA9mCrrYkvFQBgZSY9FqsVA4fepbebcxUDRkh/7Z8DFQGzGi/nQq8VAwPeeVVm4xUDA955VWbjFQDeEWnHXxsRAMbn/jGLCxECEEOi4C8jEQJkRqd871MRAXmAFoByOxUDRJZDuuZ7FQNElkO65nsVA0SWQ7rmexUDRJZDuuZ7FQNElkO65nsVA0SWQ7rmexUBrQmq+adPFQEXVoJmQ3cVAb1EnGT/FxUBsXxYnI9PGQNBOPP2BCcdA0E48/YEJx0DK7yLFpRbGQKccBpC88MVAUNdNPW5yxkA5s7UoqBLGQLl90GXeuMVAF5Qd7JooxkB7ea8ldRDGQMQozghZCsZA5qUScNoixkA89UuL6obGQBzqyjzdwcZAHOrKPN3BxkAc6so83cHGQBzqyjzdwcZAHOrKPN3BxkCbh09ovCLHQGt9CP1uJMdAa30I/W4kx0BrfQj9biTHQGt9CP1uJMdAq7vyRpScx0Do8an+eiTIQF2ftr5CzcdA5GZBXjvLx0DTuuj4GvnHQK6eTcqxZ8hAByFKi819yEA6tQs61XnJQHr51F/BnslAevnUX8GeyUDjuZ7TgZ7JQCfxyJqtXMlAF7tW48CUyEDSKAk7CifJQOgDWBFsP8pAZ/KT1bFtykBn8pPVsW3KQGfyk9WxbcpAZ/KT1bFtykBn8pPVsW3KQGfyk9WxbcpAZ/KT1bFtykBn8pPVsW3KQGfyk9WxbcpAZ/KT1bFtykBn8pPVsW3KQJHP5sI9PspApT28pAvPy0B0F8Ah5MvLQNWkp/4y4stA8GyY8a9DzEA2d0k7NX7MQAq722Vbq8lAVYww3XlJyUBPrrC1fCzKQGK0hgsaUcpAET2yn2siyUDXKjCek7TIQPobAd9sq8hAk8LHYahpyEDd9DAT/pnIQI0uxnfTnshAImOo7VJWyEBDRKUxGG/IQENEpTEYb8hAQ0SlMRhvyEBDRKUxGG/IQENEpTEYb8hANzv8MvSJyEBY+tg/UoXJQFzquBsCN8lAXOq4GwI3yUBc6rgbAjfJQFzquBsCN8lAbkSM6EzDyEBeM9iFND7JQLiVTEyEzMlAiA1WWuvzykCw3XsTYrXGQKudbwLnB8dAB3tcxNYYx0A11d5D79TFQI4AbtbLU8VA7cqmhZ1ixUCQ0ya/JVrFQIASKA2rR8VAwIqfZnbJxUCeEfaDX/DFQJ4R9oNf8MVAnhH2g1/wxUCeEfaDX/DFQJ4R9oNf8MVAnhH2g1/wxUCeEfaDX/DFQJ4R9oNf8MVAnhH2g1/wxUD8HU3/8JTHQN2aWnuJusdAES5TH8kyyEBPKEke4KrHQMN/Dv+CdMdAgiclQeM/yUCCrXkfZNnJQIKteR9k2clAgq15H2TZyUCCrXkfZNnJQIKteR9k2clAgq15H2TZyUCCrXkfZNnJQFJdLx6iaMpAq3SV3MBsykCrdJXcwGzKQHCYH/fgYspASftyPYBoykCvqE8J3ZLJQImqIyv7FspAKV7aFgSGykDTbjMvyT/LQLWBkEb+PMtAB6zXAOz9ykAHrNcA7P3KQCQEnpPGMMxAZVRaSk2uzEBlVFpKTa7MQGVUWkpNrsxAZVRaSk2uzEBlVFpKTa7MQGVUWkpNrsxAZVRaSk2uzEDZ7E5p7tjMQDpYsK+Av8xA7X9UCxktzkA8ce66TnzOQDxx7rpOfM5ANOb+f4xtzUD/SaTQZELJQLSYjJK+RMlATlRWFOmIyUDeOfXaMznKQDhkMNhKf8pAOGQw2Ep/ykD/XOzuYi7LQBmBQ36BWstAGYFDfoFay0AZgUN+gVrLQBmBQ36BWstAGYFDfoFay0AZgUN+gVrLQBmBQ36BWstAGYFDfoFay0AZgUN+gVrLQBmBQ36BWstAOmRjgS46y0DlCxLRO+/KQKN6uV287MpAYJ6a+0mfykB0Mttftw7KQPEh5fV6dcpAApKU0205ykACkpTTbTnKQA==",
          "dtype": "f8"
         }
        },
        {
         "mode": "lines",
         "name": "Buy & Hold",
         "type": "scatter",
         "x": [
          "2019-10-23",
          "2019-10-24",
          "2019-10-25",
          "2019-10-28",
          "2019-10-29",
          "2019-10-30",
          "2019-10-31",
          "2019-11-01",
          "2019-11-04",
          "2019-11-05",
          "2019-11-06",
          "2019-11-07",
          "2019-11-08",
          "2019-11-11",
          "2019-11-12",
          "2019-11-13",
          "2019-11-14",
          "2019-11-18",
          "2019-11-19",
          "2019-11-21",
          "2019-11-22",
          "2019-11-25",
          "2019-11-26",
          "2019-11-27",
          "2019-11-28",
          "2019-11-29",
          "2019-12-02",
          "2019-12-03",
          "2019-12-04",
          "2019-12-05",
          "2019-12-06",
          "2019-12-09",
          "2019-12-10",
          "2019-12-11",
          "2019-12-12",
          "2019-12-13",
          "2019-12-16",
          "2019-12-17",
          "2019-12-18",
          "2019-12-19",
          "2019-12-20",
          "2019-12-23",
          "2019-12-26",
          "2019-12-27",
          "2019-12-30",
          "2020-01-02",
          "2020-01-03",
          "2020-01-06",
          "2020-01-07",
          "2020-01-08",
          "2020-01-09",
          "2020-01-10",
          "2020-01-13",
          "2020-01-14",
          "2020-01-15",
          "2020-01-16",
          "2020-01-17",
          "2020-01-20",
          "2020-01-21",
          "2020-01-22",
          "2020-01-23",
          "2020-01-24",
          "2020-01-27",
          "2020-01-28",
          "2020-01-29",
          "2020-01-30",
          "2020-01-31",
          "2020-02-03",
          "2020-02-04",
          "2020-02-05",
          "2020-02-06",
          "2020-02-07",
          "2020-02-10",
          "2020-02-11",
          "2020-02-12",
          "2020-02-13",
          "2020-02-14",
          "2020-02-17",
          "2020-02-18",
          "2020-02-19",
          "2020-02-20",
          "2020-02-21",
          "2020-02-26",
          "2020-02-27",
          "2020-02-28",
          "2020-03-02",
          "2020-03-03",
          "2020-03-04",
          "2020-03-05",
          "2020-03-06",
          "2020-03-09",
          "2020-03-10",
          "2020-03-11",
          "2020-03-12",
          "2020-03-13",
          "2020-03-16",
          "2020-03-17",
          "2020-03-18",
          "2020-03-19",
          "2020-03-20",
          "2020-03-23",
          "2020-03-24",
          "2020-03-25",
          "2020-03-26",
          "2020-03-27",
          "2020-03-30",
          "2020-03-31",
          "2020-04-01",
          "2020-04-02",
          "2020-04-03",
          "2020-04-06",
          "2020-04-07",
          "2020-04-08",
          "2020-04-09",
          "2020-04-13",
          "2020-04-14",
          "2020-04-15",
          "2020-04-16",
          "2020-04-17",
          "2020-04-20",
          "2020-04-22",
          "2020-04-23",
          "2020-04-24",
          "2020-04-27",
          "2020-04-28",
          "2020-04-29",
          "2020-04-30",
          "2020-05-04",
          "2020-05-05",
          "2020-05-06",
          "2020-05-07",
          "2020-05-08",
          "2020-05-11",
          "2020-05-12",
          "2020-05-13",
          "2020-05-14",
          "2020-05-15",
          "2020-05-18",
          "2020-05-19",
          "2020-05-20",
          "2020-05-21",
          "2020-05-22",
          "2020-05-25",
          "2020-05-26",
          "2020-05-27",
          "2020-05-28",
          "2020-05-29",
          "2020-06-01",
          "2020-06-02",
          "2020-06-03",
          "2020-06-04",
          "2020-06-05",
          "2020-06-08",
          "2020-06-09",
          "2020-06-10",
          "2020-06-12",
          "2020-06-15",
          "2020-06-16",
          "2020-06-17",
          "2020-06-18",
          "2020-06-19",
          "2020-06-22",
          "2020-06-23",
          "2020-06-24",
          "2020-06-25",
          "2020-06-26",
          "2020-06-29",
          "2020-06-30",
          "2020-07-01",
          "2020-07-02",
          "2020-07-03",
          "2020-07-06",
          "2020-07-07",
          "2020-07-08",
          "2020-07-09",
          "2020-07-10",
          "2020-07-13",
          "2020-07-14",
          "2020-07-15",
          "2020-07-16",
          "2020-07-17",
          "2020-07-20",
          "2020-07-21",
          "2020-07-22",
          "2020-07-23",
          "2020-07-24",
          "2020-07-27",
          "2020-07-28",
          "2020-07-29",
          "2020-07-30",
          "2020-07-31",
          "2020-08-03",
          "2020-08-04",
          "2020-08-05",
          "2020-08-06",
          "2020-08-07",
          "2020-08-10",
          "2020-08-11",
          "2020-08-12",
          "2020-08-13",
          "2020-08-14",
          "2020-08-17",
          "2020-08-18",
          "2020-08-19",
          "2020-08-20",
          "2020-08-21",
          "2020-08-24",
          "2020-08-25",
          "2020-08-26",
          "2020-08-27",
          "2020-08-28",
          "2020-08-31",
          "2020-09-01",
          "2020-09-02",
          "2020-09-03",
          "2020-09-04",
          "2020-09-08",
          "2020-09-09",
          "2020-09-10",
          "2020-09-11",
          "2020-09-14",
          "2020-09-15",
          "2020-09-16",
          "2020-09-17",
          "2020-09-18",
          "2020-09-21",
          "2020-09-22",
          "2020-09-23",
          "2020-09-24",
          "2020-09-25",
          "2020-09-28",
          "2020-09-29",
          "2020-09-30",
          "2020-10-01",
          "2020-10-02",
          "2020-10-05",
          "2020-10-06",
          "2020-10-07",
          "2020-10-08",
          "2020-10-09",
          "2020-10-13",
          "2020-10-14",
          "2020-10-15",
          "2020-10-16",
          "2020-10-19",
          "2020-10-20",
          "2020-10-21",
          "2020-10-22",
          "2020-10-23",
          "2020-10-26",
          "2020-10-27",
          "2020-10-28",
          "2020-10-29",
          "2020-10-30",
          "2020-11-03",
          "2020-11-04",
          "2020-11-05",
          "2020-11-06",
          "2020-11-09",
          "2020-11-10",
          "2020-11-11",
          "2020-11-12",
          "2020-11-13",
          "2020-11-16",
          "2020-11-17",
          "2020-11-18",
          "2020-11-19",
          "2020-11-23",
          "2020-11-24",
          "2020-11-25",
          "2020-11-26",
          "2020-11-27",
          "2020-11-30",
          "2020-12-01",
          "2020-12-02",
          "2020-12-03",
          "2020-12-04",
          "2020-12-07",
          "2020-12-08",
          "2020-12-09",
          "2020-12-10",
          "2020-12-11",
          "2020-12-14",
          "2020-12-15",
          "2020-12-16",
          "2020-12-17",
          "2020-12-18",
          "2020-12-21",
          "2020-12-22",
          "2020-12-23",
          "2020-12-28",
          "2020-12-29",
          "2020-12-30",
          "2021-01-04",
          "2021-01-05",
          "2021-01-06",
          "2021-01-07",
          "2021-01-08",
          "2021-01-11",
          "2021-01-12",
          "2021-01-13",
          "2021-01-14",
          "2021-01-15",
          "2021-01-18",
          "2021-01-19",
          "2021-01-20",
          "2021-01-21",
          "2021-01-22",
          "2021-01-26",
          "2021-01-27",
          "2021-01-28",
          "2021-01-29",
          "2021-02-01",
          "2021-02-02",
          "2021-02-03",
          "2021-02-04",
          "2021-02-05",
          "2021-02-08",
          "2021-02-09",
          "2021-02-10",
          "2021-02-11",
          "2021-02-12",
          "2021-02-17",
          "2021-02-18",
          "2021-02-19",
          "2021-02-22",
          "2021-02-23",
          "2021-02-24",
          "2021-02-25",
          "2021-02-26",
          "2021-03-01",
          "2021-03-02",
          "2021-03-03",
          "2021-03-04",
          "2021-03-05",
          "2021-03-08",
          "2021-03-09",
          "2021-03-10",
          "2021-03-11",
          "2021-03-12",
          "2021-03-15",
          "2021-03-16",
          "2021-03-17",
          "2021-03-18",
          "2021-03-19",
          "2021-03-22",
          "2021-03-23",
          "2021-03-24",
          "2021-03-25",
          "2021-03-26",
          "2021-03-29",
          "2021-03-30",
          "2021-03-31",
          "2021-04-01",
          "2021-04-05",
          "2021-04-06",
          "2021-04-07",
          "2021-04-08",
          "2021-04-09",
          "2021-04-12",
          "2021-04-13",
          "2021-04-14",
          "2021-04-15",
          "2021-04-16",
          "2021-04-19",
          "2021-04-20",
          "2021-04-22",
          "2021-04-23",
          "2021-04-26",
          "2021-04-27",
          "2021-04-28",
          "2021-04-29",
          "2021-04-30",
          "2021-05-03",
          "2021-05-04",
          "2021-05-05",
          "2021-05-06",
          "2021-05-07",
          "2021-05-10",
          "2021-05-11",
          "2021-05-12",
          "2021-05-13",
          "2021-05-14",
          "2021-05-17",
          "2021-05-18",
          "2021-05-19",
          "2021-05-20",
          "2021-05-21",
          "2021-05-24",
          "2021-05-25",
          "2021-05-26",
          "2021-05-27",
          "2021-05-28",
          "2021-05-31",
          "2021-06-01",
          "2021-06-02",
          "2021-06-04",
          "2021-06-07",
          "2021-06-08",
          "2021-06-09",
          "2021-06-10",
          "2021-06-11",
          "2021-06-14",
          "2021-06-15",
          "2021-06-16",
          "2021-06-17",
          "2021-06-18",
          "2021-06-21",
          "2021-06-22",
          "2021-06-23",
          "2021-06-24",
          "2021-06-25",
          "2021-06-28",
          "2021-06-29",
          "2021-06-30",
          "2021-07-01",
          "2021-07-02",
          "2021-07-05",
          "2021-07-06",
          "2021-07-07",
          "2021-07-08",
          "2021-07-12",
          "2021-07-13",
          "2021-07-14",
          "2021-07-15",
          "2021-07-16",
          "2021-07-19",
          "2021-07-20",
          "2021-07-21",
          "2021-07-22",
          "2021-07-23",
          "2021-07-26",
          "2021-07-27",
          "2021-07-28",
          "2021-07-29",
          "2021-07-30",
          "2021-08-02",
          "2021-08-03",
          "2021-08-04",
          "2021-08-05",
          "2021-08-06",
          "2021-08-09",
          "2021-08-10",
          "2021-08-11",
          "2021-08-12",
          "2021-08-13",
          "2021-08-16",
          "2021-08-17",
          "2021-08-18",
          "2021-08-19",
          "2021-08-20",
          "2021-08-23",
          "2021-08-24",
          "2021-08-25",
          "2021-08-26",
          "2021-08-27",
          "2021-08-30",
          "2021-08-31",
          "2021-09-01",
          "2021-09-02",
          "2021-09-03",
          "2021-09-06",
          "2021-09-08",
          "2021-09-09",
          "2021-09-10",
          "2021-09-13",
          "2021-09-14",
          "2021-09-15",
          "2021-09-16",
          "2021-09-17",
          "2021-09-20",
          "2021-09-21",
          "2021-09-22",
          "2021-09-23",
          "2021-09-24",
          "2021-09-27",
          "2021-09-28",
          "2021-09-29",
          "2021-09-30",
          "2021-10-01",
          "2021-10-04",
          "2021-10-05",
          "2021-10-06",
          "2021-10-07",
          "2021-10-08",
          "2021-10-11",
          "2021-10-13",
          "2021-10-14",
          "2021-10-15",
          "2021-10-18",
          "2021-10-19",
          "2021-10-20",
          "2021-10-21",
          "2021-10-22",
          "2021-10-25",
          "2021-10-26",
          "2021-10-27",
          "2021-10-28",
          "2021-10-29",
          "2021-11-01",
          "2021-11-03",
          "2021-11-04",
          "2021-11-05",
          "2021-11-08",
          "2021-11-09",
          "2021-11-10",
          "2021-11-11",
          "2021-11-12",
          "2021-11-16",
          "2021-11-17",
          "2021-11-18",
          "2021-11-19",
          "2021-11-22",
          "2021-11-23",
          "2021-11-24",
          "2021-11-25",
          "2021-11-26",
          "2021-11-29",
          "2021-11-30",
          "2021-12-01",
          "2021-12-02",
          "2021-12-03",
          "2021-12-06",
          "2021-12-07",
          "2021-12-08",
          "2021-12-09",
          "2021-12-10",
          "2021-12-13",
          "2021-12-14",
          "2021-12-15",
          "2021-12-16",
          "2021-12-17",
          "2021-12-20",
          "2021-12-21",
          "2021-12-22",
          "2021-12-23",
          "2021-12-27",
          "2021-12-28",
          "2021-12-29",
          "2021-12-30",
          "2022-01-03",
          "2022-01-04",
          "2022-01-05",
          "2022-01-06",
          "2022-01-07",
          "2022-01-10",
          "2022-01-11",
          "2022-01-12",
          "2022-01-13",
          "2022-01-14",
          "2022-01-17",
          "2022-01-18",
          "2022-01-19",
          "2022-01-20",
          "2022-01-21",
          "2022-01-24",
          "2022-01-25",
          "2022-01-26",
          "2022-01-27",
          "2022-01-28",
          "2022-01-31",
          "2022-02-01",
          "2022-02-02",
          "2022-02-03",
          "2022-02-04",
          "2022-02-07",
          "2022-02-08",
          "2022-02-09",
          "2022-02-10",
          "2022-02-11",
          "2022-02-14",
          "2022-02-15",
          "2022-02-16",
          "2022-02-17",
          "2022-02-18",
          "2022-02-21",
          "2022-02-22",
          "2022-02-23",
          "2022-02-24",
          "2022-02-25",
          "2022-03-02",
          "2022-03-03",
          "2022-03-04",
          "2022-03-07",
          "2022-03-08",
          "2022-03-09",
          "2022-03-10",
          "2022-03-11",
          "2022-03-14",
          "2022-03-15",
          "2022-03-16",
          "2022-03-17",
          "2022-03-18",
          "2022-03-21",
          "2022-03-22",
          "2022-03-23",
          "2022-03-24",
          "2022-03-25",
          "2022-03-28",
          "2022-03-29",
          "2022-03-30",
          "2022-03-31",
          "2022-04-01",
          "2022-04-04",
          "2022-04-05",
          "2022-04-06",
          "2022-04-07",
          "2022-04-08",
          "2022-04-11",
          "2022-04-12",
          "2022-04-13",
          "2022-04-14",
          "2022-04-18",
          "2022-04-19",
          "2022-04-20",
          "2022-04-22",
          "2022-04-25",
          "2022-04-26",
          "2022-04-27",
          "2022-04-28",
          "2022-04-29",
          "2022-05-02",
          "2022-05-03",
          "2022-05-04",
          "2022-05-05",
          "2022-05-06",
          "2022-05-09",
          "2022-05-10",
          "2022-05-11",
          "2022-05-12",
          "2022-05-13",
          "2022-05-16",
          "2022-05-17",
          "2022-05-18",
          "2022-05-19",
          "2022-05-20",
          "2022-05-23",
          "2022-05-24",
          "2022-05-25",
          "2022-05-26",
          "2022-05-27",
          "2022-05-30",
          "2022-05-31",
          "2022-06-01",
          "2022-06-02",
          "2022-06-03",
          "2022-06-06",
          "2022-06-07",
          "2022-06-08",
          "2022-06-09",
          "2022-06-10",
          "2022-06-13",
          "2022-06-14",
          "2022-06-15",
          "2022-06-17",
          "2022-06-20",
          "2022-06-21",
          "2022-06-22",
          "2022-06-23",
          "2022-06-24",
          "2022-06-27",
          "2022-06-28",
          "2022-06-29",
          "2022-06-30",
          "2022-07-01",
          "2022-07-04",
          "2022-07-05",
          "2022-07-06",
          "2022-07-07",
          "2022-07-08",
          "2022-07-11",
          "2022-07-12",
          "2022-07-13",
          "2022-07-14",
          "2022-07-15",
          "2022-07-18",
          "2022-07-19",
          "2022-07-20",
          "2022-07-21",
          "2022-07-22",
          "2022-07-25",
          "2022-07-26",
          "2022-07-27",
          "2022-07-28",
          "2022-07-29",
          "2022-08-01",
          "2022-08-02",
          "2022-08-03",
          "2022-08-04",
          "2022-08-05",
          "2022-08-08",
          "2022-08-09",
          "2022-08-10",
          "2022-08-11",
          "2022-08-12",
          "2022-08-15",
          "2022-08-16",
          "2022-08-17",
          "2022-08-18",
          "2022-08-19",
          "2022-08-22",
          "2022-08-23",
          "2022-08-24",
          "2022-08-25",
          "2022-08-26",
          "2022-08-29",
          "2022-08-30",
          "2022-08-31",
          "2022-09-01",
          "2022-09-02",
          "2022-09-05",
          "2022-09-06",
          "2022-09-08",
          "2022-09-09",
          "2022-09-12",
          "2022-09-13",
          "2022-09-14",
          "2022-09-15",
          "2022-09-16"
         ],
         "y": {
          "bdata": "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",
          "dtype": "f8"
         }
        }
       ],
       "layout": {
        "hovermode": "x unified",
        "legend": {
         "orientation": "h",
         "x": 0.98,
         "xanchor": "right",
         "y": 0.98,
         "yanchor": "top"
        },
        "template": {
         "data": {
          "bar": [
           {
            "error_x": {
             "color": "#2a3f5f"
            },
            "error_y": {
             "color": "#2a3f5f"
            },
            "marker": {
             "line": {
              "color": "#E5ECF6",
              "width": 0.5
             },
             "pattern": {
              "fillmode": "overlay",
              "size": 10,
              "solidity": 0.2
             }
            },
            "type": "bar"
           }
          ],
          "barpolar": [
           {
            "marker": {
             "line": {
              "color": "#E5ECF6",
              "width": 0.5
             },
             "pattern": {
              "fillmode": "overlay",
              "size": 10,
              "solidity": 0.2
             }
            },
            "type": "barpolar"
           }
          ],
          "carpet": [
           {
            "aaxis": {
             "endlinecolor": "#2a3f5f",
             "gridcolor": "white",
             "linecolor": "white",
             "minorgridcolor": "white",
             "startlinecolor": "#2a3f5f"
            },
            "baxis": {
             "endlinecolor": "#2a3f5f",
             "gridcolor": "white",
             "linecolor": "white",
             "minorgridcolor": "white",
             "startlinecolor": "#2a3f5f"
            },
            "type": "carpet"
           }
          ],
          "choropleth": [
           {
            "colorbar": {
             "outlinewidth": 0,
             "ticks": ""
            },
            "type": "choropleth"
           }
          ],
          "contour": [
           {
            "colorbar": {
             "outlinewidth": 0,
             "ticks": ""
            },
            "colorscale": [
             [
              0,
              "#0d0887"
             ],
             [
              0.1111111111111111,
              "#46039f"
             ],
             [
              0.2222222222222222,
              "#7201a8"
             ],
             [
              0.3333333333333333,
              "#9c179e"
             ],
             [
              0.4444444444444444,
              "#bd3786"
             ],
             [
              0.5555555555555556,
              "#d8576b"
             ],
             [
              0.6666666666666666,
              "#ed7953"
             ],
             [
              0.7777777777777778,
              "#fb9f3a"
             ],
             [
              0.8888888888888888,
              "#fdca26"
             ],
             [
              1,
              "#f0f921"
             ]
            ],
            "type": "contour"
           }
          ],
          "contourcarpet": [
           {
            "colorbar": {
             "outlinewidth": 0,
             "ticks": ""
            },
            "type": "contourcarpet"
           }
          ],
          "heatmap": [
           {
            "colorbar": {
             "outlinewidth": 0,
             "ticks": ""
            },
            "colorscale": [
             [
              0,
              "#0d0887"
             ],
             [
              0.1111111111111111,
              "#46039f"
             ],
             [
              0.2222222222222222,
              "#7201a8"
             ],
             [
              0.3333333333333333,
              "#9c179e"
             ],
             [
              0.4444444444444444,
              "#bd3786"
             ],
             [
              0.5555555555555556,
              "#d8576b"
             ],
             [
              0.6666666666666666,
              "#ed7953"
             ],
             [
              0.7777777777777778,
              "#fb9f3a"
             ],
             [
              0.8888888888888888,
              "#fdca26"
             ],
             [
              1,
              "#f0f921"
             ]
            ],
            "type": "heatmap"
           }
          ],
          "histogram": [
           {
            "marker": {
             "pattern": {
              "fillmode": "overlay",
              "size": 10,
              "solidity": 0.2
             }
            },
            "type": "histogram"
           }
          ],
          "histogram2d": [
           {
            "colorbar": {
             "outlinewidth": 0,
             "ticks": ""
            },
            "colorscale": [
             [
              0,
              "#0d0887"
             ],
             [
              0.1111111111111111,
              "#46039f"
             ],
             [
              0.2222222222222222,
              "#7201a8"
             ],
             [
              0.3333333333333333,
              "#9c179e"
             ],
             [
              0.4444444444444444,
              "#bd3786"
             ],
             [
              0.5555555555555556,
              "#d8576b"
             ],
             [
              0.6666666666666666,
              "#ed7953"
             ],
             [
              0.7777777777777778,
              "#fb9f3a"
             ],
             [
              0.8888888888888888,
              "#fdca26"
             ],
             [
              1,
              "#f0f921"
             ]
            ],
            "type": "histogram2d"
           }
          ],
          "histogram2dcontour": [
           {
            "colorbar": {
             "outlinewidth": 0,
             "ticks": ""
            },
            "colorscale": [
             [
              0,
              "#0d0887"
             ],
             [
              0.1111111111111111,
              "#46039f"
             ],
             [
              0.2222222222222222,
              "#7201a8"
             ],
             [
              0.3333333333333333,
              "#9c179e"
             ],
             [
              0.4444444444444444,
              "#bd3786"
             ],
             [
              0.5555555555555556,
              "#d8576b"
             ],
             [
              0.6666666666666666,
              "#ed7953"
             ],
             [
              0.7777777777777778,
              "#fb9f3a"
             ],
             [
              0.8888888888888888,
              "#fdca26"
             ],
             [
              1,
              "#f0f921"
             ]
            ],
            "type": "histogram2dcontour"
           }
          ],
          "mesh3d": [
           {
            "colorbar": {
             "outlinewidth": 0,
             "ticks": ""
            },
            "type": "mesh3d"
           }
          ],
          "parcoords": [
           {
            "line": {
             "colorbar": {
              "outlinewidth": 0,
              "ticks": ""
             }
            },
            "type": "parcoords"
           }
          ],
          "pie": [
           {
            "automargin": true,
            "type": "pie"
           }
          ],
          "scatter": [
           {
            "fillpattern": {
             "fillmode": "overlay",
             "size": 10,
             "solidity": 0.2
            },
            "type": "scatter"
           }
          ],
          "scatter3d": [
           {
            "line": {
             "colorbar": {
              "outlinewidth": 0,
              "ticks": ""
             }
            },
            "marker": {
             "colorbar": {
              "outlinewidth": 0,
              "ticks": ""
             }
            },
            "type": "scatter3d"
           }
          ],
          "scattercarpet": [
           {
            "marker": {
             "colorbar": {
              "outlinewidth": 0,
              "ticks": ""
             }
            },
            "type": "scattercarpet"
           }
          ],
          "scattergeo": [
           {
            "marker": {
             "colorbar": {
              "outlinewidth": 0,
              "ticks": ""
             }
            },
            "type": "scattergeo"
           }
          ],
          "scattergl": [
           {
            "marker": {
             "colorbar": {
              "outlinewidth": 0,
              "ticks": ""
             }
            },
            "type": "scattergl"
           }
          ],
          "scattermap": [
           {
            "marker": {
             "colorbar": {
              "outlinewidth": 0,
              "ticks": ""
             }
            },
            "type": "scattermap"
           }
          ],
          "scattermapbox": [
           {
            "marker": {
             "colorbar": {
              "outlinewidth": 0,
              "ticks": ""
             }
            },
            "type": "scattermapbox"
           }
          ],
          "scatterpolar": [
           {
            "marker": {
             "colorbar": {
              "outlinewidth": 0,
              "ticks": ""
             }
            },
            "type": "scatterpolar"
           }
          ],
          "scatterpolargl": [
           {
            "marker": {
             "colorbar": {
              "outlinewidth": 0,
              "ticks": ""
             }
            },
            "type": "scatterpolargl"
           }
          ],
          "scatterternary": [
           {
            "marker": {
             "colorbar": {
              "outlinewidth": 0,
              "ticks": ""
             }
            },
            "type": "scatterternary"
           }
          ],
          "surface": [
           {
            "colorbar": {
             "outlinewidth": 0,
             "ticks": ""
            },
            "colorscale": [
             [
              0,
              "#0d0887"
             ],
             [
              0.1111111111111111,
              "#46039f"
             ],
             [
              0.2222222222222222,
              "#7201a8"
             ],
             [
              0.3333333333333333,
              "#9c179e"
             ],
             [
              0.4444444444444444,
              "#bd3786"
             ],
             [
              0.5555555555555556,
              "#d8576b"
             ],
             [
              0.6666666666666666,
              "#ed7953"
             ],
             [
              0.7777777777777778,
              "#fb9f3a"
             ],
             [
              0.8888888888888888,
              "#fdca26"
             ],
             [
              1,
              "#f0f921"
             ]
            ],
            "type": "surface"
           }
          ],
          "table": [
           {
            "cells": {
             "fill": {
              "color": "#EBF0F8"
             },
             "line": {
              "color": "white"
             }
            },
            "header": {
             "fill": {
              "color": "#C8D4E3"
             },
             "line": {
              "color": "white"
             }
            },
            "type": "table"
           }
          ]
         },
         "layout": {
          "annotationdefaults": {
           "arrowcolor": "#2a3f5f",
           "arrowhead": 0,
           "arrowwidth": 1
          },
          "autotypenumbers": "strict",
          "coloraxis": {
           "colorbar": {
            "outlinewidth": 0,
            "ticks": ""
           }
          },
          "colorscale": {
           "diverging": [
            [
             0,
             "#8e0152"
            ],
            [
             0.1,
             "#c51b7d"
            ],
            [
             0.2,
             "#de77ae"
            ],
            [
             0.3,
             "#f1b6da"
            ],
            [
             0.4,
             "#fde0ef"
            ],
            [
             0.5,
             "#f7f7f7"
            ],
            [
             0.6,
             "#e6f5d0"
            ],
            [
             0.7,
             "#b8e186"
            ],
            [
             0.8,
             "#7fbc41"
            ],
            [
             0.9,
             "#4d9221"
            ],
            [
             1,
             "#276419"
            ]
           ],
           "sequential": [
            [
             0,
             "#0d0887"
            ],
            [
             0.1111111111111111,
             "#46039f"
            ],
            [
             0.2222222222222222,
             "#7201a8"
            ],
            [
             0.3333333333333333,
             "#9c179e"
            ],
            [
             0.4444444444444444,
             "#bd3786"
            ],
            [
             0.5555555555555556,
             "#d8576b"
            ],
            [
             0.6666666666666666,
             "#ed7953"
            ],
            [
             0.7777777777777778,
             "#fb9f3a"
            ],
            [
             0.8888888888888888,
             "#fdca26"
            ],
            [
             1,
             "#f0f921"
            ]
           ],
           "sequentialminus": [
            [
             0,
             "#0d0887"
            ],
            [
             0.1111111111111111,
             "#46039f"
            ],
            [
             0.2222222222222222,
             "#7201a8"
            ],
            [
             0.3333333333333333,
             "#9c179e"
            ],
            [
             0.4444444444444444,
             "#bd3786"
            ],
            [
             0.5555555555555556,
             "#d8576b"
            ],
            [
             0.6666666666666666,
             "#ed7953"
            ],
            [
             0.7777777777777778,
             "#fb9f3a"
            ],
            [
             0.8888888888888888,
             "#fdca26"
            ],
            [
             1,
             "#f0f921"
            ]
           ]
          },
          "colorway": [
           "#636efa",
           "#EF553B",
           "#00cc96",
           "#ab63fa",
           "#FFA15A",
           "#19d3f3",
           "#FF6692",
           "#B6E880",
           "#FF97FF",
           "#FECB52"
          ],
          "font": {
           "color": "#2a3f5f"
          },
          "geo": {
           "bgcolor": "white",
           "lakecolor": "white",
           "landcolor": "#E5ECF6",
           "showlakes": true,
           "showland": true,
           "subunitcolor": "white"
          },
          "hoverlabel": {
           "align": "left"
          },
          "hovermode": "closest",
          "mapbox": {
           "style": "light"
          },
          "paper_bgcolor": "white",
          "plot_bgcolor": "#E5ECF6",
          "polar": {
           "angularaxis": {
            "gridcolor": "white",
            "linecolor": "white",
            "ticks": ""
           },
           "bgcolor": "#E5ECF6",
           "radialaxis": {
            "gridcolor": "white",
            "linecolor": "white",
            "ticks": ""
           }
          },
          "scene": {
           "xaxis": {
            "backgroundcolor": "#E5ECF6",
            "gridcolor": "white",
            "gridwidth": 2,
            "linecolor": "white",
            "showbackground": true,
            "ticks": "",
            "zerolinecolor": "white"
           },
           "yaxis": {
            "backgroundcolor": "#E5ECF6",
            "gridcolor": "white",
            "gridwidth": 2,
            "linecolor": "white",
            "showbackground": true,
            "ticks": "",
            "zerolinecolor": "white"
           },
           "zaxis": {
            "backgroundcolor": "#E5ECF6",
            "gridcolor": "white",
            "gridwidth": 2,
            "linecolor": "white",
            "showbackground": true,
            "ticks": "",
            "zerolinecolor": "white"
           }
          },
          "shapedefaults": {
           "line": {
            "color": "#2a3f5f"
           }
          },
          "ternary": {
           "aaxis": {
            "gridcolor": "white",
            "linecolor": "white",
            "ticks": ""
           },
           "baxis": {
            "gridcolor": "white",
            "linecolor": "white",
            "ticks": ""
           },
           "bgcolor": "#E5ECF6",
           "caxis": {
            "gridcolor": "white",
            "linecolor": "white",
            "ticks": ""
           }
          },
          "title": {
           "x": 0.05
          },
          "xaxis": {
           "automargin": true,
           "gridcolor": "white",
           "linecolor": "white",
           "ticks": "",
           "title": {
            "standoff": 15
           },
           "zerolinecolor": "white",
           "zerolinewidth": 2
          },
          "yaxis": {
           "automargin": true,
           "gridcolor": "white",
           "linecolor": "white",
           "ticks": "",
           "title": {
            "standoff": 15
           },
           "zerolinecolor": "white",
           "zerolinewidth": 2
          }
         }
        },
        "title": {
         "text": "PETR4 - Strategy with model_2 vs. Buy and Hold Strategy",
         "x": 0.5
        },
        "xaxis": {
         "title": {
          "text": "Data"
         }
        },
        "yaxis": {
         "title": {
          "text": "Valor"
         }
        }
       }
      }
     },
     "metadata": {},
     "output_type": "display_data"
    },
    {
     "data": {
      "application/vnd.plotly.v1+json": {
       "config": {
        "plotlyServerURL": "https://plot.ly"
       },
       "data": [
        {
         "mode": "lines",
         "name": "Strategy with model_2",
         "type": "scatter",
         "x": [
          "2019-10-23",
          "2019-10-24",
          "2019-10-25",
          "2019-10-28",
          "2019-10-29",
          "2019-10-30",
          "2019-10-31",
          "2019-11-01",
          "2019-11-04",
          "2019-11-05",
          "2019-11-06",
          "2019-11-07",
          "2019-11-08",
          "2019-11-11",
          "2019-11-12",
          "2019-11-13",
          "2019-11-14",
          "2019-11-18",
          "2019-11-19",
          "2019-11-21",
          "2019-11-22",
          "2019-11-25",
          "2019-11-26",
          "2019-11-27",
          "2019-11-28",
          "2019-11-29",
          "2019-12-02",
          "2019-12-03",
          "2019-12-04",
          "2019-12-05",
          "2019-12-06",
          "2019-12-09",
          "2019-12-10",
          "2019-12-11",
          "2019-12-12",
          "2019-12-13",
          "2019-12-16",
          "2019-12-17",
          "2019-12-18",
          "2019-12-19",
          "2019-12-20",
          "2019-12-23",
          "2019-12-26",
          "2019-12-27",
          "2019-12-30",
          "2020-01-02",
          "2020-01-03",
          "2020-01-06",
          "2020-01-07",
          "2020-01-08",
          "2020-01-09",
          "2020-01-10",
          "2020-01-13",
          "2020-01-14",
          "2020-01-15",
          "2020-01-16",
          "2020-01-17",
          "2020-01-20",
          "2020-01-21",
          "2020-01-22",
          "2020-01-23",
          "2020-01-24",
          "2020-01-27",
          "2020-01-28",
          "2020-01-29",
          "2020-01-30",
          "2020-01-31",
          "2020-02-03",
          "2020-02-04",
          "2020-02-05",
          "2020-02-06",
          "2020-02-07",
          "2020-02-10",
          "2020-02-11",
          "2020-02-12",
          "2020-02-13",
          "2020-02-14",
          "2020-02-17",
          "2020-02-18",
          "2020-02-19",
          "2020-02-20",
          "2020-02-21",
          "2020-02-26",
          "2020-02-27",
          "2020-02-28",
          "2020-03-02",
          "2020-03-03",
          "2020-03-04",
          "2020-03-05",
          "2020-03-06",
          "2020-03-09",
          "2020-03-10",
          "2020-03-11",
          "2020-03-12",
          "2020-03-13",
          "2020-03-16",
          "2020-03-17",
          "2020-03-18",
          "2020-03-19",
          "2020-03-20",
          "2020-03-23",
          "2020-03-24",
          "2020-03-25",
          "2020-03-26",
          "2020-03-27",
          "2020-03-30",
          "2020-03-31",
          "2020-04-01",
          "2020-04-02",
          "2020-04-03",
          "2020-04-06",
          "2020-04-07",
          "2020-04-08",
          "2020-04-09",
          "2020-04-13",
          "2020-04-14",
          "2020-04-15",
          "2020-04-16",
          "2020-04-17",
          "2020-04-20",
          "2020-04-22",
          "2020-04-23",
          "2020-04-24",
          "2020-04-27",
          "2020-04-28",
          "2020-04-29",
          "2020-04-30",
          "2020-05-04",
          "2020-05-05",
          "2020-05-06",
          "2020-05-07",
          "2020-05-08",
          "2020-05-11",
          "2020-05-12",
          "2020-05-13",
          "2020-05-14",
          "2020-05-15",
          "2020-05-18",
          "2020-05-19",
          "2020-05-20",
          "2020-05-21",
          "2020-05-22",
          "2020-05-25",
          "2020-05-26",
          "2020-05-27",
          "2020-05-28",
          "2020-05-29",
          "2020-06-01",
          "2020-06-02",
          "2020-06-03",
          "2020-06-04",
          "2020-06-05",
          "2020-06-08",
          "2020-06-09",
          "2020-06-10",
          "2020-06-12",
          "2020-06-15",
          "2020-06-16",
          "2020-06-17",
          "2020-06-18",
          "2020-06-19",
          "2020-06-22",
          "2020-06-23",
          "2020-06-24",
          "2020-06-25",
          "2020-06-26",
          "2020-06-29",
          "2020-06-30",
          "2020-07-01",
          "2020-07-02",
          "2020-07-03",
          "2020-07-06",
          "2020-07-07",
          "2020-07-08",
          "2020-07-09",
          "2020-07-10",
          "2020-07-13",
          "2020-07-14",
          "2020-07-15",
          "2020-07-16",
          "2020-07-17",
          "2020-07-20",
          "2020-07-21",
          "2020-07-22",
          "2020-07-23",
          "2020-07-24",
          "2020-07-27",
          "2020-07-28",
          "2020-07-29",
          "2020-07-30",
          "2020-07-31",
          "2020-08-03",
          "2020-08-04",
          "2020-08-05",
          "2020-08-06",
          "2020-08-07",
          "2020-08-10",
          "2020-08-11",
          "2020-08-12",
          "2020-08-13",
          "2020-08-14",
          "2020-08-17",
          "2020-08-18",
          "2020-08-19",
          "2020-08-20",
          "2020-08-21",
          "2020-08-24",
          "2020-08-25",
          "2020-08-26",
          "2020-08-27",
          "2020-08-28",
          "2020-08-31",
          "2020-09-01",
          "2020-09-02",
          "2020-09-03",
          "2020-09-04",
          "2020-09-08",
          "2020-09-09",
          "2020-09-10",
          "2020-09-11",
          "2020-09-14",
          "2020-09-15",
          "2020-09-16",
          "2020-09-17",
          "2020-09-18",
          "2020-09-21",
          "2020-09-22",
          "2020-09-23",
          "2020-09-24",
          "2020-09-25",
          "2020-09-28",
          "2020-09-29",
          "2020-09-30",
          "2020-10-01",
          "2020-10-02",
          "2020-10-05",
          "2020-10-06",
          "2020-10-07",
          "2020-10-08",
          "2020-10-09",
          "2020-10-13",
          "2020-10-14",
          "2020-10-15",
          "2020-10-16",
          "2020-10-19",
          "2020-10-20",
          "2020-10-21",
          "2020-10-22",
          "2020-10-23",
          "2020-10-26",
          "2020-10-27",
          "2020-10-28",
          "2020-10-29",
          "2020-10-30",
          "2020-11-03",
          "2020-11-04",
          "2020-11-05",
          "2020-11-06",
          "2020-11-09",
          "2020-11-10",
          "2020-11-11",
          "2020-11-12",
          "2020-11-13",
          "2020-11-16",
          "2020-11-17",
          "2020-11-18",
          "2020-11-19",
          "2020-11-23",
          "2020-11-24",
          "2020-11-25",
          "2020-11-26",
          "2020-11-27",
          "2020-11-30",
          "2020-12-01",
          "2020-12-02",
          "2020-12-03",
          "2020-12-04",
          "2020-12-07",
          "2020-12-08",
          "2020-12-09",
          "2020-12-10",
          "2020-12-11",
          "2020-12-14",
          "2020-12-15",
          "2020-12-16",
          "2020-12-17",
          "2020-12-18",
          "2020-12-21",
          "2020-12-22",
          "2020-12-23",
          "2020-12-28",
          "2020-12-29",
          "2020-12-30",
          "2021-01-04",
          "2021-01-05",
          "2021-01-06",
          "2021-01-07",
          "2021-01-08",
          "2021-01-11",
          "2021-01-12",
          "2021-01-13",
          "2021-01-14",
          "2021-01-15",
          "2021-01-18",
          "2021-01-19",
          "2021-01-20",
          "2021-01-21",
          "2021-01-22",
          "2021-01-26",
          "2021-01-27",
          "2021-01-28",
          "2021-01-29",
          "2021-02-01",
          "2021-02-02",
          "2021-02-03",
          "2021-02-04",
          "2021-02-05",
          "2021-02-08",
          "2021-02-09",
          "2021-02-10",
          "2021-02-11",
          "2021-02-12",
          "2021-02-17",
          "2021-02-18",
          "2021-02-19",
          "2021-02-22",
          "2021-02-23",
          "2021-02-24",
          "2021-02-25",
          "2021-02-26",
          "2021-03-01",
          "2021-03-02",
          "2021-03-03",
          "2021-03-04",
          "2021-03-05",
          "2021-03-08",
          "2021-03-09",
          "2021-03-10",
          "2021-03-11",
          "2021-03-12",
          "2021-03-15",
          "2021-03-16",
          "2021-03-17",
          "2021-03-18",
          "2021-03-19",
          "2021-03-22",
          "2021-03-23",
          "2021-03-24",
          "2021-03-25",
          "2021-03-26",
          "2021-03-29",
          "2021-03-30",
          "2021-03-31",
          "2021-04-01",
          "2021-04-05",
          "2021-04-06",
          "2021-04-07",
          "2021-04-08",
          "2021-04-09",
          "2021-04-12",
          "2021-04-13",
          "2021-04-14",
          "2021-04-15",
          "2021-04-16",
          "2021-04-19",
          "2021-04-20",
          "2021-04-22",
          "2021-04-23",
          "2021-04-26",
          "2021-04-27",
          "2021-04-28",
          "2021-04-29",
          "2021-04-30",
          "2021-05-03",
          "2021-05-04",
          "2021-05-05",
          "2021-05-06",
          "2021-05-07",
          "2021-05-10",
          "2021-05-11",
          "2021-05-12",
          "2021-05-13",
          "2021-05-14",
          "2021-05-17",
          "2021-05-18",
          "2021-05-19",
          "2021-05-20",
          "2021-05-21",
          "2021-05-24",
          "2021-05-25",
          "2021-05-26",
          "2021-05-27",
          "2021-05-28",
          "2021-05-31",
          "2021-06-01",
          "2021-06-02",
          "2021-06-04",
          "2021-06-07",
          "2021-06-08",
          "2021-06-09",
          "2021-06-10",
          "2021-06-11",
          "2021-06-14",
          "2021-06-15",
          "2021-06-16",
          "2021-06-17",
          "2021-06-18",
          "2021-06-21",
          "2021-06-22",
          "2021-06-23",
          "2021-06-24",
          "2021-06-25",
          "2021-06-28",
          "2021-06-29",
          "2021-06-30",
          "2021-07-01",
          "2021-07-02",
          "2021-07-05",
          "2021-07-06",
          "2021-07-07",
          "2021-07-08",
          "2021-07-12",
          "2021-07-13",
          "2021-07-14",
          "2021-07-15",
          "2021-07-16",
          "2021-07-19",
          "2021-07-20",
          "2021-07-21",
          "2021-07-22",
          "2021-07-23",
          "2021-07-26",
          "2021-07-27",
          "2021-07-28",
          "2021-07-29",
          "2021-07-30",
          "2021-08-02",
          "2021-08-03",
          "2021-08-04",
          "2021-08-05",
          "2021-08-06",
          "2021-08-09",
          "2021-08-10",
          "2021-08-11",
          "2021-08-12",
          "2021-08-13",
          "2021-08-16",
          "2021-08-17",
          "2021-08-18",
          "2021-08-19",
          "2021-08-20",
          "2021-08-23",
          "2021-08-24",
          "2021-08-25",
          "2021-08-26",
          "2021-08-27",
          "2021-08-30",
          "2021-08-31",
          "2021-09-01",
          "2021-09-02",
          "2021-09-03",
          "2021-09-06",
          "2021-09-08",
          "2021-09-09",
          "2021-09-10",
          "2021-09-13",
          "2021-09-14",
          "2021-09-15",
          "2021-09-16",
          "2021-09-17",
          "2021-09-20",
          "2021-09-21",
          "2021-09-22",
          "2021-09-23",
          "2021-09-24",
          "2021-09-27",
          "2021-09-28",
          "2021-09-29",
          "2021-09-30",
          "2021-10-01",
          "2021-10-04",
          "2021-10-05",
          "2021-10-06",
          "2021-10-07",
          "2021-10-08",
          "2021-10-11",
          "2021-10-13",
          "2021-10-14",
          "2021-10-15",
          "2021-10-18",
          "2021-10-19",
          "2021-10-20",
          "2021-10-21",
          "2021-10-22",
          "2021-10-25",
          "2021-10-26",
          "2021-10-27",
          "2021-10-28",
          "2021-10-29",
          "2021-11-01",
          "2021-11-03",
          "2021-11-04",
          "2021-11-05",
          "2021-11-08",
          "2021-11-09",
          "2021-11-10",
          "2021-11-11",
          "2021-11-12",
          "2021-11-16",
          "2021-11-17",
          "2021-11-18",
          "2021-11-19",
          "2021-11-22",
          "2021-11-23",
          "2021-11-24",
          "2021-11-25",
          "2021-11-26",
          "2021-11-29",
          "2021-11-30",
          "2021-12-01",
          "2021-12-02",
          "2021-12-03",
          "2021-12-06",
          "2021-12-07",
          "2021-12-08",
          "2021-12-09",
          "2021-12-10",
          "2021-12-13",
          "2021-12-14",
          "2021-12-15",
          "2021-12-16",
          "2021-12-17",
          "2021-12-20",
          "2021-12-21",
          "2021-12-22",
          "2021-12-23",
          "2021-12-27",
          "2021-12-28",
          "2021-12-29",
          "2021-12-30",
          "2022-01-03",
          "2022-01-04",
          "2022-01-05",
          "2022-01-06",
          "2022-01-07",
          "2022-01-10",
          "2022-01-11",
          "2022-01-12",
          "2022-01-13",
          "2022-01-14",
          "2022-01-17",
          "2022-01-18",
          "2022-01-19",
          "2022-01-20",
          "2022-01-21",
          "2022-01-24",
          "2022-01-25",
          "2022-01-26",
          "2022-01-27",
          "2022-01-28",
          "2022-01-31",
          "2022-02-01",
          "2022-02-02",
          "2022-02-03",
          "2022-02-04",
          "2022-02-07",
          "2022-02-08",
          "2022-02-09",
          "2022-02-10",
          "2022-02-11",
          "2022-02-14",
          "2022-02-15",
          "2022-02-16",
          "2022-02-17",
          "2022-02-18",
          "2022-02-21",
          "2022-02-22",
          "2022-02-23",
          "2022-02-24",
          "2022-02-25",
          "2022-03-02",
          "2022-03-03",
          "2022-03-04",
          "2022-03-07",
          "2022-03-08",
          "2022-03-09",
          "2022-03-10",
          "2022-03-11",
          "2022-03-14",
          "2022-03-15",
          "2022-03-16",
          "2022-03-17",
          "2022-03-18",
          "2022-03-21",
          "2022-03-22",
          "2022-03-23",
          "2022-03-24",
          "2022-03-25",
          "2022-03-28",
          "2022-03-29",
          "2022-03-30",
          "2022-03-31",
          "2022-04-01",
          "2022-04-04",
          "2022-04-05",
          "2022-04-06",
          "2022-04-07",
          "2022-04-08",
          "2022-04-11",
          "2022-04-12",
          "2022-04-13",
          "2022-04-14",
          "2022-04-18",
          "2022-04-19",
          "2022-04-20",
          "2022-04-22",
          "2022-04-25",
          "2022-04-26",
          "2022-04-27",
          "2022-04-28",
          "2022-04-29",
          "2022-05-02",
          "2022-05-03",
          "2022-05-04",
          "2022-05-05",
          "2022-05-06",
          "2022-05-09",
          "2022-05-10",
          "2022-05-11",
          "2022-05-12",
          "2022-05-13",
          "2022-05-16",
          "2022-05-17",
          "2022-05-18",
          "2022-05-19",
          "2022-05-20",
          "2022-05-23",
          "2022-05-24",
          "2022-05-25",
          "2022-05-26",
          "2022-05-27",
          "2022-05-30",
          "2022-05-31",
          "2022-06-01",
          "2022-06-02",
          "2022-06-03",
          "2022-06-06",
          "2022-06-07",
          "2022-06-08",
          "2022-06-09",
          "2022-06-10",
          "2022-06-13",
          "2022-06-14",
          "2022-06-15",
          "2022-06-17",
          "2022-06-20",
          "2022-06-21",
          "2022-06-22",
          "2022-06-23",
          "2022-06-24",
          "2022-06-27",
          "2022-06-28",
          "2022-06-29",
          "2022-06-30",
          "2022-07-01",
          "2022-07-04",
          "2022-07-05",
          "2022-07-06",
          "2022-07-07",
          "2022-07-08",
          "2022-07-11",
          "2022-07-12",
          "2022-07-13",
          "2022-07-14",
          "2022-07-15",
          "2022-07-18",
          "2022-07-19",
          "2022-07-20",
          "2022-07-21",
          "2022-07-22",
          "2022-07-25",
          "2022-07-26",
          "2022-07-27",
          "2022-07-28",
          "2022-07-29",
          "2022-08-01",
          "2022-08-02",
          "2022-08-03",
          "2022-08-04",
          "2022-08-05",
          "2022-08-08",
          "2022-08-09",
          "2022-08-10",
          "2022-08-11",
          "2022-08-12",
          "2022-08-15",
          "2022-08-16",
          "2022-08-17",
          "2022-08-18",
          "2022-08-19",
          "2022-08-22",
          "2022-08-23",
          "2022-08-24",
          "2022-08-25",
          "2022-08-26",
          "2022-08-29",
          "2022-08-30",
          "2022-08-31",
          "2022-09-01",
          "2022-09-02",
          "2022-09-05",
          "2022-09-06",
          "2022-09-08",
          "2022-09-09",
          "2022-09-12",
          "2022-09-13",
          "2022-09-14",
          "2022-09-15",
          "2022-09-16"
         ],
         "y": {
          "bdata": "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",
          "dtype": "f8"
         }
        },
        {
         "mode": "lines",
         "name": "Buy & Hold",
         "type": "scatter",
         "x": [
          "2019-10-23",
          "2019-10-24",
          "2019-10-25",
          "2019-10-28",
          "2019-10-29",
          "2019-10-30",
          "2019-10-31",
          "2019-11-01",
          "2019-11-04",
          "2019-11-05",
          "2019-11-06",
          "2019-11-07",
          "2019-11-08",
          "2019-11-11",
          "2019-11-12",
          "2019-11-13",
          "2019-11-14",
          "2019-11-18",
          "2019-11-19",
          "2019-11-21",
          "2019-11-22",
          "2019-11-25",
          "2019-11-26",
          "2019-11-27",
          "2019-11-28",
          "2019-11-29",
          "2019-12-02",
          "2019-12-03",
          "2019-12-04",
          "2019-12-05",
          "2019-12-06",
          "2019-12-09",
          "2019-12-10",
          "2019-12-11",
          "2019-12-12",
          "2019-12-13",
          "2019-12-16",
          "2019-12-17",
          "2019-12-18",
          "2019-12-19",
          "2019-12-20",
          "2019-12-23",
          "2019-12-26",
          "2019-12-27",
          "2019-12-30",
          "2020-01-02",
          "2020-01-03",
          "2020-01-06",
          "2020-01-07",
          "2020-01-08",
          "2020-01-09",
          "2020-01-10",
          "2020-01-13",
          "2020-01-14",
          "2020-01-15",
          "2020-01-16",
          "2020-01-17",
          "2020-01-20",
          "2020-01-21",
          "2020-01-22",
          "2020-01-23",
          "2020-01-24",
          "2020-01-27",
          "2020-01-28",
          "2020-01-29",
          "2020-01-30",
          "2020-01-31",
          "2020-02-03",
          "2020-02-04",
          "2020-02-05",
          "2020-02-06",
          "2020-02-07",
          "2020-02-10",
          "2020-02-11",
          "2020-02-12",
          "2020-02-13",
          "2020-02-14",
          "2020-02-17",
          "2020-02-18",
          "2020-02-19",
          "2020-02-20",
          "2020-02-21",
          "2020-02-26",
          "2020-02-27",
          "2020-02-28",
          "2020-03-02",
          "2020-03-03",
          "2020-03-04",
          "2020-03-05",
          "2020-03-06",
          "2020-03-09",
          "2020-03-10",
          "2020-03-11",
          "2020-03-12",
          "2020-03-13",
          "2020-03-16",
          "2020-03-17",
          "2020-03-18",
          "2020-03-19",
          "2020-03-20",
          "2020-03-23",
          "2020-03-24",
          "2020-03-25",
          "2020-03-26",
          "2020-03-27",
          "2020-03-30",
          "2020-03-31",
          "2020-04-01",
          "2020-04-02",
          "2020-04-03",
          "2020-04-06",
          "2020-04-07",
          "2020-04-08",
          "2020-04-09",
          "2020-04-13",
          "2020-04-14",
          "2020-04-15",
          "2020-04-16",
          "2020-04-17",
          "2020-04-20",
          "2020-04-22",
          "2020-04-23",
          "2020-04-24",
          "2020-04-27",
          "2020-04-28",
          "2020-04-29",
          "2020-04-30",
          "2020-05-04",
          "2020-05-05",
          "2020-05-06",
          "2020-05-07",
          "2020-05-08",
          "2020-05-11",
          "2020-05-12",
          "2020-05-13",
          "2020-05-14",
          "2020-05-15",
          "2020-05-18",
          "2020-05-19",
          "2020-05-20",
          "2020-05-21",
          "2020-05-22",
          "2020-05-25",
          "2020-05-26",
          "2020-05-27",
          "2020-05-28",
          "2020-05-29",
          "2020-06-01",
          "2020-06-02",
          "2020-06-03",
          "2020-06-04",
          "2020-06-05",
          "2020-06-08",
          "2020-06-09",
          "2020-06-10",
          "2020-06-12",
          "2020-06-15",
          "2020-06-16",
          "2020-06-17",
          "2020-06-18",
          "2020-06-19",
          "2020-06-22",
          "2020-06-23",
          "2020-06-24",
          "2020-06-25",
          "2020-06-26",
          "2020-06-29",
          "2020-06-30",
          "2020-07-01",
          "2020-07-02",
          "2020-07-03",
          "2020-07-06",
          "2020-07-07",
          "2020-07-08",
          "2020-07-09",
          "2020-07-10",
          "2020-07-13",
          "2020-07-14",
          "2020-07-15",
          "2020-07-16",
          "2020-07-17",
          "2020-07-20",
          "2020-07-21",
          "2020-07-22",
          "2020-07-23",
          "2020-07-24",
          "2020-07-27",
          "2020-07-28",
          "2020-07-29",
          "2020-07-30",
          "2020-07-31",
          "2020-08-03",
          "2020-08-04",
          "2020-08-05",
          "2020-08-06",
          "2020-08-07",
          "2020-08-10",
          "2020-08-11",
          "2020-08-12",
          "2020-08-13",
          "2020-08-14",
          "2020-08-17",
          "2020-08-18",
          "2020-08-19",
          "2020-08-20",
          "2020-08-21",
          "2020-08-24",
          "2020-08-25",
          "2020-08-26",
          "2020-08-27",
          "2020-08-28",
          "2020-08-31",
          "2020-09-01",
          "2020-09-02",
          "2020-09-03",
          "2020-09-04",
          "2020-09-08",
          "2020-09-09",
          "2020-09-10",
          "2020-09-11",
          "2020-09-14",
          "2020-09-15",
          "2020-09-16",
          "2020-09-17",
          "2020-09-18",
          "2020-09-21",
          "2020-09-22",
          "2020-09-23",
          "2020-09-24",
          "2020-09-25",
          "2020-09-28",
          "2020-09-29",
          "2020-09-30",
          "2020-10-01",
          "2020-10-02",
          "2020-10-05",
          "2020-10-06",
          "2020-10-07",
          "2020-10-08",
          "2020-10-09",
          "2020-10-13",
          "2020-10-14",
          "2020-10-15",
          "2020-10-16",
          "2020-10-19",
          "2020-10-20",
          "2020-10-21",
          "2020-10-22",
          "2020-10-23",
          "2020-10-26",
          "2020-10-27",
          "2020-10-28",
          "2020-10-29",
          "2020-10-30",
          "2020-11-03",
          "2020-11-04",
          "2020-11-05",
          "2020-11-06",
          "2020-11-09",
          "2020-11-10",
          "2020-11-11",
          "2020-11-12",
          "2020-11-13",
          "2020-11-16",
          "2020-11-17",
          "2020-11-18",
          "2020-11-19",
          "2020-11-23",
          "2020-11-24",
          "2020-11-25",
          "2020-11-26",
          "2020-11-27",
          "2020-11-30",
          "2020-12-01",
          "2020-12-02",
          "2020-12-03",
          "2020-12-04",
          "2020-12-07",
          "2020-12-08",
          "2020-12-09",
          "2020-12-10",
          "2020-12-11",
          "2020-12-14",
          "2020-12-15",
          "2020-12-16",
          "2020-12-17",
          "2020-12-18",
          "2020-12-21",
          "2020-12-22",
          "2020-12-23",
          "2020-12-28",
          "2020-12-29",
          "2020-12-30",
          "2021-01-04",
          "2021-01-05",
          "2021-01-06",
          "2021-01-07",
          "2021-01-08",
          "2021-01-11",
          "2021-01-12",
          "2021-01-13",
          "2021-01-14",
          "2021-01-15",
          "2021-01-18",
          "2021-01-19",
          "2021-01-20",
          "2021-01-21",
          "2021-01-22",
          "2021-01-26",
          "2021-01-27",
          "2021-01-28",
          "2021-01-29",
          "2021-02-01",
          "2021-02-02",
          "2021-02-03",
          "2021-02-04",
          "2021-02-05",
          "2021-02-08",
          "2021-02-09",
          "2021-02-10",
          "2021-02-11",
          "2021-02-12",
          "2021-02-17",
          "2021-02-18",
          "2021-02-19",
          "2021-02-22",
          "2021-02-23",
          "2021-02-24",
          "2021-02-25",
          "2021-02-26",
          "2021-03-01",
          "2021-03-02",
          "2021-03-03",
          "2021-03-04",
          "2021-03-05",
          "2021-03-08",
          "2021-03-09",
          "2021-03-10",
          "2021-03-11",
          "2021-03-12",
          "2021-03-15",
          "2021-03-16",
          "2021-03-17",
          "2021-03-18",
          "2021-03-19",
          "2021-03-22",
          "2021-03-23",
          "2021-03-24",
          "2021-03-25",
          "2021-03-26",
          "2021-03-29",
          "2021-03-30",
          "2021-03-31",
          "2021-04-01",
          "2021-04-05",
          "2021-04-06",
          "2021-04-07",
          "2021-04-08",
          "2021-04-09",
          "2021-04-12",
          "2021-04-13",
          "2021-04-14",
          "2021-04-15",
          "2021-04-16",
          "2021-04-19",
          "2021-04-20",
          "2021-04-22",
          "2021-04-23",
          "2021-04-26",
          "2021-04-27",
          "2021-04-28",
          "2021-04-29",
          "2021-04-30",
          "2021-05-03",
          "2021-05-04",
          "2021-05-05",
          "2021-05-06",
          "2021-05-07",
          "2021-05-10",
          "2021-05-11",
          "2021-05-12",
          "2021-05-13",
          "2021-05-14",
          "2021-05-17",
          "2021-05-18",
          "2021-05-19",
          "2021-05-20",
          "2021-05-21",
          "2021-05-24",
          "2021-05-25",
          "2021-05-26",
          "2021-05-27",
          "2021-05-28",
          "2021-05-31",
          "2021-06-01",
          "2021-06-02",
          "2021-06-04",
          "2021-06-07",
          "2021-06-08",
          "2021-06-09",
          "2021-06-10",
          "2021-06-11",
          "2021-06-14",
          "2021-06-15",
          "2021-06-16",
          "2021-06-17",
          "2021-06-18",
          "2021-06-21",
          "2021-06-22",
          "2021-06-23",
          "2021-06-24",
          "2021-06-25",
          "2021-06-28",
          "2021-06-29",
          "2021-06-30",
          "2021-07-01",
          "2021-07-02",
          "2021-07-05",
          "2021-07-06",
          "2021-07-07",
          "2021-07-08",
          "2021-07-12",
          "2021-07-13",
          "2021-07-14",
          "2021-07-15",
          "2021-07-16",
          "2021-07-19",
          "2021-07-20",
          "2021-07-21",
          "2021-07-22",
          "2021-07-23",
          "2021-07-26",
          "2021-07-27",
          "2021-07-28",
          "2021-07-29",
          "2021-07-30",
          "2021-08-02",
          "2021-08-03",
          "2021-08-04",
          "2021-08-05",
          "2021-08-06",
          "2021-08-09",
          "2021-08-10",
          "2021-08-11",
          "2021-08-12",
          "2021-08-13",
          "2021-08-16",
          "2021-08-17",
          "2021-08-18",
          "2021-08-19",
          "2021-08-20",
          "2021-08-23",
          "2021-08-24",
          "2021-08-25",
          "2021-08-26",
          "2021-08-27",
          "2021-08-30",
          "2021-08-31",
          "2021-09-01",
          "2021-09-02",
          "2021-09-03",
          "2021-09-06",
          "2021-09-08",
          "2021-09-09",
          "2021-09-10",
          "2021-09-13",
          "2021-09-14",
          "2021-09-15",
          "2021-09-16",
          "2021-09-17",
          "2021-09-20",
          "2021-09-21",
          "2021-09-22",
          "2021-09-23",
          "2021-09-24",
          "2021-09-27",
          "2021-09-28",
          "2021-09-29",
          "2021-09-30",
          "2021-10-01",
          "2021-10-04",
          "2021-10-05",
          "2021-10-06",
          "2021-10-07",
          "2021-10-08",
          "2021-10-11",
          "2021-10-13",
          "2021-10-14",
          "2021-10-15",
          "2021-10-18",
          "2021-10-19",
          "2021-10-20",
          "2021-10-21",
          "2021-10-22",
          "2021-10-25",
          "2021-10-26",
          "2021-10-27",
          "2021-10-28",
          "2021-10-29",
          "2021-11-01",
          "2021-11-03",
          "2021-11-04",
          "2021-11-05",
          "2021-11-08",
          "2021-11-09",
          "2021-11-10",
          "2021-11-11",
          "2021-11-12",
          "2021-11-16",
          "2021-11-17",
          "2021-11-18",
          "2021-11-19",
          "2021-11-22",
          "2021-11-23",
          "2021-11-24",
          "2021-11-25",
          "2021-11-26",
          "2021-11-29",
          "2021-11-30",
          "2021-12-01",
          "2021-12-02",
          "2021-12-03",
          "2021-12-06",
          "2021-12-07",
          "2021-12-08",
          "2021-12-09",
          "2021-12-10",
          "2021-12-13",
          "2021-12-14",
          "2021-12-15",
          "2021-12-16",
          "2021-12-17",
          "2021-12-20",
          "2021-12-21",
          "2021-12-22",
          "2021-12-23",
          "2021-12-27",
          "2021-12-28",
          "2021-12-29",
          "2021-12-30",
          "2022-01-03",
          "2022-01-04",
          "2022-01-05",
          "2022-01-06",
          "2022-01-07",
          "2022-01-10",
          "2022-01-11",
          "2022-01-12",
          "2022-01-13",
          "2022-01-14",
          "2022-01-17",
          "2022-01-18",
          "2022-01-19",
          "2022-01-20",
          "2022-01-21",
          "2022-01-24",
          "2022-01-25",
          "2022-01-26",
          "2022-01-27",
          "2022-01-28",
          "2022-01-31",
          "2022-02-01",
          "2022-02-02",
          "2022-02-03",
          "2022-02-04",
          "2022-02-07",
          "2022-02-08",
          "2022-02-09",
          "2022-02-10",
          "2022-02-11",
          "2022-02-14",
          "2022-02-15",
          "2022-02-16",
          "2022-02-17",
          "2022-02-18",
          "2022-02-21",
          "2022-02-22",
          "2022-02-23",
          "2022-02-24",
          "2022-02-25",
          "2022-03-02",
          "2022-03-03",
          "2022-03-04",
          "2022-03-07",
          "2022-03-08",
          "2022-03-09",
          "2022-03-10",
          "2022-03-11",
          "2022-03-14",
          "2022-03-15",
          "2022-03-16",
          "2022-03-17",
          "2022-03-18",
          "2022-03-21",
          "2022-03-22",
          "2022-03-23",
          "2022-03-24",
          "2022-03-25",
          "2022-03-28",
          "2022-03-29",
          "2022-03-30",
          "2022-03-31",
          "2022-04-01",
          "2022-04-04",
          "2022-04-05",
          "2022-04-06",
          "2022-04-07",
          "2022-04-08",
          "2022-04-11",
          "2022-04-12",
          "2022-04-13",
          "2022-04-14",
          "2022-04-18",
          "2022-04-19",
          "2022-04-20",
          "2022-04-22",
          "2022-04-25",
          "2022-04-26",
          "2022-04-27",
          "2022-04-28",
          "2022-04-29",
          "2022-05-02",
          "2022-05-03",
          "2022-05-04",
          "2022-05-05",
          "2022-05-06",
          "2022-05-09",
          "2022-05-10",
          "2022-05-11",
          "2022-05-12",
          "2022-05-13",
          "2022-05-16",
          "2022-05-17",
          "2022-05-18",
          "2022-05-19",
          "2022-05-20",
          "2022-05-23",
          "2022-05-24",
          "2022-05-25",
          "2022-05-26",
          "2022-05-27",
          "2022-05-30",
          "2022-05-31",
          "2022-06-01",
          "2022-06-02",
          "2022-06-03",
          "2022-06-06",
          "2022-06-07",
          "2022-06-08",
          "2022-06-09",
          "2022-06-10",
          "2022-06-13",
          "2022-06-14",
          "2022-06-15",
          "2022-06-17",
          "2022-06-20",
          "2022-06-21",
          "2022-06-22",
          "2022-06-23",
          "2022-06-24",
          "2022-06-27",
          "2022-06-28",
          "2022-06-29",
          "2022-06-30",
          "2022-07-01",
          "2022-07-04",
          "2022-07-05",
          "2022-07-06",
          "2022-07-07",
          "2022-07-08",
          "2022-07-11",
          "2022-07-12",
          "2022-07-13",
          "2022-07-14",
          "2022-07-15",
          "2022-07-18",
          "2022-07-19",
          "2022-07-20",
          "2022-07-21",
          "2022-07-22",
          "2022-07-25",
          "2022-07-26",
          "2022-07-27",
          "2022-07-28",
          "2022-07-29",
          "2022-08-01",
          "2022-08-02",
          "2022-08-03",
          "2022-08-04",
          "2022-08-05",
          "2022-08-08",
          "2022-08-09",
          "2022-08-10",
          "2022-08-11",
          "2022-08-12",
          "2022-08-15",
          "2022-08-16",
          "2022-08-17",
          "2022-08-18",
          "2022-08-19",
          "2022-08-22",
          "2022-08-23",
          "2022-08-24",
          "2022-08-25",
          "2022-08-26",
          "2022-08-29",
          "2022-08-30",
          "2022-08-31",
          "2022-09-01",
          "2022-09-02",
          "2022-09-05",
          "2022-09-06",
          "2022-09-08",
          "2022-09-09",
          "2022-09-12",
          "2022-09-13",
          "2022-09-14",
          "2022-09-15",
          "2022-09-16"
         ],
         "y": {
          "bdata": "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",
          "dtype": "f8"
         }
        }
       ],
       "layout": {
        "hovermode": "x unified",
        "legend": {
         "orientation": "h",
         "x": 0.98,
         "xanchor": "right",
         "y": 0.98,
         "yanchor": "top"
        },
        "template": {
         "data": {
          "bar": [
           {
            "error_x": {
             "color": "#2a3f5f"
            },
            "error_y": {
             "color": "#2a3f5f"
            },
            "marker": {
             "line": {
              "color": "#E5ECF6",
              "width": 0.5
             },
             "pattern": {
              "fillmode": "overlay",
              "size": 10,
              "solidity": 0.2
             }
            },
            "type": "bar"
           }
          ],
          "barpolar": [
           {
            "marker": {
             "line": {
              "color": "#E5ECF6",
              "width": 0.5
             },
             "pattern": {
              "fillmode": "overlay",
              "size": 10,
              "solidity": 0.2
             }
            },
            "type": "barpolar"
           }
          ],
          "carpet": [
           {
            "aaxis": {
             "endlinecolor": "#2a3f5f",
             "gridcolor": "white",
             "linecolor": "white",
             "minorgridcolor": "white",
             "startlinecolor": "#2a3f5f"
            },
            "baxis": {
             "endlinecolor": "#2a3f5f",
             "gridcolor": "white",
             "linecolor": "white",
             "minorgridcolor": "white",
             "startlinecolor": "#2a3f5f"
            },
            "type": "carpet"
           }
          ],
          "choropleth": [
           {
            "colorbar": {
             "outlinewidth": 0,
             "ticks": ""
            },
            "type": "choropleth"
           }
          ],
          "contour": [
           {
            "colorbar": {
             "outlinewidth": 0,
             "ticks": ""
            },
            "colorscale": [
             [
              0,
              "#0d0887"
             ],
             [
              0.1111111111111111,
              "#46039f"
             ],
             [
              0.2222222222222222,
              "#7201a8"
             ],
             [
              0.3333333333333333,
              "#9c179e"
             ],
             [
              0.4444444444444444,
              "#bd3786"
             ],
             [
              0.5555555555555556,
              "#d8576b"
             ],
             [
              0.6666666666666666,
              "#ed7953"
             ],
             [
              0.7777777777777778,
              "#fb9f3a"
             ],
             [
              0.8888888888888888,
              "#fdca26"
             ],
             [
              1,
              "#f0f921"
             ]
            ],
            "type": "contour"
           }
          ],
          "contourcarpet": [
           {
            "colorbar": {
             "outlinewidth": 0,
             "ticks": ""
            },
            "type": "contourcarpet"
           }
          ],
          "heatmap": [
           {
            "colorbar": {
             "outlinewidth": 0,
             "ticks": ""
            },
            "colorscale": [
             [
              0,
              "#0d0887"
             ],
             [
              0.1111111111111111,
              "#46039f"
             ],
             [
              0.2222222222222222,
              "#7201a8"
             ],
             [
              0.3333333333333333,
              "#9c179e"
             ],
             [
              0.4444444444444444,
              "#bd3786"
             ],
             [
              0.5555555555555556,
              "#d8576b"
             ],
             [
              0.6666666666666666,
              "#ed7953"
             ],
             [
              0.7777777777777778,
              "#fb9f3a"
             ],
             [
              0.8888888888888888,
              "#fdca26"
             ],
             [
              1,
              "#f0f921"
             ]
            ],
            "type": "heatmap"
           }
          ],
          "histogram": [
           {
            "marker": {
             "pattern": {
              "fillmode": "overlay",
              "size": 10,
              "solidity": 0.2
             }
            },
            "type": "histogram"
           }
          ],
          "histogram2d": [
           {
            "colorbar": {
             "outlinewidth": 0,
             "ticks": ""
            },
            "colorscale": [
             [
              0,
              "#0d0887"
             ],
             [
              0.1111111111111111,
              "#46039f"
             ],
             [
              0.2222222222222222,
              "#7201a8"
             ],
             [
              0.3333333333333333,
              "#9c179e"
             ],
             [
              0.4444444444444444,
              "#bd3786"
             ],
             [
              0.5555555555555556,
              "#d8576b"
             ],
             [
              0.6666666666666666,
              "#ed7953"
             ],
             [
              0.7777777777777778,
              "#fb9f3a"
             ],
             [
              0.8888888888888888,
              "#fdca26"
             ],
             [
              1,
              "#f0f921"
             ]
            ],
            "type": "histogram2d"
           }
          ],
          "histogram2dcontour": [
           {
            "colorbar": {
             "outlinewidth": 0,
             "ticks": ""
            },
            "colorscale": [
             [
              0,
              "#0d0887"
             ],
             [
              0.1111111111111111,
              "#46039f"
             ],
             [
              0.2222222222222222,
              "#7201a8"
             ],
             [
              0.3333333333333333,
              "#9c179e"
             ],
             [
              0.4444444444444444,
              "#bd3786"
             ],
             [
              0.5555555555555556,
              "#d8576b"
             ],
             [
              0.6666666666666666,
              "#ed7953"
             ],
             [
              0.7777777777777778,
              "#fb9f3a"
             ],
             [
              0.8888888888888888,
              "#fdca26"
             ],
             [
              1,
              "#f0f921"
             ]
            ],
            "type": "histogram2dcontour"
           }
          ],
          "mesh3d": [
           {
            "colorbar": {
             "outlinewidth": 0,
             "ticks": ""
            },
            "type": "mesh3d"
           }
          ],
          "parcoords": [
           {
            "line": {
             "colorbar": {
              "outlinewidth": 0,
              "ticks": ""
             }
            },
            "type": "parcoords"
           }
          ],
          "pie": [
           {
            "automargin": true,
            "type": "pie"
           }
          ],
          "scatter": [
           {
            "fillpattern": {
             "fillmode": "overlay",
             "size": 10,
             "solidity": 0.2
            },
            "type": "scatter"
           }
          ],
          "scatter3d": [
           {
            "line": {
             "colorbar": {
              "outlinewidth": 0,
              "ticks": ""
             }
            },
            "marker": {
             "colorbar": {
              "outlinewidth": 0,
              "ticks": ""
             }
            },
            "type": "scatter3d"
           }
          ],
          "scattercarpet": [
           {
            "marker": {
             "colorbar": {
              "outlinewidth": 0,
              "ticks": ""
             }
            },
            "type": "scattercarpet"
           }
          ],
          "scattergeo": [
           {
            "marker": {
             "colorbar": {
              "outlinewidth": 0,
              "ticks": ""
             }
            },
            "type": "scattergeo"
           }
          ],
          "scattergl": [
           {
            "marker": {
             "colorbar": {
              "outlinewidth": 0,
              "ticks": ""
             }
            },
            "type": "scattergl"
           }
          ],
          "scattermap": [
           {
            "marker": {
             "colorbar": {
              "outlinewidth": 0,
              "ticks": ""
             }
            },
            "type": "scattermap"
           }
          ],
          "scattermapbox": [
           {
            "marker": {
             "colorbar": {
              "outlinewidth": 0,
              "ticks": ""
             }
            },
            "type": "scattermapbox"
           }
          ],
          "scatterpolar": [
           {
            "marker": {
             "colorbar": {
              "outlinewidth": 0,
              "ticks": ""
             }
            },
            "type": "scatterpolar"
           }
          ],
          "scatterpolargl": [
           {
            "marker": {
             "colorbar": {
              "outlinewidth": 0,
              "ticks": ""
             }
            },
            "type": "scatterpolargl"
           }
          ],
          "scatterternary": [
           {
            "marker": {
             "colorbar": {
              "outlinewidth": 0,
              "ticks": ""
             }
            },
            "type": "scatterternary"
           }
          ],
          "surface": [
           {
            "colorbar": {
             "outlinewidth": 0,
             "ticks": ""
            },
            "colorscale": [
             [
              0,
              "#0d0887"
             ],
             [
              0.1111111111111111,
              "#46039f"
             ],
             [
              0.2222222222222222,
              "#7201a8"
             ],
             [
              0.3333333333333333,
              "#9c179e"
             ],
             [
              0.4444444444444444,
              "#bd3786"
             ],
             [
              0.5555555555555556,
              "#d8576b"
             ],
             [
              0.6666666666666666,
              "#ed7953"
             ],
             [
              0.7777777777777778,
              "#fb9f3a"
             ],
             [
              0.8888888888888888,
              "#fdca26"
             ],
             [
              1,
              "#f0f921"
             ]
            ],
            "type": "surface"
           }
          ],
          "table": [
           {
            "cells": {
             "fill": {
              "color": "#EBF0F8"
             },
             "line": {
              "color": "white"
             }
            },
            "header": {
             "fill": {
              "color": "#C8D4E3"
             },
             "line": {
              "color": "white"
             }
            },
            "type": "table"
           }
          ]
         },
         "layout": {
          "annotationdefaults": {
           "arrowcolor": "#2a3f5f",
           "arrowhead": 0,
           "arrowwidth": 1
          },
          "autotypenumbers": "strict",
          "coloraxis": {
           "colorbar": {
            "outlinewidth": 0,
            "ticks": ""
           }
          },
          "colorscale": {
           "diverging": [
            [
             0,
             "#8e0152"
            ],
            [
             0.1,
             "#c51b7d"
            ],
            [
             0.2,
             "#de77ae"
            ],
            [
             0.3,
             "#f1b6da"
            ],
            [
             0.4,
             "#fde0ef"
            ],
            [
             0.5,
             "#f7f7f7"
            ],
            [
             0.6,
             "#e6f5d0"
            ],
            [
             0.7,
             "#b8e186"
            ],
            [
             0.8,
             "#7fbc41"
            ],
            [
             0.9,
             "#4d9221"
            ],
            [
             1,
             "#276419"
            ]
           ],
           "sequential": [
            [
             0,
             "#0d0887"
            ],
            [
             0.1111111111111111,
             "#46039f"
            ],
            [
             0.2222222222222222,
             "#7201a8"
            ],
            [
             0.3333333333333333,
             "#9c179e"
            ],
            [
             0.4444444444444444,
             "#bd3786"
            ],
            [
             0.5555555555555556,
             "#d8576b"
            ],
            [
             0.6666666666666666,
             "#ed7953"
            ],
            [
             0.7777777777777778,
             "#fb9f3a"
            ],
            [
             0.8888888888888888,
             "#fdca26"
            ],
            [
             1,
             "#f0f921"
            ]
           ],
           "sequentialminus": [
            [
             0,
             "#0d0887"
            ],
            [
             0.1111111111111111,
             "#46039f"
            ],
            [
             0.2222222222222222,
             "#7201a8"
            ],
            [
             0.3333333333333333,
             "#9c179e"
            ],
            [
             0.4444444444444444,
             "#bd3786"
            ],
            [
             0.5555555555555556,
             "#d8576b"
            ],
            [
             0.6666666666666666,
             "#ed7953"
            ],
            [
             0.7777777777777778,
             "#fb9f3a"
            ],
            [
             0.8888888888888888,
             "#fdca26"
            ],
            [
             1,
             "#f0f921"
            ]
           ]
          },
          "colorway": [
           "#636efa",
           "#EF553B",
           "#00cc96",
           "#ab63fa",
           "#FFA15A",
           "#19d3f3",
           "#FF6692",
           "#B6E880",
           "#FF97FF",
           "#FECB52"
          ],
          "font": {
           "color": "#2a3f5f"
          },
          "geo": {
           "bgcolor": "white",
           "lakecolor": "white",
           "landcolor": "#E5ECF6",
           "showlakes": true,
           "showland": true,
           "subunitcolor": "white"
          },
          "hoverlabel": {
           "align": "left"
          },
          "hovermode": "closest",
          "mapbox": {
           "style": "light"
          },
          "paper_bgcolor": "white",
          "plot_bgcolor": "#E5ECF6",
          "polar": {
           "angularaxis": {
            "gridcolor": "white",
            "linecolor": "white",
            "ticks": ""
           },
           "bgcolor": "#E5ECF6",
           "radialaxis": {
            "gridcolor": "white",
            "linecolor": "white",
            "ticks": ""
           }
          },
          "scene": {
           "xaxis": {
            "backgroundcolor": "#E5ECF6",
            "gridcolor": "white",
            "gridwidth": 2,
            "linecolor": "white",
            "showbackground": true,
            "ticks": "",
            "zerolinecolor": "white"
           },
           "yaxis": {
            "backgroundcolor": "#E5ECF6",
            "gridcolor": "white",
            "gridwidth": 2,
            "linecolor": "white",
            "showbackground": true,
            "ticks": "",
            "zerolinecolor": "white"
           },
           "zaxis": {
            "backgroundcolor": "#E5ECF6",
            "gridcolor": "white",
            "gridwidth": 2,
            "linecolor": "white",
            "showbackground": true,
            "ticks": "",
            "zerolinecolor": "white"
           }
          },
          "shapedefaults": {
           "line": {
            "color": "#2a3f5f"
           }
          },
          "ternary": {
           "aaxis": {
            "gridcolor": "white",
            "linecolor": "white",
            "ticks": ""
           },
           "baxis": {
            "gridcolor": "white",
            "linecolor": "white",
            "ticks": ""
           },
           "bgcolor": "#E5ECF6",
           "caxis": {
            "gridcolor": "white",
            "linecolor": "white",
            "ticks": ""
           }
          },
          "title": {
           "x": 0.05
          },
          "xaxis": {
           "automargin": true,
           "gridcolor": "white",
           "linecolor": "white",
           "ticks": "",
           "title": {
            "standoff": 15
           },
           "zerolinecolor": "white",
           "zerolinewidth": 2
          },
          "yaxis": {
           "automargin": true,
           "gridcolor": "white",
           "linecolor": "white",
           "ticks": "",
           "title": {
            "standoff": 15
           },
           "zerolinecolor": "white",
           "zerolinewidth": 2
          }
         }
        },
        "title": {
         "text": "VALE3 - Strategy with model_2 vs. Buy and Hold Strategy",
         "x": 0.5
        },
        "xaxis": {
         "title": {
          "text": "Data"
         }
        },
        "yaxis": {
         "title": {
          "text": "Valor"
         }
        }
       }
      }
     },
     "metadata": {},
     "output_type": "display_data"
    },
    {
     "data": {
      "application/vnd.plotly.v1+json": {
       "config": {
        "plotlyServerURL": "https://plot.ly"
       },
       "data": [
        {
         "mode": "lines",
         "name": "Strategy with model_2",
         "type": "scatter",
         "x": [
          "2019-11-19",
          "2019-11-21",
          "2019-11-22",
          "2019-11-25",
          "2019-11-26",
          "2019-11-27",
          "2019-11-28",
          "2019-11-29",
          "2019-12-02",
          "2019-12-03",
          "2019-12-04",
          "2019-12-05",
          "2019-12-06",
          "2019-12-09",
          "2019-12-10",
          "2019-12-11",
          "2019-12-12",
          "2019-12-13",
          "2019-12-16",
          "2019-12-17",
          "2019-12-18",
          "2019-12-19",
          "2019-12-20",
          "2019-12-23",
          "2019-12-26",
          "2019-12-27",
          "2019-12-30",
          "2020-01-02",
          "2020-01-03",
          "2020-01-06",
          "2020-01-07",
          "2020-01-08",
          "2020-01-09",
          "2020-01-10",
          "2020-01-13",
          "2020-01-14",
          "2020-01-15",
          "2020-01-16",
          "2020-01-17",
          "2020-01-20",
          "2020-01-21",
          "2020-01-22",
          "2020-01-23",
          "2020-01-24",
          "2020-01-27",
          "2020-01-28",
          "2020-01-29",
          "2020-01-30",
          "2020-01-31",
          "2020-02-03",
          "2020-02-04",
          "2020-02-05",
          "2020-02-06",
          "2020-02-07",
          "2020-02-10",
          "2020-02-11",
          "2020-02-12",
          "2020-02-13",
          "2020-02-14",
          "2020-02-17",
          "2020-02-18",
          "2020-02-19",
          "2020-02-20",
          "2020-02-21",
          "2020-02-26",
          "2020-02-27",
          "2020-02-28",
          "2020-03-02",
          "2020-03-03",
          "2020-03-04",
          "2020-03-05",
          "2020-03-06",
          "2020-03-09",
          "2020-03-10",
          "2020-03-11",
          "2020-03-12",
          "2020-03-13",
          "2020-03-16",
          "2020-03-17",
          "2020-03-18",
          "2020-03-19",
          "2020-03-20",
          "2020-03-23",
          "2020-03-24",
          "2020-03-25",
          "2020-03-26",
          "2020-03-27",
          "2020-03-30",
          "2020-03-31",
          "2020-04-01",
          "2020-04-02",
          "2020-04-03",
          "2020-04-06",
          "2020-04-07",
          "2020-04-08",
          "2020-04-09",
          "2020-04-13",
          "2020-04-14",
          "2020-04-15",
          "2020-04-16",
          "2020-04-17",
          "2020-04-20",
          "2020-04-22",
          "2020-04-23",
          "2020-04-24",
          "2020-04-27",
          "2020-04-28",
          "2020-04-29",
          "2020-04-30",
          "2020-05-04",
          "2020-05-05",
          "2020-05-06",
          "2020-05-07",
          "2020-05-08",
          "2020-05-11",
          "2020-05-12",
          "2020-05-13",
          "2020-05-14",
          "2020-05-15",
          "2020-05-18",
          "2020-05-19",
          "2020-05-20",
          "2020-05-21",
          "2020-05-22",
          "2020-05-25",
          "2020-05-26",
          "2020-05-27",
          "2020-05-28",
          "2020-05-29",
          "2020-06-01",
          "2020-06-02",
          "2020-06-03",
          "2020-06-04",
          "2020-06-05",
          "2020-06-08",
          "2020-06-09",
          "2020-06-10",
          "2020-06-12",
          "2020-06-15",
          "2020-06-16",
          "2020-06-17",
          "2020-06-18",
          "2020-06-19",
          "2020-06-22",
          "2020-06-23",
          "2020-06-24",
          "2020-06-25",
          "2020-06-26",
          "2020-06-29",
          "2020-06-30",
          "2020-07-01",
          "2020-07-02",
          "2020-07-03",
          "2020-07-06",
          "2020-07-07",
          "2020-07-08",
          "2020-07-09",
          "2020-07-10",
          "2020-07-13",
          "2020-07-14",
          "2020-07-15",
          "2020-07-16",
          "2020-07-17",
          "2020-07-20",
          "2020-07-21",
          "2020-07-22",
          "2020-07-23",
          "2020-07-24",
          "2020-07-27",
          "2020-07-28",
          "2020-07-29",
          "2020-07-30",
          "2020-07-31",
          "2020-08-03",
          "2020-08-04",
          "2020-08-05",
          "2020-08-06",
          "2020-08-07",
          "2020-08-10",
          "2020-08-11",
          "2020-08-12",
          "2020-08-13",
          "2020-08-14",
          "2020-08-17",
          "2020-08-18",
          "2020-08-19",
          "2020-08-20",
          "2020-08-21",
          "2020-08-24",
          "2020-08-25",
          "2020-08-26",
          "2020-08-27",
          "2020-08-28",
          "2020-08-31",
          "2020-09-01",
          "2020-09-02",
          "2020-09-03",
          "2020-09-04",
          "2020-09-08",
          "2020-09-09",
          "2020-09-10",
          "2020-09-11",
          "2020-09-14",
          "2020-09-15",
          "2020-09-16",
          "2020-09-17",
          "2020-09-18",
          "2020-09-21",
          "2020-09-22",
          "2020-09-23",
          "2020-09-24",
          "2020-09-25",
          "2020-09-28",
          "2020-09-29",
          "2020-09-30",
          "2020-10-01",
          "2020-10-02",
          "2020-10-05",
          "2020-10-06",
          "2020-10-07",
          "2020-10-08",
          "2020-10-09",
          "2020-10-13",
          "2020-10-14",
          "2020-10-15",
          "2020-10-16",
          "2020-10-19",
          "2020-10-20",
          "2020-10-21",
          "2020-10-22",
          "2020-10-23",
          "2020-10-26",
          "2020-10-27",
          "2020-10-28",
          "2020-10-29",
          "2020-10-30",
          "2020-11-03",
          "2020-11-04",
          "2020-11-05",
          "2020-11-06",
          "2020-11-09",
          "2020-11-10",
          "2020-11-11",
          "2020-11-12",
          "2020-11-13",
          "2020-11-16",
          "2020-11-17",
          "2020-11-18",
          "2020-11-19",
          "2020-11-23",
          "2020-11-24",
          "2020-11-25",
          "2020-11-26",
          "2020-11-27",
          "2020-11-30",
          "2020-12-01",
          "2020-12-02",
          "2020-12-03",
          "2020-12-04",
          "2020-12-07",
          "2020-12-08",
          "2020-12-09",
          "2020-12-10",
          "2020-12-11",
          "2020-12-14",
          "2020-12-15",
          "2020-12-16",
          "2020-12-17",
          "2020-12-18",
          "2020-12-21",
          "2020-12-22",
          "2020-12-23",
          "2020-12-28",
          "2020-12-29",
          "2020-12-30",
          "2021-01-04",
          "2021-01-05",
          "2021-01-06",
          "2021-01-07",
          "2021-01-08",
          "2021-01-11",
          "2021-01-12",
          "2021-01-13",
          "2021-01-14",
          "2021-01-15",
          "2021-01-18",
          "2021-01-19",
          "2021-01-20",
          "2021-01-21",
          "2021-01-22",
          "2021-01-26",
          "2021-01-27",
          "2021-01-28",
          "2021-01-29",
          "2021-02-01",
          "2021-02-02",
          "2021-02-03",
          "2021-02-04",
          "2021-02-05",
          "2021-02-08",
          "2021-02-09",
          "2021-02-10",
          "2021-02-11",
          "2021-02-12",
          "2021-02-17",
          "2021-02-18",
          "2021-02-19",
          "2021-02-22",
          "2021-02-23",
          "2021-02-24",
          "2021-02-25",
          "2021-02-26",
          "2021-03-01",
          "2021-03-02",
          "2021-03-03",
          "2021-03-04",
          "2021-03-05",
          "2021-03-08",
          "2021-03-09",
          "2021-03-10",
          "2021-03-11",
          "2021-03-12",
          "2021-03-15",
          "2021-03-16",
          "2021-03-17",
          "2021-03-18",
          "2021-03-19",
          "2021-03-22",
          "2021-03-23",
          "2021-03-24",
          "2021-03-25",
          "2021-03-26",
          "2021-03-29",
          "2021-03-30",
          "2021-03-31",
          "2021-04-01",
          "2021-04-05",
          "2021-04-06",
          "2021-04-07",
          "2021-04-08",
          "2021-04-09",
          "2021-04-12",
          "2021-04-13",
          "2021-04-14",
          "2021-04-15",
          "2021-04-16",
          "2021-04-19",
          "2021-04-20",
          "2021-04-22",
          "2021-04-23",
          "2021-04-26",
          "2021-04-27",
          "2021-04-28",
          "2021-04-29",
          "2021-04-30",
          "2021-05-03",
          "2021-05-04",
          "2021-05-05",
          "2021-05-06",
          "2021-05-07",
          "2021-05-10",
          "2021-05-11",
          "2021-05-12",
          "2021-05-13",
          "2021-05-14",
          "2021-05-17",
          "2021-05-18",
          "2021-05-19",
          "2021-05-20",
          "2021-05-21",
          "2021-05-24",
          "2021-05-25",
          "2021-05-26",
          "2021-05-27",
          "2021-05-28",
          "2021-05-31",
          "2021-06-01",
          "2021-06-02",
          "2021-06-04",
          "2021-06-07",
          "2021-06-08",
          "2021-06-09",
          "2021-06-10",
          "2021-06-11",
          "2021-06-14",
          "2021-06-15",
          "2021-06-16",
          "2021-06-17",
          "2021-06-18",
          "2021-06-21",
          "2021-06-22",
          "2021-06-23",
          "2021-06-24",
          "2021-06-25",
          "2021-06-28",
          "2021-06-29",
          "2021-06-30",
          "2021-07-01",
          "2021-07-02",
          "2021-07-05",
          "2021-07-06",
          "2021-07-07",
          "2021-07-08",
          "2021-07-12",
          "2021-07-13",
          "2021-07-14",
          "2021-07-15",
          "2021-07-16",
          "2021-07-19",
          "2021-07-20",
          "2021-07-21",
          "2021-07-22",
          "2021-07-23",
          "2021-07-26",
          "2021-07-27",
          "2021-07-28",
          "2021-07-29",
          "2021-07-30",
          "2021-08-02",
          "2021-08-03",
          "2021-08-04",
          "2021-08-05",
          "2021-08-06",
          "2021-08-09",
          "2021-08-10",
          "2021-08-11",
          "2021-08-12",
          "2021-08-13",
          "2021-08-16",
          "2021-08-17",
          "2021-08-18",
          "2021-08-19",
          "2021-08-20",
          "2021-08-23",
          "2021-08-24",
          "2021-08-25",
          "2021-08-26",
          "2021-08-27",
          "2021-08-30",
          "2021-08-31",
          "2021-09-01",
          "2021-09-02",
          "2021-09-03",
          "2021-09-06",
          "2021-09-08",
          "2021-09-09",
          "2021-09-10",
          "2021-09-13",
          "2021-09-14",
          "2021-09-15",
          "2021-09-16",
          "2021-09-17",
          "2021-09-20",
          "2021-09-21",
          "2021-09-22",
          "2021-09-23",
          "2021-09-24",
          "2021-09-27",
          "2021-09-28",
          "2021-09-29",
          "2021-09-30",
          "2021-10-01",
          "2021-10-04",
          "2021-10-05",
          "2021-10-06",
          "2021-10-07",
          "2021-10-08",
          "2021-10-11",
          "2021-10-13",
          "2021-10-14",
          "2021-10-15",
          "2021-10-18",
          "2021-10-19",
          "2021-10-20",
          "2021-10-21",
          "2021-10-22",
          "2021-10-25",
          "2021-10-26",
          "2021-10-27",
          "2021-10-28",
          "2021-10-29",
          "2021-11-01",
          "2021-11-03",
          "2021-11-04",
          "2021-11-05",
          "2021-11-08",
          "2021-11-09",
          "2021-11-10",
          "2021-11-11",
          "2021-11-12",
          "2021-11-16",
          "2021-11-17",
          "2021-11-18",
          "2021-11-19",
          "2021-11-22",
          "2021-11-23",
          "2021-11-24",
          "2021-11-25",
          "2021-11-26",
          "2021-11-29",
          "2021-11-30",
          "2021-12-01",
          "2021-12-02",
          "2021-12-03",
          "2021-12-06",
          "2021-12-07",
          "2021-12-08",
          "2021-12-09",
          "2021-12-10",
          "2021-12-13",
          "2021-12-14",
          "2021-12-15",
          "2021-12-16",
          "2021-12-17",
          "2021-12-20",
          "2021-12-21",
          "2021-12-22",
          "2021-12-23",
          "2021-12-27",
          "2021-12-28",
          "2021-12-29",
          "2021-12-30",
          "2022-01-03",
          "2022-01-04",
          "2022-01-05",
          "2022-01-06",
          "2022-01-07",
          "2022-01-10",
          "2022-01-11",
          "2022-01-12",
          "2022-01-13",
          "2022-01-14",
          "2022-01-17",
          "2022-01-18",
          "2022-01-19",
          "2022-01-20",
          "2022-01-21",
          "2022-01-24",
          "2022-01-25",
          "2022-01-26",
          "2022-01-27",
          "2022-01-28",
          "2022-01-31",
          "2022-02-01",
          "2022-02-02",
          "2022-02-03",
          "2022-02-04",
          "2022-02-07",
          "2022-02-08",
          "2022-02-09",
          "2022-02-10",
          "2022-02-11",
          "2022-02-14",
          "2022-02-15",
          "2022-02-16",
          "2022-02-17",
          "2022-02-18",
          "2022-02-21",
          "2022-02-22",
          "2022-02-23",
          "2022-02-24",
          "2022-02-25",
          "2022-03-02",
          "2022-03-03",
          "2022-03-04",
          "2022-03-07",
          "2022-03-08",
          "2022-03-09",
          "2022-03-10",
          "2022-03-11",
          "2022-03-14",
          "2022-03-15",
          "2022-03-16",
          "2022-03-17",
          "2022-03-18",
          "2022-03-21",
          "2022-03-22",
          "2022-03-23",
          "2022-03-24",
          "2022-03-25",
          "2022-03-28",
          "2022-03-29",
          "2022-03-30",
          "2022-03-31",
          "2022-04-01",
          "2022-04-04",
          "2022-04-05",
          "2022-04-06",
          "2022-04-07",
          "2022-04-08",
          "2022-04-11",
          "2022-04-12",
          "2022-04-13",
          "2022-04-14",
          "2022-04-18",
          "2022-04-19",
          "2022-04-20",
          "2022-04-22",
          "2022-04-25",
          "2022-04-26",
          "2022-04-27",
          "2022-04-28",
          "2022-04-29",
          "2022-05-02",
          "2022-05-03",
          "2022-05-04",
          "2022-05-05",
          "2022-05-06",
          "2022-05-09",
          "2022-05-10",
          "2022-05-11",
          "2022-05-12",
          "2022-05-13",
          "2022-05-16",
          "2022-05-17",
          "2022-05-18",
          "2022-05-19",
          "2022-05-20",
          "2022-05-23",
          "2022-05-24",
          "2022-05-25",
          "2022-05-26",
          "2022-05-27",
          "2022-05-30",
          "2022-05-31",
          "2022-06-01",
          "2022-06-02",
          "2022-06-03",
          "2022-06-06",
          "2022-06-07",
          "2022-06-08",
          "2022-06-09",
          "2022-06-10",
          "2022-06-13",
          "2022-06-14",
          "2022-06-15",
          "2022-06-17",
          "2022-06-20",
          "2022-06-21",
          "2022-06-22",
          "2022-06-23",
          "2022-06-24",
          "2022-06-27",
          "2022-06-28",
          "2022-06-29",
          "2022-06-30",
          "2022-07-01",
          "2022-07-04",
          "2022-07-05",
          "2022-07-06",
          "2022-07-07",
          "2022-07-08",
          "2022-07-11",
          "2022-07-12",
          "2022-07-13",
          "2022-07-14",
          "2022-07-15",
          "2022-07-18",
          "2022-07-19",
          "2022-07-20",
          "2022-07-21",
          "2022-07-22",
          "2022-07-25",
          "2022-07-26",
          "2022-07-27",
          "2022-07-28",
          "2022-07-29",
          "2022-08-01",
          "2022-08-02",
          "2022-08-03",
          "2022-08-04",
          "2022-08-05",
          "2022-08-08",
          "2022-08-09",
          "2022-08-10",
          "2022-08-11",
          "2022-08-12",
          "2022-08-15",
          "2022-08-16",
          "2022-08-17",
          "2022-08-18",
          "2022-08-19",
          "2022-08-22",
          "2022-08-23",
          "2022-08-24",
          "2022-08-25",
          "2022-08-26",
          "2022-08-29",
          "2022-08-30",
          "2022-08-31",
          "2022-09-01",
          "2022-09-02",
          "2022-09-05",
          "2022-09-06",
          "2022-09-08",
          "2022-09-09",
          "2022-09-12",
          "2022-09-13",
          "2022-09-14",
          "2022-09-15",
          "2022-09-16"
         ],
         "y": {
          "bdata": "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",
          "dtype": "f8"
         }
        },
        {
         "mode": "lines",
         "name": "Buy & Hold",
         "type": "scatter",
         "x": [
          "2019-11-19",
          "2019-11-21",
          "2019-11-22",
          "2019-11-25",
          "2019-11-26",
          "2019-11-27",
          "2019-11-28",
          "2019-11-29",
          "2019-12-02",
          "2019-12-03",
          "2019-12-04",
          "2019-12-05",
          "2019-12-06",
          "2019-12-09",
          "2019-12-10",
          "2019-12-11",
          "2019-12-12",
          "2019-12-13",
          "2019-12-16",
          "2019-12-17",
          "2019-12-18",
          "2019-12-19",
          "2019-12-20",
          "2019-12-23",
          "2019-12-26",
          "2019-12-27",
          "2019-12-30",
          "2020-01-02",
          "2020-01-03",
          "2020-01-06",
          "2020-01-07",
          "2020-01-08",
          "2020-01-09",
          "2020-01-10",
          "2020-01-13",
          "2020-01-14",
          "2020-01-15",
          "2020-01-16",
          "2020-01-17",
          "2020-01-20",
          "2020-01-21",
          "2020-01-22",
          "2020-01-23",
          "2020-01-24",
          "2020-01-27",
          "2020-01-28",
          "2020-01-29",
          "2020-01-30",
          "2020-01-31",
          "2020-02-03",
          "2020-02-04",
          "2020-02-05",
          "2020-02-06",
          "2020-02-07",
          "2020-02-10",
          "2020-02-11",
          "2020-02-12",
          "2020-02-13",
          "2020-02-14",
          "2020-02-17",
          "2020-02-18",
          "2020-02-19",
          "2020-02-20",
          "2020-02-21",
          "2020-02-26",
          "2020-02-27",
          "2020-02-28",
          "2020-03-02",
          "2020-03-03",
          "2020-03-04",
          "2020-03-05",
          "2020-03-06",
          "2020-03-09",
          "2020-03-10",
          "2020-03-11",
          "2020-03-12",
          "2020-03-13",
          "2020-03-16",
          "2020-03-17",
          "2020-03-18",
          "2020-03-19",
          "2020-03-20",
          "2020-03-23",
          "2020-03-24",
          "2020-03-25",
          "2020-03-26",
          "2020-03-27",
          "2020-03-30",
          "2020-03-31",
          "2020-04-01",
          "2020-04-02",
          "2020-04-03",
          "2020-04-06",
          "2020-04-07",
          "2020-04-08",
          "2020-04-09",
          "2020-04-13",
          "2020-04-14",
          "2020-04-15",
          "2020-04-16",
          "2020-04-17",
          "2020-04-20",
          "2020-04-22",
          "2020-04-23",
          "2020-04-24",
          "2020-04-27",
          "2020-04-28",
          "2020-04-29",
          "2020-04-30",
          "2020-05-04",
          "2020-05-05",
          "2020-05-06",
          "2020-05-07",
          "2020-05-08",
          "2020-05-11",
          "2020-05-12",
          "2020-05-13",
          "2020-05-14",
          "2020-05-15",
          "2020-05-18",
          "2020-05-19",
          "2020-05-20",
          "2020-05-21",
          "2020-05-22",
          "2020-05-25",
          "2020-05-26",
          "2020-05-27",
          "2020-05-28",
          "2020-05-29",
          "2020-06-01",
          "2020-06-02",
          "2020-06-03",
          "2020-06-04",
          "2020-06-05",
          "2020-06-08",
          "2020-06-09",
          "2020-06-10",
          "2020-06-12",
          "2020-06-15",
          "2020-06-16",
          "2020-06-17",
          "2020-06-18",
          "2020-06-19",
          "2020-06-22",
          "2020-06-23",
          "2020-06-24",
          "2020-06-25",
          "2020-06-26",
          "2020-06-29",
          "2020-06-30",
          "2020-07-01",
          "2020-07-02",
          "2020-07-03",
          "2020-07-06",
          "2020-07-07",
          "2020-07-08",
          "2020-07-09",
          "2020-07-10",
          "2020-07-13",
          "2020-07-14",
          "2020-07-15",
          "2020-07-16",
          "2020-07-17",
          "2020-07-20",
          "2020-07-21",
          "2020-07-22",
          "2020-07-23",
          "2020-07-24",
          "2020-07-27",
          "2020-07-28",
          "2020-07-29",
          "2020-07-30",
          "2020-07-31",
          "2020-08-03",
          "2020-08-04",
          "2020-08-05",
          "2020-08-06",
          "2020-08-07",
          "2020-08-10",
          "2020-08-11",
          "2020-08-12",
          "2020-08-13",
          "2020-08-14",
          "2020-08-17",
          "2020-08-18",
          "2020-08-19",
          "2020-08-20",
          "2020-08-21",
          "2020-08-24",
          "2020-08-25",
          "2020-08-26",
          "2020-08-27",
          "2020-08-28",
          "2020-08-31",
          "2020-09-01",
          "2020-09-02",
          "2020-09-03",
          "2020-09-04",
          "2020-09-08",
          "2020-09-09",
          "2020-09-10",
          "2020-09-11",
          "2020-09-14",
          "2020-09-15",
          "2020-09-16",
          "2020-09-17",
          "2020-09-18",
          "2020-09-21",
          "2020-09-22",
          "2020-09-23",
          "2020-09-24",
          "2020-09-25",
          "2020-09-28",
          "2020-09-29",
          "2020-09-30",
          "2020-10-01",
          "2020-10-02",
          "2020-10-05",
          "2020-10-06",
          "2020-10-07",
          "2020-10-08",
          "2020-10-09",
          "2020-10-13",
          "2020-10-14",
          "2020-10-15",
          "2020-10-16",
          "2020-10-19",
          "2020-10-20",
          "2020-10-21",
          "2020-10-22",
          "2020-10-23",
          "2020-10-26",
          "2020-10-27",
          "2020-10-28",
          "2020-10-29",
          "2020-10-30",
          "2020-11-03",
          "2020-11-04",
          "2020-11-05",
          "2020-11-06",
          "2020-11-09",
          "2020-11-10",
          "2020-11-11",
          "2020-11-12",
          "2020-11-13",
          "2020-11-16",
          "2020-11-17",
          "2020-11-18",
          "2020-11-19",
          "2020-11-23",
          "2020-11-24",
          "2020-11-25",
          "2020-11-26",
          "2020-11-27",
          "2020-11-30",
          "2020-12-01",
          "2020-12-02",
          "2020-12-03",
          "2020-12-04",
          "2020-12-07",
          "2020-12-08",
          "2020-12-09",
          "2020-12-10",
          "2020-12-11",
          "2020-12-14",
          "2020-12-15",
          "2020-12-16",
          "2020-12-17",
          "2020-12-18",
          "2020-12-21",
          "2020-12-22",
          "2020-12-23",
          "2020-12-28",
          "2020-12-29",
          "2020-12-30",
          "2021-01-04",
          "2021-01-05",
          "2021-01-06",
          "2021-01-07",
          "2021-01-08",
          "2021-01-11",
          "2021-01-12",
          "2021-01-13",
          "2021-01-14",
          "2021-01-15",
          "2021-01-18",
          "2021-01-19",
          "2021-01-20",
          "2021-01-21",
          "2021-01-22",
          "2021-01-26",
          "2021-01-27",
          "2021-01-28",
          "2021-01-29",
          "2021-02-01",
          "2021-02-02",
          "2021-02-03",
          "2021-02-04",
          "2021-02-05",
          "2021-02-08",
          "2021-02-09",
          "2021-02-10",
          "2021-02-11",
          "2021-02-12",
          "2021-02-17",
          "2021-02-18",
          "2021-02-19",
          "2021-02-22",
          "2021-02-23",
          "2021-02-24",
          "2021-02-25",
          "2021-02-26",
          "2021-03-01",
          "2021-03-02",
          "2021-03-03",
          "2021-03-04",
          "2021-03-05",
          "2021-03-08",
          "2021-03-09",
          "2021-03-10",
          "2021-03-11",
          "2021-03-12",
          "2021-03-15",
          "2021-03-16",
          "2021-03-17",
          "2021-03-18",
          "2021-03-19",
          "2021-03-22",
          "2021-03-23",
          "2021-03-24",
          "2021-03-25",
          "2021-03-26",
          "2021-03-29",
          "2021-03-30",
          "2021-03-31",
          "2021-04-01",
          "2021-04-05",
          "2021-04-06",
          "2021-04-07",
          "2021-04-08",
          "2021-04-09",
          "2021-04-12",
          "2021-04-13",
          "2021-04-14",
          "2021-04-15",
          "2021-04-16",
          "2021-04-19",
          "2021-04-20",
          "2021-04-22",
          "2021-04-23",
          "2021-04-26",
          "2021-04-27",
          "2021-04-28",
          "2021-04-29",
          "2021-04-30",
          "2021-05-03",
          "2021-05-04",
          "2021-05-05",
          "2021-05-06",
          "2021-05-07",
          "2021-05-10",
          "2021-05-11",
          "2021-05-12",
          "2021-05-13",
          "2021-05-14",
          "2021-05-17",
          "2021-05-18",
          "2021-05-19",
          "2021-05-20",
          "2021-05-21",
          "2021-05-24",
          "2021-05-25",
          "2021-05-26",
          "2021-05-27",
          "2021-05-28",
          "2021-05-31",
          "2021-06-01",
          "2021-06-02",
          "2021-06-04",
          "2021-06-07",
          "2021-06-08",
          "2021-06-09",
          "2021-06-10",
          "2021-06-11",
          "2021-06-14",
          "2021-06-15",
          "2021-06-16",
          "2021-06-17",
          "2021-06-18",
          "2021-06-21",
          "2021-06-22",
          "2021-06-23",
          "2021-06-24",
          "2021-06-25",
          "2021-06-28",
          "2021-06-29",
          "2021-06-30",
          "2021-07-01",
          "2021-07-02",
          "2021-07-05",
          "2021-07-06",
          "2021-07-07",
          "2021-07-08",
          "2021-07-12",
          "2021-07-13",
          "2021-07-14",
          "2021-07-15",
          "2021-07-16",
          "2021-07-19",
          "2021-07-20",
          "2021-07-21",
          "2021-07-22",
          "2021-07-23",
          "2021-07-26",
          "2021-07-27",
          "2021-07-28",
          "2021-07-29",
          "2021-07-30",
          "2021-08-02",
          "2021-08-03",
          "2021-08-04",
          "2021-08-05",
          "2021-08-06",
          "2021-08-09",
          "2021-08-10",
          "2021-08-11",
          "2021-08-12",
          "2021-08-13",
          "2021-08-16",
          "2021-08-17",
          "2021-08-18",
          "2021-08-19",
          "2021-08-20",
          "2021-08-23",
          "2021-08-24",
          "2021-08-25",
          "2021-08-26",
          "2021-08-27",
          "2021-08-30",
          "2021-08-31",
          "2021-09-01",
          "2021-09-02",
          "2021-09-03",
          "2021-09-06",
          "2021-09-08",
          "2021-09-09",
          "2021-09-10",
          "2021-09-13",
          "2021-09-14",
          "2021-09-15",
          "2021-09-16",
          "2021-09-17",
          "2021-09-20",
          "2021-09-21",
          "2021-09-22",
          "2021-09-23",
          "2021-09-24",
          "2021-09-27",
          "2021-09-28",
          "2021-09-29",
          "2021-09-30",
          "2021-10-01",
          "2021-10-04",
          "2021-10-05",
          "2021-10-06",
          "2021-10-07",
          "2021-10-08",
          "2021-10-11",
          "2021-10-13",
          "2021-10-14",
          "2021-10-15",
          "2021-10-18",
          "2021-10-19",
          "2021-10-20",
          "2021-10-21",
          "2021-10-22",
          "2021-10-25",
          "2021-10-26",
          "2021-10-27",
          "2021-10-28",
          "2021-10-29",
          "2021-11-01",
          "2021-11-03",
          "2021-11-04",
          "2021-11-05",
          "2021-11-08",
          "2021-11-09",
          "2021-11-10",
          "2021-11-11",
          "2021-11-12",
          "2021-11-16",
          "2021-11-17",
          "2021-11-18",
          "2021-11-19",
          "2021-11-22",
          "2021-11-23",
          "2021-11-24",
          "2021-11-25",
          "2021-11-26",
          "2021-11-29",
          "2021-11-30",
          "2021-12-01",
          "2021-12-02",
          "2021-12-03",
          "2021-12-06",
          "2021-12-07",
          "2021-12-08",
          "2021-12-09",
          "2021-12-10",
          "2021-12-13",
          "2021-12-14",
          "2021-12-15",
          "2021-12-16",
          "2021-12-17",
          "2021-12-20",
          "2021-12-21",
          "2021-12-22",
          "2021-12-23",
          "2021-12-27",
          "2021-12-28",
          "2021-12-29",
          "2021-12-30",
          "2022-01-03",
          "2022-01-04",
          "2022-01-05",
          "2022-01-06",
          "2022-01-07",
          "2022-01-10",
          "2022-01-11",
          "2022-01-12",
          "2022-01-13",
          "2022-01-14",
          "2022-01-17",
          "2022-01-18",
          "2022-01-19",
          "2022-01-20",
          "2022-01-21",
          "2022-01-24",
          "2022-01-25",
          "2022-01-26",
          "2022-01-27",
          "2022-01-28",
          "2022-01-31",
          "2022-02-01",
          "2022-02-02",
          "2022-02-03",
          "2022-02-04",
          "2022-02-07",
          "2022-02-08",
          "2022-02-09",
          "2022-02-10",
          "2022-02-11",
          "2022-02-14",
          "2022-02-15",
          "2022-02-16",
          "2022-02-17",
          "2022-02-18",
          "2022-02-21",
          "2022-02-22",
          "2022-02-23",
          "2022-02-24",
          "2022-02-25",
          "2022-03-02",
          "2022-03-03",
          "2022-03-04",
          "2022-03-07",
          "2022-03-08",
          "2022-03-09",
          "2022-03-10",
          "2022-03-11",
          "2022-03-14",
          "2022-03-15",
          "2022-03-16",
          "2022-03-17",
          "2022-03-18",
          "2022-03-21",
          "2022-03-22",
          "2022-03-23",
          "2022-03-24",
          "2022-03-25",
          "2022-03-28",
          "2022-03-29",
          "2022-03-30",
          "2022-03-31",
          "2022-04-01",
          "2022-04-04",
          "2022-04-05",
          "2022-04-06",
          "2022-04-07",
          "2022-04-08",
          "2022-04-11",
          "2022-04-12",
          "2022-04-13",
          "2022-04-14",
          "2022-04-18",
          "2022-04-19",
          "2022-04-20",
          "2022-04-22",
          "2022-04-25",
          "2022-04-26",
          "2022-04-27",
          "2022-04-28",
          "2022-04-29",
          "2022-05-02",
          "2022-05-03",
          "2022-05-04",
          "2022-05-05",
          "2022-05-06",
          "2022-05-09",
          "2022-05-10",
          "2022-05-11",
          "2022-05-12",
          "2022-05-13",
          "2022-05-16",
          "2022-05-17",
          "2022-05-18",
          "2022-05-19",
          "2022-05-20",
          "2022-05-23",
          "2022-05-24",
          "2022-05-25",
          "2022-05-26",
          "2022-05-27",
          "2022-05-30",
          "2022-05-31",
          "2022-06-01",
          "2022-06-02",
          "2022-06-03",
          "2022-06-06",
          "2022-06-07",
          "2022-06-08",
          "2022-06-09",
          "2022-06-10",
          "2022-06-13",
          "2022-06-14",
          "2022-06-15",
          "2022-06-17",
          "2022-06-20",
          "2022-06-21",
          "2022-06-22",
          "2022-06-23",
          "2022-06-24",
          "2022-06-27",
          "2022-06-28",
          "2022-06-29",
          "2022-06-30",
          "2022-07-01",
          "2022-07-04",
          "2022-07-05",
          "2022-07-06",
          "2022-07-07",
          "2022-07-08",
          "2022-07-11",
          "2022-07-12",
          "2022-07-13",
          "2022-07-14",
          "2022-07-15",
          "2022-07-18",
          "2022-07-19",
          "2022-07-20",
          "2022-07-21",
          "2022-07-22",
          "2022-07-25",
          "2022-07-26",
          "2022-07-27",
          "2022-07-28",
          "2022-07-29",
          "2022-08-01",
          "2022-08-02",
          "2022-08-03",
          "2022-08-04",
          "2022-08-05",
          "2022-08-08",
          "2022-08-09",
          "2022-08-10",
          "2022-08-11",
          "2022-08-12",
          "2022-08-15",
          "2022-08-16",
          "2022-08-17",
          "2022-08-18",
          "2022-08-19",
          "2022-08-22",
          "2022-08-23",
          "2022-08-24",
          "2022-08-25",
          "2022-08-26",
          "2022-08-29",
          "2022-08-30",
          "2022-08-31",
          "2022-09-01",
          "2022-09-02",
          "2022-09-05",
          "2022-09-06",
          "2022-09-08",
          "2022-09-09",
          "2022-09-12",
          "2022-09-13",
          "2022-09-14",
          "2022-09-15",
          "2022-09-16"
         ],
         "y": {
          "bdata": "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",
          "dtype": "f8"
         }
        }
       ],
       "layout": {
        "hovermode": "x unified",
        "legend": {
         "orientation": "h",
         "x": 0.98,
         "xanchor": "right",
         "y": 0.98,
         "yanchor": "top"
        },
        "template": {
         "data": {
          "bar": [
           {
            "error_x": {
             "color": "#2a3f5f"
            },
            "error_y": {
             "color": "#2a3f5f"
            },
            "marker": {
             "line": {
              "color": "#E5ECF6",
              "width": 0.5
             },
             "pattern": {
              "fillmode": "overlay",
              "size": 10,
              "solidity": 0.2
             }
            },
            "type": "bar"
           }
          ],
          "barpolar": [
           {
            "marker": {
             "line": {
              "color": "#E5ECF6",
              "width": 0.5
             },
             "pattern": {
              "fillmode": "overlay",
              "size": 10,
              "solidity": 0.2
             }
            },
            "type": "barpolar"
           }
          ],
          "carpet": [
           {
            "aaxis": {
             "endlinecolor": "#2a3f5f",
             "gridcolor": "white",
             "linecolor": "white",
             "minorgridcolor": "white",
             "startlinecolor": "#2a3f5f"
            },
            "baxis": {
             "endlinecolor": "#2a3f5f",
             "gridcolor": "white",
             "linecolor": "white",
             "minorgridcolor": "white",
             "startlinecolor": "#2a3f5f"
            },
            "type": "carpet"
           }
          ],
          "choropleth": [
           {
            "colorbar": {
             "outlinewidth": 0,
             "ticks": ""
            },
            "type": "choropleth"
           }
          ],
          "contour": [
           {
            "colorbar": {
             "outlinewidth": 0,
             "ticks": ""
            },
            "colorscale": [
             [
              0,
              "#0d0887"
             ],
             [
              0.1111111111111111,
              "#46039f"
             ],
             [
              0.2222222222222222,
              "#7201a8"
             ],
             [
              0.3333333333333333,
              "#9c179e"
             ],
             [
              0.4444444444444444,
              "#bd3786"
             ],
             [
              0.5555555555555556,
              "#d8576b"
             ],
             [
              0.6666666666666666,
              "#ed7953"
             ],
             [
              0.7777777777777778,
              "#fb9f3a"
             ],
             [
              0.8888888888888888,
              "#fdca26"
             ],
             [
              1,
              "#f0f921"
             ]
            ],
            "type": "contour"
           }
          ],
          "contourcarpet": [
           {
            "colorbar": {
             "outlinewidth": 0,
             "ticks": ""
            },
            "type": "contourcarpet"
           }
          ],
          "heatmap": [
           {
            "colorbar": {
             "outlinewidth": 0,
             "ticks": ""
            },
            "colorscale": [
             [
              0,
              "#0d0887"
             ],
             [
              0.1111111111111111,
              "#46039f"
             ],
             [
              0.2222222222222222,
              "#7201a8"
             ],
             [
              0.3333333333333333,
              "#9c179e"
             ],
             [
              0.4444444444444444,
              "#bd3786"
             ],
             [
              0.5555555555555556,
              "#d8576b"
             ],
             [
              0.6666666666666666,
              "#ed7953"
             ],
             [
              0.7777777777777778,
              "#fb9f3a"
             ],
             [
              0.8888888888888888,
              "#fdca26"
             ],
             [
              1,
              "#f0f921"
             ]
            ],
            "type": "heatmap"
           }
          ],
          "histogram": [
           {
            "marker": {
             "pattern": {
              "fillmode": "overlay",
              "size": 10,
              "solidity": 0.2
             }
            },
            "type": "histogram"
           }
          ],
          "histogram2d": [
           {
            "colorbar": {
             "outlinewidth": 0,
             "ticks": ""
            },
            "colorscale": [
             [
              0,
              "#0d0887"
             ],
             [
              0.1111111111111111,
              "#46039f"
             ],
             [
              0.2222222222222222,
              "#7201a8"
             ],
             [
              0.3333333333333333,
              "#9c179e"
             ],
             [
              0.4444444444444444,
              "#bd3786"
             ],
             [
              0.5555555555555556,
              "#d8576b"
             ],
             [
              0.6666666666666666,
              "#ed7953"
             ],
             [
              0.7777777777777778,
              "#fb9f3a"
             ],
             [
              0.8888888888888888,
              "#fdca26"
             ],
             [
              1,
              "#f0f921"
             ]
            ],
            "type": "histogram2d"
           }
          ],
          "histogram2dcontour": [
           {
            "colorbar": {
             "outlinewidth": 0,
             "ticks": ""
            },
            "colorscale": [
             [
              0,
              "#0d0887"
             ],
             [
              0.1111111111111111,
              "#46039f"
             ],
             [
              0.2222222222222222,
              "#7201a8"
             ],
             [
              0.3333333333333333,
              "#9c179e"
             ],
             [
              0.4444444444444444,
              "#bd3786"
             ],
             [
              0.5555555555555556,
              "#d8576b"
             ],
             [
              0.6666666666666666,
              "#ed7953"
             ],
             [
              0.7777777777777778,
              "#fb9f3a"
             ],
             [
              0.8888888888888888,
              "#fdca26"
             ],
             [
              1,
              "#f0f921"
             ]
            ],
            "type": "histogram2dcontour"
           }
          ],
          "mesh3d": [
           {
            "colorbar": {
             "outlinewidth": 0,
             "ticks": ""
            },
            "type": "mesh3d"
           }
          ],
          "parcoords": [
           {
            "line": {
             "colorbar": {
              "outlinewidth": 0,
              "ticks": ""
             }
            },
            "type": "parcoords"
           }
          ],
          "pie": [
           {
            "automargin": true,
            "type": "pie"
           }
          ],
          "scatter": [
           {
            "fillpattern": {
             "fillmode": "overlay",
             "size": 10,
             "solidity": 0.2
            },
            "type": "scatter"
           }
          ],
          "scatter3d": [
           {
            "line": {
             "colorbar": {
              "outlinewidth": 0,
              "ticks": ""
             }
            },
            "marker": {
             "colorbar": {
              "outlinewidth": 0,
              "ticks": ""
             }
            },
            "type": "scatter3d"
           }
          ],
          "scattercarpet": [
           {
            "marker": {
             "colorbar": {
              "outlinewidth": 0,
              "ticks": ""
             }
            },
            "type": "scattercarpet"
           }
          ],
          "scattergeo": [
           {
            "marker": {
             "colorbar": {
              "outlinewidth": 0,
              "ticks": ""
             }
            },
            "type": "scattergeo"
           }
          ],
          "scattergl": [
           {
            "marker": {
             "colorbar": {
              "outlinewidth": 0,
              "ticks": ""
             }
            },
            "type": "scattergl"
           }
          ],
          "scattermap": [
           {
            "marker": {
             "colorbar": {
              "outlinewidth": 0,
              "ticks": ""
             }
            },
            "type": "scattermap"
           }
          ],
          "scattermapbox": [
           {
            "marker": {
             "colorbar": {
              "outlinewidth": 0,
              "ticks": ""
             }
            },
            "type": "scattermapbox"
           }
          ],
          "scatterpolar": [
           {
            "marker": {
             "colorbar": {
              "outlinewidth": 0,
              "ticks": ""
             }
            },
            "type": "scatterpolar"
           }
          ],
          "scatterpolargl": [
           {
            "marker": {
             "colorbar": {
              "outlinewidth": 0,
              "ticks": ""
             }
            },
            "type": "scatterpolargl"
           }
          ],
          "scatterternary": [
           {
            "marker": {
             "colorbar": {
              "outlinewidth": 0,
              "ticks": ""
             }
            },
            "type": "scatterternary"
           }
          ],
          "surface": [
           {
            "colorbar": {
             "outlinewidth": 0,
             "ticks": ""
            },
            "colorscale": [
             [
              0,
              "#0d0887"
             ],
             [
              0.1111111111111111,
              "#46039f"
             ],
             [
              0.2222222222222222,
              "#7201a8"
             ],
             [
              0.3333333333333333,
              "#9c179e"
             ],
             [
              0.4444444444444444,
              "#bd3786"
             ],
             [
              0.5555555555555556,
              "#d8576b"
             ],
             [
              0.6666666666666666,
              "#ed7953"
             ],
             [
              0.7777777777777778,
              "#fb9f3a"
             ],
             [
              0.8888888888888888,
              "#fdca26"
             ],
             [
              1,
              "#f0f921"
             ]
            ],
            "type": "surface"
           }
          ],
          "table": [
           {
            "cells": {
             "fill": {
              "color": "#EBF0F8"
             },
             "line": {
              "color": "white"
             }
            },
            "header": {
             "fill": {
              "color": "#C8D4E3"
             },
             "line": {
              "color": "white"
             }
            },
            "type": "table"
           }
          ]
         },
         "layout": {
          "annotationdefaults": {
           "arrowcolor": "#2a3f5f",
           "arrowhead": 0,
           "arrowwidth": 1
          },
          "autotypenumbers": "strict",
          "coloraxis": {
           "colorbar": {
            "outlinewidth": 0,
            "ticks": ""
           }
          },
          "colorscale": {
           "diverging": [
            [
             0,
             "#8e0152"
            ],
            [
             0.1,
             "#c51b7d"
            ],
            [
             0.2,
             "#de77ae"
            ],
            [
             0.3,
             "#f1b6da"
            ],
            [
             0.4,
             "#fde0ef"
            ],
            [
             0.5,
             "#f7f7f7"
            ],
            [
             0.6,
             "#e6f5d0"
            ],
            [
             0.7,
             "#b8e186"
            ],
            [
             0.8,
             "#7fbc41"
            ],
            [
             0.9,
             "#4d9221"
            ],
            [
             1,
             "#276419"
            ]
           ],
           "sequential": [
            [
             0,
             "#0d0887"
            ],
            [
             0.1111111111111111,
             "#46039f"
            ],
            [
             0.2222222222222222,
             "#7201a8"
            ],
            [
             0.3333333333333333,
             "#9c179e"
            ],
            [
             0.4444444444444444,
             "#bd3786"
            ],
            [
             0.5555555555555556,
             "#d8576b"
            ],
            [
             0.6666666666666666,
             "#ed7953"
            ],
            [
             0.7777777777777778,
             "#fb9f3a"
            ],
            [
             0.8888888888888888,
             "#fdca26"
            ],
            [
             1,
             "#f0f921"
            ]
           ],
           "sequentialminus": [
            [
             0,
             "#0d0887"
            ],
            [
             0.1111111111111111,
             "#46039f"
            ],
            [
             0.2222222222222222,
             "#7201a8"
            ],
            [
             0.3333333333333333,
             "#9c179e"
            ],
            [
             0.4444444444444444,
             "#bd3786"
            ],
            [
             0.5555555555555556,
             "#d8576b"
            ],
            [
             0.6666666666666666,
             "#ed7953"
            ],
            [
             0.7777777777777778,
             "#fb9f3a"
            ],
            [
             0.8888888888888888,
             "#fdca26"
            ],
            [
             1,
             "#f0f921"
            ]
           ]
          },
          "colorway": [
           "#636efa",
           "#EF553B",
           "#00cc96",
           "#ab63fa",
           "#FFA15A",
           "#19d3f3",
           "#FF6692",
           "#B6E880",
           "#FF97FF",
           "#FECB52"
          ],
          "font": {
           "color": "#2a3f5f"
          },
          "geo": {
           "bgcolor": "white",
           "lakecolor": "white",
           "landcolor": "#E5ECF6",
           "showlakes": true,
           "showland": true,
           "subunitcolor": "white"
          },
          "hoverlabel": {
           "align": "left"
          },
          "hovermode": "closest",
          "mapbox": {
           "style": "light"
          },
          "paper_bgcolor": "white",
          "plot_bgcolor": "#E5ECF6",
          "polar": {
           "angularaxis": {
            "gridcolor": "white",
            "linecolor": "white",
            "ticks": ""
           },
           "bgcolor": "#E5ECF6",
           "radialaxis": {
            "gridcolor": "white",
            "linecolor": "white",
            "ticks": ""
           }
          },
          "scene": {
           "xaxis": {
            "backgroundcolor": "#E5ECF6",
            "gridcolor": "white",
            "gridwidth": 2,
            "linecolor": "white",
            "showbackground": true,
            "ticks": "",
            "zerolinecolor": "white"
           },
           "yaxis": {
            "backgroundcolor": "#E5ECF6",
            "gridcolor": "white",
            "gridwidth": 2,
            "linecolor": "white",
            "showbackground": true,
            "ticks": "",
            "zerolinecolor": "white"
           },
           "zaxis": {
            "backgroundcolor": "#E5ECF6",
            "gridcolor": "white",
            "gridwidth": 2,
            "linecolor": "white",
            "showbackground": true,
            "ticks": "",
            "zerolinecolor": "white"
           }
          },
          "shapedefaults": {
           "line": {
            "color": "#2a3f5f"
           }
          },
          "ternary": {
           "aaxis": {
            "gridcolor": "white",
            "linecolor": "white",
            "ticks": ""
           },
           "baxis": {
            "gridcolor": "white",
            "linecolor": "white",
            "ticks": ""
           },
           "bgcolor": "#E5ECF6",
           "caxis": {
            "gridcolor": "white",
            "linecolor": "white",
            "ticks": ""
           }
          },
          "title": {
           "x": 0.05
          },
          "xaxis": {
           "automargin": true,
           "gridcolor": "white",
           "linecolor": "white",
           "ticks": "",
           "title": {
            "standoff": 15
           },
           "zerolinecolor": "white",
           "zerolinewidth": 2
          },
          "yaxis": {
           "automargin": true,
           "gridcolor": "white",
           "linecolor": "white",
           "ticks": "",
           "title": {
            "standoff": 15
           },
           "zerolinecolor": "white",
           "zerolinewidth": 2
          }
         }
        },
        "title": {
         "text": "BBDC4 - Strategy with model_2 vs. Buy and Hold Strategy",
         "x": 0.5
        },
        "xaxis": {
         "title": {
          "text": "Data"
         }
        },
        "yaxis": {
         "title": {
          "text": "Valor"
         }
        }
       }
      }
     },
     "metadata": {},
     "output_type": "display_data"
    },
    {
     "data": {
      "application/vnd.plotly.v1+json": {
       "config": {
        "plotlyServerURL": "https://plot.ly"
       },
       "data": [
        {
         "mode": "lines",
         "name": "Strategy with model_2",
         "type": "scatter",
         "x": [
          "2019-10-23",
          "2019-10-24",
          "2019-10-25",
          "2019-10-28",
          "2019-10-29",
          "2019-10-30",
          "2019-10-31",
          "2019-11-01",
          "2019-11-04",
          "2019-11-05",
          "2019-11-06",
          "2019-11-07",
          "2019-11-08",
          "2019-11-11",
          "2019-11-12",
          "2019-11-13",
          "2019-11-14",
          "2019-11-18",
          "2019-11-19",
          "2019-11-21",
          "2019-11-22",
          "2019-11-25",
          "2019-11-26",
          "2019-11-27",
          "2019-11-28",
          "2019-11-29",
          "2019-12-02",
          "2019-12-03",
          "2019-12-04",
          "2019-12-05",
          "2019-12-06",
          "2019-12-09",
          "2019-12-10",
          "2019-12-11",
          "2019-12-12",
          "2019-12-13",
          "2019-12-16",
          "2019-12-17",
          "2019-12-18",
          "2019-12-19",
          "2019-12-20",
          "2019-12-23",
          "2019-12-26",
          "2019-12-27",
          "2019-12-30",
          "2020-01-02",
          "2020-01-03",
          "2020-01-06",
          "2020-01-07",
          "2020-01-08",
          "2020-01-09",
          "2020-01-10",
          "2020-01-13",
          "2020-01-14",
          "2020-01-15",
          "2020-01-16",
          "2020-01-17",
          "2020-01-20",
          "2020-01-21",
          "2020-01-22",
          "2020-01-23",
          "2020-01-24",
          "2020-01-27",
          "2020-01-28",
          "2020-01-29",
          "2020-01-30",
          "2020-01-31",
          "2020-02-03",
          "2020-02-04",
          "2020-02-05",
          "2020-02-06",
          "2020-02-07",
          "2020-02-10",
          "2020-02-11",
          "2020-02-12",
          "2020-02-13",
          "2020-02-14",
          "2020-02-17",
          "2020-02-18",
          "2020-02-19",
          "2020-02-20",
          "2020-02-21",
          "2020-02-26",
          "2020-02-27",
          "2020-02-28",
          "2020-03-02",
          "2020-03-03",
          "2020-03-04",
          "2020-03-05",
          "2020-03-06",
          "2020-03-09",
          "2020-03-10",
          "2020-03-11",
          "2020-03-12",
          "2020-03-13",
          "2020-03-16",
          "2020-03-17",
          "2020-03-18",
          "2020-03-19",
          "2020-03-20",
          "2020-03-23",
          "2020-03-24",
          "2020-03-25",
          "2020-03-26",
          "2020-03-27",
          "2020-03-30",
          "2020-03-31",
          "2020-04-01",
          "2020-04-02",
          "2020-04-03",
          "2020-04-06",
          "2020-04-07",
          "2020-04-08",
          "2020-04-09",
          "2020-04-13",
          "2020-04-14",
          "2020-04-15",
          "2020-04-16",
          "2020-04-17",
          "2020-04-20",
          "2020-04-22",
          "2020-04-23",
          "2020-04-24",
          "2020-04-27",
          "2020-04-28",
          "2020-04-29",
          "2020-04-30",
          "2020-05-04",
          "2020-05-05",
          "2020-05-06",
          "2020-05-07",
          "2020-05-08",
          "2020-05-11",
          "2020-05-12",
          "2020-05-13",
          "2020-05-14",
          "2020-05-15",
          "2020-05-18",
          "2020-05-19",
          "2020-05-20",
          "2020-05-21",
          "2020-05-22",
          "2020-05-25",
          "2020-05-26",
          "2020-05-27",
          "2020-05-28",
          "2020-05-29",
          "2020-06-01",
          "2020-06-02",
          "2020-06-03",
          "2020-06-04",
          "2020-06-05",
          "2020-06-08",
          "2020-06-09",
          "2020-06-10",
          "2020-06-12",
          "2020-06-15",
          "2020-06-16",
          "2020-06-17",
          "2020-06-18",
          "2020-06-19",
          "2020-06-22",
          "2020-06-23",
          "2020-06-24",
          "2020-06-25",
          "2020-06-26",
          "2020-06-29",
          "2020-06-30",
          "2020-07-01",
          "2020-07-02",
          "2020-07-03",
          "2020-07-06",
          "2020-07-07",
          "2020-07-08",
          "2020-07-09",
          "2020-07-10",
          "2020-07-13",
          "2020-07-14",
          "2020-07-15",
          "2020-07-16",
          "2020-07-17",
          "2020-07-20",
          "2020-07-21",
          "2020-07-22",
          "2020-07-23",
          "2020-07-24",
          "2020-07-27",
          "2020-07-28",
          "2020-07-29",
          "2020-07-30",
          "2020-07-31",
          "2020-08-03",
          "2020-08-04",
          "2020-08-05",
          "2020-08-06",
          "2020-08-07",
          "2020-08-10",
          "2020-08-11",
          "2020-08-12",
          "2020-08-13",
          "2020-08-14",
          "2020-08-17",
          "2020-08-18",
          "2020-08-19",
          "2020-08-20",
          "2020-08-21",
          "2020-08-24",
          "2020-08-25",
          "2020-08-26",
          "2020-08-27",
          "2020-08-28",
          "2020-08-31",
          "2020-09-01",
          "2020-09-02",
          "2020-09-03",
          "2020-09-04",
          "2020-09-08",
          "2020-09-09",
          "2020-09-10",
          "2020-09-11",
          "2020-09-14",
          "2020-09-15",
          "2020-09-16",
          "2020-09-17",
          "2020-09-18",
          "2020-09-21",
          "2020-09-22",
          "2020-09-23",
          "2020-09-24",
          "2020-09-25",
          "2020-09-28",
          "2020-09-29",
          "2020-09-30",
          "2020-10-01",
          "2020-10-02",
          "2020-10-05",
          "2020-10-06",
          "2020-10-07",
          "2020-10-08",
          "2020-10-09",
          "2020-10-13",
          "2020-10-14",
          "2020-10-15",
          "2020-10-16",
          "2020-10-19",
          "2020-10-20",
          "2020-10-21",
          "2020-10-22",
          "2020-10-23",
          "2020-10-26",
          "2020-10-27",
          "2020-10-28",
          "2020-10-29",
          "2020-10-30",
          "2020-11-03",
          "2020-11-04",
          "2020-11-05",
          "2020-11-06",
          "2020-11-09",
          "2020-11-10",
          "2020-11-11",
          "2020-11-12",
          "2020-11-13",
          "2020-11-16",
          "2020-11-17",
          "2020-11-18",
          "2020-11-19",
          "2020-11-23",
          "2020-11-24",
          "2020-11-25",
          "2020-11-26",
          "2020-11-27",
          "2020-11-30",
          "2020-12-01",
          "2020-12-02",
          "2020-12-03",
          "2020-12-04",
          "2020-12-07",
          "2020-12-08",
          "2020-12-09",
          "2020-12-10",
          "2020-12-11",
          "2020-12-14",
          "2020-12-15",
          "2020-12-16",
          "2020-12-17",
          "2020-12-18",
          "2020-12-21",
          "2020-12-22",
          "2020-12-23",
          "2020-12-28",
          "2020-12-29",
          "2020-12-30",
          "2021-01-04",
          "2021-01-05",
          "2021-01-06",
          "2021-01-07",
          "2021-01-08",
          "2021-01-11",
          "2021-01-12",
          "2021-01-13",
          "2021-01-14",
          "2021-01-15",
          "2021-01-18",
          "2021-01-19",
          "2021-01-20",
          "2021-01-21",
          "2021-01-22",
          "2021-01-26",
          "2021-01-27",
          "2021-01-28",
          "2021-01-29",
          "2021-02-01",
          "2021-02-02",
          "2021-02-03",
          "2021-02-04",
          "2021-02-05",
          "2021-02-08",
          "2021-02-09",
          "2021-02-10",
          "2021-02-11",
          "2021-02-12",
          "2021-02-17",
          "2021-02-18",
          "2021-02-19",
          "2021-02-22",
          "2021-02-23",
          "2021-02-24",
          "2021-02-25",
          "2021-02-26",
          "2021-03-01",
          "2021-03-02",
          "2021-03-03",
          "2021-03-04",
          "2021-03-05",
          "2021-03-08",
          "2021-03-09",
          "2021-03-10",
          "2021-03-11",
          "2021-03-12",
          "2021-03-15",
          "2021-03-16",
          "2021-03-17",
          "2021-03-18",
          "2021-03-19",
          "2021-03-22",
          "2021-03-23",
          "2021-03-24",
          "2021-03-25",
          "2021-03-26",
          "2021-03-29",
          "2021-03-30",
          "2021-03-31",
          "2021-04-01",
          "2021-04-05",
          "2021-04-06",
          "2021-04-07",
          "2021-04-08",
          "2021-04-09",
          "2021-04-12",
          "2021-04-13",
          "2021-04-14",
          "2021-04-15",
          "2021-04-16",
          "2021-04-19",
          "2021-04-20",
          "2021-04-22",
          "2021-04-23",
          "2021-04-26",
          "2021-04-27",
          "2021-04-28",
          "2021-04-29",
          "2021-04-30",
          "2021-05-03",
          "2021-05-04",
          "2021-05-05",
          "2021-05-06",
          "2021-05-07",
          "2021-05-10",
          "2021-05-11",
          "2021-05-12",
          "2021-05-13",
          "2021-05-14",
          "2021-05-17",
          "2021-05-18",
          "2021-05-19",
          "2021-05-20",
          "2021-05-21",
          "2021-05-24",
          "2021-05-25",
          "2021-05-26",
          "2021-05-27",
          "2021-05-28",
          "2021-05-31",
          "2021-06-01",
          "2021-06-02",
          "2021-06-04",
          "2021-06-07",
          "2021-06-08",
          "2021-06-09",
          "2021-06-10",
          "2021-06-11",
          "2021-06-14",
          "2021-06-15",
          "2021-06-16",
          "2021-06-17",
          "2021-06-18",
          "2021-06-21",
          "2021-06-22",
          "2021-06-23",
          "2021-06-24",
          "2021-06-25",
          "2021-06-28",
          "2021-06-29",
          "2021-06-30",
          "2021-07-01",
          "2021-07-02",
          "2021-07-05",
          "2021-07-06",
          "2021-07-07",
          "2021-07-08",
          "2021-07-12",
          "2021-07-13",
          "2021-07-14",
          "2021-07-15",
          "2021-07-16",
          "2021-07-19",
          "2021-07-20",
          "2021-07-21",
          "2021-07-22",
          "2021-07-23",
          "2021-07-26",
          "2021-07-27",
          "2021-07-28",
          "2021-07-29",
          "2021-07-30",
          "2021-08-02",
          "2021-08-03",
          "2021-08-04",
          "2021-08-05",
          "2021-08-06",
          "2021-08-09",
          "2021-08-10",
          "2021-08-11",
          "2021-08-12",
          "2021-08-13",
          "2021-08-16",
          "2021-08-17",
          "2021-08-18",
          "2021-08-19",
          "2021-08-20",
          "2021-08-23",
          "2021-08-24",
          "2021-08-25",
          "2021-08-26",
          "2021-08-27",
          "2021-08-30",
          "2021-08-31",
          "2021-09-01",
          "2021-09-02",
          "2021-09-03",
          "2021-09-06",
          "2021-09-08",
          "2021-09-09",
          "2021-09-10",
          "2021-09-13",
          "2021-09-14",
          "2021-09-15",
          "2021-09-16",
          "2021-09-17",
          "2021-09-20",
          "2021-09-21",
          "2021-09-22",
          "2021-09-23",
          "2021-09-24",
          "2021-09-27",
          "2021-09-28",
          "2021-09-29",
          "2021-09-30",
          "2021-10-01",
          "2021-10-04",
          "2021-10-05",
          "2021-10-06",
          "2021-10-07",
          "2021-10-08",
          "2021-10-11",
          "2021-10-13",
          "2021-10-14",
          "2021-10-15",
          "2021-10-18",
          "2021-10-19",
          "2021-10-20",
          "2021-10-21",
          "2021-10-22",
          "2021-10-25",
          "2021-10-26",
          "2021-10-27",
          "2021-10-28",
          "2021-10-29",
          "2021-11-01",
          "2021-11-03",
          "2021-11-04",
          "2021-11-05",
          "2021-11-08",
          "2021-11-09",
          "2021-11-10",
          "2021-11-11",
          "2021-11-12",
          "2021-11-16",
          "2021-11-17",
          "2021-11-18",
          "2021-11-19",
          "2021-11-22",
          "2021-11-23",
          "2021-11-24",
          "2021-11-25",
          "2021-11-26",
          "2021-11-29",
          "2021-11-30",
          "2021-12-01",
          "2021-12-02",
          "2021-12-03",
          "2021-12-06",
          "2021-12-07",
          "2021-12-08",
          "2021-12-09",
          "2021-12-10",
          "2021-12-13",
          "2021-12-14",
          "2021-12-15",
          "2021-12-16",
          "2021-12-17",
          "2021-12-20",
          "2021-12-21",
          "2021-12-22",
          "2021-12-23",
          "2021-12-27",
          "2021-12-28",
          "2021-12-29",
          "2021-12-30",
          "2022-01-03",
          "2022-01-04",
          "2022-01-05",
          "2022-01-06",
          "2022-01-07",
          "2022-01-10",
          "2022-01-11",
          "2022-01-12",
          "2022-01-13",
          "2022-01-14",
          "2022-01-17",
          "2022-01-18",
          "2022-01-19",
          "2022-01-20",
          "2022-01-21",
          "2022-01-24",
          "2022-01-25",
          "2022-01-26",
          "2022-01-27",
          "2022-01-28",
          "2022-01-31",
          "2022-02-01",
          "2022-02-02",
          "2022-02-03",
          "2022-02-04",
          "2022-02-07",
          "2022-02-08",
          "2022-02-09",
          "2022-02-10",
          "2022-02-11",
          "2022-02-14",
          "2022-02-15",
          "2022-02-16",
          "2022-02-17",
          "2022-02-18",
          "2022-02-21",
          "2022-02-22",
          "2022-02-23",
          "2022-02-24",
          "2022-02-25",
          "2022-03-02",
          "2022-03-03",
          "2022-03-04",
          "2022-03-07",
          "2022-03-08",
          "2022-03-09",
          "2022-03-10",
          "2022-03-11",
          "2022-03-14",
          "2022-03-15",
          "2022-03-16",
          "2022-03-17",
          "2022-03-18",
          "2022-03-21",
          "2022-03-22",
          "2022-03-23",
          "2022-03-24",
          "2022-03-25",
          "2022-03-28",
          "2022-03-29",
          "2022-03-30",
          "2022-03-31",
          "2022-04-01",
          "2022-04-04",
          "2022-04-05",
          "2022-04-06",
          "2022-04-07",
          "2022-04-08",
          "2022-04-11",
          "2022-04-12",
          "2022-04-13",
          "2022-04-14",
          "2022-04-18",
          "2022-04-19",
          "2022-04-20",
          "2022-04-22",
          "2022-04-25",
          "2022-04-26",
          "2022-04-27",
          "2022-04-28",
          "2022-04-29",
          "2022-05-02",
          "2022-05-03",
          "2022-05-04",
          "2022-05-05",
          "2022-05-06",
          "2022-05-09",
          "2022-05-10",
          "2022-05-11",
          "2022-05-12",
          "2022-05-13",
          "2022-05-16",
          "2022-05-17",
          "2022-05-18",
          "2022-05-19",
          "2022-05-20",
          "2022-05-23",
          "2022-05-24",
          "2022-05-25",
          "2022-05-26",
          "2022-05-27",
          "2022-05-30",
          "2022-05-31",
          "2022-06-01",
          "2022-06-02",
          "2022-06-03",
          "2022-06-06",
          "2022-06-07",
          "2022-06-08",
          "2022-06-09",
          "2022-06-10",
          "2022-06-13",
          "2022-06-14",
          "2022-06-15",
          "2022-06-17",
          "2022-06-20",
          "2022-06-21",
          "2022-06-22",
          "2022-06-23",
          "2022-06-24",
          "2022-06-27",
          "2022-06-28",
          "2022-06-29",
          "2022-06-30",
          "2022-07-01",
          "2022-07-04",
          "2022-07-05",
          "2022-07-06",
          "2022-07-07",
          "2022-07-08",
          "2022-07-11",
          "2022-07-12",
          "2022-07-13",
          "2022-07-14",
          "2022-07-15",
          "2022-07-18",
          "2022-07-19",
          "2022-07-20",
          "2022-07-21",
          "2022-07-22",
          "2022-07-25",
          "2022-07-26",
          "2022-07-27",
          "2022-07-28",
          "2022-07-29",
          "2022-08-01",
          "2022-08-02",
          "2022-08-03",
          "2022-08-04",
          "2022-08-05",
          "2022-08-08",
          "2022-08-09",
          "2022-08-10",
          "2022-08-11",
          "2022-08-12",
          "2022-08-15",
          "2022-08-16",
          "2022-08-17",
          "2022-08-18",
          "2022-08-19",
          "2022-08-22",
          "2022-08-23",
          "2022-08-24",
          "2022-08-25",
          "2022-08-26",
          "2022-08-29",
          "2022-08-30",
          "2022-08-31",
          "2022-09-01",
          "2022-09-02",
          "2022-09-05",
          "2022-09-06",
          "2022-09-08",
          "2022-09-09",
          "2022-09-12",
          "2022-09-13",
          "2022-09-14",
          "2022-09-15",
          "2022-09-16"
         ],
         "y": {
          "bdata": "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",
          "dtype": "f8"
         }
        },
        {
         "mode": "lines",
         "name": "Buy & Hold",
         "type": "scatter",
         "x": [
          "2019-10-23",
          "2019-10-24",
          "2019-10-25",
          "2019-10-28",
          "2019-10-29",
          "2019-10-30",
          "2019-10-31",
          "2019-11-01",
          "2019-11-04",
          "2019-11-05",
          "2019-11-06",
          "2019-11-07",
          "2019-11-08",
          "2019-11-11",
          "2019-11-12",
          "2019-11-13",
          "2019-11-14",
          "2019-11-18",
          "2019-11-19",
          "2019-11-21",
          "2019-11-22",
          "2019-11-25",
          "2019-11-26",
          "2019-11-27",
          "2019-11-28",
          "2019-11-29",
          "2019-12-02",
          "2019-12-03",
          "2019-12-04",
          "2019-12-05",
          "2019-12-06",
          "2019-12-09",
          "2019-12-10",
          "2019-12-11",
          "2019-12-12",
          "2019-12-13",
          "2019-12-16",
          "2019-12-17",
          "2019-12-18",
          "2019-12-19",
          "2019-12-20",
          "2019-12-23",
          "2019-12-26",
          "2019-12-27",
          "2019-12-30",
          "2020-01-02",
          "2020-01-03",
          "2020-01-06",
          "2020-01-07",
          "2020-01-08",
          "2020-01-09",
          "2020-01-10",
          "2020-01-13",
          "2020-01-14",
          "2020-01-15",
          "2020-01-16",
          "2020-01-17",
          "2020-01-20",
          "2020-01-21",
          "2020-01-22",
          "2020-01-23",
          "2020-01-24",
          "2020-01-27",
          "2020-01-28",
          "2020-01-29",
          "2020-01-30",
          "2020-01-31",
          "2020-02-03",
          "2020-02-04",
          "2020-02-05",
          "2020-02-06",
          "2020-02-07",
          "2020-02-10",
          "2020-02-11",
          "2020-02-12",
          "2020-02-13",
          "2020-02-14",
          "2020-02-17",
          "2020-02-18",
          "2020-02-19",
          "2020-02-20",
          "2020-02-21",
          "2020-02-26",
          "2020-02-27",
          "2020-02-28",
          "2020-03-02",
          "2020-03-03",
          "2020-03-04",
          "2020-03-05",
          "2020-03-06",
          "2020-03-09",
          "2020-03-10",
          "2020-03-11",
          "2020-03-12",
          "2020-03-13",
          "2020-03-16",
          "2020-03-17",
          "2020-03-18",
          "2020-03-19",
          "2020-03-20",
          "2020-03-23",
          "2020-03-24",
          "2020-03-25",
          "2020-03-26",
          "2020-03-27",
          "2020-03-30",
          "2020-03-31",
          "2020-04-01",
          "2020-04-02",
          "2020-04-03",
          "2020-04-06",
          "2020-04-07",
          "2020-04-08",
          "2020-04-09",
          "2020-04-13",
          "2020-04-14",
          "2020-04-15",
          "2020-04-16",
          "2020-04-17",
          "2020-04-20",
          "2020-04-22",
          "2020-04-23",
          "2020-04-24",
          "2020-04-27",
          "2020-04-28",
          "2020-04-29",
          "2020-04-30",
          "2020-05-04",
          "2020-05-05",
          "2020-05-06",
          "2020-05-07",
          "2020-05-08",
          "2020-05-11",
          "2020-05-12",
          "2020-05-13",
          "2020-05-14",
          "2020-05-15",
          "2020-05-18",
          "2020-05-19",
          "2020-05-20",
          "2020-05-21",
          "2020-05-22",
          "2020-05-25",
          "2020-05-26",
          "2020-05-27",
          "2020-05-28",
          "2020-05-29",
          "2020-06-01",
          "2020-06-02",
          "2020-06-03",
          "2020-06-04",
          "2020-06-05",
          "2020-06-08",
          "2020-06-09",
          "2020-06-10",
          "2020-06-12",
          "2020-06-15",
          "2020-06-16",
          "2020-06-17",
          "2020-06-18",
          "2020-06-19",
          "2020-06-22",
          "2020-06-23",
          "2020-06-24",
          "2020-06-25",
          "2020-06-26",
          "2020-06-29",
          "2020-06-30",
          "2020-07-01",
          "2020-07-02",
          "2020-07-03",
          "2020-07-06",
          "2020-07-07",
          "2020-07-08",
          "2020-07-09",
          "2020-07-10",
          "2020-07-13",
          "2020-07-14",
          "2020-07-15",
          "2020-07-16",
          "2020-07-17",
          "2020-07-20",
          "2020-07-21",
          "2020-07-22",
          "2020-07-23",
          "2020-07-24",
          "2020-07-27",
          "2020-07-28",
          "2020-07-29",
          "2020-07-30",
          "2020-07-31",
          "2020-08-03",
          "2020-08-04",
          "2020-08-05",
          "2020-08-06",
          "2020-08-07",
          "2020-08-10",
          "2020-08-11",
          "2020-08-12",
          "2020-08-13",
          "2020-08-14",
          "2020-08-17",
          "2020-08-18",
          "2020-08-19",
          "2020-08-20",
          "2020-08-21",
          "2020-08-24",
          "2020-08-25",
          "2020-08-26",
          "2020-08-27",
          "2020-08-28",
          "2020-08-31",
          "2020-09-01",
          "2020-09-02",
          "2020-09-03",
          "2020-09-04",
          "2020-09-08",
          "2020-09-09",
          "2020-09-10",
          "2020-09-11",
          "2020-09-14",
          "2020-09-15",
          "2020-09-16",
          "2020-09-17",
          "2020-09-18",
          "2020-09-21",
          "2020-09-22",
          "2020-09-23",
          "2020-09-24",
          "2020-09-25",
          "2020-09-28",
          "2020-09-29",
          "2020-09-30",
          "2020-10-01",
          "2020-10-02",
          "2020-10-05",
          "2020-10-06",
          "2020-10-07",
          "2020-10-08",
          "2020-10-09",
          "2020-10-13",
          "2020-10-14",
          "2020-10-15",
          "2020-10-16",
          "2020-10-19",
          "2020-10-20",
          "2020-10-21",
          "2020-10-22",
          "2020-10-23",
          "2020-10-26",
          "2020-10-27",
          "2020-10-28",
          "2020-10-29",
          "2020-10-30",
          "2020-11-03",
          "2020-11-04",
          "2020-11-05",
          "2020-11-06",
          "2020-11-09",
          "2020-11-10",
          "2020-11-11",
          "2020-11-12",
          "2020-11-13",
          "2020-11-16",
          "2020-11-17",
          "2020-11-18",
          "2020-11-19",
          "2020-11-23",
          "2020-11-24",
          "2020-11-25",
          "2020-11-26",
          "2020-11-27",
          "2020-11-30",
          "2020-12-01",
          "2020-12-02",
          "2020-12-03",
          "2020-12-04",
          "2020-12-07",
          "2020-12-08",
          "2020-12-09",
          "2020-12-10",
          "2020-12-11",
          "2020-12-14",
          "2020-12-15",
          "2020-12-16",
          "2020-12-17",
          "2020-12-18",
          "2020-12-21",
          "2020-12-22",
          "2020-12-23",
          "2020-12-28",
          "2020-12-29",
          "2020-12-30",
          "2021-01-04",
          "2021-01-05",
          "2021-01-06",
          "2021-01-07",
          "2021-01-08",
          "2021-01-11",
          "2021-01-12",
          "2021-01-13",
          "2021-01-14",
          "2021-01-15",
          "2021-01-18",
          "2021-01-19",
          "2021-01-20",
          "2021-01-21",
          "2021-01-22",
          "2021-01-26",
          "2021-01-27",
          "2021-01-28",
          "2021-01-29",
          "2021-02-01",
          "2021-02-02",
          "2021-02-03",
          "2021-02-04",
          "2021-02-05",
          "2021-02-08",
          "2021-02-09",
          "2021-02-10",
          "2021-02-11",
          "2021-02-12",
          "2021-02-17",
          "2021-02-18",
          "2021-02-19",
          "2021-02-22",
          "2021-02-23",
          "2021-02-24",
          "2021-02-25",
          "2021-02-26",
          "2021-03-01",
          "2021-03-02",
          "2021-03-03",
          "2021-03-04",
          "2021-03-05",
          "2021-03-08",
          "2021-03-09",
          "2021-03-10",
          "2021-03-11",
          "2021-03-12",
          "2021-03-15",
          "2021-03-16",
          "2021-03-17",
          "2021-03-18",
          "2021-03-19",
          "2021-03-22",
          "2021-03-23",
          "2021-03-24",
          "2021-03-25",
          "2021-03-26",
          "2021-03-29",
          "2021-03-30",
          "2021-03-31",
          "2021-04-01",
          "2021-04-05",
          "2021-04-06",
          "2021-04-07",
          "2021-04-08",
          "2021-04-09",
          "2021-04-12",
          "2021-04-13",
          "2021-04-14",
          "2021-04-15",
          "2021-04-16",
          "2021-04-19",
          "2021-04-20",
          "2021-04-22",
          "2021-04-23",
          "2021-04-26",
          "2021-04-27",
          "2021-04-28",
          "2021-04-29",
          "2021-04-30",
          "2021-05-03",
          "2021-05-04",
          "2021-05-05",
          "2021-05-06",
          "2021-05-07",
          "2021-05-10",
          "2021-05-11",
          "2021-05-12",
          "2021-05-13",
          "2021-05-14",
          "2021-05-17",
          "2021-05-18",
          "2021-05-19",
          "2021-05-20",
          "2021-05-21",
          "2021-05-24",
          "2021-05-25",
          "2021-05-26",
          "2021-05-27",
          "2021-05-28",
          "2021-05-31",
          "2021-06-01",
          "2021-06-02",
          "2021-06-04",
          "2021-06-07",
          "2021-06-08",
          "2021-06-09",
          "2021-06-10",
          "2021-06-11",
          "2021-06-14",
          "2021-06-15",
          "2021-06-16",
          "2021-06-17",
          "2021-06-18",
          "2021-06-21",
          "2021-06-22",
          "2021-06-23",
          "2021-06-24",
          "2021-06-25",
          "2021-06-28",
          "2021-06-29",
          "2021-06-30",
          "2021-07-01",
          "2021-07-02",
          "2021-07-05",
          "2021-07-06",
          "2021-07-07",
          "2021-07-08",
          "2021-07-12",
          "2021-07-13",
          "2021-07-14",
          "2021-07-15",
          "2021-07-16",
          "2021-07-19",
          "2021-07-20",
          "2021-07-21",
          "2021-07-22",
          "2021-07-23",
          "2021-07-26",
          "2021-07-27",
          "2021-07-28",
          "2021-07-29",
          "2021-07-30",
          "2021-08-02",
          "2021-08-03",
          "2021-08-04",
          "2021-08-05",
          "2021-08-06",
          "2021-08-09",
          "2021-08-10",
          "2021-08-11",
          "2021-08-12",
          "2021-08-13",
          "2021-08-16",
          "2021-08-17",
          "2021-08-18",
          "2021-08-19",
          "2021-08-20",
          "2021-08-23",
          "2021-08-24",
          "2021-08-25",
          "2021-08-26",
          "2021-08-27",
          "2021-08-30",
          "2021-08-31",
          "2021-09-01",
          "2021-09-02",
          "2021-09-03",
          "2021-09-06",
          "2021-09-08",
          "2021-09-09",
          "2021-09-10",
          "2021-09-13",
          "2021-09-14",
          "2021-09-15",
          "2021-09-16",
          "2021-09-17",
          "2021-09-20",
          "2021-09-21",
          "2021-09-22",
          "2021-09-23",
          "2021-09-24",
          "2021-09-27",
          "2021-09-28",
          "2021-09-29",
          "2021-09-30",
          "2021-10-01",
          "2021-10-04",
          "2021-10-05",
          "2021-10-06",
          "2021-10-07",
          "2021-10-08",
          "2021-10-11",
          "2021-10-13",
          "2021-10-14",
          "2021-10-15",
          "2021-10-18",
          "2021-10-19",
          "2021-10-20",
          "2021-10-21",
          "2021-10-22",
          "2021-10-25",
          "2021-10-26",
          "2021-10-27",
          "2021-10-28",
          "2021-10-29",
          "2021-11-01",
          "2021-11-03",
          "2021-11-04",
          "2021-11-05",
          "2021-11-08",
          "2021-11-09",
          "2021-11-10",
          "2021-11-11",
          "2021-11-12",
          "2021-11-16",
          "2021-11-17",
          "2021-11-18",
          "2021-11-19",
          "2021-11-22",
          "2021-11-23",
          "2021-11-24",
          "2021-11-25",
          "2021-11-26",
          "2021-11-29",
          "2021-11-30",
          "2021-12-01",
          "2021-12-02",
          "2021-12-03",
          "2021-12-06",
          "2021-12-07",
          "2021-12-08",
          "2021-12-09",
          "2021-12-10",
          "2021-12-13",
          "2021-12-14",
          "2021-12-15",
          "2021-12-16",
          "2021-12-17",
          "2021-12-20",
          "2021-12-21",
          "2021-12-22",
          "2021-12-23",
          "2021-12-27",
          "2021-12-28",
          "2021-12-29",
          "2021-12-30",
          "2022-01-03",
          "2022-01-04",
          "2022-01-05",
          "2022-01-06",
          "2022-01-07",
          "2022-01-10",
          "2022-01-11",
          "2022-01-12",
          "2022-01-13",
          "2022-01-14",
          "2022-01-17",
          "2022-01-18",
          "2022-01-19",
          "2022-01-20",
          "2022-01-21",
          "2022-01-24",
          "2022-01-25",
          "2022-01-26",
          "2022-01-27",
          "2022-01-28",
          "2022-01-31",
          "2022-02-01",
          "2022-02-02",
          "2022-02-03",
          "2022-02-04",
          "2022-02-07",
          "2022-02-08",
          "2022-02-09",
          "2022-02-10",
          "2022-02-11",
          "2022-02-14",
          "2022-02-15",
          "2022-02-16",
          "2022-02-17",
          "2022-02-18",
          "2022-02-21",
          "2022-02-22",
          "2022-02-23",
          "2022-02-24",
          "2022-02-25",
          "2022-03-02",
          "2022-03-03",
          "2022-03-04",
          "2022-03-07",
          "2022-03-08",
          "2022-03-09",
          "2022-03-10",
          "2022-03-11",
          "2022-03-14",
          "2022-03-15",
          "2022-03-16",
          "2022-03-17",
          "2022-03-18",
          "2022-03-21",
          "2022-03-22",
          "2022-03-23",
          "2022-03-24",
          "2022-03-25",
          "2022-03-28",
          "2022-03-29",
          "2022-03-30",
          "2022-03-31",
          "2022-04-01",
          "2022-04-04",
          "2022-04-05",
          "2022-04-06",
          "2022-04-07",
          "2022-04-08",
          "2022-04-11",
          "2022-04-12",
          "2022-04-13",
          "2022-04-14",
          "2022-04-18",
          "2022-04-19",
          "2022-04-20",
          "2022-04-22",
          "2022-04-25",
          "2022-04-26",
          "2022-04-27",
          "2022-04-28",
          "2022-04-29",
          "2022-05-02",
          "2022-05-03",
          "2022-05-04",
          "2022-05-05",
          "2022-05-06",
          "2022-05-09",
          "2022-05-10",
          "2022-05-11",
          "2022-05-12",
          "2022-05-13",
          "2022-05-16",
          "2022-05-17",
          "2022-05-18",
          "2022-05-19",
          "2022-05-20",
          "2022-05-23",
          "2022-05-24",
          "2022-05-25",
          "2022-05-26",
          "2022-05-27",
          "2022-05-30",
          "2022-05-31",
          "2022-06-01",
          "2022-06-02",
          "2022-06-03",
          "2022-06-06",
          "2022-06-07",
          "2022-06-08",
          "2022-06-09",
          "2022-06-10",
          "2022-06-13",
          "2022-06-14",
          "2022-06-15",
          "2022-06-17",
          "2022-06-20",
          "2022-06-21",
          "2022-06-22",
          "2022-06-23",
          "2022-06-24",
          "2022-06-27",
          "2022-06-28",
          "2022-06-29",
          "2022-06-30",
          "2022-07-01",
          "2022-07-04",
          "2022-07-05",
          "2022-07-06",
          "2022-07-07",
          "2022-07-08",
          "2022-07-11",
          "2022-07-12",
          "2022-07-13",
          "2022-07-14",
          "2022-07-15",
          "2022-07-18",
          "2022-07-19",
          "2022-07-20",
          "2022-07-21",
          "2022-07-22",
          "2022-07-25",
          "2022-07-26",
          "2022-07-27",
          "2022-07-28",
          "2022-07-29",
          "2022-08-01",
          "2022-08-02",
          "2022-08-03",
          "2022-08-04",
          "2022-08-05",
          "2022-08-08",
          "2022-08-09",
          "2022-08-10",
          "2022-08-11",
          "2022-08-12",
          "2022-08-15",
          "2022-08-16",
          "2022-08-17",
          "2022-08-18",
          "2022-08-19",
          "2022-08-22",
          "2022-08-23",
          "2022-08-24",
          "2022-08-25",
          "2022-08-26",
          "2022-08-29",
          "2022-08-30",
          "2022-08-31",
          "2022-09-01",
          "2022-09-02",
          "2022-09-05",
          "2022-09-06",
          "2022-09-08",
          "2022-09-09",
          "2022-09-12",
          "2022-09-13",
          "2022-09-14",
          "2022-09-15",
          "2022-09-16"
         ],
         "y": {
          "bdata": "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",
          "dtype": "f8"
         }
        }
       ],
       "layout": {
        "hovermode": "x unified",
        "legend": {
         "orientation": "h",
         "x": 0.98,
         "xanchor": "right",
         "y": 0.98,
         "yanchor": "top"
        },
        "template": {
         "data": {
          "bar": [
           {
            "error_x": {
             "color": "#2a3f5f"
            },
            "error_y": {
             "color": "#2a3f5f"
            },
            "marker": {
             "line": {
              "color": "#E5ECF6",
              "width": 0.5
             },
             "pattern": {
              "fillmode": "overlay",
              "size": 10,
              "solidity": 0.2
             }
            },
            "type": "bar"
           }
          ],
          "barpolar": [
           {
            "marker": {
             "line": {
              "color": "#E5ECF6",
              "width": 0.5
             },
             "pattern": {
              "fillmode": "overlay",
              "size": 10,
              "solidity": 0.2
             }
            },
            "type": "barpolar"
           }
          ],
          "carpet": [
           {
            "aaxis": {
             "endlinecolor": "#2a3f5f",
             "gridcolor": "white",
             "linecolor": "white",
             "minorgridcolor": "white",
             "startlinecolor": "#2a3f5f"
            },
            "baxis": {
             "endlinecolor": "#2a3f5f",
             "gridcolor": "white",
             "linecolor": "white",
             "minorgridcolor": "white",
             "startlinecolor": "#2a3f5f"
            },
            "type": "carpet"
           }
          ],
          "choropleth": [
           {
            "colorbar": {
             "outlinewidth": 0,
             "ticks": ""
            },
            "type": "choropleth"
           }
          ],
          "contour": [
           {
            "colorbar": {
             "outlinewidth": 0,
             "ticks": ""
            },
            "colorscale": [
             [
              0,
              "#0d0887"
             ],
             [
              0.1111111111111111,
              "#46039f"
             ],
             [
              0.2222222222222222,
              "#7201a8"
             ],
             [
              0.3333333333333333,
              "#9c179e"
             ],
             [
              0.4444444444444444,
              "#bd3786"
             ],
             [
              0.5555555555555556,
              "#d8576b"
             ],
             [
              0.6666666666666666,
              "#ed7953"
             ],
             [
              0.7777777777777778,
              "#fb9f3a"
             ],
             [
              0.8888888888888888,
              "#fdca26"
             ],
             [
              1,
              "#f0f921"
             ]
            ],
            "type": "contour"
           }
          ],
          "contourcarpet": [
           {
            "colorbar": {
             "outlinewidth": 0,
             "ticks": ""
            },
            "type": "contourcarpet"
           }
          ],
          "heatmap": [
           {
            "colorbar": {
             "outlinewidth": 0,
             "ticks": ""
            },
            "colorscale": [
             [
              0,
              "#0d0887"
             ],
             [
              0.1111111111111111,
              "#46039f"
             ],
             [
              0.2222222222222222,
              "#7201a8"
             ],
             [
              0.3333333333333333,
              "#9c179e"
             ],
             [
              0.4444444444444444,
              "#bd3786"
             ],
             [
              0.5555555555555556,
              "#d8576b"
             ],
             [
              0.6666666666666666,
              "#ed7953"
             ],
             [
              0.7777777777777778,
              "#fb9f3a"
             ],
             [
              0.8888888888888888,
              "#fdca26"
             ],
             [
              1,
              "#f0f921"
             ]
            ],
            "type": "heatmap"
           }
          ],
          "histogram": [
           {
            "marker": {
             "pattern": {
              "fillmode": "overlay",
              "size": 10,
              "solidity": 0.2
             }
            },
            "type": "histogram"
           }
          ],
          "histogram2d": [
           {
            "colorbar": {
             "outlinewidth": 0,
             "ticks": ""
            },
            "colorscale": [
             [
              0,
              "#0d0887"
             ],
             [
              0.1111111111111111,
              "#46039f"
             ],
             [
              0.2222222222222222,
              "#7201a8"
             ],
             [
              0.3333333333333333,
              "#9c179e"
             ],
             [
              0.4444444444444444,
              "#bd3786"
             ],
             [
              0.5555555555555556,
              "#d8576b"
             ],
             [
              0.6666666666666666,
              "#ed7953"
             ],
             [
              0.7777777777777778,
              "#fb9f3a"
             ],
             [
              0.8888888888888888,
              "#fdca26"
             ],
             [
              1,
              "#f0f921"
             ]
            ],
            "type": "histogram2d"
           }
          ],
          "histogram2dcontour": [
           {
            "colorbar": {
             "outlinewidth": 0,
             "ticks": ""
            },
            "colorscale": [
             [
              0,
              "#0d0887"
             ],
             [
              0.1111111111111111,
              "#46039f"
             ],
             [
              0.2222222222222222,
              "#7201a8"
             ],
             [
              0.3333333333333333,
              "#9c179e"
             ],
             [
              0.4444444444444444,
              "#bd3786"
             ],
             [
              0.5555555555555556,
              "#d8576b"
             ],
             [
              0.6666666666666666,
              "#ed7953"
             ],
             [
              0.7777777777777778,
              "#fb9f3a"
             ],
             [
              0.8888888888888888,
              "#fdca26"
             ],
             [
              1,
              "#f0f921"
             ]
            ],
            "type": "histogram2dcontour"
           }
          ],
          "mesh3d": [
           {
            "colorbar": {
             "outlinewidth": 0,
             "ticks": ""
            },
            "type": "mesh3d"
           }
          ],
          "parcoords": [
           {
            "line": {
             "colorbar": {
              "outlinewidth": 0,
              "ticks": ""
             }
            },
            "type": "parcoords"
           }
          ],
          "pie": [
           {
            "automargin": true,
            "type": "pie"
           }
          ],
          "scatter": [
           {
            "fillpattern": {
             "fillmode": "overlay",
             "size": 10,
             "solidity": 0.2
            },
            "type": "scatter"
           }
          ],
          "scatter3d": [
           {
            "line": {
             "colorbar": {
              "outlinewidth": 0,
              "ticks": ""
             }
            },
            "marker": {
             "colorbar": {
              "outlinewidth": 0,
              "ticks": ""
             }
            },
            "type": "scatter3d"
           }
          ],
          "scattercarpet": [
           {
            "marker": {
             "colorbar": {
              "outlinewidth": 0,
              "ticks": ""
             }
            },
            "type": "scattercarpet"
           }
          ],
          "scattergeo": [
           {
            "marker": {
             "colorbar": {
              "outlinewidth": 0,
              "ticks": ""
             }
            },
            "type": "scattergeo"
           }
          ],
          "scattergl": [
           {
            "marker": {
             "colorbar": {
              "outlinewidth": 0,
              "ticks": ""
             }
            },
            "type": "scattergl"
           }
          ],
          "scattermap": [
           {
            "marker": {
             "colorbar": {
              "outlinewidth": 0,
              "ticks": ""
             }
            },
            "type": "scattermap"
           }
          ],
          "scattermapbox": [
           {
            "marker": {
             "colorbar": {
              "outlinewidth": 0,
              "ticks": ""
             }
            },
            "type": "scattermapbox"
           }
          ],
          "scatterpolar": [
           {
            "marker": {
             "colorbar": {
              "outlinewidth": 0,
              "ticks": ""
             }
            },
            "type": "scatterpolar"
           }
          ],
          "scatterpolargl": [
           {
            "marker": {
             "colorbar": {
              "outlinewidth": 0,
              "ticks": ""
             }
            },
            "type": "scatterpolargl"
           }
          ],
          "scatterternary": [
           {
            "marker": {
             "colorbar": {
              "outlinewidth": 0,
              "ticks": ""
             }
            },
            "type": "scatterternary"
           }
          ],
          "surface": [
           {
            "colorbar": {
             "outlinewidth": 0,
             "ticks": ""
            },
            "colorscale": [
             [
              0,
              "#0d0887"
             ],
             [
              0.1111111111111111,
              "#46039f"
             ],
             [
              0.2222222222222222,
              "#7201a8"
             ],
             [
              0.3333333333333333,
              "#9c179e"
             ],
             [
              0.4444444444444444,
              "#bd3786"
             ],
             [
              0.5555555555555556,
              "#d8576b"
             ],
             [
              0.6666666666666666,
              "#ed7953"
             ],
             [
              0.7777777777777778,
              "#fb9f3a"
             ],
             [
              0.8888888888888888,
              "#fdca26"
             ],
             [
              1,
              "#f0f921"
             ]
            ],
            "type": "surface"
           }
          ],
          "table": [
           {
            "cells": {
             "fill": {
              "color": "#EBF0F8"
             },
             "line": {
              "color": "white"
             }
            },
            "header": {
             "fill": {
              "color": "#C8D4E3"
             },
             "line": {
              "color": "white"
             }
            },
            "type": "table"
           }
          ]
         },
         "layout": {
          "annotationdefaults": {
           "arrowcolor": "#2a3f5f",
           "arrowhead": 0,
           "arrowwidth": 1
          },
          "autotypenumbers": "strict",
          "coloraxis": {
           "colorbar": {
            "outlinewidth": 0,
            "ticks": ""
           }
          },
          "colorscale": {
           "diverging": [
            [
             0,
             "#8e0152"
            ],
            [
             0.1,
             "#c51b7d"
            ],
            [
             0.2,
             "#de77ae"
            ],
            [
             0.3,
             "#f1b6da"
            ],
            [
             0.4,
             "#fde0ef"
            ],
            [
             0.5,
             "#f7f7f7"
            ],
            [
             0.6,
             "#e6f5d0"
            ],
            [
             0.7,
             "#b8e186"
            ],
            [
             0.8,
             "#7fbc41"
            ],
            [
             0.9,
             "#4d9221"
            ],
            [
             1,
             "#276419"
            ]
           ],
           "sequential": [
            [
             0,
             "#0d0887"
            ],
            [
             0.1111111111111111,
             "#46039f"
            ],
            [
             0.2222222222222222,
             "#7201a8"
            ],
            [
             0.3333333333333333,
             "#9c179e"
            ],
            [
             0.4444444444444444,
             "#bd3786"
            ],
            [
             0.5555555555555556,
             "#d8576b"
            ],
            [
             0.6666666666666666,
             "#ed7953"
            ],
            [
             0.7777777777777778,
             "#fb9f3a"
            ],
            [
             0.8888888888888888,
             "#fdca26"
            ],
            [
             1,
             "#f0f921"
            ]
           ],
           "sequentialminus": [
            [
             0,
             "#0d0887"
            ],
            [
             0.1111111111111111,
             "#46039f"
            ],
            [
             0.2222222222222222,
             "#7201a8"
            ],
            [
             0.3333333333333333,
             "#9c179e"
            ],
            [
             0.4444444444444444,
             "#bd3786"
            ],
            [
             0.5555555555555556,
             "#d8576b"
            ],
            [
             0.6666666666666666,
             "#ed7953"
            ],
            [
             0.7777777777777778,
             "#fb9f3a"
            ],
            [
             0.8888888888888888,
             "#fdca26"
            ],
            [
             1,
             "#f0f921"
            ]
           ]
          },
          "colorway": [
           "#636efa",
           "#EF553B",
           "#00cc96",
           "#ab63fa",
           "#FFA15A",
           "#19d3f3",
           "#FF6692",
           "#B6E880",
           "#FF97FF",
           "#FECB52"
          ],
          "font": {
           "color": "#2a3f5f"
          },
          "geo": {
           "bgcolor": "white",
           "lakecolor": "white",
           "landcolor": "#E5ECF6",
           "showlakes": true,
           "showland": true,
           "subunitcolor": "white"
          },
          "hoverlabel": {
           "align": "left"
          },
          "hovermode": "closest",
          "mapbox": {
           "style": "light"
          },
          "paper_bgcolor": "white",
          "plot_bgcolor": "#E5ECF6",
          "polar": {
           "angularaxis": {
            "gridcolor": "white",
            "linecolor": "white",
            "ticks": ""
           },
           "bgcolor": "#E5ECF6",
           "radialaxis": {
            "gridcolor": "white",
            "linecolor": "white",
            "ticks": ""
           }
          },
          "scene": {
           "xaxis": {
            "backgroundcolor": "#E5ECF6",
            "gridcolor": "white",
            "gridwidth": 2,
            "linecolor": "white",
            "showbackground": true,
            "ticks": "",
            "zerolinecolor": "white"
           },
           "yaxis": {
            "backgroundcolor": "#E5ECF6",
            "gridcolor": "white",
            "gridwidth": 2,
            "linecolor": "white",
            "showbackground": true,
            "ticks": "",
            "zerolinecolor": "white"
           },
           "zaxis": {
            "backgroundcolor": "#E5ECF6",
            "gridcolor": "white",
            "gridwidth": 2,
            "linecolor": "white",
            "showbackground": true,
            "ticks": "",
            "zerolinecolor": "white"
           }
          },
          "shapedefaults": {
           "line": {
            "color": "#2a3f5f"
           }
          },
          "ternary": {
           "aaxis": {
            "gridcolor": "white",
            "linecolor": "white",
            "ticks": ""
           },
           "baxis": {
            "gridcolor": "white",
            "linecolor": "white",
            "ticks": ""
           },
           "bgcolor": "#E5ECF6",
           "caxis": {
            "gridcolor": "white",
            "linecolor": "white",
            "ticks": ""
           }
          },
          "title": {
           "x": 0.05
          },
          "xaxis": {
           "automargin": true,
           "gridcolor": "white",
           "linecolor": "white",
           "ticks": "",
           "title": {
            "standoff": 15
           },
           "zerolinecolor": "white",
           "zerolinewidth": 2
          },
          "yaxis": {
           "automargin": true,
           "gridcolor": "white",
           "linecolor": "white",
           "ticks": "",
           "title": {
            "standoff": 15
           },
           "zerolinecolor": "white",
           "zerolinewidth": 2
          }
         }
        },
        "title": {
         "text": "ITUB4 - Strategy with model_2 vs. Buy and Hold Strategy",
         "x": 0.5
        },
        "xaxis": {
         "title": {
          "text": "Data"
         }
        },
        "yaxis": {
         "title": {
          "text": "Valor"
         }
        }
       }
      }
     },
     "metadata": {},
     "output_type": "display_data"
    }
   ],
   "source": [
    "plot_all_results(results, signals, name_model, num_combination)"
   ]
  },
  {
   "cell_type": "code",
   "execution_count": 10,
   "metadata": {},
   "outputs": [
    {
     "data": {
      "text/html": [
       "<div>\n",
       "<style scoped>\n",
       "    .dataframe tbody tr th:only-of-type {\n",
       "        vertical-align: middle;\n",
       "    }\n",
       "\n",
       "    .dataframe tbody tr th {\n",
       "        vertical-align: top;\n",
       "    }\n",
       "\n",
       "    .dataframe thead th {\n",
       "        text-align: right;\n",
       "    }\n",
       "</style>\n",
       "<table border=\"1\" class=\"dataframe\">\n",
       "  <thead>\n",
       "    <tr style=\"text-align: right;\">\n",
       "      <th></th>\n",
       "      <th>Ativo</th>\n",
       "      <th>Estratégia (Modelo 2) (R$)</th>\n",
       "      <th>Buy &amp; Hold (R$)</th>\n",
       "      <th>Retorno Estratégia (%)</th>\n",
       "      <th>Retorno Buy &amp; Hold (%)</th>\n",
       "    </tr>\n",
       "  </thead>\n",
       "  <tbody>\n",
       "    <tr>\n",
       "      <th>0</th>\n",
       "      <td>PETR4</td>\n",
       "      <td>R$ 13426.86</td>\n",
       "      <td>R$ 10739.39</td>\n",
       "      <td>34.27%</td>\n",
       "      <td>7.39%</td>\n",
       "    </tr>\n",
       "    <tr>\n",
       "      <th>1</th>\n",
       "      <td>VALE3</td>\n",
       "      <td>R$ 13114.02</td>\n",
       "      <td>R$ 15489.48</td>\n",
       "      <td>31.14%</td>\n",
       "      <td>54.89%</td>\n",
       "    </tr>\n",
       "    <tr>\n",
       "      <th>2</th>\n",
       "      <td>BBDC4</td>\n",
       "      <td>R$ 14383.19</td>\n",
       "      <td>R$ 6553.20</td>\n",
       "      <td>43.83%</td>\n",
       "      <td>-34.47%</td>\n",
       "    </tr>\n",
       "    <tr>\n",
       "      <th>3</th>\n",
       "      <td>ITUB4</td>\n",
       "      <td>R$ 12249.94</td>\n",
       "      <td>R$ 6668.49</td>\n",
       "      <td>22.50%</td>\n",
       "      <td>-33.32%</td>\n",
       "    </tr>\n",
       "  </tbody>\n",
       "</table>\n",
       "</div>"
      ],
      "text/plain": [
       "   Ativo Estratégia (Modelo 2) (R$) Buy & Hold (R$) Retorno Estratégia (%)  \\\n",
       "0  PETR4                R$ 13426.86     R$ 10739.39                 34.27%   \n",
       "1  VALE3                R$ 13114.02     R$ 15489.48                 31.14%   \n",
       "2  BBDC4                R$ 14383.19      R$ 6553.20                 43.83%   \n",
       "3  ITUB4                R$ 12249.94      R$ 6668.49                 22.50%   \n",
       "\n",
       "  Retorno Buy & Hold (%)  \n",
       "0                  7.39%  \n",
       "1                 54.89%  \n",
       "2                -34.47%  \n",
       "3                -33.32%  "
      ]
     },
     "execution_count": 10,
     "metadata": {},
     "output_type": "execute_result"
    }
   ],
   "source": [
    "# Combinação 5: Google News + Twitter + IFR + MMS\n",
    "final_results_df = calculate_final_results(results, signals)\n",
    "final_results_df"
   ]
  },
  {
   "cell_type": "code",
   "execution_count": null,
   "metadata": {},
   "outputs": [],
   "source": []
  }
 ],
 "metadata": {
  "kernelspec": {
   "display_name": "ieee",
   "language": "python",
   "name": "python3"
  },
  "language_info": {
   "codemirror_mode": {
    "name": "ipython",
    "version": 3
   },
   "file_extension": ".py",
   "mimetype": "text/x-python",
   "name": "python",
   "nbconvert_exporter": "python",
   "pygments_lexer": "ipython3",
   "version": "3.9.21"
  }
 },
 "nbformat": 4,
 "nbformat_minor": 2
}
