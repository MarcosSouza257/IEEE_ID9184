{
 "cells": [
  {
   "cell_type": "code",
   "execution_count": 1,
   "metadata": {},
   "outputs": [],
   "source": [
    "# importações\n",
    "from utils import *\n",
    "from models import *\n",
    "from config import OUTPUT_DIR  # Importa a configuração da pasta de dados"
   ]
  },
  {
   "cell_type": "markdown",
   "metadata": {},
   "source": [
    "# 1. Aplicabilidade do Modelo 2 no Mercado Real"
   ]
  },
  {
   "cell_type": "code",
   "execution_count": 2,
   "metadata": {},
   "outputs": [
    {
     "name": "stdout",
     "output_type": "stream",
     "text": [
      "Carregando dados para: PETR4\n"
     ]
    }
   ],
   "source": [
    "# Stock\n",
    "stock = ['PETR4']\n",
    "\n",
    "# Carrega os dados de todas as ações e calcula os indicadores e salva em um dicionario\n",
    "stock_data = load_stocks_data(stock)"
   ]
  },
  {
   "cell_type": "code",
   "execution_count": 3,
   "metadata": {},
   "outputs": [
    {
     "ename": "TypeError",
     "evalue": "process_stocks_and_save_metrics() takes 3 positional arguments but 4 were given",
     "output_type": "error",
     "traceback": [
      "\u001b[1;31m---------------------------------------------------------------------------\u001b[0m",
      "\u001b[1;31mTypeError\u001b[0m                                 Traceback (most recent call last)",
      "Cell \u001b[1;32mIn[3], line 7\u001b[0m\n\u001b[0;32m      4\u001b[0m results_list \u001b[38;5;241m=\u001b[39m []\n\u001b[0;32m      6\u001b[0m \u001b[38;5;66;03m# Usando a Combinação 4: (\"Stock Data + IT (IFR + MMS + MME)\", stock_data + ifr + mms + mme),\u001b[39;00m\n\u001b[1;32m----> 7\u001b[0m results_list\u001b[38;5;241m.\u001b[39mappend(\u001b[43mprocess_stocks_and_save_metrics\u001b[49m\u001b[43m(\u001b[49m\u001b[43mstock\u001b[49m\u001b[43m,\u001b[49m\u001b[43m \u001b[49m\u001b[43mstock_data\u001b[49m\u001b[43m,\u001b[49m\u001b[43m \u001b[49m\u001b[38;5;241;43m4\u001b[39;49m\u001b[43m,\u001b[49m\u001b[43m \u001b[49m\u001b[43mname_model\u001b[49m\u001b[43m)\u001b[49m)\n\u001b[0;32m      9\u001b[0m \u001b[38;5;66;03m# Combina os resultados em um único DataFrame\u001b[39;00m\n\u001b[0;32m     10\u001b[0m results_model_2 \u001b[38;5;241m=\u001b[39m pd\u001b[38;5;241m.\u001b[39mconcat(results_list, ignore_index\u001b[38;5;241m=\u001b[39m\u001b[38;5;28;01mTrue\u001b[39;00m)\n",
      "\u001b[1;31mTypeError\u001b[0m: process_stocks_and_save_metrics() takes 3 positional arguments but 4 were given"
     ]
    }
   ],
   "source": [
    "# Processando o Modelo 2\n",
    "\n",
    "name_model = model_2\n",
    "results_list = []\n",
    "\n",
    "# Usando a Combinação 4: (\"Stock Data + IT (IFR + MMS + MME)\", stock_data + ifr + mms + mme),\n",
    "results_list.append(process_stocks_and_save_metrics(stock, stock_data, 4, name_model))\n",
    "\n",
    "# Combina os resultados em um único DataFrame\n",
    "results_model_2 = pd.concat(results_list, ignore_index=True)\n",
    "\n",
    "# Salvar em CSV\n",
    "results_model_2.to_csv(f'{OUTPUT_DIR}/PETR4/Estudos_IEEE_{name_model.__name__}_02.csv', sep=';', encoding='utf-8-sig')"
   ]
  },
  {
   "cell_type": "code",
   "execution_count": null,
   "metadata": {},
   "outputs": [],
   "source": []
  }
 ],
 "metadata": {
  "kernelspec": {
   "display_name": "ieee",
   "language": "python",
   "name": "python3"
  },
  "language_info": {
   "codemirror_mode": {
    "name": "ipython",
    "version": 3
   },
   "file_extension": ".py",
   "mimetype": "text/x-python",
   "name": "python",
   "nbconvert_exporter": "python",
   "pygments_lexer": "ipython3",
   "version": "3.9.21"
  }
 },
 "nbformat": 4,
 "nbformat_minor": 2
}
