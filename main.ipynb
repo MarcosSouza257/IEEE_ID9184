{
 "cells": [
  {
   "cell_type": "code",
   "execution_count": null,
   "metadata": {},
   "outputs": [],
   "source": [
    "# importações\n",
    "from utils import *\n",
    "from models import *\n",
    "from config import OUTPUT_DIR  # Importa a configuração da pasta de dados"
   ]
  },
  {
   "cell_type": "code",
   "execution_count": null,
   "metadata": {},
   "outputs": [],
   "source": [
    "# Lista de ações\n",
    "stock_list = ['PETR4', 'VALE3', 'BBDC4','ITUB4']\n",
    "\n",
    "# Carrega os dados de todas as ações e calcula os indicadores e salva em um dicionario\n",
    "all_stock_data = load_stocks_data(stock_list)"
   ]
  },
  {
   "cell_type": "markdown",
   "metadata": {},
   "source": [
    "# 1. Executando os Modelos"
   ]
  },
  {
   "cell_type": "code",
   "execution_count": null,
   "metadata": {},
   "outputs": [],
   "source": [
    "# Processando o Modelo 1\n",
    "name_model = model_1\n",
    "results_list = []\n",
    "\n",
    "# Usando tqdm para exibir progresso das 7 combinações\n",
    "for i in tqdm(range(7), desc=\"Processando combinações\"):\n",
    "    results_list.append(process_stocks_and_save_metrics(all_stock_data, i + 1, name_model, save_artifacts=True))\n",
    "\n",
    "# Combina os resultados em um único DataFrame\n",
    "results_model_1 = pd.concat(results_list, ignore_index=True)\n",
    "\n",
    "# Salvar em CSV\n",
    "results_model_1.to_csv(f'{OUTPUT_DIR}/Estudos_IEEE_{name_model.__name__}.csv', sep=';', encoding='utf-8-sig')"
   ]
  },
  {
   "cell_type": "code",
   "execution_count": null,
   "metadata": {},
   "outputs": [],
   "source": [
    "# Processando o Modelo 2 \n",
    "name_model = model_2\n",
    "results_list = []\n",
    "\n",
    "# Usando tqdm para exibir progresso das 7 combinações\n",
    "for i in tqdm(range(7), desc=\"Processando combinações\"):\n",
    "    results_list.append(process_stocks_and_save_metrics(all_stock_data, i + 1, name_model))\n",
    "\n",
    "# Combina os resultados em um único DataFrame\n",
    "results_model_2 = pd.concat(results_list, ignore_index=True)\n",
    "\n",
    "# Salvar em CSV\n",
    "results_model_2.to_csv(f'{OUTPUT_DIR}/Estudos_IEEE_{name_model.__name__}_01.csv', sep=';', encoding='utf-8-sig')"
   ]
  },
  {
   "cell_type": "code",
   "execution_count": null,
   "metadata": {},
   "outputs": [],
   "source": [
    "# Processando o Modelo 3\n",
    "name_model = model_3\n",
    "results_list = []\n",
    "\n",
    "# Usando tqdm para exibir progresso das 7 combinações\n",
    "for i in tqdm(range(7), desc=\"Processando combinações\"):\n",
    "    results_list.append(process_stocks_and_save_metrics(all_stock_data, i + 1, name_model))\n",
    "\n",
    "# Combina os resultados em um único DataFrame\n",
    "results_model_3 = pd.concat(results_list, ignore_index=True)\n",
    "\n",
    "# Salvar em CSV\n",
    "results_model_3.to_csv(f'{OUTPUT_DIR}/Estudos_IEEE_{name_model.__name__}.csv', sep=';', encoding='utf-8-sig')"
   ]
  },
  {
   "cell_type": "code",
   "execution_count": null,
   "metadata": {},
   "outputs": [],
   "source": [
    "# Processando o Modelo 4 - \n",
    "name_model = model_4\n",
    "results_list = []\n",
    "\n",
    "# Usando tqdm para exibir progresso das 7 combinações\n",
    "for i in tqdm(range(7), desc=\"Processando combinações\"):\n",
    "    results_list.append(process_stocks_and_save_metrics(all_stock_data, i + 1, name_model))\n",
    "\n",
    "# Combina os resultados em um único DataFrame\n",
    "results_model_4 = pd.concat(results_list, ignore_index=True)\n",
    "\n",
    "# Salvar em CSV\n",
    "results_model_4.to_csv(f'{OUTPUT_DIR}/Estudos_IEEE_{name_model.__name__}.csv', sep=';', encoding='utf-8-sig')"
   ]
  },
  {
   "cell_type": "markdown",
   "metadata": {},
   "source": [
    "# 2. Carregando os Resultados Salvos"
   ]
  },
  {
   "cell_type": "code",
   "execution_count": null,
   "metadata": {},
   "outputs": [],
   "source": [
    "# Carregando da pasta 'results' todos os resultados\n",
    "dir = 'output'\n",
    "resultados = carregar_todos_resultados(dir) # salvar em um dicionário"
   ]
  },
  {
   "cell_type": "code",
   "execution_count": null,
   "metadata": {},
   "outputs": [],
   "source": [
    "resultados_concatenados = pd.concat(list(resultados.values()), ignore_index=True) # concatenar todos os resultados"
   ]
  },
  {
   "cell_type": "code",
   "execution_count": null,
   "metadata": {},
   "outputs": [],
   "source": [
    "# Salvar em CSV todos os resultados\n",
    "resultados_concatenados.to_csv(f'{OUTPUT_DIR}/Estudos_IEEE_todos_Modelos.csv', sep=';', encoding='utf-8-sig')"
   ]
  },
  {
   "cell_type": "code",
   "execution_count": null,
   "metadata": {},
   "outputs": [],
   "source": [
    "# Graficos com os resultados de todos modelos\n",
    "fig = plot_rmse_facet_plotly(resultados_concatenados)\n",
    "fig.show()"
   ]
  },
  {
   "cell_type": "code",
   "execution_count": null,
   "metadata": {},
   "outputs": [],
   "source": [
    "# Grafico sem o modelo 4\n",
    "fig = plot_rmse_facet_plotly(resultados_concatenados[resultados_concatenados['Model'] != 'model_4'])\n",
    "fig.show()"
   ]
  },
  {
   "cell_type": "code",
   "execution_count": null,
   "metadata": {},
   "outputs": [],
   "source": [
    "# Grafico RMSE por combinação por ação\n",
    "fig_filtered = plot_rmse_line_plotly(resultados_concatenados, stock_name='PETR4')\n",
    "fig_filtered.show()"
   ]
  },
  {
   "cell_type": "code",
   "execution_count": null,
   "metadata": {},
   "outputs": [],
   "source": [
    "# Grafico RMSE por combinação por ação\n",
    "fig_filtered = plot_rmse_line_plotly(resultados_concatenados, stock_name='VALE3')\n",
    "fig_filtered.show()"
   ]
  },
  {
   "cell_type": "code",
   "execution_count": null,
   "metadata": {},
   "outputs": [],
   "source": [
    "# Grafico RMSE por combinação por ação\n",
    "fig_filtered = plot_rmse_line_plotly(resultados_concatenados, stock_name='BBDC4')\n",
    "fig_filtered.show()"
   ]
  },
  {
   "cell_type": "code",
   "execution_count": null,
   "metadata": {},
   "outputs": [],
   "source": [
    "# Grafico RMSE por combinação por ação\n",
    "fig_filtered = plot_rmse_line_plotly(resultados_concatenados, stock_name='ITUB4')\n",
    "fig_filtered.show()"
   ]
  },
  {
   "cell_type": "code",
   "execution_count": null,
   "metadata": {},
   "outputs": [],
   "source": []
  }
 ],
 "metadata": {
  "kernelspec": {
   "display_name": "ieee",
   "language": "python",
   "name": "python3"
  },
  "language_info": {
   "codemirror_mode": {
    "name": "ipython",
    "version": 3
   },
   "file_extension": ".py",
   "mimetype": "text/x-python",
   "name": "python",
   "nbconvert_exporter": "python",
   "pygments_lexer": "ipython3",
   "version": "3.9.21"
  }
 },
 "nbformat": 4,
 "nbformat_minor": 2
}
