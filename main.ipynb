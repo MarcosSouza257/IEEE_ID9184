{
 "cells": [
  {
   "cell_type": "code",
   "execution_count": 1,
   "metadata": {},
   "outputs": [],
   "source": [
    "# importações\n",
    "from utils import *\n",
    "from models import *\n",
    "from config import OUTPUT_DIR  # Importa a configuração da pasta de dados"
   ]
  },
  {
   "cell_type": "code",
   "execution_count": 2,
   "metadata": {},
   "outputs": [
    {
     "name": "stdout",
     "output_type": "stream",
     "text": [
      "Carregando dados para: PETR4\n",
      "Carregando dados para: VALE3\n",
      "Carregando dados para: BBDC4\n",
      "Carregando dados para: ITUB4\n"
     ]
    }
   ],
   "source": [
    "# Lista de ações\n",
    "stock_list = ['PETR4', 'VALE3', 'BBDC4','ITUB4']\n",
    "\n",
    "# Carrega os dados de todas as ações e calcula os indicadores e salva em um dicionario\n",
    "all_stock_data = load_stocks_data(stock_list)"
   ]
  },
  {
   "cell_type": "markdown",
   "metadata": {},
   "source": [
    "# 1. Executando os Modelos"
   ]
  },
  {
   "cell_type": "code",
   "execution_count": 5,
   "metadata": {},
   "outputs": [
    {
     "name": "stderr",
     "output_type": "stream",
     "text": [
      "Processando combinações:   0%|          | 0/7 [00:00<?, ?it/s]"
     ]
    },
    {
     "name": "stdout",
     "output_type": "stream",
     "text": [
      "model_1: Processando PETR4 | Combinação 1...\n",
      "Epoch 1/50\n",
      "\u001b[1m90/90\u001b[0m \u001b[32m━━━━━━━━━━━━━━━━━━━━\u001b[0m\u001b[37m\u001b[0m \u001b[1m2s\u001b[0m 5ms/step - loss: 0.0628 - mae: 0.2087 - mape: 8208.3799 - mse: 0.0628 - val_loss: 0.0019 - val_mae: 0.0363 - val_mape: 7.9881 - val_mse: 0.0019\n",
      "Epoch 2/50\n",
      "\u001b[1m90/90\u001b[0m \u001b[32m━━━━━━━━━━━━━━━━━━━━\u001b[0m\u001b[37m\u001b[0m \u001b[1m0s\u001b[0m 2ms/step - loss: 0.0032 - mae: 0.0456 - mape: 16909.3398 - mse: 0.0032 - val_loss: 8.5525e-04 - val_mae: 0.0236 - val_mape: 5.3283 - val_mse: 8.5525e-04\n",
      "Epoch 3/50\n",
      "\u001b[1m90/90\u001b[0m \u001b[32m━━━━━━━━━━━━━━━━━━━━\u001b[0m\u001b[37m\u001b[0m \u001b[1m0s\u001b[0m 3ms/step - loss: 0.0015 - mae: 0.0306 - mape: 4267.2236 - mse: 0.0015 - val_loss: 5.4101e-04 - val_mae: 0.0179 - val_mape: 3.9623 - val_mse: 5.4101e-04\n",
      "Epoch 4/50\n",
      "\u001b[1m90/90\u001b[0m \u001b[32m━━━━━━━━━━━━━━━━━━━━\u001b[0m\u001b[37m\u001b[0m \u001b[1m0s\u001b[0m 2ms/step - loss: 6.4679e-04 - mae: 0.0198 - mape: 60185.8750 - mse: 6.4679e-04 - val_loss: 5.1132e-04 - val_mae: 0.0173 - val_mape: 3.8782 - val_mse: 5.1132e-04\n",
      "Epoch 5/50\n",
      "\u001b[1m90/90\u001b[0m \u001b[32m━━━━━━━━━━━━━━━━━━━━\u001b[0m\u001b[37m\u001b[0m \u001b[1m0s\u001b[0m 2ms/step - loss: 3.3961e-04 - mae: 0.0140 - mape: 14948.5098 - mse: 3.3961e-04 - val_loss: 4.4992e-04 - val_mae: 0.0156 - val_mape: 3.6068 - val_mse: 4.4992e-04\n",
      "Epoch 6/50\n",
      "\u001b[1m90/90\u001b[0m \u001b[32m━━━━━━━━━━━━━━━━━━━━\u001b[0m\u001b[37m\u001b[0m \u001b[1m0s\u001b[0m 3ms/step - loss: 2.4386e-04 - mae: 0.0115 - mape: 9306.1865 - mse: 2.4386e-04 - val_loss: 4.4845e-04 - val_mae: 0.0156 - val_mape: 3.6358 - val_mse: 4.4845e-04\n",
      "Epoch 7/50\n",
      "\u001b[1m90/90\u001b[0m \u001b[32m━━━━━━━━━━━━━━━━━━━━\u001b[0m\u001b[37m\u001b[0m \u001b[1m0s\u001b[0m 3ms/step - loss: 2.4866e-04 - mae: 0.0113 - mape: 1496.4672 - mse: 2.4866e-04 - val_loss: 4.5159e-04 - val_mae: 0.0158 - val_mape: 3.6836 - val_mse: 4.5159e-04\n",
      "Epoch 8/50\n",
      "\u001b[1m90/90\u001b[0m \u001b[32m━━━━━━━━━━━━━━━━━━━━\u001b[0m\u001b[37m\u001b[0m \u001b[1m0s\u001b[0m 2ms/step - loss: 2.4832e-04 - mae: 0.0112 - mape: 5055.1226 - mse: 2.4832e-04 - val_loss: 4.1248e-04 - val_mae: 0.0148 - val_mape: 3.4720 - val_mse: 4.1248e-04\n",
      "Epoch 9/50\n",
      "\u001b[1m90/90\u001b[0m \u001b[32m━━━━━━━━━━━━━━━━━━━━\u001b[0m\u001b[37m\u001b[0m \u001b[1m0s\u001b[0m 3ms/step - loss: 2.2979e-04 - mae: 0.0109 - mape: 3912.5527 - mse: 2.2979e-04 - val_loss: 3.8986e-04 - val_mae: 0.0142 - val_mape: 3.3458 - val_mse: 3.8986e-04\n",
      "Epoch 10/50\n",
      "\u001b[1m36/90\u001b[0m \u001b[32m━━━━━━━━\u001b[0m\u001b[37m━━━━━━━━━━━━\u001b[0m \u001b[1m0s\u001b[0m 1ms/step - loss: 2.1776e-04 - mae: 0.0109 - mape: 116546.0703 - mse: 2.1776e-04  "
     ]
    },
    {
     "name": "stderr",
     "output_type": "stream",
     "text": [
      "Processando combinações:   0%|          | 0/7 [00:03<?, ?it/s]\n"
     ]
    },
    {
     "ename": "KeyboardInterrupt",
     "evalue": "",
     "output_type": "error",
     "traceback": [
      "\u001b[1;31m---------------------------------------------------------------------------\u001b[0m",
      "\u001b[1;31mKeyboardInterrupt\u001b[0m                         Traceback (most recent call last)",
      "Cell \u001b[1;32mIn[5], line 7\u001b[0m\n\u001b[0;32m      5\u001b[0m \u001b[38;5;66;03m# Usando tqdm para exibir progresso das 7 combinações\u001b[39;00m\n\u001b[0;32m      6\u001b[0m \u001b[38;5;28;01mfor\u001b[39;00m i \u001b[38;5;129;01min\u001b[39;00m tqdm(\u001b[38;5;28mrange\u001b[39m(\u001b[38;5;241m7\u001b[39m), desc\u001b[38;5;241m=\u001b[39m\u001b[38;5;124m\"\u001b[39m\u001b[38;5;124mProcessando combinações\u001b[39m\u001b[38;5;124m\"\u001b[39m):\n\u001b[1;32m----> 7\u001b[0m     results_list\u001b[38;5;241m.\u001b[39mappend(\u001b[43mprocess_stocks_and_save_metrics\u001b[49m\u001b[43m(\u001b[49m\u001b[43mall_stock_data\u001b[49m\u001b[43m,\u001b[49m\u001b[43m \u001b[49m\u001b[43mi\u001b[49m\u001b[43m \u001b[49m\u001b[38;5;241;43m+\u001b[39;49m\u001b[43m \u001b[49m\u001b[38;5;241;43m1\u001b[39;49m\u001b[43m,\u001b[49m\u001b[43m \u001b[49m\u001b[43mname_model\u001b[49m\u001b[43m,\u001b[49m\u001b[43m \u001b[49m\u001b[43msave_artifacts\u001b[49m\u001b[38;5;241;43m=\u001b[39;49m\u001b[38;5;28;43;01mTrue\u001b[39;49;00m\u001b[43m)\u001b[49m)\n\u001b[0;32m      9\u001b[0m \u001b[38;5;66;03m# Combina os resultados em um único DataFrame\u001b[39;00m\n\u001b[0;32m     10\u001b[0m results_model_1 \u001b[38;5;241m=\u001b[39m pd\u001b[38;5;241m.\u001b[39mconcat(results_list, ignore_index\u001b[38;5;241m=\u001b[39m\u001b[38;5;28;01mTrue\u001b[39;00m)\n",
      "File \u001b[1;32mc:\\Users\\marco\\Documents\\IEEE_ID9184\\utils.py:395\u001b[0m, in \u001b[0;36mprocess_stocks_and_save_metrics\u001b[1;34m(all_stock_data, num_combination, name_model, save_artifacts)\u001b[0m\n\u001b[0;32m    392\u001b[0m df, target_column \u001b[38;5;241m=\u001b[39m define_target(df)\n\u001b[0;32m    394\u001b[0m \u001b[38;5;66;03m# Treinar modelo e coletar métricas\u001b[39;00m\n\u001b[1;32m--> 395\u001b[0m metrics \u001b[38;5;241m=\u001b[39m \u001b[43mname_model\u001b[49m\u001b[43m(\u001b[49m\u001b[43mstock\u001b[49m\u001b[43m,\u001b[49m\u001b[43m \u001b[49m\u001b[43mdf\u001b[49m\u001b[43m,\u001b[49m\u001b[43m \u001b[49m\u001b[43mtarget_column\u001b[49m\u001b[43m,\u001b[49m\u001b[43m \u001b[49m\u001b[43mnum_combination\u001b[49m\u001b[43m,\u001b[49m\u001b[43m \u001b[49m\u001b[43msave_artifacts\u001b[49m\u001b[43m)\u001b[49m\n\u001b[0;32m    397\u001b[0m \u001b[38;5;66;03m# Salvar resultados\u001b[39;00m\n\u001b[0;32m    398\u001b[0m results\u001b[38;5;241m.\u001b[39mappend({\n\u001b[0;32m    399\u001b[0m     \u001b[38;5;124m\"\u001b[39m\u001b[38;5;124mStock\u001b[39m\u001b[38;5;124m\"\u001b[39m: stock,\n\u001b[0;32m    400\u001b[0m     \u001b[38;5;124m\"\u001b[39m\u001b[38;5;124mDescription\u001b[39m\u001b[38;5;124m\"\u001b[39m: description_combination,\n\u001b[0;32m    401\u001b[0m     \u001b[38;5;124m\"\u001b[39m\u001b[38;5;124mModel\u001b[39m\u001b[38;5;124m\"\u001b[39m: name_model\u001b[38;5;241m.\u001b[39m\u001b[38;5;18m__name__\u001b[39m,\n\u001b[0;32m    402\u001b[0m     \u001b[38;5;241m*\u001b[39m\u001b[38;5;241m*\u001b[39mmetrics\n\u001b[0;32m    403\u001b[0m })\n",
      "File \u001b[1;32mc:\\Users\\marco\\Documents\\IEEE_ID9184\\models.py:78\u001b[0m, in \u001b[0;36mmodel_1\u001b[1;34m(stock, df, target_column, num_combination, save_artifacts, learning_rate, epochs, batch_size)\u001b[0m\n\u001b[0;32m     75\u001b[0m early_stopping \u001b[38;5;241m=\u001b[39m EarlyStopping(monitor\u001b[38;5;241m=\u001b[39m\u001b[38;5;124m'\u001b[39m\u001b[38;5;124mval_loss\u001b[39m\u001b[38;5;124m'\u001b[39m, patience\u001b[38;5;241m=\u001b[39m\u001b[38;5;241m10\u001b[39m, restore_best_weights\u001b[38;5;241m=\u001b[39m\u001b[38;5;28;01mTrue\u001b[39;00m)\n\u001b[0;32m     77\u001b[0m \u001b[38;5;66;03m# Treinamento do modelo\u001b[39;00m\n\u001b[1;32m---> 78\u001b[0m history \u001b[38;5;241m=\u001b[39m \u001b[43mmodel\u001b[49m\u001b[38;5;241;43m.\u001b[39;49m\u001b[43mfit\u001b[49m\u001b[43m(\u001b[49m\n\u001b[0;32m     79\u001b[0m \u001b[43m    \u001b[49m\u001b[43mX_train_scaled\u001b[49m\u001b[43m,\u001b[49m\u001b[43m \u001b[49m\u001b[43my_train_scaled\u001b[49m\u001b[43m,\u001b[49m\u001b[43m  \u001b[49m\u001b[38;5;66;43;03m# Usando `y_train_scaled`\u001b[39;49;00m\n\u001b[0;32m     80\u001b[0m \u001b[43m    \u001b[49m\u001b[43mepochs\u001b[49m\u001b[38;5;241;43m=\u001b[39;49m\u001b[43mepochs\u001b[49m\u001b[43m,\u001b[49m\n\u001b[0;32m     81\u001b[0m \u001b[43m    \u001b[49m\u001b[43mbatch_size\u001b[49m\u001b[38;5;241;43m=\u001b[39;49m\u001b[43mbatch_size\u001b[49m\u001b[43m,\u001b[49m\n\u001b[0;32m     82\u001b[0m \u001b[43m    \u001b[49m\u001b[43mvalidation_data\u001b[49m\u001b[38;5;241;43m=\u001b[39;49m\u001b[43m(\u001b[49m\u001b[43mX_test_scaled\u001b[49m\u001b[43m,\u001b[49m\u001b[43m \u001b[49m\u001b[43my_test_scaled\u001b[49m\u001b[43m)\u001b[49m\u001b[43m,\u001b[49m\u001b[43m  \u001b[49m\u001b[38;5;66;43;03m# Usando `y_test_scaled`\u001b[39;49;00m\n\u001b[0;32m     83\u001b[0m \u001b[43m    \u001b[49m\u001b[43mcallbacks\u001b[49m\u001b[38;5;241;43m=\u001b[39;49m\u001b[43m[\u001b[49m\u001b[43mearly_stopping\u001b[49m\u001b[43m]\u001b[49m\u001b[43m,\u001b[49m\n\u001b[0;32m     84\u001b[0m \u001b[43m    \u001b[49m\u001b[43mverbose\u001b[49m\u001b[38;5;241;43m=\u001b[39;49m\u001b[38;5;241;43m1\u001b[39;49m\n\u001b[0;32m     85\u001b[0m \u001b[43m\u001b[49m\u001b[43m)\u001b[49m\n\u001b[0;32m     87\u001b[0m \u001b[38;5;28;01mif\u001b[39;00m save_artifacts:\n\u001b[0;32m     88\u001b[0m     \u001b[38;5;66;03m# Salvando os scalers na pasta do ativo\u001b[39;00m\n\u001b[0;32m     89\u001b[0m     joblib\u001b[38;5;241m.\u001b[39mdump(scaler_X, os\u001b[38;5;241m.\u001b[39mpath\u001b[38;5;241m.\u001b[39mjoin(stock_dir, \u001b[38;5;124mf\u001b[39m\u001b[38;5;124m\"\u001b[39m\u001b[38;5;124mmodel_1_comb_\u001b[39m\u001b[38;5;132;01m{\u001b[39;00mnum_combination\u001b[38;5;132;01m}\u001b[39;00m\u001b[38;5;124m_scaler_X.pkl\u001b[39m\u001b[38;5;124m\"\u001b[39m))\n",
      "File \u001b[1;32mc:\\Users\\marco\\anaconda3\\envs\\ieee\\lib\\site-packages\\keras\\src\\utils\\traceback_utils.py:117\u001b[0m, in \u001b[0;36mfilter_traceback.<locals>.error_handler\u001b[1;34m(*args, **kwargs)\u001b[0m\n\u001b[0;32m    115\u001b[0m filtered_tb \u001b[38;5;241m=\u001b[39m \u001b[38;5;28;01mNone\u001b[39;00m\n\u001b[0;32m    116\u001b[0m \u001b[38;5;28;01mtry\u001b[39;00m:\n\u001b[1;32m--> 117\u001b[0m     \u001b[38;5;28;01mreturn\u001b[39;00m fn(\u001b[38;5;241m*\u001b[39margs, \u001b[38;5;241m*\u001b[39m\u001b[38;5;241m*\u001b[39mkwargs)\n\u001b[0;32m    118\u001b[0m \u001b[38;5;28;01mexcept\u001b[39;00m \u001b[38;5;167;01mException\u001b[39;00m \u001b[38;5;28;01mas\u001b[39;00m e:\n\u001b[0;32m    119\u001b[0m     filtered_tb \u001b[38;5;241m=\u001b[39m _process_traceback_frames(e\u001b[38;5;241m.\u001b[39m__traceback__)\n",
      "File \u001b[1;32mc:\\Users\\marco\\anaconda3\\envs\\ieee\\lib\\site-packages\\keras\\src\\backend\\tensorflow\\trainer.py:372\u001b[0m, in \u001b[0;36mTensorFlowTrainer.fit\u001b[1;34m(self, x, y, batch_size, epochs, verbose, callbacks, validation_split, validation_data, shuffle, class_weight, sample_weight, initial_epoch, steps_per_epoch, validation_steps, validation_batch_size, validation_freq)\u001b[0m\n\u001b[0;32m    370\u001b[0m callbacks\u001b[38;5;241m.\u001b[39mon_train_batch_begin(step)\n\u001b[0;32m    371\u001b[0m logs \u001b[38;5;241m=\u001b[39m \u001b[38;5;28mself\u001b[39m\u001b[38;5;241m.\u001b[39mtrain_function(iterator)\n\u001b[1;32m--> 372\u001b[0m \u001b[43mcallbacks\u001b[49m\u001b[38;5;241;43m.\u001b[39;49m\u001b[43mon_train_batch_end\u001b[49m(step, logs)\n\u001b[0;32m    373\u001b[0m \u001b[38;5;28;01mif\u001b[39;00m \u001b[38;5;28mself\u001b[39m\u001b[38;5;241m.\u001b[39mstop_training:\n\u001b[0;32m    374\u001b[0m     \u001b[38;5;28;01mbreak\u001b[39;00m\n",
      "\u001b[1;31mKeyboardInterrupt\u001b[0m: "
     ]
    }
   ],
   "source": [
    "# Processando o Modelo 1\n",
    "name_model = model_1\n",
    "results_list = []\n",
    "\n",
    "# Usando tqdm para exibir progresso das 7 combinações\n",
    "for i in tqdm(range(7), desc=\"Processando combinações\"):\n",
    "    results_list.append(process_stocks_and_save_metrics(all_stock_data, i + 1, name_model, save_artifacts=True))\n",
    "\n",
    "# Combina os resultados em um único DataFrame\n",
    "results_model_1 = pd.concat(results_list, ignore_index=True)\n",
    "\n",
    "# Salvar em CSV\n",
    "results_model_1.to_csv(f'{OUTPUT_DIR}/Estudos_IEEE_{name_model.__name__}.csv', sep=';', encoding='utf-8-sig')"
   ]
  },
  {
   "cell_type": "code",
   "execution_count": null,
   "metadata": {},
   "outputs": [
    {
     "name": "stderr",
     "output_type": "stream",
     "text": [
      "Processando combinações:   0%|          | 0/7 [00:00<?, ?it/s]"
     ]
    },
    {
     "name": "stdout",
     "output_type": "stream",
     "text": [
      "model_2: Processando PETR4 | Combinação 1...\n",
      "Epoch 1/50\n",
      "\u001b[1m90/90\u001b[0m \u001b[32m━━━━━━━━━━━━━━━━━━━━\u001b[0m\u001b[37m\u001b[0m \u001b[1m5s\u001b[0m 25ms/step - loss: 0.0480 - mae: 0.1593 - mape: 12065.1025 - mse: 0.0480 - val_loss: 5.4742e-04 - val_mae: 0.0181 - val_mape: 4.0589 - val_mse: 5.4742e-04\n",
      "Epoch 2/50\n",
      "\u001b[1m90/90\u001b[0m \u001b[32m━━━━━━━━━━━━━━━━━━━━\u001b[0m\u001b[37m\u001b[0m \u001b[1m2s\u001b[0m 22ms/step - loss: 2.8646e-04 - mae: 0.0124 - mape: 16831.0547 - mse: 2.8646e-04 - val_loss: 3.9795e-04 - val_mae: 0.0147 - val_mape: 3.3817 - val_mse: 3.9795e-04\n",
      "Epoch 3/50\n",
      "\u001b[1m90/90\u001b[0m \u001b[32m━━━━━━━━━━━━━━━━━━━━\u001b[0m\u001b[37m\u001b[0m \u001b[1m2s\u001b[0m 20ms/step - loss: 2.0903e-04 - mae: 0.0104 - mape: 7359.4517 - mse: 2.0903e-04 - val_loss: 3.2782e-04 - val_mae: 0.0122 - val_mape: 2.8907 - val_mse: 3.2782e-04\n",
      "Epoch 4/50\n",
      "\u001b[1m27/90\u001b[0m \u001b[32m━━━━━━\u001b[0m\u001b[37m━━━━━━━━━━━━━━\u001b[0m \u001b[1m1s\u001b[0m 21ms/step - loss: 2.1516e-04 - mae: 0.0104 - mape: 3.8647 - mse: 2.1516e-04"
     ]
    },
    {
     "name": "stderr",
     "output_type": "stream",
     "text": [
      "Processando combinações:   0%|          | 0/7 [00:10<?, ?it/s]\n"
     ]
    },
    {
     "ename": "KeyboardInterrupt",
     "evalue": "",
     "output_type": "error",
     "traceback": [
      "\u001b[1;31m---------------------------------------------------------------------------\u001b[0m",
      "\u001b[1;31mKeyboardInterrupt\u001b[0m                         Traceback (most recent call last)",
      "Cell \u001b[1;32mIn[5], line 7\u001b[0m\n\u001b[0;32m      5\u001b[0m \u001b[38;5;66;03m# Usando tqdm para exibir progresso das 7 combinações\u001b[39;00m\n\u001b[0;32m      6\u001b[0m \u001b[38;5;28;01mfor\u001b[39;00m i \u001b[38;5;129;01min\u001b[39;00m tqdm(\u001b[38;5;28mrange\u001b[39m(\u001b[38;5;241m7\u001b[39m), desc\u001b[38;5;241m=\u001b[39m\u001b[38;5;124m\"\u001b[39m\u001b[38;5;124mProcessando combinações\u001b[39m\u001b[38;5;124m\"\u001b[39m):\n\u001b[1;32m----> 7\u001b[0m     results_list\u001b[38;5;241m.\u001b[39mappend(\u001b[43mprocess_stocks_and_save_metrics\u001b[49m\u001b[43m(\u001b[49m\u001b[43mall_stock_data\u001b[49m\u001b[43m,\u001b[49m\u001b[43m \u001b[49m\u001b[43mi\u001b[49m\u001b[43m \u001b[49m\u001b[38;5;241;43m+\u001b[39;49m\u001b[43m \u001b[49m\u001b[38;5;241;43m1\u001b[39;49m\u001b[43m,\u001b[49m\u001b[43m \u001b[49m\u001b[43mname_model\u001b[49m\u001b[43m)\u001b[49m)\n\u001b[0;32m      9\u001b[0m \u001b[38;5;66;03m# Combina os resultados em um único DataFrame\u001b[39;00m\n\u001b[0;32m     10\u001b[0m results_model_2 \u001b[38;5;241m=\u001b[39m pd\u001b[38;5;241m.\u001b[39mconcat(results_list, ignore_index\u001b[38;5;241m=\u001b[39m\u001b[38;5;28;01mTrue\u001b[39;00m)\n",
      "File \u001b[1;32mc:\\Users\\marco\\Documents\\IEEE_ID9184\\utils.py:395\u001b[0m, in \u001b[0;36mprocess_stocks_and_save_metrics\u001b[1;34m(all_stock_data, num_combination, name_model, save_artifacts)\u001b[0m\n\u001b[0;32m    392\u001b[0m df, target_column \u001b[38;5;241m=\u001b[39m define_target(df)\n\u001b[0;32m    394\u001b[0m \u001b[38;5;66;03m# Treinar modelo e coletar métricas\u001b[39;00m\n\u001b[1;32m--> 395\u001b[0m metrics \u001b[38;5;241m=\u001b[39m \u001b[43mname_model\u001b[49m\u001b[43m(\u001b[49m\u001b[43mstock\u001b[49m\u001b[43m,\u001b[49m\u001b[43m \u001b[49m\u001b[43mdf\u001b[49m\u001b[43m,\u001b[49m\u001b[43m \u001b[49m\u001b[43mtarget_column\u001b[49m\u001b[43m,\u001b[49m\u001b[43m \u001b[49m\u001b[43mnum_combination\u001b[49m\u001b[43m,\u001b[49m\u001b[43m \u001b[49m\u001b[43msave_artifacts\u001b[49m\u001b[43m)\u001b[49m\n\u001b[0;32m    397\u001b[0m \u001b[38;5;66;03m# Salvar resultados\u001b[39;00m\n\u001b[0;32m    398\u001b[0m results\u001b[38;5;241m.\u001b[39mappend({\n\u001b[0;32m    399\u001b[0m     \u001b[38;5;124m\"\u001b[39m\u001b[38;5;124mStock\u001b[39m\u001b[38;5;124m\"\u001b[39m: stock,\n\u001b[0;32m    400\u001b[0m     \u001b[38;5;124m\"\u001b[39m\u001b[38;5;124mDescription\u001b[39m\u001b[38;5;124m\"\u001b[39m: description_combination,\n\u001b[0;32m    401\u001b[0m     \u001b[38;5;124m\"\u001b[39m\u001b[38;5;124mModel\u001b[39m\u001b[38;5;124m\"\u001b[39m: name_model\u001b[38;5;241m.\u001b[39m\u001b[38;5;18m__name__\u001b[39m,\n\u001b[0;32m    402\u001b[0m     \u001b[38;5;241m*\u001b[39m\u001b[38;5;241m*\u001b[39mmetrics\n\u001b[0;32m    403\u001b[0m })\n",
      "File \u001b[1;32mc:\\Users\\marco\\Documents\\IEEE_ID9184\\models.py:189\u001b[0m, in \u001b[0;36mmodel_2\u001b[1;34m(stock, df, target_column, num_combination, save_artifacts, learning_rate, dropout_rate, epochs, batch_size)\u001b[0m\n\u001b[0;32m    186\u001b[0m early_stopping \u001b[38;5;241m=\u001b[39m EarlyStopping(monitor\u001b[38;5;241m=\u001b[39m\u001b[38;5;124m'\u001b[39m\u001b[38;5;124mval_loss\u001b[39m\u001b[38;5;124m'\u001b[39m, patience\u001b[38;5;241m=\u001b[39m\u001b[38;5;241m10\u001b[39m, restore_best_weights\u001b[38;5;241m=\u001b[39m\u001b[38;5;28;01mTrue\u001b[39;00m)\n\u001b[0;32m    188\u001b[0m \u001b[38;5;66;03m# Treinamento do modelo\u001b[39;00m\n\u001b[1;32m--> 189\u001b[0m history \u001b[38;5;241m=\u001b[39m \u001b[43mmodel\u001b[49m\u001b[38;5;241;43m.\u001b[39;49m\u001b[43mfit\u001b[49m\u001b[43m(\u001b[49m\n\u001b[0;32m    190\u001b[0m \u001b[43m    \u001b[49m\u001b[43mX_train_scaled\u001b[49m\u001b[43m,\u001b[49m\u001b[43m \u001b[49m\u001b[43my_train_scaled\u001b[49m\u001b[43m,\u001b[49m\u001b[43m  \u001b[49m\u001b[38;5;66;43;03m# Usando `y_train_scaled`\u001b[39;49;00m\n\u001b[0;32m    191\u001b[0m \u001b[43m    \u001b[49m\u001b[43mepochs\u001b[49m\u001b[38;5;241;43m=\u001b[39;49m\u001b[43mepochs\u001b[49m\u001b[43m,\u001b[49m\n\u001b[0;32m    192\u001b[0m \u001b[43m    \u001b[49m\u001b[43mbatch_size\u001b[49m\u001b[38;5;241;43m=\u001b[39;49m\u001b[43mbatch_size\u001b[49m\u001b[43m,\u001b[49m\n\u001b[0;32m    193\u001b[0m \u001b[43m    \u001b[49m\u001b[43mvalidation_data\u001b[49m\u001b[38;5;241;43m=\u001b[39;49m\u001b[43m(\u001b[49m\u001b[43mX_test_scaled\u001b[49m\u001b[43m,\u001b[49m\u001b[43m \u001b[49m\u001b[43my_test_scaled\u001b[49m\u001b[43m)\u001b[49m\u001b[43m,\u001b[49m\u001b[43m  \u001b[49m\u001b[38;5;66;43;03m# Usando `y_test_scaled`\u001b[39;49;00m\n\u001b[0;32m    194\u001b[0m \u001b[43m    \u001b[49m\u001b[43mcallbacks\u001b[49m\u001b[38;5;241;43m=\u001b[39;49m\u001b[43m[\u001b[49m\u001b[43mearly_stopping\u001b[49m\u001b[43m]\u001b[49m\u001b[43m,\u001b[49m\n\u001b[0;32m    195\u001b[0m \u001b[43m    \u001b[49m\u001b[43mverbose\u001b[49m\u001b[38;5;241;43m=\u001b[39;49m\u001b[38;5;241;43m1\u001b[39;49m\n\u001b[0;32m    196\u001b[0m \u001b[43m\u001b[49m\u001b[43m)\u001b[49m\n\u001b[0;32m    198\u001b[0m \u001b[38;5;28;01mif\u001b[39;00m save_artifacts:\n\u001b[0;32m    199\u001b[0m     \u001b[38;5;66;03m# Salvando os scalers na pasta do ativo\u001b[39;00m\n\u001b[0;32m    200\u001b[0m     \u001b[38;5;66;03m# Salvando os scalers na pasta do ativo\u001b[39;00m\n\u001b[0;32m    201\u001b[0m     joblib\u001b[38;5;241m.\u001b[39mdump(scaler_X, os\u001b[38;5;241m.\u001b[39mpath\u001b[38;5;241m.\u001b[39mjoin(stock_dir, \u001b[38;5;124mf\u001b[39m\u001b[38;5;124m\"\u001b[39m\u001b[38;5;124mmodel_2_comb_\u001b[39m\u001b[38;5;132;01m{\u001b[39;00mnum_combination\u001b[38;5;132;01m}\u001b[39;00m\u001b[38;5;124m_scaler_X.pkl\u001b[39m\u001b[38;5;124m\"\u001b[39m))\n",
      "File \u001b[1;32mc:\\Users\\marco\\anaconda3\\envs\\ieee\\lib\\site-packages\\keras\\src\\utils\\traceback_utils.py:117\u001b[0m, in \u001b[0;36mfilter_traceback.<locals>.error_handler\u001b[1;34m(*args, **kwargs)\u001b[0m\n\u001b[0;32m    115\u001b[0m filtered_tb \u001b[38;5;241m=\u001b[39m \u001b[38;5;28;01mNone\u001b[39;00m\n\u001b[0;32m    116\u001b[0m \u001b[38;5;28;01mtry\u001b[39;00m:\n\u001b[1;32m--> 117\u001b[0m     \u001b[38;5;28;01mreturn\u001b[39;00m fn(\u001b[38;5;241m*\u001b[39margs, \u001b[38;5;241m*\u001b[39m\u001b[38;5;241m*\u001b[39mkwargs)\n\u001b[0;32m    118\u001b[0m \u001b[38;5;28;01mexcept\u001b[39;00m \u001b[38;5;167;01mException\u001b[39;00m \u001b[38;5;28;01mas\u001b[39;00m e:\n\u001b[0;32m    119\u001b[0m     filtered_tb \u001b[38;5;241m=\u001b[39m _process_traceback_frames(e\u001b[38;5;241m.\u001b[39m__traceback__)\n",
      "File \u001b[1;32mc:\\Users\\marco\\anaconda3\\envs\\ieee\\lib\\site-packages\\keras\\src\\backend\\tensorflow\\trainer.py:371\u001b[0m, in \u001b[0;36mTensorFlowTrainer.fit\u001b[1;34m(self, x, y, batch_size, epochs, verbose, callbacks, validation_split, validation_data, shuffle, class_weight, sample_weight, initial_epoch, steps_per_epoch, validation_steps, validation_batch_size, validation_freq)\u001b[0m\n\u001b[0;32m    369\u001b[0m \u001b[38;5;28;01mfor\u001b[39;00m step, iterator \u001b[38;5;129;01min\u001b[39;00m epoch_iterator:\n\u001b[0;32m    370\u001b[0m     callbacks\u001b[38;5;241m.\u001b[39mon_train_batch_begin(step)\n\u001b[1;32m--> 371\u001b[0m     logs \u001b[38;5;241m=\u001b[39m \u001b[38;5;28;43mself\u001b[39;49m\u001b[38;5;241;43m.\u001b[39;49m\u001b[43mtrain_function\u001b[49m\u001b[43m(\u001b[49m\u001b[43miterator\u001b[49m\u001b[43m)\u001b[49m\n\u001b[0;32m    372\u001b[0m     callbacks\u001b[38;5;241m.\u001b[39mon_train_batch_end(step, logs)\n\u001b[0;32m    373\u001b[0m     \u001b[38;5;28;01mif\u001b[39;00m \u001b[38;5;28mself\u001b[39m\u001b[38;5;241m.\u001b[39mstop_training:\n",
      "File \u001b[1;32mc:\\Users\\marco\\anaconda3\\envs\\ieee\\lib\\site-packages\\keras\\src\\backend\\tensorflow\\trainer.py:222\u001b[0m, in \u001b[0;36mTensorFlowTrainer._make_function.<locals>.function\u001b[1;34m(iterator)\u001b[0m\n\u001b[0;32m    220\u001b[0m     \u001b[38;5;28;01mif\u001b[39;00m \u001b[38;5;129;01mnot\u001b[39;00m opt_outputs\u001b[38;5;241m.\u001b[39mhas_value():\n\u001b[0;32m    221\u001b[0m         \u001b[38;5;28;01mraise\u001b[39;00m \u001b[38;5;167;01mStopIteration\u001b[39;00m\n\u001b[1;32m--> 222\u001b[0m     \u001b[38;5;28;01mreturn\u001b[39;00m \u001b[43mopt_outputs\u001b[49m\u001b[38;5;241;43m.\u001b[39;49m\u001b[43mget_value\u001b[49m\u001b[43m(\u001b[49m\u001b[43m)\u001b[49m\n\u001b[0;32m    223\u001b[0m \u001b[38;5;28;01melse\u001b[39;00m:\n\u001b[0;32m    224\u001b[0m     \u001b[38;5;28;01mfor\u001b[39;00m step, data \u001b[38;5;129;01min\u001b[39;00m \u001b[38;5;28mzip\u001b[39m(\n\u001b[0;32m    225\u001b[0m         \u001b[38;5;28mrange\u001b[39m(\u001b[38;5;28mself\u001b[39m\u001b[38;5;241m.\u001b[39msteps_per_execution), iterator\n\u001b[0;32m    226\u001b[0m     ):\n",
      "File \u001b[1;32mc:\\Users\\marco\\anaconda3\\envs\\ieee\\lib\\site-packages\\tensorflow\\python\\data\\ops\\optional_ops.py:186\u001b[0m, in \u001b[0;36m_OptionalImpl.get_value\u001b[1;34m(self, name)\u001b[0m\n\u001b[0;32m    183\u001b[0m \u001b[38;5;28;01mwith\u001b[39;00m ops\u001b[38;5;241m.\u001b[39mname_scope(name, \u001b[38;5;124m\"\u001b[39m\u001b[38;5;124mOptionalGetValue\u001b[39m\u001b[38;5;124m\"\u001b[39m,\n\u001b[0;32m    184\u001b[0m                     [\u001b[38;5;28mself\u001b[39m\u001b[38;5;241m.\u001b[39m_variant_tensor]) \u001b[38;5;28;01mas\u001b[39;00m scope:\n\u001b[0;32m    185\u001b[0m   \u001b[38;5;28;01mwith\u001b[39;00m ops\u001b[38;5;241m.\u001b[39mcolocate_with(\u001b[38;5;28mself\u001b[39m\u001b[38;5;241m.\u001b[39m_variant_tensor):\n\u001b[1;32m--> 186\u001b[0m     result \u001b[38;5;241m=\u001b[39m \u001b[43mgen_optional_ops\u001b[49m\u001b[38;5;241;43m.\u001b[39;49m\u001b[43moptional_get_value\u001b[49m\u001b[43m(\u001b[49m\n\u001b[0;32m    187\u001b[0m \u001b[43m        \u001b[49m\u001b[38;5;28;43mself\u001b[39;49m\u001b[38;5;241;43m.\u001b[39;49m\u001b[43m_variant_tensor\u001b[49m\u001b[43m,\u001b[49m\n\u001b[0;32m    188\u001b[0m \u001b[43m        \u001b[49m\u001b[43mname\u001b[49m\u001b[38;5;241;43m=\u001b[39;49m\u001b[43mscope\u001b[49m\u001b[43m,\u001b[49m\n\u001b[0;32m    189\u001b[0m \u001b[43m        \u001b[49m\u001b[43moutput_types\u001b[49m\u001b[38;5;241;43m=\u001b[39;49m\u001b[43mstructure\u001b[49m\u001b[38;5;241;43m.\u001b[39;49m\u001b[43mget_flat_tensor_types\u001b[49m\u001b[43m(\u001b[49m\u001b[38;5;28;43mself\u001b[39;49m\u001b[38;5;241;43m.\u001b[39;49m\u001b[43m_element_spec\u001b[49m\u001b[43m)\u001b[49m\u001b[43m,\u001b[49m\n\u001b[0;32m    190\u001b[0m \u001b[43m        \u001b[49m\u001b[43moutput_shapes\u001b[49m\u001b[38;5;241;43m=\u001b[39;49m\u001b[43mstructure\u001b[49m\u001b[38;5;241;43m.\u001b[39;49m\u001b[43mget_flat_tensor_shapes\u001b[49m\u001b[43m(\u001b[49m\u001b[38;5;28;43mself\u001b[39;49m\u001b[38;5;241;43m.\u001b[39;49m\u001b[43m_element_spec\u001b[49m\u001b[43m)\u001b[49m\u001b[43m,\u001b[49m\n\u001b[0;32m    191\u001b[0m \u001b[43m    \u001b[49m\u001b[43m)\u001b[49m\n\u001b[0;32m    192\u001b[0m   \u001b[38;5;66;03m# NOTE: We do not colocate the deserialization of composite tensors\u001b[39;00m\n\u001b[0;32m    193\u001b[0m   \u001b[38;5;66;03m# because not all ops are guaranteed to have non-GPU kernels.\u001b[39;00m\n\u001b[0;32m    194\u001b[0m   \u001b[38;5;28;01mreturn\u001b[39;00m structure\u001b[38;5;241m.\u001b[39mfrom_tensor_list(\u001b[38;5;28mself\u001b[39m\u001b[38;5;241m.\u001b[39m_element_spec, result)\n",
      "File \u001b[1;32mc:\\Users\\marco\\anaconda3\\envs\\ieee\\lib\\site-packages\\tensorflow\\python\\ops\\gen_optional_ops.py:95\u001b[0m, in \u001b[0;36moptional_get_value\u001b[1;34m(optional, output_types, output_shapes, name)\u001b[0m\n\u001b[0;32m     93\u001b[0m \u001b[38;5;28;01mif\u001b[39;00m tld\u001b[38;5;241m.\u001b[39mis_eager:\n\u001b[0;32m     94\u001b[0m   \u001b[38;5;28;01mtry\u001b[39;00m:\n\u001b[1;32m---> 95\u001b[0m     _result \u001b[38;5;241m=\u001b[39m \u001b[43mpywrap_tfe\u001b[49m\u001b[38;5;241;43m.\u001b[39;49m\u001b[43mTFE_Py_FastPathExecute\u001b[49m\u001b[43m(\u001b[49m\n\u001b[0;32m     96\u001b[0m \u001b[43m      \u001b[49m\u001b[43m_ctx\u001b[49m\u001b[43m,\u001b[49m\u001b[43m \u001b[49m\u001b[38;5;124;43m\"\u001b[39;49m\u001b[38;5;124;43mOptionalGetValue\u001b[39;49m\u001b[38;5;124;43m\"\u001b[39;49m\u001b[43m,\u001b[49m\u001b[43m \u001b[49m\u001b[43mname\u001b[49m\u001b[43m,\u001b[49m\u001b[43m \u001b[49m\u001b[43moptional\u001b[49m\u001b[43m,\u001b[49m\u001b[43m \u001b[49m\u001b[38;5;124;43m\"\u001b[39;49m\u001b[38;5;124;43moutput_types\u001b[39;49m\u001b[38;5;124;43m\"\u001b[39;49m\u001b[43m,\u001b[49m\n\u001b[0;32m     97\u001b[0m \u001b[43m      \u001b[49m\u001b[43moutput_types\u001b[49m\u001b[43m,\u001b[49m\u001b[43m \u001b[49m\u001b[38;5;124;43m\"\u001b[39;49m\u001b[38;5;124;43moutput_shapes\u001b[39;49m\u001b[38;5;124;43m\"\u001b[39;49m\u001b[43m,\u001b[49m\u001b[43m \u001b[49m\u001b[43moutput_shapes\u001b[49m\u001b[43m)\u001b[49m\n\u001b[0;32m     98\u001b[0m     \u001b[38;5;28;01mreturn\u001b[39;00m _result\n\u001b[0;32m     99\u001b[0m   \u001b[38;5;28;01mexcept\u001b[39;00m _core\u001b[38;5;241m.\u001b[39m_NotOkStatusException \u001b[38;5;28;01mas\u001b[39;00m e:\n",
      "\u001b[1;31mKeyboardInterrupt\u001b[0m: "
     ]
    }
   ],
   "source": [
    "# Processando o Modelo 2 \n",
    "name_model = model_2\n",
    "results_list = []\n",
    "\n",
    "# Usando tqdm para exibir progresso das 7 combinações\n",
    "for i in tqdm(range(7), desc=\"Processando combinações\"):\n",
    "    results_list.append(process_stocks_and_save_metrics(all_stock_data, i + 1, name_model))\n",
    "\n",
    "# Combina os resultados em um único DataFrame\n",
    "results_model_2 = pd.concat(results_list, ignore_index=True)\n",
    "\n",
    "# Salvar em CSV\n",
    "results_model_2.to_csv(f'{OUTPUT_DIR}/Estudos_IEEE_{name_model.__name__}_01.csv', sep=';', encoding='utf-8-sig')"
   ]
  },
  {
   "cell_type": "code",
   "execution_count": null,
   "metadata": {},
   "outputs": [
    {
     "name": "stderr",
     "output_type": "stream",
     "text": [
      "Processando combinações:   0%|          | 0/7 [00:00<?, ?it/s]"
     ]
    },
    {
     "name": "stdout",
     "output_type": "stream",
     "text": [
      "model_3: Processando PETR4 | Combinação 1...\n",
      "Epoch 1/50\n",
      "\u001b[1m90/90\u001b[0m \u001b[32m━━━━━━━━━━━━━━━━━━━━\u001b[0m\u001b[37m\u001b[0m \u001b[1m1s\u001b[0m 3ms/step - loss: 0.0012 - mae: 0.0239 - mape: 258.9323 - mse: 0.0012 - val_loss: 3.5805e-04 - val_mae: 0.0126 - val_mape: 2.9881 - val_mse: 3.5805e-04\n",
      "Epoch 2/50\n",
      "\u001b[1m90/90\u001b[0m \u001b[32m━━━━━━━━━━━━━━━━━━━━\u001b[0m\u001b[37m\u001b[0m \u001b[1m0s\u001b[0m 2ms/step - loss: 1.8733e-04 - mae: 0.0094 - mape: 8064.4722 - mse: 1.8733e-04 - val_loss: 3.4702e-04 - val_mae: 0.0125 - val_mape: 2.9505 - val_mse: 3.4702e-04\n",
      "Epoch 3/50\n",
      "\u001b[1m90/90\u001b[0m \u001b[32m━━━━━━━━━━━━━━━━━━━━\u001b[0m\u001b[37m\u001b[0m \u001b[1m0s\u001b[0m 2ms/step - loss: 1.7894e-04 - mae: 0.0092 - mape: 377.8435 - mse: 1.7894e-04 - val_loss: 3.5589e-04 - val_mae: 0.0126 - val_mape: 3.0132 - val_mse: 3.5589e-04\n",
      "Epoch 4/50\n",
      "\u001b[1m90/90\u001b[0m \u001b[32m━━━━━━━━━━━━━━━━━━━━\u001b[0m\u001b[37m\u001b[0m \u001b[1m0s\u001b[0m 2ms/step - loss: 1.7941e-04 - mae: 0.0093 - mape: 5758.2856 - mse: 1.7941e-04 - val_loss: 3.3746e-04 - val_mae: 0.0125 - val_mape: 2.9397 - val_mse: 3.3746e-04\n",
      "Epoch 5/50\n",
      "\u001b[1m90/90\u001b[0m \u001b[32m━━━━━━━━━━━━━━━━━━━━\u001b[0m\u001b[37m\u001b[0m \u001b[1m0s\u001b[0m 2ms/step - loss: 1.9966e-04 - mae: 0.0100 - mape: 1439.8258 - mse: 1.9966e-04 - val_loss: 3.3365e-04 - val_mae: 0.0123 - val_mape: 2.9132 - val_mse: 3.3365e-04\n",
      "Epoch 6/50\n",
      "\u001b[1m90/90\u001b[0m \u001b[32m━━━━━━━━━━━━━━━━━━━━\u001b[0m\u001b[37m\u001b[0m \u001b[1m0s\u001b[0m 2ms/step - loss: 1.7959e-04 - mae: 0.0097 - mape: 1041.1844 - mse: 1.7959e-04 - val_loss: 3.6923e-04 - val_mae: 0.0139 - val_mape: 3.2203 - val_mse: 3.6923e-04\n",
      "Epoch 7/50\n",
      "\u001b[1m90/90\u001b[0m \u001b[32m━━━━━━━━━━━━━━━━━━━━\u001b[0m\u001b[37m\u001b[0m \u001b[1m0s\u001b[0m 2ms/step - loss: 1.8523e-04 - mae: 0.0097 - mape: 1854.7607 - mse: 1.8523e-04 - val_loss: 3.2915e-04 - val_mae: 0.0121 - val_mape: 2.8785 - val_mse: 3.2915e-04\n",
      "Epoch 8/50\n",
      "\u001b[1m90/90\u001b[0m \u001b[32m━━━━━━━━━━━━━━━━━━━━\u001b[0m\u001b[37m\u001b[0m \u001b[1m0s\u001b[0m 2ms/step - loss: 1.8441e-04 - mae: 0.0094 - mape: 1667.9907 - mse: 1.8441e-04 - val_loss: 3.2864e-04 - val_mae: 0.0121 - val_mape: 2.8762 - val_mse: 3.2864e-04\n",
      "Epoch 9/50\n",
      "\u001b[1m90/90\u001b[0m \u001b[32m━━━━━━━━━━━━━━━━━━━━\u001b[0m\u001b[37m\u001b[0m \u001b[1m0s\u001b[0m 2ms/step - loss: 1.8035e-04 - mae: 0.0094 - mape: 3711.1082 - mse: 1.8035e-04 - val_loss: 3.2813e-04 - val_mae: 0.0121 - val_mape: 2.8719 - val_mse: 3.2813e-04\n",
      "Epoch 10/50\n",
      "\u001b[1m90/90\u001b[0m \u001b[32m━━━━━━━━━━━━━━━━━━━━\u001b[0m\u001b[37m\u001b[0m \u001b[1m0s\u001b[0m 2ms/step - loss: 1.8434e-04 - mae: 0.0096 - mape: 1766.6152 - mse: 1.8434e-04 - val_loss: 3.3058e-04 - val_mae: 0.0122 - val_mape: 2.8893 - val_mse: 3.3058e-04\n",
      "Epoch 11/50\n",
      "\u001b[1m90/90\u001b[0m \u001b[32m━━━━━━━━━━━━━━━━━━━━\u001b[0m\u001b[37m\u001b[0m \u001b[1m0s\u001b[0m 3ms/step - loss: 1.8687e-04 - mae: 0.0097 - mape: 1873.8771 - mse: 1.8687e-04 - val_loss: 3.4737e-04 - val_mae: 0.0132 - val_mape: 3.0787 - val_mse: 3.4737e-04\n",
      "Epoch 12/50\n",
      "\u001b[1m90/90\u001b[0m \u001b[32m━━━━━━━━━━━━━━━━━━━━\u001b[0m\u001b[37m\u001b[0m \u001b[1m0s\u001b[0m 2ms/step - loss: 1.7846e-04 - mae: 0.0092 - mape: 5509.7524 - mse: 1.7846e-04 - val_loss: 3.2848e-04 - val_mae: 0.0121 - val_mape: 2.8840 - val_mse: 3.2848e-04\n",
      "Epoch 13/50\n",
      "\u001b[1m90/90\u001b[0m \u001b[32m━━━━━━━━━━━━━━━━━━━━\u001b[0m\u001b[37m\u001b[0m \u001b[1m0s\u001b[0m 2ms/step - loss: 1.6253e-04 - mae: 0.0093 - mape: 1664.6527 - mse: 1.6253e-04 - val_loss: 3.3967e-04 - val_mae: 0.0124 - val_mape: 2.9532 - val_mse: 3.3967e-04\n",
      "Epoch 14/50\n",
      "\u001b[1m90/90\u001b[0m \u001b[32m━━━━━━━━━━━━━━━━━━━━\u001b[0m\u001b[37m\u001b[0m \u001b[1m0s\u001b[0m 2ms/step - loss: 1.9519e-04 - mae: 0.0097 - mape: 3441.4712 - mse: 1.9519e-04 - val_loss: 3.2689e-04 - val_mae: 0.0125 - val_mape: 2.9308 - val_mse: 3.2689e-04\n",
      "Epoch 15/50\n",
      "\u001b[1m90/90\u001b[0m \u001b[32m━━━━━━━━━━━━━━━━━━━━\u001b[0m\u001b[37m\u001b[0m \u001b[1m0s\u001b[0m 2ms/step - loss: 1.5934e-04 - mae: 0.0089 - mape: 6762.3311 - mse: 1.5934e-04 - val_loss: 3.1920e-04 - val_mae: 0.0119 - val_mape: 2.8255 - val_mse: 3.1920e-04\n",
      "Epoch 16/50\n",
      "\u001b[1m90/90\u001b[0m \u001b[32m━━━━━━━━━━━━━━━━━━━━\u001b[0m\u001b[37m\u001b[0m \u001b[1m0s\u001b[0m 2ms/step - loss: 1.7619e-04 - mae: 0.0091 - mape: 1007.2707 - mse: 1.7619e-04 - val_loss: 3.2585e-04 - val_mae: 0.0121 - val_mape: 2.8780 - val_mse: 3.2585e-04\n",
      "Epoch 17/50\n",
      "\u001b[1m90/90\u001b[0m \u001b[32m━━━━━━━━━━━━━━━━━━━━\u001b[0m\u001b[37m\u001b[0m \u001b[1m0s\u001b[0m 2ms/step - loss: 1.8686e-04 - mae: 0.0096 - mape: 576.9334 - mse: 1.8686e-04 - val_loss: 3.1318e-04 - val_mae: 0.0118 - val_mape: 2.8158 - val_mse: 3.1318e-04\n",
      "Epoch 18/50\n",
      "\u001b[1m90/90\u001b[0m \u001b[32m━━━━━━━━━━━━━━━━━━━━\u001b[0m\u001b[37m\u001b[0m \u001b[1m0s\u001b[0m 2ms/step - loss: 1.7848e-04 - mae: 0.0093 - mape: 473.2315 - mse: 1.7848e-04 - val_loss: 3.1216e-04 - val_mae: 0.0118 - val_mape: 2.7982 - val_mse: 3.1216e-04\n",
      "Epoch 19/50\n",
      "\u001b[1m90/90\u001b[0m \u001b[32m━━━━━━━━━━━━━━━━━━━━\u001b[0m\u001b[37m\u001b[0m \u001b[1m0s\u001b[0m 2ms/step - loss: 1.9254e-04 - mae: 0.0098 - mape: 3211.7666 - mse: 1.9254e-04 - val_loss: 3.0952e-04 - val_mae: 0.0118 - val_mape: 2.7914 - val_mse: 3.0952e-04\n",
      "Epoch 20/50\n",
      "\u001b[1m90/90\u001b[0m \u001b[32m━━━━━━━━━━━━━━━━━━━━\u001b[0m\u001b[37m\u001b[0m \u001b[1m0s\u001b[0m 2ms/step - loss: 1.8255e-04 - mae: 0.0094 - mape: 2531.9917 - mse: 1.8255e-04 - val_loss: 3.1391e-04 - val_mae: 0.0117 - val_mape: 2.8034 - val_mse: 3.1391e-04\n",
      "Epoch 21/50\n",
      "\u001b[1m90/90\u001b[0m \u001b[32m━━━━━━━━━━━━━━━━━━━━\u001b[0m\u001b[37m\u001b[0m \u001b[1m0s\u001b[0m 2ms/step - loss: 1.6772e-04 - mae: 0.0091 - mape: 5622.0474 - mse: 1.6772e-04 - val_loss: 3.1075e-04 - val_mae: 0.0120 - val_mape: 2.8352 - val_mse: 3.1075e-04\n",
      "Epoch 22/50\n",
      "\u001b[1m90/90\u001b[0m \u001b[32m━━━━━━━━━━━━━━━━━━━━\u001b[0m\u001b[37m\u001b[0m \u001b[1m0s\u001b[0m 2ms/step - loss: 1.8538e-04 - mae: 0.0097 - mape: 3807.8196 - mse: 1.8538e-04 - val_loss: 3.0841e-04 - val_mae: 0.0118 - val_mape: 2.7909 - val_mse: 3.0841e-04\n",
      "Epoch 23/50\n",
      "\u001b[1m90/90\u001b[0m \u001b[32m━━━━━━━━━━━━━━━━━━━━\u001b[0m\u001b[37m\u001b[0m \u001b[1m0s\u001b[0m 2ms/step - loss: 1.6002e-04 - mae: 0.0090 - mape: 12789.2832 - mse: 1.6002e-04 - val_loss: 3.0333e-04 - val_mae: 0.0116 - val_mape: 2.7608 - val_mse: 3.0333e-04\n",
      "Epoch 24/50\n",
      "\u001b[1m90/90\u001b[0m \u001b[32m━━━━━━━━━━━━━━━━━━━━\u001b[0m\u001b[37m\u001b[0m \u001b[1m0s\u001b[0m 2ms/step - loss: 1.5399e-04 - mae: 0.0089 - mape: 969.1231 - mse: 1.5399e-04 - val_loss: 3.0797e-04 - val_mae: 0.0118 - val_mape: 2.7958 - val_mse: 3.0797e-04\n",
      "Epoch 25/50\n",
      "\u001b[1m90/90\u001b[0m \u001b[32m━━━━━━━━━━━━━━━━━━━━\u001b[0m\u001b[37m\u001b[0m \u001b[1m0s\u001b[0m 2ms/step - loss: 1.5129e-04 - mae: 0.0088 - mape: 1134.6465 - mse: 1.5129e-04 - val_loss: 3.0418e-04 - val_mae: 0.0116 - val_mape: 2.7608 - val_mse: 3.0418e-04\n",
      "Epoch 26/50\n",
      "\u001b[1m90/90\u001b[0m \u001b[32m━━━━━━━━━━━━━━━━━━━━\u001b[0m\u001b[37m\u001b[0m \u001b[1m0s\u001b[0m 2ms/step - loss: 1.6313e-04 - mae: 0.0090 - mape: 2966.6782 - mse: 1.6313e-04 - val_loss: 2.9972e-04 - val_mae: 0.0115 - val_mape: 2.7480 - val_mse: 2.9972e-04\n",
      "Epoch 27/50\n",
      "\u001b[1m90/90\u001b[0m \u001b[32m━━━━━━━━━━━━━━━━━━━━\u001b[0m\u001b[37m\u001b[0m \u001b[1m0s\u001b[0m 2ms/step - loss: 1.5854e-04 - mae: 0.0089 - mape: 2744.4951 - mse: 1.5854e-04 - val_loss: 3.0522e-04 - val_mae: 0.0116 - val_mape: 2.7738 - val_mse: 3.0522e-04\n",
      "Epoch 28/50\n",
      "\u001b[1m90/90\u001b[0m \u001b[32m━━━━━━━━━━━━━━━━━━━━\u001b[0m\u001b[37m\u001b[0m \u001b[1m0s\u001b[0m 2ms/step - loss: 1.7477e-04 - mae: 0.0094 - mape: 632.4197 - mse: 1.7477e-04 - val_loss: 3.0194e-04 - val_mae: 0.0115 - val_mape: 2.7609 - val_mse: 3.0194e-04\n",
      "Epoch 29/50\n",
      "\u001b[1m90/90\u001b[0m \u001b[32m━━━━━━━━━━━━━━━━━━━━\u001b[0m\u001b[37m\u001b[0m \u001b[1m0s\u001b[0m 2ms/step - loss: 1.5838e-04 - mae: 0.0088 - mape: 958.8472 - mse: 1.5838e-04 - val_loss: 2.9946e-04 - val_mae: 0.0115 - val_mape: 2.7428 - val_mse: 2.9946e-04\n",
      "Epoch 30/50\n",
      "\u001b[1m90/90\u001b[0m \u001b[32m━━━━━━━━━━━━━━━━━━━━\u001b[0m\u001b[37m\u001b[0m \u001b[1m0s\u001b[0m 2ms/step - loss: 1.7137e-04 - mae: 0.0092 - mape: 588.8264 - mse: 1.7137e-04 - val_loss: 3.0448e-04 - val_mae: 0.0116 - val_mape: 2.7729 - val_mse: 3.0448e-04\n",
      "Epoch 31/50\n",
      "\u001b[1m90/90\u001b[0m \u001b[32m━━━━━━━━━━━━━━━━━━━━\u001b[0m\u001b[37m\u001b[0m \u001b[1m0s\u001b[0m 2ms/step - loss: 1.6769e-04 - mae: 0.0092 - mape: 3365.5046 - mse: 1.6769e-04 - val_loss: 3.2443e-04 - val_mae: 0.0128 - val_mape: 2.9926 - val_mse: 3.2443e-04\n",
      "Epoch 32/50\n",
      "\u001b[1m90/90\u001b[0m \u001b[32m━━━━━━━━━━━━━━━━━━━━\u001b[0m\u001b[37m\u001b[0m \u001b[1m0s\u001b[0m 2ms/step - loss: 1.7086e-04 - mae: 0.0091 - mape: 4541.7817 - mse: 1.7086e-04 - val_loss: 2.9833e-04 - val_mae: 0.0114 - val_mape: 2.7327 - val_mse: 2.9833e-04\n",
      "Epoch 33/50\n",
      "\u001b[1m90/90\u001b[0m \u001b[32m━━━━━━━━━━━━━━━━━━━━\u001b[0m\u001b[37m\u001b[0m \u001b[1m0s\u001b[0m 2ms/step - loss: 1.7042e-04 - mae: 0.0093 - mape: 373.0533 - mse: 1.7042e-04 - val_loss: 3.3010e-04 - val_mae: 0.0130 - val_mape: 3.0257 - val_mse: 3.3010e-04\n",
      "Epoch 34/50\n",
      "\u001b[1m90/90\u001b[0m \u001b[32m━━━━━━━━━━━━━━━━━━━━\u001b[0m\u001b[37m\u001b[0m \u001b[1m0s\u001b[0m 2ms/step - loss: 1.6353e-04 - mae: 0.0090 - mape: 1540.7156 - mse: 1.6353e-04 - val_loss: 3.2339e-04 - val_mae: 0.0120 - val_mape: 2.8751 - val_mse: 3.2339e-04\n",
      "Epoch 35/50\n",
      "\u001b[1m90/90\u001b[0m \u001b[32m━━━━━━━━━━━━━━━━━━━━\u001b[0m\u001b[37m\u001b[0m \u001b[1m0s\u001b[0m 2ms/step - loss: 1.5269e-04 - mae: 0.0086 - mape: 1830.5376 - mse: 1.5269e-04 - val_loss: 3.1908e-04 - val_mae: 0.0119 - val_mape: 2.8464 - val_mse: 3.1908e-04\n",
      "Epoch 36/50\n",
      "\u001b[1m90/90\u001b[0m \u001b[32m━━━━━━━━━━━━━━━━━━━━\u001b[0m\u001b[37m\u001b[0m \u001b[1m0s\u001b[0m 2ms/step - loss: 1.6872e-04 - mae: 0.0090 - mape: 6268.6641 - mse: 1.6872e-04 - val_loss: 2.9234e-04 - val_mae: 0.0115 - val_mape: 2.7285 - val_mse: 2.9234e-04\n",
      "Epoch 37/50\n",
      "\u001b[1m90/90\u001b[0m \u001b[32m━━━━━━━━━━━━━━━━━━━━\u001b[0m\u001b[37m\u001b[0m \u001b[1m0s\u001b[0m 2ms/step - loss: 1.6529e-04 - mae: 0.0089 - mape: 568.9999 - mse: 1.6529e-04 - val_loss: 3.2868e-04 - val_mae: 0.0130 - val_mape: 3.0283 - val_mse: 3.2868e-04\n",
      "Epoch 38/50\n",
      "\u001b[1m90/90\u001b[0m \u001b[32m━━━━━━━━━━━━━━━━━━━━\u001b[0m\u001b[37m\u001b[0m \u001b[1m0s\u001b[0m 2ms/step - loss: 1.5905e-04 - mae: 0.0090 - mape: 13634.4287 - mse: 1.5905e-04 - val_loss: 3.0987e-04 - val_mae: 0.0117 - val_mape: 2.7929 - val_mse: 3.0987e-04\n",
      "Epoch 39/50\n",
      "\u001b[1m90/90\u001b[0m \u001b[32m━━━━━━━━━━━━━━━━━━━━\u001b[0m\u001b[37m\u001b[0m \u001b[1m0s\u001b[0m 2ms/step - loss: 1.5791e-04 - mae: 0.0088 - mape: 4345.0601 - mse: 1.5791e-04 - val_loss: 2.8980e-04 - val_mae: 0.0114 - val_mape: 2.7197 - val_mse: 2.8980e-04\n",
      "Epoch 40/50\n",
      "\u001b[1m90/90\u001b[0m \u001b[32m━━━━━━━━━━━━━━━━━━━━\u001b[0m\u001b[37m\u001b[0m \u001b[1m0s\u001b[0m 2ms/step - loss: 1.5388e-04 - mae: 0.0086 - mape: 160.8861 - mse: 1.5388e-04 - val_loss: 2.9221e-04 - val_mae: 0.0115 - val_mape: 2.7389 - val_mse: 2.9221e-04\n",
      "Epoch 41/50\n",
      "\u001b[1m90/90\u001b[0m \u001b[32m━━━━━━━━━━━━━━━━━━━━\u001b[0m\u001b[37m\u001b[0m \u001b[1m0s\u001b[0m 2ms/step - loss: 1.5939e-04 - mae: 0.0088 - mape: 3259.5398 - mse: 1.5939e-04 - val_loss: 2.8936e-04 - val_mae: 0.0114 - val_mape: 2.7140 - val_mse: 2.8936e-04\n",
      "Epoch 42/50\n",
      "\u001b[1m90/90\u001b[0m \u001b[32m━━━━━━━━━━━━━━━━━━━━\u001b[0m\u001b[37m\u001b[0m \u001b[1m0s\u001b[0m 2ms/step - loss: 1.4946e-04 - mae: 0.0085 - mape: 3366.1572 - mse: 1.4946e-04 - val_loss: 2.9057e-04 - val_mae: 0.0115 - val_mape: 2.7308 - val_mse: 2.9057e-04\n",
      "Epoch 43/50\n",
      "\u001b[1m90/90\u001b[0m \u001b[32m━━━━━━━━━━━━━━━━━━━━\u001b[0m\u001b[37m\u001b[0m \u001b[1m0s\u001b[0m 2ms/step - loss: 1.5129e-04 - mae: 0.0089 - mape: 689.5009 - mse: 1.5129e-04 - val_loss: 2.9632e-04 - val_mae: 0.0118 - val_mape: 2.7975 - val_mse: 2.9632e-04\n",
      "Epoch 44/50\n",
      "\u001b[1m90/90\u001b[0m \u001b[32m━━━━━━━━━━━━━━━━━━━━\u001b[0m\u001b[37m\u001b[0m \u001b[1m0s\u001b[0m 2ms/step - loss: 1.4095e-04 - mae: 0.0084 - mape: 1353.9631 - mse: 1.4095e-04 - val_loss: 3.0982e-04 - val_mae: 0.0124 - val_mape: 2.9119 - val_mse: 3.0982e-04\n",
      "Epoch 45/50\n",
      "\u001b[1m90/90\u001b[0m \u001b[32m━━━━━━━━━━━━━━━━━━━━\u001b[0m\u001b[37m\u001b[0m \u001b[1m0s\u001b[0m 2ms/step - loss: 1.6029e-04 - mae: 0.0089 - mape: 442.5212 - mse: 1.6029e-04 - val_loss: 3.0437e-04 - val_mae: 0.0116 - val_mape: 2.7740 - val_mse: 3.0437e-04\n",
      "Epoch 46/50\n",
      "\u001b[1m90/90\u001b[0m \u001b[32m━━━━━━━━━━━━━━━━━━━━\u001b[0m\u001b[37m\u001b[0m \u001b[1m0s\u001b[0m 2ms/step - loss: 1.5685e-04 - mae: 0.0088 - mape: 343.7881 - mse: 1.5685e-04 - val_loss: 2.8931e-04 - val_mae: 0.0113 - val_mape: 2.7112 - val_mse: 2.8931e-04\n",
      "Epoch 47/50\n",
      "\u001b[1m90/90\u001b[0m \u001b[32m━━━━━━━━━━━━━━━━━━━━\u001b[0m\u001b[37m\u001b[0m \u001b[1m0s\u001b[0m 2ms/step - loss: 1.5796e-04 - mae: 0.0088 - mape: 304.4036 - mse: 1.5796e-04 - val_loss: 2.8574e-04 - val_mae: 0.0113 - val_mape: 2.6983 - val_mse: 2.8574e-04\n",
      "Epoch 48/50\n",
      "\u001b[1m90/90\u001b[0m \u001b[32m━━━━━━━━━━━━━━━━━━━━\u001b[0m\u001b[37m\u001b[0m \u001b[1m0s\u001b[0m 2ms/step - loss: 1.6398e-04 - mae: 0.0089 - mape: 518.0209 - mse: 1.6398e-04 - val_loss: 2.8609e-04 - val_mae: 0.0113 - val_mape: 2.6985 - val_mse: 2.8609e-04\n",
      "Epoch 49/50\n",
      "\u001b[1m90/90\u001b[0m \u001b[32m━━━━━━━━━━━━━━━━━━━━\u001b[0m\u001b[37m\u001b[0m \u001b[1m0s\u001b[0m 2ms/step - loss: 1.5839e-04 - mae: 0.0089 - mape: 16036.7158 - mse: 1.5839e-04 - val_loss: 2.9383e-04 - val_mae: 0.0114 - val_mape: 2.7284 - val_mse: 2.9383e-04\n",
      "Epoch 50/50\n",
      "\u001b[1m90/90\u001b[0m \u001b[32m━━━━━━━━━━━━━━━━━━━━\u001b[0m\u001b[37m\u001b[0m \u001b[1m0s\u001b[0m 2ms/step - loss: 1.5113e-04 - mae: 0.0088 - mape: 3285.1719 - mse: 1.5113e-04 - val_loss: 3.0895e-04 - val_mae: 0.0117 - val_mape: 2.8106 - val_mse: 3.0895e-04\n"
     ]
    },
    {
     "name": "stderr",
     "output_type": "stream",
     "text": [
      "WARNING:absl:You are saving your model as an HDF5 file via `model.save()` or `keras.saving.save_model(model)`. This file format is considered legacy. We recommend using instead the native Keras format, e.g. `model.save('my_model.keras')` or `keras.saving.save_model(model, 'my_model.keras')`. \n"
     ]
    },
    {
     "name": "stdout",
     "output_type": "stream",
     "text": [
      "\u001b[1m23/23\u001b[0m \u001b[32m━━━━━━━━━━━━━━━━━━━━\u001b[0m\u001b[37m\u001b[0m \u001b[1m0s\u001b[0m 4ms/step\n",
      "model_3: Processando VALE3 | Combinação 1...\n",
      "Epoch 1/50\n",
      "\u001b[1m90/90\u001b[0m \u001b[32m━━━━━━━━━━━━━━━━━━━━\u001b[0m\u001b[37m\u001b[0m \u001b[1m1s\u001b[0m 3ms/step - loss: 0.0196 - mae: 0.1030 - mape: 22696.2188 - mse: 0.0196 - val_loss: 0.0032 - val_mae: 0.0430 - val_mape: 3.7598 - val_mse: 0.0032\n",
      "Epoch 2/50\n",
      "\u001b[1m90/90\u001b[0m \u001b[32m━━━━━━━━━━━━━━━━━━━━\u001b[0m\u001b[37m\u001b[0m \u001b[1m0s\u001b[0m 2ms/step - loss: 2.8391e-04 - mae: 0.0124 - mape: 2125.9722 - mse: 2.8391e-04 - val_loss: 0.0015 - val_mae: 0.0290 - val_mape: 2.7021 - val_mse: 0.0015\n",
      "Epoch 3/50\n",
      "\u001b[1m90/90\u001b[0m \u001b[32m━━━━━━━━━━━━━━━━━━━━\u001b[0m\u001b[37m\u001b[0m \u001b[1m0s\u001b[0m 2ms/step - loss: 2.4888e-04 - mae: 0.0114 - mape: 1446.9879 - mse: 2.4888e-04 - val_loss: 0.0014 - val_mae: 0.0277 - val_mape: 2.6117 - val_mse: 0.0014\n",
      "Epoch 4/50\n",
      "\u001b[1m90/90\u001b[0m \u001b[32m━━━━━━━━━━━━━━━━━━━━\u001b[0m\u001b[37m\u001b[0m \u001b[1m0s\u001b[0m 2ms/step - loss: 2.6058e-04 - mae: 0.0115 - mape: 745.3537 - mse: 2.6058e-04 - val_loss: 0.0014 - val_mae: 0.0279 - val_mape: 2.6345 - val_mse: 0.0014\n",
      "Epoch 5/50\n",
      "\u001b[1m90/90\u001b[0m \u001b[32m━━━━━━━━━━━━━━━━━━━━\u001b[0m\u001b[37m\u001b[0m \u001b[1m0s\u001b[0m 2ms/step - loss: 2.3923e-04 - mae: 0.0113 - mape: 1361.0234 - mse: 2.3923e-04 - val_loss: 0.0013 - val_mae: 0.0272 - val_mape: 2.5766 - val_mse: 0.0013\n",
      "Epoch 6/50\n",
      "\u001b[1m90/90\u001b[0m \u001b[32m━━━━━━━━━━━━━━━━━━━━\u001b[0m\u001b[37m\u001b[0m \u001b[1m0s\u001b[0m 2ms/step - loss: 2.2026e-04 - mae: 0.0110 - mape: 414.9279 - mse: 2.2026e-04 - val_loss: 0.0012 - val_mae: 0.0256 - val_mape: 2.4631 - val_mse: 0.0012\n",
      "Epoch 7/50\n",
      "\u001b[1m90/90\u001b[0m \u001b[32m━━━━━━━━━━━━━━━━━━━━\u001b[0m\u001b[37m\u001b[0m \u001b[1m0s\u001b[0m 2ms/step - loss: 2.3498e-04 - mae: 0.0111 - mape: 518.0259 - mse: 2.3498e-04 - val_loss: 0.0012 - val_mae: 0.0251 - val_mape: 2.4305 - val_mse: 0.0012\n",
      "Epoch 8/50\n",
      "\u001b[1m90/90\u001b[0m \u001b[32m━━━━━━━━━━━━━━━━━━━━\u001b[0m\u001b[37m\u001b[0m \u001b[1m0s\u001b[0m 2ms/step - loss: 2.4378e-04 - mae: 0.0113 - mape: 9411.9326 - mse: 2.4378e-04 - val_loss: 0.0012 - val_mae: 0.0257 - val_mape: 2.4739 - val_mse: 0.0012\n",
      "Epoch 9/50\n",
      "\u001b[1m90/90\u001b[0m \u001b[32m━━━━━━━━━━━━━━━━━━━━\u001b[0m\u001b[37m\u001b[0m \u001b[1m0s\u001b[0m 2ms/step - loss: 2.2758e-04 - mae: 0.0110 - mape: 19977.3164 - mse: 2.2758e-04 - val_loss: 0.0012 - val_mae: 0.0251 - val_mape: 2.4307 - val_mse: 0.0012\n",
      "Epoch 10/50\n",
      "\u001b[1m90/90\u001b[0m \u001b[32m━━━━━━━━━━━━━━━━━━━━\u001b[0m\u001b[37m\u001b[0m \u001b[1m0s\u001b[0m 2ms/step - loss: 2.4040e-04 - mae: 0.0111 - mape: 2440.0967 - mse: 2.4040e-04 - val_loss: 0.0011 - val_mae: 0.0248 - val_mape: 2.4035 - val_mse: 0.0011\n",
      "Epoch 11/50\n",
      "\u001b[1m90/90\u001b[0m \u001b[32m━━━━━━━━━━━━━━━━━━━━\u001b[0m\u001b[37m\u001b[0m \u001b[1m0s\u001b[0m 2ms/step - loss: 3.1132e-04 - mae: 0.0115 - mape: 2682.0405 - mse: 3.1132e-04 - val_loss: 0.0011 - val_mae: 0.0248 - val_mape: 2.4038 - val_mse: 0.0011\n",
      "Epoch 12/50\n",
      "\u001b[1m90/90\u001b[0m \u001b[32m━━━━━━━━━━━━━━━━━━━━\u001b[0m\u001b[37m\u001b[0m \u001b[1m0s\u001b[0m 2ms/step - loss: 2.3266e-04 - mae: 0.0111 - mape: 7154.9634 - mse: 2.3266e-04 - val_loss: 0.0013 - val_mae: 0.0266 - val_mape: 2.5499 - val_mse: 0.0013\n",
      "Epoch 13/50\n",
      "\u001b[1m90/90\u001b[0m \u001b[32m━━━━━━━━━━━━━━━━━━━━\u001b[0m\u001b[37m\u001b[0m \u001b[1m0s\u001b[0m 2ms/step - loss: 2.4122e-04 - mae: 0.0112 - mape: 773.0982 - mse: 2.4122e-04 - val_loss: 0.0011 - val_mae: 0.0241 - val_mape: 2.3815 - val_mse: 0.0011\n",
      "Epoch 14/50\n",
      "\u001b[1m90/90\u001b[0m \u001b[32m━━━━━━━━━━━━━━━━━━━━\u001b[0m\u001b[37m\u001b[0m \u001b[1m0s\u001b[0m 3ms/step - loss: 2.4129e-04 - mae: 0.0112 - mape: 1207.1902 - mse: 2.4129e-04 - val_loss: 0.0011 - val_mae: 0.0241 - val_mape: 2.3641 - val_mse: 0.0011\n",
      "Epoch 15/50\n",
      "\u001b[1m90/90\u001b[0m \u001b[32m━━━━━━━━━━━━━━━━━━━━\u001b[0m\u001b[37m\u001b[0m \u001b[1m0s\u001b[0m 2ms/step - loss: 2.1290e-04 - mae: 0.0107 - mape: 1161.0531 - mse: 2.1290e-04 - val_loss: 0.0012 - val_mae: 0.0252 - val_mape: 2.4352 - val_mse: 0.0012\n",
      "Epoch 16/50\n",
      "\u001b[1m90/90\u001b[0m \u001b[32m━━━━━━━━━━━━━━━━━━━━\u001b[0m\u001b[37m\u001b[0m \u001b[1m0s\u001b[0m 2ms/step - loss: 2.4042e-04 - mae: 0.0115 - mape: 1898.4103 - mse: 2.4042e-04 - val_loss: 0.0011 - val_mae: 0.0241 - val_mape: 2.3605 - val_mse: 0.0011\n",
      "Epoch 17/50\n",
      "\u001b[1m90/90\u001b[0m \u001b[32m━━━━━━━━━━━━━━━━━━━━\u001b[0m\u001b[37m\u001b[0m \u001b[1m0s\u001b[0m 2ms/step - loss: 2.5039e-04 - mae: 0.0113 - mape: 3619.5713 - mse: 2.5039e-04 - val_loss: 0.0011 - val_mae: 0.0246 - val_mape: 2.3935 - val_mse: 0.0011\n",
      "Epoch 18/50\n",
      "\u001b[1m90/90\u001b[0m \u001b[32m━━━━━━━━━━━━━━━━━━━━\u001b[0m\u001b[37m\u001b[0m \u001b[1m0s\u001b[0m 2ms/step - loss: 2.4428e-04 - mae: 0.0111 - mape: 232.8621 - mse: 2.4428e-04 - val_loss: 0.0011 - val_mae: 0.0240 - val_mape: 2.3624 - val_mse: 0.0011\n",
      "Epoch 19/50\n",
      "\u001b[1m90/90\u001b[0m \u001b[32m━━━━━━━━━━━━━━━━━━━━\u001b[0m\u001b[37m\u001b[0m \u001b[1m0s\u001b[0m 2ms/step - loss: 2.1788e-04 - mae: 0.0107 - mape: 228.2353 - mse: 2.1788e-04 - val_loss: 0.0011 - val_mae: 0.0240 - val_mape: 2.3533 - val_mse: 0.0011\n",
      "Epoch 20/50\n",
      "\u001b[1m90/90\u001b[0m \u001b[32m━━━━━━━━━━━━━━━━━━━━\u001b[0m\u001b[37m\u001b[0m \u001b[1m0s\u001b[0m 2ms/step - loss: 2.3795e-04 - mae: 0.0111 - mape: 6349.0234 - mse: 2.3795e-04 - val_loss: 0.0010 - val_mae: 0.0239 - val_mape: 2.3706 - val_mse: 0.0010\n",
      "Epoch 21/50\n",
      "\u001b[1m90/90\u001b[0m \u001b[32m━━━━━━━━━━━━━━━━━━━━\u001b[0m\u001b[37m\u001b[0m \u001b[1m0s\u001b[0m 2ms/step - loss: 2.5035e-04 - mae: 0.0114 - mape: 692.6374 - mse: 2.5035e-04 - val_loss: 0.0011 - val_mae: 0.0243 - val_mape: 2.3894 - val_mse: 0.0011\n",
      "Epoch 22/50\n",
      "\u001b[1m90/90\u001b[0m \u001b[32m━━━━━━━━━━━━━━━━━━━━\u001b[0m\u001b[37m\u001b[0m \u001b[1m0s\u001b[0m 2ms/step - loss: 2.4251e-04 - mae: 0.0111 - mape: 2174.6768 - mse: 2.4251e-04 - val_loss: 0.0011 - val_mae: 0.0247 - val_mape: 2.3965 - val_mse: 0.0011\n",
      "Epoch 23/50\n",
      "\u001b[1m90/90\u001b[0m \u001b[32m━━━━━━━━━━━━━━━━━━━━\u001b[0m\u001b[37m\u001b[0m \u001b[1m0s\u001b[0m 2ms/step - loss: 2.2098e-04 - mae: 0.0111 - mape: 6650.9453 - mse: 2.2098e-04 - val_loss: 0.0011 - val_mae: 0.0249 - val_mape: 2.4185 - val_mse: 0.0011\n",
      "Epoch 24/50\n",
      "\u001b[1m90/90\u001b[0m \u001b[32m━━━━━━━━━━━━━━━━━━━━\u001b[0m\u001b[37m\u001b[0m \u001b[1m0s\u001b[0m 2ms/step - loss: 2.1273e-04 - mae: 0.0107 - mape: 12794.7314 - mse: 2.1273e-04 - val_loss: 0.0013 - val_mae: 0.0262 - val_mape: 2.4967 - val_mse: 0.0013\n",
      "Epoch 25/50\n",
      "\u001b[1m90/90\u001b[0m \u001b[32m━━━━━━━━━━━━━━━━━━━━\u001b[0m\u001b[37m\u001b[0m \u001b[1m0s\u001b[0m 2ms/step - loss: 2.2857e-04 - mae: 0.0109 - mape: 4722.8638 - mse: 2.2857e-04 - val_loss: 0.0012 - val_mae: 0.0256 - val_mape: 2.4621 - val_mse: 0.0012\n",
      "Epoch 26/50\n",
      "\u001b[1m90/90\u001b[0m \u001b[32m━━━━━━━━━━━━━━━━━━━━\u001b[0m\u001b[37m\u001b[0m \u001b[1m0s\u001b[0m 3ms/step - loss: 2.4506e-04 - mae: 0.0112 - mape: 2049.8145 - mse: 2.4506e-04 - val_loss: 0.0011 - val_mae: 0.0245 - val_mape: 2.4054 - val_mse: 0.0011\n",
      "Epoch 27/50\n",
      "\u001b[1m90/90\u001b[0m \u001b[32m━━━━━━━━━━━━━━━━━━━━\u001b[0m\u001b[37m\u001b[0m \u001b[1m0s\u001b[0m 2ms/step - loss: 2.1837e-04 - mae: 0.0109 - mape: 121.2564 - mse: 2.1837e-04 - val_loss: 0.0012 - val_mae: 0.0259 - val_mape: 2.4744 - val_mse: 0.0012\n",
      "Epoch 28/50\n",
      "\u001b[1m90/90\u001b[0m \u001b[32m━━━━━━━━━━━━━━━━━━━━\u001b[0m\u001b[37m\u001b[0m \u001b[1m0s\u001b[0m 2ms/step - loss: 2.1860e-04 - mae: 0.0109 - mape: 8541.1436 - mse: 2.1860e-04 - val_loss: 0.0011 - val_mae: 0.0248 - val_mape: 2.3982 - val_mse: 0.0011\n",
      "Epoch 29/50\n",
      "\u001b[1m90/90\u001b[0m \u001b[32m━━━━━━━━━━━━━━━━━━━━\u001b[0m\u001b[37m\u001b[0m \u001b[1m0s\u001b[0m 2ms/step - loss: 2.5947e-04 - mae: 0.0110 - mape: 23553.7539 - mse: 2.5947e-04 - val_loss: 0.0011 - val_mae: 0.0246 - val_mape: 2.3927 - val_mse: 0.0011\n",
      "Epoch 30/50\n",
      "\u001b[1m90/90\u001b[0m \u001b[32m━━━━━━━━━━━━━━━━━━━━\u001b[0m\u001b[37m\u001b[0m \u001b[1m0s\u001b[0m 2ms/step - loss: 2.3590e-04 - mae: 0.0110 - mape: 7264.9658 - mse: 2.3590e-04 - val_loss: 0.0016 - val_mae: 0.0305 - val_mape: 2.8420 - val_mse: 0.0016\n"
     ]
    },
    {
     "name": "stderr",
     "output_type": "stream",
     "text": [
      "WARNING:absl:You are saving your model as an HDF5 file via `model.save()` or `keras.saving.save_model(model)`. This file format is considered legacy. We recommend using instead the native Keras format, e.g. `model.save('my_model.keras')` or `keras.saving.save_model(model, 'my_model.keras')`. \n"
     ]
    },
    {
     "name": "stdout",
     "output_type": "stream",
     "text": [
      "\u001b[1m23/23\u001b[0m \u001b[32m━━━━━━━━━━━━━━━━━━━━\u001b[0m\u001b[37m\u001b[0m \u001b[1m0s\u001b[0m 2ms/step \n",
      "model_3: Processando BBDC4 | Combinação 1...\n",
      "Epoch 1/50\n",
      "\u001b[1m88/88\u001b[0m \u001b[32m━━━━━━━━━━━━━━━━━━━━\u001b[0m\u001b[37m\u001b[0m \u001b[1m1s\u001b[0m 3ms/step - loss: 0.1423 - mae: 0.2924 - mape: 16923.3652 - mse: 0.1423 - val_loss: 0.0185 - val_mae: 0.1187 - val_mape: 19.9172 - val_mse: 0.0185\n",
      "Epoch 2/50\n",
      "\u001b[1m88/88\u001b[0m \u001b[32m━━━━━━━━━━━━━━━━━━━━\u001b[0m\u001b[37m\u001b[0m \u001b[1m0s\u001b[0m 2ms/step - loss: 0.0084 - mae: 0.0774 - mape: 19401.6641 - mse: 0.0084 - val_loss: 0.0016 - val_mae: 0.0317 - val_mape: 5.5144 - val_mse: 0.0016\n",
      "Epoch 3/50\n",
      "\u001b[1m88/88\u001b[0m \u001b[32m━━━━━━━━━━━━━━━━━━━━\u001b[0m\u001b[37m\u001b[0m \u001b[1m0s\u001b[0m 2ms/step - loss: 0.0011 - mae: 0.0255 - mape: 17405.6055 - mse: 0.0011 - val_loss: 5.9459e-04 - val_mae: 0.0176 - val_mape: 3.4433 - val_mse: 5.9459e-04\n",
      "Epoch 4/50\n",
      "\u001b[1m88/88\u001b[0m \u001b[32m━━━━━━━━━━━━━━━━━━━━\u001b[0m\u001b[37m\u001b[0m \u001b[1m0s\u001b[0m 2ms/step - loss: 3.4473e-04 - mae: 0.0128 - mape: 7635.7192 - mse: 3.4473e-04 - val_loss: 5.9130e-04 - val_mae: 0.0175 - val_mape: 3.4356 - val_mse: 5.9130e-04\n",
      "Epoch 5/50\n",
      "\u001b[1m88/88\u001b[0m \u001b[32m━━━━━━━━━━━━━━━━━━━━\u001b[0m\u001b[37m\u001b[0m \u001b[1m0s\u001b[0m 2ms/step - loss: 3.5582e-04 - mae: 0.0130 - mape: 40848.5586 - mse: 3.5582e-04 - val_loss: 5.8998e-04 - val_mae: 0.0175 - val_mape: 3.4479 - val_mse: 5.8998e-04\n",
      "Epoch 6/50\n",
      "\u001b[1m88/88\u001b[0m \u001b[32m━━━━━━━━━━━━━━━━━━━━\u001b[0m\u001b[37m\u001b[0m \u001b[1m0s\u001b[0m 2ms/step - loss: 4.4085e-04 - mae: 0.0131 - mape: 60149.4102 - mse: 4.4085e-04 - val_loss: 5.9086e-04 - val_mae: 0.0175 - val_mape: 3.4368 - val_mse: 5.9086e-04\n",
      "Epoch 7/50\n",
      "\u001b[1m88/88\u001b[0m \u001b[32m━━━━━━━━━━━━━━━━━━━━\u001b[0m\u001b[37m\u001b[0m \u001b[1m0s\u001b[0m 3ms/step - loss: 3.4143e-04 - mae: 0.0126 - mape: 16505.6016 - mse: 3.4143e-04 - val_loss: 5.8176e-04 - val_mae: 0.0173 - val_mape: 3.4068 - val_mse: 5.8176e-04\n",
      "Epoch 8/50\n",
      "\u001b[1m88/88\u001b[0m \u001b[32m━━━━━━━━━━━━━━━━━━━━\u001b[0m\u001b[37m\u001b[0m \u001b[1m0s\u001b[0m 2ms/step - loss: 3.6382e-04 - mae: 0.0132 - mape: 74675.0703 - mse: 3.6382e-04 - val_loss: 5.8731e-04 - val_mae: 0.0175 - val_mape: 3.4257 - val_mse: 5.8731e-04\n",
      "Epoch 9/50\n",
      "\u001b[1m88/88\u001b[0m \u001b[32m━━━━━━━━━━━━━━━━━━━━\u001b[0m\u001b[37m\u001b[0m \u001b[1m0s\u001b[0m 2ms/step - loss: 4.0295e-04 - mae: 0.0130 - mape: 10852.1064 - mse: 4.0295e-04 - val_loss: 6.1477e-04 - val_mae: 0.0181 - val_mape: 3.5541 - val_mse: 6.1477e-04\n",
      "Epoch 10/50\n",
      "\u001b[1m88/88\u001b[0m \u001b[32m━━━━━━━━━━━━━━━━━━━━\u001b[0m\u001b[37m\u001b[0m \u001b[1m0s\u001b[0m 2ms/step - loss: 3.6405e-04 - mae: 0.0131 - mape: 42564.2539 - mse: 3.6405e-04 - val_loss: 5.7598e-04 - val_mae: 0.0172 - val_mape: 3.3919 - val_mse: 5.7598e-04\n",
      "Epoch 11/50\n",
      "\u001b[1m88/88\u001b[0m \u001b[32m━━━━━━━━━━━━━━━━━━━━\u001b[0m\u001b[37m\u001b[0m \u001b[1m0s\u001b[0m 2ms/step - loss: 4.5099e-04 - mae: 0.0131 - mape: 2355.5415 - mse: 4.5099e-04 - val_loss: 5.7850e-04 - val_mae: 0.0173 - val_mape: 3.3941 - val_mse: 5.7850e-04\n",
      "Epoch 12/50\n",
      "\u001b[1m88/88\u001b[0m \u001b[32m━━━━━━━━━━━━━━━━━━━━\u001b[0m\u001b[37m\u001b[0m \u001b[1m0s\u001b[0m 2ms/step - loss: 3.9387e-04 - mae: 0.0131 - mape: 5568.3545 - mse: 3.9387e-04 - val_loss: 5.8012e-04 - val_mae: 0.0174 - val_mape: 3.4020 - val_mse: 5.8012e-04\n",
      "Epoch 13/50\n",
      "\u001b[1m88/88\u001b[0m \u001b[32m━━━━━━━━━━━━━━━━━━━━\u001b[0m\u001b[37m\u001b[0m \u001b[1m0s\u001b[0m 2ms/step - loss: 3.6839e-04 - mae: 0.0127 - mape: 27838.7031 - mse: 3.6839e-04 - val_loss: 5.7309e-04 - val_mae: 0.0172 - val_mape: 3.3759 - val_mse: 5.7309e-04\n",
      "Epoch 14/50\n",
      "\u001b[1m88/88\u001b[0m \u001b[32m━━━━━━━━━━━━━━━━━━━━\u001b[0m\u001b[37m\u001b[0m \u001b[1m0s\u001b[0m 2ms/step - loss: 3.8727e-04 - mae: 0.0127 - mape: 16700.8027 - mse: 3.8727e-04 - val_loss: 5.9648e-04 - val_mae: 0.0177 - val_mape: 3.4930 - val_mse: 5.9648e-04\n",
      "Epoch 15/50\n",
      "\u001b[1m88/88\u001b[0m \u001b[32m━━━━━━━━━━━━━━━━━━━━\u001b[0m\u001b[37m\u001b[0m \u001b[1m0s\u001b[0m 2ms/step - loss: 3.4760e-04 - mae: 0.0130 - mape: 3882.7009 - mse: 3.4760e-04 - val_loss: 5.7682e-04 - val_mae: 0.0173 - val_mape: 3.3923 - val_mse: 5.7682e-04\n",
      "Epoch 16/50\n",
      "\u001b[1m88/88\u001b[0m \u001b[32m━━━━━━━━━━━━━━━━━━━━\u001b[0m\u001b[37m\u001b[0m \u001b[1m0s\u001b[0m 2ms/step - loss: 3.9412e-04 - mae: 0.0128 - mape: 3145.9453 - mse: 3.9412e-04 - val_loss: 5.7166e-04 - val_mae: 0.0172 - val_mape: 3.3834 - val_mse: 5.7166e-04\n",
      "Epoch 17/50\n",
      "\u001b[1m88/88\u001b[0m \u001b[32m━━━━━━━━━━━━━━━━━━━━\u001b[0m\u001b[37m\u001b[0m \u001b[1m0s\u001b[0m 2ms/step - loss: 3.6475e-04 - mae: 0.0127 - mape: 784.7684 - mse: 3.6475e-04 - val_loss: 5.7408e-04 - val_mae: 0.0172 - val_mape: 3.3986 - val_mse: 5.7408e-04\n",
      "Epoch 18/50\n",
      "\u001b[1m88/88\u001b[0m \u001b[32m━━━━━━━━━━━━━━━━━━━━\u001b[0m\u001b[37m\u001b[0m \u001b[1m0s\u001b[0m 2ms/step - loss: 4.0311e-04 - mae: 0.0128 - mape: 10964.2129 - mse: 4.0311e-04 - val_loss: 5.6982e-04 - val_mae: 0.0172 - val_mape: 3.3682 - val_mse: 5.6982e-04\n",
      "Epoch 19/50\n",
      "\u001b[1m88/88\u001b[0m \u001b[32m━━━━━━━━━━━━━━━━━━━━\u001b[0m\u001b[37m\u001b[0m \u001b[1m0s\u001b[0m 2ms/step - loss: 4.3543e-04 - mae: 0.0129 - mape: 35698.2812 - mse: 4.3543e-04 - val_loss: 5.6358e-04 - val_mae: 0.0170 - val_mape: 3.3465 - val_mse: 5.6358e-04\n",
      "Epoch 20/50\n",
      "\u001b[1m88/88\u001b[0m \u001b[32m━━━━━━━━━━━━━━━━━━━━\u001b[0m\u001b[37m\u001b[0m \u001b[1m0s\u001b[0m 2ms/step - loss: 3.4158e-04 - mae: 0.0126 - mape: 2371.6262 - mse: 3.4158e-04 - val_loss: 5.6109e-04 - val_mae: 0.0170 - val_mape: 3.3387 - val_mse: 5.6109e-04\n",
      "Epoch 21/50\n",
      "\u001b[1m88/88\u001b[0m \u001b[32m━━━━━━━━━━━━━━━━━━━━\u001b[0m\u001b[37m\u001b[0m \u001b[1m0s\u001b[0m 2ms/step - loss: 4.5916e-04 - mae: 0.0130 - mape: 1928.0377 - mse: 4.5916e-04 - val_loss: 5.6192e-04 - val_mae: 0.0170 - val_mape: 3.3402 - val_mse: 5.6192e-04\n",
      "Epoch 22/50\n",
      "\u001b[1m88/88\u001b[0m \u001b[32m━━━━━━━━━━━━━━━━━━━━\u001b[0m\u001b[37m\u001b[0m \u001b[1m0s\u001b[0m 2ms/step - loss: 4.8604e-04 - mae: 0.0129 - mape: 1121.3273 - mse: 4.8604e-04 - val_loss: 5.6632e-04 - val_mae: 0.0171 - val_mape: 3.3741 - val_mse: 5.6632e-04\n",
      "Epoch 23/50\n",
      "\u001b[1m88/88\u001b[0m \u001b[32m━━━━━━━━━━━━━━━━━━━━\u001b[0m\u001b[37m\u001b[0m \u001b[1m0s\u001b[0m 3ms/step - loss: 3.1485e-04 - mae: 0.0123 - mape: 14719.3965 - mse: 3.1485e-04 - val_loss: 5.8269e-04 - val_mae: 0.0175 - val_mape: 3.4277 - val_mse: 5.8269e-04\n",
      "Epoch 24/50\n",
      "\u001b[1m88/88\u001b[0m \u001b[32m━━━━━━━━━━━━━━━━━━━━\u001b[0m\u001b[37m\u001b[0m \u001b[1m0s\u001b[0m 2ms/step - loss: 3.8629e-04 - mae: 0.0128 - mape: 23932.8984 - mse: 3.8629e-04 - val_loss: 5.8781e-04 - val_mae: 0.0176 - val_mape: 3.4696 - val_mse: 5.8781e-04\n",
      "Epoch 25/50\n",
      "\u001b[1m88/88\u001b[0m \u001b[32m━━━━━━━━━━━━━━━━━━━━\u001b[0m\u001b[37m\u001b[0m \u001b[1m0s\u001b[0m 2ms/step - loss: 3.3756e-04 - mae: 0.0123 - mape: 23463.4531 - mse: 3.3756e-04 - val_loss: 5.7751e-04 - val_mae: 0.0174 - val_mape: 3.4031 - val_mse: 5.7751e-04\n",
      "Epoch 26/50\n",
      "\u001b[1m88/88\u001b[0m \u001b[32m━━━━━━━━━━━━━━━━━━━━\u001b[0m\u001b[37m\u001b[0m \u001b[1m0s\u001b[0m 2ms/step - loss: 3.5737e-04 - mae: 0.0126 - mape: 14074.6338 - mse: 3.5737e-04 - val_loss: 5.7071e-04 - val_mae: 0.0172 - val_mape: 3.4028 - val_mse: 5.7071e-04\n",
      "Epoch 27/50\n",
      "\u001b[1m88/88\u001b[0m \u001b[32m━━━━━━━━━━━━━━━━━━━━\u001b[0m\u001b[37m\u001b[0m \u001b[1m0s\u001b[0m 2ms/step - loss: 3.1719e-04 - mae: 0.0124 - mape: 1773.4305 - mse: 3.1719e-04 - val_loss: 5.5567e-04 - val_mae: 0.0169 - val_mape: 3.3230 - val_mse: 5.5567e-04\n",
      "Epoch 28/50\n",
      "\u001b[1m88/88\u001b[0m \u001b[32m━━━━━━━━━━━━━━━━━━━━\u001b[0m\u001b[37m\u001b[0m \u001b[1m0s\u001b[0m 2ms/step - loss: 3.3829e-04 - mae: 0.0124 - mape: 8705.8994 - mse: 3.3829e-04 - val_loss: 5.5562e-04 - val_mae: 0.0169 - val_mape: 3.3374 - val_mse: 5.5562e-04\n",
      "Epoch 29/50\n",
      "\u001b[1m88/88\u001b[0m \u001b[32m━━━━━━━━━━━━━━━━━━━━\u001b[0m\u001b[37m\u001b[0m \u001b[1m0s\u001b[0m 2ms/step - loss: 3.9261e-04 - mae: 0.0122 - mape: 4961.8887 - mse: 3.9261e-04 - val_loss: 5.7010e-04 - val_mae: 0.0173 - val_mape: 3.3824 - val_mse: 5.7010e-04\n",
      "Epoch 30/50\n",
      "\u001b[1m88/88\u001b[0m \u001b[32m━━━━━━━━━━━━━━━━━━━━\u001b[0m\u001b[37m\u001b[0m \u001b[1m0s\u001b[0m 2ms/step - loss: 3.6455e-04 - mae: 0.0129 - mape: 10368.2783 - mse: 3.6455e-04 - val_loss: 5.5456e-04 - val_mae: 0.0169 - val_mape: 3.3207 - val_mse: 5.5456e-04\n",
      "Epoch 31/50\n",
      "\u001b[1m88/88\u001b[0m \u001b[32m━━━━━━━━━━━━━━━━━━━━\u001b[0m\u001b[37m\u001b[0m \u001b[1m0s\u001b[0m 2ms/step - loss: 3.6446e-04 - mae: 0.0124 - mape: 5076.5840 - mse: 3.6446e-04 - val_loss: 5.9596e-04 - val_mae: 0.0179 - val_mape: 3.4877 - val_mse: 5.9596e-04\n",
      "Epoch 32/50\n",
      "\u001b[1m88/88\u001b[0m \u001b[32m━━━━━━━━━━━━━━━━━━━━\u001b[0m\u001b[37m\u001b[0m \u001b[1m0s\u001b[0m 2ms/step - loss: 3.3454e-04 - mae: 0.0126 - mape: 24450.9219 - mse: 3.3454e-04 - val_loss: 5.8035e-04 - val_mae: 0.0175 - val_mape: 3.4542 - val_mse: 5.8035e-04\n",
      "Epoch 33/50\n",
      "\u001b[1m88/88\u001b[0m \u001b[32m━━━━━━━━━━━━━━━━━━━━\u001b[0m\u001b[37m\u001b[0m \u001b[1m0s\u001b[0m 2ms/step - loss: 3.7584e-04 - mae: 0.0128 - mape: 2496.7896 - mse: 3.7584e-04 - val_loss: 5.5756e-04 - val_mae: 0.0170 - val_mape: 3.3354 - val_mse: 5.5756e-04\n",
      "Epoch 34/50\n",
      "\u001b[1m88/88\u001b[0m \u001b[32m━━━━━━━━━━━━━━━━━━━━\u001b[0m\u001b[37m\u001b[0m \u001b[1m0s\u001b[0m 2ms/step - loss: 3.4241e-04 - mae: 0.0124 - mape: 1593.4432 - mse: 3.4241e-04 - val_loss: 5.4655e-04 - val_mae: 0.0168 - val_mape: 3.3012 - val_mse: 5.4655e-04\n",
      "Epoch 35/50\n",
      "\u001b[1m88/88\u001b[0m \u001b[32m━━━━━━━━━━━━━━━━━━━━\u001b[0m\u001b[37m\u001b[0m \u001b[1m0s\u001b[0m 2ms/step - loss: 3.6611e-04 - mae: 0.0126 - mape: 25929.8262 - mse: 3.6611e-04 - val_loss: 5.7358e-04 - val_mae: 0.0174 - val_mape: 3.3997 - val_mse: 5.7358e-04\n",
      "Epoch 36/50\n",
      "\u001b[1m88/88\u001b[0m \u001b[32m━━━━━━━━━━━━━━━━━━━━\u001b[0m\u001b[37m\u001b[0m \u001b[1m0s\u001b[0m 2ms/step - loss: 3.0628e-04 - mae: 0.0122 - mape: 2236.5730 - mse: 3.0628e-04 - val_loss: 5.4280e-04 - val_mae: 0.0167 - val_mape: 3.2911 - val_mse: 5.4280e-04\n",
      "Epoch 37/50\n",
      "\u001b[1m88/88\u001b[0m \u001b[32m━━━━━━━━━━━━━━━━━━━━\u001b[0m\u001b[37m\u001b[0m \u001b[1m0s\u001b[0m 3ms/step - loss: 4.5207e-04 - mae: 0.0125 - mape: 33907.7422 - mse: 4.5207e-04 - val_loss: 5.4192e-04 - val_mae: 0.0167 - val_mape: 3.2869 - val_mse: 5.4192e-04\n",
      "Epoch 38/50\n",
      "\u001b[1m88/88\u001b[0m \u001b[32m━━━━━━━━━━━━━━━━━━━━\u001b[0m\u001b[37m\u001b[0m \u001b[1m0s\u001b[0m 2ms/step - loss: 3.2023e-04 - mae: 0.0122 - mape: 12667.3203 - mse: 3.2023e-04 - val_loss: 5.5564e-04 - val_mae: 0.0170 - val_mape: 3.3506 - val_mse: 5.5564e-04\n",
      "Epoch 39/50\n",
      "\u001b[1m88/88\u001b[0m \u001b[32m━━━━━━━━━━━━━━━━━━━━\u001b[0m\u001b[37m\u001b[0m \u001b[1m0s\u001b[0m 2ms/step - loss: 3.2529e-04 - mae: 0.0127 - mape: 4550.0361 - mse: 3.2529e-04 - val_loss: 5.4181e-04 - val_mae: 0.0167 - val_mape: 3.2846 - val_mse: 5.4181e-04\n",
      "Epoch 40/50\n",
      "\u001b[1m88/88\u001b[0m \u001b[32m━━━━━━━━━━━━━━━━━━━━\u001b[0m\u001b[37m\u001b[0m \u001b[1m0s\u001b[0m 2ms/step - loss: 3.0066e-04 - mae: 0.0120 - mape: 19875.0605 - mse: 3.0066e-04 - val_loss: 5.3796e-04 - val_mae: 0.0166 - val_mape: 3.2773 - val_mse: 5.3796e-04\n",
      "Epoch 41/50\n",
      "\u001b[1m88/88\u001b[0m \u001b[32m━━━━━━━━━━━━━━━━━━━━\u001b[0m\u001b[37m\u001b[0m \u001b[1m0s\u001b[0m 2ms/step - loss: 3.4353e-04 - mae: 0.0124 - mape: 3528.5205 - mse: 3.4353e-04 - val_loss: 5.4263e-04 - val_mae: 0.0167 - val_mape: 3.2920 - val_mse: 5.4263e-04\n",
      "Epoch 42/50\n",
      "\u001b[1m88/88\u001b[0m \u001b[32m━━━━━━━━━━━━━━━━━━━━\u001b[0m\u001b[37m\u001b[0m \u001b[1m0s\u001b[0m 2ms/step - loss: 3.3156e-04 - mae: 0.0124 - mape: 12889.2021 - mse: 3.3156e-04 - val_loss: 5.4106e-04 - val_mae: 0.0167 - val_mape: 3.2851 - val_mse: 5.4106e-04\n",
      "Epoch 43/50\n",
      "\u001b[1m88/88\u001b[0m \u001b[32m━━━━━━━━━━━━━━━━━━━━\u001b[0m\u001b[37m\u001b[0m \u001b[1m0s\u001b[0m 2ms/step - loss: 3.7350e-04 - mae: 0.0122 - mape: 5586.1147 - mse: 3.7350e-04 - val_loss: 5.4317e-04 - val_mae: 0.0168 - val_mape: 3.2927 - val_mse: 5.4317e-04\n",
      "Epoch 44/50\n",
      "\u001b[1m88/88\u001b[0m \u001b[32m━━━━━━━━━━━━━━━━━━━━\u001b[0m\u001b[37m\u001b[0m \u001b[1m0s\u001b[0m 2ms/step - loss: 3.5046e-04 - mae: 0.0123 - mape: 40164.0938 - mse: 3.5046e-04 - val_loss: 5.4599e-04 - val_mae: 0.0169 - val_mape: 3.3042 - val_mse: 5.4599e-04\n",
      "Epoch 45/50\n",
      "\u001b[1m88/88\u001b[0m \u001b[32m━━━━━━━━━━━━━━━━━━━━\u001b[0m\u001b[37m\u001b[0m \u001b[1m0s\u001b[0m 2ms/step - loss: 3.1409e-04 - mae: 0.0121 - mape: 4657.5781 - mse: 3.1409e-04 - val_loss: 6.1986e-04 - val_mae: 0.0183 - val_mape: 3.5990 - val_mse: 6.1986e-04\n",
      "Epoch 46/50\n",
      "\u001b[1m88/88\u001b[0m \u001b[32m━━━━━━━━━━━━━━━━━━━━\u001b[0m\u001b[37m\u001b[0m \u001b[1m0s\u001b[0m 2ms/step - loss: 2.9909e-04 - mae: 0.0120 - mape: 4373.3906 - mse: 2.9909e-04 - val_loss: 5.3533e-04 - val_mae: 0.0166 - val_mape: 3.2652 - val_mse: 5.3533e-04\n",
      "Epoch 47/50\n",
      "\u001b[1m88/88\u001b[0m \u001b[32m━━━━━━━━━━━━━━━━━━━━\u001b[0m\u001b[37m\u001b[0m \u001b[1m0s\u001b[0m 2ms/step - loss: 3.3455e-04 - mae: 0.0122 - mape: 12916.7441 - mse: 3.3455e-04 - val_loss: 5.4348e-04 - val_mae: 0.0167 - val_mape: 3.3127 - val_mse: 5.4348e-04\n",
      "Epoch 48/50\n",
      "\u001b[1m88/88\u001b[0m \u001b[32m━━━━━━━━━━━━━━━━━━━━\u001b[0m\u001b[37m\u001b[0m \u001b[1m0s\u001b[0m 2ms/step - loss: 3.8441e-04 - mae: 0.0127 - mape: 3387.3955 - mse: 3.8441e-04 - val_loss: 5.2940e-04 - val_mae: 0.0165 - val_mape: 3.2527 - val_mse: 5.2940e-04\n",
      "Epoch 49/50\n",
      "\u001b[1m88/88\u001b[0m \u001b[32m━━━━━━━━━━━━━━━━━━━━\u001b[0m\u001b[37m\u001b[0m \u001b[1m0s\u001b[0m 3ms/step - loss: 2.7983e-04 - mae: 0.0117 - mape: 1061.1019 - mse: 2.7983e-04 - val_loss: 5.4090e-04 - val_mae: 0.0168 - val_mape: 3.2933 - val_mse: 5.4090e-04\n",
      "Epoch 50/50\n"
     ]
    },
    {
     "name": "stderr",
     "output_type": "stream",
     "text": [
      "Processando combinações:   0%|          | 0/7 [00:28<?, ?it/s]\n"
     ]
    },
    {
     "ename": "KeyboardInterrupt",
     "evalue": "",
     "output_type": "error",
     "traceback": [
      "\u001b[1;31m---------------------------------------------------------------------------\u001b[0m",
      "\u001b[1;31mKeyboardInterrupt\u001b[0m                         Traceback (most recent call last)",
      "Cell \u001b[1;32mIn[4], line 7\u001b[0m\n\u001b[0;32m      5\u001b[0m \u001b[38;5;66;03m# Usando tqdm para exibir progresso das 7 combinações\u001b[39;00m\n\u001b[0;32m      6\u001b[0m \u001b[38;5;28;01mfor\u001b[39;00m i \u001b[38;5;129;01min\u001b[39;00m tqdm(\u001b[38;5;28mrange\u001b[39m(\u001b[38;5;241m7\u001b[39m), desc\u001b[38;5;241m=\u001b[39m\u001b[38;5;124m\"\u001b[39m\u001b[38;5;124mProcessando combinações\u001b[39m\u001b[38;5;124m\"\u001b[39m):\n\u001b[1;32m----> 7\u001b[0m     results_list\u001b[38;5;241m.\u001b[39mappend(\u001b[43mprocess_stocks_and_save_metrics\u001b[49m\u001b[43m(\u001b[49m\u001b[43mall_stock_data\u001b[49m\u001b[43m,\u001b[49m\u001b[43m \u001b[49m\u001b[43mi\u001b[49m\u001b[43m \u001b[49m\u001b[38;5;241;43m+\u001b[39;49m\u001b[43m \u001b[49m\u001b[38;5;241;43m1\u001b[39;49m\u001b[43m,\u001b[49m\u001b[43m \u001b[49m\u001b[43mname_model\u001b[49m\u001b[43m,\u001b[49m\u001b[43m \u001b[49m\u001b[43msave_artifacts\u001b[49m\u001b[38;5;241;43m=\u001b[39;49m\u001b[38;5;28;43;01mTrue\u001b[39;49;00m\u001b[43m)\u001b[49m)\n\u001b[0;32m      9\u001b[0m \u001b[38;5;66;03m# Combina os resultados em um único DataFrame\u001b[39;00m\n\u001b[0;32m     10\u001b[0m results_model_3 \u001b[38;5;241m=\u001b[39m pd\u001b[38;5;241m.\u001b[39mconcat(results_list, ignore_index\u001b[38;5;241m=\u001b[39m\u001b[38;5;28;01mTrue\u001b[39;00m)\n",
      "File \u001b[1;32mc:\\Users\\marco\\Documents\\IEEE_ID9184\\utils.py:395\u001b[0m, in \u001b[0;36mprocess_stocks_and_save_metrics\u001b[1;34m(all_stock_data, num_combination, name_model, save_artifacts)\u001b[0m\n\u001b[0;32m    392\u001b[0m df, target_column \u001b[38;5;241m=\u001b[39m define_target(df)\n\u001b[0;32m    394\u001b[0m \u001b[38;5;66;03m# Treinar modelo e coletar métricas\u001b[39;00m\n\u001b[1;32m--> 395\u001b[0m metrics \u001b[38;5;241m=\u001b[39m \u001b[43mname_model\u001b[49m\u001b[43m(\u001b[49m\u001b[43mstock\u001b[49m\u001b[43m,\u001b[49m\u001b[43m \u001b[49m\u001b[43mdf\u001b[49m\u001b[43m,\u001b[49m\u001b[43m \u001b[49m\u001b[43mtarget_column\u001b[49m\u001b[43m,\u001b[49m\u001b[43m \u001b[49m\u001b[43mnum_combination\u001b[49m\u001b[43m,\u001b[49m\u001b[43m \u001b[49m\u001b[43msave_artifacts\u001b[49m\u001b[43m)\u001b[49m\n\u001b[0;32m    397\u001b[0m \u001b[38;5;66;03m# Salvar resultados\u001b[39;00m\n\u001b[0;32m    398\u001b[0m results\u001b[38;5;241m.\u001b[39mappend({\n\u001b[0;32m    399\u001b[0m     \u001b[38;5;124m\"\u001b[39m\u001b[38;5;124mStock\u001b[39m\u001b[38;5;124m\"\u001b[39m: stock,\n\u001b[0;32m    400\u001b[0m     \u001b[38;5;124m\"\u001b[39m\u001b[38;5;124mDescription\u001b[39m\u001b[38;5;124m\"\u001b[39m: description_combination,\n\u001b[0;32m    401\u001b[0m     \u001b[38;5;124m\"\u001b[39m\u001b[38;5;124mModel\u001b[39m\u001b[38;5;124m\"\u001b[39m: name_model\u001b[38;5;241m.\u001b[39m\u001b[38;5;18m__name__\u001b[39m,\n\u001b[0;32m    402\u001b[0m     \u001b[38;5;241m*\u001b[39m\u001b[38;5;241m*\u001b[39mmetrics\n\u001b[0;32m    403\u001b[0m })\n",
      "File \u001b[1;32mc:\\Users\\marco\\Documents\\IEEE_ID9184\\models.py:296\u001b[0m, in \u001b[0;36mmodel_3\u001b[1;34m(stock, df, target_column, num_combination, save_artifacts, learning_rate, epochs, batch_size)\u001b[0m\n\u001b[0;32m    293\u001b[0m early_stopping \u001b[38;5;241m=\u001b[39m EarlyStopping(monitor\u001b[38;5;241m=\u001b[39m\u001b[38;5;124m'\u001b[39m\u001b[38;5;124mval_loss\u001b[39m\u001b[38;5;124m'\u001b[39m, patience\u001b[38;5;241m=\u001b[39m\u001b[38;5;241m10\u001b[39m, restore_best_weights\u001b[38;5;241m=\u001b[39m\u001b[38;5;28;01mTrue\u001b[39;00m)\n\u001b[0;32m    295\u001b[0m \u001b[38;5;66;03m# Treinamento do modelo\u001b[39;00m\n\u001b[1;32m--> 296\u001b[0m history \u001b[38;5;241m=\u001b[39m \u001b[43mmodel\u001b[49m\u001b[38;5;241;43m.\u001b[39;49m\u001b[43mfit\u001b[49m\u001b[43m(\u001b[49m\n\u001b[0;32m    297\u001b[0m \u001b[43m    \u001b[49m\u001b[43mX_train_scaled\u001b[49m\u001b[43m,\u001b[49m\u001b[43m \u001b[49m\u001b[43my_train_scaled\u001b[49m\u001b[43m,\u001b[49m\n\u001b[0;32m    298\u001b[0m \u001b[43m    \u001b[49m\u001b[43mepochs\u001b[49m\u001b[38;5;241;43m=\u001b[39;49m\u001b[43mepochs\u001b[49m\u001b[43m,\u001b[49m\n\u001b[0;32m    299\u001b[0m \u001b[43m    \u001b[49m\u001b[43mbatch_size\u001b[49m\u001b[38;5;241;43m=\u001b[39;49m\u001b[43mbatch_size\u001b[49m\u001b[43m,\u001b[49m\n\u001b[0;32m    300\u001b[0m \u001b[43m    \u001b[49m\u001b[43mvalidation_data\u001b[49m\u001b[38;5;241;43m=\u001b[39;49m\u001b[43m(\u001b[49m\u001b[43mX_test_scaled\u001b[49m\u001b[43m,\u001b[49m\u001b[43m \u001b[49m\u001b[43my_test_scaled\u001b[49m\u001b[43m)\u001b[49m\u001b[43m,\u001b[49m\n\u001b[0;32m    301\u001b[0m \u001b[43m    \u001b[49m\u001b[43mcallbacks\u001b[49m\u001b[38;5;241;43m=\u001b[39;49m\u001b[43m[\u001b[49m\u001b[43mearly_stopping\u001b[49m\u001b[43m]\u001b[49m\u001b[43m,\u001b[49m\n\u001b[0;32m    302\u001b[0m \u001b[43m    \u001b[49m\u001b[43mverbose\u001b[49m\u001b[38;5;241;43m=\u001b[39;49m\u001b[38;5;241;43m1\u001b[39;49m\n\u001b[0;32m    303\u001b[0m \u001b[43m\u001b[49m\u001b[43m)\u001b[49m\n\u001b[0;32m    305\u001b[0m \u001b[38;5;28;01mif\u001b[39;00m save_artifacts:\n\u001b[0;32m    306\u001b[0m     \u001b[38;5;66;03m# Salvando os scalers\u001b[39;00m\n\u001b[0;32m    307\u001b[0m     joblib\u001b[38;5;241m.\u001b[39mdump(scaler_X, os\u001b[38;5;241m.\u001b[39mpath\u001b[38;5;241m.\u001b[39mjoin(stock_dir, \u001b[38;5;124mf\u001b[39m\u001b[38;5;124m\"\u001b[39m\u001b[38;5;124mmodel_3_comb_\u001b[39m\u001b[38;5;132;01m{\u001b[39;00mnum_combination\u001b[38;5;132;01m}\u001b[39;00m\u001b[38;5;124m_scaler_X.pkl\u001b[39m\u001b[38;5;124m\"\u001b[39m))\n",
      "File \u001b[1;32mc:\\Users\\marco\\anaconda3\\envs\\ieee\\lib\\site-packages\\keras\\src\\utils\\traceback_utils.py:117\u001b[0m, in \u001b[0;36mfilter_traceback.<locals>.error_handler\u001b[1;34m(*args, **kwargs)\u001b[0m\n\u001b[0;32m    115\u001b[0m filtered_tb \u001b[38;5;241m=\u001b[39m \u001b[38;5;28;01mNone\u001b[39;00m\n\u001b[0;32m    116\u001b[0m \u001b[38;5;28;01mtry\u001b[39;00m:\n\u001b[1;32m--> 117\u001b[0m     \u001b[38;5;28;01mreturn\u001b[39;00m fn(\u001b[38;5;241m*\u001b[39margs, \u001b[38;5;241m*\u001b[39m\u001b[38;5;241m*\u001b[39mkwargs)\n\u001b[0;32m    118\u001b[0m \u001b[38;5;28;01mexcept\u001b[39;00m \u001b[38;5;167;01mException\u001b[39;00m \u001b[38;5;28;01mas\u001b[39;00m e:\n\u001b[0;32m    119\u001b[0m     filtered_tb \u001b[38;5;241m=\u001b[39m _process_traceback_frames(e\u001b[38;5;241m.\u001b[39m__traceback__)\n",
      "File \u001b[1;32mc:\\Users\\marco\\anaconda3\\envs\\ieee\\lib\\site-packages\\keras\\src\\backend\\tensorflow\\trainer.py:369\u001b[0m, in \u001b[0;36mTensorFlowTrainer.fit\u001b[1;34m(self, x, y, batch_size, epochs, verbose, callbacks, validation_split, validation_data, shuffle, class_weight, sample_weight, initial_epoch, steps_per_epoch, validation_steps, validation_batch_size, validation_freq)\u001b[0m\n\u001b[0;32m    367\u001b[0m callbacks\u001b[38;5;241m.\u001b[39mon_epoch_begin(epoch)\n\u001b[0;32m    368\u001b[0m \u001b[38;5;28;01mwith\u001b[39;00m epoch_iterator\u001b[38;5;241m.\u001b[39mcatch_stop_iteration():\n\u001b[1;32m--> 369\u001b[0m     \u001b[38;5;28;01mfor\u001b[39;00m step, iterator \u001b[38;5;129;01min\u001b[39;00m epoch_iterator:\n\u001b[0;32m    370\u001b[0m         callbacks\u001b[38;5;241m.\u001b[39mon_train_batch_begin(step)\n\u001b[0;32m    371\u001b[0m         logs \u001b[38;5;241m=\u001b[39m \u001b[38;5;28mself\u001b[39m\u001b[38;5;241m.\u001b[39mtrain_function(iterator)\n",
      "File \u001b[1;32mc:\\Users\\marco\\anaconda3\\envs\\ieee\\lib\\site-packages\\keras\\src\\backend\\tensorflow\\trainer.py:734\u001b[0m, in \u001b[0;36mTFEpochIterator.__next__\u001b[1;34m(self)\u001b[0m\n\u001b[0;32m    733\u001b[0m \u001b[38;5;28;01mdef\u001b[39;00m\u001b[38;5;250m \u001b[39m\u001b[38;5;21m__next__\u001b[39m(\u001b[38;5;28mself\u001b[39m):\n\u001b[1;32m--> 734\u001b[0m     \u001b[38;5;28;01mreturn\u001b[39;00m \u001b[38;5;28;43mnext\u001b[39;49m\u001b[43m(\u001b[49m\u001b[38;5;28;43mself\u001b[39;49m\u001b[38;5;241;43m.\u001b[39;49m\u001b[43m_epoch_iterator\u001b[49m\u001b[43m)\u001b[49m\n",
      "File \u001b[1;32mc:\\Users\\marco\\anaconda3\\envs\\ieee\\lib\\site-packages\\keras\\src\\trainers\\epoch_iterator.py:102\u001b[0m, in \u001b[0;36mEpochIterator._enumerate_iterator\u001b[1;34m(self)\u001b[0m\n\u001b[0;32m    100\u001b[0m \u001b[38;5;28;01mif\u001b[39;00m steps_per_epoch \u001b[38;5;241m>\u001b[39m \u001b[38;5;241m0\u001b[39m:\n\u001b[0;32m    101\u001b[0m     \u001b[38;5;28;01mif\u001b[39;00m \u001b[38;5;28mself\u001b[39m\u001b[38;5;241m.\u001b[39m_current_iterator \u001b[38;5;129;01mis\u001b[39;00m \u001b[38;5;28;01mNone\u001b[39;00m \u001b[38;5;129;01mor\u001b[39;00m \u001b[38;5;28mself\u001b[39m\u001b[38;5;241m.\u001b[39msteps_per_epoch \u001b[38;5;129;01mis\u001b[39;00m \u001b[38;5;28;01mNone\u001b[39;00m:\n\u001b[1;32m--> 102\u001b[0m         \u001b[38;5;28mself\u001b[39m\u001b[38;5;241m.\u001b[39m_current_iterator \u001b[38;5;241m=\u001b[39m \u001b[38;5;28;43miter\u001b[39;49m\u001b[43m(\u001b[49m\u001b[38;5;28;43mself\u001b[39;49m\u001b[38;5;241;43m.\u001b[39;49m\u001b[43m_get_iterator\u001b[49m\u001b[43m(\u001b[49m\u001b[43m)\u001b[49m\u001b[43m)\u001b[49m\n\u001b[0;32m    103\u001b[0m         \u001b[38;5;28mself\u001b[39m\u001b[38;5;241m.\u001b[39m_steps_seen \u001b[38;5;241m=\u001b[39m \u001b[38;5;241m0\u001b[39m\n\u001b[0;32m    104\u001b[0m     \u001b[38;5;28;01mfor\u001b[39;00m step \u001b[38;5;129;01min\u001b[39;00m \u001b[38;5;28mrange\u001b[39m(\u001b[38;5;241m0\u001b[39m, steps_per_epoch, \u001b[38;5;28mself\u001b[39m\u001b[38;5;241m.\u001b[39msteps_per_execution):\n",
      "File \u001b[1;32mc:\\Users\\marco\\anaconda3\\envs\\ieee\\lib\\site-packages\\tensorflow\\python\\data\\ops\\dataset_ops.py:501\u001b[0m, in \u001b[0;36mDatasetV2.__iter__\u001b[1;34m(self)\u001b[0m\n\u001b[0;32m    499\u001b[0m \u001b[38;5;28;01mif\u001b[39;00m context\u001b[38;5;241m.\u001b[39mexecuting_eagerly() \u001b[38;5;129;01mor\u001b[39;00m ops\u001b[38;5;241m.\u001b[39minside_function():\n\u001b[0;32m    500\u001b[0m   \u001b[38;5;28;01mwith\u001b[39;00m ops\u001b[38;5;241m.\u001b[39mcolocate_with(\u001b[38;5;28mself\u001b[39m\u001b[38;5;241m.\u001b[39m_variant_tensor):\n\u001b[1;32m--> 501\u001b[0m     \u001b[38;5;28;01mreturn\u001b[39;00m \u001b[43miterator_ops\u001b[49m\u001b[38;5;241;43m.\u001b[39;49m\u001b[43mOwnedIterator\u001b[49m\u001b[43m(\u001b[49m\u001b[38;5;28;43mself\u001b[39;49m\u001b[43m)\u001b[49m\n\u001b[0;32m    502\u001b[0m \u001b[38;5;28;01melse\u001b[39;00m:\n\u001b[0;32m    503\u001b[0m   \u001b[38;5;28;01mraise\u001b[39;00m \u001b[38;5;167;01mRuntimeError\u001b[39;00m(\u001b[38;5;124m\"\u001b[39m\u001b[38;5;124m`tf.data.Dataset` only supports Python-style \u001b[39m\u001b[38;5;124m\"\u001b[39m\n\u001b[0;32m    504\u001b[0m                      \u001b[38;5;124m\"\u001b[39m\u001b[38;5;124miteration in eager mode or within tf.function.\u001b[39m\u001b[38;5;124m\"\u001b[39m)\n",
      "File \u001b[1;32mc:\\Users\\marco\\anaconda3\\envs\\ieee\\lib\\site-packages\\tensorflow\\python\\data\\ops\\iterator_ops.py:709\u001b[0m, in \u001b[0;36mOwnedIterator.__init__\u001b[1;34m(self, dataset, components, element_spec)\u001b[0m\n\u001b[0;32m    705\u001b[0m   \u001b[38;5;28;01mif\u001b[39;00m (components \u001b[38;5;129;01mis\u001b[39;00m \u001b[38;5;129;01mnot\u001b[39;00m \u001b[38;5;28;01mNone\u001b[39;00m \u001b[38;5;129;01mor\u001b[39;00m element_spec \u001b[38;5;129;01mis\u001b[39;00m \u001b[38;5;129;01mnot\u001b[39;00m \u001b[38;5;28;01mNone\u001b[39;00m):\n\u001b[0;32m    706\u001b[0m     \u001b[38;5;28;01mraise\u001b[39;00m \u001b[38;5;167;01mValueError\u001b[39;00m(\n\u001b[0;32m    707\u001b[0m         \u001b[38;5;124m\"\u001b[39m\u001b[38;5;124mWhen `dataset` is provided, `element_spec` and `components` must \u001b[39m\u001b[38;5;124m\"\u001b[39m\n\u001b[0;32m    708\u001b[0m         \u001b[38;5;124m\"\u001b[39m\u001b[38;5;124mnot be specified.\u001b[39m\u001b[38;5;124m\"\u001b[39m)\n\u001b[1;32m--> 709\u001b[0m   \u001b[38;5;28;43mself\u001b[39;49m\u001b[38;5;241;43m.\u001b[39;49m\u001b[43m_create_iterator\u001b[49m\u001b[43m(\u001b[49m\u001b[43mdataset\u001b[49m\u001b[43m)\u001b[49m\n\u001b[0;32m    711\u001b[0m \u001b[38;5;28mself\u001b[39m\u001b[38;5;241m.\u001b[39m_get_next_call_count \u001b[38;5;241m=\u001b[39m \u001b[38;5;241m0\u001b[39m\n",
      "File \u001b[1;32mc:\\Users\\marco\\anaconda3\\envs\\ieee\\lib\\site-packages\\tensorflow\\python\\data\\ops\\iterator_ops.py:748\u001b[0m, in \u001b[0;36mOwnedIterator._create_iterator\u001b[1;34m(self, dataset)\u001b[0m\n\u001b[0;32m    745\u001b[0m   \u001b[38;5;28;01massert\u001b[39;00m \u001b[38;5;28mlen\u001b[39m(fulltype\u001b[38;5;241m.\u001b[39margs[\u001b[38;5;241m0\u001b[39m]\u001b[38;5;241m.\u001b[39margs[\u001b[38;5;241m0\u001b[39m]\u001b[38;5;241m.\u001b[39margs) \u001b[38;5;241m==\u001b[39m \u001b[38;5;28mlen\u001b[39m(\n\u001b[0;32m    746\u001b[0m       \u001b[38;5;28mself\u001b[39m\u001b[38;5;241m.\u001b[39m_flat_output_types)\n\u001b[0;32m    747\u001b[0m   \u001b[38;5;28mself\u001b[39m\u001b[38;5;241m.\u001b[39m_iterator_resource\u001b[38;5;241m.\u001b[39mop\u001b[38;5;241m.\u001b[39mexperimental_set_type(fulltype)\n\u001b[1;32m--> 748\u001b[0m \u001b[43mgen_dataset_ops\u001b[49m\u001b[38;5;241;43m.\u001b[39;49m\u001b[43mmake_iterator\u001b[49m\u001b[43m(\u001b[49m\u001b[43mds_variant\u001b[49m\u001b[43m,\u001b[49m\u001b[43m \u001b[49m\u001b[38;5;28;43mself\u001b[39;49m\u001b[38;5;241;43m.\u001b[39;49m\u001b[43m_iterator_resource\u001b[49m\u001b[43m)\u001b[49m\n",
      "File \u001b[1;32mc:\\Users\\marco\\anaconda3\\envs\\ieee\\lib\\site-packages\\tensorflow\\python\\ops\\gen_dataset_ops.py:3509\u001b[0m, in \u001b[0;36mmake_iterator\u001b[1;34m(dataset, iterator, name)\u001b[0m\n\u001b[0;32m   3507\u001b[0m \u001b[38;5;28;01mif\u001b[39;00m tld\u001b[38;5;241m.\u001b[39mis_eager:\n\u001b[0;32m   3508\u001b[0m   \u001b[38;5;28;01mtry\u001b[39;00m:\n\u001b[1;32m-> 3509\u001b[0m     _result \u001b[38;5;241m=\u001b[39m \u001b[43mpywrap_tfe\u001b[49m\u001b[38;5;241;43m.\u001b[39;49m\u001b[43mTFE_Py_FastPathExecute\u001b[49m\u001b[43m(\u001b[49m\n\u001b[0;32m   3510\u001b[0m \u001b[43m      \u001b[49m\u001b[43m_ctx\u001b[49m\u001b[43m,\u001b[49m\u001b[43m \u001b[49m\u001b[38;5;124;43m\"\u001b[39;49m\u001b[38;5;124;43mMakeIterator\u001b[39;49m\u001b[38;5;124;43m\"\u001b[39;49m\u001b[43m,\u001b[49m\u001b[43m \u001b[49m\u001b[43mname\u001b[49m\u001b[43m,\u001b[49m\u001b[43m \u001b[49m\u001b[43mdataset\u001b[49m\u001b[43m,\u001b[49m\u001b[43m \u001b[49m\u001b[43miterator\u001b[49m\u001b[43m)\u001b[49m\n\u001b[0;32m   3511\u001b[0m     \u001b[38;5;28;01mreturn\u001b[39;00m _result\n\u001b[0;32m   3512\u001b[0m   \u001b[38;5;28;01mexcept\u001b[39;00m _core\u001b[38;5;241m.\u001b[39m_NotOkStatusException \u001b[38;5;28;01mas\u001b[39;00m e:\n",
      "\u001b[1;31mKeyboardInterrupt\u001b[0m: "
     ]
    }
   ],
   "source": [
    "# Processando o Modelo 3\n",
    "name_model = model_3\n",
    "results_list = []\n",
    "\n",
    "# Usando tqdm para exibir progresso das 7 combinações\n",
    "for i in tqdm(range(7), desc=\"Processando combinações\"):\n",
    "    results_list.append(process_stocks_and_save_metrics(all_stock_data, i + 1, name_model))\n",
    "\n",
    "# Combina os resultados em um único DataFrame\n",
    "results_model_3 = pd.concat(results_list, ignore_index=True)\n",
    "\n",
    "# Salvar em CSV\n",
    "results_model_3.to_csv(f'{OUTPUT_DIR}/Estudos_IEEE_{name_model.__name__}.csv', sep=';', encoding='utf-8-sig')"
   ]
  },
  {
   "cell_type": "code",
   "execution_count": null,
   "metadata": {},
   "outputs": [
    {
     "name": "stderr",
     "output_type": "stream",
     "text": [
      "Processando combinações:  14%|█▍        | 1/7 [00:00<00:00,  7.12it/s]"
     ]
    },
    {
     "name": "stdout",
     "output_type": "stream",
     "text": [
      "model_4: Processando PETR4 | Combinação 1...\n",
      "model_4: Processando VALE3 | Combinação 1...\n",
      "model_4: Processando BBDC4 | Combinação 1...\n",
      "model_4: Processando ITUB4 | Combinação 1...\n",
      "model_4: Processando PETR4 | Combinação 2...\n",
      "model_4: Processando VALE3 | Combinação 2...\n",
      "model_4: Processando BBDC4 | Combinação 2...\n",
      "model_4: Processando ITUB4 | Combinação 2...\n",
      "model_4: Processando PETR4 | Combinação 3...\n",
      "model_4: Processando VALE3 | Combinação 3...\n"
     ]
    },
    {
     "name": "stderr",
     "output_type": "stream",
     "text": [
      "Processando combinações:  71%|███████▏  | 5/7 [00:00<00:00, 15.70it/s]"
     ]
    },
    {
     "name": "stdout",
     "output_type": "stream",
     "text": [
      "model_4: Processando BBDC4 | Combinação 3...\n",
      "model_4: Processando ITUB4 | Combinação 3...\n",
      "model_4: Processando PETR4 | Combinação 4...\n",
      "model_4: Processando VALE3 | Combinação 4...\n",
      "model_4: Processando BBDC4 | Combinação 4...\n",
      "model_4: Processando ITUB4 | Combinação 4...\n",
      "model_4: Processando PETR4 | Combinação 5...\n",
      "model_4: Processando VALE3 | Combinação 5...\n",
      "model_4: Processando BBDC4 | Combinação 5...\n",
      "model_4: Processando ITUB4 | Combinação 5...\n",
      "model_4: Processando PETR4 | Combinação 6...\n",
      "model_4: Processando VALE3 | Combinação 6...\n",
      "model_4: Processando BBDC4 | Combinação 6...\n",
      "model_4: Processando ITUB4 | Combinação 6...\n",
      "model_4: Processando PETR4 | Combinação 7...\n",
      "model_4: Processando VALE3 | Combinação 7...\n",
      "model_4: Processando BBDC4 | Combinação 7...\n"
     ]
    },
    {
     "name": "stderr",
     "output_type": "stream",
     "text": [
      "Processando combinações: 100%|██████████| 7/7 [00:00<00:00, 15.04it/s]"
     ]
    },
    {
     "name": "stdout",
     "output_type": "stream",
     "text": [
      "model_4: Processando ITUB4 | Combinação 7...\n"
     ]
    },
    {
     "name": "stderr",
     "output_type": "stream",
     "text": [
      "\n"
     ]
    }
   ],
   "source": [
    "# Processando o Modelo 4 - \n",
    "name_model = model_4\n",
    "results_list = []\n",
    "\n",
    "# Usando tqdm para exibir progresso das 7 combinações\n",
    "for i in tqdm(range(7), desc=\"Processando combinações\"):\n",
    "    results_list.append(process_stocks_and_save_metrics(all_stock_data, i + 1, name_model))\n",
    "\n",
    "# Combina os resultados em um único DataFrame\n",
    "results_model_4 = pd.concat(results_list, ignore_index=True)\n",
    "\n",
    "# Salvar em CSV\n",
    "results_model_4.to_csv(f'{OUTPUT_DIR}/Estudos_IEEE_{name_model.__name__}.csv', sep=';', encoding='utf-8-sig')"
   ]
  },
  {
   "cell_type": "markdown",
   "metadata": {},
   "source": [
    "# 2. Carregando os Resultados Salvos"
   ]
  },
  {
   "cell_type": "code",
   "execution_count": 3,
   "metadata": {},
   "outputs": [
    {
     "name": "stdout",
     "output_type": "stream",
     "text": [
      "Carregado: output\\Estudos_IEEE_model_1.csv\n",
      "Carregado: output\\Estudos_IEEE_model_2.csv\n",
      "Carregado: output\\Estudos_IEEE_model_3.csv\n",
      "Carregado: output\\Estudos_IEEE_model_4.csv\n",
      "\n",
      "Modelos carregados com sucesso:\n",
      "- Estudos_IEEE_model_1\n",
      "- Estudos_IEEE_model_2\n",
      "- Estudos_IEEE_model_3\n",
      "- Estudos_IEEE_model_4\n"
     ]
    }
   ],
   "source": [
    "# Carregando da pasta 'results' todos os resultados\n",
    "dir = 'output'\n",
    "resultados = carregar_todos_resultados(dir) # salvar em um dicionário"
   ]
  },
  {
   "cell_type": "code",
   "execution_count": 4,
   "metadata": {},
   "outputs": [],
   "source": [
    "resultados_concatenados = pd.concat(list(resultados.values()), ignore_index=True) # concatenar todos os resultados"
   ]
  },
  {
   "cell_type": "code",
   "execution_count": null,
   "metadata": {},
   "outputs": [],
   "source": [
    "# Salvar em CSV todos os resultados\n",
    "resultados_concatenados.to_csv(f'{OUTPUT_DIR}/Estudos_IEEE_todos_Modelos.csv', sep=';', encoding='utf-8-sig')"
   ]
  },
  {
   "cell_type": "code",
   "execution_count": 5,
   "metadata": {},
   "outputs": [
    {
     "data": {
      "application/vnd.plotly.v1+json": {
       "config": {
        "plotlyServerURL": "https://plot.ly"
       },
       "data": [
        {
         "hovertemplate": "Descrição=Stock Data<br>Model=model_1<br>Stock=%{x}<br>RMSE=%{y}<extra></extra>",
         "legendgroup": "Stock Data",
         "line": {
          "color": "#636efa",
          "dash": "solid"
         },
         "marker": {
          "symbol": "circle"
         },
         "mode": "lines+markers",
         "name": "Stock Data",
         "orientation": "v",
         "showlegend": true,
         "type": "scatter",
         "x": [
          "PETR4",
          "VALE3",
          "BBDC4",
          "ITUB4"
         ],
         "xaxis": "x",
         "y": {
          "bdata": "tQRDxpcOkj/S1EdHYjmVP1DVsOvqfJc/RIE8XBJjlD8=",
          "dtype": "f8"
         },
         "yaxis": "y"
        },
        {
         "hovertemplate": "Descrição=Stock Data<br>Model=model_2<br>Stock=%{x}<br>RMSE=%{y}<extra></extra>",
         "legendgroup": "Stock Data",
         "line": {
          "color": "#636efa",
          "dash": "solid"
         },
         "marker": {
          "symbol": "circle"
         },
         "mode": "lines+markers",
         "name": "Stock Data",
         "orientation": "v",
         "showlegend": false,
         "type": "scatter",
         "x": [
          "PETR4",
          "VALE3",
          "BBDC4",
          "ITUB4"
         ],
         "xaxis": "x2",
         "y": {
          "bdata": "KIt0dkITkj8sEmkXMfWSP4PxQPYBqJY/7ERc8ulklD8=",
          "dtype": "f8"
         },
         "yaxis": "y2"
        },
        {
         "hovertemplate": "Descrição=Stock Data<br>Model=model_3<br>Stock=%{x}<br>RMSE=%{y}<extra></extra>",
         "legendgroup": "Stock Data",
         "line": {
          "color": "#636efa",
          "dash": "solid"
         },
         "marker": {
          "symbol": "circle"
         },
         "mode": "lines+markers",
         "name": "Stock Data",
         "orientation": "v",
         "showlegend": false,
         "type": "scatter",
         "x": [
          "PETR4",
          "VALE3",
          "BBDC4",
          "ITUB4"
         ],
         "xaxis": "x3",
         "y": {
          "bdata": "GLoMH0b/kD+9z+ssIYiRP0cPhrYh05Y/toxA9XDnkz8=",
          "dtype": "f8"
         },
         "yaxis": "y3"
        },
        {
         "hovertemplate": "Descrição=Stock Data<br>Model=model_4<br>Stock=%{x}<br>RMSE=%{y}<extra></extra>",
         "legendgroup": "Stock Data",
         "line": {
          "color": "#636efa",
          "dash": "solid"
         },
         "marker": {
          "symbol": "circle"
         },
         "mode": "lines+markers",
         "name": "Stock Data",
         "orientation": "v",
         "showlegend": false,
         "type": "scatter",
         "x": [
          "PETR4",
          "VALE3",
          "BBDC4",
          "ITUB4"
         ],
         "xaxis": "x4",
         "y": {
          "bdata": "r15Yt5/akD/iBvnkK1zRP0yXeR/Mg5Y//7sjKQSDkz8=",
          "dtype": "f8"
         },
         "yaxis": "y4"
        },
        {
         "hovertemplate": "Descrição=Stock Data + Google News<br>Model=model_1<br>Stock=%{x}<br>RMSE=%{y}<extra></extra>",
         "legendgroup": "Stock Data + Google News",
         "line": {
          "color": "#EF553B",
          "dash": "solid"
         },
         "marker": {
          "symbol": "circle"
         },
         "mode": "lines+markers",
         "name": "Stock Data + Google News",
         "orientation": "v",
         "showlegend": true,
         "type": "scatter",
         "x": [
          "PETR4",
          "VALE3",
          "BBDC4",
          "ITUB4"
         ],
         "xaxis": "x",
         "y": {
          "bdata": "ms9kcCGVkj82NiX50uqVP8PG8V7Sj5c/HsR6zkkxlT8=",
          "dtype": "f8"
         },
         "yaxis": "y"
        },
        {
         "hovertemplate": "Descrição=Stock Data + Google News<br>Model=model_2<br>Stock=%{x}<br>RMSE=%{y}<extra></extra>",
         "legendgroup": "Stock Data + Google News",
         "line": {
          "color": "#EF553B",
          "dash": "solid"
         },
         "marker": {
          "symbol": "circle"
         },
         "mode": "lines+markers",
         "name": "Stock Data + Google News",
         "orientation": "v",
         "showlegend": false,
         "type": "scatter",
         "x": [
          "PETR4",
          "VALE3",
          "BBDC4",
          "ITUB4"
         ],
         "xaxis": "x2",
         "y": {
          "bdata": "VQPNAVkxkj+hzjyh6NuSPzkA4YfXDZc/aaaOy5NrlD8=",
          "dtype": "f8"
         },
         "yaxis": "y2"
        },
        {
         "hovertemplate": "Descrição=Stock Data + Google News<br>Model=model_3<br>Stock=%{x}<br>RMSE=%{y}<extra></extra>",
         "legendgroup": "Stock Data + Google News",
         "line": {
          "color": "#EF553B",
          "dash": "solid"
         },
         "marker": {
          "symbol": "circle"
         },
         "mode": "lines+markers",
         "name": "Stock Data + Google News",
         "orientation": "v",
         "showlegend": false,
         "type": "scatter",
         "x": [
          "PETR4",
          "VALE3",
          "BBDC4",
          "ITUB4"
         ],
         "xaxis": "x3",
         "y": {
          "bdata": "cOTCdbXIkj+FjWckBHihP0xTwvU5lpc/PaePUkivlD8=",
          "dtype": "f8"
         },
         "yaxis": "y3"
        },
        {
         "hovertemplate": "Descrição=Stock Data + Google News<br>Model=model_4<br>Stock=%{x}<br>RMSE=%{y}<extra></extra>",
         "legendgroup": "Stock Data + Google News",
         "line": {
          "color": "#EF553B",
          "dash": "solid"
         },
         "marker": {
          "symbol": "circle"
         },
         "mode": "lines+markers",
         "name": "Stock Data + Google News",
         "orientation": "v",
         "showlegend": false,
         "type": "scatter",
         "x": [
          "PETR4",
          "VALE3",
          "BBDC4",
          "ITUB4"
         ],
         "xaxis": "x4",
         "y": {
          "bdata": "9I2OQLVBoz/0wU1JmavSP4E7bK6LipY/of7iQa3Zsz8=",
          "dtype": "f8"
         },
         "yaxis": "y4"
        },
        {
         "hovertemplate": "Descrição=Stock Data + Twitter<br>Model=model_1<br>Stock=%{x}<br>RMSE=%{y}<extra></extra>",
         "legendgroup": "Stock Data + Twitter",
         "line": {
          "color": "#00cc96",
          "dash": "solid"
         },
         "marker": {
          "symbol": "circle"
         },
         "mode": "lines+markers",
         "name": "Stock Data + Twitter",
         "orientation": "v",
         "showlegend": true,
         "type": "scatter",
         "x": [
          "PETR4",
          "VALE3",
          "BBDC4",
          "ITUB4"
         ],
         "xaxis": "x",
         "y": {
          "bdata": "uaMHS4o+kj+sfZ+3/SuUP5lFuNRTqZc/IkeDZnUPlT8=",
          "dtype": "f8"
         },
         "yaxis": "y"
        },
        {
         "hovertemplate": "Descrição=Stock Data + Twitter<br>Model=model_2<br>Stock=%{x}<br>RMSE=%{y}<extra></extra>",
         "legendgroup": "Stock Data + Twitter",
         "line": {
          "color": "#00cc96",
          "dash": "solid"
         },
         "marker": {
          "symbol": "circle"
         },
         "mode": "lines+markers",
         "name": "Stock Data + Twitter",
         "orientation": "v",
         "showlegend": false,
         "type": "scatter",
         "x": [
          "PETR4",
          "VALE3",
          "BBDC4",
          "ITUB4"
         ],
         "xaxis": "x2",
         "y": {
          "bdata": "PLJPKzTTkT/9HSxR2U2TP4CQzS1DBZc/UDg6QzR6lD8=",
          "dtype": "f8"
         },
         "yaxis": "y2"
        },
        {
         "hovertemplate": "Descrição=Stock Data + Twitter<br>Model=model_3<br>Stock=%{x}<br>RMSE=%{y}<extra></extra>",
         "legendgroup": "Stock Data + Twitter",
         "line": {
          "color": "#00cc96",
          "dash": "solid"
         },
         "marker": {
          "symbol": "circle"
         },
         "mode": "lines+markers",
         "name": "Stock Data + Twitter",
         "orientation": "v",
         "showlegend": false,
         "type": "scatter",
         "x": [
          "PETR4",
          "VALE3",
          "BBDC4",
          "ITUB4"
         ],
         "xaxis": "x3",
         "y": {
          "bdata": "2LkKRJVXkj85+RlTdtGnP5eeyhRCApc/8S2kotCNlD8=",
          "dtype": "f8"
         },
         "yaxis": "y3"
        },
        {
         "hovertemplate": "Descrição=Stock Data + Twitter<br>Model=model_4<br>Stock=%{x}<br>RMSE=%{y}<extra></extra>",
         "legendgroup": "Stock Data + Twitter",
         "line": {
          "color": "#00cc96",
          "dash": "solid"
         },
         "marker": {
          "symbol": "circle"
         },
         "mode": "lines+markers",
         "name": "Stock Data + Twitter",
         "orientation": "v",
         "showlegend": false,
         "type": "scatter",
         "x": [
          "PETR4",
          "VALE3",
          "BBDC4",
          "ITUB4"
         ],
         "xaxis": "x4",
         "y": {
          "bdata": "TDNRZPPjkD9oLwqsCYbRP0C4/Gkm8aY/UfjLsU/AmD8=",
          "dtype": "f8"
         },
         "yaxis": "y4"
        },
        {
         "hovertemplate": "Descrição=Stock Data + IT (IFR + MMS + MME)<br>Model=model_1<br>Stock=%{x}<br>RMSE=%{y}<extra></extra>",
         "legendgroup": "Stock Data + IT (IFR + MMS + MME)",
         "line": {
          "color": "#ab63fa",
          "dash": "solid"
         },
         "marker": {
          "symbol": "circle"
         },
         "mode": "lines+markers",
         "name": "Stock Data + IT (IFR + MMS + MME)",
         "orientation": "v",
         "showlegend": true,
         "type": "scatter",
         "x": [
          "PETR4",
          "VALE3",
          "BBDC4",
          "ITUB4"
         ],
         "xaxis": "x",
         "y": {
          "bdata": "+V4wGkVOkj+qkzd6U6uZPzPsLLIYl5c/l96NVernlT8=",
          "dtype": "f8"
         },
         "yaxis": "y"
        },
        {
         "hovertemplate": "Descrição=Stock Data + IT (IFR + MMS + MME)<br>Model=model_2<br>Stock=%{x}<br>RMSE=%{y}<extra></extra>",
         "legendgroup": "Stock Data + IT (IFR + MMS + MME)",
         "line": {
          "color": "#ab63fa",
          "dash": "solid"
         },
         "marker": {
          "symbol": "circle"
         },
         "mode": "lines+markers",
         "name": "Stock Data + IT (IFR + MMS + MME)",
         "orientation": "v",
         "showlegend": false,
         "type": "scatter",
         "x": [
          "PETR4",
          "VALE3",
          "BBDC4",
          "ITUB4"
         ],
         "xaxis": "x2",
         "y": {
          "bdata": "CrzgMFxtkT/0Dq8wmlqVP/Rzc/DYApc/LZ6l4TUflD8=",
          "dtype": "f8"
         },
         "yaxis": "y2"
        },
        {
         "hovertemplate": "Descrição=Stock Data + IT (IFR + MMS + MME)<br>Model=model_3<br>Stock=%{x}<br>RMSE=%{y}<extra></extra>",
         "legendgroup": "Stock Data + IT (IFR + MMS + MME)",
         "line": {
          "color": "#ab63fa",
          "dash": "solid"
         },
         "marker": {
          "symbol": "circle"
         },
         "mode": "lines+markers",
         "name": "Stock Data + IT (IFR + MMS + MME)",
         "orientation": "v",
         "showlegend": false,
         "type": "scatter",
         "x": [
          "PETR4",
          "VALE3",
          "BBDC4",
          "ITUB4"
         ],
         "xaxis": "x3",
         "y": {
          "bdata": "luUtgATokT+Pg9d5NvuSP9YX+h4L9pY/c9zrD0l5lD8=",
          "dtype": "f8"
         },
         "yaxis": "y3"
        },
        {
         "hovertemplate": "Descrição=Stock Data + IT (IFR + MMS + MME)<br>Model=model_4<br>Stock=%{x}<br>RMSE=%{y}<extra></extra>",
         "legendgroup": "Stock Data + IT (IFR + MMS + MME)",
         "line": {
          "color": "#ab63fa",
          "dash": "solid"
         },
         "marker": {
          "symbol": "circle"
         },
         "mode": "lines+markers",
         "name": "Stock Data + IT (IFR + MMS + MME)",
         "orientation": "v",
         "showlegend": false,
         "type": "scatter",
         "x": [
          "PETR4",
          "VALE3",
          "BBDC4",
          "ITUB4"
         ],
         "xaxis": "x4",
         "y": {
          "bdata": "g6rHVZT2sz/FoFFNvxLLPzWbW0iJgMQ/wUUGPDXbtj8=",
          "dtype": "f8"
         },
         "yaxis": "y4"
        },
        {
         "hovertemplate": "Descrição=Google News + Twitter + IFR + MMS<br>Model=model_1<br>Stock=%{x}<br>RMSE=%{y}<extra></extra>",
         "legendgroup": "Google News + Twitter + IFR + MMS",
         "line": {
          "color": "#FFA15A",
          "dash": "solid"
         },
         "marker": {
          "symbol": "circle"
         },
         "mode": "lines+markers",
         "name": "Google News + Twitter + IFR + MMS",
         "orientation": "v",
         "showlegend": true,
         "type": "scatter",
         "x": [
          "PETR4",
          "VALE3",
          "BBDC4",
          "ITUB4"
         ],
         "xaxis": "x",
         "y": {
          "bdata": "0p903DDQkj9OQh1y9+6vP8H/TKJViJg/HsEayymKlz8=",
          "dtype": "f8"
         },
         "yaxis": "y"
        },
        {
         "hovertemplate": "Descrição=Google News + Twitter + IFR + MMS<br>Model=model_2<br>Stock=%{x}<br>RMSE=%{y}<extra></extra>",
         "legendgroup": "Google News + Twitter + IFR + MMS",
         "line": {
          "color": "#FFA15A",
          "dash": "solid"
         },
         "marker": {
          "symbol": "circle"
         },
         "mode": "lines+markers",
         "name": "Google News + Twitter + IFR + MMS",
         "orientation": "v",
         "showlegend": false,
         "type": "scatter",
         "x": [
          "PETR4",
          "VALE3",
          "BBDC4",
          "ITUB4"
         ],
         "xaxis": "x2",
         "y": {
          "bdata": "PfSfzQ2akT/J78OJ9TWWPyuSrcnuApc/Nn3pJeDGlD8=",
          "dtype": "f8"
         },
         "yaxis": "y2"
        },
        {
         "hovertemplate": "Descrição=Google News + Twitter + IFR + MMS<br>Model=model_3<br>Stock=%{x}<br>RMSE=%{y}<extra></extra>",
         "legendgroup": "Google News + Twitter + IFR + MMS",
         "line": {
          "color": "#FFA15A",
          "dash": "solid"
         },
         "marker": {
          "symbol": "circle"
         },
         "mode": "lines+markers",
         "name": "Google News + Twitter + IFR + MMS",
         "orientation": "v",
         "showlegend": false,
         "type": "scatter",
         "x": [
          "PETR4",
          "VALE3",
          "BBDC4",
          "ITUB4"
         ],
         "xaxis": "x3",
         "y": {
          "bdata": "UYfa78CHkj/ZnpqeFWOcP06UlBN/6JY/OaDWUKpMlD8=",
          "dtype": "f8"
         },
         "yaxis": "y3"
        },
        {
         "hovertemplate": "Descrição=Google News + Twitter + IFR + MMS<br>Model=model_4<br>Stock=%{x}<br>RMSE=%{y}<extra></extra>",
         "legendgroup": "Google News + Twitter + IFR + MMS",
         "line": {
          "color": "#FFA15A",
          "dash": "solid"
         },
         "marker": {
          "symbol": "circle"
         },
         "mode": "lines+markers",
         "name": "Google News + Twitter + IFR + MMS",
         "orientation": "v",
         "showlegend": false,
         "type": "scatter",
         "x": [
          "PETR4",
          "VALE3",
          "BBDC4",
          "ITUB4"
         ],
         "xaxis": "x4",
         "y": {
          "bdata": "8u42g/EAsz9ZBMndstfOP1a3bWtvKsc/lsXbXBlqsD8=",
          "dtype": "f8"
         },
         "yaxis": "y4"
        },
        {
         "hovertemplate": "Descrição=Google News + Twitter + IFR + MME<br>Model=model_1<br>Stock=%{x}<br>RMSE=%{y}<extra></extra>",
         "legendgroup": "Google News + Twitter + IFR + MME",
         "line": {
          "color": "#19d3f3",
          "dash": "solid"
         },
         "marker": {
          "symbol": "circle"
         },
         "mode": "lines+markers",
         "name": "Google News + Twitter + IFR + MME",
         "orientation": "v",
         "showlegend": true,
         "type": "scatter",
         "x": [
          "PETR4",
          "VALE3",
          "BBDC4",
          "ITUB4"
         ],
         "xaxis": "x",
         "y": {
          "bdata": "gyknsmPRkj80sJnVrgmjP545jaMj+Zc/jGqM9OUsmD8=",
          "dtype": "f8"
         },
         "yaxis": "y"
        },
        {
         "hovertemplate": "Descrição=Google News + Twitter + IFR + MME<br>Model=model_2<br>Stock=%{x}<br>RMSE=%{y}<extra></extra>",
         "legendgroup": "Google News + Twitter + IFR + MME",
         "line": {
          "color": "#19d3f3",
          "dash": "solid"
         },
         "marker": {
          "symbol": "circle"
         },
         "mode": "lines+markers",
         "name": "Google News + Twitter + IFR + MME",
         "orientation": "v",
         "showlegend": false,
         "type": "scatter",
         "x": [
          "PETR4",
          "VALE3",
          "BBDC4",
          "ITUB4"
         ],
         "xaxis": "x2",
         "y": {
          "bdata": "osYaeBSPkT/FBD6r52iWP78xx3Vlapc/Q2uRxk+zlD8=",
          "dtype": "f8"
         },
         "yaxis": "y2"
        },
        {
         "hovertemplate": "Descrição=Google News + Twitter + IFR + MME<br>Model=model_3<br>Stock=%{x}<br>RMSE=%{y}<extra></extra>",
         "legendgroup": "Google News + Twitter + IFR + MME",
         "line": {
          "color": "#19d3f3",
          "dash": "solid"
         },
         "marker": {
          "symbol": "circle"
         },
         "mode": "lines+markers",
         "name": "Google News + Twitter + IFR + MME",
         "orientation": "v",
         "showlegend": false,
         "type": "scatter",
         "x": [
          "PETR4",
          "VALE3",
          "BBDC4",
          "ITUB4"
         ],
         "xaxis": "x3",
         "y": {
          "bdata": "Ogl5H9PkkT8u3ZeDu0SXP6JHDemeWJc/DoKtJzbElD8=",
          "dtype": "f8"
         },
         "yaxis": "y3"
        },
        {
         "hovertemplate": "Descrição=Google News + Twitter + IFR + MME<br>Model=model_4<br>Stock=%{x}<br>RMSE=%{y}<extra></extra>",
         "legendgroup": "Google News + Twitter + IFR + MME",
         "line": {
          "color": "#19d3f3",
          "dash": "solid"
         },
         "marker": {
          "symbol": "circle"
         },
         "mode": "lines+markers",
         "name": "Google News + Twitter + IFR + MME",
         "orientation": "v",
         "showlegend": false,
         "type": "scatter",
         "x": [
          "PETR4",
          "VALE3",
          "BBDC4",
          "ITUB4"
         ],
         "xaxis": "x4",
         "y": {
          "bdata": "Vu+Jp6Firj+0B7g1Lk7QP6W3IPjXIM8/N5HDv14Suj8=",
          "dtype": "f8"
         },
         "yaxis": "y4"
        },
        {
         "hovertemplate": "Descrição=Google News + Twitter + IFR + MME + MMS<br>Model=model_1<br>Stock=%{x}<br>RMSE=%{y}<extra></extra>",
         "legendgroup": "Google News + Twitter + IFR + MME + MMS",
         "line": {
          "color": "#FF6692",
          "dash": "solid"
         },
         "marker": {
          "symbol": "circle"
         },
         "mode": "lines+markers",
         "name": "Google News + Twitter + IFR + MME + MMS",
         "orientation": "v",
         "showlegend": true,
         "type": "scatter",
         "x": [
          "PETR4",
          "VALE3",
          "BBDC4",
          "ITUB4"
         ],
         "xaxis": "x",
         "y": {
          "bdata": "AazNjOjpkz/MRs6hvUCfP02GPGhwLpg/pSS4NHkLmD8=",
          "dtype": "f8"
         },
         "yaxis": "y"
        },
        {
         "hovertemplate": "Descrição=Google News + Twitter + IFR + MME + MMS<br>Model=model_2<br>Stock=%{x}<br>RMSE=%{y}<extra></extra>",
         "legendgroup": "Google News + Twitter + IFR + MME + MMS",
         "line": {
          "color": "#FF6692",
          "dash": "solid"
         },
         "marker": {
          "symbol": "circle"
         },
         "mode": "lines+markers",
         "name": "Google News + Twitter + IFR + MME + MMS",
         "orientation": "v",
         "showlegend": false,
         "type": "scatter",
         "x": [
          "PETR4",
          "VALE3",
          "BBDC4",
          "ITUB4"
         ],
         "xaxis": "x2",
         "y": {
          "bdata": "T7j5l4X7kT+zaVOM15yXP9tdmEvwspk/CgGjn9oJlT8=",
          "dtype": "f8"
         },
         "yaxis": "y2"
        },
        {
         "hovertemplate": "Descrição=Google News + Twitter + IFR + MME + MMS<br>Model=model_3<br>Stock=%{x}<br>RMSE=%{y}<extra></extra>",
         "legendgroup": "Google News + Twitter + IFR + MME + MMS",
         "line": {
          "color": "#FF6692",
          "dash": "solid"
         },
         "marker": {
          "symbol": "circle"
         },
         "mode": "lines+markers",
         "name": "Google News + Twitter + IFR + MME + MMS",
         "orientation": "v",
         "showlegend": false,
         "type": "scatter",
         "x": [
          "PETR4",
          "VALE3",
          "BBDC4",
          "ITUB4"
         ],
         "xaxis": "x3",
         "y": {
          "bdata": "vJJH5QXlkT8J/xRuoeShP85cwLGb/Jg/TXz9tmpdlj8=",
          "dtype": "f8"
         },
         "yaxis": "y3"
        },
        {
         "hovertemplate": "Descrição=Google News + Twitter + IFR + MME + MMS<br>Model=model_4<br>Stock=%{x}<br>RMSE=%{y}<extra></extra>",
         "legendgroup": "Google News + Twitter + IFR + MME + MMS",
         "line": {
          "color": "#FF6692",
          "dash": "solid"
         },
         "marker": {
          "symbol": "circle"
         },
         "mode": "lines+markers",
         "name": "Google News + Twitter + IFR + MME + MMS",
         "orientation": "v",
         "showlegend": false,
         "type": "scatter",
         "x": [
          "PETR4",
          "VALE3",
          "BBDC4",
          "ITUB4"
         ],
         "xaxis": "x4",
         "y": {
          "bdata": "xGKmanf5rD8C/1GkQHrQPxuAm2wXucY/u5VitaTTrT8=",
          "dtype": "f8"
         },
         "yaxis": "y4"
        }
       ],
       "layout": {
        "annotations": [
         {
          "font": {
           "size": 16
          },
          "showarrow": false,
          "text": "Model=model_1",
          "x": 0.1175,
          "xanchor": "center",
          "xref": "paper",
          "y": 1,
          "yanchor": "bottom",
          "yref": "paper"
         },
         {
          "font": {
           "size": 16
          },
          "showarrow": false,
          "text": "Model=model_2",
          "x": 0.3725,
          "xanchor": "center",
          "xref": "paper",
          "y": 1,
          "yanchor": "bottom",
          "yref": "paper"
         },
         {
          "font": {
           "size": 16
          },
          "showarrow": false,
          "text": "Model=model_3",
          "x": 0.6275,
          "xanchor": "center",
          "xref": "paper",
          "y": 1,
          "yanchor": "bottom",
          "yref": "paper"
         },
         {
          "font": {
           "size": 16
          },
          "showarrow": false,
          "text": "Model=model_4",
          "x": 0.8824999999999998,
          "xanchor": "center",
          "xref": "paper",
          "y": 1,
          "yanchor": "bottom",
          "yref": "paper"
         }
        ],
        "font": {
         "size": 10
        },
        "height": 600,
        "legend": {
         "font": {
          "size": 15
         },
         "orientation": "h",
         "title": {
          "text": "Descrição"
         },
         "tracegroupgap": 0,
         "x": 0.5,
         "xanchor": "center",
         "y": -0.2,
         "yanchor": "top"
        },
        "margin": {
         "b": 60,
         "l": 20,
         "r": 20,
         "t": 40
        },
        "template": {
         "data": {
          "bar": [
           {
            "error_x": {
             "color": "#2a3f5f"
            },
            "error_y": {
             "color": "#2a3f5f"
            },
            "marker": {
             "line": {
              "color": "#E5ECF6",
              "width": 0.5
             },
             "pattern": {
              "fillmode": "overlay",
              "size": 10,
              "solidity": 0.2
             }
            },
            "type": "bar"
           }
          ],
          "barpolar": [
           {
            "marker": {
             "line": {
              "color": "#E5ECF6",
              "width": 0.5
             },
             "pattern": {
              "fillmode": "overlay",
              "size": 10,
              "solidity": 0.2
             }
            },
            "type": "barpolar"
           }
          ],
          "carpet": [
           {
            "aaxis": {
             "endlinecolor": "#2a3f5f",
             "gridcolor": "white",
             "linecolor": "white",
             "minorgridcolor": "white",
             "startlinecolor": "#2a3f5f"
            },
            "baxis": {
             "endlinecolor": "#2a3f5f",
             "gridcolor": "white",
             "linecolor": "white",
             "minorgridcolor": "white",
             "startlinecolor": "#2a3f5f"
            },
            "type": "carpet"
           }
          ],
          "choropleth": [
           {
            "colorbar": {
             "outlinewidth": 0,
             "ticks": ""
            },
            "type": "choropleth"
           }
          ],
          "contour": [
           {
            "colorbar": {
             "outlinewidth": 0,
             "ticks": ""
            },
            "colorscale": [
             [
              0,
              "#0d0887"
             ],
             [
              0.1111111111111111,
              "#46039f"
             ],
             [
              0.2222222222222222,
              "#7201a8"
             ],
             [
              0.3333333333333333,
              "#9c179e"
             ],
             [
              0.4444444444444444,
              "#bd3786"
             ],
             [
              0.5555555555555556,
              "#d8576b"
             ],
             [
              0.6666666666666666,
              "#ed7953"
             ],
             [
              0.7777777777777778,
              "#fb9f3a"
             ],
             [
              0.8888888888888888,
              "#fdca26"
             ],
             [
              1,
              "#f0f921"
             ]
            ],
            "type": "contour"
           }
          ],
          "contourcarpet": [
           {
            "colorbar": {
             "outlinewidth": 0,
             "ticks": ""
            },
            "type": "contourcarpet"
           }
          ],
          "heatmap": [
           {
            "colorbar": {
             "outlinewidth": 0,
             "ticks": ""
            },
            "colorscale": [
             [
              0,
              "#0d0887"
             ],
             [
              0.1111111111111111,
              "#46039f"
             ],
             [
              0.2222222222222222,
              "#7201a8"
             ],
             [
              0.3333333333333333,
              "#9c179e"
             ],
             [
              0.4444444444444444,
              "#bd3786"
             ],
             [
              0.5555555555555556,
              "#d8576b"
             ],
             [
              0.6666666666666666,
              "#ed7953"
             ],
             [
              0.7777777777777778,
              "#fb9f3a"
             ],
             [
              0.8888888888888888,
              "#fdca26"
             ],
             [
              1,
              "#f0f921"
             ]
            ],
            "type": "heatmap"
           }
          ],
          "histogram": [
           {
            "marker": {
             "pattern": {
              "fillmode": "overlay",
              "size": 10,
              "solidity": 0.2
             }
            },
            "type": "histogram"
           }
          ],
          "histogram2d": [
           {
            "colorbar": {
             "outlinewidth": 0,
             "ticks": ""
            },
            "colorscale": [
             [
              0,
              "#0d0887"
             ],
             [
              0.1111111111111111,
              "#46039f"
             ],
             [
              0.2222222222222222,
              "#7201a8"
             ],
             [
              0.3333333333333333,
              "#9c179e"
             ],
             [
              0.4444444444444444,
              "#bd3786"
             ],
             [
              0.5555555555555556,
              "#d8576b"
             ],
             [
              0.6666666666666666,
              "#ed7953"
             ],
             [
              0.7777777777777778,
              "#fb9f3a"
             ],
             [
              0.8888888888888888,
              "#fdca26"
             ],
             [
              1,
              "#f0f921"
             ]
            ],
            "type": "histogram2d"
           }
          ],
          "histogram2dcontour": [
           {
            "colorbar": {
             "outlinewidth": 0,
             "ticks": ""
            },
            "colorscale": [
             [
              0,
              "#0d0887"
             ],
             [
              0.1111111111111111,
              "#46039f"
             ],
             [
              0.2222222222222222,
              "#7201a8"
             ],
             [
              0.3333333333333333,
              "#9c179e"
             ],
             [
              0.4444444444444444,
              "#bd3786"
             ],
             [
              0.5555555555555556,
              "#d8576b"
             ],
             [
              0.6666666666666666,
              "#ed7953"
             ],
             [
              0.7777777777777778,
              "#fb9f3a"
             ],
             [
              0.8888888888888888,
              "#fdca26"
             ],
             [
              1,
              "#f0f921"
             ]
            ],
            "type": "histogram2dcontour"
           }
          ],
          "mesh3d": [
           {
            "colorbar": {
             "outlinewidth": 0,
             "ticks": ""
            },
            "type": "mesh3d"
           }
          ],
          "parcoords": [
           {
            "line": {
             "colorbar": {
              "outlinewidth": 0,
              "ticks": ""
             }
            },
            "type": "parcoords"
           }
          ],
          "pie": [
           {
            "automargin": true,
            "type": "pie"
           }
          ],
          "scatter": [
           {
            "fillpattern": {
             "fillmode": "overlay",
             "size": 10,
             "solidity": 0.2
            },
            "type": "scatter"
           }
          ],
          "scatter3d": [
           {
            "line": {
             "colorbar": {
              "outlinewidth": 0,
              "ticks": ""
             }
            },
            "marker": {
             "colorbar": {
              "outlinewidth": 0,
              "ticks": ""
             }
            },
            "type": "scatter3d"
           }
          ],
          "scattercarpet": [
           {
            "marker": {
             "colorbar": {
              "outlinewidth": 0,
              "ticks": ""
             }
            },
            "type": "scattercarpet"
           }
          ],
          "scattergeo": [
           {
            "marker": {
             "colorbar": {
              "outlinewidth": 0,
              "ticks": ""
             }
            },
            "type": "scattergeo"
           }
          ],
          "scattergl": [
           {
            "marker": {
             "colorbar": {
              "outlinewidth": 0,
              "ticks": ""
             }
            },
            "type": "scattergl"
           }
          ],
          "scattermap": [
           {
            "marker": {
             "colorbar": {
              "outlinewidth": 0,
              "ticks": ""
             }
            },
            "type": "scattermap"
           }
          ],
          "scattermapbox": [
           {
            "marker": {
             "colorbar": {
              "outlinewidth": 0,
              "ticks": ""
             }
            },
            "type": "scattermapbox"
           }
          ],
          "scatterpolar": [
           {
            "marker": {
             "colorbar": {
              "outlinewidth": 0,
              "ticks": ""
             }
            },
            "type": "scatterpolar"
           }
          ],
          "scatterpolargl": [
           {
            "marker": {
             "colorbar": {
              "outlinewidth": 0,
              "ticks": ""
             }
            },
            "type": "scatterpolargl"
           }
          ],
          "scatterternary": [
           {
            "marker": {
             "colorbar": {
              "outlinewidth": 0,
              "ticks": ""
             }
            },
            "type": "scatterternary"
           }
          ],
          "surface": [
           {
            "colorbar": {
             "outlinewidth": 0,
             "ticks": ""
            },
            "colorscale": [
             [
              0,
              "#0d0887"
             ],
             [
              0.1111111111111111,
              "#46039f"
             ],
             [
              0.2222222222222222,
              "#7201a8"
             ],
             [
              0.3333333333333333,
              "#9c179e"
             ],
             [
              0.4444444444444444,
              "#bd3786"
             ],
             [
              0.5555555555555556,
              "#d8576b"
             ],
             [
              0.6666666666666666,
              "#ed7953"
             ],
             [
              0.7777777777777778,
              "#fb9f3a"
             ],
             [
              0.8888888888888888,
              "#fdca26"
             ],
             [
              1,
              "#f0f921"
             ]
            ],
            "type": "surface"
           }
          ],
          "table": [
           {
            "cells": {
             "fill": {
              "color": "#EBF0F8"
             },
             "line": {
              "color": "white"
             }
            },
            "header": {
             "fill": {
              "color": "#C8D4E3"
             },
             "line": {
              "color": "white"
             }
            },
            "type": "table"
           }
          ]
         },
         "layout": {
          "annotationdefaults": {
           "arrowcolor": "#2a3f5f",
           "arrowhead": 0,
           "arrowwidth": 1
          },
          "autotypenumbers": "strict",
          "coloraxis": {
           "colorbar": {
            "outlinewidth": 0,
            "ticks": ""
           }
          },
          "colorscale": {
           "diverging": [
            [
             0,
             "#8e0152"
            ],
            [
             0.1,
             "#c51b7d"
            ],
            [
             0.2,
             "#de77ae"
            ],
            [
             0.3,
             "#f1b6da"
            ],
            [
             0.4,
             "#fde0ef"
            ],
            [
             0.5,
             "#f7f7f7"
            ],
            [
             0.6,
             "#e6f5d0"
            ],
            [
             0.7,
             "#b8e186"
            ],
            [
             0.8,
             "#7fbc41"
            ],
            [
             0.9,
             "#4d9221"
            ],
            [
             1,
             "#276419"
            ]
           ],
           "sequential": [
            [
             0,
             "#0d0887"
            ],
            [
             0.1111111111111111,
             "#46039f"
            ],
            [
             0.2222222222222222,
             "#7201a8"
            ],
            [
             0.3333333333333333,
             "#9c179e"
            ],
            [
             0.4444444444444444,
             "#bd3786"
            ],
            [
             0.5555555555555556,
             "#d8576b"
            ],
            [
             0.6666666666666666,
             "#ed7953"
            ],
            [
             0.7777777777777778,
             "#fb9f3a"
            ],
            [
             0.8888888888888888,
             "#fdca26"
            ],
            [
             1,
             "#f0f921"
            ]
           ],
           "sequentialminus": [
            [
             0,
             "#0d0887"
            ],
            [
             0.1111111111111111,
             "#46039f"
            ],
            [
             0.2222222222222222,
             "#7201a8"
            ],
            [
             0.3333333333333333,
             "#9c179e"
            ],
            [
             0.4444444444444444,
             "#bd3786"
            ],
            [
             0.5555555555555556,
             "#d8576b"
            ],
            [
             0.6666666666666666,
             "#ed7953"
            ],
            [
             0.7777777777777778,
             "#fb9f3a"
            ],
            [
             0.8888888888888888,
             "#fdca26"
            ],
            [
             1,
             "#f0f921"
            ]
           ]
          },
          "colorway": [
           "#636efa",
           "#EF553B",
           "#00cc96",
           "#ab63fa",
           "#FFA15A",
           "#19d3f3",
           "#FF6692",
           "#B6E880",
           "#FF97FF",
           "#FECB52"
          ],
          "font": {
           "color": "#2a3f5f"
          },
          "geo": {
           "bgcolor": "white",
           "lakecolor": "white",
           "landcolor": "#E5ECF6",
           "showlakes": true,
           "showland": true,
           "subunitcolor": "white"
          },
          "hoverlabel": {
           "align": "left"
          },
          "hovermode": "closest",
          "mapbox": {
           "style": "light"
          },
          "paper_bgcolor": "white",
          "plot_bgcolor": "#E5ECF6",
          "polar": {
           "angularaxis": {
            "gridcolor": "white",
            "linecolor": "white",
            "ticks": ""
           },
           "bgcolor": "#E5ECF6",
           "radialaxis": {
            "gridcolor": "white",
            "linecolor": "white",
            "ticks": ""
           }
          },
          "scene": {
           "xaxis": {
            "backgroundcolor": "#E5ECF6",
            "gridcolor": "white",
            "gridwidth": 2,
            "linecolor": "white",
            "showbackground": true,
            "ticks": "",
            "zerolinecolor": "white"
           },
           "yaxis": {
            "backgroundcolor": "#E5ECF6",
            "gridcolor": "white",
            "gridwidth": 2,
            "linecolor": "white",
            "showbackground": true,
            "ticks": "",
            "zerolinecolor": "white"
           },
           "zaxis": {
            "backgroundcolor": "#E5ECF6",
            "gridcolor": "white",
            "gridwidth": 2,
            "linecolor": "white",
            "showbackground": true,
            "ticks": "",
            "zerolinecolor": "white"
           }
          },
          "shapedefaults": {
           "line": {
            "color": "#2a3f5f"
           }
          },
          "ternary": {
           "aaxis": {
            "gridcolor": "white",
            "linecolor": "white",
            "ticks": ""
           },
           "baxis": {
            "gridcolor": "white",
            "linecolor": "white",
            "ticks": ""
           },
           "bgcolor": "#E5ECF6",
           "caxis": {
            "gridcolor": "white",
            "linecolor": "white",
            "ticks": ""
           }
          },
          "title": {
           "x": 0.05
          },
          "xaxis": {
           "automargin": true,
           "gridcolor": "white",
           "linecolor": "white",
           "ticks": "",
           "title": {
            "standoff": 15
           },
           "zerolinecolor": "white",
           "zerolinewidth": 2
          },
          "yaxis": {
           "automargin": true,
           "gridcolor": "white",
           "linecolor": "white",
           "ticks": "",
           "title": {
            "standoff": 15
           },
           "zerolinecolor": "white",
           "zerolinewidth": 2
          }
         }
        },
        "title": {
         "x": 0.5
        },
        "width": 1400,
        "xaxis": {
         "anchor": "y",
         "domain": [
          0,
          0.235
         ],
         "tickfont": {
          "size": 14
         },
         "title": {
          "font": {
           "size": 14
          },
          "text": "Stock"
         }
        },
        "xaxis2": {
         "anchor": "y2",
         "domain": [
          0.255,
          0.49
         ],
         "matches": "x",
         "tickfont": {
          "size": 14
         },
         "title": {
          "font": {
           "size": 14
          },
          "text": "Stock"
         }
        },
        "xaxis3": {
         "anchor": "y3",
         "domain": [
          0.51,
          0.745
         ],
         "matches": "x",
         "tickfont": {
          "size": 14
         },
         "title": {
          "font": {
           "size": 14
          },
          "text": "Stock"
         }
        },
        "xaxis4": {
         "anchor": "y4",
         "domain": [
          0.7649999999999999,
          0.9999999999999999
         ],
         "matches": "x",
         "tickfont": {
          "size": 14
         },
         "title": {
          "font": {
           "size": 14
          },
          "text": "Stock"
         }
        },
        "yaxis": {
         "anchor": "x",
         "domain": [
          0,
          1
         ],
         "tickfont": {
          "size": 14
         },
         "title": {
          "font": {
           "size": 14
          },
          "text": "RMSE"
         }
        },
        "yaxis2": {
         "anchor": "x2",
         "domain": [
          0,
          1
         ],
         "matches": "y",
         "showticklabels": false,
         "tickfont": {
          "size": 14
         },
         "title": {
          "font": {
           "size": 14
          }
         }
        },
        "yaxis3": {
         "anchor": "x3",
         "domain": [
          0,
          1
         ],
         "matches": "y",
         "showticklabels": false,
         "tickfont": {
          "size": 14
         },
         "title": {
          "font": {
           "size": 14
          }
         }
        },
        "yaxis4": {
         "anchor": "x4",
         "domain": [
          0,
          1
         ],
         "matches": "y",
         "showticklabels": false,
         "tickfont": {
          "size": 14
         },
         "title": {
          "font": {
           "size": 14
          }
         }
        }
       }
      }
     },
     "metadata": {},
     "output_type": "display_data"
    }
   ],
   "source": [
    "# Graficos com os resultados de todos modelos\n",
    "fig = plot_rmse_facet_plotly(resultados_concatenados)\n",
    "fig.show()"
   ]
  },
  {
   "cell_type": "code",
   "execution_count": 6,
   "metadata": {},
   "outputs": [
    {
     "data": {
      "application/vnd.plotly.v1+json": {
       "config": {
        "plotlyServerURL": "https://plot.ly"
       },
       "data": [
        {
         "hovertemplate": "Descrição=Stock Data<br>Model=model_1<br>Stock=%{x}<br>RMSE=%{y}<extra></extra>",
         "legendgroup": "Stock Data",
         "line": {
          "color": "#636efa",
          "dash": "solid"
         },
         "marker": {
          "symbol": "circle"
         },
         "mode": "lines+markers",
         "name": "Stock Data",
         "orientation": "v",
         "showlegend": true,
         "type": "scatter",
         "x": [
          "PETR4",
          "VALE3",
          "BBDC4",
          "ITUB4"
         ],
         "xaxis": "x",
         "y": {
          "bdata": "tQRDxpcOkj/S1EdHYjmVP1DVsOvqfJc/RIE8XBJjlD8=",
          "dtype": "f8"
         },
         "yaxis": "y"
        },
        {
         "hovertemplate": "Descrição=Stock Data<br>Model=model_2<br>Stock=%{x}<br>RMSE=%{y}<extra></extra>",
         "legendgroup": "Stock Data",
         "line": {
          "color": "#636efa",
          "dash": "solid"
         },
         "marker": {
          "symbol": "circle"
         },
         "mode": "lines+markers",
         "name": "Stock Data",
         "orientation": "v",
         "showlegend": false,
         "type": "scatter",
         "x": [
          "PETR4",
          "VALE3",
          "BBDC4",
          "ITUB4"
         ],
         "xaxis": "x2",
         "y": {
          "bdata": "KIt0dkITkj8sEmkXMfWSP4PxQPYBqJY/7ERc8ulklD8=",
          "dtype": "f8"
         },
         "yaxis": "y2"
        },
        {
         "hovertemplate": "Descrição=Stock Data<br>Model=model_3<br>Stock=%{x}<br>RMSE=%{y}<extra></extra>",
         "legendgroup": "Stock Data",
         "line": {
          "color": "#636efa",
          "dash": "solid"
         },
         "marker": {
          "symbol": "circle"
         },
         "mode": "lines+markers",
         "name": "Stock Data",
         "orientation": "v",
         "showlegend": false,
         "type": "scatter",
         "x": [
          "PETR4",
          "VALE3",
          "BBDC4",
          "ITUB4"
         ],
         "xaxis": "x3",
         "y": {
          "bdata": "GLoMH0b/kD+9z+ssIYiRP0cPhrYh05Y/toxA9XDnkz8=",
          "dtype": "f8"
         },
         "yaxis": "y3"
        },
        {
         "hovertemplate": "Descrição=Stock Data + Google News<br>Model=model_1<br>Stock=%{x}<br>RMSE=%{y}<extra></extra>",
         "legendgroup": "Stock Data + Google News",
         "line": {
          "color": "#EF553B",
          "dash": "solid"
         },
         "marker": {
          "symbol": "circle"
         },
         "mode": "lines+markers",
         "name": "Stock Data + Google News",
         "orientation": "v",
         "showlegend": true,
         "type": "scatter",
         "x": [
          "PETR4",
          "VALE3",
          "BBDC4",
          "ITUB4"
         ],
         "xaxis": "x",
         "y": {
          "bdata": "ms9kcCGVkj82NiX50uqVP8PG8V7Sj5c/HsR6zkkxlT8=",
          "dtype": "f8"
         },
         "yaxis": "y"
        },
        {
         "hovertemplate": "Descrição=Stock Data + Google News<br>Model=model_2<br>Stock=%{x}<br>RMSE=%{y}<extra></extra>",
         "legendgroup": "Stock Data + Google News",
         "line": {
          "color": "#EF553B",
          "dash": "solid"
         },
         "marker": {
          "symbol": "circle"
         },
         "mode": "lines+markers",
         "name": "Stock Data + Google News",
         "orientation": "v",
         "showlegend": false,
         "type": "scatter",
         "x": [
          "PETR4",
          "VALE3",
          "BBDC4",
          "ITUB4"
         ],
         "xaxis": "x2",
         "y": {
          "bdata": "VQPNAVkxkj+hzjyh6NuSPzkA4YfXDZc/aaaOy5NrlD8=",
          "dtype": "f8"
         },
         "yaxis": "y2"
        },
        {
         "hovertemplate": "Descrição=Stock Data + Google News<br>Model=model_3<br>Stock=%{x}<br>RMSE=%{y}<extra></extra>",
         "legendgroup": "Stock Data + Google News",
         "line": {
          "color": "#EF553B",
          "dash": "solid"
         },
         "marker": {
          "symbol": "circle"
         },
         "mode": "lines+markers",
         "name": "Stock Data + Google News",
         "orientation": "v",
         "showlegend": false,
         "type": "scatter",
         "x": [
          "PETR4",
          "VALE3",
          "BBDC4",
          "ITUB4"
         ],
         "xaxis": "x3",
         "y": {
          "bdata": "cOTCdbXIkj+FjWckBHihP0xTwvU5lpc/PaePUkivlD8=",
          "dtype": "f8"
         },
         "yaxis": "y3"
        },
        {
         "hovertemplate": "Descrição=Stock Data + Twitter<br>Model=model_1<br>Stock=%{x}<br>RMSE=%{y}<extra></extra>",
         "legendgroup": "Stock Data + Twitter",
         "line": {
          "color": "#00cc96",
          "dash": "solid"
         },
         "marker": {
          "symbol": "circle"
         },
         "mode": "lines+markers",
         "name": "Stock Data + Twitter",
         "orientation": "v",
         "showlegend": true,
         "type": "scatter",
         "x": [
          "PETR4",
          "VALE3",
          "BBDC4",
          "ITUB4"
         ],
         "xaxis": "x",
         "y": {
          "bdata": "uaMHS4o+kj+sfZ+3/SuUP5lFuNRTqZc/IkeDZnUPlT8=",
          "dtype": "f8"
         },
         "yaxis": "y"
        },
        {
         "hovertemplate": "Descrição=Stock Data + Twitter<br>Model=model_2<br>Stock=%{x}<br>RMSE=%{y}<extra></extra>",
         "legendgroup": "Stock Data + Twitter",
         "line": {
          "color": "#00cc96",
          "dash": "solid"
         },
         "marker": {
          "symbol": "circle"
         },
         "mode": "lines+markers",
         "name": "Stock Data + Twitter",
         "orientation": "v",
         "showlegend": false,
         "type": "scatter",
         "x": [
          "PETR4",
          "VALE3",
          "BBDC4",
          "ITUB4"
         ],
         "xaxis": "x2",
         "y": {
          "bdata": "PLJPKzTTkT/9HSxR2U2TP4CQzS1DBZc/UDg6QzR6lD8=",
          "dtype": "f8"
         },
         "yaxis": "y2"
        },
        {
         "hovertemplate": "Descrição=Stock Data + Twitter<br>Model=model_3<br>Stock=%{x}<br>RMSE=%{y}<extra></extra>",
         "legendgroup": "Stock Data + Twitter",
         "line": {
          "color": "#00cc96",
          "dash": "solid"
         },
         "marker": {
          "symbol": "circle"
         },
         "mode": "lines+markers",
         "name": "Stock Data + Twitter",
         "orientation": "v",
         "showlegend": false,
         "type": "scatter",
         "x": [
          "PETR4",
          "VALE3",
          "BBDC4",
          "ITUB4"
         ],
         "xaxis": "x3",
         "y": {
          "bdata": "2LkKRJVXkj85+RlTdtGnP5eeyhRCApc/8S2kotCNlD8=",
          "dtype": "f8"
         },
         "yaxis": "y3"
        },
        {
         "hovertemplate": "Descrição=Stock Data + IT (IFR + MMS + MME)<br>Model=model_1<br>Stock=%{x}<br>RMSE=%{y}<extra></extra>",
         "legendgroup": "Stock Data + IT (IFR + MMS + MME)",
         "line": {
          "color": "#ab63fa",
          "dash": "solid"
         },
         "marker": {
          "symbol": "circle"
         },
         "mode": "lines+markers",
         "name": "Stock Data + IT (IFR + MMS + MME)",
         "orientation": "v",
         "showlegend": true,
         "type": "scatter",
         "x": [
          "PETR4",
          "VALE3",
          "BBDC4",
          "ITUB4"
         ],
         "xaxis": "x",
         "y": {
          "bdata": "+V4wGkVOkj+qkzd6U6uZPzPsLLIYl5c/l96NVernlT8=",
          "dtype": "f8"
         },
         "yaxis": "y"
        },
        {
         "hovertemplate": "Descrição=Stock Data + IT (IFR + MMS + MME)<br>Model=model_2<br>Stock=%{x}<br>RMSE=%{y}<extra></extra>",
         "legendgroup": "Stock Data + IT (IFR + MMS + MME)",
         "line": {
          "color": "#ab63fa",
          "dash": "solid"
         },
         "marker": {
          "symbol": "circle"
         },
         "mode": "lines+markers",
         "name": "Stock Data + IT (IFR + MMS + MME)",
         "orientation": "v",
         "showlegend": false,
         "type": "scatter",
         "x": [
          "PETR4",
          "VALE3",
          "BBDC4",
          "ITUB4"
         ],
         "xaxis": "x2",
         "y": {
          "bdata": "CrzgMFxtkT/0Dq8wmlqVP/Rzc/DYApc/LZ6l4TUflD8=",
          "dtype": "f8"
         },
         "yaxis": "y2"
        },
        {
         "hovertemplate": "Descrição=Stock Data + IT (IFR + MMS + MME)<br>Model=model_3<br>Stock=%{x}<br>RMSE=%{y}<extra></extra>",
         "legendgroup": "Stock Data + IT (IFR + MMS + MME)",
         "line": {
          "color": "#ab63fa",
          "dash": "solid"
         },
         "marker": {
          "symbol": "circle"
         },
         "mode": "lines+markers",
         "name": "Stock Data + IT (IFR + MMS + MME)",
         "orientation": "v",
         "showlegend": false,
         "type": "scatter",
         "x": [
          "PETR4",
          "VALE3",
          "BBDC4",
          "ITUB4"
         ],
         "xaxis": "x3",
         "y": {
          "bdata": "luUtgATokT+Pg9d5NvuSP9YX+h4L9pY/c9zrD0l5lD8=",
          "dtype": "f8"
         },
         "yaxis": "y3"
        },
        {
         "hovertemplate": "Descrição=Google News + Twitter + IFR + MMS<br>Model=model_1<br>Stock=%{x}<br>RMSE=%{y}<extra></extra>",
         "legendgroup": "Google News + Twitter + IFR + MMS",
         "line": {
          "color": "#FFA15A",
          "dash": "solid"
         },
         "marker": {
          "symbol": "circle"
         },
         "mode": "lines+markers",
         "name": "Google News + Twitter + IFR + MMS",
         "orientation": "v",
         "showlegend": true,
         "type": "scatter",
         "x": [
          "PETR4",
          "VALE3",
          "BBDC4",
          "ITUB4"
         ],
         "xaxis": "x",
         "y": {
          "bdata": "0p903DDQkj9OQh1y9+6vP8H/TKJViJg/HsEayymKlz8=",
          "dtype": "f8"
         },
         "yaxis": "y"
        },
        {
         "hovertemplate": "Descrição=Google News + Twitter + IFR + MMS<br>Model=model_2<br>Stock=%{x}<br>RMSE=%{y}<extra></extra>",
         "legendgroup": "Google News + Twitter + IFR + MMS",
         "line": {
          "color": "#FFA15A",
          "dash": "solid"
         },
         "marker": {
          "symbol": "circle"
         },
         "mode": "lines+markers",
         "name": "Google News + Twitter + IFR + MMS",
         "orientation": "v",
         "showlegend": false,
         "type": "scatter",
         "x": [
          "PETR4",
          "VALE3",
          "BBDC4",
          "ITUB4"
         ],
         "xaxis": "x2",
         "y": {
          "bdata": "PfSfzQ2akT/J78OJ9TWWPyuSrcnuApc/Nn3pJeDGlD8=",
          "dtype": "f8"
         },
         "yaxis": "y2"
        },
        {
         "hovertemplate": "Descrição=Google News + Twitter + IFR + MMS<br>Model=model_3<br>Stock=%{x}<br>RMSE=%{y}<extra></extra>",
         "legendgroup": "Google News + Twitter + IFR + MMS",
         "line": {
          "color": "#FFA15A",
          "dash": "solid"
         },
         "marker": {
          "symbol": "circle"
         },
         "mode": "lines+markers",
         "name": "Google News + Twitter + IFR + MMS",
         "orientation": "v",
         "showlegend": false,
         "type": "scatter",
         "x": [
          "PETR4",
          "VALE3",
          "BBDC4",
          "ITUB4"
         ],
         "xaxis": "x3",
         "y": {
          "bdata": "UYfa78CHkj/ZnpqeFWOcP06UlBN/6JY/OaDWUKpMlD8=",
          "dtype": "f8"
         },
         "yaxis": "y3"
        },
        {
         "hovertemplate": "Descrição=Google News + Twitter + IFR + MME<br>Model=model_1<br>Stock=%{x}<br>RMSE=%{y}<extra></extra>",
         "legendgroup": "Google News + Twitter + IFR + MME",
         "line": {
          "color": "#19d3f3",
          "dash": "solid"
         },
         "marker": {
          "symbol": "circle"
         },
         "mode": "lines+markers",
         "name": "Google News + Twitter + IFR + MME",
         "orientation": "v",
         "showlegend": true,
         "type": "scatter",
         "x": [
          "PETR4",
          "VALE3",
          "BBDC4",
          "ITUB4"
         ],
         "xaxis": "x",
         "y": {
          "bdata": "gyknsmPRkj80sJnVrgmjP545jaMj+Zc/jGqM9OUsmD8=",
          "dtype": "f8"
         },
         "yaxis": "y"
        },
        {
         "hovertemplate": "Descrição=Google News + Twitter + IFR + MME<br>Model=model_2<br>Stock=%{x}<br>RMSE=%{y}<extra></extra>",
         "legendgroup": "Google News + Twitter + IFR + MME",
         "line": {
          "color": "#19d3f3",
          "dash": "solid"
         },
         "marker": {
          "symbol": "circle"
         },
         "mode": "lines+markers",
         "name": "Google News + Twitter + IFR + MME",
         "orientation": "v",
         "showlegend": false,
         "type": "scatter",
         "x": [
          "PETR4",
          "VALE3",
          "BBDC4",
          "ITUB4"
         ],
         "xaxis": "x2",
         "y": {
          "bdata": "osYaeBSPkT/FBD6r52iWP78xx3Vlapc/Q2uRxk+zlD8=",
          "dtype": "f8"
         },
         "yaxis": "y2"
        },
        {
         "hovertemplate": "Descrição=Google News + Twitter + IFR + MME<br>Model=model_3<br>Stock=%{x}<br>RMSE=%{y}<extra></extra>",
         "legendgroup": "Google News + Twitter + IFR + MME",
         "line": {
          "color": "#19d3f3",
          "dash": "solid"
         },
         "marker": {
          "symbol": "circle"
         },
         "mode": "lines+markers",
         "name": "Google News + Twitter + IFR + MME",
         "orientation": "v",
         "showlegend": false,
         "type": "scatter",
         "x": [
          "PETR4",
          "VALE3",
          "BBDC4",
          "ITUB4"
         ],
         "xaxis": "x3",
         "y": {
          "bdata": "Ogl5H9PkkT8u3ZeDu0SXP6JHDemeWJc/DoKtJzbElD8=",
          "dtype": "f8"
         },
         "yaxis": "y3"
        },
        {
         "hovertemplate": "Descrição=Google News + Twitter + IFR + MME + MMS<br>Model=model_1<br>Stock=%{x}<br>RMSE=%{y}<extra></extra>",
         "legendgroup": "Google News + Twitter + IFR + MME + MMS",
         "line": {
          "color": "#FF6692",
          "dash": "solid"
         },
         "marker": {
          "symbol": "circle"
         },
         "mode": "lines+markers",
         "name": "Google News + Twitter + IFR + MME + MMS",
         "orientation": "v",
         "showlegend": true,
         "type": "scatter",
         "x": [
          "PETR4",
          "VALE3",
          "BBDC4",
          "ITUB4"
         ],
         "xaxis": "x",
         "y": {
          "bdata": "AazNjOjpkz/MRs6hvUCfP02GPGhwLpg/pSS4NHkLmD8=",
          "dtype": "f8"
         },
         "yaxis": "y"
        },
        {
         "hovertemplate": "Descrição=Google News + Twitter + IFR + MME + MMS<br>Model=model_2<br>Stock=%{x}<br>RMSE=%{y}<extra></extra>",
         "legendgroup": "Google News + Twitter + IFR + MME + MMS",
         "line": {
          "color": "#FF6692",
          "dash": "solid"
         },
         "marker": {
          "symbol": "circle"
         },
         "mode": "lines+markers",
         "name": "Google News + Twitter + IFR + MME + MMS",
         "orientation": "v",
         "showlegend": false,
         "type": "scatter",
         "x": [
          "PETR4",
          "VALE3",
          "BBDC4",
          "ITUB4"
         ],
         "xaxis": "x2",
         "y": {
          "bdata": "T7j5l4X7kT+zaVOM15yXP9tdmEvwspk/CgGjn9oJlT8=",
          "dtype": "f8"
         },
         "yaxis": "y2"
        },
        {
         "hovertemplate": "Descrição=Google News + Twitter + IFR + MME + MMS<br>Model=model_3<br>Stock=%{x}<br>RMSE=%{y}<extra></extra>",
         "legendgroup": "Google News + Twitter + IFR + MME + MMS",
         "line": {
          "color": "#FF6692",
          "dash": "solid"
         },
         "marker": {
          "symbol": "circle"
         },
         "mode": "lines+markers",
         "name": "Google News + Twitter + IFR + MME + MMS",
         "orientation": "v",
         "showlegend": false,
         "type": "scatter",
         "x": [
          "PETR4",
          "VALE3",
          "BBDC4",
          "ITUB4"
         ],
         "xaxis": "x3",
         "y": {
          "bdata": "vJJH5QXlkT8J/xRuoeShP85cwLGb/Jg/TXz9tmpdlj8=",
          "dtype": "f8"
         },
         "yaxis": "y3"
        }
       ],
       "layout": {
        "annotations": [
         {
          "font": {
           "size": 16
          },
          "showarrow": false,
          "text": "Model=model_1",
          "x": 0.15999999999999998,
          "xanchor": "center",
          "xref": "paper",
          "y": 1,
          "yanchor": "bottom",
          "yref": "paper"
         },
         {
          "font": {
           "size": 16
          },
          "showarrow": false,
          "text": "Model=model_2",
          "x": 0.49999999999999994,
          "xanchor": "center",
          "xref": "paper",
          "y": 1,
          "yanchor": "bottom",
          "yref": "paper"
         },
         {
          "font": {
           "size": 16
          },
          "showarrow": false,
          "text": "Model=model_3",
          "x": 0.8399999999999999,
          "xanchor": "center",
          "xref": "paper",
          "y": 1,
          "yanchor": "bottom",
          "yref": "paper"
         }
        ],
        "font": {
         "size": 10
        },
        "height": 600,
        "legend": {
         "font": {
          "size": 15
         },
         "orientation": "h",
         "title": {
          "text": "Descrição"
         },
         "tracegroupgap": 0,
         "x": 0.5,
         "xanchor": "center",
         "y": -0.2,
         "yanchor": "top"
        },
        "margin": {
         "b": 60,
         "l": 20,
         "r": 20,
         "t": 40
        },
        "template": {
         "data": {
          "bar": [
           {
            "error_x": {
             "color": "#2a3f5f"
            },
            "error_y": {
             "color": "#2a3f5f"
            },
            "marker": {
             "line": {
              "color": "#E5ECF6",
              "width": 0.5
             },
             "pattern": {
              "fillmode": "overlay",
              "size": 10,
              "solidity": 0.2
             }
            },
            "type": "bar"
           }
          ],
          "barpolar": [
           {
            "marker": {
             "line": {
              "color": "#E5ECF6",
              "width": 0.5
             },
             "pattern": {
              "fillmode": "overlay",
              "size": 10,
              "solidity": 0.2
             }
            },
            "type": "barpolar"
           }
          ],
          "carpet": [
           {
            "aaxis": {
             "endlinecolor": "#2a3f5f",
             "gridcolor": "white",
             "linecolor": "white",
             "minorgridcolor": "white",
             "startlinecolor": "#2a3f5f"
            },
            "baxis": {
             "endlinecolor": "#2a3f5f",
             "gridcolor": "white",
             "linecolor": "white",
             "minorgridcolor": "white",
             "startlinecolor": "#2a3f5f"
            },
            "type": "carpet"
           }
          ],
          "choropleth": [
           {
            "colorbar": {
             "outlinewidth": 0,
             "ticks": ""
            },
            "type": "choropleth"
           }
          ],
          "contour": [
           {
            "colorbar": {
             "outlinewidth": 0,
             "ticks": ""
            },
            "colorscale": [
             [
              0,
              "#0d0887"
             ],
             [
              0.1111111111111111,
              "#46039f"
             ],
             [
              0.2222222222222222,
              "#7201a8"
             ],
             [
              0.3333333333333333,
              "#9c179e"
             ],
             [
              0.4444444444444444,
              "#bd3786"
             ],
             [
              0.5555555555555556,
              "#d8576b"
             ],
             [
              0.6666666666666666,
              "#ed7953"
             ],
             [
              0.7777777777777778,
              "#fb9f3a"
             ],
             [
              0.8888888888888888,
              "#fdca26"
             ],
             [
              1,
              "#f0f921"
             ]
            ],
            "type": "contour"
           }
          ],
          "contourcarpet": [
           {
            "colorbar": {
             "outlinewidth": 0,
             "ticks": ""
            },
            "type": "contourcarpet"
           }
          ],
          "heatmap": [
           {
            "colorbar": {
             "outlinewidth": 0,
             "ticks": ""
            },
            "colorscale": [
             [
              0,
              "#0d0887"
             ],
             [
              0.1111111111111111,
              "#46039f"
             ],
             [
              0.2222222222222222,
              "#7201a8"
             ],
             [
              0.3333333333333333,
              "#9c179e"
             ],
             [
              0.4444444444444444,
              "#bd3786"
             ],
             [
              0.5555555555555556,
              "#d8576b"
             ],
             [
              0.6666666666666666,
              "#ed7953"
             ],
             [
              0.7777777777777778,
              "#fb9f3a"
             ],
             [
              0.8888888888888888,
              "#fdca26"
             ],
             [
              1,
              "#f0f921"
             ]
            ],
            "type": "heatmap"
           }
          ],
          "histogram": [
           {
            "marker": {
             "pattern": {
              "fillmode": "overlay",
              "size": 10,
              "solidity": 0.2
             }
            },
            "type": "histogram"
           }
          ],
          "histogram2d": [
           {
            "colorbar": {
             "outlinewidth": 0,
             "ticks": ""
            },
            "colorscale": [
             [
              0,
              "#0d0887"
             ],
             [
              0.1111111111111111,
              "#46039f"
             ],
             [
              0.2222222222222222,
              "#7201a8"
             ],
             [
              0.3333333333333333,
              "#9c179e"
             ],
             [
              0.4444444444444444,
              "#bd3786"
             ],
             [
              0.5555555555555556,
              "#d8576b"
             ],
             [
              0.6666666666666666,
              "#ed7953"
             ],
             [
              0.7777777777777778,
              "#fb9f3a"
             ],
             [
              0.8888888888888888,
              "#fdca26"
             ],
             [
              1,
              "#f0f921"
             ]
            ],
            "type": "histogram2d"
           }
          ],
          "histogram2dcontour": [
           {
            "colorbar": {
             "outlinewidth": 0,
             "ticks": ""
            },
            "colorscale": [
             [
              0,
              "#0d0887"
             ],
             [
              0.1111111111111111,
              "#46039f"
             ],
             [
              0.2222222222222222,
              "#7201a8"
             ],
             [
              0.3333333333333333,
              "#9c179e"
             ],
             [
              0.4444444444444444,
              "#bd3786"
             ],
             [
              0.5555555555555556,
              "#d8576b"
             ],
             [
              0.6666666666666666,
              "#ed7953"
             ],
             [
              0.7777777777777778,
              "#fb9f3a"
             ],
             [
              0.8888888888888888,
              "#fdca26"
             ],
             [
              1,
              "#f0f921"
             ]
            ],
            "type": "histogram2dcontour"
           }
          ],
          "mesh3d": [
           {
            "colorbar": {
             "outlinewidth": 0,
             "ticks": ""
            },
            "type": "mesh3d"
           }
          ],
          "parcoords": [
           {
            "line": {
             "colorbar": {
              "outlinewidth": 0,
              "ticks": ""
             }
            },
            "type": "parcoords"
           }
          ],
          "pie": [
           {
            "automargin": true,
            "type": "pie"
           }
          ],
          "scatter": [
           {
            "fillpattern": {
             "fillmode": "overlay",
             "size": 10,
             "solidity": 0.2
            },
            "type": "scatter"
           }
          ],
          "scatter3d": [
           {
            "line": {
             "colorbar": {
              "outlinewidth": 0,
              "ticks": ""
             }
            },
            "marker": {
             "colorbar": {
              "outlinewidth": 0,
              "ticks": ""
             }
            },
            "type": "scatter3d"
           }
          ],
          "scattercarpet": [
           {
            "marker": {
             "colorbar": {
              "outlinewidth": 0,
              "ticks": ""
             }
            },
            "type": "scattercarpet"
           }
          ],
          "scattergeo": [
           {
            "marker": {
             "colorbar": {
              "outlinewidth": 0,
              "ticks": ""
             }
            },
            "type": "scattergeo"
           }
          ],
          "scattergl": [
           {
            "marker": {
             "colorbar": {
              "outlinewidth": 0,
              "ticks": ""
             }
            },
            "type": "scattergl"
           }
          ],
          "scattermap": [
           {
            "marker": {
             "colorbar": {
              "outlinewidth": 0,
              "ticks": ""
             }
            },
            "type": "scattermap"
           }
          ],
          "scattermapbox": [
           {
            "marker": {
             "colorbar": {
              "outlinewidth": 0,
              "ticks": ""
             }
            },
            "type": "scattermapbox"
           }
          ],
          "scatterpolar": [
           {
            "marker": {
             "colorbar": {
              "outlinewidth": 0,
              "ticks": ""
             }
            },
            "type": "scatterpolar"
           }
          ],
          "scatterpolargl": [
           {
            "marker": {
             "colorbar": {
              "outlinewidth": 0,
              "ticks": ""
             }
            },
            "type": "scatterpolargl"
           }
          ],
          "scatterternary": [
           {
            "marker": {
             "colorbar": {
              "outlinewidth": 0,
              "ticks": ""
             }
            },
            "type": "scatterternary"
           }
          ],
          "surface": [
           {
            "colorbar": {
             "outlinewidth": 0,
             "ticks": ""
            },
            "colorscale": [
             [
              0,
              "#0d0887"
             ],
             [
              0.1111111111111111,
              "#46039f"
             ],
             [
              0.2222222222222222,
              "#7201a8"
             ],
             [
              0.3333333333333333,
              "#9c179e"
             ],
             [
              0.4444444444444444,
              "#bd3786"
             ],
             [
              0.5555555555555556,
              "#d8576b"
             ],
             [
              0.6666666666666666,
              "#ed7953"
             ],
             [
              0.7777777777777778,
              "#fb9f3a"
             ],
             [
              0.8888888888888888,
              "#fdca26"
             ],
             [
              1,
              "#f0f921"
             ]
            ],
            "type": "surface"
           }
          ],
          "table": [
           {
            "cells": {
             "fill": {
              "color": "#EBF0F8"
             },
             "line": {
              "color": "white"
             }
            },
            "header": {
             "fill": {
              "color": "#C8D4E3"
             },
             "line": {
              "color": "white"
             }
            },
            "type": "table"
           }
          ]
         },
         "layout": {
          "annotationdefaults": {
           "arrowcolor": "#2a3f5f",
           "arrowhead": 0,
           "arrowwidth": 1
          },
          "autotypenumbers": "strict",
          "coloraxis": {
           "colorbar": {
            "outlinewidth": 0,
            "ticks": ""
           }
          },
          "colorscale": {
           "diverging": [
            [
             0,
             "#8e0152"
            ],
            [
             0.1,
             "#c51b7d"
            ],
            [
             0.2,
             "#de77ae"
            ],
            [
             0.3,
             "#f1b6da"
            ],
            [
             0.4,
             "#fde0ef"
            ],
            [
             0.5,
             "#f7f7f7"
            ],
            [
             0.6,
             "#e6f5d0"
            ],
            [
             0.7,
             "#b8e186"
            ],
            [
             0.8,
             "#7fbc41"
            ],
            [
             0.9,
             "#4d9221"
            ],
            [
             1,
             "#276419"
            ]
           ],
           "sequential": [
            [
             0,
             "#0d0887"
            ],
            [
             0.1111111111111111,
             "#46039f"
            ],
            [
             0.2222222222222222,
             "#7201a8"
            ],
            [
             0.3333333333333333,
             "#9c179e"
            ],
            [
             0.4444444444444444,
             "#bd3786"
            ],
            [
             0.5555555555555556,
             "#d8576b"
            ],
            [
             0.6666666666666666,
             "#ed7953"
            ],
            [
             0.7777777777777778,
             "#fb9f3a"
            ],
            [
             0.8888888888888888,
             "#fdca26"
            ],
            [
             1,
             "#f0f921"
            ]
           ],
           "sequentialminus": [
            [
             0,
             "#0d0887"
            ],
            [
             0.1111111111111111,
             "#46039f"
            ],
            [
             0.2222222222222222,
             "#7201a8"
            ],
            [
             0.3333333333333333,
             "#9c179e"
            ],
            [
             0.4444444444444444,
             "#bd3786"
            ],
            [
             0.5555555555555556,
             "#d8576b"
            ],
            [
             0.6666666666666666,
             "#ed7953"
            ],
            [
             0.7777777777777778,
             "#fb9f3a"
            ],
            [
             0.8888888888888888,
             "#fdca26"
            ],
            [
             1,
             "#f0f921"
            ]
           ]
          },
          "colorway": [
           "#636efa",
           "#EF553B",
           "#00cc96",
           "#ab63fa",
           "#FFA15A",
           "#19d3f3",
           "#FF6692",
           "#B6E880",
           "#FF97FF",
           "#FECB52"
          ],
          "font": {
           "color": "#2a3f5f"
          },
          "geo": {
           "bgcolor": "white",
           "lakecolor": "white",
           "landcolor": "#E5ECF6",
           "showlakes": true,
           "showland": true,
           "subunitcolor": "white"
          },
          "hoverlabel": {
           "align": "left"
          },
          "hovermode": "closest",
          "mapbox": {
           "style": "light"
          },
          "paper_bgcolor": "white",
          "plot_bgcolor": "#E5ECF6",
          "polar": {
           "angularaxis": {
            "gridcolor": "white",
            "linecolor": "white",
            "ticks": ""
           },
           "bgcolor": "#E5ECF6",
           "radialaxis": {
            "gridcolor": "white",
            "linecolor": "white",
            "ticks": ""
           }
          },
          "scene": {
           "xaxis": {
            "backgroundcolor": "#E5ECF6",
            "gridcolor": "white",
            "gridwidth": 2,
            "linecolor": "white",
            "showbackground": true,
            "ticks": "",
            "zerolinecolor": "white"
           },
           "yaxis": {
            "backgroundcolor": "#E5ECF6",
            "gridcolor": "white",
            "gridwidth": 2,
            "linecolor": "white",
            "showbackground": true,
            "ticks": "",
            "zerolinecolor": "white"
           },
           "zaxis": {
            "backgroundcolor": "#E5ECF6",
            "gridcolor": "white",
            "gridwidth": 2,
            "linecolor": "white",
            "showbackground": true,
            "ticks": "",
            "zerolinecolor": "white"
           }
          },
          "shapedefaults": {
           "line": {
            "color": "#2a3f5f"
           }
          },
          "ternary": {
           "aaxis": {
            "gridcolor": "white",
            "linecolor": "white",
            "ticks": ""
           },
           "baxis": {
            "gridcolor": "white",
            "linecolor": "white",
            "ticks": ""
           },
           "bgcolor": "#E5ECF6",
           "caxis": {
            "gridcolor": "white",
            "linecolor": "white",
            "ticks": ""
           }
          },
          "title": {
           "x": 0.05
          },
          "xaxis": {
           "automargin": true,
           "gridcolor": "white",
           "linecolor": "white",
           "ticks": "",
           "title": {
            "standoff": 15
           },
           "zerolinecolor": "white",
           "zerolinewidth": 2
          },
          "yaxis": {
           "automargin": true,
           "gridcolor": "white",
           "linecolor": "white",
           "ticks": "",
           "title": {
            "standoff": 15
           },
           "zerolinecolor": "white",
           "zerolinewidth": 2
          }
         }
        },
        "title": {
         "x": 0.5
        },
        "width": 1400,
        "xaxis": {
         "anchor": "y",
         "domain": [
          0,
          0.31999999999999995
         ],
         "tickfont": {
          "size": 14
         },
         "title": {
          "font": {
           "size": 14
          },
          "text": "Stock"
         }
        },
        "xaxis2": {
         "anchor": "y2",
         "domain": [
          0.33999999999999997,
          0.6599999999999999
         ],
         "matches": "x",
         "tickfont": {
          "size": 14
         },
         "title": {
          "font": {
           "size": 14
          },
          "text": "Stock"
         }
        },
        "xaxis3": {
         "anchor": "y3",
         "domain": [
          0.6799999999999999,
          0.9999999999999999
         ],
         "matches": "x",
         "tickfont": {
          "size": 14
         },
         "title": {
          "font": {
           "size": 14
          },
          "text": "Stock"
         }
        },
        "yaxis": {
         "anchor": "x",
         "domain": [
          0,
          1
         ],
         "tickfont": {
          "size": 14
         },
         "title": {
          "font": {
           "size": 14
          },
          "text": "RMSE"
         }
        },
        "yaxis2": {
         "anchor": "x2",
         "domain": [
          0,
          1
         ],
         "matches": "y",
         "showticklabels": false,
         "tickfont": {
          "size": 14
         },
         "title": {
          "font": {
           "size": 14
          }
         }
        },
        "yaxis3": {
         "anchor": "x3",
         "domain": [
          0,
          1
         ],
         "matches": "y",
         "showticklabels": false,
         "tickfont": {
          "size": 14
         },
         "title": {
          "font": {
           "size": 14
          }
         }
        }
       }
      }
     },
     "metadata": {},
     "output_type": "display_data"
    }
   ],
   "source": [
    "# Grafico sem o modelo 4\n",
    "fig = plot_rmse_facet_plotly(resultados_concatenados[resultados_concatenados['Model'] != 'model_4'])\n",
    "fig.show()"
   ]
  },
  {
   "cell_type": "code",
   "execution_count": 7,
   "metadata": {},
   "outputs": [
    {
     "data": {
      "application/vnd.plotly.v1+json": {
       "config": {
        "plotlyServerURL": "https://plot.ly"
       },
       "data": [
        {
         "hovertemplate": "Model=model_1<br>Description=%{x}<br>RMSE=%{y}<extra></extra>",
         "legendgroup": "model_1",
         "line": {
          "color": "#636efa",
          "dash": "solid"
         },
         "marker": {
          "symbol": "circle"
         },
         "mode": "lines+markers",
         "name": "model_1",
         "orientation": "v",
         "showlegend": true,
         "type": "scatter",
         "x": [
          "Stock Data",
          "Stock Data + Google News",
          "Stock Data + Twitter",
          "Stock Data + IT (IFR + MMS + MME)",
          "Google News + Twitter + IFR + MMS",
          "Google News + Twitter + IFR + MME",
          "Google News + Twitter + IFR + MME + MMS"
         ],
         "xaxis": "x",
         "y": {
          "bdata": "tQRDxpcOkj+az2RwIZWSP7mjB0uKPpI/+V4wGkVOkj/Sn3TcMNCSP4MpJ7Jj0ZI/AazNjOjpkz8=",
          "dtype": "f8"
         },
         "yaxis": "y"
        },
        {
         "hovertemplate": "Model=model_2<br>Description=%{x}<br>RMSE=%{y}<extra></extra>",
         "legendgroup": "model_2",
         "line": {
          "color": "#EF553B",
          "dash": "solid"
         },
         "marker": {
          "symbol": "circle"
         },
         "mode": "lines+markers",
         "name": "model_2",
         "orientation": "v",
         "showlegend": true,
         "type": "scatter",
         "x": [
          "Stock Data",
          "Stock Data + Google News",
          "Stock Data + Twitter",
          "Stock Data + IT (IFR + MMS + MME)",
          "Google News + Twitter + IFR + MMS",
          "Google News + Twitter + IFR + MME",
          "Google News + Twitter + IFR + MME + MMS"
         ],
         "xaxis": "x",
         "y": {
          "bdata": "KIt0dkITkj9VA80BWTGSPzyyTys005E/CrzgMFxtkT899J/NDZqRP6LGGngUj5E/T7j5l4X7kT8=",
          "dtype": "f8"
         },
         "yaxis": "y"
        },
        {
         "hovertemplate": "Model=model_3<br>Description=%{x}<br>RMSE=%{y}<extra></extra>",
         "legendgroup": "model_3",
         "line": {
          "color": "#00cc96",
          "dash": "solid"
         },
         "marker": {
          "symbol": "circle"
         },
         "mode": "lines+markers",
         "name": "model_3",
         "orientation": "v",
         "showlegend": true,
         "type": "scatter",
         "x": [
          "Stock Data",
          "Stock Data + Google News",
          "Stock Data + Twitter",
          "Stock Data + IT (IFR + MMS + MME)",
          "Google News + Twitter + IFR + MMS",
          "Google News + Twitter + IFR + MME",
          "Google News + Twitter + IFR + MME + MMS"
         ],
         "xaxis": "x",
         "y": {
          "bdata": "GLoMH0b/kD9w5MJ1tciSP9i5CkSVV5I/luUtgATokT9Rh9rvwIeSPzoJeR/T5JE/vJJH5QXlkT8=",
          "dtype": "f8"
         },
         "yaxis": "y"
        },
        {
         "hovertemplate": "Model=model_4<br>Description=%{x}<br>RMSE=%{y}<extra></extra>",
         "legendgroup": "model_4",
         "line": {
          "color": "#ab63fa",
          "dash": "solid"
         },
         "marker": {
          "symbol": "circle"
         },
         "mode": "lines+markers",
         "name": "model_4",
         "orientation": "v",
         "showlegend": true,
         "type": "scatter",
         "x": [
          "Stock Data",
          "Stock Data + Google News",
          "Stock Data + Twitter",
          "Stock Data + IT (IFR + MMS + MME)",
          "Google News + Twitter + IFR + MMS",
          "Google News + Twitter + IFR + MME",
          "Google News + Twitter + IFR + MME + MMS"
         ],
         "xaxis": "x",
         "y": {
          "bdata": "r15Yt5/akD/0jY5AtUGjP0wzUWTz45A/g6rHVZT2sz/y7jaD8QCzP1bviaehYq4/xGKmanf5rD8=",
          "dtype": "f8"
         },
         "yaxis": "y"
        }
       ],
       "layout": {
        "font": {
         "size": 10
        },
        "height": 500,
        "legend": {
         "title": {
          "text": "Model"
         },
         "tracegroupgap": 0
        },
        "margin": {
         "b": 20,
         "l": 20,
         "r": 20,
         "t": 40
        },
        "template": {
         "data": {
          "bar": [
           {
            "error_x": {
             "color": "#2a3f5f"
            },
            "error_y": {
             "color": "#2a3f5f"
            },
            "marker": {
             "line": {
              "color": "#E5ECF6",
              "width": 0.5
             },
             "pattern": {
              "fillmode": "overlay",
              "size": 10,
              "solidity": 0.2
             }
            },
            "type": "bar"
           }
          ],
          "barpolar": [
           {
            "marker": {
             "line": {
              "color": "#E5ECF6",
              "width": 0.5
             },
             "pattern": {
              "fillmode": "overlay",
              "size": 10,
              "solidity": 0.2
             }
            },
            "type": "barpolar"
           }
          ],
          "carpet": [
           {
            "aaxis": {
             "endlinecolor": "#2a3f5f",
             "gridcolor": "white",
             "linecolor": "white",
             "minorgridcolor": "white",
             "startlinecolor": "#2a3f5f"
            },
            "baxis": {
             "endlinecolor": "#2a3f5f",
             "gridcolor": "white",
             "linecolor": "white",
             "minorgridcolor": "white",
             "startlinecolor": "#2a3f5f"
            },
            "type": "carpet"
           }
          ],
          "choropleth": [
           {
            "colorbar": {
             "outlinewidth": 0,
             "ticks": ""
            },
            "type": "choropleth"
           }
          ],
          "contour": [
           {
            "colorbar": {
             "outlinewidth": 0,
             "ticks": ""
            },
            "colorscale": [
             [
              0,
              "#0d0887"
             ],
             [
              0.1111111111111111,
              "#46039f"
             ],
             [
              0.2222222222222222,
              "#7201a8"
             ],
             [
              0.3333333333333333,
              "#9c179e"
             ],
             [
              0.4444444444444444,
              "#bd3786"
             ],
             [
              0.5555555555555556,
              "#d8576b"
             ],
             [
              0.6666666666666666,
              "#ed7953"
             ],
             [
              0.7777777777777778,
              "#fb9f3a"
             ],
             [
              0.8888888888888888,
              "#fdca26"
             ],
             [
              1,
              "#f0f921"
             ]
            ],
            "type": "contour"
           }
          ],
          "contourcarpet": [
           {
            "colorbar": {
             "outlinewidth": 0,
             "ticks": ""
            },
            "type": "contourcarpet"
           }
          ],
          "heatmap": [
           {
            "colorbar": {
             "outlinewidth": 0,
             "ticks": ""
            },
            "colorscale": [
             [
              0,
              "#0d0887"
             ],
             [
              0.1111111111111111,
              "#46039f"
             ],
             [
              0.2222222222222222,
              "#7201a8"
             ],
             [
              0.3333333333333333,
              "#9c179e"
             ],
             [
              0.4444444444444444,
              "#bd3786"
             ],
             [
              0.5555555555555556,
              "#d8576b"
             ],
             [
              0.6666666666666666,
              "#ed7953"
             ],
             [
              0.7777777777777778,
              "#fb9f3a"
             ],
             [
              0.8888888888888888,
              "#fdca26"
             ],
             [
              1,
              "#f0f921"
             ]
            ],
            "type": "heatmap"
           }
          ],
          "histogram": [
           {
            "marker": {
             "pattern": {
              "fillmode": "overlay",
              "size": 10,
              "solidity": 0.2
             }
            },
            "type": "histogram"
           }
          ],
          "histogram2d": [
           {
            "colorbar": {
             "outlinewidth": 0,
             "ticks": ""
            },
            "colorscale": [
             [
              0,
              "#0d0887"
             ],
             [
              0.1111111111111111,
              "#46039f"
             ],
             [
              0.2222222222222222,
              "#7201a8"
             ],
             [
              0.3333333333333333,
              "#9c179e"
             ],
             [
              0.4444444444444444,
              "#bd3786"
             ],
             [
              0.5555555555555556,
              "#d8576b"
             ],
             [
              0.6666666666666666,
              "#ed7953"
             ],
             [
              0.7777777777777778,
              "#fb9f3a"
             ],
             [
              0.8888888888888888,
              "#fdca26"
             ],
             [
              1,
              "#f0f921"
             ]
            ],
            "type": "histogram2d"
           }
          ],
          "histogram2dcontour": [
           {
            "colorbar": {
             "outlinewidth": 0,
             "ticks": ""
            },
            "colorscale": [
             [
              0,
              "#0d0887"
             ],
             [
              0.1111111111111111,
              "#46039f"
             ],
             [
              0.2222222222222222,
              "#7201a8"
             ],
             [
              0.3333333333333333,
              "#9c179e"
             ],
             [
              0.4444444444444444,
              "#bd3786"
             ],
             [
              0.5555555555555556,
              "#d8576b"
             ],
             [
              0.6666666666666666,
              "#ed7953"
             ],
             [
              0.7777777777777778,
              "#fb9f3a"
             ],
             [
              0.8888888888888888,
              "#fdca26"
             ],
             [
              1,
              "#f0f921"
             ]
            ],
            "type": "histogram2dcontour"
           }
          ],
          "mesh3d": [
           {
            "colorbar": {
             "outlinewidth": 0,
             "ticks": ""
            },
            "type": "mesh3d"
           }
          ],
          "parcoords": [
           {
            "line": {
             "colorbar": {
              "outlinewidth": 0,
              "ticks": ""
             }
            },
            "type": "parcoords"
           }
          ],
          "pie": [
           {
            "automargin": true,
            "type": "pie"
           }
          ],
          "scatter": [
           {
            "fillpattern": {
             "fillmode": "overlay",
             "size": 10,
             "solidity": 0.2
            },
            "type": "scatter"
           }
          ],
          "scatter3d": [
           {
            "line": {
             "colorbar": {
              "outlinewidth": 0,
              "ticks": ""
             }
            },
            "marker": {
             "colorbar": {
              "outlinewidth": 0,
              "ticks": ""
             }
            },
            "type": "scatter3d"
           }
          ],
          "scattercarpet": [
           {
            "marker": {
             "colorbar": {
              "outlinewidth": 0,
              "ticks": ""
             }
            },
            "type": "scattercarpet"
           }
          ],
          "scattergeo": [
           {
            "marker": {
             "colorbar": {
              "outlinewidth": 0,
              "ticks": ""
             }
            },
            "type": "scattergeo"
           }
          ],
          "scattergl": [
           {
            "marker": {
             "colorbar": {
              "outlinewidth": 0,
              "ticks": ""
             }
            },
            "type": "scattergl"
           }
          ],
          "scattermap": [
           {
            "marker": {
             "colorbar": {
              "outlinewidth": 0,
              "ticks": ""
             }
            },
            "type": "scattermap"
           }
          ],
          "scattermapbox": [
           {
            "marker": {
             "colorbar": {
              "outlinewidth": 0,
              "ticks": ""
             }
            },
            "type": "scattermapbox"
           }
          ],
          "scatterpolar": [
           {
            "marker": {
             "colorbar": {
              "outlinewidth": 0,
              "ticks": ""
             }
            },
            "type": "scatterpolar"
           }
          ],
          "scatterpolargl": [
           {
            "marker": {
             "colorbar": {
              "outlinewidth": 0,
              "ticks": ""
             }
            },
            "type": "scatterpolargl"
           }
          ],
          "scatterternary": [
           {
            "marker": {
             "colorbar": {
              "outlinewidth": 0,
              "ticks": ""
             }
            },
            "type": "scatterternary"
           }
          ],
          "surface": [
           {
            "colorbar": {
             "outlinewidth": 0,
             "ticks": ""
            },
            "colorscale": [
             [
              0,
              "#0d0887"
             ],
             [
              0.1111111111111111,
              "#46039f"
             ],
             [
              0.2222222222222222,
              "#7201a8"
             ],
             [
              0.3333333333333333,
              "#9c179e"
             ],
             [
              0.4444444444444444,
              "#bd3786"
             ],
             [
              0.5555555555555556,
              "#d8576b"
             ],
             [
              0.6666666666666666,
              "#ed7953"
             ],
             [
              0.7777777777777778,
              "#fb9f3a"
             ],
             [
              0.8888888888888888,
              "#fdca26"
             ],
             [
              1,
              "#f0f921"
             ]
            ],
            "type": "surface"
           }
          ],
          "table": [
           {
            "cells": {
             "fill": {
              "color": "#EBF0F8"
             },
             "line": {
              "color": "white"
             }
            },
            "header": {
             "fill": {
              "color": "#C8D4E3"
             },
             "line": {
              "color": "white"
             }
            },
            "type": "table"
           }
          ]
         },
         "layout": {
          "annotationdefaults": {
           "arrowcolor": "#2a3f5f",
           "arrowhead": 0,
           "arrowwidth": 1
          },
          "autotypenumbers": "strict",
          "coloraxis": {
           "colorbar": {
            "outlinewidth": 0,
            "ticks": ""
           }
          },
          "colorscale": {
           "diverging": [
            [
             0,
             "#8e0152"
            ],
            [
             0.1,
             "#c51b7d"
            ],
            [
             0.2,
             "#de77ae"
            ],
            [
             0.3,
             "#f1b6da"
            ],
            [
             0.4,
             "#fde0ef"
            ],
            [
             0.5,
             "#f7f7f7"
            ],
            [
             0.6,
             "#e6f5d0"
            ],
            [
             0.7,
             "#b8e186"
            ],
            [
             0.8,
             "#7fbc41"
            ],
            [
             0.9,
             "#4d9221"
            ],
            [
             1,
             "#276419"
            ]
           ],
           "sequential": [
            [
             0,
             "#0d0887"
            ],
            [
             0.1111111111111111,
             "#46039f"
            ],
            [
             0.2222222222222222,
             "#7201a8"
            ],
            [
             0.3333333333333333,
             "#9c179e"
            ],
            [
             0.4444444444444444,
             "#bd3786"
            ],
            [
             0.5555555555555556,
             "#d8576b"
            ],
            [
             0.6666666666666666,
             "#ed7953"
            ],
            [
             0.7777777777777778,
             "#fb9f3a"
            ],
            [
             0.8888888888888888,
             "#fdca26"
            ],
            [
             1,
             "#f0f921"
            ]
           ],
           "sequentialminus": [
            [
             0,
             "#0d0887"
            ],
            [
             0.1111111111111111,
             "#46039f"
            ],
            [
             0.2222222222222222,
             "#7201a8"
            ],
            [
             0.3333333333333333,
             "#9c179e"
            ],
            [
             0.4444444444444444,
             "#bd3786"
            ],
            [
             0.5555555555555556,
             "#d8576b"
            ],
            [
             0.6666666666666666,
             "#ed7953"
            ],
            [
             0.7777777777777778,
             "#fb9f3a"
            ],
            [
             0.8888888888888888,
             "#fdca26"
            ],
            [
             1,
             "#f0f921"
            ]
           ]
          },
          "colorway": [
           "#636efa",
           "#EF553B",
           "#00cc96",
           "#ab63fa",
           "#FFA15A",
           "#19d3f3",
           "#FF6692",
           "#B6E880",
           "#FF97FF",
           "#FECB52"
          ],
          "font": {
           "color": "#2a3f5f"
          },
          "geo": {
           "bgcolor": "white",
           "lakecolor": "white",
           "landcolor": "#E5ECF6",
           "showlakes": true,
           "showland": true,
           "subunitcolor": "white"
          },
          "hoverlabel": {
           "align": "left"
          },
          "hovermode": "closest",
          "mapbox": {
           "style": "light"
          },
          "paper_bgcolor": "white",
          "plot_bgcolor": "#E5ECF6",
          "polar": {
           "angularaxis": {
            "gridcolor": "white",
            "linecolor": "white",
            "ticks": ""
           },
           "bgcolor": "#E5ECF6",
           "radialaxis": {
            "gridcolor": "white",
            "linecolor": "white",
            "ticks": ""
           }
          },
          "scene": {
           "xaxis": {
            "backgroundcolor": "#E5ECF6",
            "gridcolor": "white",
            "gridwidth": 2,
            "linecolor": "white",
            "showbackground": true,
            "ticks": "",
            "zerolinecolor": "white"
           },
           "yaxis": {
            "backgroundcolor": "#E5ECF6",
            "gridcolor": "white",
            "gridwidth": 2,
            "linecolor": "white",
            "showbackground": true,
            "ticks": "",
            "zerolinecolor": "white"
           },
           "zaxis": {
            "backgroundcolor": "#E5ECF6",
            "gridcolor": "white",
            "gridwidth": 2,
            "linecolor": "white",
            "showbackground": true,
            "ticks": "",
            "zerolinecolor": "white"
           }
          },
          "shapedefaults": {
           "line": {
            "color": "#2a3f5f"
           }
          },
          "ternary": {
           "aaxis": {
            "gridcolor": "white",
            "linecolor": "white",
            "ticks": ""
           },
           "baxis": {
            "gridcolor": "white",
            "linecolor": "white",
            "ticks": ""
           },
           "bgcolor": "#E5ECF6",
           "caxis": {
            "gridcolor": "white",
            "linecolor": "white",
            "ticks": ""
           }
          },
          "title": {
           "x": 0.05
          },
          "xaxis": {
           "automargin": true,
           "gridcolor": "white",
           "linecolor": "white",
           "ticks": "",
           "title": {
            "standoff": 15
           },
           "zerolinecolor": "white",
           "zerolinewidth": 2
          },
          "yaxis": {
           "automargin": true,
           "gridcolor": "white",
           "linecolor": "white",
           "ticks": "",
           "title": {
            "standoff": 15
           },
           "zerolinecolor": "white",
           "zerolinewidth": 2
          }
         }
        },
        "title": {
         "text": "RMSE por Combinações para PETR4",
         "x": 0.5
        },
        "width": 800,
        "xaxis": {
         "anchor": "y",
         "domain": [
          0,
          1
         ],
         "title": {
          "text": "Description"
         }
        },
        "yaxis": {
         "anchor": "x",
         "domain": [
          0,
          1
         ],
         "title": {
          "text": "RMSE"
         }
        }
       }
      }
     },
     "metadata": {},
     "output_type": "display_data"
    }
   ],
   "source": [
    "# Grafico RMSE por combinação por ação\n",
    "fig_filtered = plot_rmse_line_plotly(resultados_concatenados, stock_name='PETR4')\n",
    "fig_filtered.show()"
   ]
  },
  {
   "cell_type": "code",
   "execution_count": 8,
   "metadata": {},
   "outputs": [
    {
     "data": {
      "application/vnd.plotly.v1+json": {
       "config": {
        "plotlyServerURL": "https://plot.ly"
       },
       "data": [
        {
         "hovertemplate": "Model=model_1<br>Description=%{x}<br>RMSE=%{y}<extra></extra>",
         "legendgroup": "model_1",
         "line": {
          "color": "#636efa",
          "dash": "solid"
         },
         "marker": {
          "symbol": "circle"
         },
         "mode": "lines+markers",
         "name": "model_1",
         "orientation": "v",
         "showlegend": true,
         "type": "scatter",
         "x": [
          "Stock Data",
          "Stock Data + Google News",
          "Stock Data + Twitter",
          "Stock Data + IT (IFR + MMS + MME)",
          "Google News + Twitter + IFR + MMS",
          "Google News + Twitter + IFR + MME",
          "Google News + Twitter + IFR + MME + MMS"
         ],
         "xaxis": "x",
         "y": {
          "bdata": "0tRHR2I5lT82NiX50uqVP6x9n7f9K5Q/qpM3elOrmT9OQh1y9+6vPzSwmdWuCaM/zEbOob1Anz8=",
          "dtype": "f8"
         },
         "yaxis": "y"
        },
        {
         "hovertemplate": "Model=model_2<br>Description=%{x}<br>RMSE=%{y}<extra></extra>",
         "legendgroup": "model_2",
         "line": {
          "color": "#EF553B",
          "dash": "solid"
         },
         "marker": {
          "symbol": "circle"
         },
         "mode": "lines+markers",
         "name": "model_2",
         "orientation": "v",
         "showlegend": true,
         "type": "scatter",
         "x": [
          "Stock Data",
          "Stock Data + Google News",
          "Stock Data + Twitter",
          "Stock Data + IT (IFR + MMS + MME)",
          "Google News + Twitter + IFR + MMS",
          "Google News + Twitter + IFR + MME",
          "Google News + Twitter + IFR + MME + MMS"
         ],
         "xaxis": "x",
         "y": {
          "bdata": "LBJpFzH1kj+hzjyh6NuSP/0dLFHZTZM/9A6vMJpalT/J78OJ9TWWP8UEPqvnaJY/s2lTjNeclz8=",
          "dtype": "f8"
         },
         "yaxis": "y"
        },
        {
         "hovertemplate": "Model=model_3<br>Description=%{x}<br>RMSE=%{y}<extra></extra>",
         "legendgroup": "model_3",
         "line": {
          "color": "#00cc96",
          "dash": "solid"
         },
         "marker": {
          "symbol": "circle"
         },
         "mode": "lines+markers",
         "name": "model_3",
         "orientation": "v",
         "showlegend": true,
         "type": "scatter",
         "x": [
          "Stock Data",
          "Stock Data + Google News",
          "Stock Data + Twitter",
          "Stock Data + IT (IFR + MMS + MME)",
          "Google News + Twitter + IFR + MMS",
          "Google News + Twitter + IFR + MME",
          "Google News + Twitter + IFR + MME + MMS"
         ],
         "xaxis": "x",
         "y": {
          "bdata": "vc/rLCGIkT+FjWckBHihPzn5GVN20ac/j4PXeTb7kj/ZnpqeFWOcPy7dl4O7RJc/Cf8UbqHkoT8=",
          "dtype": "f8"
         },
         "yaxis": "y"
        },
        {
         "hovertemplate": "Model=model_4<br>Description=%{x}<br>RMSE=%{y}<extra></extra>",
         "legendgroup": "model_4",
         "line": {
          "color": "#ab63fa",
          "dash": "solid"
         },
         "marker": {
          "symbol": "circle"
         },
         "mode": "lines+markers",
         "name": "model_4",
         "orientation": "v",
         "showlegend": true,
         "type": "scatter",
         "x": [
          "Stock Data",
          "Stock Data + Google News",
          "Stock Data + Twitter",
          "Stock Data + IT (IFR + MMS + MME)",
          "Google News + Twitter + IFR + MMS",
          "Google News + Twitter + IFR + MME",
          "Google News + Twitter + IFR + MME + MMS"
         ],
         "xaxis": "x",
         "y": {
          "bdata": "4gb55Ctc0T/0wU1JmavSP2gvCqwJhtE/xaBRTb8Syz9ZBMndstfOP7QHuDUuTtA/Av9RpEB60D8=",
          "dtype": "f8"
         },
         "yaxis": "y"
        }
       ],
       "layout": {
        "font": {
         "size": 10
        },
        "height": 500,
        "legend": {
         "title": {
          "text": "Model"
         },
         "tracegroupgap": 0
        },
        "margin": {
         "b": 20,
         "l": 20,
         "r": 20,
         "t": 40
        },
        "template": {
         "data": {
          "bar": [
           {
            "error_x": {
             "color": "#2a3f5f"
            },
            "error_y": {
             "color": "#2a3f5f"
            },
            "marker": {
             "line": {
              "color": "#E5ECF6",
              "width": 0.5
             },
             "pattern": {
              "fillmode": "overlay",
              "size": 10,
              "solidity": 0.2
             }
            },
            "type": "bar"
           }
          ],
          "barpolar": [
           {
            "marker": {
             "line": {
              "color": "#E5ECF6",
              "width": 0.5
             },
             "pattern": {
              "fillmode": "overlay",
              "size": 10,
              "solidity": 0.2
             }
            },
            "type": "barpolar"
           }
          ],
          "carpet": [
           {
            "aaxis": {
             "endlinecolor": "#2a3f5f",
             "gridcolor": "white",
             "linecolor": "white",
             "minorgridcolor": "white",
             "startlinecolor": "#2a3f5f"
            },
            "baxis": {
             "endlinecolor": "#2a3f5f",
             "gridcolor": "white",
             "linecolor": "white",
             "minorgridcolor": "white",
             "startlinecolor": "#2a3f5f"
            },
            "type": "carpet"
           }
          ],
          "choropleth": [
           {
            "colorbar": {
             "outlinewidth": 0,
             "ticks": ""
            },
            "type": "choropleth"
           }
          ],
          "contour": [
           {
            "colorbar": {
             "outlinewidth": 0,
             "ticks": ""
            },
            "colorscale": [
             [
              0,
              "#0d0887"
             ],
             [
              0.1111111111111111,
              "#46039f"
             ],
             [
              0.2222222222222222,
              "#7201a8"
             ],
             [
              0.3333333333333333,
              "#9c179e"
             ],
             [
              0.4444444444444444,
              "#bd3786"
             ],
             [
              0.5555555555555556,
              "#d8576b"
             ],
             [
              0.6666666666666666,
              "#ed7953"
             ],
             [
              0.7777777777777778,
              "#fb9f3a"
             ],
             [
              0.8888888888888888,
              "#fdca26"
             ],
             [
              1,
              "#f0f921"
             ]
            ],
            "type": "contour"
           }
          ],
          "contourcarpet": [
           {
            "colorbar": {
             "outlinewidth": 0,
             "ticks": ""
            },
            "type": "contourcarpet"
           }
          ],
          "heatmap": [
           {
            "colorbar": {
             "outlinewidth": 0,
             "ticks": ""
            },
            "colorscale": [
             [
              0,
              "#0d0887"
             ],
             [
              0.1111111111111111,
              "#46039f"
             ],
             [
              0.2222222222222222,
              "#7201a8"
             ],
             [
              0.3333333333333333,
              "#9c179e"
             ],
             [
              0.4444444444444444,
              "#bd3786"
             ],
             [
              0.5555555555555556,
              "#d8576b"
             ],
             [
              0.6666666666666666,
              "#ed7953"
             ],
             [
              0.7777777777777778,
              "#fb9f3a"
             ],
             [
              0.8888888888888888,
              "#fdca26"
             ],
             [
              1,
              "#f0f921"
             ]
            ],
            "type": "heatmap"
           }
          ],
          "histogram": [
           {
            "marker": {
             "pattern": {
              "fillmode": "overlay",
              "size": 10,
              "solidity": 0.2
             }
            },
            "type": "histogram"
           }
          ],
          "histogram2d": [
           {
            "colorbar": {
             "outlinewidth": 0,
             "ticks": ""
            },
            "colorscale": [
             [
              0,
              "#0d0887"
             ],
             [
              0.1111111111111111,
              "#46039f"
             ],
             [
              0.2222222222222222,
              "#7201a8"
             ],
             [
              0.3333333333333333,
              "#9c179e"
             ],
             [
              0.4444444444444444,
              "#bd3786"
             ],
             [
              0.5555555555555556,
              "#d8576b"
             ],
             [
              0.6666666666666666,
              "#ed7953"
             ],
             [
              0.7777777777777778,
              "#fb9f3a"
             ],
             [
              0.8888888888888888,
              "#fdca26"
             ],
             [
              1,
              "#f0f921"
             ]
            ],
            "type": "histogram2d"
           }
          ],
          "histogram2dcontour": [
           {
            "colorbar": {
             "outlinewidth": 0,
             "ticks": ""
            },
            "colorscale": [
             [
              0,
              "#0d0887"
             ],
             [
              0.1111111111111111,
              "#46039f"
             ],
             [
              0.2222222222222222,
              "#7201a8"
             ],
             [
              0.3333333333333333,
              "#9c179e"
             ],
             [
              0.4444444444444444,
              "#bd3786"
             ],
             [
              0.5555555555555556,
              "#d8576b"
             ],
             [
              0.6666666666666666,
              "#ed7953"
             ],
             [
              0.7777777777777778,
              "#fb9f3a"
             ],
             [
              0.8888888888888888,
              "#fdca26"
             ],
             [
              1,
              "#f0f921"
             ]
            ],
            "type": "histogram2dcontour"
           }
          ],
          "mesh3d": [
           {
            "colorbar": {
             "outlinewidth": 0,
             "ticks": ""
            },
            "type": "mesh3d"
           }
          ],
          "parcoords": [
           {
            "line": {
             "colorbar": {
              "outlinewidth": 0,
              "ticks": ""
             }
            },
            "type": "parcoords"
           }
          ],
          "pie": [
           {
            "automargin": true,
            "type": "pie"
           }
          ],
          "scatter": [
           {
            "fillpattern": {
             "fillmode": "overlay",
             "size": 10,
             "solidity": 0.2
            },
            "type": "scatter"
           }
          ],
          "scatter3d": [
           {
            "line": {
             "colorbar": {
              "outlinewidth": 0,
              "ticks": ""
             }
            },
            "marker": {
             "colorbar": {
              "outlinewidth": 0,
              "ticks": ""
             }
            },
            "type": "scatter3d"
           }
          ],
          "scattercarpet": [
           {
            "marker": {
             "colorbar": {
              "outlinewidth": 0,
              "ticks": ""
             }
            },
            "type": "scattercarpet"
           }
          ],
          "scattergeo": [
           {
            "marker": {
             "colorbar": {
              "outlinewidth": 0,
              "ticks": ""
             }
            },
            "type": "scattergeo"
           }
          ],
          "scattergl": [
           {
            "marker": {
             "colorbar": {
              "outlinewidth": 0,
              "ticks": ""
             }
            },
            "type": "scattergl"
           }
          ],
          "scattermap": [
           {
            "marker": {
             "colorbar": {
              "outlinewidth": 0,
              "ticks": ""
             }
            },
            "type": "scattermap"
           }
          ],
          "scattermapbox": [
           {
            "marker": {
             "colorbar": {
              "outlinewidth": 0,
              "ticks": ""
             }
            },
            "type": "scattermapbox"
           }
          ],
          "scatterpolar": [
           {
            "marker": {
             "colorbar": {
              "outlinewidth": 0,
              "ticks": ""
             }
            },
            "type": "scatterpolar"
           }
          ],
          "scatterpolargl": [
           {
            "marker": {
             "colorbar": {
              "outlinewidth": 0,
              "ticks": ""
             }
            },
            "type": "scatterpolargl"
           }
          ],
          "scatterternary": [
           {
            "marker": {
             "colorbar": {
              "outlinewidth": 0,
              "ticks": ""
             }
            },
            "type": "scatterternary"
           }
          ],
          "surface": [
           {
            "colorbar": {
             "outlinewidth": 0,
             "ticks": ""
            },
            "colorscale": [
             [
              0,
              "#0d0887"
             ],
             [
              0.1111111111111111,
              "#46039f"
             ],
             [
              0.2222222222222222,
              "#7201a8"
             ],
             [
              0.3333333333333333,
              "#9c179e"
             ],
             [
              0.4444444444444444,
              "#bd3786"
             ],
             [
              0.5555555555555556,
              "#d8576b"
             ],
             [
              0.6666666666666666,
              "#ed7953"
             ],
             [
              0.7777777777777778,
              "#fb9f3a"
             ],
             [
              0.8888888888888888,
              "#fdca26"
             ],
             [
              1,
              "#f0f921"
             ]
            ],
            "type": "surface"
           }
          ],
          "table": [
           {
            "cells": {
             "fill": {
              "color": "#EBF0F8"
             },
             "line": {
              "color": "white"
             }
            },
            "header": {
             "fill": {
              "color": "#C8D4E3"
             },
             "line": {
              "color": "white"
             }
            },
            "type": "table"
           }
          ]
         },
         "layout": {
          "annotationdefaults": {
           "arrowcolor": "#2a3f5f",
           "arrowhead": 0,
           "arrowwidth": 1
          },
          "autotypenumbers": "strict",
          "coloraxis": {
           "colorbar": {
            "outlinewidth": 0,
            "ticks": ""
           }
          },
          "colorscale": {
           "diverging": [
            [
             0,
             "#8e0152"
            ],
            [
             0.1,
             "#c51b7d"
            ],
            [
             0.2,
             "#de77ae"
            ],
            [
             0.3,
             "#f1b6da"
            ],
            [
             0.4,
             "#fde0ef"
            ],
            [
             0.5,
             "#f7f7f7"
            ],
            [
             0.6,
             "#e6f5d0"
            ],
            [
             0.7,
             "#b8e186"
            ],
            [
             0.8,
             "#7fbc41"
            ],
            [
             0.9,
             "#4d9221"
            ],
            [
             1,
             "#276419"
            ]
           ],
           "sequential": [
            [
             0,
             "#0d0887"
            ],
            [
             0.1111111111111111,
             "#46039f"
            ],
            [
             0.2222222222222222,
             "#7201a8"
            ],
            [
             0.3333333333333333,
             "#9c179e"
            ],
            [
             0.4444444444444444,
             "#bd3786"
            ],
            [
             0.5555555555555556,
             "#d8576b"
            ],
            [
             0.6666666666666666,
             "#ed7953"
            ],
            [
             0.7777777777777778,
             "#fb9f3a"
            ],
            [
             0.8888888888888888,
             "#fdca26"
            ],
            [
             1,
             "#f0f921"
            ]
           ],
           "sequentialminus": [
            [
             0,
             "#0d0887"
            ],
            [
             0.1111111111111111,
             "#46039f"
            ],
            [
             0.2222222222222222,
             "#7201a8"
            ],
            [
             0.3333333333333333,
             "#9c179e"
            ],
            [
             0.4444444444444444,
             "#bd3786"
            ],
            [
             0.5555555555555556,
             "#d8576b"
            ],
            [
             0.6666666666666666,
             "#ed7953"
            ],
            [
             0.7777777777777778,
             "#fb9f3a"
            ],
            [
             0.8888888888888888,
             "#fdca26"
            ],
            [
             1,
             "#f0f921"
            ]
           ]
          },
          "colorway": [
           "#636efa",
           "#EF553B",
           "#00cc96",
           "#ab63fa",
           "#FFA15A",
           "#19d3f3",
           "#FF6692",
           "#B6E880",
           "#FF97FF",
           "#FECB52"
          ],
          "font": {
           "color": "#2a3f5f"
          },
          "geo": {
           "bgcolor": "white",
           "lakecolor": "white",
           "landcolor": "#E5ECF6",
           "showlakes": true,
           "showland": true,
           "subunitcolor": "white"
          },
          "hoverlabel": {
           "align": "left"
          },
          "hovermode": "closest",
          "mapbox": {
           "style": "light"
          },
          "paper_bgcolor": "white",
          "plot_bgcolor": "#E5ECF6",
          "polar": {
           "angularaxis": {
            "gridcolor": "white",
            "linecolor": "white",
            "ticks": ""
           },
           "bgcolor": "#E5ECF6",
           "radialaxis": {
            "gridcolor": "white",
            "linecolor": "white",
            "ticks": ""
           }
          },
          "scene": {
           "xaxis": {
            "backgroundcolor": "#E5ECF6",
            "gridcolor": "white",
            "gridwidth": 2,
            "linecolor": "white",
            "showbackground": true,
            "ticks": "",
            "zerolinecolor": "white"
           },
           "yaxis": {
            "backgroundcolor": "#E5ECF6",
            "gridcolor": "white",
            "gridwidth": 2,
            "linecolor": "white",
            "showbackground": true,
            "ticks": "",
            "zerolinecolor": "white"
           },
           "zaxis": {
            "backgroundcolor": "#E5ECF6",
            "gridcolor": "white",
            "gridwidth": 2,
            "linecolor": "white",
            "showbackground": true,
            "ticks": "",
            "zerolinecolor": "white"
           }
          },
          "shapedefaults": {
           "line": {
            "color": "#2a3f5f"
           }
          },
          "ternary": {
           "aaxis": {
            "gridcolor": "white",
            "linecolor": "white",
            "ticks": ""
           },
           "baxis": {
            "gridcolor": "white",
            "linecolor": "white",
            "ticks": ""
           },
           "bgcolor": "#E5ECF6",
           "caxis": {
            "gridcolor": "white",
            "linecolor": "white",
            "ticks": ""
           }
          },
          "title": {
           "x": 0.05
          },
          "xaxis": {
           "automargin": true,
           "gridcolor": "white",
           "linecolor": "white",
           "ticks": "",
           "title": {
            "standoff": 15
           },
           "zerolinecolor": "white",
           "zerolinewidth": 2
          },
          "yaxis": {
           "automargin": true,
           "gridcolor": "white",
           "linecolor": "white",
           "ticks": "",
           "title": {
            "standoff": 15
           },
           "zerolinecolor": "white",
           "zerolinewidth": 2
          }
         }
        },
        "title": {
         "text": "RMSE por Combinações para VALE3",
         "x": 0.5
        },
        "width": 800,
        "xaxis": {
         "anchor": "y",
         "domain": [
          0,
          1
         ],
         "title": {
          "text": "Description"
         }
        },
        "yaxis": {
         "anchor": "x",
         "domain": [
          0,
          1
         ],
         "title": {
          "text": "RMSE"
         }
        }
       }
      }
     },
     "metadata": {},
     "output_type": "display_data"
    }
   ],
   "source": [
    "# Grafico RMSE por combinação por ação\n",
    "fig_filtered = plot_rmse_line_plotly(resultados_concatenados, stock_name='VALE3')\n",
    "fig_filtered.show()"
   ]
  },
  {
   "cell_type": "code",
   "execution_count": 9,
   "metadata": {},
   "outputs": [
    {
     "data": {
      "application/vnd.plotly.v1+json": {
       "config": {
        "plotlyServerURL": "https://plot.ly"
       },
       "data": [
        {
         "hovertemplate": "Model=model_1<br>Description=%{x}<br>RMSE=%{y}<extra></extra>",
         "legendgroup": "model_1",
         "line": {
          "color": "#636efa",
          "dash": "solid"
         },
         "marker": {
          "symbol": "circle"
         },
         "mode": "lines+markers",
         "name": "model_1",
         "orientation": "v",
         "showlegend": true,
         "type": "scatter",
         "x": [
          "Stock Data",
          "Stock Data + Google News",
          "Stock Data + Twitter",
          "Stock Data + IT (IFR + MMS + MME)",
          "Google News + Twitter + IFR + MMS",
          "Google News + Twitter + IFR + MME",
          "Google News + Twitter + IFR + MME + MMS"
         ],
         "xaxis": "x",
         "y": {
          "bdata": "UNWw6+p8lz/DxvFe0o+XP5lFuNRTqZc/M+wsshiXlz/B/0yiVYiYP545jaMj+Zc/TYY8aHAumD8=",
          "dtype": "f8"
         },
         "yaxis": "y"
        },
        {
         "hovertemplate": "Model=model_2<br>Description=%{x}<br>RMSE=%{y}<extra></extra>",
         "legendgroup": "model_2",
         "line": {
          "color": "#EF553B",
          "dash": "solid"
         },
         "marker": {
          "symbol": "circle"
         },
         "mode": "lines+markers",
         "name": "model_2",
         "orientation": "v",
         "showlegend": true,
         "type": "scatter",
         "x": [
          "Stock Data",
          "Stock Data + Google News",
          "Stock Data + Twitter",
          "Stock Data + IT (IFR + MMS + MME)",
          "Google News + Twitter + IFR + MMS",
          "Google News + Twitter + IFR + MME",
          "Google News + Twitter + IFR + MME + MMS"
         ],
         "xaxis": "x",
         "y": {
          "bdata": "g/FA9gGolj85AOGH1w2XP4CQzS1DBZc/9HNz8NgClz8rkq3J7gKXP78xx3Vlapc/212YS/CymT8=",
          "dtype": "f8"
         },
         "yaxis": "y"
        },
        {
         "hovertemplate": "Model=model_3<br>Description=%{x}<br>RMSE=%{y}<extra></extra>",
         "legendgroup": "model_3",
         "line": {
          "color": "#00cc96",
          "dash": "solid"
         },
         "marker": {
          "symbol": "circle"
         },
         "mode": "lines+markers",
         "name": "model_3",
         "orientation": "v",
         "showlegend": true,
         "type": "scatter",
         "x": [
          "Stock Data",
          "Stock Data + Google News",
          "Stock Data + Twitter",
          "Stock Data + IT (IFR + MMS + MME)",
          "Google News + Twitter + IFR + MMS",
          "Google News + Twitter + IFR + MME",
          "Google News + Twitter + IFR + MME + MMS"
         ],
         "xaxis": "x",
         "y": {
          "bdata": "Rw+GtiHTlj9MU8L1OZaXP5eeyhRCApc/1hf6Hgv2lj9OlJQTf+iWP6JHDemeWJc/zlzAsZv8mD8=",
          "dtype": "f8"
         },
         "yaxis": "y"
        },
        {
         "hovertemplate": "Model=model_4<br>Description=%{x}<br>RMSE=%{y}<extra></extra>",
         "legendgroup": "model_4",
         "line": {
          "color": "#ab63fa",
          "dash": "solid"
         },
         "marker": {
          "symbol": "circle"
         },
         "mode": "lines+markers",
         "name": "model_4",
         "orientation": "v",
         "showlegend": true,
         "type": "scatter",
         "x": [
          "Stock Data",
          "Stock Data + Google News",
          "Stock Data + Twitter",
          "Stock Data + IT (IFR + MMS + MME)",
          "Google News + Twitter + IFR + MMS",
          "Google News + Twitter + IFR + MME",
          "Google News + Twitter + IFR + MME + MMS"
         ],
         "xaxis": "x",
         "y": {
          "bdata": "TJd5H8yDlj+BO2yui4qWP0C4/Gkm8aY/NZtbSImAxD9Wt21rbyrHP6W3IPjXIM8/G4CbbBe5xj8=",
          "dtype": "f8"
         },
         "yaxis": "y"
        }
       ],
       "layout": {
        "font": {
         "size": 10
        },
        "height": 500,
        "legend": {
         "title": {
          "text": "Model"
         },
         "tracegroupgap": 0
        },
        "margin": {
         "b": 20,
         "l": 20,
         "r": 20,
         "t": 40
        },
        "template": {
         "data": {
          "bar": [
           {
            "error_x": {
             "color": "#2a3f5f"
            },
            "error_y": {
             "color": "#2a3f5f"
            },
            "marker": {
             "line": {
              "color": "#E5ECF6",
              "width": 0.5
             },
             "pattern": {
              "fillmode": "overlay",
              "size": 10,
              "solidity": 0.2
             }
            },
            "type": "bar"
           }
          ],
          "barpolar": [
           {
            "marker": {
             "line": {
              "color": "#E5ECF6",
              "width": 0.5
             },
             "pattern": {
              "fillmode": "overlay",
              "size": 10,
              "solidity": 0.2
             }
            },
            "type": "barpolar"
           }
          ],
          "carpet": [
           {
            "aaxis": {
             "endlinecolor": "#2a3f5f",
             "gridcolor": "white",
             "linecolor": "white",
             "minorgridcolor": "white",
             "startlinecolor": "#2a3f5f"
            },
            "baxis": {
             "endlinecolor": "#2a3f5f",
             "gridcolor": "white",
             "linecolor": "white",
             "minorgridcolor": "white",
             "startlinecolor": "#2a3f5f"
            },
            "type": "carpet"
           }
          ],
          "choropleth": [
           {
            "colorbar": {
             "outlinewidth": 0,
             "ticks": ""
            },
            "type": "choropleth"
           }
          ],
          "contour": [
           {
            "colorbar": {
             "outlinewidth": 0,
             "ticks": ""
            },
            "colorscale": [
             [
              0,
              "#0d0887"
             ],
             [
              0.1111111111111111,
              "#46039f"
             ],
             [
              0.2222222222222222,
              "#7201a8"
             ],
             [
              0.3333333333333333,
              "#9c179e"
             ],
             [
              0.4444444444444444,
              "#bd3786"
             ],
             [
              0.5555555555555556,
              "#d8576b"
             ],
             [
              0.6666666666666666,
              "#ed7953"
             ],
             [
              0.7777777777777778,
              "#fb9f3a"
             ],
             [
              0.8888888888888888,
              "#fdca26"
             ],
             [
              1,
              "#f0f921"
             ]
            ],
            "type": "contour"
           }
          ],
          "contourcarpet": [
           {
            "colorbar": {
             "outlinewidth": 0,
             "ticks": ""
            },
            "type": "contourcarpet"
           }
          ],
          "heatmap": [
           {
            "colorbar": {
             "outlinewidth": 0,
             "ticks": ""
            },
            "colorscale": [
             [
              0,
              "#0d0887"
             ],
             [
              0.1111111111111111,
              "#46039f"
             ],
             [
              0.2222222222222222,
              "#7201a8"
             ],
             [
              0.3333333333333333,
              "#9c179e"
             ],
             [
              0.4444444444444444,
              "#bd3786"
             ],
             [
              0.5555555555555556,
              "#d8576b"
             ],
             [
              0.6666666666666666,
              "#ed7953"
             ],
             [
              0.7777777777777778,
              "#fb9f3a"
             ],
             [
              0.8888888888888888,
              "#fdca26"
             ],
             [
              1,
              "#f0f921"
             ]
            ],
            "type": "heatmap"
           }
          ],
          "histogram": [
           {
            "marker": {
             "pattern": {
              "fillmode": "overlay",
              "size": 10,
              "solidity": 0.2
             }
            },
            "type": "histogram"
           }
          ],
          "histogram2d": [
           {
            "colorbar": {
             "outlinewidth": 0,
             "ticks": ""
            },
            "colorscale": [
             [
              0,
              "#0d0887"
             ],
             [
              0.1111111111111111,
              "#46039f"
             ],
             [
              0.2222222222222222,
              "#7201a8"
             ],
             [
              0.3333333333333333,
              "#9c179e"
             ],
             [
              0.4444444444444444,
              "#bd3786"
             ],
             [
              0.5555555555555556,
              "#d8576b"
             ],
             [
              0.6666666666666666,
              "#ed7953"
             ],
             [
              0.7777777777777778,
              "#fb9f3a"
             ],
             [
              0.8888888888888888,
              "#fdca26"
             ],
             [
              1,
              "#f0f921"
             ]
            ],
            "type": "histogram2d"
           }
          ],
          "histogram2dcontour": [
           {
            "colorbar": {
             "outlinewidth": 0,
             "ticks": ""
            },
            "colorscale": [
             [
              0,
              "#0d0887"
             ],
             [
              0.1111111111111111,
              "#46039f"
             ],
             [
              0.2222222222222222,
              "#7201a8"
             ],
             [
              0.3333333333333333,
              "#9c179e"
             ],
             [
              0.4444444444444444,
              "#bd3786"
             ],
             [
              0.5555555555555556,
              "#d8576b"
             ],
             [
              0.6666666666666666,
              "#ed7953"
             ],
             [
              0.7777777777777778,
              "#fb9f3a"
             ],
             [
              0.8888888888888888,
              "#fdca26"
             ],
             [
              1,
              "#f0f921"
             ]
            ],
            "type": "histogram2dcontour"
           }
          ],
          "mesh3d": [
           {
            "colorbar": {
             "outlinewidth": 0,
             "ticks": ""
            },
            "type": "mesh3d"
           }
          ],
          "parcoords": [
           {
            "line": {
             "colorbar": {
              "outlinewidth": 0,
              "ticks": ""
             }
            },
            "type": "parcoords"
           }
          ],
          "pie": [
           {
            "automargin": true,
            "type": "pie"
           }
          ],
          "scatter": [
           {
            "fillpattern": {
             "fillmode": "overlay",
             "size": 10,
             "solidity": 0.2
            },
            "type": "scatter"
           }
          ],
          "scatter3d": [
           {
            "line": {
             "colorbar": {
              "outlinewidth": 0,
              "ticks": ""
             }
            },
            "marker": {
             "colorbar": {
              "outlinewidth": 0,
              "ticks": ""
             }
            },
            "type": "scatter3d"
           }
          ],
          "scattercarpet": [
           {
            "marker": {
             "colorbar": {
              "outlinewidth": 0,
              "ticks": ""
             }
            },
            "type": "scattercarpet"
           }
          ],
          "scattergeo": [
           {
            "marker": {
             "colorbar": {
              "outlinewidth": 0,
              "ticks": ""
             }
            },
            "type": "scattergeo"
           }
          ],
          "scattergl": [
           {
            "marker": {
             "colorbar": {
              "outlinewidth": 0,
              "ticks": ""
             }
            },
            "type": "scattergl"
           }
          ],
          "scattermap": [
           {
            "marker": {
             "colorbar": {
              "outlinewidth": 0,
              "ticks": ""
             }
            },
            "type": "scattermap"
           }
          ],
          "scattermapbox": [
           {
            "marker": {
             "colorbar": {
              "outlinewidth": 0,
              "ticks": ""
             }
            },
            "type": "scattermapbox"
           }
          ],
          "scatterpolar": [
           {
            "marker": {
             "colorbar": {
              "outlinewidth": 0,
              "ticks": ""
             }
            },
            "type": "scatterpolar"
           }
          ],
          "scatterpolargl": [
           {
            "marker": {
             "colorbar": {
              "outlinewidth": 0,
              "ticks": ""
             }
            },
            "type": "scatterpolargl"
           }
          ],
          "scatterternary": [
           {
            "marker": {
             "colorbar": {
              "outlinewidth": 0,
              "ticks": ""
             }
            },
            "type": "scatterternary"
           }
          ],
          "surface": [
           {
            "colorbar": {
             "outlinewidth": 0,
             "ticks": ""
            },
            "colorscale": [
             [
              0,
              "#0d0887"
             ],
             [
              0.1111111111111111,
              "#46039f"
             ],
             [
              0.2222222222222222,
              "#7201a8"
             ],
             [
              0.3333333333333333,
              "#9c179e"
             ],
             [
              0.4444444444444444,
              "#bd3786"
             ],
             [
              0.5555555555555556,
              "#d8576b"
             ],
             [
              0.6666666666666666,
              "#ed7953"
             ],
             [
              0.7777777777777778,
              "#fb9f3a"
             ],
             [
              0.8888888888888888,
              "#fdca26"
             ],
             [
              1,
              "#f0f921"
             ]
            ],
            "type": "surface"
           }
          ],
          "table": [
           {
            "cells": {
             "fill": {
              "color": "#EBF0F8"
             },
             "line": {
              "color": "white"
             }
            },
            "header": {
             "fill": {
              "color": "#C8D4E3"
             },
             "line": {
              "color": "white"
             }
            },
            "type": "table"
           }
          ]
         },
         "layout": {
          "annotationdefaults": {
           "arrowcolor": "#2a3f5f",
           "arrowhead": 0,
           "arrowwidth": 1
          },
          "autotypenumbers": "strict",
          "coloraxis": {
           "colorbar": {
            "outlinewidth": 0,
            "ticks": ""
           }
          },
          "colorscale": {
           "diverging": [
            [
             0,
             "#8e0152"
            ],
            [
             0.1,
             "#c51b7d"
            ],
            [
             0.2,
             "#de77ae"
            ],
            [
             0.3,
             "#f1b6da"
            ],
            [
             0.4,
             "#fde0ef"
            ],
            [
             0.5,
             "#f7f7f7"
            ],
            [
             0.6,
             "#e6f5d0"
            ],
            [
             0.7,
             "#b8e186"
            ],
            [
             0.8,
             "#7fbc41"
            ],
            [
             0.9,
             "#4d9221"
            ],
            [
             1,
             "#276419"
            ]
           ],
           "sequential": [
            [
             0,
             "#0d0887"
            ],
            [
             0.1111111111111111,
             "#46039f"
            ],
            [
             0.2222222222222222,
             "#7201a8"
            ],
            [
             0.3333333333333333,
             "#9c179e"
            ],
            [
             0.4444444444444444,
             "#bd3786"
            ],
            [
             0.5555555555555556,
             "#d8576b"
            ],
            [
             0.6666666666666666,
             "#ed7953"
            ],
            [
             0.7777777777777778,
             "#fb9f3a"
            ],
            [
             0.8888888888888888,
             "#fdca26"
            ],
            [
             1,
             "#f0f921"
            ]
           ],
           "sequentialminus": [
            [
             0,
             "#0d0887"
            ],
            [
             0.1111111111111111,
             "#46039f"
            ],
            [
             0.2222222222222222,
             "#7201a8"
            ],
            [
             0.3333333333333333,
             "#9c179e"
            ],
            [
             0.4444444444444444,
             "#bd3786"
            ],
            [
             0.5555555555555556,
             "#d8576b"
            ],
            [
             0.6666666666666666,
             "#ed7953"
            ],
            [
             0.7777777777777778,
             "#fb9f3a"
            ],
            [
             0.8888888888888888,
             "#fdca26"
            ],
            [
             1,
             "#f0f921"
            ]
           ]
          },
          "colorway": [
           "#636efa",
           "#EF553B",
           "#00cc96",
           "#ab63fa",
           "#FFA15A",
           "#19d3f3",
           "#FF6692",
           "#B6E880",
           "#FF97FF",
           "#FECB52"
          ],
          "font": {
           "color": "#2a3f5f"
          },
          "geo": {
           "bgcolor": "white",
           "lakecolor": "white",
           "landcolor": "#E5ECF6",
           "showlakes": true,
           "showland": true,
           "subunitcolor": "white"
          },
          "hoverlabel": {
           "align": "left"
          },
          "hovermode": "closest",
          "mapbox": {
           "style": "light"
          },
          "paper_bgcolor": "white",
          "plot_bgcolor": "#E5ECF6",
          "polar": {
           "angularaxis": {
            "gridcolor": "white",
            "linecolor": "white",
            "ticks": ""
           },
           "bgcolor": "#E5ECF6",
           "radialaxis": {
            "gridcolor": "white",
            "linecolor": "white",
            "ticks": ""
           }
          },
          "scene": {
           "xaxis": {
            "backgroundcolor": "#E5ECF6",
            "gridcolor": "white",
            "gridwidth": 2,
            "linecolor": "white",
            "showbackground": true,
            "ticks": "",
            "zerolinecolor": "white"
           },
           "yaxis": {
            "backgroundcolor": "#E5ECF6",
            "gridcolor": "white",
            "gridwidth": 2,
            "linecolor": "white",
            "showbackground": true,
            "ticks": "",
            "zerolinecolor": "white"
           },
           "zaxis": {
            "backgroundcolor": "#E5ECF6",
            "gridcolor": "white",
            "gridwidth": 2,
            "linecolor": "white",
            "showbackground": true,
            "ticks": "",
            "zerolinecolor": "white"
           }
          },
          "shapedefaults": {
           "line": {
            "color": "#2a3f5f"
           }
          },
          "ternary": {
           "aaxis": {
            "gridcolor": "white",
            "linecolor": "white",
            "ticks": ""
           },
           "baxis": {
            "gridcolor": "white",
            "linecolor": "white",
            "ticks": ""
           },
           "bgcolor": "#E5ECF6",
           "caxis": {
            "gridcolor": "white",
            "linecolor": "white",
            "ticks": ""
           }
          },
          "title": {
           "x": 0.05
          },
          "xaxis": {
           "automargin": true,
           "gridcolor": "white",
           "linecolor": "white",
           "ticks": "",
           "title": {
            "standoff": 15
           },
           "zerolinecolor": "white",
           "zerolinewidth": 2
          },
          "yaxis": {
           "automargin": true,
           "gridcolor": "white",
           "linecolor": "white",
           "ticks": "",
           "title": {
            "standoff": 15
           },
           "zerolinecolor": "white",
           "zerolinewidth": 2
          }
         }
        },
        "title": {
         "text": "RMSE por Combinações para BBDC4",
         "x": 0.5
        },
        "width": 800,
        "xaxis": {
         "anchor": "y",
         "domain": [
          0,
          1
         ],
         "title": {
          "text": "Description"
         }
        },
        "yaxis": {
         "anchor": "x",
         "domain": [
          0,
          1
         ],
         "title": {
          "text": "RMSE"
         }
        }
       }
      }
     },
     "metadata": {},
     "output_type": "display_data"
    }
   ],
   "source": [
    "# Grafico RMSE por combinação por ação\n",
    "fig_filtered = plot_rmse_line_plotly(resultados_concatenados, stock_name='BBDC4')\n",
    "fig_filtered.show()"
   ]
  },
  {
   "cell_type": "code",
   "execution_count": 10,
   "metadata": {},
   "outputs": [
    {
     "data": {
      "application/vnd.plotly.v1+json": {
       "config": {
        "plotlyServerURL": "https://plot.ly"
       },
       "data": [
        {
         "hovertemplate": "Model=model_1<br>Description=%{x}<br>RMSE=%{y}<extra></extra>",
         "legendgroup": "model_1",
         "line": {
          "color": "#636efa",
          "dash": "solid"
         },
         "marker": {
          "symbol": "circle"
         },
         "mode": "lines+markers",
         "name": "model_1",
         "orientation": "v",
         "showlegend": true,
         "type": "scatter",
         "x": [
          "Stock Data",
          "Stock Data + Google News",
          "Stock Data + Twitter",
          "Stock Data + IT (IFR + MMS + MME)",
          "Google News + Twitter + IFR + MMS",
          "Google News + Twitter + IFR + MME",
          "Google News + Twitter + IFR + MME + MMS"
         ],
         "xaxis": "x",
         "y": {
          "bdata": "RIE8XBJjlD8exHrOSTGVPyJHg2Z1D5U/l96NVernlT8ewRrLKYqXP4xqjPTlLJg/pSS4NHkLmD8=",
          "dtype": "f8"
         },
         "yaxis": "y"
        },
        {
         "hovertemplate": "Model=model_2<br>Description=%{x}<br>RMSE=%{y}<extra></extra>",
         "legendgroup": "model_2",
         "line": {
          "color": "#EF553B",
          "dash": "solid"
         },
         "marker": {
          "symbol": "circle"
         },
         "mode": "lines+markers",
         "name": "model_2",
         "orientation": "v",
         "showlegend": true,
         "type": "scatter",
         "x": [
          "Stock Data",
          "Stock Data + Google News",
          "Stock Data + Twitter",
          "Stock Data + IT (IFR + MMS + MME)",
          "Google News + Twitter + IFR + MMS",
          "Google News + Twitter + IFR + MME",
          "Google News + Twitter + IFR + MME + MMS"
         ],
         "xaxis": "x",
         "y": {
          "bdata": "7ERc8ulklD9ppo7Lk2uUP1A4OkM0epQ/LZ6l4TUflD82fekl4MaUP0NrkcZPs5Q/CgGjn9oJlT8=",
          "dtype": "f8"
         },
         "yaxis": "y"
        },
        {
         "hovertemplate": "Model=model_3<br>Description=%{x}<br>RMSE=%{y}<extra></extra>",
         "legendgroup": "model_3",
         "line": {
          "color": "#00cc96",
          "dash": "solid"
         },
         "marker": {
          "symbol": "circle"
         },
         "mode": "lines+markers",
         "name": "model_3",
         "orientation": "v",
         "showlegend": true,
         "type": "scatter",
         "x": [
          "Stock Data",
          "Stock Data + Google News",
          "Stock Data + Twitter",
          "Stock Data + IT (IFR + MMS + MME)",
          "Google News + Twitter + IFR + MMS",
          "Google News + Twitter + IFR + MME",
          "Google News + Twitter + IFR + MME + MMS"
         ],
         "xaxis": "x",
         "y": {
          "bdata": "toxA9XDnkz89p49SSK+UP/EtpKLQjZQ/c9zrD0l5lD85oNZQqkyUPw6CrSc2xJQ/TXz9tmpdlj8=",
          "dtype": "f8"
         },
         "yaxis": "y"
        },
        {
         "hovertemplate": "Model=model_4<br>Description=%{x}<br>RMSE=%{y}<extra></extra>",
         "legendgroup": "model_4",
         "line": {
          "color": "#ab63fa",
          "dash": "solid"
         },
         "marker": {
          "symbol": "circle"
         },
         "mode": "lines+markers",
         "name": "model_4",
         "orientation": "v",
         "showlegend": true,
         "type": "scatter",
         "x": [
          "Stock Data",
          "Stock Data + Google News",
          "Stock Data + Twitter",
          "Stock Data + IT (IFR + MMS + MME)",
          "Google News + Twitter + IFR + MMS",
          "Google News + Twitter + IFR + MME",
          "Google News + Twitter + IFR + MME + MMS"
         ],
         "xaxis": "x",
         "y": {
          "bdata": "/7sjKQSDkz+h/uJBrdmzP1H4y7FPwJg/wUUGPDXbtj+WxdtcGWqwPzeRw79eEro/u5VitaTTrT8=",
          "dtype": "f8"
         },
         "yaxis": "y"
        }
       ],
       "layout": {
        "font": {
         "size": 10
        },
        "height": 500,
        "legend": {
         "title": {
          "text": "Model"
         },
         "tracegroupgap": 0
        },
        "margin": {
         "b": 20,
         "l": 20,
         "r": 20,
         "t": 40
        },
        "template": {
         "data": {
          "bar": [
           {
            "error_x": {
             "color": "#2a3f5f"
            },
            "error_y": {
             "color": "#2a3f5f"
            },
            "marker": {
             "line": {
              "color": "#E5ECF6",
              "width": 0.5
             },
             "pattern": {
              "fillmode": "overlay",
              "size": 10,
              "solidity": 0.2
             }
            },
            "type": "bar"
           }
          ],
          "barpolar": [
           {
            "marker": {
             "line": {
              "color": "#E5ECF6",
              "width": 0.5
             },
             "pattern": {
              "fillmode": "overlay",
              "size": 10,
              "solidity": 0.2
             }
            },
            "type": "barpolar"
           }
          ],
          "carpet": [
           {
            "aaxis": {
             "endlinecolor": "#2a3f5f",
             "gridcolor": "white",
             "linecolor": "white",
             "minorgridcolor": "white",
             "startlinecolor": "#2a3f5f"
            },
            "baxis": {
             "endlinecolor": "#2a3f5f",
             "gridcolor": "white",
             "linecolor": "white",
             "minorgridcolor": "white",
             "startlinecolor": "#2a3f5f"
            },
            "type": "carpet"
           }
          ],
          "choropleth": [
           {
            "colorbar": {
             "outlinewidth": 0,
             "ticks": ""
            },
            "type": "choropleth"
           }
          ],
          "contour": [
           {
            "colorbar": {
             "outlinewidth": 0,
             "ticks": ""
            },
            "colorscale": [
             [
              0,
              "#0d0887"
             ],
             [
              0.1111111111111111,
              "#46039f"
             ],
             [
              0.2222222222222222,
              "#7201a8"
             ],
             [
              0.3333333333333333,
              "#9c179e"
             ],
             [
              0.4444444444444444,
              "#bd3786"
             ],
             [
              0.5555555555555556,
              "#d8576b"
             ],
             [
              0.6666666666666666,
              "#ed7953"
             ],
             [
              0.7777777777777778,
              "#fb9f3a"
             ],
             [
              0.8888888888888888,
              "#fdca26"
             ],
             [
              1,
              "#f0f921"
             ]
            ],
            "type": "contour"
           }
          ],
          "contourcarpet": [
           {
            "colorbar": {
             "outlinewidth": 0,
             "ticks": ""
            },
            "type": "contourcarpet"
           }
          ],
          "heatmap": [
           {
            "colorbar": {
             "outlinewidth": 0,
             "ticks": ""
            },
            "colorscale": [
             [
              0,
              "#0d0887"
             ],
             [
              0.1111111111111111,
              "#46039f"
             ],
             [
              0.2222222222222222,
              "#7201a8"
             ],
             [
              0.3333333333333333,
              "#9c179e"
             ],
             [
              0.4444444444444444,
              "#bd3786"
             ],
             [
              0.5555555555555556,
              "#d8576b"
             ],
             [
              0.6666666666666666,
              "#ed7953"
             ],
             [
              0.7777777777777778,
              "#fb9f3a"
             ],
             [
              0.8888888888888888,
              "#fdca26"
             ],
             [
              1,
              "#f0f921"
             ]
            ],
            "type": "heatmap"
           }
          ],
          "histogram": [
           {
            "marker": {
             "pattern": {
              "fillmode": "overlay",
              "size": 10,
              "solidity": 0.2
             }
            },
            "type": "histogram"
           }
          ],
          "histogram2d": [
           {
            "colorbar": {
             "outlinewidth": 0,
             "ticks": ""
            },
            "colorscale": [
             [
              0,
              "#0d0887"
             ],
             [
              0.1111111111111111,
              "#46039f"
             ],
             [
              0.2222222222222222,
              "#7201a8"
             ],
             [
              0.3333333333333333,
              "#9c179e"
             ],
             [
              0.4444444444444444,
              "#bd3786"
             ],
             [
              0.5555555555555556,
              "#d8576b"
             ],
             [
              0.6666666666666666,
              "#ed7953"
             ],
             [
              0.7777777777777778,
              "#fb9f3a"
             ],
             [
              0.8888888888888888,
              "#fdca26"
             ],
             [
              1,
              "#f0f921"
             ]
            ],
            "type": "histogram2d"
           }
          ],
          "histogram2dcontour": [
           {
            "colorbar": {
             "outlinewidth": 0,
             "ticks": ""
            },
            "colorscale": [
             [
              0,
              "#0d0887"
             ],
             [
              0.1111111111111111,
              "#46039f"
             ],
             [
              0.2222222222222222,
              "#7201a8"
             ],
             [
              0.3333333333333333,
              "#9c179e"
             ],
             [
              0.4444444444444444,
              "#bd3786"
             ],
             [
              0.5555555555555556,
              "#d8576b"
             ],
             [
              0.6666666666666666,
              "#ed7953"
             ],
             [
              0.7777777777777778,
              "#fb9f3a"
             ],
             [
              0.8888888888888888,
              "#fdca26"
             ],
             [
              1,
              "#f0f921"
             ]
            ],
            "type": "histogram2dcontour"
           }
          ],
          "mesh3d": [
           {
            "colorbar": {
             "outlinewidth": 0,
             "ticks": ""
            },
            "type": "mesh3d"
           }
          ],
          "parcoords": [
           {
            "line": {
             "colorbar": {
              "outlinewidth": 0,
              "ticks": ""
             }
            },
            "type": "parcoords"
           }
          ],
          "pie": [
           {
            "automargin": true,
            "type": "pie"
           }
          ],
          "scatter": [
           {
            "fillpattern": {
             "fillmode": "overlay",
             "size": 10,
             "solidity": 0.2
            },
            "type": "scatter"
           }
          ],
          "scatter3d": [
           {
            "line": {
             "colorbar": {
              "outlinewidth": 0,
              "ticks": ""
             }
            },
            "marker": {
             "colorbar": {
              "outlinewidth": 0,
              "ticks": ""
             }
            },
            "type": "scatter3d"
           }
          ],
          "scattercarpet": [
           {
            "marker": {
             "colorbar": {
              "outlinewidth": 0,
              "ticks": ""
             }
            },
            "type": "scattercarpet"
           }
          ],
          "scattergeo": [
           {
            "marker": {
             "colorbar": {
              "outlinewidth": 0,
              "ticks": ""
             }
            },
            "type": "scattergeo"
           }
          ],
          "scattergl": [
           {
            "marker": {
             "colorbar": {
              "outlinewidth": 0,
              "ticks": ""
             }
            },
            "type": "scattergl"
           }
          ],
          "scattermap": [
           {
            "marker": {
             "colorbar": {
              "outlinewidth": 0,
              "ticks": ""
             }
            },
            "type": "scattermap"
           }
          ],
          "scattermapbox": [
           {
            "marker": {
             "colorbar": {
              "outlinewidth": 0,
              "ticks": ""
             }
            },
            "type": "scattermapbox"
           }
          ],
          "scatterpolar": [
           {
            "marker": {
             "colorbar": {
              "outlinewidth": 0,
              "ticks": ""
             }
            },
            "type": "scatterpolar"
           }
          ],
          "scatterpolargl": [
           {
            "marker": {
             "colorbar": {
              "outlinewidth": 0,
              "ticks": ""
             }
            },
            "type": "scatterpolargl"
           }
          ],
          "scatterternary": [
           {
            "marker": {
             "colorbar": {
              "outlinewidth": 0,
              "ticks": ""
             }
            },
            "type": "scatterternary"
           }
          ],
          "surface": [
           {
            "colorbar": {
             "outlinewidth": 0,
             "ticks": ""
            },
            "colorscale": [
             [
              0,
              "#0d0887"
             ],
             [
              0.1111111111111111,
              "#46039f"
             ],
             [
              0.2222222222222222,
              "#7201a8"
             ],
             [
              0.3333333333333333,
              "#9c179e"
             ],
             [
              0.4444444444444444,
              "#bd3786"
             ],
             [
              0.5555555555555556,
              "#d8576b"
             ],
             [
              0.6666666666666666,
              "#ed7953"
             ],
             [
              0.7777777777777778,
              "#fb9f3a"
             ],
             [
              0.8888888888888888,
              "#fdca26"
             ],
             [
              1,
              "#f0f921"
             ]
            ],
            "type": "surface"
           }
          ],
          "table": [
           {
            "cells": {
             "fill": {
              "color": "#EBF0F8"
             },
             "line": {
              "color": "white"
             }
            },
            "header": {
             "fill": {
              "color": "#C8D4E3"
             },
             "line": {
              "color": "white"
             }
            },
            "type": "table"
           }
          ]
         },
         "layout": {
          "annotationdefaults": {
           "arrowcolor": "#2a3f5f",
           "arrowhead": 0,
           "arrowwidth": 1
          },
          "autotypenumbers": "strict",
          "coloraxis": {
           "colorbar": {
            "outlinewidth": 0,
            "ticks": ""
           }
          },
          "colorscale": {
           "diverging": [
            [
             0,
             "#8e0152"
            ],
            [
             0.1,
             "#c51b7d"
            ],
            [
             0.2,
             "#de77ae"
            ],
            [
             0.3,
             "#f1b6da"
            ],
            [
             0.4,
             "#fde0ef"
            ],
            [
             0.5,
             "#f7f7f7"
            ],
            [
             0.6,
             "#e6f5d0"
            ],
            [
             0.7,
             "#b8e186"
            ],
            [
             0.8,
             "#7fbc41"
            ],
            [
             0.9,
             "#4d9221"
            ],
            [
             1,
             "#276419"
            ]
           ],
           "sequential": [
            [
             0,
             "#0d0887"
            ],
            [
             0.1111111111111111,
             "#46039f"
            ],
            [
             0.2222222222222222,
             "#7201a8"
            ],
            [
             0.3333333333333333,
             "#9c179e"
            ],
            [
             0.4444444444444444,
             "#bd3786"
            ],
            [
             0.5555555555555556,
             "#d8576b"
            ],
            [
             0.6666666666666666,
             "#ed7953"
            ],
            [
             0.7777777777777778,
             "#fb9f3a"
            ],
            [
             0.8888888888888888,
             "#fdca26"
            ],
            [
             1,
             "#f0f921"
            ]
           ],
           "sequentialminus": [
            [
             0,
             "#0d0887"
            ],
            [
             0.1111111111111111,
             "#46039f"
            ],
            [
             0.2222222222222222,
             "#7201a8"
            ],
            [
             0.3333333333333333,
             "#9c179e"
            ],
            [
             0.4444444444444444,
             "#bd3786"
            ],
            [
             0.5555555555555556,
             "#d8576b"
            ],
            [
             0.6666666666666666,
             "#ed7953"
            ],
            [
             0.7777777777777778,
             "#fb9f3a"
            ],
            [
             0.8888888888888888,
             "#fdca26"
            ],
            [
             1,
             "#f0f921"
            ]
           ]
          },
          "colorway": [
           "#636efa",
           "#EF553B",
           "#00cc96",
           "#ab63fa",
           "#FFA15A",
           "#19d3f3",
           "#FF6692",
           "#B6E880",
           "#FF97FF",
           "#FECB52"
          ],
          "font": {
           "color": "#2a3f5f"
          },
          "geo": {
           "bgcolor": "white",
           "lakecolor": "white",
           "landcolor": "#E5ECF6",
           "showlakes": true,
           "showland": true,
           "subunitcolor": "white"
          },
          "hoverlabel": {
           "align": "left"
          },
          "hovermode": "closest",
          "mapbox": {
           "style": "light"
          },
          "paper_bgcolor": "white",
          "plot_bgcolor": "#E5ECF6",
          "polar": {
           "angularaxis": {
            "gridcolor": "white",
            "linecolor": "white",
            "ticks": ""
           },
           "bgcolor": "#E5ECF6",
           "radialaxis": {
            "gridcolor": "white",
            "linecolor": "white",
            "ticks": ""
           }
          },
          "scene": {
           "xaxis": {
            "backgroundcolor": "#E5ECF6",
            "gridcolor": "white",
            "gridwidth": 2,
            "linecolor": "white",
            "showbackground": true,
            "ticks": "",
            "zerolinecolor": "white"
           },
           "yaxis": {
            "backgroundcolor": "#E5ECF6",
            "gridcolor": "white",
            "gridwidth": 2,
            "linecolor": "white",
            "showbackground": true,
            "ticks": "",
            "zerolinecolor": "white"
           },
           "zaxis": {
            "backgroundcolor": "#E5ECF6",
            "gridcolor": "white",
            "gridwidth": 2,
            "linecolor": "white",
            "showbackground": true,
            "ticks": "",
            "zerolinecolor": "white"
           }
          },
          "shapedefaults": {
           "line": {
            "color": "#2a3f5f"
           }
          },
          "ternary": {
           "aaxis": {
            "gridcolor": "white",
            "linecolor": "white",
            "ticks": ""
           },
           "baxis": {
            "gridcolor": "white",
            "linecolor": "white",
            "ticks": ""
           },
           "bgcolor": "#E5ECF6",
           "caxis": {
            "gridcolor": "white",
            "linecolor": "white",
            "ticks": ""
           }
          },
          "title": {
           "x": 0.05
          },
          "xaxis": {
           "automargin": true,
           "gridcolor": "white",
           "linecolor": "white",
           "ticks": "",
           "title": {
            "standoff": 15
           },
           "zerolinecolor": "white",
           "zerolinewidth": 2
          },
          "yaxis": {
           "automargin": true,
           "gridcolor": "white",
           "linecolor": "white",
           "ticks": "",
           "title": {
            "standoff": 15
           },
           "zerolinecolor": "white",
           "zerolinewidth": 2
          }
         }
        },
        "title": {
         "text": "RMSE por Combinações para ITUB4",
         "x": 0.5
        },
        "width": 800,
        "xaxis": {
         "anchor": "y",
         "domain": [
          0,
          1
         ],
         "title": {
          "text": "Description"
         }
        },
        "yaxis": {
         "anchor": "x",
         "domain": [
          0,
          1
         ],
         "title": {
          "text": "RMSE"
         }
        }
       }
      }
     },
     "metadata": {},
     "output_type": "display_data"
    }
   ],
   "source": [
    "# Grafico RMSE por combinação por ação\n",
    "fig_filtered = plot_rmse_line_plotly(resultados_concatenados, stock_name='ITUB4')\n",
    "fig_filtered.show()"
   ]
  },
  {
   "cell_type": "code",
   "execution_count": null,
   "metadata": {},
   "outputs": [],
   "source": []
  }
 ],
 "metadata": {
  "kernelspec": {
   "display_name": "ieee",
   "language": "python",
   "name": "python3"
  },
  "language_info": {
   "codemirror_mode": {
    "name": "ipython",
    "version": 3
   },
   "file_extension": ".py",
   "mimetype": "text/x-python",
   "name": "python",
   "nbconvert_exporter": "python",
   "pygments_lexer": "ipython3",
   "version": "3.9.21"
  }
 },
 "nbformat": 4,
 "nbformat_minor": 2
}
