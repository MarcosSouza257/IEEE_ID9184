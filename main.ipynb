{
 "cells": [
  {
   "cell_type": "code",
   "execution_count": 1,
   "metadata": {},
   "outputs": [],
   "source": [
    "# importações\n",
    "from utils import *\n",
    "from models import *\n",
    "from config import OUTPUT_DIR  # Importa a configuração da pasta de dados"
   ]
  },
  {
   "cell_type": "code",
   "execution_count": 2,
   "metadata": {},
   "outputs": [
    {
     "name": "stdout",
     "output_type": "stream",
     "text": [
      "Carregando dados para: PETR4\n",
      "Carregando dados para: VALE3\n",
      "Carregando dados para: BBDC4\n",
      "Carregando dados para: ITUB4\n"
     ]
    }
   ],
   "source": [
    "# Lista de ações\n",
    "stock_list = ['PETR4', 'VALE3', 'BBDC4','ITUB4']\n",
    "\n",
    "# Carrega os dados de todas as ações e calcula os indicadores e salva em um dicionario\n",
    "all_stock_data = load_stocks_data(stock_list)"
   ]
  },
  {
   "cell_type": "markdown",
   "metadata": {},
   "source": [
    "# 1. Executando os Modelos"
   ]
  },
  {
   "cell_type": "code",
   "execution_count": 3,
   "metadata": {},
   "outputs": [
    {
     "name": "stderr",
     "output_type": "stream",
     "text": [
      "Processando combinações:   0%|          | 0/7 [00:00<?, ?it/s]"
     ]
    },
    {
     "name": "stdout",
     "output_type": "stream",
     "text": [
      "model_1: Processando PETR4 | Combinação 1...\n",
      "Epoch 1/50\n",
      "\u001b[1m90/90\u001b[0m \u001b[32m━━━━━━━━━━━━━━━━━━━━\u001b[0m\u001b[37m\u001b[0m \u001b[1m2s\u001b[0m 5ms/step - loss: 0.0823 - mae: 0.2369 - mape: 5151.2378 - mse: 0.0823 - val_loss: 0.0024 - val_mae: 0.0406 - val_mape: 9.6135 - val_mse: 0.0024\n",
      "Epoch 2/50\n",
      "\u001b[1m90/90\u001b[0m \u001b[32m━━━━━━━━━━━━━━━━━━━━\u001b[0m\u001b[37m\u001b[0m \u001b[1m0s\u001b[0m 2ms/step - loss: 0.0050 - mae: 0.0565 - mape: 13744.1064 - mse: 0.0050 - val_loss: 0.0011 - val_mae: 0.0272 - val_mape: 6.5646 - val_mse: 0.0011\n",
      "Epoch 3/50\n",
      "\u001b[1m90/90\u001b[0m \u001b[32m━━━━━━━━━━━━━━━━━━━━\u001b[0m\u001b[37m\u001b[0m \u001b[1m0s\u001b[0m 3ms/step - loss: 0.0023 - mae: 0.0382 - mape: 3834.8967 - mse: 0.0023 - val_loss: 5.3887e-04 - val_mae: 0.0175 - val_mape: 4.2216 - val_mse: 5.3887e-04\n",
      "Epoch 4/50\n",
      "\u001b[1m90/90\u001b[0m \u001b[32m━━━━━━━━━━━━━━━━━━━━\u001b[0m\u001b[37m\u001b[0m \u001b[1m0s\u001b[0m 2ms/step - loss: 9.0043e-04 - mae: 0.0233 - mape: 587.3638 - mse: 9.0043e-04 - val_loss: 3.7537e-04 - val_mae: 0.0140 - val_mape: 3.2776 - val_mse: 3.7537e-04\n",
      "Epoch 5/50\n",
      "\u001b[1m90/90\u001b[0m \u001b[32m━━━━━━━━━━━━━━━━━━━━\u001b[0m\u001b[37m\u001b[0m \u001b[1m0s\u001b[0m 2ms/step - loss: 3.9141e-04 - mae: 0.0149 - mape: 684.3638 - mse: 3.9141e-04 - val_loss: 3.5760e-04 - val_mae: 0.0136 - val_mape: 3.1603 - val_mse: 3.5760e-04\n",
      "Epoch 6/50\n",
      "\u001b[1m90/90\u001b[0m \u001b[32m━━━━━━━━━━━━━━━━━━━━\u001b[0m\u001b[37m\u001b[0m \u001b[1m0s\u001b[0m 2ms/step - loss: 3.0919e-04 - mae: 0.0130 - mape: 39709.0469 - mse: 3.0919e-04 - val_loss: 3.6754e-04 - val_mae: 0.0139 - val_mape: 3.2344 - val_mse: 3.6754e-04\n",
      "Epoch 7/50\n",
      "\u001b[1m90/90\u001b[0m \u001b[32m━━━━━━━━━━━━━━━━━━━━\u001b[0m\u001b[37m\u001b[0m \u001b[1m0s\u001b[0m 3ms/step - loss: 2.6989e-04 - mae: 0.0121 - mape: 50528.6406 - mse: 2.6989e-04 - val_loss: 3.6147e-04 - val_mae: 0.0136 - val_mape: 3.1902 - val_mse: 3.6147e-04\n",
      "Epoch 8/50\n",
      "\u001b[1m90/90\u001b[0m \u001b[32m━━━━━━━━━━━━━━━━━━━━\u001b[0m\u001b[37m\u001b[0m \u001b[1m0s\u001b[0m 3ms/step - loss: 2.5784e-04 - mae: 0.0118 - mape: 17440.5664 - mse: 2.5784e-04 - val_loss: 3.5221e-04 - val_mae: 0.0133 - val_mape: 3.1184 - val_mse: 3.5221e-04\n",
      "Epoch 9/50\n",
      "\u001b[1m90/90\u001b[0m \u001b[32m━━━━━━━━━━━━━━━━━━━━\u001b[0m\u001b[37m\u001b[0m \u001b[1m0s\u001b[0m 2ms/step - loss: 2.5669e-04 - mae: 0.0118 - mape: 1327.7748 - mse: 2.5669e-04 - val_loss: 3.4922e-04 - val_mae: 0.0132 - val_mape: 3.0964 - val_mse: 3.4922e-04\n",
      "Epoch 10/50\n",
      "\u001b[1m90/90\u001b[0m \u001b[32m━━━━━━━━━━━━━━━━━━━━\u001b[0m\u001b[37m\u001b[0m \u001b[1m0s\u001b[0m 3ms/step - loss: 2.4045e-04 - mae: 0.0114 - mape: 5337.4155 - mse: 2.4045e-04 - val_loss: 3.4711e-04 - val_mae: 0.0131 - val_mape: 3.0827 - val_mse: 3.4711e-04\n",
      "Epoch 11/50\n",
      "\u001b[1m90/90\u001b[0m \u001b[32m━━━━━━━━━━━━━━━━━━━━\u001b[0m\u001b[37m\u001b[0m \u001b[1m0s\u001b[0m 2ms/step - loss: 2.3069e-04 - mae: 0.0112 - mape: 1239.2611 - mse: 2.3069e-04 - val_loss: 3.2752e-04 - val_mae: 0.0123 - val_mape: 2.8917 - val_mse: 3.2752e-04\n",
      "Epoch 12/50\n",
      "\u001b[1m90/90\u001b[0m \u001b[32m━━━━━━━━━━━━━━━━━━━━\u001b[0m\u001b[37m\u001b[0m \u001b[1m0s\u001b[0m 2ms/step - loss: 2.2123e-04 - mae: 0.0109 - mape: 3143.3047 - mse: 2.2123e-04 - val_loss: 3.3894e-04 - val_mae: 0.0129 - val_mape: 3.0228 - val_mse: 3.3894e-04\n",
      "Epoch 13/50\n",
      "\u001b[1m90/90\u001b[0m \u001b[32m━━━━━━━━━━━━━━━━━━━━\u001b[0m\u001b[37m\u001b[0m \u001b[1m0s\u001b[0m 2ms/step - loss: 2.0435e-04 - mae: 0.0105 - mape: 13675.8896 - mse: 2.0435e-04 - val_loss: 3.3618e-04 - val_mae: 0.0128 - val_mape: 3.0033 - val_mse: 3.3618e-04\n",
      "Epoch 14/50\n",
      "\u001b[1m90/90\u001b[0m \u001b[32m━━━━━━━━━━━━━━━━━━━━\u001b[0m\u001b[37m\u001b[0m \u001b[1m0s\u001b[0m 2ms/step - loss: 2.0920e-04 - mae: 0.0104 - mape: 1350.6150 - mse: 2.0920e-04 - val_loss: 3.2505e-04 - val_mae: 0.0123 - val_mape: 2.8903 - val_mse: 3.2505e-04\n",
      "Epoch 15/50\n",
      "\u001b[1m90/90\u001b[0m \u001b[32m━━━━━━━━━━━━━━━━━━━━\u001b[0m\u001b[37m\u001b[0m \u001b[1m0s\u001b[0m 2ms/step - loss: 2.0293e-04 - mae: 0.0101 - mape: 11138.9453 - mse: 2.0293e-04 - val_loss: 3.2808e-04 - val_mae: 0.0125 - val_mape: 2.9378 - val_mse: 3.2808e-04\n",
      "Epoch 16/50\n",
      "\u001b[1m90/90\u001b[0m \u001b[32m━━━━━━━━━━━━━━━━━━━━\u001b[0m\u001b[37m\u001b[0m \u001b[1m0s\u001b[0m 2ms/step - loss: 2.1869e-04 - mae: 0.0105 - mape: 7355.8130 - mse: 2.1869e-04 - val_loss: 3.2357e-04 - val_mae: 0.0122 - val_mape: 2.8864 - val_mse: 3.2357e-04\n",
      "Epoch 17/50\n",
      "\u001b[1m90/90\u001b[0m \u001b[32m━━━━━━━━━━━━━━━━━━━━\u001b[0m\u001b[37m\u001b[0m \u001b[1m0s\u001b[0m 2ms/step - loss: 1.9070e-04 - mae: 0.0099 - mape: 11072.5244 - mse: 1.9070e-04 - val_loss: 3.2023e-04 - val_mae: 0.0121 - val_mape: 2.8511 - val_mse: 3.2023e-04\n",
      "Epoch 18/50\n",
      "\u001b[1m90/90\u001b[0m \u001b[32m━━━━━━━━━━━━━━━━━━━━\u001b[0m\u001b[37m\u001b[0m \u001b[1m0s\u001b[0m 2ms/step - loss: 1.7895e-04 - mae: 0.0095 - mape: 1954.5723 - mse: 1.7895e-04 - val_loss: 3.2400e-04 - val_mae: 0.0123 - val_mape: 2.9113 - val_mse: 3.2400e-04\n",
      "Epoch 19/50\n",
      "\u001b[1m90/90\u001b[0m \u001b[32m━━━━━━━━━━━━━━━━━━━━\u001b[0m\u001b[37m\u001b[0m \u001b[1m0s\u001b[0m 2ms/step - loss: 1.8299e-04 - mae: 0.0097 - mape: 5756.3994 - mse: 1.8299e-04 - val_loss: 3.2181e-04 - val_mae: 0.0122 - val_mape: 2.8872 - val_mse: 3.2181e-04\n",
      "Epoch 20/50\n",
      "\u001b[1m90/90\u001b[0m \u001b[32m━━━━━━━━━━━━━━━━━━━━\u001b[0m\u001b[37m\u001b[0m \u001b[1m0s\u001b[0m 2ms/step - loss: 1.7361e-04 - mae: 0.0094 - mape: 9437.5898 - mse: 1.7361e-04 - val_loss: 3.2624e-04 - val_mae: 0.0120 - val_mape: 2.8285 - val_mse: 3.2624e-04\n",
      "Epoch 21/50\n",
      "\u001b[1m90/90\u001b[0m \u001b[32m━━━━━━━━━━━━━━━━━━━━\u001b[0m\u001b[37m\u001b[0m \u001b[1m0s\u001b[0m 2ms/step - loss: 1.7685e-04 - mae: 0.0094 - mape: 2641.7686 - mse: 1.7685e-04 - val_loss: 3.1737e-04 - val_mae: 0.0119 - val_mape: 2.8072 - val_mse: 3.1737e-04\n",
      "Epoch 22/50\n",
      "\u001b[1m90/90\u001b[0m \u001b[32m━━━━━━━━━━━━━━━━━━━━\u001b[0m\u001b[37m\u001b[0m \u001b[1m0s\u001b[0m 2ms/step - loss: 1.6501e-04 - mae: 0.0091 - mape: 3111.3999 - mse: 1.6501e-04 - val_loss: 3.1645e-04 - val_mae: 0.0118 - val_mape: 2.8061 - val_mse: 3.1645e-04\n",
      "Epoch 23/50\n",
      "\u001b[1m90/90\u001b[0m \u001b[32m━━━━━━━━━━━━━━━━━━━━\u001b[0m\u001b[37m\u001b[0m \u001b[1m0s\u001b[0m 3ms/step - loss: 1.7650e-04 - mae: 0.0094 - mape: 11741.8281 - mse: 1.7650e-04 - val_loss: 3.1571e-04 - val_mae: 0.0118 - val_mape: 2.8008 - val_mse: 3.1571e-04\n",
      "Epoch 24/50\n",
      "\u001b[1m90/90\u001b[0m \u001b[32m━━━━━━━━━━━━━━━━━━━━\u001b[0m\u001b[37m\u001b[0m \u001b[1m0s\u001b[0m 2ms/step - loss: 1.7220e-04 - mae: 0.0092 - mape: 16281.5215 - mse: 1.7220e-04 - val_loss: 3.1943e-04 - val_mae: 0.0118 - val_mape: 2.8068 - val_mse: 3.1943e-04\n",
      "Epoch 25/50\n",
      "\u001b[1m90/90\u001b[0m \u001b[32m━━━━━━━━━━━━━━━━━━━━\u001b[0m\u001b[37m\u001b[0m \u001b[1m0s\u001b[0m 2ms/step - loss: 1.6933e-04 - mae: 0.0091 - mape: 11526.9150 - mse: 1.6933e-04 - val_loss: 3.2748e-04 - val_mae: 0.0120 - val_mape: 2.8387 - val_mse: 3.2748e-04\n",
      "Epoch 26/50\n",
      "\u001b[1m90/90\u001b[0m \u001b[32m━━━━━━━━━━━━━━━━━━━━\u001b[0m\u001b[37m\u001b[0m \u001b[1m0s\u001b[0m 2ms/step - loss: 1.6330e-04 - mae: 0.0091 - mape: 341.1460 - mse: 1.6330e-04 - val_loss: 3.1571e-04 - val_mae: 0.0118 - val_mape: 2.8092 - val_mse: 3.1571e-04\n",
      "Epoch 27/50\n",
      "\u001b[1m90/90\u001b[0m \u001b[32m━━━━━━━━━━━━━━━━━━━━\u001b[0m\u001b[37m\u001b[0m \u001b[1m0s\u001b[0m 2ms/step - loss: 1.6636e-04 - mae: 0.0092 - mape: 647.6951 - mse: 1.6636e-04 - val_loss: 3.2233e-04 - val_mae: 0.0119 - val_mape: 2.8146 - val_mse: 3.2233e-04\n",
      "Epoch 28/50\n",
      "\u001b[1m90/90\u001b[0m \u001b[32m━━━━━━━━━━━━━━━━━━━━\u001b[0m\u001b[37m\u001b[0m \u001b[1m0s\u001b[0m 2ms/step - loss: 1.5734e-04 - mae: 0.0089 - mape: 1391.2623 - mse: 1.5734e-04 - val_loss: 3.1617e-04 - val_mae: 0.0118 - val_mape: 2.7944 - val_mse: 3.1617e-04\n",
      "Epoch 29/50\n",
      "\u001b[1m90/90\u001b[0m \u001b[32m━━━━━━━━━━━━━━━━━━━━\u001b[0m\u001b[37m\u001b[0m \u001b[1m0s\u001b[0m 2ms/step - loss: 1.6659e-04 - mae: 0.0090 - mape: 216.5213 - mse: 1.6659e-04 - val_loss: 3.1095e-04 - val_mae: 0.0117 - val_mape: 2.7668 - val_mse: 3.1095e-04\n",
      "Epoch 30/50\n",
      "\u001b[1m90/90\u001b[0m \u001b[32m━━━━━━━━━━━━━━━━━━━━\u001b[0m\u001b[37m\u001b[0m \u001b[1m0s\u001b[0m 2ms/step - loss: 1.6411e-04 - mae: 0.0090 - mape: 1735.1425 - mse: 1.6411e-04 - val_loss: 3.1917e-04 - val_mae: 0.0118 - val_mape: 2.8043 - val_mse: 3.1917e-04\n",
      "Epoch 31/50\n",
      "\u001b[1m90/90\u001b[0m \u001b[32m━━━━━━━━━━━━━━━━━━━━\u001b[0m\u001b[37m\u001b[0m \u001b[1m0s\u001b[0m 2ms/step - loss: 1.6201e-04 - mae: 0.0089 - mape: 2635.2812 - mse: 1.6201e-04 - val_loss: 3.1359e-04 - val_mae: 0.0119 - val_mape: 2.8122 - val_mse: 3.1359e-04\n",
      "Epoch 32/50\n",
      "\u001b[1m90/90\u001b[0m \u001b[32m━━━━━━━━━━━━━━━━━━━━\u001b[0m\u001b[37m\u001b[0m \u001b[1m0s\u001b[0m 2ms/step - loss: 1.6523e-04 - mae: 0.0090 - mape: 2378.7905 - mse: 1.6523e-04 - val_loss: 3.2392e-04 - val_mae: 0.0124 - val_mape: 2.9288 - val_mse: 3.2392e-04\n",
      "Epoch 33/50\n",
      "\u001b[1m90/90\u001b[0m \u001b[32m━━━━━━━━━━━━━━━━━━━━\u001b[0m\u001b[37m\u001b[0m \u001b[1m0s\u001b[0m 2ms/step - loss: 1.7714e-04 - mae: 0.0093 - mape: 12745.9902 - mse: 1.7714e-04 - val_loss: 3.1284e-04 - val_mae: 0.0117 - val_mape: 2.7882 - val_mse: 3.1284e-04\n",
      "Epoch 34/50\n",
      "\u001b[1m90/90\u001b[0m \u001b[32m━━━━━━━━━━━━━━━━━━━━\u001b[0m\u001b[37m\u001b[0m \u001b[1m0s\u001b[0m 3ms/step - loss: 1.8443e-04 - mae: 0.0095 - mape: 6025.1187 - mse: 1.8443e-04 - val_loss: 3.1295e-04 - val_mae: 0.0118 - val_mape: 2.8001 - val_mse: 3.1295e-04\n",
      "Epoch 35/50\n",
      "\u001b[1m90/90\u001b[0m \u001b[32m━━━━━━━━━━━━━━━━━━━━\u001b[0m\u001b[37m\u001b[0m \u001b[1m0s\u001b[0m 2ms/step - loss: 1.6282e-04 - mae: 0.0091 - mape: 6687.6812 - mse: 1.6282e-04 - val_loss: 3.2320e-04 - val_mae: 0.0119 - val_mape: 2.8180 - val_mse: 3.2320e-04\n",
      "Epoch 36/50\n",
      "\u001b[1m90/90\u001b[0m \u001b[32m━━━━━━━━━━━━━━━━━━━━\u001b[0m\u001b[37m\u001b[0m \u001b[1m0s\u001b[0m 3ms/step - loss: 1.5923e-04 - mae: 0.0088 - mape: 6475.6709 - mse: 1.5923e-04 - val_loss: 3.1272e-04 - val_mae: 0.0117 - val_mape: 2.7795 - val_mse: 3.1272e-04\n",
      "Epoch 37/50\n",
      "\u001b[1m90/90\u001b[0m \u001b[32m━━━━━━━━━━━━━━━━━━━━\u001b[0m\u001b[37m\u001b[0m \u001b[1m0s\u001b[0m 2ms/step - loss: 1.8022e-04 - mae: 0.0094 - mape: 6277.3296 - mse: 1.8022e-04 - val_loss: 3.3427e-04 - val_mae: 0.0122 - val_mape: 2.8744 - val_mse: 3.3427e-04\n",
      "Epoch 38/50\n",
      "\u001b[1m90/90\u001b[0m \u001b[32m━━━━━━━━━━━━━━━━━━━━\u001b[0m\u001b[37m\u001b[0m \u001b[1m0s\u001b[0m 2ms/step - loss: 1.5996e-04 - mae: 0.0088 - mape: 14122.7080 - mse: 1.5996e-04 - val_loss: 3.1553e-04 - val_mae: 0.0117 - val_mape: 2.7848 - val_mse: 3.1553e-04\n",
      "Epoch 39/50\n",
      "\u001b[1m90/90\u001b[0m \u001b[32m━━━━━━━━━━━━━━━━━━━━\u001b[0m\u001b[37m\u001b[0m \u001b[1m0s\u001b[0m 2ms/step - loss: 1.6348e-04 - mae: 0.0087 - mape: 1010.2687 - mse: 1.6348e-04 - val_loss: 3.1639e-04 - val_mae: 0.0118 - val_mape: 2.7940 - val_mse: 3.1639e-04\n"
     ]
    },
    {
     "name": "stderr",
     "output_type": "stream",
     "text": [
      "WARNING:absl:You are saving your model as an HDF5 file via `model.save()` or `keras.saving.save_model(model)`. This file format is considered legacy. We recommend using instead the native Keras format, e.g. `model.save('my_model.keras')` or `keras.saving.save_model(model, 'my_model.keras')`. \n"
     ]
    },
    {
     "name": "stdout",
     "output_type": "stream",
     "text": [
      "\u001b[1m23/23\u001b[0m \u001b[32m━━━━━━━━━━━━━━━━━━━━\u001b[0m\u001b[37m\u001b[0m \u001b[1m0s\u001b[0m 5ms/step\n",
      "model_1: Processando VALE3 | Combinação 1...\n",
      "Epoch 1/50\n",
      "\u001b[1m90/90\u001b[0m \u001b[32m━━━━━━━━━━━━━━━━━━━━\u001b[0m\u001b[37m\u001b[0m \u001b[1m2s\u001b[0m 4ms/step - loss: 0.1772 - mae: 0.3671 - mape: 2052.5942 - mse: 0.1772 - val_loss: 0.1450 - val_mae: 0.3387 - val_mape: 29.6848 - val_mse: 0.1450\n",
      "Epoch 2/50\n",
      "\u001b[1m90/90\u001b[0m \u001b[32m━━━━━━━━━━━━━━━━━━━━\u001b[0m\u001b[37m\u001b[0m \u001b[1m0s\u001b[0m 2ms/step - loss: 0.0071 - mae: 0.0690 - mape: 124679.3125 - mse: 0.0071 - val_loss: 0.0442 - val_mae: 0.1731 - val_mape: 14.3764 - val_mse: 0.0442\n",
      "Epoch 3/50\n",
      "\u001b[1m90/90\u001b[0m \u001b[32m━━━━━━━━━━━━━━━━━━━━\u001b[0m\u001b[37m\u001b[0m \u001b[1m0s\u001b[0m 2ms/step - loss: 0.0038 - mae: 0.0491 - mape: 19904.1211 - mse: 0.0038 - val_loss: 0.0266 - val_mae: 0.1329 - val_mape: 11.0417 - val_mse: 0.0266\n",
      "Epoch 4/50\n",
      "\u001b[1m90/90\u001b[0m \u001b[32m━━━━━━━━━━━━━━━━━━━━\u001b[0m\u001b[37m\u001b[0m \u001b[1m0s\u001b[0m 2ms/step - loss: 0.0024 - mae: 0.0389 - mape: 20778.5723 - mse: 0.0024 - val_loss: 0.0147 - val_mae: 0.0970 - val_mape: 8.0971 - val_mse: 0.0147\n",
      "Epoch 5/50\n",
      "\u001b[1m90/90\u001b[0m \u001b[32m━━━━━━━━━━━━━━━━━━━━\u001b[0m\u001b[37m\u001b[0m \u001b[1m0s\u001b[0m 2ms/step - loss: 0.0014 - mae: 0.0293 - mape: 24215.1836 - mse: 0.0014 - val_loss: 0.0070 - val_mae: 0.0643 - val_mape: 5.3930 - val_mse: 0.0070\n",
      "Epoch 6/50\n",
      "\u001b[1m90/90\u001b[0m \u001b[32m━━━━━━━━━━━━━━━━━━━━\u001b[0m\u001b[37m\u001b[0m \u001b[1m0s\u001b[0m 2ms/step - loss: 8.6296e-04 - mae: 0.0222 - mape: 43511.5859 - mse: 8.6296e-04 - val_loss: 0.0035 - val_mae: 0.0434 - val_mape: 3.7329 - val_mse: 0.0035\n",
      "Epoch 7/50\n",
      "\u001b[1m90/90\u001b[0m \u001b[32m━━━━━━━━━━━━━━━━━━━━\u001b[0m\u001b[37m\u001b[0m \u001b[1m0s\u001b[0m 2ms/step - loss: 5.8210e-04 - mae: 0.0179 - mape: 121865.0000 - mse: 5.8210e-04 - val_loss: 0.0019 - val_mae: 0.0317 - val_mape: 2.8668 - val_mse: 0.0019\n",
      "Epoch 8/50\n",
      "\u001b[1m90/90\u001b[0m \u001b[32m━━━━━━━━━━━━━━━━━━━━\u001b[0m\u001b[37m\u001b[0m \u001b[1m0s\u001b[0m 2ms/step - loss: 3.9350e-04 - mae: 0.0148 - mape: 22415.2344 - mse: 3.9350e-04 - val_loss: 0.0014 - val_mae: 0.0275 - val_mape: 2.6219 - val_mse: 0.0014\n",
      "Epoch 9/50\n",
      "\u001b[1m90/90\u001b[0m \u001b[32m━━━━━━━━━━━━━━━━━━━━\u001b[0m\u001b[37m\u001b[0m \u001b[1m0s\u001b[0m 2ms/step - loss: 3.3651e-04 - mae: 0.0138 - mape: 22114.1328 - mse: 3.3651e-04 - val_loss: 0.0013 - val_mae: 0.0271 - val_mape: 2.6275 - val_mse: 0.0013\n",
      "Epoch 10/50\n",
      "\u001b[1m90/90\u001b[0m \u001b[32m━━━━━━━━━━━━━━━━━━━━\u001b[0m\u001b[37m\u001b[0m \u001b[1m0s\u001b[0m 2ms/step - loss: 3.7807e-04 - mae: 0.0141 - mape: 4373.5420 - mse: 3.7807e-04 - val_loss: 0.0013 - val_mae: 0.0270 - val_mape: 2.6257 - val_mse: 0.0013\n",
      "Epoch 11/50\n",
      "\u001b[1m90/90\u001b[0m \u001b[32m━━━━━━━━━━━━━━━━━━━━\u001b[0m\u001b[37m\u001b[0m \u001b[1m0s\u001b[0m 2ms/step - loss: 3.2508e-04 - mae: 0.0134 - mape: 10339.1543 - mse: 3.2508e-04 - val_loss: 0.0013 - val_mae: 0.0274 - val_mape: 2.6823 - val_mse: 0.0013\n",
      "Epoch 12/50\n",
      "\u001b[1m90/90\u001b[0m \u001b[32m━━━━━━━━━━━━━━━━━━━━\u001b[0m\u001b[37m\u001b[0m \u001b[1m0s\u001b[0m 2ms/step - loss: 3.1544e-04 - mae: 0.0134 - mape: 57029.0977 - mse: 3.1544e-04 - val_loss: 0.0013 - val_mae: 0.0275 - val_mape: 2.6798 - val_mse: 0.0013\n",
      "Epoch 13/50\n",
      "\u001b[1m90/90\u001b[0m \u001b[32m━━━━━━━━━━━━━━━━━━━━\u001b[0m\u001b[37m\u001b[0m \u001b[1m0s\u001b[0m 3ms/step - loss: 3.6505e-04 - mae: 0.0133 - mape: 15598.6191 - mse: 3.6505e-04 - val_loss: 0.0014 - val_mae: 0.0277 - val_mape: 2.6626 - val_mse: 0.0014\n",
      "Epoch 14/50\n",
      "\u001b[1m90/90\u001b[0m \u001b[32m━━━━━━━━━━━━━━━━━━━━\u001b[0m\u001b[37m\u001b[0m \u001b[1m0s\u001b[0m 2ms/step - loss: 3.1175e-04 - mae: 0.0130 - mape: 16901.6699 - mse: 3.1175e-04 - val_loss: 0.0014 - val_mae: 0.0281 - val_mape: 2.6947 - val_mse: 0.0014\n",
      "Epoch 15/50\n",
      "\u001b[1m90/90\u001b[0m \u001b[32m━━━━━━━━━━━━━━━━━━━━\u001b[0m\u001b[37m\u001b[0m \u001b[1m0s\u001b[0m 2ms/step - loss: 3.0819e-04 - mae: 0.0132 - mape: 8746.5322 - mse: 3.0819e-04 - val_loss: 0.0015 - val_mae: 0.0285 - val_mape: 2.7330 - val_mse: 0.0015\n",
      "Epoch 16/50\n",
      "\u001b[1m90/90\u001b[0m \u001b[32m━━━━━━━━━━━━━━━━━━━━\u001b[0m\u001b[37m\u001b[0m \u001b[1m0s\u001b[0m 2ms/step - loss: 3.0393e-04 - mae: 0.0131 - mape: 31987.7344 - mse: 3.0393e-04 - val_loss: 0.0016 - val_mae: 0.0292 - val_mape: 2.7288 - val_mse: 0.0016\n",
      "Epoch 17/50\n",
      "\u001b[1m90/90\u001b[0m \u001b[32m━━━━━━━━━━━━━━━━━━━━\u001b[0m\u001b[37m\u001b[0m \u001b[1m0s\u001b[0m 2ms/step - loss: 2.9305e-04 - mae: 0.0127 - mape: 1761.0062 - mse: 2.9305e-04 - val_loss: 0.0017 - val_mae: 0.0298 - val_mape: 2.7762 - val_mse: 0.0017\n",
      "Epoch 18/50\n",
      "\u001b[1m90/90\u001b[0m \u001b[32m━━━━━━━━━━━━━━━━━━━━\u001b[0m\u001b[37m\u001b[0m \u001b[1m0s\u001b[0m 2ms/step - loss: 2.7153e-04 - mae: 0.0124 - mape: 46955.9805 - mse: 2.7153e-04 - val_loss: 0.0018 - val_mae: 0.0309 - val_mape: 2.8283 - val_mse: 0.0018\n",
      "Epoch 19/50\n",
      "\u001b[1m90/90\u001b[0m \u001b[32m━━━━━━━━━━━━━━━━━━━━\u001b[0m\u001b[37m\u001b[0m \u001b[1m0s\u001b[0m 2ms/step - loss: 2.8525e-04 - mae: 0.0127 - mape: 17474.7070 - mse: 2.8525e-04 - val_loss: 0.0019 - val_mae: 0.0316 - val_mape: 2.8730 - val_mse: 0.0019\n",
      "Epoch 20/50\n",
      "\u001b[1m90/90\u001b[0m \u001b[32m━━━━━━━━━━━━━━━━━━━━\u001b[0m\u001b[37m\u001b[0m \u001b[1m0s\u001b[0m 2ms/step - loss: 3.2083e-04 - mae: 0.0129 - mape: 36062.2266 - mse: 3.2083e-04 - val_loss: 0.0022 - val_mae: 0.0336 - val_mape: 2.9882 - val_mse: 0.0022\n"
     ]
    },
    {
     "name": "stderr",
     "output_type": "stream",
     "text": [
      "WARNING:absl:You are saving your model as an HDF5 file via `model.save()` or `keras.saving.save_model(model)`. This file format is considered legacy. We recommend using instead the native Keras format, e.g. `model.save('my_model.keras')` or `keras.saving.save_model(model, 'my_model.keras')`. \n"
     ]
    },
    {
     "name": "stdout",
     "output_type": "stream",
     "text": [
      "\u001b[1m23/23\u001b[0m \u001b[32m━━━━━━━━━━━━━━━━━━━━\u001b[0m\u001b[37m\u001b[0m \u001b[1m0s\u001b[0m 5ms/step\n",
      "model_1: Processando BBDC4 | Combinação 1...\n",
      "Epoch 1/50\n",
      "\u001b[1m88/88\u001b[0m \u001b[32m━━━━━━━━━━━━━━━━━━━━\u001b[0m\u001b[37m\u001b[0m \u001b[1m1s\u001b[0m 5ms/step - loss: 0.1062 - mae: 0.2515 - mape: 7993.0776 - mse: 0.1062 - val_loss: 0.0264 - val_mae: 0.1455 - val_mape: 24.7269 - val_mse: 0.0264\n",
      "Epoch 2/50\n",
      "\u001b[1m88/88\u001b[0m \u001b[32m━━━━━━━━━━━━━━━━━━━━\u001b[0m\u001b[37m\u001b[0m \u001b[1m0s\u001b[0m 2ms/step - loss: 0.0106 - mae: 0.0830 - mape: 10243.7734 - mse: 0.0106 - val_loss: 0.0028 - val_mae: 0.0414 - val_mape: 6.9495 - val_mse: 0.0028\n",
      "Epoch 3/50\n",
      "\u001b[1m88/88\u001b[0m \u001b[32m━━━━━━━━━━━━━━━━━━━━\u001b[0m\u001b[37m\u001b[0m \u001b[1m0s\u001b[0m 2ms/step - loss: 0.0041 - mae: 0.0549 - mape: 38305.4414 - mse: 0.0041 - val_loss: 0.0010 - val_mae: 0.0253 - val_mape: 4.5530 - val_mse: 0.0010\n",
      "Epoch 4/50\n",
      "\u001b[1m88/88\u001b[0m \u001b[32m━━━━━━━━━━━━━━━━━━━━\u001b[0m\u001b[37m\u001b[0m \u001b[1m0s\u001b[0m 2ms/step - loss: 0.0013 - mae: 0.0299 - mape: 4933.8081 - mse: 0.0013 - val_loss: 6.0116e-04 - val_mae: 0.0185 - val_mape: 3.5752 - val_mse: 6.0116e-04\n",
      "Epoch 5/50\n",
      "\u001b[1m88/88\u001b[0m \u001b[32m━━━━━━━━━━━━━━━━━━━━\u001b[0m\u001b[37m\u001b[0m \u001b[1m0s\u001b[0m 2ms/step - loss: 5.3045e-04 - mae: 0.0180 - mape: 16725.4180 - mse: 5.3045e-04 - val_loss: 6.2603e-04 - val_mae: 0.0188 - val_mape: 3.6751 - val_mse: 6.2603e-04\n",
      "Epoch 6/50\n",
      "\u001b[1m88/88\u001b[0m \u001b[32m━━━━━━━━━━━━━━━━━━━━\u001b[0m\u001b[37m\u001b[0m \u001b[1m0s\u001b[0m 2ms/step - loss: 5.1825e-04 - mae: 0.0157 - mape: 4469.7285 - mse: 5.1825e-04 - val_loss: 6.1159e-04 - val_mae: 0.0185 - val_mape: 3.5985 - val_mse: 6.1159e-04\n",
      "Epoch 7/50\n",
      "\u001b[1m88/88\u001b[0m \u001b[32m━━━━━━━━━━━━━━━━━━━━\u001b[0m\u001b[37m\u001b[0m \u001b[1m0s\u001b[0m 2ms/step - loss: 4.5093e-04 - mae: 0.0152 - mape: 5147.7949 - mse: 4.5093e-04 - val_loss: 6.0147e-04 - val_mae: 0.0182 - val_mape: 3.5491 - val_mse: 6.0147e-04\n",
      "Epoch 8/50\n",
      "\u001b[1m88/88\u001b[0m \u001b[32m━━━━━━━━━━━━━━━━━━━━\u001b[0m\u001b[37m\u001b[0m \u001b[1m0s\u001b[0m 3ms/step - loss: 4.2918e-04 - mae: 0.0148 - mape: 17208.9082 - mse: 4.2918e-04 - val_loss: 5.9318e-04 - val_mae: 0.0181 - val_mape: 3.5042 - val_mse: 5.9318e-04\n",
      "Epoch 9/50\n",
      "\u001b[1m88/88\u001b[0m \u001b[32m━━━━━━━━━━━━━━━━━━━━\u001b[0m\u001b[37m\u001b[0m \u001b[1m0s\u001b[0m 2ms/step - loss: 3.9689e-04 - mae: 0.0144 - mape: 10645.6787 - mse: 3.9689e-04 - val_loss: 5.8982e-04 - val_mae: 0.0180 - val_mape: 3.5029 - val_mse: 5.8982e-04\n",
      "Epoch 10/50\n",
      "\u001b[1m88/88\u001b[0m \u001b[32m━━━━━━━━━━━━━━━━━━━━\u001b[0m\u001b[37m\u001b[0m \u001b[1m0s\u001b[0m 2ms/step - loss: 3.8586e-04 - mae: 0.0141 - mape: 9152.0137 - mse: 3.8586e-04 - val_loss: 5.8151e-04 - val_mae: 0.0179 - val_mape: 3.4747 - val_mse: 5.8151e-04\n",
      "Epoch 11/50\n",
      "\u001b[1m88/88\u001b[0m \u001b[32m━━━━━━━━━━━━━━━━━━━━\u001b[0m\u001b[37m\u001b[0m \u001b[1m0s\u001b[0m 2ms/step - loss: 4.4781e-04 - mae: 0.0144 - mape: 12043.2129 - mse: 4.4781e-04 - val_loss: 5.8754e-04 - val_mae: 0.0180 - val_mape: 3.5100 - val_mse: 5.8754e-04\n",
      "Epoch 12/50\n",
      "\u001b[1m88/88\u001b[0m \u001b[32m━━━━━━━━━━━━━━━━━━━━\u001b[0m\u001b[37m\u001b[0m \u001b[1m0s\u001b[0m 2ms/step - loss: 4.0221e-04 - mae: 0.0143 - mape: 1923.0193 - mse: 4.0221e-04 - val_loss: 5.6870e-04 - val_mae: 0.0176 - val_mape: 3.4288 - val_mse: 5.6870e-04\n",
      "Epoch 13/50\n",
      "\u001b[1m88/88\u001b[0m \u001b[32m━━━━━━━━━━━━━━━━━━━━\u001b[0m\u001b[37m\u001b[0m \u001b[1m0s\u001b[0m 2ms/step - loss: 3.7481e-04 - mae: 0.0137 - mape: 6347.8398 - mse: 3.7481e-04 - val_loss: 5.6558e-04 - val_mae: 0.0175 - val_mape: 3.4255 - val_mse: 5.6558e-04\n",
      "Epoch 14/50\n",
      "\u001b[1m88/88\u001b[0m \u001b[32m━━━━━━━━━━━━━━━━━━━━\u001b[0m\u001b[37m\u001b[0m \u001b[1m0s\u001b[0m 2ms/step - loss: 3.5712e-04 - mae: 0.0135 - mape: 2499.9182 - mse: 3.5712e-04 - val_loss: 5.6201e-04 - val_mae: 0.0175 - val_mape: 3.4137 - val_mse: 5.6201e-04\n",
      "Epoch 15/50\n",
      "\u001b[1m88/88\u001b[0m \u001b[32m━━━━━━━━━━━━━━━━━━━━\u001b[0m\u001b[37m\u001b[0m \u001b[1m0s\u001b[0m 2ms/step - loss: 4.5375e-04 - mae: 0.0133 - mape: 15960.1416 - mse: 4.5375e-04 - val_loss: 5.5512e-04 - val_mae: 0.0173 - val_mape: 3.3817 - val_mse: 5.5512e-04\n",
      "Epoch 16/50\n",
      "\u001b[1m88/88\u001b[0m \u001b[32m━━━━━━━━━━━━━━━━━━━━\u001b[0m\u001b[37m\u001b[0m \u001b[1m0s\u001b[0m 2ms/step - loss: 4.2194e-04 - mae: 0.0136 - mape: 8180.0566 - mse: 4.2194e-04 - val_loss: 5.4902e-04 - val_mae: 0.0172 - val_mape: 3.3577 - val_mse: 5.4902e-04\n",
      "Epoch 17/50\n",
      "\u001b[1m88/88\u001b[0m \u001b[32m━━━━━━━━━━━━━━━━━━━━\u001b[0m\u001b[37m\u001b[0m \u001b[1m0s\u001b[0m 2ms/step - loss: 4.2510e-04 - mae: 0.0129 - mape: 7343.8428 - mse: 4.2510e-04 - val_loss: 5.5694e-04 - val_mae: 0.0173 - val_mape: 3.3966 - val_mse: 5.5694e-04\n",
      "Epoch 18/50\n",
      "\u001b[1m88/88\u001b[0m \u001b[32m━━━━━━━━━━━━━━━━━━━━\u001b[0m\u001b[37m\u001b[0m \u001b[1m0s\u001b[0m 2ms/step - loss: 3.7757e-04 - mae: 0.0131 - mape: 18635.4219 - mse: 3.7757e-04 - val_loss: 5.4347e-04 - val_mae: 0.0171 - val_mape: 3.3402 - val_mse: 5.4347e-04\n",
      "Epoch 19/50\n",
      "\u001b[1m88/88\u001b[0m \u001b[32m━━━━━━━━━━━━━━━━━━━━\u001b[0m\u001b[37m\u001b[0m \u001b[1m0s\u001b[0m 2ms/step - loss: 4.9420e-04 - mae: 0.0132 - mape: 10925.4658 - mse: 4.9420e-04 - val_loss: 5.4076e-04 - val_mae: 0.0170 - val_mape: 3.3316 - val_mse: 5.4076e-04\n",
      "Epoch 20/50\n",
      "\u001b[1m88/88\u001b[0m \u001b[32m━━━━━━━━━━━━━━━━━━━━\u001b[0m\u001b[37m\u001b[0m \u001b[1m0s\u001b[0m 2ms/step - loss: 3.8372e-04 - mae: 0.0127 - mape: 1368.5192 - mse: 3.8372e-04 - val_loss: 5.3377e-04 - val_mae: 0.0169 - val_mape: 3.3078 - val_mse: 5.3377e-04\n",
      "Epoch 21/50\n",
      "\u001b[1m88/88\u001b[0m \u001b[32m━━━━━━━━━━━━━━━━━━━━\u001b[0m\u001b[37m\u001b[0m \u001b[1m0s\u001b[0m 3ms/step - loss: 4.3924e-04 - mae: 0.0129 - mape: 1968.8418 - mse: 4.3924e-04 - val_loss: 5.3338e-04 - val_mae: 0.0168 - val_mape: 3.3063 - val_mse: 5.3338e-04\n",
      "Epoch 22/50\n",
      "\u001b[1m88/88\u001b[0m \u001b[32m━━━━━━━━━━━━━━━━━━━━\u001b[0m\u001b[37m\u001b[0m \u001b[1m0s\u001b[0m 2ms/step - loss: 3.0711e-04 - mae: 0.0122 - mape: 8796.8740 - mse: 3.0711e-04 - val_loss: 5.4042e-04 - val_mae: 0.0170 - val_mape: 3.3334 - val_mse: 5.4042e-04\n",
      "Epoch 23/50\n",
      "\u001b[1m88/88\u001b[0m \u001b[32m━━━━━━━━━━━━━━━━━━━━\u001b[0m\u001b[37m\u001b[0m \u001b[1m0s\u001b[0m 2ms/step - loss: 3.2215e-04 - mae: 0.0124 - mape: 9590.6572 - mse: 3.2215e-04 - val_loss: 5.6594e-04 - val_mae: 0.0175 - val_mape: 3.4255 - val_mse: 5.6594e-04\n",
      "Epoch 24/50\n",
      "\u001b[1m88/88\u001b[0m \u001b[32m━━━━━━━━━━━━━━━━━━━━\u001b[0m\u001b[37m\u001b[0m \u001b[1m0s\u001b[0m 2ms/step - loss: 3.6906e-04 - mae: 0.0127 - mape: 8556.7559 - mse: 3.6906e-04 - val_loss: 5.2613e-04 - val_mae: 0.0167 - val_mape: 3.2789 - val_mse: 5.2613e-04\n",
      "Epoch 25/50\n",
      "\u001b[1m88/88\u001b[0m \u001b[32m━━━━━━━━━━━━━━━━━━━━\u001b[0m\u001b[37m\u001b[0m \u001b[1m0s\u001b[0m 2ms/step - loss: 3.8346e-04 - mae: 0.0126 - mape: 2272.3975 - mse: 3.8346e-04 - val_loss: 6.0394e-04 - val_mae: 0.0183 - val_mape: 3.5700 - val_mse: 6.0394e-04\n",
      "Epoch 26/50\n",
      "\u001b[1m88/88\u001b[0m \u001b[32m━━━━━━━━━━━━━━━━━━━━\u001b[0m\u001b[37m\u001b[0m \u001b[1m0s\u001b[0m 2ms/step - loss: 4.2228e-04 - mae: 0.0127 - mape: 6411.3086 - mse: 4.2228e-04 - val_loss: 5.3123e-04 - val_mae: 0.0168 - val_mape: 3.3063 - val_mse: 5.3123e-04\n",
      "Epoch 27/50\n",
      "\u001b[1m88/88\u001b[0m \u001b[32m━━━━━━━━━━━━━━━━━━━━\u001b[0m\u001b[37m\u001b[0m \u001b[1m0s\u001b[0m 2ms/step - loss: 4.2879e-04 - mae: 0.0125 - mape: 10265.0664 - mse: 4.2879e-04 - val_loss: 5.3002e-04 - val_mae: 0.0168 - val_mape: 3.3029 - val_mse: 5.3002e-04\n",
      "Epoch 28/50\n",
      "\u001b[1m88/88\u001b[0m \u001b[32m━━━━━━━━━━━━━━━━━━━━\u001b[0m\u001b[37m\u001b[0m \u001b[1m0s\u001b[0m 2ms/step - loss: 3.3253e-04 - mae: 0.0125 - mape: 12986.5303 - mse: 3.3253e-04 - val_loss: 5.3686e-04 - val_mae: 0.0169 - val_mape: 3.3315 - val_mse: 5.3686e-04\n",
      "Epoch 29/50\n",
      "\u001b[1m88/88\u001b[0m \u001b[32m━━━━━━━━━━━━━━━━━━━━\u001b[0m\u001b[37m\u001b[0m \u001b[1m0s\u001b[0m 2ms/step - loss: 4.3507e-04 - mae: 0.0130 - mape: 33183.3984 - mse: 4.3507e-04 - val_loss: 5.6800e-04 - val_mae: 0.0176 - val_mape: 3.4467 - val_mse: 5.6800e-04\n",
      "Epoch 30/50\n",
      "\u001b[1m88/88\u001b[0m \u001b[32m━━━━━━━━━━━━━━━━━━━━\u001b[0m\u001b[37m\u001b[0m \u001b[1m0s\u001b[0m 2ms/step - loss: 2.7624e-04 - mae: 0.0118 - mape: 7871.1489 - mse: 2.7624e-04 - val_loss: 5.3236e-04 - val_mae: 0.0168 - val_mape: 3.2922 - val_mse: 5.3236e-04\n",
      "Epoch 31/50\n",
      "\u001b[1m88/88\u001b[0m \u001b[32m━━━━━━━━━━━━━━━━━━━━\u001b[0m\u001b[37m\u001b[0m \u001b[1m0s\u001b[0m 2ms/step - loss: 3.8138e-04 - mae: 0.0126 - mape: 1252.8932 - mse: 3.8138e-04 - val_loss: 5.4049e-04 - val_mae: 0.0170 - val_mape: 3.3451 - val_mse: 5.4049e-04\n",
      "Epoch 32/50\n",
      "\u001b[1m88/88\u001b[0m \u001b[32m━━━━━━━━━━━━━━━━━━━━\u001b[0m\u001b[37m\u001b[0m \u001b[1m0s\u001b[0m 2ms/step - loss: 3.3880e-04 - mae: 0.0123 - mape: 3031.2329 - mse: 3.3880e-04 - val_loss: 5.4397e-04 - val_mae: 0.0171 - val_mape: 3.3580 - val_mse: 5.4397e-04\n",
      "Epoch 33/50\n",
      "\u001b[1m88/88\u001b[0m \u001b[32m━━━━━━━━━━━━━━━━━━━━\u001b[0m\u001b[37m\u001b[0m \u001b[1m0s\u001b[0m 2ms/step - loss: 3.5008e-04 - mae: 0.0121 - mape: 5947.4546 - mse: 3.5008e-04 - val_loss: 5.3580e-04 - val_mae: 0.0169 - val_mape: 3.3291 - val_mse: 5.3580e-04\n",
      "Epoch 34/50\n",
      "\u001b[1m88/88\u001b[0m \u001b[32m━━━━━━━━━━━━━━━━━━━━\u001b[0m\u001b[37m\u001b[0m \u001b[1m0s\u001b[0m 2ms/step - loss: 3.3786e-04 - mae: 0.0122 - mape: 141.3168 - mse: 3.3786e-04 - val_loss: 5.3010e-04 - val_mae: 0.0168 - val_mape: 3.3087 - val_mse: 5.3010e-04\n"
     ]
    },
    {
     "name": "stderr",
     "output_type": "stream",
     "text": [
      "WARNING:absl:You are saving your model as an HDF5 file via `model.save()` or `keras.saving.save_model(model)`. This file format is considered legacy. We recommend using instead the native Keras format, e.g. `model.save('my_model.keras')` or `keras.saving.save_model(model, 'my_model.keras')`. \n"
     ]
    },
    {
     "name": "stdout",
     "output_type": "stream",
     "text": [
      "\u001b[1m22/22\u001b[0m \u001b[32m━━━━━━━━━━━━━━━━━━━━\u001b[0m\u001b[37m\u001b[0m \u001b[1m0s\u001b[0m 6ms/step\n",
      "model_1: Processando ITUB4 | Combinação 1...\n",
      "Epoch 1/50\n",
      "\u001b[1m90/90\u001b[0m \u001b[32m━━━━━━━━━━━━━━━━━━━━\u001b[0m\u001b[37m\u001b[0m \u001b[1m1s\u001b[0m 5ms/step - loss: 0.1922 - mae: 0.3651 - mape: 35931.5352 - mse: 0.1922 - val_loss: 0.0365 - val_mae: 0.1823 - val_mape: 28.9503 - val_mse: 0.0365\n",
      "Epoch 2/50\n",
      "\u001b[1m90/90\u001b[0m \u001b[32m━━━━━━━━━━━━━━━━━━━━\u001b[0m\u001b[37m\u001b[0m \u001b[1m0s\u001b[0m 2ms/step - loss: 0.0088 - mae: 0.0708 - mape: 125418.2031 - mse: 0.0088 - val_loss: 0.0036 - val_mae: 0.0516 - val_mape: 7.9158 - val_mse: 0.0036\n",
      "Epoch 3/50\n",
      "\u001b[1m90/90\u001b[0m \u001b[32m━━━━━━━━━━━━━━━━━━━━\u001b[0m\u001b[37m\u001b[0m \u001b[1m0s\u001b[0m 2ms/step - loss: 0.0033 - mae: 0.0496 - mape: 14510.7275 - mse: 0.0033 - val_loss: 0.0023 - val_mae: 0.0412 - val_mape: 6.5796 - val_mse: 0.0023\n",
      "Epoch 4/50\n",
      "\u001b[1m90/90\u001b[0m \u001b[32m━━━━━━━━━━━━━━━━━━━━\u001b[0m\u001b[37m\u001b[0m \u001b[1m0s\u001b[0m 2ms/step - loss: 0.0016 - mae: 0.0331 - mape: 22756.5801 - mse: 0.0016 - val_loss: 0.0017 - val_mae: 0.0344 - val_mape: 5.7189 - val_mse: 0.0017\n",
      "Epoch 5/50\n",
      "\u001b[1m90/90\u001b[0m \u001b[32m━━━━━━━━━━━━━━━━━━━━\u001b[0m\u001b[37m\u001b[0m \u001b[1m0s\u001b[0m 2ms/step - loss: 8.1283e-04 - mae: 0.0224 - mape: 104720.7812 - mse: 8.1283e-04 - val_loss: 0.0014 - val_mae: 0.0295 - val_mape: 5.0420 - val_mse: 0.0014\n",
      "Epoch 6/50\n",
      "\u001b[1m90/90\u001b[0m \u001b[32m━━━━━━━━━━━━━━━━━━━━\u001b[0m\u001b[37m\u001b[0m \u001b[1m0s\u001b[0m 2ms/step - loss: 5.8118e-04 - mae: 0.0179 - mape: 208094.7031 - mse: 5.8118e-04 - val_loss: 0.0012 - val_mae: 0.0268 - val_mape: 4.6066 - val_mse: 0.0012\n",
      "Epoch 7/50\n",
      "\u001b[1m90/90\u001b[0m \u001b[32m━━━━━━━━━━━━━━━━━━━━\u001b[0m\u001b[37m\u001b[0m \u001b[1m0s\u001b[0m 2ms/step - loss: 4.2158e-04 - mae: 0.0153 - mape: 78326.8594 - mse: 4.2158e-04 - val_loss: 0.0010 - val_mae: 0.0241 - val_mape: 4.1332 - val_mse: 0.0010\n",
      "Epoch 8/50\n",
      "\u001b[1m90/90\u001b[0m \u001b[32m━━━━━━━━━━━━━━━━━━━━\u001b[0m\u001b[37m\u001b[0m \u001b[1m0s\u001b[0m 3ms/step - loss: 4.2013e-04 - mae: 0.0151 - mape: 98812.8984 - mse: 4.2013e-04 - val_loss: 9.8215e-04 - val_mae: 0.0237 - val_mape: 4.0718 - val_mse: 9.8215e-04\n",
      "Epoch 9/50\n",
      "\u001b[1m90/90\u001b[0m \u001b[32m━━━━━━━━━━━━━━━━━━━━\u001b[0m\u001b[37m\u001b[0m \u001b[1m0s\u001b[0m 2ms/step - loss: 3.7557e-04 - mae: 0.0144 - mape: 24708.2637 - mse: 3.7557e-04 - val_loss: 8.1312e-04 - val_mae: 0.0214 - val_mape: 3.6481 - val_mse: 8.1312e-04\n",
      "Epoch 10/50\n",
      "\u001b[1m90/90\u001b[0m \u001b[32m━━━━━━━━━━━━━━━━━━━━\u001b[0m\u001b[37m\u001b[0m \u001b[1m0s\u001b[0m 2ms/step - loss: 3.3749e-04 - mae: 0.0138 - mape: 29651.9277 - mse: 3.3749e-04 - val_loss: 7.2111e-04 - val_mae: 0.0201 - val_mape: 3.4252 - val_mse: 7.2111e-04\n",
      "Epoch 11/50\n",
      "\u001b[1m90/90\u001b[0m \u001b[32m━━━━━━━━━━━━━━━━━━━━\u001b[0m\u001b[37m\u001b[0m \u001b[1m0s\u001b[0m 2ms/step - loss: 3.3540e-04 - mae: 0.0136 - mape: 32948.9141 - mse: 3.3540e-04 - val_loss: 6.5227e-04 - val_mae: 0.0191 - val_mape: 3.2496 - val_mse: 6.5227e-04\n",
      "Epoch 12/50\n",
      "\u001b[1m90/90\u001b[0m \u001b[32m━━━━━━━━━━━━━━━━━━━━\u001b[0m\u001b[37m\u001b[0m \u001b[1m0s\u001b[0m 2ms/step - loss: 3.1698e-04 - mae: 0.0132 - mape: 8671.8027 - mse: 3.1698e-04 - val_loss: 5.9950e-04 - val_mae: 0.0183 - val_mape: 3.0970 - val_mse: 5.9950e-04\n",
      "Epoch 13/50\n",
      "\u001b[1m90/90\u001b[0m \u001b[32m━━━━━━━━━━━━━━━━━━━━\u001b[0m\u001b[37m\u001b[0m \u001b[1m0s\u001b[0m 2ms/step - loss: 3.1262e-04 - mae: 0.0131 - mape: 68946.5078 - mse: 3.1262e-04 - val_loss: 5.4081e-04 - val_mae: 0.0172 - val_mape: 2.8599 - val_mse: 5.4081e-04\n",
      "Epoch 14/50\n",
      "\u001b[1m90/90\u001b[0m \u001b[32m━━━━━━━━━━━━━━━━━━━━\u001b[0m\u001b[37m\u001b[0m \u001b[1m0s\u001b[0m 2ms/step - loss: 3.0544e-04 - mae: 0.0128 - mape: 43840.1250 - mse: 3.0544e-04 - val_loss: 5.3144e-04 - val_mae: 0.0171 - val_mape: 2.8938 - val_mse: 5.3144e-04\n",
      "Epoch 15/50\n",
      "\u001b[1m90/90\u001b[0m \u001b[32m━━━━━━━━━━━━━━━━━━━━\u001b[0m\u001b[37m\u001b[0m \u001b[1m0s\u001b[0m 2ms/step - loss: 2.9287e-04 - mae: 0.0126 - mape: 33821.3555 - mse: 2.9287e-04 - val_loss: 5.2176e-04 - val_mae: 0.0170 - val_mape: 2.8801 - val_mse: 5.2176e-04\n",
      "Epoch 16/50\n",
      "\u001b[1m90/90\u001b[0m \u001b[32m━━━━━━━━━━━━━━━━━━━━\u001b[0m\u001b[37m\u001b[0m \u001b[1m0s\u001b[0m 2ms/step - loss: 2.7489e-04 - mae: 0.0124 - mape: 26799.0645 - mse: 2.7489e-04 - val_loss: 4.8721e-04 - val_mae: 0.0162 - val_mape: 2.7177 - val_mse: 4.8721e-04\n",
      "Epoch 17/50\n",
      "\u001b[1m90/90\u001b[0m \u001b[32m━━━━━━━━━━━━━━━━━━━━\u001b[0m\u001b[37m\u001b[0m \u001b[1m0s\u001b[0m 2ms/step - loss: 2.9400e-04 - mae: 0.0124 - mape: 52452.4453 - mse: 2.9400e-04 - val_loss: 4.8131e-04 - val_mae: 0.0161 - val_mape: 2.6751 - val_mse: 4.8131e-04\n",
      "Epoch 18/50\n",
      "\u001b[1m90/90\u001b[0m \u001b[32m━━━━━━━━━━━━━━━━━━━━\u001b[0m\u001b[37m\u001b[0m \u001b[1m0s\u001b[0m 2ms/step - loss: 2.7506e-04 - mae: 0.0121 - mape: 100984.0781 - mse: 2.7506e-04 - val_loss: 4.6922e-04 - val_mae: 0.0158 - val_mape: 2.6462 - val_mse: 4.6922e-04\n",
      "Epoch 19/50\n",
      "\u001b[1m90/90\u001b[0m \u001b[32m━━━━━━━━━━━━━━━━━━━━\u001b[0m\u001b[37m\u001b[0m \u001b[1m0s\u001b[0m 2ms/step - loss: 2.5932e-04 - mae: 0.0118 - mape: 10049.7422 - mse: 2.5932e-04 - val_loss: 4.7248e-04 - val_mae: 0.0159 - val_mape: 2.6391 - val_mse: 4.7248e-04\n",
      "Epoch 20/50\n",
      "\u001b[1m90/90\u001b[0m \u001b[32m━━━━━━━━━━━━━━━━━━━━\u001b[0m\u001b[37m\u001b[0m \u001b[1m0s\u001b[0m 3ms/step - loss: 2.4291e-04 - mae: 0.0115 - mape: 21547.7207 - mse: 2.4291e-04 - val_loss: 4.6854e-04 - val_mae: 0.0158 - val_mape: 2.6212 - val_mse: 4.6854e-04\n",
      "Epoch 21/50\n",
      "\u001b[1m90/90\u001b[0m \u001b[32m━━━━━━━━━━━━━━━━━━━━\u001b[0m\u001b[37m\u001b[0m \u001b[1m0s\u001b[0m 2ms/step - loss: 2.4252e-04 - mae: 0.0115 - mape: 24666.0000 - mse: 2.4252e-04 - val_loss: 4.5718e-04 - val_mae: 0.0155 - val_mape: 2.5906 - val_mse: 4.5718e-04\n",
      "Epoch 22/50\n",
      "\u001b[1m90/90\u001b[0m \u001b[32m━━━━━━━━━━━━━━━━━━━━\u001b[0m\u001b[37m\u001b[0m \u001b[1m0s\u001b[0m 2ms/step - loss: 2.3641e-04 - mae: 0.0113 - mape: 16170.3330 - mse: 2.3641e-04 - val_loss: 4.9149e-04 - val_mae: 0.0163 - val_mape: 2.7015 - val_mse: 4.9149e-04\n",
      "Epoch 23/50\n",
      "\u001b[1m90/90\u001b[0m \u001b[32m━━━━━━━━━━━━━━━━━━━━\u001b[0m\u001b[37m\u001b[0m \u001b[1m0s\u001b[0m 2ms/step - loss: 2.3498e-04 - mae: 0.0110 - mape: 28456.1934 - mse: 2.3498e-04 - val_loss: 4.7746e-04 - val_mae: 0.0160 - val_mape: 2.6609 - val_mse: 4.7746e-04\n",
      "Epoch 24/50\n",
      "\u001b[1m90/90\u001b[0m \u001b[32m━━━━━━━━━━━━━━━━━━━━\u001b[0m\u001b[37m\u001b[0m \u001b[1m0s\u001b[0m 2ms/step - loss: 2.1701e-04 - mae: 0.0108 - mape: 58953.4766 - mse: 2.1701e-04 - val_loss: 4.7225e-04 - val_mae: 0.0159 - val_mape: 2.6465 - val_mse: 4.7225e-04\n",
      "Epoch 25/50\n",
      "\u001b[1m90/90\u001b[0m \u001b[32m━━━━━━━━━━━━━━━━━━━━\u001b[0m\u001b[37m\u001b[0m \u001b[1m0s\u001b[0m 2ms/step - loss: 2.3699e-04 - mae: 0.0112 - mape: 110487.8203 - mse: 2.3699e-04 - val_loss: 4.3247e-04 - val_mae: 0.0150 - val_mape: 2.5226 - val_mse: 4.3247e-04\n",
      "Epoch 26/50\n",
      "\u001b[1m90/90\u001b[0m \u001b[32m━━━━━━━━━━━━━━━━━━━━\u001b[0m\u001b[37m\u001b[0m \u001b[1m0s\u001b[0m 2ms/step - loss: 2.1031e-04 - mae: 0.0107 - mape: 37798.7734 - mse: 2.1031e-04 - val_loss: 4.4910e-04 - val_mae: 0.0154 - val_mape: 2.5786 - val_mse: 4.4910e-04\n",
      "Epoch 27/50\n",
      "\u001b[1m90/90\u001b[0m \u001b[32m━━━━━━━━━━━━━━━━━━━━\u001b[0m\u001b[37m\u001b[0m \u001b[1m0s\u001b[0m 2ms/step - loss: 2.1053e-04 - mae: 0.0106 - mape: 36700.9727 - mse: 2.1053e-04 - val_loss: 4.5401e-04 - val_mae: 0.0155 - val_mape: 2.5989 - val_mse: 4.5401e-04\n",
      "Epoch 28/50\n",
      "\u001b[1m90/90\u001b[0m \u001b[32m━━━━━━━━━━━━━━━━━━━━\u001b[0m\u001b[37m\u001b[0m \u001b[1m0s\u001b[0m 2ms/step - loss: 2.2772e-04 - mae: 0.0108 - mape: 37348.3867 - mse: 2.2772e-04 - val_loss: 4.3800e-04 - val_mae: 0.0152 - val_mape: 2.5504 - val_mse: 4.3800e-04\n",
      "Epoch 29/50\n",
      "\u001b[1m90/90\u001b[0m \u001b[32m━━━━━━━━━━━━━━━━━━━━\u001b[0m\u001b[37m\u001b[0m \u001b[1m0s\u001b[0m 2ms/step - loss: 2.0307e-04 - mae: 0.0104 - mape: 78008.6797 - mse: 2.0307e-04 - val_loss: 4.6851e-04 - val_mae: 0.0159 - val_mape: 2.6587 - val_mse: 4.6851e-04\n",
      "Epoch 30/50\n",
      "\u001b[1m90/90\u001b[0m \u001b[32m━━━━━━━━━━━━━━━━━━━━\u001b[0m\u001b[37m\u001b[0m \u001b[1m0s\u001b[0m 2ms/step - loss: 1.9726e-04 - mae: 0.0102 - mape: 5286.8018 - mse: 1.9726e-04 - val_loss: 4.7626e-04 - val_mae: 0.0161 - val_mape: 2.6925 - val_mse: 4.7626e-04\n",
      "Epoch 31/50\n",
      "\u001b[1m90/90\u001b[0m \u001b[32m━━━━━━━━━━━━━━━━━━━━\u001b[0m\u001b[37m\u001b[0m \u001b[1m0s\u001b[0m 2ms/step - loss: 1.8050e-04 - mae: 0.0099 - mape: 29316.1816 - mse: 1.8050e-04 - val_loss: 4.8103e-04 - val_mae: 0.0162 - val_mape: 2.7183 - val_mse: 4.8103e-04\n",
      "Epoch 32/50\n",
      "\u001b[1m90/90\u001b[0m \u001b[32m━━━━━━━━━━━━━━━━━━━━\u001b[0m\u001b[37m\u001b[0m \u001b[1m0s\u001b[0m 3ms/step - loss: 1.9824e-04 - mae: 0.0102 - mape: 30801.2891 - mse: 1.9824e-04 - val_loss: 4.7306e-04 - val_mae: 0.0161 - val_mape: 2.6968 - val_mse: 4.7306e-04\n",
      "Epoch 33/50\n",
      "\u001b[1m90/90\u001b[0m \u001b[32m━━━━━━━━━━━━━━━━━━━━\u001b[0m\u001b[37m\u001b[0m \u001b[1m0s\u001b[0m 2ms/step - loss: 1.8982e-04 - mae: 0.0100 - mape: 18333.2949 - mse: 1.8982e-04 - val_loss: 4.5895e-04 - val_mae: 0.0157 - val_mape: 2.6462 - val_mse: 4.5895e-04\n",
      "Epoch 34/50\n",
      "\u001b[1m90/90\u001b[0m \u001b[32m━━━━━━━━━━━━━━━━━━━━\u001b[0m\u001b[37m\u001b[0m \u001b[1m0s\u001b[0m 2ms/step - loss: 1.9338e-04 - mae: 0.0101 - mape: 37792.1211 - mse: 1.9338e-04 - val_loss: 4.1782e-04 - val_mae: 0.0149 - val_mape: 2.5101 - val_mse: 4.1782e-04\n",
      "Epoch 35/50\n",
      "\u001b[1m90/90\u001b[0m \u001b[32m━━━━━━━━━━━━━━━━━━━━\u001b[0m\u001b[37m\u001b[0m \u001b[1m0s\u001b[0m 2ms/step - loss: 1.9785e-04 - mae: 0.0103 - mape: 15956.9873 - mse: 1.9785e-04 - val_loss: 4.2573e-04 - val_mae: 0.0151 - val_mape: 2.5403 - val_mse: 4.2573e-04\n",
      "Epoch 36/50\n",
      "\u001b[1m90/90\u001b[0m \u001b[32m━━━━━━━━━━━━━━━━━━━━\u001b[0m\u001b[37m\u001b[0m \u001b[1m0s\u001b[0m 2ms/step - loss: 1.9765e-04 - mae: 0.0101 - mape: 30751.2246 - mse: 1.9765e-04 - val_loss: 4.8954e-04 - val_mae: 0.0165 - val_mape: 2.7857 - val_mse: 4.8954e-04\n",
      "Epoch 37/50\n",
      "\u001b[1m90/90\u001b[0m \u001b[32m━━━━━━━━━━━━━━━━━━━━\u001b[0m\u001b[37m\u001b[0m \u001b[1m0s\u001b[0m 2ms/step - loss: 1.8644e-04 - mae: 0.0099 - mape: 22781.8008 - mse: 1.8644e-04 - val_loss: 4.1918e-04 - val_mae: 0.0150 - val_mape: 2.5262 - val_mse: 4.1918e-04\n",
      "Epoch 38/50\n",
      "\u001b[1m90/90\u001b[0m \u001b[32m━━━━━━━━━━━━━━━━━━━━\u001b[0m\u001b[37m\u001b[0m \u001b[1m0s\u001b[0m 2ms/step - loss: 1.7888e-04 - mae: 0.0098 - mape: 14089.7900 - mse: 1.7888e-04 - val_loss: 4.5174e-04 - val_mae: 0.0157 - val_mape: 2.6548 - val_mse: 4.5174e-04\n",
      "Epoch 39/50\n",
      "\u001b[1m90/90\u001b[0m \u001b[32m━━━━━━━━━━━━━━━━━━━━\u001b[0m\u001b[37m\u001b[0m \u001b[1m0s\u001b[0m 2ms/step - loss: 1.8324e-04 - mae: 0.0099 - mape: 42762.3086 - mse: 1.8324e-04 - val_loss: 4.4636e-04 - val_mae: 0.0156 - val_mape: 2.6399 - val_mse: 4.4636e-04\n",
      "Epoch 40/50\n",
      "\u001b[1m90/90\u001b[0m \u001b[32m━━━━━━━━━━━━━━━━━━━━\u001b[0m\u001b[37m\u001b[0m \u001b[1m0s\u001b[0m 2ms/step - loss: 1.8860e-04 - mae: 0.0101 - mape: 7921.7676 - mse: 1.8860e-04 - val_loss: 4.2655e-04 - val_mae: 0.0152 - val_mape: 2.5654 - val_mse: 4.2655e-04\n",
      "Epoch 41/50\n",
      "\u001b[1m90/90\u001b[0m \u001b[32m━━━━━━━━━━━━━━━━━━━━\u001b[0m\u001b[37m\u001b[0m \u001b[1m0s\u001b[0m 2ms/step - loss: 1.6952e-04 - mae: 0.0096 - mape: 33378.3672 - mse: 1.6952e-04 - val_loss: 4.3297e-04 - val_mae: 0.0153 - val_mape: 2.5882 - val_mse: 4.3297e-04\n",
      "Epoch 42/50\n",
      "\u001b[1m90/90\u001b[0m \u001b[32m━━━━━━━━━━━━━━━━━━━━\u001b[0m\u001b[37m\u001b[0m \u001b[1m0s\u001b[0m 2ms/step - loss: 1.7232e-04 - mae: 0.0096 - mape: 14770.9160 - mse: 1.7232e-04 - val_loss: 4.2174e-04 - val_mae: 0.0151 - val_mape: 2.5525 - val_mse: 4.2174e-04\n",
      "Epoch 43/50\n",
      "\u001b[1m90/90\u001b[0m \u001b[32m━━━━━━━━━━━━━━━━━━━━\u001b[0m\u001b[37m\u001b[0m \u001b[1m0s\u001b[0m 2ms/step - loss: 1.8823e-04 - mae: 0.0099 - mape: 5008.5664 - mse: 1.8823e-04 - val_loss: 4.0203e-04 - val_mae: 0.0146 - val_mape: 2.4665 - val_mse: 4.0203e-04\n",
      "Epoch 44/50\n",
      "\u001b[1m90/90\u001b[0m \u001b[32m━━━━━━━━━━━━━━━━━━━━\u001b[0m\u001b[37m\u001b[0m \u001b[1m0s\u001b[0m 2ms/step - loss: 1.6542e-04 - mae: 0.0095 - mape: 11695.0967 - mse: 1.6542e-04 - val_loss: 4.0021e-04 - val_mae: 0.0146 - val_mape: 2.4551 - val_mse: 4.0021e-04\n",
      "Epoch 45/50\n",
      "\u001b[1m90/90\u001b[0m \u001b[32m━━━━━━━━━━━━━━━━━━━━\u001b[0m\u001b[37m\u001b[0m \u001b[1m0s\u001b[0m 2ms/step - loss: 1.7629e-04 - mae: 0.0099 - mape: 4360.7622 - mse: 1.7629e-04 - val_loss: 4.4268e-04 - val_mae: 0.0156 - val_mape: 2.6479 - val_mse: 4.4268e-04\n",
      "Epoch 46/50\n",
      "\u001b[1m90/90\u001b[0m \u001b[32m━━━━━━━━━━━━━━━━━━━━\u001b[0m\u001b[37m\u001b[0m \u001b[1m0s\u001b[0m 2ms/step - loss: 1.8334e-04 - mae: 0.0100 - mape: 16942.8145 - mse: 1.8334e-04 - val_loss: 4.9709e-04 - val_mae: 0.0169 - val_mape: 2.8577 - val_mse: 4.9709e-04\n",
      "Epoch 47/50\n",
      "\u001b[1m90/90\u001b[0m \u001b[32m━━━━━━━━━━━━━━━━━━━━\u001b[0m\u001b[37m\u001b[0m \u001b[1m0s\u001b[0m 2ms/step - loss: 1.7919e-04 - mae: 0.0098 - mape: 20725.1543 - mse: 1.7919e-04 - val_loss: 3.9638e-04 - val_mae: 0.0145 - val_mape: 2.4433 - val_mse: 3.9638e-04\n",
      "Epoch 48/50\n",
      "\u001b[1m90/90\u001b[0m \u001b[32m━━━━━━━━━━━━━━━━━━━━\u001b[0m\u001b[37m\u001b[0m \u001b[1m0s\u001b[0m 2ms/step - loss: 1.7182e-04 - mae: 0.0097 - mape: 21157.4199 - mse: 1.7182e-04 - val_loss: 4.2013e-04 - val_mae: 0.0151 - val_mape: 2.5528 - val_mse: 4.2013e-04\n",
      "Epoch 49/50\n",
      "\u001b[1m90/90\u001b[0m \u001b[32m━━━━━━━━━━━━━━━━━━━━\u001b[0m\u001b[37m\u001b[0m \u001b[1m0s\u001b[0m 2ms/step - loss: 1.8362e-04 - mae: 0.0099 - mape: 78312.3516 - mse: 1.8362e-04 - val_loss: 4.4790e-04 - val_mae: 0.0157 - val_mape: 2.6666 - val_mse: 4.4790e-04\n",
      "Epoch 50/50\n",
      "\u001b[1m90/90\u001b[0m \u001b[32m━━━━━━━━━━━━━━━━━━━━\u001b[0m\u001b[37m\u001b[0m \u001b[1m0s\u001b[0m 2ms/step - loss: 1.8065e-04 - mae: 0.0098 - mape: 10610.1562 - mse: 1.8065e-04 - val_loss: 4.4301e-04 - val_mae: 0.0156 - val_mape: 2.6504 - val_mse: 4.4301e-04\n"
     ]
    },
    {
     "name": "stderr",
     "output_type": "stream",
     "text": [
      "WARNING:absl:You are saving your model as an HDF5 file via `model.save()` or `keras.saving.save_model(model)`. This file format is considered legacy. We recommend using instead the native Keras format, e.g. `model.save('my_model.keras')` or `keras.saving.save_model(model, 'my_model.keras')`. \n"
     ]
    },
    {
     "name": "stdout",
     "output_type": "stream",
     "text": [
      "\u001b[1m23/23\u001b[0m \u001b[32m━━━━━━━━━━━━━━━━━━━━\u001b[0m\u001b[37m\u001b[0m \u001b[1m0s\u001b[0m 5ms/step\n"
     ]
    },
    {
     "name": "stderr",
     "output_type": "stream",
     "text": [
      "Processando combinações:  14%|█▍        | 1/7 [00:37<03:44, 37.36s/it]"
     ]
    },
    {
     "name": "stdout",
     "output_type": "stream",
     "text": [
      "model_1: Processando PETR4 | Combinação 2...\n",
      "Epoch 1/50\n",
      "\u001b[1m90/90\u001b[0m \u001b[32m━━━━━━━━━━━━━━━━━━━━\u001b[0m\u001b[37m\u001b[0m \u001b[1m1s\u001b[0m 5ms/step - loss: 0.0915 - mae: 0.2448 - mape: 48021.8281 - mse: 0.0915 - val_loss: 0.0079 - val_mae: 0.0735 - val_mape: 16.1298 - val_mse: 0.0079\n",
      "Epoch 2/50\n",
      "\u001b[1m90/90\u001b[0m \u001b[32m━━━━━━━━━━━━━━━━━━━━\u001b[0m\u001b[37m\u001b[0m \u001b[1m0s\u001b[0m 2ms/step - loss: 0.0110 - mae: 0.0843 - mape: 56987.1602 - mse: 0.0110 - val_loss: 0.0043 - val_mae: 0.0523 - val_mape: 11.3924 - val_mse: 0.0043\n",
      "Epoch 3/50\n",
      "\u001b[1m90/90\u001b[0m \u001b[32m━━━━━━━━━━━━━━━━━━━━\u001b[0m\u001b[37m\u001b[0m \u001b[1m0s\u001b[0m 2ms/step - loss: 0.0040 - mae: 0.0509 - mape: 11239.6045 - mse: 0.0040 - val_loss: 0.0022 - val_mae: 0.0367 - val_mape: 7.8505 - val_mse: 0.0022\n",
      "Epoch 4/50\n",
      "\u001b[1m90/90\u001b[0m \u001b[32m━━━━━━━━━━━━━━━━━━━━\u001b[0m\u001b[37m\u001b[0m \u001b[1m0s\u001b[0m 2ms/step - loss: 0.0011 - mae: 0.0261 - mape: 57625.7539 - mse: 0.0011 - val_loss: 0.0012 - val_mae: 0.0269 - val_mape: 5.9918 - val_mse: 0.0012\n",
      "Epoch 5/50\n",
      "\u001b[1m90/90\u001b[0m \u001b[32m━━━━━━━━━━━━━━━━━━━━\u001b[0m\u001b[37m\u001b[0m \u001b[1m0s\u001b[0m 2ms/step - loss: 4.4368e-04 - mae: 0.0156 - mape: 12787.5293 - mse: 4.4368e-04 - val_loss: 8.5455e-04 - val_mae: 0.0225 - val_mape: 5.1645 - val_mse: 8.5455e-04\n",
      "Epoch 6/50\n",
      "\u001b[1m90/90\u001b[0m \u001b[32m━━━━━━━━━━━━━━━━━━━━\u001b[0m\u001b[37m\u001b[0m \u001b[1m0s\u001b[0m 2ms/step - loss: 4.3462e-04 - mae: 0.0148 - mape: 4085.5906 - mse: 4.3462e-04 - val_loss: 7.6967e-04 - val_mae: 0.0214 - val_mape: 4.9574 - val_mse: 7.6967e-04\n",
      "Epoch 7/50\n",
      "\u001b[1m90/90\u001b[0m \u001b[32m━━━━━━━━━━━━━━━━━━━━\u001b[0m\u001b[37m\u001b[0m \u001b[1m0s\u001b[0m 2ms/step - loss: 3.5024e-04 - mae: 0.0136 - mape: 5726.3931 - mse: 3.5024e-04 - val_loss: 6.6327e-04 - val_mae: 0.0197 - val_mape: 4.5669 - val_mse: 6.6327e-04\n",
      "Epoch 8/50\n",
      "\u001b[1m90/90\u001b[0m \u001b[32m━━━━━━━━━━━━━━━━━━━━\u001b[0m\u001b[37m\u001b[0m \u001b[1m0s\u001b[0m 2ms/step - loss: 3.2362e-04 - mae: 0.0128 - mape: 14925.3018 - mse: 3.2362e-04 - val_loss: 6.0759e-04 - val_mae: 0.0188 - val_mape: 4.3711 - val_mse: 6.0759e-04\n",
      "Epoch 9/50\n",
      "\u001b[1m90/90\u001b[0m \u001b[32m━━━━━━━━━━━━━━━━━━━━\u001b[0m\u001b[37m\u001b[0m \u001b[1m0s\u001b[0m 2ms/step - loss: 2.8949e-04 - mae: 0.0123 - mape: 7857.7417 - mse: 2.8949e-04 - val_loss: 5.4295e-04 - val_mae: 0.0175 - val_mape: 4.0657 - val_mse: 5.4295e-04\n",
      "Epoch 10/50\n",
      "\u001b[1m90/90\u001b[0m \u001b[32m━━━━━━━━━━━━━━━━━━━━\u001b[0m\u001b[37m\u001b[0m \u001b[1m0s\u001b[0m 3ms/step - loss: 2.7097e-04 - mae: 0.0119 - mape: 2620.5850 - mse: 2.7097e-04 - val_loss: 5.0312e-04 - val_mae: 0.0167 - val_mape: 3.8732 - val_mse: 5.0312e-04\n",
      "Epoch 11/50\n",
      "\u001b[1m90/90\u001b[0m \u001b[32m━━━━━━━━━━━━━━━━━━━━\u001b[0m\u001b[37m\u001b[0m \u001b[1m0s\u001b[0m 3ms/step - loss: 2.4965e-04 - mae: 0.0115 - mape: 1544.8929 - mse: 2.4965e-04 - val_loss: 4.7838e-04 - val_mae: 0.0162 - val_mape: 3.7570 - val_mse: 4.7838e-04\n",
      "Epoch 12/50\n",
      "\u001b[1m90/90\u001b[0m \u001b[32m━━━━━━━━━━━━━━━━━━━━\u001b[0m\u001b[37m\u001b[0m \u001b[1m0s\u001b[0m 2ms/step - loss: 2.4464e-04 - mae: 0.0115 - mape: 6980.0493 - mse: 2.4464e-04 - val_loss: 4.5137e-04 - val_mae: 0.0155 - val_mape: 3.6141 - val_mse: 4.5137e-04\n",
      "Epoch 13/50\n",
      "\u001b[1m90/90\u001b[0m \u001b[32m━━━━━━━━━━━━━━━━━━━━\u001b[0m\u001b[37m\u001b[0m \u001b[1m0s\u001b[0m 2ms/step - loss: 2.4002e-04 - mae: 0.0110 - mape: 15159.4883 - mse: 2.4002e-04 - val_loss: 4.3407e-04 - val_mae: 0.0150 - val_mape: 3.4765 - val_mse: 4.3407e-04\n",
      "Epoch 14/50\n",
      "\u001b[1m90/90\u001b[0m \u001b[32m━━━━━━━━━━━━━━━━━━━━\u001b[0m\u001b[37m\u001b[0m \u001b[1m0s\u001b[0m 2ms/step - loss: 2.0808e-04 - mae: 0.0104 - mape: 2369.4856 - mse: 2.0808e-04 - val_loss: 4.1957e-04 - val_mae: 0.0145 - val_mape: 3.3823 - val_mse: 4.1957e-04\n",
      "Epoch 15/50\n",
      "\u001b[1m90/90\u001b[0m \u001b[32m━━━━━━━━━━━━━━━━━━━━\u001b[0m\u001b[37m\u001b[0m \u001b[1m0s\u001b[0m 2ms/step - loss: 1.9174e-04 - mae: 0.0101 - mape: 733.6086 - mse: 1.9174e-04 - val_loss: 4.0541e-04 - val_mae: 0.0141 - val_mape: 3.3009 - val_mse: 4.0541e-04\n",
      "Epoch 16/50\n",
      "\u001b[1m90/90\u001b[0m \u001b[32m━━━━━━━━━━━━━━━━━━━━\u001b[0m\u001b[37m\u001b[0m \u001b[1m0s\u001b[0m 2ms/step - loss: 1.9770e-04 - mae: 0.0100 - mape: 401.7616 - mse: 1.9770e-04 - val_loss: 4.1225e-04 - val_mae: 0.0141 - val_mape: 3.2739 - val_mse: 4.1225e-04\n",
      "Epoch 17/50\n",
      "\u001b[1m90/90\u001b[0m \u001b[32m━━━━━━━━━━━━━━━━━━━━\u001b[0m\u001b[37m\u001b[0m \u001b[1m0s\u001b[0m 2ms/step - loss: 2.0958e-04 - mae: 0.0103 - mape: 8428.5000 - mse: 2.0958e-04 - val_loss: 3.9143e-04 - val_mae: 0.0137 - val_mape: 3.2049 - val_mse: 3.9143e-04\n",
      "Epoch 18/50\n",
      "\u001b[1m90/90\u001b[0m \u001b[32m━━━━━━━━━━━━━━━━━━━━\u001b[0m\u001b[37m\u001b[0m \u001b[1m0s\u001b[0m 2ms/step - loss: 1.8882e-04 - mae: 0.0099 - mape: 6700.4531 - mse: 1.8882e-04 - val_loss: 3.8714e-04 - val_mae: 0.0135 - val_mape: 3.1519 - val_mse: 3.8714e-04\n",
      "Epoch 19/50\n",
      "\u001b[1m90/90\u001b[0m \u001b[32m━━━━━━━━━━━━━━━━━━━━\u001b[0m\u001b[37m\u001b[0m \u001b[1m0s\u001b[0m 2ms/step - loss: 1.9007e-04 - mae: 0.0099 - mape: 3204.3430 - mse: 1.9007e-04 - val_loss: 4.0037e-04 - val_mae: 0.0135 - val_mape: 3.1534 - val_mse: 4.0037e-04\n",
      "Epoch 20/50\n",
      "\u001b[1m90/90\u001b[0m \u001b[32m━━━━━━━━━━━━━━━━━━━━\u001b[0m\u001b[37m\u001b[0m \u001b[1m0s\u001b[0m 3ms/step - loss: 1.8276e-04 - mae: 0.0096 - mape: 8685.4248 - mse: 1.8276e-04 - val_loss: 3.7033e-04 - val_mae: 0.0131 - val_mape: 3.0920 - val_mse: 3.7033e-04\n",
      "Epoch 21/50\n",
      "\u001b[1m90/90\u001b[0m \u001b[32m━━━━━━━━━━━━━━━━━━━━\u001b[0m\u001b[37m\u001b[0m \u001b[1m0s\u001b[0m 2ms/step - loss: 1.7944e-04 - mae: 0.0095 - mape: 2488.1377 - mse: 1.7944e-04 - val_loss: 3.7505e-04 - val_mae: 0.0129 - val_mape: 3.0346 - val_mse: 3.7505e-04\n",
      "Epoch 22/50\n",
      "\u001b[1m90/90\u001b[0m \u001b[32m━━━━━━━━━━━━━━━━━━━━\u001b[0m\u001b[37m\u001b[0m \u001b[1m0s\u001b[0m 2ms/step - loss: 1.7794e-04 - mae: 0.0094 - mape: 4644.3179 - mse: 1.7794e-04 - val_loss: 3.8315e-04 - val_mae: 0.0130 - val_mape: 3.0558 - val_mse: 3.8315e-04\n",
      "Epoch 23/50\n",
      "\u001b[1m90/90\u001b[0m \u001b[32m━━━━━━━━━━━━━━━━━━━━\u001b[0m\u001b[37m\u001b[0m \u001b[1m0s\u001b[0m 3ms/step - loss: 1.8325e-04 - mae: 0.0096 - mape: 12939.0508 - mse: 1.8325e-04 - val_loss: 3.6137e-04 - val_mae: 0.0130 - val_mape: 3.0686 - val_mse: 3.6137e-04\n",
      "Epoch 24/50\n",
      "\u001b[1m90/90\u001b[0m \u001b[32m━━━━━━━━━━━━━━━━━━━━\u001b[0m\u001b[37m\u001b[0m \u001b[1m0s\u001b[0m 2ms/step - loss: 1.8183e-04 - mae: 0.0097 - mape: 13804.7002 - mse: 1.8183e-04 - val_loss: 3.5671e-04 - val_mae: 0.0126 - val_mape: 2.9898 - val_mse: 3.5671e-04\n",
      "Epoch 25/50\n",
      "\u001b[1m90/90\u001b[0m \u001b[32m━━━━━━━━━━━━━━━━━━━━\u001b[0m\u001b[37m\u001b[0m \u001b[1m0s\u001b[0m 2ms/step - loss: 1.7051e-04 - mae: 0.0092 - mape: 13756.8945 - mse: 1.7051e-04 - val_loss: 3.7691e-04 - val_mae: 0.0128 - val_mape: 3.0150 - val_mse: 3.7691e-04\n",
      "Epoch 26/50\n",
      "\u001b[1m90/90\u001b[0m \u001b[32m━━━━━━━━━━━━━━━━━━━━\u001b[0m\u001b[37m\u001b[0m \u001b[1m0s\u001b[0m 2ms/step - loss: 1.8345e-04 - mae: 0.0096 - mape: 7308.5771 - mse: 1.8345e-04 - val_loss: 3.6855e-04 - val_mae: 0.0126 - val_mape: 2.9745 - val_mse: 3.6855e-04\n",
      "Epoch 27/50\n",
      "\u001b[1m90/90\u001b[0m \u001b[32m━━━━━━━━━━━━━━━━━━━━\u001b[0m\u001b[37m\u001b[0m \u001b[1m0s\u001b[0m 2ms/step - loss: 1.7154e-04 - mae: 0.0093 - mape: 3654.7163 - mse: 1.7154e-04 - val_loss: 3.5796e-04 - val_mae: 0.0124 - val_mape: 2.9374 - val_mse: 3.5796e-04\n",
      "Epoch 28/50\n",
      "\u001b[1m90/90\u001b[0m \u001b[32m━━━━━━━━━━━━━━━━━━━━\u001b[0m\u001b[37m\u001b[0m \u001b[1m0s\u001b[0m 2ms/step - loss: 1.7468e-04 - mae: 0.0095 - mape: 2596.4141 - mse: 1.7468e-04 - val_loss: 3.5852e-04 - val_mae: 0.0125 - val_mape: 2.9509 - val_mse: 3.5852e-04\n",
      "Epoch 29/50\n",
      "\u001b[1m90/90\u001b[0m \u001b[32m━━━━━━━━━━━━━━━━━━━━\u001b[0m\u001b[37m\u001b[0m \u001b[1m0s\u001b[0m 2ms/step - loss: 1.7488e-04 - mae: 0.0095 - mape: 375.5422 - mse: 1.7488e-04 - val_loss: 4.0107e-04 - val_mae: 0.0134 - val_mape: 3.1353 - val_mse: 4.0107e-04\n",
      "Epoch 30/50\n",
      "\u001b[1m90/90\u001b[0m \u001b[32m━━━━━━━━━━━━━━━━━━━━\u001b[0m\u001b[37m\u001b[0m \u001b[1m0s\u001b[0m 2ms/step - loss: 1.6158e-04 - mae: 0.0092 - mape: 12674.4248 - mse: 1.6158e-04 - val_loss: 3.4644e-04 - val_mae: 0.0124 - val_mape: 2.9501 - val_mse: 3.4644e-04\n",
      "Epoch 31/50\n",
      "\u001b[1m90/90\u001b[0m \u001b[32m━━━━━━━━━━━━━━━━━━━━\u001b[0m\u001b[37m\u001b[0m \u001b[1m0s\u001b[0m 2ms/step - loss: 1.6544e-04 - mae: 0.0093 - mape: 8367.0088 - mse: 1.6544e-04 - val_loss: 3.7782e-04 - val_mae: 0.0128 - val_mape: 3.0105 - val_mse: 3.7782e-04\n",
      "Epoch 32/50\n",
      "\u001b[1m90/90\u001b[0m \u001b[32m━━━━━━━━━━━━━━━━━━━━\u001b[0m\u001b[37m\u001b[0m \u001b[1m0s\u001b[0m 2ms/step - loss: 1.8281e-04 - mae: 0.0096 - mape: 14380.5273 - mse: 1.8281e-04 - val_loss: 3.6289e-04 - val_mae: 0.0124 - val_mape: 2.9350 - val_mse: 3.6289e-04\n",
      "Epoch 33/50\n",
      "\u001b[1m90/90\u001b[0m \u001b[32m━━━━━━━━━━━━━━━━━━━━\u001b[0m\u001b[37m\u001b[0m \u001b[1m0s\u001b[0m 3ms/step - loss: 1.6891e-04 - mae: 0.0092 - mape: 654.2709 - mse: 1.6891e-04 - val_loss: 3.6922e-04 - val_mae: 0.0126 - val_mape: 2.9749 - val_mse: 3.6922e-04\n",
      "Epoch 34/50\n",
      "\u001b[1m90/90\u001b[0m \u001b[32m━━━━━━━━━━━━━━━━━━━━\u001b[0m\u001b[37m\u001b[0m \u001b[1m0s\u001b[0m 2ms/step - loss: 1.7333e-04 - mae: 0.0095 - mape: 3501.3677 - mse: 1.7333e-04 - val_loss: 3.5263e-04 - val_mae: 0.0123 - val_mape: 2.9111 - val_mse: 3.5263e-04\n",
      "Epoch 35/50\n",
      "\u001b[1m90/90\u001b[0m \u001b[32m━━━━━━━━━━━━━━━━━━━━\u001b[0m\u001b[37m\u001b[0m \u001b[1m0s\u001b[0m 3ms/step - loss: 1.8134e-04 - mae: 0.0095 - mape: 11148.6650 - mse: 1.8134e-04 - val_loss: 3.4907e-04 - val_mae: 0.0122 - val_mape: 2.8804 - val_mse: 3.4907e-04\n",
      "Epoch 36/50\n",
      "\u001b[1m90/90\u001b[0m \u001b[32m━━━━━━━━━━━━━━━━━━━━\u001b[0m\u001b[37m\u001b[0m \u001b[1m0s\u001b[0m 2ms/step - loss: 1.7806e-04 - mae: 0.0093 - mape: 2396.3604 - mse: 1.7806e-04 - val_loss: 3.4196e-04 - val_mae: 0.0121 - val_mape: 2.8759 - val_mse: 3.4196e-04\n",
      "Epoch 37/50\n",
      "\u001b[1m90/90\u001b[0m \u001b[32m━━━━━━━━━━━━━━━━━━━━\u001b[0m\u001b[37m\u001b[0m \u001b[1m0s\u001b[0m 2ms/step - loss: 1.7260e-04 - mae: 0.0093 - mape: 2671.8362 - mse: 1.7260e-04 - val_loss: 3.5430e-04 - val_mae: 0.0123 - val_mape: 2.9101 - val_mse: 3.5430e-04\n",
      "Epoch 38/50\n",
      "\u001b[1m90/90\u001b[0m \u001b[32m━━━━━━━━━━━━━━━━━━━━\u001b[0m\u001b[37m\u001b[0m \u001b[1m0s\u001b[0m 2ms/step - loss: 1.8646e-04 - mae: 0.0095 - mape: 2480.6260 - mse: 1.8646e-04 - val_loss: 3.4607e-04 - val_mae: 0.0122 - val_mape: 2.8977 - val_mse: 3.4607e-04\n",
      "Epoch 39/50\n",
      "\u001b[1m90/90\u001b[0m \u001b[32m━━━━━━━━━━━━━━━━━━━━\u001b[0m\u001b[37m\u001b[0m \u001b[1m0s\u001b[0m 2ms/step - loss: 1.8110e-04 - mae: 0.0096 - mape: 2101.4045 - mse: 1.8110e-04 - val_loss: 3.3819e-04 - val_mae: 0.0121 - val_mape: 2.8770 - val_mse: 3.3819e-04\n",
      "Epoch 40/50\n",
      "\u001b[1m90/90\u001b[0m \u001b[32m━━━━━━━━━━━━━━━━━━━━\u001b[0m\u001b[37m\u001b[0m \u001b[1m0s\u001b[0m 2ms/step - loss: 1.7011e-04 - mae: 0.0093 - mape: 1989.6024 - mse: 1.7011e-04 - val_loss: 3.4047e-04 - val_mae: 0.0121 - val_mape: 2.8805 - val_mse: 3.4047e-04\n",
      "Epoch 41/50\n",
      "\u001b[1m90/90\u001b[0m \u001b[32m━━━━━━━━━━━━━━━━━━━━\u001b[0m\u001b[37m\u001b[0m \u001b[1m0s\u001b[0m 2ms/step - loss: 1.7877e-04 - mae: 0.0094 - mape: 9651.5225 - mse: 1.7877e-04 - val_loss: 3.5466e-04 - val_mae: 0.0123 - val_mape: 2.9032 - val_mse: 3.5466e-04\n",
      "Epoch 42/50\n",
      "\u001b[1m90/90\u001b[0m \u001b[32m━━━━━━━━━━━━━━━━━━━━\u001b[0m\u001b[37m\u001b[0m \u001b[1m0s\u001b[0m 2ms/step - loss: 1.6261e-04 - mae: 0.0092 - mape: 5528.9609 - mse: 1.6261e-04 - val_loss: 3.4060e-04 - val_mae: 0.0121 - val_mape: 2.8677 - val_mse: 3.4060e-04\n",
      "Epoch 43/50\n",
      "\u001b[1m90/90\u001b[0m \u001b[32m━━━━━━━━━━━━━━━━━━━━\u001b[0m\u001b[37m\u001b[0m \u001b[1m0s\u001b[0m 2ms/step - loss: 1.8162e-04 - mae: 0.0095 - mape: 750.7820 - mse: 1.8162e-04 - val_loss: 3.3902e-04 - val_mae: 0.0121 - val_mape: 2.8659 - val_mse: 3.3902e-04\n",
      "Epoch 44/50\n",
      "\u001b[1m90/90\u001b[0m \u001b[32m━━━━━━━━━━━━━━━━━━━━\u001b[0m\u001b[37m\u001b[0m \u001b[1m0s\u001b[0m 2ms/step - loss: 1.6734e-04 - mae: 0.0091 - mape: 1716.3419 - mse: 1.6734e-04 - val_loss: 3.6179e-04 - val_mae: 0.0126 - val_mape: 2.9613 - val_mse: 3.6179e-04\n",
      "Epoch 45/50\n",
      "\u001b[1m90/90\u001b[0m \u001b[32m━━━━━━━━━━━━━━━━━━━━\u001b[0m\u001b[37m\u001b[0m \u001b[1m0s\u001b[0m 2ms/step - loss: 1.6883e-04 - mae: 0.0091 - mape: 1157.3369 - mse: 1.6883e-04 - val_loss: 3.4676e-04 - val_mae: 0.0122 - val_mape: 2.8860 - val_mse: 3.4676e-04\n",
      "Epoch 46/50\n",
      "\u001b[1m90/90\u001b[0m \u001b[32m━━━━━━━━━━━━━━━━━━━━\u001b[0m\u001b[37m\u001b[0m \u001b[1m0s\u001b[0m 2ms/step - loss: 1.6273e-04 - mae: 0.0090 - mape: 725.4935 - mse: 1.6273e-04 - val_loss: 3.7483e-04 - val_mae: 0.0128 - val_mape: 3.0170 - val_mse: 3.7483e-04\n",
      "Epoch 47/50\n",
      "\u001b[1m90/90\u001b[0m \u001b[32m━━━━━━━━━━━━━━━━━━━━\u001b[0m\u001b[37m\u001b[0m \u001b[1m0s\u001b[0m 2ms/step - loss: 1.7067e-04 - mae: 0.0090 - mape: 4296.5688 - mse: 1.7067e-04 - val_loss: 3.6478e-04 - val_mae: 0.0126 - val_mape: 2.9740 - val_mse: 3.6478e-04\n",
      "Epoch 48/50\n",
      "\u001b[1m90/90\u001b[0m \u001b[32m━━━━━━━━━━━━━━━━━━━━\u001b[0m\u001b[37m\u001b[0m \u001b[1m0s\u001b[0m 2ms/step - loss: 1.6123e-04 - mae: 0.0091 - mape: 956.7716 - mse: 1.6123e-04 - val_loss: 3.2931e-04 - val_mae: 0.0122 - val_mape: 2.8825 - val_mse: 3.2931e-04\n",
      "Epoch 49/50\n",
      "\u001b[1m90/90\u001b[0m \u001b[32m━━━━━━━━━━━━━━━━━━━━\u001b[0m\u001b[37m\u001b[0m \u001b[1m0s\u001b[0m 2ms/step - loss: 1.7192e-04 - mae: 0.0093 - mape: 3107.3462 - mse: 1.7192e-04 - val_loss: 3.3246e-04 - val_mae: 0.0123 - val_mape: 2.9170 - val_mse: 3.3246e-04\n",
      "Epoch 50/50\n",
      "\u001b[1m90/90\u001b[0m \u001b[32m━━━━━━━━━━━━━━━━━━━━\u001b[0m\u001b[37m\u001b[0m \u001b[1m0s\u001b[0m 2ms/step - loss: 1.6420e-04 - mae: 0.0091 - mape: 16071.7344 - mse: 1.6420e-04 - val_loss: 3.6943e-04 - val_mae: 0.0127 - val_mape: 2.9885 - val_mse: 3.6943e-04\n"
     ]
    },
    {
     "name": "stderr",
     "output_type": "stream",
     "text": [
      "WARNING:absl:You are saving your model as an HDF5 file via `model.save()` or `keras.saving.save_model(model)`. This file format is considered legacy. We recommend using instead the native Keras format, e.g. `model.save('my_model.keras')` or `keras.saving.save_model(model, 'my_model.keras')`. \n"
     ]
    },
    {
     "name": "stdout",
     "output_type": "stream",
     "text": [
      "\u001b[1m23/23\u001b[0m \u001b[32m━━━━━━━━━━━━━━━━━━━━\u001b[0m\u001b[37m\u001b[0m \u001b[1m0s\u001b[0m 5ms/step\n",
      "model_1: Processando VALE3 | Combinação 2...\n",
      "Epoch 1/50\n",
      "\u001b[1m90/90\u001b[0m \u001b[32m━━━━━━━━━━━━━━━━━━━━\u001b[0m\u001b[37m\u001b[0m \u001b[1m2s\u001b[0m 5ms/step - loss: 0.1219 - mae: 0.2882 - mape: 41020.5430 - mse: 0.1219 - val_loss: 0.0988 - val_mae: 0.2639 - val_mape: 22.0726 - val_mse: 0.0988\n",
      "Epoch 2/50\n",
      "\u001b[1m90/90\u001b[0m \u001b[32m━━━━━━━━━━━━━━━━━━━━\u001b[0m\u001b[37m\u001b[0m \u001b[1m0s\u001b[0m 2ms/step - loss: 0.0076 - mae: 0.0714 - mape: 35127.4844 - mse: 0.0076 - val_loss: 0.0550 - val_mae: 0.1976 - val_mape: 16.6648 - val_mse: 0.0550\n",
      "Epoch 3/50\n",
      "\u001b[1m90/90\u001b[0m \u001b[32m━━━━━━━━━━━━━━━━━━━━\u001b[0m\u001b[37m\u001b[0m \u001b[1m0s\u001b[0m 2ms/step - loss: 0.0038 - mae: 0.0505 - mape: 23187.7148 - mse: 0.0038 - val_loss: 0.0193 - val_mae: 0.1135 - val_mape: 9.5438 - val_mse: 0.0193\n",
      "Epoch 4/50\n",
      "\u001b[1m90/90\u001b[0m \u001b[32m━━━━━━━━━━━━━━━━━━━━\u001b[0m\u001b[37m\u001b[0m \u001b[1m0s\u001b[0m 2ms/step - loss: 0.0015 - mae: 0.0310 - mape: 25846.5898 - mse: 0.0015 - val_loss: 0.0059 - val_mae: 0.0588 - val_mape: 5.0103 - val_mse: 0.0059\n",
      "Epoch 5/50\n",
      "\u001b[1m90/90\u001b[0m \u001b[32m━━━━━━━━━━━━━━━━━━━━\u001b[0m\u001b[37m\u001b[0m \u001b[1m0s\u001b[0m 2ms/step - loss: 5.9282e-04 - mae: 0.0185 - mape: 25537.1875 - mse: 5.9282e-04 - val_loss: 0.0020 - val_mae: 0.0327 - val_mape: 2.9572 - val_mse: 0.0020\n",
      "Epoch 6/50\n",
      "\u001b[1m90/90\u001b[0m \u001b[32m━━━━━━━━━━━━━━━━━━━━\u001b[0m\u001b[37m\u001b[0m \u001b[1m0s\u001b[0m 2ms/step - loss: 3.5655e-04 - mae: 0.0142 - mape: 27610.7461 - mse: 3.5655e-04 - val_loss: 0.0015 - val_mae: 0.0281 - val_mape: 2.6660 - val_mse: 0.0015\n",
      "Epoch 7/50\n",
      "\u001b[1m90/90\u001b[0m \u001b[32m━━━━━━━━━━━━━━━━━━━━\u001b[0m\u001b[37m\u001b[0m \u001b[1m0s\u001b[0m 2ms/step - loss: 3.4408e-04 - mae: 0.0134 - mape: 11234.6758 - mse: 3.4408e-04 - val_loss: 0.0014 - val_mae: 0.0278 - val_mape: 2.6946 - val_mse: 0.0014\n",
      "Epoch 8/50\n",
      "\u001b[1m90/90\u001b[0m \u001b[32m━━━━━━━━━━━━━━━━━━━━\u001b[0m\u001b[37m\u001b[0m \u001b[1m0s\u001b[0m 2ms/step - loss: 3.3738e-04 - mae: 0.0133 - mape: 3395.0000 - mse: 3.3738e-04 - val_loss: 0.0014 - val_mae: 0.0281 - val_mape: 2.7292 - val_mse: 0.0014\n",
      "Epoch 9/50\n",
      "\u001b[1m90/90\u001b[0m \u001b[32m━━━━━━━━━━━━━━━━━━━━\u001b[0m\u001b[37m\u001b[0m \u001b[1m0s\u001b[0m 2ms/step - loss: 2.9938e-04 - mae: 0.0130 - mape: 2442.6602 - mse: 2.9938e-04 - val_loss: 0.0015 - val_mae: 0.0285 - val_mape: 2.7235 - val_mse: 0.0015\n",
      "Epoch 10/50\n",
      "\u001b[1m90/90\u001b[0m \u001b[32m━━━━━━━━━━━━━━━━━━━━\u001b[0m\u001b[37m\u001b[0m \u001b[1m0s\u001b[0m 2ms/step - loss: 3.3791e-04 - mae: 0.0131 - mape: 7923.0415 - mse: 3.3791e-04 - val_loss: 0.0015 - val_mae: 0.0288 - val_mape: 2.7413 - val_mse: 0.0015\n",
      "Epoch 11/50\n",
      "\u001b[1m90/90\u001b[0m \u001b[32m━━━━━━━━━━━━━━━━━━━━\u001b[0m\u001b[37m\u001b[0m \u001b[1m0s\u001b[0m 2ms/step - loss: 3.1372e-04 - mae: 0.0128 - mape: 710.7106 - mse: 3.1372e-04 - val_loss: 0.0016 - val_mae: 0.0295 - val_mape: 2.7817 - val_mse: 0.0016\n",
      "Epoch 12/50\n",
      "\u001b[1m90/90\u001b[0m \u001b[32m━━━━━━━━━━━━━━━━━━━━\u001b[0m\u001b[37m\u001b[0m \u001b[1m0s\u001b[0m 2ms/step - loss: 2.7740e-04 - mae: 0.0124 - mape: 13884.2119 - mse: 2.7740e-04 - val_loss: 0.0018 - val_mae: 0.0306 - val_mape: 2.8183 - val_mse: 0.0018\n",
      "Epoch 13/50\n",
      "\u001b[1m90/90\u001b[0m \u001b[32m━━━━━━━━━━━━━━━━━━━━\u001b[0m\u001b[37m\u001b[0m \u001b[1m0s\u001b[0m 2ms/step - loss: 2.7295e-04 - mae: 0.0123 - mape: 26972.8594 - mse: 2.7295e-04 - val_loss: 0.0019 - val_mae: 0.0312 - val_mape: 2.8658 - val_mse: 0.0019\n",
      "Epoch 14/50\n",
      "\u001b[1m90/90\u001b[0m \u001b[32m━━━━━━━━━━━━━━━━━━━━\u001b[0m\u001b[37m\u001b[0m \u001b[1m0s\u001b[0m 2ms/step - loss: 3.3874e-04 - mae: 0.0131 - mape: 6528.0293 - mse: 3.3874e-04 - val_loss: 0.0021 - val_mae: 0.0328 - val_mape: 2.9606 - val_mse: 0.0021\n",
      "Epoch 15/50\n",
      "\u001b[1m90/90\u001b[0m \u001b[32m━━━━━━━━━━━━━━━━━━━━\u001b[0m\u001b[37m\u001b[0m \u001b[1m0s\u001b[0m 2ms/step - loss: 2.6947e-04 - mae: 0.0123 - mape: 1297.3853 - mse: 2.6947e-04 - val_loss: 0.0023 - val_mae: 0.0342 - val_mape: 3.0513 - val_mse: 0.0023\n",
      "Epoch 16/50\n",
      "\u001b[1m90/90\u001b[0m \u001b[32m━━━━━━━━━━━━━━━━━━━━\u001b[0m\u001b[37m\u001b[0m \u001b[1m0s\u001b[0m 2ms/step - loss: 2.7336e-04 - mae: 0.0120 - mape: 6135.6182 - mse: 2.7336e-04 - val_loss: 0.0026 - val_mae: 0.0362 - val_mape: 3.1817 - val_mse: 0.0026\n",
      "Epoch 17/50\n",
      "\u001b[1m90/90\u001b[0m \u001b[32m━━━━━━━━━━━━━━━━━━━━\u001b[0m\u001b[37m\u001b[0m \u001b[1m0s\u001b[0m 2ms/step - loss: 3.0120e-04 - mae: 0.0126 - mape: 25035.8887 - mse: 3.0120e-04 - val_loss: 0.0024 - val_mae: 0.0351 - val_mape: 3.1193 - val_mse: 0.0024\n"
     ]
    },
    {
     "name": "stderr",
     "output_type": "stream",
     "text": [
      "WARNING:absl:You are saving your model as an HDF5 file via `model.save()` or `keras.saving.save_model(model)`. This file format is considered legacy. We recommend using instead the native Keras format, e.g. `model.save('my_model.keras')` or `keras.saving.save_model(model, 'my_model.keras')`. \n"
     ]
    },
    {
     "name": "stdout",
     "output_type": "stream",
     "text": [
      "\u001b[1m23/23\u001b[0m \u001b[32m━━━━━━━━━━━━━━━━━━━━\u001b[0m\u001b[37m\u001b[0m \u001b[1m0s\u001b[0m 6ms/step\n",
      "model_1: Processando BBDC4 | Combinação 2...\n",
      "Epoch 1/50\n",
      "\u001b[1m88/88\u001b[0m \u001b[32m━━━━━━━━━━━━━━━━━━━━\u001b[0m\u001b[37m\u001b[0m \u001b[1m1s\u001b[0m 5ms/step - loss: 0.0739 - mae: 0.2039 - mape: 35259.8086 - mse: 0.0739 - val_loss: 0.0086 - val_mae: 0.0712 - val_mape: 11.9148 - val_mse: 0.0086\n",
      "Epoch 2/50\n",
      "\u001b[1m88/88\u001b[0m \u001b[32m━━━━━━━━━━━━━━━━━━━━\u001b[0m\u001b[37m\u001b[0m \u001b[1m0s\u001b[0m 2ms/step - loss: 0.0093 - mae: 0.0804 - mape: 3712.8057 - mse: 0.0093 - val_loss: 0.0028 - val_mae: 0.0420 - val_mape: 7.5849 - val_mse: 0.0028\n",
      "Epoch 3/50\n",
      "\u001b[1m88/88\u001b[0m \u001b[32m━━━━━━━━━━━━━━━━━━━━\u001b[0m\u001b[37m\u001b[0m \u001b[1m0s\u001b[0m 2ms/step - loss: 0.0025 - mae: 0.0383 - mape: 63280.4219 - mse: 0.0025 - val_loss: 0.0011 - val_mae: 0.0253 - val_mape: 4.9626 - val_mse: 0.0011\n",
      "Epoch 4/50\n",
      "\u001b[1m88/88\u001b[0m \u001b[32m━━━━━━━━━━━━━━━━━━━━\u001b[0m\u001b[37m\u001b[0m \u001b[1m0s\u001b[0m 2ms/step - loss: 7.9626e-04 - mae: 0.0208 - mape: 8726.4375 - mse: 7.9626e-04 - val_loss: 6.4449e-04 - val_mae: 0.0193 - val_mape: 3.8110 - val_mse: 6.4449e-04\n",
      "Epoch 5/50\n",
      "\u001b[1m88/88\u001b[0m \u001b[32m━━━━━━━━━━━━━━━━━━━━\u001b[0m\u001b[37m\u001b[0m \u001b[1m0s\u001b[0m 3ms/step - loss: 4.6334e-04 - mae: 0.0153 - mape: 40600.1055 - mse: 4.6334e-04 - val_loss: 5.7862e-04 - val_mae: 0.0178 - val_mape: 3.4904 - val_mse: 5.7862e-04\n",
      "Epoch 6/50\n",
      "\u001b[1m88/88\u001b[0m \u001b[32m━━━━━━━━━━━━━━━━━━━━\u001b[0m\u001b[37m\u001b[0m \u001b[1m0s\u001b[0m 2ms/step - loss: 3.6535e-04 - mae: 0.0134 - mape: 5447.1196 - mse: 3.6535e-04 - val_loss: 5.7054e-04 - val_mae: 0.0175 - val_mape: 3.4187 - val_mse: 5.7054e-04\n",
      "Epoch 7/50\n",
      "\u001b[1m88/88\u001b[0m \u001b[32m━━━━━━━━━━━━━━━━━━━━\u001b[0m\u001b[37m\u001b[0m \u001b[1m0s\u001b[0m 2ms/step - loss: 4.0674e-04 - mae: 0.0135 - mape: 20041.7441 - mse: 4.0674e-04 - val_loss: 5.7117e-04 - val_mae: 0.0175 - val_mape: 3.4161 - val_mse: 5.7117e-04\n",
      "Epoch 8/50\n",
      "\u001b[1m88/88\u001b[0m \u001b[32m━━━━━━━━━━━━━━━━━━━━\u001b[0m\u001b[37m\u001b[0m \u001b[1m0s\u001b[0m 2ms/step - loss: 3.3628e-04 - mae: 0.0129 - mape: 6339.8545 - mse: 3.3628e-04 - val_loss: 5.7671e-04 - val_mae: 0.0176 - val_mape: 3.4422 - val_mse: 5.7671e-04\n",
      "Epoch 9/50\n",
      "\u001b[1m88/88\u001b[0m \u001b[32m━━━━━━━━━━━━━━━━━━━━\u001b[0m\u001b[37m\u001b[0m \u001b[1m0s\u001b[0m 2ms/step - loss: 4.7765e-04 - mae: 0.0139 - mape: 10960.4795 - mse: 4.7765e-04 - val_loss: 5.6591e-04 - val_mae: 0.0174 - val_mape: 3.3966 - val_mse: 5.6591e-04\n",
      "Epoch 10/50\n",
      "\u001b[1m88/88\u001b[0m \u001b[32m━━━━━━━━━━━━━━━━━━━━\u001b[0m\u001b[37m\u001b[0m \u001b[1m0s\u001b[0m 2ms/step - loss: 3.6667e-04 - mae: 0.0128 - mape: 11001.9717 - mse: 3.6667e-04 - val_loss: 5.6797e-04 - val_mae: 0.0174 - val_mape: 3.4034 - val_mse: 5.6797e-04\n",
      "Epoch 11/50\n",
      "\u001b[1m88/88\u001b[0m \u001b[32m━━━━━━━━━━━━━━━━━━━━\u001b[0m\u001b[37m\u001b[0m \u001b[1m0s\u001b[0m 2ms/step - loss: 4.0985e-04 - mae: 0.0129 - mape: 3460.5769 - mse: 4.0985e-04 - val_loss: 5.6050e-04 - val_mae: 0.0173 - val_mape: 3.3815 - val_mse: 5.6050e-04\n",
      "Epoch 12/50\n",
      "\u001b[1m88/88\u001b[0m \u001b[32m━━━━━━━━━━━━━━━━━━━━\u001b[0m\u001b[37m\u001b[0m \u001b[1m0s\u001b[0m 2ms/step - loss: 4.0138e-04 - mae: 0.0130 - mape: 45764.6719 - mse: 4.0138e-04 - val_loss: 5.8100e-04 - val_mae: 0.0176 - val_mape: 3.4500 - val_mse: 5.8100e-04\n",
      "Epoch 13/50\n",
      "\u001b[1m88/88\u001b[0m \u001b[32m━━━━━━━━━━━━━━━━━━━━\u001b[0m\u001b[37m\u001b[0m \u001b[1m0s\u001b[0m 2ms/step - loss: 4.1172e-04 - mae: 0.0131 - mape: 1686.8539 - mse: 4.1172e-04 - val_loss: 5.7013e-04 - val_mae: 0.0174 - val_mape: 3.4179 - val_mse: 5.7013e-04\n",
      "Epoch 14/50\n",
      "\u001b[1m88/88\u001b[0m \u001b[32m━━━━━━━━━━━━━━━━━━━━\u001b[0m\u001b[37m\u001b[0m \u001b[1m0s\u001b[0m 2ms/step - loss: 3.2907e-04 - mae: 0.0125 - mape: 1014.2435 - mse: 3.2907e-04 - val_loss: 5.9770e-04 - val_mae: 0.0180 - val_mape: 3.5228 - val_mse: 5.9770e-04\n",
      "Epoch 15/50\n",
      "\u001b[1m88/88\u001b[0m \u001b[32m━━━━━━━━━━━━━━━━━━━━\u001b[0m\u001b[37m\u001b[0m \u001b[1m0s\u001b[0m 2ms/step - loss: 3.4518e-04 - mae: 0.0127 - mape: 2447.1033 - mse: 3.4518e-04 - val_loss: 5.5063e-04 - val_mae: 0.0171 - val_mape: 3.3511 - val_mse: 5.5063e-04\n",
      "Epoch 16/50\n",
      "\u001b[1m88/88\u001b[0m \u001b[32m━━━━━━━━━━━━━━━━━━━━\u001b[0m\u001b[37m\u001b[0m \u001b[1m0s\u001b[0m 2ms/step - loss: 3.3187e-04 - mae: 0.0127 - mape: 6413.8271 - mse: 3.3187e-04 - val_loss: 5.8727e-04 - val_mae: 0.0178 - val_mape: 3.4843 - val_mse: 5.8727e-04\n",
      "Epoch 17/50\n",
      "\u001b[1m88/88\u001b[0m \u001b[32m━━━━━━━━━━━━━━━━━━━━\u001b[0m\u001b[37m\u001b[0m \u001b[1m0s\u001b[0m 2ms/step - loss: 3.2655e-04 - mae: 0.0125 - mape: 3527.9692 - mse: 3.2655e-04 - val_loss: 5.9451e-04 - val_mae: 0.0179 - val_mape: 3.5118 - val_mse: 5.9451e-04\n",
      "Epoch 18/50\n",
      "\u001b[1m88/88\u001b[0m \u001b[32m━━━━━━━━━━━━━━━━━━━━\u001b[0m\u001b[37m\u001b[0m \u001b[1m0s\u001b[0m 3ms/step - loss: 3.4334e-04 - mae: 0.0125 - mape: 7676.4053 - mse: 3.4334e-04 - val_loss: 5.4463e-04 - val_mae: 0.0170 - val_mape: 3.3305 - val_mse: 5.4463e-04\n",
      "Epoch 19/50\n",
      "\u001b[1m88/88\u001b[0m \u001b[32m━━━━━━━━━━━━━━━━━━━━\u001b[0m\u001b[37m\u001b[0m \u001b[1m0s\u001b[0m 2ms/step - loss: 3.5565e-04 - mae: 0.0128 - mape: 4354.6646 - mse: 3.5565e-04 - val_loss: 5.6010e-04 - val_mae: 0.0172 - val_mape: 3.3862 - val_mse: 5.6010e-04\n",
      "Epoch 20/50\n",
      "\u001b[1m88/88\u001b[0m \u001b[32m━━━━━━━━━━━━━━━━━━━━\u001b[0m\u001b[37m\u001b[0m \u001b[1m0s\u001b[0m 2ms/step - loss: 3.9228e-04 - mae: 0.0128 - mape: 2502.2656 - mse: 3.9228e-04 - val_loss: 6.0925e-04 - val_mae: 0.0182 - val_mape: 3.5866 - val_mse: 6.0925e-04\n",
      "Epoch 21/50\n",
      "\u001b[1m88/88\u001b[0m \u001b[32m━━━━━━━━━━━━━━━━━━━━\u001b[0m\u001b[37m\u001b[0m \u001b[1m0s\u001b[0m 2ms/step - loss: 3.7070e-04 - mae: 0.0126 - mape: 4371.2358 - mse: 3.7070e-04 - val_loss: 5.6201e-04 - val_mae: 0.0173 - val_mape: 3.4089 - val_mse: 5.6201e-04\n",
      "Epoch 22/50\n",
      "\u001b[1m88/88\u001b[0m \u001b[32m━━━━━━━━━━━━━━━━━━━━\u001b[0m\u001b[37m\u001b[0m \u001b[1m0s\u001b[0m 2ms/step - loss: 3.4788e-04 - mae: 0.0127 - mape: 3660.9766 - mse: 3.4788e-04 - val_loss: 5.8336e-04 - val_mae: 0.0177 - val_mape: 3.4799 - val_mse: 5.8336e-04\n",
      "Epoch 23/50\n",
      "\u001b[1m88/88\u001b[0m \u001b[32m━━━━━━━━━━━━━━━━━━━━\u001b[0m\u001b[37m\u001b[0m \u001b[1m0s\u001b[0m 3ms/step - loss: 3.6977e-04 - mae: 0.0126 - mape: 12857.1045 - mse: 3.6977e-04 - val_loss: 5.9619e-04 - val_mae: 0.0180 - val_mape: 3.5324 - val_mse: 5.9619e-04\n",
      "Epoch 24/50\n",
      "\u001b[1m88/88\u001b[0m \u001b[32m━━━━━━━━━━━━━━━━━━━━\u001b[0m\u001b[37m\u001b[0m \u001b[1m0s\u001b[0m 2ms/step - loss: 3.6811e-04 - mae: 0.0126 - mape: 6157.9526 - mse: 3.6811e-04 - val_loss: 5.4208e-04 - val_mae: 0.0169 - val_mape: 3.3231 - val_mse: 5.4208e-04\n",
      "Epoch 25/50\n",
      "\u001b[1m88/88\u001b[0m \u001b[32m━━━━━━━━━━━━━━━━━━━━\u001b[0m\u001b[37m\u001b[0m \u001b[1m0s\u001b[0m 2ms/step - loss: 3.3310e-04 - mae: 0.0125 - mape: 15673.2764 - mse: 3.3310e-04 - val_loss: 6.2612e-04 - val_mae: 0.0185 - val_mape: 3.6398 - val_mse: 6.2612e-04\n",
      "Epoch 26/50\n",
      "\u001b[1m88/88\u001b[0m \u001b[32m━━━━━━━━━━━━━━━━━━━━\u001b[0m\u001b[37m\u001b[0m \u001b[1m0s\u001b[0m 2ms/step - loss: 3.1422e-04 - mae: 0.0125 - mape: 23081.7539 - mse: 3.1422e-04 - val_loss: 5.3919e-04 - val_mae: 0.0169 - val_mape: 3.3139 - val_mse: 5.3919e-04\n",
      "Epoch 27/50\n",
      "\u001b[1m88/88\u001b[0m \u001b[32m━━━━━━━━━━━━━━━━━━━━\u001b[0m\u001b[37m\u001b[0m \u001b[1m0s\u001b[0m 2ms/step - loss: 3.3835e-04 - mae: 0.0128 - mape: 8343.7949 - mse: 3.3835e-04 - val_loss: 5.5125e-04 - val_mae: 0.0171 - val_mape: 3.3646 - val_mse: 5.5125e-04\n",
      "Epoch 28/50\n",
      "\u001b[1m88/88\u001b[0m \u001b[32m━━━━━━━━━━━━━━━━━━━━\u001b[0m\u001b[37m\u001b[0m \u001b[1m0s\u001b[0m 2ms/step - loss: 3.5011e-04 - mae: 0.0126 - mape: 9382.3145 - mse: 3.5011e-04 - val_loss: 5.4346e-04 - val_mae: 0.0170 - val_mape: 3.3422 - val_mse: 5.4346e-04\n",
      "Epoch 29/50\n",
      "\u001b[1m88/88\u001b[0m \u001b[32m━━━━━━━━━━━━━━━━━━━━\u001b[0m\u001b[37m\u001b[0m \u001b[1m0s\u001b[0m 2ms/step - loss: 3.3879e-04 - mae: 0.0123 - mape: 9343.1289 - mse: 3.3879e-04 - val_loss: 5.4176e-04 - val_mae: 0.0169 - val_mape: 3.3243 - val_mse: 5.4176e-04\n",
      "Epoch 30/50\n",
      "\u001b[1m88/88\u001b[0m \u001b[32m━━━━━━━━━━━━━━━━━━━━\u001b[0m\u001b[37m\u001b[0m \u001b[1m0s\u001b[0m 3ms/step - loss: 3.0594e-04 - mae: 0.0121 - mape: 4648.4805 - mse: 3.0594e-04 - val_loss: 5.8505e-04 - val_mae: 0.0178 - val_mape: 3.5025 - val_mse: 5.8505e-04\n",
      "Epoch 31/50\n",
      "\u001b[1m88/88\u001b[0m \u001b[32m━━━━━━━━━━━━━━━━━━━━\u001b[0m\u001b[37m\u001b[0m \u001b[1m0s\u001b[0m 2ms/step - loss: 3.7960e-04 - mae: 0.0122 - mape: 610.3184 - mse: 3.7960e-04 - val_loss: 5.5503e-04 - val_mae: 0.0172 - val_mape: 3.3802 - val_mse: 5.5503e-04\n",
      "Epoch 32/50\n",
      "\u001b[1m88/88\u001b[0m \u001b[32m━━━━━━━━━━━━━━━━━━━━\u001b[0m\u001b[37m\u001b[0m \u001b[1m0s\u001b[0m 2ms/step - loss: 3.3413e-04 - mae: 0.0123 - mape: 3449.3867 - mse: 3.3413e-04 - val_loss: 5.3804e-04 - val_mae: 0.0169 - val_mape: 3.3177 - val_mse: 5.3804e-04\n",
      "Epoch 33/50\n",
      "\u001b[1m88/88\u001b[0m \u001b[32m━━━━━━━━━━━━━━━━━━━━\u001b[0m\u001b[37m\u001b[0m \u001b[1m0s\u001b[0m 2ms/step - loss: 2.9956e-04 - mae: 0.0122 - mape: 429.9119 - mse: 2.9956e-04 - val_loss: 6.0144e-04 - val_mae: 0.0181 - val_mape: 3.5602 - val_mse: 6.0144e-04\n",
      "Epoch 34/50\n",
      "\u001b[1m88/88\u001b[0m \u001b[32m━━━━━━━━━━━━━━━━━━━━\u001b[0m\u001b[37m\u001b[0m \u001b[1m0s\u001b[0m 2ms/step - loss: 3.8567e-04 - mae: 0.0122 - mape: 375.4787 - mse: 3.8567e-04 - val_loss: 5.8389e-04 - val_mae: 0.0177 - val_mape: 3.4870 - val_mse: 5.8389e-04\n",
      "Epoch 35/50\n",
      "\u001b[1m88/88\u001b[0m \u001b[32m━━━━━━━━━━━━━━━━━━━━\u001b[0m\u001b[37m\u001b[0m \u001b[1m0s\u001b[0m 2ms/step - loss: 3.0640e-04 - mae: 0.0122 - mape: 4264.2358 - mse: 3.0640e-04 - val_loss: 5.7291e-04 - val_mae: 0.0176 - val_mape: 3.4552 - val_mse: 5.7291e-04\n",
      "Epoch 36/50\n",
      "\u001b[1m88/88\u001b[0m \u001b[32m━━━━━━━━━━━━━━━━━━━━\u001b[0m\u001b[37m\u001b[0m \u001b[1m0s\u001b[0m 2ms/step - loss: 4.6625e-04 - mae: 0.0126 - mape: 12292.8516 - mse: 4.6625e-04 - val_loss: 5.5220e-04 - val_mae: 0.0171 - val_mape: 3.3600 - val_mse: 5.5220e-04\n",
      "Epoch 37/50\n",
      "\u001b[1m88/88\u001b[0m \u001b[32m━━━━━━━━━━━━━━━━━━━━\u001b[0m\u001b[37m\u001b[0m \u001b[1m0s\u001b[0m 2ms/step - loss: 3.0782e-04 - mae: 0.0121 - mape: 3332.1680 - mse: 3.0782e-04 - val_loss: 5.2944e-04 - val_mae: 0.0167 - val_mape: 3.2798 - val_mse: 5.2944e-04\n",
      "Epoch 38/50\n",
      "\u001b[1m88/88\u001b[0m \u001b[32m━━━━━━━━━━━━━━━━━━━━\u001b[0m\u001b[37m\u001b[0m \u001b[1m0s\u001b[0m 2ms/step - loss: 3.4854e-04 - mae: 0.0128 - mape: 4503.2998 - mse: 3.4854e-04 - val_loss: 6.3896e-04 - val_mae: 0.0188 - val_mape: 3.7010 - val_mse: 6.3896e-04\n",
      "Epoch 39/50\n",
      "\u001b[1m88/88\u001b[0m \u001b[32m━━━━━━━━━━━━━━━━━━━━\u001b[0m\u001b[37m\u001b[0m \u001b[1m0s\u001b[0m 2ms/step - loss: 3.3760e-04 - mae: 0.0120 - mape: 1649.7394 - mse: 3.3760e-04 - val_loss: 6.7739e-04 - val_mae: 0.0195 - val_mape: 3.8393 - val_mse: 6.7739e-04\n",
      "Epoch 40/50\n",
      "\u001b[1m88/88\u001b[0m \u001b[32m━━━━━━━━━━━━━━━━━━━━\u001b[0m\u001b[37m\u001b[0m \u001b[1m0s\u001b[0m 2ms/step - loss: 4.2008e-04 - mae: 0.0127 - mape: 834.8965 - mse: 4.2008e-04 - val_loss: 5.6970e-04 - val_mae: 0.0174 - val_mape: 3.4193 - val_mse: 5.6970e-04\n",
      "Epoch 41/50\n",
      "\u001b[1m88/88\u001b[0m \u001b[32m━━━━━━━━━━━━━━━━━━━━\u001b[0m\u001b[37m\u001b[0m \u001b[1m0s\u001b[0m 2ms/step - loss: 3.2094e-04 - mae: 0.0124 - mape: 1819.9205 - mse: 3.2094e-04 - val_loss: 6.1080e-04 - val_mae: 0.0183 - val_mape: 3.6130 - val_mse: 6.1080e-04\n",
      "Epoch 42/50\n",
      "\u001b[1m88/88\u001b[0m \u001b[32m━━━━━━━━━━━━━━━━━━━━\u001b[0m\u001b[37m\u001b[0m \u001b[1m0s\u001b[0m 2ms/step - loss: 4.6528e-04 - mae: 0.0129 - mape: 2012.9794 - mse: 4.6528e-04 - val_loss: 5.4606e-04 - val_mae: 0.0170 - val_mape: 3.3524 - val_mse: 5.4606e-04\n",
      "Epoch 43/50\n",
      "\u001b[1m88/88\u001b[0m \u001b[32m━━━━━━━━━━━━━━━━━━━━\u001b[0m\u001b[37m\u001b[0m \u001b[1m0s\u001b[0m 2ms/step - loss: 3.1226e-04 - mae: 0.0121 - mape: 13054.0957 - mse: 3.1226e-04 - val_loss: 5.8315e-04 - val_mae: 0.0178 - val_mape: 3.4953 - val_mse: 5.8315e-04\n",
      "Epoch 44/50\n",
      "\u001b[1m88/88\u001b[0m \u001b[32m━━━━━━━━━━━━━━━━━━━━\u001b[0m\u001b[37m\u001b[0m \u001b[1m0s\u001b[0m 3ms/step - loss: 3.4907e-04 - mae: 0.0124 - mape: 422.9735 - mse: 3.4907e-04 - val_loss: 6.0146e-04 - val_mae: 0.0181 - val_mape: 3.5486 - val_mse: 6.0146e-04\n",
      "Epoch 45/50\n",
      "\u001b[1m88/88\u001b[0m \u001b[32m━━━━━━━━━━━━━━━━━━━━\u001b[0m\u001b[37m\u001b[0m \u001b[1m0s\u001b[0m 2ms/step - loss: 3.2705e-04 - mae: 0.0120 - mape: 7633.3276 - mse: 3.2705e-04 - val_loss: 5.8272e-04 - val_mae: 0.0178 - val_mape: 3.5087 - val_mse: 5.8272e-04\n",
      "Epoch 46/50\n",
      "\u001b[1m88/88\u001b[0m \u001b[32m━━━━━━━━━━━━━━━━━━━━\u001b[0m\u001b[37m\u001b[0m \u001b[1m0s\u001b[0m 2ms/step - loss: 3.3918e-04 - mae: 0.0130 - mape: 267.6208 - mse: 3.3918e-04 - val_loss: 5.3161e-04 - val_mae: 0.0167 - val_mape: 3.2864 - val_mse: 5.3161e-04\n",
      "Epoch 47/50\n",
      "\u001b[1m88/88\u001b[0m \u001b[32m━━━━━━━━━━━━━━━━━━━━\u001b[0m\u001b[37m\u001b[0m \u001b[1m0s\u001b[0m 2ms/step - loss: 3.9853e-04 - mae: 0.0131 - mape: 2918.6819 - mse: 3.9853e-04 - val_loss: 5.3127e-04 - val_mae: 0.0167 - val_mape: 3.2801 - val_mse: 5.3127e-04\n"
     ]
    },
    {
     "name": "stderr",
     "output_type": "stream",
     "text": [
      "WARNING:absl:You are saving your model as an HDF5 file via `model.save()` or `keras.saving.save_model(model)`. This file format is considered legacy. We recommend using instead the native Keras format, e.g. `model.save('my_model.keras')` or `keras.saving.save_model(model, 'my_model.keras')`. \n"
     ]
    },
    {
     "name": "stdout",
     "output_type": "stream",
     "text": [
      "\u001b[1m22/22\u001b[0m \u001b[32m━━━━━━━━━━━━━━━━━━━━\u001b[0m\u001b[37m\u001b[0m \u001b[1m0s\u001b[0m 6ms/step\n",
      "model_1: Processando ITUB4 | Combinação 2...\n",
      "Epoch 1/50\n",
      "\u001b[1m90/90\u001b[0m \u001b[32m━━━━━━━━━━━━━━━━━━━━\u001b[0m\u001b[37m\u001b[0m \u001b[1m2s\u001b[0m 5ms/step - loss: 0.0874 - mae: 0.2291 - mape: 86532.9922 - mse: 0.0874 - val_loss: 0.0120 - val_mae: 0.0840 - val_mape: 12.2778 - val_mse: 0.0120\n",
      "Epoch 2/50\n",
      "\u001b[1m90/90\u001b[0m \u001b[32m━━━━━━━━━━━━━━━━━━━━\u001b[0m\u001b[37m\u001b[0m \u001b[1m0s\u001b[0m 2ms/step - loss: 0.0123 - mae: 0.0940 - mape: 59229.7969 - mse: 0.0123 - val_loss: 0.0034 - val_mae: 0.0472 - val_mape: 7.4852 - val_mse: 0.0034\n",
      "Epoch 3/50\n",
      "\u001b[1m90/90\u001b[0m \u001b[32m━━━━━━━━━━━━━━━━━━━━\u001b[0m\u001b[37m\u001b[0m \u001b[1m0s\u001b[0m 2ms/step - loss: 0.0032 - mae: 0.0445 - mape: 116883.6172 - mse: 0.0032 - val_loss: 0.0020 - val_mae: 0.0361 - val_mape: 6.1833 - val_mse: 0.0020\n",
      "Epoch 4/50\n",
      "\u001b[1m90/90\u001b[0m \u001b[32m━━━━━━━━━━━━━━━━━━━━\u001b[0m\u001b[37m\u001b[0m \u001b[1m0s\u001b[0m 2ms/step - loss: 9.6510e-04 - mae: 0.0227 - mape: 8732.4219 - mse: 9.6510e-04 - val_loss: 0.0012 - val_mae: 0.0281 - val_mape: 4.8162 - val_mse: 0.0012\n",
      "Epoch 5/50\n",
      "\u001b[1m90/90\u001b[0m \u001b[32m━━━━━━━━━━━━━━━━━━━━\u001b[0m\u001b[37m\u001b[0m \u001b[1m0s\u001b[0m 2ms/step - loss: 4.7252e-04 - mae: 0.0163 - mape: 47504.8477 - mse: 4.7252e-04 - val_loss: 8.5817e-04 - val_mae: 0.0234 - val_mape: 3.9786 - val_mse: 8.5817e-04\n",
      "Epoch 6/50\n",
      "\u001b[1m90/90\u001b[0m \u001b[32m━━━━━━━━━━━━━━━━━━━━\u001b[0m\u001b[37m\u001b[0m \u001b[1m0s\u001b[0m 2ms/step - loss: 2.9610e-04 - mae: 0.0130 - mape: 10090.9482 - mse: 2.9610e-04 - val_loss: 7.6157e-04 - val_mae: 0.0220 - val_mape: 3.7268 - val_mse: 7.6157e-04\n",
      "Epoch 7/50\n",
      "\u001b[1m90/90\u001b[0m \u001b[32m━━━━━━━━━━━━━━━━━━━━\u001b[0m\u001b[37m\u001b[0m \u001b[1m0s\u001b[0m 2ms/step - loss: 2.5051e-04 - mae: 0.0117 - mape: 69470.9141 - mse: 2.5051e-04 - val_loss: 6.4342e-04 - val_mae: 0.0200 - val_mape: 3.3961 - val_mse: 6.4342e-04\n",
      "Epoch 8/50\n",
      "\u001b[1m90/90\u001b[0m \u001b[32m━━━━━━━━━━━━━━━━━━━━\u001b[0m\u001b[37m\u001b[0m \u001b[1m0s\u001b[0m 2ms/step - loss: 2.3481e-04 - mae: 0.0112 - mape: 34413.5586 - mse: 2.3481e-04 - val_loss: 6.2839e-04 - val_mae: 0.0197 - val_mape: 3.3388 - val_mse: 6.2839e-04\n",
      "Epoch 9/50\n",
      "\u001b[1m90/90\u001b[0m \u001b[32m━━━━━━━━━━━━━━━━━━━━\u001b[0m\u001b[37m\u001b[0m \u001b[1m0s\u001b[0m 2ms/step - loss: 2.2363e-04 - mae: 0.0111 - mape: 14858.6260 - mse: 2.2363e-04 - val_loss: 6.3118e-04 - val_mae: 0.0198 - val_mape: 3.3462 - val_mse: 6.3118e-04\n",
      "Epoch 10/50\n",
      "\u001b[1m90/90\u001b[0m \u001b[32m━━━━━━━━━━━━━━━━━━━━\u001b[0m\u001b[37m\u001b[0m \u001b[1m0s\u001b[0m 2ms/step - loss: 2.3107e-04 - mae: 0.0111 - mape: 13051.5469 - mse: 2.3107e-04 - val_loss: 6.1494e-04 - val_mae: 0.0194 - val_mape: 3.2891 - val_mse: 6.1494e-04\n",
      "Epoch 11/50\n",
      "\u001b[1m90/90\u001b[0m \u001b[32m━━━━━━━━━━━━━━━━━━━━\u001b[0m\u001b[37m\u001b[0m \u001b[1m0s\u001b[0m 2ms/step - loss: 2.1341e-04 - mae: 0.0108 - mape: 87959.7578 - mse: 2.1341e-04 - val_loss: 6.8446e-04 - val_mae: 0.0206 - val_mape: 3.4832 - val_mse: 6.8446e-04\n",
      "Epoch 12/50\n",
      "\u001b[1m90/90\u001b[0m \u001b[32m━━━━━━━━━━━━━━━━━━━━\u001b[0m\u001b[37m\u001b[0m \u001b[1m0s\u001b[0m 2ms/step - loss: 2.1930e-04 - mae: 0.0109 - mape: 44250.1758 - mse: 2.1930e-04 - val_loss: 5.7560e-04 - val_mae: 0.0186 - val_mape: 3.1616 - val_mse: 5.7560e-04\n",
      "Epoch 13/50\n",
      "\u001b[1m90/90\u001b[0m \u001b[32m━━━━━━━━━━━━━━━━━━━━\u001b[0m\u001b[37m\u001b[0m \u001b[1m0s\u001b[0m 2ms/step - loss: 2.1928e-04 - mae: 0.0108 - mape: 10528.3643 - mse: 2.1928e-04 - val_loss: 6.2889e-04 - val_mae: 0.0196 - val_mape: 3.3153 - val_mse: 6.2889e-04\n",
      "Epoch 14/50\n",
      "\u001b[1m90/90\u001b[0m \u001b[32m━━━━━━━━━━━━━━━━━━━━\u001b[0m\u001b[37m\u001b[0m \u001b[1m0s\u001b[0m 2ms/step - loss: 2.3271e-04 - mae: 0.0111 - mape: 20926.2012 - mse: 2.3271e-04 - val_loss: 5.1848e-04 - val_mae: 0.0174 - val_mape: 2.9588 - val_mse: 5.1848e-04\n",
      "Epoch 15/50\n",
      "\u001b[1m90/90\u001b[0m \u001b[32m━━━━━━━━━━━━━━━━━━━━\u001b[0m\u001b[37m\u001b[0m \u001b[1m0s\u001b[0m 2ms/step - loss: 2.0487e-04 - mae: 0.0105 - mape: 32666.1992 - mse: 2.0487e-04 - val_loss: 5.6100e-04 - val_mae: 0.0182 - val_mape: 3.0927 - val_mse: 5.6100e-04\n",
      "Epoch 16/50\n",
      "\u001b[1m90/90\u001b[0m \u001b[32m━━━━━━━━━━━━━━━━━━━━\u001b[0m\u001b[37m\u001b[0m \u001b[1m0s\u001b[0m 2ms/step - loss: 2.1333e-04 - mae: 0.0107 - mape: 38223.1016 - mse: 2.1333e-04 - val_loss: 5.3927e-04 - val_mae: 0.0178 - val_mape: 3.0142 - val_mse: 5.3927e-04\n",
      "Epoch 17/50\n",
      "\u001b[1m90/90\u001b[0m \u001b[32m━━━━━━━━━━━━━━━━━━━━\u001b[0m\u001b[37m\u001b[0m \u001b[1m0s\u001b[0m 2ms/step - loss: 2.1054e-04 - mae: 0.0108 - mape: 24521.8125 - mse: 2.1054e-04 - val_loss: 5.4731e-04 - val_mae: 0.0179 - val_mape: 3.0478 - val_mse: 5.4731e-04\n",
      "Epoch 18/50\n",
      "\u001b[1m90/90\u001b[0m \u001b[32m━━━━━━━━━━━━━━━━━━━━\u001b[0m\u001b[37m\u001b[0m \u001b[1m0s\u001b[0m 2ms/step - loss: 2.1171e-04 - mae: 0.0107 - mape: 31265.6172 - mse: 2.1171e-04 - val_loss: 5.3126e-04 - val_mae: 0.0176 - val_mape: 2.9847 - val_mse: 5.3126e-04\n",
      "Epoch 19/50\n",
      "\u001b[1m90/90\u001b[0m \u001b[32m━━━━━━━━━━━━━━━━━━━━\u001b[0m\u001b[37m\u001b[0m \u001b[1m0s\u001b[0m 2ms/step - loss: 2.2229e-04 - mae: 0.0109 - mape: 56651.8242 - mse: 2.2229e-04 - val_loss: 4.9331e-04 - val_mae: 0.0168 - val_mape: 2.8498 - val_mse: 4.9331e-04\n",
      "Epoch 20/50\n",
      "\u001b[1m90/90\u001b[0m \u001b[32m━━━━━━━━━━━━━━━━━━━━\u001b[0m\u001b[37m\u001b[0m \u001b[1m0s\u001b[0m 2ms/step - loss: 2.0135e-04 - mae: 0.0104 - mape: 28263.8203 - mse: 2.0135e-04 - val_loss: 5.4034e-04 - val_mae: 0.0177 - val_mape: 3.0074 - val_mse: 5.4034e-04\n",
      "Epoch 21/50\n",
      "\u001b[1m90/90\u001b[0m \u001b[32m━━━━━━━━━━━━━━━━━━━━\u001b[0m\u001b[37m\u001b[0m \u001b[1m0s\u001b[0m 2ms/step - loss: 2.0926e-04 - mae: 0.0106 - mape: 31510.5234 - mse: 2.0926e-04 - val_loss: 4.7781e-04 - val_mae: 0.0164 - val_mape: 2.7897 - val_mse: 4.7781e-04\n",
      "Epoch 22/50\n",
      "\u001b[1m90/90\u001b[0m \u001b[32m━━━━━━━━━━━━━━━━━━━━\u001b[0m\u001b[37m\u001b[0m \u001b[1m0s\u001b[0m 2ms/step - loss: 2.0160e-04 - mae: 0.0102 - mape: 23008.0684 - mse: 2.0160e-04 - val_loss: 4.8713e-04 - val_mae: 0.0166 - val_mape: 2.8240 - val_mse: 4.8713e-04\n",
      "Epoch 23/50\n",
      "\u001b[1m90/90\u001b[0m \u001b[32m━━━━━━━━━━━━━━━━━━━━\u001b[0m\u001b[37m\u001b[0m \u001b[1m0s\u001b[0m 2ms/step - loss: 1.9521e-04 - mae: 0.0103 - mape: 32183.0801 - mse: 1.9521e-04 - val_loss: 4.7821e-04 - val_mae: 0.0163 - val_mape: 2.7792 - val_mse: 4.7821e-04\n",
      "Epoch 24/50\n",
      "\u001b[1m90/90\u001b[0m \u001b[32m━━━━━━━━━━━━━━━━━━━━\u001b[0m\u001b[37m\u001b[0m \u001b[1m0s\u001b[0m 2ms/step - loss: 1.9644e-04 - mae: 0.0103 - mape: 13452.5605 - mse: 1.9644e-04 - val_loss: 5.3503e-04 - val_mae: 0.0175 - val_mape: 2.9788 - val_mse: 5.3503e-04\n",
      "Epoch 25/50\n",
      "\u001b[1m90/90\u001b[0m \u001b[32m━━━━━━━━━━━━━━━━━━━━\u001b[0m\u001b[37m\u001b[0m \u001b[1m0s\u001b[0m 2ms/step - loss: 1.8597e-04 - mae: 0.0100 - mape: 28616.5430 - mse: 1.8597e-04 - val_loss: 4.3925e-04 - val_mae: 0.0155 - val_mape: 2.6165 - val_mse: 4.3925e-04\n",
      "Epoch 26/50\n",
      "\u001b[1m90/90\u001b[0m \u001b[32m━━━━━━━━━━━━━━━━━━━━\u001b[0m\u001b[37m\u001b[0m \u001b[1m0s\u001b[0m 3ms/step - loss: 1.9808e-04 - mae: 0.0103 - mape: 9570.2148 - mse: 1.9808e-04 - val_loss: 4.7923e-04 - val_mae: 0.0163 - val_mape: 2.7760 - val_mse: 4.7923e-04\n",
      "Epoch 27/50\n",
      "\u001b[1m90/90\u001b[0m \u001b[32m━━━━━━━━━━━━━━━━━━━━\u001b[0m\u001b[37m\u001b[0m \u001b[1m0s\u001b[0m 2ms/step - loss: 1.9385e-04 - mae: 0.0103 - mape: 25673.4707 - mse: 1.9385e-04 - val_loss: 4.4188e-04 - val_mae: 0.0155 - val_mape: 2.6344 - val_mse: 4.4188e-04\n",
      "Epoch 28/50\n",
      "\u001b[1m90/90\u001b[0m \u001b[32m━━━━━━━━━━━━━━━━━━━━\u001b[0m\u001b[37m\u001b[0m \u001b[1m0s\u001b[0m 2ms/step - loss: 2.1848e-04 - mae: 0.0108 - mape: 33713.2305 - mse: 2.1848e-04 - val_loss: 4.6472e-04 - val_mae: 0.0160 - val_mape: 2.7223 - val_mse: 4.6472e-04\n",
      "Epoch 29/50\n",
      "\u001b[1m90/90\u001b[0m \u001b[32m━━━━━━━━━━━━━━━━━━━━\u001b[0m\u001b[37m\u001b[0m \u001b[1m0s\u001b[0m 2ms/step - loss: 1.8947e-04 - mae: 0.0100 - mape: 13795.7705 - mse: 1.8947e-04 - val_loss: 4.6568e-04 - val_mae: 0.0160 - val_mape: 2.7322 - val_mse: 4.6568e-04\n",
      "Epoch 30/50\n",
      "\u001b[1m90/90\u001b[0m \u001b[32m━━━━━━━━━━━━━━━━━━━━\u001b[0m\u001b[37m\u001b[0m \u001b[1m0s\u001b[0m 2ms/step - loss: 2.0501e-04 - mae: 0.0104 - mape: 6143.4487 - mse: 2.0501e-04 - val_loss: 4.4163e-04 - val_mae: 0.0155 - val_mape: 2.6272 - val_mse: 4.4163e-04\n",
      "Epoch 31/50\n",
      "\u001b[1m90/90\u001b[0m \u001b[32m━━━━━━━━━━━━━━━━━━━━\u001b[0m\u001b[37m\u001b[0m \u001b[1m0s\u001b[0m 2ms/step - loss: 2.0780e-04 - mae: 0.0105 - mape: 16184.2295 - mse: 2.0780e-04 - val_loss: 4.4479e-04 - val_mae: 0.0156 - val_mape: 2.6434 - val_mse: 4.4479e-04\n",
      "Epoch 32/50\n",
      "\u001b[1m90/90\u001b[0m \u001b[32m━━━━━━━━━━━━━━━━━━━━\u001b[0m\u001b[37m\u001b[0m \u001b[1m0s\u001b[0m 2ms/step - loss: 1.8477e-04 - mae: 0.0101 - mape: 34386.9922 - mse: 1.8477e-04 - val_loss: 4.3160e-04 - val_mae: 0.0152 - val_mape: 2.5728 - val_mse: 4.3160e-04\n",
      "Epoch 33/50\n",
      "\u001b[1m90/90\u001b[0m \u001b[32m━━━━━━━━━━━━━━━━━━━━\u001b[0m\u001b[37m\u001b[0m \u001b[1m0s\u001b[0m 2ms/step - loss: 1.9425e-04 - mae: 0.0102 - mape: 47243.2539 - mse: 1.9425e-04 - val_loss: 4.2832e-04 - val_mae: 0.0152 - val_mape: 2.5689 - val_mse: 4.2832e-04\n",
      "Epoch 34/50\n",
      "\u001b[1m90/90\u001b[0m \u001b[32m━━━━━━━━━━━━━━━━━━━━\u001b[0m\u001b[37m\u001b[0m \u001b[1m0s\u001b[0m 2ms/step - loss: 1.8693e-04 - mae: 0.0101 - mape: 10515.0430 - mse: 1.8693e-04 - val_loss: 4.4161e-04 - val_mae: 0.0155 - val_mape: 2.6272 - val_mse: 4.4161e-04\n",
      "Epoch 35/50\n",
      "\u001b[1m90/90\u001b[0m \u001b[32m━━━━━━━━━━━━━━━━━━━━\u001b[0m\u001b[37m\u001b[0m \u001b[1m0s\u001b[0m 2ms/step - loss: 1.9870e-04 - mae: 0.0104 - mape: 21010.4141 - mse: 1.9870e-04 - val_loss: 4.3242e-04 - val_mae: 0.0152 - val_mape: 2.5773 - val_mse: 4.3242e-04\n",
      "Epoch 36/50\n",
      "\u001b[1m90/90\u001b[0m \u001b[32m━━━━━━━━━━━━━━━━━━━━\u001b[0m\u001b[37m\u001b[0m \u001b[1m0s\u001b[0m 2ms/step - loss: 1.8426e-04 - mae: 0.0100 - mape: 17218.9980 - mse: 1.8426e-04 - val_loss: 4.7874e-04 - val_mae: 0.0163 - val_mape: 2.7670 - val_mse: 4.7874e-04\n",
      "Epoch 37/50\n",
      "\u001b[1m90/90\u001b[0m \u001b[32m━━━━━━━━━━━━━━━━━━━━\u001b[0m\u001b[37m\u001b[0m \u001b[1m0s\u001b[0m 2ms/step - loss: 1.9455e-04 - mae: 0.0104 - mape: 9159.9502 - mse: 1.9455e-04 - val_loss: 4.4992e-04 - val_mae: 0.0156 - val_mape: 2.6427 - val_mse: 4.4992e-04\n",
      "Epoch 38/50\n",
      "\u001b[1m90/90\u001b[0m \u001b[32m━━━━━━━━━━━━━━━━━━━━\u001b[0m\u001b[37m\u001b[0m \u001b[1m0s\u001b[0m 2ms/step - loss: 1.9448e-04 - mae: 0.0102 - mape: 22154.9043 - mse: 1.9448e-04 - val_loss: 4.2978e-04 - val_mae: 0.0152 - val_mape: 2.5725 - val_mse: 4.2978e-04\n",
      "Epoch 39/50\n",
      "\u001b[1m90/90\u001b[0m \u001b[32m━━━━━━━━━━━━━━━━━━━━\u001b[0m\u001b[37m\u001b[0m \u001b[1m0s\u001b[0m 2ms/step - loss: 2.0019e-04 - mae: 0.0103 - mape: 21532.7422 - mse: 2.0019e-04 - val_loss: 4.3683e-04 - val_mae: 0.0153 - val_mape: 2.6052 - val_mse: 4.3683e-04\n",
      "Epoch 40/50\n",
      "\u001b[1m90/90\u001b[0m \u001b[32m━━━━━━━━━━━━━━━━━━━━\u001b[0m\u001b[37m\u001b[0m \u001b[1m0s\u001b[0m 2ms/step - loss: 1.8858e-04 - mae: 0.0101 - mape: 41330.3750 - mse: 1.8858e-04 - val_loss: 4.2997e-04 - val_mae: 0.0151 - val_mape: 2.5622 - val_mse: 4.2997e-04\n",
      "Epoch 41/50\n",
      "\u001b[1m90/90\u001b[0m \u001b[32m━━━━━━━━━━━━━━━━━━━━\u001b[0m\u001b[37m\u001b[0m \u001b[1m0s\u001b[0m 2ms/step - loss: 1.8269e-04 - mae: 0.0100 - mape: 7289.4404 - mse: 1.8269e-04 - val_loss: 4.5800e-04 - val_mae: 0.0158 - val_mape: 2.6844 - val_mse: 4.5800e-04\n",
      "Epoch 42/50\n",
      "\u001b[1m90/90\u001b[0m \u001b[32m━━━━━━━━━━━━━━━━━━━━\u001b[0m\u001b[37m\u001b[0m \u001b[1m0s\u001b[0m 2ms/step - loss: 1.8631e-04 - mae: 0.0101 - mape: 69724.1719 - mse: 1.8631e-04 - val_loss: 5.1991e-04 - val_mae: 0.0172 - val_mape: 2.9346 - val_mse: 5.1991e-04\n",
      "Epoch 43/50\n",
      "\u001b[1m90/90\u001b[0m \u001b[32m━━━━━━━━━━━━━━━━━━━━\u001b[0m\u001b[37m\u001b[0m \u001b[1m0s\u001b[0m 2ms/step - loss: 1.8840e-04 - mae: 0.0100 - mape: 2999.1443 - mse: 1.8840e-04 - val_loss: 4.3656e-04 - val_mae: 0.0153 - val_mape: 2.5860 - val_mse: 4.3656e-04\n"
     ]
    },
    {
     "name": "stderr",
     "output_type": "stream",
     "text": [
      "WARNING:absl:You are saving your model as an HDF5 file via `model.save()` or `keras.saving.save_model(model)`. This file format is considered legacy. We recommend using instead the native Keras format, e.g. `model.save('my_model.keras')` or `keras.saving.save_model(model, 'my_model.keras')`. \n"
     ]
    },
    {
     "name": "stdout",
     "output_type": "stream",
     "text": [
      "\u001b[1m23/23\u001b[0m \u001b[32m━━━━━━━━━━━━━━━━━━━━\u001b[0m\u001b[37m\u001b[0m \u001b[1m0s\u001b[0m 6ms/step\n"
     ]
    },
    {
     "name": "stderr",
     "output_type": "stream",
     "text": [
      "Processando combinações:  29%|██▊       | 2/7 [01:17<03:15, 39.04s/it]"
     ]
    },
    {
     "name": "stdout",
     "output_type": "stream",
     "text": [
      "model_1: Processando PETR4 | Combinação 3...\n",
      "Epoch 1/50\n",
      "\u001b[1m90/90\u001b[0m \u001b[32m━━━━━━━━━━━━━━━━━━━━\u001b[0m\u001b[37m\u001b[0m \u001b[1m1s\u001b[0m 5ms/step - loss: 0.0941 - mae: 0.2550 - mape: 31632.1816 - mse: 0.0941 - val_loss: 0.0058 - val_mae: 0.0641 - val_mape: 14.0427 - val_mse: 0.0058\n",
      "Epoch 2/50\n",
      "\u001b[1m90/90\u001b[0m \u001b[32m━━━━━━━━━━━━━━━━━━━━\u001b[0m\u001b[37m\u001b[0m \u001b[1m0s\u001b[0m 2ms/step - loss: 0.0086 - mae: 0.0748 - mape: 39451.8984 - mse: 0.0086 - val_loss: 0.0027 - val_mae: 0.0430 - val_mape: 9.5115 - val_mse: 0.0027\n",
      "Epoch 3/50\n",
      "\u001b[1m90/90\u001b[0m \u001b[32m━━━━━━━━━━━━━━━━━━━━\u001b[0m\u001b[37m\u001b[0m \u001b[1m0s\u001b[0m 2ms/step - loss: 0.0039 - mae: 0.0496 - mape: 163846.1250 - mse: 0.0039 - val_loss: 9.9658e-04 - val_mae: 0.0254 - val_mape: 5.6278 - val_mse: 9.9658e-04\n",
      "Epoch 4/50\n",
      "\u001b[1m90/90\u001b[0m \u001b[32m━━━━━━━━━━━━━━━━━━━━\u001b[0m\u001b[37m\u001b[0m \u001b[1m0s\u001b[0m 2ms/step - loss: 0.0010 - mae: 0.0255 - mape: 1894.8369 - mse: 0.0010 - val_loss: 4.9487e-04 - val_mae: 0.0173 - val_mape: 3.8611 - val_mse: 4.9487e-04\n",
      "Epoch 5/50\n",
      "\u001b[1m90/90\u001b[0m \u001b[32m━━━━━━━━━━━━━━━━━━━━\u001b[0m\u001b[37m\u001b[0m \u001b[1m0s\u001b[0m 2ms/step - loss: 3.0206e-04 - mae: 0.0131 - mape: 10353.9541 - mse: 3.0206e-04 - val_loss: 3.4813e-04 - val_mae: 0.0132 - val_mape: 3.0854 - val_mse: 3.4813e-04\n",
      "Epoch 6/50\n",
      "\u001b[1m90/90\u001b[0m \u001b[32m━━━━━━━━━━━━━━━━━━━━\u001b[0m\u001b[37m\u001b[0m \u001b[1m0s\u001b[0m 2ms/step - loss: 2.1839e-04 - mae: 0.0107 - mape: 1049.7246 - mse: 2.1839e-04 - val_loss: 3.5532e-04 - val_mae: 0.0133 - val_mape: 3.1319 - val_mse: 3.5532e-04\n",
      "Epoch 7/50\n",
      "\u001b[1m90/90\u001b[0m \u001b[32m━━━━━━━━━━━━━━━━━━━━\u001b[0m\u001b[37m\u001b[0m \u001b[1m0s\u001b[0m 2ms/step - loss: 2.1494e-04 - mae: 0.0105 - mape: 10301.7129 - mse: 2.1494e-04 - val_loss: 3.4696e-04 - val_mae: 0.0130 - val_mape: 3.0664 - val_mse: 3.4696e-04\n",
      "Epoch 8/50\n",
      "\u001b[1m90/90\u001b[0m \u001b[32m━━━━━━━━━━━━━━━━━━━━\u001b[0m\u001b[37m\u001b[0m \u001b[1m0s\u001b[0m 2ms/step - loss: 2.0010e-04 - mae: 0.0102 - mape: 9833.4727 - mse: 2.0010e-04 - val_loss: 3.4416e-04 - val_mae: 0.0129 - val_mape: 3.0508 - val_mse: 3.4416e-04\n",
      "Epoch 9/50\n",
      "\u001b[1m90/90\u001b[0m \u001b[32m━━━━━━━━━━━━━━━━━━━━\u001b[0m\u001b[37m\u001b[0m \u001b[1m0s\u001b[0m 2ms/step - loss: 1.9070e-04 - mae: 0.0099 - mape: 2046.6836 - mse: 1.9070e-04 - val_loss: 3.3884e-04 - val_mae: 0.0127 - val_mape: 3.0065 - val_mse: 3.3884e-04\n",
      "Epoch 10/50\n",
      "\u001b[1m90/90\u001b[0m \u001b[32m━━━━━━━━━━━━━━━━━━━━\u001b[0m\u001b[37m\u001b[0m \u001b[1m0s\u001b[0m 2ms/step - loss: 1.9176e-04 - mae: 0.0098 - mape: 10751.9648 - mse: 1.9176e-04 - val_loss: 3.3828e-04 - val_mae: 0.0127 - val_mape: 3.0079 - val_mse: 3.3828e-04\n",
      "Epoch 11/50\n",
      "\u001b[1m90/90\u001b[0m \u001b[32m━━━━━━━━━━━━━━━━━━━━\u001b[0m\u001b[37m\u001b[0m \u001b[1m0s\u001b[0m 2ms/step - loss: 1.8451e-04 - mae: 0.0097 - mape: 25291.9844 - mse: 1.8451e-04 - val_loss: 3.3589e-04 - val_mae: 0.0127 - val_mape: 2.9890 - val_mse: 3.3589e-04\n",
      "Epoch 12/50\n",
      "\u001b[1m90/90\u001b[0m \u001b[32m━━━━━━━━━━━━━━━━━━━━\u001b[0m\u001b[37m\u001b[0m \u001b[1m0s\u001b[0m 2ms/step - loss: 1.9544e-04 - mae: 0.0102 - mape: 13037.8721 - mse: 1.9544e-04 - val_loss: 3.3510e-04 - val_mae: 0.0126 - val_mape: 2.9828 - val_mse: 3.3510e-04\n",
      "Epoch 13/50\n",
      "\u001b[1m90/90\u001b[0m \u001b[32m━━━━━━━━━━━━━━━━━━━━\u001b[0m\u001b[37m\u001b[0m \u001b[1m0s\u001b[0m 2ms/step - loss: 1.8349e-04 - mae: 0.0097 - mape: 2464.6277 - mse: 1.8349e-04 - val_loss: 3.3007e-04 - val_mae: 0.0123 - val_mape: 2.9135 - val_mse: 3.3007e-04\n",
      "Epoch 14/50\n",
      "\u001b[1m90/90\u001b[0m \u001b[32m━━━━━━━━━━━━━━━━━━━━\u001b[0m\u001b[37m\u001b[0m \u001b[1m0s\u001b[0m 2ms/step - loss: 1.7892e-04 - mae: 0.0096 - mape: 3390.3999 - mse: 1.7892e-04 - val_loss: 3.3176e-04 - val_mae: 0.0125 - val_mape: 2.9564 - val_mse: 3.3176e-04\n",
      "Epoch 15/50\n",
      "\u001b[1m90/90\u001b[0m \u001b[32m━━━━━━━━━━━━━━━━━━━━\u001b[0m\u001b[37m\u001b[0m \u001b[1m0s\u001b[0m 3ms/step - loss: 1.8723e-04 - mae: 0.0098 - mape: 4329.0508 - mse: 1.8723e-04 - val_loss: 3.3240e-04 - val_mae: 0.0125 - val_mape: 2.9627 - val_mse: 3.3240e-04\n",
      "Epoch 16/50\n",
      "\u001b[1m90/90\u001b[0m \u001b[32m━━━━━━━━━━━━━━━━━━━━\u001b[0m\u001b[37m\u001b[0m \u001b[1m0s\u001b[0m 2ms/step - loss: 1.7231e-04 - mae: 0.0093 - mape: 8653.1875 - mse: 1.7231e-04 - val_loss: 3.2911e-04 - val_mae: 0.0123 - val_mape: 2.8921 - val_mse: 3.2911e-04\n",
      "Epoch 17/50\n",
      "\u001b[1m90/90\u001b[0m \u001b[32m━━━━━━━━━━━━━━━━━━━━\u001b[0m\u001b[37m\u001b[0m \u001b[1m0s\u001b[0m 2ms/step - loss: 1.7767e-04 - mae: 0.0094 - mape: 11165.8955 - mse: 1.7767e-04 - val_loss: 3.3085e-04 - val_mae: 0.0125 - val_mape: 2.9544 - val_mse: 3.3085e-04\n",
      "Epoch 18/50\n",
      "\u001b[1m90/90\u001b[0m \u001b[32m━━━━━━━━━━━━━━━━━━━━\u001b[0m\u001b[37m\u001b[0m \u001b[1m0s\u001b[0m 2ms/step - loss: 1.8501e-04 - mae: 0.0097 - mape: 5720.4004 - mse: 1.8501e-04 - val_loss: 3.3044e-04 - val_mae: 0.0123 - val_mape: 2.9016 - val_mse: 3.3044e-04\n",
      "Epoch 19/50\n",
      "\u001b[1m90/90\u001b[0m \u001b[32m━━━━━━━━━━━━━━━━━━━━\u001b[0m\u001b[37m\u001b[0m \u001b[1m0s\u001b[0m 2ms/step - loss: 1.8017e-04 - mae: 0.0095 - mape: 17337.2773 - mse: 1.8017e-04 - val_loss: 3.2825e-04 - val_mae: 0.0122 - val_mape: 2.8895 - val_mse: 3.2825e-04\n",
      "Epoch 20/50\n",
      "\u001b[1m90/90\u001b[0m \u001b[32m━━━━━━━━━━━━━━━━━━━━\u001b[0m\u001b[37m\u001b[0m \u001b[1m0s\u001b[0m 2ms/step - loss: 1.6914e-04 - mae: 0.0092 - mape: 3691.2283 - mse: 1.6914e-04 - val_loss: 3.2651e-04 - val_mae: 0.0122 - val_mape: 2.8932 - val_mse: 3.2651e-04\n",
      "Epoch 21/50\n",
      "\u001b[1m90/90\u001b[0m \u001b[32m━━━━━━━━━━━━━━━━━━━━\u001b[0m\u001b[37m\u001b[0m \u001b[1m0s\u001b[0m 2ms/step - loss: 1.7795e-04 - mae: 0.0094 - mape: 4462.6943 - mse: 1.7795e-04 - val_loss: 3.2960e-04 - val_mae: 0.0122 - val_mape: 2.8917 - val_mse: 3.2960e-04\n",
      "Epoch 22/50\n",
      "\u001b[1m90/90\u001b[0m \u001b[32m━━━━━━━━━━━━━━━━━━━━\u001b[0m\u001b[37m\u001b[0m \u001b[1m0s\u001b[0m 2ms/step - loss: 1.7395e-04 - mae: 0.0093 - mape: 1192.9224 - mse: 1.7395e-04 - val_loss: 3.2745e-04 - val_mae: 0.0122 - val_mape: 2.8798 - val_mse: 3.2745e-04\n",
      "Epoch 23/50\n",
      "\u001b[1m90/90\u001b[0m \u001b[32m━━━━━━━━━━━━━━━━━━━━\u001b[0m\u001b[37m\u001b[0m \u001b[1m0s\u001b[0m 2ms/step - loss: 1.6860e-04 - mae: 0.0092 - mape: 12701.2715 - mse: 1.6860e-04 - val_loss: 3.2756e-04 - val_mae: 0.0122 - val_mape: 2.8790 - val_mse: 3.2756e-04\n",
      "Epoch 24/50\n",
      "\u001b[1m90/90\u001b[0m \u001b[32m━━━━━━━━━━━━━━━━━━━━\u001b[0m\u001b[37m\u001b[0m \u001b[1m0s\u001b[0m 2ms/step - loss: 1.6970e-04 - mae: 0.0093 - mape: 200.1545 - mse: 1.6970e-04 - val_loss: 3.2511e-04 - val_mae: 0.0122 - val_mape: 2.8811 - val_mse: 3.2511e-04\n",
      "Epoch 25/50\n",
      "\u001b[1m90/90\u001b[0m \u001b[32m━━━━━━━━━━━━━━━━━━━━\u001b[0m\u001b[37m\u001b[0m \u001b[1m0s\u001b[0m 2ms/step - loss: 1.6653e-04 - mae: 0.0092 - mape: 3714.2644 - mse: 1.6653e-04 - val_loss: 3.5401e-04 - val_mae: 0.0127 - val_mape: 2.9938 - val_mse: 3.5401e-04\n",
      "Epoch 26/50\n",
      "\u001b[1m90/90\u001b[0m \u001b[32m━━━━━━━━━━━━━━━━━━━━\u001b[0m\u001b[37m\u001b[0m \u001b[1m0s\u001b[0m 2ms/step - loss: 1.8005e-04 - mae: 0.0094 - mape: 7191.0391 - mse: 1.8005e-04 - val_loss: 3.4358e-04 - val_mae: 0.0124 - val_mape: 2.9375 - val_mse: 3.4358e-04\n",
      "Epoch 27/50\n",
      "\u001b[1m90/90\u001b[0m \u001b[32m━━━━━━━━━━━━━━━━━━━━\u001b[0m\u001b[37m\u001b[0m \u001b[1m0s\u001b[0m 2ms/step - loss: 1.6642e-04 - mae: 0.0091 - mape: 2968.1709 - mse: 1.6642e-04 - val_loss: 3.2862e-04 - val_mae: 0.0124 - val_mape: 2.9416 - val_mse: 3.2862e-04\n",
      "Epoch 28/50\n",
      "\u001b[1m90/90\u001b[0m \u001b[32m━━━━━━━━━━━━━━━━━━━━\u001b[0m\u001b[37m\u001b[0m \u001b[1m0s\u001b[0m 2ms/step - loss: 1.8128e-04 - mae: 0.0095 - mape: 710.8129 - mse: 1.8128e-04 - val_loss: 3.2309e-04 - val_mae: 0.0120 - val_mape: 2.8512 - val_mse: 3.2309e-04\n",
      "Epoch 29/50\n",
      "\u001b[1m90/90\u001b[0m \u001b[32m━━━━━━━━━━━━━━━━━━━━\u001b[0m\u001b[37m\u001b[0m \u001b[1m0s\u001b[0m 2ms/step - loss: 1.7767e-04 - mae: 0.0094 - mape: 14386.2100 - mse: 1.7767e-04 - val_loss: 3.3585e-04 - val_mae: 0.0123 - val_mape: 2.9050 - val_mse: 3.3585e-04\n",
      "Epoch 30/50\n",
      "\u001b[1m90/90\u001b[0m \u001b[32m━━━━━━━━━━━━━━━━━━━━\u001b[0m\u001b[37m\u001b[0m \u001b[1m0s\u001b[0m 2ms/step - loss: 1.8328e-04 - mae: 0.0095 - mape: 394.9305 - mse: 1.8328e-04 - val_loss: 3.4272e-04 - val_mae: 0.0124 - val_mape: 2.9315 - val_mse: 3.4272e-04\n",
      "Epoch 31/50\n",
      "\u001b[1m90/90\u001b[0m \u001b[32m━━━━━━━━━━━━━━━━━━━━\u001b[0m\u001b[37m\u001b[0m \u001b[1m0s\u001b[0m 2ms/step - loss: 1.6912e-04 - mae: 0.0091 - mape: 2902.1086 - mse: 1.6912e-04 - val_loss: 3.2389e-04 - val_mae: 0.0121 - val_mape: 2.8802 - val_mse: 3.2389e-04\n",
      "Epoch 32/50\n",
      "\u001b[1m90/90\u001b[0m \u001b[32m━━━━━━━━━━━━━━━━━━━━\u001b[0m\u001b[37m\u001b[0m \u001b[1m0s\u001b[0m 2ms/step - loss: 1.7353e-04 - mae: 0.0095 - mape: 12022.4834 - mse: 1.7353e-04 - val_loss: 3.3069e-04 - val_mae: 0.0121 - val_mape: 2.8723 - val_mse: 3.3069e-04\n",
      "Epoch 33/50\n",
      "\u001b[1m90/90\u001b[0m \u001b[32m━━━━━━━━━━━━━━━━━━━━\u001b[0m\u001b[37m\u001b[0m \u001b[1m0s\u001b[0m 2ms/step - loss: 1.6709e-04 - mae: 0.0092 - mape: 2439.4534 - mse: 1.6709e-04 - val_loss: 3.2297e-04 - val_mae: 0.0120 - val_mape: 2.8572 - val_mse: 3.2297e-04\n",
      "Epoch 34/50\n",
      "\u001b[1m90/90\u001b[0m \u001b[32m━━━━━━━━━━━━━━━━━━━━\u001b[0m\u001b[37m\u001b[0m \u001b[1m0s\u001b[0m 2ms/step - loss: 1.7507e-04 - mae: 0.0092 - mape: 2442.9346 - mse: 1.7507e-04 - val_loss: 3.4018e-04 - val_mae: 0.0123 - val_mape: 2.9215 - val_mse: 3.4018e-04\n",
      "Epoch 35/50\n",
      "\u001b[1m90/90\u001b[0m \u001b[32m━━━━━━━━━━━━━━━━━━━━\u001b[0m\u001b[37m\u001b[0m \u001b[1m0s\u001b[0m 2ms/step - loss: 1.7176e-04 - mae: 0.0092 - mape: 1709.2026 - mse: 1.7176e-04 - val_loss: 3.3724e-04 - val_mae: 0.0123 - val_mape: 2.9104 - val_mse: 3.3724e-04\n",
      "Epoch 36/50\n",
      "\u001b[1m90/90\u001b[0m \u001b[32m━━━━━━━━━━━━━━━━━━━━\u001b[0m\u001b[37m\u001b[0m \u001b[1m0s\u001b[0m 2ms/step - loss: 1.6577e-04 - mae: 0.0092 - mape: 5126.7764 - mse: 1.6577e-04 - val_loss: 3.2795e-04 - val_mae: 0.0121 - val_mape: 2.8644 - val_mse: 3.2795e-04\n",
      "Epoch 37/50\n",
      "\u001b[1m90/90\u001b[0m \u001b[32m━━━━━━━━━━━━━━━━━━━━\u001b[0m\u001b[37m\u001b[0m \u001b[1m0s\u001b[0m 2ms/step - loss: 1.7512e-04 - mae: 0.0093 - mape: 9131.2861 - mse: 1.7512e-04 - val_loss: 3.3450e-04 - val_mae: 0.0122 - val_mape: 2.8941 - val_mse: 3.3450e-04\n",
      "Epoch 38/50\n",
      "\u001b[1m90/90\u001b[0m \u001b[32m━━━━━━━━━━━━━━━━━━━━\u001b[0m\u001b[37m\u001b[0m \u001b[1m0s\u001b[0m 2ms/step - loss: 1.8847e-04 - mae: 0.0094 - mape: 655.7618 - mse: 1.8847e-04 - val_loss: 3.2198e-04 - val_mae: 0.0120 - val_mape: 2.8438 - val_mse: 3.2198e-04\n",
      "Epoch 39/50\n",
      "\u001b[1m90/90\u001b[0m \u001b[32m━━━━━━━━━━━━━━━━━━━━\u001b[0m\u001b[37m\u001b[0m \u001b[1m0s\u001b[0m 2ms/step - loss: 1.7823e-04 - mae: 0.0093 - mape: 11335.2109 - mse: 1.7823e-04 - val_loss: 3.4761e-04 - val_mae: 0.0125 - val_mape: 2.9573 - val_mse: 3.4761e-04\n",
      "Epoch 40/50\n",
      "\u001b[1m90/90\u001b[0m \u001b[32m━━━━━━━━━━━━━━━━━━━━\u001b[0m\u001b[37m\u001b[0m \u001b[1m0s\u001b[0m 3ms/step - loss: 1.5920e-04 - mae: 0.0090 - mape: 4165.2427 - mse: 1.5920e-04 - val_loss: 3.2608e-04 - val_mae: 0.0120 - val_mape: 2.8553 - val_mse: 3.2608e-04\n",
      "Epoch 41/50\n",
      "\u001b[1m90/90\u001b[0m \u001b[32m━━━━━━━━━━━━━━━━━━━━\u001b[0m\u001b[37m\u001b[0m \u001b[1m0s\u001b[0m 2ms/step - loss: 1.7279e-04 - mae: 0.0094 - mape: 8413.8467 - mse: 1.7279e-04 - val_loss: 3.2620e-04 - val_mae: 0.0120 - val_mape: 2.8558 - val_mse: 3.2620e-04\n",
      "Epoch 42/50\n",
      "\u001b[1m90/90\u001b[0m \u001b[32m━━━━━━━━━━━━━━━━━━━━\u001b[0m\u001b[37m\u001b[0m \u001b[1m0s\u001b[0m 2ms/step - loss: 1.6913e-04 - mae: 0.0091 - mape: 3378.7847 - mse: 1.6913e-04 - val_loss: 3.2029e-04 - val_mae: 0.0119 - val_mape: 2.8252 - val_mse: 3.2029e-04\n",
      "Epoch 43/50\n",
      "\u001b[1m90/90\u001b[0m \u001b[32m━━━━━━━━━━━━━━━━━━━━\u001b[0m\u001b[37m\u001b[0m \u001b[1m0s\u001b[0m 3ms/step - loss: 1.7038e-04 - mae: 0.0092 - mape: 2965.6465 - mse: 1.7038e-04 - val_loss: 3.1899e-04 - val_mae: 0.0120 - val_mape: 2.8530 - val_mse: 3.1899e-04\n",
      "Epoch 44/50\n",
      "\u001b[1m90/90\u001b[0m \u001b[32m━━━━━━━━━━━━━━━━━━━━\u001b[0m\u001b[37m\u001b[0m \u001b[1m0s\u001b[0m 2ms/step - loss: 1.7220e-04 - mae: 0.0091 - mape: 658.5339 - mse: 1.7220e-04 - val_loss: 3.2451e-04 - val_mae: 0.0120 - val_mape: 2.8503 - val_mse: 3.2451e-04\n",
      "Epoch 45/50\n",
      "\u001b[1m90/90\u001b[0m \u001b[32m━━━━━━━━━━━━━━━━━━━━\u001b[0m\u001b[37m\u001b[0m \u001b[1m0s\u001b[0m 2ms/step - loss: 1.8174e-04 - mae: 0.0094 - mape: 5907.5854 - mse: 1.8174e-04 - val_loss: 3.1800e-04 - val_mae: 0.0120 - val_mape: 2.8533 - val_mse: 3.1800e-04\n",
      "Epoch 46/50\n",
      "\u001b[1m90/90\u001b[0m \u001b[32m━━━━━━━━━━━━━━━━━━━━\u001b[0m\u001b[37m\u001b[0m \u001b[1m0s\u001b[0m 2ms/step - loss: 1.7771e-04 - mae: 0.0092 - mape: 264.9535 - mse: 1.7771e-04 - val_loss: 3.1743e-04 - val_mae: 0.0119 - val_mape: 2.8281 - val_mse: 3.1743e-04\n",
      "Epoch 47/50\n",
      "\u001b[1m90/90\u001b[0m \u001b[32m━━━━━━━━━━━━━━━━━━━━\u001b[0m\u001b[37m\u001b[0m \u001b[1m0s\u001b[0m 2ms/step - loss: 1.7053e-04 - mae: 0.0092 - mape: 2146.5117 - mse: 1.7053e-04 - val_loss: 3.5647e-04 - val_mae: 0.0128 - val_mape: 3.0120 - val_mse: 3.5647e-04\n",
      "Epoch 48/50\n",
      "\u001b[1m90/90\u001b[0m \u001b[32m━━━━━━━━━━━━━━━━━━━━\u001b[0m\u001b[37m\u001b[0m \u001b[1m0s\u001b[0m 2ms/step - loss: 1.6632e-04 - mae: 0.0090 - mape: 8121.4883 - mse: 1.6632e-04 - val_loss: 3.2253e-04 - val_mae: 0.0119 - val_mape: 2.8327 - val_mse: 3.2253e-04\n",
      "Epoch 49/50\n",
      "\u001b[1m90/90\u001b[0m \u001b[32m━━━━━━━━━━━━━━━━━━━━\u001b[0m\u001b[37m\u001b[0m \u001b[1m0s\u001b[0m 2ms/step - loss: 1.7533e-04 - mae: 0.0093 - mape: 9006.1914 - mse: 1.7533e-04 - val_loss: 3.2039e-04 - val_mae: 0.0122 - val_mape: 2.8836 - val_mse: 3.2039e-04\n",
      "Epoch 50/50\n",
      "\u001b[1m90/90\u001b[0m \u001b[32m━━━━━━━━━━━━━━━━━━━━\u001b[0m\u001b[37m\u001b[0m \u001b[1m0s\u001b[0m 2ms/step - loss: 1.8533e-04 - mae: 0.0094 - mape: 1658.8875 - mse: 1.8533e-04 - val_loss: 3.4956e-04 - val_mae: 0.0134 - val_mape: 3.1490 - val_mse: 3.4956e-04\n"
     ]
    },
    {
     "name": "stderr",
     "output_type": "stream",
     "text": [
      "WARNING:absl:You are saving your model as an HDF5 file via `model.save()` or `keras.saving.save_model(model)`. This file format is considered legacy. We recommend using instead the native Keras format, e.g. `model.save('my_model.keras')` or `keras.saving.save_model(model, 'my_model.keras')`. \n"
     ]
    },
    {
     "name": "stdout",
     "output_type": "stream",
     "text": [
      "\u001b[1m23/23\u001b[0m \u001b[32m━━━━━━━━━━━━━━━━━━━━\u001b[0m\u001b[37m\u001b[0m \u001b[1m0s\u001b[0m 6ms/step\n",
      "model_1: Processando VALE3 | Combinação 3...\n",
      "Epoch 1/50\n",
      "\u001b[1m90/90\u001b[0m \u001b[32m━━━━━━━━━━━━━━━━━━━━\u001b[0m\u001b[37m\u001b[0m \u001b[1m2s\u001b[0m 5ms/step - loss: 0.1559 - mae: 0.3346 - mape: 45576.5273 - mse: 0.1559 - val_loss: 0.1440 - val_mae: 0.3254 - val_mape: 27.6334 - val_mse: 0.1440\n",
      "Epoch 2/50\n",
      "\u001b[1m90/90\u001b[0m \u001b[32m━━━━━━━━━━━━━━━━━━━━\u001b[0m\u001b[37m\u001b[0m \u001b[1m0s\u001b[0m 3ms/step - loss: 0.0117 - mae: 0.0888 - mape: 124891.5469 - mse: 0.0117 - val_loss: 0.0782 - val_mae: 0.2394 - val_mape: 20.3540 - val_mse: 0.0782\n",
      "Epoch 3/50\n",
      "\u001b[1m90/90\u001b[0m \u001b[32m━━━━━━━━━━━━━━━━━━━━\u001b[0m\u001b[37m\u001b[0m \u001b[1m0s\u001b[0m 2ms/step - loss: 0.0062 - mae: 0.0647 - mape: 160953.0469 - mse: 0.0062 - val_loss: 0.0317 - val_mae: 0.1514 - val_mape: 12.9173 - val_mse: 0.0317\n",
      "Epoch 4/50\n",
      "\u001b[1m90/90\u001b[0m \u001b[32m━━━━━━━━━━━━━━━━━━━━\u001b[0m\u001b[37m\u001b[0m \u001b[1m0s\u001b[0m 2ms/step - loss: 0.0028 - mae: 0.0421 - mape: 9945.4072 - mse: 0.0028 - val_loss: 0.0075 - val_mae: 0.0689 - val_mape: 5.8781 - val_mse: 0.0075\n",
      "Epoch 5/50\n",
      "\u001b[1m90/90\u001b[0m \u001b[32m━━━━━━━━━━━━━━━━━━━━\u001b[0m\u001b[37m\u001b[0m \u001b[1m0s\u001b[0m 2ms/step - loss: 8.3992e-04 - mae: 0.0220 - mape: 38020.3594 - mse: 8.3992e-04 - val_loss: 0.0021 - val_mae: 0.0335 - val_mape: 3.0122 - val_mse: 0.0021\n",
      "Epoch 6/50\n",
      "\u001b[1m90/90\u001b[0m \u001b[32m━━━━━━━━━━━━━━━━━━━━\u001b[0m\u001b[37m\u001b[0m \u001b[1m0s\u001b[0m 2ms/step - loss: 3.6828e-04 - mae: 0.0145 - mape: 51530.8438 - mse: 3.6828e-04 - val_loss: 0.0012 - val_mae: 0.0258 - val_mape: 2.5080 - val_mse: 0.0012\n",
      "Epoch 7/50\n",
      "\u001b[1m90/90\u001b[0m \u001b[32m━━━━━━━━━━━━━━━━━━━━\u001b[0m\u001b[37m\u001b[0m \u001b[1m0s\u001b[0m 2ms/step - loss: 2.8727e-04 - mae: 0.0126 - mape: 10016.2236 - mse: 2.8727e-04 - val_loss: 0.0012 - val_mae: 0.0257 - val_mape: 2.5185 - val_mse: 0.0012\n",
      "Epoch 8/50\n",
      "\u001b[1m90/90\u001b[0m \u001b[32m━━━━━━━━━━━━━━━━━━━━\u001b[0m\u001b[37m\u001b[0m \u001b[1m0s\u001b[0m 2ms/step - loss: 3.0029e-04 - mae: 0.0127 - mape: 21239.8555 - mse: 3.0029e-04 - val_loss: 0.0012 - val_mae: 0.0261 - val_mape: 2.5727 - val_mse: 0.0012\n",
      "Epoch 9/50\n",
      "\u001b[1m90/90\u001b[0m \u001b[32m━━━━━━━━━━━━━━━━━━━━\u001b[0m\u001b[37m\u001b[0m \u001b[1m0s\u001b[0m 2ms/step - loss: 2.7263e-04 - mae: 0.0123 - mape: 12556.1475 - mse: 2.7263e-04 - val_loss: 0.0012 - val_mae: 0.0264 - val_mape: 2.5502 - val_mse: 0.0012\n",
      "Epoch 10/50\n",
      "\u001b[1m90/90\u001b[0m \u001b[32m━━━━━━━━━━━━━━━━━━━━\u001b[0m\u001b[37m\u001b[0m \u001b[1m0s\u001b[0m 2ms/step - loss: 2.8433e-04 - mae: 0.0121 - mape: 52032.6367 - mse: 2.8433e-04 - val_loss: 0.0013 - val_mae: 0.0269 - val_mape: 2.5857 - val_mse: 0.0013\n",
      "Epoch 11/50\n",
      "\u001b[1m90/90\u001b[0m \u001b[32m━━━━━━━━━━━━━━━━━━━━\u001b[0m\u001b[37m\u001b[0m \u001b[1m0s\u001b[0m 2ms/step - loss: 3.2292e-04 - mae: 0.0125 - mape: 18568.4336 - mse: 3.2292e-04 - val_loss: 0.0014 - val_mae: 0.0274 - val_mape: 2.6269 - val_mse: 0.0014\n",
      "Epoch 12/50\n",
      "\u001b[1m90/90\u001b[0m \u001b[32m━━━━━━━━━━━━━━━━━━━━\u001b[0m\u001b[37m\u001b[0m \u001b[1m0s\u001b[0m 3ms/step - loss: 2.7116e-04 - mae: 0.0121 - mape: 4680.1396 - mse: 2.7116e-04 - val_loss: 0.0015 - val_mae: 0.0286 - val_mape: 2.6634 - val_mse: 0.0015\n",
      "Epoch 13/50\n",
      "\u001b[1m90/90\u001b[0m \u001b[32m━━━━━━━━━━━━━━━━━━━━\u001b[0m\u001b[37m\u001b[0m \u001b[1m0s\u001b[0m 2ms/step - loss: 2.6994e-04 - mae: 0.0121 - mape: 22131.8906 - mse: 2.6994e-04 - val_loss: 0.0016 - val_mae: 0.0295 - val_mape: 2.7224 - val_mse: 0.0016\n",
      "Epoch 14/50\n",
      "\u001b[1m90/90\u001b[0m \u001b[32m━━━━━━━━━━━━━━━━━━━━\u001b[0m\u001b[37m\u001b[0m \u001b[1m0s\u001b[0m 2ms/step - loss: 2.4939e-04 - mae: 0.0118 - mape: 2990.8950 - mse: 2.4939e-04 - val_loss: 0.0019 - val_mae: 0.0313 - val_mape: 2.8307 - val_mse: 0.0019\n",
      "Epoch 15/50\n",
      "\u001b[1m90/90\u001b[0m \u001b[32m━━━━━━━━━━━━━━━━━━━━\u001b[0m\u001b[37m\u001b[0m \u001b[1m0s\u001b[0m 2ms/step - loss: 2.4603e-04 - mae: 0.0115 - mape: 36379.7695 - mse: 2.4603e-04 - val_loss: 0.0021 - val_mae: 0.0331 - val_mape: 2.9554 - val_mse: 0.0021\n",
      "Epoch 16/50\n",
      "\u001b[1m90/90\u001b[0m \u001b[32m━━━━━━━━━━━━━━━━━━━━\u001b[0m\u001b[37m\u001b[0m \u001b[1m0s\u001b[0m 2ms/step - loss: 2.7099e-04 - mae: 0.0118 - mape: 7932.7886 - mse: 2.7099e-04 - val_loss: 0.0021 - val_mae: 0.0332 - val_mape: 2.9597 - val_mse: 0.0021\n",
      "Epoch 17/50\n",
      "\u001b[1m90/90\u001b[0m \u001b[32m━━━━━━━━━━━━━━━━━━━━\u001b[0m\u001b[37m\u001b[0m \u001b[1m0s\u001b[0m 2ms/step - loss: 2.5366e-04 - mae: 0.0118 - mape: 7092.1592 - mse: 2.5366e-04 - val_loss: 0.0023 - val_mae: 0.0347 - val_mape: 3.0608 - val_mse: 0.0023\n"
     ]
    },
    {
     "name": "stderr",
     "output_type": "stream",
     "text": [
      "WARNING:absl:You are saving your model as an HDF5 file via `model.save()` or `keras.saving.save_model(model)`. This file format is considered legacy. We recommend using instead the native Keras format, e.g. `model.save('my_model.keras')` or `keras.saving.save_model(model, 'my_model.keras')`. \n"
     ]
    },
    {
     "name": "stdout",
     "output_type": "stream",
     "text": [
      "\u001b[1m23/23\u001b[0m \u001b[32m━━━━━━━━━━━━━━━━━━━━\u001b[0m\u001b[37m\u001b[0m \u001b[1m0s\u001b[0m 5ms/step\n",
      "model_1: Processando BBDC4 | Combinação 3...\n",
      "Epoch 1/50\n",
      "\u001b[1m88/88\u001b[0m \u001b[32m━━━━━━━━━━━━━━━━━━━━\u001b[0m\u001b[37m\u001b[0m \u001b[1m1s\u001b[0m 5ms/step - loss: 0.0857 - mae: 0.2076 - mape: 58628.2109 - mse: 0.0857 - val_loss: 0.0220 - val_mae: 0.1211 - val_mape: 20.1823 - val_mse: 0.0220\n",
      "Epoch 2/50\n",
      "\u001b[1m88/88\u001b[0m \u001b[32m━━━━━━━━━━━━━━━━━━━━\u001b[0m\u001b[37m\u001b[0m \u001b[1m0s\u001b[0m 2ms/step - loss: 0.0182 - mae: 0.1112 - mape: 2362.2917 - mse: 0.0182 - val_loss: 0.0048 - val_mae: 0.0551 - val_mape: 9.5239 - val_mse: 0.0048\n",
      "Epoch 3/50\n",
      "\u001b[1m88/88\u001b[0m \u001b[32m━━━━━━━━━━━━━━━━━━━━\u001b[0m\u001b[37m\u001b[0m \u001b[1m0s\u001b[0m 2ms/step - loss: 0.0041 - mae: 0.0527 - mape: 75094.7578 - mse: 0.0041 - val_loss: 0.0012 - val_mae: 0.0270 - val_mape: 5.1738 - val_mse: 0.0012\n",
      "Epoch 4/50\n",
      "\u001b[1m88/88\u001b[0m \u001b[32m━━━━━━━━━━━━━━━━━━━━\u001b[0m\u001b[37m\u001b[0m \u001b[1m0s\u001b[0m 2ms/step - loss: 8.3855e-04 - mae: 0.0216 - mape: 477.4268 - mse: 8.3855e-04 - val_loss: 7.9947e-04 - val_mae: 0.0211 - val_mape: 4.1178 - val_mse: 7.9947e-04\n",
      "Epoch 5/50\n",
      "\u001b[1m88/88\u001b[0m \u001b[32m━━━━━━━━━━━━━━━━━━━━\u001b[0m\u001b[37m\u001b[0m \u001b[1m0s\u001b[0m 2ms/step - loss: 4.5090e-04 - mae: 0.0157 - mape: 1545.9409 - mse: 4.5090e-04 - val_loss: 6.6939e-04 - val_mae: 0.0190 - val_mape: 3.7138 - val_mse: 6.6939e-04\n",
      "Epoch 6/50\n",
      "\u001b[1m88/88\u001b[0m \u001b[32m━━━━━━━━━━━━━━━━━━━━\u001b[0m\u001b[37m\u001b[0m \u001b[1m0s\u001b[0m 2ms/step - loss: 5.3728e-04 - mae: 0.0149 - mape: 21530.5312 - mse: 5.3728e-04 - val_loss: 6.3625e-04 - val_mae: 0.0185 - val_mape: 3.6084 - val_mse: 6.3625e-04\n",
      "Epoch 7/50\n",
      "\u001b[1m88/88\u001b[0m \u001b[32m━━━━━━━━━━━━━━━━━━━━\u001b[0m\u001b[37m\u001b[0m \u001b[1m0s\u001b[0m 3ms/step - loss: 3.8902e-04 - mae: 0.0146 - mape: 6784.9204 - mse: 3.8902e-04 - val_loss: 6.2513e-04 - val_mae: 0.0183 - val_mape: 3.5698 - val_mse: 6.2513e-04\n",
      "Epoch 8/50\n",
      "\u001b[1m88/88\u001b[0m \u001b[32m━━━━━━━━━━━━━━━━━━━━\u001b[0m\u001b[37m\u001b[0m \u001b[1m0s\u001b[0m 3ms/step - loss: 3.9560e-04 - mae: 0.0142 - mape: 394.7841 - mse: 3.9560e-04 - val_loss: 6.4154e-04 - val_mae: 0.0186 - val_mape: 3.6161 - val_mse: 6.4154e-04\n",
      "Epoch 9/50\n",
      "\u001b[1m88/88\u001b[0m \u001b[32m━━━━━━━━━━━━━━━━━━━━\u001b[0m\u001b[37m\u001b[0m \u001b[1m0s\u001b[0m 3ms/step - loss: 4.7661e-04 - mae: 0.0142 - mape: 2361.8430 - mse: 4.7661e-04 - val_loss: 6.0377e-04 - val_mae: 0.0179 - val_mape: 3.4965 - val_mse: 6.0377e-04\n",
      "Epoch 10/50\n",
      "\u001b[1m88/88\u001b[0m \u001b[32m━━━━━━━━━━━━━━━━━━━━\u001b[0m\u001b[37m\u001b[0m \u001b[1m0s\u001b[0m 2ms/step - loss: 4.7211e-04 - mae: 0.0138 - mape: 5325.8730 - mse: 4.7211e-04 - val_loss: 5.9950e-04 - val_mae: 0.0178 - val_mape: 3.4805 - val_mse: 5.9950e-04\n",
      "Epoch 11/50\n",
      "\u001b[1m88/88\u001b[0m \u001b[32m━━━━━━━━━━━━━━━━━━━━\u001b[0m\u001b[37m\u001b[0m \u001b[1m0s\u001b[0m 2ms/step - loss: 5.1561e-04 - mae: 0.0143 - mape: 5228.4336 - mse: 5.1561e-04 - val_loss: 5.9424e-04 - val_mae: 0.0178 - val_mape: 3.4785 - val_mse: 5.9424e-04\n",
      "Epoch 12/50\n",
      "\u001b[1m88/88\u001b[0m \u001b[32m━━━━━━━━━━━━━━━━━━━━\u001b[0m\u001b[37m\u001b[0m \u001b[1m0s\u001b[0m 2ms/step - loss: 4.5837e-04 - mae: 0.0134 - mape: 6365.9995 - mse: 4.5837e-04 - val_loss: 5.9263e-04 - val_mae: 0.0177 - val_mape: 3.4656 - val_mse: 5.9263e-04\n",
      "Epoch 13/50\n",
      "\u001b[1m88/88\u001b[0m \u001b[32m━━━━━━━━━━━━━━━━━━━━\u001b[0m\u001b[37m\u001b[0m \u001b[1m0s\u001b[0m 2ms/step - loss: 5.9458e-04 - mae: 0.0141 - mape: 11810.5615 - mse: 5.9458e-04 - val_loss: 5.8849e-04 - val_mae: 0.0176 - val_mape: 3.4524 - val_mse: 5.8849e-04\n",
      "Epoch 14/50\n",
      "\u001b[1m88/88\u001b[0m \u001b[32m━━━━━━━━━━━━━━━━━━━━\u001b[0m\u001b[37m\u001b[0m \u001b[1m0s\u001b[0m 2ms/step - loss: 3.5496e-04 - mae: 0.0136 - mape: 445.0063 - mse: 3.5496e-04 - val_loss: 5.8042e-04 - val_mae: 0.0175 - val_mape: 3.4368 - val_mse: 5.8042e-04\n",
      "Epoch 15/50\n",
      "\u001b[1m88/88\u001b[0m \u001b[32m━━━━━━━━━━━━━━━━━━━━\u001b[0m\u001b[37m\u001b[0m \u001b[1m0s\u001b[0m 2ms/step - loss: 3.4162e-04 - mae: 0.0130 - mape: 1714.9138 - mse: 3.4162e-04 - val_loss: 6.0881e-04 - val_mae: 0.0180 - val_mape: 3.5251 - val_mse: 6.0881e-04\n",
      "Epoch 16/50\n",
      "\u001b[1m88/88\u001b[0m \u001b[32m━━━━━━━━━━━━━━━━━━━━\u001b[0m\u001b[37m\u001b[0m \u001b[1m0s\u001b[0m 2ms/step - loss: 3.4866e-04 - mae: 0.0130 - mape: 5898.6284 - mse: 3.4866e-04 - val_loss: 5.5927e-04 - val_mae: 0.0170 - val_mape: 3.3483 - val_mse: 5.5927e-04\n",
      "Epoch 17/50\n",
      "\u001b[1m88/88\u001b[0m \u001b[32m━━━━━━━━━━━━━━━━━━━━\u001b[0m\u001b[37m\u001b[0m \u001b[1m0s\u001b[0m 2ms/step - loss: 3.1927e-04 - mae: 0.0125 - mape: 2398.8013 - mse: 3.1927e-04 - val_loss: 5.5512e-04 - val_mae: 0.0170 - val_mape: 3.3353 - val_mse: 5.5512e-04\n",
      "Epoch 18/50\n",
      "\u001b[1m88/88\u001b[0m \u001b[32m━━━━━━━━━━━━━━━━━━━━\u001b[0m\u001b[37m\u001b[0m \u001b[1m0s\u001b[0m 2ms/step - loss: 2.9825e-04 - mae: 0.0125 - mape: 8464.5391 - mse: 2.9825e-04 - val_loss: 5.5988e-04 - val_mae: 0.0171 - val_mape: 3.3578 - val_mse: 5.5988e-04\n",
      "Epoch 19/50\n",
      "\u001b[1m88/88\u001b[0m \u001b[32m━━━━━━━━━━━━━━━━━━━━\u001b[0m\u001b[37m\u001b[0m \u001b[1m0s\u001b[0m 3ms/step - loss: 3.5879e-04 - mae: 0.0131 - mape: 1408.0762 - mse: 3.5879e-04 - val_loss: 5.5729e-04 - val_mae: 0.0171 - val_mape: 3.3506 - val_mse: 5.5729e-04\n",
      "Epoch 20/50\n",
      "\u001b[1m88/88\u001b[0m \u001b[32m━━━━━━━━━━━━━━━━━━━━\u001b[0m\u001b[37m\u001b[0m \u001b[1m0s\u001b[0m 2ms/step - loss: 3.8321e-04 - mae: 0.0128 - mape: 4550.3970 - mse: 3.8321e-04 - val_loss: 5.5201e-04 - val_mae: 0.0170 - val_mape: 3.3280 - val_mse: 5.5201e-04\n",
      "Epoch 21/50\n",
      "\u001b[1m88/88\u001b[0m \u001b[32m━━━━━━━━━━━━━━━━━━━━\u001b[0m\u001b[37m\u001b[0m \u001b[1m0s\u001b[0m 2ms/step - loss: 4.0398e-04 - mae: 0.0130 - mape: 2167.2329 - mse: 4.0398e-04 - val_loss: 5.4351e-04 - val_mae: 0.0168 - val_mape: 3.3008 - val_mse: 5.4351e-04\n",
      "Epoch 22/50\n",
      "\u001b[1m88/88\u001b[0m \u001b[32m━━━━━━━━━━━━━━━━━━━━\u001b[0m\u001b[37m\u001b[0m \u001b[1m0s\u001b[0m 2ms/step - loss: 4.7615e-04 - mae: 0.0130 - mape: 5969.5806 - mse: 4.7615e-04 - val_loss: 5.5199e-04 - val_mae: 0.0170 - val_mape: 3.3369 - val_mse: 5.5199e-04\n",
      "Epoch 23/50\n",
      "\u001b[1m88/88\u001b[0m \u001b[32m━━━━━━━━━━━━━━━━━━━━\u001b[0m\u001b[37m\u001b[0m \u001b[1m0s\u001b[0m 2ms/step - loss: 4.1322e-04 - mae: 0.0126 - mape: 11033.0615 - mse: 4.1322e-04 - val_loss: 5.4644e-04 - val_mae: 0.0168 - val_mape: 3.3139 - val_mse: 5.4644e-04\n",
      "Epoch 24/50\n",
      "\u001b[1m88/88\u001b[0m \u001b[32m━━━━━━━━━━━━━━━━━━━━\u001b[0m\u001b[37m\u001b[0m \u001b[1m0s\u001b[0m 2ms/step - loss: 3.6631e-04 - mae: 0.0126 - mape: 1632.0708 - mse: 3.6631e-04 - val_loss: 5.4531e-04 - val_mae: 0.0168 - val_mape: 3.3140 - val_mse: 5.4531e-04\n",
      "Epoch 25/50\n",
      "\u001b[1m88/88\u001b[0m \u001b[32m━━━━━━━━━━━━━━━━━━━━\u001b[0m\u001b[37m\u001b[0m \u001b[1m0s\u001b[0m 2ms/step - loss: 3.4981e-04 - mae: 0.0124 - mape: 1408.8708 - mse: 3.4981e-04 - val_loss: 5.4624e-04 - val_mae: 0.0168 - val_mape: 3.3084 - val_mse: 5.4624e-04\n",
      "Epoch 26/50\n",
      "\u001b[1m88/88\u001b[0m \u001b[32m━━━━━━━━━━━━━━━━━━━━\u001b[0m\u001b[37m\u001b[0m \u001b[1m0s\u001b[0m 2ms/step - loss: 2.9742e-04 - mae: 0.0122 - mape: 1240.0925 - mse: 2.9742e-04 - val_loss: 5.4587e-04 - val_mae: 0.0168 - val_mape: 3.3070 - val_mse: 5.4587e-04\n",
      "Epoch 27/50\n",
      "\u001b[1m88/88\u001b[0m \u001b[32m━━━━━━━━━━━━━━━━━━━━\u001b[0m\u001b[37m\u001b[0m \u001b[1m0s\u001b[0m 2ms/step - loss: 3.4961e-04 - mae: 0.0126 - mape: 1530.8251 - mse: 3.4961e-04 - val_loss: 5.3925e-04 - val_mae: 0.0167 - val_mape: 3.2819 - val_mse: 5.3925e-04\n",
      "Epoch 28/50\n",
      "\u001b[1m88/88\u001b[0m \u001b[32m━━━━━━━━━━━━━━━━━━━━\u001b[0m\u001b[37m\u001b[0m \u001b[1m0s\u001b[0m 2ms/step - loss: 3.3167e-04 - mae: 0.0124 - mape: 1193.4395 - mse: 3.3167e-04 - val_loss: 5.5878e-04 - val_mae: 0.0171 - val_mape: 3.3834 - val_mse: 5.5878e-04\n",
      "Epoch 29/50\n",
      "\u001b[1m88/88\u001b[0m \u001b[32m━━━━━━━━━━━━━━━━━━━━\u001b[0m\u001b[37m\u001b[0m \u001b[1m0s\u001b[0m 3ms/step - loss: 2.8921e-04 - mae: 0.0123 - mape: 2039.8026 - mse: 2.8921e-04 - val_loss: 5.6910e-04 - val_mae: 0.0173 - val_mape: 3.4169 - val_mse: 5.6910e-04\n",
      "Epoch 30/50\n",
      "\u001b[1m88/88\u001b[0m \u001b[32m━━━━━━━━━━━━━━━━━━━━\u001b[0m\u001b[37m\u001b[0m \u001b[1m0s\u001b[0m 2ms/step - loss: 3.9198e-04 - mae: 0.0128 - mape: 4839.6958 - mse: 3.9198e-04 - val_loss: 5.4445e-04 - val_mae: 0.0168 - val_mape: 3.3121 - val_mse: 5.4445e-04\n",
      "Epoch 31/50\n",
      "\u001b[1m88/88\u001b[0m \u001b[32m━━━━━━━━━━━━━━━━━━━━\u001b[0m\u001b[37m\u001b[0m \u001b[1m0s\u001b[0m 2ms/step - loss: 5.0123e-04 - mae: 0.0128 - mape: 5376.0664 - mse: 5.0123e-04 - val_loss: 5.5478e-04 - val_mae: 0.0170 - val_mape: 3.3555 - val_mse: 5.5478e-04\n",
      "Epoch 32/50\n",
      "\u001b[1m88/88\u001b[0m \u001b[32m━━━━━━━━━━━━━━━━━━━━\u001b[0m\u001b[37m\u001b[0m \u001b[1m0s\u001b[0m 2ms/step - loss: 3.3086e-04 - mae: 0.0123 - mape: 560.9300 - mse: 3.3086e-04 - val_loss: 5.5718e-04 - val_mae: 0.0171 - val_mape: 3.3672 - val_mse: 5.5718e-04\n",
      "Epoch 33/50\n",
      "\u001b[1m88/88\u001b[0m \u001b[32m━━━━━━━━━━━━━━━━━━━━\u001b[0m\u001b[37m\u001b[0m \u001b[1m0s\u001b[0m 2ms/step - loss: 3.0163e-04 - mae: 0.0119 - mape: 154.5003 - mse: 3.0163e-04 - val_loss: 5.6233e-04 - val_mae: 0.0172 - val_mape: 3.3748 - val_mse: 5.6233e-04\n",
      "Epoch 34/50\n",
      "\u001b[1m88/88\u001b[0m \u001b[32m━━━━━━━━━━━━━━━━━━━━\u001b[0m\u001b[37m\u001b[0m \u001b[1m0s\u001b[0m 2ms/step - loss: 3.1934e-04 - mae: 0.0119 - mape: 2981.0471 - mse: 3.1934e-04 - val_loss: 5.3393e-04 - val_mae: 0.0167 - val_mape: 3.2727 - val_mse: 5.3393e-04\n",
      "Epoch 35/50\n",
      "\u001b[1m88/88\u001b[0m \u001b[32m━━━━━━━━━━━━━━━━━━━━\u001b[0m\u001b[37m\u001b[0m \u001b[1m0s\u001b[0m 2ms/step - loss: 3.8690e-04 - mae: 0.0125 - mape: 639.9611 - mse: 3.8690e-04 - val_loss: 5.6551e-04 - val_mae: 0.0173 - val_mape: 3.4128 - val_mse: 5.6551e-04\n",
      "Epoch 36/50\n",
      "\u001b[1m88/88\u001b[0m \u001b[32m━━━━━━━━━━━━━━━━━━━━\u001b[0m\u001b[37m\u001b[0m \u001b[1m0s\u001b[0m 2ms/step - loss: 3.8180e-04 - mae: 0.0127 - mape: 4722.3760 - mse: 3.8180e-04 - val_loss: 5.6745e-04 - val_mae: 0.0173 - val_mape: 3.4049 - val_mse: 5.6745e-04\n",
      "Epoch 37/50\n",
      "\u001b[1m88/88\u001b[0m \u001b[32m━━━━━━━━━━━━━━━━━━━━\u001b[0m\u001b[37m\u001b[0m \u001b[1m0s\u001b[0m 2ms/step - loss: 3.5959e-04 - mae: 0.0122 - mape: 1971.9288 - mse: 3.5959e-04 - val_loss: 6.0450e-04 - val_mae: 0.0181 - val_mape: 3.5513 - val_mse: 6.0450e-04\n",
      "Epoch 38/50\n",
      "\u001b[1m88/88\u001b[0m \u001b[32m━━━━━━━━━━━━━━━━━━━━\u001b[0m\u001b[37m\u001b[0m \u001b[1m0s\u001b[0m 2ms/step - loss: 3.6092e-04 - mae: 0.0125 - mape: 1645.0096 - mse: 3.6092e-04 - val_loss: 5.5106e-04 - val_mae: 0.0169 - val_mape: 3.3118 - val_mse: 5.5106e-04\n",
      "Epoch 39/50\n",
      "\u001b[1m88/88\u001b[0m \u001b[32m━━━━━━━━━━━━━━━━━━━━\u001b[0m\u001b[37m\u001b[0m \u001b[1m0s\u001b[0m 2ms/step - loss: 4.4053e-04 - mae: 0.0125 - mape: 342.8115 - mse: 4.4053e-04 - val_loss: 5.6575e-04 - val_mae: 0.0173 - val_mape: 3.3995 - val_mse: 5.6575e-04\n",
      "Epoch 40/50\n",
      "\u001b[1m88/88\u001b[0m \u001b[32m━━━━━━━━━━━━━━━━━━━━\u001b[0m\u001b[37m\u001b[0m \u001b[1m0s\u001b[0m 2ms/step - loss: 4.8682e-04 - mae: 0.0128 - mape: 1710.5483 - mse: 4.8682e-04 - val_loss: 5.6439e-04 - val_mae: 0.0173 - val_mape: 3.4078 - val_mse: 5.6439e-04\n",
      "Epoch 41/50\n",
      "\u001b[1m88/88\u001b[0m \u001b[32m━━━━━━━━━━━━━━━━━━━━\u001b[0m\u001b[37m\u001b[0m \u001b[1m0s\u001b[0m 3ms/step - loss: 3.1336e-04 - mae: 0.0121 - mape: 469.1757 - mse: 3.1336e-04 - val_loss: 5.6225e-04 - val_mae: 0.0172 - val_mape: 3.3955 - val_mse: 5.6225e-04\n",
      "Epoch 42/50\n",
      "\u001b[1m88/88\u001b[0m \u001b[32m━━━━━━━━━━━━━━━━━━━━\u001b[0m\u001b[37m\u001b[0m \u001b[1m0s\u001b[0m 2ms/step - loss: 3.5066e-04 - mae: 0.0122 - mape: 880.0771 - mse: 3.5066e-04 - val_loss: 5.5836e-04 - val_mae: 0.0171 - val_mape: 3.3428 - val_mse: 5.5836e-04\n",
      "Epoch 43/50\n",
      "\u001b[1m88/88\u001b[0m \u001b[32m━━━━━━━━━━━━━━━━━━━━\u001b[0m\u001b[37m\u001b[0m \u001b[1m0s\u001b[0m 2ms/step - loss: 3.6795e-04 - mae: 0.0128 - mape: 357.5919 - mse: 3.6795e-04 - val_loss: 5.4359e-04 - val_mae: 0.0168 - val_mape: 3.3099 - val_mse: 5.4359e-04\n",
      "Epoch 44/50\n",
      "\u001b[1m88/88\u001b[0m \u001b[32m━━━━━━━━━━━━━━━━━━━━\u001b[0m\u001b[37m\u001b[0m \u001b[1m0s\u001b[0m 2ms/step - loss: 3.2650e-04 - mae: 0.0123 - mape: 2701.5017 - mse: 3.2650e-04 - val_loss: 6.1694e-04 - val_mae: 0.0183 - val_mape: 3.5911 - val_mse: 6.1694e-04\n"
     ]
    },
    {
     "name": "stderr",
     "output_type": "stream",
     "text": [
      "WARNING:absl:You are saving your model as an HDF5 file via `model.save()` or `keras.saving.save_model(model)`. This file format is considered legacy. We recommend using instead the native Keras format, e.g. `model.save('my_model.keras')` or `keras.saving.save_model(model, 'my_model.keras')`. \n"
     ]
    },
    {
     "name": "stdout",
     "output_type": "stream",
     "text": [
      "\u001b[1m22/22\u001b[0m \u001b[32m━━━━━━━━━━━━━━━━━━━━\u001b[0m\u001b[37m\u001b[0m \u001b[1m0s\u001b[0m 6ms/step\n",
      "model_1: Processando ITUB4 | Combinação 3...\n",
      "Epoch 1/50\n",
      "\u001b[1m90/90\u001b[0m \u001b[32m━━━━━━━━━━━━━━━━━━━━\u001b[0m\u001b[37m\u001b[0m \u001b[1m2s\u001b[0m 6ms/step - loss: 0.1590 - mae: 0.3262 - mape: 40279.5234 - mse: 0.1590 - val_loss: 0.0135 - val_mae: 0.0893 - val_mape: 12.9510 - val_mse: 0.0135\n",
      "Epoch 2/50\n",
      "\u001b[1m90/90\u001b[0m \u001b[32m━━━━━━━━━━━━━━━━━━━━\u001b[0m\u001b[37m\u001b[0m \u001b[1m0s\u001b[0m 2ms/step - loss: 0.0130 - mae: 0.0974 - mape: 230727.0469 - mse: 0.0130 - val_loss: 0.0036 - val_mae: 0.0466 - val_mape: 7.0945 - val_mse: 0.0036\n",
      "Epoch 3/50\n",
      "\u001b[1m90/90\u001b[0m \u001b[32m━━━━━━━━━━━━━━━━━━━━\u001b[0m\u001b[37m\u001b[0m \u001b[1m0s\u001b[0m 3ms/step - loss: 0.0039 - mae: 0.0517 - mape: 11581.2959 - mse: 0.0039 - val_loss: 0.0015 - val_mae: 0.0293 - val_mape: 4.9324 - val_mse: 0.0015\n",
      "Epoch 4/50\n",
      "\u001b[1m90/90\u001b[0m \u001b[32m━━━━━━━━━━━━━━━━━━━━\u001b[0m\u001b[37m\u001b[0m \u001b[1m0s\u001b[0m 2ms/step - loss: 0.0011 - mae: 0.0257 - mape: 69152.3984 - mse: 0.0011 - val_loss: 0.0011 - val_mae: 0.0250 - val_mape: 4.2718 - val_mse: 0.0011\n",
      "Epoch 5/50\n",
      "\u001b[1m90/90\u001b[0m \u001b[32m━━━━━━━━━━━━━━━━━━━━\u001b[0m\u001b[37m\u001b[0m \u001b[1m0s\u001b[0m 2ms/step - loss: 5.0491e-04 - mae: 0.0172 - mape: 80034.0781 - mse: 5.0491e-04 - val_loss: 9.6111e-04 - val_mae: 0.0232 - val_mape: 3.9280 - val_mse: 9.6111e-04\n",
      "Epoch 6/50\n",
      "\u001b[1m90/90\u001b[0m \u001b[32m━━━━━━━━━━━━━━━━━━━━\u001b[0m\u001b[37m\u001b[0m \u001b[1m0s\u001b[0m 3ms/step - loss: 3.7422e-04 - mae: 0.0147 - mape: 52491.5273 - mse: 3.7422e-04 - val_loss: 8.2381e-04 - val_mae: 0.0217 - val_mape: 3.6516 - val_mse: 8.2381e-04\n",
      "Epoch 7/50\n",
      "\u001b[1m90/90\u001b[0m \u001b[32m━━━━━━━━━━━━━━━━━━━━\u001b[0m\u001b[37m\u001b[0m \u001b[1m0s\u001b[0m 2ms/step - loss: 3.6356e-04 - mae: 0.0144 - mape: 154304.7656 - mse: 3.6356e-04 - val_loss: 7.7626e-04 - val_mae: 0.0211 - val_mape: 3.5456 - val_mse: 7.7626e-04\n",
      "Epoch 8/50\n",
      "\u001b[1m90/90\u001b[0m \u001b[32m━━━━━━━━━━━━━━━━━━━━\u001b[0m\u001b[37m\u001b[0m \u001b[1m0s\u001b[0m 2ms/step - loss: 3.1514e-04 - mae: 0.0134 - mape: 3187.2532 - mse: 3.1514e-04 - val_loss: 7.3721e-04 - val_mae: 0.0206 - val_mape: 3.4574 - val_mse: 7.3721e-04\n",
      "Epoch 9/50\n",
      "\u001b[1m90/90\u001b[0m \u001b[32m━━━━━━━━━━━━━━━━━━━━\u001b[0m\u001b[37m\u001b[0m \u001b[1m0s\u001b[0m 2ms/step - loss: 2.9276e-04 - mae: 0.0129 - mape: 16628.8145 - mse: 2.9276e-04 - val_loss: 6.9098e-04 - val_mae: 0.0199 - val_mape: 3.3395 - val_mse: 6.9098e-04\n",
      "Epoch 10/50\n",
      "\u001b[1m90/90\u001b[0m \u001b[32m━━━━━━━━━━━━━━━━━━━━\u001b[0m\u001b[37m\u001b[0m \u001b[1m0s\u001b[0m 2ms/step - loss: 3.0272e-04 - mae: 0.0130 - mape: 25924.7500 - mse: 3.0272e-04 - val_loss: 6.7495e-04 - val_mae: 0.0196 - val_mape: 3.3001 - val_mse: 6.7495e-04\n",
      "Epoch 11/50\n",
      "\u001b[1m90/90\u001b[0m \u001b[32m━━━━━━━━━━━━━━━━━━━━\u001b[0m\u001b[37m\u001b[0m \u001b[1m0s\u001b[0m 2ms/step - loss: 2.8222e-04 - mae: 0.0126 - mape: 74540.9922 - mse: 2.8222e-04 - val_loss: 6.5855e-04 - val_mae: 0.0194 - val_mape: 3.2639 - val_mse: 6.5855e-04\n",
      "Epoch 12/50\n",
      "\u001b[1m90/90\u001b[0m \u001b[32m━━━━━━━━━━━━━━━━━━━━\u001b[0m\u001b[37m\u001b[0m \u001b[1m0s\u001b[0m 2ms/step - loss: 2.6699e-04 - mae: 0.0123 - mape: 101375.1016 - mse: 2.6699e-04 - val_loss: 6.2856e-04 - val_mae: 0.0189 - val_mape: 3.1811 - val_mse: 6.2856e-04\n",
      "Epoch 13/50\n",
      "\u001b[1m90/90\u001b[0m \u001b[32m━━━━━━━━━━━━━━━━━━━━\u001b[0m\u001b[37m\u001b[0m \u001b[1m0s\u001b[0m 2ms/step - loss: 2.6070e-04 - mae: 0.0120 - mape: 57935.0469 - mse: 2.6070e-04 - val_loss: 5.9970e-04 - val_mae: 0.0184 - val_mape: 3.0999 - val_mse: 5.9970e-04\n",
      "Epoch 14/50\n",
      "\u001b[1m90/90\u001b[0m \u001b[32m━━━━━━━━━━━━━━━━━━━━\u001b[0m\u001b[37m\u001b[0m \u001b[1m0s\u001b[0m 2ms/step - loss: 2.7462e-04 - mae: 0.0122 - mape: 45776.3555 - mse: 2.7462e-04 - val_loss: 5.7457e-04 - val_mae: 0.0179 - val_mape: 3.0238 - val_mse: 5.7457e-04\n",
      "Epoch 15/50\n",
      "\u001b[1m90/90\u001b[0m \u001b[32m━━━━━━━━━━━━━━━━━━━━\u001b[0m\u001b[37m\u001b[0m \u001b[1m0s\u001b[0m 2ms/step - loss: 2.5257e-04 - mae: 0.0118 - mape: 99503.9844 - mse: 2.5257e-04 - val_loss: 5.4698e-04 - val_mae: 0.0174 - val_mape: 2.9364 - val_mse: 5.4698e-04\n",
      "Epoch 16/50\n",
      "\u001b[1m90/90\u001b[0m \u001b[32m━━━━━━━━━━━━━━━━━━━━\u001b[0m\u001b[37m\u001b[0m \u001b[1m0s\u001b[0m 2ms/step - loss: 2.4093e-04 - mae: 0.0116 - mape: 28953.0234 - mse: 2.4093e-04 - val_loss: 5.3181e-04 - val_mae: 0.0171 - val_mape: 2.8862 - val_mse: 5.3181e-04\n",
      "Epoch 17/50\n",
      "\u001b[1m90/90\u001b[0m \u001b[32m━━━━━━━━━━━━━━━━━━━━\u001b[0m\u001b[37m\u001b[0m \u001b[1m0s\u001b[0m 2ms/step - loss: 2.3101e-04 - mae: 0.0113 - mape: 36092.2422 - mse: 2.3101e-04 - val_loss: 5.1882e-04 - val_mae: 0.0168 - val_mape: 2.8411 - val_mse: 5.1882e-04\n",
      "Epoch 18/50\n",
      "\u001b[1m90/90\u001b[0m \u001b[32m━━━━━━━━━━━━━━━━━━━━\u001b[0m\u001b[37m\u001b[0m \u001b[1m0s\u001b[0m 2ms/step - loss: 2.3442e-04 - mae: 0.0115 - mape: 61131.4414 - mse: 2.3442e-04 - val_loss: 5.1961e-04 - val_mae: 0.0169 - val_mape: 2.8489 - val_mse: 5.1961e-04\n",
      "Epoch 19/50\n",
      "\u001b[1m90/90\u001b[0m \u001b[32m━━━━━━━━━━━━━━━━━━━━\u001b[0m\u001b[37m\u001b[0m \u001b[1m0s\u001b[0m 2ms/step - loss: 2.2931e-04 - mae: 0.0113 - mape: 11562.5498 - mse: 2.2931e-04 - val_loss: 5.0427e-04 - val_mae: 0.0166 - val_mape: 2.7996 - val_mse: 5.0427e-04\n",
      "Epoch 20/50\n",
      "\u001b[1m90/90\u001b[0m \u001b[32m━━━━━━━━━━━━━━━━━━━━\u001b[0m\u001b[37m\u001b[0m \u001b[1m0s\u001b[0m 2ms/step - loss: 2.1922e-04 - mae: 0.0110 - mape: 90048.7891 - mse: 2.1922e-04 - val_loss: 4.9987e-04 - val_mae: 0.0165 - val_mape: 2.7825 - val_mse: 4.9987e-04\n",
      "Epoch 21/50\n",
      "\u001b[1m90/90\u001b[0m \u001b[32m━━━━━━━━━━━━━━━━━━━━\u001b[0m\u001b[37m\u001b[0m \u001b[1m0s\u001b[0m 2ms/step - loss: 2.2094e-04 - mae: 0.0112 - mape: 34098.9180 - mse: 2.2094e-04 - val_loss: 4.9201e-04 - val_mae: 0.0164 - val_mape: 2.7604 - val_mse: 4.9201e-04\n",
      "Epoch 22/50\n",
      "\u001b[1m90/90\u001b[0m \u001b[32m━━━━━━━━━━━━━━━━━━━━\u001b[0m\u001b[37m\u001b[0m \u001b[1m0s\u001b[0m 2ms/step - loss: 2.1313e-04 - mae: 0.0108 - mape: 6511.9023 - mse: 2.1313e-04 - val_loss: 5.0553e-04 - val_mae: 0.0167 - val_mape: 2.8267 - val_mse: 5.0553e-04\n",
      "Epoch 23/50\n",
      "\u001b[1m90/90\u001b[0m \u001b[32m━━━━━━━━━━━━━━━━━━━━\u001b[0m\u001b[37m\u001b[0m \u001b[1m0s\u001b[0m 2ms/step - loss: 1.9993e-04 - mae: 0.0105 - mape: 3665.1602 - mse: 1.9993e-04 - val_loss: 4.9376e-04 - val_mae: 0.0165 - val_mape: 2.7799 - val_mse: 4.9376e-04\n",
      "Epoch 24/50\n",
      "\u001b[1m90/90\u001b[0m \u001b[32m━━━━━━━━━━━━━━━━━━━━\u001b[0m\u001b[37m\u001b[0m \u001b[1m0s\u001b[0m 2ms/step - loss: 2.0487e-04 - mae: 0.0106 - mape: 13920.2158 - mse: 2.0487e-04 - val_loss: 5.0787e-04 - val_mae: 0.0168 - val_mape: 2.8394 - val_mse: 5.0787e-04\n",
      "Epoch 25/50\n",
      "\u001b[1m90/90\u001b[0m \u001b[32m━━━━━━━━━━━━━━━━━━━━\u001b[0m\u001b[37m\u001b[0m \u001b[1m0s\u001b[0m 2ms/step - loss: 2.0521e-04 - mae: 0.0106 - mape: 6871.5195 - mse: 2.0521e-04 - val_loss: 4.6486e-04 - val_mae: 0.0158 - val_mape: 2.6695 - val_mse: 4.6486e-04\n",
      "Epoch 26/50\n",
      "\u001b[1m90/90\u001b[0m \u001b[32m━━━━━━━━━━━━━━━━━━━━\u001b[0m\u001b[37m\u001b[0m \u001b[1m0s\u001b[0m 2ms/step - loss: 2.1120e-04 - mae: 0.0107 - mape: 45183.7109 - mse: 2.1120e-04 - val_loss: 5.0006e-04 - val_mae: 0.0167 - val_mape: 2.8143 - val_mse: 5.0006e-04\n",
      "Epoch 27/50\n",
      "\u001b[1m90/90\u001b[0m \u001b[32m━━━━━━━━━━━━━━━━━━━━\u001b[0m\u001b[37m\u001b[0m \u001b[1m0s\u001b[0m 2ms/step - loss: 2.0594e-04 - mae: 0.0107 - mape: 15891.1064 - mse: 2.0594e-04 - val_loss: 4.5963e-04 - val_mae: 0.0157 - val_mape: 2.6485 - val_mse: 4.5963e-04\n",
      "Epoch 28/50\n",
      "\u001b[1m90/90\u001b[0m \u001b[32m━━━━━━━━━━━━━━━━━━━━\u001b[0m\u001b[37m\u001b[0m \u001b[1m0s\u001b[0m 2ms/step - loss: 2.0014e-04 - mae: 0.0105 - mape: 16189.8398 - mse: 2.0014e-04 - val_loss: 4.5273e-04 - val_mae: 0.0155 - val_mape: 2.6154 - val_mse: 4.5273e-04\n",
      "Epoch 29/50\n",
      "\u001b[1m90/90\u001b[0m \u001b[32m━━━━━━━━━━━━━━━━━━━━\u001b[0m\u001b[37m\u001b[0m \u001b[1m0s\u001b[0m 2ms/step - loss: 2.0075e-04 - mae: 0.0105 - mape: 49162.2891 - mse: 2.0075e-04 - val_loss: 4.7728e-04 - val_mae: 0.0162 - val_mape: 2.7316 - val_mse: 4.7728e-04\n",
      "Epoch 30/50\n",
      "\u001b[1m90/90\u001b[0m \u001b[32m━━━━━━━━━━━━━━━━━━━━\u001b[0m\u001b[37m\u001b[0m \u001b[1m0s\u001b[0m 2ms/step - loss: 1.9191e-04 - mae: 0.0103 - mape: 55604.2227 - mse: 1.9191e-04 - val_loss: 4.5924e-04 - val_mae: 0.0157 - val_mape: 2.6553 - val_mse: 4.5924e-04\n",
      "Epoch 31/50\n",
      "\u001b[1m90/90\u001b[0m \u001b[32m━━━━━━━━━━━━━━━━━━━━\u001b[0m\u001b[37m\u001b[0m \u001b[1m0s\u001b[0m 2ms/step - loss: 2.1005e-04 - mae: 0.0107 - mape: 58137.4727 - mse: 2.1005e-04 - val_loss: 4.4470e-04 - val_mae: 0.0154 - val_mape: 2.5893 - val_mse: 4.4470e-04\n",
      "Epoch 32/50\n",
      "\u001b[1m90/90\u001b[0m \u001b[32m━━━━━━━━━━━━━━━━━━━━\u001b[0m\u001b[37m\u001b[0m \u001b[1m0s\u001b[0m 2ms/step - loss: 2.0372e-04 - mae: 0.0104 - mape: 4391.5083 - mse: 2.0372e-04 - val_loss: 4.6249e-04 - val_mae: 0.0158 - val_mape: 2.6737 - val_mse: 4.6249e-04\n",
      "Epoch 33/50\n",
      "\u001b[1m90/90\u001b[0m \u001b[32m━━━━━━━━━━━━━━━━━━━━\u001b[0m\u001b[37m\u001b[0m \u001b[1m0s\u001b[0m 2ms/step - loss: 2.0194e-04 - mae: 0.0106 - mape: 23134.1074 - mse: 2.0194e-04 - val_loss: 4.7114e-04 - val_mae: 0.0160 - val_mape: 2.7137 - val_mse: 4.7114e-04\n",
      "Epoch 34/50\n",
      "\u001b[1m90/90\u001b[0m \u001b[32m━━━━━━━━━━━━━━━━━━━━\u001b[0m\u001b[37m\u001b[0m \u001b[1m0s\u001b[0m 2ms/step - loss: 2.1343e-04 - mae: 0.0108 - mape: 32319.5391 - mse: 2.1343e-04 - val_loss: 4.7126e-04 - val_mae: 0.0160 - val_mape: 2.7119 - val_mse: 4.7126e-04\n",
      "Epoch 35/50\n",
      "\u001b[1m90/90\u001b[0m \u001b[32m━━━━━━━━━━━━━━━━━━━━\u001b[0m\u001b[37m\u001b[0m \u001b[1m0s\u001b[0m 2ms/step - loss: 1.9733e-04 - mae: 0.0105 - mape: 27715.3281 - mse: 1.9733e-04 - val_loss: 4.4609e-04 - val_mae: 0.0155 - val_mape: 2.6123 - val_mse: 4.4609e-04\n",
      "Epoch 36/50\n",
      "\u001b[1m90/90\u001b[0m \u001b[32m━━━━━━━━━━━━━━━━━━━━\u001b[0m\u001b[37m\u001b[0m \u001b[1m0s\u001b[0m 2ms/step - loss: 2.0137e-04 - mae: 0.0107 - mape: 9490.6240 - mse: 2.0137e-04 - val_loss: 4.3838e-04 - val_mae: 0.0152 - val_mape: 2.5627 - val_mse: 4.3838e-04\n",
      "Epoch 37/50\n",
      "\u001b[1m90/90\u001b[0m \u001b[32m━━━━━━━━━━━━━━━━━━━━\u001b[0m\u001b[37m\u001b[0m \u001b[1m0s\u001b[0m 2ms/step - loss: 1.9289e-04 - mae: 0.0102 - mape: 10966.2275 - mse: 1.9289e-04 - val_loss: 4.8722e-04 - val_mae: 0.0164 - val_mape: 2.7744 - val_mse: 4.8722e-04\n",
      "Epoch 38/50\n",
      "\u001b[1m90/90\u001b[0m \u001b[32m━━━━━━━━━━━━━━━━━━━━\u001b[0m\u001b[37m\u001b[0m \u001b[1m0s\u001b[0m 2ms/step - loss: 1.8813e-04 - mae: 0.0103 - mape: 39071.6680 - mse: 1.8813e-04 - val_loss: 4.9156e-04 - val_mae: 0.0165 - val_mape: 2.8046 - val_mse: 4.9156e-04\n",
      "Epoch 39/50\n",
      "\u001b[1m90/90\u001b[0m \u001b[32m━━━━━━━━━━━━━━━━━━━━\u001b[0m\u001b[37m\u001b[0m \u001b[1m0s\u001b[0m 2ms/step - loss: 1.9652e-04 - mae: 0.0104 - mape: 3496.4663 - mse: 1.9652e-04 - val_loss: 4.3951e-04 - val_mae: 0.0153 - val_mape: 2.5896 - val_mse: 4.3951e-04\n",
      "Epoch 40/50\n",
      "\u001b[1m90/90\u001b[0m \u001b[32m━━━━━━━━━━━━━━━━━━━━\u001b[0m\u001b[37m\u001b[0m \u001b[1m0s\u001b[0m 2ms/step - loss: 2.0303e-04 - mae: 0.0105 - mape: 6609.5254 - mse: 2.0303e-04 - val_loss: 4.3432e-04 - val_mae: 0.0152 - val_mape: 2.5440 - val_mse: 4.3432e-04\n",
      "Epoch 41/50\n",
      "\u001b[1m90/90\u001b[0m \u001b[32m━━━━━━━━━━━━━━━━━━━━\u001b[0m\u001b[37m\u001b[0m \u001b[1m0s\u001b[0m 2ms/step - loss: 2.1216e-04 - mae: 0.0107 - mape: 6111.5889 - mse: 2.1216e-04 - val_loss: 5.9511e-04 - val_mae: 0.0188 - val_mape: 3.1955 - val_mse: 5.9511e-04\n",
      "Epoch 42/50\n",
      "\u001b[1m90/90\u001b[0m \u001b[32m━━━━━━━━━━━━━━━━━━━━\u001b[0m\u001b[37m\u001b[0m \u001b[1m0s\u001b[0m 2ms/step - loss: 1.9161e-04 - mae: 0.0102 - mape: 69891.4609 - mse: 1.9161e-04 - val_loss: 4.7402e-04 - val_mae: 0.0161 - val_mape: 2.7424 - val_mse: 4.7402e-04\n",
      "Epoch 43/50\n",
      "\u001b[1m90/90\u001b[0m \u001b[32m━━━━━━━━━━━━━━━━━━━━\u001b[0m\u001b[37m\u001b[0m \u001b[1m0s\u001b[0m 2ms/step - loss: 2.0395e-04 - mae: 0.0105 - mape: 24689.0430 - mse: 2.0395e-04 - val_loss: 4.6378e-04 - val_mae: 0.0159 - val_mape: 2.6945 - val_mse: 4.6378e-04\n",
      "Epoch 44/50\n",
      "\u001b[1m90/90\u001b[0m \u001b[32m━━━━━━━━━━━━━━━━━━━━\u001b[0m\u001b[37m\u001b[0m \u001b[1m0s\u001b[0m 2ms/step - loss: 1.8749e-04 - mae: 0.0099 - mape: 11127.4541 - mse: 1.8749e-04 - val_loss: 4.3394e-04 - val_mae: 0.0152 - val_mape: 2.5737 - val_mse: 4.3394e-04\n",
      "Epoch 45/50\n",
      "\u001b[1m90/90\u001b[0m \u001b[32m━━━━━━━━━━━━━━━━━━━━\u001b[0m\u001b[37m\u001b[0m \u001b[1m0s\u001b[0m 2ms/step - loss: 1.8719e-04 - mae: 0.0100 - mape: 38416.8320 - mse: 1.8719e-04 - val_loss: 4.2696e-04 - val_mae: 0.0151 - val_mape: 2.5431 - val_mse: 4.2696e-04\n",
      "Epoch 46/50\n",
      "\u001b[1m90/90\u001b[0m \u001b[32m━━━━━━━━━━━━━━━━━━━━\u001b[0m\u001b[37m\u001b[0m \u001b[1m0s\u001b[0m 2ms/step - loss: 1.9513e-04 - mae: 0.0103 - mape: 27309.9824 - mse: 1.9513e-04 - val_loss: 4.7266e-04 - val_mae: 0.0161 - val_mape: 2.7318 - val_mse: 4.7266e-04\n",
      "Epoch 47/50\n",
      "\u001b[1m90/90\u001b[0m \u001b[32m━━━━━━━━━━━━━━━━━━━━\u001b[0m\u001b[37m\u001b[0m \u001b[1m0s\u001b[0m 2ms/step - loss: 1.9848e-04 - mae: 0.0104 - mape: 5705.0337 - mse: 1.9848e-04 - val_loss: 4.7878e-04 - val_mae: 0.0162 - val_mape: 2.7572 - val_mse: 4.7878e-04\n",
      "Epoch 48/50\n",
      "\u001b[1m90/90\u001b[0m \u001b[32m━━━━━━━━━━━━━━━━━━━━\u001b[0m\u001b[37m\u001b[0m \u001b[1m0s\u001b[0m 2ms/step - loss: 1.8636e-04 - mae: 0.0102 - mape: 26104.4648 - mse: 1.8636e-04 - val_loss: 4.2299e-04 - val_mae: 0.0150 - val_mape: 2.5340 - val_mse: 4.2299e-04\n",
      "Epoch 49/50\n",
      "\u001b[1m90/90\u001b[0m \u001b[32m━━━━━━━━━━━━━━━━━━━━\u001b[0m\u001b[37m\u001b[0m \u001b[1m0s\u001b[0m 2ms/step - loss: 1.8724e-04 - mae: 0.0101 - mape: 3165.8030 - mse: 1.8724e-04 - val_loss: 4.5915e-04 - val_mae: 0.0158 - val_mape: 2.6861 - val_mse: 4.5915e-04\n",
      "Epoch 50/50\n",
      "\u001b[1m90/90\u001b[0m \u001b[32m━━━━━━━━━━━━━━━━━━━━\u001b[0m\u001b[37m\u001b[0m \u001b[1m0s\u001b[0m 2ms/step - loss: 2.0594e-04 - mae: 0.0107 - mape: 5532.4692 - mse: 2.0594e-04 - val_loss: 4.2884e-04 - val_mae: 0.0151 - val_mape: 2.5259 - val_mse: 4.2884e-04\n"
     ]
    },
    {
     "name": "stderr",
     "output_type": "stream",
     "text": [
      "WARNING:absl:You are saving your model as an HDF5 file via `model.save()` or `keras.saving.save_model(model)`. This file format is considered legacy. We recommend using instead the native Keras format, e.g. `model.save('my_model.keras')` or `keras.saving.save_model(model, 'my_model.keras')`. \n"
     ]
    },
    {
     "name": "stdout",
     "output_type": "stream",
     "text": [
      "\u001b[1m23/23\u001b[0m \u001b[32m━━━━━━━━━━━━━━━━━━━━\u001b[0m\u001b[37m\u001b[0m \u001b[1m0s\u001b[0m 5ms/step\n"
     ]
    },
    {
     "name": "stderr",
     "output_type": "stream",
     "text": [
      "Processando combinações:  43%|████▎     | 3/7 [01:58<02:39, 39.93s/it]"
     ]
    },
    {
     "name": "stdout",
     "output_type": "stream",
     "text": [
      "model_1: Processando PETR4 | Combinação 4...\n",
      "Epoch 1/50\n",
      "\u001b[1m90/90\u001b[0m \u001b[32m━━━━━━━━━━━━━━━━━━━━\u001b[0m\u001b[37m\u001b[0m \u001b[1m1s\u001b[0m 5ms/step - loss: 0.0679 - mae: 0.2001 - mape: 13834.2764 - mse: 0.0679 - val_loss: 7.8997e-04 - val_mae: 0.0226 - val_mape: 5.0741 - val_mse: 7.8997e-04\n",
      "Epoch 2/50\n",
      "\u001b[1m90/90\u001b[0m \u001b[32m━━━━━━━━━━━━━━━━━━━━\u001b[0m\u001b[37m\u001b[0m \u001b[1m0s\u001b[0m 2ms/step - loss: 0.0014 - mae: 0.0293 - mape: 28901.2891 - mse: 0.0014 - val_loss: 5.6591e-04 - val_mae: 0.0184 - val_mape: 4.0660 - val_mse: 5.6591e-04\n",
      "Epoch 3/50\n",
      "\u001b[1m90/90\u001b[0m \u001b[32m━━━━━━━━━━━━━━━━━━━━\u001b[0m\u001b[37m\u001b[0m \u001b[1m0s\u001b[0m 2ms/step - loss: 4.5824e-04 - mae: 0.0164 - mape: 9110.7041 - mse: 4.5824e-04 - val_loss: 5.2815e-04 - val_mae: 0.0175 - val_mape: 4.0150 - val_mse: 5.2815e-04\n",
      "Epoch 4/50\n",
      "\u001b[1m90/90\u001b[0m \u001b[32m━━━━━━━━━━━━━━━━━━━━\u001b[0m\u001b[37m\u001b[0m \u001b[1m0s\u001b[0m 2ms/step - loss: 3.0361e-04 - mae: 0.0128 - mape: 18292.7070 - mse: 3.0361e-04 - val_loss: 5.2355e-04 - val_mae: 0.0173 - val_mape: 4.0369 - val_mse: 5.2355e-04\n",
      "Epoch 5/50\n",
      "\u001b[1m90/90\u001b[0m \u001b[32m━━━━━━━━━━━━━━━━━━━━\u001b[0m\u001b[37m\u001b[0m \u001b[1m0s\u001b[0m 2ms/step - loss: 2.6810e-04 - mae: 0.0121 - mape: 9205.0186 - mse: 2.6810e-04 - val_loss: 4.9066e-04 - val_mae: 0.0167 - val_mape: 3.8929 - val_mse: 4.9066e-04\n",
      "Epoch 6/50\n",
      "\u001b[1m90/90\u001b[0m \u001b[32m━━━━━━━━━━━━━━━━━━━━\u001b[0m\u001b[37m\u001b[0m \u001b[1m0s\u001b[0m 2ms/step - loss: 2.4880e-04 - mae: 0.0115 - mape: 5112.9082 - mse: 2.4880e-04 - val_loss: 4.4755e-04 - val_mae: 0.0157 - val_mape: 3.6720 - val_mse: 4.4755e-04\n",
      "Epoch 7/50\n",
      "\u001b[1m90/90\u001b[0m \u001b[32m━━━━━━━━━━━━━━━━━━━━\u001b[0m\u001b[37m\u001b[0m \u001b[1m0s\u001b[0m 2ms/step - loss: 2.4600e-04 - mae: 0.0114 - mape: 17148.2324 - mse: 2.4600e-04 - val_loss: 3.9496e-04 - val_mae: 0.0142 - val_mape: 3.3553 - val_mse: 3.9496e-04\n",
      "Epoch 8/50\n",
      "\u001b[1m90/90\u001b[0m \u001b[32m━━━━━━━━━━━━━━━━━━━━\u001b[0m\u001b[37m\u001b[0m \u001b[1m0s\u001b[0m 2ms/step - loss: 2.4388e-04 - mae: 0.0112 - mape: 1058.8452 - mse: 2.4388e-04 - val_loss: 3.8774e-04 - val_mae: 0.0141 - val_mape: 3.3250 - val_mse: 3.8774e-04\n",
      "Epoch 9/50\n",
      "\u001b[1m90/90\u001b[0m \u001b[32m━━━━━━━━━━━━━━━━━━━━\u001b[0m\u001b[37m\u001b[0m \u001b[1m0s\u001b[0m 2ms/step - loss: 2.4618e-04 - mae: 0.0112 - mape: 7427.5669 - mse: 2.4618e-04 - val_loss: 3.7258e-04 - val_mae: 0.0136 - val_mape: 3.2310 - val_mse: 3.7258e-04\n",
      "Epoch 10/50\n",
      "\u001b[1m90/90\u001b[0m \u001b[32m━━━━━━━━━━━━━━━━━━━━\u001b[0m\u001b[37m\u001b[0m \u001b[1m0s\u001b[0m 2ms/step - loss: 2.2864e-04 - mae: 0.0109 - mape: 3415.6597 - mse: 2.2864e-04 - val_loss: 3.4587e-04 - val_mae: 0.0127 - val_mape: 3.0211 - val_mse: 3.4587e-04\n",
      "Epoch 11/50\n",
      "\u001b[1m90/90\u001b[0m \u001b[32m━━━━━━━━━━━━━━━━━━━━\u001b[0m\u001b[37m\u001b[0m \u001b[1m0s\u001b[0m 2ms/step - loss: 2.1443e-04 - mae: 0.0106 - mape: 1853.4669 - mse: 2.1443e-04 - val_loss: 3.4327e-04 - val_mae: 0.0127 - val_mape: 3.0084 - val_mse: 3.4327e-04\n",
      "Epoch 12/50\n",
      "\u001b[1m90/90\u001b[0m \u001b[32m━━━━━━━━━━━━━━━━━━━━\u001b[0m\u001b[37m\u001b[0m \u001b[1m0s\u001b[0m 2ms/step - loss: 1.9452e-04 - mae: 0.0103 - mape: 1500.9884 - mse: 1.9452e-04 - val_loss: 3.4190e-04 - val_mae: 0.0125 - val_mape: 2.9688 - val_mse: 3.4190e-04\n",
      "Epoch 13/50\n",
      "\u001b[1m90/90\u001b[0m \u001b[32m━━━━━━━━━━━━━━━━━━━━\u001b[0m\u001b[37m\u001b[0m \u001b[1m0s\u001b[0m 2ms/step - loss: 1.9895e-04 - mae: 0.0102 - mape: 2466.6265 - mse: 1.9895e-04 - val_loss: 3.4023e-04 - val_mae: 0.0124 - val_mape: 2.9680 - val_mse: 3.4023e-04\n",
      "Epoch 14/50\n",
      "\u001b[1m90/90\u001b[0m \u001b[32m━━━━━━━━━━━━━━━━━━━━\u001b[0m\u001b[37m\u001b[0m \u001b[1m0s\u001b[0m 2ms/step - loss: 2.0527e-04 - mae: 0.0103 - mape: 441.0388 - mse: 2.0527e-04 - val_loss: 3.3940e-04 - val_mae: 0.0124 - val_mape: 2.9618 - val_mse: 3.3940e-04\n",
      "Epoch 15/50\n",
      "\u001b[1m90/90\u001b[0m \u001b[32m━━━━━━━━━━━━━━━━━━━━\u001b[0m\u001b[37m\u001b[0m \u001b[1m0s\u001b[0m 2ms/step - loss: 1.8378e-04 - mae: 0.0098 - mape: 4384.5034 - mse: 1.8378e-04 - val_loss: 3.4757e-04 - val_mae: 0.0124 - val_mape: 2.9534 - val_mse: 3.4757e-04\n",
      "Epoch 16/50\n",
      "\u001b[1m90/90\u001b[0m \u001b[32m━━━━━━━━━━━━━━━━━━━━\u001b[0m\u001b[37m\u001b[0m \u001b[1m0s\u001b[0m 2ms/step - loss: 1.8995e-04 - mae: 0.0101 - mape: 4278.8335 - mse: 1.8995e-04 - val_loss: 3.4016e-04 - val_mae: 0.0122 - val_mape: 2.9260 - val_mse: 3.4016e-04\n",
      "Epoch 17/50\n",
      "\u001b[1m90/90\u001b[0m \u001b[32m━━━━━━━━━━━━━━━━━━━━\u001b[0m\u001b[37m\u001b[0m \u001b[1m0s\u001b[0m 2ms/step - loss: 1.8334e-04 - mae: 0.0098 - mape: 1682.1237 - mse: 1.8334e-04 - val_loss: 3.4367e-04 - val_mae: 0.0123 - val_mape: 2.9244 - val_mse: 3.4367e-04\n",
      "Epoch 18/50\n",
      "\u001b[1m90/90\u001b[0m \u001b[32m━━━━━━━━━━━━━━━━━━━━\u001b[0m\u001b[37m\u001b[0m \u001b[1m0s\u001b[0m 2ms/step - loss: 2.0008e-04 - mae: 0.0100 - mape: 14982.2090 - mse: 2.0008e-04 - val_loss: 3.4291e-04 - val_mae: 0.0122 - val_mape: 2.9171 - val_mse: 3.4291e-04\n",
      "Epoch 19/50\n",
      "\u001b[1m90/90\u001b[0m \u001b[32m━━━━━━━━━━━━━━━━━━━━\u001b[0m\u001b[37m\u001b[0m \u001b[1m0s\u001b[0m 2ms/step - loss: 1.9126e-04 - mae: 0.0100 - mape: 1674.1960 - mse: 1.9126e-04 - val_loss: 3.3691e-04 - val_mae: 0.0121 - val_mape: 2.8856 - val_mse: 3.3691e-04\n",
      "Epoch 20/50\n",
      "\u001b[1m90/90\u001b[0m \u001b[32m━━━━━━━━━━━━━━━━━━━━\u001b[0m\u001b[37m\u001b[0m \u001b[1m0s\u001b[0m 2ms/step - loss: 1.9409e-04 - mae: 0.0099 - mape: 11734.4072 - mse: 1.9409e-04 - val_loss: 3.3693e-04 - val_mae: 0.0121 - val_mape: 2.8899 - val_mse: 3.3693e-04\n",
      "Epoch 21/50\n",
      "\u001b[1m90/90\u001b[0m \u001b[32m━━━━━━━━━━━━━━━━━━━━\u001b[0m\u001b[37m\u001b[0m \u001b[1m0s\u001b[0m 2ms/step - loss: 1.8218e-04 - mae: 0.0096 - mape: 6629.4810 - mse: 1.8218e-04 - val_loss: 3.3486e-04 - val_mae: 0.0121 - val_mape: 2.8798 - val_mse: 3.3486e-04\n",
      "Epoch 22/50\n",
      "\u001b[1m90/90\u001b[0m \u001b[32m━━━━━━━━━━━━━━━━━━━━\u001b[0m\u001b[37m\u001b[0m \u001b[1m0s\u001b[0m 2ms/step - loss: 2.0005e-04 - mae: 0.0099 - mape: 3552.4536 - mse: 2.0005e-04 - val_loss: 3.4129e-04 - val_mae: 0.0122 - val_mape: 2.9040 - val_mse: 3.4129e-04\n",
      "Epoch 23/50\n",
      "\u001b[1m90/90\u001b[0m \u001b[32m━━━━━━━━━━━━━━━━━━━━\u001b[0m\u001b[37m\u001b[0m \u001b[1m0s\u001b[0m 2ms/step - loss: 1.9281e-04 - mae: 0.0100 - mape: 752.2452 - mse: 1.9281e-04 - val_loss: 3.5353e-04 - val_mae: 0.0124 - val_mape: 2.9617 - val_mse: 3.5353e-04\n",
      "Epoch 24/50\n",
      "\u001b[1m90/90\u001b[0m \u001b[32m━━━━━━━━━━━━━━━━━━━━\u001b[0m\u001b[37m\u001b[0m \u001b[1m0s\u001b[0m 2ms/step - loss: 1.7934e-04 - mae: 0.0097 - mape: 21997.5664 - mse: 1.7934e-04 - val_loss: 3.3576e-04 - val_mae: 0.0120 - val_mape: 2.8711 - val_mse: 3.3576e-04\n",
      "Epoch 25/50\n",
      "\u001b[1m90/90\u001b[0m \u001b[32m━━━━━━━━━━━━━━━━━━━━\u001b[0m\u001b[37m\u001b[0m \u001b[1m0s\u001b[0m 2ms/step - loss: 1.8689e-04 - mae: 0.0098 - mape: 1088.7955 - mse: 1.8689e-04 - val_loss: 3.3711e-04 - val_mae: 0.0121 - val_mape: 2.8761 - val_mse: 3.3711e-04\n",
      "Epoch 26/50\n",
      "\u001b[1m90/90\u001b[0m \u001b[32m━━━━━━━━━━━━━━━━━━━━\u001b[0m\u001b[37m\u001b[0m \u001b[1m0s\u001b[0m 2ms/step - loss: 1.9050e-04 - mae: 0.0097 - mape: 977.2268 - mse: 1.9050e-04 - val_loss: 3.7621e-04 - val_mae: 0.0130 - val_mape: 3.0805 - val_mse: 3.7621e-04\n",
      "Epoch 27/50\n",
      "\u001b[1m90/90\u001b[0m \u001b[32m━━━━━━━━━━━━━━━━━━━━\u001b[0m\u001b[37m\u001b[0m \u001b[1m0s\u001b[0m 2ms/step - loss: 2.0432e-04 - mae: 0.0104 - mape: 9499.9482 - mse: 2.0432e-04 - val_loss: 3.5536e-04 - val_mae: 0.0125 - val_mape: 2.9699 - val_mse: 3.5536e-04\n",
      "Epoch 28/50\n",
      "\u001b[1m90/90\u001b[0m \u001b[32m━━━━━━━━━━━━━━━━━━━━\u001b[0m\u001b[37m\u001b[0m \u001b[1m0s\u001b[0m 2ms/step - loss: 1.7565e-04 - mae: 0.0095 - mape: 16694.2051 - mse: 1.7565e-04 - val_loss: 3.5518e-04 - val_mae: 0.0125 - val_mape: 2.9666 - val_mse: 3.5518e-04\n",
      "Epoch 29/50\n",
      "\u001b[1m90/90\u001b[0m \u001b[32m━━━━━━━━━━━━━━━━━━━━\u001b[0m\u001b[37m\u001b[0m \u001b[1m0s\u001b[0m 2ms/step - loss: 1.9356e-04 - mae: 0.0099 - mape: 1258.4689 - mse: 1.9356e-04 - val_loss: 3.4148e-04 - val_mae: 0.0122 - val_mape: 2.8975 - val_mse: 3.4148e-04\n",
      "Epoch 30/50\n",
      "\u001b[1m90/90\u001b[0m \u001b[32m━━━━━━━━━━━━━━━━━━━━\u001b[0m\u001b[37m\u001b[0m \u001b[1m0s\u001b[0m 2ms/step - loss: 1.8978e-04 - mae: 0.0098 - mape: 1303.1560 - mse: 1.8978e-04 - val_loss: 3.3063e-04 - val_mae: 0.0120 - val_mape: 2.8484 - val_mse: 3.3063e-04\n",
      "Epoch 31/50\n",
      "\u001b[1m90/90\u001b[0m \u001b[32m━━━━━━━━━━━━━━━━━━━━\u001b[0m\u001b[37m\u001b[0m \u001b[1m0s\u001b[0m 2ms/step - loss: 1.9080e-04 - mae: 0.0097 - mape: 11090.4365 - mse: 1.9080e-04 - val_loss: 3.3436e-04 - val_mae: 0.0122 - val_mape: 2.8943 - val_mse: 3.3436e-04\n",
      "Epoch 32/50\n",
      "\u001b[1m90/90\u001b[0m \u001b[32m━━━━━━━━━━━━━━━━━━━━\u001b[0m\u001b[37m\u001b[0m \u001b[1m0s\u001b[0m 2ms/step - loss: 1.8752e-04 - mae: 0.0100 - mape: 9842.3857 - mse: 1.8752e-04 - val_loss: 3.3702e-04 - val_mae: 0.0121 - val_mape: 2.8772 - val_mse: 3.3702e-04\n",
      "Epoch 33/50\n",
      "\u001b[1m90/90\u001b[0m \u001b[32m━━━━━━━━━━━━━━━━━━━━\u001b[0m\u001b[37m\u001b[0m \u001b[1m0s\u001b[0m 2ms/step - loss: 1.8814e-04 - mae: 0.0097 - mape: 6138.1924 - mse: 1.8814e-04 - val_loss: 3.7251e-04 - val_mae: 0.0129 - val_mape: 3.0608 - val_mse: 3.7251e-04\n",
      "Epoch 34/50\n",
      "\u001b[1m90/90\u001b[0m \u001b[32m━━━━━━━━━━━━━━━━━━━━\u001b[0m\u001b[37m\u001b[0m \u001b[1m0s\u001b[0m 2ms/step - loss: 1.8923e-04 - mae: 0.0097 - mape: 1840.1719 - mse: 1.8923e-04 - val_loss: 3.3249e-04 - val_mae: 0.0120 - val_mape: 2.8543 - val_mse: 3.3249e-04\n",
      "Epoch 35/50\n",
      "\u001b[1m90/90\u001b[0m \u001b[32m━━━━━━━━━━━━━━━━━━━━\u001b[0m\u001b[37m\u001b[0m \u001b[1m0s\u001b[0m 2ms/step - loss: 1.8379e-04 - mae: 0.0097 - mape: 18616.8926 - mse: 1.8379e-04 - val_loss: 3.4269e-04 - val_mae: 0.0122 - val_mape: 2.9053 - val_mse: 3.4269e-04\n",
      "Epoch 36/50\n",
      "\u001b[1m90/90\u001b[0m \u001b[32m━━━━━━━━━━━━━━━━━━━━\u001b[0m\u001b[37m\u001b[0m \u001b[1m0s\u001b[0m 2ms/step - loss: 1.9009e-04 - mae: 0.0097 - mape: 12791.4590 - mse: 1.9009e-04 - val_loss: 3.2757e-04 - val_mae: 0.0120 - val_mape: 2.8414 - val_mse: 3.2757e-04\n",
      "Epoch 37/50\n",
      "\u001b[1m90/90\u001b[0m \u001b[32m━━━━━━━━━━━━━━━━━━━━\u001b[0m\u001b[37m\u001b[0m \u001b[1m0s\u001b[0m 2ms/step - loss: 1.8427e-04 - mae: 0.0096 - mape: 810.3052 - mse: 1.8427e-04 - val_loss: 3.3999e-04 - val_mae: 0.0122 - val_mape: 2.8930 - val_mse: 3.3999e-04\n",
      "Epoch 38/50\n",
      "\u001b[1m90/90\u001b[0m \u001b[32m━━━━━━━━━━━━━━━━━━━━\u001b[0m\u001b[37m\u001b[0m \u001b[1m0s\u001b[0m 2ms/step - loss: 1.8824e-04 - mae: 0.0097 - mape: 3795.1001 - mse: 1.8824e-04 - val_loss: 3.3557e-04 - val_mae: 0.0121 - val_mape: 2.8703 - val_mse: 3.3557e-04\n",
      "Epoch 39/50\n",
      "\u001b[1m90/90\u001b[0m \u001b[32m━━━━━━━━━━━━━━━━━━━━\u001b[0m\u001b[37m\u001b[0m \u001b[1m0s\u001b[0m 2ms/step - loss: 1.6492e-04 - mae: 0.0092 - mape: 8013.7295 - mse: 1.6492e-04 - val_loss: 3.2381e-04 - val_mae: 0.0118 - val_mape: 2.8151 - val_mse: 3.2381e-04\n",
      "Epoch 40/50\n",
      "\u001b[1m90/90\u001b[0m \u001b[32m━━━━━━━━━━━━━━━━━━━━\u001b[0m\u001b[37m\u001b[0m \u001b[1m0s\u001b[0m 2ms/step - loss: 1.7068e-04 - mae: 0.0093 - mape: 1759.2505 - mse: 1.7068e-04 - val_loss: 3.2541e-04 - val_mae: 0.0119 - val_mape: 2.8213 - val_mse: 3.2541e-04\n",
      "Epoch 41/50\n",
      "\u001b[1m90/90\u001b[0m \u001b[32m━━━━━━━━━━━━━━━━━━━━\u001b[0m\u001b[37m\u001b[0m \u001b[1m0s\u001b[0m 2ms/step - loss: 1.7405e-04 - mae: 0.0095 - mape: 8441.6484 - mse: 1.7405e-04 - val_loss: 3.5831e-04 - val_mae: 0.0126 - val_mape: 2.9853 - val_mse: 3.5831e-04\n",
      "Epoch 42/50\n",
      "\u001b[1m90/90\u001b[0m \u001b[32m━━━━━━━━━━━━━━━━━━━━\u001b[0m\u001b[37m\u001b[0m \u001b[1m0s\u001b[0m 2ms/step - loss: 1.8036e-04 - mae: 0.0097 - mape: 3369.4180 - mse: 1.8036e-04 - val_loss: 3.6746e-04 - val_mae: 0.0129 - val_mape: 3.0339 - val_mse: 3.6746e-04\n",
      "Epoch 43/50\n",
      "\u001b[1m90/90\u001b[0m \u001b[32m━━━━━━━━━━━━━━━━━━━━\u001b[0m\u001b[37m\u001b[0m \u001b[1m0s\u001b[0m 2ms/step - loss: 1.9446e-04 - mae: 0.0100 - mape: 3941.8523 - mse: 1.9446e-04 - val_loss: 3.2636e-04 - val_mae: 0.0119 - val_mape: 2.8259 - val_mse: 3.2636e-04\n",
      "Epoch 44/50\n",
      "\u001b[1m90/90\u001b[0m \u001b[32m━━━━━━━━━━━━━━━━━━━━\u001b[0m\u001b[37m\u001b[0m \u001b[1m0s\u001b[0m 2ms/step - loss: 1.8603e-04 - mae: 0.0096 - mape: 7008.0972 - mse: 1.8603e-04 - val_loss: 3.3394e-04 - val_mae: 0.0124 - val_mape: 2.9406 - val_mse: 3.3394e-04\n",
      "Epoch 45/50\n",
      "\u001b[1m90/90\u001b[0m \u001b[32m━━━━━━━━━━━━━━━━━━━━\u001b[0m\u001b[37m\u001b[0m \u001b[1m0s\u001b[0m 2ms/step - loss: 1.7905e-04 - mae: 0.0098 - mape: 535.5936 - mse: 1.7905e-04 - val_loss: 3.3819e-04 - val_mae: 0.0122 - val_mape: 2.8862 - val_mse: 3.3819e-04\n",
      "Epoch 46/50\n",
      "\u001b[1m90/90\u001b[0m \u001b[32m━━━━━━━━━━━━━━━━━━━━\u001b[0m\u001b[37m\u001b[0m \u001b[1m0s\u001b[0m 2ms/step - loss: 1.7313e-04 - mae: 0.0094 - mape: 163.5251 - mse: 1.7313e-04 - val_loss: 3.2236e-04 - val_mae: 0.0118 - val_mape: 2.8008 - val_mse: 3.2236e-04\n",
      "Epoch 47/50\n",
      "\u001b[1m90/90\u001b[0m \u001b[32m━━━━━━━━━━━━━━━━━━━━\u001b[0m\u001b[37m\u001b[0m \u001b[1m0s\u001b[0m 2ms/step - loss: 1.7231e-04 - mae: 0.0094 - mape: 1841.3722 - mse: 1.7231e-04 - val_loss: 3.1958e-04 - val_mae: 0.0117 - val_mape: 2.7873 - val_mse: 3.1958e-04\n",
      "Epoch 48/50\n",
      "\u001b[1m90/90\u001b[0m \u001b[32m━━━━━━━━━━━━━━━━━━━━\u001b[0m\u001b[37m\u001b[0m \u001b[1m0s\u001b[0m 2ms/step - loss: 1.7749e-04 - mae: 0.0094 - mape: 3835.9988 - mse: 1.7749e-04 - val_loss: 3.7882e-04 - val_mae: 0.0132 - val_mape: 3.1053 - val_mse: 3.7882e-04\n",
      "Epoch 49/50\n",
      "\u001b[1m90/90\u001b[0m \u001b[32m━━━━━━━━━━━━━━━━━━━━\u001b[0m\u001b[37m\u001b[0m \u001b[1m0s\u001b[0m 3ms/step - loss: 1.6905e-04 - mae: 0.0094 - mape: 3552.1592 - mse: 1.6905e-04 - val_loss: 3.3124e-04 - val_mae: 0.0120 - val_mape: 2.8506 - val_mse: 3.3124e-04\n",
      "Epoch 50/50\n",
      "\u001b[1m90/90\u001b[0m \u001b[32m━━━━━━━━━━━━━━━━━━━━\u001b[0m\u001b[37m\u001b[0m \u001b[1m0s\u001b[0m 2ms/step - loss: 1.8170e-04 - mae: 0.0097 - mape: 5318.8706 - mse: 1.8170e-04 - val_loss: 3.2348e-04 - val_mae: 0.0119 - val_mape: 2.8315 - val_mse: 3.2348e-04\n"
     ]
    },
    {
     "name": "stderr",
     "output_type": "stream",
     "text": [
      "WARNING:absl:You are saving your model as an HDF5 file via `model.save()` or `keras.saving.save_model(model)`. This file format is considered legacy. We recommend using instead the native Keras format, e.g. `model.save('my_model.keras')` or `keras.saving.save_model(model, 'my_model.keras')`. \n"
     ]
    },
    {
     "name": "stdout",
     "output_type": "stream",
     "text": [
      "\u001b[1m23/23\u001b[0m \u001b[32m━━━━━━━━━━━━━━━━━━━━\u001b[0m\u001b[37m\u001b[0m \u001b[1m0s\u001b[0m 6ms/step\n",
      "model_1: Processando VALE3 | Combinação 4...\n",
      "Epoch 1/50\n",
      "\u001b[1m90/90\u001b[0m \u001b[32m━━━━━━━━━━━━━━━━━━━━\u001b[0m\u001b[37m\u001b[0m \u001b[1m2s\u001b[0m 5ms/step - loss: 0.1559 - mae: 0.3270 - mape: 8786.1660 - mse: 0.1559 - val_loss: 0.0175 - val_mae: 0.1001 - val_mape: 8.1333 - val_mse: 0.0175\n",
      "Epoch 2/50\n",
      "\u001b[1m90/90\u001b[0m \u001b[32m━━━━━━━━━━━━━━━━━━━━\u001b[0m\u001b[37m\u001b[0m \u001b[1m0s\u001b[0m 3ms/step - loss: 0.0022 - mae: 0.0367 - mape: 7212.4468 - mse: 0.0022 - val_loss: 0.0116 - val_mae: 0.0818 - val_mape: 6.7645 - val_mse: 0.0116\n",
      "Epoch 3/50\n",
      "\u001b[1m90/90\u001b[0m \u001b[32m━━━━━━━━━━━━━━━━━━━━\u001b[0m\u001b[37m\u001b[0m \u001b[1m0s\u001b[0m 3ms/step - loss: 0.0013 - mae: 0.0268 - mape: 31501.0781 - mse: 0.0013 - val_loss: 0.0053 - val_mae: 0.0538 - val_mape: 4.5894 - val_mse: 0.0053\n",
      "Epoch 4/50\n",
      "\u001b[1m90/90\u001b[0m \u001b[32m━━━━━━━━━━━━━━━━━━━━\u001b[0m\u001b[37m\u001b[0m \u001b[1m0s\u001b[0m 2ms/step - loss: 7.5519e-04 - mae: 0.0205 - mape: 45072.5430 - mse: 7.5519e-04 - val_loss: 0.0027 - val_mae: 0.0383 - val_mape: 3.4830 - val_mse: 0.0027\n",
      "Epoch 5/50\n",
      "\u001b[1m90/90\u001b[0m \u001b[32m━━━━━━━━━━━━━━━━━━━━\u001b[0m\u001b[37m\u001b[0m \u001b[1m0s\u001b[0m 2ms/step - loss: 5.2267e-04 - mae: 0.0170 - mape: 27320.6465 - mse: 5.2267e-04 - val_loss: 0.0020 - val_mae: 0.0338 - val_mape: 3.2197 - val_mse: 0.0020\n",
      "Epoch 6/50\n",
      "\u001b[1m90/90\u001b[0m \u001b[32m━━━━━━━━━━━━━━━━━━━━\u001b[0m\u001b[37m\u001b[0m \u001b[1m0s\u001b[0m 2ms/step - loss: 4.6732e-04 - mae: 0.0159 - mape: 93515.3906 - mse: 4.6732e-04 - val_loss: 0.0019 - val_mae: 0.0328 - val_mape: 3.1814 - val_mse: 0.0019\n",
      "Epoch 7/50\n",
      "\u001b[1m90/90\u001b[0m \u001b[32m━━━━━━━━━━━━━━━━━━━━\u001b[0m\u001b[37m\u001b[0m \u001b[1m0s\u001b[0m 2ms/step - loss: 4.5623e-04 - mae: 0.0158 - mape: 9598.4229 - mse: 4.5623e-04 - val_loss: 0.0019 - val_mae: 0.0328 - val_mape: 3.1765 - val_mse: 0.0019\n",
      "Epoch 8/50\n",
      "\u001b[1m90/90\u001b[0m \u001b[32m━━━━━━━━━━━━━━━━━━━━\u001b[0m\u001b[37m\u001b[0m \u001b[1m0s\u001b[0m 3ms/step - loss: 4.4571e-04 - mae: 0.0159 - mape: 15021.8184 - mse: 4.4571e-04 - val_loss: 0.0020 - val_mae: 0.0335 - val_mape: 3.1738 - val_mse: 0.0020\n",
      "Epoch 9/50\n",
      "\u001b[1m90/90\u001b[0m \u001b[32m━━━━━━━━━━━━━━━━━━━━\u001b[0m\u001b[37m\u001b[0m \u001b[1m0s\u001b[0m 2ms/step - loss: 4.1969e-04 - mae: 0.0154 - mape: 23197.5625 - mse: 4.1969e-04 - val_loss: 0.0021 - val_mae: 0.0340 - val_mape: 3.1925 - val_mse: 0.0021\n",
      "Epoch 10/50\n",
      "\u001b[1m90/90\u001b[0m \u001b[32m━━━━━━━━━━━━━━━━━━━━\u001b[0m\u001b[37m\u001b[0m \u001b[1m0s\u001b[0m 2ms/step - loss: 3.9686e-04 - mae: 0.0150 - mape: 18693.1074 - mse: 3.9686e-04 - val_loss: 0.0022 - val_mae: 0.0352 - val_mape: 3.2471 - val_mse: 0.0022\n",
      "Epoch 11/50\n",
      "\u001b[1m90/90\u001b[0m \u001b[32m━━━━━━━━━━━━━━━━━━━━\u001b[0m\u001b[37m\u001b[0m \u001b[1m0s\u001b[0m 2ms/step - loss: 4.1209e-04 - mae: 0.0150 - mape: 11884.6729 - mse: 4.1209e-04 - val_loss: 0.0027 - val_mae: 0.0384 - val_mape: 3.4357 - val_mse: 0.0027\n",
      "Epoch 12/50\n",
      "\u001b[1m90/90\u001b[0m \u001b[32m━━━━━━━━━━━━━━━━━━━━\u001b[0m\u001b[37m\u001b[0m \u001b[1m0s\u001b[0m 2ms/step - loss: 3.6430e-04 - mae: 0.0145 - mape: 9010.3447 - mse: 3.6430e-04 - val_loss: 0.0030 - val_mae: 0.0402 - val_mape: 3.5436 - val_mse: 0.0030\n",
      "Epoch 13/50\n",
      "\u001b[1m90/90\u001b[0m \u001b[32m━━━━━━━━━━━━━━━━━━━━\u001b[0m\u001b[37m\u001b[0m \u001b[1m0s\u001b[0m 2ms/step - loss: 3.6476e-04 - mae: 0.0142 - mape: 9066.5059 - mse: 3.6476e-04 - val_loss: 0.0033 - val_mae: 0.0417 - val_mape: 3.6345 - val_mse: 0.0033\n",
      "Epoch 14/50\n",
      "\u001b[1m90/90\u001b[0m \u001b[32m━━━━━━━━━━━━━━━━━━━━\u001b[0m\u001b[37m\u001b[0m \u001b[1m0s\u001b[0m 2ms/step - loss: 3.4913e-04 - mae: 0.0139 - mape: 45486.4336 - mse: 3.4913e-04 - val_loss: 0.0039 - val_mae: 0.0448 - val_mape: 3.8413 - val_mse: 0.0039\n",
      "Epoch 15/50\n",
      "\u001b[1m90/90\u001b[0m \u001b[32m━━━━━━━━━━━━━━━━━━━━\u001b[0m\u001b[37m\u001b[0m \u001b[1m0s\u001b[0m 2ms/step - loss: 3.5957e-04 - mae: 0.0142 - mape: 977.0259 - mse: 3.5957e-04 - val_loss: 0.0040 - val_mae: 0.0455 - val_mape: 3.8786 - val_mse: 0.0040\n",
      "Epoch 16/50\n",
      "\u001b[1m90/90\u001b[0m \u001b[32m━━━━━━━━━━━━━━━━━━━━\u001b[0m\u001b[37m\u001b[0m \u001b[1m0s\u001b[0m 2ms/step - loss: 3.4696e-04 - mae: 0.0140 - mape: 38867.8164 - mse: 3.4696e-04 - val_loss: 0.0048 - val_mae: 0.0495 - val_mape: 4.1551 - val_mse: 0.0048\n",
      "Epoch 17/50\n",
      "\u001b[1m90/90\u001b[0m \u001b[32m━━━━━━━━━━━━━━━━━━━━\u001b[0m\u001b[37m\u001b[0m \u001b[1m0s\u001b[0m 2ms/step - loss: 3.4948e-04 - mae: 0.0136 - mape: 13405.1377 - mse: 3.4948e-04 - val_loss: 0.0047 - val_mae: 0.0488 - val_mape: 4.0995 - val_mse: 0.0047\n"
     ]
    },
    {
     "name": "stderr",
     "output_type": "stream",
     "text": [
      "WARNING:absl:You are saving your model as an HDF5 file via `model.save()` or `keras.saving.save_model(model)`. This file format is considered legacy. We recommend using instead the native Keras format, e.g. `model.save('my_model.keras')` or `keras.saving.save_model(model, 'my_model.keras')`. \n"
     ]
    },
    {
     "name": "stdout",
     "output_type": "stream",
     "text": [
      "\u001b[1m23/23\u001b[0m \u001b[32m━━━━━━━━━━━━━━━━━━━━\u001b[0m\u001b[37m\u001b[0m \u001b[1m0s\u001b[0m 5ms/step\n",
      "model_1: Processando BBDC4 | Combinação 4...\n",
      "Epoch 1/50\n",
      "\u001b[1m88/88\u001b[0m \u001b[32m━━━━━━━━━━━━━━━━━━━━\u001b[0m\u001b[37m\u001b[0m \u001b[1m1s\u001b[0m 5ms/step - loss: 0.0943 - mae: 0.2254 - mape: 21874.4883 - mse: 0.0943 - val_loss: 0.0020 - val_mae: 0.0338 - val_mape: 6.0195 - val_mse: 0.0020\n",
      "Epoch 2/50\n",
      "\u001b[1m88/88\u001b[0m \u001b[32m━━━━━━━━━━━━━━━━━━━━\u001b[0m\u001b[37m\u001b[0m \u001b[1m0s\u001b[0m 2ms/step - loss: 0.0032 - mae: 0.0476 - mape: 92662.8828 - mse: 0.0032 - val_loss: 0.0011 - val_mae: 0.0237 - val_mape: 4.5215 - val_mse: 0.0011\n",
      "Epoch 3/50\n",
      "\u001b[1m88/88\u001b[0m \u001b[32m━━━━━━━━━━━━━━━━━━━━\u001b[0m\u001b[37m\u001b[0m \u001b[1m0s\u001b[0m 2ms/step - loss: 9.6440e-04 - mae: 0.0245 - mape: 6664.2012 - mse: 9.6440e-04 - val_loss: 9.3416e-04 - val_mae: 0.0218 - val_mape: 4.2717 - val_mse: 9.3416e-04\n",
      "Epoch 4/50\n",
      "\u001b[1m88/88\u001b[0m \u001b[32m━━━━━━━━━━━━━━━━━━━━\u001b[0m\u001b[37m\u001b[0m \u001b[1m0s\u001b[0m 2ms/step - loss: 5.2517e-04 - mae: 0.0175 - mape: 4373.6562 - mse: 5.2517e-04 - val_loss: 9.1250e-04 - val_mae: 0.0215 - val_mape: 4.2067 - val_mse: 9.1250e-04\n",
      "Epoch 5/50\n",
      "\u001b[1m88/88\u001b[0m \u001b[32m━━━━━━━━━━━━━━━━━━━━\u001b[0m\u001b[37m\u001b[0m \u001b[1m0s\u001b[0m 2ms/step - loss: 5.7143e-04 - mae: 0.0172 - mape: 47214.0078 - mse: 5.7143e-04 - val_loss: 8.6851e-04 - val_mae: 0.0208 - val_mape: 4.0828 - val_mse: 8.6851e-04\n",
      "Epoch 6/50\n",
      "\u001b[1m88/88\u001b[0m \u001b[32m━━━━━━━━━━━━━━━━━━━━\u001b[0m\u001b[37m\u001b[0m \u001b[1m0s\u001b[0m 2ms/step - loss: 6.5404e-04 - mae: 0.0167 - mape: 24177.4375 - mse: 6.5404e-04 - val_loss: 8.1963e-04 - val_mae: 0.0201 - val_mape: 3.9632 - val_mse: 8.1963e-04\n",
      "Epoch 7/50\n",
      "\u001b[1m88/88\u001b[0m \u001b[32m━━━━━━━━━━━━━━━━━━━━\u001b[0m\u001b[37m\u001b[0m \u001b[1m0s\u001b[0m 2ms/step - loss: 4.6814e-04 - mae: 0.0154 - mape: 2016.8873 - mse: 4.6814e-04 - val_loss: 7.8210e-04 - val_mae: 0.0196 - val_mape: 3.8767 - val_mse: 7.8210e-04\n",
      "Epoch 8/50\n",
      "\u001b[1m88/88\u001b[0m \u001b[32m━━━━━━━━━━━━━━━━━━━━\u001b[0m\u001b[37m\u001b[0m \u001b[1m0s\u001b[0m 2ms/step - loss: 4.6423e-04 - mae: 0.0149 - mape: 19096.3145 - mse: 4.6423e-04 - val_loss: 7.6707e-04 - val_mae: 0.0192 - val_mape: 3.8166 - val_mse: 7.6707e-04\n",
      "Epoch 9/50\n",
      "\u001b[1m88/88\u001b[0m \u001b[32m━━━━━━━━━━━━━━━━━━━━\u001b[0m\u001b[37m\u001b[0m \u001b[1m0s\u001b[0m 2ms/step - loss: 4.0040e-04 - mae: 0.0143 - mape: 7689.0854 - mse: 4.0040e-04 - val_loss: 7.3594e-04 - val_mae: 0.0189 - val_mape: 3.7487 - val_mse: 7.3594e-04\n",
      "Epoch 10/50\n",
      "\u001b[1m88/88\u001b[0m \u001b[32m━━━━━━━━━━━━━━━━━━━━\u001b[0m\u001b[37m\u001b[0m \u001b[1m0s\u001b[0m 2ms/step - loss: 4.2344e-04 - mae: 0.0138 - mape: 7085.8467 - mse: 4.2344e-04 - val_loss: 7.4554e-04 - val_mae: 0.0190 - val_mape: 3.7753 - val_mse: 7.4554e-04\n",
      "Epoch 11/50\n",
      "\u001b[1m88/88\u001b[0m \u001b[32m━━━━━━━━━━━━━━━━━━━━\u001b[0m\u001b[37m\u001b[0m \u001b[1m0s\u001b[0m 2ms/step - loss: 4.6396e-04 - mae: 0.0146 - mape: 5443.5518 - mse: 4.6396e-04 - val_loss: 6.9243e-04 - val_mae: 0.0184 - val_mape: 3.6644 - val_mse: 6.9243e-04\n",
      "Epoch 12/50\n",
      "\u001b[1m88/88\u001b[0m \u001b[32m━━━━━━━━━━━━━━━━━━━━\u001b[0m\u001b[37m\u001b[0m \u001b[1m0s\u001b[0m 3ms/step - loss: 4.1911e-04 - mae: 0.0141 - mape: 20089.3008 - mse: 4.1911e-04 - val_loss: 6.8330e-04 - val_mae: 0.0183 - val_mape: 3.6511 - val_mse: 6.8330e-04\n",
      "Epoch 13/50\n",
      "\u001b[1m88/88\u001b[0m \u001b[32m━━━━━━━━━━━━━━━━━━━━\u001b[0m\u001b[37m\u001b[0m \u001b[1m0s\u001b[0m 2ms/step - loss: 4.2152e-04 - mae: 0.0141 - mape: 674.3262 - mse: 4.2152e-04 - val_loss: 6.8203e-04 - val_mae: 0.0182 - val_mape: 3.6299 - val_mse: 6.8203e-04\n",
      "Epoch 14/50\n",
      "\u001b[1m88/88\u001b[0m \u001b[32m━━━━━━━━━━━━━━━━━━━━\u001b[0m\u001b[37m\u001b[0m \u001b[1m0s\u001b[0m 3ms/step - loss: 5.7822e-04 - mae: 0.0142 - mape: 17259.6016 - mse: 5.7822e-04 - val_loss: 6.6785e-04 - val_mae: 0.0180 - val_mape: 3.6014 - val_mse: 6.6785e-04\n",
      "Epoch 15/50\n",
      "\u001b[1m88/88\u001b[0m \u001b[32m━━━━━━━━━━━━━━━━━━━━\u001b[0m\u001b[37m\u001b[0m \u001b[1m0s\u001b[0m 2ms/step - loss: 3.9244e-04 - mae: 0.0138 - mape: 4257.1206 - mse: 3.9244e-04 - val_loss: 6.5655e-04 - val_mae: 0.0179 - val_mape: 3.5799 - val_mse: 6.5655e-04\n",
      "Epoch 16/50\n",
      "\u001b[1m88/88\u001b[0m \u001b[32m━━━━━━━━━━━━━━━━━━━━\u001b[0m\u001b[37m\u001b[0m \u001b[1m0s\u001b[0m 2ms/step - loss: 3.6783e-04 - mae: 0.0134 - mape: 7022.7178 - mse: 3.6783e-04 - val_loss: 6.6429e-04 - val_mae: 0.0180 - val_mape: 3.5964 - val_mse: 6.6429e-04\n",
      "Epoch 17/50\n",
      "\u001b[1m88/88\u001b[0m \u001b[32m━━━━━━━━━━━━━━━━━━━━\u001b[0m\u001b[37m\u001b[0m \u001b[1m0s\u001b[0m 2ms/step - loss: 3.8942e-04 - mae: 0.0135 - mape: 7119.4766 - mse: 3.8942e-04 - val_loss: 6.5767e-04 - val_mae: 0.0179 - val_mape: 3.5831 - val_mse: 6.5767e-04\n",
      "Epoch 18/50\n",
      "\u001b[1m88/88\u001b[0m \u001b[32m━━━━━━━━━━━━━━━━━━━━\u001b[0m\u001b[37m\u001b[0m \u001b[1m0s\u001b[0m 2ms/step - loss: 4.6849e-04 - mae: 0.0140 - mape: 3626.6108 - mse: 4.6849e-04 - val_loss: 6.4684e-04 - val_mae: 0.0178 - val_mape: 3.5582 - val_mse: 6.4684e-04\n",
      "Epoch 19/50\n",
      "\u001b[1m88/88\u001b[0m \u001b[32m━━━━━━━━━━━━━━━━━━━━\u001b[0m\u001b[37m\u001b[0m \u001b[1m0s\u001b[0m 2ms/step - loss: 4.9313e-04 - mae: 0.0139 - mape: 3601.6218 - mse: 4.9313e-04 - val_loss: 6.4004e-04 - val_mae: 0.0177 - val_mape: 3.5422 - val_mse: 6.4004e-04\n",
      "Epoch 20/50\n",
      "\u001b[1m88/88\u001b[0m \u001b[32m━━━━━━━━━━━━━━━━━━━━\u001b[0m\u001b[37m\u001b[0m \u001b[1m0s\u001b[0m 2ms/step - loss: 3.5351e-04 - mae: 0.0133 - mape: 1445.4547 - mse: 3.5351e-04 - val_loss: 6.3016e-04 - val_mae: 0.0176 - val_mape: 3.5279 - val_mse: 6.3016e-04\n",
      "Epoch 21/50\n",
      "\u001b[1m88/88\u001b[0m \u001b[32m━━━━━━━━━━━━━━━━━━━━\u001b[0m\u001b[37m\u001b[0m \u001b[1m0s\u001b[0m 2ms/step - loss: 3.3336e-04 - mae: 0.0133 - mape: 16940.4082 - mse: 3.3336e-04 - val_loss: 6.2488e-04 - val_mae: 0.0176 - val_mape: 3.5160 - val_mse: 6.2488e-04\n",
      "Epoch 22/50\n",
      "\u001b[1m88/88\u001b[0m \u001b[32m━━━━━━━━━━━━━━━━━━━━\u001b[0m\u001b[37m\u001b[0m \u001b[1m0s\u001b[0m 2ms/step - loss: 3.7299e-04 - mae: 0.0133 - mape: 2308.2646 - mse: 3.7299e-04 - val_loss: 6.4462e-04 - val_mae: 0.0178 - val_mape: 3.5676 - val_mse: 6.4462e-04\n",
      "Epoch 23/50\n",
      "\u001b[1m88/88\u001b[0m \u001b[32m━━━━━━━━━━━━━━━━━━━━\u001b[0m\u001b[37m\u001b[0m \u001b[1m0s\u001b[0m 2ms/step - loss: 3.4349e-04 - mae: 0.0132 - mape: 6831.7080 - mse: 3.4349e-04 - val_loss: 6.1840e-04 - val_mae: 0.0175 - val_mape: 3.5024 - val_mse: 6.1840e-04\n",
      "Epoch 24/50\n",
      "\u001b[1m88/88\u001b[0m \u001b[32m━━━━━━━━━━━━━━━━━━━━\u001b[0m\u001b[37m\u001b[0m \u001b[1m0s\u001b[0m 2ms/step - loss: 3.5637e-04 - mae: 0.0135 - mape: 5857.7847 - mse: 3.5637e-04 - val_loss: 6.5954e-04 - val_mae: 0.0182 - val_mape: 3.6300 - val_mse: 6.5954e-04\n",
      "Epoch 25/50\n",
      "\u001b[1m88/88\u001b[0m \u001b[32m━━━━━━━━━━━━━━━━━━━━\u001b[0m\u001b[37m\u001b[0m \u001b[1m0s\u001b[0m 2ms/step - loss: 3.2548e-04 - mae: 0.0131 - mape: 8110.0889 - mse: 3.2548e-04 - val_loss: 6.0943e-04 - val_mae: 0.0175 - val_mape: 3.4945 - val_mse: 6.0943e-04\n",
      "Epoch 26/50\n",
      "\u001b[1m88/88\u001b[0m \u001b[32m━━━━━━━━━━━━━━━━━━━━\u001b[0m\u001b[37m\u001b[0m \u001b[1m0s\u001b[0m 2ms/step - loss: 3.9184e-04 - mae: 0.0131 - mape: 533.5403 - mse: 3.9184e-04 - val_loss: 6.0604e-04 - val_mae: 0.0174 - val_mape: 3.4797 - val_mse: 6.0604e-04\n",
      "Epoch 27/50\n",
      "\u001b[1m88/88\u001b[0m \u001b[32m━━━━━━━━━━━━━━━━━━━━\u001b[0m\u001b[37m\u001b[0m \u001b[1m0s\u001b[0m 2ms/step - loss: 3.8191e-04 - mae: 0.0134 - mape: 13449.5713 - mse: 3.8191e-04 - val_loss: 6.2218e-04 - val_mae: 0.0176 - val_mape: 3.5276 - val_mse: 6.2218e-04\n",
      "Epoch 28/50\n",
      "\u001b[1m88/88\u001b[0m \u001b[32m━━━━━━━━━━━━━━━━━━━━\u001b[0m\u001b[37m\u001b[0m \u001b[1m0s\u001b[0m 2ms/step - loss: 3.3296e-04 - mae: 0.0131 - mape: 9820.8271 - mse: 3.3296e-04 - val_loss: 5.9272e-04 - val_mae: 0.0172 - val_mape: 3.4478 - val_mse: 5.9272e-04\n",
      "Epoch 29/50\n",
      "\u001b[1m88/88\u001b[0m \u001b[32m━━━━━━━━━━━━━━━━━━━━\u001b[0m\u001b[37m\u001b[0m \u001b[1m0s\u001b[0m 2ms/step - loss: 3.9075e-04 - mae: 0.0136 - mape: 2406.3889 - mse: 3.9075e-04 - val_loss: 6.2585e-04 - val_mae: 0.0178 - val_mape: 3.5546 - val_mse: 6.2585e-04\n",
      "Epoch 30/50\n",
      "\u001b[1m88/88\u001b[0m \u001b[32m━━━━━━━━━━━━━━━━━━━━\u001b[0m\u001b[37m\u001b[0m \u001b[1m0s\u001b[0m 2ms/step - loss: 3.3871e-04 - mae: 0.0131 - mape: 34591.3828 - mse: 3.3871e-04 - val_loss: 5.9345e-04 - val_mae: 0.0175 - val_mape: 3.4706 - val_mse: 5.9345e-04\n",
      "Epoch 31/50\n",
      "\u001b[1m88/88\u001b[0m \u001b[32m━━━━━━━━━━━━━━━━━━━━\u001b[0m\u001b[37m\u001b[0m \u001b[1m0s\u001b[0m 2ms/step - loss: 3.4690e-04 - mae: 0.0132 - mape: 2163.0605 - mse: 3.4690e-04 - val_loss: 5.8878e-04 - val_mae: 0.0174 - val_mape: 3.4595 - val_mse: 5.8878e-04\n",
      "Epoch 32/50\n",
      "\u001b[1m88/88\u001b[0m \u001b[32m━━━━━━━━━━━━━━━━━━━━\u001b[0m\u001b[37m\u001b[0m \u001b[1m0s\u001b[0m 2ms/step - loss: 4.1575e-04 - mae: 0.0134 - mape: 5676.5244 - mse: 4.1575e-04 - val_loss: 5.9045e-04 - val_mae: 0.0173 - val_mape: 3.4557 - val_mse: 5.9045e-04\n",
      "Epoch 33/50\n",
      "\u001b[1m88/88\u001b[0m \u001b[32m━━━━━━━━━━━━━━━━━━━━\u001b[0m\u001b[37m\u001b[0m \u001b[1m0s\u001b[0m 3ms/step - loss: 3.1421e-04 - mae: 0.0125 - mape: 2840.8525 - mse: 3.1421e-04 - val_loss: 6.5615e-04 - val_mae: 0.0185 - val_mape: 3.6814 - val_mse: 6.5615e-04\n",
      "Epoch 34/50\n",
      "\u001b[1m88/88\u001b[0m \u001b[32m━━━━━━━━━━━━━━━━━━━━\u001b[0m\u001b[37m\u001b[0m \u001b[1m0s\u001b[0m 2ms/step - loss: 3.6391e-04 - mae: 0.0126 - mape: 2931.5833 - mse: 3.6391e-04 - val_loss: 5.7675e-04 - val_mae: 0.0173 - val_mape: 3.4368 - val_mse: 5.7675e-04\n",
      "Epoch 35/50\n",
      "\u001b[1m88/88\u001b[0m \u001b[32m━━━━━━━━━━━━━━━━━━━━\u001b[0m\u001b[37m\u001b[0m \u001b[1m0s\u001b[0m 3ms/step - loss: 4.1863e-04 - mae: 0.0130 - mape: 1516.9828 - mse: 4.1863e-04 - val_loss: 5.6817e-04 - val_mae: 0.0171 - val_mape: 3.4090 - val_mse: 5.6817e-04\n",
      "Epoch 36/50\n",
      "\u001b[1m88/88\u001b[0m \u001b[32m━━━━━━━━━━━━━━━━━━━━\u001b[0m\u001b[37m\u001b[0m \u001b[1m0s\u001b[0m 2ms/step - loss: 3.0436e-04 - mae: 0.0127 - mape: 21311.7656 - mse: 3.0436e-04 - val_loss: 5.6517e-04 - val_mae: 0.0171 - val_mape: 3.4023 - val_mse: 5.6517e-04\n",
      "Epoch 37/50\n",
      "\u001b[1m88/88\u001b[0m \u001b[32m━━━━━━━━━━━━━━━━━━━━\u001b[0m\u001b[37m\u001b[0m \u001b[1m0s\u001b[0m 2ms/step - loss: 3.4068e-04 - mae: 0.0132 - mape: 8143.8105 - mse: 3.4068e-04 - val_loss: 5.5935e-04 - val_mae: 0.0170 - val_mape: 3.3874 - val_mse: 5.5935e-04\n",
      "Epoch 38/50\n",
      "\u001b[1m88/88\u001b[0m \u001b[32m━━━━━━━━━━━━━━━━━━━━\u001b[0m\u001b[37m\u001b[0m \u001b[1m0s\u001b[0m 2ms/step - loss: 3.8451e-04 - mae: 0.0127 - mape: 14749.0449 - mse: 3.8451e-04 - val_loss: 5.7937e-04 - val_mae: 0.0173 - val_mape: 3.4517 - val_mse: 5.7937e-04\n",
      "Epoch 39/50\n",
      "\u001b[1m88/88\u001b[0m \u001b[32m━━━━━━━━━━━━━━━━━━━━\u001b[0m\u001b[37m\u001b[0m \u001b[1m0s\u001b[0m 3ms/step - loss: 3.2447e-04 - mae: 0.0126 - mape: 2913.3958 - mse: 3.2447e-04 - val_loss: 5.7313e-04 - val_mae: 0.0172 - val_mape: 3.4368 - val_mse: 5.7313e-04\n",
      "Epoch 40/50\n",
      "\u001b[1m88/88\u001b[0m \u001b[32m━━━━━━━━━━━━━━━━━━━━\u001b[0m\u001b[37m\u001b[0m \u001b[1m0s\u001b[0m 2ms/step - loss: 3.6863e-04 - mae: 0.0128 - mape: 1632.7679 - mse: 3.6863e-04 - val_loss: 6.4173e-04 - val_mae: 0.0185 - val_mape: 3.6729 - val_mse: 6.4173e-04\n",
      "Epoch 41/50\n",
      "\u001b[1m88/88\u001b[0m \u001b[32m━━━━━━━━━━━━━━━━━━━━\u001b[0m\u001b[37m\u001b[0m \u001b[1m0s\u001b[0m 2ms/step - loss: 3.6604e-04 - mae: 0.0132 - mape: 10332.7012 - mse: 3.6604e-04 - val_loss: 5.4899e-04 - val_mae: 0.0169 - val_mape: 3.3665 - val_mse: 5.4899e-04\n",
      "Epoch 42/50\n",
      "\u001b[1m88/88\u001b[0m \u001b[32m━━━━━━━━━━━━━━━━━━━━\u001b[0m\u001b[37m\u001b[0m \u001b[1m0s\u001b[0m 2ms/step - loss: 4.0341e-04 - mae: 0.0132 - mape: 4559.1699 - mse: 4.0341e-04 - val_loss: 5.7457e-04 - val_mae: 0.0174 - val_mape: 3.4564 - val_mse: 5.7457e-04\n",
      "Epoch 43/50\n",
      "\u001b[1m88/88\u001b[0m \u001b[32m━━━━━━━━━━━━━━━━━━━━\u001b[0m\u001b[37m\u001b[0m \u001b[1m0s\u001b[0m 2ms/step - loss: 3.4894e-04 - mae: 0.0127 - mape: 3938.3357 - mse: 3.4894e-04 - val_loss: 6.0887e-04 - val_mae: 0.0180 - val_mape: 3.5778 - val_mse: 6.0887e-04\n",
      "Epoch 44/50\n",
      "\u001b[1m88/88\u001b[0m \u001b[32m━━━━━━━━━━━━━━━━━━━━\u001b[0m\u001b[37m\u001b[0m \u001b[1m0s\u001b[0m 3ms/step - loss: 3.7745e-04 - mae: 0.0132 - mape: 2551.2979 - mse: 3.7745e-04 - val_loss: 5.6329e-04 - val_mae: 0.0172 - val_mape: 3.4279 - val_mse: 5.6329e-04\n",
      "Epoch 45/50\n",
      "\u001b[1m88/88\u001b[0m \u001b[32m━━━━━━━━━━━━━━━━━━━━\u001b[0m\u001b[37m\u001b[0m \u001b[1m0s\u001b[0m 2ms/step - loss: 3.0916e-04 - mae: 0.0121 - mape: 20759.4297 - mse: 3.0916e-04 - val_loss: 5.3825e-04 - val_mae: 0.0168 - val_mape: 3.3439 - val_mse: 5.3825e-04\n",
      "Epoch 46/50\n",
      "\u001b[1m88/88\u001b[0m \u001b[32m━━━━━━━━━━━━━━━━━━━━\u001b[0m\u001b[37m\u001b[0m \u001b[1m0s\u001b[0m 2ms/step - loss: 4.7804e-04 - mae: 0.0134 - mape: 19606.2480 - mse: 4.7804e-04 - val_loss: 5.5552e-04 - val_mae: 0.0171 - val_mape: 3.4076 - val_mse: 5.5552e-04\n",
      "Epoch 47/50\n",
      "\u001b[1m88/88\u001b[0m \u001b[32m━━━━━━━━━━━━━━━━━━━━\u001b[0m\u001b[37m\u001b[0m \u001b[1m0s\u001b[0m 2ms/step - loss: 3.3039e-04 - mae: 0.0125 - mape: 6984.7871 - mse: 3.3039e-04 - val_loss: 5.3167e-04 - val_mae: 0.0167 - val_mape: 3.3242 - val_mse: 5.3167e-04\n",
      "Epoch 48/50\n",
      "\u001b[1m88/88\u001b[0m \u001b[32m━━━━━━━━━━━━━━━━━━━━\u001b[0m\u001b[37m\u001b[0m \u001b[1m0s\u001b[0m 3ms/step - loss: 3.0914e-04 - mae: 0.0125 - mape: 6377.9619 - mse: 3.0914e-04 - val_loss: 5.9205e-04 - val_mae: 0.0178 - val_mape: 3.5286 - val_mse: 5.9205e-04\n",
      "Epoch 49/50\n",
      "\u001b[1m88/88\u001b[0m \u001b[32m━━━━━━━━━━━━━━━━━━━━\u001b[0m\u001b[37m\u001b[0m \u001b[1m0s\u001b[0m 2ms/step - loss: 3.5391e-04 - mae: 0.0124 - mape: 21588.8945 - mse: 3.5391e-04 - val_loss: 5.3072e-04 - val_mae: 0.0168 - val_mape: 3.3252 - val_mse: 5.3072e-04\n",
      "Epoch 50/50\n",
      "\u001b[1m88/88\u001b[0m \u001b[32m━━━━━━━━━━━━━━━━━━━━\u001b[0m\u001b[37m\u001b[0m \u001b[1m0s\u001b[0m 2ms/step - loss: 3.1073e-04 - mae: 0.0121 - mape: 2340.0974 - mse: 3.1073e-04 - val_loss: 6.1085e-04 - val_mae: 0.0182 - val_mape: 3.5977 - val_mse: 6.1085e-04\n"
     ]
    },
    {
     "name": "stderr",
     "output_type": "stream",
     "text": [
      "WARNING:absl:You are saving your model as an HDF5 file via `model.save()` or `keras.saving.save_model(model)`. This file format is considered legacy. We recommend using instead the native Keras format, e.g. `model.save('my_model.keras')` or `keras.saving.save_model(model, 'my_model.keras')`. \n"
     ]
    },
    {
     "name": "stdout",
     "output_type": "stream",
     "text": [
      "\u001b[1m22/22\u001b[0m \u001b[32m━━━━━━━━━━━━━━━━━━━━\u001b[0m\u001b[37m\u001b[0m \u001b[1m0s\u001b[0m 6ms/step\n",
      "model_1: Processando ITUB4 | Combinação 4...\n",
      "Epoch 1/50\n",
      "\u001b[1m90/90\u001b[0m \u001b[32m━━━━━━━━━━━━━━━━━━━━\u001b[0m\u001b[37m\u001b[0m \u001b[1m3s\u001b[0m 9ms/step - loss: 0.1168 - mae: 0.2631 - mape: 70579.0078 - mse: 0.1168 - val_loss: 0.0017 - val_mae: 0.0312 - val_mape: 5.0818 - val_mse: 0.0017\n",
      "Epoch 2/50\n",
      "\u001b[1m90/90\u001b[0m \u001b[32m━━━━━━━━━━━━━━━━━━━━\u001b[0m\u001b[37m\u001b[0m \u001b[1m0s\u001b[0m 3ms/step - loss: 0.0024 - mae: 0.0417 - mape: 100340.1562 - mse: 0.0024 - val_loss: 9.8932e-04 - val_mae: 0.0226 - val_mape: 3.7880 - val_mse: 9.8932e-04\n",
      "Epoch 3/50\n",
      "\u001b[1m90/90\u001b[0m \u001b[32m━━━━━━━━━━━━━━━━━━━━\u001b[0m\u001b[37m\u001b[0m \u001b[1m0s\u001b[0m 4ms/step - loss: 7.0141e-04 - mae: 0.0207 - mape: 180211.4688 - mse: 7.0141e-04 - val_loss: 8.8895e-04 - val_mae: 0.0204 - val_mape: 3.5348 - val_mse: 8.8895e-04\n",
      "Epoch 4/50\n",
      "\u001b[1m90/90\u001b[0m \u001b[32m━━━━━━━━━━━━━━━━━━━━\u001b[0m\u001b[37m\u001b[0m \u001b[1m0s\u001b[0m 4ms/step - loss: 3.5101e-04 - mae: 0.0143 - mape: 36497.9961 - mse: 3.5101e-04 - val_loss: 8.3876e-04 - val_mae: 0.0199 - val_mape: 3.4150 - val_mse: 8.3876e-04\n",
      "Epoch 5/50\n",
      "\u001b[1m90/90\u001b[0m \u001b[32m━━━━━━━━━━━━━━━━━━━━\u001b[0m\u001b[37m\u001b[0m \u001b[1m0s\u001b[0m 4ms/step - loss: 3.2976e-04 - mae: 0.0137 - mape: 31558.9434 - mse: 3.2976e-04 - val_loss: 8.2064e-04 - val_mae: 0.0197 - val_mape: 3.3775 - val_mse: 8.2064e-04\n",
      "Epoch 6/50\n",
      "\u001b[1m90/90\u001b[0m \u001b[32m━━━━━━━━━━━━━━━━━━━━\u001b[0m\u001b[37m\u001b[0m \u001b[1m0s\u001b[0m 3ms/step - loss: 3.2610e-04 - mae: 0.0136 - mape: 96067.3984 - mse: 3.2610e-04 - val_loss: 7.3093e-04 - val_mae: 0.0186 - val_mape: 3.1857 - val_mse: 7.3093e-04\n",
      "Epoch 7/50\n",
      "\u001b[1m90/90\u001b[0m \u001b[32m━━━━━━━━━━━━━━━━━━━━\u001b[0m\u001b[37m\u001b[0m \u001b[1m0s\u001b[0m 3ms/step - loss: 2.8048e-04 - mae: 0.0126 - mape: 20313.0977 - mse: 2.8048e-04 - val_loss: 7.2245e-04 - val_mae: 0.0185 - val_mape: 3.1727 - val_mse: 7.2245e-04\n",
      "Epoch 8/50\n",
      "\u001b[1m90/90\u001b[0m \u001b[32m━━━━━━━━━━━━━━━━━━━━\u001b[0m\u001b[37m\u001b[0m \u001b[1m0s\u001b[0m 3ms/step - loss: 2.8590e-04 - mae: 0.0126 - mape: 27760.5566 - mse: 2.8590e-04 - val_loss: 7.0649e-04 - val_mae: 0.0184 - val_mape: 3.1486 - val_mse: 7.0649e-04\n",
      "Epoch 9/50\n",
      "\u001b[1m90/90\u001b[0m \u001b[32m━━━━━━━━━━━━━━━━━━━━\u001b[0m\u001b[37m\u001b[0m \u001b[1m0s\u001b[0m 3ms/step - loss: 2.6139e-04 - mae: 0.0120 - mape: 44925.8750 - mse: 2.6139e-04 - val_loss: 6.5880e-04 - val_mae: 0.0178 - val_mape: 3.0327 - val_mse: 6.5880e-04\n",
      "Epoch 10/50\n",
      "\u001b[1m90/90\u001b[0m \u001b[32m━━━━━━━━━━━━━━━━━━━━\u001b[0m\u001b[37m\u001b[0m \u001b[1m0s\u001b[0m 3ms/step - loss: 2.5691e-04 - mae: 0.0120 - mape: 3971.7705 - mse: 2.5691e-04 - val_loss: 6.6070e-04 - val_mae: 0.0179 - val_mape: 3.0514 - val_mse: 6.6070e-04\n",
      "Epoch 11/50\n",
      "\u001b[1m90/90\u001b[0m \u001b[32m━━━━━━━━━━━━━━━━━━━━\u001b[0m\u001b[37m\u001b[0m \u001b[1m0s\u001b[0m 3ms/step - loss: 2.5044e-04 - mae: 0.0118 - mape: 40713.7539 - mse: 2.5044e-04 - val_loss: 6.2621e-04 - val_mae: 0.0174 - val_mape: 2.9637 - val_mse: 6.2621e-04\n",
      "Epoch 12/50\n",
      "\u001b[1m90/90\u001b[0m \u001b[32m━━━━━━━━━━━━━━━━━━━━\u001b[0m\u001b[37m\u001b[0m \u001b[1m0s\u001b[0m 3ms/step - loss: 2.5342e-04 - mae: 0.0120 - mape: 15941.1797 - mse: 2.5342e-04 - val_loss: 6.1971e-04 - val_mae: 0.0173 - val_mape: 2.9472 - val_mse: 6.1971e-04\n",
      "Epoch 13/50\n",
      "\u001b[1m90/90\u001b[0m \u001b[32m━━━━━━━━━━━━━━━━━━━━\u001b[0m\u001b[37m\u001b[0m \u001b[1m0s\u001b[0m 3ms/step - loss: 2.4846e-04 - mae: 0.0117 - mape: 24326.8105 - mse: 2.4846e-04 - val_loss: 6.1915e-04 - val_mae: 0.0173 - val_mape: 2.9552 - val_mse: 6.1915e-04\n",
      "Epoch 14/50\n",
      "\u001b[1m90/90\u001b[0m \u001b[32m━━━━━━━━━━━━━━━━━━━━\u001b[0m\u001b[37m\u001b[0m \u001b[1m0s\u001b[0m 2ms/step - loss: 2.4125e-04 - mae: 0.0115 - mape: 12800.3467 - mse: 2.4125e-04 - val_loss: 6.2064e-04 - val_mae: 0.0175 - val_mape: 2.9582 - val_mse: 6.2064e-04\n",
      "Epoch 15/50\n",
      "\u001b[1m90/90\u001b[0m \u001b[32m━━━━━━━━━━━━━━━━━━━━\u001b[0m\u001b[37m\u001b[0m \u001b[1m0s\u001b[0m 2ms/step - loss: 2.4938e-04 - mae: 0.0117 - mape: 117728.5000 - mse: 2.4938e-04 - val_loss: 6.0924e-04 - val_mae: 0.0172 - val_mape: 2.9370 - val_mse: 6.0924e-04\n",
      "Epoch 16/50\n",
      "\u001b[1m90/90\u001b[0m \u001b[32m━━━━━━━━━━━━━━━━━━━━\u001b[0m\u001b[37m\u001b[0m \u001b[1m0s\u001b[0m 2ms/step - loss: 2.3302e-04 - mae: 0.0113 - mape: 44212.9766 - mse: 2.3302e-04 - val_loss: 6.2524e-04 - val_mae: 0.0176 - val_mape: 3.0048 - val_mse: 6.2524e-04\n",
      "Epoch 17/50\n",
      "\u001b[1m90/90\u001b[0m \u001b[32m━━━━━━━━━━━━━━━━━━━━\u001b[0m\u001b[37m\u001b[0m \u001b[1m0s\u001b[0m 2ms/step - loss: 2.2594e-04 - mae: 0.0112 - mape: 11585.2070 - mse: 2.2594e-04 - val_loss: 6.0553e-04 - val_mae: 0.0172 - val_mape: 2.9445 - val_mse: 6.0553e-04\n",
      "Epoch 18/50\n",
      "\u001b[1m90/90\u001b[0m \u001b[32m━━━━━━━━━━━━━━━━━━━━\u001b[0m\u001b[37m\u001b[0m \u001b[1m0s\u001b[0m 3ms/step - loss: 2.3082e-04 - mae: 0.0111 - mape: 50457.8242 - mse: 2.3082e-04 - val_loss: 5.9819e-04 - val_mae: 0.0171 - val_mape: 2.9187 - val_mse: 5.9819e-04\n",
      "Epoch 19/50\n",
      "\u001b[1m90/90\u001b[0m \u001b[32m━━━━━━━━━━━━━━━━━━━━\u001b[0m\u001b[37m\u001b[0m \u001b[1m0s\u001b[0m 2ms/step - loss: 2.2925e-04 - mae: 0.0112 - mape: 27492.3945 - mse: 2.2925e-04 - val_loss: 6.0023e-04 - val_mae: 0.0172 - val_mape: 2.9396 - val_mse: 6.0023e-04\n",
      "Epoch 20/50\n",
      "\u001b[1m90/90\u001b[0m \u001b[32m━━━━━━━━━━━━━━━━━━━━\u001b[0m\u001b[37m\u001b[0m \u001b[1m0s\u001b[0m 2ms/step - loss: 2.2270e-04 - mae: 0.0111 - mape: 31255.4805 - mse: 2.2270e-04 - val_loss: 5.8758e-04 - val_mae: 0.0170 - val_mape: 2.8909 - val_mse: 5.8758e-04\n",
      "Epoch 21/50\n",
      "\u001b[1m90/90\u001b[0m \u001b[32m━━━━━━━━━━━━━━━━━━━━\u001b[0m\u001b[37m\u001b[0m \u001b[1m0s\u001b[0m 3ms/step - loss: 2.3014e-04 - mae: 0.0111 - mape: 52538.9258 - mse: 2.3014e-04 - val_loss: 6.0464e-04 - val_mae: 0.0173 - val_mape: 2.9668 - val_mse: 6.0464e-04\n",
      "Epoch 22/50\n",
      "\u001b[1m90/90\u001b[0m \u001b[32m━━━━━━━━━━━━━━━━━━━━\u001b[0m\u001b[37m\u001b[0m \u001b[1m0s\u001b[0m 3ms/step - loss: 2.1213e-04 - mae: 0.0108 - mape: 45535.0156 - mse: 2.1213e-04 - val_loss: 5.9346e-04 - val_mae: 0.0171 - val_mape: 2.9336 - val_mse: 5.9346e-04\n",
      "Epoch 23/50\n",
      "\u001b[1m90/90\u001b[0m \u001b[32m━━━━━━━━━━━━━━━━━━━━\u001b[0m\u001b[37m\u001b[0m \u001b[1m0s\u001b[0m 3ms/step - loss: 2.2392e-04 - mae: 0.0111 - mape: 17675.1133 - mse: 2.2392e-04 - val_loss: 5.8256e-04 - val_mae: 0.0169 - val_mape: 2.8922 - val_mse: 5.8256e-04\n",
      "Epoch 24/50\n",
      "\u001b[1m90/90\u001b[0m \u001b[32m━━━━━━━━━━━━━━━━━━━━\u001b[0m\u001b[37m\u001b[0m \u001b[1m0s\u001b[0m 3ms/step - loss: 2.2920e-04 - mae: 0.0112 - mape: 55243.9844 - mse: 2.2920e-04 - val_loss: 5.9254e-04 - val_mae: 0.0172 - val_mape: 2.9487 - val_mse: 5.9254e-04\n",
      "Epoch 25/50\n",
      "\u001b[1m90/90\u001b[0m \u001b[32m━━━━━━━━━━━━━━━━━━━━\u001b[0m\u001b[37m\u001b[0m \u001b[1m0s\u001b[0m 3ms/step - loss: 2.2449e-04 - mae: 0.0111 - mape: 36542.9766 - mse: 2.2449e-04 - val_loss: 5.7887e-04 - val_mae: 0.0169 - val_mape: 2.8950 - val_mse: 5.7887e-04\n",
      "Epoch 26/50\n",
      "\u001b[1m90/90\u001b[0m \u001b[32m━━━━━━━━━━━━━━━━━━━━\u001b[0m\u001b[37m\u001b[0m \u001b[1m0s\u001b[0m 2ms/step - loss: 2.4692e-04 - mae: 0.0116 - mape: 76635.9844 - mse: 2.4692e-04 - val_loss: 6.2698e-04 - val_mae: 0.0179 - val_mape: 3.0800 - val_mse: 6.2698e-04\n",
      "Epoch 27/50\n",
      "\u001b[1m90/90\u001b[0m \u001b[32m━━━━━━━━━━━━━━━━━━━━\u001b[0m\u001b[37m\u001b[0m \u001b[1m0s\u001b[0m 2ms/step - loss: 2.2523e-04 - mae: 0.0111 - mape: 31950.2871 - mse: 2.2523e-04 - val_loss: 5.6587e-04 - val_mae: 0.0168 - val_mape: 2.8627 - val_mse: 5.6587e-04\n",
      "Epoch 28/50\n",
      "\u001b[1m90/90\u001b[0m \u001b[32m━━━━━━━━━━━━━━━━━━━━\u001b[0m\u001b[37m\u001b[0m \u001b[1m0s\u001b[0m 3ms/step - loss: 2.2328e-04 - mae: 0.0111 - mape: 16860.7988 - mse: 2.2328e-04 - val_loss: 5.5477e-04 - val_mae: 0.0166 - val_mape: 2.8232 - val_mse: 5.5477e-04\n",
      "Epoch 29/50\n",
      "\u001b[1m90/90\u001b[0m \u001b[32m━━━━━━━━━━━━━━━━━━━━\u001b[0m\u001b[37m\u001b[0m \u001b[1m0s\u001b[0m 2ms/step - loss: 2.0934e-04 - mae: 0.0109 - mape: 58509.9766 - mse: 2.0934e-04 - val_loss: 5.6675e-04 - val_mae: 0.0168 - val_mape: 2.8869 - val_mse: 5.6675e-04\n",
      "Epoch 30/50\n",
      "\u001b[1m90/90\u001b[0m \u001b[32m━━━━━━━━━━━━━━━━━━━━\u001b[0m\u001b[37m\u001b[0m \u001b[1m0s\u001b[0m 2ms/step - loss: 2.3185e-04 - mae: 0.0113 - mape: 38123.2305 - mse: 2.3185e-04 - val_loss: 5.7007e-04 - val_mae: 0.0170 - val_mape: 2.9086 - val_mse: 5.7007e-04\n",
      "Epoch 31/50\n",
      "\u001b[1m90/90\u001b[0m \u001b[32m━━━━━━━━━━━━━━━━━━━━\u001b[0m\u001b[37m\u001b[0m \u001b[1m0s\u001b[0m 3ms/step - loss: 2.2603e-04 - mae: 0.0111 - mape: 5209.6382 - mse: 2.2603e-04 - val_loss: 5.4822e-04 - val_mae: 0.0165 - val_mape: 2.8118 - val_mse: 5.4822e-04\n",
      "Epoch 32/50\n",
      "\u001b[1m90/90\u001b[0m \u001b[32m━━━━━━━━━━━━━━━━━━━━\u001b[0m\u001b[37m\u001b[0m \u001b[1m0s\u001b[0m 2ms/step - loss: 2.2654e-04 - mae: 0.0112 - mape: 29580.2285 - mse: 2.2654e-04 - val_loss: 5.8709e-04 - val_mae: 0.0173 - val_mape: 2.9808 - val_mse: 5.8709e-04\n",
      "Epoch 33/50\n",
      "\u001b[1m90/90\u001b[0m \u001b[32m━━━━━━━━━━━━━━━━━━━━\u001b[0m\u001b[37m\u001b[0m \u001b[1m0s\u001b[0m 2ms/step - loss: 2.1480e-04 - mae: 0.0109 - mape: 15174.2090 - mse: 2.1480e-04 - val_loss: 5.5641e-04 - val_mae: 0.0168 - val_mape: 2.8772 - val_mse: 5.5641e-04\n",
      "Epoch 34/50\n",
      "\u001b[1m90/90\u001b[0m \u001b[32m━━━━━━━━━━━━━━━━━━━━\u001b[0m\u001b[37m\u001b[0m \u001b[1m0s\u001b[0m 3ms/step - loss: 2.2456e-04 - mae: 0.0110 - mape: 34174.7109 - mse: 2.2456e-04 - val_loss: 5.3245e-04 - val_mae: 0.0163 - val_mape: 2.7853 - val_mse: 5.3245e-04\n",
      "Epoch 35/50\n",
      "\u001b[1m90/90\u001b[0m \u001b[32m━━━━━━━━━━━━━━━━━━━━\u001b[0m\u001b[37m\u001b[0m \u001b[1m0s\u001b[0m 2ms/step - loss: 2.0533e-04 - mae: 0.0107 - mape: 20334.2090 - mse: 2.0533e-04 - val_loss: 5.3587e-04 - val_mae: 0.0164 - val_mape: 2.8064 - val_mse: 5.3587e-04\n",
      "Epoch 36/50\n",
      "\u001b[1m90/90\u001b[0m \u001b[32m━━━━━━━━━━━━━━━━━━━━\u001b[0m\u001b[37m\u001b[0m \u001b[1m0s\u001b[0m 3ms/step - loss: 2.1226e-04 - mae: 0.0108 - mape: 57083.2148 - mse: 2.1226e-04 - val_loss: 5.1835e-04 - val_mae: 0.0162 - val_mape: 2.7322 - val_mse: 5.1835e-04\n",
      "Epoch 37/50\n",
      "\u001b[1m90/90\u001b[0m \u001b[32m━━━━━━━━━━━━━━━━━━━━\u001b[0m\u001b[37m\u001b[0m \u001b[1m0s\u001b[0m 5ms/step - loss: 2.1193e-04 - mae: 0.0108 - mape: 47042.3320 - mse: 2.1193e-04 - val_loss: 5.2405e-04 - val_mae: 0.0162 - val_mape: 2.7711 - val_mse: 5.2405e-04\n",
      "Epoch 38/50\n",
      "\u001b[1m90/90\u001b[0m \u001b[32m━━━━━━━━━━━━━━━━━━━━\u001b[0m\u001b[37m\u001b[0m \u001b[1m0s\u001b[0m 3ms/step - loss: 2.0542e-04 - mae: 0.0106 - mape: 10430.0723 - mse: 2.0542e-04 - val_loss: 5.0702e-04 - val_mae: 0.0160 - val_mape: 2.7097 - val_mse: 5.0702e-04\n",
      "Epoch 39/50\n",
      "\u001b[1m90/90\u001b[0m \u001b[32m━━━━━━━━━━━━━━━━━━━━\u001b[0m\u001b[37m\u001b[0m \u001b[1m0s\u001b[0m 3ms/step - loss: 2.0549e-04 - mae: 0.0106 - mape: 145054.0000 - mse: 2.0549e-04 - val_loss: 5.0232e-04 - val_mae: 0.0159 - val_mape: 2.6923 - val_mse: 5.0232e-04\n",
      "Epoch 40/50\n",
      "\u001b[1m90/90\u001b[0m \u001b[32m━━━━━━━━━━━━━━━━━━━━\u001b[0m\u001b[37m\u001b[0m \u001b[1m0s\u001b[0m 2ms/step - loss: 2.0563e-04 - mae: 0.0105 - mape: 29420.7051 - mse: 2.0563e-04 - val_loss: 5.4400e-04 - val_mae: 0.0168 - val_mape: 2.8752 - val_mse: 5.4400e-04\n",
      "Epoch 41/50\n",
      "\u001b[1m90/90\u001b[0m \u001b[32m━━━━━━━━━━━━━━━━━━━━\u001b[0m\u001b[37m\u001b[0m \u001b[1m0s\u001b[0m 2ms/step - loss: 1.9766e-04 - mae: 0.0106 - mape: 36236.8125 - mse: 1.9766e-04 - val_loss: 4.9417e-04 - val_mae: 0.0159 - val_mape: 2.6827 - val_mse: 4.9417e-04\n",
      "Epoch 42/50\n",
      "\u001b[1m90/90\u001b[0m \u001b[32m━━━━━━━━━━━━━━━━━━━━\u001b[0m\u001b[37m\u001b[0m \u001b[1m0s\u001b[0m 2ms/step - loss: 2.0717e-04 - mae: 0.0105 - mape: 18016.2676 - mse: 2.0717e-04 - val_loss: 4.8765e-04 - val_mae: 0.0157 - val_mape: 2.6606 - val_mse: 4.8765e-04\n",
      "Epoch 43/50\n",
      "\u001b[1m90/90\u001b[0m \u001b[32m━━━━━━━━━━━━━━━━━━━━\u001b[0m\u001b[37m\u001b[0m \u001b[1m0s\u001b[0m 2ms/step - loss: 2.1570e-04 - mae: 0.0107 - mape: 31334.9863 - mse: 2.1570e-04 - val_loss: 5.1997e-04 - val_mae: 0.0164 - val_mape: 2.8109 - val_mse: 5.1997e-04\n",
      "Epoch 44/50\n",
      "\u001b[1m90/90\u001b[0m \u001b[32m━━━━━━━━━━━━━━━━━━━━\u001b[0m\u001b[37m\u001b[0m \u001b[1m0s\u001b[0m 3ms/step - loss: 2.0168e-04 - mae: 0.0105 - mape: 37938.1836 - mse: 2.0168e-04 - val_loss: 4.8819e-04 - val_mae: 0.0159 - val_mape: 2.6735 - val_mse: 4.8819e-04\n",
      "Epoch 45/50\n",
      "\u001b[1m90/90\u001b[0m \u001b[32m━━━━━━━━━━━━━━━━━━━━\u001b[0m\u001b[37m\u001b[0m \u001b[1m0s\u001b[0m 3ms/step - loss: 2.0594e-04 - mae: 0.0107 - mape: 25829.5352 - mse: 2.0594e-04 - val_loss: 4.7205e-04 - val_mae: 0.0155 - val_mape: 2.6314 - val_mse: 4.7205e-04\n",
      "Epoch 46/50\n",
      "\u001b[1m90/90\u001b[0m \u001b[32m━━━━━━━━━━━━━━━━━━━━\u001b[0m\u001b[37m\u001b[0m \u001b[1m0s\u001b[0m 2ms/step - loss: 2.0882e-04 - mae: 0.0106 - mape: 18088.1875 - mse: 2.0882e-04 - val_loss: 4.6663e-04 - val_mae: 0.0155 - val_mape: 2.6172 - val_mse: 4.6663e-04\n",
      "Epoch 47/50\n",
      "\u001b[1m90/90\u001b[0m \u001b[32m━━━━━━━━━━━━━━━━━━━━\u001b[0m\u001b[37m\u001b[0m \u001b[1m0s\u001b[0m 3ms/step - loss: 2.0107e-04 - mae: 0.0105 - mape: 37609.8945 - mse: 2.0107e-04 - val_loss: 4.6290e-04 - val_mae: 0.0154 - val_mape: 2.6082 - val_mse: 4.6290e-04\n",
      "Epoch 48/50\n",
      "\u001b[1m90/90\u001b[0m \u001b[32m━━━━━━━━━━━━━━━━━━━━\u001b[0m\u001b[37m\u001b[0m \u001b[1m0s\u001b[0m 3ms/step - loss: 1.8998e-04 - mae: 0.0103 - mape: 52145.3867 - mse: 1.8998e-04 - val_loss: 4.5764e-04 - val_mae: 0.0154 - val_mape: 2.5973 - val_mse: 4.5764e-04\n",
      "Epoch 49/50\n",
      "\u001b[1m90/90\u001b[0m \u001b[32m━━━━━━━━━━━━━━━━━━━━\u001b[0m\u001b[37m\u001b[0m \u001b[1m0s\u001b[0m 3ms/step - loss: 1.9957e-04 - mae: 0.0106 - mape: 30229.0098 - mse: 1.9957e-04 - val_loss: 5.4193e-04 - val_mae: 0.0171 - val_mape: 2.9181 - val_mse: 5.4193e-04\n",
      "Epoch 50/50\n",
      "\u001b[1m90/90\u001b[0m \u001b[32m━━━━━━━━━━━━━━━━━━━━\u001b[0m\u001b[37m\u001b[0m \u001b[1m0s\u001b[0m 4ms/step - loss: 2.1131e-04 - mae: 0.0107 - mape: 50116.3555 - mse: 2.1131e-04 - val_loss: 4.6785e-04 - val_mae: 0.0157 - val_mape: 2.6335 - val_mse: 4.6785e-04\n"
     ]
    },
    {
     "name": "stderr",
     "output_type": "stream",
     "text": [
      "WARNING:absl:You are saving your model as an HDF5 file via `model.save()` or `keras.saving.save_model(model)`. This file format is considered legacy. We recommend using instead the native Keras format, e.g. `model.save('my_model.keras')` or `keras.saving.save_model(model, 'my_model.keras')`. \n"
     ]
    },
    {
     "name": "stdout",
     "output_type": "stream",
     "text": [
      "\u001b[1m23/23\u001b[0m \u001b[32m━━━━━━━━━━━━━━━━━━━━\u001b[0m\u001b[37m\u001b[0m \u001b[1m0s\u001b[0m 10ms/step\n"
     ]
    },
    {
     "name": "stderr",
     "output_type": "stream",
     "text": [
      "Processando combinações:  57%|█████▋    | 4/7 [02:45<02:08, 42.72s/it]"
     ]
    },
    {
     "name": "stdout",
     "output_type": "stream",
     "text": [
      "model_1: Processando PETR4 | Combinação 5...\n",
      "Epoch 1/50\n",
      "\u001b[1m90/90\u001b[0m \u001b[32m━━━━━━━━━━━━━━━━━━━━\u001b[0m\u001b[37m\u001b[0m \u001b[1m2s\u001b[0m 7ms/step - loss: 0.0560 - mae: 0.1891 - mape: 69115.4062 - mse: 0.0560 - val_loss: 0.0109 - val_mae: 0.0889 - val_mape: 18.8232 - val_mse: 0.0109\n",
      "Epoch 2/50\n",
      "\u001b[1m90/90\u001b[0m \u001b[32m━━━━━━━━━━━━━━━━━━━━\u001b[0m\u001b[37m\u001b[0m \u001b[1m0s\u001b[0m 2ms/step - loss: 0.0114 - mae: 0.0842 - mape: 1679.2705 - mse: 0.0114 - val_loss: 0.0038 - val_mae: 0.0493 - val_mape: 11.0010 - val_mse: 0.0038\n",
      "Epoch 3/50\n",
      "\u001b[1m90/90\u001b[0m \u001b[32m━━━━━━━━━━━━━━━━━━━━\u001b[0m\u001b[37m\u001b[0m \u001b[1m0s\u001b[0m 2ms/step - loss: 0.0026 - mae: 0.0398 - mape: 7888.7437 - mse: 0.0026 - val_loss: 0.0011 - val_mae: 0.0248 - val_mape: 6.0021 - val_mse: 0.0011\n",
      "Epoch 4/50\n",
      "\u001b[1m90/90\u001b[0m \u001b[32m━━━━━━━━━━━━━━━━━━━━\u001b[0m\u001b[37m\u001b[0m \u001b[1m0s\u001b[0m 3ms/step - loss: 5.7012e-04 - mae: 0.0176 - mape: 3884.4954 - mse: 5.7012e-04 - val_loss: 7.2568e-04 - val_mae: 0.0192 - val_mape: 4.8593 - val_mse: 7.2568e-04\n",
      "Epoch 5/50\n",
      "\u001b[1m90/90\u001b[0m \u001b[32m━━━━━━━━━━━━━━━━━━━━\u001b[0m\u001b[37m\u001b[0m \u001b[1m0s\u001b[0m 3ms/step - loss: 3.0841e-04 - mae: 0.0126 - mape: 7242.5742 - mse: 3.0841e-04 - val_loss: 6.3134e-04 - val_mae: 0.0173 - val_mape: 4.4670 - val_mse: 6.3134e-04\n",
      "Epoch 6/50\n",
      "\u001b[1m90/90\u001b[0m \u001b[32m━━━━━━━━━━━━━━━━━━━━\u001b[0m\u001b[37m\u001b[0m \u001b[1m0s\u001b[0m 3ms/step - loss: 3.1116e-04 - mae: 0.0128 - mape: 1690.7169 - mse: 3.1116e-04 - val_loss: 6.1217e-04 - val_mae: 0.0173 - val_mape: 4.4238 - val_mse: 6.1217e-04\n",
      "Epoch 7/50\n",
      "\u001b[1m90/90\u001b[0m \u001b[32m━━━━━━━━━━━━━━━━━━━━\u001b[0m\u001b[37m\u001b[0m \u001b[1m0s\u001b[0m 3ms/step - loss: 2.8845e-04 - mae: 0.0122 - mape: 8300.4844 - mse: 2.8845e-04 - val_loss: 5.8361e-04 - val_mae: 0.0163 - val_mape: 4.2209 - val_mse: 5.8361e-04\n",
      "Epoch 8/50\n",
      "\u001b[1m90/90\u001b[0m \u001b[32m━━━━━━━━━━━━━━━━━━━━\u001b[0m\u001b[37m\u001b[0m \u001b[1m0s\u001b[0m 2ms/step - loss: 2.9184e-04 - mae: 0.0124 - mape: 1832.1671 - mse: 2.9184e-04 - val_loss: 5.8198e-04 - val_mae: 0.0159 - val_mape: 4.1629 - val_mse: 5.8198e-04\n",
      "Epoch 9/50\n",
      "\u001b[1m90/90\u001b[0m \u001b[32m━━━━━━━━━━━━━━━━━━━━\u001b[0m\u001b[37m\u001b[0m \u001b[1m0s\u001b[0m 3ms/step - loss: 2.7356e-04 - mae: 0.0119 - mape: 4464.8252 - mse: 2.7356e-04 - val_loss: 5.6998e-04 - val_mae: 0.0158 - val_mape: 4.1161 - val_mse: 5.6998e-04\n",
      "Epoch 10/50\n",
      "\u001b[1m90/90\u001b[0m \u001b[32m━━━━━━━━━━━━━━━━━━━━\u001b[0m\u001b[37m\u001b[0m \u001b[1m0s\u001b[0m 3ms/step - loss: 2.6406e-04 - mae: 0.0117 - mape: 385.5074 - mse: 2.6406e-04 - val_loss: 5.7976e-04 - val_mae: 0.0169 - val_mape: 4.2939 - val_mse: 5.7976e-04\n",
      "Epoch 11/50\n",
      "\u001b[1m90/90\u001b[0m \u001b[32m━━━━━━━━━━━━━━━━━━━━\u001b[0m\u001b[37m\u001b[0m \u001b[1m0s\u001b[0m 3ms/step - loss: 2.7422e-04 - mae: 0.0117 - mape: 9227.1602 - mse: 2.7422e-04 - val_loss: 5.4134e-04 - val_mae: 0.0155 - val_mape: 4.0289 - val_mse: 5.4134e-04\n",
      "Epoch 12/50\n",
      "\u001b[1m90/90\u001b[0m \u001b[32m━━━━━━━━━━━━━━━━━━━━\u001b[0m\u001b[37m\u001b[0m \u001b[1m0s\u001b[0m 3ms/step - loss: 2.6481e-04 - mae: 0.0115 - mape: 2782.7222 - mse: 2.6481e-04 - val_loss: 5.6380e-04 - val_mae: 0.0157 - val_mape: 4.0774 - val_mse: 5.6380e-04\n",
      "Epoch 13/50\n",
      "\u001b[1m90/90\u001b[0m \u001b[32m━━━━━━━━━━━━━━━━━━━━\u001b[0m\u001b[37m\u001b[0m \u001b[1m0s\u001b[0m 3ms/step - loss: 2.9054e-04 - mae: 0.0121 - mape: 2331.8542 - mse: 2.9054e-04 - val_loss: 5.3477e-04 - val_mae: 0.0152 - val_mape: 3.9489 - val_mse: 5.3477e-04\n",
      "Epoch 14/50\n",
      "\u001b[1m90/90\u001b[0m \u001b[32m━━━━━━━━━━━━━━━━━━━━\u001b[0m\u001b[37m\u001b[0m \u001b[1m0s\u001b[0m 3ms/step - loss: 2.3307e-04 - mae: 0.0110 - mape: 2286.4216 - mse: 2.3307e-04 - val_loss: 5.5605e-04 - val_mae: 0.0154 - val_mape: 4.0149 - val_mse: 5.5605e-04\n",
      "Epoch 15/50\n",
      "\u001b[1m90/90\u001b[0m \u001b[32m━━━━━━━━━━━━━━━━━━━━\u001b[0m\u001b[37m\u001b[0m \u001b[1m0s\u001b[0m 3ms/step - loss: 2.5522e-04 - mae: 0.0112 - mape: 924.0869 - mse: 2.5522e-04 - val_loss: 5.1915e-04 - val_mae: 0.0152 - val_mape: 3.9242 - val_mse: 5.1915e-04\n",
      "Epoch 16/50\n",
      "\u001b[1m90/90\u001b[0m \u001b[32m━━━━━━━━━━━━━━━━━━━━\u001b[0m\u001b[37m\u001b[0m \u001b[1m0s\u001b[0m 2ms/step - loss: 2.5666e-04 - mae: 0.0114 - mape: 14369.2197 - mse: 2.5666e-04 - val_loss: 5.1526e-04 - val_mae: 0.0149 - val_mape: 3.8648 - val_mse: 5.1526e-04\n",
      "Epoch 17/50\n",
      "\u001b[1m90/90\u001b[0m \u001b[32m━━━━━━━━━━━━━━━━━━━━\u001b[0m\u001b[37m\u001b[0m \u001b[1m0s\u001b[0m 2ms/step - loss: 2.3899e-04 - mae: 0.0109 - mape: 341.5410 - mse: 2.3899e-04 - val_loss: 5.2326e-04 - val_mae: 0.0149 - val_mape: 3.8619 - val_mse: 5.2326e-04\n",
      "Epoch 18/50\n",
      "\u001b[1m90/90\u001b[0m \u001b[32m━━━━━━━━━━━━━━━━━━━━\u001b[0m\u001b[37m\u001b[0m \u001b[1m0s\u001b[0m 2ms/step - loss: 2.1402e-04 - mae: 0.0105 - mape: 4906.2964 - mse: 2.1402e-04 - val_loss: 4.9533e-04 - val_mae: 0.0147 - val_mape: 3.7951 - val_mse: 4.9533e-04\n",
      "Epoch 19/50\n",
      "\u001b[1m90/90\u001b[0m \u001b[32m━━━━━━━━━━━━━━━━━━━━\u001b[0m\u001b[37m\u001b[0m \u001b[1m0s\u001b[0m 2ms/step - loss: 2.4109e-04 - mae: 0.0111 - mape: 8409.6162 - mse: 2.4109e-04 - val_loss: 5.0752e-04 - val_mae: 0.0145 - val_mape: 3.7825 - val_mse: 5.0752e-04\n",
      "Epoch 20/50\n",
      "\u001b[1m90/90\u001b[0m \u001b[32m━━━━━━━━━━━━━━━━━━━━\u001b[0m\u001b[37m\u001b[0m \u001b[1m0s\u001b[0m 2ms/step - loss: 2.3691e-04 - mae: 0.0110 - mape: 7632.4385 - mse: 2.3691e-04 - val_loss: 4.9201e-04 - val_mae: 0.0145 - val_mape: 3.7381 - val_mse: 4.9201e-04\n",
      "Epoch 21/50\n",
      "\u001b[1m90/90\u001b[0m \u001b[32m━━━━━━━━━━━━━━━━━━━━\u001b[0m\u001b[37m\u001b[0m \u001b[1m0s\u001b[0m 2ms/step - loss: 2.3575e-04 - mae: 0.0109 - mape: 7723.4248 - mse: 2.3575e-04 - val_loss: 4.8761e-04 - val_mae: 0.0143 - val_mape: 3.7006 - val_mse: 4.8761e-04\n",
      "Epoch 22/50\n",
      "\u001b[1m90/90\u001b[0m \u001b[32m━━━━━━━━━━━━━━━━━━━━\u001b[0m\u001b[37m\u001b[0m \u001b[1m0s\u001b[0m 2ms/step - loss: 2.3386e-04 - mae: 0.0107 - mape: 5114.1514 - mse: 2.3386e-04 - val_loss: 4.8049e-04 - val_mae: 0.0143 - val_mape: 3.6849 - val_mse: 4.8049e-04\n",
      "Epoch 23/50\n",
      "\u001b[1m90/90\u001b[0m \u001b[32m━━━━━━━━━━━━━━━━━━━━\u001b[0m\u001b[37m\u001b[0m \u001b[1m0s\u001b[0m 3ms/step - loss: 2.3796e-04 - mae: 0.0109 - mape: 7401.4312 - mse: 2.3796e-04 - val_loss: 4.6570e-04 - val_mae: 0.0142 - val_mape: 3.6320 - val_mse: 4.6570e-04\n",
      "Epoch 24/50\n",
      "\u001b[1m90/90\u001b[0m \u001b[32m━━━━━━━━━━━━━━━━━━━━\u001b[0m\u001b[37m\u001b[0m \u001b[1m0s\u001b[0m 2ms/step - loss: 2.1545e-04 - mae: 0.0104 - mape: 1980.3358 - mse: 2.1545e-04 - val_loss: 4.8247e-04 - val_mae: 0.0143 - val_mape: 3.6762 - val_mse: 4.8247e-04\n",
      "Epoch 25/50\n",
      "\u001b[1m90/90\u001b[0m \u001b[32m━━━━━━━━━━━━━━━━━━━━\u001b[0m\u001b[37m\u001b[0m \u001b[1m0s\u001b[0m 2ms/step - loss: 2.1546e-04 - mae: 0.0104 - mape: 338.5265 - mse: 2.1546e-04 - val_loss: 4.5712e-04 - val_mae: 0.0139 - val_mape: 3.5637 - val_mse: 4.5712e-04\n",
      "Epoch 26/50\n",
      "\u001b[1m90/90\u001b[0m \u001b[32m━━━━━━━━━━━━━━━━━━━━\u001b[0m\u001b[37m\u001b[0m \u001b[1m0s\u001b[0m 3ms/step - loss: 2.0860e-04 - mae: 0.0103 - mape: 2279.7483 - mse: 2.0860e-04 - val_loss: 4.4174e-04 - val_mae: 0.0136 - val_mape: 3.4945 - val_mse: 4.4174e-04\n",
      "Epoch 27/50\n",
      "\u001b[1m90/90\u001b[0m \u001b[32m━━━━━━━━━━━━━━━━━━━━\u001b[0m\u001b[37m\u001b[0m \u001b[1m0s\u001b[0m 2ms/step - loss: 2.1753e-04 - mae: 0.0105 - mape: 7049.9409 - mse: 2.1753e-04 - val_loss: 4.4501e-04 - val_mae: 0.0137 - val_mape: 3.5000 - val_mse: 4.4501e-04\n",
      "Epoch 28/50\n",
      "\u001b[1m90/90\u001b[0m \u001b[32m━━━━━━━━━━━━━━━━━━━━\u001b[0m\u001b[37m\u001b[0m \u001b[1m0s\u001b[0m 2ms/step - loss: 2.1524e-04 - mae: 0.0105 - mape: 539.4235 - mse: 2.1524e-04 - val_loss: 4.3006e-04 - val_mae: 0.0137 - val_mape: 3.4589 - val_mse: 4.3006e-04\n",
      "Epoch 29/50\n",
      "\u001b[1m90/90\u001b[0m \u001b[32m━━━━━━━━━━━━━━━━━━━━\u001b[0m\u001b[37m\u001b[0m \u001b[1m0s\u001b[0m 4ms/step - loss: 2.2588e-04 - mae: 0.0107 - mape: 6948.4873 - mse: 2.2588e-04 - val_loss: 4.2852e-04 - val_mae: 0.0135 - val_mape: 3.4233 - val_mse: 4.2852e-04\n",
      "Epoch 30/50\n",
      "\u001b[1m90/90\u001b[0m \u001b[32m━━━━━━━━━━━━━━━━━━━━\u001b[0m\u001b[37m\u001b[0m \u001b[1m0s\u001b[0m 2ms/step - loss: 2.1650e-04 - mae: 0.0106 - mape: 3642.3835 - mse: 2.1650e-04 - val_loss: 4.6213e-04 - val_mae: 0.0141 - val_mape: 3.5550 - val_mse: 4.6213e-04\n",
      "Epoch 31/50\n",
      "\u001b[1m90/90\u001b[0m \u001b[32m━━━━━━━━━━━━━━━━━━━━\u001b[0m\u001b[37m\u001b[0m \u001b[1m0s\u001b[0m 3ms/step - loss: 2.2900e-04 - mae: 0.0108 - mape: 908.5173 - mse: 2.2900e-04 - val_loss: 4.1294e-04 - val_mae: 0.0133 - val_mape: 3.3617 - val_mse: 4.1294e-04\n",
      "Epoch 32/50\n",
      "\u001b[1m90/90\u001b[0m \u001b[32m━━━━━━━━━━━━━━━━━━━━\u001b[0m\u001b[37m\u001b[0m \u001b[1m0s\u001b[0m 3ms/step - loss: 2.1745e-04 - mae: 0.0104 - mape: 6810.8667 - mse: 2.1745e-04 - val_loss: 4.0683e-04 - val_mae: 0.0132 - val_mape: 3.3223 - val_mse: 4.0683e-04\n",
      "Epoch 33/50\n",
      "\u001b[1m90/90\u001b[0m \u001b[32m━━━━━━━━━━━━━━━━━━━━\u001b[0m\u001b[37m\u001b[0m \u001b[1m0s\u001b[0m 3ms/step - loss: 1.9094e-04 - mae: 0.0099 - mape: 15847.7930 - mse: 1.9094e-04 - val_loss: 5.0061e-04 - val_mae: 0.0150 - val_mape: 3.7534 - val_mse: 5.0061e-04\n",
      "Epoch 34/50\n",
      "\u001b[1m90/90\u001b[0m \u001b[32m━━━━━━━━━━━━━━━━━━━━\u001b[0m\u001b[37m\u001b[0m \u001b[1m0s\u001b[0m 3ms/step - loss: 2.1358e-04 - mae: 0.0108 - mape: 8411.5693 - mse: 2.1358e-04 - val_loss: 4.2334e-04 - val_mae: 0.0144 - val_mape: 3.5295 - val_mse: 4.2334e-04\n",
      "Epoch 35/50\n",
      "\u001b[1m90/90\u001b[0m \u001b[32m━━━━━━━━━━━━━━━━━━━━\u001b[0m\u001b[37m\u001b[0m \u001b[1m0s\u001b[0m 3ms/step - loss: 2.1839e-04 - mae: 0.0106 - mape: 5585.5020 - mse: 2.1839e-04 - val_loss: 4.2016e-04 - val_mae: 0.0134 - val_mape: 3.3807 - val_mse: 4.2016e-04\n",
      "Epoch 36/50\n",
      "\u001b[1m90/90\u001b[0m \u001b[32m━━━━━━━━━━━━━━━━━━━━\u001b[0m\u001b[37m\u001b[0m \u001b[1m0s\u001b[0m 3ms/step - loss: 2.0922e-04 - mae: 0.0103 - mape: 4877.4346 - mse: 2.0922e-04 - val_loss: 4.0253e-04 - val_mae: 0.0137 - val_mape: 3.3764 - val_mse: 4.0253e-04\n",
      "Epoch 37/50\n",
      "\u001b[1m90/90\u001b[0m \u001b[32m━━━━━━━━━━━━━━━━━━━━\u001b[0m\u001b[37m\u001b[0m \u001b[1m0s\u001b[0m 4ms/step - loss: 2.1411e-04 - mae: 0.0103 - mape: 4529.7598 - mse: 2.1411e-04 - val_loss: 4.1501e-04 - val_mae: 0.0133 - val_mape: 3.3222 - val_mse: 4.1501e-04\n",
      "Epoch 38/50\n",
      "\u001b[1m90/90\u001b[0m \u001b[32m━━━━━━━━━━━━━━━━━━━━\u001b[0m\u001b[37m\u001b[0m \u001b[1m0s\u001b[0m 4ms/step - loss: 1.9078e-04 - mae: 0.0100 - mape: 3373.2439 - mse: 1.9078e-04 - val_loss: 3.9280e-04 - val_mae: 0.0130 - val_mape: 3.2379 - val_mse: 3.9280e-04\n",
      "Epoch 39/50\n",
      "\u001b[1m90/90\u001b[0m \u001b[32m━━━━━━━━━━━━━━━━━━━━\u001b[0m\u001b[37m\u001b[0m \u001b[1m0s\u001b[0m 2ms/step - loss: 2.1235e-04 - mae: 0.0104 - mape: 7335.4551 - mse: 2.1235e-04 - val_loss: 3.7824e-04 - val_mae: 0.0126 - val_mape: 3.1384 - val_mse: 3.7824e-04\n",
      "Epoch 40/50\n",
      "\u001b[1m90/90\u001b[0m \u001b[32m━━━━━━━━━━━━━━━━━━━━\u001b[0m\u001b[37m\u001b[0m \u001b[1m0s\u001b[0m 3ms/step - loss: 1.9054e-04 - mae: 0.0098 - mape: 1961.7612 - mse: 1.9054e-04 - val_loss: 3.6989e-04 - val_mae: 0.0128 - val_mape: 3.1482 - val_mse: 3.6989e-04\n",
      "Epoch 41/50\n",
      "\u001b[1m90/90\u001b[0m \u001b[32m━━━━━━━━━━━━━━━━━━━━\u001b[0m\u001b[37m\u001b[0m \u001b[1m0s\u001b[0m 3ms/step - loss: 1.9400e-04 - mae: 0.0100 - mape: 2477.7744 - mse: 1.9400e-04 - val_loss: 3.6655e-04 - val_mae: 0.0128 - val_mape: 3.1362 - val_mse: 3.6655e-04\n",
      "Epoch 42/50\n",
      "\u001b[1m90/90\u001b[0m \u001b[32m━━━━━━━━━━━━━━━━━━━━\u001b[0m\u001b[37m\u001b[0m \u001b[1m0s\u001b[0m 3ms/step - loss: 1.7247e-04 - mae: 0.0095 - mape: 16846.2891 - mse: 1.7247e-04 - val_loss: 3.6145e-04 - val_mae: 0.0123 - val_mape: 3.0597 - val_mse: 3.6145e-04\n",
      "Epoch 43/50\n",
      "\u001b[1m90/90\u001b[0m \u001b[32m━━━━━━━━━━━━━━━━━━━━\u001b[0m\u001b[37m\u001b[0m \u001b[1m0s\u001b[0m 2ms/step - loss: 1.8647e-04 - mae: 0.0098 - mape: 3761.6431 - mse: 1.8647e-04 - val_loss: 3.5761e-04 - val_mae: 0.0124 - val_mape: 3.0530 - val_mse: 3.5761e-04\n",
      "Epoch 44/50\n",
      "\u001b[1m90/90\u001b[0m \u001b[32m━━━━━━━━━━━━━━━━━━━━\u001b[0m\u001b[37m\u001b[0m \u001b[1m0s\u001b[0m 3ms/step - loss: 1.8989e-04 - mae: 0.0098 - mape: 1689.6224 - mse: 1.8989e-04 - val_loss: 3.5571e-04 - val_mae: 0.0126 - val_mape: 3.0723 - val_mse: 3.5571e-04\n",
      "Epoch 45/50\n",
      "\u001b[1m90/90\u001b[0m \u001b[32m━━━━━━━━━━━━━━━━━━━━\u001b[0m\u001b[37m\u001b[0m \u001b[1m0s\u001b[0m 3ms/step - loss: 1.7930e-04 - mae: 0.0095 - mape: 10268.1543 - mse: 1.7930e-04 - val_loss: 3.5618e-04 - val_mae: 0.0128 - val_mape: 3.1022 - val_mse: 3.5618e-04\n",
      "Epoch 46/50\n",
      "\u001b[1m90/90\u001b[0m \u001b[32m━━━━━━━━━━━━━━━━━━━━\u001b[0m\u001b[37m\u001b[0m \u001b[1m0s\u001b[0m 2ms/step - loss: 1.8526e-04 - mae: 0.0099 - mape: 21736.7930 - mse: 1.8526e-04 - val_loss: 3.4322e-04 - val_mae: 0.0122 - val_mape: 2.9798 - val_mse: 3.4322e-04\n",
      "Epoch 47/50\n",
      "\u001b[1m90/90\u001b[0m \u001b[32m━━━━━━━━━━━━━━━━━━━━\u001b[0m\u001b[37m\u001b[0m \u001b[1m0s\u001b[0m 3ms/step - loss: 1.7411e-04 - mae: 0.0095 - mape: 2537.3281 - mse: 1.7411e-04 - val_loss: 3.5911e-04 - val_mae: 0.0131 - val_mape: 3.1690 - val_mse: 3.5911e-04\n",
      "Epoch 48/50\n",
      "\u001b[1m90/90\u001b[0m \u001b[32m━━━━━━━━━━━━━━━━━━━━\u001b[0m\u001b[37m\u001b[0m \u001b[1m0s\u001b[0m 3ms/step - loss: 1.7301e-04 - mae: 0.0094 - mape: 6090.1230 - mse: 1.7301e-04 - val_loss: 3.8872e-04 - val_mae: 0.0130 - val_mape: 3.1754 - val_mse: 3.8872e-04\n",
      "Epoch 49/50\n",
      "\u001b[1m90/90\u001b[0m \u001b[32m━━━━━━━━━━━━━━━━━━━━\u001b[0m\u001b[37m\u001b[0m \u001b[1m0s\u001b[0m 3ms/step - loss: 1.7686e-04 - mae: 0.0097 - mape: 1226.2894 - mse: 1.7686e-04 - val_loss: 3.5493e-04 - val_mae: 0.0123 - val_mape: 3.0048 - val_mse: 3.5493e-04\n",
      "Epoch 50/50\n",
      "\u001b[1m90/90\u001b[0m \u001b[32m━━━━━━━━━━━━━━━━━━━━\u001b[0m\u001b[37m\u001b[0m \u001b[1m0s\u001b[0m 3ms/step - loss: 1.6093e-04 - mae: 0.0091 - mape: 6862.4111 - mse: 1.6093e-04 - val_loss: 3.3754e-04 - val_mae: 0.0121 - val_mape: 2.9465 - val_mse: 3.3754e-04\n"
     ]
    },
    {
     "name": "stderr",
     "output_type": "stream",
     "text": [
      "WARNING:absl:You are saving your model as an HDF5 file via `model.save()` or `keras.saving.save_model(model)`. This file format is considered legacy. We recommend using instead the native Keras format, e.g. `model.save('my_model.keras')` or `keras.saving.save_model(model, 'my_model.keras')`. \n"
     ]
    },
    {
     "name": "stdout",
     "output_type": "stream",
     "text": [
      "\u001b[1m23/23\u001b[0m \u001b[32m━━━━━━━━━━━━━━━━━━━━\u001b[0m\u001b[37m\u001b[0m \u001b[1m0s\u001b[0m 9ms/step\n",
      "model_1: Processando VALE3 | Combinação 5...\n",
      "Epoch 1/50\n",
      "\u001b[1m90/90\u001b[0m \u001b[32m━━━━━━━━━━━━━━━━━━━━\u001b[0m\u001b[37m\u001b[0m \u001b[1m2s\u001b[0m 6ms/step - loss: 0.1766 - mae: 0.3487 - mape: 74195.6719 - mse: 0.1766 - val_loss: 0.2796 - val_mae: 0.4520 - val_mape: 38.3534 - val_mse: 0.2796\n",
      "Epoch 2/50\n",
      "\u001b[1m90/90\u001b[0m \u001b[32m━━━━━━━━━━━━━━━━━━━━\u001b[0m\u001b[37m\u001b[0m \u001b[1m0s\u001b[0m 2ms/step - loss: 0.0204 - mae: 0.1183 - mape: 216563.7344 - mse: 0.0204 - val_loss: 0.1511 - val_mae: 0.3312 - val_mape: 28.1076 - val_mse: 0.1511\n",
      "Epoch 3/50\n",
      "\u001b[1m90/90\u001b[0m \u001b[32m━━━━━━━━━━━━━━━━━━━━\u001b[0m\u001b[37m\u001b[0m \u001b[1m0s\u001b[0m 3ms/step - loss: 0.0094 - mae: 0.0794 - mape: 126880.9375 - mse: 0.0094 - val_loss: 0.0469 - val_mae: 0.1777 - val_mape: 14.9120 - val_mse: 0.0469\n",
      "Epoch 4/50\n",
      "\u001b[1m90/90\u001b[0m \u001b[32m━━━━━━━━━━━━━━━━━━━━\u001b[0m\u001b[37m\u001b[0m \u001b[1m0s\u001b[0m 3ms/step - loss: 0.0019 - mae: 0.0337 - mape: 25102.7383 - mse: 0.0019 - val_loss: 0.0155 - val_mae: 0.0915 - val_mape: 7.5171 - val_mse: 0.0155\n",
      "Epoch 5/50\n",
      "\u001b[1m90/90\u001b[0m \u001b[32m━━━━━━━━━━━━━━━━━━━━\u001b[0m\u001b[37m\u001b[0m \u001b[1m0s\u001b[0m 3ms/step - loss: 5.1964e-04 - mae: 0.0166 - mape: 7894.9912 - mse: 5.1964e-04 - val_loss: 0.0117 - val_mae: 0.0761 - val_mape: 6.2285 - val_mse: 0.0117\n",
      "Epoch 6/50\n",
      "\u001b[1m90/90\u001b[0m \u001b[32m━━━━━━━━━━━━━━━━━━━━\u001b[0m\u001b[37m\u001b[0m \u001b[1m0s\u001b[0m 4ms/step - loss: 3.4661e-04 - mae: 0.0140 - mape: 18607.2266 - mse: 3.4661e-04 - val_loss: 0.0117 - val_mae: 0.0756 - val_mape: 6.1820 - val_mse: 0.0117\n",
      "Epoch 7/50\n",
      "\u001b[1m90/90\u001b[0m \u001b[32m━━━━━━━━━━━━━━━━━━━━\u001b[0m\u001b[37m\u001b[0m \u001b[1m0s\u001b[0m 3ms/step - loss: 3.5969e-04 - mae: 0.0137 - mape: 6477.0205 - mse: 3.5969e-04 - val_loss: 0.0123 - val_mae: 0.0780 - val_mape: 6.3596 - val_mse: 0.0123\n",
      "Epoch 8/50\n",
      "\u001b[1m90/90\u001b[0m \u001b[32m━━━━━━━━━━━━━━━━━━━━\u001b[0m\u001b[37m\u001b[0m \u001b[1m0s\u001b[0m 2ms/step - loss: 3.2934e-04 - mae: 0.0137 - mape: 19590.4219 - mse: 3.2934e-04 - val_loss: 0.0132 - val_mae: 0.0813 - val_mape: 6.6283 - val_mse: 0.0132\n",
      "Epoch 9/50\n",
      "\u001b[1m90/90\u001b[0m \u001b[32m━━━━━━━━━━━━━━━━━━━━\u001b[0m\u001b[37m\u001b[0m \u001b[1m0s\u001b[0m 3ms/step - loss: 3.8951e-04 - mae: 0.0141 - mape: 2942.1672 - mse: 3.8951e-04 - val_loss: 0.0133 - val_mae: 0.0813 - val_mape: 6.6013 - val_mse: 0.0133\n",
      "Epoch 10/50\n",
      "\u001b[1m90/90\u001b[0m \u001b[32m━━━━━━━━━━━━━━━━━━━━\u001b[0m\u001b[37m\u001b[0m \u001b[1m0s\u001b[0m 3ms/step - loss: 3.4459e-04 - mae: 0.0135 - mape: 7575.8604 - mse: 3.4459e-04 - val_loss: 0.0139 - val_mae: 0.0835 - val_mape: 6.7738 - val_mse: 0.0139\n",
      "Epoch 11/50\n",
      "\u001b[1m90/90\u001b[0m \u001b[32m━━━━━━━━━━━━━━━━━━━━\u001b[0m\u001b[37m\u001b[0m \u001b[1m0s\u001b[0m 3ms/step - loss: 3.6519e-04 - mae: 0.0142 - mape: 15887.7227 - mse: 3.6519e-04 - val_loss: 0.0138 - val_mae: 0.0831 - val_mape: 6.7206 - val_mse: 0.0138\n",
      "Epoch 12/50\n",
      "\u001b[1m90/90\u001b[0m \u001b[32m━━━━━━━━━━━━━━━━━━━━\u001b[0m\u001b[37m\u001b[0m \u001b[1m0s\u001b[0m 3ms/step - loss: 3.4554e-04 - mae: 0.0136 - mape: 4338.9272 - mse: 3.4554e-04 - val_loss: 0.0139 - val_mae: 0.0829 - val_mape: 6.6970 - val_mse: 0.0139\n",
      "Epoch 13/50\n",
      "\u001b[1m90/90\u001b[0m \u001b[32m━━━━━━━━━━━━━━━━━━━━\u001b[0m\u001b[37m\u001b[0m \u001b[1m0s\u001b[0m 4ms/step - loss: 3.2492e-04 - mae: 0.0133 - mape: 11535.6836 - mse: 3.2492e-04 - val_loss: 0.0142 - val_mae: 0.0842 - val_mape: 6.7907 - val_mse: 0.0142\n",
      "Epoch 14/50\n",
      "\u001b[1m90/90\u001b[0m \u001b[32m━━━━━━━━━━━━━━━━━━━━\u001b[0m\u001b[37m\u001b[0m \u001b[1m0s\u001b[0m 2ms/step - loss: 3.1464e-04 - mae: 0.0132 - mape: 22221.2031 - mse: 3.1464e-04 - val_loss: 0.0137 - val_mae: 0.0820 - val_mape: 6.6206 - val_mse: 0.0137\n",
      "Epoch 15/50\n",
      "\u001b[1m90/90\u001b[0m \u001b[32m━━━━━━━━━━━━━━━━━━━━\u001b[0m\u001b[37m\u001b[0m \u001b[1m0s\u001b[0m 3ms/step - loss: 3.5203e-04 - mae: 0.0137 - mape: 2923.2385 - mse: 3.5203e-04 - val_loss: 0.0152 - val_mae: 0.0879 - val_mape: 7.0817 - val_mse: 0.0152\n",
      "Epoch 16/50\n",
      "\u001b[1m90/90\u001b[0m \u001b[32m━━━━━━━━━━━━━━━━━━━━\u001b[0m\u001b[37m\u001b[0m \u001b[1m0s\u001b[0m 3ms/step - loss: 3.0307e-04 - mae: 0.0132 - mape: 2075.8159 - mse: 3.0307e-04 - val_loss: 0.0149 - val_mae: 0.0866 - val_mape: 6.9575 - val_mse: 0.0149\n"
     ]
    },
    {
     "name": "stderr",
     "output_type": "stream",
     "text": [
      "WARNING:absl:You are saving your model as an HDF5 file via `model.save()` or `keras.saving.save_model(model)`. This file format is considered legacy. We recommend using instead the native Keras format, e.g. `model.save('my_model.keras')` or `keras.saving.save_model(model, 'my_model.keras')`. \n"
     ]
    },
    {
     "name": "stdout",
     "output_type": "stream",
     "text": [
      "\u001b[1m23/23\u001b[0m \u001b[32m━━━━━━━━━━━━━━━━━━━━\u001b[0m\u001b[37m\u001b[0m \u001b[1m0s\u001b[0m 9ms/step\n",
      "model_1: Processando BBDC4 | Combinação 5...\n",
      "Epoch 1/50\n",
      "\u001b[1m88/88\u001b[0m \u001b[32m━━━━━━━━━━━━━━━━━━━━\u001b[0m\u001b[37m\u001b[0m \u001b[1m2s\u001b[0m 5ms/step - loss: 0.1207 - mae: 0.2686 - mape: 32222.2051 - mse: 0.1207 - val_loss: 0.0249 - val_mae: 0.1309 - val_mape: 21.6884 - val_mse: 0.0249\n",
      "Epoch 2/50\n",
      "\u001b[1m88/88\u001b[0m \u001b[32m━━━━━━━━━━━━━━━━━━━━\u001b[0m\u001b[37m\u001b[0m \u001b[1m0s\u001b[0m 2ms/step - loss: 0.0201 - mae: 0.1166 - mape: 20454.5098 - mse: 0.0201 - val_loss: 0.0093 - val_mae: 0.0795 - val_mape: 13.4586 - val_mse: 0.0093\n",
      "Epoch 3/50\n",
      "\u001b[1m88/88\u001b[0m \u001b[32m━━━━━━━━━━━━━━━━━━━━\u001b[0m\u001b[37m\u001b[0m \u001b[1m0s\u001b[0m 3ms/step - loss: 0.0064 - mae: 0.0619 - mape: 30910.8633 - mse: 0.0064 - val_loss: 0.0018 - val_mae: 0.0338 - val_mape: 6.5028 - val_mse: 0.0018\n",
      "Epoch 4/50\n",
      "\u001b[1m88/88\u001b[0m \u001b[32m━━━━━━━━━━━━━━━━━━━━\u001b[0m\u001b[37m\u001b[0m \u001b[1m0s\u001b[0m 3ms/step - loss: 0.0013 - mae: 0.0269 - mape: 567.3601 - mse: 0.0013 - val_loss: 0.0012 - val_mae: 0.0264 - val_mape: 5.2727 - val_mse: 0.0012\n",
      "Epoch 5/50\n",
      "\u001b[1m88/88\u001b[0m \u001b[32m━━━━━━━━━━━━━━━━━━━━\u001b[0m\u001b[37m\u001b[0m \u001b[1m0s\u001b[0m 2ms/step - loss: 5.8218e-04 - mae: 0.0183 - mape: 72.0098 - mse: 5.8218e-04 - val_loss: 0.0011 - val_mae: 0.0255 - val_mape: 5.0890 - val_mse: 0.0011\n",
      "Epoch 6/50\n",
      "\u001b[1m88/88\u001b[0m \u001b[32m━━━━━━━━━━━━━━━━━━━━\u001b[0m\u001b[37m\u001b[0m \u001b[1m0s\u001b[0m 3ms/step - loss: 6.7453e-04 - mae: 0.0174 - mape: 704.0381 - mse: 6.7453e-04 - val_loss: 0.0011 - val_mae: 0.0248 - val_mape: 4.9678 - val_mse: 0.0011\n",
      "Epoch 7/50\n",
      "\u001b[1m88/88\u001b[0m \u001b[32m━━━━━━━━━━━━━━━━━━━━\u001b[0m\u001b[37m\u001b[0m \u001b[1m0s\u001b[0m 2ms/step - loss: 5.4486e-04 - mae: 0.0162 - mape: 1376.8184 - mse: 5.4486e-04 - val_loss: 0.0011 - val_mae: 0.0245 - val_mape: 4.9045 - val_mse: 0.0011\n",
      "Epoch 8/50\n",
      "\u001b[1m88/88\u001b[0m \u001b[32m━━━━━━━━━━━━━━━━━━━━\u001b[0m\u001b[37m\u001b[0m \u001b[1m0s\u001b[0m 3ms/step - loss: 4.6877e-04 - mae: 0.0155 - mape: 4631.8525 - mse: 4.6877e-04 - val_loss: 0.0011 - val_mae: 0.0242 - val_mape: 4.8377 - val_mse: 0.0011\n",
      "Epoch 9/50\n",
      "\u001b[1m88/88\u001b[0m \u001b[32m━━━━━━━━━━━━━━━━━━━━\u001b[0m\u001b[37m\u001b[0m \u001b[1m0s\u001b[0m 2ms/step - loss: 4.9780e-04 - mae: 0.0155 - mape: 2929.7854 - mse: 4.9780e-04 - val_loss: 0.0010 - val_mae: 0.0237 - val_mape: 4.7512 - val_mse: 0.0010\n",
      "Epoch 10/50\n",
      "\u001b[1m88/88\u001b[0m \u001b[32m━━━━━━━━━━━━━━━━━━━━\u001b[0m\u001b[37m\u001b[0m \u001b[1m0s\u001b[0m 2ms/step - loss: 4.8022e-04 - mae: 0.0154 - mape: 1895.5665 - mse: 4.8022e-04 - val_loss: 9.9343e-04 - val_mae: 0.0231 - val_mape: 4.6517 - val_mse: 9.9343e-04\n",
      "Epoch 11/50\n",
      "\u001b[1m88/88\u001b[0m \u001b[32m━━━━━━━━━━━━━━━━━━━━\u001b[0m\u001b[37m\u001b[0m \u001b[1m0s\u001b[0m 3ms/step - loss: 4.3966e-04 - mae: 0.0152 - mape: 3228.8630 - mse: 4.3966e-04 - val_loss: 9.9199e-04 - val_mae: 0.0231 - val_mape: 4.6393 - val_mse: 9.9199e-04\n",
      "Epoch 12/50\n",
      "\u001b[1m88/88\u001b[0m \u001b[32m━━━━━━━━━━━━━━━━━━━━\u001b[0m\u001b[37m\u001b[0m \u001b[1m0s\u001b[0m 2ms/step - loss: 4.3791e-04 - mae: 0.0146 - mape: 637.6902 - mse: 4.3791e-04 - val_loss: 9.6194e-04 - val_mae: 0.0226 - val_mape: 4.5591 - val_mse: 9.6194e-04\n",
      "Epoch 13/50\n",
      "\u001b[1m88/88\u001b[0m \u001b[32m━━━━━━━━━━━━━━━━━━━━\u001b[0m\u001b[37m\u001b[0m \u001b[1m0s\u001b[0m 2ms/step - loss: 4.4269e-04 - mae: 0.0146 - mape: 1496.0814 - mse: 4.4269e-04 - val_loss: 9.2871e-04 - val_mae: 0.0222 - val_mape: 4.4642 - val_mse: 9.2871e-04\n",
      "Epoch 14/50\n",
      "\u001b[1m88/88\u001b[0m \u001b[32m━━━━━━━━━━━━━━━━━━━━\u001b[0m\u001b[37m\u001b[0m \u001b[1m0s\u001b[0m 3ms/step - loss: 5.3449e-04 - mae: 0.0149 - mape: 1965.1788 - mse: 5.3449e-04 - val_loss: 9.0898e-04 - val_mae: 0.0218 - val_mape: 4.3954 - val_mse: 9.0898e-04\n",
      "Epoch 15/50\n",
      "\u001b[1m88/88\u001b[0m \u001b[32m━━━━━━━━━━━━━━━━━━━━\u001b[0m\u001b[37m\u001b[0m \u001b[1m0s\u001b[0m 3ms/step - loss: 6.9209e-04 - mae: 0.0158 - mape: 165.2113 - mse: 6.9209e-04 - val_loss: 8.9093e-04 - val_mae: 0.0216 - val_mape: 4.3484 - val_mse: 8.9093e-04\n",
      "Epoch 16/50\n",
      "\u001b[1m88/88\u001b[0m \u001b[32m━━━━━━━━━━━━━━━━━━━━\u001b[0m\u001b[37m\u001b[0m \u001b[1m0s\u001b[0m 3ms/step - loss: 4.3398e-04 - mae: 0.0146 - mape: 4563.0835 - mse: 4.3398e-04 - val_loss: 8.8609e-04 - val_mae: 0.0214 - val_mape: 4.3122 - val_mse: 8.8609e-04\n",
      "Epoch 17/50\n",
      "\u001b[1m88/88\u001b[0m \u001b[32m━━━━━━━━━━━━━━━━━━━━\u001b[0m\u001b[37m\u001b[0m \u001b[1m0s\u001b[0m 3ms/step - loss: 4.4498e-04 - mae: 0.0147 - mape: 565.4570 - mse: 4.4498e-04 - val_loss: 8.5791e-04 - val_mae: 0.0211 - val_mape: 4.2485 - val_mse: 8.5791e-04\n",
      "Epoch 18/50\n",
      "\u001b[1m88/88\u001b[0m \u001b[32m━━━━━━━━━━━━━━━━━━━━\u001b[0m\u001b[37m\u001b[0m \u001b[1m0s\u001b[0m 4ms/step - loss: 4.3553e-04 - mae: 0.0142 - mape: 1071.9348 - mse: 4.3553e-04 - val_loss: 8.5444e-04 - val_mae: 0.0209 - val_mape: 4.2189 - val_mse: 8.5444e-04\n",
      "Epoch 19/50\n",
      "\u001b[1m88/88\u001b[0m \u001b[32m━━━━━━━━━━━━━━━━━━━━\u001b[0m\u001b[37m\u001b[0m \u001b[1m0s\u001b[0m 3ms/step - loss: 4.3422e-04 - mae: 0.0145 - mape: 4267.8228 - mse: 4.3422e-04 - val_loss: 8.4681e-04 - val_mae: 0.0211 - val_mape: 4.2289 - val_mse: 8.4681e-04\n",
      "Epoch 20/50\n",
      "\u001b[1m88/88\u001b[0m \u001b[32m━━━━━━━━━━━━━━━━━━━━\u001b[0m\u001b[37m\u001b[0m \u001b[1m0s\u001b[0m 3ms/step - loss: 4.2939e-04 - mae: 0.0143 - mape: 10958.9209 - mse: 4.2939e-04 - val_loss: 8.3325e-04 - val_mae: 0.0206 - val_mape: 4.1418 - val_mse: 8.3325e-04\n",
      "Epoch 21/50\n",
      "\u001b[1m88/88\u001b[0m \u001b[32m━━━━━━━━━━━━━━━━━━━━\u001b[0m\u001b[37m\u001b[0m \u001b[1m0s\u001b[0m 3ms/step - loss: 3.7509e-04 - mae: 0.0136 - mape: 3240.0779 - mse: 3.7509e-04 - val_loss: 8.0935e-04 - val_mae: 0.0202 - val_mape: 4.0692 - val_mse: 8.0935e-04\n",
      "Epoch 22/50\n",
      "\u001b[1m88/88\u001b[0m \u001b[32m━━━━━━━━━━━━━━━━━━━━\u001b[0m\u001b[37m\u001b[0m \u001b[1m0s\u001b[0m 5ms/step - loss: 5.0954e-04 - mae: 0.0146 - mape: 12595.4355 - mse: 5.0954e-04 - val_loss: 7.9199e-04 - val_mae: 0.0199 - val_mape: 4.0190 - val_mse: 7.9199e-04\n",
      "Epoch 23/50\n",
      "\u001b[1m88/88\u001b[0m \u001b[32m━━━━━━━━━━━━━━━━━━━━\u001b[0m\u001b[37m\u001b[0m \u001b[1m0s\u001b[0m 3ms/step - loss: 4.4713e-04 - mae: 0.0146 - mape: 4188.0820 - mse: 4.4713e-04 - val_loss: 7.8392e-04 - val_mae: 0.0198 - val_mape: 3.9962 - val_mse: 7.8392e-04\n",
      "Epoch 24/50\n",
      "\u001b[1m88/88\u001b[0m \u001b[32m━━━━━━━━━━━━━━━━━━━━\u001b[0m\u001b[37m\u001b[0m \u001b[1m0s\u001b[0m 3ms/step - loss: 3.8482e-04 - mae: 0.0136 - mape: 5112.4219 - mse: 3.8482e-04 - val_loss: 8.0505e-04 - val_mae: 0.0202 - val_mape: 4.0546 - val_mse: 8.0505e-04\n",
      "Epoch 25/50\n",
      "\u001b[1m88/88\u001b[0m \u001b[32m━━━━━━━━━━━━━━━━━━━━\u001b[0m\u001b[37m\u001b[0m \u001b[1m0s\u001b[0m 2ms/step - loss: 4.0139e-04 - mae: 0.0142 - mape: 2479.0767 - mse: 4.0139e-04 - val_loss: 7.5709e-04 - val_mae: 0.0194 - val_mape: 3.9086 - val_mse: 7.5709e-04\n",
      "Epoch 26/50\n",
      "\u001b[1m88/88\u001b[0m \u001b[32m━━━━━━━━━━━━━━━━━━━━\u001b[0m\u001b[37m\u001b[0m \u001b[1m0s\u001b[0m 2ms/step - loss: 3.7972e-04 - mae: 0.0139 - mape: 893.3138 - mse: 3.7972e-04 - val_loss: 7.1705e-04 - val_mae: 0.0188 - val_mape: 3.7867 - val_mse: 7.1705e-04\n",
      "Epoch 27/50\n",
      "\u001b[1m88/88\u001b[0m \u001b[32m━━━━━━━━━━━━━━━━━━━━\u001b[0m\u001b[37m\u001b[0m \u001b[1m0s\u001b[0m 3ms/step - loss: 4.0403e-04 - mae: 0.0136 - mape: 9373.0234 - mse: 4.0403e-04 - val_loss: 7.3477e-04 - val_mae: 0.0191 - val_mape: 3.8355 - val_mse: 7.3477e-04\n",
      "Epoch 28/50\n",
      "\u001b[1m88/88\u001b[0m \u001b[32m━━━━━━━━━━━━━━━━━━━━\u001b[0m\u001b[37m\u001b[0m \u001b[1m0s\u001b[0m 2ms/step - loss: 3.6769e-04 - mae: 0.0136 - mape: 752.3583 - mse: 3.6769e-04 - val_loss: 7.0722e-04 - val_mae: 0.0187 - val_mape: 3.7588 - val_mse: 7.0722e-04\n",
      "Epoch 29/50\n",
      "\u001b[1m88/88\u001b[0m \u001b[32m━━━━━━━━━━━━━━━━━━━━\u001b[0m\u001b[37m\u001b[0m \u001b[1m0s\u001b[0m 3ms/step - loss: 3.5758e-04 - mae: 0.0137 - mape: 173.1275 - mse: 3.5758e-04 - val_loss: 6.9263e-04 - val_mae: 0.0185 - val_mape: 3.7091 - val_mse: 6.9263e-04\n",
      "Epoch 30/50\n",
      "\u001b[1m88/88\u001b[0m \u001b[32m━━━━━━━━━━━━━━━━━━━━\u001b[0m\u001b[37m\u001b[0m \u001b[1m0s\u001b[0m 5ms/step - loss: 3.3514e-04 - mae: 0.0132 - mape: 5020.6611 - mse: 3.3514e-04 - val_loss: 7.2115e-04 - val_mae: 0.0189 - val_mape: 3.7928 - val_mse: 7.2115e-04\n",
      "Epoch 31/50\n",
      "\u001b[1m88/88\u001b[0m \u001b[32m━━━━━━━━━━━━━━━━━━━━\u001b[0m\u001b[37m\u001b[0m \u001b[1m0s\u001b[0m 4ms/step - loss: 3.9652e-04 - mae: 0.0136 - mape: 4218.9438 - mse: 3.9652e-04 - val_loss: 6.7280e-04 - val_mae: 0.0182 - val_mape: 3.6512 - val_mse: 6.7280e-04\n",
      "Epoch 32/50\n",
      "\u001b[1m88/88\u001b[0m \u001b[32m━━━━━━━━━━━━━━━━━━━━\u001b[0m\u001b[37m\u001b[0m \u001b[1m0s\u001b[0m 3ms/step - loss: 3.5410e-04 - mae: 0.0135 - mape: 2915.6799 - mse: 3.5410e-04 - val_loss: 6.7945e-04 - val_mae: 0.0183 - val_mape: 3.6703 - val_mse: 6.7945e-04\n",
      "Epoch 33/50\n",
      "\u001b[1m88/88\u001b[0m \u001b[32m━━━━━━━━━━━━━━━━━━━━\u001b[0m\u001b[37m\u001b[0m \u001b[1m0s\u001b[0m 2ms/step - loss: 3.6347e-04 - mae: 0.0133 - mape: 12583.6826 - mse: 3.6347e-04 - val_loss: 6.5504e-04 - val_mae: 0.0180 - val_mape: 3.6094 - val_mse: 6.5504e-04\n",
      "Epoch 34/50\n",
      "\u001b[1m88/88\u001b[0m \u001b[32m━━━━━━━━━━━━━━━━━━━━\u001b[0m\u001b[37m\u001b[0m \u001b[1m0s\u001b[0m 2ms/step - loss: 3.6511e-04 - mae: 0.0131 - mape: 293.3113 - mse: 3.6511e-04 - val_loss: 6.6241e-04 - val_mae: 0.0181 - val_mape: 3.6226 - val_mse: 6.6241e-04\n",
      "Epoch 35/50\n",
      "\u001b[1m88/88\u001b[0m \u001b[32m━━━━━━━━━━━━━━━━━━━━\u001b[0m\u001b[37m\u001b[0m \u001b[1m0s\u001b[0m 3ms/step - loss: 3.4900e-04 - mae: 0.0131 - mape: 4691.7354 - mse: 3.4900e-04 - val_loss: 6.3556e-04 - val_mae: 0.0178 - val_mape: 3.5587 - val_mse: 6.3556e-04\n",
      "Epoch 36/50\n",
      "\u001b[1m88/88\u001b[0m \u001b[32m━━━━━━━━━━━━━━━━━━━━\u001b[0m\u001b[37m\u001b[0m \u001b[1m0s\u001b[0m 3ms/step - loss: 3.3734e-04 - mae: 0.0130 - mape: 3056.5779 - mse: 3.3734e-04 - val_loss: 6.6674e-04 - val_mae: 0.0181 - val_mape: 3.6292 - val_mse: 6.6674e-04\n",
      "Epoch 37/50\n",
      "\u001b[1m88/88\u001b[0m \u001b[32m━━━━━━━━━━━━━━━━━━━━\u001b[0m\u001b[37m\u001b[0m \u001b[1m0s\u001b[0m 3ms/step - loss: 4.2603e-04 - mae: 0.0133 - mape: 491.5096 - mse: 4.2603e-04 - val_loss: 6.2695e-04 - val_mae: 0.0176 - val_mape: 3.5294 - val_mse: 6.2695e-04\n",
      "Epoch 38/50\n",
      "\u001b[1m88/88\u001b[0m \u001b[32m━━━━━━━━━━━━━━━━━━━━\u001b[0m\u001b[37m\u001b[0m \u001b[1m0s\u001b[0m 3ms/step - loss: 3.3680e-04 - mae: 0.0131 - mape: 8818.0439 - mse: 3.3680e-04 - val_loss: 6.2419e-04 - val_mae: 0.0177 - val_mape: 3.5362 - val_mse: 6.2419e-04\n",
      "Epoch 39/50\n",
      "\u001b[1m88/88\u001b[0m \u001b[32m━━━━━━━━━━━━━━━━━━━━\u001b[0m\u001b[37m\u001b[0m \u001b[1m0s\u001b[0m 3ms/step - loss: 3.3415e-04 - mae: 0.0129 - mape: 548.8097 - mse: 3.3415e-04 - val_loss: 6.2532e-04 - val_mae: 0.0175 - val_mape: 3.5144 - val_mse: 6.2532e-04\n",
      "Epoch 40/50\n",
      "\u001b[1m88/88\u001b[0m \u001b[32m━━━━━━━━━━━━━━━━━━━━\u001b[0m\u001b[37m\u001b[0m \u001b[1m0s\u001b[0m 3ms/step - loss: 3.9239e-04 - mae: 0.0127 - mape: 2229.2478 - mse: 3.9239e-04 - val_loss: 6.0763e-04 - val_mae: 0.0174 - val_mape: 3.4816 - val_mse: 6.0763e-04\n",
      "Epoch 41/50\n",
      "\u001b[1m88/88\u001b[0m \u001b[32m━━━━━━━━━━━━━━━━━━━━\u001b[0m\u001b[37m\u001b[0m \u001b[1m0s\u001b[0m 3ms/step - loss: 3.5700e-04 - mae: 0.0135 - mape: 7328.1445 - mse: 3.5700e-04 - val_loss: 6.0092e-04 - val_mae: 0.0173 - val_mape: 3.4501 - val_mse: 6.0092e-04\n",
      "Epoch 42/50\n",
      "\u001b[1m88/88\u001b[0m \u001b[32m━━━━━━━━━━━━━━━━━━━━\u001b[0m\u001b[37m\u001b[0m \u001b[1m0s\u001b[0m 2ms/step - loss: 3.5182e-04 - mae: 0.0129 - mape: 3634.7908 - mse: 3.5182e-04 - val_loss: 5.9950e-04 - val_mae: 0.0172 - val_mape: 3.4448 - val_mse: 5.9950e-04\n",
      "Epoch 43/50\n",
      "\u001b[1m88/88\u001b[0m \u001b[32m━━━━━━━━━━━━━━━━━━━━\u001b[0m\u001b[37m\u001b[0m \u001b[1m0s\u001b[0m 3ms/step - loss: 3.9446e-04 - mae: 0.0132 - mape: 12153.8584 - mse: 3.9446e-04 - val_loss: 6.6521e-04 - val_mae: 0.0184 - val_mape: 3.6610 - val_mse: 6.6521e-04\n",
      "Epoch 44/50\n",
      "\u001b[1m88/88\u001b[0m \u001b[32m━━━━━━━━━━━━━━━━━━━━\u001b[0m\u001b[37m\u001b[0m \u001b[1m0s\u001b[0m 2ms/step - loss: 3.0649e-04 - mae: 0.0125 - mape: 4840.6929 - mse: 3.0649e-04 - val_loss: 5.9990e-04 - val_mae: 0.0176 - val_mape: 3.5020 - val_mse: 5.9990e-04\n",
      "Epoch 45/50\n",
      "\u001b[1m88/88\u001b[0m \u001b[32m━━━━━━━━━━━━━━━━━━━━\u001b[0m\u001b[37m\u001b[0m \u001b[1m0s\u001b[0m 3ms/step - loss: 5.0248e-04 - mae: 0.0138 - mape: 3408.5500 - mse: 5.0248e-04 - val_loss: 5.9081e-04 - val_mae: 0.0171 - val_mape: 3.4272 - val_mse: 5.9081e-04\n",
      "Epoch 46/50\n",
      "\u001b[1m88/88\u001b[0m \u001b[32m━━━━━━━━━━━━━━━━━━━━\u001b[0m\u001b[37m\u001b[0m \u001b[1m0s\u001b[0m 3ms/step - loss: 3.3460e-04 - mae: 0.0127 - mape: 2141.0667 - mse: 3.3460e-04 - val_loss: 6.4336e-04 - val_mae: 0.0181 - val_mape: 3.5944 - val_mse: 6.4336e-04\n",
      "Epoch 47/50\n",
      "\u001b[1m88/88\u001b[0m \u001b[32m━━━━━━━━━━━━━━━━━━━━\u001b[0m\u001b[37m\u001b[0m \u001b[1m0s\u001b[0m 2ms/step - loss: 3.3172e-04 - mae: 0.0125 - mape: 8036.3672 - mse: 3.3172e-04 - val_loss: 5.7397e-04 - val_mae: 0.0169 - val_mape: 3.3835 - val_mse: 5.7397e-04\n",
      "Epoch 48/50\n",
      "\u001b[1m88/88\u001b[0m \u001b[32m━━━━━━━━━━━━━━━━━━━━\u001b[0m\u001b[37m\u001b[0m \u001b[1m0s\u001b[0m 3ms/step - loss: 3.1711e-04 - mae: 0.0125 - mape: 4762.8184 - mse: 3.1711e-04 - val_loss: 6.1912e-04 - val_mae: 0.0178 - val_mape: 3.5430 - val_mse: 6.1912e-04\n",
      "Epoch 49/50\n",
      "\u001b[1m88/88\u001b[0m \u001b[32m━━━━━━━━━━━━━━━━━━━━\u001b[0m\u001b[37m\u001b[0m \u001b[1m0s\u001b[0m 3ms/step - loss: 3.3902e-04 - mae: 0.0123 - mape: 1568.7338 - mse: 3.3902e-04 - val_loss: 5.9473e-04 - val_mae: 0.0174 - val_mape: 3.4657 - val_mse: 5.9473e-04\n",
      "Epoch 50/50\n",
      "\u001b[1m88/88\u001b[0m \u001b[32m━━━━━━━━━━━━━━━━━━━━\u001b[0m\u001b[37m\u001b[0m \u001b[1m0s\u001b[0m 2ms/step - loss: 3.3176e-04 - mae: 0.0127 - mape: 3049.4946 - mse: 3.3176e-04 - val_loss: 5.8470e-04 - val_mae: 0.0172 - val_mape: 3.4367 - val_mse: 5.8470e-04\n"
     ]
    },
    {
     "name": "stderr",
     "output_type": "stream",
     "text": [
      "WARNING:absl:You are saving your model as an HDF5 file via `model.save()` or `keras.saving.save_model(model)`. This file format is considered legacy. We recommend using instead the native Keras format, e.g. `model.save('my_model.keras')` or `keras.saving.save_model(model, 'my_model.keras')`. \n"
     ]
    },
    {
     "name": "stdout",
     "output_type": "stream",
     "text": [
      "\u001b[1m22/22\u001b[0m \u001b[32m━━━━━━━━━━━━━━━━━━━━\u001b[0m\u001b[37m\u001b[0m \u001b[1m0s\u001b[0m 9ms/step\n",
      "model_1: Processando ITUB4 | Combinação 5...\n",
      "Epoch 1/50\n",
      "\u001b[1m90/90\u001b[0m \u001b[32m━━━━━━━━━━━━━━━━━━━━\u001b[0m\u001b[37m\u001b[0m \u001b[1m3s\u001b[0m 6ms/step - loss: 0.1714 - mae: 0.3215 - mape: 97798.7266 - mse: 0.1714 - val_loss: 0.0409 - val_mae: 0.1712 - val_mape: 25.6035 - val_mse: 0.0409\n",
      "Epoch 2/50\n",
      "\u001b[1m90/90\u001b[0m \u001b[32m━━━━━━━━━━━━━━━━━━━━\u001b[0m\u001b[37m\u001b[0m \u001b[1m0s\u001b[0m 3ms/step - loss: 0.0283 - mae: 0.1392 - mape: 154689.9375 - mse: 0.0283 - val_loss: 0.0139 - val_mae: 0.0955 - val_mape: 14.2034 - val_mse: 0.0139\n",
      "Epoch 3/50\n",
      "\u001b[1m90/90\u001b[0m \u001b[32m━━━━━━━━━━━━━━━━━━━━\u001b[0m\u001b[37m\u001b[0m \u001b[1m0s\u001b[0m 3ms/step - loss: 0.0095 - mae: 0.0782 - mape: 71442.2266 - mse: 0.0095 - val_loss: 0.0038 - val_mae: 0.0495 - val_mape: 8.0150 - val_mse: 0.0038\n",
      "Epoch 4/50\n",
      "\u001b[1m90/90\u001b[0m \u001b[32m━━━━━━━━━━━━━━━━━━━━\u001b[0m\u001b[37m\u001b[0m \u001b[1m0s\u001b[0m 3ms/step - loss: 0.0025 - mae: 0.0374 - mape: 15704.5488 - mse: 0.0025 - val_loss: 0.0021 - val_mae: 0.0357 - val_mape: 6.1574 - val_mse: 0.0021\n",
      "Epoch 5/50\n",
      "\u001b[1m90/90\u001b[0m \u001b[32m━━━━━━━━━━━━━━━━━━━━\u001b[0m\u001b[37m\u001b[0m \u001b[1m0s\u001b[0m 2ms/step - loss: 0.0011 - mae: 0.0249 - mape: 74095.1484 - mse: 0.0011 - val_loss: 0.0013 - val_mae: 0.0276 - val_mape: 4.7103 - val_mse: 0.0013\n",
      "Epoch 6/50\n",
      "\u001b[1m90/90\u001b[0m \u001b[32m━━━━━━━━━━━━━━━━━━━━\u001b[0m\u001b[37m\u001b[0m \u001b[1m0s\u001b[0m 3ms/step - loss: 5.9880e-04 - mae: 0.0187 - mape: 100987.6406 - mse: 5.9880e-04 - val_loss: 0.0011 - val_mae: 0.0243 - val_mape: 4.1351 - val_mse: 0.0011\n",
      "Epoch 7/50\n",
      "\u001b[1m90/90\u001b[0m \u001b[32m━━━━━━━━━━━━━━━━━━━━\u001b[0m\u001b[37m\u001b[0m \u001b[1m0s\u001b[0m 3ms/step - loss: 4.0093e-04 - mae: 0.0152 - mape: 81873.9453 - mse: 4.0093e-04 - val_loss: 9.9825e-04 - val_mae: 0.0230 - val_mape: 3.9244 - val_mse: 9.9825e-04\n",
      "Epoch 8/50\n",
      "\u001b[1m90/90\u001b[0m \u001b[32m━━━━━━━━━━━━━━━━━━━━\u001b[0m\u001b[37m\u001b[0m \u001b[1m0s\u001b[0m 3ms/step - loss: 3.2945e-04 - mae: 0.0135 - mape: 76627.1016 - mse: 3.2945e-04 - val_loss: 9.4480e-04 - val_mae: 0.0224 - val_mape: 3.8158 - val_mse: 9.4480e-04\n",
      "Epoch 9/50\n",
      "\u001b[1m90/90\u001b[0m \u001b[32m━━━━━━━━━━━━━━━━━━━━\u001b[0m\u001b[37m\u001b[0m \u001b[1m0s\u001b[0m 3ms/step - loss: 3.1089e-04 - mae: 0.0132 - mape: 39979.0742 - mse: 3.1089e-04 - val_loss: 9.0650e-04 - val_mae: 0.0219 - val_mape: 3.7361 - val_mse: 9.0650e-04\n",
      "Epoch 10/50\n",
      "\u001b[1m90/90\u001b[0m \u001b[32m━━━━━━━━━━━━━━━━━━━━\u001b[0m\u001b[37m\u001b[0m \u001b[1m0s\u001b[0m 2ms/step - loss: 3.0193e-04 - mae: 0.0129 - mape: 59422.7188 - mse: 3.0193e-04 - val_loss: 8.7832e-04 - val_mae: 0.0215 - val_mape: 3.6784 - val_mse: 8.7832e-04\n",
      "Epoch 11/50\n",
      "\u001b[1m90/90\u001b[0m \u001b[32m━━━━━━━━━━━━━━━━━━━━\u001b[0m\u001b[37m\u001b[0m \u001b[1m0s\u001b[0m 2ms/step - loss: 2.9941e-04 - mae: 0.0130 - mape: 28394.1309 - mse: 2.9941e-04 - val_loss: 8.6487e-04 - val_mae: 0.0214 - val_mape: 3.6569 - val_mse: 8.6487e-04\n",
      "Epoch 12/50\n",
      "\u001b[1m90/90\u001b[0m \u001b[32m━━━━━━━━━━━━━━━━━━━━\u001b[0m\u001b[37m\u001b[0m \u001b[1m0s\u001b[0m 3ms/step - loss: 2.9711e-04 - mae: 0.0128 - mape: 9895.7881 - mse: 2.9711e-04 - val_loss: 8.3553e-04 - val_mae: 0.0209 - val_mape: 3.5761 - val_mse: 8.3553e-04\n",
      "Epoch 13/50\n",
      "\u001b[1m90/90\u001b[0m \u001b[32m━━━━━━━━━━━━━━━━━━━━\u001b[0m\u001b[37m\u001b[0m \u001b[1m0s\u001b[0m 3ms/step - loss: 2.6815e-04 - mae: 0.0124 - mape: 24761.0742 - mse: 2.6815e-04 - val_loss: 8.1994e-04 - val_mae: 0.0207 - val_mape: 3.5341 - val_mse: 8.1994e-04\n",
      "Epoch 14/50\n",
      "\u001b[1m90/90\u001b[0m \u001b[32m━━━━━━━━━━━━━━━━━━━━\u001b[0m\u001b[37m\u001b[0m \u001b[1m0s\u001b[0m 3ms/step - loss: 2.8722e-04 - mae: 0.0127 - mape: 19700.8262 - mse: 2.8722e-04 - val_loss: 8.2358e-04 - val_mae: 0.0208 - val_mape: 3.5523 - val_mse: 8.2358e-04\n",
      "Epoch 15/50\n",
      "\u001b[1m90/90\u001b[0m \u001b[32m━━━━━━━━━━━━━━━━━━━━\u001b[0m\u001b[37m\u001b[0m \u001b[1m0s\u001b[0m 2ms/step - loss: 2.8951e-04 - mae: 0.0128 - mape: 17277.8281 - mse: 2.8951e-04 - val_loss: 8.0767e-04 - val_mae: 0.0205 - val_mape: 3.5028 - val_mse: 8.0767e-04\n",
      "Epoch 16/50\n",
      "\u001b[1m90/90\u001b[0m \u001b[32m━━━━━━━━━━━━━━━━━━━━\u001b[0m\u001b[37m\u001b[0m \u001b[1m0s\u001b[0m 4ms/step - loss: 2.5352e-04 - mae: 0.0120 - mape: 48279.3711 - mse: 2.5352e-04 - val_loss: 7.7749e-04 - val_mae: 0.0200 - val_mape: 3.4183 - val_mse: 7.7749e-04\n",
      "Epoch 17/50\n",
      "\u001b[1m90/90\u001b[0m \u001b[32m━━━━━━━━━━━━━━━━━━━━\u001b[0m\u001b[37m\u001b[0m \u001b[1m0s\u001b[0m 3ms/step - loss: 2.7008e-04 - mae: 0.0123 - mape: 35594.9258 - mse: 2.7008e-04 - val_loss: 7.8347e-04 - val_mae: 0.0202 - val_mape: 3.4342 - val_mse: 7.8347e-04\n",
      "Epoch 18/50\n",
      "\u001b[1m90/90\u001b[0m \u001b[32m━━━━━━━━━━━━━━━━━━━━\u001b[0m\u001b[37m\u001b[0m \u001b[1m0s\u001b[0m 2ms/step - loss: 2.6149e-04 - mae: 0.0122 - mape: 44961.4062 - mse: 2.6149e-04 - val_loss: 7.6078e-04 - val_mae: 0.0197 - val_mape: 3.3709 - val_mse: 7.6078e-04\n",
      "Epoch 19/50\n",
      "\u001b[1m90/90\u001b[0m \u001b[32m━━━━━━━━━━━━━━━━━━━━\u001b[0m\u001b[37m\u001b[0m \u001b[1m0s\u001b[0m 3ms/step - loss: 2.5038e-04 - mae: 0.0119 - mape: 29613.4102 - mse: 2.5038e-04 - val_loss: 7.4734e-04 - val_mae: 0.0195 - val_mape: 3.3336 - val_mse: 7.4734e-04\n",
      "Epoch 20/50\n",
      "\u001b[1m90/90\u001b[0m \u001b[32m━━━━━━━━━━━━━━━━━━━━\u001b[0m\u001b[37m\u001b[0m \u001b[1m0s\u001b[0m 3ms/step - loss: 2.3563e-04 - mae: 0.0115 - mape: 19533.2441 - mse: 2.3563e-04 - val_loss: 7.3675e-04 - val_mae: 0.0193 - val_mape: 3.3026 - val_mse: 7.3675e-04\n",
      "Epoch 21/50\n",
      "\u001b[1m90/90\u001b[0m \u001b[32m━━━━━━━━━━━━━━━━━━━━\u001b[0m\u001b[37m\u001b[0m \u001b[1m0s\u001b[0m 3ms/step - loss: 2.6137e-04 - mae: 0.0120 - mape: 44553.4297 - mse: 2.6137e-04 - val_loss: 7.3278e-04 - val_mae: 0.0193 - val_mape: 3.2912 - val_mse: 7.3278e-04\n",
      "Epoch 22/50\n",
      "\u001b[1m90/90\u001b[0m \u001b[32m━━━━━━━━━━━━━━━━━━━━\u001b[0m\u001b[37m\u001b[0m \u001b[1m0s\u001b[0m 3ms/step - loss: 2.5520e-04 - mae: 0.0118 - mape: 7900.3140 - mse: 2.5520e-04 - val_loss: 7.1292e-04 - val_mae: 0.0189 - val_mape: 3.2349 - val_mse: 7.1292e-04\n",
      "Epoch 23/50\n",
      "\u001b[1m90/90\u001b[0m \u001b[32m━━━━━━━━━━━━━━━━━━━━\u001b[0m\u001b[37m\u001b[0m \u001b[1m0s\u001b[0m 3ms/step - loss: 2.4167e-04 - mae: 0.0116 - mape: 82530.1328 - mse: 2.4167e-04 - val_loss: 7.0207e-04 - val_mae: 0.0188 - val_mape: 3.2021 - val_mse: 7.0207e-04\n",
      "Epoch 24/50\n",
      "\u001b[1m90/90\u001b[0m \u001b[32m━━━━━━━━━━━━━━━━━━━━\u001b[0m\u001b[37m\u001b[0m \u001b[1m0s\u001b[0m 2ms/step - loss: 2.5066e-04 - mae: 0.0117 - mape: 28683.5176 - mse: 2.5066e-04 - val_loss: 7.0786e-04 - val_mae: 0.0189 - val_mape: 3.2294 - val_mse: 7.0786e-04\n",
      "Epoch 25/50\n",
      "\u001b[1m90/90\u001b[0m \u001b[32m━━━━━━━━━━━━━━━━━━━━\u001b[0m\u001b[37m\u001b[0m \u001b[1m0s\u001b[0m 2ms/step - loss: 2.4998e-04 - mae: 0.0118 - mape: 105262.8125 - mse: 2.4998e-04 - val_loss: 6.8840e-04 - val_mae: 0.0186 - val_mape: 3.1690 - val_mse: 6.8840e-04\n",
      "Epoch 26/50\n",
      "\u001b[1m90/90\u001b[0m \u001b[32m━━━━━━━━━━━━━━━━━━━━\u001b[0m\u001b[37m\u001b[0m \u001b[1m0s\u001b[0m 3ms/step - loss: 2.2426e-04 - mae: 0.0111 - mape: 35042.5234 - mse: 2.2426e-04 - val_loss: 6.7362e-04 - val_mae: 0.0183 - val_mape: 3.1231 - val_mse: 6.7362e-04\n",
      "Epoch 27/50\n",
      "\u001b[1m90/90\u001b[0m \u001b[32m━━━━━━━━━━━━━━━━━━━━\u001b[0m\u001b[37m\u001b[0m \u001b[1m0s\u001b[0m 2ms/step - loss: 2.3907e-04 - mae: 0.0116 - mape: 72848.6094 - mse: 2.3907e-04 - val_loss: 6.7672e-04 - val_mae: 0.0184 - val_mape: 3.1410 - val_mse: 6.7672e-04\n",
      "Epoch 28/50\n",
      "\u001b[1m90/90\u001b[0m \u001b[32m━━━━━━━━━━━━━━━━━━━━\u001b[0m\u001b[37m\u001b[0m \u001b[1m0s\u001b[0m 2ms/step - loss: 2.3750e-04 - mae: 0.0114 - mape: 24263.6348 - mse: 2.3750e-04 - val_loss: 6.6309e-04 - val_mae: 0.0181 - val_mape: 3.0986 - val_mse: 6.6309e-04\n",
      "Epoch 29/50\n",
      "\u001b[1m90/90\u001b[0m \u001b[32m━━━━━━━━━━━━━━━━━━━━\u001b[0m\u001b[37m\u001b[0m \u001b[1m0s\u001b[0m 3ms/step - loss: 2.5310e-04 - mae: 0.0116 - mape: 86587.1016 - mse: 2.5310e-04 - val_loss: 6.5040e-04 - val_mae: 0.0179 - val_mape: 3.0518 - val_mse: 6.5040e-04\n",
      "Epoch 30/50\n",
      "\u001b[1m90/90\u001b[0m \u001b[32m━━━━━━━━━━━━━━━━━━━━\u001b[0m\u001b[37m\u001b[0m \u001b[1m0s\u001b[0m 2ms/step - loss: 2.3200e-04 - mae: 0.0113 - mape: 14563.4395 - mse: 2.3200e-04 - val_loss: 6.5634e-04 - val_mae: 0.0183 - val_mape: 3.0949 - val_mse: 6.5634e-04\n",
      "Epoch 31/50\n",
      "\u001b[1m90/90\u001b[0m \u001b[32m━━━━━━━━━━━━━━━━━━━━\u001b[0m\u001b[37m\u001b[0m \u001b[1m0s\u001b[0m 2ms/step - loss: 2.3187e-04 - mae: 0.0112 - mape: 25888.9199 - mse: 2.3187e-04 - val_loss: 6.3390e-04 - val_mae: 0.0177 - val_mape: 3.0120 - val_mse: 6.3390e-04\n",
      "Epoch 32/50\n",
      "\u001b[1m90/90\u001b[0m \u001b[32m━━━━━━━━━━━━━━━━━━━━\u001b[0m\u001b[37m\u001b[0m \u001b[1m0s\u001b[0m 4ms/step - loss: 2.3264e-04 - mae: 0.0111 - mape: 39879.2227 - mse: 2.3264e-04 - val_loss: 6.4034e-04 - val_mae: 0.0178 - val_mape: 3.0453 - val_mse: 6.4034e-04\n",
      "Epoch 33/50\n",
      "\u001b[1m90/90\u001b[0m \u001b[32m━━━━━━━━━━━━━━━━━━━━\u001b[0m\u001b[37m\u001b[0m \u001b[1m0s\u001b[0m 2ms/step - loss: 2.1453e-04 - mae: 0.0110 - mape: 29400.5742 - mse: 2.1453e-04 - val_loss: 6.4087e-04 - val_mae: 0.0179 - val_mape: 3.0647 - val_mse: 6.4087e-04\n",
      "Epoch 34/50\n",
      "\u001b[1m90/90\u001b[0m \u001b[32m━━━━━━━━━━━━━━━━━━━━\u001b[0m\u001b[37m\u001b[0m \u001b[1m0s\u001b[0m 3ms/step - loss: 2.3529e-04 - mae: 0.0114 - mape: 76564.9766 - mse: 2.3529e-04 - val_loss: 6.1613e-04 - val_mae: 0.0174 - val_mape: 2.9735 - val_mse: 6.1613e-04\n",
      "Epoch 35/50\n",
      "\u001b[1m90/90\u001b[0m \u001b[32m━━━━━━━━━━━━━━━━━━━━\u001b[0m\u001b[37m\u001b[0m \u001b[1m0s\u001b[0m 3ms/step - loss: 2.3937e-04 - mae: 0.0115 - mape: 143214.2344 - mse: 2.3937e-04 - val_loss: 6.0738e-04 - val_mae: 0.0172 - val_mape: 2.9326 - val_mse: 6.0738e-04\n",
      "Epoch 36/50\n",
      "\u001b[1m90/90\u001b[0m \u001b[32m━━━━━━━━━━━━━━━━━━━━\u001b[0m\u001b[37m\u001b[0m \u001b[1m0s\u001b[0m 3ms/step - loss: 2.3268e-04 - mae: 0.0112 - mape: 62162.2500 - mse: 2.3268e-04 - val_loss: 6.6052e-04 - val_mae: 0.0183 - val_mape: 3.1447 - val_mse: 6.6052e-04\n",
      "Epoch 37/50\n",
      "\u001b[1m90/90\u001b[0m \u001b[32m━━━━━━━━━━━━━━━━━━━━\u001b[0m\u001b[37m\u001b[0m \u001b[1m0s\u001b[0m 2ms/step - loss: 2.2340e-04 - mae: 0.0111 - mape: 46241.9102 - mse: 2.2340e-04 - val_loss: 6.0310e-04 - val_mae: 0.0175 - val_mape: 2.9549 - val_mse: 6.0310e-04\n",
      "Epoch 38/50\n",
      "\u001b[1m90/90\u001b[0m \u001b[32m━━━━━━━━━━━━━━━━━━━━\u001b[0m\u001b[37m\u001b[0m \u001b[1m0s\u001b[0m 3ms/step - loss: 2.3572e-04 - mae: 0.0114 - mape: 20806.6855 - mse: 2.3572e-04 - val_loss: 5.8560e-04 - val_mae: 0.0171 - val_mape: 2.8928 - val_mse: 5.8560e-04\n",
      "Epoch 39/50\n",
      "\u001b[1m90/90\u001b[0m \u001b[32m━━━━━━━━━━━━━━━━━━━━\u001b[0m\u001b[37m\u001b[0m \u001b[1m0s\u001b[0m 3ms/step - loss: 2.2452e-04 - mae: 0.0112 - mape: 82898.8281 - mse: 2.2452e-04 - val_loss: 5.6889e-04 - val_mae: 0.0167 - val_mape: 2.8401 - val_mse: 5.6889e-04\n",
      "Epoch 40/50\n",
      "\u001b[1m90/90\u001b[0m \u001b[32m━━━━━━━━━━━━━━━━━━━━\u001b[0m\u001b[37m\u001b[0m \u001b[1m0s\u001b[0m 2ms/step - loss: 2.1517e-04 - mae: 0.0108 - mape: 90293.4453 - mse: 2.1517e-04 - val_loss: 5.7421e-04 - val_mae: 0.0168 - val_mape: 2.8547 - val_mse: 5.7421e-04\n",
      "Epoch 41/50\n",
      "\u001b[1m90/90\u001b[0m \u001b[32m━━━━━━━━━━━━━━━━━━━━\u001b[0m\u001b[37m\u001b[0m \u001b[1m0s\u001b[0m 2ms/step - loss: 2.2992e-04 - mae: 0.0111 - mape: 30102.8867 - mse: 2.2992e-04 - val_loss: 6.2270e-04 - val_mae: 0.0177 - val_mape: 3.0278 - val_mse: 6.2270e-04\n",
      "Epoch 42/50\n",
      "\u001b[1m90/90\u001b[0m \u001b[32m━━━━━━━━━━━━━━━━━━━━\u001b[0m\u001b[37m\u001b[0m \u001b[1m0s\u001b[0m 2ms/step - loss: 2.2846e-04 - mae: 0.0112 - mape: 28840.2715 - mse: 2.2846e-04 - val_loss: 5.6652e-04 - val_mae: 0.0167 - val_mape: 2.8451 - val_mse: 5.6652e-04\n",
      "Epoch 43/50\n",
      "\u001b[1m90/90\u001b[0m \u001b[32m━━━━━━━━━━━━━━━━━━━━\u001b[0m\u001b[37m\u001b[0m \u001b[1m0s\u001b[0m 2ms/step - loss: 2.1394e-04 - mae: 0.0107 - mape: 35227.1680 - mse: 2.1394e-04 - val_loss: 5.9255e-04 - val_mae: 0.0172 - val_mape: 2.9437 - val_mse: 5.9255e-04\n",
      "Epoch 44/50\n",
      "\u001b[1m90/90\u001b[0m \u001b[32m━━━━━━━━━━━━━━━━━━━━\u001b[0m\u001b[37m\u001b[0m \u001b[1m0s\u001b[0m 2ms/step - loss: 2.0423e-04 - mae: 0.0106 - mape: 50914.8086 - mse: 2.0423e-04 - val_loss: 5.4945e-04 - val_mae: 0.0164 - val_mape: 2.7981 - val_mse: 5.4945e-04\n",
      "Epoch 45/50\n",
      "\u001b[1m90/90\u001b[0m \u001b[32m━━━━━━━━━━━━━━━━━━━━\u001b[0m\u001b[37m\u001b[0m \u001b[1m0s\u001b[0m 2ms/step - loss: 2.2281e-04 - mae: 0.0111 - mape: 18776.3398 - mse: 2.2281e-04 - val_loss: 5.3897e-04 - val_mae: 0.0164 - val_mape: 2.7709 - val_mse: 5.3897e-04\n",
      "Epoch 46/50\n",
      "\u001b[1m90/90\u001b[0m \u001b[32m━━━━━━━━━━━━━━━━━━━━\u001b[0m\u001b[37m\u001b[0m \u001b[1m0s\u001b[0m 3ms/step - loss: 2.0596e-04 - mae: 0.0105 - mape: 43586.3516 - mse: 2.0596e-04 - val_loss: 5.3755e-04 - val_mae: 0.0162 - val_mape: 2.7571 - val_mse: 5.3755e-04\n",
      "Epoch 47/50\n",
      "\u001b[1m90/90\u001b[0m \u001b[32m━━━━━━━━━━━━━━━━━━━━\u001b[0m\u001b[37m\u001b[0m \u001b[1m0s\u001b[0m 3ms/step - loss: 2.0780e-04 - mae: 0.0109 - mape: 4847.6782 - mse: 2.0780e-04 - val_loss: 6.0137e-04 - val_mae: 0.0175 - val_mape: 2.9816 - val_mse: 6.0137e-04\n",
      "Epoch 48/50\n",
      "\u001b[1m90/90\u001b[0m \u001b[32m━━━━━━━━━━━━━━━━━━━━\u001b[0m\u001b[37m\u001b[0m \u001b[1m0s\u001b[0m 4ms/step - loss: 2.0510e-04 - mae: 0.0106 - mape: 18001.9727 - mse: 2.0510e-04 - val_loss: 5.2845e-04 - val_mae: 0.0161 - val_mape: 2.7356 - val_mse: 5.2845e-04\n",
      "Epoch 49/50\n",
      "\u001b[1m90/90\u001b[0m \u001b[32m━━━━━━━━━━━━━━━━━━━━\u001b[0m\u001b[37m\u001b[0m \u001b[1m0s\u001b[0m 4ms/step - loss: 2.0791e-04 - mae: 0.0108 - mape: 43336.4922 - mse: 2.0791e-04 - val_loss: 5.6432e-04 - val_mae: 0.0167 - val_mape: 2.8562 - val_mse: 5.6432e-04\n",
      "Epoch 50/50\n",
      "\u001b[1m90/90\u001b[0m \u001b[32m━━━━━━━━━━━━━━━━━━━━\u001b[0m\u001b[37m\u001b[0m \u001b[1m0s\u001b[0m 3ms/step - loss: 2.0798e-04 - mae: 0.0107 - mape: 15010.0498 - mse: 2.0798e-04 - val_loss: 5.5535e-04 - val_mae: 0.0167 - val_mape: 2.8500 - val_mse: 5.5535e-04\n"
     ]
    },
    {
     "name": "stderr",
     "output_type": "stream",
     "text": [
      "WARNING:absl:You are saving your model as an HDF5 file via `model.save()` or `keras.saving.save_model(model)`. This file format is considered legacy. We recommend using instead the native Keras format, e.g. `model.save('my_model.keras')` or `keras.saving.save_model(model, 'my_model.keras')`. \n"
     ]
    },
    {
     "name": "stdout",
     "output_type": "stream",
     "text": [
      "\u001b[1m23/23\u001b[0m \u001b[32m━━━━━━━━━━━━━━━━━━━━\u001b[0m\u001b[37m\u001b[0m \u001b[1m0s\u001b[0m 12ms/step\n"
     ]
    },
    {
     "name": "stderr",
     "output_type": "stream",
     "text": [
      "Processando combinações:  71%|███████▏  | 5/7 [03:42<01:35, 47.73s/it]"
     ]
    },
    {
     "name": "stdout",
     "output_type": "stream",
     "text": [
      "model_1: Processando PETR4 | Combinação 6...\n",
      "Epoch 1/50\n",
      "\u001b[1m90/90\u001b[0m \u001b[32m━━━━━━━━━━━━━━━━━━━━\u001b[0m\u001b[37m\u001b[0m \u001b[1m2s\u001b[0m 6ms/step - loss: 0.0725 - mae: 0.2107 - mape: 89281.5469 - mse: 0.0725 - val_loss: 0.0141 - val_mae: 0.1016 - val_mape: 21.2838 - val_mse: 0.0141\n",
      "Epoch 2/50\n",
      "\u001b[1m90/90\u001b[0m \u001b[32m━━━━━━━━━━━━━━━━━━━━\u001b[0m\u001b[37m\u001b[0m \u001b[1m0s\u001b[0m 2ms/step - loss: 0.0163 - mae: 0.1023 - mape: 149305.7500 - mse: 0.0163 - val_loss: 0.0071 - val_mae: 0.0711 - val_mape: 15.1261 - val_mse: 0.0071\n",
      "Epoch 3/50\n",
      "\u001b[1m90/90\u001b[0m \u001b[32m━━━━━━━━━━━━━━━━━━━━\u001b[0m\u001b[37m\u001b[0m \u001b[1m0s\u001b[0m 3ms/step - loss: 0.0058 - mae: 0.0605 - mape: 28331.1504 - mse: 0.0058 - val_loss: 0.0028 - val_mae: 0.0434 - val_mape: 9.5139 - val_mse: 0.0028\n",
      "Epoch 4/50\n",
      "\u001b[1m90/90\u001b[0m \u001b[32m━━━━━━━━━━━━━━━━━━━━\u001b[0m\u001b[37m\u001b[0m \u001b[1m0s\u001b[0m 3ms/step - loss: 0.0013 - mae: 0.0276 - mape: 15462.9609 - mse: 0.0013 - val_loss: 8.7560e-04 - val_mae: 0.0228 - val_mape: 5.3591 - val_mse: 8.7560e-04\n",
      "Epoch 5/50\n",
      "\u001b[1m90/90\u001b[0m \u001b[32m━━━━━━━━━━━━━━━━━━━━\u001b[0m\u001b[37m\u001b[0m \u001b[1m0s\u001b[0m 3ms/step - loss: 3.8393e-04 - mae: 0.0146 - mape: 12092.0674 - mse: 3.8393e-04 - val_loss: 5.8896e-04 - val_mae: 0.0175 - val_mape: 4.2443 - val_mse: 5.8896e-04\n",
      "Epoch 6/50\n",
      "\u001b[1m90/90\u001b[0m \u001b[32m━━━━━━━━━━━━━━━━━━━━\u001b[0m\u001b[37m\u001b[0m \u001b[1m0s\u001b[0m 3ms/step - loss: 3.4757e-04 - mae: 0.0136 - mape: 1534.6718 - mse: 3.4757e-04 - val_loss: 5.3410e-04 - val_mae: 0.0164 - val_mape: 4.0016 - val_mse: 5.3410e-04\n",
      "Epoch 7/50\n",
      "\u001b[1m90/90\u001b[0m \u001b[32m━━━━━━━━━━━━━━━━━━━━\u001b[0m\u001b[37m\u001b[0m \u001b[1m0s\u001b[0m 2ms/step - loss: 3.0005e-04 - mae: 0.0130 - mape: 12134.2500 - mse: 3.0005e-04 - val_loss: 5.1635e-04 - val_mae: 0.0161 - val_mape: 3.9281 - val_mse: 5.1635e-04\n",
      "Epoch 8/50\n",
      "\u001b[1m90/90\u001b[0m \u001b[32m━━━━━━━━━━━━━━━━━━━━\u001b[0m\u001b[37m\u001b[0m \u001b[1m0s\u001b[0m 3ms/step - loss: 2.9108e-04 - mae: 0.0125 - mape: 15177.0322 - mse: 2.9108e-04 - val_loss: 4.9797e-04 - val_mae: 0.0157 - val_mape: 3.8285 - val_mse: 4.9797e-04\n",
      "Epoch 9/50\n",
      "\u001b[1m90/90\u001b[0m \u001b[32m━━━━━━━━━━━━━━━━━━━━\u001b[0m\u001b[37m\u001b[0m \u001b[1m0s\u001b[0m 4ms/step - loss: 2.7040e-04 - mae: 0.0120 - mape: 752.6450 - mse: 2.7040e-04 - val_loss: 4.5250e-04 - val_mae: 0.0145 - val_mape: 3.5615 - val_mse: 4.5250e-04\n",
      "Epoch 10/50\n",
      "\u001b[1m90/90\u001b[0m \u001b[32m━━━━━━━━━━━━━━━━━━━━\u001b[0m\u001b[37m\u001b[0m \u001b[1m0s\u001b[0m 2ms/step - loss: 2.7103e-04 - mae: 0.0120 - mape: 5754.5215 - mse: 2.7103e-04 - val_loss: 4.6011e-04 - val_mae: 0.0149 - val_mape: 3.6317 - val_mse: 4.6011e-04\n",
      "Epoch 11/50\n",
      "\u001b[1m90/90\u001b[0m \u001b[32m━━━━━━━━━━━━━━━━━━━━\u001b[0m\u001b[37m\u001b[0m \u001b[1m0s\u001b[0m 2ms/step - loss: 2.4107e-04 - mae: 0.0113 - mape: 4167.1616 - mse: 2.4107e-04 - val_loss: 4.3415e-04 - val_mae: 0.0140 - val_mape: 3.4470 - val_mse: 4.3415e-04\n",
      "Epoch 12/50\n",
      "\u001b[1m90/90\u001b[0m \u001b[32m━━━━━━━━━━━━━━━━━━━━\u001b[0m\u001b[37m\u001b[0m \u001b[1m0s\u001b[0m 3ms/step - loss: 2.4029e-04 - mae: 0.0114 - mape: 8056.2690 - mse: 2.4029e-04 - val_loss: 4.3178e-04 - val_mae: 0.0140 - val_mape: 3.4474 - val_mse: 4.3178e-04\n",
      "Epoch 13/50\n",
      "\u001b[1m90/90\u001b[0m \u001b[32m━━━━━━━━━━━━━━━━━━━━\u001b[0m\u001b[37m\u001b[0m \u001b[1m0s\u001b[0m 4ms/step - loss: 2.5907e-04 - mae: 0.0116 - mape: 18781.3418 - mse: 2.5907e-04 - val_loss: 4.2232e-04 - val_mae: 0.0137 - val_mape: 3.3750 - val_mse: 4.2232e-04\n",
      "Epoch 14/50\n",
      "\u001b[1m90/90\u001b[0m \u001b[32m━━━━━━━━━━━━━━━━━━━━\u001b[0m\u001b[37m\u001b[0m \u001b[1m0s\u001b[0m 2ms/step - loss: 2.3204e-04 - mae: 0.0109 - mape: 4300.5371 - mse: 2.3204e-04 - val_loss: 4.3462e-04 - val_mae: 0.0143 - val_mape: 3.4940 - val_mse: 4.3462e-04\n",
      "Epoch 15/50\n",
      "\u001b[1m90/90\u001b[0m \u001b[32m━━━━━━━━━━━━━━━━━━━━\u001b[0m\u001b[37m\u001b[0m \u001b[1m0s\u001b[0m 3ms/step - loss: 2.1415e-04 - mae: 0.0108 - mape: 4220.7095 - mse: 2.1415e-04 - val_loss: 4.2742e-04 - val_mae: 0.0141 - val_mape: 3.4445 - val_mse: 4.2742e-04\n",
      "Epoch 16/50\n",
      "\u001b[1m90/90\u001b[0m \u001b[32m━━━━━━━━━━━━━━━━━━━━\u001b[0m\u001b[37m\u001b[0m \u001b[1m0s\u001b[0m 3ms/step - loss: 2.1126e-04 - mae: 0.0107 - mape: 1323.6445 - mse: 2.1126e-04 - val_loss: 4.1803e-04 - val_mae: 0.0133 - val_mape: 3.3007 - val_mse: 4.1803e-04\n",
      "Epoch 17/50\n",
      "\u001b[1m90/90\u001b[0m \u001b[32m━━━━━━━━━━━━━━━━━━━━\u001b[0m\u001b[37m\u001b[0m \u001b[1m0s\u001b[0m 3ms/step - loss: 2.2476e-04 - mae: 0.0106 - mape: 6989.7354 - mse: 2.2476e-04 - val_loss: 4.0828e-04 - val_mae: 0.0134 - val_mape: 3.3008 - val_mse: 4.0828e-04\n",
      "Epoch 18/50\n",
      "\u001b[1m90/90\u001b[0m \u001b[32m━━━━━━━━━━━━━━━━━━━━\u001b[0m\u001b[37m\u001b[0m \u001b[1m0s\u001b[0m 2ms/step - loss: 2.2219e-04 - mae: 0.0109 - mape: 259.7881 - mse: 2.2219e-04 - val_loss: 4.0857e-04 - val_mae: 0.0134 - val_mape: 3.2997 - val_mse: 4.0857e-04\n",
      "Epoch 19/50\n",
      "\u001b[1m90/90\u001b[0m \u001b[32m━━━━━━━━━━━━━━━━━━━━\u001b[0m\u001b[37m\u001b[0m \u001b[1m0s\u001b[0m 2ms/step - loss: 2.1105e-04 - mae: 0.0106 - mape: 2358.2646 - mse: 2.1105e-04 - val_loss: 4.0582e-04 - val_mae: 0.0131 - val_mape: 3.2446 - val_mse: 4.0582e-04\n",
      "Epoch 20/50\n",
      "\u001b[1m90/90\u001b[0m \u001b[32m━━━━━━━━━━━━━━━━━━━━\u001b[0m\u001b[37m\u001b[0m \u001b[1m0s\u001b[0m 3ms/step - loss: 2.2002e-04 - mae: 0.0107 - mape: 39814.4141 - mse: 2.2002e-04 - val_loss: 4.0379e-04 - val_mae: 0.0133 - val_mape: 3.2866 - val_mse: 4.0379e-04\n",
      "Epoch 21/50\n",
      "\u001b[1m90/90\u001b[0m \u001b[32m━━━━━━━━━━━━━━━━━━━━\u001b[0m\u001b[37m\u001b[0m \u001b[1m0s\u001b[0m 2ms/step - loss: 2.2338e-04 - mae: 0.0108 - mape: 7177.3228 - mse: 2.2338e-04 - val_loss: 4.0094e-04 - val_mae: 0.0130 - val_mape: 3.2209 - val_mse: 4.0094e-04\n",
      "Epoch 22/50\n",
      "\u001b[1m90/90\u001b[0m \u001b[32m━━━━━━━━━━━━━━━━━━━━\u001b[0m\u001b[37m\u001b[0m \u001b[1m0s\u001b[0m 2ms/step - loss: 2.1324e-04 - mae: 0.0104 - mape: 3516.7134 - mse: 2.1324e-04 - val_loss: 4.1913e-04 - val_mae: 0.0141 - val_mape: 3.4309 - val_mse: 4.1913e-04\n",
      "Epoch 23/50\n",
      "\u001b[1m90/90\u001b[0m \u001b[32m━━━━━━━━━━━━━━━━━━━━\u001b[0m\u001b[37m\u001b[0m \u001b[1m0s\u001b[0m 2ms/step - loss: 2.1431e-04 - mae: 0.0104 - mape: 840.2803 - mse: 2.1431e-04 - val_loss: 3.9701e-04 - val_mae: 0.0129 - val_mape: 3.1967 - val_mse: 3.9701e-04\n",
      "Epoch 24/50\n",
      "\u001b[1m90/90\u001b[0m \u001b[32m━━━━━━━━━━━━━━━━━━━━\u001b[0m\u001b[37m\u001b[0m \u001b[1m0s\u001b[0m 2ms/step - loss: 2.2344e-04 - mae: 0.0106 - mape: 1004.0107 - mse: 2.2344e-04 - val_loss: 4.1086e-04 - val_mae: 0.0131 - val_mape: 3.2613 - val_mse: 4.1086e-04\n",
      "Epoch 25/50\n",
      "\u001b[1m90/90\u001b[0m \u001b[32m━━━━━━━━━━━━━━━━━━━━\u001b[0m\u001b[37m\u001b[0m \u001b[1m0s\u001b[0m 3ms/step - loss: 2.0004e-04 - mae: 0.0103 - mape: 2796.5618 - mse: 2.0004e-04 - val_loss: 3.9797e-04 - val_mae: 0.0134 - val_mape: 3.2727 - val_mse: 3.9797e-04\n",
      "Epoch 26/50\n",
      "\u001b[1m90/90\u001b[0m \u001b[32m━━━━━━━━━━━━━━━━━━━━\u001b[0m\u001b[37m\u001b[0m \u001b[1m0s\u001b[0m 3ms/step - loss: 2.1987e-04 - mae: 0.0106 - mape: 7249.9248 - mse: 2.1987e-04 - val_loss: 3.8618e-04 - val_mae: 0.0130 - val_mape: 3.1911 - val_mse: 3.8618e-04\n",
      "Epoch 27/50\n",
      "\u001b[1m90/90\u001b[0m \u001b[32m━━━━━━━━━━━━━━━━━━━━\u001b[0m\u001b[37m\u001b[0m \u001b[1m0s\u001b[0m 4ms/step - loss: 2.0862e-04 - mae: 0.0103 - mape: 2463.8848 - mse: 2.0862e-04 - val_loss: 3.8572e-04 - val_mae: 0.0129 - val_mape: 3.1681 - val_mse: 3.8572e-04\n",
      "Epoch 28/50\n",
      "\u001b[1m90/90\u001b[0m \u001b[32m━━━━━━━━━━━━━━━━━━━━\u001b[0m\u001b[37m\u001b[0m \u001b[1m0s\u001b[0m 3ms/step - loss: 2.0869e-04 - mae: 0.0102 - mape: 26292.4062 - mse: 2.0869e-04 - val_loss: 3.9244e-04 - val_mae: 0.0133 - val_mape: 3.2503 - val_mse: 3.9244e-04\n",
      "Epoch 29/50\n",
      "\u001b[1m90/90\u001b[0m \u001b[32m━━━━━━━━━━━━━━━━━━━━\u001b[0m\u001b[37m\u001b[0m \u001b[1m0s\u001b[0m 3ms/step - loss: 2.0729e-04 - mae: 0.0103 - mape: 25347.8086 - mse: 2.0729e-04 - val_loss: 4.0623e-04 - val_mae: 0.0131 - val_mape: 3.2479 - val_mse: 4.0623e-04\n",
      "Epoch 30/50\n",
      "\u001b[1m90/90\u001b[0m \u001b[32m━━━━━━━━━━━━━━━━━━━━\u001b[0m\u001b[37m\u001b[0m \u001b[1m0s\u001b[0m 2ms/step - loss: 2.2121e-04 - mae: 0.0106 - mape: 2217.7839 - mse: 2.2121e-04 - val_loss: 3.9088e-04 - val_mae: 0.0128 - val_mape: 3.1732 - val_mse: 3.9088e-04\n",
      "Epoch 31/50\n",
      "\u001b[1m90/90\u001b[0m \u001b[32m━━━━━━━━━━━━━━━━━━━━\u001b[0m\u001b[37m\u001b[0m \u001b[1m0s\u001b[0m 2ms/step - loss: 1.9489e-04 - mae: 0.0102 - mape: 6846.1006 - mse: 1.9489e-04 - val_loss: 3.7856e-04 - val_mae: 0.0127 - val_mape: 3.1190 - val_mse: 3.7856e-04\n",
      "Epoch 32/50\n",
      "\u001b[1m90/90\u001b[0m \u001b[32m━━━━━━━━━━━━━━━━━━━━\u001b[0m\u001b[37m\u001b[0m \u001b[1m0s\u001b[0m 3ms/step - loss: 1.9915e-04 - mae: 0.0100 - mape: 5978.1006 - mse: 1.9915e-04 - val_loss: 3.7541e-04 - val_mae: 0.0126 - val_mape: 3.1017 - val_mse: 3.7541e-04\n",
      "Epoch 33/50\n",
      "\u001b[1m90/90\u001b[0m \u001b[32m━━━━━━━━━━━━━━━━━━━━\u001b[0m\u001b[37m\u001b[0m \u001b[1m0s\u001b[0m 2ms/step - loss: 2.0863e-04 - mae: 0.0100 - mape: 179.0601 - mse: 2.0863e-04 - val_loss: 3.7973e-04 - val_mae: 0.0127 - val_mape: 3.1243 - val_mse: 3.7973e-04\n",
      "Epoch 34/50\n",
      "\u001b[1m90/90\u001b[0m \u001b[32m━━━━━━━━━━━━━━━━━━━━\u001b[0m\u001b[37m\u001b[0m \u001b[1m0s\u001b[0m 2ms/step - loss: 1.9137e-04 - mae: 0.0099 - mape: 6793.8569 - mse: 1.9137e-04 - val_loss: 3.7140e-04 - val_mae: 0.0126 - val_mape: 3.0996 - val_mse: 3.7140e-04\n",
      "Epoch 35/50\n",
      "\u001b[1m90/90\u001b[0m \u001b[32m━━━━━━━━━━━━━━━━━━━━\u001b[0m\u001b[37m\u001b[0m \u001b[1m0s\u001b[0m 2ms/step - loss: 2.1391e-04 - mae: 0.0104 - mape: 673.1881 - mse: 2.1391e-04 - val_loss: 3.7137e-04 - val_mae: 0.0127 - val_mape: 3.1106 - val_mse: 3.7137e-04\n",
      "Epoch 36/50\n",
      "\u001b[1m90/90\u001b[0m \u001b[32m━━━━━━━━━━━━━━━━━━━━\u001b[0m\u001b[37m\u001b[0m \u001b[1m0s\u001b[0m 2ms/step - loss: 1.8141e-04 - mae: 0.0097 - mape: 7221.9048 - mse: 1.8141e-04 - val_loss: 3.6692e-04 - val_mae: 0.0125 - val_mape: 3.0727 - val_mse: 3.6692e-04\n",
      "Epoch 37/50\n",
      "\u001b[1m90/90\u001b[0m \u001b[32m━━━━━━━━━━━━━━━━━━━━\u001b[0m\u001b[37m\u001b[0m \u001b[1m0s\u001b[0m 3ms/step - loss: 1.8128e-04 - mae: 0.0096 - mape: 10097.9150 - mse: 1.8128e-04 - val_loss: 3.6284e-04 - val_mae: 0.0125 - val_mape: 3.0546 - val_mse: 3.6284e-04\n",
      "Epoch 38/50\n",
      "\u001b[1m90/90\u001b[0m \u001b[32m━━━━━━━━━━━━━━━━━━━━\u001b[0m\u001b[37m\u001b[0m \u001b[1m0s\u001b[0m 3ms/step - loss: 1.8511e-04 - mae: 0.0099 - mape: 2119.5911 - mse: 1.8511e-04 - val_loss: 3.7427e-04 - val_mae: 0.0125 - val_mape: 3.0726 - val_mse: 3.7427e-04\n",
      "Epoch 39/50\n",
      "\u001b[1m90/90\u001b[0m \u001b[32m━━━━━━━━━━━━━━━━━━━━\u001b[0m\u001b[37m\u001b[0m \u001b[1m0s\u001b[0m 3ms/step - loss: 2.0443e-04 - mae: 0.0103 - mape: 19637.3359 - mse: 2.0443e-04 - val_loss: 3.5732e-04 - val_mae: 0.0123 - val_mape: 3.0219 - val_mse: 3.5732e-04\n",
      "Epoch 40/50\n",
      "\u001b[1m90/90\u001b[0m \u001b[32m━━━━━━━━━━━━━━━━━━━━\u001b[0m\u001b[37m\u001b[0m \u001b[1m0s\u001b[0m 3ms/step - loss: 1.9394e-04 - mae: 0.0099 - mape: 12912.1719 - mse: 1.9394e-04 - val_loss: 3.7638e-04 - val_mae: 0.0134 - val_mape: 3.2139 - val_mse: 3.7638e-04\n",
      "Epoch 41/50\n",
      "\u001b[1m90/90\u001b[0m \u001b[32m━━━━━━━━━━━━━━━━━━━━\u001b[0m\u001b[37m\u001b[0m \u001b[1m0s\u001b[0m 2ms/step - loss: 1.9736e-04 - mae: 0.0101 - mape: 573.8193 - mse: 1.9736e-04 - val_loss: 3.7417e-04 - val_mae: 0.0134 - val_mape: 3.2315 - val_mse: 3.7417e-04\n",
      "Epoch 42/50\n",
      "\u001b[1m90/90\u001b[0m \u001b[32m━━━━━━━━━━━━━━━━━━━━\u001b[0m\u001b[37m\u001b[0m \u001b[1m0s\u001b[0m 2ms/step - loss: 2.0911e-04 - mae: 0.0105 - mape: 5705.7451 - mse: 2.0911e-04 - val_loss: 3.5419e-04 - val_mae: 0.0124 - val_mape: 3.0338 - val_mse: 3.5419e-04\n",
      "Epoch 43/50\n",
      "\u001b[1m90/90\u001b[0m \u001b[32m━━━━━━━━━━━━━━━━━━━━\u001b[0m\u001b[37m\u001b[0m \u001b[1m0s\u001b[0m 3ms/step - loss: 1.8684e-04 - mae: 0.0098 - mape: 3995.1013 - mse: 1.8684e-04 - val_loss: 3.5918e-04 - val_mae: 0.0128 - val_mape: 3.0895 - val_mse: 3.5918e-04\n",
      "Epoch 44/50\n",
      "\u001b[1m90/90\u001b[0m \u001b[32m━━━━━━━━━━━━━━━━━━━━\u001b[0m\u001b[37m\u001b[0m \u001b[1m0s\u001b[0m 3ms/step - loss: 1.9463e-04 - mae: 0.0100 - mape: 21612.2402 - mse: 1.9463e-04 - val_loss: 3.5020e-04 - val_mae: 0.0123 - val_mape: 2.9985 - val_mse: 3.5020e-04\n",
      "Epoch 45/50\n",
      "\u001b[1m90/90\u001b[0m \u001b[32m━━━━━━━━━━━━━━━━━━━━\u001b[0m\u001b[37m\u001b[0m \u001b[1m0s\u001b[0m 2ms/step - loss: 1.8366e-04 - mae: 0.0097 - mape: 27130.1562 - mse: 1.8366e-04 - val_loss: 3.5024e-04 - val_mae: 0.0122 - val_mape: 2.9704 - val_mse: 3.5024e-04\n",
      "Epoch 46/50\n",
      "\u001b[1m90/90\u001b[0m \u001b[32m━━━━━━━━━━━━━━━━━━━━\u001b[0m\u001b[37m\u001b[0m \u001b[1m0s\u001b[0m 2ms/step - loss: 2.2160e-04 - mae: 0.0109 - mape: 10462.4316 - mse: 2.2160e-04 - val_loss: 3.5105e-04 - val_mae: 0.0122 - val_mape: 2.9665 - val_mse: 3.5105e-04\n",
      "Epoch 47/50\n",
      "\u001b[1m90/90\u001b[0m \u001b[32m━━━━━━━━━━━━━━━━━━━━\u001b[0m\u001b[37m\u001b[0m \u001b[1m0s\u001b[0m 4ms/step - loss: 1.7651e-04 - mae: 0.0096 - mape: 1464.5675 - mse: 1.7651e-04 - val_loss: 3.4607e-04 - val_mae: 0.0122 - val_mape: 2.9660 - val_mse: 3.4607e-04\n",
      "Epoch 48/50\n",
      "\u001b[1m90/90\u001b[0m \u001b[32m━━━━━━━━━━━━━━━━━━━━\u001b[0m\u001b[37m\u001b[0m \u001b[1m0s\u001b[0m 3ms/step - loss: 1.7276e-04 - mae: 0.0095 - mape: 17262.0527 - mse: 1.7276e-04 - val_loss: 3.4258e-04 - val_mae: 0.0122 - val_mape: 2.9725 - val_mse: 3.4258e-04\n",
      "Epoch 49/50\n",
      "\u001b[1m90/90\u001b[0m \u001b[32m━━━━━━━━━━━━━━━━━━━━\u001b[0m\u001b[37m\u001b[0m \u001b[1m0s\u001b[0m 2ms/step - loss: 1.8788e-04 - mae: 0.0098 - mape: 17651.7930 - mse: 1.8788e-04 - val_loss: 3.5685e-04 - val_mae: 0.0123 - val_mape: 2.9926 - val_mse: 3.5685e-04\n",
      "Epoch 50/50\n",
      "\u001b[1m90/90\u001b[0m \u001b[32m━━━━━━━━━━━━━━━━━━━━\u001b[0m\u001b[37m\u001b[0m \u001b[1m0s\u001b[0m 2ms/step - loss: 1.8871e-04 - mae: 0.0100 - mape: 38966.2969 - mse: 1.8871e-04 - val_loss: 3.3771e-04 - val_mae: 0.0121 - val_mape: 2.9328 - val_mse: 3.3771e-04\n"
     ]
    },
    {
     "name": "stderr",
     "output_type": "stream",
     "text": [
      "WARNING:absl:You are saving your model as an HDF5 file via `model.save()` or `keras.saving.save_model(model)`. This file format is considered legacy. We recommend using instead the native Keras format, e.g. `model.save('my_model.keras')` or `keras.saving.save_model(model, 'my_model.keras')`. \n"
     ]
    },
    {
     "name": "stdout",
     "output_type": "stream",
     "text": [
      "\u001b[1m23/23\u001b[0m \u001b[32m━━━━━━━━━━━━━━━━━━━━\u001b[0m\u001b[37m\u001b[0m \u001b[1m0s\u001b[0m 9ms/step\n",
      "model_1: Processando VALE3 | Combinação 6...\n",
      "Epoch 1/50\n",
      "\u001b[1m90/90\u001b[0m \u001b[32m━━━━━━━━━━━━━━━━━━━━\u001b[0m\u001b[37m\u001b[0m \u001b[1m3s\u001b[0m 6ms/step - loss: 0.0579 - mae: 0.1886 - mape: 16941.4688 - mse: 0.0579 - val_loss: 0.1699 - val_mae: 0.3555 - val_mape: 30.3882 - val_mse: 0.1699\n",
      "Epoch 2/50\n",
      "\u001b[1m90/90\u001b[0m \u001b[32m━━━━━━━━━━━━━━━━━━━━\u001b[0m\u001b[37m\u001b[0m \u001b[1m0s\u001b[0m 2ms/step - loss: 0.0112 - mae: 0.0864 - mape: 138750.0000 - mse: 0.0112 - val_loss: 0.0691 - val_mae: 0.2247 - val_mape: 19.2050 - val_mse: 0.0691\n",
      "Epoch 3/50\n",
      "\u001b[1m90/90\u001b[0m \u001b[32m━━━━━━━━━━━━━━━━━━━━\u001b[0m\u001b[37m\u001b[0m \u001b[1m0s\u001b[0m 3ms/step - loss: 0.0035 - mae: 0.0476 - mape: 36469.0312 - mse: 0.0035 - val_loss: 0.0171 - val_mae: 0.1041 - val_mape: 8.7351 - val_mse: 0.0171\n",
      "Epoch 4/50\n",
      "\u001b[1m90/90\u001b[0m \u001b[32m━━━━━━━━━━━━━━━━━━━━\u001b[0m\u001b[37m\u001b[0m \u001b[1m0s\u001b[0m 2ms/step - loss: 7.6072e-04 - mae: 0.0214 - mape: 14472.3770 - mse: 7.6072e-04 - val_loss: 0.0064 - val_mae: 0.0585 - val_mape: 4.9149 - val_mse: 0.0064\n",
      "Epoch 5/50\n",
      "\u001b[1m90/90\u001b[0m \u001b[32m━━━━━━━━━━━━━━━━━━━━\u001b[0m\u001b[37m\u001b[0m \u001b[1m0s\u001b[0m 2ms/step - loss: 3.5842e-04 - mae: 0.0144 - mape: 5591.8501 - mse: 3.5842e-04 - val_loss: 0.0046 - val_mae: 0.0485 - val_mape: 4.1025 - val_mse: 0.0046\n",
      "Epoch 6/50\n",
      "\u001b[1m90/90\u001b[0m \u001b[32m━━━━━━━━━━━━━━━━━━━━\u001b[0m\u001b[37m\u001b[0m \u001b[1m0s\u001b[0m 3ms/step - loss: 3.2854e-04 - mae: 0.0133 - mape: 47417.1523 - mse: 3.2854e-04 - val_loss: 0.0042 - val_mae: 0.0459 - val_mape: 3.8909 - val_mse: 0.0042\n",
      "Epoch 7/50\n",
      "\u001b[1m90/90\u001b[0m \u001b[32m━━━━━━━━━━━━━━━━━━━━\u001b[0m\u001b[37m\u001b[0m \u001b[1m0s\u001b[0m 3ms/step - loss: 3.0109e-04 - mae: 0.0129 - mape: 12993.8223 - mse: 3.0109e-04 - val_loss: 0.0048 - val_mae: 0.0495 - val_mape: 4.1490 - val_mse: 0.0048\n",
      "Epoch 8/50\n",
      "\u001b[1m90/90\u001b[0m \u001b[32m━━━━━━━━━━━━━━━━━━━━\u001b[0m\u001b[37m\u001b[0m \u001b[1m0s\u001b[0m 3ms/step - loss: 3.0546e-04 - mae: 0.0129 - mape: 22230.2891 - mse: 3.0546e-04 - val_loss: 0.0044 - val_mae: 0.0473 - val_mape: 3.9787 - val_mse: 0.0044\n",
      "Epoch 9/50\n",
      "\u001b[1m90/90\u001b[0m \u001b[32m━━━━━━━━━━━━━━━━━━━━\u001b[0m\u001b[37m\u001b[0m \u001b[1m0s\u001b[0m 4ms/step - loss: 3.4883e-04 - mae: 0.0130 - mape: 8646.0625 - mse: 3.4883e-04 - val_loss: 0.0051 - val_mae: 0.0510 - val_mape: 4.2487 - val_mse: 0.0051\n",
      "Epoch 10/50\n",
      "\u001b[1m90/90\u001b[0m \u001b[32m━━━━━━━━━━━━━━━━━━━━\u001b[0m\u001b[37m\u001b[0m \u001b[1m0s\u001b[0m 3ms/step - loss: 2.9674e-04 - mae: 0.0128 - mape: 7681.7949 - mse: 2.9674e-04 - val_loss: 0.0052 - val_mae: 0.0514 - val_mape: 4.2665 - val_mse: 0.0052\n",
      "Epoch 11/50\n",
      "\u001b[1m90/90\u001b[0m \u001b[32m━━━━━━━━━━━━━━━━━━━━\u001b[0m\u001b[37m\u001b[0m \u001b[1m0s\u001b[0m 2ms/step - loss: 2.9821e-04 - mae: 0.0125 - mape: 17641.0527 - mse: 2.9821e-04 - val_loss: 0.0055 - val_mae: 0.0525 - val_mape: 4.3470 - val_mse: 0.0055\n",
      "Epoch 12/50\n",
      "\u001b[1m90/90\u001b[0m \u001b[32m━━━━━━━━━━━━━━━━━━━━\u001b[0m\u001b[37m\u001b[0m \u001b[1m0s\u001b[0m 2ms/step - loss: 2.9436e-04 - mae: 0.0126 - mape: 6049.4150 - mse: 2.9436e-04 - val_loss: 0.0051 - val_mae: 0.0507 - val_mape: 4.1985 - val_mse: 0.0051\n",
      "Epoch 13/50\n",
      "\u001b[1m90/90\u001b[0m \u001b[32m━━━━━━━━━━━━━━━━━━━━\u001b[0m\u001b[37m\u001b[0m \u001b[1m0s\u001b[0m 2ms/step - loss: 2.8876e-04 - mae: 0.0125 - mape: 40129.7461 - mse: 2.8876e-04 - val_loss: 0.0061 - val_mae: 0.0559 - val_mape: 4.6072 - val_mse: 0.0061\n",
      "Epoch 14/50\n",
      "\u001b[1m90/90\u001b[0m \u001b[32m━━━━━━━━━━━━━━━━━━━━\u001b[0m\u001b[37m\u001b[0m \u001b[1m0s\u001b[0m 3ms/step - loss: 2.9793e-04 - mae: 0.0128 - mape: 9692.9053 - mse: 2.9793e-04 - val_loss: 0.0055 - val_mae: 0.0520 - val_mape: 4.2924 - val_mse: 0.0055\n",
      "Epoch 15/50\n",
      "\u001b[1m90/90\u001b[0m \u001b[32m━━━━━━━━━━━━━━━━━━━━\u001b[0m\u001b[37m\u001b[0m \u001b[1m0s\u001b[0m 3ms/step - loss: 2.7291e-04 - mae: 0.0125 - mape: 19903.5547 - mse: 2.7291e-04 - val_loss: 0.0057 - val_mae: 0.0532 - val_mape: 4.3787 - val_mse: 0.0057\n",
      "Epoch 16/50\n",
      "\u001b[1m90/90\u001b[0m \u001b[32m━━━━━━━━━━━━━━━━━━━━\u001b[0m\u001b[37m\u001b[0m \u001b[1m0s\u001b[0m 3ms/step - loss: 2.5742e-04 - mae: 0.0119 - mape: 22653.9727 - mse: 2.5742e-04 - val_loss: 0.0061 - val_mae: 0.0553 - val_mape: 4.5212 - val_mse: 0.0061\n"
     ]
    },
    {
     "name": "stderr",
     "output_type": "stream",
     "text": [
      "WARNING:absl:You are saving your model as an HDF5 file via `model.save()` or `keras.saving.save_model(model)`. This file format is considered legacy. We recommend using instead the native Keras format, e.g. `model.save('my_model.keras')` or `keras.saving.save_model(model, 'my_model.keras')`. \n"
     ]
    },
    {
     "name": "stdout",
     "output_type": "stream",
     "text": [
      "\u001b[1m23/23\u001b[0m \u001b[32m━━━━━━━━━━━━━━━━━━━━\u001b[0m\u001b[37m\u001b[0m \u001b[1m0s\u001b[0m 10ms/step\n",
      "model_1: Processando BBDC4 | Combinação 6...\n",
      "Epoch 1/50\n",
      "\u001b[1m88/88\u001b[0m \u001b[32m━━━━━━━━━━━━━━━━━━━━\u001b[0m\u001b[37m\u001b[0m \u001b[1m2s\u001b[0m 4ms/step - loss: 0.1206 - mae: 0.2721 - mape: 31643.1699 - mse: 0.1206 - val_loss: 0.0227 - val_mae: 0.1258 - val_mape: 20.8421 - val_mse: 0.0227\n",
      "Epoch 2/50\n",
      "\u001b[1m88/88\u001b[0m \u001b[32m━━━━━━━━━━━━━━━━━━━━\u001b[0m\u001b[37m\u001b[0m \u001b[1m0s\u001b[0m 2ms/step - loss: 0.0157 - mae: 0.1006 - mape: 133886.3281 - mse: 0.0157 - val_loss: 0.0043 - val_mae: 0.0526 - val_mape: 9.1287 - val_mse: 0.0043\n",
      "Epoch 3/50\n",
      "\u001b[1m88/88\u001b[0m \u001b[32m━━━━━━━━━━━━━━━━━━━━\u001b[0m\u001b[37m\u001b[0m \u001b[1m0s\u001b[0m 2ms/step - loss: 0.0034 - mae: 0.0450 - mape: 362.9747 - mse: 0.0034 - val_loss: 0.0010 - val_mae: 0.0238 - val_mape: 4.7641 - val_mse: 0.0010\n",
      "Epoch 4/50\n",
      "\u001b[1m88/88\u001b[0m \u001b[32m━━━━━━━━━━━━━━━━━━━━\u001b[0m\u001b[37m\u001b[0m \u001b[1m0s\u001b[0m 2ms/step - loss: 7.7829e-04 - mae: 0.0202 - mape: 3157.5740 - mse: 7.7829e-04 - val_loss: 7.8888e-04 - val_mae: 0.0200 - val_mape: 3.9940 - val_mse: 7.8888e-04\n",
      "Epoch 5/50\n",
      "\u001b[1m88/88\u001b[0m \u001b[32m━━━━━━━━━━━━━━━━━━━━\u001b[0m\u001b[37m\u001b[0m \u001b[1m0s\u001b[0m 2ms/step - loss: 4.7675e-04 - mae: 0.0155 - mape: 1728.3668 - mse: 4.7675e-04 - val_loss: 7.1800e-04 - val_mae: 0.0191 - val_mape: 3.7984 - val_mse: 7.1800e-04\n",
      "Epoch 6/50\n",
      "\u001b[1m88/88\u001b[0m \u001b[32m━━━━━━━━━━━━━━━━━━━━\u001b[0m\u001b[37m\u001b[0m \u001b[1m0s\u001b[0m 2ms/step - loss: 3.8953e-04 - mae: 0.0142 - mape: 5742.3667 - mse: 3.8953e-04 - val_loss: 7.1595e-04 - val_mae: 0.0189 - val_mape: 3.7516 - val_mse: 7.1595e-04\n",
      "Epoch 7/50\n",
      "\u001b[1m88/88\u001b[0m \u001b[32m━━━━━━━━━━━━━━━━━━━━\u001b[0m\u001b[37m\u001b[0m \u001b[1m0s\u001b[0m 2ms/step - loss: 3.8116e-04 - mae: 0.0141 - mape: 24663.8027 - mse: 3.8116e-04 - val_loss: 7.1596e-04 - val_mae: 0.0192 - val_mape: 3.8072 - val_mse: 7.1596e-04\n",
      "Epoch 8/50\n",
      "\u001b[1m88/88\u001b[0m \u001b[32m━━━━━━━━━━━━━━━━━━━━\u001b[0m\u001b[37m\u001b[0m \u001b[1m0s\u001b[0m 2ms/step - loss: 3.9850e-04 - mae: 0.0139 - mape: 820.9171 - mse: 3.9850e-04 - val_loss: 7.3369e-04 - val_mae: 0.0190 - val_mape: 3.7681 - val_mse: 7.3369e-04\n",
      "Epoch 9/50\n",
      "\u001b[1m88/88\u001b[0m \u001b[32m━━━━━━━━━━━━━━━━━━━━\u001b[0m\u001b[37m\u001b[0m \u001b[1m0s\u001b[0m 2ms/step - loss: 4.8952e-04 - mae: 0.0144 - mape: 3662.0964 - mse: 4.8952e-04 - val_loss: 7.5304e-04 - val_mae: 0.0193 - val_mape: 3.8144 - val_mse: 7.5304e-04\n",
      "Epoch 10/50\n",
      "\u001b[1m88/88\u001b[0m \u001b[32m━━━━━━━━━━━━━━━━━━━━\u001b[0m\u001b[37m\u001b[0m \u001b[1m0s\u001b[0m 2ms/step - loss: 3.9191e-04 - mae: 0.0142 - mape: 20383.3242 - mse: 3.9191e-04 - val_loss: 6.9092e-04 - val_mae: 0.0187 - val_mape: 3.7203 - val_mse: 6.9092e-04\n",
      "Epoch 11/50\n",
      "\u001b[1m88/88\u001b[0m \u001b[32m━━━━━━━━━━━━━━━━━━━━\u001b[0m\u001b[37m\u001b[0m \u001b[1m0s\u001b[0m 3ms/step - loss: 3.9938e-04 - mae: 0.0141 - mape: 1716.8009 - mse: 3.9938e-04 - val_loss: 6.8464e-04 - val_mae: 0.0185 - val_mape: 3.6788 - val_mse: 6.8464e-04\n",
      "Epoch 12/50\n",
      "\u001b[1m88/88\u001b[0m \u001b[32m━━━━━━━━━━━━━━━━━━━━\u001b[0m\u001b[37m\u001b[0m \u001b[1m0s\u001b[0m 2ms/step - loss: 4.2449e-04 - mae: 0.0140 - mape: 6907.0508 - mse: 4.2449e-04 - val_loss: 6.8041e-04 - val_mae: 0.0184 - val_mape: 3.6668 - val_mse: 6.8041e-04\n",
      "Epoch 13/50\n",
      "\u001b[1m88/88\u001b[0m \u001b[32m━━━━━━━━━━━━━━━━━━━━\u001b[0m\u001b[37m\u001b[0m \u001b[1m0s\u001b[0m 2ms/step - loss: 3.8545e-04 - mae: 0.0138 - mape: 414.8995 - mse: 3.8545e-04 - val_loss: 6.7935e-04 - val_mae: 0.0184 - val_mape: 3.6647 - val_mse: 6.7935e-04\n",
      "Epoch 14/50\n",
      "\u001b[1m88/88\u001b[0m \u001b[32m━━━━━━━━━━━━━━━━━━━━\u001b[0m\u001b[37m\u001b[0m \u001b[1m0s\u001b[0m 2ms/step - loss: 4.2324e-04 - mae: 0.0137 - mape: 3557.7002 - mse: 4.2324e-04 - val_loss: 6.8330e-04 - val_mae: 0.0184 - val_mape: 3.6638 - val_mse: 6.8330e-04\n",
      "Epoch 15/50\n",
      "\u001b[1m88/88\u001b[0m \u001b[32m━━━━━━━━━━━━━━━━━━━━\u001b[0m\u001b[37m\u001b[0m \u001b[1m0s\u001b[0m 2ms/step - loss: 5.3413e-04 - mae: 0.0143 - mape: 386.3473 - mse: 5.3413e-04 - val_loss: 6.8049e-04 - val_mae: 0.0183 - val_mape: 3.6485 - val_mse: 6.8049e-04\n",
      "Epoch 16/50\n",
      "\u001b[1m88/88\u001b[0m \u001b[32m━━━━━━━━━━━━━━━━━━━━\u001b[0m\u001b[37m\u001b[0m \u001b[1m0s\u001b[0m 2ms/step - loss: 3.6813e-04 - mae: 0.0134 - mape: 3528.5947 - mse: 3.6813e-04 - val_loss: 6.6705e-04 - val_mae: 0.0182 - val_mape: 3.6271 - val_mse: 6.6705e-04\n",
      "Epoch 17/50\n",
      "\u001b[1m88/88\u001b[0m \u001b[32m━━━━━━━━━━━━━━━━━━━━\u001b[0m\u001b[37m\u001b[0m \u001b[1m0s\u001b[0m 2ms/step - loss: 3.4580e-04 - mae: 0.0132 - mape: 815.3126 - mse: 3.4580e-04 - val_loss: 6.6508e-04 - val_mae: 0.0181 - val_mape: 3.6135 - val_mse: 6.6508e-04\n",
      "Epoch 18/50\n",
      "\u001b[1m88/88\u001b[0m \u001b[32m━━━━━━━━━━━━━━━━━━━━\u001b[0m\u001b[37m\u001b[0m \u001b[1m0s\u001b[0m 2ms/step - loss: 3.5792e-04 - mae: 0.0136 - mape: 3461.8999 - mse: 3.5792e-04 - val_loss: 6.6162e-04 - val_mae: 0.0180 - val_mape: 3.5998 - val_mse: 6.6162e-04\n",
      "Epoch 19/50\n",
      "\u001b[1m88/88\u001b[0m \u001b[32m━━━━━━━━━━━━━━━━━━━━\u001b[0m\u001b[37m\u001b[0m \u001b[1m0s\u001b[0m 2ms/step - loss: 3.5550e-04 - mae: 0.0132 - mape: 4198.1260 - mse: 3.5550e-04 - val_loss: 6.9572e-04 - val_mae: 0.0184 - val_mape: 3.6748 - val_mse: 6.9572e-04\n",
      "Epoch 20/50\n",
      "\u001b[1m88/88\u001b[0m \u001b[32m━━━━━━━━━━━━━━━━━━━━\u001b[0m\u001b[37m\u001b[0m \u001b[1m0s\u001b[0m 2ms/step - loss: 3.3750e-04 - mae: 0.0132 - mape: 3397.9312 - mse: 3.3750e-04 - val_loss: 6.6565e-04 - val_mae: 0.0180 - val_mape: 3.6026 - val_mse: 6.6565e-04\n",
      "Epoch 21/50\n",
      "\u001b[1m88/88\u001b[0m \u001b[32m━━━━━━━━━━━━━━━━━━━━\u001b[0m\u001b[37m\u001b[0m \u001b[1m0s\u001b[0m 2ms/step - loss: 3.4788e-04 - mae: 0.0131 - mape: 358.1369 - mse: 3.4788e-04 - val_loss: 7.1404e-04 - val_mae: 0.0187 - val_mape: 3.7363 - val_mse: 7.1404e-04\n",
      "Epoch 22/50\n",
      "\u001b[1m88/88\u001b[0m \u001b[32m━━━━━━━━━━━━━━━━━━━━\u001b[0m\u001b[37m\u001b[0m \u001b[1m0s\u001b[0m 2ms/step - loss: 3.4732e-04 - mae: 0.0131 - mape: 6022.0957 - mse: 3.4732e-04 - val_loss: 6.3604e-04 - val_mae: 0.0179 - val_mape: 3.5709 - val_mse: 6.3604e-04\n",
      "Epoch 23/50\n",
      "\u001b[1m88/88\u001b[0m \u001b[32m━━━━━━━━━━━━━━━━━━━━\u001b[0m\u001b[37m\u001b[0m \u001b[1m0s\u001b[0m 2ms/step - loss: 3.4771e-04 - mae: 0.0135 - mape: 335.1656 - mse: 3.4771e-04 - val_loss: 6.4254e-04 - val_mae: 0.0178 - val_mape: 3.5617 - val_mse: 6.4254e-04\n",
      "Epoch 24/50\n",
      "\u001b[1m88/88\u001b[0m \u001b[32m━━━━━━━━━━━━━━━━━━━━\u001b[0m\u001b[37m\u001b[0m \u001b[1m0s\u001b[0m 2ms/step - loss: 3.8106e-04 - mae: 0.0134 - mape: 8339.2725 - mse: 3.8106e-04 - val_loss: 6.3298e-04 - val_mae: 0.0177 - val_mape: 3.5416 - val_mse: 6.3298e-04\n",
      "Epoch 25/50\n",
      "\u001b[1m88/88\u001b[0m \u001b[32m━━━━━━━━━━━━━━━━━━━━\u001b[0m\u001b[37m\u001b[0m \u001b[1m0s\u001b[0m 2ms/step - loss: 3.5301e-04 - mae: 0.0129 - mape: 1733.1163 - mse: 3.5301e-04 - val_loss: 6.6635e-04 - val_mae: 0.0181 - val_mape: 3.6237 - val_mse: 6.6635e-04\n",
      "Epoch 26/50\n",
      "\u001b[1m88/88\u001b[0m \u001b[32m━━━━━━━━━━━━━━━━━━━━\u001b[0m\u001b[37m\u001b[0m \u001b[1m0s\u001b[0m 2ms/step - loss: 3.4678e-04 - mae: 0.0134 - mape: 4013.7007 - mse: 3.4678e-04 - val_loss: 7.5219e-04 - val_mae: 0.0195 - val_mape: 3.8884 - val_mse: 7.5219e-04\n",
      "Epoch 27/50\n",
      "\u001b[1m88/88\u001b[0m \u001b[32m━━━━━━━━━━━━━━━━━━━━\u001b[0m\u001b[37m\u001b[0m \u001b[1m0s\u001b[0m 2ms/step - loss: 3.8030e-04 - mae: 0.0131 - mape: 27340.7773 - mse: 3.8030e-04 - val_loss: 6.4178e-04 - val_mae: 0.0178 - val_mape: 3.5519 - val_mse: 6.4178e-04\n",
      "Epoch 28/50\n",
      "\u001b[1m88/88\u001b[0m \u001b[32m━━━━━━━━━━━━━━━━━━━━\u001b[0m\u001b[37m\u001b[0m \u001b[1m0s\u001b[0m 2ms/step - loss: 3.7225e-04 - mae: 0.0133 - mape: 4788.1592 - mse: 3.7225e-04 - val_loss: 6.2749e-04 - val_mae: 0.0176 - val_mape: 3.5279 - val_mse: 6.2749e-04\n",
      "Epoch 29/50\n",
      "\u001b[1m88/88\u001b[0m \u001b[32m━━━━━━━━━━━━━━━━━━━━\u001b[0m\u001b[37m\u001b[0m \u001b[1m0s\u001b[0m 2ms/step - loss: 3.4587e-04 - mae: 0.0132 - mape: 2107.2673 - mse: 3.4587e-04 - val_loss: 6.1497e-04 - val_mae: 0.0174 - val_mape: 3.4879 - val_mse: 6.1497e-04\n",
      "Epoch 30/50\n",
      "\u001b[1m88/88\u001b[0m \u001b[32m━━━━━━━━━━━━━━━━━━━━\u001b[0m\u001b[37m\u001b[0m \u001b[1m0s\u001b[0m 2ms/step - loss: 3.5852e-04 - mae: 0.0131 - mape: 273.2833 - mse: 3.5852e-04 - val_loss: 6.8462e-04 - val_mae: 0.0186 - val_mape: 3.7014 - val_mse: 6.8462e-04\n",
      "Epoch 31/50\n",
      "\u001b[1m88/88\u001b[0m \u001b[32m━━━━━━━━━━━━━━━━━━━━\u001b[0m\u001b[37m\u001b[0m \u001b[1m0s\u001b[0m 2ms/step - loss: 3.0344e-04 - mae: 0.0123 - mape: 6157.3398 - mse: 3.0344e-04 - val_loss: 6.5102e-04 - val_mae: 0.0180 - val_mape: 3.5948 - val_mse: 6.5102e-04\n",
      "Epoch 32/50\n",
      "\u001b[1m88/88\u001b[0m \u001b[32m━━━━━━━━━━━━━━━━━━━━\u001b[0m\u001b[37m\u001b[0m \u001b[1m0s\u001b[0m 2ms/step - loss: 3.4170e-04 - mae: 0.0128 - mape: 892.1298 - mse: 3.4170e-04 - val_loss: 6.1211e-04 - val_mae: 0.0175 - val_mape: 3.4989 - val_mse: 6.1211e-04\n",
      "Epoch 33/50\n",
      "\u001b[1m88/88\u001b[0m \u001b[32m━━━━━━━━━━━━━━━━━━━━\u001b[0m\u001b[37m\u001b[0m \u001b[1m0s\u001b[0m 2ms/step - loss: 3.4675e-04 - mae: 0.0127 - mape: 7927.8438 - mse: 3.4675e-04 - val_loss: 6.1223e-04 - val_mae: 0.0175 - val_mape: 3.4869 - val_mse: 6.1223e-04\n",
      "Epoch 34/50\n",
      "\u001b[1m88/88\u001b[0m \u001b[32m━━━━━━━━━━━━━━━━━━━━\u001b[0m\u001b[37m\u001b[0m \u001b[1m0s\u001b[0m 2ms/step - loss: 3.7828e-04 - mae: 0.0127 - mape: 1977.2090 - mse: 3.7828e-04 - val_loss: 6.1138e-04 - val_mae: 0.0175 - val_mape: 3.4901 - val_mse: 6.1138e-04\n",
      "Epoch 35/50\n",
      "\u001b[1m88/88\u001b[0m \u001b[32m━━━━━━━━━━━━━━━━━━━━\u001b[0m\u001b[37m\u001b[0m \u001b[1m0s\u001b[0m 2ms/step - loss: 3.2754e-04 - mae: 0.0123 - mape: 227.4031 - mse: 3.2754e-04 - val_loss: 6.2282e-04 - val_mae: 0.0176 - val_mape: 3.5211 - val_mse: 6.2282e-04\n",
      "Epoch 36/50\n",
      "\u001b[1m88/88\u001b[0m \u001b[32m━━━━━━━━━━━━━━━━━━━━\u001b[0m\u001b[37m\u001b[0m \u001b[1m0s\u001b[0m 2ms/step - loss: 3.9808e-04 - mae: 0.0132 - mape: 20127.3516 - mse: 3.9808e-04 - val_loss: 6.0221e-04 - val_mae: 0.0175 - val_mape: 3.4774 - val_mse: 6.0221e-04\n",
      "Epoch 37/50\n",
      "\u001b[1m88/88\u001b[0m \u001b[32m━━━━━━━━━━━━━━━━━━━━\u001b[0m\u001b[37m\u001b[0m \u001b[1m0s\u001b[0m 2ms/step - loss: 3.4571e-04 - mae: 0.0127 - mape: 4522.0713 - mse: 3.4571e-04 - val_loss: 6.1853e-04 - val_mae: 0.0177 - val_mape: 3.5149 - val_mse: 6.1853e-04\n",
      "Epoch 38/50\n",
      "\u001b[1m88/88\u001b[0m \u001b[32m━━━━━━━━━━━━━━━━━━━━\u001b[0m\u001b[37m\u001b[0m \u001b[1m0s\u001b[0m 2ms/step - loss: 3.8647e-04 - mae: 0.0130 - mape: 3197.8081 - mse: 3.8647e-04 - val_loss: 5.7980e-04 - val_mae: 0.0172 - val_mape: 3.4322 - val_mse: 5.7980e-04\n",
      "Epoch 39/50\n",
      "\u001b[1m88/88\u001b[0m \u001b[32m━━━━━━━━━━━━━━━━━━━━\u001b[0m\u001b[37m\u001b[0m \u001b[1m0s\u001b[0m 3ms/step - loss: 3.6077e-04 - mae: 0.0126 - mape: 17645.2129 - mse: 3.6077e-04 - val_loss: 6.0311e-04 - val_mae: 0.0175 - val_mape: 3.4852 - val_mse: 6.0311e-04\n",
      "Epoch 40/50\n",
      "\u001b[1m88/88\u001b[0m \u001b[32m━━━━━━━━━━━━━━━━━━━━\u001b[0m\u001b[37m\u001b[0m \u001b[1m0s\u001b[0m 2ms/step - loss: 2.9147e-04 - mae: 0.0123 - mape: 7429.6831 - mse: 2.9147e-04 - val_loss: 6.6815e-04 - val_mae: 0.0186 - val_mape: 3.6910 - val_mse: 6.6815e-04\n",
      "Epoch 41/50\n",
      "\u001b[1m88/88\u001b[0m \u001b[32m━━━━━━━━━━━━━━━━━━━━\u001b[0m\u001b[37m\u001b[0m \u001b[1m0s\u001b[0m 2ms/step - loss: 3.8567e-04 - mae: 0.0128 - mape: 278.7256 - mse: 3.8567e-04 - val_loss: 5.9188e-04 - val_mae: 0.0174 - val_mape: 3.4583 - val_mse: 5.9188e-04\n",
      "Epoch 42/50\n",
      "\u001b[1m88/88\u001b[0m \u001b[32m━━━━━━━━━━━━━━━━━━━━\u001b[0m\u001b[37m\u001b[0m \u001b[1m0s\u001b[0m 2ms/step - loss: 2.8544e-04 - mae: 0.0123 - mape: 1755.1025 - mse: 2.8544e-04 - val_loss: 5.8222e-04 - val_mae: 0.0175 - val_mape: 3.4623 - val_mse: 5.8222e-04\n",
      "Epoch 43/50\n",
      "\u001b[1m88/88\u001b[0m \u001b[32m━━━━━━━━━━━━━━━━━━━━\u001b[0m\u001b[37m\u001b[0m \u001b[1m0s\u001b[0m 2ms/step - loss: 4.2354e-04 - mae: 0.0125 - mape: 2681.7822 - mse: 4.2354e-04 - val_loss: 6.7803e-04 - val_mae: 0.0190 - val_mape: 3.7540 - val_mse: 6.7803e-04\n",
      "Epoch 44/50\n",
      "\u001b[1m88/88\u001b[0m \u001b[32m━━━━━━━━━━━━━━━━━━━━\u001b[0m\u001b[37m\u001b[0m \u001b[1m0s\u001b[0m 2ms/step - loss: 3.2386e-04 - mae: 0.0127 - mape: 4522.9497 - mse: 3.2386e-04 - val_loss: 6.1608e-04 - val_mae: 0.0178 - val_mape: 3.5452 - val_mse: 6.1608e-04\n",
      "Epoch 45/50\n",
      "\u001b[1m88/88\u001b[0m \u001b[32m━━━━━━━━━━━━━━━━━━━━\u001b[0m\u001b[37m\u001b[0m \u001b[1m0s\u001b[0m 2ms/step - loss: 3.3759e-04 - mae: 0.0127 - mape: 4986.6074 - mse: 3.3759e-04 - val_loss: 5.9373e-04 - val_mae: 0.0176 - val_mape: 3.4931 - val_mse: 5.9373e-04\n",
      "Epoch 46/50\n",
      "\u001b[1m88/88\u001b[0m \u001b[32m━━━━━━━━━━━━━━━━━━━━\u001b[0m\u001b[37m\u001b[0m \u001b[1m0s\u001b[0m 2ms/step - loss: 3.7544e-04 - mae: 0.0124 - mape: 841.8853 - mse: 3.7544e-04 - val_loss: 6.1302e-04 - val_mae: 0.0178 - val_mape: 3.5384 - val_mse: 6.1302e-04\n",
      "Epoch 47/50\n",
      "\u001b[1m88/88\u001b[0m \u001b[32m━━━━━━━━━━━━━━━━━━━━\u001b[0m\u001b[37m\u001b[0m \u001b[1m0s\u001b[0m 2ms/step - loss: 4.4117e-04 - mae: 0.0131 - mape: 5493.0723 - mse: 4.4117e-04 - val_loss: 5.5461e-04 - val_mae: 0.0169 - val_mape: 3.3639 - val_mse: 5.5461e-04\n",
      "Epoch 48/50\n",
      "\u001b[1m88/88\u001b[0m \u001b[32m━━━━━━━━━━━━━━━━━━━━\u001b[0m\u001b[37m\u001b[0m \u001b[1m0s\u001b[0m 2ms/step - loss: 3.8105e-04 - mae: 0.0133 - mape: 1774.3083 - mse: 3.8105e-04 - val_loss: 5.6363e-04 - val_mae: 0.0170 - val_mape: 3.3889 - val_mse: 5.6363e-04\n",
      "Epoch 49/50\n",
      "\u001b[1m88/88\u001b[0m \u001b[32m━━━━━━━━━━━━━━━━━━━━\u001b[0m\u001b[37m\u001b[0m \u001b[1m0s\u001b[0m 2ms/step - loss: 3.0797e-04 - mae: 0.0123 - mape: 2748.5239 - mse: 3.0797e-04 - val_loss: 5.4809e-04 - val_mae: 0.0169 - val_mape: 3.3532 - val_mse: 5.4809e-04\n",
      "Epoch 50/50\n",
      "\u001b[1m88/88\u001b[0m \u001b[32m━━━━━━━━━━━━━━━━━━━━\u001b[0m\u001b[37m\u001b[0m \u001b[1m0s\u001b[0m 2ms/step - loss: 3.5708e-04 - mae: 0.0128 - mape: 2708.3992 - mse: 3.5708e-04 - val_loss: 5.7295e-04 - val_mae: 0.0172 - val_mape: 3.4203 - val_mse: 5.7295e-04\n"
     ]
    },
    {
     "name": "stderr",
     "output_type": "stream",
     "text": [
      "WARNING:absl:You are saving your model as an HDF5 file via `model.save()` or `keras.saving.save_model(model)`. This file format is considered legacy. We recommend using instead the native Keras format, e.g. `model.save('my_model.keras')` or `keras.saving.save_model(model, 'my_model.keras')`. \n"
     ]
    },
    {
     "name": "stdout",
     "output_type": "stream",
     "text": [
      "\u001b[1m22/22\u001b[0m \u001b[32m━━━━━━━━━━━━━━━━━━━━\u001b[0m\u001b[37m\u001b[0m \u001b[1m0s\u001b[0m 7ms/step\n",
      "model_1: Processando ITUB4 | Combinação 6...\n",
      "Epoch 1/50\n",
      "\u001b[1m90/90\u001b[0m \u001b[32m━━━━━━━━━━━━━━━━━━━━\u001b[0m\u001b[37m\u001b[0m \u001b[1m1s\u001b[0m 5ms/step - loss: 0.2116 - mae: 0.3975 - mape: 18353.6289 - mse: 0.2116 - val_loss: 0.0198 - val_mae: 0.1138 - val_mape: 17.0713 - val_mse: 0.0198\n",
      "Epoch 2/50\n",
      "\u001b[1m90/90\u001b[0m \u001b[32m━━━━━━━━━━━━━━━━━━━━\u001b[0m\u001b[37m\u001b[0m \u001b[1m0s\u001b[0m 2ms/step - loss: 0.0140 - mae: 0.0940 - mape: 84046.6875 - mse: 0.0140 - val_loss: 0.0088 - val_mae: 0.0740 - val_mape: 11.3478 - val_mse: 0.0088\n",
      "Epoch 3/50\n",
      "\u001b[1m90/90\u001b[0m \u001b[32m━━━━━━━━━━━━━━━━━━━━\u001b[0m\u001b[37m\u001b[0m \u001b[1m0s\u001b[0m 2ms/step - loss: 0.0075 - mae: 0.0659 - mape: 209391.1250 - mse: 0.0075 - val_loss: 0.0042 - val_mae: 0.0523 - val_mape: 8.4379 - val_mse: 0.0042\n",
      "Epoch 4/50\n",
      "\u001b[1m90/90\u001b[0m \u001b[32m━━━━━━━━━━━━━━━━━━━━\u001b[0m\u001b[37m\u001b[0m \u001b[1m0s\u001b[0m 2ms/step - loss: 0.0038 - mae: 0.0460 - mape: 106998.6250 - mse: 0.0038 - val_loss: 0.0023 - val_mae: 0.0388 - val_mape: 6.4306 - val_mse: 0.0023\n",
      "Epoch 5/50\n",
      "\u001b[1m90/90\u001b[0m \u001b[32m━━━━━━━━━━━━━━━━━━━━\u001b[0m\u001b[37m\u001b[0m \u001b[1m0s\u001b[0m 2ms/step - loss: 0.0019 - mae: 0.0327 - mape: 37650.1445 - mse: 0.0019 - val_loss: 0.0014 - val_mae: 0.0288 - val_mape: 4.8447 - val_mse: 0.0014\n",
      "Epoch 6/50\n",
      "\u001b[1m90/90\u001b[0m \u001b[32m━━━━━━━━━━━━━━━━━━━━\u001b[0m\u001b[37m\u001b[0m \u001b[1m0s\u001b[0m 2ms/step - loss: 9.3502e-04 - mae: 0.0234 - mape: 54889.4531 - mse: 9.3502e-04 - val_loss: 9.5010e-04 - val_mae: 0.0233 - val_mape: 3.9218 - val_mse: 9.5010e-04\n",
      "Epoch 7/50\n",
      "\u001b[1m90/90\u001b[0m \u001b[32m━━━━━━━━━━━━━━━━━━━━\u001b[0m\u001b[37m\u001b[0m \u001b[1m0s\u001b[0m 2ms/step - loss: 5.1587e-04 - mae: 0.0176 - mape: 31800.9043 - mse: 5.1587e-04 - val_loss: 8.2327e-04 - val_mae: 0.0214 - val_mape: 3.5895 - val_mse: 8.2327e-04\n",
      "Epoch 8/50\n",
      "\u001b[1m90/90\u001b[0m \u001b[32m━━━━━━━━━━━━━━━━━━━━\u001b[0m\u001b[37m\u001b[0m \u001b[1m0s\u001b[0m 2ms/step - loss: 3.8526e-04 - mae: 0.0149 - mape: 40520.3477 - mse: 3.8526e-04 - val_loss: 7.9867e-04 - val_mae: 0.0210 - val_mape: 3.5117 - val_mse: 7.9867e-04\n",
      "Epoch 9/50\n",
      "\u001b[1m90/90\u001b[0m \u001b[32m━━━━━━━━━━━━━━━━━━━━\u001b[0m\u001b[37m\u001b[0m \u001b[1m0s\u001b[0m 3ms/step - loss: 3.3267e-04 - mae: 0.0138 - mape: 25986.3711 - mse: 3.3267e-04 - val_loss: 7.8483e-04 - val_mae: 0.0207 - val_mape: 3.4689 - val_mse: 7.8483e-04\n",
      "Epoch 10/50\n",
      "\u001b[1m90/90\u001b[0m \u001b[32m━━━━━━━━━━━━━━━━━━━━\u001b[0m\u001b[37m\u001b[0m \u001b[1m0s\u001b[0m 2ms/step - loss: 3.1016e-04 - mae: 0.0132 - mape: 94497.8594 - mse: 3.1016e-04 - val_loss: 8.1317e-04 - val_mae: 0.0208 - val_mape: 3.4810 - val_mse: 8.1317e-04\n",
      "Epoch 11/50\n",
      "\u001b[1m90/90\u001b[0m \u001b[32m━━━━━━━━━━━━━━━━━━━━\u001b[0m\u001b[37m\u001b[0m \u001b[1m0s\u001b[0m 2ms/step - loss: 3.1450e-04 - mae: 0.0132 - mape: 52111.5820 - mse: 3.1450e-04 - val_loss: 7.7875e-04 - val_mae: 0.0205 - val_mape: 3.4308 - val_mse: 7.7875e-04\n",
      "Epoch 12/50\n",
      "\u001b[1m90/90\u001b[0m \u001b[32m━━━━━━━━━━━━━━━━━━━━\u001b[0m\u001b[37m\u001b[0m \u001b[1m0s\u001b[0m 3ms/step - loss: 2.9781e-04 - mae: 0.0128 - mape: 107208.7500 - mse: 2.9781e-04 - val_loss: 7.7083e-04 - val_mae: 0.0203 - val_mape: 3.3887 - val_mse: 7.7083e-04\n",
      "Epoch 13/50\n",
      "\u001b[1m90/90\u001b[0m \u001b[32m━━━━━━━━━━━━━━━━━━━━\u001b[0m\u001b[37m\u001b[0m \u001b[1m0s\u001b[0m 2ms/step - loss: 2.9290e-04 - mae: 0.0128 - mape: 32480.7090 - mse: 2.9290e-04 - val_loss: 7.6796e-04 - val_mae: 0.0201 - val_mape: 3.3695 - val_mse: 7.6796e-04\n",
      "Epoch 14/50\n",
      "\u001b[1m90/90\u001b[0m \u001b[32m━━━━━━━━━━━━━━━━━━━━\u001b[0m\u001b[37m\u001b[0m \u001b[1m0s\u001b[0m 2ms/step - loss: 2.9357e-04 - mae: 0.0128 - mape: 53034.9141 - mse: 2.9357e-04 - val_loss: 7.5329e-04 - val_mae: 0.0199 - val_mape: 3.3303 - val_mse: 7.5329e-04\n",
      "Epoch 15/50\n",
      "\u001b[1m90/90\u001b[0m \u001b[32m━━━━━━━━━━━━━━━━━━━━\u001b[0m\u001b[37m\u001b[0m \u001b[1m0s\u001b[0m 2ms/step - loss: 2.7174e-04 - mae: 0.0123 - mape: 22492.6113 - mse: 2.7174e-04 - val_loss: 7.5201e-04 - val_mae: 0.0198 - val_mape: 3.3141 - val_mse: 7.5201e-04\n",
      "Epoch 16/50\n",
      "\u001b[1m90/90\u001b[0m \u001b[32m━━━━━━━━━━━━━━━━━━━━\u001b[0m\u001b[37m\u001b[0m \u001b[1m0s\u001b[0m 2ms/step - loss: 2.6527e-04 - mae: 0.0121 - mape: 11169.7051 - mse: 2.6527e-04 - val_loss: 7.3706e-04 - val_mae: 0.0195 - val_mape: 3.2799 - val_mse: 7.3706e-04\n",
      "Epoch 17/50\n",
      "\u001b[1m90/90\u001b[0m \u001b[32m━━━━━━━━━━━━━━━━━━━━\u001b[0m\u001b[37m\u001b[0m \u001b[1m0s\u001b[0m 2ms/step - loss: 2.8000e-04 - mae: 0.0123 - mape: 155149.3594 - mse: 2.8000e-04 - val_loss: 7.3861e-04 - val_mae: 0.0195 - val_mape: 3.2776 - val_mse: 7.3861e-04\n",
      "Epoch 18/50\n",
      "\u001b[1m90/90\u001b[0m \u001b[32m━━━━━━━━━━━━━━━━━━━━\u001b[0m\u001b[37m\u001b[0m \u001b[1m0s\u001b[0m 2ms/step - loss: 2.6819e-04 - mae: 0.0122 - mape: 16550.2109 - mse: 2.6819e-04 - val_loss: 7.1062e-04 - val_mae: 0.0191 - val_mape: 3.2131 - val_mse: 7.1062e-04\n",
      "Epoch 19/50\n",
      "\u001b[1m90/90\u001b[0m \u001b[32m━━━━━━━━━━━━━━━━━━━━\u001b[0m\u001b[37m\u001b[0m \u001b[1m0s\u001b[0m 2ms/step - loss: 2.5393e-04 - mae: 0.0117 - mape: 43267.6250 - mse: 2.5393e-04 - val_loss: 6.9958e-04 - val_mae: 0.0189 - val_mape: 3.1845 - val_mse: 6.9958e-04\n",
      "Epoch 20/50\n",
      "\u001b[1m90/90\u001b[0m \u001b[32m━━━━━━━━━━━━━━━━━━━━\u001b[0m\u001b[37m\u001b[0m \u001b[1m0s\u001b[0m 2ms/step - loss: 2.6457e-04 - mae: 0.0121 - mape: 5325.1089 - mse: 2.6457e-04 - val_loss: 6.8706e-04 - val_mae: 0.0188 - val_mape: 3.1585 - val_mse: 6.8706e-04\n",
      "Epoch 21/50\n",
      "\u001b[1m90/90\u001b[0m \u001b[32m━━━━━━━━━━━━━━━━━━━━\u001b[0m\u001b[37m\u001b[0m \u001b[1m0s\u001b[0m 2ms/step - loss: 2.5827e-04 - mae: 0.0119 - mape: 8182.3457 - mse: 2.5827e-04 - val_loss: 7.0950e-04 - val_mae: 0.0189 - val_mape: 3.1928 - val_mse: 7.0950e-04\n",
      "Epoch 22/50\n",
      "\u001b[1m90/90\u001b[0m \u001b[32m━━━━━━━━━━━━━━━━━━━━\u001b[0m\u001b[37m\u001b[0m \u001b[1m0s\u001b[0m 2ms/step - loss: 2.5251e-04 - mae: 0.0117 - mape: 27714.3340 - mse: 2.5251e-04 - val_loss: 7.1088e-04 - val_mae: 0.0189 - val_mape: 3.2090 - val_mse: 7.1088e-04\n",
      "Epoch 23/50\n",
      "\u001b[1m90/90\u001b[0m \u001b[32m━━━━━━━━━━━━━━━━━━━━\u001b[0m\u001b[37m\u001b[0m \u001b[1m0s\u001b[0m 2ms/step - loss: 2.5523e-04 - mae: 0.0119 - mape: 43623.8203 - mse: 2.5523e-04 - val_loss: 6.6542e-04 - val_mae: 0.0182 - val_mape: 3.0837 - val_mse: 6.6542e-04\n",
      "Epoch 24/50\n",
      "\u001b[1m90/90\u001b[0m \u001b[32m━━━━━━━━━━━━━━━━━━━━\u001b[0m\u001b[37m\u001b[0m \u001b[1m0s\u001b[0m 2ms/step - loss: 2.5868e-04 - mae: 0.0119 - mape: 57794.2969 - mse: 2.5868e-04 - val_loss: 6.7487e-04 - val_mae: 0.0183 - val_mape: 3.1049 - val_mse: 6.7487e-04\n",
      "Epoch 25/50\n",
      "\u001b[1m90/90\u001b[0m \u001b[32m━━━━━━━━━━━━━━━━━━━━\u001b[0m\u001b[37m\u001b[0m \u001b[1m0s\u001b[0m 2ms/step - loss: 2.4897e-04 - mae: 0.0118 - mape: 9190.6436 - mse: 2.4897e-04 - val_loss: 6.7768e-04 - val_mae: 0.0184 - val_mape: 3.1234 - val_mse: 6.7768e-04\n",
      "Epoch 26/50\n",
      "\u001b[1m90/90\u001b[0m \u001b[32m━━━━━━━━━━━━━━━━━━━━\u001b[0m\u001b[37m\u001b[0m \u001b[1m0s\u001b[0m 2ms/step - loss: 2.2894e-04 - mae: 0.0112 - mape: 19331.8438 - mse: 2.2894e-04 - val_loss: 6.8819e-04 - val_mae: 0.0185 - val_mape: 3.1600 - val_mse: 6.8819e-04\n",
      "Epoch 27/50\n",
      "\u001b[1m90/90\u001b[0m \u001b[32m━━━━━━━━━━━━━━━━━━━━\u001b[0m\u001b[37m\u001b[0m \u001b[1m0s\u001b[0m 2ms/step - loss: 2.4605e-04 - mae: 0.0115 - mape: 51089.5039 - mse: 2.4605e-04 - val_loss: 6.5348e-04 - val_mae: 0.0180 - val_mape: 3.0665 - val_mse: 6.5348e-04\n",
      "Epoch 28/50\n",
      "\u001b[1m90/90\u001b[0m \u001b[32m━━━━━━━━━━━━━━━━━━━━\u001b[0m\u001b[37m\u001b[0m \u001b[1m0s\u001b[0m 2ms/step - loss: 2.4177e-04 - mae: 0.0115 - mape: 27894.7637 - mse: 2.4177e-04 - val_loss: 6.8107e-04 - val_mae: 0.0184 - val_mape: 3.1499 - val_mse: 6.8107e-04\n",
      "Epoch 29/50\n",
      "\u001b[1m90/90\u001b[0m \u001b[32m━━━━━━━━━━━━━━━━━━━━\u001b[0m\u001b[37m\u001b[0m \u001b[1m0s\u001b[0m 2ms/step - loss: 2.3478e-04 - mae: 0.0113 - mape: 39896.7969 - mse: 2.3478e-04 - val_loss: 6.6346e-04 - val_mae: 0.0181 - val_mape: 3.1024 - val_mse: 6.6346e-04\n",
      "Epoch 30/50\n",
      "\u001b[1m90/90\u001b[0m \u001b[32m━━━━━━━━━━━━━━━━━━━━\u001b[0m\u001b[37m\u001b[0m \u001b[1m0s\u001b[0m 2ms/step - loss: 2.4137e-04 - mae: 0.0114 - mape: 22852.8184 - mse: 2.4137e-04 - val_loss: 6.2825e-04 - val_mae: 0.0175 - val_mape: 2.9766 - val_mse: 6.2825e-04\n",
      "Epoch 31/50\n",
      "\u001b[1m90/90\u001b[0m \u001b[32m━━━━━━━━━━━━━━━━━━━━\u001b[0m\u001b[37m\u001b[0m \u001b[1m0s\u001b[0m 2ms/step - loss: 2.3592e-04 - mae: 0.0114 - mape: 37979.0977 - mse: 2.3592e-04 - val_loss: 6.3105e-04 - val_mae: 0.0176 - val_mape: 2.9990 - val_mse: 6.3105e-04\n",
      "Epoch 32/50\n",
      "\u001b[1m90/90\u001b[0m \u001b[32m━━━━━━━━━━━━━━━━━━━━\u001b[0m\u001b[37m\u001b[0m \u001b[1m0s\u001b[0m 2ms/step - loss: 2.2513e-04 - mae: 0.0112 - mape: 13044.1611 - mse: 2.2513e-04 - val_loss: 6.3318e-04 - val_mae: 0.0176 - val_mape: 3.0094 - val_mse: 6.3318e-04\n",
      "Epoch 33/50\n",
      "\u001b[1m90/90\u001b[0m \u001b[32m━━━━━━━━━━━━━━━━━━━━\u001b[0m\u001b[37m\u001b[0m \u001b[1m0s\u001b[0m 2ms/step - loss: 2.1686e-04 - mae: 0.0108 - mape: 72816.5703 - mse: 2.1686e-04 - val_loss: 6.1565e-04 - val_mae: 0.0174 - val_mape: 2.9573 - val_mse: 6.1565e-04\n",
      "Epoch 34/50\n",
      "\u001b[1m90/90\u001b[0m \u001b[32m━━━━━━━━━━━━━━━━━━━━\u001b[0m\u001b[37m\u001b[0m \u001b[1m0s\u001b[0m 2ms/step - loss: 2.2475e-04 - mae: 0.0110 - mape: 71715.7188 - mse: 2.2475e-04 - val_loss: 6.8050e-04 - val_mae: 0.0185 - val_mape: 3.1767 - val_mse: 6.8050e-04\n",
      "Epoch 35/50\n",
      "\u001b[1m90/90\u001b[0m \u001b[32m━━━━━━━━━━━━━━━━━━━━\u001b[0m\u001b[37m\u001b[0m \u001b[1m0s\u001b[0m 2ms/step - loss: 2.3625e-04 - mae: 0.0113 - mape: 157391.4219 - mse: 2.3625e-04 - val_loss: 6.0608e-04 - val_mae: 0.0172 - val_mape: 2.9267 - val_mse: 6.0608e-04\n",
      "Epoch 36/50\n",
      "\u001b[1m90/90\u001b[0m \u001b[32m━━━━━━━━━━━━━━━━━━━━\u001b[0m\u001b[37m\u001b[0m \u001b[1m0s\u001b[0m 2ms/step - loss: 2.0986e-04 - mae: 0.0109 - mape: 24785.3418 - mse: 2.0986e-04 - val_loss: 7.0560e-04 - val_mae: 0.0190 - val_mape: 3.2719 - val_mse: 7.0560e-04\n",
      "Epoch 37/50\n",
      "\u001b[1m90/90\u001b[0m \u001b[32m━━━━━━━━━━━━━━━━━━━━\u001b[0m\u001b[37m\u001b[0m \u001b[1m0s\u001b[0m 2ms/step - loss: 2.3463e-04 - mae: 0.0112 - mape: 61466.0781 - mse: 2.3463e-04 - val_loss: 5.9880e-04 - val_mae: 0.0171 - val_mape: 2.9197 - val_mse: 5.9880e-04\n",
      "Epoch 38/50\n",
      "\u001b[1m90/90\u001b[0m \u001b[32m━━━━━━━━━━━━━━━━━━━━\u001b[0m\u001b[37m\u001b[0m \u001b[1m0s\u001b[0m 2ms/step - loss: 2.1724e-04 - mae: 0.0109 - mape: 34987.0781 - mse: 2.1724e-04 - val_loss: 6.0393e-04 - val_mae: 0.0172 - val_mape: 2.9400 - val_mse: 6.0393e-04\n",
      "Epoch 39/50\n",
      "\u001b[1m90/90\u001b[0m \u001b[32m━━━━━━━━━━━━━━━━━━━━\u001b[0m\u001b[37m\u001b[0m \u001b[1m0s\u001b[0m 2ms/step - loss: 2.2751e-04 - mae: 0.0112 - mape: 42151.2891 - mse: 2.2751e-04 - val_loss: 5.9606e-04 - val_mae: 0.0171 - val_mape: 2.9188 - val_mse: 5.9606e-04\n",
      "Epoch 40/50\n",
      "\u001b[1m90/90\u001b[0m \u001b[32m━━━━━━━━━━━━━━━━━━━━\u001b[0m\u001b[37m\u001b[0m \u001b[1m0s\u001b[0m 2ms/step - loss: 2.0251e-04 - mae: 0.0106 - mape: 24677.5449 - mse: 2.0251e-04 - val_loss: 6.5875e-04 - val_mae: 0.0182 - val_mape: 3.1356 - val_mse: 6.5875e-04\n",
      "Epoch 41/50\n",
      "\u001b[1m90/90\u001b[0m \u001b[32m━━━━━━━━━━━━━━━━━━━━\u001b[0m\u001b[37m\u001b[0m \u001b[1m0s\u001b[0m 2ms/step - loss: 2.1227e-04 - mae: 0.0109 - mape: 20736.0020 - mse: 2.1227e-04 - val_loss: 5.9100e-04 - val_mae: 0.0170 - val_mape: 2.9101 - val_mse: 5.9100e-04\n",
      "Epoch 42/50\n",
      "\u001b[1m90/90\u001b[0m \u001b[32m━━━━━━━━━━━━━━━━━━━━\u001b[0m\u001b[37m\u001b[0m \u001b[1m0s\u001b[0m 2ms/step - loss: 2.2476e-04 - mae: 0.0111 - mape: 49294.1289 - mse: 2.2476e-04 - val_loss: 5.7882e-04 - val_mae: 0.0168 - val_mape: 2.8665 - val_mse: 5.7882e-04\n",
      "Epoch 43/50\n",
      "\u001b[1m90/90\u001b[0m \u001b[32m━━━━━━━━━━━━━━━━━━━━\u001b[0m\u001b[37m\u001b[0m \u001b[1m0s\u001b[0m 2ms/step - loss: 2.1883e-04 - mae: 0.0107 - mape: 19083.7695 - mse: 2.1883e-04 - val_loss: 6.0635e-04 - val_mae: 0.0173 - val_mape: 2.9706 - val_mse: 6.0635e-04\n",
      "Epoch 44/50\n",
      "\u001b[1m90/90\u001b[0m \u001b[32m━━━━━━━━━━━━━━━━━━━━\u001b[0m\u001b[37m\u001b[0m \u001b[1m0s\u001b[0m 2ms/step - loss: 2.2521e-04 - mae: 0.0110 - mape: 120445.7109 - mse: 2.2521e-04 - val_loss: 5.8271e-04 - val_mae: 0.0169 - val_mape: 2.8881 - val_mse: 5.8271e-04\n",
      "Epoch 45/50\n",
      "\u001b[1m90/90\u001b[0m \u001b[32m━━━━━━━━━━━━━━━━━━━━\u001b[0m\u001b[37m\u001b[0m \u001b[1m0s\u001b[0m 2ms/step - loss: 2.1666e-04 - mae: 0.0109 - mape: 16839.6289 - mse: 2.1666e-04 - val_loss: 6.1634e-04 - val_mae: 0.0175 - val_mape: 3.0118 - val_mse: 6.1634e-04\n",
      "Epoch 46/50\n",
      "\u001b[1m90/90\u001b[0m \u001b[32m━━━━━━━━━━━━━━━━━━━━\u001b[0m\u001b[37m\u001b[0m \u001b[1m0s\u001b[0m 2ms/step - loss: 2.1765e-04 - mae: 0.0109 - mape: 52105.4492 - mse: 2.1765e-04 - val_loss: 6.1329e-04 - val_mae: 0.0175 - val_mape: 3.0037 - val_mse: 6.1329e-04\n",
      "Epoch 47/50\n",
      "\u001b[1m90/90\u001b[0m \u001b[32m━━━━━━━━━━━━━━━━━━━━\u001b[0m\u001b[37m\u001b[0m \u001b[1m0s\u001b[0m 2ms/step - loss: 2.0738e-04 - mae: 0.0106 - mape: 6198.4028 - mse: 2.0738e-04 - val_loss: 5.5950e-04 - val_mae: 0.0166 - val_mape: 2.8129 - val_mse: 5.5950e-04\n",
      "Epoch 48/50\n",
      "\u001b[1m90/90\u001b[0m \u001b[32m━━━━━━━━━━━━━━━━━━━━\u001b[0m\u001b[37m\u001b[0m \u001b[1m0s\u001b[0m 2ms/step - loss: 2.1802e-04 - mae: 0.0108 - mape: 47768.6289 - mse: 2.1802e-04 - val_loss: 6.2537e-04 - val_mae: 0.0178 - val_mape: 3.0551 - val_mse: 6.2537e-04\n",
      "Epoch 49/50\n",
      "\u001b[1m90/90\u001b[0m \u001b[32m━━━━━━━━━━━━━━━━━━━━\u001b[0m\u001b[37m\u001b[0m \u001b[1m0s\u001b[0m 2ms/step - loss: 2.1696e-04 - mae: 0.0110 - mape: 24699.7207 - mse: 2.1696e-04 - val_loss: 5.5737e-04 - val_mae: 0.0167 - val_mape: 2.8259 - val_mse: 5.5737e-04\n",
      "Epoch 50/50\n",
      "\u001b[1m90/90\u001b[0m \u001b[32m━━━━━━━━━━━━━━━━━━━━\u001b[0m\u001b[37m\u001b[0m \u001b[1m0s\u001b[0m 2ms/step - loss: 2.0700e-04 - mae: 0.0107 - mape: 33433.3789 - mse: 2.0700e-04 - val_loss: 5.5799e-04 - val_mae: 0.0166 - val_mape: 2.8379 - val_mse: 5.5799e-04\n"
     ]
    },
    {
     "name": "stderr",
     "output_type": "stream",
     "text": [
      "WARNING:absl:You are saving your model as an HDF5 file via `model.save()` or `keras.saving.save_model(model)`. This file format is considered legacy. We recommend using instead the native Keras format, e.g. `model.save('my_model.keras')` or `keras.saving.save_model(model, 'my_model.keras')`. \n"
     ]
    },
    {
     "name": "stdout",
     "output_type": "stream",
     "text": [
      "\u001b[1m23/23\u001b[0m \u001b[32m━━━━━━━━━━━━━━━━━━━━\u001b[0m\u001b[37m\u001b[0m \u001b[1m0s\u001b[0m 5ms/step\n"
     ]
    },
    {
     "name": "stderr",
     "output_type": "stream",
     "text": [
      "Processando combinações:  86%|████████▌ | 6/7 [04:29<00:47, 47.73s/it]"
     ]
    },
    {
     "name": "stdout",
     "output_type": "stream",
     "text": [
      "model_1: Processando PETR4 | Combinação 7...\n",
      "Epoch 1/50\n",
      "\u001b[1m90/90\u001b[0m \u001b[32m━━━━━━━━━━━━━━━━━━━━\u001b[0m\u001b[37m\u001b[0m \u001b[1m1s\u001b[0m 5ms/step - loss: 0.1082 - mae: 0.2682 - mape: 27592.1777 - mse: 0.1082 - val_loss: 0.0046 - val_mae: 0.0568 - val_mape: 12.9266 - val_mse: 0.0046\n",
      "Epoch 2/50\n",
      "\u001b[1m90/90\u001b[0m \u001b[32m━━━━━━━━━━━━━━━━━━━━\u001b[0m\u001b[37m\u001b[0m \u001b[1m0s\u001b[0m 2ms/step - loss: 0.0062 - mae: 0.0620 - mape: 142780.4531 - mse: 0.0062 - val_loss: 0.0018 - val_mae: 0.0340 - val_mape: 7.9283 - val_mse: 0.0018\n",
      "Epoch 3/50\n",
      "\u001b[1m90/90\u001b[0m \u001b[32m━━━━━━━━━━━━━━━━━━━━\u001b[0m\u001b[37m\u001b[0m \u001b[1m0s\u001b[0m 2ms/step - loss: 0.0014 - mae: 0.0281 - mape: 33463.5273 - mse: 0.0014 - val_loss: 7.6888e-04 - val_mae: 0.0191 - val_mape: 4.8943 - val_mse: 7.6888e-04\n",
      "Epoch 4/50\n",
      "\u001b[1m90/90\u001b[0m \u001b[32m━━━━━━━━━━━━━━━━━━━━\u001b[0m\u001b[37m\u001b[0m \u001b[1m0s\u001b[0m 2ms/step - loss: 4.4191e-04 - mae: 0.0155 - mape: 30372.2012 - mse: 4.4191e-04 - val_loss: 6.4438e-04 - val_mae: 0.0166 - val_mape: 4.3667 - val_mse: 6.4438e-04\n",
      "Epoch 5/50\n",
      "\u001b[1m90/90\u001b[0m \u001b[32m━━━━━━━━━━━━━━━━━━━━\u001b[0m\u001b[37m\u001b[0m \u001b[1m0s\u001b[0m 2ms/step - loss: 3.4996e-04 - mae: 0.0133 - mape: 505.5319 - mse: 3.4996e-04 - val_loss: 6.2427e-04 - val_mae: 0.0159 - val_mape: 4.2097 - val_mse: 6.2427e-04\n",
      "Epoch 6/50\n",
      "\u001b[1m90/90\u001b[0m \u001b[32m━━━━━━━━━━━━━━━━━━━━\u001b[0m\u001b[37m\u001b[0m \u001b[1m0s\u001b[0m 2ms/step - loss: 2.9146e-04 - mae: 0.0122 - mape: 27290.1270 - mse: 2.9146e-04 - val_loss: 5.9926e-04 - val_mae: 0.0158 - val_mape: 4.1528 - val_mse: 5.9926e-04\n",
      "Epoch 7/50\n",
      "\u001b[1m90/90\u001b[0m \u001b[32m━━━━━━━━━━━━━━━━━━━━\u001b[0m\u001b[37m\u001b[0m \u001b[1m0s\u001b[0m 2ms/step - loss: 2.8924e-04 - mae: 0.0123 - mape: 26529.1191 - mse: 2.8924e-04 - val_loss: 5.8637e-04 - val_mae: 0.0155 - val_mape: 4.0734 - val_mse: 5.8637e-04\n",
      "Epoch 8/50\n",
      "\u001b[1m90/90\u001b[0m \u001b[32m━━━━━━━━━━━━━━━━━━━━\u001b[0m\u001b[37m\u001b[0m \u001b[1m0s\u001b[0m 2ms/step - loss: 2.9801e-04 - mae: 0.0122 - mape: 2773.1775 - mse: 2.9801e-04 - val_loss: 5.8442e-04 - val_mae: 0.0153 - val_mape: 4.0397 - val_mse: 5.8442e-04\n",
      "Epoch 9/50\n",
      "\u001b[1m90/90\u001b[0m \u001b[32m━━━━━━━━━━━━━━━━━━━━\u001b[0m\u001b[37m\u001b[0m \u001b[1m0s\u001b[0m 2ms/step - loss: 2.6452e-04 - mae: 0.0118 - mape: 9129.0908 - mse: 2.6452e-04 - val_loss: 5.6260e-04 - val_mae: 0.0152 - val_mape: 3.9906 - val_mse: 5.6260e-04\n",
      "Epoch 10/50\n",
      "\u001b[1m90/90\u001b[0m \u001b[32m━━━━━━━━━━━━━━━━━━━━\u001b[0m\u001b[37m\u001b[0m \u001b[1m0s\u001b[0m 2ms/step - loss: 2.8708e-04 - mae: 0.0121 - mape: 4791.0117 - mse: 2.8708e-04 - val_loss: 5.6303e-04 - val_mae: 0.0151 - val_mape: 3.9606 - val_mse: 5.6303e-04\n",
      "Epoch 11/50\n",
      "\u001b[1m90/90\u001b[0m \u001b[32m━━━━━━━━━━━━━━━━━━━━\u001b[0m\u001b[37m\u001b[0m \u001b[1m0s\u001b[0m 2ms/step - loss: 2.7753e-04 - mae: 0.0119 - mape: 7866.6641 - mse: 2.7753e-04 - val_loss: 5.4871e-04 - val_mae: 0.0151 - val_mape: 3.9376 - val_mse: 5.4871e-04\n",
      "Epoch 12/50\n",
      "\u001b[1m90/90\u001b[0m \u001b[32m━━━━━━━━━━━━━━━━━━━━\u001b[0m\u001b[37m\u001b[0m \u001b[1m0s\u001b[0m 2ms/step - loss: 2.5934e-04 - mae: 0.0116 - mape: 16066.4385 - mse: 2.5934e-04 - val_loss: 5.5921e-04 - val_mae: 0.0150 - val_mape: 3.9328 - val_mse: 5.5921e-04\n",
      "Epoch 13/50\n",
      "\u001b[1m90/90\u001b[0m \u001b[32m━━━━━━━━━━━━━━━━━━━━\u001b[0m\u001b[37m\u001b[0m \u001b[1m0s\u001b[0m 2ms/step - loss: 2.8608e-04 - mae: 0.0119 - mape: 4838.6797 - mse: 2.8608e-04 - val_loss: 5.4676e-04 - val_mae: 0.0148 - val_mape: 3.8908 - val_mse: 5.4676e-04\n",
      "Epoch 14/50\n",
      "\u001b[1m90/90\u001b[0m \u001b[32m━━━━━━━━━━━━━━━━━━━━\u001b[0m\u001b[37m\u001b[0m \u001b[1m0s\u001b[0m 2ms/step - loss: 2.9757e-04 - mae: 0.0120 - mape: 4634.8223 - mse: 2.9757e-04 - val_loss: 5.4992e-04 - val_mae: 0.0149 - val_mape: 3.8898 - val_mse: 5.4992e-04\n",
      "Epoch 15/50\n",
      "\u001b[1m90/90\u001b[0m \u001b[32m━━━━━━━━━━━━━━━━━━━━\u001b[0m\u001b[37m\u001b[0m \u001b[1m0s\u001b[0m 2ms/step - loss: 2.7224e-04 - mae: 0.0118 - mape: 3353.5149 - mse: 2.7224e-04 - val_loss: 5.4535e-04 - val_mae: 0.0148 - val_mape: 3.8800 - val_mse: 5.4535e-04\n",
      "Epoch 16/50\n",
      "\u001b[1m90/90\u001b[0m \u001b[32m━━━━━━━━━━━━━━━━━━━━\u001b[0m\u001b[37m\u001b[0m \u001b[1m0s\u001b[0m 2ms/step - loss: 2.5773e-04 - mae: 0.0115 - mape: 21904.5977 - mse: 2.5773e-04 - val_loss: 5.2795e-04 - val_mae: 0.0148 - val_mape: 3.8524 - val_mse: 5.2795e-04\n",
      "Epoch 17/50\n",
      "\u001b[1m90/90\u001b[0m \u001b[32m━━━━━━━━━━━━━━━━━━━━\u001b[0m\u001b[37m\u001b[0m \u001b[1m0s\u001b[0m 3ms/step - loss: 2.7791e-04 - mae: 0.0118 - mape: 17841.4824 - mse: 2.7791e-04 - val_loss: 5.2113e-04 - val_mae: 0.0148 - val_mape: 3.8270 - val_mse: 5.2113e-04\n",
      "Epoch 18/50\n",
      "\u001b[1m90/90\u001b[0m \u001b[32m━━━━━━━━━━━━━━━━━━━━\u001b[0m\u001b[37m\u001b[0m \u001b[1m0s\u001b[0m 2ms/step - loss: 2.6973e-04 - mae: 0.0117 - mape: 10650.6865 - mse: 2.6973e-04 - val_loss: 5.3160e-04 - val_mae: 0.0146 - val_mape: 3.8196 - val_mse: 5.3160e-04\n",
      "Epoch 19/50\n",
      "\u001b[1m90/90\u001b[0m \u001b[32m━━━━━━━━━━━━━━━━━━━━\u001b[0m\u001b[37m\u001b[0m \u001b[1m0s\u001b[0m 2ms/step - loss: 2.8218e-04 - mae: 0.0117 - mape: 4572.9058 - mse: 2.8218e-04 - val_loss: 5.4693e-04 - val_mae: 0.0149 - val_mape: 3.8892 - val_mse: 5.4693e-04\n",
      "Epoch 20/50\n",
      "\u001b[1m90/90\u001b[0m \u001b[32m━━━━━━━━━━━━━━━━━━━━\u001b[0m\u001b[37m\u001b[0m \u001b[1m0s\u001b[0m 2ms/step - loss: 2.4773e-04 - mae: 0.0115 - mape: 5028.7007 - mse: 2.4773e-04 - val_loss: 5.1172e-04 - val_mae: 0.0146 - val_mape: 3.7755 - val_mse: 5.1172e-04\n",
      "Epoch 21/50\n",
      "\u001b[1m90/90\u001b[0m \u001b[32m━━━━━━━━━━━━━━━━━━━━\u001b[0m\u001b[37m\u001b[0m \u001b[1m0s\u001b[0m 2ms/step - loss: 2.5078e-04 - mae: 0.0114 - mape: 19441.0469 - mse: 2.5078e-04 - val_loss: 5.0836e-04 - val_mae: 0.0144 - val_mape: 3.7349 - val_mse: 5.0836e-04\n",
      "Epoch 22/50\n",
      "\u001b[1m90/90\u001b[0m \u001b[32m━━━━━━━━━━━━━━━━━━━━\u001b[0m\u001b[37m\u001b[0m \u001b[1m0s\u001b[0m 2ms/step - loss: 2.7251e-04 - mae: 0.0116 - mape: 3106.7803 - mse: 2.7251e-04 - val_loss: 5.5308e-04 - val_mae: 0.0151 - val_mape: 3.9162 - val_mse: 5.5308e-04\n",
      "Epoch 23/50\n",
      "\u001b[1m90/90\u001b[0m \u001b[32m━━━━━━━━━━━━━━━━━━━━\u001b[0m\u001b[37m\u001b[0m \u001b[1m0s\u001b[0m 2ms/step - loss: 2.4847e-04 - mae: 0.0114 - mape: 2899.7451 - mse: 2.4847e-04 - val_loss: 5.3581e-04 - val_mae: 0.0148 - val_mape: 3.8416 - val_mse: 5.3581e-04\n",
      "Epoch 24/50\n",
      "\u001b[1m90/90\u001b[0m \u001b[32m━━━━━━━━━━━━━━━━━━━━\u001b[0m\u001b[37m\u001b[0m \u001b[1m0s\u001b[0m 2ms/step - loss: 2.4943e-04 - mae: 0.0113 - mape: 3104.1575 - mse: 2.4943e-04 - val_loss: 5.5826e-04 - val_mae: 0.0153 - val_mape: 3.9512 - val_mse: 5.5826e-04\n",
      "Epoch 25/50\n",
      "\u001b[1m90/90\u001b[0m \u001b[32m━━━━━━━━━━━━━━━━━━━━\u001b[0m\u001b[37m\u001b[0m \u001b[1m0s\u001b[0m 2ms/step - loss: 2.8578e-04 - mae: 0.0118 - mape: 7001.0977 - mse: 2.8578e-04 - val_loss: 4.9289e-04 - val_mae: 0.0142 - val_mape: 3.6629 - val_mse: 4.9289e-04\n",
      "Epoch 26/50\n",
      "\u001b[1m90/90\u001b[0m \u001b[32m━━━━━━━━━━━━━━━━━━━━\u001b[0m\u001b[37m\u001b[0m \u001b[1m0s\u001b[0m 2ms/step - loss: 2.3138e-04 - mae: 0.0111 - mape: 9741.0615 - mse: 2.3138e-04 - val_loss: 4.8197e-04 - val_mae: 0.0141 - val_mape: 3.6373 - val_mse: 4.8197e-04\n",
      "Epoch 27/50\n",
      "\u001b[1m90/90\u001b[0m \u001b[32m━━━━━━━━━━━━━━━━━━━━\u001b[0m\u001b[37m\u001b[0m \u001b[1m0s\u001b[0m 2ms/step - loss: 2.4601e-04 - mae: 0.0112 - mape: 3270.1287 - mse: 2.4601e-04 - val_loss: 4.9195e-04 - val_mae: 0.0141 - val_mape: 3.6466 - val_mse: 4.9195e-04\n",
      "Epoch 28/50\n",
      "\u001b[1m90/90\u001b[0m \u001b[32m━━━━━━━━━━━━━━━━━━━━\u001b[0m\u001b[37m\u001b[0m \u001b[1m0s\u001b[0m 2ms/step - loss: 2.4195e-04 - mae: 0.0109 - mape: 2263.8567 - mse: 2.4195e-04 - val_loss: 4.8006e-04 - val_mae: 0.0140 - val_mape: 3.6029 - val_mse: 4.8006e-04\n",
      "Epoch 29/50\n",
      "\u001b[1m90/90\u001b[0m \u001b[32m━━━━━━━━━━━━━━━━━━━━\u001b[0m\u001b[37m\u001b[0m \u001b[1m0s\u001b[0m 2ms/step - loss: 2.2549e-04 - mae: 0.0109 - mape: 1090.6610 - mse: 2.2549e-04 - val_loss: 4.7292e-04 - val_mae: 0.0139 - val_mape: 3.5808 - val_mse: 4.7292e-04\n",
      "Epoch 30/50\n",
      "\u001b[1m90/90\u001b[0m \u001b[32m━━━━━━━━━━━━━━━━━━━━\u001b[0m\u001b[37m\u001b[0m \u001b[1m0s\u001b[0m 3ms/step - loss: 2.4258e-04 - mae: 0.0110 - mape: 5570.7715 - mse: 2.4258e-04 - val_loss: 4.6994e-04 - val_mae: 0.0139 - val_mape: 3.5542 - val_mse: 4.6994e-04\n",
      "Epoch 31/50\n",
      "\u001b[1m90/90\u001b[0m \u001b[32m━━━━━━━━━━━━━━━━━━━━\u001b[0m\u001b[37m\u001b[0m \u001b[1m0s\u001b[0m 2ms/step - loss: 2.5403e-04 - mae: 0.0113 - mape: 8473.3379 - mse: 2.5403e-04 - val_loss: 5.4252e-04 - val_mae: 0.0152 - val_mape: 3.8698 - val_mse: 5.4252e-04\n",
      "Epoch 32/50\n",
      "\u001b[1m90/90\u001b[0m \u001b[32m━━━━━━━━━━━━━━━━━━━━\u001b[0m\u001b[37m\u001b[0m \u001b[1m0s\u001b[0m 2ms/step - loss: 2.5316e-04 - mae: 0.0114 - mape: 1789.4309 - mse: 2.5316e-04 - val_loss: 4.5352e-04 - val_mae: 0.0137 - val_mape: 3.4955 - val_mse: 4.5352e-04\n",
      "Epoch 33/50\n",
      "\u001b[1m90/90\u001b[0m \u001b[32m━━━━━━━━━━━━━━━━━━━━\u001b[0m\u001b[37m\u001b[0m \u001b[1m0s\u001b[0m 2ms/step - loss: 2.2853e-04 - mae: 0.0108 - mape: 20160.5977 - mse: 2.2853e-04 - val_loss: 4.4967e-04 - val_mae: 0.0136 - val_mape: 3.4698 - val_mse: 4.4967e-04\n",
      "Epoch 34/50\n",
      "\u001b[1m90/90\u001b[0m \u001b[32m━━━━━━━━━━━━━━━━━━━━\u001b[0m\u001b[37m\u001b[0m \u001b[1m0s\u001b[0m 2ms/step - loss: 2.3219e-04 - mae: 0.0108 - mape: 2015.4482 - mse: 2.3219e-04 - val_loss: 4.7053e-04 - val_mae: 0.0139 - val_mape: 3.5501 - val_mse: 4.7053e-04\n",
      "Epoch 35/50\n",
      "\u001b[1m90/90\u001b[0m \u001b[32m━━━━━━━━━━━━━━━━━━━━\u001b[0m\u001b[37m\u001b[0m \u001b[1m0s\u001b[0m 2ms/step - loss: 2.0913e-04 - mae: 0.0106 - mape: 13974.9199 - mse: 2.0913e-04 - val_loss: 4.3923e-04 - val_mae: 0.0137 - val_mape: 3.4607 - val_mse: 4.3923e-04\n",
      "Epoch 36/50\n",
      "\u001b[1m90/90\u001b[0m \u001b[32m━━━━━━━━━━━━━━━━━━━━\u001b[0m\u001b[37m\u001b[0m \u001b[1m0s\u001b[0m 2ms/step - loss: 2.1905e-04 - mae: 0.0106 - mape: 2048.7434 - mse: 2.1905e-04 - val_loss: 4.3418e-04 - val_mae: 0.0135 - val_mape: 3.4150 - val_mse: 4.3418e-04\n",
      "Epoch 37/50\n",
      "\u001b[1m90/90\u001b[0m \u001b[32m━━━━━━━━━━━━━━━━━━━━\u001b[0m\u001b[37m\u001b[0m \u001b[1m0s\u001b[0m 2ms/step - loss: 2.1489e-04 - mae: 0.0105 - mape: 1677.1913 - mse: 2.1489e-04 - val_loss: 4.3076e-04 - val_mae: 0.0134 - val_mape: 3.3995 - val_mse: 4.3076e-04\n",
      "Epoch 38/50\n",
      "\u001b[1m90/90\u001b[0m \u001b[32m━━━━━━━━━━━━━━━━━━━━\u001b[0m\u001b[37m\u001b[0m \u001b[1m0s\u001b[0m 2ms/step - loss: 2.1455e-04 - mae: 0.0106 - mape: 8567.3867 - mse: 2.1455e-04 - val_loss: 4.3646e-04 - val_mae: 0.0134 - val_mape: 3.3915 - val_mse: 4.3646e-04\n",
      "Epoch 39/50\n",
      "\u001b[1m90/90\u001b[0m \u001b[32m━━━━━━━━━━━━━━━━━━━━\u001b[0m\u001b[37m\u001b[0m \u001b[1m0s\u001b[0m 2ms/step - loss: 2.0204e-04 - mae: 0.0102 - mape: 16372.9385 - mse: 2.0204e-04 - val_loss: 4.2944e-04 - val_mae: 0.0133 - val_mape: 3.3639 - val_mse: 4.2944e-04\n",
      "Epoch 40/50\n",
      "\u001b[1m90/90\u001b[0m \u001b[32m━━━━━━━━━━━━━━━━━━━━\u001b[0m\u001b[37m\u001b[0m \u001b[1m0s\u001b[0m 2ms/step - loss: 2.1170e-04 - mae: 0.0105 - mape: 4142.0308 - mse: 2.1170e-04 - val_loss: 4.5613e-04 - val_mae: 0.0138 - val_mape: 3.4689 - val_mse: 4.5613e-04\n",
      "Epoch 41/50\n",
      "\u001b[1m90/90\u001b[0m \u001b[32m━━━━━━━━━━━━━━━━━━━━\u001b[0m\u001b[37m\u001b[0m \u001b[1m0s\u001b[0m 2ms/step - loss: 2.1440e-04 - mae: 0.0106 - mape: 9027.8584 - mse: 2.1440e-04 - val_loss: 4.2876e-04 - val_mae: 0.0134 - val_mape: 3.3578 - val_mse: 4.2876e-04\n",
      "Epoch 42/50\n",
      "\u001b[1m90/90\u001b[0m \u001b[32m━━━━━━━━━━━━━━━━━━━━\u001b[0m\u001b[37m\u001b[0m \u001b[1m0s\u001b[0m 2ms/step - loss: 2.0939e-04 - mae: 0.0101 - mape: 11489.2178 - mse: 2.0939e-04 - val_loss: 4.0767e-04 - val_mae: 0.0130 - val_mape: 3.2673 - val_mse: 4.0767e-04\n",
      "Epoch 43/50\n",
      "\u001b[1m90/90\u001b[0m \u001b[32m━━━━━━━━━━━━━━━━━━━━\u001b[0m\u001b[37m\u001b[0m \u001b[1m0s\u001b[0m 2ms/step - loss: 2.1478e-04 - mae: 0.0105 - mape: 2423.7751 - mse: 2.1478e-04 - val_loss: 4.6010e-04 - val_mae: 0.0140 - val_mape: 3.5064 - val_mse: 4.6010e-04\n",
      "Epoch 44/50\n",
      "\u001b[1m90/90\u001b[0m \u001b[32m━━━━━━━━━━━━━━━━━━━━\u001b[0m\u001b[37m\u001b[0m \u001b[1m0s\u001b[0m 2ms/step - loss: 2.2696e-04 - mae: 0.0106 - mape: 15589.9785 - mse: 2.2696e-04 - val_loss: 4.1603e-04 - val_mae: 0.0132 - val_mape: 3.2882 - val_mse: 4.1603e-04\n",
      "Epoch 45/50\n",
      "\u001b[1m90/90\u001b[0m \u001b[32m━━━━━━━━━━━━━━━━━━━━\u001b[0m\u001b[37m\u001b[0m \u001b[1m0s\u001b[0m 2ms/step - loss: 2.0919e-04 - mae: 0.0103 - mape: 5904.8257 - mse: 2.0919e-04 - val_loss: 3.9204e-04 - val_mae: 0.0129 - val_mape: 3.2145 - val_mse: 3.9204e-04\n",
      "Epoch 46/50\n",
      "\u001b[1m90/90\u001b[0m \u001b[32m━━━━━━━━━━━━━━━━━━━━\u001b[0m\u001b[37m\u001b[0m \u001b[1m0s\u001b[0m 2ms/step - loss: 2.1012e-04 - mae: 0.0105 - mape: 6755.1211 - mse: 2.1012e-04 - val_loss: 4.0263e-04 - val_mae: 0.0130 - val_mape: 3.2369 - val_mse: 4.0263e-04\n",
      "Epoch 47/50\n",
      "\u001b[1m90/90\u001b[0m \u001b[32m━━━━━━━━━━━━━━━━━━━━\u001b[0m\u001b[37m\u001b[0m \u001b[1m0s\u001b[0m 2ms/step - loss: 2.0905e-04 - mae: 0.0102 - mape: 8246.0635 - mse: 2.0905e-04 - val_loss: 3.8744e-04 - val_mae: 0.0131 - val_mape: 3.2172 - val_mse: 3.8744e-04\n",
      "Epoch 48/50\n",
      "\u001b[1m90/90\u001b[0m \u001b[32m━━━━━━━━━━━━━━━━━━━━\u001b[0m\u001b[37m\u001b[0m \u001b[1m0s\u001b[0m 2ms/step - loss: 2.0524e-04 - mae: 0.0103 - mape: 7617.2754 - mse: 2.0524e-04 - val_loss: 4.0794e-04 - val_mae: 0.0131 - val_mape: 3.2613 - val_mse: 4.0794e-04\n",
      "Epoch 49/50\n",
      "\u001b[1m90/90\u001b[0m \u001b[32m━━━━━━━━━━━━━━━━━━━━\u001b[0m\u001b[37m\u001b[0m \u001b[1m0s\u001b[0m 2ms/step - loss: 1.9009e-04 - mae: 0.0100 - mape: 7188.5820 - mse: 1.9009e-04 - val_loss: 3.8007e-04 - val_mae: 0.0127 - val_mape: 3.1400 - val_mse: 3.8007e-04\n",
      "Epoch 50/50\n",
      "\u001b[1m90/90\u001b[0m \u001b[32m━━━━━━━━━━━━━━━━━━━━\u001b[0m\u001b[37m\u001b[0m \u001b[1m0s\u001b[0m 2ms/step - loss: 1.9127e-04 - mae: 0.0101 - mape: 3147.0657 - mse: 1.9127e-04 - val_loss: 3.7818e-04 - val_mae: 0.0131 - val_mape: 3.2046 - val_mse: 3.7818e-04\n"
     ]
    },
    {
     "name": "stderr",
     "output_type": "stream",
     "text": [
      "WARNING:absl:You are saving your model as an HDF5 file via `model.save()` or `keras.saving.save_model(model)`. This file format is considered legacy. We recommend using instead the native Keras format, e.g. `model.save('my_model.keras')` or `keras.saving.save_model(model, 'my_model.keras')`. \n"
     ]
    },
    {
     "name": "stdout",
     "output_type": "stream",
     "text": [
      "\u001b[1m23/23\u001b[0m \u001b[32m━━━━━━━━━━━━━━━━━━━━\u001b[0m\u001b[37m\u001b[0m \u001b[1m0s\u001b[0m 5ms/step\n",
      "model_1: Processando VALE3 | Combinação 7...\n",
      "Epoch 1/50\n",
      "\u001b[1m90/90\u001b[0m \u001b[32m━━━━━━━━━━━━━━━━━━━━\u001b[0m\u001b[37m\u001b[0m \u001b[1m1s\u001b[0m 5ms/step - loss: 0.0865 - mae: 0.2303 - mape: 99749.7734 - mse: 0.0865 - val_loss: 0.1488 - val_mae: 0.3313 - val_mape: 28.2540 - val_mse: 0.1488\n",
      "Epoch 2/50\n",
      "\u001b[1m90/90\u001b[0m \u001b[32m━━━━━━━━━━━━━━━━━━━━\u001b[0m\u001b[37m\u001b[0m \u001b[1m0s\u001b[0m 2ms/step - loss: 0.0084 - mae: 0.0753 - mape: 38773.8008 - mse: 0.0084 - val_loss: 0.0374 - val_mae: 0.1624 - val_mape: 13.7952 - val_mse: 0.0374\n",
      "Epoch 3/50\n",
      "\u001b[1m90/90\u001b[0m \u001b[32m━━━━━━━━━━━━━━━━━━━━\u001b[0m\u001b[37m\u001b[0m \u001b[1m0s\u001b[0m 2ms/step - loss: 0.0019 - mae: 0.0347 - mape: 61352.3906 - mse: 0.0019 - val_loss: 0.0057 - val_mae: 0.0552 - val_mape: 4.6742 - val_mse: 0.0057\n",
      "Epoch 4/50\n",
      "\u001b[1m90/90\u001b[0m \u001b[32m━━━━━━━━━━━━━━━━━━━━\u001b[0m\u001b[37m\u001b[0m \u001b[1m0s\u001b[0m 2ms/step - loss: 4.9728e-04 - mae: 0.0174 - mape: 10253.5732 - mse: 4.9728e-04 - val_loss: 0.0030 - val_mae: 0.0392 - val_mape: 3.4501 - val_mse: 0.0030\n",
      "Epoch 5/50\n",
      "\u001b[1m90/90\u001b[0m \u001b[32m━━━━━━━━━━━━━━━━━━━━\u001b[0m\u001b[37m\u001b[0m \u001b[1m0s\u001b[0m 2ms/step - loss: 3.5943e-04 - mae: 0.0148 - mape: 11914.3135 - mse: 3.5943e-04 - val_loss: 0.0028 - val_mae: 0.0378 - val_mape: 3.3501 - val_mse: 0.0028\n",
      "Epoch 6/50\n",
      "\u001b[1m90/90\u001b[0m \u001b[32m━━━━━━━━━━━━━━━━━━━━\u001b[0m\u001b[37m\u001b[0m \u001b[1m0s\u001b[0m 2ms/step - loss: 3.5239e-04 - mae: 0.0146 - mape: 22949.9590 - mse: 3.5239e-04 - val_loss: 0.0031 - val_mae: 0.0398 - val_mape: 3.4762 - val_mse: 0.0031\n",
      "Epoch 7/50\n",
      "\u001b[1m90/90\u001b[0m \u001b[32m━━━━━━━━━━━━━━━━━━━━\u001b[0m\u001b[37m\u001b[0m \u001b[1m0s\u001b[0m 2ms/step - loss: 3.5760e-04 - mae: 0.0141 - mape: 1405.0769 - mse: 3.5760e-04 - val_loss: 0.0032 - val_mae: 0.0405 - val_mape: 3.5289 - val_mse: 0.0032\n",
      "Epoch 8/50\n",
      "\u001b[1m90/90\u001b[0m \u001b[32m━━━━━━━━━━━━━━━━━━━━\u001b[0m\u001b[37m\u001b[0m \u001b[1m0s\u001b[0m 2ms/step - loss: 3.1753e-04 - mae: 0.0134 - mape: 2221.2341 - mse: 3.1753e-04 - val_loss: 0.0035 - val_mae: 0.0419 - val_mape: 3.6200 - val_mse: 0.0035\n",
      "Epoch 9/50\n",
      "\u001b[1m90/90\u001b[0m \u001b[32m━━━━━━━━━━━━━━━━━━━━\u001b[0m\u001b[37m\u001b[0m \u001b[1m0s\u001b[0m 2ms/step - loss: 3.3390e-04 - mae: 0.0136 - mape: 13036.5146 - mse: 3.3390e-04 - val_loss: 0.0039 - val_mae: 0.0444 - val_mape: 3.8018 - val_mse: 0.0039\n",
      "Epoch 10/50\n",
      "\u001b[1m90/90\u001b[0m \u001b[32m━━━━━━━━━━━━━━━━━━━━\u001b[0m\u001b[37m\u001b[0m \u001b[1m0s\u001b[0m 2ms/step - loss: 3.2266e-04 - mae: 0.0135 - mape: 2332.9336 - mse: 3.2266e-04 - val_loss: 0.0038 - val_mae: 0.0434 - val_mape: 3.7197 - val_mse: 0.0038\n",
      "Epoch 11/50\n",
      "\u001b[1m90/90\u001b[0m \u001b[32m━━━━━━━━━━━━━━━━━━━━\u001b[0m\u001b[37m\u001b[0m \u001b[1m0s\u001b[0m 2ms/step - loss: 3.1751e-04 - mae: 0.0133 - mape: 759.0919 - mse: 3.1751e-04 - val_loss: 0.0040 - val_mae: 0.0445 - val_mape: 3.7955 - val_mse: 0.0040\n",
      "Epoch 12/50\n",
      "\u001b[1m90/90\u001b[0m \u001b[32m━━━━━━━━━━━━━━━━━━━━\u001b[0m\u001b[37m\u001b[0m \u001b[1m0s\u001b[0m 2ms/step - loss: 3.3766e-04 - mae: 0.0135 - mape: 287.3952 - mse: 3.3766e-04 - val_loss: 0.0044 - val_mae: 0.0466 - val_mape: 3.9342 - val_mse: 0.0044\n",
      "Epoch 13/50\n",
      "\u001b[1m90/90\u001b[0m \u001b[32m━━━━━━━━━━━━━━━━━━━━\u001b[0m\u001b[37m\u001b[0m \u001b[1m0s\u001b[0m 2ms/step - loss: 3.5174e-04 - mae: 0.0132 - mape: 7345.4937 - mse: 3.5174e-04 - val_loss: 0.0047 - val_mae: 0.0484 - val_mape: 4.0608 - val_mse: 0.0047\n",
      "Epoch 14/50\n",
      "\u001b[1m90/90\u001b[0m \u001b[32m━━━━━━━━━━━━━━━━━━━━\u001b[0m\u001b[37m\u001b[0m \u001b[1m0s\u001b[0m 2ms/step - loss: 2.9591e-04 - mae: 0.0129 - mape: 950.5635 - mse: 2.9591e-04 - val_loss: 0.0051 - val_mae: 0.0503 - val_mape: 4.1991 - val_mse: 0.0051\n",
      "Epoch 15/50\n",
      "\u001b[1m90/90\u001b[0m \u001b[32m━━━━━━━━━━━━━━━━━━━━\u001b[0m\u001b[37m\u001b[0m \u001b[1m0s\u001b[0m 2ms/step - loss: 3.3656e-04 - mae: 0.0132 - mape: 18993.4375 - mse: 3.3656e-04 - val_loss: 0.0051 - val_mae: 0.0503 - val_mape: 4.1950 - val_mse: 0.0051\n"
     ]
    },
    {
     "name": "stderr",
     "output_type": "stream",
     "text": [
      "WARNING:absl:You are saving your model as an HDF5 file via `model.save()` or `keras.saving.save_model(model)`. This file format is considered legacy. We recommend using instead the native Keras format, e.g. `model.save('my_model.keras')` or `keras.saving.save_model(model, 'my_model.keras')`. \n"
     ]
    },
    {
     "name": "stdout",
     "output_type": "stream",
     "text": [
      "\u001b[1m23/23\u001b[0m \u001b[32m━━━━━━━━━━━━━━━━━━━━\u001b[0m\u001b[37m\u001b[0m \u001b[1m0s\u001b[0m 5ms/step\n",
      "model_1: Processando BBDC4 | Combinação 7...\n",
      "Epoch 1/50\n",
      "\u001b[1m88/88\u001b[0m \u001b[32m━━━━━━━━━━━━━━━━━━━━\u001b[0m\u001b[37m\u001b[0m \u001b[1m1s\u001b[0m 4ms/step - loss: 0.1135 - mae: 0.2605 - mape: 3631.2908 - mse: 0.1135 - val_loss: 0.0093 - val_mae: 0.0768 - val_mape: 13.2768 - val_mse: 0.0093\n",
      "Epoch 2/50\n",
      "\u001b[1m88/88\u001b[0m \u001b[32m━━━━━━━━━━━━━━━━━━━━\u001b[0m\u001b[37m\u001b[0m \u001b[1m0s\u001b[0m 2ms/step - loss: 0.0066 - mae: 0.0658 - mape: 1381.6847 - mse: 0.0066 - val_loss: 0.0031 - val_mae: 0.0430 - val_mape: 8.3562 - val_mse: 0.0031\n",
      "Epoch 3/50\n",
      "\u001b[1m88/88\u001b[0m \u001b[32m━━━━━━━━━━━━━━━━━━━━\u001b[0m\u001b[37m\u001b[0m \u001b[1m0s\u001b[0m 2ms/step - loss: 0.0018 - mae: 0.0325 - mape: 15671.3105 - mse: 0.0018 - val_loss: 0.0021 - val_mae: 0.0346 - val_mape: 6.8299 - val_mse: 0.0021\n",
      "Epoch 4/50\n",
      "\u001b[1m88/88\u001b[0m \u001b[32m━━━━━━━━━━━━━━━━━━━━\u001b[0m\u001b[37m\u001b[0m \u001b[1m0s\u001b[0m 2ms/step - loss: 0.0011 - mae: 0.0248 - mape: 62339.7695 - mse: 0.0011 - val_loss: 0.0017 - val_mae: 0.0302 - val_mape: 5.9331 - val_mse: 0.0017\n",
      "Epoch 5/50\n",
      "\u001b[1m88/88\u001b[0m \u001b[32m━━━━━━━━━━━━━━━━━━━━\u001b[0m\u001b[37m\u001b[0m \u001b[1m0s\u001b[0m 2ms/step - loss: 8.8017e-04 - mae: 0.0215 - mape: 11908.9814 - mse: 8.8017e-04 - val_loss: 0.0014 - val_mae: 0.0273 - val_mape: 5.3596 - val_mse: 0.0014\n",
      "Epoch 6/50\n",
      "\u001b[1m88/88\u001b[0m \u001b[32m━━━━━━━━━━━━━━━━━━━━\u001b[0m\u001b[37m\u001b[0m \u001b[1m0s\u001b[0m 3ms/step - loss: 7.7152e-04 - mae: 0.0198 - mape: 3734.4714 - mse: 7.7152e-04 - val_loss: 0.0013 - val_mae: 0.0253 - val_mape: 5.0171 - val_mse: 0.0013\n",
      "Epoch 7/50\n",
      "\u001b[1m88/88\u001b[0m \u001b[32m━━━━━━━━━━━━━━━━━━━━\u001b[0m\u001b[37m\u001b[0m \u001b[1m0s\u001b[0m 2ms/step - loss: 5.6234e-04 - mae: 0.0169 - mape: 21307.6348 - mse: 5.6234e-04 - val_loss: 0.0011 - val_mae: 0.0235 - val_mape: 4.6629 - val_mse: 0.0011\n",
      "Epoch 8/50\n",
      "\u001b[1m88/88\u001b[0m \u001b[32m━━━━━━━━━━━━━━━━━━━━\u001b[0m\u001b[37m\u001b[0m \u001b[1m0s\u001b[0m 2ms/step - loss: 6.0687e-04 - mae: 0.0175 - mape: 2933.8987 - mse: 6.0687e-04 - val_loss: 0.0011 - val_mae: 0.0226 - val_mape: 4.5113 - val_mse: 0.0011\n",
      "Epoch 9/50\n",
      "\u001b[1m88/88\u001b[0m \u001b[32m━━━━━━━━━━━━━━━━━━━━\u001b[0m\u001b[37m\u001b[0m \u001b[1m0s\u001b[0m 2ms/step - loss: 5.7141e-04 - mae: 0.0163 - mape: 3657.4424 - mse: 5.7141e-04 - val_loss: 0.0010 - val_mae: 0.0221 - val_mape: 4.4147 - val_mse: 0.0010\n",
      "Epoch 10/50\n",
      "\u001b[1m88/88\u001b[0m \u001b[32m━━━━━━━━━━━━━━━━━━━━\u001b[0m\u001b[37m\u001b[0m \u001b[1m0s\u001b[0m 2ms/step - loss: 5.7784e-04 - mae: 0.0161 - mape: 1507.5765 - mse: 5.7784e-04 - val_loss: 9.5149e-04 - val_mae: 0.0210 - val_mape: 4.1968 - val_mse: 9.5149e-04\n",
      "Epoch 11/50\n",
      "\u001b[1m88/88\u001b[0m \u001b[32m━━━━━━━━━━━━━━━━━━━━\u001b[0m\u001b[37m\u001b[0m \u001b[1m0s\u001b[0m 2ms/step - loss: 4.5683e-04 - mae: 0.0152 - mape: 24356.4648 - mse: 4.5683e-04 - val_loss: 9.1957e-04 - val_mae: 0.0207 - val_mape: 4.1390 - val_mse: 9.1957e-04\n",
      "Epoch 12/50\n",
      "\u001b[1m88/88\u001b[0m \u001b[32m━━━━━━━━━━━━━━━━━━━━\u001b[0m\u001b[37m\u001b[0m \u001b[1m0s\u001b[0m 2ms/step - loss: 4.9558e-04 - mae: 0.0152 - mape: 3953.5381 - mse: 4.9558e-04 - val_loss: 8.9621e-04 - val_mae: 0.0205 - val_mape: 4.0980 - val_mse: 8.9621e-04\n",
      "Epoch 13/50\n",
      "\u001b[1m88/88\u001b[0m \u001b[32m━━━━━━━━━━━━━━━━━━━━\u001b[0m\u001b[37m\u001b[0m \u001b[1m0s\u001b[0m 2ms/step - loss: 4.6941e-04 - mae: 0.0149 - mape: 2417.1550 - mse: 4.6941e-04 - val_loss: 8.7274e-04 - val_mae: 0.0202 - val_mape: 4.0393 - val_mse: 8.7274e-04\n",
      "Epoch 14/50\n",
      "\u001b[1m88/88\u001b[0m \u001b[32m━━━━━━━━━━━━━━━━━━━━\u001b[0m\u001b[37m\u001b[0m \u001b[1m0s\u001b[0m 2ms/step - loss: 4.4496e-04 - mae: 0.0149 - mape: 1581.6781 - mse: 4.4496e-04 - val_loss: 8.6573e-04 - val_mae: 0.0199 - val_mape: 4.0046 - val_mse: 8.6573e-04\n",
      "Epoch 15/50\n",
      "\u001b[1m88/88\u001b[0m \u001b[32m━━━━━━━━━━━━━━━━━━━━\u001b[0m\u001b[37m\u001b[0m \u001b[1m0s\u001b[0m 2ms/step - loss: 4.4273e-04 - mae: 0.0148 - mape: 477.7106 - mse: 4.4273e-04 - val_loss: 8.6262e-04 - val_mae: 0.0200 - val_mape: 4.0064 - val_mse: 8.6262e-04\n",
      "Epoch 16/50\n",
      "\u001b[1m88/88\u001b[0m \u001b[32m━━━━━━━━━━━━━━━━━━━━\u001b[0m\u001b[37m\u001b[0m \u001b[1m0s\u001b[0m 2ms/step - loss: 5.0405e-04 - mae: 0.0151 - mape: 7123.2661 - mse: 5.0405e-04 - val_loss: 8.4646e-04 - val_mae: 0.0197 - val_mape: 3.9530 - val_mse: 8.4646e-04\n",
      "Epoch 17/50\n",
      "\u001b[1m88/88\u001b[0m \u001b[32m━━━━━━━━━━━━━━━━━━━━\u001b[0m\u001b[37m\u001b[0m \u001b[1m0s\u001b[0m 2ms/step - loss: 5.1304e-04 - mae: 0.0151 - mape: 8814.1748 - mse: 5.1304e-04 - val_loss: 8.3751e-04 - val_mae: 0.0196 - val_mape: 3.9489 - val_mse: 8.3751e-04\n",
      "Epoch 18/50\n",
      "\u001b[1m88/88\u001b[0m \u001b[32m━━━━━━━━━━━━━━━━━━━━\u001b[0m\u001b[37m\u001b[0m \u001b[1m0s\u001b[0m 2ms/step - loss: 4.7379e-04 - mae: 0.0149 - mape: 3609.2554 - mse: 4.7379e-04 - val_loss: 8.1535e-04 - val_mae: 0.0194 - val_mape: 3.8970 - val_mse: 8.1535e-04\n",
      "Epoch 19/50\n",
      "\u001b[1m88/88\u001b[0m \u001b[32m━━━━━━━━━━━━━━━━━━━━\u001b[0m\u001b[37m\u001b[0m \u001b[1m0s\u001b[0m 2ms/step - loss: 6.3125e-04 - mae: 0.0151 - mape: 2501.1140 - mse: 6.3125e-04 - val_loss: 7.9361e-04 - val_mae: 0.0191 - val_mape: 3.8405 - val_mse: 7.9361e-04\n",
      "Epoch 20/50\n",
      "\u001b[1m88/88\u001b[0m \u001b[32m━━━━━━━━━━━━━━━━━━━━\u001b[0m\u001b[37m\u001b[0m \u001b[1m0s\u001b[0m 2ms/step - loss: 4.0904e-04 - mae: 0.0144 - mape: 542.8903 - mse: 4.0904e-04 - val_loss: 8.5311e-04 - val_mae: 0.0200 - val_mape: 4.0185 - val_mse: 8.5311e-04\n",
      "Epoch 21/50\n",
      "\u001b[1m88/88\u001b[0m \u001b[32m━━━━━━━━━━━━━━━━━━━━\u001b[0m\u001b[37m\u001b[0m \u001b[1m0s\u001b[0m 2ms/step - loss: 4.4274e-04 - mae: 0.0141 - mape: 26060.8848 - mse: 4.4274e-04 - val_loss: 8.2950e-04 - val_mae: 0.0196 - val_mape: 3.9551 - val_mse: 8.2950e-04\n",
      "Epoch 22/50\n",
      "\u001b[1m88/88\u001b[0m \u001b[32m━━━━━━━━━━━━━━━━━━━━\u001b[0m\u001b[37m\u001b[0m \u001b[1m0s\u001b[0m 2ms/step - loss: 5.0600e-04 - mae: 0.0148 - mape: 5537.8467 - mse: 5.0600e-04 - val_loss: 7.8398e-04 - val_mae: 0.0190 - val_mape: 3.8231 - val_mse: 7.8398e-04\n",
      "Epoch 23/50\n",
      "\u001b[1m88/88\u001b[0m \u001b[32m━━━━━━━━━━━━━━━━━━━━\u001b[0m\u001b[37m\u001b[0m \u001b[1m0s\u001b[0m 2ms/step - loss: 5.0898e-04 - mae: 0.0150 - mape: 9424.6211 - mse: 5.0898e-04 - val_loss: 8.0038e-04 - val_mae: 0.0192 - val_mape: 3.8789 - val_mse: 8.0038e-04\n",
      "Epoch 24/50\n",
      "\u001b[1m88/88\u001b[0m \u001b[32m━━━━━━━━━━━━━━━━━━━━\u001b[0m\u001b[37m\u001b[0m \u001b[1m0s\u001b[0m 2ms/step - loss: 4.0368e-04 - mae: 0.0142 - mape: 363.3889 - mse: 4.0368e-04 - val_loss: 8.1219e-04 - val_mae: 0.0195 - val_mape: 3.9134 - val_mse: 8.1219e-04\n",
      "Epoch 25/50\n",
      "\u001b[1m88/88\u001b[0m \u001b[32m━━━━━━━━━━━━━━━━━━━━\u001b[0m\u001b[37m\u001b[0m \u001b[1m0s\u001b[0m 2ms/step - loss: 4.9783e-04 - mae: 0.0144 - mape: 5654.5654 - mse: 4.9783e-04 - val_loss: 8.1426e-04 - val_mae: 0.0196 - val_mape: 3.9426 - val_mse: 8.1426e-04\n",
      "Epoch 26/50\n",
      "\u001b[1m88/88\u001b[0m \u001b[32m━━━━━━━━━━━━━━━━━━━━\u001b[0m\u001b[37m\u001b[0m \u001b[1m0s\u001b[0m 2ms/step - loss: 4.1408e-04 - mae: 0.0139 - mape: 6226.1597 - mse: 4.1408e-04 - val_loss: 7.2813e-04 - val_mae: 0.0184 - val_mape: 3.7001 - val_mse: 7.2813e-04\n",
      "Epoch 27/50\n",
      "\u001b[1m88/88\u001b[0m \u001b[32m━━━━━━━━━━━━━━━━━━━━\u001b[0m\u001b[37m\u001b[0m \u001b[1m0s\u001b[0m 2ms/step - loss: 4.5701e-04 - mae: 0.0138 - mape: 3864.2515 - mse: 4.5701e-04 - val_loss: 8.3310e-04 - val_mae: 0.0200 - val_mape: 4.0026 - val_mse: 8.3310e-04\n",
      "Epoch 28/50\n",
      "\u001b[1m88/88\u001b[0m \u001b[32m━━━━━━━━━━━━━━━━━━━━\u001b[0m\u001b[37m\u001b[0m \u001b[1m0s\u001b[0m 2ms/step - loss: 3.9059e-04 - mae: 0.0135 - mape: 689.4373 - mse: 3.9059e-04 - val_loss: 7.1201e-04 - val_mae: 0.0182 - val_mape: 3.6641 - val_mse: 7.1201e-04\n",
      "Epoch 29/50\n",
      "\u001b[1m88/88\u001b[0m \u001b[32m━━━━━━━━━━━━━━━━━━━━\u001b[0m\u001b[37m\u001b[0m \u001b[1m0s\u001b[0m 2ms/step - loss: 4.2496e-04 - mae: 0.0138 - mape: 574.5010 - mse: 4.2496e-04 - val_loss: 7.0382e-04 - val_mae: 0.0182 - val_mape: 3.6496 - val_mse: 7.0382e-04\n",
      "Epoch 30/50\n",
      "\u001b[1m88/88\u001b[0m \u001b[32m━━━━━━━━━━━━━━━━━━━━\u001b[0m\u001b[37m\u001b[0m \u001b[1m0s\u001b[0m 2ms/step - loss: 3.7086e-04 - mae: 0.0136 - mape: 762.9249 - mse: 3.7086e-04 - val_loss: 6.7145e-04 - val_mae: 0.0179 - val_mape: 3.5902 - val_mse: 6.7145e-04\n",
      "Epoch 31/50\n",
      "\u001b[1m88/88\u001b[0m \u001b[32m━━━━━━━━━━━━━━━━━━━━\u001b[0m\u001b[37m\u001b[0m \u001b[1m0s\u001b[0m 2ms/step - loss: 5.5196e-04 - mae: 0.0144 - mape: 17016.5527 - mse: 5.5196e-04 - val_loss: 6.8513e-04 - val_mae: 0.0180 - val_mape: 3.6164 - val_mse: 6.8513e-04\n",
      "Epoch 32/50\n",
      "\u001b[1m88/88\u001b[0m \u001b[32m━━━━━━━━━━━━━━━━━━━━\u001b[0m\u001b[37m\u001b[0m \u001b[1m0s\u001b[0m 2ms/step - loss: 3.6517e-04 - mae: 0.0136 - mape: 5759.8369 - mse: 3.6517e-04 - val_loss: 6.5367e-04 - val_mae: 0.0178 - val_mape: 3.5543 - val_mse: 6.5367e-04\n",
      "Epoch 33/50\n",
      "\u001b[1m88/88\u001b[0m \u001b[32m━━━━━━━━━━━━━━━━━━━━\u001b[0m\u001b[37m\u001b[0m \u001b[1m0s\u001b[0m 2ms/step - loss: 3.8339e-04 - mae: 0.0138 - mape: 226.5914 - mse: 3.8339e-04 - val_loss: 6.5158e-04 - val_mae: 0.0177 - val_mape: 3.5384 - val_mse: 6.5158e-04\n",
      "Epoch 34/50\n",
      "\u001b[1m88/88\u001b[0m \u001b[32m━━━━━━━━━━━━━━━━━━━━\u001b[0m\u001b[37m\u001b[0m \u001b[1m0s\u001b[0m 2ms/step - loss: 4.4201e-04 - mae: 0.0138 - mape: 5631.6812 - mse: 4.4201e-04 - val_loss: 6.9761e-04 - val_mae: 0.0183 - val_mape: 3.6770 - val_mse: 6.9761e-04\n",
      "Epoch 35/50\n",
      "\u001b[1m88/88\u001b[0m \u001b[32m━━━━━━━━━━━━━━━━━━━━\u001b[0m\u001b[37m\u001b[0m \u001b[1m0s\u001b[0m 2ms/step - loss: 3.6719e-04 - mae: 0.0134 - mape: 1936.9667 - mse: 3.6719e-04 - val_loss: 6.6145e-04 - val_mae: 0.0178 - val_mape: 3.5709 - val_mse: 6.6145e-04\n",
      "Epoch 36/50\n",
      "\u001b[1m88/88\u001b[0m \u001b[32m━━━━━━━━━━━━━━━━━━━━\u001b[0m\u001b[37m\u001b[0m \u001b[1m0s\u001b[0m 2ms/step - loss: 3.0835e-04 - mae: 0.0128 - mape: 602.0206 - mse: 3.0835e-04 - val_loss: 6.5344e-04 - val_mae: 0.0178 - val_mape: 3.5585 - val_mse: 6.5344e-04\n",
      "Epoch 37/50\n",
      "\u001b[1m88/88\u001b[0m \u001b[32m━━━━━━━━━━━━━━━━━━━━\u001b[0m\u001b[37m\u001b[0m \u001b[1m0s\u001b[0m 2ms/step - loss: 3.5808e-04 - mae: 0.0135 - mape: 507.9080 - mse: 3.5808e-04 - val_loss: 6.1946e-04 - val_mae: 0.0175 - val_mape: 3.4947 - val_mse: 6.1946e-04\n",
      "Epoch 38/50\n",
      "\u001b[1m88/88\u001b[0m \u001b[32m━━━━━━━━━━━━━━━━━━━━\u001b[0m\u001b[37m\u001b[0m \u001b[1m0s\u001b[0m 2ms/step - loss: 3.2922e-04 - mae: 0.0127 - mape: 18705.9512 - mse: 3.2922e-04 - val_loss: 6.3818e-04 - val_mae: 0.0177 - val_mape: 3.5298 - val_mse: 6.3818e-04\n",
      "Epoch 39/50\n",
      "\u001b[1m88/88\u001b[0m \u001b[32m━━━━━━━━━━━━━━━━━━━━\u001b[0m\u001b[37m\u001b[0m \u001b[1m0s\u001b[0m 2ms/step - loss: 4.0681e-04 - mae: 0.0134 - mape: 4004.1055 - mse: 4.0681e-04 - val_loss: 6.4402e-04 - val_mae: 0.0178 - val_mape: 3.5481 - val_mse: 6.4402e-04\n",
      "Epoch 40/50\n",
      "\u001b[1m88/88\u001b[0m \u001b[32m━━━━━━━━━━━━━━━━━━━━\u001b[0m\u001b[37m\u001b[0m \u001b[1m0s\u001b[0m 2ms/step - loss: 3.4611e-04 - mae: 0.0128 - mape: 2156.5562 - mse: 3.4611e-04 - val_loss: 6.5155e-04 - val_mae: 0.0180 - val_mape: 3.5760 - val_mse: 6.5155e-04\n",
      "Epoch 41/50\n",
      "\u001b[1m88/88\u001b[0m \u001b[32m━━━━━━━━━━━━━━━━━━━━\u001b[0m\u001b[37m\u001b[0m \u001b[1m0s\u001b[0m 2ms/step - loss: 4.1211e-04 - mae: 0.0128 - mape: 4935.4053 - mse: 4.1211e-04 - val_loss: 6.0170e-04 - val_mae: 0.0174 - val_mape: 3.4566 - val_mse: 6.0170e-04\n",
      "Epoch 42/50\n",
      "\u001b[1m88/88\u001b[0m \u001b[32m━━━━━━━━━━━━━━━━━━━━\u001b[0m\u001b[37m\u001b[0m \u001b[1m0s\u001b[0m 2ms/step - loss: 3.2194e-04 - mae: 0.0124 - mape: 1394.3114 - mse: 3.2194e-04 - val_loss: 6.7604e-04 - val_mae: 0.0193 - val_mape: 3.7808 - val_mse: 6.7604e-04\n",
      "Epoch 43/50\n",
      "\u001b[1m88/88\u001b[0m \u001b[32m━━━━━━━━━━━━━━━━━━━━\u001b[0m\u001b[37m\u001b[0m \u001b[1m0s\u001b[0m 2ms/step - loss: 4.9014e-04 - mae: 0.0137 - mape: 13218.7188 - mse: 4.9014e-04 - val_loss: 5.8042e-04 - val_mae: 0.0172 - val_mape: 3.4200 - val_mse: 5.8042e-04\n",
      "Epoch 44/50\n",
      "\u001b[1m88/88\u001b[0m \u001b[32m━━━━━━━━━━━━━━━━━━━━\u001b[0m\u001b[37m\u001b[0m \u001b[1m0s\u001b[0m 2ms/step - loss: 4.0795e-04 - mae: 0.0130 - mape: 7794.9077 - mse: 4.0795e-04 - val_loss: 9.0194e-04 - val_mae: 0.0228 - val_mape: 4.4841 - val_mse: 9.0194e-04\n",
      "Epoch 45/50\n",
      "\u001b[1m88/88\u001b[0m \u001b[32m━━━━━━━━━━━━━━━━━━━━\u001b[0m\u001b[37m\u001b[0m \u001b[1m0s\u001b[0m 2ms/step - loss: 5.5180e-04 - mae: 0.0148 - mape: 4487.2612 - mse: 5.5180e-04 - val_loss: 6.0467e-04 - val_mae: 0.0175 - val_mape: 3.4919 - val_mse: 6.0467e-04\n",
      "Epoch 46/50\n",
      "\u001b[1m88/88\u001b[0m \u001b[32m━━━━━━━━━━━━━━━━━━━━\u001b[0m\u001b[37m\u001b[0m \u001b[1m0s\u001b[0m 2ms/step - loss: 3.4933e-04 - mae: 0.0126 - mape: 4158.4141 - mse: 3.4933e-04 - val_loss: 6.6784e-04 - val_mae: 0.0185 - val_mape: 3.6761 - val_mse: 6.6784e-04\n",
      "Epoch 47/50\n",
      "\u001b[1m88/88\u001b[0m \u001b[32m━━━━━━━━━━━━━━━━━━━━\u001b[0m\u001b[37m\u001b[0m \u001b[1m0s\u001b[0m 2ms/step - loss: 3.9539e-04 - mae: 0.0132 - mape: 126.5882 - mse: 3.9539e-04 - val_loss: 5.5765e-04 - val_mae: 0.0169 - val_mape: 3.3657 - val_mse: 5.5765e-04\n",
      "Epoch 48/50\n",
      "\u001b[1m88/88\u001b[0m \u001b[32m━━━━━━━━━━━━━━━━━━━━\u001b[0m\u001b[37m\u001b[0m \u001b[1m0s\u001b[0m 2ms/step - loss: 3.5687e-04 - mae: 0.0129 - mape: 21074.7891 - mse: 3.5687e-04 - val_loss: 5.6736e-04 - val_mae: 0.0170 - val_mape: 3.3857 - val_mse: 5.6736e-04\n",
      "Epoch 49/50\n",
      "\u001b[1m88/88\u001b[0m \u001b[32m━━━━━━━━━━━━━━━━━━━━\u001b[0m\u001b[37m\u001b[0m \u001b[1m0s\u001b[0m 2ms/step - loss: 3.3703e-04 - mae: 0.0126 - mape: 769.0531 - mse: 3.3703e-04 - val_loss: 5.6664e-04 - val_mae: 0.0171 - val_mape: 3.3976 - val_mse: 5.6664e-04\n",
      "Epoch 50/50\n",
      "\u001b[1m88/88\u001b[0m \u001b[32m━━━━━━━━━━━━━━━━━━━━\u001b[0m\u001b[37m\u001b[0m \u001b[1m0s\u001b[0m 2ms/step - loss: 3.5092e-04 - mae: 0.0132 - mape: 7920.4336 - mse: 3.5092e-04 - val_loss: 7.4128e-04 - val_mae: 0.0201 - val_mape: 3.9781 - val_mse: 7.4128e-04\n"
     ]
    },
    {
     "name": "stderr",
     "output_type": "stream",
     "text": [
      "WARNING:absl:You are saving your model as an HDF5 file via `model.save()` or `keras.saving.save_model(model)`. This file format is considered legacy. We recommend using instead the native Keras format, e.g. `model.save('my_model.keras')` or `keras.saving.save_model(model, 'my_model.keras')`. \n"
     ]
    },
    {
     "name": "stdout",
     "output_type": "stream",
     "text": [
      "\u001b[1m22/22\u001b[0m \u001b[32m━━━━━━━━━━━━━━━━━━━━\u001b[0m\u001b[37m\u001b[0m \u001b[1m0s\u001b[0m 5ms/step\n",
      "model_1: Processando ITUB4 | Combinação 7...\n",
      "Epoch 1/50\n",
      "\u001b[1m90/90\u001b[0m \u001b[32m━━━━━━━━━━━━━━━━━━━━\u001b[0m\u001b[37m\u001b[0m \u001b[1m1s\u001b[0m 5ms/step - loss: 0.0823 - mae: 0.2188 - mape: 68121.4922 - mse: 0.0823 - val_loss: 0.0062 - val_mae: 0.0651 - val_mape: 9.8403 - val_mse: 0.0062\n",
      "Epoch 2/50\n",
      "\u001b[1m90/90\u001b[0m \u001b[32m━━━━━━━━━━━━━━━━━━━━\u001b[0m\u001b[37m\u001b[0m \u001b[1m0s\u001b[0m 2ms/step - loss: 0.0041 - mae: 0.0510 - mape: 19459.6191 - mse: 0.0041 - val_loss: 0.0012 - val_mae: 0.0265 - val_mape: 4.3872 - val_mse: 0.0012\n",
      "Epoch 3/50\n",
      "\u001b[1m90/90\u001b[0m \u001b[32m━━━━━━━━━━━━━━━━━━━━\u001b[0m\u001b[37m\u001b[0m \u001b[1m0s\u001b[0m 2ms/step - loss: 7.7736e-04 - mae: 0.0220 - mape: 16747.3574 - mse: 7.7736e-04 - val_loss: 9.4525e-04 - val_mae: 0.0225 - val_mape: 3.8591 - val_mse: 9.4525e-04\n",
      "Epoch 4/50\n",
      "\u001b[1m90/90\u001b[0m \u001b[32m━━━━━━━━━━━━━━━━━━━━\u001b[0m\u001b[37m\u001b[0m \u001b[1m0s\u001b[0m 2ms/step - loss: 4.2895e-04 - mae: 0.0163 - mape: 58728.2930 - mse: 4.2895e-04 - val_loss: 8.7647e-04 - val_mae: 0.0211 - val_mape: 3.6107 - val_mse: 8.7647e-04\n",
      "Epoch 5/50\n",
      "\u001b[1m90/90\u001b[0m \u001b[32m━━━━━━━━━━━━━━━━━━━━\u001b[0m\u001b[37m\u001b[0m \u001b[1m0s\u001b[0m 2ms/step - loss: 3.9087e-04 - mae: 0.0153 - mape: 85517.7578 - mse: 3.9087e-04 - val_loss: 8.6971e-04 - val_mae: 0.0206 - val_mape: 3.5183 - val_mse: 8.6971e-04\n",
      "Epoch 6/50\n",
      "\u001b[1m90/90\u001b[0m \u001b[32m━━━━━━━━━━━━━━━━━━━━\u001b[0m\u001b[37m\u001b[0m \u001b[1m0s\u001b[0m 2ms/step - loss: 3.7312e-04 - mae: 0.0149 - mape: 77409.6562 - mse: 3.7312e-04 - val_loss: 8.9262e-04 - val_mae: 0.0207 - val_mape: 3.5317 - val_mse: 8.9262e-04\n",
      "Epoch 7/50\n",
      "\u001b[1m90/90\u001b[0m \u001b[32m━━━━━━━━━━━━━━━━━━━━\u001b[0m\u001b[37m\u001b[0m \u001b[1m0s\u001b[0m 2ms/step - loss: 3.4187e-04 - mae: 0.0140 - mape: 54520.4492 - mse: 3.4187e-04 - val_loss: 9.0605e-04 - val_mae: 0.0208 - val_mape: 3.5488 - val_mse: 9.0605e-04\n",
      "Epoch 8/50\n",
      "\u001b[1m90/90\u001b[0m \u001b[32m━━━━━━━━━━━━━━━━━━━━\u001b[0m\u001b[37m\u001b[0m \u001b[1m0s\u001b[0m 2ms/step - loss: 3.2358e-04 - mae: 0.0133 - mape: 16355.4297 - mse: 3.2358e-04 - val_loss: 9.2243e-04 - val_mae: 0.0210 - val_mape: 3.5792 - val_mse: 9.2243e-04\n",
      "Epoch 9/50\n",
      "\u001b[1m90/90\u001b[0m \u001b[32m━━━━━━━━━━━━━━━━━━━━\u001b[0m\u001b[37m\u001b[0m \u001b[1m0s\u001b[0m 2ms/step - loss: 3.1610e-04 - mae: 0.0134 - mape: 11164.1455 - mse: 3.1610e-04 - val_loss: 9.0616e-04 - val_mae: 0.0207 - val_mape: 3.5290 - val_mse: 9.0616e-04\n",
      "Epoch 10/50\n",
      "\u001b[1m90/90\u001b[0m \u001b[32m━━━━━━━━━━━━━━━━━━━━\u001b[0m\u001b[37m\u001b[0m \u001b[1m0s\u001b[0m 2ms/step - loss: 3.3007e-04 - mae: 0.0134 - mape: 105725.3203 - mse: 3.3007e-04 - val_loss: 9.0519e-04 - val_mae: 0.0207 - val_mape: 3.5336 - val_mse: 9.0519e-04\n",
      "Epoch 11/50\n",
      "\u001b[1m90/90\u001b[0m \u001b[32m━━━━━━━━━━━━━━━━━━━━\u001b[0m\u001b[37m\u001b[0m \u001b[1m0s\u001b[0m 2ms/step - loss: 3.0735e-04 - mae: 0.0131 - mape: 46897.8086 - mse: 3.0735e-04 - val_loss: 9.1968e-04 - val_mae: 0.0209 - val_mape: 3.5718 - val_mse: 9.1968e-04\n",
      "Epoch 12/50\n",
      "\u001b[1m90/90\u001b[0m \u001b[32m━━━━━━━━━━━━━━━━━━━━\u001b[0m\u001b[37m\u001b[0m \u001b[1m0s\u001b[0m 2ms/step - loss: 2.8162e-04 - mae: 0.0125 - mape: 76838.9297 - mse: 2.8162e-04 - val_loss: 8.9368e-04 - val_mae: 0.0205 - val_mape: 3.5077 - val_mse: 8.9368e-04\n",
      "Epoch 13/50\n",
      "\u001b[1m90/90\u001b[0m \u001b[32m━━━━━━━━━━━━━━━━━━━━\u001b[0m\u001b[37m\u001b[0m \u001b[1m0s\u001b[0m 2ms/step - loss: 3.0373e-04 - mae: 0.0129 - mape: 65102.7539 - mse: 3.0373e-04 - val_loss: 8.9850e-04 - val_mae: 0.0206 - val_mape: 3.5241 - val_mse: 8.9850e-04\n",
      "Epoch 14/50\n",
      "\u001b[1m90/90\u001b[0m \u001b[32m━━━━━━━━━━━━━━━━━━━━\u001b[0m\u001b[37m\u001b[0m \u001b[1m0s\u001b[0m 2ms/step - loss: 2.8849e-04 - mae: 0.0126 - mape: 33069.9570 - mse: 2.8849e-04 - val_loss: 8.7610e-04 - val_mae: 0.0203 - val_mape: 3.4652 - val_mse: 8.7610e-04\n",
      "Epoch 15/50\n",
      "\u001b[1m90/90\u001b[0m \u001b[32m━━━━━━━━━━━━━━━━━━━━\u001b[0m\u001b[37m\u001b[0m \u001b[1m0s\u001b[0m 2ms/step - loss: 3.0582e-04 - mae: 0.0130 - mape: 68767.4531 - mse: 3.0582e-04 - val_loss: 8.6334e-04 - val_mae: 0.0201 - val_mape: 3.4434 - val_mse: 8.6334e-04\n",
      "Epoch 16/50\n",
      "\u001b[1m90/90\u001b[0m \u001b[32m━━━━━━━━━━━━━━━━━━━━\u001b[0m\u001b[37m\u001b[0m \u001b[1m0s\u001b[0m 2ms/step - loss: 2.8401e-04 - mae: 0.0126 - mape: 13699.6758 - mse: 2.8401e-04 - val_loss: 8.8194e-04 - val_mae: 0.0204 - val_mape: 3.5048 - val_mse: 8.8194e-04\n",
      "Epoch 17/50\n",
      "\u001b[1m90/90\u001b[0m \u001b[32m━━━━━━━━━━━━━━━━━━━━\u001b[0m\u001b[37m\u001b[0m \u001b[1m0s\u001b[0m 2ms/step - loss: 2.8093e-04 - mae: 0.0124 - mape: 6689.9966 - mse: 2.8093e-04 - val_loss: 8.4363e-04 - val_mae: 0.0199 - val_mape: 3.3957 - val_mse: 8.4363e-04\n",
      "Epoch 18/50\n",
      "\u001b[1m90/90\u001b[0m \u001b[32m━━━━━━━━━━━━━━━━━━━━\u001b[0m\u001b[37m\u001b[0m \u001b[1m0s\u001b[0m 2ms/step - loss: 2.8860e-04 - mae: 0.0126 - mape: 145904.9062 - mse: 2.8860e-04 - val_loss: 8.4644e-04 - val_mae: 0.0200 - val_mape: 3.4259 - val_mse: 8.4644e-04\n",
      "Epoch 19/50\n",
      "\u001b[1m90/90\u001b[0m \u001b[32m━━━━━━━━━━━━━━━━━━━━\u001b[0m\u001b[37m\u001b[0m \u001b[1m0s\u001b[0m 2ms/step - loss: 2.8537e-04 - mae: 0.0125 - mape: 44573.6094 - mse: 2.8537e-04 - val_loss: 8.2436e-04 - val_mae: 0.0196 - val_mape: 3.3637 - val_mse: 8.2436e-04\n",
      "Epoch 20/50\n",
      "\u001b[1m90/90\u001b[0m \u001b[32m━━━━━━━━━━━━━━━━━━━━\u001b[0m\u001b[37m\u001b[0m \u001b[1m0s\u001b[0m 2ms/step - loss: 2.7273e-04 - mae: 0.0123 - mape: 39869.5078 - mse: 2.7273e-04 - val_loss: 8.1974e-04 - val_mae: 0.0196 - val_mape: 3.3628 - val_mse: 8.1974e-04\n",
      "Epoch 21/50\n",
      "\u001b[1m90/90\u001b[0m \u001b[32m━━━━━━━━━━━━━━━━━━━━\u001b[0m\u001b[37m\u001b[0m \u001b[1m0s\u001b[0m 2ms/step - loss: 2.8847e-04 - mae: 0.0128 - mape: 12910.8291 - mse: 2.8847e-04 - val_loss: 8.4223e-04 - val_mae: 0.0200 - val_mape: 3.4356 - val_mse: 8.4223e-04\n",
      "Epoch 22/50\n",
      "\u001b[1m90/90\u001b[0m \u001b[32m━━━━━━━━━━━━━━━━━━━━\u001b[0m\u001b[37m\u001b[0m \u001b[1m0s\u001b[0m 2ms/step - loss: 2.7163e-04 - mae: 0.0122 - mape: 93539.5703 - mse: 2.7163e-04 - val_loss: 8.3210e-04 - val_mae: 0.0199 - val_mape: 3.4230 - val_mse: 8.3210e-04\n",
      "Epoch 23/50\n",
      "\u001b[1m90/90\u001b[0m \u001b[32m━━━━━━━━━━━━━━━━━━━━\u001b[0m\u001b[37m\u001b[0m \u001b[1m0s\u001b[0m 2ms/step - loss: 2.8395e-04 - mae: 0.0124 - mape: 31002.3750 - mse: 2.8395e-04 - val_loss: 8.1548e-04 - val_mae: 0.0197 - val_mape: 3.3912 - val_mse: 8.1548e-04\n",
      "Epoch 24/50\n",
      "\u001b[1m90/90\u001b[0m \u001b[32m━━━━━━━━━━━━━━━━━━━━\u001b[0m\u001b[37m\u001b[0m \u001b[1m0s\u001b[0m 2ms/step - loss: 2.6463e-04 - mae: 0.0120 - mape: 41191.9727 - mse: 2.6463e-04 - val_loss: 7.8665e-04 - val_mae: 0.0193 - val_mape: 3.3171 - val_mse: 7.8665e-04\n",
      "Epoch 25/50\n",
      "\u001b[1m90/90\u001b[0m \u001b[32m━━━━━━━━━━━━━━━━━━━━\u001b[0m\u001b[37m\u001b[0m \u001b[1m0s\u001b[0m 2ms/step - loss: 2.5866e-04 - mae: 0.0119 - mape: 52214.3672 - mse: 2.5866e-04 - val_loss: 7.5887e-04 - val_mae: 0.0190 - val_mape: 3.2415 - val_mse: 7.5887e-04\n",
      "Epoch 26/50\n",
      "\u001b[1m90/90\u001b[0m \u001b[32m━━━━━━━━━━━━━━━━━━━━\u001b[0m\u001b[37m\u001b[0m \u001b[1m0s\u001b[0m 2ms/step - loss: 2.5868e-04 - mae: 0.0119 - mape: 24775.1797 - mse: 2.5868e-04 - val_loss: 7.5211e-04 - val_mae: 0.0189 - val_mape: 3.2142 - val_mse: 7.5211e-04\n",
      "Epoch 27/50\n",
      "\u001b[1m90/90\u001b[0m \u001b[32m━━━━━━━━━━━━━━━━━━━━\u001b[0m\u001b[37m\u001b[0m \u001b[1m0s\u001b[0m 2ms/step - loss: 2.7485e-04 - mae: 0.0120 - mape: 33943.0156 - mse: 2.7485e-04 - val_loss: 7.5423e-04 - val_mae: 0.0189 - val_mape: 3.2485 - val_mse: 7.5423e-04\n",
      "Epoch 28/50\n",
      "\u001b[1m90/90\u001b[0m \u001b[32m━━━━━━━━━━━━━━━━━━━━\u001b[0m\u001b[37m\u001b[0m \u001b[1m0s\u001b[0m 2ms/step - loss: 2.5582e-04 - mae: 0.0117 - mape: 196599.8750 - mse: 2.5582e-04 - val_loss: 7.5763e-04 - val_mae: 0.0190 - val_mape: 3.2768 - val_mse: 7.5763e-04\n",
      "Epoch 29/50\n",
      "\u001b[1m90/90\u001b[0m \u001b[32m━━━━━━━━━━━━━━━━━━━━\u001b[0m\u001b[37m\u001b[0m \u001b[1m0s\u001b[0m 2ms/step - loss: 2.4573e-04 - mae: 0.0117 - mape: 30248.2871 - mse: 2.4573e-04 - val_loss: 7.4917e-04 - val_mae: 0.0189 - val_mape: 3.2502 - val_mse: 7.4917e-04\n",
      "Epoch 30/50\n",
      "\u001b[1m90/90\u001b[0m \u001b[32m━━━━━━━━━━━━━━━━━━━━\u001b[0m\u001b[37m\u001b[0m \u001b[1m0s\u001b[0m 2ms/step - loss: 2.3183e-04 - mae: 0.0114 - mape: 33327.9219 - mse: 2.3183e-04 - val_loss: 7.0975e-04 - val_mae: 0.0184 - val_mape: 3.1285 - val_mse: 7.0975e-04\n",
      "Epoch 31/50\n",
      "\u001b[1m90/90\u001b[0m \u001b[32m━━━━━━━━━━━━━━━━━━━━\u001b[0m\u001b[37m\u001b[0m \u001b[1m0s\u001b[0m 2ms/step - loss: 2.5589e-04 - mae: 0.0120 - mape: 25178.2949 - mse: 2.5589e-04 - val_loss: 7.2179e-04 - val_mae: 0.0186 - val_mape: 3.1952 - val_mse: 7.2179e-04\n",
      "Epoch 32/50\n",
      "\u001b[1m90/90\u001b[0m \u001b[32m━━━━━━━━━━━━━━━━━━━━\u001b[0m\u001b[37m\u001b[0m \u001b[1m0s\u001b[0m 2ms/step - loss: 2.5195e-04 - mae: 0.0118 - mape: 25463.9297 - mse: 2.5195e-04 - val_loss: 7.0499e-04 - val_mae: 0.0186 - val_mape: 3.1372 - val_mse: 7.0499e-04\n",
      "Epoch 33/50\n",
      "\u001b[1m90/90\u001b[0m \u001b[32m━━━━━━━━━━━━━━━━━━━━\u001b[0m\u001b[37m\u001b[0m \u001b[1m0s\u001b[0m 2ms/step - loss: 2.6641e-04 - mae: 0.0121 - mape: 38592.3828 - mse: 2.6641e-04 - val_loss: 7.0848e-04 - val_mae: 0.0185 - val_mape: 3.1766 - val_mse: 7.0848e-04\n",
      "Epoch 34/50\n",
      "\u001b[1m90/90\u001b[0m \u001b[32m━━━━━━━━━━━━━━━━━━━━\u001b[0m\u001b[37m\u001b[0m \u001b[1m0s\u001b[0m 2ms/step - loss: 2.3660e-04 - mae: 0.0113 - mape: 128781.4922 - mse: 2.3660e-04 - val_loss: 7.1247e-04 - val_mae: 0.0186 - val_mape: 3.1981 - val_mse: 7.1247e-04\n",
      "Epoch 35/50\n",
      "\u001b[1m90/90\u001b[0m \u001b[32m━━━━━━━━━━━━━━━━━━━━\u001b[0m\u001b[37m\u001b[0m \u001b[1m0s\u001b[0m 2ms/step - loss: 2.3851e-04 - mae: 0.0116 - mape: 17717.8770 - mse: 2.3851e-04 - val_loss: 6.7656e-04 - val_mae: 0.0180 - val_mape: 3.0885 - val_mse: 6.7656e-04\n",
      "Epoch 36/50\n",
      "\u001b[1m90/90\u001b[0m \u001b[32m━━━━━━━━━━━━━━━━━━━━\u001b[0m\u001b[37m\u001b[0m \u001b[1m0s\u001b[0m 2ms/step - loss: 2.5079e-04 - mae: 0.0116 - mape: 130435.5312 - mse: 2.5079e-04 - val_loss: 6.5277e-04 - val_mae: 0.0177 - val_mape: 3.0116 - val_mse: 6.5277e-04\n",
      "Epoch 37/50\n",
      "\u001b[1m90/90\u001b[0m \u001b[32m━━━━━━━━━━━━━━━━━━━━\u001b[0m\u001b[37m\u001b[0m \u001b[1m0s\u001b[0m 2ms/step - loss: 2.4371e-04 - mae: 0.0115 - mape: 181947.8281 - mse: 2.4371e-04 - val_loss: 6.4256e-04 - val_mae: 0.0176 - val_mape: 3.0064 - val_mse: 6.4256e-04\n",
      "Epoch 38/50\n",
      "\u001b[1m90/90\u001b[0m \u001b[32m━━━━━━━━━━━━━━━━━━━━\u001b[0m\u001b[37m\u001b[0m \u001b[1m0s\u001b[0m 2ms/step - loss: 2.3515e-04 - mae: 0.0114 - mape: 74929.6719 - mse: 2.3515e-04 - val_loss: 6.3625e-04 - val_mae: 0.0176 - val_mape: 2.9788 - val_mse: 6.3625e-04\n",
      "Epoch 39/50\n",
      "\u001b[1m90/90\u001b[0m \u001b[32m━━━━━━━━━━━━━━━━━━━━\u001b[0m\u001b[37m\u001b[0m \u001b[1m0s\u001b[0m 2ms/step - loss: 2.4779e-04 - mae: 0.0116 - mape: 18664.4473 - mse: 2.4779e-04 - val_loss: 6.7136e-04 - val_mae: 0.0182 - val_mape: 3.1261 - val_mse: 6.7136e-04\n",
      "Epoch 40/50\n",
      "\u001b[1m90/90\u001b[0m \u001b[32m━━━━━━━━━━━━━━━━━━━━\u001b[0m\u001b[37m\u001b[0m \u001b[1m0s\u001b[0m 2ms/step - loss: 2.4389e-04 - mae: 0.0116 - mape: 37523.1016 - mse: 2.4389e-04 - val_loss: 6.5370e-04 - val_mae: 0.0178 - val_mape: 3.0666 - val_mse: 6.5370e-04\n",
      "Epoch 41/50\n",
      "\u001b[1m90/90\u001b[0m \u001b[32m━━━━━━━━━━━━━━━━━━━━\u001b[0m\u001b[37m\u001b[0m \u001b[1m0s\u001b[0m 2ms/step - loss: 2.1851e-04 - mae: 0.0110 - mape: 66514.1094 - mse: 2.1851e-04 - val_loss: 6.2216e-04 - val_mae: 0.0174 - val_mape: 2.9799 - val_mse: 6.2216e-04\n",
      "Epoch 42/50\n",
      "\u001b[1m90/90\u001b[0m \u001b[32m━━━━━━━━━━━━━━━━━━━━\u001b[0m\u001b[37m\u001b[0m \u001b[1m0s\u001b[0m 2ms/step - loss: 2.3693e-04 - mae: 0.0114 - mape: 44241.3320 - mse: 2.3693e-04 - val_loss: 6.2977e-04 - val_mae: 0.0175 - val_mape: 3.0005 - val_mse: 6.2977e-04\n",
      "Epoch 43/50\n",
      "\u001b[1m90/90\u001b[0m \u001b[32m━━━━━━━━━━━━━━━━━━━━\u001b[0m\u001b[37m\u001b[0m \u001b[1m0s\u001b[0m 2ms/step - loss: 2.3462e-04 - mae: 0.0115 - mape: 18754.8945 - mse: 2.3462e-04 - val_loss: 6.0011e-04 - val_mae: 0.0171 - val_mape: 2.9109 - val_mse: 6.0011e-04\n",
      "Epoch 44/50\n",
      "\u001b[1m90/90\u001b[0m \u001b[32m━━━━━━━━━━━━━━━━━━━━\u001b[0m\u001b[37m\u001b[0m \u001b[1m0s\u001b[0m 2ms/step - loss: 2.2238e-04 - mae: 0.0109 - mape: 111104.0469 - mse: 2.2238e-04 - val_loss: 5.9148e-04 - val_mae: 0.0171 - val_mape: 2.9099 - val_mse: 5.9148e-04\n",
      "Epoch 45/50\n",
      "\u001b[1m90/90\u001b[0m \u001b[32m━━━━━━━━━━━━━━━━━━━━\u001b[0m\u001b[37m\u001b[0m \u001b[1m0s\u001b[0m 2ms/step - loss: 2.2649e-04 - mae: 0.0113 - mape: 79503.8281 - mse: 2.2649e-04 - val_loss: 5.8009e-04 - val_mae: 0.0169 - val_mape: 2.8614 - val_mse: 5.8009e-04\n",
      "Epoch 46/50\n",
      "\u001b[1m90/90\u001b[0m \u001b[32m━━━━━━━━━━━━━━━━━━━━\u001b[0m\u001b[37m\u001b[0m \u001b[1m0s\u001b[0m 2ms/step - loss: 2.3169e-04 - mae: 0.0111 - mape: 32440.7969 - mse: 2.3169e-04 - val_loss: 5.7573e-04 - val_mae: 0.0168 - val_mape: 2.8481 - val_mse: 5.7573e-04\n",
      "Epoch 47/50\n",
      "\u001b[1m90/90\u001b[0m \u001b[32m━━━━━━━━━━━━━━━━━━━━\u001b[0m\u001b[37m\u001b[0m \u001b[1m0s\u001b[0m 2ms/step - loss: 2.2072e-04 - mae: 0.0110 - mape: 26103.2246 - mse: 2.2072e-04 - val_loss: 5.6187e-04 - val_mae: 0.0166 - val_mape: 2.8249 - val_mse: 5.6187e-04\n",
      "Epoch 48/50\n",
      "\u001b[1m90/90\u001b[0m \u001b[32m━━━━━━━━━━━━━━━━━━━━\u001b[0m\u001b[37m\u001b[0m \u001b[1m0s\u001b[0m 4ms/step - loss: 2.2051e-04 - mae: 0.0110 - mape: 25064.9102 - mse: 2.2051e-04 - val_loss: 5.7759e-04 - val_mae: 0.0169 - val_mape: 2.8845 - val_mse: 5.7759e-04\n",
      "Epoch 49/50\n",
      "\u001b[1m90/90\u001b[0m \u001b[32m━━━━━━━━━━━━━━━━━━━━\u001b[0m\u001b[37m\u001b[0m \u001b[1m1s\u001b[0m 5ms/step - loss: 2.1772e-04 - mae: 0.0109 - mape: 25978.1445 - mse: 2.1772e-04 - val_loss: 5.8359e-04 - val_mae: 0.0174 - val_mape: 2.9072 - val_mse: 5.8359e-04\n",
      "Epoch 50/50\n",
      "\u001b[1m90/90\u001b[0m \u001b[32m━━━━━━━━━━━━━━━━━━━━\u001b[0m\u001b[37m\u001b[0m \u001b[1m0s\u001b[0m 3ms/step - loss: 2.2369e-04 - mae: 0.0111 - mape: 44936.1406 - mse: 2.2369e-04 - val_loss: 5.5137e-04 - val_mae: 0.0165 - val_mape: 2.7995 - val_mse: 5.5137e-04\n"
     ]
    },
    {
     "name": "stderr",
     "output_type": "stream",
     "text": [
      "WARNING:absl:You are saving your model as an HDF5 file via `model.save()` or `keras.saving.save_model(model)`. This file format is considered legacy. We recommend using instead the native Keras format, e.g. `model.save('my_model.keras')` or `keras.saving.save_model(model, 'my_model.keras')`. \n"
     ]
    },
    {
     "name": "stdout",
     "output_type": "stream",
     "text": [
      "\u001b[1m23/23\u001b[0m \u001b[32m━━━━━━━━━━━━━━━━━━━━\u001b[0m\u001b[37m\u001b[0m \u001b[1m0s\u001b[0m 7ms/step\n"
     ]
    },
    {
     "name": "stderr",
     "output_type": "stream",
     "text": [
      "Processando combinações: 100%|██████████| 7/7 [05:09<00:00, 44.16s/it]\n"
     ]
    }
   ],
   "source": [
    "# Processando o Modelo 1\n",
    "name_model = model_1\n",
    "results_list = []\n",
    "\n",
    "# Usando tqdm para exibir progresso das 7 combinações\n",
    "for i in tqdm(range(7), desc=\"Processando combinações\"):\n",
    "    results_list.append(process_stocks_and_save_metrics(all_stock_data, i + 1, name_model))\n",
    "\n",
    "# Combina os resultados em um único DataFrame\n",
    "results_model_1 = pd.concat(results_list, ignore_index=True)\n",
    "\n",
    "# Salvar em CSV\n",
    "results_model_1.to_csv(f'{OUTPUT_DIR}/Estudos_IEEE_{name_model.__name__}.csv', sep=';', encoding='utf-8-sig')"
   ]
  },
  {
   "cell_type": "code",
   "execution_count": 4,
   "metadata": {},
   "outputs": [
    {
     "name": "stderr",
     "output_type": "stream",
     "text": [
      "Processando combinações:   0%|          | 0/7 [00:00<?, ?it/s]"
     ]
    },
    {
     "name": "stdout",
     "output_type": "stream",
     "text": [
      "model_2: Processando PETR4 | Combinação 1...\n",
      "Epoch 1/50\n",
      "\u001b[1m90/90\u001b[0m \u001b[32m━━━━━━━━━━━━━━━━━━━━\u001b[0m\u001b[37m\u001b[0m \u001b[1m6s\u001b[0m 25ms/step - loss: 0.0538 - mae: 0.1693 - mape: 37085.0312 - mse: 0.0538 - val_loss: 4.6784e-04 - val_mae: 0.0158 - val_mape: 3.7405 - val_mse: 4.6784e-04\n",
      "Epoch 2/50\n",
      "\u001b[1m90/90\u001b[0m \u001b[32m━━━━━━━━━━━━━━━━━━━━\u001b[0m\u001b[37m\u001b[0m \u001b[1m2s\u001b[0m 20ms/step - loss: 2.8886e-04 - mae: 0.0125 - mape: 7448.3770 - mse: 2.8886e-04 - val_loss: 3.5855e-04 - val_mae: 0.0134 - val_mape: 3.1552 - val_mse: 3.5855e-04\n",
      "Epoch 3/50\n",
      "\u001b[1m90/90\u001b[0m \u001b[32m━━━━━━━━━━━━━━━━━━━━\u001b[0m\u001b[37m\u001b[0m \u001b[1m2s\u001b[0m 19ms/step - loss: 2.4071e-04 - mae: 0.0111 - mape: 13265.6533 - mse: 2.4071e-04 - val_loss: 4.2463e-04 - val_mae: 0.0157 - val_mape: 3.5900 - val_mse: 4.2463e-04\n",
      "Epoch 4/50\n",
      "\u001b[1m90/90\u001b[0m \u001b[32m━━━━━━━━━━━━━━━━━━━━\u001b[0m\u001b[37m\u001b[0m \u001b[1m2s\u001b[0m 19ms/step - loss: 2.0107e-04 - mae: 0.0101 - mape: 773.2003 - mse: 2.0107e-04 - val_loss: 3.1441e-04 - val_mae: 0.0120 - val_mape: 2.8318 - val_mse: 3.1441e-04\n",
      "Epoch 5/50\n",
      "\u001b[1m90/90\u001b[0m \u001b[32m━━━━━━━━━━━━━━━━━━━━\u001b[0m\u001b[37m\u001b[0m \u001b[1m2s\u001b[0m 19ms/step - loss: 2.1483e-04 - mae: 0.0104 - mape: 858.0967 - mse: 2.1483e-04 - val_loss: 3.1079e-04 - val_mae: 0.0118 - val_mape: 2.7849 - val_mse: 3.1079e-04\n",
      "Epoch 6/50\n",
      "\u001b[1m90/90\u001b[0m \u001b[32m━━━━━━━━━━━━━━━━━━━━\u001b[0m\u001b[37m\u001b[0m \u001b[1m2s\u001b[0m 20ms/step - loss: 2.0360e-04 - mae: 0.0104 - mape: 2364.1013 - mse: 2.0360e-04 - val_loss: 3.7379e-04 - val_mae: 0.0142 - val_mape: 3.2486 - val_mse: 3.7379e-04\n",
      "Epoch 7/50\n",
      "\u001b[1m90/90\u001b[0m \u001b[32m━━━━━━━━━━━━━━━━━━━━\u001b[0m\u001b[37m\u001b[0m \u001b[1m2s\u001b[0m 19ms/step - loss: 2.3820e-04 - mae: 0.0112 - mape: 7980.5039 - mse: 2.3820e-04 - val_loss: 3.0849e-04 - val_mae: 0.0117 - val_mape: 2.7776 - val_mse: 3.0849e-04\n",
      "Epoch 8/50\n",
      "\u001b[1m90/90\u001b[0m \u001b[32m━━━━━━━━━━━━━━━━━━━━\u001b[0m\u001b[37m\u001b[0m \u001b[1m2s\u001b[0m 20ms/step - loss: 1.9955e-04 - mae: 0.0101 - mape: 5785.6978 - mse: 1.9955e-04 - val_loss: 3.9192e-04 - val_mae: 0.0148 - val_mape: 3.3709 - val_mse: 3.9192e-04\n",
      "Epoch 9/50\n",
      "\u001b[1m90/90\u001b[0m \u001b[32m━━━━━━━━━━━━━━━━━━━━\u001b[0m\u001b[37m\u001b[0m \u001b[1m2s\u001b[0m 19ms/step - loss: 2.6555e-04 - mae: 0.0119 - mape: 407.0348 - mse: 2.6555e-04 - val_loss: 3.0945e-04 - val_mae: 0.0117 - val_mape: 2.7769 - val_mse: 3.0945e-04\n",
      "Epoch 10/50\n",
      "\u001b[1m90/90\u001b[0m \u001b[32m━━━━━━━━━━━━━━━━━━━━\u001b[0m\u001b[37m\u001b[0m \u001b[1m2s\u001b[0m 19ms/step - loss: 2.1488e-04 - mae: 0.0105 - mape: 8997.9697 - mse: 2.1488e-04 - val_loss: 5.8277e-04 - val_mae: 0.0185 - val_mape: 4.2755 - val_mse: 5.8277e-04\n",
      "Epoch 11/50\n",
      "\u001b[1m90/90\u001b[0m \u001b[32m━━━━━━━━━━━━━━━━━━━━\u001b[0m\u001b[37m\u001b[0m \u001b[1m2s\u001b[0m 19ms/step - loss: 2.5689e-04 - mae: 0.0117 - mape: 458.5143 - mse: 2.5689e-04 - val_loss: 3.7405e-04 - val_mae: 0.0133 - val_mape: 3.1396 - val_mse: 3.7405e-04\n",
      "Epoch 12/50\n",
      "\u001b[1m90/90\u001b[0m \u001b[32m━━━━━━━━━━━━━━━━━━━━\u001b[0m\u001b[37m\u001b[0m \u001b[1m2s\u001b[0m 21ms/step - loss: 2.3316e-04 - mae: 0.0110 - mape: 2515.9922 - mse: 2.3316e-04 - val_loss: 3.9000e-04 - val_mae: 0.0137 - val_mape: 3.2364 - val_mse: 3.9000e-04\n",
      "Epoch 13/50\n",
      "\u001b[1m90/90\u001b[0m \u001b[32m━━━━━━━━━━━━━━━━━━━━\u001b[0m\u001b[37m\u001b[0m \u001b[1m2s\u001b[0m 19ms/step - loss: 2.3899e-04 - mae: 0.0111 - mape: 871.3158 - mse: 2.3899e-04 - val_loss: 3.0660e-04 - val_mae: 0.0116 - val_mape: 2.7584 - val_mse: 3.0660e-04\n",
      "Epoch 14/50\n",
      "\u001b[1m90/90\u001b[0m \u001b[32m━━━━━━━━━━━━━━━━━━━━\u001b[0m\u001b[37m\u001b[0m \u001b[1m2s\u001b[0m 19ms/step - loss: 1.9815e-04 - mae: 0.0101 - mape: 1371.2063 - mse: 1.9815e-04 - val_loss: 3.1186e-04 - val_mae: 0.0117 - val_mape: 2.7964 - val_mse: 3.1186e-04\n",
      "Epoch 15/50\n",
      "\u001b[1m90/90\u001b[0m \u001b[32m━━━━━━━━━━━━━━━━━━━━\u001b[0m\u001b[37m\u001b[0m \u001b[1m2s\u001b[0m 19ms/step - loss: 1.9856e-04 - mae: 0.0103 - mape: 3944.8027 - mse: 1.9856e-04 - val_loss: 3.0126e-04 - val_mae: 0.0115 - val_mape: 2.7318 - val_mse: 3.0126e-04\n",
      "Epoch 16/50\n",
      "\u001b[1m90/90\u001b[0m \u001b[32m━━━━━━━━━━━━━━━━━━━━\u001b[0m\u001b[37m\u001b[0m \u001b[1m2s\u001b[0m 19ms/step - loss: 2.1271e-04 - mae: 0.0107 - mape: 2586.0906 - mse: 2.1271e-04 - val_loss: 3.7790e-04 - val_mae: 0.0135 - val_mape: 3.1734 - val_mse: 3.7790e-04\n",
      "Epoch 17/50\n",
      "\u001b[1m90/90\u001b[0m \u001b[32m━━━━━━━━━━━━━━━━━━━━\u001b[0m\u001b[37m\u001b[0m \u001b[1m2s\u001b[0m 20ms/step - loss: 2.3016e-04 - mae: 0.0110 - mape: 6487.3242 - mse: 2.3016e-04 - val_loss: 3.3555e-04 - val_mae: 0.0131 - val_mape: 3.0238 - val_mse: 3.3555e-04\n",
      "Epoch 18/50\n",
      "\u001b[1m90/90\u001b[0m \u001b[32m━━━━━━━━━━━━━━━━━━━━\u001b[0m\u001b[37m\u001b[0m \u001b[1m2s\u001b[0m 20ms/step - loss: 2.0490e-04 - mae: 0.0103 - mape: 7090.5957 - mse: 2.0490e-04 - val_loss: 3.0626e-04 - val_mae: 0.0118 - val_mape: 2.7986 - val_mse: 3.0626e-04\n",
      "Epoch 19/50\n",
      "\u001b[1m90/90\u001b[0m \u001b[32m━━━━━━━━━━━━━━━━━━━━\u001b[0m\u001b[37m\u001b[0m \u001b[1m2s\u001b[0m 19ms/step - loss: 2.3787e-04 - mae: 0.0113 - mape: 150.8437 - mse: 2.3787e-04 - val_loss: 3.0007e-04 - val_mae: 0.0115 - val_mape: 2.7335 - val_mse: 3.0007e-04\n",
      "Epoch 20/50\n",
      "\u001b[1m90/90\u001b[0m \u001b[32m━━━━━━━━━━━━━━━━━━━━\u001b[0m\u001b[37m\u001b[0m \u001b[1m2s\u001b[0m 19ms/step - loss: 2.1526e-04 - mae: 0.0106 - mape: 2974.2932 - mse: 2.1526e-04 - val_loss: 3.8686e-04 - val_mae: 0.0136 - val_mape: 3.1861 - val_mse: 3.8686e-04\n",
      "Epoch 21/50\n",
      "\u001b[1m90/90\u001b[0m \u001b[32m━━━━━━━━━━━━━━━━━━━━\u001b[0m\u001b[37m\u001b[0m \u001b[1m2s\u001b[0m 19ms/step - loss: 2.0019e-04 - mae: 0.0104 - mape: 227.6070 - mse: 2.0019e-04 - val_loss: 4.1026e-04 - val_mae: 0.0143 - val_mape: 3.3502 - val_mse: 4.1026e-04\n",
      "Epoch 22/50\n",
      "\u001b[1m90/90\u001b[0m \u001b[32m━━━━━━━━━━━━━━━━━━━━\u001b[0m\u001b[37m\u001b[0m \u001b[1m2s\u001b[0m 20ms/step - loss: 2.0588e-04 - mae: 0.0104 - mape: 832.8694 - mse: 2.0588e-04 - val_loss: 3.4198e-04 - val_mae: 0.0133 - val_mape: 3.0907 - val_mse: 3.4198e-04\n",
      "Epoch 23/50\n",
      "\u001b[1m90/90\u001b[0m \u001b[32m━━━━━━━━━━━━━━━━━━━━\u001b[0m\u001b[37m\u001b[0m \u001b[1m2s\u001b[0m 20ms/step - loss: 2.2755e-04 - mae: 0.0108 - mape: 3103.2981 - mse: 2.2755e-04 - val_loss: 3.6479e-04 - val_mae: 0.0141 - val_mape: 3.2287 - val_mse: 3.6479e-04\n",
      "Epoch 24/50\n",
      "\u001b[1m90/90\u001b[0m \u001b[32m━━━━━━━━━━━━━━━━━━━━\u001b[0m\u001b[37m\u001b[0m \u001b[1m2s\u001b[0m 21ms/step - loss: 2.1214e-04 - mae: 0.0106 - mape: 1671.1870 - mse: 2.1214e-04 - val_loss: 3.3191e-04 - val_mae: 0.0130 - val_mape: 3.0197 - val_mse: 3.3191e-04\n",
      "Epoch 25/50\n",
      "\u001b[1m90/90\u001b[0m \u001b[32m━━━━━━━━━━━━━━━━━━━━\u001b[0m\u001b[37m\u001b[0m \u001b[1m2s\u001b[0m 19ms/step - loss: 2.8988e-04 - mae: 0.0125 - mape: 3164.9385 - mse: 2.8988e-04 - val_loss: 3.2386e-04 - val_mae: 0.0120 - val_mape: 2.8428 - val_mse: 3.2386e-04\n",
      "Epoch 26/50\n",
      "\u001b[1m90/90\u001b[0m \u001b[32m━━━━━━━━━━━━━━━━━━━━\u001b[0m\u001b[37m\u001b[0m \u001b[1m2s\u001b[0m 20ms/step - loss: 2.5708e-04 - mae: 0.0112 - mape: 911.9392 - mse: 2.5708e-04 - val_loss: 2.9422e-04 - val_mae: 0.0114 - val_mape: 2.7128 - val_mse: 2.9422e-04\n",
      "Epoch 27/50\n",
      "\u001b[1m90/90\u001b[0m \u001b[32m━━━━━━━━━━━━━━━━━━━━\u001b[0m\u001b[37m\u001b[0m \u001b[1m2s\u001b[0m 20ms/step - loss: 2.0397e-04 - mae: 0.0102 - mape: 1902.7341 - mse: 2.0397e-04 - val_loss: 5.6404e-04 - val_mae: 0.0196 - val_mape: 4.3765 - val_mse: 5.6404e-04\n",
      "Epoch 28/50\n",
      "\u001b[1m90/90\u001b[0m \u001b[32m━━━━━━━━━━━━━━━━━━━━\u001b[0m\u001b[37m\u001b[0m \u001b[1m2s\u001b[0m 23ms/step - loss: 2.7320e-04 - mae: 0.0120 - mape: 73.7901 - mse: 2.7320e-04 - val_loss: 3.8916e-04 - val_mae: 0.0137 - val_mape: 3.1857 - val_mse: 3.8916e-04\n",
      "Epoch 29/50\n",
      "\u001b[1m90/90\u001b[0m \u001b[32m━━━━━━━━━━━━━━━━━━━━\u001b[0m\u001b[37m\u001b[0m \u001b[1m2s\u001b[0m 23ms/step - loss: 2.0599e-04 - mae: 0.0106 - mape: 1282.1996 - mse: 2.0599e-04 - val_loss: 4.4465e-04 - val_mae: 0.0166 - val_mape: 3.7851 - val_mse: 4.4465e-04\n",
      "Epoch 30/50\n",
      "\u001b[1m90/90\u001b[0m \u001b[32m━━━━━━━━━━━━━━━━━━━━\u001b[0m\u001b[37m\u001b[0m \u001b[1m2s\u001b[0m 23ms/step - loss: 2.4297e-04 - mae: 0.0112 - mape: 331.7395 - mse: 2.4297e-04 - val_loss: 3.3724e-04 - val_mae: 0.0123 - val_mape: 2.9106 - val_mse: 3.3724e-04\n",
      "Epoch 31/50\n",
      "\u001b[1m90/90\u001b[0m \u001b[32m━━━━━━━━━━━━━━━━━━━━\u001b[0m\u001b[37m\u001b[0m \u001b[1m2s\u001b[0m 24ms/step - loss: 1.9372e-04 - mae: 0.0101 - mape: 4234.3506 - mse: 1.9372e-04 - val_loss: 3.5140e-04 - val_mae: 0.0128 - val_mape: 3.0172 - val_mse: 3.5140e-04\n",
      "Epoch 32/50\n",
      "\u001b[1m90/90\u001b[0m \u001b[32m━━━━━━━━━━━━━━━━━━━━\u001b[0m\u001b[37m\u001b[0m \u001b[1m2s\u001b[0m 24ms/step - loss: 2.5030e-04 - mae: 0.0113 - mape: 516.4387 - mse: 2.5030e-04 - val_loss: 3.0074e-04 - val_mae: 0.0115 - val_mape: 2.7746 - val_mse: 3.0074e-04\n",
      "Epoch 33/50\n",
      "\u001b[1m90/90\u001b[0m \u001b[32m━━━━━━━━━━━━━━━━━━━━\u001b[0m\u001b[37m\u001b[0m \u001b[1m2s\u001b[0m 23ms/step - loss: 2.2179e-04 - mae: 0.0109 - mape: 367.3455 - mse: 2.2179e-04 - val_loss: 2.9325e-04 - val_mae: 0.0114 - val_mape: 2.7027 - val_mse: 2.9325e-04\n",
      "Epoch 34/50\n",
      "\u001b[1m90/90\u001b[0m \u001b[32m━━━━━━━━━━━━━━━━━━━━\u001b[0m\u001b[37m\u001b[0m \u001b[1m2s\u001b[0m 23ms/step - loss: 2.2501e-04 - mae: 0.0108 - mape: 5878.3711 - mse: 2.2501e-04 - val_loss: 4.4163e-04 - val_mae: 0.0152 - val_mape: 3.5246 - val_mse: 4.4163e-04\n",
      "Epoch 35/50\n",
      "\u001b[1m90/90\u001b[0m \u001b[32m━━━━━━━━━━━━━━━━━━━━\u001b[0m\u001b[37m\u001b[0m \u001b[1m2s\u001b[0m 23ms/step - loss: 2.7009e-04 - mae: 0.0121 - mape: 7523.7998 - mse: 2.7009e-04 - val_loss: 6.4195e-04 - val_mae: 0.0197 - val_mape: 4.4508 - val_mse: 6.4195e-04\n",
      "Epoch 36/50\n",
      "\u001b[1m90/90\u001b[0m \u001b[32m━━━━━━━━━━━━━━━━━━━━\u001b[0m\u001b[37m\u001b[0m \u001b[1m2s\u001b[0m 23ms/step - loss: 2.2027e-04 - mae: 0.0105 - mape: 4886.9062 - mse: 2.2027e-04 - val_loss: 3.2729e-04 - val_mae: 0.0121 - val_mape: 2.8602 - val_mse: 3.2729e-04\n",
      "Epoch 37/50\n",
      "\u001b[1m90/90\u001b[0m \u001b[32m━━━━━━━━━━━━━━━━━━━━\u001b[0m\u001b[37m\u001b[0m \u001b[1m2s\u001b[0m 23ms/step - loss: 2.6682e-04 - mae: 0.0121 - mape: 1861.1355 - mse: 2.6682e-04 - val_loss: 3.8343e-04 - val_mae: 0.0136 - val_mape: 3.1612 - val_mse: 3.8343e-04\n",
      "Epoch 38/50\n",
      "\u001b[1m90/90\u001b[0m \u001b[32m━━━━━━━━━━━━━━━━━━━━\u001b[0m\u001b[37m\u001b[0m \u001b[1m2s\u001b[0m 24ms/step - loss: 2.6777e-04 - mae: 0.0120 - mape: 883.9867 - mse: 2.6777e-04 - val_loss: 4.2031e-04 - val_mae: 0.0148 - val_mape: 3.4346 - val_mse: 4.2031e-04\n",
      "Epoch 39/50\n",
      "\u001b[1m90/90\u001b[0m \u001b[32m━━━━━━━━━━━━━━━━━━━━\u001b[0m\u001b[37m\u001b[0m \u001b[1m2s\u001b[0m 22ms/step - loss: 2.1003e-04 - mae: 0.0105 - mape: 7495.9414 - mse: 2.1003e-04 - val_loss: 3.1174e-04 - val_mae: 0.0123 - val_mape: 2.8702 - val_mse: 3.1174e-04\n",
      "Epoch 40/50\n",
      "\u001b[1m90/90\u001b[0m \u001b[32m━━━━━━━━━━━━━━━━━━━━\u001b[0m\u001b[37m\u001b[0m \u001b[1m2s\u001b[0m 21ms/step - loss: 2.2911e-04 - mae: 0.0110 - mape: 84.6769 - mse: 2.2911e-04 - val_loss: 4.3988e-04 - val_mae: 0.0152 - val_mape: 3.5489 - val_mse: 4.3988e-04\n",
      "Epoch 41/50\n",
      "\u001b[1m90/90\u001b[0m \u001b[32m━━━━━━━━━━━━━━━━━━━━\u001b[0m\u001b[37m\u001b[0m \u001b[1m2s\u001b[0m 22ms/step - loss: 2.6378e-04 - mae: 0.0118 - mape: 5972.6411 - mse: 2.6378e-04 - val_loss: 3.3802e-04 - val_mae: 0.0133 - val_mape: 3.0591 - val_mse: 3.3802e-04\n",
      "Epoch 42/50\n",
      "\u001b[1m90/90\u001b[0m \u001b[32m━━━━━━━━━━━━━━━━━━━━\u001b[0m\u001b[37m\u001b[0m \u001b[1m2s\u001b[0m 21ms/step - loss: 2.2409e-04 - mae: 0.0109 - mape: 4765.8730 - mse: 2.2409e-04 - val_loss: 4.0381e-04 - val_mae: 0.0155 - val_mape: 3.5590 - val_mse: 4.0381e-04\n",
      "Epoch 43/50\n",
      "\u001b[1m90/90\u001b[0m \u001b[32m━━━━━━━━━━━━━━━━━━━━\u001b[0m\u001b[37m\u001b[0m \u001b[1m2s\u001b[0m 22ms/step - loss: 1.8266e-04 - mae: 0.0096 - mape: 5323.2866 - mse: 1.8266e-04 - val_loss: 3.8604e-04 - val_mae: 0.0149 - val_mape: 3.3817 - val_mse: 3.8604e-04\n"
     ]
    },
    {
     "name": "stderr",
     "output_type": "stream",
     "text": [
      "WARNING:absl:You are saving your model as an HDF5 file via `model.save()` or `keras.saving.save_model(model)`. This file format is considered legacy. We recommend using instead the native Keras format, e.g. `model.save('my_model.keras')` or `keras.saving.save_model(model, 'my_model.keras')`. \n"
     ]
    },
    {
     "name": "stdout",
     "output_type": "stream",
     "text": [
      "\u001b[1m23/23\u001b[0m \u001b[32m━━━━━━━━━━━━━━━━━━━━\u001b[0m\u001b[37m\u001b[0m \u001b[1m1s\u001b[0m 21ms/step\n",
      "model_2: Processando VALE3 | Combinação 1...\n",
      "Epoch 1/50\n",
      "\u001b[1m90/90\u001b[0m \u001b[32m━━━━━━━━━━━━━━━━━━━━\u001b[0m\u001b[37m\u001b[0m \u001b[1m6s\u001b[0m 26ms/step - loss: 0.0256 - mae: 0.1171 - mape: 33555.6836 - mse: 0.0256 - val_loss: 0.0014 - val_mae: 0.0277 - val_mape: 4.1610 - val_mse: 0.0014\n",
      "Epoch 2/50\n",
      "\u001b[1m90/90\u001b[0m \u001b[32m━━━━━━━━━━━━━━━━━━━━\u001b[0m\u001b[37m\u001b[0m \u001b[1m2s\u001b[0m 21ms/step - loss: 1.2305e-04 - mae: 0.0083 - mape: 4483.6440 - mse: 1.2305e-04 - val_loss: 5.7255e-04 - val_mae: 0.0177 - val_mape: 2.8908 - val_mse: 5.7255e-04\n",
      "Epoch 3/50\n",
      "\u001b[1m90/90\u001b[0m \u001b[32m━━━━━━━━━━━━━━━━━━━━\u001b[0m\u001b[37m\u001b[0m \u001b[1m2s\u001b[0m 22ms/step - loss: 1.1403e-04 - mae: 0.0080 - mape: 959.8315 - mse: 1.1403e-04 - val_loss: 3.6271e-04 - val_mae: 0.0140 - val_mape: 2.4336 - val_mse: 3.6271e-04\n",
      "Epoch 4/50\n",
      "\u001b[1m90/90\u001b[0m \u001b[32m━━━━━━━━━━━━━━━━━━━━\u001b[0m\u001b[37m\u001b[0m \u001b[1m2s\u001b[0m 24ms/step - loss: 1.0750e-04 - mae: 0.0076 - mape: 1361.0751 - mse: 1.0750e-04 - val_loss: 4.2788e-04 - val_mae: 0.0154 - val_mape: 2.5855 - val_mse: 4.2788e-04\n",
      "Epoch 5/50\n",
      "\u001b[1m90/90\u001b[0m \u001b[32m━━━━━━━━━━━━━━━━━━━━\u001b[0m\u001b[37m\u001b[0m \u001b[1m2s\u001b[0m 21ms/step - loss: 1.1207e-04 - mae: 0.0075 - mape: 3371.1333 - mse: 1.1207e-04 - val_loss: 4.0174e-04 - val_mae: 0.0148 - val_mape: 2.4693 - val_mse: 4.0174e-04\n",
      "Epoch 6/50\n",
      "\u001b[1m90/90\u001b[0m \u001b[32m━━━━━━━━━━━━━━━━━━━━\u001b[0m\u001b[37m\u001b[0m \u001b[1m2s\u001b[0m 19ms/step - loss: 1.1931e-04 - mae: 0.0081 - mape: 218.2062 - mse: 1.1931e-04 - val_loss: 6.0514e-04 - val_mae: 0.0183 - val_mape: 2.8977 - val_mse: 6.0514e-04\n",
      "Epoch 7/50\n",
      "\u001b[1m90/90\u001b[0m \u001b[32m━━━━━━━━━━━━━━━━━━━━\u001b[0m\u001b[37m\u001b[0m \u001b[1m2s\u001b[0m 27ms/step - loss: 9.8734e-05 - mae: 0.0075 - mape: 233.5719 - mse: 9.8734e-05 - val_loss: 8.0291e-04 - val_mae: 0.0213 - val_mape: 3.2759 - val_mse: 8.0291e-04\n",
      "Epoch 8/50\n",
      "\u001b[1m90/90\u001b[0m \u001b[32m━━━━━━━━━━━━━━━━━━━━\u001b[0m\u001b[37m\u001b[0m \u001b[1m2s\u001b[0m 23ms/step - loss: 1.1607e-04 - mae: 0.0080 - mape: 315.4282 - mse: 1.1607e-04 - val_loss: 9.1579e-04 - val_mae: 0.0229 - val_mape: 3.5164 - val_mse: 9.1579e-04\n",
      "Epoch 9/50\n",
      "\u001b[1m90/90\u001b[0m \u001b[32m━━━━━━━━━━━━━━━━━━━━\u001b[0m\u001b[37m\u001b[0m \u001b[1m2s\u001b[0m 21ms/step - loss: 1.3232e-04 - mae: 0.0082 - mape: 9968.2578 - mse: 1.3232e-04 - val_loss: 5.0704e-04 - val_mae: 0.0168 - val_mape: 2.7558 - val_mse: 5.0704e-04\n",
      "Epoch 10/50\n",
      "\u001b[1m90/90\u001b[0m \u001b[32m━━━━━━━━━━━━━━━━━━━━\u001b[0m\u001b[37m\u001b[0m \u001b[1m2s\u001b[0m 21ms/step - loss: 9.6434e-05 - mae: 0.0072 - mape: 17451.0996 - mse: 9.6434e-05 - val_loss: 7.3083e-04 - val_mae: 0.0200 - val_mape: 3.0785 - val_mse: 7.3083e-04\n",
      "Epoch 11/50\n",
      "\u001b[1m90/90\u001b[0m \u001b[32m━━━━━━━━━━━━━━━━━━━━\u001b[0m\u001b[37m\u001b[0m \u001b[1m2s\u001b[0m 21ms/step - loss: 1.2538e-04 - mae: 0.0084 - mape: 5013.0078 - mse: 1.2538e-04 - val_loss: 8.9231e-04 - val_mae: 0.0226 - val_mape: 3.4705 - val_mse: 8.9231e-04\n",
      "Epoch 12/50\n",
      "\u001b[1m90/90\u001b[0m \u001b[32m━━━━━━━━━━━━━━━━━━━━\u001b[0m\u001b[37m\u001b[0m \u001b[1m2s\u001b[0m 22ms/step - loss: 1.2479e-04 - mae: 0.0079 - mape: 7345.2798 - mse: 1.2479e-04 - val_loss: 8.6247e-04 - val_mae: 0.0223 - val_mape: 3.4386 - val_mse: 8.6247e-04\n",
      "Epoch 13/50\n",
      "\u001b[1m90/90\u001b[0m \u001b[32m━━━━━━━━━━━━━━━━━━━━\u001b[0m\u001b[37m\u001b[0m \u001b[1m2s\u001b[0m 24ms/step - loss: 1.3385e-04 - mae: 0.0085 - mape: 1199.6897 - mse: 1.3385e-04 - val_loss: 4.5211e-04 - val_mae: 0.0170 - val_mape: 3.0832 - val_mse: 4.5211e-04\n"
     ]
    },
    {
     "name": "stderr",
     "output_type": "stream",
     "text": [
      "WARNING:absl:You are saving your model as an HDF5 file via `model.save()` or `keras.saving.save_model(model)`. This file format is considered legacy. We recommend using instead the native Keras format, e.g. `model.save('my_model.keras')` or `keras.saving.save_model(model, 'my_model.keras')`. \n"
     ]
    },
    {
     "name": "stdout",
     "output_type": "stream",
     "text": [
      "\u001b[1m23/23\u001b[0m \u001b[32m━━━━━━━━━━━━━━━━━━━━\u001b[0m\u001b[37m\u001b[0m \u001b[1m1s\u001b[0m 27ms/step\n",
      "model_2: Processando BBDC4 | Combinação 1...\n",
      "Epoch 1/50\n",
      "\u001b[1m88/88\u001b[0m \u001b[32m━━━━━━━━━━━━━━━━━━━━\u001b[0m\u001b[37m\u001b[0m \u001b[1m6s\u001b[0m 27ms/step - loss: 0.0552 - mae: 0.1605 - mape: 4261.5864 - mse: 0.0552 - val_loss: 9.4842e-04 - val_mae: 0.0250 - val_mape: 4.7927 - val_mse: 9.4842e-04\n",
      "Epoch 2/50\n",
      "\u001b[1m88/88\u001b[0m \u001b[32m━━━━━━━━━━━━━━━━━━━━\u001b[0m\u001b[37m\u001b[0m \u001b[1m2s\u001b[0m 24ms/step - loss: 4.6290e-04 - mae: 0.0145 - mape: 6747.0146 - mse: 4.6290e-04 - val_loss: 5.3497e-04 - val_mae: 0.0168 - val_mape: 3.2952 - val_mse: 5.3497e-04\n",
      "Epoch 3/50\n",
      "\u001b[1m88/88\u001b[0m \u001b[32m━━━━━━━━━━━━━━━━━━━━\u001b[0m\u001b[37m\u001b[0m \u001b[1m2s\u001b[0m 22ms/step - loss: 3.7220e-04 - mae: 0.0132 - mape: 3317.6753 - mse: 3.7220e-04 - val_loss: 6.0855e-04 - val_mae: 0.0183 - val_mape: 3.5756 - val_mse: 6.0855e-04\n",
      "Epoch 4/50\n",
      "\u001b[1m88/88\u001b[0m \u001b[32m━━━━━━━━━━━━━━━━━━━━\u001b[0m\u001b[37m\u001b[0m \u001b[1m2s\u001b[0m 24ms/step - loss: 3.6805e-04 - mae: 0.0129 - mape: 1189.8962 - mse: 3.6805e-04 - val_loss: 5.7129e-04 - val_mae: 0.0175 - val_mape: 3.4479 - val_mse: 5.7129e-04\n",
      "Epoch 5/50\n",
      "\u001b[1m88/88\u001b[0m \u001b[32m━━━━━━━━━━━━━━━━━━━━\u001b[0m\u001b[37m\u001b[0m \u001b[1m2s\u001b[0m 23ms/step - loss: 3.7069e-04 - mae: 0.0135 - mape: 3996.7122 - mse: 3.7069e-04 - val_loss: 0.0014 - val_mae: 0.0322 - val_mape: 5.8633 - val_mse: 0.0014\n",
      "Epoch 6/50\n",
      "\u001b[1m88/88\u001b[0m \u001b[32m━━━━━━━━━━━━━━━━━━━━\u001b[0m\u001b[37m\u001b[0m \u001b[1m2s\u001b[0m 23ms/step - loss: 6.1605e-04 - mae: 0.0152 - mape: 551.4975 - mse: 6.1605e-04 - val_loss: 7.7107e-04 - val_mae: 0.0214 - val_mape: 4.1662 - val_mse: 7.7107e-04\n",
      "Epoch 7/50\n",
      "\u001b[1m88/88\u001b[0m \u001b[32m━━━━━━━━━━━━━━━━━━━━\u001b[0m\u001b[37m\u001b[0m \u001b[1m2s\u001b[0m 23ms/step - loss: 3.8156e-04 - mae: 0.0137 - mape: 3844.6021 - mse: 3.8156e-04 - val_loss: 5.3339e-04 - val_mae: 0.0168 - val_mape: 3.3041 - val_mse: 5.3339e-04\n",
      "Epoch 8/50\n",
      "\u001b[1m88/88\u001b[0m \u001b[32m━━━━━━━━━━━━━━━━━━━━\u001b[0m\u001b[37m\u001b[0m \u001b[1m2s\u001b[0m 23ms/step - loss: 4.0675e-04 - mae: 0.0138 - mape: 276.3640 - mse: 4.0675e-04 - val_loss: 5.3009e-04 - val_mae: 0.0167 - val_mape: 3.2973 - val_mse: 5.3009e-04\n",
      "Epoch 9/50\n",
      "\u001b[1m88/88\u001b[0m \u001b[32m━━━━━━━━━━━━━━━━━━━━\u001b[0m\u001b[37m\u001b[0m \u001b[1m2s\u001b[0m 23ms/step - loss: 3.7885e-04 - mae: 0.0134 - mape: 853.5186 - mse: 3.7885e-04 - val_loss: 0.0017 - val_mae: 0.0352 - val_mape: 6.6390 - val_mse: 0.0017\n",
      "Epoch 10/50\n",
      "\u001b[1m88/88\u001b[0m \u001b[32m━━━━━━━━━━━━━━━━━━━━\u001b[0m\u001b[37m\u001b[0m \u001b[1m2s\u001b[0m 22ms/step - loss: 4.8939e-04 - mae: 0.0156 - mape: 1101.3315 - mse: 4.8939e-04 - val_loss: 6.0656e-04 - val_mae: 0.0184 - val_mape: 3.5539 - val_mse: 6.0656e-04\n",
      "Epoch 11/50\n",
      "\u001b[1m88/88\u001b[0m \u001b[32m━━━━━━━━━━━━━━━━━━━━\u001b[0m\u001b[37m\u001b[0m \u001b[1m2s\u001b[0m 25ms/step - loss: 3.9794e-04 - mae: 0.0139 - mape: 4549.2075 - mse: 3.9794e-04 - val_loss: 6.3604e-04 - val_mae: 0.0188 - val_mape: 3.6681 - val_mse: 6.3604e-04\n",
      "Epoch 12/50\n",
      "\u001b[1m88/88\u001b[0m \u001b[32m━━━━━━━━━━━━━━━━━━━━\u001b[0m\u001b[37m\u001b[0m \u001b[1m2s\u001b[0m 24ms/step - loss: 7.7169e-04 - mae: 0.0200 - mape: 782.2471 - mse: 7.7169e-04 - val_loss: 5.1598e-04 - val_mae: 0.0164 - val_mape: 3.2407 - val_mse: 5.1598e-04\n",
      "Epoch 13/50\n",
      "\u001b[1m88/88\u001b[0m \u001b[32m━━━━━━━━━━━━━━━━━━━━\u001b[0m\u001b[37m\u001b[0m \u001b[1m2s\u001b[0m 23ms/step - loss: 3.7401e-04 - mae: 0.0130 - mape: 1600.8917 - mse: 3.7401e-04 - val_loss: 6.6759e-04 - val_mae: 0.0194 - val_mape: 3.7707 - val_mse: 6.6759e-04\n",
      "Epoch 14/50\n",
      "\u001b[1m88/88\u001b[0m \u001b[32m━━━━━━━━━━━━━━━━━━━━\u001b[0m\u001b[37m\u001b[0m \u001b[1m2s\u001b[0m 23ms/step - loss: 4.6626e-04 - mae: 0.0144 - mape: 573.8386 - mse: 4.6626e-04 - val_loss: 5.4545e-04 - val_mae: 0.0171 - val_mape: 3.3289 - val_mse: 5.4545e-04\n",
      "Epoch 15/50\n",
      "\u001b[1m88/88\u001b[0m \u001b[32m━━━━━━━━━━━━━━━━━━━━\u001b[0m\u001b[37m\u001b[0m \u001b[1m2s\u001b[0m 23ms/step - loss: 5.2277e-04 - mae: 0.0154 - mape: 3687.4854 - mse: 5.2277e-04 - val_loss: 5.7492e-04 - val_mae: 0.0176 - val_mape: 3.4317 - val_mse: 5.7492e-04\n",
      "Epoch 16/50\n",
      "\u001b[1m88/88\u001b[0m \u001b[32m━━━━━━━━━━━━━━━━━━━━\u001b[0m\u001b[37m\u001b[0m \u001b[1m2s\u001b[0m 24ms/step - loss: 4.3440e-04 - mae: 0.0149 - mape: 2518.9292 - mse: 4.3440e-04 - val_loss: 0.0013 - val_mae: 0.0302 - val_mape: 5.5189 - val_mse: 0.0013\n",
      "Epoch 17/50\n",
      "\u001b[1m88/88\u001b[0m \u001b[32m━━━━━━━━━━━━━━━━━━━━\u001b[0m\u001b[37m\u001b[0m \u001b[1m2s\u001b[0m 25ms/step - loss: 5.0631e-04 - mae: 0.0144 - mape: 926.2520 - mse: 5.0631e-04 - val_loss: 5.4598e-04 - val_mae: 0.0171 - val_mape: 3.3793 - val_mse: 5.4598e-04\n",
      "Epoch 18/50\n",
      "\u001b[1m88/88\u001b[0m \u001b[32m━━━━━━━━━━━━━━━━━━━━\u001b[0m\u001b[37m\u001b[0m \u001b[1m2s\u001b[0m 23ms/step - loss: 3.6278e-04 - mae: 0.0131 - mape: 3271.8118 - mse: 3.6278e-04 - val_loss: 6.6014e-04 - val_mae: 0.0192 - val_mape: 3.7160 - val_mse: 6.6014e-04\n",
      "Epoch 19/50\n",
      "\u001b[1m88/88\u001b[0m \u001b[32m━━━━━━━━━━━━━━━━━━━━\u001b[0m\u001b[37m\u001b[0m \u001b[1m2s\u001b[0m 24ms/step - loss: 4.6341e-04 - mae: 0.0141 - mape: 536.6857 - mse: 4.6341e-04 - val_loss: 6.0582e-04 - val_mae: 0.0182 - val_mape: 3.5395 - val_mse: 6.0582e-04\n",
      "Epoch 20/50\n",
      "\u001b[1m88/88\u001b[0m \u001b[32m━━━━━━━━━━━━━━━━━━━━\u001b[0m\u001b[37m\u001b[0m \u001b[1m2s\u001b[0m 24ms/step - loss: 4.6785e-04 - mae: 0.0139 - mape: 2448.3826 - mse: 4.6785e-04 - val_loss: 5.0071e-04 - val_mae: 0.0162 - val_mape: 3.1854 - val_mse: 5.0071e-04\n",
      "Epoch 21/50\n",
      "\u001b[1m88/88\u001b[0m \u001b[32m━━━━━━━━━━━━━━━━━━━━\u001b[0m\u001b[37m\u001b[0m \u001b[1m2s\u001b[0m 23ms/step - loss: 5.6744e-04 - mae: 0.0134 - mape: 1215.6322 - mse: 5.6744e-04 - val_loss: 8.9546e-04 - val_mae: 0.0241 - val_mape: 4.5058 - val_mse: 8.9546e-04\n",
      "Epoch 22/50\n",
      "\u001b[1m88/88\u001b[0m \u001b[32m━━━━━━━━━━━━━━━━━━━━\u001b[0m\u001b[37m\u001b[0m \u001b[1m2s\u001b[0m 23ms/step - loss: 3.7988e-04 - mae: 0.0139 - mape: 4160.8691 - mse: 3.7988e-04 - val_loss: 6.8776e-04 - val_mae: 0.0202 - val_mape: 3.8842 - val_mse: 6.8776e-04\n",
      "Epoch 23/50\n",
      "\u001b[1m88/88\u001b[0m \u001b[32m━━━━━━━━━━━━━━━━━━━━\u001b[0m\u001b[37m\u001b[0m \u001b[1m2s\u001b[0m 23ms/step - loss: 4.5147e-04 - mae: 0.0148 - mape: 590.7568 - mse: 4.5147e-04 - val_loss: 5.7905e-04 - val_mae: 0.0178 - val_mape: 3.5212 - val_mse: 5.7905e-04\n",
      "Epoch 24/50\n",
      "\u001b[1m88/88\u001b[0m \u001b[32m━━━━━━━━━━━━━━━━━━━━\u001b[0m\u001b[37m\u001b[0m \u001b[1m3s\u001b[0m 23ms/step - loss: 4.5157e-04 - mae: 0.0149 - mape: 2221.7944 - mse: 4.5157e-04 - val_loss: 4.9280e-04 - val_mae: 0.0160 - val_mape: 3.1615 - val_mse: 4.9280e-04\n",
      "Epoch 25/50\n",
      "\u001b[1m88/88\u001b[0m \u001b[32m━━━━━━━━━━━━━━━━━━━━\u001b[0m\u001b[37m\u001b[0m \u001b[1m2s\u001b[0m 25ms/step - loss: 4.6099e-04 - mae: 0.0145 - mape: 3472.1797 - mse: 4.6099e-04 - val_loss: 5.8971e-04 - val_mae: 0.0180 - val_mape: 3.4589 - val_mse: 5.8971e-04\n",
      "Epoch 26/50\n",
      "\u001b[1m88/88\u001b[0m \u001b[32m━━━━━━━━━━━━━━━━━━━━\u001b[0m\u001b[37m\u001b[0m \u001b[1m2s\u001b[0m 25ms/step - loss: 5.0902e-04 - mae: 0.0137 - mape: 638.8638 - mse: 5.0902e-04 - val_loss: 5.5091e-04 - val_mae: 0.0172 - val_mape: 3.4080 - val_mse: 5.5091e-04\n",
      "Epoch 27/50\n",
      "\u001b[1m88/88\u001b[0m \u001b[32m━━━━━━━━━━━━━━━━━━━━\u001b[0m\u001b[37m\u001b[0m \u001b[1m2s\u001b[0m 24ms/step - loss: 4.0312e-04 - mae: 0.0134 - mape: 1829.2988 - mse: 4.0312e-04 - val_loss: 5.8408e-04 - val_mae: 0.0181 - val_mape: 3.4905 - val_mse: 5.8408e-04\n",
      "Epoch 28/50\n",
      "\u001b[1m88/88\u001b[0m \u001b[32m━━━━━━━━━━━━━━━━━━━━\u001b[0m\u001b[37m\u001b[0m \u001b[1m2s\u001b[0m 24ms/step - loss: 4.5231e-04 - mae: 0.0135 - mape: 7495.5576 - mse: 4.5231e-04 - val_loss: 5.6901e-04 - val_mae: 0.0177 - val_mape: 3.4059 - val_mse: 5.6901e-04\n",
      "Epoch 29/50\n",
      "\u001b[1m88/88\u001b[0m \u001b[32m━━━━━━━━━━━━━━━━━━━━\u001b[0m\u001b[37m\u001b[0m \u001b[1m2s\u001b[0m 23ms/step - loss: 4.4197e-04 - mae: 0.0133 - mape: 2141.2507 - mse: 4.4197e-04 - val_loss: 6.2148e-04 - val_mae: 0.0187 - val_mape: 3.6937 - val_mse: 6.2148e-04\n",
      "Epoch 30/50\n",
      "\u001b[1m88/88\u001b[0m \u001b[32m━━━━━━━━━━━━━━━━━━━━\u001b[0m\u001b[37m\u001b[0m \u001b[1m2s\u001b[0m 24ms/step - loss: 4.9915e-04 - mae: 0.0149 - mape: 576.1599 - mse: 4.9915e-04 - val_loss: 7.7376e-04 - val_mae: 0.0219 - val_mape: 4.0932 - val_mse: 7.7376e-04\n",
      "Epoch 31/50\n",
      "\u001b[1m88/88\u001b[0m \u001b[32m━━━━━━━━━━━━━━━━━━━━\u001b[0m\u001b[37m\u001b[0m \u001b[1m2s\u001b[0m 24ms/step - loss: 4.5828e-04 - mae: 0.0150 - mape: 148.2149 - mse: 4.5828e-04 - val_loss: 5.2377e-04 - val_mae: 0.0166 - val_mape: 3.2753 - val_mse: 5.2377e-04\n",
      "Epoch 32/50\n",
      "\u001b[1m88/88\u001b[0m \u001b[32m━━━━━━━━━━━━━━━━━━━━\u001b[0m\u001b[37m\u001b[0m \u001b[1m2s\u001b[0m 24ms/step - loss: 4.5897e-04 - mae: 0.0142 - mape: 951.0671 - mse: 4.5897e-04 - val_loss: 5.2415e-04 - val_mae: 0.0166 - val_mape: 3.2223 - val_mse: 5.2415e-04\n",
      "Epoch 33/50\n",
      "\u001b[1m88/88\u001b[0m \u001b[32m━━━━━━━━━━━━━━━━━━━━\u001b[0m\u001b[37m\u001b[0m \u001b[1m2s\u001b[0m 25ms/step - loss: 3.8395e-04 - mae: 0.0130 - mape: 440.2058 - mse: 3.8395e-04 - val_loss: 4.8970e-04 - val_mae: 0.0160 - val_mape: 3.1566 - val_mse: 4.8970e-04\n",
      "Epoch 34/50\n",
      "\u001b[1m88/88\u001b[0m \u001b[32m━━━━━━━━━━━━━━━━━━━━\u001b[0m\u001b[37m\u001b[0m \u001b[1m2s\u001b[0m 24ms/step - loss: 3.5466e-04 - mae: 0.0127 - mape: 57.1795 - mse: 3.5466e-04 - val_loss: 5.1861e-04 - val_mae: 0.0165 - val_mape: 3.2206 - val_mse: 5.1861e-04\n",
      "Epoch 35/50\n",
      "\u001b[1m88/88\u001b[0m \u001b[32m━━━━━━━━━━━━━━━━━━━━\u001b[0m\u001b[37m\u001b[0m \u001b[1m2s\u001b[0m 23ms/step - loss: 4.1265e-04 - mae: 0.0130 - mape: 8093.9761 - mse: 4.1265e-04 - val_loss: 6.9051e-04 - val_mae: 0.0200 - val_mape: 3.8956 - val_mse: 6.9051e-04\n",
      "Epoch 36/50\n",
      "\u001b[1m88/88\u001b[0m \u001b[32m━━━━━━━━━━━━━━━━━━━━\u001b[0m\u001b[37m\u001b[0m \u001b[1m2s\u001b[0m 25ms/step - loss: 3.5630e-04 - mae: 0.0127 - mape: 132.7696 - mse: 3.5630e-04 - val_loss: 7.8216e-04 - val_mae: 0.0219 - val_mape: 4.2428 - val_mse: 7.8216e-04\n",
      "Epoch 37/50\n",
      "\u001b[1m88/88\u001b[0m \u001b[32m━━━━━━━━━━━━━━━━━━━━\u001b[0m\u001b[37m\u001b[0m \u001b[1m2s\u001b[0m 24ms/step - loss: 3.5090e-04 - mae: 0.0133 - mape: 6072.7900 - mse: 3.5090e-04 - val_loss: 5.9186e-04 - val_mae: 0.0182 - val_mape: 3.5263 - val_mse: 5.9186e-04\n",
      "Epoch 38/50\n",
      "\u001b[1m88/88\u001b[0m \u001b[32m━━━━━━━━━━━━━━━━━━━━\u001b[0m\u001b[37m\u001b[0m \u001b[1m2s\u001b[0m 27ms/step - loss: 4.3916e-04 - mae: 0.0141 - mape: 118.4053 - mse: 4.3916e-04 - val_loss: 4.9920e-04 - val_mae: 0.0161 - val_mape: 3.1593 - val_mse: 4.9920e-04\n",
      "Epoch 39/50\n",
      "\u001b[1m88/88\u001b[0m \u001b[32m━━━━━━━━━━━━━━━━━━━━\u001b[0m\u001b[37m\u001b[0m \u001b[1m2s\u001b[0m 23ms/step - loss: 6.0596e-04 - mae: 0.0144 - mape: 1199.0939 - mse: 6.0596e-04 - val_loss: 9.2001e-04 - val_mae: 0.0243 - val_mape: 4.6559 - val_mse: 9.2001e-04\n",
      "Epoch 40/50\n",
      "\u001b[1m88/88\u001b[0m \u001b[32m━━━━━━━━━━━━━━━━━━━━\u001b[0m\u001b[37m\u001b[0m \u001b[1m2s\u001b[0m 25ms/step - loss: 5.1870e-04 - mae: 0.0149 - mape: 3164.8208 - mse: 5.1870e-04 - val_loss: 5.4808e-04 - val_mae: 0.0173 - val_mape: 3.3643 - val_mse: 5.4808e-04\n",
      "Epoch 41/50\n",
      "\u001b[1m88/88\u001b[0m \u001b[32m━━━━━━━━━━━━━━━━━━━━\u001b[0m\u001b[37m\u001b[0m \u001b[1m2s\u001b[0m 23ms/step - loss: 3.8849e-04 - mae: 0.0136 - mape: 636.1414 - mse: 3.8849e-04 - val_loss: 6.8440e-04 - val_mae: 0.0203 - val_mape: 3.8333 - val_mse: 6.8440e-04\n",
      "Epoch 42/50\n",
      "\u001b[1m88/88\u001b[0m \u001b[32m━━━━━━━━━━━━━━━━━━━━\u001b[0m\u001b[37m\u001b[0m \u001b[1m2s\u001b[0m 24ms/step - loss: 4.8667e-04 - mae: 0.0152 - mape: 640.0579 - mse: 4.8667e-04 - val_loss: 6.6484e-04 - val_mae: 0.0195 - val_mape: 3.8195 - val_mse: 6.6484e-04\n",
      "Epoch 43/50\n",
      "\u001b[1m88/88\u001b[0m \u001b[32m━━━━━━━━━━━━━━━━━━━━\u001b[0m\u001b[37m\u001b[0m \u001b[1m2s\u001b[0m 23ms/step - loss: 4.2890e-04 - mae: 0.0146 - mape: 383.6590 - mse: 4.2890e-04 - val_loss: 4.8741e-04 - val_mae: 0.0159 - val_mape: 3.1440 - val_mse: 4.8741e-04\n",
      "Epoch 44/50\n",
      "\u001b[1m88/88\u001b[0m \u001b[32m━━━━━━━━━━━━━━━━━━━━\u001b[0m\u001b[37m\u001b[0m \u001b[1m2s\u001b[0m 23ms/step - loss: 4.4885e-04 - mae: 0.0130 - mape: 2358.9868 - mse: 4.4885e-04 - val_loss: 4.9388e-04 - val_mae: 0.0159 - val_mape: 3.1313 - val_mse: 4.9388e-04\n",
      "Epoch 45/50\n",
      "\u001b[1m88/88\u001b[0m \u001b[32m━━━━━━━━━━━━━━━━━━━━\u001b[0m\u001b[37m\u001b[0m \u001b[1m2s\u001b[0m 24ms/step - loss: 3.7159e-04 - mae: 0.0131 - mape: 3429.1516 - mse: 3.7159e-04 - val_loss: 8.4510e-04 - val_mae: 0.0230 - val_mape: 4.4450 - val_mse: 8.4510e-04\n",
      "Epoch 46/50\n",
      "\u001b[1m88/88\u001b[0m \u001b[32m━━━━━━━━━━━━━━━━━━━━\u001b[0m\u001b[37m\u001b[0m \u001b[1m2s\u001b[0m 23ms/step - loss: 3.4759e-04 - mae: 0.0130 - mape: 458.4223 - mse: 3.4759e-04 - val_loss: 0.0011 - val_mae: 0.0273 - val_mape: 5.1678 - val_mse: 0.0011\n",
      "Epoch 47/50\n",
      "\u001b[1m88/88\u001b[0m \u001b[32m━━━━━━━━━━━━━━━━━━━━\u001b[0m\u001b[37m\u001b[0m \u001b[1m2s\u001b[0m 25ms/step - loss: 4.7237e-04 - mae: 0.0133 - mape: 2190.1909 - mse: 4.7237e-04 - val_loss: 5.6144e-04 - val_mae: 0.0174 - val_mape: 3.4508 - val_mse: 5.6144e-04\n",
      "Epoch 48/50\n",
      "\u001b[1m88/88\u001b[0m \u001b[32m━━━━━━━━━━━━━━━━━━━━\u001b[0m\u001b[37m\u001b[0m \u001b[1m2s\u001b[0m 27ms/step - loss: 3.5039e-04 - mae: 0.0131 - mape: 667.2506 - mse: 3.5039e-04 - val_loss: 5.1124e-04 - val_mae: 0.0163 - val_mape: 3.2335 - val_mse: 5.1124e-04\n",
      "Epoch 49/50\n",
      "\u001b[1m88/88\u001b[0m \u001b[32m━━━━━━━━━━━━━━━━━━━━\u001b[0m\u001b[37m\u001b[0m \u001b[1m2s\u001b[0m 23ms/step - loss: 4.0768e-04 - mae: 0.0134 - mape: 7213.9570 - mse: 4.0768e-04 - val_loss: 9.2872e-04 - val_mae: 0.0246 - val_mape: 4.7253 - val_mse: 9.2872e-04\n",
      "Epoch 50/50\n",
      "\u001b[1m88/88\u001b[0m \u001b[32m━━━━━━━━━━━━━━━━━━━━\u001b[0m\u001b[37m\u001b[0m \u001b[1m2s\u001b[0m 25ms/step - loss: 4.2892e-04 - mae: 0.0147 - mape: 2496.5273 - mse: 4.2892e-04 - val_loss: 8.7779e-04 - val_mae: 0.0234 - val_mape: 4.4443 - val_mse: 8.7779e-04\n"
     ]
    },
    {
     "name": "stderr",
     "output_type": "stream",
     "text": [
      "WARNING:absl:You are saving your model as an HDF5 file via `model.save()` or `keras.saving.save_model(model)`. This file format is considered legacy. We recommend using instead the native Keras format, e.g. `model.save('my_model.keras')` or `keras.saving.save_model(model, 'my_model.keras')`. \n"
     ]
    },
    {
     "name": "stdout",
     "output_type": "stream",
     "text": [
      "\u001b[1m22/22\u001b[0m \u001b[32m━━━━━━━━━━━━━━━━━━━━\u001b[0m\u001b[37m\u001b[0m \u001b[1m1s\u001b[0m 18ms/step\n",
      "model_2: Processando ITUB4 | Combinação 1...\n",
      "Epoch 1/50\n",
      "\u001b[1m90/90\u001b[0m \u001b[32m━━━━━━━━━━━━━━━━━━━━\u001b[0m\u001b[37m\u001b[0m \u001b[1m6s\u001b[0m 25ms/step - loss: 0.0646 - mae: 0.1813 - mape: 118620.1562 - mse: 0.0646 - val_loss: 8.3892e-04 - val_mae: 0.0220 - val_mape: 3.6991 - val_mse: 8.3892e-04\n",
      "Epoch 2/50\n",
      "\u001b[1m90/90\u001b[0m \u001b[32m━━━━━━━━━━━━━━━━━━━━\u001b[0m\u001b[37m\u001b[0m \u001b[1m2s\u001b[0m 20ms/step - loss: 4.2065e-04 - mae: 0.0153 - mape: 29003.8926 - mse: 4.2065e-04 - val_loss: 5.5099e-04 - val_mae: 0.0175 - val_mape: 2.8587 - val_mse: 5.5099e-04\n",
      "Epoch 3/50\n",
      "\u001b[1m90/90\u001b[0m \u001b[32m━━━━━━━━━━━━━━━━━━━━\u001b[0m\u001b[37m\u001b[0m \u001b[1m2s\u001b[0m 19ms/step - loss: 2.6129e-04 - mae: 0.0121 - mape: 28656.6641 - mse: 2.6129e-04 - val_loss: 4.2411e-04 - val_mae: 0.0151 - val_mape: 2.5323 - val_mse: 4.2411e-04\n",
      "Epoch 4/50\n",
      "\u001b[1m90/90\u001b[0m \u001b[32m━━━━━━━━━━━━━━━━━━━━\u001b[0m\u001b[37m\u001b[0m \u001b[1m2s\u001b[0m 20ms/step - loss: 2.6318e-04 - mae: 0.0121 - mape: 3808.1851 - mse: 2.6318e-04 - val_loss: 4.1332e-04 - val_mae: 0.0148 - val_mape: 2.4915 - val_mse: 4.1332e-04\n",
      "Epoch 5/50\n",
      "\u001b[1m90/90\u001b[0m \u001b[32m━━━━━━━━━━━━━━━━━━━━\u001b[0m\u001b[37m\u001b[0m \u001b[1m2s\u001b[0m 20ms/step - loss: 2.4468e-04 - mae: 0.0114 - mape: 7352.5947 - mse: 2.4468e-04 - val_loss: 4.0186e-04 - val_mae: 0.0146 - val_mape: 2.4581 - val_mse: 4.0186e-04\n",
      "Epoch 6/50\n",
      "\u001b[1m90/90\u001b[0m \u001b[32m━━━━━━━━━━━━━━━━━━━━\u001b[0m\u001b[37m\u001b[0m \u001b[1m2s\u001b[0m 20ms/step - loss: 2.3623e-04 - mae: 0.0113 - mape: 7718.3145 - mse: 2.3623e-04 - val_loss: 3.9924e-04 - val_mae: 0.0145 - val_mape: 2.4508 - val_mse: 3.9924e-04\n",
      "Epoch 7/50\n",
      "\u001b[1m90/90\u001b[0m \u001b[32m━━━━━━━━━━━━━━━━━━━━\u001b[0m\u001b[37m\u001b[0m \u001b[1m2s\u001b[0m 20ms/step - loss: 2.3901e-04 - mae: 0.0114 - mape: 12842.4297 - mse: 2.3901e-04 - val_loss: 6.9463e-04 - val_mae: 0.0209 - val_mape: 3.5075 - val_mse: 6.9463e-04\n",
      "Epoch 8/50\n",
      "\u001b[1m90/90\u001b[0m \u001b[32m━━━━━━━━━━━━━━━━━━━━\u001b[0m\u001b[37m\u001b[0m \u001b[1m2s\u001b[0m 21ms/step - loss: 2.5220e-04 - mae: 0.0118 - mape: 6454.7651 - mse: 2.5220e-04 - val_loss: 4.2902e-04 - val_mae: 0.0152 - val_mape: 2.5720 - val_mse: 4.2902e-04\n",
      "Epoch 9/50\n",
      "\u001b[1m90/90\u001b[0m \u001b[32m━━━━━━━━━━━━━━━━━━━━\u001b[0m\u001b[37m\u001b[0m \u001b[1m2s\u001b[0m 20ms/step - loss: 2.4604e-04 - mae: 0.0113 - mape: 2119.5684 - mse: 2.4604e-04 - val_loss: 4.0041e-04 - val_mae: 0.0146 - val_mape: 2.4677 - val_mse: 4.0041e-04\n",
      "Epoch 10/50\n",
      "\u001b[1m90/90\u001b[0m \u001b[32m━━━━━━━━━━━━━━━━━━━━\u001b[0m\u001b[37m\u001b[0m \u001b[1m2s\u001b[0m 19ms/step - loss: 2.2356e-04 - mae: 0.0111 - mape: 12844.5312 - mse: 2.2356e-04 - val_loss: 4.1240e-04 - val_mae: 0.0149 - val_mape: 2.5268 - val_mse: 4.1240e-04\n",
      "Epoch 11/50\n",
      "\u001b[1m90/90\u001b[0m \u001b[32m━━━━━━━━━━━━━━━━━━━━\u001b[0m\u001b[37m\u001b[0m \u001b[1m2s\u001b[0m 21ms/step - loss: 2.3838e-04 - mae: 0.0115 - mape: 6541.2788 - mse: 2.3838e-04 - val_loss: 3.9451e-04 - val_mae: 0.0145 - val_mape: 2.4559 - val_mse: 3.9451e-04\n",
      "Epoch 12/50\n",
      "\u001b[1m90/90\u001b[0m \u001b[32m━━━━━━━━━━━━━━━━━━━━\u001b[0m\u001b[37m\u001b[0m \u001b[1m2s\u001b[0m 22ms/step - loss: 2.2510e-04 - mae: 0.0112 - mape: 5565.2573 - mse: 2.2510e-04 - val_loss: 4.1157e-04 - val_mae: 0.0149 - val_mape: 2.4873 - val_mse: 4.1157e-04\n",
      "Epoch 13/50\n",
      "\u001b[1m90/90\u001b[0m \u001b[32m━━━━━━━━━━━━━━━━━━━━\u001b[0m\u001b[37m\u001b[0m \u001b[1m2s\u001b[0m 21ms/step - loss: 2.3169e-04 - mae: 0.0113 - mape: 18154.7793 - mse: 2.3169e-04 - val_loss: 5.9837e-04 - val_mae: 0.0190 - val_mape: 3.1988 - val_mse: 5.9837e-04\n",
      "Epoch 14/50\n",
      "\u001b[1m90/90\u001b[0m \u001b[32m━━━━━━━━━━━━━━━━━━━━\u001b[0m\u001b[37m\u001b[0m \u001b[1m2s\u001b[0m 22ms/step - loss: 2.4507e-04 - mae: 0.0115 - mape: 20222.7285 - mse: 2.4507e-04 - val_loss: 4.5727e-04 - val_mae: 0.0159 - val_mape: 2.6832 - val_mse: 4.5727e-04\n",
      "Epoch 15/50\n",
      "\u001b[1m90/90\u001b[0m \u001b[32m━━━━━━━━━━━━━━━━━━━━\u001b[0m\u001b[37m\u001b[0m \u001b[1m2s\u001b[0m 20ms/step - loss: 2.6150e-04 - mae: 0.0118 - mape: 28511.7578 - mse: 2.6150e-04 - val_loss: 3.9267e-04 - val_mae: 0.0145 - val_mape: 2.4368 - val_mse: 3.9267e-04\n",
      "Epoch 16/50\n",
      "\u001b[1m90/90\u001b[0m \u001b[32m━━━━━━━━━━━━━━━━━━━━\u001b[0m\u001b[37m\u001b[0m \u001b[1m2s\u001b[0m 21ms/step - loss: 2.4666e-04 - mae: 0.0118 - mape: 19558.9629 - mse: 2.4666e-04 - val_loss: 3.8837e-04 - val_mae: 0.0144 - val_mape: 2.4207 - val_mse: 3.8837e-04\n",
      "Epoch 17/50\n",
      "\u001b[1m90/90\u001b[0m \u001b[32m━━━━━━━━━━━━━━━━━━━━\u001b[0m\u001b[37m\u001b[0m \u001b[1m2s\u001b[0m 21ms/step - loss: 2.5686e-04 - mae: 0.0118 - mape: 6958.9502 - mse: 2.5686e-04 - val_loss: 6.2040e-04 - val_mae: 0.0195 - val_mape: 3.2611 - val_mse: 6.2040e-04\n",
      "Epoch 18/50\n",
      "\u001b[1m90/90\u001b[0m \u001b[32m━━━━━━━━━━━━━━━━━━━━\u001b[0m\u001b[37m\u001b[0m \u001b[1m2s\u001b[0m 20ms/step - loss: 2.6313e-04 - mae: 0.0118 - mape: 3890.6750 - mse: 2.6313e-04 - val_loss: 4.0308e-04 - val_mae: 0.0146 - val_mape: 2.4666 - val_mse: 4.0308e-04\n",
      "Epoch 19/50\n",
      "\u001b[1m90/90\u001b[0m \u001b[32m━━━━━━━━━━━━━━━━━━━━\u001b[0m\u001b[37m\u001b[0m \u001b[1m2s\u001b[0m 23ms/step - loss: 2.7264e-04 - mae: 0.0122 - mape: 14908.7920 - mse: 2.7264e-04 - val_loss: 3.9642e-04 - val_mae: 0.0146 - val_mape: 2.4430 - val_mse: 3.9642e-04\n",
      "Epoch 20/50\n",
      "\u001b[1m90/90\u001b[0m \u001b[32m━━━━━━━━━━━━━━━━━━━━\u001b[0m\u001b[37m\u001b[0m \u001b[1m2s\u001b[0m 23ms/step - loss: 2.4384e-04 - mae: 0.0115 - mape: 21473.9336 - mse: 2.4384e-04 - val_loss: 4.0999e-04 - val_mae: 0.0149 - val_mape: 2.4922 - val_mse: 4.0999e-04\n",
      "Epoch 21/50\n",
      "\u001b[1m90/90\u001b[0m \u001b[32m━━━━━━━━━━━━━━━━━━━━\u001b[0m\u001b[37m\u001b[0m \u001b[1m2s\u001b[0m 21ms/step - loss: 2.5395e-04 - mae: 0.0119 - mape: 26352.7188 - mse: 2.5395e-04 - val_loss: 3.9880e-04 - val_mae: 0.0146 - val_mape: 2.4800 - val_mse: 3.9880e-04\n",
      "Epoch 22/50\n",
      "\u001b[1m90/90\u001b[0m \u001b[32m━━━━━━━━━━━━━━━━━━━━\u001b[0m\u001b[37m\u001b[0m \u001b[1m2s\u001b[0m 24ms/step - loss: 2.8263e-04 - mae: 0.0125 - mape: 10222.1719 - mse: 2.8263e-04 - val_loss: 3.8482e-04 - val_mae: 0.0143 - val_mape: 2.4052 - val_mse: 3.8482e-04\n",
      "Epoch 23/50\n",
      "\u001b[1m90/90\u001b[0m \u001b[32m━━━━━━━━━━━━━━━━━━━━\u001b[0m\u001b[37m\u001b[0m \u001b[1m2s\u001b[0m 25ms/step - loss: 2.2236e-04 - mae: 0.0109 - mape: 20167.6094 - mse: 2.2236e-04 - val_loss: 4.1643e-04 - val_mae: 0.0151 - val_mape: 2.5922 - val_mse: 4.1643e-04\n",
      "Epoch 24/50\n",
      "\u001b[1m90/90\u001b[0m \u001b[32m━━━━━━━━━━━━━━━━━━━━\u001b[0m\u001b[37m\u001b[0m \u001b[1m2s\u001b[0m 23ms/step - loss: 3.0186e-04 - mae: 0.0133 - mape: 11139.2432 - mse: 3.0186e-04 - val_loss: 4.5968e-04 - val_mae: 0.0160 - val_mape: 2.6611 - val_mse: 4.5968e-04\n",
      "Epoch 25/50\n",
      "\u001b[1m90/90\u001b[0m \u001b[32m━━━━━━━━━━━━━━━━━━━━\u001b[0m\u001b[37m\u001b[0m \u001b[1m2s\u001b[0m 24ms/step - loss: 3.7529e-04 - mae: 0.0145 - mape: 20368.4004 - mse: 3.7529e-04 - val_loss: 4.5544e-04 - val_mae: 0.0160 - val_mape: 2.7356 - val_mse: 4.5544e-04\n",
      "Epoch 26/50\n",
      "\u001b[1m90/90\u001b[0m \u001b[32m━━━━━━━━━━━━━━━━━━━━\u001b[0m\u001b[37m\u001b[0m \u001b[1m2s\u001b[0m 27ms/step - loss: 3.0540e-04 - mae: 0.0130 - mape: 5991.7554 - mse: 3.0540e-04 - val_loss: 4.0054e-04 - val_mae: 0.0147 - val_mape: 2.4515 - val_mse: 4.0054e-04\n",
      "Epoch 27/50\n",
      "\u001b[1m90/90\u001b[0m \u001b[32m━━━━━━━━━━━━━━━━━━━━\u001b[0m\u001b[37m\u001b[0m \u001b[1m2s\u001b[0m 24ms/step - loss: 2.1736e-04 - mae: 0.0110 - mape: 9977.1064 - mse: 2.1736e-04 - val_loss: 7.8295e-04 - val_mae: 0.0229 - val_mape: 3.7114 - val_mse: 7.8295e-04\n",
      "Epoch 28/50\n",
      "\u001b[1m90/90\u001b[0m \u001b[32m━━━━━━━━━━━━━━━━━━━━\u001b[0m\u001b[37m\u001b[0m \u001b[1m2s\u001b[0m 22ms/step - loss: 3.2504e-04 - mae: 0.0131 - mape: 9232.3477 - mse: 3.2504e-04 - val_loss: 7.1788e-04 - val_mae: 0.0215 - val_mape: 3.4953 - val_mse: 7.1788e-04\n",
      "Epoch 29/50\n",
      "\u001b[1m90/90\u001b[0m \u001b[32m━━━━━━━━━━━━━━━━━━━━\u001b[0m\u001b[37m\u001b[0m \u001b[1m2s\u001b[0m 25ms/step - loss: 2.9392e-04 - mae: 0.0126 - mape: 7048.8047 - mse: 2.9392e-04 - val_loss: 4.3206e-04 - val_mae: 0.0154 - val_mape: 2.5621 - val_mse: 4.3206e-04\n",
      "Epoch 30/50\n",
      "\u001b[1m90/90\u001b[0m \u001b[32m━━━━━━━━━━━━━━━━━━━━\u001b[0m\u001b[37m\u001b[0m \u001b[1m2s\u001b[0m 24ms/step - loss: 2.5026e-04 - mae: 0.0117 - mape: 5615.5835 - mse: 2.5026e-04 - val_loss: 5.0805e-04 - val_mae: 0.0171 - val_mape: 2.8613 - val_mse: 5.0805e-04\n",
      "Epoch 31/50\n",
      "\u001b[1m90/90\u001b[0m \u001b[32m━━━━━━━━━━━━━━━━━━━━\u001b[0m\u001b[37m\u001b[0m \u001b[1m2s\u001b[0m 24ms/step - loss: 2.4163e-04 - mae: 0.0115 - mape: 4864.2290 - mse: 2.4163e-04 - val_loss: 0.0014 - val_mae: 0.0330 - val_mape: 5.2869 - val_mse: 0.0014\n",
      "Epoch 32/50\n",
      "\u001b[1m90/90\u001b[0m \u001b[32m━━━━━━━━━━━━━━━━━━━━\u001b[0m\u001b[37m\u001b[0m \u001b[1m2s\u001b[0m 24ms/step - loss: 4.6215e-04 - mae: 0.0158 - mape: 9819.6504 - mse: 4.6215e-04 - val_loss: 3.8179e-04 - val_mae: 0.0143 - val_mape: 2.3945 - val_mse: 3.8179e-04\n",
      "Epoch 33/50\n",
      "\u001b[1m90/90\u001b[0m \u001b[32m━━━━━━━━━━━━━━━━━━━━\u001b[0m\u001b[37m\u001b[0m \u001b[1m2s\u001b[0m 24ms/step - loss: 2.2607e-04 - mae: 0.0113 - mape: 5127.0439 - mse: 2.2607e-04 - val_loss: 4.8778e-04 - val_mae: 0.0167 - val_mape: 2.8123 - val_mse: 4.8778e-04\n",
      "Epoch 34/50\n",
      "\u001b[1m90/90\u001b[0m \u001b[32m━━━━━━━━━━━━━━━━━━━━\u001b[0m\u001b[37m\u001b[0m \u001b[1m2s\u001b[0m 24ms/step - loss: 3.3878e-04 - mae: 0.0133 - mape: 8669.2061 - mse: 3.3878e-04 - val_loss: 4.9471e-04 - val_mae: 0.0169 - val_mape: 2.8601 - val_mse: 4.9471e-04\n",
      "Epoch 35/50\n",
      "\u001b[1m90/90\u001b[0m \u001b[32m━━━━━━━━━━━━━━━━━━━━\u001b[0m\u001b[37m\u001b[0m \u001b[1m2s\u001b[0m 23ms/step - loss: 2.4835e-04 - mae: 0.0116 - mape: 25577.3145 - mse: 2.4835e-04 - val_loss: 4.2310e-04 - val_mae: 0.0152 - val_mape: 2.5254 - val_mse: 4.2310e-04\n",
      "Epoch 36/50\n",
      "\u001b[1m90/90\u001b[0m \u001b[32m━━━━━━━━━━━━━━━━━━━━\u001b[0m\u001b[37m\u001b[0m \u001b[1m2s\u001b[0m 24ms/step - loss: 2.0248e-04 - mae: 0.0106 - mape: 7289.9521 - mse: 2.0248e-04 - val_loss: 3.9217e-04 - val_mae: 0.0145 - val_mape: 2.4300 - val_mse: 3.9217e-04\n",
      "Epoch 37/50\n",
      "\u001b[1m90/90\u001b[0m \u001b[32m━━━━━━━━━━━━━━━━━━━━\u001b[0m\u001b[37m\u001b[0m \u001b[1m2s\u001b[0m 25ms/step - loss: 2.4279e-04 - mae: 0.0114 - mape: 38242.8555 - mse: 2.4279e-04 - val_loss: 0.0011 - val_mae: 0.0275 - val_mape: 4.5254 - val_mse: 0.0011\n",
      "Epoch 38/50\n",
      "\u001b[1m90/90\u001b[0m \u001b[32m━━━━━━━━━━━━━━━━━━━━\u001b[0m\u001b[37m\u001b[0m \u001b[1m2s\u001b[0m 24ms/step - loss: 3.2446e-04 - mae: 0.0132 - mape: 3446.0398 - mse: 3.2446e-04 - val_loss: 4.7846e-04 - val_mae: 0.0164 - val_mape: 2.7688 - val_mse: 4.7846e-04\n",
      "Epoch 39/50\n",
      "\u001b[1m90/90\u001b[0m \u001b[32m━━━━━━━━━━━━━━━━━━━━\u001b[0m\u001b[37m\u001b[0m \u001b[1m2s\u001b[0m 24ms/step - loss: 2.5777e-04 - mae: 0.0121 - mape: 10743.8301 - mse: 2.5777e-04 - val_loss: 0.0011 - val_mae: 0.0275 - val_mape: 4.4142 - val_mse: 0.0011\n",
      "Epoch 40/50\n",
      "\u001b[1m90/90\u001b[0m \u001b[32m━━━━━━━━━━━━━━━━━━━━\u001b[0m\u001b[37m\u001b[0m \u001b[1m2s\u001b[0m 25ms/step - loss: 3.9123e-04 - mae: 0.0143 - mape: 11714.7236 - mse: 3.9123e-04 - val_loss: 4.3966e-04 - val_mae: 0.0156 - val_mape: 2.6583 - val_mse: 4.3966e-04\n",
      "Epoch 41/50\n",
      "\u001b[1m90/90\u001b[0m \u001b[32m━━━━━━━━━━━━━━━━━━━━\u001b[0m\u001b[37m\u001b[0m \u001b[1m2s\u001b[0m 22ms/step - loss: 2.4707e-04 - mae: 0.0116 - mape: 5816.7705 - mse: 2.4707e-04 - val_loss: 4.0286e-04 - val_mae: 0.0147 - val_mape: 2.5121 - val_mse: 4.0286e-04\n",
      "Epoch 42/50\n",
      "\u001b[1m90/90\u001b[0m \u001b[32m━━━━━━━━━━━━━━━━━━━━\u001b[0m\u001b[37m\u001b[0m \u001b[1m2s\u001b[0m 23ms/step - loss: 2.1738e-04 - mae: 0.0110 - mape: 4590.8970 - mse: 2.1738e-04 - val_loss: 5.1087e-04 - val_mae: 0.0173 - val_mape: 2.8379 - val_mse: 5.1087e-04\n"
     ]
    },
    {
     "name": "stderr",
     "output_type": "stream",
     "text": [
      "WARNING:absl:You are saving your model as an HDF5 file via `model.save()` or `keras.saving.save_model(model)`. This file format is considered legacy. We recommend using instead the native Keras format, e.g. `model.save('my_model.keras')` or `keras.saving.save_model(model, 'my_model.keras')`. \n"
     ]
    },
    {
     "name": "stdout",
     "output_type": "stream",
     "text": [
      "\u001b[1m23/23\u001b[0m \u001b[32m━━━━━━━━━━━━━━━━━━━━\u001b[0m\u001b[37m\u001b[0m \u001b[1m2s\u001b[0m 41ms/step\n"
     ]
    },
    {
     "name": "stderr",
     "output_type": "stream",
     "text": [
      "Processando combinações:  14%|█▍        | 1/7 [05:22<32:17, 322.89s/it]"
     ]
    },
    {
     "name": "stdout",
     "output_type": "stream",
     "text": [
      "model_2: Processando PETR4 | Combinação 2...\n",
      "Epoch 1/50\n",
      "\u001b[1m90/90\u001b[0m \u001b[32m━━━━━━━━━━━━━━━━━━━━\u001b[0m\u001b[37m\u001b[0m \u001b[1m10s\u001b[0m 33ms/step - loss: 0.0498 - mae: 0.1640 - mape: 22780.6738 - mse: 0.0498 - val_loss: 5.9323e-04 - val_mae: 0.0194 - val_mape: 4.4018 - val_mse: 5.9323e-04\n",
      "Epoch 2/50\n",
      "\u001b[1m90/90\u001b[0m \u001b[32m━━━━━━━━━━━━━━━━━━━━\u001b[0m\u001b[37m\u001b[0m \u001b[1m2s\u001b[0m 22ms/step - loss: 2.7356e-04 - mae: 0.0121 - mape: 1023.4656 - mse: 2.7356e-04 - val_loss: 4.9864e-04 - val_mae: 0.0175 - val_mape: 4.0310 - val_mse: 4.9864e-04\n",
      "Epoch 3/50\n",
      "\u001b[1m90/90\u001b[0m \u001b[32m━━━━━━━━━━━━━━━━━━━━\u001b[0m\u001b[37m\u001b[0m \u001b[1m2s\u001b[0m 22ms/step - loss: 2.3404e-04 - mae: 0.0109 - mape: 485.7484 - mse: 2.3404e-04 - val_loss: 3.5692e-04 - val_mae: 0.0135 - val_mape: 3.1393 - val_mse: 3.5692e-04\n",
      "Epoch 4/50\n",
      "\u001b[1m90/90\u001b[0m \u001b[32m━━━━━━━━━━━━━━━━━━━━\u001b[0m\u001b[37m\u001b[0m \u001b[1m2s\u001b[0m 22ms/step - loss: 2.3738e-04 - mae: 0.0114 - mape: 2012.4452 - mse: 2.3738e-04 - val_loss: 3.7556e-04 - val_mae: 0.0142 - val_mape: 3.2405 - val_mse: 3.7556e-04\n",
      "Epoch 5/50\n",
      "\u001b[1m90/90\u001b[0m \u001b[32m━━━━━━━━━━━━━━━━━━━━\u001b[0m\u001b[37m\u001b[0m \u001b[1m2s\u001b[0m 22ms/step - loss: 2.3064e-04 - mae: 0.0109 - mape: 2001.5051 - mse: 2.3064e-04 - val_loss: 3.1870e-04 - val_mae: 0.0120 - val_mape: 2.8639 - val_mse: 3.1870e-04\n",
      "Epoch 6/50\n",
      "\u001b[1m90/90\u001b[0m \u001b[32m━━━━━━━━━━━━━━━━━━━━\u001b[0m\u001b[37m\u001b[0m \u001b[1m2s\u001b[0m 23ms/step - loss: 2.3867e-04 - mae: 0.0109 - mape: 2407.2158 - mse: 2.3867e-04 - val_loss: 3.8262e-04 - val_mae: 0.0145 - val_mape: 3.3522 - val_mse: 3.8262e-04\n",
      "Epoch 7/50\n",
      "\u001b[1m90/90\u001b[0m \u001b[32m━━━━━━━━━━━━━━━━━━━━\u001b[0m\u001b[37m\u001b[0m \u001b[1m2s\u001b[0m 22ms/step - loss: 1.9965e-04 - mae: 0.0102 - mape: 400.8062 - mse: 1.9965e-04 - val_loss: 3.3295e-04 - val_mae: 0.0122 - val_mape: 2.8812 - val_mse: 3.3295e-04\n",
      "Epoch 8/50\n",
      "\u001b[1m90/90\u001b[0m \u001b[32m━━━━━━━━━━━━━━━━━━━━\u001b[0m\u001b[37m\u001b[0m \u001b[1m2s\u001b[0m 24ms/step - loss: 2.7220e-04 - mae: 0.0118 - mape: 923.7268 - mse: 2.7220e-04 - val_loss: 6.0290e-04 - val_mae: 0.0204 - val_mape: 4.6372 - val_mse: 6.0290e-04\n",
      "Epoch 9/50\n",
      "\u001b[1m90/90\u001b[0m \u001b[32m━━━━━━━━━━━━━━━━━━━━\u001b[0m\u001b[37m\u001b[0m \u001b[1m2s\u001b[0m 23ms/step - loss: 3.2759e-04 - mae: 0.0134 - mape: 2514.0354 - mse: 3.2759e-04 - val_loss: 3.1036e-04 - val_mae: 0.0119 - val_mape: 2.8018 - val_mse: 3.1036e-04\n",
      "Epoch 10/50\n",
      "\u001b[1m90/90\u001b[0m \u001b[32m━━━━━━━━━━━━━━━━━━━━\u001b[0m\u001b[37m\u001b[0m \u001b[1m2s\u001b[0m 23ms/step - loss: 1.8694e-04 - mae: 0.0099 - mape: 2918.2871 - mse: 1.8694e-04 - val_loss: 5.0706e-04 - val_mae: 0.0167 - val_mape: 3.8559 - val_mse: 5.0706e-04\n",
      "Epoch 11/50\n",
      "\u001b[1m90/90\u001b[0m \u001b[32m━━━━━━━━━━━━━━━━━━━━\u001b[0m\u001b[37m\u001b[0m \u001b[1m2s\u001b[0m 25ms/step - loss: 2.3082e-04 - mae: 0.0111 - mape: 7044.6221 - mse: 2.3082e-04 - val_loss: 3.9106e-04 - val_mae: 0.0137 - val_mape: 3.2219 - val_mse: 3.9106e-04\n",
      "Epoch 12/50\n",
      "\u001b[1m90/90\u001b[0m \u001b[32m━━━━━━━━━━━━━━━━━━━━\u001b[0m\u001b[37m\u001b[0m \u001b[1m2s\u001b[0m 25ms/step - loss: 2.2265e-04 - mae: 0.0105 - mape: 326.4585 - mse: 2.2265e-04 - val_loss: 3.1691e-04 - val_mae: 0.0119 - val_mape: 2.8189 - val_mse: 3.1691e-04\n",
      "Epoch 13/50\n",
      "\u001b[1m90/90\u001b[0m \u001b[32m━━━━━━━━━━━━━━━━━━━━\u001b[0m\u001b[37m\u001b[0m \u001b[1m2s\u001b[0m 23ms/step - loss: 2.5629e-04 - mae: 0.0117 - mape: 117.3461 - mse: 2.5629e-04 - val_loss: 3.1045e-04 - val_mae: 0.0118 - val_mape: 2.7950 - val_mse: 3.1045e-04\n",
      "Epoch 14/50\n",
      "\u001b[1m90/90\u001b[0m \u001b[32m━━━━━━━━━━━━━━━━━━━━\u001b[0m\u001b[37m\u001b[0m \u001b[1m2s\u001b[0m 26ms/step - loss: 2.8202e-04 - mae: 0.0122 - mape: 7336.5498 - mse: 2.8202e-04 - val_loss: 5.0355e-04 - val_mae: 0.0167 - val_mape: 3.8396 - val_mse: 5.0355e-04\n",
      "Epoch 15/50\n",
      "\u001b[1m90/90\u001b[0m \u001b[32m━━━━━━━━━━━━━━━━━━━━\u001b[0m\u001b[37m\u001b[0m \u001b[1m4s\u001b[0m 41ms/step - loss: 2.8727e-04 - mae: 0.0125 - mape: 1177.9917 - mse: 2.8727e-04 - val_loss: 4.9458e-04 - val_mae: 0.0177 - val_mape: 3.9867 - val_mse: 4.9458e-04\n",
      "Epoch 16/50\n",
      "\u001b[1m90/90\u001b[0m \u001b[32m━━━━━━━━━━━━━━━━━━━━\u001b[0m\u001b[37m\u001b[0m \u001b[1m4s\u001b[0m 47ms/step - loss: 2.3785e-04 - mae: 0.0114 - mape: 8663.0371 - mse: 2.3785e-04 - val_loss: 3.1543e-04 - val_mae: 0.0120 - val_mape: 2.8329 - val_mse: 3.1543e-04\n",
      "Epoch 17/50\n",
      "\u001b[1m90/90\u001b[0m \u001b[32m━━━━━━━━━━━━━━━━━━━━\u001b[0m\u001b[37m\u001b[0m \u001b[1m3s\u001b[0m 26ms/step - loss: 2.3361e-04 - mae: 0.0111 - mape: 6742.7988 - mse: 2.3361e-04 - val_loss: 3.8816e-04 - val_mae: 0.0136 - val_mape: 3.2201 - val_mse: 3.8816e-04\n",
      "Epoch 18/50\n",
      "\u001b[1m90/90\u001b[0m \u001b[32m━━━━━━━━━━━━━━━━━━━━\u001b[0m\u001b[37m\u001b[0m \u001b[1m2s\u001b[0m 26ms/step - loss: 2.2717e-04 - mae: 0.0109 - mape: 3008.3289 - mse: 2.2717e-04 - val_loss: 3.3130e-04 - val_mae: 0.0122 - val_mape: 2.8919 - val_mse: 3.3130e-04\n",
      "Epoch 19/50\n",
      "\u001b[1m90/90\u001b[0m \u001b[32m━━━━━━━━━━━━━━━━━━━━\u001b[0m\u001b[37m\u001b[0m \u001b[1m2s\u001b[0m 23ms/step - loss: 2.3131e-04 - mae: 0.0108 - mape: 1241.2189 - mse: 2.3131e-04 - val_loss: 4.5748e-04 - val_mae: 0.0155 - val_mape: 3.6541 - val_mse: 4.5748e-04\n"
     ]
    },
    {
     "name": "stderr",
     "output_type": "stream",
     "text": [
      "WARNING:absl:You are saving your model as an HDF5 file via `model.save()` or `keras.saving.save_model(model)`. This file format is considered legacy. We recommend using instead the native Keras format, e.g. `model.save('my_model.keras')` or `keras.saving.save_model(model, 'my_model.keras')`. \n"
     ]
    },
    {
     "name": "stdout",
     "output_type": "stream",
     "text": [
      "\u001b[1m23/23\u001b[0m \u001b[32m━━━━━━━━━━━━━━━━━━━━\u001b[0m\u001b[37m\u001b[0m \u001b[1m1s\u001b[0m 38ms/step\n",
      "model_2: Processando VALE3 | Combinação 2...\n",
      "Epoch 1/50\n",
      "\u001b[1m90/90\u001b[0m \u001b[32m━━━━━━━━━━━━━━━━━━━━\u001b[0m\u001b[37m\u001b[0m \u001b[1m9s\u001b[0m 35ms/step - loss: 0.0259 - mae: 0.1172 - mape: 21916.5273 - mse: 0.0259 - val_loss: 0.0017 - val_mae: 0.0319 - val_mape: 4.8327 - val_mse: 0.0017\n",
      "Epoch 2/50\n",
      "\u001b[1m90/90\u001b[0m \u001b[32m━━━━━━━━━━━━━━━━━━━━\u001b[0m\u001b[37m\u001b[0m \u001b[1m2s\u001b[0m 23ms/step - loss: 1.2512e-04 - mae: 0.0085 - mape: 7889.7949 - mse: 1.2512e-04 - val_loss: 3.5306e-04 - val_mae: 0.0139 - val_mape: 2.4259 - val_mse: 3.5306e-04\n",
      "Epoch 3/50\n",
      "\u001b[1m90/90\u001b[0m \u001b[32m━━━━━━━━━━━━━━━━━━━━\u001b[0m\u001b[37m\u001b[0m \u001b[1m2s\u001b[0m 24ms/step - loss: 1.1139e-04 - mae: 0.0080 - mape: 4094.7256 - mse: 1.1139e-04 - val_loss: 5.8145e-04 - val_mae: 0.0185 - val_mape: 3.0101 - val_mse: 5.8145e-04\n",
      "Epoch 4/50\n",
      "\u001b[1m90/90\u001b[0m \u001b[32m━━━━━━━━━━━━━━━━━━━━\u001b[0m\u001b[37m\u001b[0m \u001b[1m2s\u001b[0m 24ms/step - loss: 1.1384e-04 - mae: 0.0079 - mape: 6430.0923 - mse: 1.1384e-04 - val_loss: 7.1582e-04 - val_mae: 0.0203 - val_mape: 3.1933 - val_mse: 7.1582e-04\n",
      "Epoch 5/50\n",
      "\u001b[1m90/90\u001b[0m \u001b[32m━━━━━━━━━━━━━━━━━━━━\u001b[0m\u001b[37m\u001b[0m \u001b[1m2s\u001b[0m 24ms/step - loss: 1.0686e-04 - mae: 0.0075 - mape: 2384.3599 - mse: 1.0686e-04 - val_loss: 4.5996e-04 - val_mae: 0.0159 - val_mape: 2.6206 - val_mse: 4.5996e-04\n",
      "Epoch 6/50\n",
      "\u001b[1m90/90\u001b[0m \u001b[32m━━━━━━━━━━━━━━━━━━━━\u001b[0m\u001b[37m\u001b[0m \u001b[1m2s\u001b[0m 23ms/step - loss: 1.3080e-04 - mae: 0.0083 - mape: 892.5626 - mse: 1.3080e-04 - val_loss: 6.6331e-04 - val_mae: 0.0192 - val_mape: 3.0272 - val_mse: 6.6331e-04\n",
      "Epoch 7/50\n",
      "\u001b[1m90/90\u001b[0m \u001b[32m━━━━━━━━━━━━━━━━━━━━\u001b[0m\u001b[37m\u001b[0m \u001b[1m2s\u001b[0m 27ms/step - loss: 1.1915e-04 - mae: 0.0079 - mape: 1438.0122 - mse: 1.1915e-04 - val_loss: 8.3829e-04 - val_mae: 0.0216 - val_mape: 3.3034 - val_mse: 8.3829e-04\n",
      "Epoch 8/50\n",
      "\u001b[1m90/90\u001b[0m \u001b[32m━━━━━━━━━━━━━━━━━━━━\u001b[0m\u001b[37m\u001b[0m \u001b[1m2s\u001b[0m 23ms/step - loss: 1.1065e-04 - mae: 0.0076 - mape: 1142.0549 - mse: 1.1065e-04 - val_loss: 7.5051e-04 - val_mae: 0.0201 - val_mape: 3.0883 - val_mse: 7.5051e-04\n",
      "Epoch 9/50\n",
      "\u001b[1m90/90\u001b[0m \u001b[32m━━━━━━━━━━━━━━━━━━━━\u001b[0m\u001b[37m\u001b[0m \u001b[1m2s\u001b[0m 27ms/step - loss: 1.1248e-04 - mae: 0.0077 - mape: 2576.8198 - mse: 1.1248e-04 - val_loss: 0.0015 - val_mae: 0.0309 - val_mape: 4.7034 - val_mse: 0.0015\n",
      "Epoch 10/50\n",
      "\u001b[1m90/90\u001b[0m \u001b[32m━━━━━━━━━━━━━━━━━━━━\u001b[0m\u001b[37m\u001b[0m \u001b[1m2s\u001b[0m 25ms/step - loss: 1.1717e-04 - mae: 0.0080 - mape: 7649.7285 - mse: 1.1717e-04 - val_loss: 7.9258e-04 - val_mae: 0.0207 - val_mape: 3.1667 - val_mse: 7.9258e-04\n",
      "Epoch 11/50\n",
      "\u001b[1m90/90\u001b[0m \u001b[32m━━━━━━━━━━━━━━━━━━━━\u001b[0m\u001b[37m\u001b[0m \u001b[1m2s\u001b[0m 26ms/step - loss: 1.0342e-04 - mae: 0.0075 - mape: 954.5367 - mse: 1.0342e-04 - val_loss: 4.8977e-04 - val_mae: 0.0166 - val_mape: 2.7575 - val_mse: 4.8977e-04\n",
      "Epoch 12/50\n",
      "\u001b[1m90/90\u001b[0m \u001b[32m━━━━━━━━━━━━━━━━━━━━\u001b[0m\u001b[37m\u001b[0m \u001b[1m2s\u001b[0m 23ms/step - loss: 1.1203e-04 - mae: 0.0079 - mape: 7780.1064 - mse: 1.1203e-04 - val_loss: 0.0017 - val_mae: 0.0336 - val_mape: 5.1254 - val_mse: 0.0017\n"
     ]
    },
    {
     "name": "stderr",
     "output_type": "stream",
     "text": [
      "WARNING:absl:You are saving your model as an HDF5 file via `model.save()` or `keras.saving.save_model(model)`. This file format is considered legacy. We recommend using instead the native Keras format, e.g. `model.save('my_model.keras')` or `keras.saving.save_model(model, 'my_model.keras')`. \n"
     ]
    },
    {
     "name": "stdout",
     "output_type": "stream",
     "text": [
      "\u001b[1m23/23\u001b[0m \u001b[32m━━━━━━━━━━━━━━━━━━━━\u001b[0m\u001b[37m\u001b[0m \u001b[1m1s\u001b[0m 22ms/step\n",
      "model_2: Processando BBDC4 | Combinação 2...\n",
      "Epoch 1/50\n",
      "\u001b[1m88/88\u001b[0m \u001b[32m━━━━━━━━━━━━━━━━━━━━\u001b[0m\u001b[37m\u001b[0m \u001b[1m6s\u001b[0m 30ms/step - loss: 0.0625 - mae: 0.1712 - mape: 89108.9531 - mse: 0.0625 - val_loss: 7.8040e-04 - val_mae: 0.0218 - val_mape: 4.2237 - val_mse: 7.8040e-04\n",
      "Epoch 2/50\n",
      "\u001b[1m88/88\u001b[0m \u001b[32m━━━━━━━━━━━━━━━━━━━━\u001b[0m\u001b[37m\u001b[0m \u001b[1m2s\u001b[0m 22ms/step - loss: 4.9762e-04 - mae: 0.0151 - mape: 20414.6641 - mse: 4.9762e-04 - val_loss: 5.4893e-04 - val_mae: 0.0173 - val_mape: 3.3915 - val_mse: 5.4893e-04\n",
      "Epoch 3/50\n",
      "\u001b[1m88/88\u001b[0m \u001b[32m━━━━━━━━━━━━━━━━━━━━\u001b[0m\u001b[37m\u001b[0m \u001b[1m2s\u001b[0m 24ms/step - loss: 4.1793e-04 - mae: 0.0139 - mape: 221.4149 - mse: 4.1793e-04 - val_loss: 6.8224e-04 - val_mae: 0.0200 - val_mape: 3.8243 - val_mse: 6.8224e-04\n",
      "Epoch 4/50\n",
      "\u001b[1m88/88\u001b[0m \u001b[32m━━━━━━━━━━━━━━━━━━━━\u001b[0m\u001b[37m\u001b[0m \u001b[1m2s\u001b[0m 21ms/step - loss: 4.6826e-04 - mae: 0.0144 - mape: 1693.8459 - mse: 4.6826e-04 - val_loss: 6.2819e-04 - val_mae: 0.0189 - val_mape: 3.6157 - val_mse: 6.2819e-04\n",
      "Epoch 5/50\n",
      "\u001b[1m88/88\u001b[0m \u001b[32m━━━━━━━━━━━━━━━━━━━━\u001b[0m\u001b[37m\u001b[0m \u001b[1m2s\u001b[0m 21ms/step - loss: 5.7088e-04 - mae: 0.0163 - mape: 2331.5181 - mse: 5.7088e-04 - val_loss: 7.7877e-04 - val_mae: 0.0216 - val_mape: 4.2424 - val_mse: 7.7877e-04\n",
      "Epoch 6/50\n",
      "\u001b[1m88/88\u001b[0m \u001b[32m━━━━━━━━━━━━━━━━━━━━\u001b[0m\u001b[37m\u001b[0m \u001b[1m2s\u001b[0m 23ms/step - loss: 4.0359e-04 - mae: 0.0140 - mape: 785.9230 - mse: 4.0359e-04 - val_loss: 6.5607e-04 - val_mae: 0.0193 - val_mape: 3.7964 - val_mse: 6.5607e-04\n",
      "Epoch 7/50\n",
      "\u001b[1m88/88\u001b[0m \u001b[32m━━━━━━━━━━━━━━━━━━━━\u001b[0m\u001b[37m\u001b[0m \u001b[1m2s\u001b[0m 22ms/step - loss: 6.9068e-04 - mae: 0.0154 - mape: 3160.8655 - mse: 6.9068e-04 - val_loss: 9.3177e-04 - val_mae: 0.0242 - val_mape: 4.6953 - val_mse: 9.3177e-04\n",
      "Epoch 8/50\n",
      "\u001b[1m88/88\u001b[0m \u001b[32m━━━━━━━━━━━━━━━━━━━━\u001b[0m\u001b[37m\u001b[0m \u001b[1m2s\u001b[0m 22ms/step - loss: 6.4637e-04 - mae: 0.0162 - mape: 4980.1396 - mse: 6.4637e-04 - val_loss: 5.6630e-04 - val_mae: 0.0177 - val_mape: 3.4416 - val_mse: 5.6630e-04\n",
      "Epoch 9/50\n",
      "\u001b[1m88/88\u001b[0m \u001b[32m━━━━━━━━━━━━━━━━━━━━\u001b[0m\u001b[37m\u001b[0m \u001b[1m2s\u001b[0m 22ms/step - loss: 3.9724e-04 - mae: 0.0139 - mape: 1630.1505 - mse: 3.9724e-04 - val_loss: 8.4733e-04 - val_mae: 0.0228 - val_mape: 4.4427 - val_mse: 8.4733e-04\n",
      "Epoch 10/50\n",
      "\u001b[1m88/88\u001b[0m \u001b[32m━━━━━━━━━━━━━━━━━━━━\u001b[0m\u001b[37m\u001b[0m \u001b[1m2s\u001b[0m 22ms/step - loss: 4.2266e-04 - mae: 0.0141 - mape: 5904.9458 - mse: 4.2266e-04 - val_loss: 5.5455e-04 - val_mae: 0.0172 - val_mape: 3.3448 - val_mse: 5.5455e-04\n",
      "Epoch 11/50\n",
      "\u001b[1m88/88\u001b[0m \u001b[32m━━━━━━━━━━━━━━━━━━━━\u001b[0m\u001b[37m\u001b[0m \u001b[1m2s\u001b[0m 23ms/step - loss: 4.5036e-04 - mae: 0.0146 - mape: 379.3384 - mse: 4.5036e-04 - val_loss: 5.4337e-04 - val_mae: 0.0171 - val_mape: 3.3437 - val_mse: 5.4337e-04\n",
      "Epoch 12/50\n",
      "\u001b[1m88/88\u001b[0m \u001b[32m━━━━━━━━━━━━━━━━━━━━\u001b[0m\u001b[37m\u001b[0m \u001b[1m2s\u001b[0m 23ms/step - loss: 3.6071e-04 - mae: 0.0135 - mape: 546.0659 - mse: 3.6071e-04 - val_loss: 7.6274e-04 - val_mae: 0.0214 - val_mape: 4.2201 - val_mse: 7.6274e-04\n",
      "Epoch 13/50\n",
      "\u001b[1m88/88\u001b[0m \u001b[32m━━━━━━━━━━━━━━━━━━━━\u001b[0m\u001b[37m\u001b[0m \u001b[1m2s\u001b[0m 22ms/step - loss: 4.6604e-04 - mae: 0.0141 - mape: 378.6437 - mse: 4.6604e-04 - val_loss: 7.7019e-04 - val_mae: 0.0214 - val_mape: 4.1523 - val_mse: 7.7019e-04\n",
      "Epoch 14/50\n",
      "\u001b[1m88/88\u001b[0m \u001b[32m━━━━━━━━━━━━━━━━━━━━\u001b[0m\u001b[37m\u001b[0m \u001b[1m2s\u001b[0m 22ms/step - loss: 4.1992e-04 - mae: 0.0139 - mape: 1363.0813 - mse: 4.1992e-04 - val_loss: 5.5134e-04 - val_mae: 0.0172 - val_mape: 3.3347 - val_mse: 5.5134e-04\n",
      "Epoch 15/50\n",
      "\u001b[1m88/88\u001b[0m \u001b[32m━━━━━━━━━━━━━━━━━━━━\u001b[0m\u001b[37m\u001b[0m \u001b[1m2s\u001b[0m 22ms/step - loss: 4.3249e-04 - mae: 0.0139 - mape: 2806.1321 - mse: 4.3249e-04 - val_loss: 7.2393e-04 - val_mae: 0.0207 - val_mape: 3.8757 - val_mse: 7.2393e-04\n",
      "Epoch 16/50\n",
      "\u001b[1m88/88\u001b[0m \u001b[32m━━━━━━━━━━━━━━━━━━━━\u001b[0m\u001b[37m\u001b[0m \u001b[1m2s\u001b[0m 22ms/step - loss: 3.8807e-04 - mae: 0.0137 - mape: 279.2522 - mse: 3.8807e-04 - val_loss: 9.8211e-04 - val_mae: 0.0252 - val_mape: 4.8571 - val_mse: 9.8211e-04\n",
      "Epoch 17/50\n",
      "\u001b[1m88/88\u001b[0m \u001b[32m━━━━━━━━━━━━━━━━━━━━\u001b[0m\u001b[37m\u001b[0m \u001b[1m2s\u001b[0m 22ms/step - loss: 6.4448e-04 - mae: 0.0159 - mape: 191.5614 - mse: 6.4448e-04 - val_loss: 7.8249e-04 - val_mae: 0.0219 - val_mape: 4.1349 - val_mse: 7.8249e-04\n",
      "Epoch 18/50\n",
      "\u001b[1m88/88\u001b[0m \u001b[32m━━━━━━━━━━━━━━━━━━━━\u001b[0m\u001b[37m\u001b[0m \u001b[1m2s\u001b[0m 22ms/step - loss: 4.7979e-04 - mae: 0.0148 - mape: 3818.7993 - mse: 4.7979e-04 - val_loss: 6.0899e-04 - val_mae: 0.0184 - val_mape: 3.5997 - val_mse: 6.0899e-04\n",
      "Epoch 19/50\n",
      "\u001b[1m88/88\u001b[0m \u001b[32m━━━━━━━━━━━━━━━━━━━━\u001b[0m\u001b[37m\u001b[0m \u001b[1m2s\u001b[0m 22ms/step - loss: 5.8681e-04 - mae: 0.0151 - mape: 2967.6316 - mse: 5.8681e-04 - val_loss: 6.3687e-04 - val_mae: 0.0189 - val_mape: 3.7401 - val_mse: 6.3687e-04\n",
      "Epoch 20/50\n",
      "\u001b[1m88/88\u001b[0m \u001b[32m━━━━━━━━━━━━━━━━━━━━\u001b[0m\u001b[37m\u001b[0m \u001b[1m2s\u001b[0m 21ms/step - loss: 4.6226e-04 - mae: 0.0147 - mape: 13053.2686 - mse: 4.6226e-04 - val_loss: 5.6037e-04 - val_mae: 0.0174 - val_mape: 3.3784 - val_mse: 5.6037e-04\n",
      "Epoch 21/50\n",
      "\u001b[1m88/88\u001b[0m \u001b[32m━━━━━━━━━━━━━━━━━━━━\u001b[0m\u001b[37m\u001b[0m \u001b[1m2s\u001b[0m 22ms/step - loss: 4.5696e-04 - mae: 0.0143 - mape: 969.2897 - mse: 4.5696e-04 - val_loss: 5.1308e-04 - val_mae: 0.0164 - val_mape: 3.2409 - val_mse: 5.1308e-04\n",
      "Epoch 22/50\n",
      "\u001b[1m88/88\u001b[0m \u001b[32m━━━━━━━━━━━━━━━━━━━━\u001b[0m\u001b[37m\u001b[0m \u001b[1m2s\u001b[0m 21ms/step - loss: 3.9215e-04 - mae: 0.0140 - mape: 379.9240 - mse: 3.9215e-04 - val_loss: 5.4904e-04 - val_mae: 0.0173 - val_mape: 3.3791 - val_mse: 5.4904e-04\n",
      "Epoch 23/50\n",
      "\u001b[1m88/88\u001b[0m \u001b[32m━━━━━━━━━━━━━━━━━━━━\u001b[0m\u001b[37m\u001b[0m \u001b[1m2s\u001b[0m 22ms/step - loss: 4.0706e-04 - mae: 0.0141 - mape: 943.6156 - mse: 4.0706e-04 - val_loss: 8.2010e-04 - val_mae: 0.0222 - val_mape: 4.2655 - val_mse: 8.2010e-04\n",
      "Epoch 24/50\n",
      "\u001b[1m88/88\u001b[0m \u001b[32m━━━━━━━━━━━━━━━━━━━━\u001b[0m\u001b[37m\u001b[0m \u001b[1m2s\u001b[0m 21ms/step - loss: 5.3305e-04 - mae: 0.0138 - mape: 6685.7905 - mse: 5.3305e-04 - val_loss: 5.0805e-04 - val_mae: 0.0164 - val_mape: 3.2323 - val_mse: 5.0805e-04\n",
      "Epoch 25/50\n",
      "\u001b[1m88/88\u001b[0m \u001b[32m━━━━━━━━━━━━━━━━━━━━\u001b[0m\u001b[37m\u001b[0m \u001b[1m2s\u001b[0m 23ms/step - loss: 4.0041e-04 - mae: 0.0132 - mape: 2946.9878 - mse: 4.0041e-04 - val_loss: 5.1272e-04 - val_mae: 0.0164 - val_mape: 3.2429 - val_mse: 5.1272e-04\n",
      "Epoch 26/50\n",
      "\u001b[1m88/88\u001b[0m \u001b[32m━━━━━━━━━━━━━━━━━━━━\u001b[0m\u001b[37m\u001b[0m \u001b[1m2s\u001b[0m 22ms/step - loss: 3.4888e-04 - mae: 0.0129 - mape: 6083.1323 - mse: 3.4888e-04 - val_loss: 5.2510e-04 - val_mae: 0.0168 - val_mape: 3.3346 - val_mse: 5.2510e-04\n",
      "Epoch 27/50\n",
      "\u001b[1m88/88\u001b[0m \u001b[32m━━━━━━━━━━━━━━━━━━━━\u001b[0m\u001b[37m\u001b[0m \u001b[1m2s\u001b[0m 22ms/step - loss: 4.5763e-04 - mae: 0.0147 - mape: 17043.9336 - mse: 4.5763e-04 - val_loss: 6.6244e-04 - val_mae: 0.0195 - val_mape: 3.8180 - val_mse: 6.6244e-04\n",
      "Epoch 28/50\n",
      "\u001b[1m88/88\u001b[0m \u001b[32m━━━━━━━━━━━━━━━━━━━━\u001b[0m\u001b[37m\u001b[0m \u001b[1m2s\u001b[0m 23ms/step - loss: 4.6009e-04 - mae: 0.0143 - mape: 1481.7198 - mse: 4.6009e-04 - val_loss: 5.0923e-04 - val_mae: 0.0164 - val_mape: 3.2215 - val_mse: 5.0923e-04\n",
      "Epoch 29/50\n",
      "\u001b[1m88/88\u001b[0m \u001b[32m━━━━━━━━━━━━━━━━━━━━\u001b[0m\u001b[37m\u001b[0m \u001b[1m2s\u001b[0m 21ms/step - loss: 3.6883e-04 - mae: 0.0135 - mape: 6331.0015 - mse: 3.6883e-04 - val_loss: 5.0556e-04 - val_mae: 0.0163 - val_mape: 3.2179 - val_mse: 5.0556e-04\n",
      "Epoch 30/50\n",
      "\u001b[1m88/88\u001b[0m \u001b[32m━━━━━━━━━━━━━━━━━━━━\u001b[0m\u001b[37m\u001b[0m \u001b[1m2s\u001b[0m 21ms/step - loss: 4.5646e-04 - mae: 0.0149 - mape: 2392.9700 - mse: 4.5646e-04 - val_loss: 7.4826e-04 - val_mae: 0.0213 - val_mape: 4.0662 - val_mse: 7.4826e-04\n",
      "Epoch 31/50\n",
      "\u001b[1m88/88\u001b[0m \u001b[32m━━━━━━━━━━━━━━━━━━━━\u001b[0m\u001b[37m\u001b[0m \u001b[1m2s\u001b[0m 22ms/step - loss: 4.6990e-04 - mae: 0.0149 - mape: 14810.9326 - mse: 4.6990e-04 - val_loss: 0.0010 - val_mae: 0.0257 - val_mape: 4.9499 - val_mse: 0.0010\n",
      "Epoch 32/50\n",
      "\u001b[1m88/88\u001b[0m \u001b[32m━━━━━━━━━━━━━━━━━━━━\u001b[0m\u001b[37m\u001b[0m \u001b[1m2s\u001b[0m 23ms/step - loss: 5.5580e-04 - mae: 0.0161 - mape: 3402.1313 - mse: 5.5580e-04 - val_loss: 0.0011 - val_mae: 0.0282 - val_mape: 5.5094 - val_mse: 0.0011\n",
      "Epoch 33/50\n",
      "\u001b[1m88/88\u001b[0m \u001b[32m━━━━━━━━━━━━━━━━━━━━\u001b[0m\u001b[37m\u001b[0m \u001b[1m2s\u001b[0m 23ms/step - loss: 4.1250e-04 - mae: 0.0146 - mape: 2601.7422 - mse: 4.1250e-04 - val_loss: 5.9836e-04 - val_mae: 0.0184 - val_mape: 3.5885 - val_mse: 5.9836e-04\n",
      "Epoch 34/50\n",
      "\u001b[1m88/88\u001b[0m \u001b[32m━━━━━━━━━━━━━━━━━━━━\u001b[0m\u001b[37m\u001b[0m \u001b[1m2s\u001b[0m 22ms/step - loss: 4.1957e-04 - mae: 0.0141 - mape: 2464.0386 - mse: 4.1957e-04 - val_loss: 5.2626e-04 - val_mae: 0.0168 - val_mape: 3.2829 - val_mse: 5.2626e-04\n",
      "Epoch 35/50\n",
      "\u001b[1m88/88\u001b[0m \u001b[32m━━━━━━━━━━━━━━━━━━━━\u001b[0m\u001b[37m\u001b[0m \u001b[1m2s\u001b[0m 23ms/step - loss: 5.4533e-04 - mae: 0.0152 - mape: 128.9377 - mse: 5.4533e-04 - val_loss: 5.2554e-04 - val_mae: 0.0167 - val_mape: 3.2944 - val_mse: 5.2554e-04\n",
      "Epoch 36/50\n",
      "\u001b[1m88/88\u001b[0m \u001b[32m━━━━━━━━━━━━━━━━━━━━\u001b[0m\u001b[37m\u001b[0m \u001b[1m2s\u001b[0m 23ms/step - loss: 4.4072e-04 - mae: 0.0138 - mape: 4607.6953 - mse: 4.4072e-04 - val_loss: 7.4856e-04 - val_mae: 0.0211 - val_mape: 4.1040 - val_mse: 7.4856e-04\n",
      "Epoch 37/50\n",
      "\u001b[1m88/88\u001b[0m \u001b[32m━━━━━━━━━━━━━━━━━━━━\u001b[0m\u001b[37m\u001b[0m \u001b[1m2s\u001b[0m 23ms/step - loss: 4.2154e-04 - mae: 0.0140 - mape: 726.8649 - mse: 4.2154e-04 - val_loss: 6.0834e-04 - val_mae: 0.0187 - val_mape: 3.6152 - val_mse: 6.0834e-04\n",
      "Epoch 38/50\n",
      "\u001b[1m88/88\u001b[0m \u001b[32m━━━━━━━━━━━━━━━━━━━━\u001b[0m\u001b[37m\u001b[0m \u001b[1m2s\u001b[0m 25ms/step - loss: 4.5248e-04 - mae: 0.0137 - mape: 2903.7854 - mse: 4.5248e-04 - val_loss: 9.3004e-04 - val_mae: 0.0247 - val_mape: 4.5507 - val_mse: 9.3004e-04\n",
      "Epoch 39/50\n",
      "\u001b[1m88/88\u001b[0m \u001b[32m━━━━━━━━━━━━━━━━━━━━\u001b[0m\u001b[37m\u001b[0m \u001b[1m2s\u001b[0m 21ms/step - loss: 4.3586e-04 - mae: 0.0144 - mape: 4673.7861 - mse: 4.3586e-04 - val_loss: 5.0959e-04 - val_mae: 0.0164 - val_mape: 3.1987 - val_mse: 5.0959e-04\n"
     ]
    },
    {
     "name": "stderr",
     "output_type": "stream",
     "text": [
      "WARNING:absl:You are saving your model as an HDF5 file via `model.save()` or `keras.saving.save_model(model)`. This file format is considered legacy. We recommend using instead the native Keras format, e.g. `model.save('my_model.keras')` or `keras.saving.save_model(model, 'my_model.keras')`. \n"
     ]
    },
    {
     "name": "stdout",
     "output_type": "stream",
     "text": [
      "\u001b[1m22/22\u001b[0m \u001b[32m━━━━━━━━━━━━━━━━━━━━\u001b[0m\u001b[37m\u001b[0m \u001b[1m1s\u001b[0m 19ms/step\n",
      "model_2: Processando ITUB4 | Combinação 2...\n",
      "Epoch 1/50\n",
      "\u001b[1m90/90\u001b[0m \u001b[32m━━━━━━━━━━━━━━━━━━━━\u001b[0m\u001b[37m\u001b[0m \u001b[1m6s\u001b[0m 25ms/step - loss: 0.0663 - mae: 0.1784 - mape: 87264.0469 - mse: 0.0663 - val_loss: 7.0039e-04 - val_mae: 0.0199 - val_mape: 3.2169 - val_mse: 7.0039e-04\n",
      "Epoch 2/50\n",
      "\u001b[1m90/90\u001b[0m \u001b[32m━━━━━━━━━━━━━━━━━━━━\u001b[0m\u001b[37m\u001b[0m \u001b[1m2s\u001b[0m 21ms/step - loss: 3.2150e-04 - mae: 0.0134 - mape: 56381.7031 - mse: 3.2150e-04 - val_loss: 4.9585e-04 - val_mae: 0.0164 - val_mape: 2.7365 - val_mse: 4.9585e-04\n",
      "Epoch 3/50\n",
      "\u001b[1m90/90\u001b[0m \u001b[32m━━━━━━━━━━━━━━━━━━━━\u001b[0m\u001b[37m\u001b[0m \u001b[1m2s\u001b[0m 20ms/step - loss: 2.3907e-04 - mae: 0.0113 - mape: 6376.4170 - mse: 2.3907e-04 - val_loss: 5.1538e-04 - val_mae: 0.0170 - val_mape: 2.8544 - val_mse: 5.1538e-04\n",
      "Epoch 4/50\n",
      "\u001b[1m90/90\u001b[0m \u001b[32m━━━━━━━━━━━━━━━━━━━━\u001b[0m\u001b[37m\u001b[0m \u001b[1m2s\u001b[0m 21ms/step - loss: 2.6897e-04 - mae: 0.0121 - mape: 10243.5400 - mse: 2.6897e-04 - val_loss: 4.8996e-04 - val_mae: 0.0166 - val_mape: 2.7541 - val_mse: 4.8996e-04\n",
      "Epoch 5/50\n",
      "\u001b[1m90/90\u001b[0m \u001b[32m━━━━━━━━━━━━━━━━━━━━\u001b[0m\u001b[37m\u001b[0m \u001b[1m2s\u001b[0m 21ms/step - loss: 2.8891e-04 - mae: 0.0126 - mape: 9774.1865 - mse: 2.8891e-04 - val_loss: 6.0266e-04 - val_mae: 0.0187 - val_mape: 3.1317 - val_mse: 6.0266e-04\n",
      "Epoch 6/50\n",
      "\u001b[1m90/90\u001b[0m \u001b[32m━━━━━━━━━━━━━━━━━━━━\u001b[0m\u001b[37m\u001b[0m \u001b[1m2s\u001b[0m 21ms/step - loss: 2.6097e-04 - mae: 0.0119 - mape: 38724.8633 - mse: 2.6097e-04 - val_loss: 4.2441e-04 - val_mae: 0.0149 - val_mape: 2.5185 - val_mse: 4.2441e-04\n",
      "Epoch 7/50\n",
      "\u001b[1m90/90\u001b[0m \u001b[32m━━━━━━━━━━━━━━━━━━━━\u001b[0m\u001b[37m\u001b[0m \u001b[1m2s\u001b[0m 20ms/step - loss: 2.8682e-04 - mae: 0.0125 - mape: 13486.6826 - mse: 2.8682e-04 - val_loss: 5.9272e-04 - val_mae: 0.0188 - val_mape: 3.0814 - val_mse: 5.9272e-04\n",
      "Epoch 8/50\n",
      "\u001b[1m90/90\u001b[0m \u001b[32m━━━━━━━━━━━━━━━━━━━━\u001b[0m\u001b[37m\u001b[0m \u001b[1m2s\u001b[0m 21ms/step - loss: 2.6888e-04 - mae: 0.0121 - mape: 6534.4946 - mse: 2.6888e-04 - val_loss: 4.2449e-04 - val_mae: 0.0151 - val_mape: 2.5255 - val_mse: 4.2449e-04\n",
      "Epoch 9/50\n",
      "\u001b[1m90/90\u001b[0m \u001b[32m━━━━━━━━━━━━━━━━━━━━\u001b[0m\u001b[37m\u001b[0m \u001b[1m2s\u001b[0m 22ms/step - loss: 2.4255e-04 - mae: 0.0115 - mape: 1569.8065 - mse: 2.4255e-04 - val_loss: 8.5855e-04 - val_mae: 0.0241 - val_mape: 3.9627 - val_mse: 8.5855e-04\n",
      "Epoch 10/50\n",
      "\u001b[1m90/90\u001b[0m \u001b[32m━━━━━━━━━━━━━━━━━━━━\u001b[0m\u001b[37m\u001b[0m \u001b[1m2s\u001b[0m 23ms/step - loss: 3.7473e-04 - mae: 0.0145 - mape: 9883.5186 - mse: 3.7473e-04 - val_loss: 4.0437e-04 - val_mae: 0.0146 - val_mape: 2.4569 - val_mse: 4.0437e-04\n",
      "Epoch 11/50\n",
      "\u001b[1m31/90\u001b[0m \u001b[32m━━━━━━\u001b[0m\u001b[37m━━━━━━━━━━━━━━\u001b[0m \u001b[1m1s\u001b[0m 21ms/step - loss: 3.1356e-04 - mae: 0.0133 - mape: 3.9765 - mse: 3.1356e-04"
     ]
    },
    {
     "name": "stderr",
     "output_type": "stream",
     "text": [
      "Processando combinações:  14%|█▍        | 1/7 [08:41<52:10, 521.80s/it]\n"
     ]
    },
    {
     "ename": "KeyboardInterrupt",
     "evalue": "",
     "output_type": "error",
     "traceback": [
      "\u001b[1;31m---------------------------------------------------------------------------\u001b[0m",
      "\u001b[1;31mKeyboardInterrupt\u001b[0m                         Traceback (most recent call last)",
      "Cell \u001b[1;32mIn[4], line 7\u001b[0m\n\u001b[0;32m      5\u001b[0m \u001b[38;5;66;03m# Usando tqdm para exibir progresso das 7 combinações\u001b[39;00m\n\u001b[0;32m      6\u001b[0m \u001b[38;5;28;01mfor\u001b[39;00m i \u001b[38;5;129;01min\u001b[39;00m tqdm(\u001b[38;5;28mrange\u001b[39m(\u001b[38;5;241m7\u001b[39m), desc\u001b[38;5;241m=\u001b[39m\u001b[38;5;124m\"\u001b[39m\u001b[38;5;124mProcessando combinações\u001b[39m\u001b[38;5;124m\"\u001b[39m):\n\u001b[1;32m----> 7\u001b[0m     results_list\u001b[38;5;241m.\u001b[39mappend(\u001b[43mprocess_stocks_and_save_metrics\u001b[49m\u001b[43m(\u001b[49m\u001b[43mall_stock_data\u001b[49m\u001b[43m,\u001b[49m\u001b[43m \u001b[49m\u001b[43mi\u001b[49m\u001b[43m \u001b[49m\u001b[38;5;241;43m+\u001b[39;49m\u001b[43m \u001b[49m\u001b[38;5;241;43m1\u001b[39;49m\u001b[43m,\u001b[49m\u001b[43m \u001b[49m\u001b[43mname_model\u001b[49m\u001b[43m)\u001b[49m)\n\u001b[0;32m      9\u001b[0m \u001b[38;5;66;03m# Combina os resultados em um único DataFrame\u001b[39;00m\n\u001b[0;32m     10\u001b[0m results_model_2 \u001b[38;5;241m=\u001b[39m pd\u001b[38;5;241m.\u001b[39mconcat(results_list, ignore_index\u001b[38;5;241m=\u001b[39m\u001b[38;5;28;01mTrue\u001b[39;00m)\n",
      "File \u001b[1;32mc:\\Users\\marco\\Documents\\IEEE_ID9184\\utils.py:395\u001b[0m, in \u001b[0;36mprocess_stocks_and_save_metrics\u001b[1;34m(all_stock_data, num_combination, name_model)\u001b[0m\n\u001b[0;32m    392\u001b[0m df, target_column \u001b[38;5;241m=\u001b[39m define_target(df)\n\u001b[0;32m    394\u001b[0m \u001b[38;5;66;03m# Treinar modelo e coletar métricas\u001b[39;00m\n\u001b[1;32m--> 395\u001b[0m metrics \u001b[38;5;241m=\u001b[39m \u001b[43mname_model\u001b[49m\u001b[43m(\u001b[49m\u001b[43mdf\u001b[49m\u001b[43m,\u001b[49m\u001b[43m \u001b[49m\u001b[43mtarget_column\u001b[49m\u001b[43m)\u001b[49m\n\u001b[0;32m    397\u001b[0m \u001b[38;5;66;03m# Salvar resultados\u001b[39;00m\n\u001b[0;32m    398\u001b[0m results\u001b[38;5;241m.\u001b[39mappend({\n\u001b[0;32m    399\u001b[0m     \u001b[38;5;124m\"\u001b[39m\u001b[38;5;124mStock\u001b[39m\u001b[38;5;124m\"\u001b[39m: stock,\n\u001b[0;32m    400\u001b[0m     \u001b[38;5;124m\"\u001b[39m\u001b[38;5;124mDescription\u001b[39m\u001b[38;5;124m\"\u001b[39m: description_combination,\n\u001b[0;32m    401\u001b[0m     \u001b[38;5;124m\"\u001b[39m\u001b[38;5;124mModel\u001b[39m\u001b[38;5;124m\"\u001b[39m: name_model\u001b[38;5;241m.\u001b[39m\u001b[38;5;18m__name__\u001b[39m,\n\u001b[0;32m    402\u001b[0m     \u001b[38;5;241m*\u001b[39m\u001b[38;5;241m*\u001b[39mmetrics\n\u001b[0;32m    403\u001b[0m })\n",
      "File \u001b[1;32mc:\\Users\\marco\\Documents\\IEEE_ID9184\\models.py:160\u001b[0m, in \u001b[0;36mmodel_2\u001b[1;34m(df, target_column, learning_rate, dropout_rate, epochs, batch_size, model_path, scaler_path)\u001b[0m\n\u001b[0;32m    157\u001b[0m early_stopping \u001b[38;5;241m=\u001b[39m EarlyStopping(monitor\u001b[38;5;241m=\u001b[39m\u001b[38;5;124m'\u001b[39m\u001b[38;5;124mval_loss\u001b[39m\u001b[38;5;124m'\u001b[39m, patience\u001b[38;5;241m=\u001b[39m\u001b[38;5;241m10\u001b[39m, restore_best_weights\u001b[38;5;241m=\u001b[39m\u001b[38;5;28;01mTrue\u001b[39;00m)\n\u001b[0;32m    159\u001b[0m \u001b[38;5;66;03m# Treinamento do modelo\u001b[39;00m\n\u001b[1;32m--> 160\u001b[0m history \u001b[38;5;241m=\u001b[39m \u001b[43mmodel\u001b[49m\u001b[38;5;241;43m.\u001b[39;49m\u001b[43mfit\u001b[49m\u001b[43m(\u001b[49m\n\u001b[0;32m    161\u001b[0m \u001b[43m    \u001b[49m\u001b[43mX_train_scaled\u001b[49m\u001b[43m,\u001b[49m\u001b[43m \u001b[49m\u001b[43my_train\u001b[49m\u001b[43m,\u001b[49m\n\u001b[0;32m    162\u001b[0m \u001b[43m    \u001b[49m\u001b[43mepochs\u001b[49m\u001b[38;5;241;43m=\u001b[39;49m\u001b[43mepochs\u001b[49m\u001b[43m,\u001b[49m\n\u001b[0;32m    163\u001b[0m \u001b[43m    \u001b[49m\u001b[43mbatch_size\u001b[49m\u001b[38;5;241;43m=\u001b[39;49m\u001b[43mbatch_size\u001b[49m\u001b[43m,\u001b[49m\n\u001b[0;32m    164\u001b[0m \u001b[43m    \u001b[49m\u001b[43mvalidation_data\u001b[49m\u001b[38;5;241;43m=\u001b[39;49m\u001b[43m(\u001b[49m\u001b[43mX_test_scaled\u001b[49m\u001b[43m,\u001b[49m\u001b[43m \u001b[49m\u001b[43my_test\u001b[49m\u001b[43m)\u001b[49m\u001b[43m,\u001b[49m\n\u001b[0;32m    165\u001b[0m \u001b[43m    \u001b[49m\u001b[43mcallbacks\u001b[49m\u001b[38;5;241;43m=\u001b[39;49m\u001b[43m[\u001b[49m\u001b[43mearly_stopping\u001b[49m\u001b[43m]\u001b[49m\u001b[43m,\u001b[49m\n\u001b[0;32m    166\u001b[0m \u001b[43m    \u001b[49m\u001b[43mverbose\u001b[49m\u001b[38;5;241;43m=\u001b[39;49m\u001b[38;5;241;43m1\u001b[39;49m\n\u001b[0;32m    167\u001b[0m \u001b[43m\u001b[49m\u001b[43m)\u001b[49m\n\u001b[0;32m    169\u001b[0m \u001b[38;5;66;03m# Salvando o modelo treinado\u001b[39;00m\n\u001b[0;32m    170\u001b[0m save_model(model, model_path)\n",
      "File \u001b[1;32mc:\\Users\\marco\\anaconda3\\envs\\ieee\\lib\\site-packages\\keras\\src\\utils\\traceback_utils.py:117\u001b[0m, in \u001b[0;36mfilter_traceback.<locals>.error_handler\u001b[1;34m(*args, **kwargs)\u001b[0m\n\u001b[0;32m    115\u001b[0m filtered_tb \u001b[38;5;241m=\u001b[39m \u001b[38;5;28;01mNone\u001b[39;00m\n\u001b[0;32m    116\u001b[0m \u001b[38;5;28;01mtry\u001b[39;00m:\n\u001b[1;32m--> 117\u001b[0m     \u001b[38;5;28;01mreturn\u001b[39;00m fn(\u001b[38;5;241m*\u001b[39margs, \u001b[38;5;241m*\u001b[39m\u001b[38;5;241m*\u001b[39mkwargs)\n\u001b[0;32m    118\u001b[0m \u001b[38;5;28;01mexcept\u001b[39;00m \u001b[38;5;167;01mException\u001b[39;00m \u001b[38;5;28;01mas\u001b[39;00m e:\n\u001b[0;32m    119\u001b[0m     filtered_tb \u001b[38;5;241m=\u001b[39m _process_traceback_frames(e\u001b[38;5;241m.\u001b[39m__traceback__)\n",
      "File \u001b[1;32mc:\\Users\\marco\\anaconda3\\envs\\ieee\\lib\\site-packages\\keras\\src\\backend\\tensorflow\\trainer.py:371\u001b[0m, in \u001b[0;36mTensorFlowTrainer.fit\u001b[1;34m(self, x, y, batch_size, epochs, verbose, callbacks, validation_split, validation_data, shuffle, class_weight, sample_weight, initial_epoch, steps_per_epoch, validation_steps, validation_batch_size, validation_freq)\u001b[0m\n\u001b[0;32m    369\u001b[0m \u001b[38;5;28;01mfor\u001b[39;00m step, iterator \u001b[38;5;129;01min\u001b[39;00m epoch_iterator:\n\u001b[0;32m    370\u001b[0m     callbacks\u001b[38;5;241m.\u001b[39mon_train_batch_begin(step)\n\u001b[1;32m--> 371\u001b[0m     logs \u001b[38;5;241m=\u001b[39m \u001b[38;5;28;43mself\u001b[39;49m\u001b[38;5;241;43m.\u001b[39;49m\u001b[43mtrain_function\u001b[49m\u001b[43m(\u001b[49m\u001b[43miterator\u001b[49m\u001b[43m)\u001b[49m\n\u001b[0;32m    372\u001b[0m     callbacks\u001b[38;5;241m.\u001b[39mon_train_batch_end(step, logs)\n\u001b[0;32m    373\u001b[0m     \u001b[38;5;28;01mif\u001b[39;00m \u001b[38;5;28mself\u001b[39m\u001b[38;5;241m.\u001b[39mstop_training:\n",
      "File \u001b[1;32mc:\\Users\\marco\\anaconda3\\envs\\ieee\\lib\\site-packages\\keras\\src\\backend\\tensorflow\\trainer.py:219\u001b[0m, in \u001b[0;36mTensorFlowTrainer._make_function.<locals>.function\u001b[1;34m(iterator)\u001b[0m\n\u001b[0;32m    215\u001b[0m \u001b[38;5;28;01mdef\u001b[39;00m\u001b[38;5;250m \u001b[39m\u001b[38;5;21mfunction\u001b[39m(iterator):\n\u001b[0;32m    216\u001b[0m     \u001b[38;5;28;01mif\u001b[39;00m \u001b[38;5;28misinstance\u001b[39m(\n\u001b[0;32m    217\u001b[0m         iterator, (tf\u001b[38;5;241m.\u001b[39mdata\u001b[38;5;241m.\u001b[39mIterator, tf\u001b[38;5;241m.\u001b[39mdistribute\u001b[38;5;241m.\u001b[39mDistributedIterator)\n\u001b[0;32m    218\u001b[0m     ):\n\u001b[1;32m--> 219\u001b[0m         opt_outputs \u001b[38;5;241m=\u001b[39m \u001b[43mmulti_step_on_iterator\u001b[49m\u001b[43m(\u001b[49m\u001b[43miterator\u001b[49m\u001b[43m)\u001b[49m\n\u001b[0;32m    220\u001b[0m         \u001b[38;5;28;01mif\u001b[39;00m \u001b[38;5;129;01mnot\u001b[39;00m opt_outputs\u001b[38;5;241m.\u001b[39mhas_value():\n\u001b[0;32m    221\u001b[0m             \u001b[38;5;28;01mraise\u001b[39;00m \u001b[38;5;167;01mStopIteration\u001b[39;00m\n",
      "File \u001b[1;32mc:\\Users\\marco\\anaconda3\\envs\\ieee\\lib\\site-packages\\tensorflow\\python\\util\\traceback_utils.py:150\u001b[0m, in \u001b[0;36mfilter_traceback.<locals>.error_handler\u001b[1;34m(*args, **kwargs)\u001b[0m\n\u001b[0;32m    148\u001b[0m filtered_tb \u001b[38;5;241m=\u001b[39m \u001b[38;5;28;01mNone\u001b[39;00m\n\u001b[0;32m    149\u001b[0m \u001b[38;5;28;01mtry\u001b[39;00m:\n\u001b[1;32m--> 150\u001b[0m   \u001b[38;5;28;01mreturn\u001b[39;00m fn(\u001b[38;5;241m*\u001b[39margs, \u001b[38;5;241m*\u001b[39m\u001b[38;5;241m*\u001b[39mkwargs)\n\u001b[0;32m    151\u001b[0m \u001b[38;5;28;01mexcept\u001b[39;00m \u001b[38;5;167;01mException\u001b[39;00m \u001b[38;5;28;01mas\u001b[39;00m e:\n\u001b[0;32m    152\u001b[0m   filtered_tb \u001b[38;5;241m=\u001b[39m _process_traceback_frames(e\u001b[38;5;241m.\u001b[39m__traceback__)\n",
      "File \u001b[1;32mc:\\Users\\marco\\anaconda3\\envs\\ieee\\lib\\site-packages\\tensorflow\\python\\eager\\polymorphic_function\\polymorphic_function.py:833\u001b[0m, in \u001b[0;36mFunction.__call__\u001b[1;34m(self, *args, **kwds)\u001b[0m\n\u001b[0;32m    830\u001b[0m compiler \u001b[38;5;241m=\u001b[39m \u001b[38;5;124m\"\u001b[39m\u001b[38;5;124mxla\u001b[39m\u001b[38;5;124m\"\u001b[39m \u001b[38;5;28;01mif\u001b[39;00m \u001b[38;5;28mself\u001b[39m\u001b[38;5;241m.\u001b[39m_jit_compile \u001b[38;5;28;01melse\u001b[39;00m \u001b[38;5;124m\"\u001b[39m\u001b[38;5;124mnonXla\u001b[39m\u001b[38;5;124m\"\u001b[39m\n\u001b[0;32m    832\u001b[0m \u001b[38;5;28;01mwith\u001b[39;00m OptionalXlaContext(\u001b[38;5;28mself\u001b[39m\u001b[38;5;241m.\u001b[39m_jit_compile):\n\u001b[1;32m--> 833\u001b[0m   result \u001b[38;5;241m=\u001b[39m \u001b[38;5;28mself\u001b[39m\u001b[38;5;241m.\u001b[39m_call(\u001b[38;5;241m*\u001b[39margs, \u001b[38;5;241m*\u001b[39m\u001b[38;5;241m*\u001b[39mkwds)\n\u001b[0;32m    835\u001b[0m new_tracing_count \u001b[38;5;241m=\u001b[39m \u001b[38;5;28mself\u001b[39m\u001b[38;5;241m.\u001b[39mexperimental_get_tracing_count()\n\u001b[0;32m    836\u001b[0m without_tracing \u001b[38;5;241m=\u001b[39m (tracing_count \u001b[38;5;241m==\u001b[39m new_tracing_count)\n",
      "File \u001b[1;32mc:\\Users\\marco\\anaconda3\\envs\\ieee\\lib\\site-packages\\tensorflow\\python\\eager\\polymorphic_function\\polymorphic_function.py:878\u001b[0m, in \u001b[0;36mFunction._call\u001b[1;34m(self, *args, **kwds)\u001b[0m\n\u001b[0;32m    875\u001b[0m \u001b[38;5;28mself\u001b[39m\u001b[38;5;241m.\u001b[39m_lock\u001b[38;5;241m.\u001b[39mrelease()\n\u001b[0;32m    876\u001b[0m \u001b[38;5;66;03m# In this case we have not created variables on the first call. So we can\u001b[39;00m\n\u001b[0;32m    877\u001b[0m \u001b[38;5;66;03m# run the first trace but we should fail if variables are created.\u001b[39;00m\n\u001b[1;32m--> 878\u001b[0m results \u001b[38;5;241m=\u001b[39m \u001b[43mtracing_compilation\u001b[49m\u001b[38;5;241;43m.\u001b[39;49m\u001b[43mcall_function\u001b[49m\u001b[43m(\u001b[49m\n\u001b[0;32m    879\u001b[0m \u001b[43m    \u001b[49m\u001b[43margs\u001b[49m\u001b[43m,\u001b[49m\u001b[43m \u001b[49m\u001b[43mkwds\u001b[49m\u001b[43m,\u001b[49m\u001b[43m \u001b[49m\u001b[38;5;28;43mself\u001b[39;49m\u001b[38;5;241;43m.\u001b[39;49m\u001b[43m_variable_creation_config\u001b[49m\n\u001b[0;32m    880\u001b[0m \u001b[43m\u001b[49m\u001b[43m)\u001b[49m\n\u001b[0;32m    881\u001b[0m \u001b[38;5;28;01mif\u001b[39;00m \u001b[38;5;28mself\u001b[39m\u001b[38;5;241m.\u001b[39m_created_variables:\n\u001b[0;32m    882\u001b[0m   \u001b[38;5;28;01mraise\u001b[39;00m \u001b[38;5;167;01mValueError\u001b[39;00m(\u001b[38;5;124m\"\u001b[39m\u001b[38;5;124mCreating variables on a non-first call to a function\u001b[39m\u001b[38;5;124m\"\u001b[39m\n\u001b[0;32m    883\u001b[0m                    \u001b[38;5;124m\"\u001b[39m\u001b[38;5;124m decorated with tf.function.\u001b[39m\u001b[38;5;124m\"\u001b[39m)\n",
      "File \u001b[1;32mc:\\Users\\marco\\anaconda3\\envs\\ieee\\lib\\site-packages\\tensorflow\\python\\eager\\polymorphic_function\\tracing_compilation.py:139\u001b[0m, in \u001b[0;36mcall_function\u001b[1;34m(args, kwargs, tracing_options)\u001b[0m\n\u001b[0;32m    137\u001b[0m bound_args \u001b[38;5;241m=\u001b[39m function\u001b[38;5;241m.\u001b[39mfunction_type\u001b[38;5;241m.\u001b[39mbind(\u001b[38;5;241m*\u001b[39margs, \u001b[38;5;241m*\u001b[39m\u001b[38;5;241m*\u001b[39mkwargs)\n\u001b[0;32m    138\u001b[0m flat_inputs \u001b[38;5;241m=\u001b[39m function\u001b[38;5;241m.\u001b[39mfunction_type\u001b[38;5;241m.\u001b[39munpack_inputs(bound_args)\n\u001b[1;32m--> 139\u001b[0m \u001b[38;5;28;01mreturn\u001b[39;00m \u001b[43mfunction\u001b[49m\u001b[38;5;241;43m.\u001b[39;49m\u001b[43m_call_flat\u001b[49m\u001b[43m(\u001b[49m\u001b[43m  \u001b[49m\u001b[38;5;66;43;03m# pylint: disable=protected-access\u001b[39;49;00m\n\u001b[0;32m    140\u001b[0m \u001b[43m    \u001b[49m\u001b[43mflat_inputs\u001b[49m\u001b[43m,\u001b[49m\u001b[43m \u001b[49m\u001b[43mcaptured_inputs\u001b[49m\u001b[38;5;241;43m=\u001b[39;49m\u001b[43mfunction\u001b[49m\u001b[38;5;241;43m.\u001b[39;49m\u001b[43mcaptured_inputs\u001b[49m\n\u001b[0;32m    141\u001b[0m \u001b[43m\u001b[49m\u001b[43m)\u001b[49m\n",
      "File \u001b[1;32mc:\\Users\\marco\\anaconda3\\envs\\ieee\\lib\\site-packages\\tensorflow\\python\\eager\\polymorphic_function\\concrete_function.py:1322\u001b[0m, in \u001b[0;36mConcreteFunction._call_flat\u001b[1;34m(self, tensor_inputs, captured_inputs)\u001b[0m\n\u001b[0;32m   1318\u001b[0m possible_gradient_type \u001b[38;5;241m=\u001b[39m gradients_util\u001b[38;5;241m.\u001b[39mPossibleTapeGradientTypes(args)\n\u001b[0;32m   1319\u001b[0m \u001b[38;5;28;01mif\u001b[39;00m (possible_gradient_type \u001b[38;5;241m==\u001b[39m gradients_util\u001b[38;5;241m.\u001b[39mPOSSIBLE_GRADIENT_TYPES_NONE\n\u001b[0;32m   1320\u001b[0m     \u001b[38;5;129;01mand\u001b[39;00m executing_eagerly):\n\u001b[0;32m   1321\u001b[0m   \u001b[38;5;66;03m# No tape is watching; skip to running the function.\u001b[39;00m\n\u001b[1;32m-> 1322\u001b[0m   \u001b[38;5;28;01mreturn\u001b[39;00m \u001b[38;5;28;43mself\u001b[39;49m\u001b[38;5;241;43m.\u001b[39;49m\u001b[43m_inference_function\u001b[49m\u001b[38;5;241;43m.\u001b[39;49m\u001b[43mcall_preflattened\u001b[49m\u001b[43m(\u001b[49m\u001b[43margs\u001b[49m\u001b[43m)\u001b[49m\n\u001b[0;32m   1323\u001b[0m forward_backward \u001b[38;5;241m=\u001b[39m \u001b[38;5;28mself\u001b[39m\u001b[38;5;241m.\u001b[39m_select_forward_and_backward_functions(\n\u001b[0;32m   1324\u001b[0m     args,\n\u001b[0;32m   1325\u001b[0m     possible_gradient_type,\n\u001b[0;32m   1326\u001b[0m     executing_eagerly)\n\u001b[0;32m   1327\u001b[0m forward_function, args_with_tangents \u001b[38;5;241m=\u001b[39m forward_backward\u001b[38;5;241m.\u001b[39mforward()\n",
      "File \u001b[1;32mc:\\Users\\marco\\anaconda3\\envs\\ieee\\lib\\site-packages\\tensorflow\\python\\eager\\polymorphic_function\\atomic_function.py:216\u001b[0m, in \u001b[0;36mAtomicFunction.call_preflattened\u001b[1;34m(self, args)\u001b[0m\n\u001b[0;32m    214\u001b[0m \u001b[38;5;28;01mdef\u001b[39;00m\u001b[38;5;250m \u001b[39m\u001b[38;5;21mcall_preflattened\u001b[39m(\u001b[38;5;28mself\u001b[39m, args: Sequence[core\u001b[38;5;241m.\u001b[39mTensor]) \u001b[38;5;241m-\u001b[39m\u001b[38;5;241m>\u001b[39m Any:\n\u001b[0;32m    215\u001b[0m \u001b[38;5;250m  \u001b[39m\u001b[38;5;124;03m\"\"\"Calls with flattened tensor inputs and returns the structured output.\"\"\"\u001b[39;00m\n\u001b[1;32m--> 216\u001b[0m   flat_outputs \u001b[38;5;241m=\u001b[39m \u001b[38;5;28;43mself\u001b[39;49m\u001b[38;5;241;43m.\u001b[39;49m\u001b[43mcall_flat\u001b[49m\u001b[43m(\u001b[49m\u001b[38;5;241;43m*\u001b[39;49m\u001b[43margs\u001b[49m\u001b[43m)\u001b[49m\n\u001b[0;32m    217\u001b[0m   \u001b[38;5;28;01mreturn\u001b[39;00m \u001b[38;5;28mself\u001b[39m\u001b[38;5;241m.\u001b[39mfunction_type\u001b[38;5;241m.\u001b[39mpack_output(flat_outputs)\n",
      "File \u001b[1;32mc:\\Users\\marco\\anaconda3\\envs\\ieee\\lib\\site-packages\\tensorflow\\python\\eager\\polymorphic_function\\atomic_function.py:251\u001b[0m, in \u001b[0;36mAtomicFunction.call_flat\u001b[1;34m(self, *args)\u001b[0m\n\u001b[0;32m    249\u001b[0m \u001b[38;5;28;01mwith\u001b[39;00m record\u001b[38;5;241m.\u001b[39mstop_recording():\n\u001b[0;32m    250\u001b[0m   \u001b[38;5;28;01mif\u001b[39;00m \u001b[38;5;28mself\u001b[39m\u001b[38;5;241m.\u001b[39m_bound_context\u001b[38;5;241m.\u001b[39mexecuting_eagerly():\n\u001b[1;32m--> 251\u001b[0m     outputs \u001b[38;5;241m=\u001b[39m \u001b[38;5;28;43mself\u001b[39;49m\u001b[38;5;241;43m.\u001b[39;49m\u001b[43m_bound_context\u001b[49m\u001b[38;5;241;43m.\u001b[39;49m\u001b[43mcall_function\u001b[49m\u001b[43m(\u001b[49m\n\u001b[0;32m    252\u001b[0m \u001b[43m        \u001b[49m\u001b[38;5;28;43mself\u001b[39;49m\u001b[38;5;241;43m.\u001b[39;49m\u001b[43mname\u001b[49m\u001b[43m,\u001b[49m\n\u001b[0;32m    253\u001b[0m \u001b[43m        \u001b[49m\u001b[38;5;28;43mlist\u001b[39;49m\u001b[43m(\u001b[49m\u001b[43margs\u001b[49m\u001b[43m)\u001b[49m\u001b[43m,\u001b[49m\n\u001b[0;32m    254\u001b[0m \u001b[43m        \u001b[49m\u001b[38;5;28;43mlen\u001b[39;49m\u001b[43m(\u001b[49m\u001b[38;5;28;43mself\u001b[39;49m\u001b[38;5;241;43m.\u001b[39;49m\u001b[43mfunction_type\u001b[49m\u001b[38;5;241;43m.\u001b[39;49m\u001b[43mflat_outputs\u001b[49m\u001b[43m)\u001b[49m\u001b[43m,\u001b[49m\n\u001b[0;32m    255\u001b[0m \u001b[43m    \u001b[49m\u001b[43m)\u001b[49m\n\u001b[0;32m    256\u001b[0m   \u001b[38;5;28;01melse\u001b[39;00m:\n\u001b[0;32m    257\u001b[0m     outputs \u001b[38;5;241m=\u001b[39m make_call_op_in_graph(\n\u001b[0;32m    258\u001b[0m         \u001b[38;5;28mself\u001b[39m,\n\u001b[0;32m    259\u001b[0m         \u001b[38;5;28mlist\u001b[39m(args),\n\u001b[0;32m    260\u001b[0m         \u001b[38;5;28mself\u001b[39m\u001b[38;5;241m.\u001b[39m_bound_context\u001b[38;5;241m.\u001b[39mfunction_call_options\u001b[38;5;241m.\u001b[39mas_attrs(),\n\u001b[0;32m    261\u001b[0m     )\n",
      "File \u001b[1;32mc:\\Users\\marco\\anaconda3\\envs\\ieee\\lib\\site-packages\\tensorflow\\python\\eager\\context.py:1683\u001b[0m, in \u001b[0;36mContext.call_function\u001b[1;34m(self, name, tensor_inputs, num_outputs)\u001b[0m\n\u001b[0;32m   1681\u001b[0m cancellation_context \u001b[38;5;241m=\u001b[39m cancellation\u001b[38;5;241m.\u001b[39mcontext()\n\u001b[0;32m   1682\u001b[0m \u001b[38;5;28;01mif\u001b[39;00m cancellation_context \u001b[38;5;129;01mis\u001b[39;00m \u001b[38;5;28;01mNone\u001b[39;00m:\n\u001b[1;32m-> 1683\u001b[0m   outputs \u001b[38;5;241m=\u001b[39m \u001b[43mexecute\u001b[49m\u001b[38;5;241;43m.\u001b[39;49m\u001b[43mexecute\u001b[49m\u001b[43m(\u001b[49m\n\u001b[0;32m   1684\u001b[0m \u001b[43m      \u001b[49m\u001b[43mname\u001b[49m\u001b[38;5;241;43m.\u001b[39;49m\u001b[43mdecode\u001b[49m\u001b[43m(\u001b[49m\u001b[38;5;124;43m\"\u001b[39;49m\u001b[38;5;124;43mutf-8\u001b[39;49m\u001b[38;5;124;43m\"\u001b[39;49m\u001b[43m)\u001b[49m\u001b[43m,\u001b[49m\n\u001b[0;32m   1685\u001b[0m \u001b[43m      \u001b[49m\u001b[43mnum_outputs\u001b[49m\u001b[38;5;241;43m=\u001b[39;49m\u001b[43mnum_outputs\u001b[49m\u001b[43m,\u001b[49m\n\u001b[0;32m   1686\u001b[0m \u001b[43m      \u001b[49m\u001b[43minputs\u001b[49m\u001b[38;5;241;43m=\u001b[39;49m\u001b[43mtensor_inputs\u001b[49m\u001b[43m,\u001b[49m\n\u001b[0;32m   1687\u001b[0m \u001b[43m      \u001b[49m\u001b[43mattrs\u001b[49m\u001b[38;5;241;43m=\u001b[39;49m\u001b[43mattrs\u001b[49m\u001b[43m,\u001b[49m\n\u001b[0;32m   1688\u001b[0m \u001b[43m      \u001b[49m\u001b[43mctx\u001b[49m\u001b[38;5;241;43m=\u001b[39;49m\u001b[38;5;28;43mself\u001b[39;49m\u001b[43m,\u001b[49m\n\u001b[0;32m   1689\u001b[0m \u001b[43m  \u001b[49m\u001b[43m)\u001b[49m\n\u001b[0;32m   1690\u001b[0m \u001b[38;5;28;01melse\u001b[39;00m:\n\u001b[0;32m   1691\u001b[0m   outputs \u001b[38;5;241m=\u001b[39m execute\u001b[38;5;241m.\u001b[39mexecute_with_cancellation(\n\u001b[0;32m   1692\u001b[0m       name\u001b[38;5;241m.\u001b[39mdecode(\u001b[38;5;124m\"\u001b[39m\u001b[38;5;124mutf-8\u001b[39m\u001b[38;5;124m\"\u001b[39m),\n\u001b[0;32m   1693\u001b[0m       num_outputs\u001b[38;5;241m=\u001b[39mnum_outputs,\n\u001b[1;32m   (...)\u001b[0m\n\u001b[0;32m   1697\u001b[0m       cancellation_manager\u001b[38;5;241m=\u001b[39mcancellation_context,\n\u001b[0;32m   1698\u001b[0m   )\n",
      "File \u001b[1;32mc:\\Users\\marco\\anaconda3\\envs\\ieee\\lib\\site-packages\\tensorflow\\python\\eager\\execute.py:53\u001b[0m, in \u001b[0;36mquick_execute\u001b[1;34m(op_name, num_outputs, inputs, attrs, ctx, name)\u001b[0m\n\u001b[0;32m     51\u001b[0m \u001b[38;5;28;01mtry\u001b[39;00m:\n\u001b[0;32m     52\u001b[0m   ctx\u001b[38;5;241m.\u001b[39mensure_initialized()\n\u001b[1;32m---> 53\u001b[0m   tensors \u001b[38;5;241m=\u001b[39m \u001b[43mpywrap_tfe\u001b[49m\u001b[38;5;241;43m.\u001b[39;49m\u001b[43mTFE_Py_Execute\u001b[49m\u001b[43m(\u001b[49m\u001b[43mctx\u001b[49m\u001b[38;5;241;43m.\u001b[39;49m\u001b[43m_handle\u001b[49m\u001b[43m,\u001b[49m\u001b[43m \u001b[49m\u001b[43mdevice_name\u001b[49m\u001b[43m,\u001b[49m\u001b[43m \u001b[49m\u001b[43mop_name\u001b[49m\u001b[43m,\u001b[49m\n\u001b[0;32m     54\u001b[0m \u001b[43m                                      \u001b[49m\u001b[43minputs\u001b[49m\u001b[43m,\u001b[49m\u001b[43m \u001b[49m\u001b[43mattrs\u001b[49m\u001b[43m,\u001b[49m\u001b[43m \u001b[49m\u001b[43mnum_outputs\u001b[49m\u001b[43m)\u001b[49m\n\u001b[0;32m     55\u001b[0m \u001b[38;5;28;01mexcept\u001b[39;00m core\u001b[38;5;241m.\u001b[39m_NotOkStatusException \u001b[38;5;28;01mas\u001b[39;00m e:\n\u001b[0;32m     56\u001b[0m   \u001b[38;5;28;01mif\u001b[39;00m name \u001b[38;5;129;01mis\u001b[39;00m \u001b[38;5;129;01mnot\u001b[39;00m \u001b[38;5;28;01mNone\u001b[39;00m:\n",
      "\u001b[1;31mKeyboardInterrupt\u001b[0m: "
     ]
    }
   ],
   "source": [
    "# Processando o Modelo 2 \n",
    "name_model = model_2\n",
    "results_list = []\n",
    "\n",
    "# Usando tqdm para exibir progresso das 7 combinações\n",
    "for i in tqdm(range(7), desc=\"Processando combinações\"):\n",
    "    results_list.append(process_stocks_and_save_metrics(all_stock_data, i + 1, name_model))\n",
    "\n",
    "# Combina os resultados em um único DataFrame\n",
    "results_model_2 = pd.concat(results_list, ignore_index=True)\n",
    "\n",
    "# Salvar em CSV\n",
    "results_model_2.to_csv(f'{OUTPUT_DIR}/Estudos_IEEE_{name_model.__name__}_01.csv', sep=';', encoding='utf-8-sig')"
   ]
  },
  {
   "cell_type": "code",
   "execution_count": null,
   "metadata": {},
   "outputs": [
    {
     "name": "stderr",
     "output_type": "stream",
     "text": [
      "Processando combinações:   0%|          | 0/7 [00:00<?, ?it/s]"
     ]
    },
    {
     "name": "stdout",
     "output_type": "stream",
     "text": [
      "model_3: Processando PETR4 | Combinação 1...\n",
      "Epoch 1/50\n",
      "\u001b[1m90/90\u001b[0m \u001b[32m━━━━━━━━━━━━━━━━━━━━\u001b[0m\u001b[37m\u001b[0m \u001b[1m2s\u001b[0m 6ms/step - loss: 0.0627 - mae: 0.1851 - mape: 307.5898 - mse: 0.0627 - val_loss: 4.7920e-04 - val_mae: 0.0168 - val_mape: 3.7185 - val_mse: 4.7920e-04\n",
      "Epoch 2/50\n",
      "\u001b[1m90/90\u001b[0m \u001b[32m━━━━━━━━━━━━━━━━━━━━\u001b[0m\u001b[37m\u001b[0m \u001b[1m0s\u001b[0m 3ms/step - loss: 2.8301e-04 - mae: 0.0114 - mape: 19561.9980 - mse: 2.8301e-04 - val_loss: 3.3142e-04 - val_mae: 0.0128 - val_mape: 3.0328 - val_mse: 3.3142e-04\n",
      "Epoch 3/50\n",
      "\u001b[1m90/90\u001b[0m \u001b[32m━━━━━━━━━━━━━━━━━━━━\u001b[0m\u001b[37m\u001b[0m \u001b[1m1s\u001b[0m 9ms/step - loss: 1.7616e-04 - mae: 0.0092 - mape: 1369.4340 - mse: 1.7616e-04 - val_loss: 2.8326e-04 - val_mae: 0.0114 - val_mape: 2.7145 - val_mse: 2.8326e-04\n",
      "Epoch 4/50\n",
      "\u001b[1m90/90\u001b[0m \u001b[32m━━━━━━━━━━━━━━━━━━━━\u001b[0m\u001b[37m\u001b[0m \u001b[1m0s\u001b[0m 3ms/step - loss: 1.5734e-04 - mae: 0.0088 - mape: 674.8223 - mse: 1.5734e-04 - val_loss: 2.9028e-04 - val_mae: 0.0117 - val_mape: 2.7767 - val_mse: 2.9028e-04\n",
      "Epoch 5/50\n",
      "\u001b[1m90/90\u001b[0m \u001b[32m━━━━━━━━━━━━━━━━━━━━\u001b[0m\u001b[37m\u001b[0m \u001b[1m0s\u001b[0m 3ms/step - loss: 1.5286e-04 - mae: 0.0085 - mape: 1393.1332 - mse: 1.5286e-04 - val_loss: 2.8879e-04 - val_mae: 0.0117 - val_mape: 2.7638 - val_mse: 2.8879e-04\n",
      "Epoch 6/50\n",
      "\u001b[1m90/90\u001b[0m \u001b[32m━━━━━━━━━━━━━━━━━━━━\u001b[0m\u001b[37m\u001b[0m \u001b[1m0s\u001b[0m 3ms/step - loss: 1.5219e-04 - mae: 0.0085 - mape: 203.9620 - mse: 1.5219e-04 - val_loss: 2.7639e-04 - val_mae: 0.0112 - val_mape: 2.6635 - val_mse: 2.7639e-04\n",
      "Epoch 7/50\n",
      "\u001b[1m90/90\u001b[0m \u001b[32m━━━━━━━━━━━━━━━━━━━━\u001b[0m\u001b[37m\u001b[0m \u001b[1m0s\u001b[0m 3ms/step - loss: 1.4119e-04 - mae: 0.0083 - mape: 47.2132 - mse: 1.4119e-04 - val_loss: 2.8094e-04 - val_mae: 0.0112 - val_mape: 2.6831 - val_mse: 2.8094e-04\n",
      "Epoch 8/50\n",
      "\u001b[1m90/90\u001b[0m \u001b[32m━━━━━━━━━━━━━━━━━━━━\u001b[0m\u001b[37m\u001b[0m \u001b[1m0s\u001b[0m 2ms/step - loss: 1.5442e-04 - mae: 0.0086 - mape: 535.3854 - mse: 1.5442e-04 - val_loss: 2.7676e-04 - val_mae: 0.0111 - val_mape: 2.6642 - val_mse: 2.7676e-04\n",
      "Epoch 9/50\n",
      "\u001b[1m90/90\u001b[0m \u001b[32m━━━━━━━━━━━━━━━━━━━━\u001b[0m\u001b[37m\u001b[0m \u001b[1m0s\u001b[0m 2ms/step - loss: 1.4295e-04 - mae: 0.0084 - mape: 303.5213 - mse: 1.4295e-04 - val_loss: 2.7552e-04 - val_mae: 0.0111 - val_mape: 2.6528 - val_mse: 2.7552e-04\n",
      "Epoch 10/50\n",
      "\u001b[1m90/90\u001b[0m \u001b[32m━━━━━━━━━━━━━━━━━━━━\u001b[0m\u001b[37m\u001b[0m \u001b[1m0s\u001b[0m 2ms/step - loss: 1.4478e-04 - mae: 0.0085 - mape: 102.0863 - mse: 1.4478e-04 - val_loss: 2.8558e-04 - val_mae: 0.0116 - val_mape: 2.7355 - val_mse: 2.8558e-04\n",
      "Epoch 11/50\n",
      "\u001b[1m90/90\u001b[0m \u001b[32m━━━━━━━━━━━━━━━━━━━━\u001b[0m\u001b[37m\u001b[0m \u001b[1m0s\u001b[0m 3ms/step - loss: 1.4306e-04 - mae: 0.0084 - mape: 4499.1963 - mse: 1.4306e-04 - val_loss: 2.7678e-04 - val_mae: 0.0111 - val_mape: 2.6534 - val_mse: 2.7678e-04\n",
      "Epoch 12/50\n",
      "\u001b[1m90/90\u001b[0m \u001b[32m━━━━━━━━━━━━━━━━━━━━\u001b[0m\u001b[37m\u001b[0m \u001b[1m0s\u001b[0m 2ms/step - loss: 1.4955e-04 - mae: 0.0085 - mape: 1163.7211 - mse: 1.4955e-04 - val_loss: 2.7751e-04 - val_mae: 0.0112 - val_mape: 2.6710 - val_mse: 2.7751e-04\n",
      "Epoch 13/50\n",
      "\u001b[1m90/90\u001b[0m \u001b[32m━━━━━━━━━━━━━━━━━━━━\u001b[0m\u001b[37m\u001b[0m \u001b[1m0s\u001b[0m 2ms/step - loss: 1.4608e-04 - mae: 0.0086 - mape: 1753.9952 - mse: 1.4608e-04 - val_loss: 4.0212e-04 - val_mae: 0.0156 - val_mape: 3.5489 - val_mse: 4.0212e-04\n",
      "Epoch 14/50\n",
      "\u001b[1m90/90\u001b[0m \u001b[32m━━━━━━━━━━━━━━━━━━━━\u001b[0m\u001b[37m\u001b[0m \u001b[1m0s\u001b[0m 2ms/step - loss: 1.7349e-04 - mae: 0.0094 - mape: 470.0804 - mse: 1.7349e-04 - val_loss: 2.7787e-04 - val_mae: 0.0111 - val_mape: 2.6555 - val_mse: 2.7787e-04\n",
      "Epoch 15/50\n",
      "\u001b[1m90/90\u001b[0m \u001b[32m━━━━━━━━━━━━━━━━━━━━\u001b[0m\u001b[37m\u001b[0m \u001b[1m0s\u001b[0m 2ms/step - loss: 1.4491e-04 - mae: 0.0084 - mape: 557.4496 - mse: 1.4491e-04 - val_loss: 2.8693e-04 - val_mae: 0.0116 - val_mape: 2.7410 - val_mse: 2.8693e-04\n",
      "Epoch 16/50\n",
      "\u001b[1m90/90\u001b[0m \u001b[32m━━━━━━━━━━━━━━━━━━━━\u001b[0m\u001b[37m\u001b[0m \u001b[1m0s\u001b[0m 2ms/step - loss: 1.5340e-04 - mae: 0.0086 - mape: 588.0853 - mse: 1.5340e-04 - val_loss: 2.7779e-04 - val_mae: 0.0111 - val_mape: 2.6612 - val_mse: 2.7779e-04\n",
      "Epoch 17/50\n",
      "\u001b[1m90/90\u001b[0m \u001b[32m━━━━━━━━━━━━━━━━━━━━\u001b[0m\u001b[37m\u001b[0m \u001b[1m0s\u001b[0m 2ms/step - loss: 1.5912e-04 - mae: 0.0087 - mape: 1088.5697 - mse: 1.5912e-04 - val_loss: 2.8419e-04 - val_mae: 0.0115 - val_mape: 2.7138 - val_mse: 2.8419e-04\n",
      "Epoch 18/50\n",
      "\u001b[1m90/90\u001b[0m \u001b[32m━━━━━━━━━━━━━━━━━━━━\u001b[0m\u001b[37m\u001b[0m \u001b[1m0s\u001b[0m 2ms/step - loss: 1.5659e-04 - mae: 0.0086 - mape: 987.6301 - mse: 1.5659e-04 - val_loss: 2.8969e-04 - val_mae: 0.0117 - val_mape: 2.7600 - val_mse: 2.8969e-04\n",
      "Epoch 19/50\n",
      "\u001b[1m90/90\u001b[0m \u001b[32m━━━━━━━━━━━━━━━━━━━━\u001b[0m\u001b[37m\u001b[0m \u001b[1m0s\u001b[0m 2ms/step - loss: 1.4557e-04 - mae: 0.0085 - mape: 2879.0281 - mse: 1.4557e-04 - val_loss: 2.7843e-04 - val_mae: 0.0111 - val_mape: 2.6598 - val_mse: 2.7843e-04\n",
      "\u001b[1m23/23\u001b[0m \u001b[32m━━━━━━━━━━━━━━━━━━━━\u001b[0m\u001b[37m\u001b[0m \u001b[1m0s\u001b[0m 3ms/step \n",
      "model_3: Processando VALE3 | Combinação 1...\n",
      "Epoch 1/50\n",
      "\u001b[1m90/90\u001b[0m \u001b[32m━━━━━━━━━━━━━━━━━━━━\u001b[0m\u001b[37m\u001b[0m \u001b[1m1s\u001b[0m 4ms/step - loss: 2.7009e-04 - mae: 0.0116 - mape: 957.0355 - mse: 2.7009e-04 - val_loss: 6.4317e-04 - val_mae: 0.0188 - val_mape: 3.3652 - val_mse: 6.4317e-04\n",
      "Epoch 2/50\n",
      "\u001b[1m90/90\u001b[0m \u001b[32m━━━━━━━━━━━━━━━━━━━━\u001b[0m\u001b[37m\u001b[0m \u001b[1m0s\u001b[0m 2ms/step - loss: 9.9291e-05 - mae: 0.0073 - mape: 7342.3433 - mse: 9.9291e-05 - val_loss: 4.7350e-04 - val_mae: 0.0162 - val_mape: 2.7775 - val_mse: 4.7350e-04\n",
      "Epoch 3/50\n",
      "\u001b[1m90/90\u001b[0m \u001b[32m━━━━━━━━━━━━━━━━━━━━\u001b[0m\u001b[37m\u001b[0m \u001b[1m0s\u001b[0m 2ms/step - loss: 8.3980e-05 - mae: 0.0067 - mape: 1304.6886 - mse: 8.3980e-05 - val_loss: 3.1191e-04 - val_mae: 0.0131 - val_mape: 2.2678 - val_mse: 3.1191e-04\n",
      "Epoch 4/50\n",
      "\u001b[1m90/90\u001b[0m \u001b[32m━━━━━━━━━━━━━━━━━━━━\u001b[0m\u001b[37m\u001b[0m \u001b[1m0s\u001b[0m 2ms/step - loss: 8.8648e-05 - mae: 0.0070 - mape: 1483.3396 - mse: 8.8648e-05 - val_loss: 3.1743e-04 - val_mae: 0.0133 - val_mape: 2.3211 - val_mse: 3.1743e-04\n",
      "Epoch 5/50\n",
      "\u001b[1m90/90\u001b[0m \u001b[32m━━━━━━━━━━━━━━━━━━━━\u001b[0m\u001b[37m\u001b[0m \u001b[1m0s\u001b[0m 2ms/step - loss: 8.9171e-05 - mae: 0.0067 - mape: 10406.8457 - mse: 8.9171e-05 - val_loss: 3.1005e-04 - val_mae: 0.0130 - val_mape: 2.2498 - val_mse: 3.1005e-04\n",
      "Epoch 6/50\n",
      "\u001b[1m90/90\u001b[0m \u001b[32m━━━━━━━━━━━━━━━━━━━━\u001b[0m\u001b[37m\u001b[0m \u001b[1m0s\u001b[0m 2ms/step - loss: 8.8800e-05 - mae: 0.0068 - mape: 5858.9746 - mse: 8.8800e-05 - val_loss: 3.1510e-04 - val_mae: 0.0134 - val_mape: 2.3580 - val_mse: 3.1510e-04\n",
      "Epoch 7/50\n",
      "\u001b[1m90/90\u001b[0m \u001b[32m━━━━━━━━━━━━━━━━━━━━\u001b[0m\u001b[37m\u001b[0m \u001b[1m0s\u001b[0m 2ms/step - loss: 9.1798e-05 - mae: 0.0069 - mape: 1617.8219 - mse: 9.1798e-05 - val_loss: 3.6125e-04 - val_mae: 0.0140 - val_mape: 2.3838 - val_mse: 3.6125e-04\n",
      "Epoch 8/50\n",
      "\u001b[1m90/90\u001b[0m \u001b[32m━━━━━━━━━━━━━━━━━━━━\u001b[0m\u001b[37m\u001b[0m \u001b[1m0s\u001b[0m 2ms/step - loss: 8.3906e-05 - mae: 0.0067 - mape: 1562.5970 - mse: 8.3906e-05 - val_loss: 3.0659e-04 - val_mae: 0.0130 - val_mape: 2.2412 - val_mse: 3.0659e-04\n",
      "Epoch 9/50\n",
      "\u001b[1m90/90\u001b[0m \u001b[32m━━━━━━━━━━━━━━━━━━━━\u001b[0m\u001b[37m\u001b[0m \u001b[1m0s\u001b[0m 2ms/step - loss: 8.8364e-05 - mae: 0.0066 - mape: 454.3202 - mse: 8.8364e-05 - val_loss: 3.0351e-04 - val_mae: 0.0130 - val_mape: 2.2593 - val_mse: 3.0351e-04\n",
      "Epoch 10/50\n",
      "\u001b[1m90/90\u001b[0m \u001b[32m━━━━━━━━━━━━━━━━━━━━\u001b[0m\u001b[37m\u001b[0m \u001b[1m0s\u001b[0m 2ms/step - loss: 8.2856e-05 - mae: 0.0067 - mape: 8700.3281 - mse: 8.2856e-05 - val_loss: 3.0359e-04 - val_mae: 0.0129 - val_mape: 2.2440 - val_mse: 3.0359e-04\n",
      "Epoch 11/50\n",
      "\u001b[1m90/90\u001b[0m \u001b[32m━━━━━━━━━━━━━━━━━━━━\u001b[0m\u001b[37m\u001b[0m \u001b[1m0s\u001b[0m 2ms/step - loss: 8.6803e-05 - mae: 0.0066 - mape: 3931.3945 - mse: 8.6803e-05 - val_loss: 3.0428e-04 - val_mae: 0.0129 - val_mape: 2.2362 - val_mse: 3.0428e-04\n",
      "Epoch 12/50\n",
      "\u001b[1m90/90\u001b[0m \u001b[32m━━━━━━━━━━━━━━━━━━━━\u001b[0m\u001b[37m\u001b[0m \u001b[1m0s\u001b[0m 2ms/step - loss: 9.9210e-05 - mae: 0.0067 - mape: 2429.9346 - mse: 9.9210e-05 - val_loss: 3.4237e-04 - val_mae: 0.0141 - val_mape: 2.4646 - val_mse: 3.4237e-04\n",
      "Epoch 13/50\n",
      "\u001b[1m90/90\u001b[0m \u001b[32m━━━━━━━━━━━━━━━━━━━━\u001b[0m\u001b[37m\u001b[0m \u001b[1m0s\u001b[0m 2ms/step - loss: 7.9017e-05 - mae: 0.0066 - mape: 2971.6868 - mse: 7.9017e-05 - val_loss: 3.0774e-04 - val_mae: 0.0131 - val_mape: 2.2953 - val_mse: 3.0774e-04\n",
      "Epoch 14/50\n",
      "\u001b[1m90/90\u001b[0m \u001b[32m━━━━━━━━━━━━━━━━━━━━\u001b[0m\u001b[37m\u001b[0m \u001b[1m0s\u001b[0m 2ms/step - loss: 8.0544e-05 - mae: 0.0065 - mape: 1651.1876 - mse: 8.0544e-05 - val_loss: 3.2571e-04 - val_mae: 0.0133 - val_mape: 2.2904 - val_mse: 3.2571e-04\n",
      "Epoch 15/50\n",
      "\u001b[1m90/90\u001b[0m \u001b[32m━━━━━━━━━━━━━━━━━━━━\u001b[0m\u001b[37m\u001b[0m \u001b[1m0s\u001b[0m 2ms/step - loss: 8.0356e-05 - mae: 0.0067 - mape: 409.9881 - mse: 8.0356e-05 - val_loss: 3.9696e-04 - val_mae: 0.0149 - val_mape: 2.5263 - val_mse: 3.9696e-04\n",
      "Epoch 16/50\n",
      "\u001b[1m90/90\u001b[0m \u001b[32m━━━━━━━━━━━━━━━━━━━━\u001b[0m\u001b[37m\u001b[0m \u001b[1m0s\u001b[0m 2ms/step - loss: 9.1744e-05 - mae: 0.0071 - mape: 1886.8440 - mse: 9.1744e-05 - val_loss: 3.1831e-04 - val_mae: 0.0131 - val_mape: 2.2632 - val_mse: 3.1831e-04\n",
      "Epoch 17/50\n",
      "\u001b[1m90/90\u001b[0m \u001b[32m━━━━━━━━━━━━━━━━━━━━\u001b[0m\u001b[37m\u001b[0m \u001b[1m0s\u001b[0m 2ms/step - loss: 7.0536e-05 - mae: 0.0063 - mape: 3665.5696 - mse: 7.0536e-05 - val_loss: 3.0073e-04 - val_mae: 0.0129 - val_mape: 2.2438 - val_mse: 3.0073e-04\n",
      "Epoch 18/50\n",
      "\u001b[1m90/90\u001b[0m \u001b[32m━━━━━━━━━━━━━━━━━━━━\u001b[0m\u001b[37m\u001b[0m \u001b[1m0s\u001b[0m 2ms/step - loss: 8.1908e-05 - mae: 0.0065 - mape: 3209.0298 - mse: 8.1908e-05 - val_loss: 3.2513e-04 - val_mae: 0.0133 - val_mape: 2.2892 - val_mse: 3.2513e-04\n",
      "Epoch 19/50\n",
      "\u001b[1m90/90\u001b[0m \u001b[32m━━━━━━━━━━━━━━━━━━━━\u001b[0m\u001b[37m\u001b[0m \u001b[1m0s\u001b[0m 2ms/step - loss: 7.3593e-05 - mae: 0.0064 - mape: 4070.6504 - mse: 7.3593e-05 - val_loss: 3.2377e-04 - val_mae: 0.0132 - val_mape: 2.2715 - val_mse: 3.2377e-04\n",
      "Epoch 20/50\n",
      "\u001b[1m90/90\u001b[0m \u001b[32m━━━━━━━━━━━━━━━━━━━━\u001b[0m\u001b[37m\u001b[0m \u001b[1m0s\u001b[0m 2ms/step - loss: 8.1690e-05 - mae: 0.0064 - mape: 799.2048 - mse: 8.1690e-05 - val_loss: 2.9823e-04 - val_mae: 0.0129 - val_mape: 2.2400 - val_mse: 2.9823e-04\n",
      "Epoch 21/50\n",
      "\u001b[1m90/90\u001b[0m \u001b[32m━━━━━━━━━━━━━━━━━━━━\u001b[0m\u001b[37m\u001b[0m \u001b[1m0s\u001b[0m 2ms/step - loss: 7.4234e-05 - mae: 0.0064 - mape: 460.5527 - mse: 7.4234e-05 - val_loss: 2.9962e-04 - val_mae: 0.0128 - val_mape: 2.2299 - val_mse: 2.9962e-04\n",
      "Epoch 22/50\n",
      "\u001b[1m90/90\u001b[0m \u001b[32m━━━━━━━━━━━━━━━━━━━━\u001b[0m\u001b[37m\u001b[0m \u001b[1m0s\u001b[0m 2ms/step - loss: 7.4188e-05 - mae: 0.0064 - mape: 5552.0928 - mse: 7.4188e-05 - val_loss: 2.9933e-04 - val_mae: 0.0129 - val_mape: 2.2534 - val_mse: 2.9933e-04\n",
      "Epoch 23/50\n",
      "\u001b[1m90/90\u001b[0m \u001b[32m━━━━━━━━━━━━━━━━━━━━\u001b[0m\u001b[37m\u001b[0m \u001b[1m0s\u001b[0m 2ms/step - loss: 8.5715e-05 - mae: 0.0066 - mape: 3636.3794 - mse: 8.5715e-05 - val_loss: 2.9906e-04 - val_mae: 0.0129 - val_mape: 2.2511 - val_mse: 2.9906e-04\n",
      "Epoch 24/50\n",
      "\u001b[1m90/90\u001b[0m \u001b[32m━━━━━━━━━━━━━━━━━━━━\u001b[0m\u001b[37m\u001b[0m \u001b[1m0s\u001b[0m 2ms/step - loss: 7.3468e-05 - mae: 0.0065 - mape: 10798.5576 - mse: 7.3468e-05 - val_loss: 5.3223e-04 - val_mae: 0.0183 - val_mape: 3.1756 - val_mse: 5.3223e-04\n",
      "Epoch 25/50\n",
      "\u001b[1m90/90\u001b[0m \u001b[32m━━━━━━━━━━━━━━━━━━━━\u001b[0m\u001b[37m\u001b[0m \u001b[1m0s\u001b[0m 2ms/step - loss: 9.0152e-05 - mae: 0.0072 - mape: 2061.3250 - mse: 9.0152e-05 - val_loss: 3.0052e-04 - val_mae: 0.0128 - val_mape: 2.2309 - val_mse: 3.0052e-04\n",
      "Epoch 26/50\n",
      "\u001b[1m90/90\u001b[0m \u001b[32m━━━━━━━━━━━━━━━━━━━━\u001b[0m\u001b[37m\u001b[0m \u001b[1m0s\u001b[0m 2ms/step - loss: 7.4175e-05 - mae: 0.0062 - mape: 2509.0085 - mse: 7.4175e-05 - val_loss: 3.0426e-04 - val_mae: 0.0129 - val_mape: 2.2332 - val_mse: 3.0426e-04\n",
      "Epoch 27/50\n",
      "\u001b[1m90/90\u001b[0m \u001b[32m━━━━━━━━━━━━━━━━━━━━\u001b[0m\u001b[37m\u001b[0m \u001b[1m0s\u001b[0m 2ms/step - loss: 7.6630e-05 - mae: 0.0065 - mape: 4471.8052 - mse: 7.6630e-05 - val_loss: 3.0060e-04 - val_mae: 0.0129 - val_mape: 2.2568 - val_mse: 3.0060e-04\n",
      "Epoch 28/50\n",
      "\u001b[1m90/90\u001b[0m \u001b[32m━━━━━━━━━━━━━━━━━━━━\u001b[0m\u001b[37m\u001b[0m \u001b[1m0s\u001b[0m 2ms/step - loss: 7.5794e-05 - mae: 0.0065 - mape: 3376.9292 - mse: 7.5794e-05 - val_loss: 3.6290e-04 - val_mae: 0.0141 - val_mape: 2.4181 - val_mse: 3.6290e-04\n",
      "Epoch 29/50\n",
      "\u001b[1m90/90\u001b[0m \u001b[32m━━━━━━━━━━━━━━━━━━━━\u001b[0m\u001b[37m\u001b[0m \u001b[1m0s\u001b[0m 2ms/step - loss: 9.5814e-05 - mae: 0.0072 - mape: 1017.9020 - mse: 9.5814e-05 - val_loss: 3.0943e-04 - val_mae: 0.0132 - val_mape: 2.3273 - val_mse: 3.0943e-04\n",
      "Epoch 30/50\n",
      "\u001b[1m90/90\u001b[0m \u001b[32m━━━━━━━━━━━━━━━━━━━━\u001b[0m\u001b[37m\u001b[0m \u001b[1m0s\u001b[0m 2ms/step - loss: 8.9711e-05 - mae: 0.0066 - mape: 7223.9375 - mse: 8.9711e-05 - val_loss: 2.9813e-04 - val_mae: 0.0128 - val_mape: 2.2159 - val_mse: 2.9813e-04\n",
      "Epoch 31/50\n",
      "\u001b[1m90/90\u001b[0m \u001b[32m━━━━━━━━━━━━━━━━━━━━\u001b[0m\u001b[37m\u001b[0m \u001b[1m0s\u001b[0m 2ms/step - loss: 8.2730e-05 - mae: 0.0065 - mape: 289.9391 - mse: 8.2730e-05 - val_loss: 3.2108e-04 - val_mae: 0.0135 - val_mape: 2.3594 - val_mse: 3.2108e-04\n",
      "Epoch 32/50\n",
      "\u001b[1m90/90\u001b[0m \u001b[32m━━━━━━━━━━━━━━━━━━━━\u001b[0m\u001b[37m\u001b[0m \u001b[1m0s\u001b[0m 2ms/step - loss: 7.7165e-05 - mae: 0.0065 - mape: 452.1239 - mse: 7.7165e-05 - val_loss: 2.9930e-04 - val_mae: 0.0128 - val_mape: 2.2190 - val_mse: 2.9930e-04\n",
      "Epoch 33/50\n",
      "\u001b[1m90/90\u001b[0m \u001b[32m━━━━━━━━━━━━━━━━━━━━\u001b[0m\u001b[37m\u001b[0m \u001b[1m0s\u001b[0m 2ms/step - loss: 8.3790e-05 - mae: 0.0065 - mape: 3691.1182 - mse: 8.3790e-05 - val_loss: 2.9779e-04 - val_mae: 0.0128 - val_mape: 2.2163 - val_mse: 2.9779e-04\n",
      "Epoch 34/50\n",
      "\u001b[1m90/90\u001b[0m \u001b[32m━━━━━━━━━━━━━━━━━━━━\u001b[0m\u001b[37m\u001b[0m \u001b[1m0s\u001b[0m 2ms/step - loss: 7.7499e-05 - mae: 0.0064 - mape: 1207.6945 - mse: 7.7499e-05 - val_loss: 2.9513e-04 - val_mae: 0.0127 - val_mape: 2.2160 - val_mse: 2.9513e-04\n",
      "Epoch 35/50\n",
      "\u001b[1m90/90\u001b[0m \u001b[32m━━━━━━━━━━━━━━━━━━━━\u001b[0m\u001b[37m\u001b[0m \u001b[1m0s\u001b[0m 2ms/step - loss: 9.1019e-05 - mae: 0.0066 - mape: 5232.6255 - mse: 9.1019e-05 - val_loss: 3.9437e-04 - val_mae: 0.0149 - val_mape: 2.5486 - val_mse: 3.9437e-04\n",
      "Epoch 36/50\n",
      "\u001b[1m90/90\u001b[0m \u001b[32m━━━━━━━━━━━━━━━━━━━━\u001b[0m\u001b[37m\u001b[0m \u001b[1m0s\u001b[0m 2ms/step - loss: 7.9000e-05 - mae: 0.0066 - mape: 2015.2029 - mse: 7.9000e-05 - val_loss: 2.9768e-04 - val_mae: 0.0128 - val_mape: 2.2228 - val_mse: 2.9768e-04\n",
      "Epoch 37/50\n",
      "\u001b[1m90/90\u001b[0m \u001b[32m━━━━━━━━━━━━━━━━━━━━\u001b[0m\u001b[37m\u001b[0m \u001b[1m0s\u001b[0m 2ms/step - loss: 7.4895e-05 - mae: 0.0063 - mape: 533.6786 - mse: 7.4895e-05 - val_loss: 2.9312e-04 - val_mae: 0.0127 - val_mape: 2.2271 - val_mse: 2.9312e-04\n",
      "Epoch 38/50\n",
      "\u001b[1m90/90\u001b[0m \u001b[32m━━━━━━━━━━━━━━━━━━━━\u001b[0m\u001b[37m\u001b[0m \u001b[1m0s\u001b[0m 2ms/step - loss: 7.4317e-05 - mae: 0.0063 - mape: 3180.3455 - mse: 7.4317e-05 - val_loss: 3.5164e-04 - val_mae: 0.0139 - val_mape: 2.3889 - val_mse: 3.5164e-04\n",
      "Epoch 39/50\n",
      "\u001b[1m90/90\u001b[0m \u001b[32m━━━━━━━━━━━━━━━━━━━━\u001b[0m\u001b[37m\u001b[0m \u001b[1m0s\u001b[0m 2ms/step - loss: 7.6251e-05 - mae: 0.0064 - mape: 767.0880 - mse: 7.6251e-05 - val_loss: 2.9549e-04 - val_mae: 0.0127 - val_mape: 2.2192 - val_mse: 2.9549e-04\n",
      "Epoch 40/50\n",
      "\u001b[1m90/90\u001b[0m \u001b[32m━━━━━━━━━━━━━━━━━━━━\u001b[0m\u001b[37m\u001b[0m \u001b[1m0s\u001b[0m 2ms/step - loss: 9.2783e-05 - mae: 0.0068 - mape: 3066.7866 - mse: 9.2783e-05 - val_loss: 3.3383e-04 - val_mae: 0.0139 - val_mape: 2.4492 - val_mse: 3.3383e-04\n",
      "Epoch 41/50\n",
      "\u001b[1m90/90\u001b[0m \u001b[32m━━━━━━━━━━━━━━━━━━━━\u001b[0m\u001b[37m\u001b[0m \u001b[1m0s\u001b[0m 2ms/step - loss: 8.1635e-05 - mae: 0.0065 - mape: 7837.5205 - mse: 8.1635e-05 - val_loss: 2.9346e-04 - val_mae: 0.0128 - val_mape: 2.2330 - val_mse: 2.9346e-04\n",
      "Epoch 42/50\n",
      "\u001b[1m90/90\u001b[0m \u001b[32m━━━━━━━━━━━━━━━━━━━━\u001b[0m\u001b[37m\u001b[0m \u001b[1m0s\u001b[0m 2ms/step - loss: 8.5700e-05 - mae: 0.0066 - mape: 1817.4410 - mse: 8.5700e-05 - val_loss: 2.9459e-04 - val_mae: 0.0128 - val_mape: 2.2290 - val_mse: 2.9459e-04\n",
      "Epoch 43/50\n",
      "\u001b[1m90/90\u001b[0m \u001b[32m━━━━━━━━━━━━━━━━━━━━\u001b[0m\u001b[37m\u001b[0m \u001b[1m0s\u001b[0m 2ms/step - loss: 7.4207e-05 - mae: 0.0064 - mape: 2216.8679 - mse: 7.4207e-05 - val_loss: 4.5880e-04 - val_mae: 0.0164 - val_mape: 2.7715 - val_mse: 4.5880e-04\n",
      "Epoch 44/50\n",
      "\u001b[1m90/90\u001b[0m \u001b[32m━━━━━━━━━━━━━━━━━━━━\u001b[0m\u001b[37m\u001b[0m \u001b[1m0s\u001b[0m 2ms/step - loss: 7.7924e-05 - mae: 0.0066 - mape: 1376.4019 - mse: 7.7924e-05 - val_loss: 2.9419e-04 - val_mae: 0.0128 - val_mape: 2.2398 - val_mse: 2.9419e-04\n",
      "Epoch 45/50\n",
      "\u001b[1m90/90\u001b[0m \u001b[32m━━━━━━━━━━━━━━━━━━━━\u001b[0m\u001b[37m\u001b[0m \u001b[1m0s\u001b[0m 2ms/step - loss: 7.4343e-05 - mae: 0.0064 - mape: 1263.7561 - mse: 7.4343e-05 - val_loss: 2.9522e-04 - val_mae: 0.0128 - val_mape: 2.2378 - val_mse: 2.9522e-04\n",
      "Epoch 46/50\n",
      "\u001b[1m90/90\u001b[0m \u001b[32m━━━━━━━━━━━━━━━━━━━━\u001b[0m\u001b[37m\u001b[0m \u001b[1m0s\u001b[0m 2ms/step - loss: 8.6990e-05 - mae: 0.0066 - mape: 414.6220 - mse: 8.6990e-05 - val_loss: 2.9899e-04 - val_mae: 0.0128 - val_mape: 2.2228 - val_mse: 2.9899e-04\n",
      "Epoch 47/50\n",
      "\u001b[1m90/90\u001b[0m \u001b[32m━━━━━━━━━━━━━━━━━━━━\u001b[0m\u001b[37m\u001b[0m \u001b[1m0s\u001b[0m 2ms/step - loss: 7.4524e-05 - mae: 0.0063 - mape: 1426.3245 - mse: 7.4524e-05 - val_loss: 3.1047e-04 - val_mae: 0.0133 - val_mape: 2.3354 - val_mse: 3.1047e-04\n",
      "\u001b[1m23/23\u001b[0m \u001b[32m━━━━━━━━━━━━━━━━━━━━\u001b[0m\u001b[37m\u001b[0m \u001b[1m0s\u001b[0m 2ms/step \n",
      "model_3: Processando BBDC4 | Combinação 1...\n",
      "Epoch 1/50\n",
      "\u001b[1m88/88\u001b[0m \u001b[32m━━━━━━━━━━━━━━━━━━━━\u001b[0m\u001b[37m\u001b[0m \u001b[1m1s\u001b[0m 4ms/step - loss: 0.2894 - mae: 0.4019 - mape: 14056.2354 - mse: 0.2894 - val_loss: 0.0082 - val_mae: 0.0694 - val_mape: 11.3248 - val_mse: 0.0082\n",
      "Epoch 2/50\n",
      "\u001b[1m88/88\u001b[0m \u001b[32m━━━━━━━━━━━━━━━━━━━━\u001b[0m\u001b[37m\u001b[0m \u001b[1m0s\u001b[0m 2ms/step - loss: 0.0116 - mae: 0.0939 - mape: 46483.1250 - mse: 0.0116 - val_loss: 0.0016 - val_mae: 0.0313 - val_mape: 5.3725 - val_mse: 0.0016\n",
      "Epoch 3/50\n",
      "\u001b[1m88/88\u001b[0m \u001b[32m━━━━━━━━━━━━━━━━━━━━\u001b[0m\u001b[37m\u001b[0m \u001b[1m0s\u001b[0m 2ms/step - loss: 9.6833e-04 - mae: 0.0239 - mape: 62.8429 - mse: 9.6833e-04 - val_loss: 4.9788e-04 - val_mae: 0.0161 - val_mape: 3.1733 - val_mse: 4.9788e-04\n",
      "Epoch 4/50\n",
      "\u001b[1m88/88\u001b[0m \u001b[32m━━━━━━━━━━━━━━━━━━━━\u001b[0m\u001b[37m\u001b[0m \u001b[1m0s\u001b[0m 2ms/step - loss: 3.2015e-04 - mae: 0.0116 - mape: 5120.0254 - mse: 3.2015e-04 - val_loss: 5.0723e-04 - val_mae: 0.0162 - val_mape: 3.2124 - val_mse: 5.0723e-04\n",
      "Epoch 5/50\n",
      "\u001b[1m88/88\u001b[0m \u001b[32m━━━━━━━━━━━━━━━━━━━━\u001b[0m\u001b[37m\u001b[0m \u001b[1m0s\u001b[0m 2ms/step - loss: 3.2048e-04 - mae: 0.0115 - mape: 1727.1895 - mse: 3.2048e-04 - val_loss: 4.9897e-04 - val_mae: 0.0161 - val_mape: 3.1799 - val_mse: 4.9897e-04\n",
      "Epoch 6/50\n",
      "\u001b[1m88/88\u001b[0m \u001b[32m━━━━━━━━━━━━━━━━━━━━\u001b[0m\u001b[37m\u001b[0m \u001b[1m0s\u001b[0m 2ms/step - loss: 3.8432e-04 - mae: 0.0119 - mape: 111.3655 - mse: 3.8432e-04 - val_loss: 4.9683e-04 - val_mae: 0.0160 - val_mape: 3.1700 - val_mse: 4.9683e-04\n",
      "Epoch 7/50\n",
      "\u001b[1m88/88\u001b[0m \u001b[32m━━━━━━━━━━━━━━━━━━━━\u001b[0m\u001b[37m\u001b[0m \u001b[1m0s\u001b[0m 2ms/step - loss: 3.5320e-04 - mae: 0.0117 - mape: 749.8478 - mse: 3.5320e-04 - val_loss: 5.0106e-04 - val_mae: 0.0162 - val_mape: 3.1830 - val_mse: 5.0106e-04\n",
      "Epoch 8/50\n",
      "\u001b[1m88/88\u001b[0m \u001b[32m━━━━━━━━━━━━━━━━━━━━\u001b[0m\u001b[37m\u001b[0m \u001b[1m0s\u001b[0m 2ms/step - loss: 3.8145e-04 - mae: 0.0119 - mape: 6900.9404 - mse: 3.8145e-04 - val_loss: 5.0878e-04 - val_mae: 0.0163 - val_mape: 3.2232 - val_mse: 5.0878e-04\n",
      "Epoch 9/50\n",
      "\u001b[1m88/88\u001b[0m \u001b[32m━━━━━━━━━━━━━━━━━━━━\u001b[0m\u001b[37m\u001b[0m \u001b[1m0s\u001b[0m 2ms/step - loss: 3.0919e-04 - mae: 0.0118 - mape: 1572.8062 - mse: 3.0919e-04 - val_loss: 5.0314e-04 - val_mae: 0.0162 - val_mape: 3.2012 - val_mse: 5.0314e-04\n",
      "Epoch 10/50\n",
      "\u001b[1m88/88\u001b[0m \u001b[32m━━━━━━━━━━━━━━━━━━━━\u001b[0m\u001b[37m\u001b[0m \u001b[1m0s\u001b[0m 2ms/step - loss: 2.8380e-04 - mae: 0.0112 - mape: 3488.1687 - mse: 2.8380e-04 - val_loss: 5.0130e-04 - val_mae: 0.0162 - val_mape: 3.1910 - val_mse: 5.0130e-04\n",
      "Epoch 11/50\n",
      "\u001b[1m88/88\u001b[0m \u001b[32m━━━━━━━━━━━━━━━━━━━━\u001b[0m\u001b[37m\u001b[0m \u001b[1m0s\u001b[0m 2ms/step - loss: 2.9528e-04 - mae: 0.0115 - mape: 488.8546 - mse: 2.9528e-04 - val_loss: 4.9833e-04 - val_mae: 0.0161 - val_mape: 3.1802 - val_mse: 4.9833e-04\n",
      "Epoch 12/50\n",
      "\u001b[1m88/88\u001b[0m \u001b[32m━━━━━━━━━━━━━━━━━━━━\u001b[0m\u001b[37m\u001b[0m \u001b[1m0s\u001b[0m 2ms/step - loss: 3.2478e-04 - mae: 0.0117 - mape: 4439.0498 - mse: 3.2478e-04 - val_loss: 5.0922e-04 - val_mae: 0.0163 - val_mape: 3.2288 - val_mse: 5.0922e-04\n",
      "Epoch 13/50\n",
      "\u001b[1m88/88\u001b[0m \u001b[32m━━━━━━━━━━━━━━━━━━━━\u001b[0m\u001b[37m\u001b[0m \u001b[1m0s\u001b[0m 2ms/step - loss: 3.4460e-04 - mae: 0.0115 - mape: 2184.5349 - mse: 3.4460e-04 - val_loss: 5.0896e-04 - val_mae: 0.0163 - val_mape: 3.2126 - val_mse: 5.0896e-04\n",
      "Epoch 14/50\n",
      "\u001b[1m88/88\u001b[0m \u001b[32m━━━━━━━━━━━━━━━━━━━━\u001b[0m\u001b[37m\u001b[0m \u001b[1m0s\u001b[0m 2ms/step - loss: 2.9045e-04 - mae: 0.0114 - mape: 3146.6948 - mse: 2.9045e-04 - val_loss: 5.4017e-04 - val_mae: 0.0169 - val_mape: 3.3481 - val_mse: 5.4017e-04\n",
      "Epoch 15/50\n",
      "\u001b[1m88/88\u001b[0m \u001b[32m━━━━━━━━━━━━━━━━━━━━\u001b[0m\u001b[37m\u001b[0m \u001b[1m0s\u001b[0m 2ms/step - loss: 2.7786e-04 - mae: 0.0115 - mape: 5850.4585 - mse: 2.7786e-04 - val_loss: 5.0734e-04 - val_mae: 0.0163 - val_mape: 3.2219 - val_mse: 5.0734e-04\n",
      "Epoch 16/50\n",
      "\u001b[1m88/88\u001b[0m \u001b[32m━━━━━━━━━━━━━━━━━━━━\u001b[0m\u001b[37m\u001b[0m \u001b[1m0s\u001b[0m 3ms/step - loss: 2.8620e-04 - mae: 0.0114 - mape: 5514.7593 - mse: 2.8620e-04 - val_loss: 4.9882e-04 - val_mae: 0.0161 - val_mape: 3.1768 - val_mse: 4.9882e-04\n",
      "\u001b[1m22/22\u001b[0m \u001b[32m━━━━━━━━━━━━━━━━━━━━\u001b[0m\u001b[37m\u001b[0m \u001b[1m0s\u001b[0m 3ms/step \n",
      "model_3: Processando ITUB4 | Combinação 1...\n",
      "Epoch 1/50\n",
      "\u001b[1m90/90\u001b[0m \u001b[32m━━━━━━━━━━━━━━━━━━━━\u001b[0m\u001b[37m\u001b[0m \u001b[1m1s\u001b[0m 4ms/step - loss: 0.0049 - mae: 0.0471 - mape: 92351.9219 - mse: 0.0049 - val_loss: 4.9014e-04 - val_mae: 0.0163 - val_mape: 2.7369 - val_mse: 4.9014e-04\n",
      "Epoch 2/50\n",
      "\u001b[1m90/90\u001b[0m \u001b[32m━━━━━━━━━━━━━━━━━━━━\u001b[0m\u001b[37m\u001b[0m \u001b[1m0s\u001b[0m 2ms/step - loss: 2.2181e-04 - mae: 0.0110 - mape: 37698.2461 - mse: 2.2181e-04 - val_loss: 4.7681e-04 - val_mae: 0.0161 - val_mape: 2.6904 - val_mse: 4.7681e-04\n",
      "Epoch 3/50\n",
      "\u001b[1m90/90\u001b[0m \u001b[32m━━━━━━━━━━━━━━━━━━━━\u001b[0m\u001b[37m\u001b[0m \u001b[1m0s\u001b[0m 2ms/step - loss: 2.1427e-04 - mae: 0.0109 - mape: 67065.4688 - mse: 2.1427e-04 - val_loss: 4.5664e-04 - val_mae: 0.0158 - val_mape: 2.6767 - val_mse: 4.5664e-04\n",
      "Epoch 4/50\n",
      "\u001b[1m90/90\u001b[0m \u001b[32m━━━━━━━━━━━━━━━━━━━━\u001b[0m\u001b[37m\u001b[0m \u001b[1m0s\u001b[0m 2ms/step - loss: 2.1026e-04 - mae: 0.0106 - mape: 60378.4805 - mse: 2.1026e-04 - val_loss: 4.4695e-04 - val_mae: 0.0156 - val_mape: 2.6232 - val_mse: 4.4695e-04\n",
      "Epoch 5/50\n",
      "\u001b[1m90/90\u001b[0m \u001b[32m━━━━━━━━━━━━━━━━━━━━\u001b[0m\u001b[37m\u001b[0m \u001b[1m0s\u001b[0m 2ms/step - loss: 2.1300e-04 - mae: 0.0108 - mape: 31944.1191 - mse: 2.1300e-04 - val_loss: 4.6112e-04 - val_mae: 0.0158 - val_mape: 2.6452 - val_mse: 4.6112e-04\n",
      "Epoch 6/50\n",
      "\u001b[1m90/90\u001b[0m \u001b[32m━━━━━━━━━━━━━━━━━━━━\u001b[0m\u001b[37m\u001b[0m \u001b[1m0s\u001b[0m 2ms/step - loss: 2.0769e-04 - mae: 0.0107 - mape: 44456.8398 - mse: 2.0769e-04 - val_loss: 4.4683e-04 - val_mae: 0.0156 - val_mape: 2.6327 - val_mse: 4.4683e-04\n",
      "Epoch 7/50\n",
      "\u001b[1m90/90\u001b[0m \u001b[32m━━━━━━━━━━━━━━━━━━━━\u001b[0m\u001b[37m\u001b[0m \u001b[1m0s\u001b[0m 2ms/step - loss: 1.9953e-04 - mae: 0.0103 - mape: 19613.2500 - mse: 1.9953e-04 - val_loss: 4.8942e-04 - val_mae: 0.0167 - val_mape: 2.8162 - val_mse: 4.8942e-04\n",
      "Epoch 8/50\n",
      "\u001b[1m90/90\u001b[0m \u001b[32m━━━━━━━━━━━━━━━━━━━━\u001b[0m\u001b[37m\u001b[0m \u001b[1m0s\u001b[0m 2ms/step - loss: 2.1898e-04 - mae: 0.0111 - mape: 28606.7461 - mse: 2.1898e-04 - val_loss: 4.4975e-04 - val_mae: 0.0157 - val_mape: 2.6498 - val_mse: 4.4975e-04\n",
      "Epoch 9/50\n",
      "\u001b[1m90/90\u001b[0m \u001b[32m━━━━━━━━━━━━━━━━━━━━\u001b[0m\u001b[37m\u001b[0m \u001b[1m0s\u001b[0m 2ms/step - loss: 1.9935e-04 - mae: 0.0105 - mape: 6086.8218 - mse: 1.9935e-04 - val_loss: 4.4676e-04 - val_mae: 0.0156 - val_mape: 2.6346 - val_mse: 4.4676e-04\n",
      "Epoch 10/50\n",
      "\u001b[1m90/90\u001b[0m \u001b[32m━━━━━━━━━━━━━━━━━━━━\u001b[0m\u001b[37m\u001b[0m \u001b[1m0s\u001b[0m 2ms/step - loss: 2.1302e-04 - mae: 0.0107 - mape: 19677.5762 - mse: 2.1302e-04 - val_loss: 4.4742e-04 - val_mae: 0.0157 - val_mape: 2.6445 - val_mse: 4.4742e-04\n",
      "Epoch 11/50\n",
      "\u001b[1m90/90\u001b[0m \u001b[32m━━━━━━━━━━━━━━━━━━━━\u001b[0m\u001b[37m\u001b[0m \u001b[1m0s\u001b[0m 2ms/step - loss: 2.0959e-04 - mae: 0.0106 - mape: 53022.8281 - mse: 2.0959e-04 - val_loss: 4.9219e-04 - val_mae: 0.0167 - val_mape: 2.8199 - val_mse: 4.9219e-04\n",
      "Epoch 12/50\n",
      "\u001b[1m90/90\u001b[0m \u001b[32m━━━━━━━━━━━━━━━━━━━━\u001b[0m\u001b[37m\u001b[0m \u001b[1m0s\u001b[0m 2ms/step - loss: 2.1282e-04 - mae: 0.0107 - mape: 35326.8164 - mse: 2.1282e-04 - val_loss: 4.7684e-04 - val_mae: 0.0164 - val_mape: 2.7728 - val_mse: 4.7684e-04\n",
      "Epoch 13/50\n",
      "\u001b[1m90/90\u001b[0m \u001b[32m━━━━━━━━━━━━━━━━━━━━\u001b[0m\u001b[37m\u001b[0m \u001b[1m0s\u001b[0m 2ms/step - loss: 2.1278e-04 - mae: 0.0106 - mape: 27387.7383 - mse: 2.1278e-04 - val_loss: 4.3215e-04 - val_mae: 0.0153 - val_mape: 2.5842 - val_mse: 4.3215e-04\n",
      "Epoch 14/50\n",
      "\u001b[1m90/90\u001b[0m \u001b[32m━━━━━━━━━━━━━━━━━━━━\u001b[0m\u001b[37m\u001b[0m \u001b[1m0s\u001b[0m 2ms/step - loss: 1.9402e-04 - mae: 0.0103 - mape: 50516.5352 - mse: 1.9402e-04 - val_loss: 4.2647e-04 - val_mae: 0.0152 - val_mape: 2.5685 - val_mse: 4.2647e-04\n",
      "Epoch 15/50\n",
      "\u001b[1m90/90\u001b[0m \u001b[32m━━━━━━━━━━━━━━━━━━━━\u001b[0m\u001b[37m\u001b[0m \u001b[1m0s\u001b[0m 2ms/step - loss: 2.0170e-04 - mae: 0.0105 - mape: 93681.9922 - mse: 2.0170e-04 - val_loss: 4.2222e-04 - val_mae: 0.0151 - val_mape: 2.5463 - val_mse: 4.2222e-04\n",
      "Epoch 16/50\n",
      "\u001b[1m90/90\u001b[0m \u001b[32m━━━━━━━━━━━━━━━━━━━━\u001b[0m\u001b[37m\u001b[0m \u001b[1m0s\u001b[0m 2ms/step - loss: 2.0483e-04 - mae: 0.0109 - mape: 12826.4102 - mse: 2.0483e-04 - val_loss: 5.3241e-04 - val_mae: 0.0176 - val_mape: 2.9725 - val_mse: 5.3241e-04\n",
      "Epoch 17/50\n",
      "\u001b[1m90/90\u001b[0m \u001b[32m━━━━━━━━━━━━━━━━━━━━\u001b[0m\u001b[37m\u001b[0m \u001b[1m0s\u001b[0m 2ms/step - loss: 2.1165e-04 - mae: 0.0108 - mape: 17740.1680 - mse: 2.1165e-04 - val_loss: 4.4399e-04 - val_mae: 0.0156 - val_mape: 2.6473 - val_mse: 4.4399e-04\n",
      "Epoch 18/50\n",
      "\u001b[1m90/90\u001b[0m \u001b[32m━━━━━━━━━━━━━━━━━━━━\u001b[0m\u001b[37m\u001b[0m \u001b[1m0s\u001b[0m 3ms/step - loss: 1.9647e-04 - mae: 0.0104 - mape: 4247.6333 - mse: 1.9647e-04 - val_loss: 4.1552e-04 - val_mae: 0.0149 - val_mape: 2.5131 - val_mse: 4.1552e-04\n",
      "Epoch 19/50\n",
      "\u001b[1m90/90\u001b[0m \u001b[32m━━━━━━━━━━━━━━━━━━━━\u001b[0m\u001b[37m\u001b[0m \u001b[1m0s\u001b[0m 2ms/step - loss: 1.9531e-04 - mae: 0.0104 - mape: 3999.3325 - mse: 1.9531e-04 - val_loss: 4.1853e-04 - val_mae: 0.0150 - val_mape: 2.5444 - val_mse: 4.1853e-04\n",
      "Epoch 20/50\n",
      "\u001b[1m90/90\u001b[0m \u001b[32m━━━━━━━━━━━━━━━━━━━━\u001b[0m\u001b[37m\u001b[0m \u001b[1m0s\u001b[0m 2ms/step - loss: 1.9344e-04 - mae: 0.0105 - mape: 3086.2393 - mse: 1.9344e-04 - val_loss: 4.6534e-04 - val_mae: 0.0162 - val_mape: 2.7324 - val_mse: 4.6534e-04\n",
      "Epoch 21/50\n",
      "\u001b[1m90/90\u001b[0m \u001b[32m━━━━━━━━━━━━━━━━━━━━\u001b[0m\u001b[37m\u001b[0m \u001b[1m0s\u001b[0m 2ms/step - loss: 1.9889e-04 - mae: 0.0104 - mape: 46700.4531 - mse: 1.9889e-04 - val_loss: 4.5243e-04 - val_mae: 0.0158 - val_mape: 2.6774 - val_mse: 4.5243e-04\n",
      "Epoch 22/50\n",
      "\u001b[1m90/90\u001b[0m \u001b[32m━━━━━━━━━━━━━━━━━━━━\u001b[0m\u001b[37m\u001b[0m \u001b[1m0s\u001b[0m 2ms/step - loss: 1.9500e-04 - mae: 0.0104 - mape: 14994.4414 - mse: 1.9500e-04 - val_loss: 4.7039e-04 - val_mae: 0.0161 - val_mape: 2.6982 - val_mse: 4.7039e-04\n",
      "Epoch 23/50\n",
      "\u001b[1m90/90\u001b[0m \u001b[32m━━━━━━━━━━━━━━━━━━━━\u001b[0m\u001b[37m\u001b[0m \u001b[1m0s\u001b[0m 2ms/step - loss: 2.0195e-04 - mae: 0.0105 - mape: 7104.1367 - mse: 2.0195e-04 - val_loss: 4.2044e-04 - val_mae: 0.0150 - val_mape: 2.5214 - val_mse: 4.2044e-04\n",
      "Epoch 24/50\n",
      "\u001b[1m90/90\u001b[0m \u001b[32m━━━━━━━━━━━━━━━━━━━━\u001b[0m\u001b[37m\u001b[0m \u001b[1m0s\u001b[0m 2ms/step - loss: 1.9134e-04 - mae: 0.0101 - mape: 11760.7344 - mse: 1.9134e-04 - val_loss: 4.8044e-04 - val_mae: 0.0165 - val_mape: 2.7822 - val_mse: 4.8044e-04\n",
      "Epoch 25/50\n",
      "\u001b[1m90/90\u001b[0m \u001b[32m━━━━━━━━━━━━━━━━━━━━\u001b[0m\u001b[37m\u001b[0m \u001b[1m0s\u001b[0m 2ms/step - loss: 1.8828e-04 - mae: 0.0102 - mape: 30881.9824 - mse: 1.8828e-04 - val_loss: 4.0113e-04 - val_mae: 0.0146 - val_mape: 2.4712 - val_mse: 4.0113e-04\n",
      "Epoch 26/50\n",
      "\u001b[1m90/90\u001b[0m \u001b[32m━━━━━━━━━━━━━━━━━━━━\u001b[0m\u001b[37m\u001b[0m \u001b[1m0s\u001b[0m 2ms/step - loss: 1.8676e-04 - mae: 0.0102 - mape: 12931.0410 - mse: 1.8676e-04 - val_loss: 6.2077e-04 - val_mae: 0.0195 - val_mape: 3.2861 - val_mse: 6.2077e-04\n",
      "Epoch 27/50\n",
      "\u001b[1m90/90\u001b[0m \u001b[32m━━━━━━━━━━━━━━━━━━━━\u001b[0m\u001b[37m\u001b[0m \u001b[1m0s\u001b[0m 2ms/step - loss: 2.2102e-04 - mae: 0.0111 - mape: 36091.1406 - mse: 2.2102e-04 - val_loss: 4.2387e-04 - val_mae: 0.0152 - val_mape: 2.5610 - val_mse: 4.2387e-04\n",
      "Epoch 28/50\n",
      "\u001b[1m90/90\u001b[0m \u001b[32m━━━━━━━━━━━━━━━━━━━━\u001b[0m\u001b[37m\u001b[0m \u001b[1m0s\u001b[0m 2ms/step - loss: 1.8061e-04 - mae: 0.0100 - mape: 6233.0581 - mse: 1.8061e-04 - val_loss: 4.1808e-04 - val_mae: 0.0150 - val_mape: 2.5306 - val_mse: 4.1808e-04\n",
      "Epoch 29/50\n",
      "\u001b[1m90/90\u001b[0m \u001b[32m━━━━━━━━━━━━━━━━━━━━\u001b[0m\u001b[37m\u001b[0m \u001b[1m0s\u001b[0m 3ms/step - loss: 1.7342e-04 - mae: 0.0097 - mape: 3661.5940 - mse: 1.7342e-04 - val_loss: 4.0742e-04 - val_mae: 0.0147 - val_mape: 2.4785 - val_mse: 4.0742e-04\n",
      "Epoch 30/50\n",
      "\u001b[1m90/90\u001b[0m \u001b[32m━━━━━━━━━━━━━━━━━━━━\u001b[0m\u001b[37m\u001b[0m \u001b[1m0s\u001b[0m 2ms/step - loss: 1.9297e-04 - mae: 0.0102 - mape: 37842.8672 - mse: 1.9297e-04 - val_loss: 4.9589e-04 - val_mae: 0.0168 - val_mape: 2.8326 - val_mse: 4.9589e-04\n",
      "Epoch 31/50\n",
      "\u001b[1m90/90\u001b[0m \u001b[32m━━━━━━━━━━━━━━━━━━━━\u001b[0m\u001b[37m\u001b[0m \u001b[1m0s\u001b[0m 2ms/step - loss: 1.8516e-04 - mae: 0.0100 - mape: 11541.6201 - mse: 1.8516e-04 - val_loss: 4.0108e-04 - val_mae: 0.0146 - val_mape: 2.4683 - val_mse: 4.0108e-04\n",
      "Epoch 32/50\n",
      "\u001b[1m90/90\u001b[0m \u001b[32m━━━━━━━━━━━━━━━━━━━━\u001b[0m\u001b[37m\u001b[0m \u001b[1m0s\u001b[0m 2ms/step - loss: 1.7958e-04 - mae: 0.0099 - mape: 7777.5835 - mse: 1.7958e-04 - val_loss: 4.0203e-04 - val_mae: 0.0146 - val_mape: 2.4828 - val_mse: 4.0203e-04\n",
      "Epoch 33/50\n",
      "\u001b[1m90/90\u001b[0m \u001b[32m━━━━━━━━━━━━━━━━━━━━\u001b[0m\u001b[37m\u001b[0m \u001b[1m0s\u001b[0m 2ms/step - loss: 2.0542e-04 - mae: 0.0106 - mape: 994.4375 - mse: 2.0542e-04 - val_loss: 3.9290e-04 - val_mae: 0.0144 - val_mape: 2.4318 - val_mse: 3.9290e-04\n",
      "Epoch 34/50\n",
      "\u001b[1m90/90\u001b[0m \u001b[32m━━━━━━━━━━━━━━━━━━━━\u001b[0m\u001b[37m\u001b[0m \u001b[1m0s\u001b[0m 2ms/step - loss: 1.7725e-04 - mae: 0.0098 - mape: 28870.0137 - mse: 1.7725e-04 - val_loss: 3.9704e-04 - val_mae: 0.0145 - val_mape: 2.4422 - val_mse: 3.9704e-04\n",
      "Epoch 35/50\n",
      "\u001b[1m90/90\u001b[0m \u001b[32m━━━━━━━━━━━━━━━━━━━━\u001b[0m\u001b[37m\u001b[0m \u001b[1m0s\u001b[0m 2ms/step - loss: 2.0464e-04 - mae: 0.0104 - mape: 4231.7109 - mse: 2.0464e-04 - val_loss: 4.1231e-04 - val_mae: 0.0149 - val_mape: 2.5240 - val_mse: 4.1231e-04\n",
      "Epoch 36/50\n",
      "\u001b[1m90/90\u001b[0m \u001b[32m━━━━━━━━━━━━━━━━━━━━\u001b[0m\u001b[37m\u001b[0m \u001b[1m0s\u001b[0m 2ms/step - loss: 1.8436e-04 - mae: 0.0100 - mape: 13834.1865 - mse: 1.8436e-04 - val_loss: 3.9248e-04 - val_mae: 0.0144 - val_mape: 2.4303 - val_mse: 3.9248e-04\n",
      "Epoch 37/50\n",
      "\u001b[1m90/90\u001b[0m \u001b[32m━━━━━━━━━━━━━━━━━━━━\u001b[0m\u001b[37m\u001b[0m \u001b[1m0s\u001b[0m 2ms/step - loss: 1.8848e-04 - mae: 0.0102 - mape: 13194.0518 - mse: 1.8848e-04 - val_loss: 4.1445e-04 - val_mae: 0.0150 - val_mape: 2.5121 - val_mse: 4.1445e-04\n",
      "Epoch 38/50\n",
      "\u001b[1m90/90\u001b[0m \u001b[32m━━━━━━━━━━━━━━━━━━━━\u001b[0m\u001b[37m\u001b[0m \u001b[1m0s\u001b[0m 2ms/step - loss: 1.8718e-04 - mae: 0.0101 - mape: 12192.3857 - mse: 1.8718e-04 - val_loss: 4.0216e-04 - val_mae: 0.0146 - val_mape: 2.4836 - val_mse: 4.0216e-04\n",
      "Epoch 39/50\n",
      "\u001b[1m90/90\u001b[0m \u001b[32m━━━━━━━━━━━━━━━━━━━━\u001b[0m\u001b[37m\u001b[0m \u001b[1m0s\u001b[0m 2ms/step - loss: 1.7847e-04 - mae: 0.0098 - mape: 7990.0327 - mse: 1.7847e-04 - val_loss: 4.0059e-04 - val_mae: 0.0147 - val_mape: 2.4638 - val_mse: 4.0059e-04\n",
      "Epoch 40/50\n",
      "\u001b[1m90/90\u001b[0m \u001b[32m━━━━━━━━━━━━━━━━━━━━\u001b[0m\u001b[37m\u001b[0m \u001b[1m0s\u001b[0m 2ms/step - loss: 1.7818e-04 - mae: 0.0098 - mape: 24161.7715 - mse: 1.7818e-04 - val_loss: 3.9561e-04 - val_mae: 0.0145 - val_mape: 2.4523 - val_mse: 3.9561e-04\n",
      "Epoch 41/50\n",
      "\u001b[1m90/90\u001b[0m \u001b[32m━━━━━━━━━━━━━━━━━━━━\u001b[0m\u001b[37m\u001b[0m \u001b[1m0s\u001b[0m 2ms/step - loss: 1.7804e-04 - mae: 0.0097 - mape: 8915.0195 - mse: 1.7804e-04 - val_loss: 4.3083e-04 - val_mae: 0.0154 - val_mape: 2.6026 - val_mse: 4.3083e-04\n",
      "Epoch 42/50\n",
      "\u001b[1m90/90\u001b[0m \u001b[32m━━━━━━━━━━━━━━━━━━━━\u001b[0m\u001b[37m\u001b[0m \u001b[1m0s\u001b[0m 2ms/step - loss: 1.7859e-04 - mae: 0.0098 - mape: 10824.1211 - mse: 1.7859e-04 - val_loss: 4.3103e-04 - val_mae: 0.0154 - val_mape: 2.5805 - val_mse: 4.3103e-04\n",
      "Epoch 43/50\n",
      "\u001b[1m90/90\u001b[0m \u001b[32m━━━━━━━━━━━━━━━━━━━━\u001b[0m\u001b[37m\u001b[0m \u001b[1m0s\u001b[0m 2ms/step - loss: 1.8384e-04 - mae: 0.0101 - mape: 21311.2793 - mse: 1.8384e-04 - val_loss: 4.2725e-04 - val_mae: 0.0153 - val_mape: 2.5836 - val_mse: 4.2725e-04\n",
      "Epoch 44/50\n",
      "\u001b[1m90/90\u001b[0m \u001b[32m━━━━━━━━━━━━━━━━━━━━\u001b[0m\u001b[37m\u001b[0m \u001b[1m0s\u001b[0m 2ms/step - loss: 1.8162e-04 - mae: 0.0099 - mape: 40987.8906 - mse: 1.8162e-04 - val_loss: 3.8273e-04 - val_mae: 0.0142 - val_mape: 2.3996 - val_mse: 3.8273e-04\n",
      "Epoch 45/50\n",
      "\u001b[1m90/90\u001b[0m \u001b[32m━━━━━━━━━━━━━━━━━━━━\u001b[0m\u001b[37m\u001b[0m \u001b[1m0s\u001b[0m 2ms/step - loss: 1.6771e-04 - mae: 0.0096 - mape: 5347.9424 - mse: 1.6771e-04 - val_loss: 3.7988e-04 - val_mae: 0.0141 - val_mape: 2.3876 - val_mse: 3.7988e-04\n",
      "Epoch 46/50\n",
      "\u001b[1m90/90\u001b[0m \u001b[32m━━━━━━━━━━━━━━━━━━━━\u001b[0m\u001b[37m\u001b[0m \u001b[1m0s\u001b[0m 2ms/step - loss: 1.7634e-04 - mae: 0.0097 - mape: 57018.7969 - mse: 1.7634e-04 - val_loss: 3.8102e-04 - val_mae: 0.0142 - val_mape: 2.3885 - val_mse: 3.8102e-04\n",
      "Epoch 47/50\n",
      "\u001b[1m90/90\u001b[0m \u001b[32m━━━━━━━━━━━━━━━━━━━━\u001b[0m\u001b[37m\u001b[0m \u001b[1m0s\u001b[0m 2ms/step - loss: 1.6964e-04 - mae: 0.0095 - mape: 1559.1768 - mse: 1.6964e-04 - val_loss: 3.9460e-04 - val_mae: 0.0145 - val_mape: 2.4509 - val_mse: 3.9460e-04\n",
      "Epoch 48/50\n",
      "\u001b[1m90/90\u001b[0m \u001b[32m━━━━━━━━━━━━━━━━━━━━\u001b[0m\u001b[37m\u001b[0m \u001b[1m0s\u001b[0m 2ms/step - loss: 1.8775e-04 - mae: 0.0100 - mape: 54078.8516 - mse: 1.8775e-04 - val_loss: 3.8138e-04 - val_mae: 0.0141 - val_mape: 2.3914 - val_mse: 3.8138e-04\n",
      "Epoch 49/50\n",
      "\u001b[1m90/90\u001b[0m \u001b[32m━━━━━━━━━━━━━━━━━━━━\u001b[0m\u001b[37m\u001b[0m \u001b[1m0s\u001b[0m 2ms/step - loss: 1.7959e-04 - mae: 0.0099 - mape: 23409.3398 - mse: 1.7959e-04 - val_loss: 3.8351e-04 - val_mae: 0.0142 - val_mape: 2.4107 - val_mse: 3.8351e-04\n",
      "Epoch 50/50\n",
      "\u001b[1m90/90\u001b[0m \u001b[32m━━━━━━━━━━━━━━━━━━━━\u001b[0m\u001b[37m\u001b[0m \u001b[1m0s\u001b[0m 2ms/step - loss: 1.7707e-04 - mae: 0.0098 - mape: 22740.5840 - mse: 1.7707e-04 - val_loss: 3.7782e-04 - val_mae: 0.0141 - val_mape: 2.3792 - val_mse: 3.7782e-04\n",
      "\u001b[1m23/23\u001b[0m \u001b[32m━━━━━━━━━━━━━━━━━━━━\u001b[0m\u001b[37m\u001b[0m \u001b[1m0s\u001b[0m 2ms/step \n"
     ]
    },
    {
     "name": "stderr",
     "output_type": "stream",
     "text": [
      "Processando combinações:  14%|█▍        | 1/7 [00:33<03:19, 33.30s/it]"
     ]
    },
    {
     "name": "stdout",
     "output_type": "stream",
     "text": [
      "model_3: Processando PETR4 | Combinação 2...\n",
      "Epoch 1/50\n",
      "\u001b[1m90/90\u001b[0m \u001b[32m━━━━━━━━━━━━━━━━━━━━\u001b[0m\u001b[37m\u001b[0m \u001b[1m1s\u001b[0m 4ms/step - loss: 0.0324 - mae: 0.1310 - mape: 134202.4531 - mse: 0.0324 - val_loss: 0.0019 - val_mae: 0.0350 - val_mape: 8.3887 - val_mse: 0.0019\n",
      "Epoch 2/50\n",
      "\u001b[1m90/90\u001b[0m \u001b[32m━━━━━━━━━━━━━━━━━━━━\u001b[0m\u001b[37m\u001b[0m \u001b[1m0s\u001b[0m 2ms/step - loss: 7.5082e-04 - mae: 0.0200 - mape: 27288.1738 - mse: 7.5082e-04 - val_loss: 6.1672e-04 - val_mae: 0.0186 - val_mape: 4.3755 - val_mse: 6.1672e-04\n",
      "Epoch 3/50\n",
      "\u001b[1m90/90\u001b[0m \u001b[32m━━━━━━━━━━━━━━━━━━━━\u001b[0m\u001b[37m\u001b[0m \u001b[1m0s\u001b[0m 2ms/step - loss: 3.5228e-04 - mae: 0.0138 - mape: 8508.8174 - mse: 3.5228e-04 - val_loss: 4.7505e-04 - val_mae: 0.0158 - val_mape: 3.7016 - val_mse: 4.7505e-04\n",
      "Epoch 4/50\n",
      "\u001b[1m90/90\u001b[0m \u001b[32m━━━━━━━━━━━━━━━━━━━━\u001b[0m\u001b[37m\u001b[0m \u001b[1m0s\u001b[0m 2ms/step - loss: 2.9177e-04 - mae: 0.0125 - mape: 519.3862 - mse: 2.9177e-04 - val_loss: 4.1656e-04 - val_mae: 0.0142 - val_mape: 3.3658 - val_mse: 4.1656e-04\n",
      "Epoch 5/50\n",
      "\u001b[1m90/90\u001b[0m \u001b[32m━━━━━━━━━━━━━━━━━━━━\u001b[0m\u001b[37m\u001b[0m \u001b[1m0s\u001b[0m 2ms/step - loss: 2.6928e-04 - mae: 0.0119 - mape: 16816.2754 - mse: 2.6928e-04 - val_loss: 4.4422e-04 - val_mae: 0.0149 - val_mape: 3.5212 - val_mse: 4.4422e-04\n",
      "Epoch 6/50\n",
      "\u001b[1m90/90\u001b[0m \u001b[32m━━━━━━━━━━━━━━━━━━━━\u001b[0m\u001b[37m\u001b[0m \u001b[1m0s\u001b[0m 2ms/step - loss: 2.5165e-04 - mae: 0.0116 - mape: 7295.0322 - mse: 2.5165e-04 - val_loss: 4.0231e-04 - val_mae: 0.0139 - val_mape: 3.3004 - val_mse: 4.0231e-04\n",
      "Epoch 7/50\n",
      "\u001b[1m90/90\u001b[0m \u001b[32m━━━━━━━━━━━━━━━━━━━━\u001b[0m\u001b[37m\u001b[0m \u001b[1m0s\u001b[0m 3ms/step - loss: 2.4708e-04 - mae: 0.0117 - mape: 567.2302 - mse: 2.4708e-04 - val_loss: 4.0153e-04 - val_mae: 0.0140 - val_mape: 3.3106 - val_mse: 4.0153e-04\n",
      "Epoch 8/50\n",
      "\u001b[1m90/90\u001b[0m \u001b[32m━━━━━━━━━━━━━━━━━━━━\u001b[0m\u001b[37m\u001b[0m \u001b[1m0s\u001b[0m 2ms/step - loss: 2.6308e-04 - mae: 0.0115 - mape: 37070.7891 - mse: 2.6308e-04 - val_loss: 3.9307e-04 - val_mae: 0.0138 - val_mape: 3.2544 - val_mse: 3.9307e-04\n",
      "Epoch 9/50\n",
      "\u001b[1m90/90\u001b[0m \u001b[32m━━━━━━━━━━━━━━━━━━━━\u001b[0m\u001b[37m\u001b[0m \u001b[1m0s\u001b[0m 2ms/step - loss: 2.2517e-04 - mae: 0.0107 - mape: 39025.3086 - mse: 2.2517e-04 - val_loss: 3.8964e-04 - val_mae: 0.0137 - val_mape: 3.2386 - val_mse: 3.8964e-04\n",
      "Epoch 10/50\n",
      "\u001b[1m90/90\u001b[0m \u001b[32m━━━━━━━━━━━━━━━━━━━━\u001b[0m\u001b[37m\u001b[0m \u001b[1m0s\u001b[0m 2ms/step - loss: 2.2417e-04 - mae: 0.0109 - mape: 4246.1431 - mse: 2.2417e-04 - val_loss: 3.8506e-04 - val_mae: 0.0136 - val_mape: 3.2067 - val_mse: 3.8506e-04\n",
      "Epoch 11/50\n",
      "\u001b[1m90/90\u001b[0m \u001b[32m━━━━━━━━━━━━━━━━━━━━\u001b[0m\u001b[37m\u001b[0m \u001b[1m0s\u001b[0m 2ms/step - loss: 2.0328e-04 - mae: 0.0103 - mape: 10970.9619 - mse: 2.0328e-04 - val_loss: 3.8690e-04 - val_mae: 0.0136 - val_mape: 3.2044 - val_mse: 3.8690e-04\n",
      "Epoch 12/50\n",
      "\u001b[1m90/90\u001b[0m \u001b[32m━━━━━━━━━━━━━━━━━━━━\u001b[0m\u001b[37m\u001b[0m \u001b[1m0s\u001b[0m 2ms/step - loss: 1.9715e-04 - mae: 0.0103 - mape: 19945.5039 - mse: 1.9715e-04 - val_loss: 3.9266e-04 - val_mae: 0.0139 - val_mape: 3.2613 - val_mse: 3.9266e-04\n",
      "Epoch 13/50\n",
      "\u001b[1m90/90\u001b[0m \u001b[32m━━━━━━━━━━━━━━━━━━━━\u001b[0m\u001b[37m\u001b[0m \u001b[1m0s\u001b[0m 2ms/step - loss: 2.1253e-04 - mae: 0.0104 - mape: 6049.6260 - mse: 2.1253e-04 - val_loss: 4.2151e-04 - val_mae: 0.0149 - val_mape: 3.4548 - val_mse: 4.2151e-04\n",
      "Epoch 14/50\n",
      "\u001b[1m90/90\u001b[0m \u001b[32m━━━━━━━━━━━━━━━━━━━━\u001b[0m\u001b[37m\u001b[0m \u001b[1m0s\u001b[0m 2ms/step - loss: 2.2391e-04 - mae: 0.0109 - mape: 169.5831 - mse: 2.2391e-04 - val_loss: 3.8013e-04 - val_mae: 0.0135 - val_mape: 3.1715 - val_mse: 3.8013e-04\n",
      "Epoch 15/50\n",
      "\u001b[1m90/90\u001b[0m \u001b[32m━━━━━━━━━━━━━━━━━━━━\u001b[0m\u001b[37m\u001b[0m \u001b[1m0s\u001b[0m 2ms/step - loss: 2.1647e-04 - mae: 0.0104 - mape: 2256.9729 - mse: 2.1647e-04 - val_loss: 3.7375e-04 - val_mae: 0.0133 - val_mape: 3.1282 - val_mse: 3.7375e-04\n",
      "Epoch 16/50\n",
      "\u001b[1m90/90\u001b[0m \u001b[32m━━━━━━━━━━━━━━━━━━━━\u001b[0m\u001b[37m\u001b[0m \u001b[1m0s\u001b[0m 2ms/step - loss: 1.9421e-04 - mae: 0.0100 - mape: 17087.2344 - mse: 1.9421e-04 - val_loss: 4.5615e-04 - val_mae: 0.0160 - val_mape: 3.6758 - val_mse: 4.5615e-04\n",
      "Epoch 17/50\n",
      "\u001b[1m90/90\u001b[0m \u001b[32m━━━━━━━━━━━━━━━━━━━━\u001b[0m\u001b[37m\u001b[0m \u001b[1m0s\u001b[0m 2ms/step - loss: 2.2298e-04 - mae: 0.0107 - mape: 11474.7109 - mse: 2.2298e-04 - val_loss: 3.7408e-04 - val_mae: 0.0134 - val_mape: 3.1404 - val_mse: 3.7408e-04\n",
      "Epoch 18/50\n",
      "\u001b[1m90/90\u001b[0m \u001b[32m━━━━━━━━━━━━━━━━━━━━\u001b[0m\u001b[37m\u001b[0m \u001b[1m0s\u001b[0m 2ms/step - loss: 2.0838e-04 - mae: 0.0104 - mape: 5886.5996 - mse: 2.0838e-04 - val_loss: 3.7705e-04 - val_mae: 0.0132 - val_mape: 3.1171 - val_mse: 3.7705e-04\n",
      "Epoch 19/50\n",
      "\u001b[1m90/90\u001b[0m \u001b[32m━━━━━━━━━━━━━━━━━━━━\u001b[0m\u001b[37m\u001b[0m \u001b[1m0s\u001b[0m 2ms/step - loss: 2.1416e-04 - mae: 0.0102 - mape: 1942.9470 - mse: 2.1416e-04 - val_loss: 4.2371e-04 - val_mae: 0.0151 - val_mape: 3.4723 - val_mse: 4.2371e-04\n",
      "Epoch 20/50\n",
      "\u001b[1m90/90\u001b[0m \u001b[32m━━━━━━━━━━━━━━━━━━━━\u001b[0m\u001b[37m\u001b[0m \u001b[1m0s\u001b[0m 2ms/step - loss: 2.1076e-04 - mae: 0.0103 - mape: 662.8649 - mse: 2.1076e-04 - val_loss: 4.2033e-04 - val_mae: 0.0151 - val_mape: 3.4947 - val_mse: 4.2033e-04\n",
      "Epoch 21/50\n",
      "\u001b[1m90/90\u001b[0m \u001b[32m━━━━━━━━━━━━━━━━━━━━\u001b[0m\u001b[37m\u001b[0m \u001b[1m0s\u001b[0m 2ms/step - loss: 2.0382e-04 - mae: 0.0102 - mape: 2552.9646 - mse: 2.0382e-04 - val_loss: 3.6501e-04 - val_mae: 0.0131 - val_mape: 3.0756 - val_mse: 3.6501e-04\n",
      "Epoch 22/50\n",
      "\u001b[1m90/90\u001b[0m \u001b[32m━━━━━━━━━━━━━━━━━━━━\u001b[0m\u001b[37m\u001b[0m \u001b[1m0s\u001b[0m 2ms/step - loss: 2.1505e-04 - mae: 0.0104 - mape: 5386.5366 - mse: 2.1505e-04 - val_loss: 3.6655e-04 - val_mae: 0.0130 - val_mape: 3.0810 - val_mse: 3.6655e-04\n",
      "Epoch 23/50\n",
      "\u001b[1m90/90\u001b[0m \u001b[32m━━━━━━━━━━━━━━━━━━━━\u001b[0m\u001b[37m\u001b[0m \u001b[1m0s\u001b[0m 2ms/step - loss: 2.1043e-04 - mae: 0.0106 - mape: 107.8878 - mse: 2.1043e-04 - val_loss: 4.2219e-04 - val_mae: 0.0152 - val_mape: 3.5096 - val_mse: 4.2219e-04\n",
      "Epoch 24/50\n",
      "\u001b[1m90/90\u001b[0m \u001b[32m━━━━━━━━━━━━━━━━━━━━\u001b[0m\u001b[37m\u001b[0m \u001b[1m0s\u001b[0m 2ms/step - loss: 2.2538e-04 - mae: 0.0110 - mape: 10628.9941 - mse: 2.2538e-04 - val_loss: 4.0504e-04 - val_mae: 0.0139 - val_mape: 3.2960 - val_mse: 4.0504e-04\n",
      "Epoch 25/50\n",
      "\u001b[1m90/90\u001b[0m \u001b[32m━━━━━━━━━━━━━━━━━━━━\u001b[0m\u001b[37m\u001b[0m \u001b[1m0s\u001b[0m 2ms/step - loss: 2.1484e-04 - mae: 0.0104 - mape: 2677.7937 - mse: 2.1484e-04 - val_loss: 4.0636e-04 - val_mae: 0.0139 - val_mape: 3.2771 - val_mse: 4.0636e-04\n",
      "Epoch 26/50\n",
      "\u001b[1m90/90\u001b[0m \u001b[32m━━━━━━━━━━━━━━━━━━━━\u001b[0m\u001b[37m\u001b[0m \u001b[1m0s\u001b[0m 2ms/step - loss: 1.8196e-04 - mae: 0.0096 - mape: 748.7989 - mse: 1.8196e-04 - val_loss: 3.6418e-04 - val_mae: 0.0129 - val_mape: 3.0618 - val_mse: 3.6418e-04\n",
      "Epoch 27/50\n",
      "\u001b[1m90/90\u001b[0m \u001b[32m━━━━━━━━━━━━━━━━━━━━\u001b[0m\u001b[37m\u001b[0m \u001b[1m0s\u001b[0m 2ms/step - loss: 1.8790e-04 - mae: 0.0100 - mape: 5357.3486 - mse: 1.8790e-04 - val_loss: 4.3845e-04 - val_mae: 0.0157 - val_mape: 3.5948 - val_mse: 4.3845e-04\n",
      "Epoch 28/50\n",
      "\u001b[1m90/90\u001b[0m \u001b[32m━━━━━━━━━━━━━━━━━━━━\u001b[0m\u001b[37m\u001b[0m \u001b[1m0s\u001b[0m 2ms/step - loss: 2.0424e-04 - mae: 0.0101 - mape: 681.4714 - mse: 2.0424e-04 - val_loss: 4.7314e-04 - val_mae: 0.0167 - val_mape: 3.8330 - val_mse: 4.7314e-04\n",
      "Epoch 29/50\n",
      "\u001b[1m90/90\u001b[0m \u001b[32m━━━━━━━━━━━━━━━━━━━━\u001b[0m\u001b[37m\u001b[0m \u001b[1m0s\u001b[0m 2ms/step - loss: 2.1852e-04 - mae: 0.0105 - mape: 1219.9246 - mse: 2.1852e-04 - val_loss: 3.5574e-04 - val_mae: 0.0129 - val_mape: 3.0345 - val_mse: 3.5574e-04\n",
      "Epoch 30/50\n",
      "\u001b[1m90/90\u001b[0m \u001b[32m━━━━━━━━━━━━━━━━━━━━\u001b[0m\u001b[37m\u001b[0m \u001b[1m0s\u001b[0m 2ms/step - loss: 2.0963e-04 - mae: 0.0103 - mape: 22707.5488 - mse: 2.0963e-04 - val_loss: 3.4621e-04 - val_mae: 0.0126 - val_mape: 2.9742 - val_mse: 3.4621e-04\n",
      "Epoch 31/50\n",
      "\u001b[1m90/90\u001b[0m \u001b[32m━━━━━━━━━━━━━━━━━━━━\u001b[0m\u001b[37m\u001b[0m \u001b[1m0s\u001b[0m 2ms/step - loss: 1.8958e-04 - mae: 0.0101 - mape: 7738.4463 - mse: 1.8958e-04 - val_loss: 3.5120e-04 - val_mae: 0.0126 - val_mape: 2.9987 - val_mse: 3.5120e-04\n",
      "Epoch 32/50\n",
      "\u001b[1m90/90\u001b[0m \u001b[32m━━━━━━━━━━━━━━━━━━━━\u001b[0m\u001b[37m\u001b[0m \u001b[1m0s\u001b[0m 2ms/step - loss: 1.9838e-04 - mae: 0.0098 - mape: 7415.8105 - mse: 1.9838e-04 - val_loss: 3.5119e-04 - val_mae: 0.0126 - val_mape: 2.9926 - val_mse: 3.5119e-04\n",
      "Epoch 33/50\n",
      "\u001b[1m90/90\u001b[0m \u001b[32m━━━━━━━━━━━━━━━━━━━━\u001b[0m\u001b[37m\u001b[0m \u001b[1m0s\u001b[0m 2ms/step - loss: 1.8867e-04 - mae: 0.0097 - mape: 9564.6309 - mse: 1.8867e-04 - val_loss: 3.7982e-04 - val_mae: 0.0139 - val_mape: 3.2505 - val_mse: 3.7982e-04\n",
      "Epoch 34/50\n",
      "\u001b[1m90/90\u001b[0m \u001b[32m━━━━━━━━━━━━━━━━━━━━\u001b[0m\u001b[37m\u001b[0m \u001b[1m0s\u001b[0m 2ms/step - loss: 1.9314e-04 - mae: 0.0099 - mape: 1916.3997 - mse: 1.9314e-04 - val_loss: 3.5068e-04 - val_mae: 0.0128 - val_mape: 3.0174 - val_mse: 3.5068e-04\n",
      "Epoch 35/50\n",
      "\u001b[1m90/90\u001b[0m \u001b[32m━━━━━━━━━━━━━━━━━━━━\u001b[0m\u001b[37m\u001b[0m \u001b[1m0s\u001b[0m 2ms/step - loss: 2.0846e-04 - mae: 0.0103 - mape: 363.3575 - mse: 2.0846e-04 - val_loss: 3.5960e-04 - val_mae: 0.0128 - val_mape: 3.0251 - val_mse: 3.5960e-04\n",
      "Epoch 36/50\n",
      "\u001b[1m90/90\u001b[0m \u001b[32m━━━━━━━━━━━━━━━━━━━━\u001b[0m\u001b[37m\u001b[0m \u001b[1m0s\u001b[0m 2ms/step - loss: 2.0191e-04 - mae: 0.0102 - mape: 5073.5020 - mse: 2.0191e-04 - val_loss: 3.3886e-04 - val_mae: 0.0125 - val_mape: 2.9435 - val_mse: 3.3886e-04\n",
      "Epoch 37/50\n",
      "\u001b[1m90/90\u001b[0m \u001b[32m━━━━━━━━━━━━━━━━━━━━\u001b[0m\u001b[37m\u001b[0m \u001b[1m0s\u001b[0m 2ms/step - loss: 1.7976e-04 - mae: 0.0096 - mape: 3598.0701 - mse: 1.7976e-04 - val_loss: 3.6134e-04 - val_mae: 0.0133 - val_mape: 3.1143 - val_mse: 3.6134e-04\n",
      "Epoch 38/50\n",
      "\u001b[1m90/90\u001b[0m \u001b[32m━━━━━━━━━━━━━━━━━━━━\u001b[0m\u001b[37m\u001b[0m \u001b[1m0s\u001b[0m 2ms/step - loss: 2.0975e-04 - mae: 0.0104 - mape: 2878.2263 - mse: 2.0975e-04 - val_loss: 3.7978e-04 - val_mae: 0.0141 - val_mape: 3.2674 - val_mse: 3.7978e-04\n",
      "Epoch 39/50\n",
      "\u001b[1m90/90\u001b[0m \u001b[32m━━━━━━━━━━━━━━━━━━━━\u001b[0m\u001b[37m\u001b[0m \u001b[1m0s\u001b[0m 2ms/step - loss: 1.8299e-04 - mae: 0.0097 - mape: 3423.7710 - mse: 1.8299e-04 - val_loss: 3.5182e-04 - val_mae: 0.0130 - val_mape: 3.0535 - val_mse: 3.5182e-04\n",
      "Epoch 40/50\n",
      "\u001b[1m90/90\u001b[0m \u001b[32m━━━━━━━━━━━━━━━━━━━━\u001b[0m\u001b[37m\u001b[0m \u001b[1m0s\u001b[0m 3ms/step - loss: 1.7678e-04 - mae: 0.0094 - mape: 14262.5186 - mse: 1.7678e-04 - val_loss: 3.9012e-04 - val_mae: 0.0136 - val_mape: 3.2151 - val_mse: 3.9012e-04\n",
      "Epoch 41/50\n",
      "\u001b[1m90/90\u001b[0m \u001b[32m━━━━━━━━━━━━━━━━━━━━\u001b[0m\u001b[37m\u001b[0m \u001b[1m0s\u001b[0m 2ms/step - loss: 2.0123e-04 - mae: 0.0100 - mape: 523.0569 - mse: 2.0123e-04 - val_loss: 3.5149e-04 - val_mae: 0.0130 - val_mape: 3.0438 - val_mse: 3.5149e-04\n",
      "Epoch 42/50\n",
      "\u001b[1m90/90\u001b[0m \u001b[32m━━━━━━━━━━━━━━━━━━━━\u001b[0m\u001b[37m\u001b[0m \u001b[1m0s\u001b[0m 2ms/step - loss: 1.9089e-04 - mae: 0.0097 - mape: 1352.9689 - mse: 1.9089e-04 - val_loss: 3.7183e-04 - val_mae: 0.0138 - val_mape: 3.2272 - val_mse: 3.7183e-04\n",
      "Epoch 43/50\n",
      "\u001b[1m90/90\u001b[0m \u001b[32m━━━━━━━━━━━━━━━━━━━━\u001b[0m\u001b[37m\u001b[0m \u001b[1m0s\u001b[0m 2ms/step - loss: 1.8201e-04 - mae: 0.0097 - mape: 1297.2094 - mse: 1.8201e-04 - val_loss: 6.3670e-04 - val_mae: 0.0208 - val_mape: 4.7449 - val_mse: 6.3670e-04\n",
      "Epoch 44/50\n",
      "\u001b[1m90/90\u001b[0m \u001b[32m━━━━━━━━━━━━━━━━━━━━\u001b[0m\u001b[37m\u001b[0m \u001b[1m0s\u001b[0m 2ms/step - loss: 2.3340e-04 - mae: 0.0108 - mape: 3084.3403 - mse: 2.3340e-04 - val_loss: 3.4206e-04 - val_mae: 0.0124 - val_mape: 2.9349 - val_mse: 3.4206e-04\n",
      "Epoch 45/50\n",
      "\u001b[1m90/90\u001b[0m \u001b[32m━━━━━━━━━━━━━━━━━━━━\u001b[0m\u001b[37m\u001b[0m \u001b[1m0s\u001b[0m 2ms/step - loss: 1.9341e-04 - mae: 0.0098 - mape: 5699.3901 - mse: 1.9341e-04 - val_loss: 3.3963e-04 - val_mae: 0.0123 - val_mape: 2.9282 - val_mse: 3.3963e-04\n",
      "Epoch 46/50\n",
      "\u001b[1m90/90\u001b[0m \u001b[32m━━━━━━━━━━━━━━━━━━━━\u001b[0m\u001b[37m\u001b[0m \u001b[1m0s\u001b[0m 2ms/step - loss: 1.9929e-04 - mae: 0.0100 - mape: 7449.2910 - mse: 1.9929e-04 - val_loss: 3.3816e-04 - val_mae: 0.0123 - val_mape: 2.9195 - val_mse: 3.3816e-04\n",
      "Epoch 47/50\n",
      "\u001b[1m90/90\u001b[0m \u001b[32m━━━━━━━━━━━━━━━━━━━━\u001b[0m\u001b[37m\u001b[0m \u001b[1m0s\u001b[0m 2ms/step - loss: 1.8087e-04 - mae: 0.0097 - mape: 1301.9497 - mse: 1.8087e-04 - val_loss: 3.6827e-04 - val_mae: 0.0130 - val_mape: 3.0696 - val_mse: 3.6827e-04\n",
      "Epoch 48/50\n",
      "\u001b[1m90/90\u001b[0m \u001b[32m━━━━━━━━━━━━━━━━━━━━\u001b[0m\u001b[37m\u001b[0m \u001b[1m0s\u001b[0m 2ms/step - loss: 2.0288e-04 - mae: 0.0102 - mape: 8454.4102 - mse: 2.0288e-04 - val_loss: 3.3649e-04 - val_mae: 0.0125 - val_mape: 2.9514 - val_mse: 3.3649e-04\n",
      "Epoch 49/50\n",
      "\u001b[1m90/90\u001b[0m \u001b[32m━━━━━━━━━━━━━━━━━━━━\u001b[0m\u001b[37m\u001b[0m \u001b[1m0s\u001b[0m 2ms/step - loss: 1.8254e-04 - mae: 0.0094 - mape: 4008.7112 - mse: 1.8254e-04 - val_loss: 4.0521e-04 - val_mae: 0.0139 - val_mape: 3.2800 - val_mse: 4.0521e-04\n",
      "Epoch 50/50\n",
      "\u001b[1m90/90\u001b[0m \u001b[32m━━━━━━━━━━━━━━━━━━━━\u001b[0m\u001b[37m\u001b[0m \u001b[1m0s\u001b[0m 2ms/step - loss: 1.7620e-04 - mae: 0.0095 - mape: 4115.9048 - mse: 1.7620e-04 - val_loss: 3.5686e-04 - val_mae: 0.0127 - val_mape: 3.0221 - val_mse: 3.5686e-04\n",
      "\u001b[1m23/23\u001b[0m \u001b[32m━━━━━━━━━━━━━━━━━━━━\u001b[0m\u001b[37m\u001b[0m \u001b[1m0s\u001b[0m 2ms/step \n",
      "model_3: Processando VALE3 | Combinação 2...\n",
      "Epoch 1/50\n",
      "\u001b[1m90/90\u001b[0m \u001b[32m━━━━━━━━━━━━━━━━━━━━\u001b[0m\u001b[37m\u001b[0m \u001b[1m1s\u001b[0m 4ms/step - loss: 0.0329 - mae: 0.1324 - mape: 30284.3945 - mse: 0.0329 - val_loss: 0.0100 - val_mae: 0.0760 - val_mape: 10.7269 - val_mse: 0.0100\n",
      "Epoch 2/50\n",
      "\u001b[1m90/90\u001b[0m \u001b[32m━━━━━━━━━━━━━━━━━━━━\u001b[0m\u001b[37m\u001b[0m \u001b[1m0s\u001b[0m 2ms/step - loss: 3.7883e-04 - mae: 0.0144 - mape: 14285.4805 - mse: 3.7883e-04 - val_loss: 0.0046 - val_mae: 0.0485 - val_mape: 6.8272 - val_mse: 0.0046\n",
      "Epoch 3/50\n",
      "\u001b[1m90/90\u001b[0m \u001b[32m━━━━━━━━━━━━━━━━━━━━\u001b[0m\u001b[37m\u001b[0m \u001b[1m0s\u001b[0m 2ms/step - loss: 1.6549e-04 - mae: 0.0089 - mape: 1683.0211 - mse: 1.6549e-04 - val_loss: 0.0037 - val_mae: 0.0441 - val_mape: 6.2546 - val_mse: 0.0037\n",
      "Epoch 4/50\n",
      "\u001b[1m90/90\u001b[0m \u001b[32m━━━━━━━━━━━━━━━━━━━━\u001b[0m\u001b[37m\u001b[0m \u001b[1m0s\u001b[0m 2ms/step - loss: 1.5744e-04 - mae: 0.0089 - mape: 6726.9185 - mse: 1.5744e-04 - val_loss: 0.0041 - val_mae: 0.0477 - val_mape: 6.7794 - val_mse: 0.0041\n",
      "Epoch 5/50\n",
      "\u001b[1m90/90\u001b[0m \u001b[32m━━━━━━━━━━━━━━━━━━━━\u001b[0m\u001b[37m\u001b[0m \u001b[1m0s\u001b[0m 2ms/step - loss: 1.1999e-04 - mae: 0.0079 - mape: 3164.5525 - mse: 1.1999e-04 - val_loss: 0.0039 - val_mae: 0.0467 - val_mape: 6.6305 - val_mse: 0.0039\n",
      "Epoch 6/50\n",
      "\u001b[1m90/90\u001b[0m \u001b[32m━━━━━━━━━━━━━━━━━━━━\u001b[0m\u001b[37m\u001b[0m \u001b[1m0s\u001b[0m 2ms/step - loss: 1.0913e-04 - mae: 0.0076 - mape: 3587.5662 - mse: 1.0913e-04 - val_loss: 0.0039 - val_mae: 0.0472 - val_mape: 6.7348 - val_mse: 0.0039\n",
      "Epoch 7/50\n",
      "\u001b[1m90/90\u001b[0m \u001b[32m━━━━━━━━━━━━━━━━━━━━\u001b[0m\u001b[37m\u001b[0m \u001b[1m0s\u001b[0m 2ms/step - loss: 1.0204e-04 - mae: 0.0073 - mape: 4802.2793 - mse: 1.0204e-04 - val_loss: 0.0033 - val_mae: 0.0422 - val_mape: 5.9929 - val_mse: 0.0033\n",
      "Epoch 8/50\n",
      "\u001b[1m90/90\u001b[0m \u001b[32m━━━━━━━━━━━━━━━━━━━━\u001b[0m\u001b[37m\u001b[0m \u001b[1m0s\u001b[0m 2ms/step - loss: 8.9962e-05 - mae: 0.0070 - mape: 2609.2678 - mse: 8.9962e-05 - val_loss: 0.0034 - val_mae: 0.0433 - val_mape: 6.1275 - val_mse: 0.0034\n",
      "Epoch 9/50\n",
      "\u001b[1m90/90\u001b[0m \u001b[32m━━━━━━━━━━━━━━━━━━━━\u001b[0m\u001b[37m\u001b[0m \u001b[1m0s\u001b[0m 2ms/step - loss: 9.2511e-05 - mae: 0.0070 - mape: 14505.6104 - mse: 9.2511e-05 - val_loss: 0.0026 - val_mae: 0.0369 - val_mape: 5.2387 - val_mse: 0.0026\n",
      "Epoch 10/50\n",
      "\u001b[1m90/90\u001b[0m \u001b[32m━━━━━━━━━━━━━━━━━━━━\u001b[0m\u001b[37m\u001b[0m \u001b[1m0s\u001b[0m 2ms/step - loss: 9.9865e-05 - mae: 0.0072 - mape: 4265.7085 - mse: 9.9865e-05 - val_loss: 0.0030 - val_mae: 0.0401 - val_mape: 5.6708 - val_mse: 0.0030\n",
      "Epoch 11/50\n",
      "\u001b[1m90/90\u001b[0m \u001b[32m━━━━━━━━━━━━━━━━━━━━\u001b[0m\u001b[37m\u001b[0m \u001b[1m0s\u001b[0m 2ms/step - loss: 8.7699e-05 - mae: 0.0069 - mape: 6396.5410 - mse: 8.7699e-05 - val_loss: 0.0029 - val_mae: 0.0386 - val_mape: 5.4484 - val_mse: 0.0029\n",
      "Epoch 12/50\n",
      "\u001b[1m90/90\u001b[0m \u001b[32m━━━━━━━━━━━━━━━━━━━━\u001b[0m\u001b[37m\u001b[0m \u001b[1m0s\u001b[0m 3ms/step - loss: 8.6617e-05 - mae: 0.0069 - mape: 12220.1943 - mse: 8.6617e-05 - val_loss: 0.0026 - val_mae: 0.0365 - val_mape: 5.1663 - val_mse: 0.0026\n",
      "Epoch 13/50\n",
      "\u001b[1m90/90\u001b[0m \u001b[32m━━━━━━━━━━━━━━━━━━━━\u001b[0m\u001b[37m\u001b[0m \u001b[1m0s\u001b[0m 2ms/step - loss: 8.9395e-05 - mae: 0.0068 - mape: 9034.4111 - mse: 8.9395e-05 - val_loss: 0.0031 - val_mae: 0.0408 - val_mape: 5.7846 - val_mse: 0.0031\n",
      "Epoch 14/50\n",
      "\u001b[1m90/90\u001b[0m \u001b[32m━━━━━━━━━━━━━━━━━━━━\u001b[0m\u001b[37m\u001b[0m \u001b[1m0s\u001b[0m 2ms/step - loss: 9.0659e-05 - mae: 0.0069 - mape: 4771.5879 - mse: 9.0659e-05 - val_loss: 0.0026 - val_mae: 0.0366 - val_mape: 5.1818 - val_mse: 0.0026\n",
      "Epoch 15/50\n",
      "\u001b[1m90/90\u001b[0m \u001b[32m━━━━━━━━━━━━━━━━━━━━\u001b[0m\u001b[37m\u001b[0m \u001b[1m0s\u001b[0m 2ms/step - loss: 7.8969e-05 - mae: 0.0066 - mape: 6483.4771 - mse: 7.8969e-05 - val_loss: 0.0022 - val_mae: 0.0331 - val_mape: 4.7125 - val_mse: 0.0022\n",
      "Epoch 16/50\n",
      "\u001b[1m90/90\u001b[0m \u001b[32m━━━━━━━━━━━━━━━━━━━━\u001b[0m\u001b[37m\u001b[0m \u001b[1m0s\u001b[0m 2ms/step - loss: 9.2692e-05 - mae: 0.0068 - mape: 9900.4414 - mse: 9.2692e-05 - val_loss: 0.0024 - val_mae: 0.0350 - val_mape: 4.9865 - val_mse: 0.0024\n",
      "Epoch 17/50\n",
      "\u001b[1m90/90\u001b[0m \u001b[32m━━━━━━━━━━━━━━━━━━━━\u001b[0m\u001b[37m\u001b[0m \u001b[1m0s\u001b[0m 2ms/step - loss: 8.4062e-05 - mae: 0.0066 - mape: 1582.6523 - mse: 8.4062e-05 - val_loss: 0.0026 - val_mae: 0.0371 - val_mape: 5.2975 - val_mse: 0.0026\n",
      "Epoch 18/50\n",
      "\u001b[1m90/90\u001b[0m \u001b[32m━━━━━━━━━━━━━━━━━━━━\u001b[0m\u001b[37m\u001b[0m \u001b[1m0s\u001b[0m 2ms/step - loss: 8.5196e-05 - mae: 0.0068 - mape: 2862.7170 - mse: 8.5196e-05 - val_loss: 0.0022 - val_mae: 0.0331 - val_mape: 4.7098 - val_mse: 0.0022\n",
      "Epoch 19/50\n",
      "\u001b[1m90/90\u001b[0m \u001b[32m━━━━━━━━━━━━━━━━━━━━\u001b[0m\u001b[37m\u001b[0m \u001b[1m0s\u001b[0m 2ms/step - loss: 8.5016e-05 - mae: 0.0067 - mape: 11424.2080 - mse: 8.5016e-05 - val_loss: 0.0021 - val_mae: 0.0319 - val_mape: 4.5477 - val_mse: 0.0021\n",
      "Epoch 20/50\n",
      "\u001b[1m90/90\u001b[0m \u001b[32m━━━━━━━━━━━━━━━━━━━━\u001b[0m\u001b[37m\u001b[0m \u001b[1m0s\u001b[0m 2ms/step - loss: 9.2984e-05 - mae: 0.0069 - mape: 10323.2500 - mse: 9.2984e-05 - val_loss: 0.0022 - val_mae: 0.0337 - val_mape: 4.8039 - val_mse: 0.0022\n",
      "Epoch 21/50\n",
      "\u001b[1m90/90\u001b[0m \u001b[32m━━━━━━━━━━━━━━━━━━━━\u001b[0m\u001b[37m\u001b[0m \u001b[1m0s\u001b[0m 2ms/step - loss: 8.0449e-05 - mae: 0.0066 - mape: 3107.2439 - mse: 8.0449e-05 - val_loss: 0.0021 - val_mae: 0.0322 - val_mape: 4.5742 - val_mse: 0.0021\n",
      "Epoch 22/50\n",
      "\u001b[1m90/90\u001b[0m \u001b[32m━━━━━━━━━━━━━━━━━━━━\u001b[0m\u001b[37m\u001b[0m \u001b[1m0s\u001b[0m 2ms/step - loss: 7.8471e-05 - mae: 0.0063 - mape: 5963.4268 - mse: 7.8471e-05 - val_loss: 0.0024 - val_mae: 0.0351 - val_mape: 4.9744 - val_mse: 0.0024\n",
      "Epoch 23/50\n",
      "\u001b[1m90/90\u001b[0m \u001b[32m━━━━━━━━━━━━━━━━━━━━\u001b[0m\u001b[37m\u001b[0m \u001b[1m0s\u001b[0m 2ms/step - loss: 8.5524e-05 - mae: 0.0067 - mape: 2451.9109 - mse: 8.5524e-05 - val_loss: 0.0025 - val_mae: 0.0363 - val_mape: 5.1502 - val_mse: 0.0025\n",
      "Epoch 24/50\n",
      "\u001b[1m90/90\u001b[0m \u001b[32m━━━━━━━━━━━━━━━━━━━━\u001b[0m\u001b[37m\u001b[0m \u001b[1m0s\u001b[0m 2ms/step - loss: 8.5085e-05 - mae: 0.0066 - mape: 331.3918 - mse: 8.5085e-05 - val_loss: 0.0017 - val_mae: 0.0290 - val_mape: 4.1890 - val_mse: 0.0017\n",
      "Epoch 25/50\n",
      "\u001b[1m90/90\u001b[0m \u001b[32m━━━━━━━━━━━━━━━━━━━━\u001b[0m\u001b[37m\u001b[0m \u001b[1m0s\u001b[0m 2ms/step - loss: 8.0880e-05 - mae: 0.0066 - mape: 3270.5156 - mse: 8.0880e-05 - val_loss: 0.0021 - val_mae: 0.0325 - val_mape: 4.6468 - val_mse: 0.0021\n",
      "Epoch 26/50\n",
      "\u001b[1m90/90\u001b[0m \u001b[32m━━━━━━━━━━━━━━━━━━━━\u001b[0m\u001b[37m\u001b[0m \u001b[1m0s\u001b[0m 2ms/step - loss: 8.2967e-05 - mae: 0.0065 - mape: 1933.7400 - mse: 8.2967e-05 - val_loss: 0.0018 - val_mae: 0.0302 - val_mape: 4.3307 - val_mse: 0.0018\n",
      "Epoch 27/50\n",
      "\u001b[1m90/90\u001b[0m \u001b[32m━━━━━━━━━━━━━━━━━━━━\u001b[0m\u001b[37m\u001b[0m \u001b[1m0s\u001b[0m 3ms/step - loss: 7.6102e-05 - mae: 0.0065 - mape: 159.9878 - mse: 7.6102e-05 - val_loss: 0.0019 - val_mae: 0.0305 - val_mape: 4.3713 - val_mse: 0.0019\n",
      "Epoch 28/50\n",
      "\u001b[1m90/90\u001b[0m \u001b[32m━━━━━━━━━━━━━━━━━━━━\u001b[0m\u001b[37m\u001b[0m \u001b[1m0s\u001b[0m 2ms/step - loss: 8.2037e-05 - mae: 0.0067 - mape: 7997.1680 - mse: 8.2037e-05 - val_loss: 0.0019 - val_mae: 0.0308 - val_mape: 4.4073 - val_mse: 0.0019\n",
      "Epoch 29/50\n",
      "\u001b[1m90/90\u001b[0m \u001b[32m━━━━━━━━━━━━━━━━━━━━\u001b[0m\u001b[37m\u001b[0m \u001b[1m0s\u001b[0m 2ms/step - loss: 8.4209e-05 - mae: 0.0068 - mape: 13830.1240 - mse: 8.4209e-05 - val_loss: 0.0020 - val_mae: 0.0315 - val_mape: 4.4977 - val_mse: 0.0020\n",
      "Epoch 30/50\n",
      "\u001b[1m90/90\u001b[0m \u001b[32m━━━━━━━━━━━━━━━━━━━━\u001b[0m\u001b[37m\u001b[0m \u001b[1m0s\u001b[0m 2ms/step - loss: 7.4696e-05 - mae: 0.0064 - mape: 7209.7344 - mse: 7.4696e-05 - val_loss: 0.0019 - val_mae: 0.0306 - val_mape: 4.3859 - val_mse: 0.0019\n",
      "Epoch 31/50\n",
      "\u001b[1m90/90\u001b[0m \u001b[32m━━━━━━━━━━━━━━━━━━━━\u001b[0m\u001b[37m\u001b[0m \u001b[1m0s\u001b[0m 2ms/step - loss: 8.6473e-05 - mae: 0.0071 - mape: 4755.4277 - mse: 8.6473e-05 - val_loss: 0.0020 - val_mae: 0.0318 - val_mape: 4.5358 - val_mse: 0.0020\n",
      "Epoch 32/50\n",
      "\u001b[1m90/90\u001b[0m \u001b[32m━━━━━━━━━━━━━━━━━━━━\u001b[0m\u001b[37m\u001b[0m \u001b[1m0s\u001b[0m 2ms/step - loss: 9.9908e-05 - mae: 0.0069 - mape: 1918.4728 - mse: 9.9908e-05 - val_loss: 0.0014 - val_mae: 0.0257 - val_mape: 3.7750 - val_mse: 0.0014\n",
      "Epoch 33/50\n",
      "\u001b[1m90/90\u001b[0m \u001b[32m━━━━━━━━━━━━━━━━━━━━\u001b[0m\u001b[37m\u001b[0m \u001b[1m0s\u001b[0m 2ms/step - loss: 1.0630e-04 - mae: 0.0071 - mape: 1378.6763 - mse: 1.0630e-04 - val_loss: 0.0015 - val_mae: 0.0268 - val_mape: 3.9099 - val_mse: 0.0015\n",
      "Epoch 34/50\n",
      "\u001b[1m90/90\u001b[0m \u001b[32m━━━━━━━━━━━━━━━━━━━━\u001b[0m\u001b[37m\u001b[0m \u001b[1m0s\u001b[0m 2ms/step - loss: 8.4629e-05 - mae: 0.0068 - mape: 3591.3625 - mse: 8.4629e-05 - val_loss: 0.0020 - val_mae: 0.0317 - val_mape: 4.5326 - val_mse: 0.0020\n",
      "Epoch 35/50\n",
      "\u001b[1m90/90\u001b[0m \u001b[32m━━━━━━━━━━━━━━━━━━━━\u001b[0m\u001b[37m\u001b[0m \u001b[1m0s\u001b[0m 2ms/step - loss: 8.3748e-05 - mae: 0.0066 - mape: 574.3109 - mse: 8.3748e-05 - val_loss: 0.0017 - val_mae: 0.0291 - val_mape: 4.1844 - val_mse: 0.0017\n",
      "Epoch 36/50\n",
      "\u001b[1m90/90\u001b[0m \u001b[32m━━━━━━━━━━━━━━━━━━━━\u001b[0m\u001b[37m\u001b[0m \u001b[1m0s\u001b[0m 3ms/step - loss: 7.8963e-05 - mae: 0.0065 - mape: 646.1378 - mse: 7.8963e-05 - val_loss: 0.0012 - val_mae: 0.0242 - val_mape: 3.6950 - val_mse: 0.0012\n",
      "Epoch 37/50\n",
      "\u001b[1m90/90\u001b[0m \u001b[32m━━━━━━━━━━━━━━━━━━━━\u001b[0m\u001b[37m\u001b[0m \u001b[1m0s\u001b[0m 2ms/step - loss: 9.7533e-05 - mae: 0.0071 - mape: 8074.3613 - mse: 9.7533e-05 - val_loss: 0.0018 - val_mae: 0.0305 - val_mape: 4.4227 - val_mse: 0.0018\n",
      "Epoch 38/50\n",
      "\u001b[1m90/90\u001b[0m \u001b[32m━━━━━━━━━━━━━━━━━━━━\u001b[0m\u001b[37m\u001b[0m \u001b[1m0s\u001b[0m 2ms/step - loss: 7.6243e-05 - mae: 0.0065 - mape: 1977.9862 - mse: 7.6243e-05 - val_loss: 0.0017 - val_mae: 0.0295 - val_mape: 4.2469 - val_mse: 0.0017\n",
      "Epoch 39/50\n",
      "\u001b[1m90/90\u001b[0m \u001b[32m━━━━━━━━━━━━━━━━━━━━\u001b[0m\u001b[37m\u001b[0m \u001b[1m0s\u001b[0m 2ms/step - loss: 7.3825e-05 - mae: 0.0065 - mape: 7014.7300 - mse: 7.3825e-05 - val_loss: 0.0019 - val_mae: 0.0309 - val_mape: 4.4273 - val_mse: 0.0019\n",
      "Epoch 40/50\n",
      "\u001b[1m90/90\u001b[0m \u001b[32m━━━━━━━━━━━━━━━━━━━━\u001b[0m\u001b[37m\u001b[0m \u001b[1m0s\u001b[0m 2ms/step - loss: 8.7739e-05 - mae: 0.0068 - mape: 2484.4055 - mse: 8.7739e-05 - val_loss: 0.0014 - val_mae: 0.0262 - val_mape: 3.8350 - val_mse: 0.0014\n",
      "Epoch 41/50\n",
      "\u001b[1m90/90\u001b[0m \u001b[32m━━━━━━━━━━━━━━━━━━━━\u001b[0m\u001b[37m\u001b[0m \u001b[1m0s\u001b[0m 2ms/step - loss: 8.3165e-05 - mae: 0.0067 - mape: 3479.9658 - mse: 8.3165e-05 - val_loss: 0.0014 - val_mae: 0.0259 - val_mape: 3.8021 - val_mse: 0.0014\n",
      "Epoch 42/50\n",
      "\u001b[1m90/90\u001b[0m \u001b[32m━━━━━━━━━━━━━━━━━━━━\u001b[0m\u001b[37m\u001b[0m \u001b[1m0s\u001b[0m 2ms/step - loss: 8.9293e-05 - mae: 0.0068 - mape: 4401.3867 - mse: 8.9293e-05 - val_loss: 0.0014 - val_mae: 0.0270 - val_mape: 3.9305 - val_mse: 0.0014\n",
      "Epoch 43/50\n",
      "\u001b[1m90/90\u001b[0m \u001b[32m━━━━━━━━━━━━━━━━━━━━\u001b[0m\u001b[37m\u001b[0m \u001b[1m0s\u001b[0m 2ms/step - loss: 7.2320e-05 - mae: 0.0064 - mape: 5009.8828 - mse: 7.2320e-05 - val_loss: 0.0018 - val_mae: 0.0300 - val_mape: 4.3147 - val_mse: 0.0018\n",
      "Epoch 44/50\n",
      "\u001b[1m90/90\u001b[0m \u001b[32m━━━━━━━━━━━━━━━━━━━━\u001b[0m\u001b[37m\u001b[0m \u001b[1m0s\u001b[0m 2ms/step - loss: 8.9454e-05 - mae: 0.0069 - mape: 12754.9648 - mse: 8.9454e-05 - val_loss: 0.0014 - val_mae: 0.0261 - val_mape: 3.8111 - val_mse: 0.0014\n",
      "Epoch 45/50\n",
      "\u001b[1m90/90\u001b[0m \u001b[32m━━━━━━━━━━━━━━━━━━━━\u001b[0m\u001b[37m\u001b[0m \u001b[1m0s\u001b[0m 2ms/step - loss: 9.3327e-05 - mae: 0.0070 - mape: 3667.1821 - mse: 9.3327e-05 - val_loss: 0.0015 - val_mae: 0.0276 - val_mape: 4.0109 - val_mse: 0.0015\n",
      "Epoch 46/50\n",
      "\u001b[1m90/90\u001b[0m \u001b[32m━━━━━━━━━━━━━━━━━━━━\u001b[0m\u001b[37m\u001b[0m \u001b[1m0s\u001b[0m 2ms/step - loss: 9.2773e-05 - mae: 0.0073 - mape: 5378.8569 - mse: 9.2773e-05 - val_loss: 0.0016 - val_mae: 0.0293 - val_mape: 4.2400 - val_mse: 0.0016\n",
      "\u001b[1m23/23\u001b[0m \u001b[32m━━━━━━━━━━━━━━━━━━━━\u001b[0m\u001b[37m\u001b[0m \u001b[1m0s\u001b[0m 2ms/step \n",
      "model_3: Processando BBDC4 | Combinação 2...\n",
      "Epoch 1/50\n",
      "\u001b[1m88/88\u001b[0m \u001b[32m━━━━━━━━━━━━━━━━━━━━\u001b[0m\u001b[37m\u001b[0m \u001b[1m1s\u001b[0m 4ms/step - loss: 0.0105 - mae: 0.0659 - mape: 900.3397 - mse: 0.0105 - val_loss: 0.0015 - val_mae: 0.0296 - val_mape: 5.8874 - val_mse: 0.0015\n",
      "Epoch 2/50\n",
      "\u001b[1m88/88\u001b[0m \u001b[32m━━━━━━━━━━━━━━━━━━━━\u001b[0m\u001b[37m\u001b[0m \u001b[1m0s\u001b[0m 2ms/step - loss: 6.3591e-04 - mae: 0.0175 - mape: 13008.9688 - mse: 6.3591e-04 - val_loss: 0.0012 - val_mae: 0.0273 - val_mape: 5.4240 - val_mse: 0.0012\n",
      "Epoch 3/50\n",
      "\u001b[1m88/88\u001b[0m \u001b[32m━━━━━━━━━━━━━━━━━━━━\u001b[0m\u001b[37m\u001b[0m \u001b[1m0s\u001b[0m 2ms/step - loss: 6.0179e-04 - mae: 0.0160 - mape: 65538.3984 - mse: 6.0179e-04 - val_loss: 7.3337e-04 - val_mae: 0.0204 - val_mape: 4.0253 - val_mse: 7.3337e-04\n",
      "Epoch 4/50\n",
      "\u001b[1m88/88\u001b[0m \u001b[32m━━━━━━━━━━━━━━━━━━━━\u001b[0m\u001b[37m\u001b[0m \u001b[1m0s\u001b[0m 2ms/step - loss: 4.4385e-04 - mae: 0.0143 - mape: 737.6769 - mse: 4.4385e-04 - val_loss: 6.8431e-04 - val_mae: 0.0196 - val_mape: 3.8683 - val_mse: 6.8431e-04\n",
      "Epoch 5/50\n",
      "\u001b[1m88/88\u001b[0m \u001b[32m━━━━━━━━━━━━━━━━━━━━\u001b[0m\u001b[37m\u001b[0m \u001b[1m0s\u001b[0m 2ms/step - loss: 4.8347e-04 - mae: 0.0151 - mape: 4968.5122 - mse: 4.8347e-04 - val_loss: 6.2960e-04 - val_mae: 0.0189 - val_mape: 3.7050 - val_mse: 6.2960e-04\n",
      "Epoch 6/50\n",
      "\u001b[1m88/88\u001b[0m \u001b[32m━━━━━━━━━━━━━━━━━━━━\u001b[0m\u001b[37m\u001b[0m \u001b[1m0s\u001b[0m 2ms/step - loss: 4.3336e-04 - mae: 0.0146 - mape: 5180.3477 - mse: 4.3336e-04 - val_loss: 6.9580e-04 - val_mae: 0.0199 - val_mape: 3.9366 - val_mse: 6.9580e-04\n",
      "Epoch 7/50\n",
      "\u001b[1m88/88\u001b[0m \u001b[32m━━━━━━━━━━━━━━━━━━━━\u001b[0m\u001b[37m\u001b[0m \u001b[1m0s\u001b[0m 2ms/step - loss: 3.9647e-04 - mae: 0.0141 - mape: 21861.1758 - mse: 3.9647e-04 - val_loss: 6.8789e-04 - val_mae: 0.0197 - val_mape: 3.8860 - val_mse: 6.8789e-04\n",
      "Epoch 8/50\n",
      "\u001b[1m88/88\u001b[0m \u001b[32m━━━━━━━━━━━━━━━━━━━━\u001b[0m\u001b[37m\u001b[0m \u001b[1m0s\u001b[0m 2ms/step - loss: 4.8403e-04 - mae: 0.0145 - mape: 13601.7373 - mse: 4.8403e-04 - val_loss: 5.9624e-04 - val_mae: 0.0181 - val_mape: 3.5562 - val_mse: 5.9624e-04\n",
      "Epoch 9/50\n",
      "\u001b[1m88/88\u001b[0m \u001b[32m━━━━━━━━━━━━━━━━━━━━\u001b[0m\u001b[37m\u001b[0m \u001b[1m0s\u001b[0m 2ms/step - loss: 4.4350e-04 - mae: 0.0141 - mape: 12941.2559 - mse: 4.4350e-04 - val_loss: 6.5572e-04 - val_mae: 0.0192 - val_mape: 3.7663 - val_mse: 6.5572e-04\n",
      "Epoch 10/50\n",
      "\u001b[1m88/88\u001b[0m \u001b[32m━━━━━━━━━━━━━━━━━━━━\u001b[0m\u001b[37m\u001b[0m \u001b[1m0s\u001b[0m 2ms/step - loss: 4.3313e-04 - mae: 0.0140 - mape: 4866.9585 - mse: 4.3313e-04 - val_loss: 6.0483e-04 - val_mae: 0.0182 - val_mape: 3.5553 - val_mse: 6.0483e-04\n",
      "Epoch 11/50\n",
      "\u001b[1m88/88\u001b[0m \u001b[32m━━━━━━━━━━━━━━━━━━━━\u001b[0m\u001b[37m\u001b[0m \u001b[1m0s\u001b[0m 2ms/step - loss: 3.7761e-04 - mae: 0.0137 - mape: 9749.8154 - mse: 3.7761e-04 - val_loss: 6.7071e-04 - val_mae: 0.0195 - val_mape: 3.8283 - val_mse: 6.7071e-04\n",
      "Epoch 12/50\n",
      "\u001b[1m88/88\u001b[0m \u001b[32m━━━━━━━━━━━━━━━━━━━━\u001b[0m\u001b[37m\u001b[0m \u001b[1m0s\u001b[0m 2ms/step - loss: 6.3885e-04 - mae: 0.0148 - mape: 2797.8867 - mse: 6.3885e-04 - val_loss: 5.7985e-04 - val_mae: 0.0177 - val_mape: 3.4670 - val_mse: 5.7985e-04\n",
      "Epoch 13/50\n",
      "\u001b[1m88/88\u001b[0m \u001b[32m━━━━━━━━━━━━━━━━━━━━\u001b[0m\u001b[37m\u001b[0m \u001b[1m0s\u001b[0m 2ms/step - loss: 5.0815e-04 - mae: 0.0140 - mape: 9209.7588 - mse: 5.0815e-04 - val_loss: 5.9078e-04 - val_mae: 0.0179 - val_mape: 3.5219 - val_mse: 5.9078e-04\n",
      "Epoch 14/50\n",
      "\u001b[1m88/88\u001b[0m \u001b[32m━━━━━━━━━━━━━━━━━━━━\u001b[0m\u001b[37m\u001b[0m \u001b[1m0s\u001b[0m 2ms/step - loss: 4.2522e-04 - mae: 0.0135 - mape: 2051.8328 - mse: 4.2522e-04 - val_loss: 5.7692e-04 - val_mae: 0.0177 - val_mape: 3.4573 - val_mse: 5.7692e-04\n",
      "Epoch 15/50\n",
      "\u001b[1m88/88\u001b[0m \u001b[32m━━━━━━━━━━━━━━━━━━━━\u001b[0m\u001b[37m\u001b[0m \u001b[1m0s\u001b[0m 2ms/step - loss: 4.4230e-04 - mae: 0.0139 - mape: 3224.0674 - mse: 4.4230e-04 - val_loss: 5.8410e-04 - val_mae: 0.0178 - val_mape: 3.4774 - val_mse: 5.8410e-04\n",
      "Epoch 16/50\n",
      "\u001b[1m88/88\u001b[0m \u001b[32m━━━━━━━━━━━━━━━━━━━━\u001b[0m\u001b[37m\u001b[0m \u001b[1m0s\u001b[0m 2ms/step - loss: 3.3403e-04 - mae: 0.0126 - mape: 704.1240 - mse: 3.3403e-04 - val_loss: 5.6911e-04 - val_mae: 0.0174 - val_mape: 3.4202 - val_mse: 5.6911e-04\n",
      "Epoch 17/50\n",
      "\u001b[1m88/88\u001b[0m \u001b[32m━━━━━━━━━━━━━━━━━━━━\u001b[0m\u001b[37m\u001b[0m \u001b[1m0s\u001b[0m 2ms/step - loss: 3.7376e-04 - mae: 0.0130 - mape: 1609.7506 - mse: 3.7376e-04 - val_loss: 5.8912e-04 - val_mae: 0.0179 - val_mape: 3.5186 - val_mse: 5.8912e-04\n",
      "Epoch 18/50\n",
      "\u001b[1m88/88\u001b[0m \u001b[32m━━━━━━━━━━━━━━━━━━━━\u001b[0m\u001b[37m\u001b[0m \u001b[1m0s\u001b[0m 2ms/step - loss: 4.1685e-04 - mae: 0.0135 - mape: 2623.5039 - mse: 4.1685e-04 - val_loss: 5.5797e-04 - val_mae: 0.0172 - val_mape: 3.3765 - val_mse: 5.5797e-04\n",
      "Epoch 19/50\n",
      "\u001b[1m88/88\u001b[0m \u001b[32m━━━━━━━━━━━━━━━━━━━━\u001b[0m\u001b[37m\u001b[0m \u001b[1m0s\u001b[0m 2ms/step - loss: 3.5456e-04 - mae: 0.0129 - mape: 5516.9927 - mse: 3.5456e-04 - val_loss: 6.2329e-04 - val_mae: 0.0186 - val_mape: 3.6972 - val_mse: 6.2329e-04\n",
      "Epoch 20/50\n",
      "\u001b[1m88/88\u001b[0m \u001b[32m━━━━━━━━━━━━━━━━━━━━\u001b[0m\u001b[37m\u001b[0m \u001b[1m0s\u001b[0m 2ms/step - loss: 4.5951e-04 - mae: 0.0143 - mape: 676.7546 - mse: 4.5951e-04 - val_loss: 5.6277e-04 - val_mae: 0.0173 - val_mape: 3.4155 - val_mse: 5.6277e-04\n",
      "Epoch 21/50\n",
      "\u001b[1m88/88\u001b[0m \u001b[32m━━━━━━━━━━━━━━━━━━━━\u001b[0m\u001b[37m\u001b[0m \u001b[1m0s\u001b[0m 2ms/step - loss: 3.2202e-04 - mae: 0.0124 - mape: 430.0393 - mse: 3.2202e-04 - val_loss: 5.9266e-04 - val_mae: 0.0180 - val_mape: 3.5313 - val_mse: 5.9266e-04\n",
      "Epoch 22/50\n",
      "\u001b[1m88/88\u001b[0m \u001b[32m━━━━━━━━━━━━━━━━━━━━\u001b[0m\u001b[37m\u001b[0m \u001b[1m0s\u001b[0m 2ms/step - loss: 4.0739e-04 - mae: 0.0134 - mape: 9816.9385 - mse: 4.0739e-04 - val_loss: 6.0437e-04 - val_mae: 0.0182 - val_mape: 3.5818 - val_mse: 6.0437e-04\n",
      "Epoch 23/50\n",
      "\u001b[1m88/88\u001b[0m \u001b[32m━━━━━━━━━━━━━━━━━━━━\u001b[0m\u001b[37m\u001b[0m \u001b[1m0s\u001b[0m 2ms/step - loss: 3.5168e-04 - mae: 0.0125 - mape: 78.3301 - mse: 3.5168e-04 - val_loss: 5.5173e-04 - val_mae: 0.0171 - val_mape: 3.3393 - val_mse: 5.5173e-04\n",
      "Epoch 24/50\n",
      "\u001b[1m88/88\u001b[0m \u001b[32m━━━━━━━━━━━━━━━━━━━━\u001b[0m\u001b[37m\u001b[0m \u001b[1m0s\u001b[0m 2ms/step - loss: 3.8679e-04 - mae: 0.0128 - mape: 1595.1182 - mse: 3.8679e-04 - val_loss: 5.5901e-04 - val_mae: 0.0172 - val_mape: 3.3826 - val_mse: 5.5901e-04\n",
      "Epoch 25/50\n",
      "\u001b[1m88/88\u001b[0m \u001b[32m━━━━━━━━━━━━━━━━━━━━\u001b[0m\u001b[37m\u001b[0m \u001b[1m0s\u001b[0m 2ms/step - loss: 4.0449e-04 - mae: 0.0126 - mape: 884.0778 - mse: 4.0449e-04 - val_loss: 5.4884e-04 - val_mae: 0.0170 - val_mape: 3.3346 - val_mse: 5.4884e-04\n",
      "Epoch 26/50\n",
      "\u001b[1m88/88\u001b[0m \u001b[32m━━━━━━━━━━━━━━━━━━━━\u001b[0m\u001b[37m\u001b[0m \u001b[1m0s\u001b[0m 2ms/step - loss: 3.9220e-04 - mae: 0.0136 - mape: 5188.1895 - mse: 3.9220e-04 - val_loss: 5.4901e-04 - val_mae: 0.0171 - val_mape: 3.3572 - val_mse: 5.4901e-04\n",
      "Epoch 27/50\n",
      "\u001b[1m88/88\u001b[0m \u001b[32m━━━━━━━━━━━━━━━━━━━━\u001b[0m\u001b[37m\u001b[0m \u001b[1m0s\u001b[0m 2ms/step - loss: 3.2666e-04 - mae: 0.0122 - mape: 4343.7314 - mse: 3.2666e-04 - val_loss: 5.4599e-04 - val_mae: 0.0171 - val_mape: 3.3396 - val_mse: 5.4599e-04\n",
      "Epoch 28/50\n",
      "\u001b[1m88/88\u001b[0m \u001b[32m━━━━━━━━━━━━━━━━━━━━\u001b[0m\u001b[37m\u001b[0m \u001b[1m0s\u001b[0m 2ms/step - loss: 3.2313e-04 - mae: 0.0124 - mape: 1759.8855 - mse: 3.2313e-04 - val_loss: 6.9630e-04 - val_mae: 0.0202 - val_mape: 3.8752 - val_mse: 6.9630e-04\n",
      "Epoch 29/50\n",
      "\u001b[1m88/88\u001b[0m \u001b[32m━━━━━━━━━━━━━━━━━━━━\u001b[0m\u001b[37m\u001b[0m \u001b[1m0s\u001b[0m 2ms/step - loss: 3.8042e-04 - mae: 0.0133 - mape: 546.4982 - mse: 3.8042e-04 - val_loss: 5.7617e-04 - val_mae: 0.0177 - val_mape: 3.4581 - val_mse: 5.7617e-04\n",
      "Epoch 30/50\n",
      "\u001b[1m88/88\u001b[0m \u001b[32m━━━━━━━━━━━━━━━━━━━━\u001b[0m\u001b[37m\u001b[0m \u001b[1m0s\u001b[0m 2ms/step - loss: 3.2502e-04 - mae: 0.0125 - mape: 371.6572 - mse: 3.2502e-04 - val_loss: 5.3564e-04 - val_mae: 0.0167 - val_mape: 3.2891 - val_mse: 5.3564e-04\n",
      "Epoch 31/50\n",
      "\u001b[1m88/88\u001b[0m \u001b[32m━━━━━━━━━━━━━━━━━━━━\u001b[0m\u001b[37m\u001b[0m \u001b[1m0s\u001b[0m 2ms/step - loss: 2.9674e-04 - mae: 0.0122 - mape: 1638.9861 - mse: 2.9674e-04 - val_loss: 5.7248e-04 - val_mae: 0.0176 - val_mape: 3.4564 - val_mse: 5.7248e-04\n",
      "Epoch 32/50\n",
      "\u001b[1m88/88\u001b[0m \u001b[32m━━━━━━━━━━━━━━━━━━━━\u001b[0m\u001b[37m\u001b[0m \u001b[1m0s\u001b[0m 2ms/step - loss: 3.2985e-04 - mae: 0.0125 - mape: 26.5844 - mse: 3.2985e-04 - val_loss: 5.3851e-04 - val_mae: 0.0169 - val_mape: 3.3168 - val_mse: 5.3851e-04\n",
      "Epoch 33/50\n",
      "\u001b[1m88/88\u001b[0m \u001b[32m━━━━━━━━━━━━━━━━━━━━\u001b[0m\u001b[37m\u001b[0m \u001b[1m0s\u001b[0m 2ms/step - loss: 2.9487e-04 - mae: 0.0120 - mape: 272.3782 - mse: 2.9487e-04 - val_loss: 6.2145e-04 - val_mae: 0.0187 - val_mape: 3.6156 - val_mse: 6.2145e-04\n",
      "Epoch 34/50\n",
      "\u001b[1m88/88\u001b[0m \u001b[32m━━━━━━━━━━━━━━━━━━━━\u001b[0m\u001b[37m\u001b[0m \u001b[1m0s\u001b[0m 2ms/step - loss: 3.3006e-04 - mae: 0.0125 - mape: 2641.8879 - mse: 3.3006e-04 - val_loss: 5.3645e-04 - val_mae: 0.0168 - val_mape: 3.3021 - val_mse: 5.3645e-04\n",
      "Epoch 35/50\n",
      "\u001b[1m88/88\u001b[0m \u001b[32m━━━━━━━━━━━━━━━━━━━━\u001b[0m\u001b[37m\u001b[0m \u001b[1m0s\u001b[0m 3ms/step - loss: 3.5049e-04 - mae: 0.0124 - mape: 4288.2090 - mse: 3.5049e-04 - val_loss: 6.0945e-04 - val_mae: 0.0183 - val_mape: 3.6048 - val_mse: 6.0945e-04\n",
      "Epoch 36/50\n",
      "\u001b[1m88/88\u001b[0m \u001b[32m━━━━━━━━━━━━━━━━━━━━\u001b[0m\u001b[37m\u001b[0m \u001b[1m0s\u001b[0m 3ms/step - loss: 3.3662e-04 - mae: 0.0124 - mape: 2876.1050 - mse: 3.3662e-04 - val_loss: 5.9497e-04 - val_mae: 0.0180 - val_mape: 3.5476 - val_mse: 5.9497e-04\n",
      "Epoch 37/50\n",
      "\u001b[1m88/88\u001b[0m \u001b[32m━━━━━━━━━━━━━━━━━━━━\u001b[0m\u001b[37m\u001b[0m \u001b[1m0s\u001b[0m 2ms/step - loss: 3.8905e-04 - mae: 0.0126 - mape: 4937.7622 - mse: 3.8905e-04 - val_loss: 5.3153e-04 - val_mae: 0.0167 - val_mape: 3.2816 - val_mse: 5.3153e-04\n",
      "Epoch 38/50\n",
      "\u001b[1m88/88\u001b[0m \u001b[32m━━━━━━━━━━━━━━━━━━━━\u001b[0m\u001b[37m\u001b[0m \u001b[1m0s\u001b[0m 2ms/step - loss: 3.2276e-04 - mae: 0.0121 - mape: 13872.7529 - mse: 3.2276e-04 - val_loss: 5.4116e-04 - val_mae: 0.0169 - val_mape: 3.3230 - val_mse: 5.4116e-04\n",
      "Epoch 39/50\n",
      "\u001b[1m88/88\u001b[0m \u001b[32m━━━━━━━━━━━━━━━━━━━━\u001b[0m\u001b[37m\u001b[0m \u001b[1m0s\u001b[0m 2ms/step - loss: 3.3979e-04 - mae: 0.0125 - mape: 4427.7231 - mse: 3.3979e-04 - val_loss: 6.4773e-04 - val_mae: 0.0192 - val_mape: 3.7520 - val_mse: 6.4773e-04\n",
      "Epoch 40/50\n",
      "\u001b[1m88/88\u001b[0m \u001b[32m━━━━━━━━━━━━━━━━━━━━\u001b[0m\u001b[37m\u001b[0m \u001b[1m0s\u001b[0m 2ms/step - loss: 3.4262e-04 - mae: 0.0123 - mape: 470.2874 - mse: 3.4262e-04 - val_loss: 6.7077e-04 - val_mae: 0.0195 - val_mape: 3.8698 - val_mse: 6.7077e-04\n",
      "Epoch 41/50\n",
      "\u001b[1m88/88\u001b[0m \u001b[32m━━━━━━━━━━━━━━━━━━━━\u001b[0m\u001b[37m\u001b[0m \u001b[1m0s\u001b[0m 2ms/step - loss: 3.9429e-04 - mae: 0.0134 - mape: 926.6609 - mse: 3.9429e-04 - val_loss: 5.3057e-04 - val_mae: 0.0168 - val_mape: 3.2887 - val_mse: 5.3057e-04\n",
      "Epoch 42/50\n",
      "\u001b[1m88/88\u001b[0m \u001b[32m━━━━━━━━━━━━━━━━━━━━\u001b[0m\u001b[37m\u001b[0m \u001b[1m0s\u001b[0m 2ms/step - loss: 4.4035e-04 - mae: 0.0137 - mape: 2103.0559 - mse: 4.4035e-04 - val_loss: 5.4224e-04 - val_mae: 0.0169 - val_mape: 3.3432 - val_mse: 5.4224e-04\n",
      "Epoch 43/50\n",
      "\u001b[1m88/88\u001b[0m \u001b[32m━━━━━━━━━━━━━━━━━━━━\u001b[0m\u001b[37m\u001b[0m \u001b[1m0s\u001b[0m 2ms/step - loss: 3.4870e-04 - mae: 0.0128 - mape: 122.7499 - mse: 3.4870e-04 - val_loss: 5.4706e-04 - val_mae: 0.0171 - val_mape: 3.3426 - val_mse: 5.4706e-04\n",
      "Epoch 44/50\n",
      "\u001b[1m88/88\u001b[0m \u001b[32m━━━━━━━━━━━━━━━━━━━━\u001b[0m\u001b[37m\u001b[0m \u001b[1m0s\u001b[0m 2ms/step - loss: 2.8600e-04 - mae: 0.0119 - mape: 1734.0869 - mse: 2.8600e-04 - val_loss: 6.2473e-04 - val_mae: 0.0187 - val_mape: 3.6224 - val_mse: 6.2473e-04\n",
      "Epoch 45/50\n",
      "\u001b[1m88/88\u001b[0m \u001b[32m━━━━━━━━━━━━━━━━━━━━\u001b[0m\u001b[37m\u001b[0m \u001b[1m0s\u001b[0m 2ms/step - loss: 4.2963e-04 - mae: 0.0140 - mape: 89.8478 - mse: 4.2963e-04 - val_loss: 5.8684e-04 - val_mae: 0.0178 - val_mape: 3.5089 - val_mse: 5.8684e-04\n",
      "Epoch 46/50\n",
      "\u001b[1m88/88\u001b[0m \u001b[32m━━━━━━━━━━━━━━━━━━━━\u001b[0m\u001b[37m\u001b[0m \u001b[1m0s\u001b[0m 2ms/step - loss: 3.6492e-04 - mae: 0.0123 - mape: 13908.2959 - mse: 3.6492e-04 - val_loss: 5.9741e-04 - val_mae: 0.0182 - val_mape: 3.5414 - val_mse: 5.9741e-04\n",
      "Epoch 47/50\n",
      "\u001b[1m88/88\u001b[0m \u001b[32m━━━━━━━━━━━━━━━━━━━━\u001b[0m\u001b[37m\u001b[0m \u001b[1m0s\u001b[0m 2ms/step - loss: 3.1602e-04 - mae: 0.0122 - mape: 2319.9387 - mse: 3.1602e-04 - val_loss: 6.0467e-04 - val_mae: 0.0184 - val_mape: 3.5684 - val_mse: 6.0467e-04\n",
      "Epoch 48/50\n",
      "\u001b[1m88/88\u001b[0m \u001b[32m━━━━━━━━━━━━━━━━━━━━\u001b[0m\u001b[37m\u001b[0m \u001b[1m0s\u001b[0m 2ms/step - loss: 3.5013e-04 - mae: 0.0131 - mape: 649.8099 - mse: 3.5013e-04 - val_loss: 5.5493e-04 - val_mae: 0.0172 - val_mape: 3.3922 - val_mse: 5.5493e-04\n",
      "Epoch 49/50\n",
      "\u001b[1m88/88\u001b[0m \u001b[32m━━━━━━━━━━━━━━━━━━━━\u001b[0m\u001b[37m\u001b[0m \u001b[1m0s\u001b[0m 2ms/step - loss: 2.9514e-04 - mae: 0.0120 - mape: 5992.5371 - mse: 2.9514e-04 - val_loss: 5.9580e-04 - val_mae: 0.0182 - val_mape: 3.5305 - val_mse: 5.9580e-04\n",
      "Epoch 50/50\n",
      "\u001b[1m88/88\u001b[0m \u001b[32m━━━━━━━━━━━━━━━━━━━━\u001b[0m\u001b[37m\u001b[0m \u001b[1m0s\u001b[0m 2ms/step - loss: 3.7014e-04 - mae: 0.0123 - mape: 6327.2432 - mse: 3.7014e-04 - val_loss: 5.4171e-04 - val_mae: 0.0169 - val_mape: 3.3238 - val_mse: 5.4171e-04\n",
      "\u001b[1m22/22\u001b[0m \u001b[32m━━━━━━━━━━━━━━━━━━━━\u001b[0m\u001b[37m\u001b[0m \u001b[1m0s\u001b[0m 2ms/step \n",
      "model_3: Processando ITUB4 | Combinação 2...\n",
      "Epoch 1/50\n",
      "\u001b[1m90/90\u001b[0m \u001b[32m━━━━━━━━━━━━━━━━━━━━\u001b[0m\u001b[37m\u001b[0m \u001b[1m1s\u001b[0m 4ms/step - loss: 0.0321 - mae: 0.1238 - mape: 155440.8594 - mse: 0.0321 - val_loss: 0.0058 - val_mae: 0.0597 - val_mape: 10.3886 - val_mse: 0.0058\n",
      "Epoch 2/50\n",
      "\u001b[1m90/90\u001b[0m \u001b[32m━━━━━━━━━━━━━━━━━━━━\u001b[0m\u001b[37m\u001b[0m \u001b[1m0s\u001b[0m 3ms/step - loss: 0.0012 - mae: 0.0255 - mape: 53474.2422 - mse: 0.0012 - val_loss: 0.0020 - val_mae: 0.0347 - val_mape: 6.0116 - val_mse: 0.0020\n",
      "Epoch 3/50\n",
      "\u001b[1m90/90\u001b[0m \u001b[32m━━━━━━━━━━━━━━━━━━━━\u001b[0m\u001b[37m\u001b[0m \u001b[1m0s\u001b[0m 2ms/step - loss: 5.5719e-04 - mae: 0.0172 - mape: 9840.7842 - mse: 5.5719e-04 - val_loss: 0.0014 - val_mae: 0.0297 - val_mape: 5.1502 - val_mse: 0.0014\n",
      "Epoch 4/50\n",
      "\u001b[1m90/90\u001b[0m \u001b[32m━━━━━━━━━━━━━━━━━━━━\u001b[0m\u001b[37m\u001b[0m \u001b[1m0s\u001b[0m 3ms/step - loss: 3.3981e-04 - mae: 0.0134 - mape: 20419.8262 - mse: 3.3981e-04 - val_loss: 0.0011 - val_mae: 0.0268 - val_mape: 4.6241 - val_mse: 0.0011\n",
      "Epoch 5/50\n",
      "\u001b[1m90/90\u001b[0m \u001b[32m━━━━━━━━━━━━━━━━━━━━\u001b[0m\u001b[37m\u001b[0m \u001b[1m0s\u001b[0m 2ms/step - loss: 2.6785e-04 - mae: 0.0120 - mape: 3666.1475 - mse: 2.6785e-04 - val_loss: 9.8721e-04 - val_mae: 0.0248 - val_mape: 4.2670 - val_mse: 9.8721e-04\n",
      "Epoch 6/50\n",
      "\u001b[1m90/90\u001b[0m \u001b[32m━━━━━━━━━━━━━━━━━━━━\u001b[0m\u001b[37m\u001b[0m \u001b[1m0s\u001b[0m 3ms/step - loss: 2.9189e-04 - mae: 0.0126 - mape: 41262.9766 - mse: 2.9189e-04 - val_loss: 8.8717e-04 - val_mae: 0.0234 - val_mape: 4.0215 - val_mse: 8.8717e-04\n",
      "Epoch 7/50\n",
      "\u001b[1m90/90\u001b[0m \u001b[32m━━━━━━━━━━━━━━━━━━━━\u001b[0m\u001b[37m\u001b[0m \u001b[1m0s\u001b[0m 3ms/step - loss: 2.6000e-04 - mae: 0.0120 - mape: 20707.0664 - mse: 2.6000e-04 - val_loss: 7.7141e-04 - val_mae: 0.0216 - val_mape: 3.7006 - val_mse: 7.7141e-04\n",
      "Epoch 8/50\n",
      "\u001b[1m90/90\u001b[0m \u001b[32m━━━━━━━━━━━━━━━━━━━━\u001b[0m\u001b[37m\u001b[0m \u001b[1m0s\u001b[0m 2ms/step - loss: 2.6671e-04 - mae: 0.0121 - mape: 25895.5176 - mse: 2.6671e-04 - val_loss: 7.3722e-04 - val_mae: 0.0209 - val_mape: 3.5975 - val_mse: 7.3722e-04\n",
      "Epoch 9/50\n",
      "\u001b[1m90/90\u001b[0m \u001b[32m━━━━━━━━━━━━━━━━━━━━\u001b[0m\u001b[37m\u001b[0m \u001b[1m0s\u001b[0m 2ms/step - loss: 2.5759e-04 - mae: 0.0116 - mape: 39780.2500 - mse: 2.5759e-04 - val_loss: 7.5321e-04 - val_mae: 0.0212 - val_mape: 3.6064 - val_mse: 7.5321e-04\n",
      "Epoch 10/50\n",
      "\u001b[1m90/90\u001b[0m \u001b[32m━━━━━━━━━━━━━━━━━━━━\u001b[0m\u001b[37m\u001b[0m \u001b[1m0s\u001b[0m 2ms/step - loss: 2.4538e-04 - mae: 0.0118 - mape: 41575.7500 - mse: 2.4538e-04 - val_loss: 6.6521e-04 - val_mae: 0.0198 - val_mape: 3.3698 - val_mse: 6.6521e-04\n",
      "Epoch 11/50\n",
      "\u001b[1m90/90\u001b[0m \u001b[32m━━━━━━━━━━━━━━━━━━━━\u001b[0m\u001b[37m\u001b[0m \u001b[1m0s\u001b[0m 2ms/step - loss: 2.3538e-04 - mae: 0.0114 - mape: 20642.9688 - mse: 2.3538e-04 - val_loss: 6.5676e-04 - val_mae: 0.0197 - val_mape: 3.3277 - val_mse: 6.5676e-04\n",
      "Epoch 12/50\n",
      "\u001b[1m90/90\u001b[0m \u001b[32m━━━━━━━━━━━━━━━━━━━━\u001b[0m\u001b[37m\u001b[0m \u001b[1m0s\u001b[0m 2ms/step - loss: 2.3637e-04 - mae: 0.0113 - mape: 24801.4590 - mse: 2.3637e-04 - val_loss: 5.5122e-04 - val_mae: 0.0176 - val_mape: 2.9872 - val_mse: 5.5122e-04\n",
      "Epoch 13/50\n",
      "\u001b[1m90/90\u001b[0m \u001b[32m━━━━━━━━━━━━━━━━━━━━\u001b[0m\u001b[37m\u001b[0m \u001b[1m0s\u001b[0m 2ms/step - loss: 2.4709e-04 - mae: 0.0116 - mape: 20917.5078 - mse: 2.4709e-04 - val_loss: 5.6057e-04 - val_mae: 0.0178 - val_mape: 3.0238 - val_mse: 5.6057e-04\n",
      "Epoch 14/50\n",
      "\u001b[1m90/90\u001b[0m \u001b[32m━━━━━━━━━━━━━━━━━━━━\u001b[0m\u001b[37m\u001b[0m \u001b[1m0s\u001b[0m 2ms/step - loss: 2.2414e-04 - mae: 0.0111 - mape: 20086.7852 - mse: 2.2414e-04 - val_loss: 5.4509e-04 - val_mae: 0.0175 - val_mape: 2.9559 - val_mse: 5.4509e-04\n",
      "Epoch 15/50\n",
      "\u001b[1m90/90\u001b[0m \u001b[32m━━━━━━━━━━━━━━━━━━━━\u001b[0m\u001b[37m\u001b[0m \u001b[1m0s\u001b[0m 2ms/step - loss: 2.3291e-04 - mae: 0.0113 - mape: 4092.7385 - mse: 2.3291e-04 - val_loss: 5.1776e-04 - val_mae: 0.0168 - val_mape: 2.8660 - val_mse: 5.1776e-04\n",
      "Epoch 16/50\n",
      "\u001b[1m90/90\u001b[0m \u001b[32m━━━━━━━━━━━━━━━━━━━━\u001b[0m\u001b[37m\u001b[0m \u001b[1m0s\u001b[0m 2ms/step - loss: 2.1882e-04 - mae: 0.0109 - mape: 33625.4180 - mse: 2.1882e-04 - val_loss: 5.1390e-04 - val_mae: 0.0168 - val_mape: 2.8447 - val_mse: 5.1390e-04\n",
      "Epoch 17/50\n",
      "\u001b[1m90/90\u001b[0m \u001b[32m━━━━━━━━━━━━━━━━━━━━\u001b[0m\u001b[37m\u001b[0m \u001b[1m0s\u001b[0m 3ms/step - loss: 2.3680e-04 - mae: 0.0118 - mape: 16533.1602 - mse: 2.3680e-04 - val_loss: 4.7859e-04 - val_mae: 0.0161 - val_mape: 2.7321 - val_mse: 4.7859e-04\n",
      "Epoch 18/50\n",
      "\u001b[1m90/90\u001b[0m \u001b[32m━━━━━━━━━━━━━━━━━━━━\u001b[0m\u001b[37m\u001b[0m \u001b[1m0s\u001b[0m 2ms/step - loss: 2.0789e-04 - mae: 0.0108 - mape: 10283.9775 - mse: 2.0789e-04 - val_loss: 4.7405e-04 - val_mae: 0.0160 - val_mape: 2.7100 - val_mse: 4.7405e-04\n",
      "Epoch 19/50\n",
      "\u001b[1m90/90\u001b[0m \u001b[32m━━━━━━━━━━━━━━━━━━━━\u001b[0m\u001b[37m\u001b[0m \u001b[1m0s\u001b[0m 2ms/step - loss: 2.4010e-04 - mae: 0.0115 - mape: 55664.8398 - mse: 2.4010e-04 - val_loss: 4.9868e-04 - val_mae: 0.0165 - val_mape: 2.8010 - val_mse: 4.9868e-04\n",
      "Epoch 20/50\n",
      "\u001b[1m90/90\u001b[0m \u001b[32m━━━━━━━━━━━━━━━━━━━━\u001b[0m\u001b[37m\u001b[0m \u001b[1m0s\u001b[0m 2ms/step - loss: 2.2833e-04 - mae: 0.0114 - mape: 19958.5566 - mse: 2.2833e-04 - val_loss: 4.6289e-04 - val_mae: 0.0157 - val_mape: 2.6609 - val_mse: 4.6289e-04\n",
      "Epoch 21/50\n",
      "\u001b[1m90/90\u001b[0m \u001b[32m━━━━━━━━━━━━━━━━━━━━\u001b[0m\u001b[37m\u001b[0m \u001b[1m0s\u001b[0m 2ms/step - loss: 2.0353e-04 - mae: 0.0107 - mape: 66897.3906 - mse: 2.0353e-04 - val_loss: 4.6560e-04 - val_mae: 0.0158 - val_mape: 2.6710 - val_mse: 4.6560e-04\n",
      "Epoch 22/50\n",
      "\u001b[1m90/90\u001b[0m \u001b[32m━━━━━━━━━━━━━━━━━━━━\u001b[0m\u001b[37m\u001b[0m \u001b[1m0s\u001b[0m 2ms/step - loss: 2.0335e-04 - mae: 0.0105 - mape: 35841.8516 - mse: 2.0335e-04 - val_loss: 4.4641e-04 - val_mae: 0.0154 - val_mape: 2.5992 - val_mse: 4.4641e-04\n",
      "Epoch 23/50\n",
      "\u001b[1m90/90\u001b[0m \u001b[32m━━━━━━━━━━━━━━━━━━━━\u001b[0m\u001b[37m\u001b[0m \u001b[1m0s\u001b[0m 2ms/step - loss: 2.2875e-04 - mae: 0.0110 - mape: 13589.4092 - mse: 2.2875e-04 - val_loss: 4.4908e-04 - val_mae: 0.0154 - val_mape: 2.6090 - val_mse: 4.4908e-04\n",
      "Epoch 24/50\n",
      "\u001b[1m90/90\u001b[0m \u001b[32m━━━━━━━━━━━━━━━━━━━━\u001b[0m\u001b[37m\u001b[0m \u001b[1m0s\u001b[0m 2ms/step - loss: 2.0792e-04 - mae: 0.0108 - mape: 82986.1250 - mse: 2.0792e-04 - val_loss: 5.2496e-04 - val_mae: 0.0172 - val_mape: 2.8644 - val_mse: 5.2496e-04\n",
      "Epoch 25/50\n",
      "\u001b[1m90/90\u001b[0m \u001b[32m━━━━━━━━━━━━━━━━━━━━\u001b[0m\u001b[37m\u001b[0m \u001b[1m0s\u001b[0m 2ms/step - loss: 2.2381e-04 - mae: 0.0111 - mape: 46878.5195 - mse: 2.2381e-04 - val_loss: 4.5969e-04 - val_mae: 0.0157 - val_mape: 2.6444 - val_mse: 4.5969e-04\n",
      "Epoch 26/50\n",
      "\u001b[1m90/90\u001b[0m \u001b[32m━━━━━━━━━━━━━━━━━━━━\u001b[0m\u001b[37m\u001b[0m \u001b[1m0s\u001b[0m 2ms/step - loss: 2.0826e-04 - mae: 0.0107 - mape: 92744.9141 - mse: 2.0826e-04 - val_loss: 4.3267e-04 - val_mae: 0.0152 - val_mape: 2.5541 - val_mse: 4.3267e-04\n",
      "Epoch 27/50\n",
      "\u001b[1m90/90\u001b[0m \u001b[32m━━━━━━━━━━━━━━━━━━━━\u001b[0m\u001b[37m\u001b[0m \u001b[1m0s\u001b[0m 2ms/step - loss: 2.2636e-04 - mae: 0.0111 - mape: 12372.5908 - mse: 2.2636e-04 - val_loss: 4.4102e-04 - val_mae: 0.0153 - val_mape: 2.5792 - val_mse: 4.4102e-04\n",
      "Epoch 28/50\n",
      "\u001b[1m90/90\u001b[0m \u001b[32m━━━━━━━━━━━━━━━━━━━━\u001b[0m\u001b[37m\u001b[0m \u001b[1m0s\u001b[0m 2ms/step - loss: 2.0642e-04 - mae: 0.0103 - mape: 26223.6680 - mse: 2.0642e-04 - val_loss: 4.4532e-04 - val_mae: 0.0156 - val_mape: 2.6465 - val_mse: 4.4532e-04\n",
      "Epoch 29/50\n",
      "\u001b[1m90/90\u001b[0m \u001b[32m━━━━━━━━━━━━━━━━━━━━\u001b[0m\u001b[37m\u001b[0m \u001b[1m0s\u001b[0m 3ms/step - loss: 2.0348e-04 - mae: 0.0108 - mape: 35163.2109 - mse: 2.0348e-04 - val_loss: 4.6070e-04 - val_mae: 0.0160 - val_mape: 2.7163 - val_mse: 4.6070e-04\n",
      "Epoch 30/50\n",
      "\u001b[1m90/90\u001b[0m \u001b[32m━━━━━━━━━━━━━━━━━━━━\u001b[0m\u001b[37m\u001b[0m \u001b[1m0s\u001b[0m 2ms/step - loss: 1.9528e-04 - mae: 0.0103 - mape: 19526.7188 - mse: 1.9528e-04 - val_loss: 4.2436e-04 - val_mae: 0.0150 - val_mape: 2.5284 - val_mse: 4.2436e-04\n",
      "Epoch 31/50\n",
      "\u001b[1m90/90\u001b[0m \u001b[32m━━━━━━━━━━━━━━━━━━━━\u001b[0m\u001b[37m\u001b[0m \u001b[1m0s\u001b[0m 2ms/step - loss: 2.0042e-04 - mae: 0.0106 - mape: 23276.9512 - mse: 2.0042e-04 - val_loss: 4.3594e-04 - val_mae: 0.0152 - val_mape: 2.5560 - val_mse: 4.3594e-04\n",
      "Epoch 32/50\n",
      "\u001b[1m90/90\u001b[0m \u001b[32m━━━━━━━━━━━━━━━━━━━━\u001b[0m\u001b[37m\u001b[0m \u001b[1m0s\u001b[0m 2ms/step - loss: 2.0143e-04 - mae: 0.0106 - mape: 13556.4385 - mse: 2.0143e-04 - val_loss: 4.3119e-04 - val_mae: 0.0152 - val_mape: 2.5457 - val_mse: 4.3119e-04\n",
      "Epoch 33/50\n",
      "\u001b[1m90/90\u001b[0m \u001b[32m━━━━━━━━━━━━━━━━━━━━\u001b[0m\u001b[37m\u001b[0m \u001b[1m0s\u001b[0m 2ms/step - loss: 1.9366e-04 - mae: 0.0103 - mape: 34003.9570 - mse: 1.9366e-04 - val_loss: 5.2309e-04 - val_mae: 0.0172 - val_mape: 2.8764 - val_mse: 5.2309e-04\n",
      "Epoch 34/50\n",
      "\u001b[1m90/90\u001b[0m \u001b[32m━━━━━━━━━━━━━━━━━━━━\u001b[0m\u001b[37m\u001b[0m \u001b[1m0s\u001b[0m 2ms/step - loss: 2.5800e-04 - mae: 0.0123 - mape: 37207.9180 - mse: 2.5800e-04 - val_loss: 4.2793e-04 - val_mae: 0.0151 - val_mape: 2.5341 - val_mse: 4.2793e-04\n",
      "Epoch 35/50\n",
      "\u001b[1m90/90\u001b[0m \u001b[32m━━━━━━━━━━━━━━━━━━━━\u001b[0m\u001b[37m\u001b[0m \u001b[1m0s\u001b[0m 2ms/step - loss: 2.0496e-04 - mae: 0.0105 - mape: 24132.4473 - mse: 2.0496e-04 - val_loss: 4.1944e-04 - val_mae: 0.0150 - val_mape: 2.5367 - val_mse: 4.1944e-04\n",
      "Epoch 36/50\n",
      "\u001b[1m90/90\u001b[0m \u001b[32m━━━━━━━━━━━━━━━━━━━━\u001b[0m\u001b[37m\u001b[0m \u001b[1m0s\u001b[0m 2ms/step - loss: 2.0796e-04 - mae: 0.0108 - mape: 16809.4277 - mse: 2.0796e-04 - val_loss: 4.1657e-04 - val_mae: 0.0149 - val_mape: 2.5162 - val_mse: 4.1657e-04\n",
      "Epoch 37/50\n",
      "\u001b[1m90/90\u001b[0m \u001b[32m━━━━━━━━━━━━━━━━━━━━\u001b[0m\u001b[37m\u001b[0m \u001b[1m0s\u001b[0m 2ms/step - loss: 1.9723e-04 - mae: 0.0103 - mape: 46479.0273 - mse: 1.9723e-04 - val_loss: 4.1343e-04 - val_mae: 0.0149 - val_mape: 2.5060 - val_mse: 4.1343e-04\n",
      "Epoch 38/50\n",
      "\u001b[1m90/90\u001b[0m \u001b[32m━━━━━━━━━━━━━━━━━━━━\u001b[0m\u001b[37m\u001b[0m \u001b[1m0s\u001b[0m 2ms/step - loss: 1.9499e-04 - mae: 0.0105 - mape: 20505.3672 - mse: 1.9499e-04 - val_loss: 4.5915e-04 - val_mae: 0.0158 - val_mape: 2.6499 - val_mse: 4.5915e-04\n",
      "Epoch 39/50\n",
      "\u001b[1m90/90\u001b[0m \u001b[32m━━━━━━━━━━━━━━━━━━━━\u001b[0m\u001b[37m\u001b[0m \u001b[1m0s\u001b[0m 2ms/step - loss: 2.0787e-04 - mae: 0.0107 - mape: 9093.7900 - mse: 2.0787e-04 - val_loss: 4.6158e-04 - val_mae: 0.0161 - val_mape: 2.7344 - val_mse: 4.6158e-04\n",
      "Epoch 40/50\n",
      "\u001b[1m90/90\u001b[0m \u001b[32m━━━━━━━━━━━━━━━━━━━━\u001b[0m\u001b[37m\u001b[0m \u001b[1m0s\u001b[0m 2ms/step - loss: 2.1788e-04 - mae: 0.0110 - mape: 45750.9727 - mse: 2.1788e-04 - val_loss: 4.1346e-04 - val_mae: 0.0148 - val_mape: 2.4992 - val_mse: 4.1346e-04\n",
      "Epoch 41/50\n",
      "\u001b[1m90/90\u001b[0m \u001b[32m━━━━━━━━━━━━━━━━━━━━\u001b[0m\u001b[37m\u001b[0m \u001b[1m0s\u001b[0m 2ms/step - loss: 1.8974e-04 - mae: 0.0102 - mape: 8609.5127 - mse: 1.8974e-04 - val_loss: 4.6541e-04 - val_mae: 0.0161 - val_mape: 2.7210 - val_mse: 4.6541e-04\n",
      "Epoch 42/50\n",
      "\u001b[1m90/90\u001b[0m \u001b[32m━━━━━━━━━━━━━━━━━━━━\u001b[0m\u001b[37m\u001b[0m \u001b[1m0s\u001b[0m 2ms/step - loss: 2.0294e-04 - mae: 0.0107 - mape: 14909.9082 - mse: 2.0294e-04 - val_loss: 5.0221e-04 - val_mae: 0.0170 - val_mape: 2.8649 - val_mse: 5.0221e-04\n",
      "Epoch 43/50\n",
      "\u001b[1m90/90\u001b[0m \u001b[32m━━━━━━━━━━━━━━━━━━━━\u001b[0m\u001b[37m\u001b[0m \u001b[1m0s\u001b[0m 2ms/step - loss: 2.1195e-04 - mae: 0.0108 - mape: 3092.4077 - mse: 2.1195e-04 - val_loss: 4.2612e-04 - val_mae: 0.0150 - val_mape: 2.5281 - val_mse: 4.2612e-04\n",
      "Epoch 44/50\n",
      "\u001b[1m90/90\u001b[0m \u001b[32m━━━━━━━━━━━━━━━━━━━━\u001b[0m\u001b[37m\u001b[0m \u001b[1m0s\u001b[0m 2ms/step - loss: 2.0690e-04 - mae: 0.0105 - mape: 11545.3721 - mse: 2.0690e-04 - val_loss: 4.1769e-04 - val_mae: 0.0149 - val_mape: 2.5109 - val_mse: 4.1769e-04\n",
      "Epoch 45/50\n",
      "\u001b[1m90/90\u001b[0m \u001b[32m━━━━━━━━━━━━━━━━━━━━\u001b[0m\u001b[37m\u001b[0m \u001b[1m0s\u001b[0m 2ms/step - loss: 2.0222e-04 - mae: 0.0108 - mape: 27618.8105 - mse: 2.0222e-04 - val_loss: 4.3858e-04 - val_mae: 0.0154 - val_mape: 2.5866 - val_mse: 4.3858e-04\n",
      "Epoch 46/50\n",
      "\u001b[1m90/90\u001b[0m \u001b[32m━━━━━━━━━━━━━━━━━━━━\u001b[0m\u001b[37m\u001b[0m \u001b[1m0s\u001b[0m 2ms/step - loss: 1.9378e-04 - mae: 0.0102 - mape: 36570.9961 - mse: 1.9378e-04 - val_loss: 4.1146e-04 - val_mae: 0.0148 - val_mape: 2.4926 - val_mse: 4.1146e-04\n",
      "Epoch 47/50\n",
      "\u001b[1m90/90\u001b[0m \u001b[32m━━━━━━━━━━━━━━━━━━━━\u001b[0m\u001b[37m\u001b[0m \u001b[1m0s\u001b[0m 2ms/step - loss: 1.9205e-04 - mae: 0.0104 - mape: 4748.7910 - mse: 1.9205e-04 - val_loss: 4.1184e-04 - val_mae: 0.0149 - val_mape: 2.5145 - val_mse: 4.1184e-04\n",
      "Epoch 48/50\n",
      "\u001b[1m90/90\u001b[0m \u001b[32m━━━━━━━━━━━━━━━━━━━━\u001b[0m\u001b[37m\u001b[0m \u001b[1m0s\u001b[0m 2ms/step - loss: 2.1099e-04 - mae: 0.0105 - mape: 4412.6973 - mse: 2.1099e-04 - val_loss: 4.4982e-04 - val_mae: 0.0158 - val_mape: 2.6726 - val_mse: 4.4982e-04\n",
      "Epoch 49/50\n",
      "\u001b[1m90/90\u001b[0m \u001b[32m━━━━━━━━━━━━━━━━━━━━\u001b[0m\u001b[37m\u001b[0m \u001b[1m0s\u001b[0m 2ms/step - loss: 1.9132e-04 - mae: 0.0104 - mape: 42699.0703 - mse: 1.9132e-04 - val_loss: 4.8645e-04 - val_mae: 0.0165 - val_mape: 2.7640 - val_mse: 4.8645e-04\n",
      "Epoch 50/50\n",
      "\u001b[1m90/90\u001b[0m \u001b[32m━━━━━━━━━━━━━━━━━━━━\u001b[0m\u001b[37m\u001b[0m \u001b[1m0s\u001b[0m 2ms/step - loss: 2.0042e-04 - mae: 0.0106 - mape: 14075.4990 - mse: 2.0042e-04 - val_loss: 4.0804e-04 - val_mae: 0.0148 - val_mape: 2.4984 - val_mse: 4.0804e-04\n",
      "\u001b[1m23/23\u001b[0m \u001b[32m━━━━━━━━━━━━━━━━━━━━\u001b[0m\u001b[37m\u001b[0m \u001b[1m0s\u001b[0m 2ms/step \n"
     ]
    },
    {
     "name": "stderr",
     "output_type": "stream",
     "text": [
      "Processando combinações:  29%|██▊       | 2/7 [01:17<03:19, 39.93s/it]"
     ]
    },
    {
     "name": "stdout",
     "output_type": "stream",
     "text": [
      "model_3: Processando PETR4 | Combinação 3...\n",
      "Epoch 1/50\n",
      "\u001b[1m90/90\u001b[0m \u001b[32m━━━━━━━━━━━━━━━━━━━━\u001b[0m\u001b[37m\u001b[0m \u001b[1m1s\u001b[0m 4ms/step - loss: 0.1251 - mae: 0.2843 - mape: 6912.0674 - mse: 0.1251 - val_loss: 0.0081 - val_mae: 0.0775 - val_mape: 16.1341 - val_mse: 0.0081\n",
      "Epoch 2/50\n",
      "\u001b[1m90/90\u001b[0m \u001b[32m━━━━━━━━━━━━━━━━━━━━\u001b[0m\u001b[37m\u001b[0m \u001b[1m0s\u001b[0m 2ms/step - loss: 0.0064 - mae: 0.0586 - mape: 332529.6875 - mse: 0.0064 - val_loss: 5.1046e-04 - val_mae: 0.0168 - val_mape: 3.9054 - val_mse: 5.1046e-04\n",
      "Epoch 3/50\n",
      "\u001b[1m90/90\u001b[0m \u001b[32m━━━━━━━━━━━━━━━━━━━━\u001b[0m\u001b[37m\u001b[0m \u001b[1m0s\u001b[0m 2ms/step - loss: 4.2815e-04 - mae: 0.0145 - mape: 22764.9258 - mse: 4.2815e-04 - val_loss: 4.7883e-04 - val_mae: 0.0163 - val_mape: 3.8368 - val_mse: 4.7883e-04\n",
      "Epoch 4/50\n",
      "\u001b[1m90/90\u001b[0m \u001b[32m━━━━━━━━━━━━━━━━━━━━\u001b[0m\u001b[37m\u001b[0m \u001b[1m0s\u001b[0m 2ms/step - loss: 3.4312e-04 - mae: 0.0130 - mape: 32570.7363 - mse: 3.4312e-04 - val_loss: 4.6111e-04 - val_mae: 0.0160 - val_mape: 3.7570 - val_mse: 4.6111e-04\n",
      "Epoch 5/50\n",
      "\u001b[1m90/90\u001b[0m \u001b[32m━━━━━━━━━━━━━━━━━━━━\u001b[0m\u001b[37m\u001b[0m \u001b[1m0s\u001b[0m 2ms/step - loss: 3.3043e-04 - mae: 0.0130 - mape: 32018.7832 - mse: 3.3043e-04 - val_loss: 4.2254e-04 - val_mae: 0.0150 - val_mape: 3.5237 - val_mse: 4.2254e-04\n",
      "Epoch 6/50\n",
      "\u001b[1m90/90\u001b[0m \u001b[32m━━━━━━━━━━━━━━━━━━━━\u001b[0m\u001b[37m\u001b[0m \u001b[1m0s\u001b[0m 2ms/step - loss: 3.0572e-04 - mae: 0.0123 - mape: 79082.9766 - mse: 3.0572e-04 - val_loss: 4.0101e-04 - val_mae: 0.0145 - val_mape: 3.4037 - val_mse: 4.0101e-04\n",
      "Epoch 7/50\n",
      "\u001b[1m90/90\u001b[0m \u001b[32m━━━━━━━━━━━━━━━━━━━━\u001b[0m\u001b[37m\u001b[0m \u001b[1m0s\u001b[0m 2ms/step - loss: 2.6764e-04 - mae: 0.0115 - mape: 43084.2695 - mse: 2.6764e-04 - val_loss: 3.7777e-04 - val_mae: 0.0136 - val_mape: 3.2022 - val_mse: 3.7777e-04\n",
      "Epoch 8/50\n",
      "\u001b[1m90/90\u001b[0m \u001b[32m━━━━━━━━━━━━━━━━━━━━\u001b[0m\u001b[37m\u001b[0m \u001b[1m0s\u001b[0m 2ms/step - loss: 2.5122e-04 - mae: 0.0112 - mape: 4565.0093 - mse: 2.5122e-04 - val_loss: 3.6777e-04 - val_mae: 0.0135 - val_mape: 3.1708 - val_mse: 3.6777e-04\n",
      "Epoch 9/50\n",
      "\u001b[1m90/90\u001b[0m \u001b[32m━━━━━━━━━━━━━━━━━━━━\u001b[0m\u001b[37m\u001b[0m \u001b[1m0s\u001b[0m 2ms/step - loss: 2.1929e-04 - mae: 0.0106 - mape: 31442.8379 - mse: 2.1929e-04 - val_loss: 3.5980e-04 - val_mae: 0.0131 - val_mape: 3.0953 - val_mse: 3.5980e-04\n",
      "Epoch 10/50\n",
      "\u001b[1m90/90\u001b[0m \u001b[32m━━━━━━━━━━━━━━━━━━━━\u001b[0m\u001b[37m\u001b[0m \u001b[1m0s\u001b[0m 2ms/step - loss: 2.4515e-04 - mae: 0.0109 - mape: 2919.8865 - mse: 2.4515e-04 - val_loss: 3.6344e-04 - val_mae: 0.0134 - val_mape: 3.1468 - val_mse: 3.6344e-04\n",
      "Epoch 11/50\n",
      "\u001b[1m90/90\u001b[0m \u001b[32m━━━━━━━━━━━━━━━━━━━━\u001b[0m\u001b[37m\u001b[0m \u001b[1m0s\u001b[0m 2ms/step - loss: 2.2484e-04 - mae: 0.0106 - mape: 569.1203 - mse: 2.2484e-04 - val_loss: 3.5330e-04 - val_mae: 0.0129 - val_mape: 3.0339 - val_mse: 3.5330e-04\n",
      "Epoch 12/50\n",
      "\u001b[1m90/90\u001b[0m \u001b[32m━━━━━━━━━━━━━━━━━━━━\u001b[0m\u001b[37m\u001b[0m \u001b[1m0s\u001b[0m 2ms/step - loss: 2.1428e-04 - mae: 0.0103 - mape: 7965.1504 - mse: 2.1428e-04 - val_loss: 3.5341e-04 - val_mae: 0.0128 - val_mape: 3.0187 - val_mse: 3.5341e-04\n",
      "Epoch 13/50\n",
      "\u001b[1m90/90\u001b[0m \u001b[32m━━━━━━━━━━━━━━━━━━━━\u001b[0m\u001b[37m\u001b[0m \u001b[1m0s\u001b[0m 2ms/step - loss: 2.0411e-04 - mae: 0.0101 - mape: 15355.5391 - mse: 2.0411e-04 - val_loss: 3.4826e-04 - val_mae: 0.0127 - val_mape: 2.9976 - val_mse: 3.4826e-04\n",
      "Epoch 14/50\n",
      "\u001b[1m90/90\u001b[0m \u001b[32m━━━━━━━━━━━━━━━━━━━━\u001b[0m\u001b[37m\u001b[0m \u001b[1m0s\u001b[0m 2ms/step - loss: 1.9587e-04 - mae: 0.0101 - mape: 965.2292 - mse: 1.9587e-04 - val_loss: 3.5200e-04 - val_mae: 0.0127 - val_mape: 3.0055 - val_mse: 3.5200e-04\n",
      "Epoch 15/50\n",
      "\u001b[1m90/90\u001b[0m \u001b[32m━━━━━━━━━━━━━━━━━━━━\u001b[0m\u001b[37m\u001b[0m \u001b[1m0s\u001b[0m 2ms/step - loss: 2.1403e-04 - mae: 0.0102 - mape: 414.2339 - mse: 2.1403e-04 - val_loss: 3.4764e-04 - val_mae: 0.0127 - val_mape: 2.9980 - val_mse: 3.4764e-04\n",
      "Epoch 16/50\n",
      "\u001b[1m90/90\u001b[0m \u001b[32m━━━━━━━━━━━━━━━━━━━━\u001b[0m\u001b[37m\u001b[0m \u001b[1m0s\u001b[0m 2ms/step - loss: 1.9722e-04 - mae: 0.0100 - mape: 15334.9697 - mse: 1.9722e-04 - val_loss: 3.4724e-04 - val_mae: 0.0128 - val_mape: 3.0000 - val_mse: 3.4724e-04\n",
      "Epoch 17/50\n",
      "\u001b[1m90/90\u001b[0m \u001b[32m━━━━━━━━━━━━━━━━━━━━\u001b[0m\u001b[37m\u001b[0m \u001b[1m0s\u001b[0m 2ms/step - loss: 2.0165e-04 - mae: 0.0100 - mape: 18961.7422 - mse: 2.0165e-04 - val_loss: 3.4951e-04 - val_mae: 0.0129 - val_mape: 3.0184 - val_mse: 3.4951e-04\n",
      "Epoch 18/50\n",
      "\u001b[1m90/90\u001b[0m \u001b[32m━━━━━━━━━━━━━━━━━━━━\u001b[0m\u001b[37m\u001b[0m \u001b[1m0s\u001b[0m 2ms/step - loss: 1.9877e-04 - mae: 0.0100 - mape: 25872.6934 - mse: 1.9877e-04 - val_loss: 3.5056e-04 - val_mae: 0.0126 - val_mape: 2.9927 - val_mse: 3.5056e-04\n",
      "Epoch 19/50\n",
      "\u001b[1m90/90\u001b[0m \u001b[32m━━━━━━━━━━━━━━━━━━━━\u001b[0m\u001b[37m\u001b[0m \u001b[1m0s\u001b[0m 2ms/step - loss: 2.0082e-04 - mae: 0.0100 - mape: 474.9567 - mse: 2.0082e-04 - val_loss: 3.4305e-04 - val_mae: 0.0126 - val_mape: 2.9701 - val_mse: 3.4305e-04\n",
      "Epoch 20/50\n",
      "\u001b[1m90/90\u001b[0m \u001b[32m━━━━━━━━━━━━━━━━━━━━\u001b[0m\u001b[37m\u001b[0m \u001b[1m0s\u001b[0m 2ms/step - loss: 1.7930e-04 - mae: 0.0095 - mape: 26204.3477 - mse: 1.7930e-04 - val_loss: 3.6779e-04 - val_mae: 0.0130 - val_mape: 3.0856 - val_mse: 3.6779e-04\n",
      "Epoch 21/50\n",
      "\u001b[1m90/90\u001b[0m \u001b[32m━━━━━━━━━━━━━━━━━━━━\u001b[0m\u001b[37m\u001b[0m \u001b[1m0s\u001b[0m 2ms/step - loss: 1.9226e-04 - mae: 0.0099 - mape: 4240.2461 - mse: 1.9226e-04 - val_loss: 3.4302e-04 - val_mae: 0.0127 - val_mape: 2.9759 - val_mse: 3.4302e-04\n",
      "Epoch 22/50\n",
      "\u001b[1m90/90\u001b[0m \u001b[32m━━━━━━━━━━━━━━━━━━━━\u001b[0m\u001b[37m\u001b[0m \u001b[1m0s\u001b[0m 2ms/step - loss: 1.9948e-04 - mae: 0.0101 - mape: 13022.0811 - mse: 1.9948e-04 - val_loss: 3.6111e-04 - val_mae: 0.0129 - val_mape: 3.0553 - val_mse: 3.6111e-04\n",
      "Epoch 23/50\n",
      "\u001b[1m90/90\u001b[0m \u001b[32m━━━━━━━━━━━━━━━━━━━━\u001b[0m\u001b[37m\u001b[0m \u001b[1m0s\u001b[0m 2ms/step - loss: 1.9048e-04 - mae: 0.0098 - mape: 9885.5078 - mse: 1.9048e-04 - val_loss: 3.6100e-04 - val_mae: 0.0133 - val_mape: 3.0921 - val_mse: 3.6100e-04\n",
      "Epoch 24/50\n",
      "\u001b[1m90/90\u001b[0m \u001b[32m━━━━━━━━━━━━━━━━━━━━\u001b[0m\u001b[37m\u001b[0m \u001b[1m0s\u001b[0m 2ms/step - loss: 1.8442e-04 - mae: 0.0097 - mape: 20323.0273 - mse: 1.8442e-04 - val_loss: 3.5305e-04 - val_mae: 0.0130 - val_mape: 3.0408 - val_mse: 3.5305e-04\n",
      "Epoch 25/50\n",
      "\u001b[1m90/90\u001b[0m \u001b[32m━━━━━━━━━━━━━━━━━━━━\u001b[0m\u001b[37m\u001b[0m \u001b[1m0s\u001b[0m 3ms/step - loss: 1.7602e-04 - mae: 0.0095 - mape: 654.4310 - mse: 1.7602e-04 - val_loss: 3.4295e-04 - val_mae: 0.0127 - val_mape: 2.9801 - val_mse: 3.4295e-04\n",
      "Epoch 26/50\n",
      "\u001b[1m90/90\u001b[0m \u001b[32m━━━━━━━━━━━━━━━━━━━━\u001b[0m\u001b[37m\u001b[0m \u001b[1m0s\u001b[0m 2ms/step - loss: 1.8559e-04 - mae: 0.0100 - mape: 10484.7920 - mse: 1.8559e-04 - val_loss: 3.4153e-04 - val_mae: 0.0126 - val_mape: 2.9630 - val_mse: 3.4153e-04\n",
      "Epoch 27/50\n",
      "\u001b[1m90/90\u001b[0m \u001b[32m━━━━━━━━━━━━━━━━━━━━\u001b[0m\u001b[37m\u001b[0m \u001b[1m0s\u001b[0m 2ms/step - loss: 1.8346e-04 - mae: 0.0097 - mape: 16029.6787 - mse: 1.8346e-04 - val_loss: 3.5032e-04 - val_mae: 0.0127 - val_mape: 3.0033 - val_mse: 3.5032e-04\n",
      "Epoch 28/50\n",
      "\u001b[1m90/90\u001b[0m \u001b[32m━━━━━━━━━━━━━━━━━━━━\u001b[0m\u001b[37m\u001b[0m \u001b[1m0s\u001b[0m 2ms/step - loss: 1.8313e-04 - mae: 0.0098 - mape: 5361.8535 - mse: 1.8313e-04 - val_loss: 3.6706e-04 - val_mae: 0.0135 - val_mape: 3.1378 - val_mse: 3.6706e-04\n",
      "Epoch 29/50\n",
      "\u001b[1m90/90\u001b[0m \u001b[32m━━━━━━━━━━━━━━━━━━━━\u001b[0m\u001b[37m\u001b[0m \u001b[1m0s\u001b[0m 2ms/step - loss: 1.7589e-04 - mae: 0.0096 - mape: 1313.2692 - mse: 1.7589e-04 - val_loss: 3.8118e-04 - val_mae: 0.0134 - val_mape: 3.1719 - val_mse: 3.8118e-04\n",
      "Epoch 30/50\n",
      "\u001b[1m90/90\u001b[0m \u001b[32m━━━━━━━━━━━━━━━━━━━━\u001b[0m\u001b[37m\u001b[0m \u001b[1m0s\u001b[0m 2ms/step - loss: 1.6898e-04 - mae: 0.0095 - mape: 3360.6775 - mse: 1.6898e-04 - val_loss: 3.3706e-04 - val_mae: 0.0124 - val_mape: 2.9284 - val_mse: 3.3706e-04\n",
      "Epoch 31/50\n",
      "\u001b[1m90/90\u001b[0m \u001b[32m━━━━━━━━━━━━━━━━━━━━\u001b[0m\u001b[37m\u001b[0m \u001b[1m0s\u001b[0m 2ms/step - loss: 1.7912e-04 - mae: 0.0096 - mape: 10883.9307 - mse: 1.7912e-04 - val_loss: 3.3362e-04 - val_mae: 0.0123 - val_mape: 2.9101 - val_mse: 3.3362e-04\n",
      "Epoch 32/50\n",
      "\u001b[1m90/90\u001b[0m \u001b[32m━━━━━━━━━━━━━━━━━━━━\u001b[0m\u001b[37m\u001b[0m \u001b[1m0s\u001b[0m 3ms/step - loss: 1.9034e-04 - mae: 0.0098 - mape: 3521.9651 - mse: 1.9034e-04 - val_loss: 3.5845e-04 - val_mae: 0.0129 - val_mape: 3.0700 - val_mse: 3.5845e-04\n",
      "Epoch 33/50\n",
      "\u001b[1m90/90\u001b[0m \u001b[32m━━━━━━━━━━━━━━━━━━━━\u001b[0m\u001b[37m\u001b[0m \u001b[1m0s\u001b[0m 2ms/step - loss: 1.7630e-04 - mae: 0.0095 - mape: 3536.2896 - mse: 1.7630e-04 - val_loss: 3.3389e-04 - val_mae: 0.0123 - val_mape: 2.9093 - val_mse: 3.3389e-04\n",
      "Epoch 34/50\n",
      "\u001b[1m90/90\u001b[0m \u001b[32m━━━━━━━━━━━━━━━━━━━━\u001b[0m\u001b[37m\u001b[0m \u001b[1m0s\u001b[0m 2ms/step - loss: 1.7269e-04 - mae: 0.0094 - mape: 5401.5869 - mse: 1.7269e-04 - val_loss: 3.3802e-04 - val_mae: 0.0125 - val_mape: 2.9311 - val_mse: 3.3802e-04\n",
      "Epoch 35/50\n",
      "\u001b[1m90/90\u001b[0m \u001b[32m━━━━━━━━━━━━━━━━━━━━\u001b[0m\u001b[37m\u001b[0m \u001b[1m0s\u001b[0m 2ms/step - loss: 1.7247e-04 - mae: 0.0094 - mape: 2405.4307 - mse: 1.7247e-04 - val_loss: 3.4798e-04 - val_mae: 0.0126 - val_mape: 2.9912 - val_mse: 3.4798e-04\n",
      "Epoch 36/50\n",
      "\u001b[1m90/90\u001b[0m \u001b[32m━━━━━━━━━━━━━━━━━━━━\u001b[0m\u001b[37m\u001b[0m \u001b[1m0s\u001b[0m 2ms/step - loss: 1.7966e-04 - mae: 0.0095 - mape: 24671.8965 - mse: 1.7966e-04 - val_loss: 3.3272e-04 - val_mae: 0.0123 - val_mape: 2.9036 - val_mse: 3.3272e-04\n",
      "Epoch 37/50\n",
      "\u001b[1m90/90\u001b[0m \u001b[32m━━━━━━━━━━━━━━━━━━━━\u001b[0m\u001b[37m\u001b[0m \u001b[1m0s\u001b[0m 2ms/step - loss: 1.8247e-04 - mae: 0.0097 - mape: 721.2430 - mse: 1.8247e-04 - val_loss: 3.4366e-04 - val_mae: 0.0128 - val_mape: 2.9995 - val_mse: 3.4366e-04\n",
      "Epoch 38/50\n",
      "\u001b[1m90/90\u001b[0m \u001b[32m━━━━━━━━━━━━━━━━━━━━\u001b[0m\u001b[37m\u001b[0m \u001b[1m0s\u001b[0m 2ms/step - loss: 1.7896e-04 - mae: 0.0097 - mape: 7163.8379 - mse: 1.7896e-04 - val_loss: 3.2910e-04 - val_mae: 0.0122 - val_mape: 2.8858 - val_mse: 3.2910e-04\n",
      "Epoch 39/50\n",
      "\u001b[1m90/90\u001b[0m \u001b[32m━━━━━━━━━━━━━━━━━━━━\u001b[0m\u001b[37m\u001b[0m \u001b[1m0s\u001b[0m 2ms/step - loss: 1.8391e-04 - mae: 0.0098 - mape: 21861.8613 - mse: 1.8391e-04 - val_loss: 3.3425e-04 - val_mae: 0.0124 - val_mape: 2.9175 - val_mse: 3.3425e-04\n",
      "Epoch 40/50\n",
      "\u001b[1m90/90\u001b[0m \u001b[32m━━━━━━━━━━━━━━━━━━━━\u001b[0m\u001b[37m\u001b[0m \u001b[1m0s\u001b[0m 2ms/step - loss: 1.7303e-04 - mae: 0.0094 - mape: 795.8051 - mse: 1.7303e-04 - val_loss: 3.4469e-04 - val_mae: 0.0127 - val_mape: 2.9676 - val_mse: 3.4469e-04\n",
      "Epoch 41/50\n",
      "\u001b[1m90/90\u001b[0m \u001b[32m━━━━━━━━━━━━━━━━━━━━\u001b[0m\u001b[37m\u001b[0m \u001b[1m0s\u001b[0m 2ms/step - loss: 1.7544e-04 - mae: 0.0094 - mape: 1513.6837 - mse: 1.7544e-04 - val_loss: 3.3767e-04 - val_mae: 0.0124 - val_mape: 2.9430 - val_mse: 3.3767e-04\n",
      "Epoch 42/50\n",
      "\u001b[1m90/90\u001b[0m \u001b[32m━━━━━━━━━━━━━━━━━━━━\u001b[0m\u001b[37m\u001b[0m \u001b[1m0s\u001b[0m 2ms/step - loss: 1.7979e-04 - mae: 0.0096 - mape: 6322.7271 - mse: 1.7979e-04 - val_loss: 3.2758e-04 - val_mae: 0.0123 - val_mape: 2.8909 - val_mse: 3.2758e-04\n",
      "Epoch 43/50\n",
      "\u001b[1m90/90\u001b[0m \u001b[32m━━━━━━━━━━━━━━━━━━━━\u001b[0m\u001b[37m\u001b[0m \u001b[1m0s\u001b[0m 2ms/step - loss: 1.6571e-04 - mae: 0.0092 - mape: 11420.1592 - mse: 1.6571e-04 - val_loss: 3.2294e-04 - val_mae: 0.0121 - val_mape: 2.8601 - val_mse: 3.2294e-04\n",
      "Epoch 44/50\n",
      "\u001b[1m90/90\u001b[0m \u001b[32m━━━━━━━━━━━━━━━━━━━━\u001b[0m\u001b[37m\u001b[0m \u001b[1m0s\u001b[0m 2ms/step - loss: 1.8097e-04 - mae: 0.0096 - mape: 425.0321 - mse: 1.8097e-04 - val_loss: 4.1421e-04 - val_mae: 0.0143 - val_mape: 3.3754 - val_mse: 4.1421e-04\n",
      "Epoch 45/50\n",
      "\u001b[1m90/90\u001b[0m \u001b[32m━━━━━━━━━━━━━━━━━━━━\u001b[0m\u001b[37m\u001b[0m \u001b[1m0s\u001b[0m 2ms/step - loss: 1.7933e-04 - mae: 0.0096 - mape: 1736.6338 - mse: 1.7933e-04 - val_loss: 3.2332e-04 - val_mae: 0.0121 - val_mape: 2.8654 - val_mse: 3.2332e-04\n",
      "Epoch 46/50\n",
      "\u001b[1m90/90\u001b[0m \u001b[32m━━━━━━━━━━━━━━━━━━━━\u001b[0m\u001b[37m\u001b[0m \u001b[1m0s\u001b[0m 2ms/step - loss: 1.8532e-04 - mae: 0.0094 - mape: 1560.2367 - mse: 1.8532e-04 - val_loss: 3.2586e-04 - val_mae: 0.0122 - val_mape: 2.8687 - val_mse: 3.2586e-04\n",
      "Epoch 47/50\n",
      "\u001b[1m90/90\u001b[0m \u001b[32m━━━━━━━━━━━━━━━━━━━━\u001b[0m\u001b[37m\u001b[0m \u001b[1m0s\u001b[0m 2ms/step - loss: 1.6086e-04 - mae: 0.0091 - mape: 1372.3986 - mse: 1.6086e-04 - val_loss: 3.2482e-04 - val_mae: 0.0122 - val_mape: 2.8788 - val_mse: 3.2482e-04\n",
      "Epoch 48/50\n",
      "\u001b[1m90/90\u001b[0m \u001b[32m━━━━━━━━━━━━━━━━━━━━\u001b[0m\u001b[37m\u001b[0m \u001b[1m0s\u001b[0m 2ms/step - loss: 1.8776e-04 - mae: 0.0096 - mape: 359.6010 - mse: 1.8776e-04 - val_loss: 3.2923e-04 - val_mae: 0.0123 - val_mape: 2.9053 - val_mse: 3.2923e-04\n",
      "Epoch 49/50\n",
      "\u001b[1m90/90\u001b[0m \u001b[32m━━━━━━━━━━━━━━━━━━━━\u001b[0m\u001b[37m\u001b[0m \u001b[1m0s\u001b[0m 2ms/step - loss: 1.6544e-04 - mae: 0.0092 - mape: 5582.6523 - mse: 1.6544e-04 - val_loss: 3.2303e-04 - val_mae: 0.0122 - val_mape: 2.8672 - val_mse: 3.2303e-04\n",
      "Epoch 50/50\n",
      "\u001b[1m90/90\u001b[0m \u001b[32m━━━━━━━━━━━━━━━━━━━━\u001b[0m\u001b[37m\u001b[0m \u001b[1m0s\u001b[0m 2ms/step - loss: 1.6513e-04 - mae: 0.0092 - mape: 1263.0929 - mse: 1.6513e-04 - val_loss: 3.2085e-04 - val_mae: 0.0121 - val_mape: 2.8416 - val_mse: 3.2085e-04\n",
      "\u001b[1m23/23\u001b[0m \u001b[32m━━━━━━━━━━━━━━━━━━━━\u001b[0m\u001b[37m\u001b[0m \u001b[1m0s\u001b[0m 2ms/step \n",
      "model_3: Processando VALE3 | Combinação 3...\n",
      "Epoch 1/50\n",
      "\u001b[1m90/90\u001b[0m \u001b[32m━━━━━━━━━━━━━━━━━━━━\u001b[0m\u001b[37m\u001b[0m \u001b[1m1s\u001b[0m 4ms/step - loss: 0.2668 - mae: 0.4248 - mape: 33243.5000 - mse: 0.2668 - val_loss: 0.1112 - val_mae: 0.2937 - val_mape: 44.2987 - val_mse: 0.1112\n",
      "Epoch 2/50\n",
      "\u001b[1m90/90\u001b[0m \u001b[32m━━━━━━━━━━━━━━━━━━━━\u001b[0m\u001b[37m\u001b[0m \u001b[1m0s\u001b[0m 2ms/step - loss: 0.0078 - mae: 0.0724 - mape: 54761.9883 - mse: 0.0078 - val_loss: 0.0823 - val_mae: 0.2499 - val_mape: 37.3327 - val_mse: 0.0823\n",
      "Epoch 3/50\n",
      "\u001b[1m90/90\u001b[0m \u001b[32m━━━━━━━━━━━━━━━━━━━━\u001b[0m\u001b[37m\u001b[0m \u001b[1m0s\u001b[0m 2ms/step - loss: 0.0053 - mae: 0.0593 - mape: 246696.4375 - mse: 0.0053 - val_loss: 0.0346 - val_mae: 0.1547 - val_mape: 22.3898 - val_mse: 0.0346\n",
      "Epoch 4/50\n",
      "\u001b[1m90/90\u001b[0m \u001b[32m━━━━━━━━━━━━━━━━━━━━\u001b[0m\u001b[37m\u001b[0m \u001b[1m0s\u001b[0m 2ms/step - loss: 0.0016 - mae: 0.0305 - mape: 11266.4053 - mse: 0.0016 - val_loss: 0.0070 - val_mae: 0.0640 - val_mape: 8.9226 - val_mse: 0.0070\n",
      "Epoch 5/50\n",
      "\u001b[1m90/90\u001b[0m \u001b[32m━━━━━━━━━━━━━━━━━━━━\u001b[0m\u001b[37m\u001b[0m \u001b[1m0s\u001b[0m 2ms/step - loss: 1.6594e-04 - mae: 0.0093 - mape: 27351.6230 - mse: 1.6594e-04 - val_loss: 0.0046 - val_mae: 0.0501 - val_mape: 6.9565 - val_mse: 0.0046\n",
      "Epoch 6/50\n",
      "\u001b[1m90/90\u001b[0m \u001b[32m━━━━━━━━━━━━━━━━━━━━\u001b[0m\u001b[37m\u001b[0m \u001b[1m0s\u001b[0m 2ms/step - loss: 1.2221e-04 - mae: 0.0078 - mape: 9169.7490 - mse: 1.2221e-04 - val_loss: 0.0042 - val_mae: 0.0475 - val_mape: 6.6098 - val_mse: 0.0042\n",
      "Epoch 7/50\n",
      "\u001b[1m90/90\u001b[0m \u001b[32m━━━━━━━━━━━━━━━━━━━━\u001b[0m\u001b[37m\u001b[0m \u001b[1m0s\u001b[0m 2ms/step - loss: 9.8819e-05 - mae: 0.0073 - mape: 12934.5312 - mse: 9.8819e-05 - val_loss: 0.0035 - val_mae: 0.0432 - val_mape: 6.0165 - val_mse: 0.0035\n",
      "Epoch 8/50\n",
      "\u001b[1m90/90\u001b[0m \u001b[32m━━━━━━━━━━━━━━━━━━━━\u001b[0m\u001b[37m\u001b[0m \u001b[1m0s\u001b[0m 2ms/step - loss: 1.0421e-04 - mae: 0.0075 - mape: 1792.0043 - mse: 1.0421e-04 - val_loss: 0.0035 - val_mae: 0.0433 - val_mape: 6.0265 - val_mse: 0.0035\n",
      "Epoch 9/50\n",
      "\u001b[1m90/90\u001b[0m \u001b[32m━━━━━━━━━━━━━━━━━━━━\u001b[0m\u001b[37m\u001b[0m \u001b[1m0s\u001b[0m 2ms/step - loss: 1.1766e-04 - mae: 0.0075 - mape: 1126.2990 - mse: 1.1766e-04 - val_loss: 0.0032 - val_mae: 0.0408 - val_mape: 5.6783 - val_mse: 0.0032\n",
      "Epoch 10/50\n",
      "\u001b[1m90/90\u001b[0m \u001b[32m━━━━━━━━━━━━━━━━━━━━\u001b[0m\u001b[37m\u001b[0m \u001b[1m0s\u001b[0m 2ms/step - loss: 9.1460e-05 - mae: 0.0071 - mape: 4954.7861 - mse: 9.1460e-05 - val_loss: 0.0033 - val_mae: 0.0416 - val_mape: 5.8170 - val_mse: 0.0033\n",
      "Epoch 11/50\n",
      "\u001b[1m90/90\u001b[0m \u001b[32m━━━━━━━━━━━━━━━━━━━━\u001b[0m\u001b[37m\u001b[0m \u001b[1m0s\u001b[0m 2ms/step - loss: 9.6967e-05 - mae: 0.0073 - mape: 3145.1580 - mse: 9.6967e-05 - val_loss: 0.0029 - val_mae: 0.0384 - val_mape: 5.3522 - val_mse: 0.0029\n",
      "Epoch 12/50\n",
      "\u001b[1m90/90\u001b[0m \u001b[32m━━━━━━━━━━━━━━━━━━━━\u001b[0m\u001b[37m\u001b[0m \u001b[1m0s\u001b[0m 2ms/step - loss: 9.9127e-05 - mae: 0.0074 - mape: 4369.2305 - mse: 9.9127e-05 - val_loss: 0.0029 - val_mae: 0.0382 - val_mape: 5.3224 - val_mse: 0.0029\n",
      "Epoch 13/50\n",
      "\u001b[1m90/90\u001b[0m \u001b[32m━━━━━━━━━━━━━━━━━━━━\u001b[0m\u001b[37m\u001b[0m \u001b[1m0s\u001b[0m 2ms/step - loss: 9.2590e-05 - mae: 0.0071 - mape: 12680.1270 - mse: 9.2590e-05 - val_loss: 0.0027 - val_mae: 0.0372 - val_mape: 5.1914 - val_mse: 0.0027\n",
      "Epoch 14/50\n",
      "\u001b[1m90/90\u001b[0m \u001b[32m━━━━━━━━━━━━━━━━━━━━\u001b[0m\u001b[37m\u001b[0m \u001b[1m0s\u001b[0m 2ms/step - loss: 1.0046e-04 - mae: 0.0071 - mape: 3170.1279 - mse: 1.0046e-04 - val_loss: 0.0026 - val_mae: 0.0359 - val_mape: 5.0176 - val_mse: 0.0026\n",
      "Epoch 15/50\n",
      "\u001b[1m90/90\u001b[0m \u001b[32m━━━━━━━━━━━━━━━━━━━━\u001b[0m\u001b[37m\u001b[0m \u001b[1m0s\u001b[0m 2ms/step - loss: 9.9559e-05 - mae: 0.0070 - mape: 1212.3438 - mse: 9.9559e-05 - val_loss: 0.0024 - val_mae: 0.0349 - val_mape: 4.8903 - val_mse: 0.0024\n",
      "Epoch 16/50\n",
      "\u001b[1m90/90\u001b[0m \u001b[32m━━━━━━━━━━━━━━━━━━━━\u001b[0m\u001b[37m\u001b[0m \u001b[1m0s\u001b[0m 2ms/step - loss: 1.0637e-04 - mae: 0.0072 - mape: 5539.3711 - mse: 1.0637e-04 - val_loss: 0.0025 - val_mae: 0.0351 - val_mape: 4.9199 - val_mse: 0.0025\n",
      "Epoch 17/50\n",
      "\u001b[1m90/90\u001b[0m \u001b[32m━━━━━━━━━━━━━━━━━━━━\u001b[0m\u001b[37m\u001b[0m \u001b[1m0s\u001b[0m 2ms/step - loss: 8.3597e-05 - mae: 0.0068 - mape: 1776.6931 - mse: 8.3597e-05 - val_loss: 0.0027 - val_mae: 0.0374 - val_mape: 5.2395 - val_mse: 0.0027\n",
      "Epoch 18/50\n",
      "\u001b[1m90/90\u001b[0m \u001b[32m━━━━━━━━━━━━━━━━━━━━\u001b[0m\u001b[37m\u001b[0m \u001b[1m0s\u001b[0m 2ms/step - loss: 8.6592e-05 - mae: 0.0069 - mape: 7201.2231 - mse: 8.6592e-05 - val_loss: 0.0027 - val_mae: 0.0371 - val_mape: 5.2206 - val_mse: 0.0027\n",
      "Epoch 19/50\n",
      "\u001b[1m90/90\u001b[0m \u001b[32m━━━━━━━━━━━━━━━━━━━━\u001b[0m\u001b[37m\u001b[0m \u001b[1m0s\u001b[0m 2ms/step - loss: 9.0249e-05 - mae: 0.0070 - mape: 2693.0237 - mse: 9.0249e-05 - val_loss: 0.0025 - val_mae: 0.0351 - val_mape: 4.9131 - val_mse: 0.0025\n",
      "Epoch 20/50\n",
      "\u001b[1m90/90\u001b[0m \u001b[32m━━━━━━━━━━━━━━━━━━━━\u001b[0m\u001b[37m\u001b[0m \u001b[1m0s\u001b[0m 2ms/step - loss: 7.9617e-05 - mae: 0.0066 - mape: 2489.0266 - mse: 7.9617e-05 - val_loss: 0.0023 - val_mae: 0.0334 - val_mape: 4.6878 - val_mse: 0.0023\n",
      "Epoch 21/50\n",
      "\u001b[1m90/90\u001b[0m \u001b[32m━━━━━━━━━━━━━━━━━━━━\u001b[0m\u001b[37m\u001b[0m \u001b[1m0s\u001b[0m 3ms/step - loss: 8.7275e-05 - mae: 0.0067 - mape: 2262.5591 - mse: 8.7275e-05 - val_loss: 0.0022 - val_mae: 0.0326 - val_mape: 4.5959 - val_mse: 0.0022\n",
      "Epoch 22/50\n",
      "\u001b[1m90/90\u001b[0m \u001b[32m━━━━━━━━━━━━━━━━━━━━\u001b[0m\u001b[37m\u001b[0m \u001b[1m0s\u001b[0m 2ms/step - loss: 9.7825e-05 - mae: 0.0070 - mape: 12893.5283 - mse: 9.7825e-05 - val_loss: 0.0022 - val_mae: 0.0331 - val_mape: 4.6462 - val_mse: 0.0022\n",
      "Epoch 23/50\n",
      "\u001b[1m90/90\u001b[0m \u001b[32m━━━━━━━━━━━━━━━━━━━━\u001b[0m\u001b[37m\u001b[0m \u001b[1m0s\u001b[0m 2ms/step - loss: 9.5288e-05 - mae: 0.0071 - mape: 5620.1250 - mse: 9.5288e-05 - val_loss: 0.0024 - val_mae: 0.0345 - val_mape: 4.8640 - val_mse: 0.0024\n",
      "Epoch 24/50\n",
      "\u001b[1m90/90\u001b[0m \u001b[32m━━━━━━━━━━━━━━━━━━━━\u001b[0m\u001b[37m\u001b[0m \u001b[1m0s\u001b[0m 2ms/step - loss: 8.3687e-05 - mae: 0.0069 - mape: 5352.7363 - mse: 8.3687e-05 - val_loss: 0.0023 - val_mae: 0.0339 - val_mape: 4.7523 - val_mse: 0.0023\n",
      "Epoch 25/50\n",
      "\u001b[1m90/90\u001b[0m \u001b[32m━━━━━━━━━━━━━━━━━━━━\u001b[0m\u001b[37m\u001b[0m \u001b[1m0s\u001b[0m 2ms/step - loss: 8.6215e-05 - mae: 0.0068 - mape: 8479.7998 - mse: 8.6215e-05 - val_loss: 0.0023 - val_mae: 0.0341 - val_mape: 4.7853 - val_mse: 0.0023\n",
      "Epoch 26/50\n",
      "\u001b[1m90/90\u001b[0m \u001b[32m━━━━━━━━━━━━━━━━━━━━\u001b[0m\u001b[37m\u001b[0m \u001b[1m0s\u001b[0m 2ms/step - loss: 9.3114e-05 - mae: 0.0070 - mape: 4672.5498 - mse: 9.3114e-05 - val_loss: 0.0022 - val_mae: 0.0330 - val_mape: 4.6402 - val_mse: 0.0022\n",
      "Epoch 27/50\n",
      "\u001b[1m90/90\u001b[0m \u001b[32m━━━━━━━━━━━━━━━━━━━━\u001b[0m\u001b[37m\u001b[0m \u001b[1m0s\u001b[0m 2ms/step - loss: 8.6566e-05 - mae: 0.0070 - mape: 8117.0713 - mse: 8.6566e-05 - val_loss: 0.0023 - val_mae: 0.0337 - val_mape: 4.7290 - val_mse: 0.0023\n",
      "Epoch 28/50\n",
      "\u001b[1m90/90\u001b[0m \u001b[32m━━━━━━━━━━━━━━━━━━━━\u001b[0m\u001b[37m\u001b[0m \u001b[1m0s\u001b[0m 2ms/step - loss: 8.9164e-05 - mae: 0.0068 - mape: 3265.4167 - mse: 8.9164e-05 - val_loss: 0.0025 - val_mae: 0.0353 - val_mape: 4.9452 - val_mse: 0.0025\n",
      "Epoch 29/50\n",
      "\u001b[1m90/90\u001b[0m \u001b[32m━━━━━━━━━━━━━━━━━━━━\u001b[0m\u001b[37m\u001b[0m \u001b[1m0s\u001b[0m 2ms/step - loss: 8.4409e-05 - mae: 0.0067 - mape: 1504.4011 - mse: 8.4409e-05 - val_loss: 0.0023 - val_mae: 0.0336 - val_mape: 4.7229 - val_mse: 0.0023\n",
      "Epoch 30/50\n",
      "\u001b[1m90/90\u001b[0m \u001b[32m━━━━━━━━━━━━━━━━━━━━\u001b[0m\u001b[37m\u001b[0m \u001b[1m0s\u001b[0m 2ms/step - loss: 9.3472e-05 - mae: 0.0070 - mape: 6524.3643 - mse: 9.3472e-05 - val_loss: 0.0023 - val_mae: 0.0339 - val_mape: 4.7602 - val_mse: 0.0023\n",
      "Epoch 31/50\n",
      "\u001b[1m90/90\u001b[0m \u001b[32m━━━━━━━━━━━━━━━━━━━━\u001b[0m\u001b[37m\u001b[0m \u001b[1m0s\u001b[0m 2ms/step - loss: 8.5640e-05 - mae: 0.0069 - mape: 1559.1819 - mse: 8.5640e-05 - val_loss: 0.0023 - val_mae: 0.0339 - val_mape: 4.7550 - val_mse: 0.0023\n",
      "\u001b[1m23/23\u001b[0m \u001b[32m━━━━━━━━━━━━━━━━━━━━\u001b[0m\u001b[37m\u001b[0m \u001b[1m0s\u001b[0m 2ms/step \n",
      "model_3: Processando BBDC4 | Combinação 3...\n",
      "Epoch 1/50\n",
      "\u001b[1m88/88\u001b[0m \u001b[32m━━━━━━━━━━━━━━━━━━━━\u001b[0m\u001b[37m\u001b[0m \u001b[1m1s\u001b[0m 4ms/step - loss: 0.0237 - mae: 0.0957 - mape: 876.1184 - mse: 0.0237 - val_loss: 0.0012 - val_mae: 0.0274 - val_mape: 5.3086 - val_mse: 0.0012\n",
      "Epoch 2/50\n",
      "\u001b[1m88/88\u001b[0m \u001b[32m━━━━━━━━━━━━━━━━━━━━\u001b[0m\u001b[37m\u001b[0m \u001b[1m0s\u001b[0m 2ms/step - loss: 7.5876e-04 - mae: 0.0192 - mape: 1791.9131 - mse: 7.5876e-04 - val_loss: 9.1474e-04 - val_mae: 0.0227 - val_mape: 4.4128 - val_mse: 9.1474e-04\n",
      "Epoch 3/50\n",
      "\u001b[1m88/88\u001b[0m \u001b[32m━━━━━━━━━━━━━━━━━━━━\u001b[0m\u001b[37m\u001b[0m \u001b[1m0s\u001b[0m 2ms/step - loss: 5.7021e-04 - mae: 0.0168 - mape: 14251.7676 - mse: 5.7021e-04 - val_loss: 8.5551e-04 - val_mae: 0.0220 - val_mape: 4.2914 - val_mse: 8.5551e-04\n",
      "Epoch 4/50\n",
      "\u001b[1m88/88\u001b[0m \u001b[32m━━━━━━━━━━━━━━━━━━━━\u001b[0m\u001b[37m\u001b[0m \u001b[1m0s\u001b[0m 2ms/step - loss: 5.5191e-04 - mae: 0.0162 - mape: 48293.5508 - mse: 5.5191e-04 - val_loss: 6.7953e-04 - val_mae: 0.0191 - val_mape: 3.6976 - val_mse: 6.7953e-04\n",
      "Epoch 5/50\n",
      "\u001b[1m88/88\u001b[0m \u001b[32m━━━━━━━━━━━━━━━━━━━━\u001b[0m\u001b[37m\u001b[0m \u001b[1m0s\u001b[0m 2ms/step - loss: 4.4818e-04 - mae: 0.0150 - mape: 17089.3105 - mse: 4.4818e-04 - val_loss: 6.4531e-04 - val_mae: 0.0185 - val_mape: 3.5795 - val_mse: 6.4531e-04\n",
      "Epoch 6/50\n",
      "\u001b[1m88/88\u001b[0m \u001b[32m━━━━━━━━━━━━━━━━━━━━\u001b[0m\u001b[37m\u001b[0m \u001b[1m0s\u001b[0m 2ms/step - loss: 4.7223e-04 - mae: 0.0147 - mape: 8963.8828 - mse: 4.7223e-04 - val_loss: 7.1804e-04 - val_mae: 0.0201 - val_mape: 3.9168 - val_mse: 7.1804e-04\n",
      "Epoch 7/50\n",
      "\u001b[1m88/88\u001b[0m \u001b[32m━━━━━━━━━━━━━━━━━━━━\u001b[0m\u001b[37m\u001b[0m \u001b[1m0s\u001b[0m 2ms/step - loss: 4.4252e-04 - mae: 0.0149 - mape: 7049.8882 - mse: 4.4252e-04 - val_loss: 6.2267e-04 - val_mae: 0.0182 - val_mape: 3.5417 - val_mse: 6.2267e-04\n",
      "Epoch 8/50\n",
      "\u001b[1m88/88\u001b[0m \u001b[32m━━━━━━━━━━━━━━━━━━━━\u001b[0m\u001b[37m\u001b[0m \u001b[1m0s\u001b[0m 3ms/step - loss: 4.0202e-04 - mae: 0.0140 - mape: 1929.7234 - mse: 4.0202e-04 - val_loss: 6.2303e-04 - val_mae: 0.0182 - val_mape: 3.5470 - val_mse: 6.2303e-04\n",
      "Epoch 9/50\n",
      "\u001b[1m88/88\u001b[0m \u001b[32m━━━━━━━━━━━━━━━━━━━━\u001b[0m\u001b[37m\u001b[0m \u001b[1m0s\u001b[0m 2ms/step - loss: 4.1298e-04 - mae: 0.0141 - mape: 5776.2031 - mse: 4.1298e-04 - val_loss: 6.2159e-04 - val_mae: 0.0181 - val_mape: 3.5039 - val_mse: 6.2159e-04\n",
      "Epoch 10/50\n",
      "\u001b[1m88/88\u001b[0m \u001b[32m━━━━━━━━━━━━━━━━━━━━\u001b[0m\u001b[37m\u001b[0m \u001b[1m0s\u001b[0m 2ms/step - loss: 3.6505e-04 - mae: 0.0135 - mape: 1410.4469 - mse: 3.6505e-04 - val_loss: 6.0748e-04 - val_mae: 0.0179 - val_mape: 3.4761 - val_mse: 6.0748e-04\n",
      "Epoch 11/50\n",
      "\u001b[1m88/88\u001b[0m \u001b[32m━━━━━━━━━━━━━━━━━━━━\u001b[0m\u001b[37m\u001b[0m \u001b[1m0s\u001b[0m 2ms/step - loss: 4.4915e-04 - mae: 0.0141 - mape: 2506.5972 - mse: 4.4915e-04 - val_loss: 9.2073e-04 - val_mae: 0.0239 - val_mape: 4.6035 - val_mse: 9.2073e-04\n",
      "Epoch 12/50\n",
      "\u001b[1m88/88\u001b[0m \u001b[32m━━━━━━━━━━━━━━━━━━━━\u001b[0m\u001b[37m\u001b[0m \u001b[1m0s\u001b[0m 2ms/step - loss: 6.4122e-04 - mae: 0.0149 - mape: 5740.9038 - mse: 6.4122e-04 - val_loss: 6.0471e-04 - val_mae: 0.0179 - val_mape: 3.4646 - val_mse: 6.0471e-04\n",
      "Epoch 13/50\n",
      "\u001b[1m88/88\u001b[0m \u001b[32m━━━━━━━━━━━━━━━━━━━━\u001b[0m\u001b[37m\u001b[0m \u001b[1m0s\u001b[0m 2ms/step - loss: 4.2449e-04 - mae: 0.0138 - mape: 9991.5791 - mse: 4.2449e-04 - val_loss: 6.0296e-04 - val_mae: 0.0178 - val_mape: 3.4692 - val_mse: 6.0296e-04\n",
      "Epoch 14/50\n",
      "\u001b[1m88/88\u001b[0m \u001b[32m━━━━━━━━━━━━━━━━━━━━\u001b[0m\u001b[37m\u001b[0m \u001b[1m0s\u001b[0m 2ms/step - loss: 4.8310e-04 - mae: 0.0144 - mape: 281.1801 - mse: 4.8310e-04 - val_loss: 5.9962e-04 - val_mae: 0.0179 - val_mape: 3.4801 - val_mse: 5.9962e-04\n",
      "Epoch 15/50\n",
      "\u001b[1m88/88\u001b[0m \u001b[32m━━━━━━━━━━━━━━━━━━━━\u001b[0m\u001b[37m\u001b[0m \u001b[1m0s\u001b[0m 2ms/step - loss: 3.6141e-04 - mae: 0.0137 - mape: 6215.4653 - mse: 3.6141e-04 - val_loss: 6.3895e-04 - val_mae: 0.0187 - val_mape: 3.6693 - val_mse: 6.3895e-04\n",
      "Epoch 16/50\n",
      "\u001b[1m88/88\u001b[0m \u001b[32m━━━━━━━━━━━━━━━━━━━━\u001b[0m\u001b[37m\u001b[0m \u001b[1m0s\u001b[0m 2ms/step - loss: 4.5830e-04 - mae: 0.0139 - mape: 3890.1716 - mse: 4.5830e-04 - val_loss: 6.2770e-04 - val_mae: 0.0184 - val_mape: 3.5745 - val_mse: 6.2770e-04\n",
      "Epoch 17/50\n",
      "\u001b[1m88/88\u001b[0m \u001b[32m━━━━━━━━━━━━━━━━━━━━\u001b[0m\u001b[37m\u001b[0m \u001b[1m0s\u001b[0m 3ms/step - loss: 4.2388e-04 - mae: 0.0143 - mape: 611.0204 - mse: 4.2388e-04 - val_loss: 6.1668e-04 - val_mae: 0.0182 - val_mape: 3.5209 - val_mse: 6.1668e-04\n",
      "Epoch 18/50\n",
      "\u001b[1m88/88\u001b[0m \u001b[32m━━━━━━━━━━━━━━━━━━━━\u001b[0m\u001b[37m\u001b[0m \u001b[1m0s\u001b[0m 3ms/step - loss: 3.5263e-04 - mae: 0.0133 - mape: 711.2722 - mse: 3.5263e-04 - val_loss: 7.3415e-04 - val_mae: 0.0206 - val_mape: 3.9702 - val_mse: 7.3415e-04\n",
      "Epoch 19/50\n",
      "\u001b[1m88/88\u001b[0m \u001b[32m━━━━━━━━━━━━━━━━━━━━\u001b[0m\u001b[37m\u001b[0m \u001b[1m0s\u001b[0m 3ms/step - loss: 4.4288e-04 - mae: 0.0138 - mape: 13337.8760 - mse: 4.4288e-04 - val_loss: 5.7186e-04 - val_mae: 0.0174 - val_mape: 3.3886 - val_mse: 5.7186e-04\n",
      "Epoch 20/50\n",
      "\u001b[1m88/88\u001b[0m \u001b[32m━━━━━━━━━━━━━━━━━━━━\u001b[0m\u001b[37m\u001b[0m \u001b[1m0s\u001b[0m 2ms/step - loss: 3.4461e-04 - mae: 0.0127 - mape: 6502.9180 - mse: 3.4461e-04 - val_loss: 5.6311e-04 - val_mae: 0.0174 - val_mape: 3.4181 - val_mse: 5.6311e-04\n",
      "Epoch 21/50\n",
      "\u001b[1m88/88\u001b[0m \u001b[32m━━━━━━━━━━━━━━━━━━━━\u001b[0m\u001b[37m\u001b[0m \u001b[1m0s\u001b[0m 2ms/step - loss: 5.6469e-04 - mae: 0.0136 - mape: 5777.8945 - mse: 5.6469e-04 - val_loss: 5.8921e-04 - val_mae: 0.0178 - val_mape: 3.4932 - val_mse: 5.8921e-04\n",
      "Epoch 22/50\n",
      "\u001b[1m88/88\u001b[0m \u001b[32m━━━━━━━━━━━━━━━━━━━━\u001b[0m\u001b[37m\u001b[0m \u001b[1m0s\u001b[0m 2ms/step - loss: 4.6457e-04 - mae: 0.0143 - mape: 13477.8438 - mse: 4.6457e-04 - val_loss: 6.7145e-04 - val_mae: 0.0195 - val_mape: 3.7259 - val_mse: 6.7145e-04\n",
      "Epoch 23/50\n",
      "\u001b[1m88/88\u001b[0m \u001b[32m━━━━━━━━━━━━━━━━━━━━\u001b[0m\u001b[37m\u001b[0m \u001b[1m0s\u001b[0m 2ms/step - loss: 3.8038e-04 - mae: 0.0135 - mape: 7541.4458 - mse: 3.8038e-04 - val_loss: 6.0600e-04 - val_mae: 0.0182 - val_mape: 3.5369 - val_mse: 6.0600e-04\n",
      "Epoch 24/50\n",
      "\u001b[1m88/88\u001b[0m \u001b[32m━━━━━━━━━━━━━━━━━━━━\u001b[0m\u001b[37m\u001b[0m \u001b[1m0s\u001b[0m 2ms/step - loss: 3.7831e-04 - mae: 0.0133 - mape: 654.8125 - mse: 3.7831e-04 - val_loss: 5.5641e-04 - val_mae: 0.0172 - val_mape: 3.3557 - val_mse: 5.5641e-04\n",
      "Epoch 25/50\n",
      "\u001b[1m88/88\u001b[0m \u001b[32m━━━━━━━━━━━━━━━━━━━━\u001b[0m\u001b[37m\u001b[0m \u001b[1m0s\u001b[0m 2ms/step - loss: 4.6756e-04 - mae: 0.0138 - mape: 594.2141 - mse: 4.6756e-04 - val_loss: 5.9068e-04 - val_mae: 0.0178 - val_mape: 3.4475 - val_mse: 5.9068e-04\n",
      "Epoch 26/50\n",
      "\u001b[1m88/88\u001b[0m \u001b[32m━━━━━━━━━━━━━━━━━━━━\u001b[0m\u001b[37m\u001b[0m \u001b[1m0s\u001b[0m 2ms/step - loss: 4.5030e-04 - mae: 0.0134 - mape: 1128.4906 - mse: 4.5030e-04 - val_loss: 5.4370e-04 - val_mae: 0.0170 - val_mape: 3.3455 - val_mse: 5.4370e-04\n",
      "Epoch 27/50\n",
      "\u001b[1m88/88\u001b[0m \u001b[32m━━━━━━━━━━━━━━━━━━━━\u001b[0m\u001b[37m\u001b[0m \u001b[1m0s\u001b[0m 2ms/step - loss: 3.7488e-04 - mae: 0.0131 - mape: 5051.7993 - mse: 3.7488e-04 - val_loss: 5.9928e-04 - val_mae: 0.0180 - val_mape: 3.5186 - val_mse: 5.9928e-04\n",
      "Epoch 28/50\n",
      "\u001b[1m88/88\u001b[0m \u001b[32m━━━━━━━━━━━━━━━━━━━━\u001b[0m\u001b[37m\u001b[0m \u001b[1m0s\u001b[0m 2ms/step - loss: 3.4635e-04 - mae: 0.0133 - mape: 988.8334 - mse: 3.4635e-04 - val_loss: 6.3591e-04 - val_mae: 0.0185 - val_mape: 3.5877 - val_mse: 6.3591e-04\n",
      "Epoch 29/50\n",
      "\u001b[1m88/88\u001b[0m \u001b[32m━━━━━━━━━━━━━━━━━━━━\u001b[0m\u001b[37m\u001b[0m \u001b[1m0s\u001b[0m 2ms/step - loss: 3.8711e-04 - mae: 0.0129 - mape: 3693.9333 - mse: 3.8711e-04 - val_loss: 6.6424e-04 - val_mae: 0.0195 - val_mape: 3.8462 - val_mse: 6.6424e-04\n",
      "Epoch 30/50\n",
      "\u001b[1m88/88\u001b[0m \u001b[32m━━━━━━━━━━━━━━━━━━━━\u001b[0m\u001b[37m\u001b[0m \u001b[1m0s\u001b[0m 2ms/step - loss: 3.5526e-04 - mae: 0.0130 - mape: 2173.8008 - mse: 3.5526e-04 - val_loss: 5.5997e-04 - val_mae: 0.0173 - val_mape: 3.3881 - val_mse: 5.5997e-04\n",
      "Epoch 31/50\n",
      "\u001b[1m88/88\u001b[0m \u001b[32m━━━━━━━━━━━━━━━━━━━━\u001b[0m\u001b[37m\u001b[0m \u001b[1m0s\u001b[0m 2ms/step - loss: 3.8560e-04 - mae: 0.0130 - mape: 1057.9563 - mse: 3.8560e-04 - val_loss: 5.6172e-04 - val_mae: 0.0173 - val_mape: 3.4013 - val_mse: 5.6172e-04\n",
      "Epoch 32/50\n",
      "\u001b[1m88/88\u001b[0m \u001b[32m━━━━━━━━━━━━━━━━━━━━\u001b[0m\u001b[37m\u001b[0m \u001b[1m0s\u001b[0m 2ms/step - loss: 4.3508e-04 - mae: 0.0138 - mape: 2629.4304 - mse: 4.3508e-04 - val_loss: 5.2797e-04 - val_mae: 0.0166 - val_mape: 3.2534 - val_mse: 5.2797e-04\n",
      "Epoch 33/50\n",
      "\u001b[1m88/88\u001b[0m \u001b[32m━━━━━━━━━━━━━━━━━━━━\u001b[0m\u001b[37m\u001b[0m \u001b[1m0s\u001b[0m 2ms/step - loss: 3.9911e-04 - mae: 0.0131 - mape: 1852.7450 - mse: 3.9911e-04 - val_loss: 6.9566e-04 - val_mae: 0.0198 - val_mape: 3.8494 - val_mse: 6.9566e-04\n",
      "Epoch 34/50\n",
      "\u001b[1m88/88\u001b[0m \u001b[32m━━━━━━━━━━━━━━━━━━━━\u001b[0m\u001b[37m\u001b[0m \u001b[1m0s\u001b[0m 2ms/step - loss: 3.6428e-04 - mae: 0.0127 - mape: 1467.5985 - mse: 3.6428e-04 - val_loss: 5.4521e-04 - val_mae: 0.0170 - val_mape: 3.3187 - val_mse: 5.4521e-04\n",
      "Epoch 35/50\n",
      "\u001b[1m88/88\u001b[0m \u001b[32m━━━━━━━━━━━━━━━━━━━━\u001b[0m\u001b[37m\u001b[0m \u001b[1m0s\u001b[0m 2ms/step - loss: 3.7583e-04 - mae: 0.0128 - mape: 3767.1221 - mse: 3.7583e-04 - val_loss: 5.8042e-04 - val_mae: 0.0178 - val_mape: 3.4425 - val_mse: 5.8042e-04\n",
      "Epoch 36/50\n",
      "\u001b[1m88/88\u001b[0m \u001b[32m━━━━━━━━━━━━━━━━━━━━\u001b[0m\u001b[37m\u001b[0m \u001b[1m0s\u001b[0m 2ms/step - loss: 4.9763e-04 - mae: 0.0132 - mape: 725.2508 - mse: 4.9763e-04 - val_loss: 5.4922e-04 - val_mae: 0.0171 - val_mape: 3.3630 - val_mse: 5.4922e-04\n",
      "Epoch 37/50\n",
      "\u001b[1m88/88\u001b[0m \u001b[32m━━━━━━━━━━━━━━━━━━━━\u001b[0m\u001b[37m\u001b[0m \u001b[1m0s\u001b[0m 2ms/step - loss: 4.0337e-04 - mae: 0.0129 - mape: 1144.5347 - mse: 4.0337e-04 - val_loss: 5.2764e-04 - val_mae: 0.0167 - val_mape: 3.2700 - val_mse: 5.2764e-04\n",
      "Epoch 38/50\n",
      "\u001b[1m88/88\u001b[0m \u001b[32m━━━━━━━━━━━━━━━━━━━━\u001b[0m\u001b[37m\u001b[0m \u001b[1m0s\u001b[0m 2ms/step - loss: 3.9259e-04 - mae: 0.0130 - mape: 1292.5299 - mse: 3.9259e-04 - val_loss: 5.7211e-04 - val_mae: 0.0176 - val_mape: 3.4612 - val_mse: 5.7211e-04\n",
      "Epoch 39/50\n",
      "\u001b[1m88/88\u001b[0m \u001b[32m━━━━━━━━━━━━━━━━━━━━\u001b[0m\u001b[37m\u001b[0m \u001b[1m0s\u001b[0m 2ms/step - loss: 3.3878e-04 - mae: 0.0122 - mape: 2202.4409 - mse: 3.3878e-04 - val_loss: 5.4486e-04 - val_mae: 0.0171 - val_mape: 3.3168 - val_mse: 5.4486e-04\n",
      "Epoch 40/50\n",
      "\u001b[1m88/88\u001b[0m \u001b[32m━━━━━━━━━━━━━━━━━━━━\u001b[0m\u001b[37m\u001b[0m \u001b[1m0s\u001b[0m 2ms/step - loss: 3.5401e-04 - mae: 0.0127 - mape: 8334.0449 - mse: 3.5401e-04 - val_loss: 6.3269e-04 - val_mae: 0.0190 - val_mape: 3.7453 - val_mse: 6.3269e-04\n",
      "Epoch 41/50\n",
      "\u001b[1m88/88\u001b[0m \u001b[32m━━━━━━━━━━━━━━━━━━━━\u001b[0m\u001b[37m\u001b[0m \u001b[1m0s\u001b[0m 2ms/step - loss: 3.5959e-04 - mae: 0.0128 - mape: 1037.3910 - mse: 3.5959e-04 - val_loss: 5.6362e-04 - val_mae: 0.0173 - val_mape: 3.3923 - val_mse: 5.6362e-04\n",
      "Epoch 42/50\n",
      "\u001b[1m88/88\u001b[0m \u001b[32m━━━━━━━━━━━━━━━━━━━━\u001b[0m\u001b[37m\u001b[0m \u001b[1m0s\u001b[0m 2ms/step - loss: 4.1292e-04 - mae: 0.0135 - mape: 581.4196 - mse: 4.1292e-04 - val_loss: 5.2744e-04 - val_mae: 0.0167 - val_mape: 3.2876 - val_mse: 5.2744e-04\n",
      "Epoch 43/50\n",
      "\u001b[1m88/88\u001b[0m \u001b[32m━━━━━━━━━━━━━━━━━━━━\u001b[0m\u001b[37m\u001b[0m \u001b[1m0s\u001b[0m 2ms/step - loss: 4.0046e-04 - mae: 0.0134 - mape: 308.4473 - mse: 4.0046e-04 - val_loss: 6.8422e-04 - val_mae: 0.0200 - val_mape: 3.9249 - val_mse: 6.8422e-04\n",
      "Epoch 44/50\n",
      "\u001b[1m88/88\u001b[0m \u001b[32m━━━━━━━━━━━━━━━━━━━━\u001b[0m\u001b[37m\u001b[0m \u001b[1m0s\u001b[0m 2ms/step - loss: 5.1081e-04 - mae: 0.0137 - mape: 5324.5635 - mse: 5.1081e-04 - val_loss: 5.0488e-04 - val_mae: 0.0162 - val_mape: 3.1853 - val_mse: 5.0488e-04\n",
      "Epoch 45/50\n",
      "\u001b[1m88/88\u001b[0m \u001b[32m━━━━━━━━━━━━━━━━━━━━\u001b[0m\u001b[37m\u001b[0m \u001b[1m0s\u001b[0m 2ms/step - loss: 3.8892e-04 - mae: 0.0122 - mape: 782.7882 - mse: 3.8892e-04 - val_loss: 5.4587e-04 - val_mae: 0.0171 - val_mape: 3.3910 - val_mse: 5.4587e-04\n",
      "Epoch 46/50\n",
      "\u001b[1m88/88\u001b[0m \u001b[32m━━━━━━━━━━━━━━━━━━━━\u001b[0m\u001b[37m\u001b[0m \u001b[1m0s\u001b[0m 2ms/step - loss: 3.1928e-04 - mae: 0.0127 - mape: 777.1312 - mse: 3.1928e-04 - val_loss: 5.1055e-04 - val_mae: 0.0163 - val_mape: 3.2022 - val_mse: 5.1055e-04\n",
      "Epoch 47/50\n",
      "\u001b[1m88/88\u001b[0m \u001b[32m━━━━━━━━━━━━━━━━━━━━\u001b[0m\u001b[37m\u001b[0m \u001b[1m0s\u001b[0m 2ms/step - loss: 2.8951e-04 - mae: 0.0119 - mape: 1212.1620 - mse: 2.8951e-04 - val_loss: 6.2475e-04 - val_mae: 0.0187 - val_mape: 3.6467 - val_mse: 6.2475e-04\n",
      "Epoch 48/50\n",
      "\u001b[1m88/88\u001b[0m \u001b[32m━━━━━━━━━━━━━━━━━━━━\u001b[0m\u001b[37m\u001b[0m \u001b[1m0s\u001b[0m 2ms/step - loss: 3.0325e-04 - mae: 0.0120 - mape: 630.4839 - mse: 3.0325e-04 - val_loss: 7.3036e-04 - val_mae: 0.0206 - val_mape: 3.9761 - val_mse: 7.3036e-04\n",
      "Epoch 49/50\n",
      "\u001b[1m88/88\u001b[0m \u001b[32m━━━━━━━━━━━━━━━━━━━━\u001b[0m\u001b[37m\u001b[0m \u001b[1m0s\u001b[0m 2ms/step - loss: 3.6647e-04 - mae: 0.0136 - mape: 3125.0623 - mse: 3.6647e-04 - val_loss: 5.6233e-04 - val_mae: 0.0175 - val_mape: 3.4127 - val_mse: 5.6233e-04\n",
      "Epoch 50/50\n",
      "\u001b[1m88/88\u001b[0m \u001b[32m━━━━━━━━━━━━━━━━━━━━\u001b[0m\u001b[37m\u001b[0m \u001b[1m0s\u001b[0m 2ms/step - loss: 3.3185e-04 - mae: 0.0124 - mape: 1271.7412 - mse: 3.3185e-04 - val_loss: 5.1233e-04 - val_mae: 0.0165 - val_mape: 3.2680 - val_mse: 5.1233e-04\n",
      "\u001b[1m22/22\u001b[0m \u001b[32m━━━━━━━━━━━━━━━━━━━━\u001b[0m\u001b[37m\u001b[0m \u001b[1m0s\u001b[0m 2ms/step \n",
      "model_3: Processando ITUB4 | Combinação 3...\n",
      "Epoch 1/50\n",
      "\u001b[1m90/90\u001b[0m \u001b[32m━━━━━━━━━━━━━━━━━━━━\u001b[0m\u001b[37m\u001b[0m \u001b[1m1s\u001b[0m 4ms/step - loss: 0.1642 - mae: 0.3075 - mape: 591945.6875 - mse: 0.1642 - val_loss: 0.0025 - val_mae: 0.0377 - val_mape: 6.3996 - val_mse: 0.0025\n",
      "Epoch 2/50\n",
      "\u001b[1m90/90\u001b[0m \u001b[32m━━━━━━━━━━━━━━━━━━━━\u001b[0m\u001b[37m\u001b[0m \u001b[1m0s\u001b[0m 2ms/step - loss: 0.0015 - mae: 0.0280 - mape: 10000.8262 - mse: 0.0015 - val_loss: 0.0016 - val_mae: 0.0311 - val_mape: 5.3912 - val_mse: 0.0016\n",
      "Epoch 3/50\n",
      "\u001b[1m90/90\u001b[0m \u001b[32m━━━━━━━━━━━━━━━━━━━━\u001b[0m\u001b[37m\u001b[0m \u001b[1m0s\u001b[0m 2ms/step - loss: 7.1985e-04 - mae: 0.0195 - mape: 18136.7461 - mse: 7.1985e-04 - val_loss: 0.0014 - val_mae: 0.0298 - val_mape: 5.1460 - val_mse: 0.0014\n",
      "Epoch 4/50\n",
      "\u001b[1m90/90\u001b[0m \u001b[32m━━━━━━━━━━━━━━━━━━━━\u001b[0m\u001b[37m\u001b[0m \u001b[1m0s\u001b[0m 2ms/step - loss: 4.4675e-04 - mae: 0.0157 - mape: 30199.6523 - mse: 4.4675e-04 - val_loss: 0.0010 - val_mae: 0.0248 - val_mape: 4.2448 - val_mse: 0.0010\n",
      "Epoch 5/50\n",
      "\u001b[1m90/90\u001b[0m \u001b[32m━━━━━━━━━━━━━━━━━━━━\u001b[0m\u001b[37m\u001b[0m \u001b[1m0s\u001b[0m 2ms/step - loss: 3.5709e-04 - mae: 0.0139 - mape: 9979.2520 - mse: 3.5709e-04 - val_loss: 8.9526e-04 - val_mae: 0.0230 - val_mape: 3.9302 - val_mse: 8.9526e-04\n",
      "Epoch 6/50\n",
      "\u001b[1m90/90\u001b[0m \u001b[32m━━━━━━━━━━━━━━━━━━━━\u001b[0m\u001b[37m\u001b[0m \u001b[1m0s\u001b[0m 2ms/step - loss: 3.3808e-04 - mae: 0.0133 - mape: 33538.0781 - mse: 3.3808e-04 - val_loss: 8.9611e-04 - val_mae: 0.0233 - val_mape: 3.9967 - val_mse: 8.9611e-04\n",
      "Epoch 7/50\n",
      "\u001b[1m90/90\u001b[0m \u001b[32m━━━━━━━━━━━━━━━━━━━━\u001b[0m\u001b[37m\u001b[0m \u001b[1m0s\u001b[0m 2ms/step - loss: 3.0970e-04 - mae: 0.0130 - mape: 21639.8086 - mse: 3.0970e-04 - val_loss: 6.6840e-04 - val_mae: 0.0196 - val_mape: 3.3525 - val_mse: 6.6840e-04\n",
      "Epoch 8/50\n",
      "\u001b[1m90/90\u001b[0m \u001b[32m━━━━━━━━━━━━━━━━━━━━\u001b[0m\u001b[37m\u001b[0m \u001b[1m0s\u001b[0m 2ms/step - loss: 2.6596e-04 - mae: 0.0121 - mape: 10994.9150 - mse: 2.6596e-04 - val_loss: 6.6249e-04 - val_mae: 0.0196 - val_mape: 3.3627 - val_mse: 6.6249e-04\n",
      "Epoch 9/50\n",
      "\u001b[1m90/90\u001b[0m \u001b[32m━━━━━━━━━━━━━━━━━━━━\u001b[0m\u001b[37m\u001b[0m \u001b[1m0s\u001b[0m 2ms/step - loss: 2.4431e-04 - mae: 0.0118 - mape: 45205.2500 - mse: 2.4431e-04 - val_loss: 5.2405e-04 - val_mae: 0.0170 - val_mape: 2.8974 - val_mse: 5.2405e-04\n",
      "Epoch 10/50\n",
      "\u001b[1m90/90\u001b[0m \u001b[32m━━━━━━━━━━━━━━━━━━━━\u001b[0m\u001b[37m\u001b[0m \u001b[1m0s\u001b[0m 2ms/step - loss: 2.3394e-04 - mae: 0.0114 - mape: 31234.3613 - mse: 2.3394e-04 - val_loss: 5.4791e-04 - val_mae: 0.0176 - val_mape: 3.0068 - val_mse: 5.4791e-04\n",
      "Epoch 11/50\n",
      "\u001b[1m90/90\u001b[0m \u001b[32m━━━━━━━━━━━━━━━━━━━━\u001b[0m\u001b[37m\u001b[0m \u001b[1m0s\u001b[0m 2ms/step - loss: 2.1756e-04 - mae: 0.0110 - mape: 65844.9844 - mse: 2.1756e-04 - val_loss: 4.7881e-04 - val_mae: 0.0162 - val_mape: 2.7577 - val_mse: 4.7881e-04\n",
      "Epoch 12/50\n",
      "\u001b[1m90/90\u001b[0m \u001b[32m━━━━━━━━━━━━━━━━━━━━\u001b[0m\u001b[37m\u001b[0m \u001b[1m0s\u001b[0m 2ms/step - loss: 2.1651e-04 - mae: 0.0109 - mape: 27215.5625 - mse: 2.1651e-04 - val_loss: 4.4453e-04 - val_mae: 0.0155 - val_mape: 2.6248 - val_mse: 4.4453e-04\n",
      "Epoch 13/50\n",
      "\u001b[1m90/90\u001b[0m \u001b[32m━━━━━━━━━━━━━━━━━━━━\u001b[0m\u001b[37m\u001b[0m \u001b[1m0s\u001b[0m 2ms/step - loss: 1.9891e-04 - mae: 0.0107 - mape: 11498.4414 - mse: 1.9891e-04 - val_loss: 4.8240e-04 - val_mae: 0.0164 - val_mape: 2.8021 - val_mse: 4.8240e-04\n",
      "Epoch 14/50\n",
      "\u001b[1m90/90\u001b[0m \u001b[32m━━━━━━━━━━━━━━━━━━━━\u001b[0m\u001b[37m\u001b[0m \u001b[1m0s\u001b[0m 2ms/step - loss: 2.1512e-04 - mae: 0.0110 - mape: 89585.5078 - mse: 2.1512e-04 - val_loss: 4.3211e-04 - val_mae: 0.0153 - val_mape: 2.5921 - val_mse: 4.3211e-04\n",
      "Epoch 15/50\n",
      "\u001b[1m90/90\u001b[0m \u001b[32m━━━━━━━━━━━━━━━━━━━━\u001b[0m\u001b[37m\u001b[0m \u001b[1m0s\u001b[0m 2ms/step - loss: 1.9894e-04 - mae: 0.0107 - mape: 11988.7256 - mse: 1.9894e-04 - val_loss: 4.5038e-04 - val_mae: 0.0158 - val_mape: 2.6846 - val_mse: 4.5038e-04\n",
      "Epoch 16/50\n",
      "\u001b[1m90/90\u001b[0m \u001b[32m━━━━━━━━━━━━━━━━━━━━\u001b[0m\u001b[37m\u001b[0m \u001b[1m0s\u001b[0m 2ms/step - loss: 2.1007e-04 - mae: 0.0109 - mape: 23904.5430 - mse: 2.1007e-04 - val_loss: 4.3042e-04 - val_mae: 0.0153 - val_mape: 2.5965 - val_mse: 4.3042e-04\n",
      "Epoch 17/50\n",
      "\u001b[1m90/90\u001b[0m \u001b[32m━━━━━━━━━━━━━━━━━━━━\u001b[0m\u001b[37m\u001b[0m \u001b[1m0s\u001b[0m 2ms/step - loss: 1.9861e-04 - mae: 0.0105 - mape: 2932.8662 - mse: 1.9861e-04 - val_loss: 4.4291e-04 - val_mae: 0.0156 - val_mape: 2.6503 - val_mse: 4.4291e-04\n",
      "Epoch 18/50\n",
      "\u001b[1m90/90\u001b[0m \u001b[32m━━━━━━━━━━━━━━━━━━━━\u001b[0m\u001b[37m\u001b[0m \u001b[1m0s\u001b[0m 2ms/step - loss: 1.9133e-04 - mae: 0.0105 - mape: 7920.2700 - mse: 1.9133e-04 - val_loss: 4.2685e-04 - val_mae: 0.0153 - val_mape: 2.5795 - val_mse: 4.2685e-04\n",
      "Epoch 19/50\n",
      "\u001b[1m90/90\u001b[0m \u001b[32m━━━━━━━━━━━━━━━━━━━━\u001b[0m\u001b[37m\u001b[0m \u001b[1m0s\u001b[0m 2ms/step - loss: 1.9910e-04 - mae: 0.0105 - mape: 48476.3242 - mse: 1.9910e-04 - val_loss: 4.3761e-04 - val_mae: 0.0155 - val_mape: 2.6334 - val_mse: 4.3761e-04\n",
      "Epoch 20/50\n",
      "\u001b[1m90/90\u001b[0m \u001b[32m━━━━━━━━━━━━━━━━━━━━\u001b[0m\u001b[37m\u001b[0m \u001b[1m0s\u001b[0m 2ms/step - loss: 2.0314e-04 - mae: 0.0107 - mape: 25623.2520 - mse: 2.0314e-04 - val_loss: 4.2502e-04 - val_mae: 0.0152 - val_mape: 2.5674 - val_mse: 4.2502e-04\n",
      "Epoch 21/50\n",
      "\u001b[1m90/90\u001b[0m \u001b[32m━━━━━━━━━━━━━━━━━━━━\u001b[0m\u001b[37m\u001b[0m \u001b[1m0s\u001b[0m 2ms/step - loss: 1.8943e-04 - mae: 0.0104 - mape: 5016.5254 - mse: 1.8943e-04 - val_loss: 4.2469e-04 - val_mae: 0.0152 - val_mape: 2.5636 - val_mse: 4.2469e-04\n",
      "Epoch 22/50\n",
      "\u001b[1m90/90\u001b[0m \u001b[32m━━━━━━━━━━━━━━━━━━━━\u001b[0m\u001b[37m\u001b[0m \u001b[1m0s\u001b[0m 2ms/step - loss: 2.0016e-04 - mae: 0.0107 - mape: 17603.0273 - mse: 2.0016e-04 - val_loss: 4.2760e-04 - val_mae: 0.0153 - val_mape: 2.5721 - val_mse: 4.2760e-04\n",
      "Epoch 23/50\n",
      "\u001b[1m90/90\u001b[0m \u001b[32m━━━━━━━━━━━━━━━━━━━━\u001b[0m\u001b[37m\u001b[0m \u001b[1m0s\u001b[0m 2ms/step - loss: 1.8595e-04 - mae: 0.0102 - mape: 28041.8770 - mse: 1.8595e-04 - val_loss: 4.2533e-04 - val_mae: 0.0152 - val_mape: 2.5653 - val_mse: 4.2533e-04\n",
      "Epoch 24/50\n",
      "\u001b[1m90/90\u001b[0m \u001b[32m━━━━━━━━━━━━━━━━━━━━\u001b[0m\u001b[37m\u001b[0m \u001b[1m0s\u001b[0m 2ms/step - loss: 2.0196e-04 - mae: 0.0106 - mape: 13161.6182 - mse: 2.0196e-04 - val_loss: 4.2579e-04 - val_mae: 0.0153 - val_mape: 2.5728 - val_mse: 4.2579e-04\n",
      "Epoch 25/50\n",
      "\u001b[1m90/90\u001b[0m \u001b[32m━━━━━━━━━━━━━━━━━━━━\u001b[0m\u001b[37m\u001b[0m \u001b[1m0s\u001b[0m 2ms/step - loss: 1.9797e-04 - mae: 0.0105 - mape: 43250.8984 - mse: 1.9797e-04 - val_loss: 4.2101e-04 - val_mae: 0.0152 - val_mape: 2.5642 - val_mse: 4.2101e-04\n",
      "Epoch 26/50\n",
      "\u001b[1m90/90\u001b[0m \u001b[32m━━━━━━━━━━━━━━━━━━━━\u001b[0m\u001b[37m\u001b[0m \u001b[1m0s\u001b[0m 2ms/step - loss: 2.0087e-04 - mae: 0.0105 - mape: 9201.2822 - mse: 2.0087e-04 - val_loss: 4.2477e-04 - val_mae: 0.0153 - val_mape: 2.5869 - val_mse: 4.2477e-04\n",
      "Epoch 27/50\n",
      "\u001b[1m90/90\u001b[0m \u001b[32m━━━━━━━━━━━━━━━━━━━━\u001b[0m\u001b[37m\u001b[0m \u001b[1m0s\u001b[0m 2ms/step - loss: 1.8968e-04 - mae: 0.0104 - mape: 24196.0352 - mse: 1.8968e-04 - val_loss: 4.2478e-04 - val_mae: 0.0152 - val_mape: 2.5547 - val_mse: 4.2478e-04\n",
      "Epoch 28/50\n",
      "\u001b[1m90/90\u001b[0m \u001b[32m━━━━━━━━━━━━━━━━━━━━\u001b[0m\u001b[37m\u001b[0m \u001b[1m0s\u001b[0m 2ms/step - loss: 1.9331e-04 - mae: 0.0102 - mape: 33336.3438 - mse: 1.9331e-04 - val_loss: 4.3042e-04 - val_mae: 0.0155 - val_mape: 2.6291 - val_mse: 4.3042e-04\n",
      "Epoch 29/50\n",
      "\u001b[1m90/90\u001b[0m \u001b[32m━━━━━━━━━━━━━━━━━━━━\u001b[0m\u001b[37m\u001b[0m \u001b[1m0s\u001b[0m 2ms/step - loss: 2.0959e-04 - mae: 0.0107 - mape: 60590.1406 - mse: 2.0959e-04 - val_loss: 4.1906e-04 - val_mae: 0.0151 - val_mape: 2.5457 - val_mse: 4.1906e-04\n",
      "Epoch 30/50\n",
      "\u001b[1m90/90\u001b[0m \u001b[32m━━━━━━━━━━━━━━━━━━━━\u001b[0m\u001b[37m\u001b[0m \u001b[1m0s\u001b[0m 3ms/step - loss: 1.8764e-04 - mae: 0.0102 - mape: 16620.2832 - mse: 1.8764e-04 - val_loss: 4.3325e-04 - val_mae: 0.0153 - val_mape: 2.5712 - val_mse: 4.3325e-04\n",
      "Epoch 31/50\n",
      "\u001b[1m90/90\u001b[0m \u001b[32m━━━━━━━━━━━━━━━━━━━━\u001b[0m\u001b[37m\u001b[0m \u001b[1m0s\u001b[0m 2ms/step - loss: 1.8664e-04 - mae: 0.0101 - mape: 66121.0000 - mse: 1.8664e-04 - val_loss: 4.1800e-04 - val_mae: 0.0151 - val_mape: 2.5576 - val_mse: 4.1800e-04\n",
      "Epoch 32/50\n",
      "\u001b[1m90/90\u001b[0m \u001b[32m━━━━━━━━━━━━━━━━━━━━\u001b[0m\u001b[37m\u001b[0m \u001b[1m0s\u001b[0m 2ms/step - loss: 1.8863e-04 - mae: 0.0102 - mape: 17788.2773 - mse: 1.8863e-04 - val_loss: 4.3735e-04 - val_mae: 0.0154 - val_mape: 2.5813 - val_mse: 4.3735e-04\n",
      "Epoch 33/50\n",
      "\u001b[1m90/90\u001b[0m \u001b[32m━━━━━━━━━━━━━━━━━━━━\u001b[0m\u001b[37m\u001b[0m \u001b[1m0s\u001b[0m 2ms/step - loss: 1.9325e-04 - mae: 0.0104 - mape: 36016.5742 - mse: 1.9325e-04 - val_loss: 4.3319e-04 - val_mae: 0.0154 - val_mape: 2.5683 - val_mse: 4.3319e-04\n",
      "Epoch 34/50\n",
      "\u001b[1m90/90\u001b[0m \u001b[32m━━━━━━━━━━━━━━━━━━━━\u001b[0m\u001b[37m\u001b[0m \u001b[1m0s\u001b[0m 2ms/step - loss: 1.8099e-04 - mae: 0.0101 - mape: 14383.7588 - mse: 1.8099e-04 - val_loss: 4.4832e-04 - val_mae: 0.0157 - val_mape: 2.6096 - val_mse: 4.4832e-04\n",
      "Epoch 35/50\n",
      "\u001b[1m90/90\u001b[0m \u001b[32m━━━━━━━━━━━━━━━━━━━━\u001b[0m\u001b[37m\u001b[0m \u001b[1m0s\u001b[0m 2ms/step - loss: 1.8807e-04 - mae: 0.0103 - mape: 27392.4746 - mse: 1.8807e-04 - val_loss: 4.1582e-04 - val_mae: 0.0150 - val_mape: 2.5301 - val_mse: 4.1582e-04\n",
      "Epoch 36/50\n",
      "\u001b[1m90/90\u001b[0m \u001b[32m━━━━━━━━━━━━━━━━━━━━\u001b[0m\u001b[37m\u001b[0m \u001b[1m0s\u001b[0m 2ms/step - loss: 1.8979e-04 - mae: 0.0102 - mape: 16795.3027 - mse: 1.8979e-04 - val_loss: 4.1184e-04 - val_mae: 0.0150 - val_mape: 2.5339 - val_mse: 4.1184e-04\n",
      "Epoch 37/50\n",
      "\u001b[1m90/90\u001b[0m \u001b[32m━━━━━━━━━━━━━━━━━━━━\u001b[0m\u001b[37m\u001b[0m \u001b[1m0s\u001b[0m 2ms/step - loss: 1.9164e-04 - mae: 0.0102 - mape: 7796.5386 - mse: 1.9164e-04 - val_loss: 4.2747e-04 - val_mae: 0.0153 - val_mape: 2.5602 - val_mse: 4.2747e-04\n",
      "Epoch 38/50\n",
      "\u001b[1m90/90\u001b[0m \u001b[32m━━━━━━━━━━━━━━━━━━━━\u001b[0m\u001b[37m\u001b[0m \u001b[1m0s\u001b[0m 2ms/step - loss: 1.8157e-04 - mae: 0.0099 - mape: 19373.3652 - mse: 1.8157e-04 - val_loss: 4.1285e-04 - val_mae: 0.0151 - val_mape: 2.5486 - val_mse: 4.1285e-04\n",
      "Epoch 39/50\n",
      "\u001b[1m90/90\u001b[0m \u001b[32m━━━━━━━━━━━━━━━━━━━━\u001b[0m\u001b[37m\u001b[0m \u001b[1m0s\u001b[0m 2ms/step - loss: 1.7242e-04 - mae: 0.0098 - mape: 24407.5859 - mse: 1.7242e-04 - val_loss: 4.1320e-04 - val_mae: 0.0149 - val_mape: 2.5193 - val_mse: 4.1320e-04\n",
      "Epoch 40/50\n",
      "\u001b[1m90/90\u001b[0m \u001b[32m━━━━━━━━━━━━━━━━━━━━\u001b[0m\u001b[37m\u001b[0m \u001b[1m0s\u001b[0m 2ms/step - loss: 1.8384e-04 - mae: 0.0101 - mape: 4213.8730 - mse: 1.8384e-04 - val_loss: 4.0853e-04 - val_mae: 0.0149 - val_mape: 2.5165 - val_mse: 4.0853e-04\n",
      "Epoch 41/50\n",
      "\u001b[1m90/90\u001b[0m \u001b[32m━━━━━━━━━━━━━━━━━━━━\u001b[0m\u001b[37m\u001b[0m \u001b[1m0s\u001b[0m 2ms/step - loss: 1.8516e-04 - mae: 0.0101 - mape: 12089.5557 - mse: 1.8516e-04 - val_loss: 4.0859e-04 - val_mae: 0.0148 - val_mape: 2.5061 - val_mse: 4.0859e-04\n",
      "Epoch 42/50\n",
      "\u001b[1m90/90\u001b[0m \u001b[32m━━━━━━━━━━━━━━━━━━━━\u001b[0m\u001b[37m\u001b[0m \u001b[1m0s\u001b[0m 2ms/step - loss: 1.8467e-04 - mae: 0.0099 - mape: 38981.8242 - mse: 1.8467e-04 - val_loss: 4.4134e-04 - val_mae: 0.0155 - val_mape: 2.5921 - val_mse: 4.4134e-04\n",
      "Epoch 43/50\n",
      "\u001b[1m90/90\u001b[0m \u001b[32m━━━━━━━━━━━━━━━━━━━━\u001b[0m\u001b[37m\u001b[0m \u001b[1m0s\u001b[0m 2ms/step - loss: 1.8648e-04 - mae: 0.0102 - mape: 20801.0352 - mse: 1.8648e-04 - val_loss: 4.0724e-04 - val_mae: 0.0149 - val_mape: 2.5091 - val_mse: 4.0724e-04\n",
      "Epoch 44/50\n",
      "\u001b[1m90/90\u001b[0m \u001b[32m━━━━━━━━━━━━━━━━━━━━\u001b[0m\u001b[37m\u001b[0m \u001b[1m0s\u001b[0m 2ms/step - loss: 1.9347e-04 - mae: 0.0103 - mape: 3102.9209 - mse: 1.9347e-04 - val_loss: 4.3998e-04 - val_mae: 0.0154 - val_mape: 2.5848 - val_mse: 4.3998e-04\n",
      "Epoch 45/50\n",
      "\u001b[1m90/90\u001b[0m \u001b[32m━━━━━━━━━━━━━━━━━━━━\u001b[0m\u001b[37m\u001b[0m \u001b[1m0s\u001b[0m 2ms/step - loss: 1.9115e-04 - mae: 0.0102 - mape: 36720.0039 - mse: 1.9115e-04 - val_loss: 4.3268e-04 - val_mae: 0.0154 - val_mape: 2.6153 - val_mse: 4.3268e-04\n",
      "Epoch 46/50\n",
      "\u001b[1m90/90\u001b[0m \u001b[32m━━━━━━━━━━━━━━━━━━━━\u001b[0m\u001b[37m\u001b[0m \u001b[1m0s\u001b[0m 2ms/step - loss: 1.8018e-04 - mae: 0.0101 - mape: 8802.0684 - mse: 1.8018e-04 - val_loss: 4.3913e-04 - val_mae: 0.0156 - val_mape: 2.6408 - val_mse: 4.3913e-04\n",
      "Epoch 47/50\n",
      "\u001b[1m90/90\u001b[0m \u001b[32m━━━━━━━━━━━━━━━━━━━━\u001b[0m\u001b[37m\u001b[0m \u001b[1m0s\u001b[0m 2ms/step - loss: 1.9853e-04 - mae: 0.0104 - mape: 47026.1836 - mse: 1.9853e-04 - val_loss: 4.6724e-04 - val_mae: 0.0162 - val_mape: 2.7547 - val_mse: 4.6724e-04\n",
      "Epoch 48/50\n",
      "\u001b[1m90/90\u001b[0m \u001b[32m━━━━━━━━━━━━━━━━━━━━\u001b[0m\u001b[37m\u001b[0m \u001b[1m0s\u001b[0m 2ms/step - loss: 1.8346e-04 - mae: 0.0101 - mape: 11405.2998 - mse: 1.8346e-04 - val_loss: 4.0289e-04 - val_mae: 0.0148 - val_mape: 2.4921 - val_mse: 4.0289e-04\n",
      "Epoch 49/50\n",
      "\u001b[1m90/90\u001b[0m \u001b[32m━━━━━━━━━━━━━━━━━━━━\u001b[0m\u001b[37m\u001b[0m \u001b[1m0s\u001b[0m 2ms/step - loss: 1.8556e-04 - mae: 0.0100 - mape: 11617.1914 - mse: 1.8556e-04 - val_loss: 4.1305e-04 - val_mae: 0.0149 - val_mape: 2.4980 - val_mse: 4.1305e-04\n",
      "Epoch 50/50\n",
      "\u001b[1m90/90\u001b[0m \u001b[32m━━━━━━━━━━━━━━━━━━━━\u001b[0m\u001b[37m\u001b[0m \u001b[1m0s\u001b[0m 2ms/step - loss: 1.9444e-04 - mae: 0.0104 - mape: 13667.4346 - mse: 1.9444e-04 - val_loss: 4.3653e-04 - val_mae: 0.0154 - val_mape: 2.5792 - val_mse: 4.3653e-04\n",
      "\u001b[1m23/23\u001b[0m \u001b[32m━━━━━━━━━━━━━━━━━━━━\u001b[0m\u001b[37m\u001b[0m \u001b[1m0s\u001b[0m 5ms/step\n"
     ]
    },
    {
     "name": "stderr",
     "output_type": "stream",
     "text": [
      "Processando combinações:  43%|████▎     | 3/7 [01:58<02:41, 40.46s/it]"
     ]
    },
    {
     "name": "stdout",
     "output_type": "stream",
     "text": [
      "model_3: Processando PETR4 | Combinação 4...\n",
      "Epoch 1/50\n",
      "\u001b[1m90/90\u001b[0m \u001b[32m━━━━━━━━━━━━━━━━━━━━\u001b[0m\u001b[37m\u001b[0m \u001b[1m1s\u001b[0m 4ms/step - loss: 0.1089 - mae: 0.2340 - mape: 18770.0957 - mse: 0.1089 - val_loss: 9.3817e-04 - val_mae: 0.0219 - val_mape: 5.6976 - val_mse: 9.3817e-04\n",
      "Epoch 2/50\n",
      "\u001b[1m90/90\u001b[0m \u001b[32m━━━━━━━━━━━━━━━━━━━━\u001b[0m\u001b[37m\u001b[0m \u001b[1m0s\u001b[0m 2ms/step - loss: 0.0010 - mae: 0.0246 - mape: 7136.1826 - mse: 0.0010 - val_loss: 9.8414e-04 - val_mae: 0.0231 - val_mape: 5.5572 - val_mse: 9.8414e-04\n",
      "Epoch 3/50\n",
      "\u001b[1m90/90\u001b[0m \u001b[32m━━━━━━━━━━━━━━━━━━━━\u001b[0m\u001b[37m\u001b[0m \u001b[1m0s\u001b[0m 2ms/step - loss: 5.0572e-04 - mae: 0.0164 - mape: 125.7803 - mse: 5.0572e-04 - val_loss: 9.0577e-04 - val_mae: 0.0223 - val_mape: 5.3184 - val_mse: 9.0577e-04\n",
      "Epoch 4/50\n",
      "\u001b[1m90/90\u001b[0m \u001b[32m━━━━━━━━━━━━━━━━━━━━\u001b[0m\u001b[37m\u001b[0m \u001b[1m0s\u001b[0m 2ms/step - loss: 3.8093e-04 - mae: 0.0142 - mape: 51.4854 - mse: 3.8093e-04 - val_loss: 7.0264e-04 - val_mae: 0.0188 - val_mape: 4.5933 - val_mse: 7.0264e-04\n",
      "Epoch 5/50\n",
      "\u001b[1m90/90\u001b[0m \u001b[32m━━━━━━━━━━━━━━━━━━━━\u001b[0m\u001b[37m\u001b[0m \u001b[1m0s\u001b[0m 2ms/step - loss: 3.2648e-04 - mae: 0.0129 - mape: 1110.0635 - mse: 3.2648e-04 - val_loss: 6.9380e-04 - val_mae: 0.0192 - val_mape: 4.6401 - val_mse: 6.9380e-04\n",
      "Epoch 6/50\n",
      "\u001b[1m90/90\u001b[0m \u001b[32m━━━━━━━━━━━━━━━━━━━━\u001b[0m\u001b[37m\u001b[0m \u001b[1m0s\u001b[0m 2ms/step - loss: 2.8261e-04 - mae: 0.0121 - mape: 1119.1013 - mse: 2.8261e-04 - val_loss: 6.3071e-04 - val_mae: 0.0181 - val_mape: 4.4167 - val_mse: 6.3071e-04\n",
      "Epoch 7/50\n",
      "\u001b[1m90/90\u001b[0m \u001b[32m━━━━━━━━━━━━━━━━━━━━\u001b[0m\u001b[37m\u001b[0m \u001b[1m0s\u001b[0m 2ms/step - loss: 2.4549e-04 - mae: 0.0111 - mape: 558.0737 - mse: 2.4549e-04 - val_loss: 5.4412e-04 - val_mae: 0.0160 - val_mape: 4.0019 - val_mse: 5.4412e-04\n",
      "Epoch 8/50\n",
      "\u001b[1m90/90\u001b[0m \u001b[32m━━━━━━━━━━━━━━━━━━━━\u001b[0m\u001b[37m\u001b[0m \u001b[1m0s\u001b[0m 2ms/step - loss: 2.4219e-04 - mae: 0.0111 - mape: 489.5129 - mse: 2.4219e-04 - val_loss: 5.1964e-04 - val_mae: 0.0156 - val_mape: 3.9054 - val_mse: 5.1964e-04\n",
      "Epoch 9/50\n",
      "\u001b[1m90/90\u001b[0m \u001b[32m━━━━━━━━━━━━━━━━━━━━\u001b[0m\u001b[37m\u001b[0m \u001b[1m0s\u001b[0m 2ms/step - loss: 2.5270e-04 - mae: 0.0112 - mape: 454.7056 - mse: 2.5270e-04 - val_loss: 5.7661e-04 - val_mae: 0.0175 - val_mape: 4.2491 - val_mse: 5.7661e-04\n",
      "Epoch 10/50\n",
      "\u001b[1m90/90\u001b[0m \u001b[32m━━━━━━━━━━━━━━━━━━━━\u001b[0m\u001b[37m\u001b[0m \u001b[1m0s\u001b[0m 2ms/step - loss: 2.5394e-04 - mae: 0.0113 - mape: 14.1109 - mse: 2.5394e-04 - val_loss: 4.9925e-04 - val_mae: 0.0154 - val_mape: 3.8320 - val_mse: 4.9925e-04\n",
      "Epoch 11/50\n",
      "\u001b[1m90/90\u001b[0m \u001b[32m━━━━━━━━━━━━━━━━━━━━\u001b[0m\u001b[37m\u001b[0m \u001b[1m0s\u001b[0m 2ms/step - loss: 2.1862e-04 - mae: 0.0105 - mape: 1475.8739 - mse: 2.1862e-04 - val_loss: 5.0603e-04 - val_mae: 0.0158 - val_mape: 3.8833 - val_mse: 5.0603e-04\n",
      "Epoch 12/50\n",
      "\u001b[1m90/90\u001b[0m \u001b[32m━━━━━━━━━━━━━━━━━━━━\u001b[0m\u001b[37m\u001b[0m \u001b[1m0s\u001b[0m 2ms/step - loss: 2.1740e-04 - mae: 0.0105 - mape: 318.2673 - mse: 2.1740e-04 - val_loss: 5.0393e-04 - val_mae: 0.0159 - val_mape: 3.8958 - val_mse: 5.0393e-04\n",
      "Epoch 13/50\n",
      "\u001b[1m90/90\u001b[0m \u001b[32m━━━━━━━━━━━━━━━━━━━━\u001b[0m\u001b[37m\u001b[0m \u001b[1m0s\u001b[0m 2ms/step - loss: 2.1616e-04 - mae: 0.0105 - mape: 5.0496 - mse: 2.1616e-04 - val_loss: 4.4252e-04 - val_mae: 0.0142 - val_mape: 3.5471 - val_mse: 4.4252e-04\n",
      "Epoch 14/50\n",
      "\u001b[1m90/90\u001b[0m \u001b[32m━━━━━━━━━━━━━━━━━━━━\u001b[0m\u001b[37m\u001b[0m \u001b[1m0s\u001b[0m 2ms/step - loss: 2.0780e-04 - mae: 0.0102 - mape: 1396.9446 - mse: 2.0780e-04 - val_loss: 4.3089e-04 - val_mae: 0.0140 - val_mape: 3.4931 - val_mse: 4.3089e-04\n",
      "Epoch 15/50\n",
      "\u001b[1m90/90\u001b[0m \u001b[32m━━━━━━━━━━━━━━━━━━━━\u001b[0m\u001b[37m\u001b[0m \u001b[1m0s\u001b[0m 2ms/step - loss: 2.2260e-04 - mae: 0.0105 - mape: 658.1993 - mse: 2.2260e-04 - val_loss: 4.1236e-04 - val_mae: 0.0135 - val_mape: 3.3817 - val_mse: 4.1236e-04\n",
      "Epoch 16/50\n",
      "\u001b[1m90/90\u001b[0m \u001b[32m━━━━━━━━━━━━━━━━━━━━\u001b[0m\u001b[37m\u001b[0m \u001b[1m0s\u001b[0m 2ms/step - loss: 2.1582e-04 - mae: 0.0105 - mape: 2007.5269 - mse: 2.1582e-04 - val_loss: 4.0601e-04 - val_mae: 0.0134 - val_mape: 3.3490 - val_mse: 4.0601e-04\n",
      "Epoch 17/50\n",
      "\u001b[1m90/90\u001b[0m \u001b[32m━━━━━━━━━━━━━━━━━━━━\u001b[0m\u001b[37m\u001b[0m \u001b[1m0s\u001b[0m 2ms/step - loss: 2.0559e-04 - mae: 0.0100 - mape: 1239.4165 - mse: 2.0559e-04 - val_loss: 4.0396e-04 - val_mae: 0.0134 - val_mape: 3.3442 - val_mse: 4.0396e-04\n",
      "Epoch 18/50\n",
      "\u001b[1m90/90\u001b[0m \u001b[32m━━━━━━━━━━━━━━━━━━━━\u001b[0m\u001b[37m\u001b[0m \u001b[1m0s\u001b[0m 2ms/step - loss: 2.2334e-04 - mae: 0.0104 - mape: 2497.6931 - mse: 2.2334e-04 - val_loss: 3.9022e-04 - val_mae: 0.0129 - val_mape: 3.2402 - val_mse: 3.9022e-04\n",
      "Epoch 19/50\n",
      "\u001b[1m90/90\u001b[0m \u001b[32m━━━━━━━━━━━━━━━━━━━━\u001b[0m\u001b[37m\u001b[0m \u001b[1m0s\u001b[0m 2ms/step - loss: 2.0658e-04 - mae: 0.0101 - mape: 319.7712 - mse: 2.0658e-04 - val_loss: 3.8456e-04 - val_mae: 0.0128 - val_mape: 3.2145 - val_mse: 3.8456e-04\n",
      "Epoch 20/50\n",
      "\u001b[1m90/90\u001b[0m \u001b[32m━━━━━━━━━━━━━━━━━━━━\u001b[0m\u001b[37m\u001b[0m \u001b[1m0s\u001b[0m 2ms/step - loss: 2.1792e-04 - mae: 0.0103 - mape: 2980.2915 - mse: 2.1792e-04 - val_loss: 4.1713e-04 - val_mae: 0.0133 - val_mape: 3.3793 - val_mse: 4.1713e-04\n",
      "Epoch 21/50\n",
      "\u001b[1m90/90\u001b[0m \u001b[32m━━━━━━━━━━━━━━━━━━━━\u001b[0m\u001b[37m\u001b[0m \u001b[1m0s\u001b[0m 2ms/step - loss: 2.0433e-04 - mae: 0.0102 - mape: 414.8061 - mse: 2.0433e-04 - val_loss: 3.8626e-04 - val_mae: 0.0132 - val_mape: 3.2544 - val_mse: 3.8626e-04\n",
      "Epoch 22/50\n",
      "\u001b[1m90/90\u001b[0m \u001b[32m━━━━━━━━━━━━━━━━━━━━\u001b[0m\u001b[37m\u001b[0m \u001b[1m0s\u001b[0m 2ms/step - loss: 1.9086e-04 - mae: 0.0099 - mape: 1043.9272 - mse: 1.9086e-04 - val_loss: 3.9351e-04 - val_mae: 0.0136 - val_mape: 3.3158 - val_mse: 3.9351e-04\n",
      "Epoch 23/50\n",
      "\u001b[1m90/90\u001b[0m \u001b[32m━━━━━━━━━━━━━━━━━━━━\u001b[0m\u001b[37m\u001b[0m \u001b[1m0s\u001b[0m 2ms/step - loss: 2.0008e-04 - mae: 0.0101 - mape: 345.8874 - mse: 2.0008e-04 - val_loss: 3.7206e-04 - val_mae: 0.0128 - val_mape: 3.1651 - val_mse: 3.7206e-04\n",
      "Epoch 24/50\n",
      "\u001b[1m90/90\u001b[0m \u001b[32m━━━━━━━━━━━━━━━━━━━━\u001b[0m\u001b[37m\u001b[0m \u001b[1m0s\u001b[0m 2ms/step - loss: 2.0716e-04 - mae: 0.0100 - mape: 70.1755 - mse: 2.0716e-04 - val_loss: 3.6733e-04 - val_mae: 0.0126 - val_mape: 3.1261 - val_mse: 3.6733e-04\n",
      "Epoch 25/50\n",
      "\u001b[1m90/90\u001b[0m \u001b[32m━━━━━━━━━━━━━━━━━━━━\u001b[0m\u001b[37m\u001b[0m \u001b[1m0s\u001b[0m 3ms/step - loss: 2.1688e-04 - mae: 0.0103 - mape: 1084.6384 - mse: 2.1688e-04 - val_loss: 3.7625e-04 - val_mae: 0.0131 - val_mape: 3.2168 - val_mse: 3.7625e-04\n",
      "Epoch 26/50\n",
      "\u001b[1m90/90\u001b[0m \u001b[32m━━━━━━━━━━━━━━━━━━━━\u001b[0m\u001b[37m\u001b[0m \u001b[1m0s\u001b[0m 2ms/step - loss: 1.7220e-04 - mae: 0.0093 - mape: 608.5933 - mse: 1.7220e-04 - val_loss: 3.6079e-04 - val_mae: 0.0125 - val_mape: 3.0898 - val_mse: 3.6079e-04\n",
      "Epoch 27/50\n",
      "\u001b[1m90/90\u001b[0m \u001b[32m━━━━━━━━━━━━━━━━━━━━\u001b[0m\u001b[37m\u001b[0m \u001b[1m0s\u001b[0m 2ms/step - loss: 1.8211e-04 - mae: 0.0095 - mape: 384.1780 - mse: 1.8211e-04 - val_loss: 3.5592e-04 - val_mae: 0.0124 - val_mape: 3.0526 - val_mse: 3.5592e-04\n",
      "Epoch 28/50\n",
      "\u001b[1m90/90\u001b[0m \u001b[32m━━━━━━━━━━━━━━━━━━━━\u001b[0m\u001b[37m\u001b[0m \u001b[1m0s\u001b[0m 2ms/step - loss: 1.7825e-04 - mae: 0.0095 - mape: 2229.2458 - mse: 1.7825e-04 - val_loss: 3.4960e-04 - val_mae: 0.0123 - val_mape: 3.0226 - val_mse: 3.4960e-04\n",
      "Epoch 29/50\n",
      "\u001b[1m90/90\u001b[0m \u001b[32m━━━━━━━━━━━━━━━━━━━━\u001b[0m\u001b[37m\u001b[0m \u001b[1m0s\u001b[0m 2ms/step - loss: 1.8088e-04 - mae: 0.0095 - mape: 2060.1797 - mse: 1.8088e-04 - val_loss: 3.7046e-04 - val_mae: 0.0133 - val_mape: 3.1915 - val_mse: 3.7046e-04\n",
      "Epoch 30/50\n",
      "\u001b[1m90/90\u001b[0m \u001b[32m━━━━━━━━━━━━━━━━━━━━\u001b[0m\u001b[37m\u001b[0m \u001b[1m0s\u001b[0m 2ms/step - loss: 1.8899e-04 - mae: 0.0096 - mape: 585.2802 - mse: 1.8899e-04 - val_loss: 3.4416e-04 - val_mae: 0.0119 - val_mape: 2.9633 - val_mse: 3.4416e-04\n",
      "Epoch 31/50\n",
      "\u001b[1m90/90\u001b[0m \u001b[32m━━━━━━━━━━━━━━━━━━━━\u001b[0m\u001b[37m\u001b[0m \u001b[1m0s\u001b[0m 2ms/step - loss: 1.9735e-04 - mae: 0.0099 - mape: 105.3032 - mse: 1.9735e-04 - val_loss: 3.5256e-04 - val_mae: 0.0126 - val_mape: 3.0528 - val_mse: 3.5256e-04\n",
      "Epoch 32/50\n",
      "\u001b[1m90/90\u001b[0m \u001b[32m━━━━━━━━━━━━━━━━━━━━\u001b[0m\u001b[37m\u001b[0m \u001b[1m0s\u001b[0m 2ms/step - loss: 1.7411e-04 - mae: 0.0095 - mape: 2770.9509 - mse: 1.7411e-04 - val_loss: 3.4741e-04 - val_mae: 0.0123 - val_mape: 2.9969 - val_mse: 3.4741e-04\n",
      "Epoch 33/50\n",
      "\u001b[1m90/90\u001b[0m \u001b[32m━━━━━━━━━━━━━━━━━━━━\u001b[0m\u001b[37m\u001b[0m \u001b[1m0s\u001b[0m 2ms/step - loss: 1.7134e-04 - mae: 0.0092 - mape: 183.6520 - mse: 1.7134e-04 - val_loss: 3.3926e-04 - val_mae: 0.0123 - val_mape: 2.9758 - val_mse: 3.3926e-04\n",
      "Epoch 34/50\n",
      "\u001b[1m90/90\u001b[0m \u001b[32m━━━━━━━━━━━━━━━━━━━━\u001b[0m\u001b[37m\u001b[0m \u001b[1m0s\u001b[0m 2ms/step - loss: 1.7590e-04 - mae: 0.0096 - mape: 3292.5771 - mse: 1.7590e-04 - val_loss: 3.3147e-04 - val_mae: 0.0120 - val_mape: 2.9109 - val_mse: 3.3147e-04\n",
      "Epoch 35/50\n",
      "\u001b[1m90/90\u001b[0m \u001b[32m━━━━━━━━━━━━━━━━━━━━\u001b[0m\u001b[37m\u001b[0m \u001b[1m0s\u001b[0m 2ms/step - loss: 1.7623e-04 - mae: 0.0094 - mape: 3231.9976 - mse: 1.7623e-04 - val_loss: 3.4258e-04 - val_mae: 0.0124 - val_mape: 2.9856 - val_mse: 3.4258e-04\n",
      "Epoch 36/50\n",
      "\u001b[1m90/90\u001b[0m \u001b[32m━━━━━━━━━━━━━━━━━━━━\u001b[0m\u001b[37m\u001b[0m \u001b[1m0s\u001b[0m 2ms/step - loss: 1.6421e-04 - mae: 0.0089 - mape: 254.9551 - mse: 1.6421e-04 - val_loss: 3.2750e-04 - val_mae: 0.0122 - val_mape: 2.9345 - val_mse: 3.2750e-04\n",
      "Epoch 37/50\n",
      "\u001b[1m90/90\u001b[0m \u001b[32m━━━━━━━━━━━━━━━━━━━━\u001b[0m\u001b[37m\u001b[0m \u001b[1m0s\u001b[0m 2ms/step - loss: 1.8080e-04 - mae: 0.0094 - mape: 630.3793 - mse: 1.8080e-04 - val_loss: 3.3816e-04 - val_mae: 0.0128 - val_mape: 3.0433 - val_mse: 3.3816e-04\n",
      "Epoch 38/50\n",
      "\u001b[1m90/90\u001b[0m \u001b[32m━━━━━━━━━━━━━━━━━━━━\u001b[0m\u001b[37m\u001b[0m \u001b[1m0s\u001b[0m 2ms/step - loss: 1.7761e-04 - mae: 0.0094 - mape: 1843.0752 - mse: 1.7761e-04 - val_loss: 3.1831e-04 - val_mae: 0.0120 - val_mape: 2.8872 - val_mse: 3.1831e-04\n",
      "Epoch 39/50\n",
      "\u001b[1m90/90\u001b[0m \u001b[32m━━━━━━━━━━━━━━━━━━━━\u001b[0m\u001b[37m\u001b[0m \u001b[1m0s\u001b[0m 2ms/step - loss: 1.6499e-04 - mae: 0.0092 - mape: 3069.0391 - mse: 1.6499e-04 - val_loss: 3.2198e-04 - val_mae: 0.0117 - val_mape: 2.8568 - val_mse: 3.2198e-04\n",
      "Epoch 40/50\n",
      "\u001b[1m90/90\u001b[0m \u001b[32m━━━━━━━━━━━━━━━━━━━━\u001b[0m\u001b[37m\u001b[0m \u001b[1m0s\u001b[0m 2ms/step - loss: 1.8271e-04 - mae: 0.0095 - mape: 2136.2102 - mse: 1.8271e-04 - val_loss: 3.2356e-04 - val_mae: 0.0123 - val_mape: 2.9338 - val_mse: 3.2356e-04\n",
      "Epoch 41/50\n",
      "\u001b[1m90/90\u001b[0m \u001b[32m━━━━━━━━━━━━━━━━━━━━\u001b[0m\u001b[37m\u001b[0m \u001b[1m0s\u001b[0m 2ms/step - loss: 1.8023e-04 - mae: 0.0095 - mape: 1130.6287 - mse: 1.8023e-04 - val_loss: 3.3160e-04 - val_mae: 0.0127 - val_mape: 3.0199 - val_mse: 3.3160e-04\n",
      "Epoch 42/50\n",
      "\u001b[1m90/90\u001b[0m \u001b[32m━━━━━━━━━━━━━━━━━━━━\u001b[0m\u001b[37m\u001b[0m \u001b[1m0s\u001b[0m 2ms/step - loss: 1.5736e-04 - mae: 0.0090 - mape: 612.4805 - mse: 1.5736e-04 - val_loss: 3.2810e-04 - val_mae: 0.0125 - val_mape: 2.9877 - val_mse: 3.2810e-04\n",
      "Epoch 43/50\n",
      "\u001b[1m90/90\u001b[0m \u001b[32m━━━━━━━━━━━━━━━━━━━━\u001b[0m\u001b[37m\u001b[0m \u001b[1m0s\u001b[0m 2ms/step - loss: 1.6477e-04 - mae: 0.0090 - mape: 346.9239 - mse: 1.6477e-04 - val_loss: 3.4425e-04 - val_mae: 0.0123 - val_mape: 2.9625 - val_mse: 3.4425e-04\n",
      "Epoch 44/50\n",
      "\u001b[1m90/90\u001b[0m \u001b[32m━━━━━━━━━━━━━━━━━━━━\u001b[0m\u001b[37m\u001b[0m \u001b[1m0s\u001b[0m 2ms/step - loss: 1.6487e-04 - mae: 0.0093 - mape: 5112.7861 - mse: 1.6487e-04 - val_loss: 3.1753e-04 - val_mae: 0.0117 - val_mape: 2.8332 - val_mse: 3.1753e-04\n",
      "Epoch 45/50\n",
      "\u001b[1m90/90\u001b[0m \u001b[32m━━━━━━━━━━━━━━━━━━━━\u001b[0m\u001b[37m\u001b[0m \u001b[1m0s\u001b[0m 2ms/step - loss: 1.6593e-04 - mae: 0.0093 - mape: 4855.7651 - mse: 1.6593e-04 - val_loss: 3.2451e-04 - val_mae: 0.0118 - val_mape: 2.8619 - val_mse: 3.2451e-04\n",
      "Epoch 46/50\n",
      "\u001b[1m90/90\u001b[0m \u001b[32m━━━━━━━━━━━━━━━━━━━━\u001b[0m\u001b[37m\u001b[0m \u001b[1m0s\u001b[0m 2ms/step - loss: 1.6738e-04 - mae: 0.0090 - mape: 3052.4460 - mse: 1.6738e-04 - val_loss: 3.2539e-04 - val_mae: 0.0126 - val_mape: 2.9778 - val_mse: 3.2539e-04\n",
      "Epoch 47/50\n",
      "\u001b[1m90/90\u001b[0m \u001b[32m━━━━━━━━━━━━━━━━━━━━\u001b[0m\u001b[37m\u001b[0m \u001b[1m0s\u001b[0m 2ms/step - loss: 1.6919e-04 - mae: 0.0093 - mape: 5303.3252 - mse: 1.6919e-04 - val_loss: 3.1690e-04 - val_mae: 0.0118 - val_mape: 2.8345 - val_mse: 3.1690e-04\n",
      "Epoch 48/50\n",
      "\u001b[1m90/90\u001b[0m \u001b[32m━━━━━━━━━━━━━━━━━━━━\u001b[0m\u001b[37m\u001b[0m \u001b[1m0s\u001b[0m 2ms/step - loss: 1.5913e-04 - mae: 0.0088 - mape: 793.2512 - mse: 1.5913e-04 - val_loss: 3.4684e-04 - val_mae: 0.0135 - val_mape: 3.1378 - val_mse: 3.4684e-04\n",
      "Epoch 49/50\n",
      "\u001b[1m90/90\u001b[0m \u001b[32m━━━━━━━━━━━━━━━━━━━━\u001b[0m\u001b[37m\u001b[0m \u001b[1m0s\u001b[0m 2ms/step - loss: 1.6993e-04 - mae: 0.0092 - mape: 1715.3953 - mse: 1.6993e-04 - val_loss: 3.0690e-04 - val_mae: 0.0119 - val_mape: 2.8289 - val_mse: 3.0690e-04\n",
      "Epoch 50/50\n",
      "\u001b[1m90/90\u001b[0m \u001b[32m━━━━━━━━━━━━━━━━━━━━\u001b[0m\u001b[37m\u001b[0m \u001b[1m0s\u001b[0m 2ms/step - loss: 1.7145e-04 - mae: 0.0092 - mape: 7608.2607 - mse: 1.7145e-04 - val_loss: 3.0578e-04 - val_mae: 0.0118 - val_mape: 2.8260 - val_mse: 3.0578e-04\n",
      "\u001b[1m23/23\u001b[0m \u001b[32m━━━━━━━━━━━━━━━━━━━━\u001b[0m\u001b[37m\u001b[0m \u001b[1m0s\u001b[0m 2ms/step \n",
      "model_3: Processando VALE3 | Combinação 4...\n",
      "Epoch 1/50\n",
      "\u001b[1m90/90\u001b[0m \u001b[32m━━━━━━━━━━━━━━━━━━━━\u001b[0m\u001b[37m\u001b[0m \u001b[1m1s\u001b[0m 3ms/step - loss: 0.0012 - mae: 0.0228 - mape: 10993.6562 - mse: 0.0012 - val_loss: 6.4572e-04 - val_mae: 0.0191 - val_mape: 3.3120 - val_mse: 6.4572e-04\n",
      "Epoch 2/50\n",
      "\u001b[1m90/90\u001b[0m \u001b[32m━━━━━━━━━━━━━━━━━━━━\u001b[0m\u001b[37m\u001b[0m \u001b[1m0s\u001b[0m 2ms/step - loss: 1.2210e-04 - mae: 0.0082 - mape: 1638.3429 - mse: 1.2210e-04 - val_loss: 4.7103e-04 - val_mae: 0.0162 - val_mape: 2.8250 - val_mse: 4.7103e-04\n",
      "Epoch 3/50\n",
      "\u001b[1m90/90\u001b[0m \u001b[32m━━━━━━━━━━━━━━━━━━━━\u001b[0m\u001b[37m\u001b[0m \u001b[1m0s\u001b[0m 2ms/step - loss: 1.0842e-04 - mae: 0.0077 - mape: 5712.7065 - mse: 1.0842e-04 - val_loss: 4.7879e-04 - val_mae: 0.0162 - val_mape: 2.7700 - val_mse: 4.7879e-04\n",
      "Epoch 4/50\n",
      "\u001b[1m90/90\u001b[0m \u001b[32m━━━━━━━━━━━━━━━━━━━━\u001b[0m\u001b[37m\u001b[0m \u001b[1m0s\u001b[0m 2ms/step - loss: 1.0986e-04 - mae: 0.0076 - mape: 2044.9113 - mse: 1.0986e-04 - val_loss: 4.9630e-04 - val_mae: 0.0166 - val_mape: 2.7866 - val_mse: 4.9630e-04\n",
      "Epoch 5/50\n",
      "\u001b[1m90/90\u001b[0m \u001b[32m━━━━━━━━━━━━━━━━━━━━\u001b[0m\u001b[37m\u001b[0m \u001b[1m0s\u001b[0m 2ms/step - loss: 1.0931e-04 - mae: 0.0075 - mape: 4376.9985 - mse: 1.0931e-04 - val_loss: 4.5913e-04 - val_mae: 0.0158 - val_mape: 2.6710 - val_mse: 4.5913e-04\n",
      "Epoch 6/50\n",
      "\u001b[1m90/90\u001b[0m \u001b[32m━━━━━━━━━━━━━━━━━━━━\u001b[0m\u001b[37m\u001b[0m \u001b[1m0s\u001b[0m 2ms/step - loss: 1.0715e-04 - mae: 0.0076 - mape: 2472.0259 - mse: 1.0715e-04 - val_loss: 4.9334e-04 - val_mae: 0.0166 - val_mape: 2.7998 - val_mse: 4.9334e-04\n",
      "Epoch 7/50\n",
      "\u001b[1m90/90\u001b[0m \u001b[32m━━━━━━━━━━━━━━━━━━━━\u001b[0m\u001b[37m\u001b[0m \u001b[1m0s\u001b[0m 2ms/step - loss: 1.0562e-04 - mae: 0.0075 - mape: 4390.6099 - mse: 1.0562e-04 - val_loss: 4.5519e-04 - val_mae: 0.0158 - val_mape: 2.6642 - val_mse: 4.5519e-04\n",
      "Epoch 8/50\n",
      "\u001b[1m90/90\u001b[0m \u001b[32m━━━━━━━━━━━━━━━━━━━━\u001b[0m\u001b[37m\u001b[0m \u001b[1m0s\u001b[0m 2ms/step - loss: 1.0124e-04 - mae: 0.0075 - mape: 977.0364 - mse: 1.0124e-04 - val_loss: 4.1592e-04 - val_mae: 0.0151 - val_mape: 2.5937 - val_mse: 4.1592e-04\n",
      "Epoch 9/50\n",
      "\u001b[1m90/90\u001b[0m \u001b[32m━━━━━━━━━━━━━━━━━━━━\u001b[0m\u001b[37m\u001b[0m \u001b[1m0s\u001b[0m 2ms/step - loss: 1.1064e-04 - mae: 0.0075 - mape: 905.3806 - mse: 1.1064e-04 - val_loss: 3.8646e-04 - val_mae: 0.0145 - val_mape: 2.5113 - val_mse: 3.8646e-04\n",
      "Epoch 10/50\n",
      "\u001b[1m90/90\u001b[0m \u001b[32m━━━━━━━━━━━━━━━━━━━━\u001b[0m\u001b[37m\u001b[0m \u001b[1m0s\u001b[0m 2ms/step - loss: 1.0070e-04 - mae: 0.0075 - mape: 1617.8262 - mse: 1.0070e-04 - val_loss: 5.3573e-04 - val_mae: 0.0175 - val_mape: 2.9096 - val_mse: 5.3573e-04\n",
      "Epoch 11/50\n",
      "\u001b[1m90/90\u001b[0m \u001b[32m━━━━━━━━━━━━━━━━━━━━\u001b[0m\u001b[37m\u001b[0m \u001b[1m0s\u001b[0m 2ms/step - loss: 9.5600e-05 - mae: 0.0071 - mape: 8447.5020 - mse: 9.5600e-05 - val_loss: 4.9105e-04 - val_mae: 0.0167 - val_mape: 2.8081 - val_mse: 4.9105e-04\n",
      "Epoch 12/50\n",
      "\u001b[1m90/90\u001b[0m \u001b[32m━━━━━━━━━━━━━━━━━━━━\u001b[0m\u001b[37m\u001b[0m \u001b[1m0s\u001b[0m 2ms/step - loss: 9.2206e-05 - mae: 0.0072 - mape: 1822.2008 - mse: 9.2206e-05 - val_loss: 5.2042e-04 - val_mae: 0.0174 - val_mape: 2.9634 - val_mse: 5.2042e-04\n",
      "Epoch 13/50\n",
      "\u001b[1m90/90\u001b[0m \u001b[32m━━━━━━━━━━━━━━━━━━━━\u001b[0m\u001b[37m\u001b[0m \u001b[1m0s\u001b[0m 2ms/step - loss: 1.0116e-04 - mae: 0.0075 - mape: 712.7462 - mse: 1.0116e-04 - val_loss: 4.1308e-04 - val_mae: 0.0150 - val_mape: 2.5619 - val_mse: 4.1308e-04\n",
      "Epoch 14/50\n",
      "\u001b[1m90/90\u001b[0m \u001b[32m━━━━━━━━━━━━━━━━━━━━\u001b[0m\u001b[37m\u001b[0m \u001b[1m0s\u001b[0m 2ms/step - loss: 9.8739e-05 - mae: 0.0073 - mape: 2354.1575 - mse: 9.8739e-05 - val_loss: 3.6642e-04 - val_mae: 0.0141 - val_mape: 2.4770 - val_mse: 3.6642e-04\n",
      "Epoch 15/50\n",
      "\u001b[1m90/90\u001b[0m \u001b[32m━━━━━━━━━━━━━━━━━━━━\u001b[0m\u001b[37m\u001b[0m \u001b[1m0s\u001b[0m 2ms/step - loss: 1.0514e-04 - mae: 0.0075 - mape: 116.2856 - mse: 1.0514e-04 - val_loss: 3.9833e-04 - val_mae: 0.0147 - val_mape: 2.5089 - val_mse: 3.9833e-04\n",
      "Epoch 16/50\n",
      "\u001b[1m90/90\u001b[0m \u001b[32m━━━━━━━━━━━━━━━━━━━━\u001b[0m\u001b[37m\u001b[0m \u001b[1m0s\u001b[0m 2ms/step - loss: 1.0160e-04 - mae: 0.0075 - mape: 307.9938 - mse: 1.0160e-04 - val_loss: 4.2721e-04 - val_mae: 0.0154 - val_mape: 2.6123 - val_mse: 4.2721e-04\n",
      "Epoch 17/50\n",
      "\u001b[1m90/90\u001b[0m \u001b[32m━━━━━━━━━━━━━━━━━━━━\u001b[0m\u001b[37m\u001b[0m \u001b[1m0s\u001b[0m 2ms/step - loss: 9.1552e-05 - mae: 0.0070 - mape: 3793.2344 - mse: 9.1552e-05 - val_loss: 4.5223e-04 - val_mae: 0.0159 - val_mape: 2.6540 - val_mse: 4.5223e-04\n",
      "Epoch 18/50\n",
      "\u001b[1m90/90\u001b[0m \u001b[32m━━━━━━━━━━━━━━━━━━━━\u001b[0m\u001b[37m\u001b[0m \u001b[1m0s\u001b[0m 2ms/step - loss: 9.3545e-05 - mae: 0.0067 - mape: 1327.4498 - mse: 9.3545e-05 - val_loss: 7.5598e-04 - val_mae: 0.0214 - val_mape: 3.4144 - val_mse: 7.5598e-04\n",
      "Epoch 19/50\n",
      "\u001b[1m90/90\u001b[0m \u001b[32m━━━━━━━━━━━━━━━━━━━━\u001b[0m\u001b[37m\u001b[0m \u001b[1m0s\u001b[0m 2ms/step - loss: 1.0544e-04 - mae: 0.0075 - mape: 3136.7917 - mse: 1.0544e-04 - val_loss: 3.6085e-04 - val_mae: 0.0142 - val_mape: 2.4852 - val_mse: 3.6085e-04\n",
      "Epoch 20/50\n",
      "\u001b[1m90/90\u001b[0m \u001b[32m━━━━━━━━━━━━━━━━━━━━\u001b[0m\u001b[37m\u001b[0m \u001b[1m0s\u001b[0m 2ms/step - loss: 9.2087e-05 - mae: 0.0070 - mape: 2740.1277 - mse: 9.2087e-05 - val_loss: 3.9856e-04 - val_mae: 0.0147 - val_mape: 2.5117 - val_mse: 3.9856e-04\n",
      "Epoch 21/50\n",
      "\u001b[1m90/90\u001b[0m \u001b[32m━━━━━━━━━━━━━━━━━━━━\u001b[0m\u001b[37m\u001b[0m \u001b[1m0s\u001b[0m 2ms/step - loss: 9.0225e-05 - mae: 0.0070 - mape: 1329.4828 - mse: 9.0225e-05 - val_loss: 4.4832e-04 - val_mae: 0.0158 - val_mape: 2.6432 - val_mse: 4.4832e-04\n",
      "Epoch 22/50\n",
      "\u001b[1m90/90\u001b[0m \u001b[32m━━━━━━━━━━━━━━━━━━━━\u001b[0m\u001b[37m\u001b[0m \u001b[1m0s\u001b[0m 2ms/step - loss: 8.8000e-05 - mae: 0.0069 - mape: 1787.6139 - mse: 8.8000e-05 - val_loss: 7.5439e-04 - val_mae: 0.0216 - val_mape: 3.4728 - val_mse: 7.5439e-04\n",
      "Epoch 23/50\n",
      "\u001b[1m90/90\u001b[0m \u001b[32m━━━━━━━━━━━━━━━━━━━━\u001b[0m\u001b[37m\u001b[0m \u001b[1m0s\u001b[0m 2ms/step - loss: 9.8327e-05 - mae: 0.0072 - mape: 9121.6113 - mse: 9.8327e-05 - val_loss: 3.6728e-04 - val_mae: 0.0142 - val_mape: 2.4494 - val_mse: 3.6728e-04\n",
      "Epoch 24/50\n",
      "\u001b[1m90/90\u001b[0m \u001b[32m━━━━━━━━━━━━━━━━━━━━\u001b[0m\u001b[37m\u001b[0m \u001b[1m0s\u001b[0m 2ms/step - loss: 1.0212e-04 - mae: 0.0074 - mape: 8573.9014 - mse: 1.0212e-04 - val_loss: 3.5141e-04 - val_mae: 0.0140 - val_mape: 2.4439 - val_mse: 3.5141e-04\n",
      "Epoch 25/50\n",
      "\u001b[1m90/90\u001b[0m \u001b[32m━━━━━━━━━━━━━━━━━━━━\u001b[0m\u001b[37m\u001b[0m \u001b[1m0s\u001b[0m 2ms/step - loss: 1.1105e-04 - mae: 0.0076 - mape: 1864.8892 - mse: 1.1105e-04 - val_loss: 4.4610e-04 - val_mae: 0.0158 - val_mape: 2.6280 - val_mse: 4.4610e-04\n",
      "Epoch 26/50\n",
      "\u001b[1m90/90\u001b[0m \u001b[32m━━━━━━━━━━━━━━━━━━━━\u001b[0m\u001b[37m\u001b[0m \u001b[1m0s\u001b[0m 2ms/step - loss: 9.0539e-05 - mae: 0.0069 - mape: 4566.0479 - mse: 9.0539e-05 - val_loss: 5.5748e-04 - val_mae: 0.0179 - val_mape: 2.8951 - val_mse: 5.5748e-04\n",
      "Epoch 27/50\n",
      "\u001b[1m90/90\u001b[0m \u001b[32m━━━━━━━━━━━━━━━━━━━━\u001b[0m\u001b[37m\u001b[0m \u001b[1m0s\u001b[0m 2ms/step - loss: 9.1371e-05 - mae: 0.0070 - mape: 17531.8535 - mse: 9.1371e-05 - val_loss: 4.5927e-04 - val_mae: 0.0160 - val_mape: 2.6599 - val_mse: 4.5927e-04\n",
      "Epoch 28/50\n",
      "\u001b[1m90/90\u001b[0m \u001b[32m━━━━━━━━━━━━━━━━━━━━\u001b[0m\u001b[37m\u001b[0m \u001b[1m0s\u001b[0m 2ms/step - loss: 9.8838e-05 - mae: 0.0072 - mape: 1601.0508 - mse: 9.8838e-05 - val_loss: 4.3338e-04 - val_mae: 0.0155 - val_mape: 2.5884 - val_mse: 4.3338e-04\n",
      "Epoch 29/50\n",
      "\u001b[1m90/90\u001b[0m \u001b[32m━━━━━━━━━━━━━━━━━━━━\u001b[0m\u001b[37m\u001b[0m \u001b[1m0s\u001b[0m 2ms/step - loss: 9.6270e-05 - mae: 0.0071 - mape: 3600.7634 - mse: 9.6270e-05 - val_loss: 3.4360e-04 - val_mae: 0.0138 - val_mape: 2.4118 - val_mse: 3.4360e-04\n",
      "Epoch 30/50\n",
      "\u001b[1m90/90\u001b[0m \u001b[32m━━━━━━━━━━━━━━━━━━━━\u001b[0m\u001b[37m\u001b[0m \u001b[1m0s\u001b[0m 2ms/step - loss: 1.0407e-04 - mae: 0.0073 - mape: 1802.0525 - mse: 1.0407e-04 - val_loss: 5.4209e-04 - val_mae: 0.0176 - val_mape: 2.8534 - val_mse: 5.4209e-04\n",
      "Epoch 31/50\n",
      "\u001b[1m90/90\u001b[0m \u001b[32m━━━━━━━━━━━━━━━━━━━━\u001b[0m\u001b[37m\u001b[0m \u001b[1m0s\u001b[0m 2ms/step - loss: 1.0911e-04 - mae: 0.0074 - mape: 2714.2605 - mse: 1.0911e-04 - val_loss: 3.8087e-04 - val_mae: 0.0145 - val_mape: 2.4694 - val_mse: 3.8087e-04\n",
      "Epoch 32/50\n",
      "\u001b[1m90/90\u001b[0m \u001b[32m━━━━━━━━━━━━━━━━━━━━\u001b[0m\u001b[37m\u001b[0m \u001b[1m0s\u001b[0m 2ms/step - loss: 8.9328e-05 - mae: 0.0070 - mape: 7830.5322 - mse: 8.9328e-05 - val_loss: 5.6178e-04 - val_mae: 0.0181 - val_mape: 2.9341 - val_mse: 5.6178e-04\n",
      "Epoch 33/50\n",
      "\u001b[1m90/90\u001b[0m \u001b[32m━━━━━━━━━━━━━━━━━━━━\u001b[0m\u001b[37m\u001b[0m \u001b[1m0s\u001b[0m 2ms/step - loss: 9.3950e-05 - mae: 0.0071 - mape: 13113.0332 - mse: 9.3950e-05 - val_loss: 3.7769e-04 - val_mae: 0.0147 - val_mape: 2.6438 - val_mse: 3.7769e-04\n",
      "Epoch 34/50\n",
      "\u001b[1m90/90\u001b[0m \u001b[32m━━━━━━━━━━━━━━━━━━━━\u001b[0m\u001b[37m\u001b[0m \u001b[1m0s\u001b[0m 2ms/step - loss: 1.0759e-04 - mae: 0.0075 - mape: 5421.9009 - mse: 1.0759e-04 - val_loss: 6.3494e-04 - val_mae: 0.0194 - val_mape: 3.1253 - val_mse: 6.3494e-04\n",
      "Epoch 35/50\n",
      "\u001b[1m90/90\u001b[0m \u001b[32m━━━━━━━━━━━━━━━━━━━━\u001b[0m\u001b[37m\u001b[0m \u001b[1m0s\u001b[0m 2ms/step - loss: 8.7949e-05 - mae: 0.0067 - mape: 6148.5532 - mse: 8.7949e-05 - val_loss: 3.4861e-04 - val_mae: 0.0138 - val_mape: 2.3913 - val_mse: 3.4861e-04\n",
      "Epoch 36/50\n",
      "\u001b[1m90/90\u001b[0m \u001b[32m━━━━━━━━━━━━━━━━━━━━\u001b[0m\u001b[37m\u001b[0m \u001b[1m0s\u001b[0m 2ms/step - loss: 1.0295e-04 - mae: 0.0072 - mape: 648.9044 - mse: 1.0295e-04 - val_loss: 3.4490e-04 - val_mae: 0.0137 - val_mape: 2.3828 - val_mse: 3.4490e-04\n",
      "Epoch 37/50\n",
      "\u001b[1m90/90\u001b[0m \u001b[32m━━━━━━━━━━━━━━━━━━━━\u001b[0m\u001b[37m\u001b[0m \u001b[1m0s\u001b[0m 2ms/step - loss: 8.9291e-05 - mae: 0.0066 - mape: 883.7574 - mse: 8.9291e-05 - val_loss: 7.2773e-04 - val_mae: 0.0210 - val_mape: 3.3355 - val_mse: 7.2773e-04\n",
      "Epoch 38/50\n",
      "\u001b[1m90/90\u001b[0m \u001b[32m━━━━━━━━━━━━━━━━━━━━\u001b[0m\u001b[37m\u001b[0m \u001b[1m0s\u001b[0m 2ms/step - loss: 9.1551e-05 - mae: 0.0071 - mape: 1302.0591 - mse: 9.1551e-05 - val_loss: 5.2882e-04 - val_mae: 0.0175 - val_mape: 2.8543 - val_mse: 5.2882e-04\n",
      "Epoch 39/50\n",
      "\u001b[1m90/90\u001b[0m \u001b[32m━━━━━━━━━━━━━━━━━━━━\u001b[0m\u001b[37m\u001b[0m \u001b[1m0s\u001b[0m 2ms/step - loss: 9.4214e-05 - mae: 0.0069 - mape: 1046.8502 - mse: 9.4214e-05 - val_loss: 5.9234e-04 - val_mae: 0.0186 - val_mape: 2.9960 - val_mse: 5.9234e-04\n",
      "\u001b[1m23/23\u001b[0m \u001b[32m━━━━━━━━━━━━━━━━━━━━\u001b[0m\u001b[37m\u001b[0m \u001b[1m0s\u001b[0m 3ms/step \n",
      "model_3: Processando BBDC4 | Combinação 4...\n",
      "Epoch 1/50\n",
      "\u001b[1m88/88\u001b[0m \u001b[32m━━━━━━━━━━━━━━━━━━━━\u001b[0m\u001b[37m\u001b[0m \u001b[1m1s\u001b[0m 4ms/step - loss: 0.1824 - mae: 0.3022 - mape: 5247.6201 - mse: 0.1824 - val_loss: 0.0012 - val_mae: 0.0263 - val_mape: 4.9490 - val_mse: 0.0012\n",
      "Epoch 2/50\n",
      "\u001b[1m88/88\u001b[0m \u001b[32m━━━━━━━━━━━━━━━━━━━━\u001b[0m\u001b[37m\u001b[0m \u001b[1m0s\u001b[0m 2ms/step - loss: 0.0010 - mae: 0.0249 - mape: 3211.0916 - mse: 0.0010 - val_loss: 8.3074e-04 - val_mae: 0.0220 - val_mape: 4.5207 - val_mse: 8.3074e-04\n",
      "Epoch 3/50\n",
      "\u001b[1m88/88\u001b[0m \u001b[32m━━━━━━━━━━━━━━━━━━━━\u001b[0m\u001b[37m\u001b[0m \u001b[1m0s\u001b[0m 2ms/step - loss: 5.3367e-04 - mae: 0.0154 - mape: 10133.8164 - mse: 5.3367e-04 - val_loss: 6.6040e-04 - val_mae: 0.0189 - val_mape: 3.8362 - val_mse: 6.6040e-04\n",
      "Epoch 4/50\n",
      "\u001b[1m88/88\u001b[0m \u001b[32m━━━━━━━━━━━━━━━━━━━━\u001b[0m\u001b[37m\u001b[0m \u001b[1m0s\u001b[0m 2ms/step - loss: 3.6627e-04 - mae: 0.0133 - mape: 6608.0796 - mse: 3.6627e-04 - val_loss: 6.3567e-04 - val_mae: 0.0185 - val_mape: 3.7230 - val_mse: 6.3567e-04\n",
      "Epoch 5/50\n",
      "\u001b[1m88/88\u001b[0m \u001b[32m━━━━━━━━━━━━━━━━━━━━\u001b[0m\u001b[37m\u001b[0m \u001b[1m0s\u001b[0m 2ms/step - loss: 3.7474e-04 - mae: 0.0132 - mape: 1035.0743 - mse: 3.7474e-04 - val_loss: 6.0150e-04 - val_mae: 0.0178 - val_mape: 3.5706 - val_mse: 6.0150e-04\n",
      "Epoch 6/50\n",
      "\u001b[1m88/88\u001b[0m \u001b[32m━━━━━━━━━━━━━━━━━━━━\u001b[0m\u001b[37m\u001b[0m \u001b[1m0s\u001b[0m 2ms/step - loss: 3.3467e-04 - mae: 0.0131 - mape: 842.5375 - mse: 3.3467e-04 - val_loss: 5.6360e-04 - val_mae: 0.0171 - val_mape: 3.3938 - val_mse: 5.6360e-04\n",
      "Epoch 7/50\n",
      "\u001b[1m88/88\u001b[0m \u001b[32m━━━━━━━━━━━━━━━━━━━━\u001b[0m\u001b[37m\u001b[0m \u001b[1m0s\u001b[0m 2ms/step - loss: 3.7227e-04 - mae: 0.0129 - mape: 11197.3359 - mse: 3.7227e-04 - val_loss: 6.2860e-04 - val_mae: 0.0183 - val_mape: 3.6820 - val_mse: 6.2860e-04\n",
      "Epoch 8/50\n",
      "\u001b[1m88/88\u001b[0m \u001b[32m━━━━━━━━━━━━━━━━━━━━\u001b[0m\u001b[37m\u001b[0m \u001b[1m0s\u001b[0m 2ms/step - loss: 3.3882e-04 - mae: 0.0127 - mape: 287.1054 - mse: 3.3882e-04 - val_loss: 5.6087e-04 - val_mae: 0.0171 - val_mape: 3.3751 - val_mse: 5.6087e-04\n",
      "Epoch 9/50\n",
      "\u001b[1m88/88\u001b[0m \u001b[32m━━━━━━━━━━━━━━━━━━━━\u001b[0m\u001b[37m\u001b[0m \u001b[1m0s\u001b[0m 2ms/step - loss: 4.1355e-04 - mae: 0.0131 - mape: 8065.1475 - mse: 4.1355e-04 - val_loss: 6.2070e-04 - val_mae: 0.0182 - val_mape: 3.6390 - val_mse: 6.2070e-04\n",
      "Epoch 10/50\n",
      "\u001b[1m88/88\u001b[0m \u001b[32m━━━━━━━━━━━━━━━━━━━━\u001b[0m\u001b[37m\u001b[0m \u001b[1m0s\u001b[0m 2ms/step - loss: 3.4058e-04 - mae: 0.0129 - mape: 603.5100 - mse: 3.4058e-04 - val_loss: 5.6336e-04 - val_mae: 0.0171 - val_mape: 3.4044 - val_mse: 5.6336e-04\n",
      "Epoch 11/50\n",
      "\u001b[1m88/88\u001b[0m \u001b[32m━━━━━━━━━━━━━━━━━━━━\u001b[0m\u001b[37m\u001b[0m \u001b[1m0s\u001b[0m 2ms/step - loss: 3.7795e-04 - mae: 0.0127 - mape: 117.5582 - mse: 3.7795e-04 - val_loss: 6.8877e-04 - val_mae: 0.0196 - val_mape: 3.9051 - val_mse: 6.8877e-04\n",
      "Epoch 12/50\n",
      "\u001b[1m88/88\u001b[0m \u001b[32m━━━━━━━━━━━━━━━━━━━━\u001b[0m\u001b[37m\u001b[0m \u001b[1m0s\u001b[0m 2ms/step - loss: 4.0131e-04 - mae: 0.0134 - mape: 2948.6040 - mse: 4.0131e-04 - val_loss: 6.0293e-04 - val_mae: 0.0178 - val_mape: 3.5738 - val_mse: 6.0293e-04\n",
      "Epoch 13/50\n",
      "\u001b[1m88/88\u001b[0m \u001b[32m━━━━━━━━━━━━━━━━━━━━\u001b[0m\u001b[37m\u001b[0m \u001b[1m0s\u001b[0m 2ms/step - loss: 4.3533e-04 - mae: 0.0131 - mape: 6022.4307 - mse: 4.3533e-04 - val_loss: 5.9515e-04 - val_mae: 0.0177 - val_mape: 3.5356 - val_mse: 5.9515e-04\n",
      "Epoch 14/50\n",
      "\u001b[1m88/88\u001b[0m \u001b[32m━━━━━━━━━━━━━━━━━━━━\u001b[0m\u001b[37m\u001b[0m \u001b[1m0s\u001b[0m 2ms/step - loss: 3.5761e-04 - mae: 0.0127 - mape: 1559.7583 - mse: 3.5761e-04 - val_loss: 5.6375e-04 - val_mae: 0.0170 - val_mape: 3.3909 - val_mse: 5.6375e-04\n",
      "Epoch 15/50\n",
      "\u001b[1m88/88\u001b[0m \u001b[32m━━━━━━━━━━━━━━━━━━━━\u001b[0m\u001b[37m\u001b[0m \u001b[1m0s\u001b[0m 2ms/step - loss: 3.5381e-04 - mae: 0.0131 - mape: 1344.2482 - mse: 3.5381e-04 - val_loss: 5.4581e-04 - val_mae: 0.0168 - val_mape: 3.3172 - val_mse: 5.4581e-04\n",
      "Epoch 16/50\n",
      "\u001b[1m88/88\u001b[0m \u001b[32m━━━━━━━━━━━━━━━━━━━━\u001b[0m\u001b[37m\u001b[0m \u001b[1m0s\u001b[0m 2ms/step - loss: 3.2579e-04 - mae: 0.0126 - mape: 3500.9375 - mse: 3.2579e-04 - val_loss: 5.4246e-04 - val_mae: 0.0166 - val_mape: 3.3043 - val_mse: 5.4246e-04\n",
      "Epoch 17/50\n",
      "\u001b[1m88/88\u001b[0m \u001b[32m━━━━━━━━━━━━━━━━━━━━\u001b[0m\u001b[37m\u001b[0m \u001b[1m0s\u001b[0m 2ms/step - loss: 3.1101e-04 - mae: 0.0124 - mape: 2117.6948 - mse: 3.1101e-04 - val_loss: 5.4074e-04 - val_mae: 0.0166 - val_mape: 3.2992 - val_mse: 5.4074e-04\n",
      "Epoch 18/50\n",
      "\u001b[1m88/88\u001b[0m \u001b[32m━━━━━━━━━━━━━━━━━━━━\u001b[0m\u001b[37m\u001b[0m \u001b[1m0s\u001b[0m 2ms/step - loss: 4.2659e-04 - mae: 0.0132 - mape: 1935.6755 - mse: 4.2659e-04 - val_loss: 5.3885e-04 - val_mae: 0.0166 - val_mape: 3.3036 - val_mse: 5.3885e-04\n",
      "Epoch 19/50\n",
      "\u001b[1m88/88\u001b[0m \u001b[32m━━━━━━━━━━━━━━━━━━━━\u001b[0m\u001b[37m\u001b[0m \u001b[1m0s\u001b[0m 2ms/step - loss: 3.6519e-04 - mae: 0.0128 - mape: 8333.6992 - mse: 3.6519e-04 - val_loss: 6.4105e-04 - val_mae: 0.0186 - val_mape: 3.7387 - val_mse: 6.4105e-04\n",
      "Epoch 20/50\n",
      "\u001b[1m88/88\u001b[0m \u001b[32m━━━━━━━━━━━━━━━━━━━━\u001b[0m\u001b[37m\u001b[0m \u001b[1m0s\u001b[0m 2ms/step - loss: 3.8666e-04 - mae: 0.0131 - mape: 1810.9666 - mse: 3.8666e-04 - val_loss: 6.1018e-04 - val_mae: 0.0180 - val_mape: 3.6054 - val_mse: 6.1018e-04\n",
      "Epoch 21/50\n",
      "\u001b[1m88/88\u001b[0m \u001b[32m━━━━━━━━━━━━━━━━━━━━\u001b[0m\u001b[37m\u001b[0m \u001b[1m0s\u001b[0m 2ms/step - loss: 2.8618e-04 - mae: 0.0120 - mape: 6254.0625 - mse: 2.8618e-04 - val_loss: 5.3952e-04 - val_mae: 0.0166 - val_mape: 3.3082 - val_mse: 5.3952e-04\n",
      "Epoch 22/50\n",
      "\u001b[1m88/88\u001b[0m \u001b[32m━━━━━━━━━━━━━━━━━━━━\u001b[0m\u001b[37m\u001b[0m \u001b[1m0s\u001b[0m 2ms/step - loss: 3.2692e-04 - mae: 0.0124 - mape: 70.6902 - mse: 3.2692e-04 - val_loss: 5.6634e-04 - val_mae: 0.0172 - val_mape: 3.3730 - val_mse: 5.6634e-04\n",
      "Epoch 23/50\n",
      "\u001b[1m88/88\u001b[0m \u001b[32m━━━━━━━━━━━━━━━━━━━━\u001b[0m\u001b[37m\u001b[0m \u001b[1m0s\u001b[0m 2ms/step - loss: 3.4400e-04 - mae: 0.0131 - mape: 388.4446 - mse: 3.4400e-04 - val_loss: 5.3127e-04 - val_mae: 0.0164 - val_mape: 3.2619 - val_mse: 5.3127e-04\n",
      "Epoch 24/50\n",
      "\u001b[1m88/88\u001b[0m \u001b[32m━━━━━━━━━━━━━━━━━━━━\u001b[0m\u001b[37m\u001b[0m \u001b[1m0s\u001b[0m 2ms/step - loss: 3.3244e-04 - mae: 0.0121 - mape: 4246.0132 - mse: 3.3244e-04 - val_loss: 5.6327e-04 - val_mae: 0.0170 - val_mape: 3.4027 - val_mse: 5.6327e-04\n",
      "Epoch 25/50\n",
      "\u001b[1m88/88\u001b[0m \u001b[32m━━━━━━━━━━━━━━━━━━━━\u001b[0m\u001b[37m\u001b[0m \u001b[1m0s\u001b[0m 2ms/step - loss: 3.7132e-04 - mae: 0.0124 - mape: 1571.8240 - mse: 3.7132e-04 - val_loss: 6.0206e-04 - val_mae: 0.0178 - val_mape: 3.5656 - val_mse: 6.0206e-04\n",
      "Epoch 26/50\n",
      "\u001b[1m88/88\u001b[0m \u001b[32m━━━━━━━━━━━━━━━━━━━━\u001b[0m\u001b[37m\u001b[0m \u001b[1m0s\u001b[0m 2ms/step - loss: 3.9187e-04 - mae: 0.0128 - mape: 5847.4224 - mse: 3.9187e-04 - val_loss: 5.5848e-04 - val_mae: 0.0169 - val_mape: 3.3906 - val_mse: 5.5848e-04\n",
      "Epoch 27/50\n",
      "\u001b[1m88/88\u001b[0m \u001b[32m━━━━━━━━━━━━━━━━━━━━\u001b[0m\u001b[37m\u001b[0m \u001b[1m0s\u001b[0m 2ms/step - loss: 2.9319e-04 - mae: 0.0119 - mape: 3013.3931 - mse: 2.9319e-04 - val_loss: 5.2923e-04 - val_mae: 0.0163 - val_mape: 3.2649 - val_mse: 5.2923e-04\n",
      "Epoch 28/50\n",
      "\u001b[1m88/88\u001b[0m \u001b[32m━━━━━━━━━━━━━━━━━━━━\u001b[0m\u001b[37m\u001b[0m \u001b[1m0s\u001b[0m 2ms/step - loss: 3.4259e-04 - mae: 0.0121 - mape: 3861.1309 - mse: 3.4259e-04 - val_loss: 5.6942e-04 - val_mae: 0.0171 - val_mape: 3.4463 - val_mse: 5.6942e-04\n",
      "Epoch 29/50\n",
      "\u001b[1m88/88\u001b[0m \u001b[32m━━━━━━━━━━━━━━━━━━━━\u001b[0m\u001b[37m\u001b[0m \u001b[1m0s\u001b[0m 2ms/step - loss: 3.9356e-04 - mae: 0.0125 - mape: 4587.3545 - mse: 3.9356e-04 - val_loss: 5.3425e-04 - val_mae: 0.0164 - val_mape: 3.2884 - val_mse: 5.3425e-04\n",
      "Epoch 30/50\n",
      "\u001b[1m88/88\u001b[0m \u001b[32m━━━━━━━━━━━━━━━━━━━━\u001b[0m\u001b[37m\u001b[0m \u001b[1m0s\u001b[0m 3ms/step - loss: 3.0562e-04 - mae: 0.0120 - mape: 856.6552 - mse: 3.0562e-04 - val_loss: 5.5162e-04 - val_mae: 0.0170 - val_mape: 3.3415 - val_mse: 5.5162e-04\n",
      "Epoch 31/50\n",
      "\u001b[1m88/88\u001b[0m \u001b[32m━━━━━━━━━━━━━━━━━━━━\u001b[0m\u001b[37m\u001b[0m \u001b[1m0s\u001b[0m 2ms/step - loss: 3.5394e-04 - mae: 0.0124 - mape: 265.1345 - mse: 3.5394e-04 - val_loss: 5.5456e-04 - val_mae: 0.0169 - val_mape: 3.3872 - val_mse: 5.5456e-04\n",
      "Epoch 32/50\n",
      "\u001b[1m88/88\u001b[0m \u001b[32m━━━━━━━━━━━━━━━━━━━━\u001b[0m\u001b[37m\u001b[0m \u001b[1m0s\u001b[0m 2ms/step - loss: 2.8629e-04 - mae: 0.0116 - mape: 91.5723 - mse: 2.8629e-04 - val_loss: 6.5293e-04 - val_mae: 0.0189 - val_mape: 3.7805 - val_mse: 6.5293e-04\n",
      "Epoch 33/50\n",
      "\u001b[1m88/88\u001b[0m \u001b[32m━━━━━━━━━━━━━━━━━━━━\u001b[0m\u001b[37m\u001b[0m \u001b[1m0s\u001b[0m 2ms/step - loss: 2.7963e-04 - mae: 0.0121 - mape: 387.4512 - mse: 2.7963e-04 - val_loss: 5.1787e-04 - val_mae: 0.0163 - val_mape: 3.2329 - val_mse: 5.1787e-04\n",
      "Epoch 34/50\n",
      "\u001b[1m88/88\u001b[0m \u001b[32m━━━━━━━━━━━━━━━━━━━━\u001b[0m\u001b[37m\u001b[0m \u001b[1m0s\u001b[0m 2ms/step - loss: 2.9061e-04 - mae: 0.0119 - mape: 3319.5286 - mse: 2.9061e-04 - val_loss: 6.9605e-04 - val_mae: 0.0197 - val_mape: 3.9346 - val_mse: 6.9605e-04\n",
      "Epoch 35/50\n",
      "\u001b[1m88/88\u001b[0m \u001b[32m━━━━━━━━━━━━━━━━━━━━\u001b[0m\u001b[37m\u001b[0m \u001b[1m0s\u001b[0m 2ms/step - loss: 3.0594e-04 - mae: 0.0121 - mape: 1556.9161 - mse: 3.0594e-04 - val_loss: 5.1704e-04 - val_mae: 0.0162 - val_mape: 3.2352 - val_mse: 5.1704e-04\n",
      "Epoch 36/50\n",
      "\u001b[1m88/88\u001b[0m \u001b[32m━━━━━━━━━━━━━━━━━━━━\u001b[0m\u001b[37m\u001b[0m \u001b[1m0s\u001b[0m 2ms/step - loss: 3.9965e-04 - mae: 0.0127 - mape: 3232.5271 - mse: 3.9965e-04 - val_loss: 5.2077e-04 - val_mae: 0.0165 - val_mape: 3.2481 - val_mse: 5.2077e-04\n",
      "Epoch 37/50\n",
      "\u001b[1m88/88\u001b[0m \u001b[32m━━━━━━━━━━━━━━━━━━━━\u001b[0m\u001b[37m\u001b[0m \u001b[1m0s\u001b[0m 2ms/step - loss: 2.8147e-04 - mae: 0.0119 - mape: 2129.3516 - mse: 2.8147e-04 - val_loss: 5.2580e-04 - val_mae: 0.0163 - val_mape: 3.2761 - val_mse: 5.2580e-04\n",
      "Epoch 38/50\n",
      "\u001b[1m88/88\u001b[0m \u001b[32m━━━━━━━━━━━━━━━━━━━━\u001b[0m\u001b[37m\u001b[0m \u001b[1m0s\u001b[0m 2ms/step - loss: 2.9108e-04 - mae: 0.0120 - mape: 2653.2861 - mse: 2.9108e-04 - val_loss: 5.5861e-04 - val_mae: 0.0170 - val_mape: 3.4108 - val_mse: 5.5861e-04\n",
      "Epoch 39/50\n",
      "\u001b[1m88/88\u001b[0m \u001b[32m━━━━━━━━━━━━━━━━━━━━\u001b[0m\u001b[37m\u001b[0m \u001b[1m0s\u001b[0m 2ms/step - loss: 2.6753e-04 - mae: 0.0116 - mape: 538.2186 - mse: 2.6753e-04 - val_loss: 5.1694e-04 - val_mae: 0.0162 - val_mape: 3.2267 - val_mse: 5.1694e-04\n",
      "Epoch 40/50\n",
      "\u001b[1m88/88\u001b[0m \u001b[32m━━━━━━━━━━━━━━━━━━━━\u001b[0m\u001b[37m\u001b[0m \u001b[1m0s\u001b[0m 2ms/step - loss: 2.9643e-04 - mae: 0.0121 - mape: 825.6511 - mse: 2.9643e-04 - val_loss: 5.1012e-04 - val_mae: 0.0161 - val_mape: 3.2069 - val_mse: 5.1012e-04\n",
      "Epoch 41/50\n",
      "\u001b[1m88/88\u001b[0m \u001b[32m━━━━━━━━━━━━━━━━━━━━\u001b[0m\u001b[37m\u001b[0m \u001b[1m0s\u001b[0m 2ms/step - loss: 4.7440e-04 - mae: 0.0135 - mape: 428.7943 - mse: 4.7440e-04 - val_loss: 5.0746e-04 - val_mae: 0.0160 - val_mape: 3.1993 - val_mse: 5.0746e-04\n",
      "Epoch 42/50\n",
      "\u001b[1m88/88\u001b[0m \u001b[32m━━━━━━━━━━━━━━━━━━━━\u001b[0m\u001b[37m\u001b[0m \u001b[1m0s\u001b[0m 2ms/step - loss: 2.9315e-04 - mae: 0.0119 - mape: 558.6914 - mse: 2.9315e-04 - val_loss: 5.8954e-04 - val_mae: 0.0181 - val_mape: 3.5019 - val_mse: 5.8954e-04\n",
      "Epoch 43/50\n",
      "\u001b[1m88/88\u001b[0m \u001b[32m━━━━━━━━━━━━━━━━━━━━\u001b[0m\u001b[37m\u001b[0m \u001b[1m0s\u001b[0m 2ms/step - loss: 4.5069e-04 - mae: 0.0134 - mape: 331.1841 - mse: 4.5069e-04 - val_loss: 5.3696e-04 - val_mae: 0.0169 - val_mape: 3.3063 - val_mse: 5.3696e-04\n",
      "Epoch 44/50\n",
      "\u001b[1m88/88\u001b[0m \u001b[32m━━━━━━━━━━━━━━━━━━━━\u001b[0m\u001b[37m\u001b[0m \u001b[1m0s\u001b[0m 2ms/step - loss: 4.2667e-04 - mae: 0.0127 - mape: 4742.8560 - mse: 4.2667e-04 - val_loss: 8.0142e-04 - val_mae: 0.0219 - val_mape: 4.3324 - val_mse: 8.0142e-04\n",
      "Epoch 45/50\n",
      "\u001b[1m88/88\u001b[0m \u001b[32m━━━━━━━━━━━━━━━━━━━━\u001b[0m\u001b[37m\u001b[0m \u001b[1m0s\u001b[0m 2ms/step - loss: 4.4762e-04 - mae: 0.0131 - mape: 3886.0503 - mse: 4.4762e-04 - val_loss: 7.4548e-04 - val_mae: 0.0208 - val_mape: 4.1269 - val_mse: 7.4548e-04\n",
      "Epoch 46/50\n",
      "\u001b[1m88/88\u001b[0m \u001b[32m━━━━━━━━━━━━━━━━━━━━\u001b[0m\u001b[37m\u001b[0m \u001b[1m0s\u001b[0m 2ms/step - loss: 3.0425e-04 - mae: 0.0121 - mape: 1153.6348 - mse: 3.0425e-04 - val_loss: 5.1165e-04 - val_mae: 0.0161 - val_mape: 3.2123 - val_mse: 5.1165e-04\n",
      "Epoch 47/50\n",
      "\u001b[1m88/88\u001b[0m \u001b[32m━━━━━━━━━━━━━━━━━━━━\u001b[0m\u001b[37m\u001b[0m \u001b[1m0s\u001b[0m 2ms/step - loss: 3.4034e-04 - mae: 0.0121 - mape: 641.6326 - mse: 3.4034e-04 - val_loss: 5.1324e-04 - val_mae: 0.0161 - val_mape: 3.2247 - val_mse: 5.1324e-04\n",
      "Epoch 48/50\n",
      "\u001b[1m88/88\u001b[0m \u001b[32m━━━━━━━━━━━━━━━━━━━━\u001b[0m\u001b[37m\u001b[0m \u001b[1m0s\u001b[0m 2ms/step - loss: 2.8992e-04 - mae: 0.0120 - mape: 426.1600 - mse: 2.8992e-04 - val_loss: 5.5001e-04 - val_mae: 0.0168 - val_mape: 3.3716 - val_mse: 5.5001e-04\n",
      "Epoch 49/50\n",
      "\u001b[1m88/88\u001b[0m \u001b[32m━━━━━━━━━━━━━━━━━━━━\u001b[0m\u001b[37m\u001b[0m \u001b[1m0s\u001b[0m 2ms/step - loss: 4.4380e-04 - mae: 0.0121 - mape: 1890.5271 - mse: 4.4380e-04 - val_loss: 7.0842e-04 - val_mae: 0.0201 - val_mape: 4.0031 - val_mse: 7.0842e-04\n",
      "Epoch 50/50\n",
      "\u001b[1m88/88\u001b[0m \u001b[32m━━━━━━━━━━━━━━━━━━━━\u001b[0m\u001b[37m\u001b[0m \u001b[1m0s\u001b[0m 2ms/step - loss: 3.2795e-04 - mae: 0.0125 - mape: 667.1246 - mse: 3.2795e-04 - val_loss: 5.0279e-04 - val_mae: 0.0160 - val_mape: 3.1849 - val_mse: 5.0279e-04\n",
      "\u001b[1m22/22\u001b[0m \u001b[32m━━━━━━━━━━━━━━━━━━━━\u001b[0m\u001b[37m\u001b[0m \u001b[1m0s\u001b[0m 4ms/step\n",
      "model_3: Processando ITUB4 | Combinação 4...\n",
      "Epoch 1/50\n",
      "\u001b[1m90/90\u001b[0m \u001b[32m━━━━━━━━━━━━━━━━━━━━\u001b[0m\u001b[37m\u001b[0m \u001b[1m1s\u001b[0m 3ms/step - loss: 0.0373 - mae: 0.1168 - mape: 234822.2500 - mse: 0.0373 - val_loss: 0.0014 - val_mae: 0.0268 - val_mape: 4.6861 - val_mse: 0.0014\n",
      "Epoch 2/50\n",
      "\u001b[1m90/90\u001b[0m \u001b[32m━━━━━━━━━━━━━━━━━━━━\u001b[0m\u001b[37m\u001b[0m \u001b[1m0s\u001b[0m 2ms/step - loss: 3.3191e-04 - mae: 0.0136 - mape: 62517.7891 - mse: 3.3191e-04 - val_loss: 6.6683e-04 - val_mae: 0.0184 - val_mape: 3.1575 - val_mse: 6.6683e-04\n",
      "Epoch 3/50\n",
      "\u001b[1m90/90\u001b[0m \u001b[32m━━━━━━━━━━━━━━━━━━━━\u001b[0m\u001b[37m\u001b[0m \u001b[1m0s\u001b[0m 2ms/step - loss: 2.4657e-04 - mae: 0.0117 - mape: 27775.6250 - mse: 2.4657e-04 - val_loss: 5.3819e-04 - val_mae: 0.0166 - val_mape: 2.8043 - val_mse: 5.3819e-04\n",
      "Epoch 4/50\n",
      "\u001b[1m90/90\u001b[0m \u001b[32m━━━━━━━━━━━━━━━━━━━━\u001b[0m\u001b[37m\u001b[0m \u001b[1m0s\u001b[0m 2ms/step - loss: 2.4615e-04 - mae: 0.0117 - mape: 13676.2979 - mse: 2.4615e-04 - val_loss: 5.3873e-04 - val_mae: 0.0167 - val_mape: 2.8425 - val_mse: 5.3873e-04\n",
      "Epoch 5/50\n",
      "\u001b[1m90/90\u001b[0m \u001b[32m━━━━━━━━━━━━━━━━━━━━\u001b[0m\u001b[37m\u001b[0m \u001b[1m0s\u001b[0m 2ms/step - loss: 2.2717e-04 - mae: 0.0111 - mape: 42038.6797 - mse: 2.2717e-04 - val_loss: 5.0992e-04 - val_mae: 0.0162 - val_mape: 2.7497 - val_mse: 5.0992e-04\n",
      "Epoch 6/50\n",
      "\u001b[1m90/90\u001b[0m \u001b[32m━━━━━━━━━━━━━━━━━━━━\u001b[0m\u001b[37m\u001b[0m \u001b[1m0s\u001b[0m 2ms/step - loss: 2.4274e-04 - mae: 0.0115 - mape: 6284.1895 - mse: 2.4274e-04 - val_loss: 6.3578e-04 - val_mae: 0.0188 - val_mape: 3.1829 - val_mse: 6.3578e-04\n",
      "Epoch 7/50\n",
      "\u001b[1m90/90\u001b[0m \u001b[32m━━━━━━━━━━━━━━━━━━━━\u001b[0m\u001b[37m\u001b[0m \u001b[1m0s\u001b[0m 2ms/step - loss: 2.2223e-04 - mae: 0.0111 - mape: 39874.4297 - mse: 2.2223e-04 - val_loss: 4.9663e-04 - val_mae: 0.0161 - val_mape: 2.7256 - val_mse: 4.9663e-04\n",
      "Epoch 8/50\n",
      "\u001b[1m90/90\u001b[0m \u001b[32m━━━━━━━━━━━━━━━━━━━━\u001b[0m\u001b[37m\u001b[0m \u001b[1m0s\u001b[0m 2ms/step - loss: 2.1580e-04 - mae: 0.0110 - mape: 49161.3906 - mse: 2.1580e-04 - val_loss: 5.9687e-04 - val_mae: 0.0183 - val_mape: 3.0404 - val_mse: 5.9687e-04\n",
      "Epoch 9/50\n",
      "\u001b[1m90/90\u001b[0m \u001b[32m━━━━━━━━━━━━━━━━━━━━\u001b[0m\u001b[37m\u001b[0m \u001b[1m0s\u001b[0m 2ms/step - loss: 2.2557e-04 - mae: 0.0113 - mape: 29150.1855 - mse: 2.2557e-04 - val_loss: 8.0096e-04 - val_mae: 0.0219 - val_mape: 3.7055 - val_mse: 8.0096e-04\n",
      "Epoch 10/50\n",
      "\u001b[1m90/90\u001b[0m \u001b[32m━━━━━━━━━━━━━━━━━━━━\u001b[0m\u001b[37m\u001b[0m \u001b[1m0s\u001b[0m 2ms/step - loss: 2.5347e-04 - mae: 0.0120 - mape: 10018.0166 - mse: 2.5347e-04 - val_loss: 4.9626e-04 - val_mae: 0.0162 - val_mape: 2.7297 - val_mse: 4.9626e-04\n",
      "Epoch 11/50\n",
      "\u001b[1m90/90\u001b[0m \u001b[32m━━━━━━━━━━━━━━━━━━━━\u001b[0m\u001b[37m\u001b[0m \u001b[1m0s\u001b[0m 2ms/step - loss: 2.3218e-04 - mae: 0.0114 - mape: 30760.0137 - mse: 2.3218e-04 - val_loss: 4.8388e-04 - val_mae: 0.0160 - val_mape: 2.6974 - val_mse: 4.8388e-04\n",
      "Epoch 12/50\n",
      "\u001b[1m90/90\u001b[0m \u001b[32m━━━━━━━━━━━━━━━━━━━━\u001b[0m\u001b[37m\u001b[0m \u001b[1m0s\u001b[0m 2ms/step - loss: 2.1816e-04 - mae: 0.0109 - mape: 15958.0039 - mse: 2.1816e-04 - val_loss: 4.9581e-04 - val_mae: 0.0162 - val_mape: 2.7302 - val_mse: 4.9581e-04\n",
      "Epoch 13/50\n",
      "\u001b[1m90/90\u001b[0m \u001b[32m━━━━━━━━━━━━━━━━━━━━\u001b[0m\u001b[37m\u001b[0m \u001b[1m0s\u001b[0m 2ms/step - loss: 2.1382e-04 - mae: 0.0110 - mape: 35583.3281 - mse: 2.1382e-04 - val_loss: 4.7724e-04 - val_mae: 0.0159 - val_mape: 2.6790 - val_mse: 4.7724e-04\n",
      "Epoch 14/50\n",
      "\u001b[1m90/90\u001b[0m \u001b[32m━━━━━━━━━━━━━━━━━━━━\u001b[0m\u001b[37m\u001b[0m \u001b[1m0s\u001b[0m 2ms/step - loss: 2.0984e-04 - mae: 0.0107 - mape: 9853.0635 - mse: 2.0984e-04 - val_loss: 4.6799e-04 - val_mae: 0.0157 - val_mape: 2.6519 - val_mse: 4.6799e-04\n",
      "Epoch 15/50\n",
      "\u001b[1m90/90\u001b[0m \u001b[32m━━━━━━━━━━━━━━━━━━━━\u001b[0m\u001b[37m\u001b[0m \u001b[1m0s\u001b[0m 2ms/step - loss: 2.2861e-04 - mae: 0.0112 - mape: 11900.1172 - mse: 2.2861e-04 - val_loss: 4.9820e-04 - val_mae: 0.0163 - val_mape: 2.7761 - val_mse: 4.9820e-04\n",
      "Epoch 16/50\n",
      "\u001b[1m90/90\u001b[0m \u001b[32m━━━━━━━━━━━━━━━━━━━━\u001b[0m\u001b[37m\u001b[0m \u001b[1m0s\u001b[0m 2ms/step - loss: 2.3521e-04 - mae: 0.0113 - mape: 26511.8262 - mse: 2.3521e-04 - val_loss: 5.0057e-04 - val_mae: 0.0165 - val_mape: 2.7603 - val_mse: 5.0057e-04\n",
      "Epoch 17/50\n",
      "\u001b[1m90/90\u001b[0m \u001b[32m━━━━━━━━━━━━━━━━━━━━\u001b[0m\u001b[37m\u001b[0m \u001b[1m0s\u001b[0m 2ms/step - loss: 2.1289e-04 - mae: 0.0107 - mape: 22857.0918 - mse: 2.1289e-04 - val_loss: 4.5496e-04 - val_mae: 0.0155 - val_mape: 2.6205 - val_mse: 4.5496e-04\n",
      "Epoch 18/50\n",
      "\u001b[1m90/90\u001b[0m \u001b[32m━━━━━━━━━━━━━━━━━━━━\u001b[0m\u001b[37m\u001b[0m \u001b[1m0s\u001b[0m 2ms/step - loss: 2.1868e-04 - mae: 0.0109 - mape: 14772.0186 - mse: 2.1868e-04 - val_loss: 5.4963e-04 - val_mae: 0.0175 - val_mape: 2.9847 - val_mse: 5.4963e-04\n",
      "Epoch 19/50\n",
      "\u001b[1m90/90\u001b[0m \u001b[32m━━━━━━━━━━━━━━━━━━━━\u001b[0m\u001b[37m\u001b[0m \u001b[1m0s\u001b[0m 2ms/step - loss: 2.1880e-04 - mae: 0.0111 - mape: 34825.0156 - mse: 2.1880e-04 - val_loss: 4.8979e-04 - val_mae: 0.0163 - val_mape: 2.7245 - val_mse: 4.8979e-04\n",
      "Epoch 20/50\n",
      "\u001b[1m90/90\u001b[0m \u001b[32m━━━━━━━━━━━━━━━━━━━━\u001b[0m\u001b[37m\u001b[0m \u001b[1m0s\u001b[0m 2ms/step - loss: 2.0983e-04 - mae: 0.0106 - mape: 10797.1143 - mse: 2.0983e-04 - val_loss: 4.4785e-04 - val_mae: 0.0154 - val_mape: 2.5955 - val_mse: 4.4785e-04\n",
      "Epoch 21/50\n",
      "\u001b[1m90/90\u001b[0m \u001b[32m━━━━━━━━━━━━━━━━━━━━\u001b[0m\u001b[37m\u001b[0m \u001b[1m0s\u001b[0m 2ms/step - loss: 2.3599e-04 - mae: 0.0116 - mape: 29196.8594 - mse: 2.3599e-04 - val_loss: 4.6365e-04 - val_mae: 0.0156 - val_mape: 2.6600 - val_mse: 4.6365e-04\n",
      "Epoch 22/50\n",
      "\u001b[1m90/90\u001b[0m \u001b[32m━━━━━━━━━━━━━━━━━━━━\u001b[0m\u001b[37m\u001b[0m \u001b[1m0s\u001b[0m 2ms/step - loss: 2.0273e-04 - mae: 0.0105 - mape: 10874.2422 - mse: 2.0273e-04 - val_loss: 4.5492e-04 - val_mae: 0.0155 - val_mape: 2.6147 - val_mse: 4.5492e-04\n",
      "Epoch 23/50\n",
      "\u001b[1m90/90\u001b[0m \u001b[32m━━━━━━━━━━━━━━━━━━━━\u001b[0m\u001b[37m\u001b[0m \u001b[1m0s\u001b[0m 2ms/step - loss: 1.9510e-04 - mae: 0.0105 - mape: 32459.1934 - mse: 1.9510e-04 - val_loss: 4.9127e-04 - val_mae: 0.0164 - val_mape: 2.7751 - val_mse: 4.9127e-04\n",
      "Epoch 24/50\n",
      "\u001b[1m90/90\u001b[0m \u001b[32m━━━━━━━━━━━━━━━━━━━━\u001b[0m\u001b[37m\u001b[0m \u001b[1m0s\u001b[0m 3ms/step - loss: 2.1923e-04 - mae: 0.0110 - mape: 26798.9785 - mse: 2.1923e-04 - val_loss: 5.6792e-04 - val_mae: 0.0181 - val_mape: 2.9959 - val_mse: 5.6792e-04\n",
      "Epoch 25/50\n",
      "\u001b[1m90/90\u001b[0m \u001b[32m━━━━━━━━━━━━━━━━━━━━\u001b[0m\u001b[37m\u001b[0m \u001b[1m0s\u001b[0m 2ms/step - loss: 2.1481e-04 - mae: 0.0108 - mape: 84975.8750 - mse: 2.1481e-04 - val_loss: 4.8306e-04 - val_mae: 0.0161 - val_mape: 2.7418 - val_mse: 4.8306e-04\n",
      "Epoch 26/50\n",
      "\u001b[1m90/90\u001b[0m \u001b[32m━━━━━━━━━━━━━━━━━━━━\u001b[0m\u001b[37m\u001b[0m \u001b[1m0s\u001b[0m 2ms/step - loss: 2.4648e-04 - mae: 0.0114 - mape: 65621.2344 - mse: 2.4648e-04 - val_loss: 7.0339e-04 - val_mae: 0.0211 - val_mape: 3.4685 - val_mse: 7.0339e-04\n",
      "Epoch 27/50\n",
      "\u001b[1m90/90\u001b[0m \u001b[32m━━━━━━━━━━━━━━━━━━━━\u001b[0m\u001b[37m\u001b[0m \u001b[1m0s\u001b[0m 2ms/step - loss: 2.1308e-04 - mae: 0.0109 - mape: 46525.8633 - mse: 2.1308e-04 - val_loss: 4.3899e-04 - val_mae: 0.0153 - val_mape: 2.5723 - val_mse: 4.3899e-04\n",
      "Epoch 28/50\n",
      "\u001b[1m90/90\u001b[0m \u001b[32m━━━━━━━━━━━━━━━━━━━━\u001b[0m\u001b[37m\u001b[0m \u001b[1m0s\u001b[0m 2ms/step - loss: 2.0106e-04 - mae: 0.0103 - mape: 5545.1851 - mse: 2.0106e-04 - val_loss: 4.8717e-04 - val_mae: 0.0162 - val_mape: 2.7523 - val_mse: 4.8717e-04\n",
      "Epoch 29/50\n",
      "\u001b[1m90/90\u001b[0m \u001b[32m━━━━━━━━━━━━━━━━━━━━\u001b[0m\u001b[37m\u001b[0m \u001b[1m0s\u001b[0m 2ms/step - loss: 1.8917e-04 - mae: 0.0103 - mape: 13792.2324 - mse: 1.8917e-04 - val_loss: 4.2419e-04 - val_mae: 0.0149 - val_mape: 2.5201 - val_mse: 4.2419e-04\n",
      "Epoch 30/50\n",
      "\u001b[1m90/90\u001b[0m \u001b[32m━━━━━━━━━━━━━━━━━━━━\u001b[0m\u001b[37m\u001b[0m \u001b[1m0s\u001b[0m 2ms/step - loss: 2.0554e-04 - mae: 0.0107 - mape: 21815.7188 - mse: 2.0554e-04 - val_loss: 4.2367e-04 - val_mae: 0.0149 - val_mape: 2.5200 - val_mse: 4.2367e-04\n",
      "Epoch 31/50\n",
      "\u001b[1m90/90\u001b[0m \u001b[32m━━━━━━━━━━━━━━━━━━━━\u001b[0m\u001b[37m\u001b[0m \u001b[1m0s\u001b[0m 2ms/step - loss: 2.0052e-04 - mae: 0.0106 - mape: 23185.0059 - mse: 2.0052e-04 - val_loss: 4.7545e-04 - val_mae: 0.0162 - val_mape: 2.6936 - val_mse: 4.7545e-04\n",
      "Epoch 32/50\n",
      "\u001b[1m90/90\u001b[0m \u001b[32m━━━━━━━━━━━━━━━━━━━━\u001b[0m\u001b[37m\u001b[0m \u001b[1m0s\u001b[0m 2ms/step - loss: 2.3727e-04 - mae: 0.0116 - mape: 35520.3359 - mse: 2.3727e-04 - val_loss: 4.3731e-04 - val_mae: 0.0151 - val_mape: 2.5709 - val_mse: 4.3731e-04\n",
      "Epoch 33/50\n",
      "\u001b[1m90/90\u001b[0m \u001b[32m━━━━━━━━━━━━━━━━━━━━\u001b[0m\u001b[37m\u001b[0m \u001b[1m0s\u001b[0m 2ms/step - loss: 1.9803e-04 - mae: 0.0104 - mape: 37096.9336 - mse: 1.9803e-04 - val_loss: 4.2303e-04 - val_mae: 0.0149 - val_mape: 2.5209 - val_mse: 4.2303e-04\n",
      "Epoch 34/50\n",
      "\u001b[1m90/90\u001b[0m \u001b[32m━━━━━━━━━━━━━━━━━━━━\u001b[0m\u001b[37m\u001b[0m \u001b[1m0s\u001b[0m 2ms/step - loss: 2.2776e-04 - mae: 0.0114 - mape: 28990.8145 - mse: 2.2776e-04 - val_loss: 4.2133e-04 - val_mae: 0.0149 - val_mape: 2.5137 - val_mse: 4.2133e-04\n",
      "Epoch 35/50\n",
      "\u001b[1m90/90\u001b[0m \u001b[32m━━━━━━━━━━━━━━━━━━━━\u001b[0m\u001b[37m\u001b[0m \u001b[1m0s\u001b[0m 2ms/step - loss: 2.0405e-04 - mae: 0.0106 - mape: 24610.4746 - mse: 2.0405e-04 - val_loss: 4.2578e-04 - val_mae: 0.0149 - val_mape: 2.5238 - val_mse: 4.2578e-04\n",
      "Epoch 36/50\n",
      "\u001b[1m90/90\u001b[0m \u001b[32m━━━━━━━━━━━━━━━━━━━━\u001b[0m\u001b[37m\u001b[0m \u001b[1m0s\u001b[0m 2ms/step - loss: 2.2703e-04 - mae: 0.0112 - mape: 34835.4102 - mse: 2.2703e-04 - val_loss: 5.7894e-04 - val_mae: 0.0186 - val_mape: 3.0695 - val_mse: 5.7894e-04\n",
      "Epoch 37/50\n",
      "\u001b[1m90/90\u001b[0m \u001b[32m━━━━━━━━━━━━━━━━━━━━\u001b[0m\u001b[37m\u001b[0m \u001b[1m0s\u001b[0m 2ms/step - loss: 2.4318e-04 - mae: 0.0120 - mape: 1731.9231 - mse: 2.4318e-04 - val_loss: 4.3273e-04 - val_mae: 0.0152 - val_mape: 2.5570 - val_mse: 4.3273e-04\n",
      "Epoch 38/50\n",
      "\u001b[1m90/90\u001b[0m \u001b[32m━━━━━━━━━━━━━━━━━━━━\u001b[0m\u001b[37m\u001b[0m \u001b[1m0s\u001b[0m 2ms/step - loss: 2.1871e-04 - mae: 0.0112 - mape: 19912.0332 - mse: 2.1871e-04 - val_loss: 4.2106e-04 - val_mae: 0.0148 - val_mape: 2.5085 - val_mse: 4.2106e-04\n",
      "Epoch 39/50\n",
      "\u001b[1m90/90\u001b[0m \u001b[32m━━━━━━━━━━━━━━━━━━━━\u001b[0m\u001b[37m\u001b[0m \u001b[1m0s\u001b[0m 2ms/step - loss: 2.2686e-04 - mae: 0.0114 - mape: 14104.2734 - mse: 2.2686e-04 - val_loss: 4.4422e-04 - val_mae: 0.0155 - val_mape: 2.5911 - val_mse: 4.4422e-04\n",
      "Epoch 40/50\n",
      "\u001b[1m90/90\u001b[0m \u001b[32m━━━━━━━━━━━━━━━━━━━━\u001b[0m\u001b[37m\u001b[0m \u001b[1m0s\u001b[0m 2ms/step - loss: 1.9926e-04 - mae: 0.0103 - mape: 7394.4092 - mse: 1.9926e-04 - val_loss: 4.4183e-04 - val_mae: 0.0155 - val_mape: 2.5876 - val_mse: 4.4183e-04\n",
      "Epoch 41/50\n",
      "\u001b[1m90/90\u001b[0m \u001b[32m━━━━━━━━━━━━━━━━━━━━\u001b[0m\u001b[37m\u001b[0m \u001b[1m0s\u001b[0m 2ms/step - loss: 2.0934e-04 - mae: 0.0106 - mape: 27405.3301 - mse: 2.0934e-04 - val_loss: 4.4803e-04 - val_mae: 0.0153 - val_mape: 2.6189 - val_mse: 4.4803e-04\n",
      "Epoch 42/50\n",
      "\u001b[1m90/90\u001b[0m \u001b[32m━━━━━━━━━━━━━━━━━━━━\u001b[0m\u001b[37m\u001b[0m \u001b[1m0s\u001b[0m 2ms/step - loss: 2.2509e-04 - mae: 0.0112 - mape: 9142.4961 - mse: 2.2509e-04 - val_loss: 4.6326e-04 - val_mae: 0.0159 - val_mape: 2.7042 - val_mse: 4.6326e-04\n",
      "Epoch 43/50\n",
      "\u001b[1m90/90\u001b[0m \u001b[32m━━━━━━━━━━━━━━━━━━━━\u001b[0m\u001b[37m\u001b[0m \u001b[1m0s\u001b[0m 2ms/step - loss: 1.9889e-04 - mae: 0.0106 - mape: 45863.1367 - mse: 1.9889e-04 - val_loss: 4.0416e-04 - val_mae: 0.0145 - val_mape: 2.4546 - val_mse: 4.0416e-04\n",
      "Epoch 44/50\n",
      "\u001b[1m90/90\u001b[0m \u001b[32m━━━━━━━━━━━━━━━━━━━━\u001b[0m\u001b[37m\u001b[0m \u001b[1m0s\u001b[0m 2ms/step - loss: 1.8594e-04 - mae: 0.0103 - mape: 25241.9551 - mse: 1.8594e-04 - val_loss: 4.0087e-04 - val_mae: 0.0144 - val_mape: 2.4441 - val_mse: 4.0087e-04\n",
      "Epoch 45/50\n",
      "\u001b[1m90/90\u001b[0m \u001b[32m━━━━━━━━━━━━━━━━━━━━\u001b[0m\u001b[37m\u001b[0m \u001b[1m0s\u001b[0m 2ms/step - loss: 2.0346e-04 - mae: 0.0107 - mape: 15548.5264 - mse: 2.0346e-04 - val_loss: 4.0286e-04 - val_mae: 0.0145 - val_mape: 2.4530 - val_mse: 4.0286e-04\n",
      "Epoch 46/50\n",
      "\u001b[1m90/90\u001b[0m \u001b[32m━━━━━━━━━━━━━━━━━━━━\u001b[0m\u001b[37m\u001b[0m \u001b[1m0s\u001b[0m 2ms/step - loss: 1.9381e-04 - mae: 0.0103 - mape: 77636.2734 - mse: 1.9381e-04 - val_loss: 7.3684e-04 - val_mae: 0.0220 - val_mape: 3.6060 - val_mse: 7.3684e-04\n",
      "Epoch 47/50\n",
      "\u001b[1m90/90\u001b[0m \u001b[32m━━━━━━━━━━━━━━━━━━━━\u001b[0m\u001b[37m\u001b[0m \u001b[1m0s\u001b[0m 2ms/step - loss: 1.9589e-04 - mae: 0.0107 - mape: 12118.8574 - mse: 1.9589e-04 - val_loss: 3.9976e-04 - val_mae: 0.0145 - val_mape: 2.4417 - val_mse: 3.9976e-04\n",
      "Epoch 48/50\n",
      "\u001b[1m90/90\u001b[0m \u001b[32m━━━━━━━━━━━━━━━━━━━━\u001b[0m\u001b[37m\u001b[0m \u001b[1m0s\u001b[0m 2ms/step - loss: 1.8035e-04 - mae: 0.0099 - mape: 22526.3496 - mse: 1.8035e-04 - val_loss: 4.0625e-04 - val_mae: 0.0146 - val_mape: 2.4650 - val_mse: 4.0625e-04\n",
      "Epoch 49/50\n",
      "\u001b[1m90/90\u001b[0m \u001b[32m━━━━━━━━━━━━━━━━━━━━\u001b[0m\u001b[37m\u001b[0m \u001b[1m0s\u001b[0m 2ms/step - loss: 1.8350e-04 - mae: 0.0100 - mape: 32942.1328 - mse: 1.8350e-04 - val_loss: 4.3234e-04 - val_mae: 0.0151 - val_mape: 2.5617 - val_mse: 4.3234e-04\n",
      "Epoch 50/50\n",
      "\u001b[1m90/90\u001b[0m \u001b[32m━━━━━━━━━━━━━━━━━━━━\u001b[0m\u001b[37m\u001b[0m \u001b[1m0s\u001b[0m 2ms/step - loss: 2.0078e-04 - mae: 0.0106 - mape: 49998.6562 - mse: 2.0078e-04 - val_loss: 4.1943e-04 - val_mae: 0.0150 - val_mape: 2.5238 - val_mse: 4.1943e-04\n",
      "\u001b[1m23/23\u001b[0m \u001b[32m━━━━━━━━━━━━━━━━━━━━\u001b[0m\u001b[37m\u001b[0m \u001b[1m0s\u001b[0m 2ms/step \n"
     ]
    },
    {
     "name": "stderr",
     "output_type": "stream",
     "text": [
      "Processando combinações:  57%|█████▋    | 4/7 [02:41<02:03, 41.29s/it]"
     ]
    },
    {
     "name": "stdout",
     "output_type": "stream",
     "text": [
      "model_3: Processando PETR4 | Combinação 5...\n",
      "Epoch 1/50\n",
      "\u001b[1m90/90\u001b[0m \u001b[32m━━━━━━━━━━━━━━━━━━━━\u001b[0m\u001b[37m\u001b[0m \u001b[1m1s\u001b[0m 4ms/step - loss: 0.1969 - mae: 0.3772 - mape: 19570.5918 - mse: 0.1969 - val_loss: 0.0095 - val_mae: 0.0756 - val_mape: 15.7266 - val_mse: 0.0095\n",
      "Epoch 2/50\n",
      "\u001b[1m90/90\u001b[0m \u001b[32m━━━━━━━━━━━━━━━━━━━━\u001b[0m\u001b[37m\u001b[0m \u001b[1m0s\u001b[0m 2ms/step - loss: 0.0046 - mae: 0.0484 - mape: 6035.8320 - mse: 0.0046 - val_loss: 0.0015 - val_mae: 0.0275 - val_mape: 6.5984 - val_mse: 0.0015\n",
      "Epoch 3/50\n",
      "\u001b[1m90/90\u001b[0m \u001b[32m━━━━━━━━━━━━━━━━━━━━\u001b[0m\u001b[37m\u001b[0m \u001b[1m0s\u001b[0m 2ms/step - loss: 0.0012 - mae: 0.0256 - mape: 3009.9976 - mse: 0.0012 - val_loss: 9.2697e-04 - val_mae: 0.0215 - val_mape: 5.3139 - val_mse: 9.2697e-04\n",
      "Epoch 4/50\n",
      "\u001b[1m90/90\u001b[0m \u001b[32m━━━━━━━━━━━━━━━━━━━━\u001b[0m\u001b[37m\u001b[0m \u001b[1m0s\u001b[0m 2ms/step - loss: 7.3235e-04 - mae: 0.0197 - mape: 3656.2405 - mse: 7.3235e-04 - val_loss: 6.9674e-04 - val_mae: 0.0182 - val_mape: 4.5846 - val_mse: 6.9674e-04\n",
      "Epoch 5/50\n",
      "\u001b[1m90/90\u001b[0m \u001b[32m━━━━━━━━━━━━━━━━━━━━\u001b[0m\u001b[37m\u001b[0m \u001b[1m0s\u001b[0m 2ms/step - loss: 5.0692e-04 - mae: 0.0168 - mape: 19904.6328 - mse: 5.0692e-04 - val_loss: 6.5318e-04 - val_mae: 0.0179 - val_mape: 4.4719 - val_mse: 6.5318e-04\n",
      "Epoch 6/50\n",
      "\u001b[1m90/90\u001b[0m \u001b[32m━━━━━━━━━━━━━━━━━━━━\u001b[0m\u001b[37m\u001b[0m \u001b[1m0s\u001b[0m 2ms/step - loss: 3.9538e-04 - mae: 0.0147 - mape: 1185.7286 - mse: 3.9538e-04 - val_loss: 5.8840e-04 - val_mae: 0.0167 - val_mape: 4.1889 - val_mse: 5.8840e-04\n",
      "Epoch 7/50\n",
      "\u001b[1m90/90\u001b[0m \u001b[32m━━━━━━━━━━━━━━━━━━━━\u001b[0m\u001b[37m\u001b[0m \u001b[1m0s\u001b[0m 2ms/step - loss: 3.6051e-04 - mae: 0.0142 - mape: 4646.4448 - mse: 3.6051e-04 - val_loss: 5.7011e-04 - val_mae: 0.0166 - val_mape: 4.1421 - val_mse: 5.7011e-04\n",
      "Epoch 8/50\n",
      "\u001b[1m90/90\u001b[0m \u001b[32m━━━━━━━━━━━━━━━━━━━━\u001b[0m\u001b[37m\u001b[0m \u001b[1m0s\u001b[0m 3ms/step - loss: 3.2994e-04 - mae: 0.0136 - mape: 3319.5007 - mse: 3.2994e-04 - val_loss: 5.3081e-04 - val_mae: 0.0155 - val_mape: 3.9227 - val_mse: 5.3081e-04\n",
      "Epoch 9/50\n",
      "\u001b[1m90/90\u001b[0m \u001b[32m━━━━━━━━━━━━━━━━━━━━\u001b[0m\u001b[37m\u001b[0m \u001b[1m0s\u001b[0m 2ms/step - loss: 3.1839e-04 - mae: 0.0131 - mape: 9046.2461 - mse: 3.1839e-04 - val_loss: 5.0892e-04 - val_mae: 0.0151 - val_mape: 3.8271 - val_mse: 5.0892e-04\n",
      "Epoch 10/50\n",
      "\u001b[1m90/90\u001b[0m \u001b[32m━━━━━━━━━━━━━━━━━━━━\u001b[0m\u001b[37m\u001b[0m \u001b[1m0s\u001b[0m 2ms/step - loss: 2.9385e-04 - mae: 0.0125 - mape: 36005.1094 - mse: 2.9385e-04 - val_loss: 5.0506e-04 - val_mae: 0.0149 - val_mape: 3.7924 - val_mse: 5.0506e-04\n",
      "Epoch 11/50\n",
      "\u001b[1m90/90\u001b[0m \u001b[32m━━━━━━━━━━━━━━━━━━━━\u001b[0m\u001b[37m\u001b[0m \u001b[1m0s\u001b[0m 2ms/step - loss: 2.9701e-04 - mae: 0.0125 - mape: 8535.5352 - mse: 2.9701e-04 - val_loss: 4.9092e-04 - val_mae: 0.0147 - val_mape: 3.7223 - val_mse: 4.9092e-04\n",
      "Epoch 12/50\n",
      "\u001b[1m90/90\u001b[0m \u001b[32m━━━━━━━━━━━━━━━━━━━━\u001b[0m\u001b[37m\u001b[0m \u001b[1m0s\u001b[0m 2ms/step - loss: 2.8606e-04 - mae: 0.0123 - mape: 3918.6187 - mse: 2.8606e-04 - val_loss: 4.7500e-04 - val_mae: 0.0150 - val_mape: 3.7374 - val_mse: 4.7500e-04\n",
      "Epoch 13/50\n",
      "\u001b[1m90/90\u001b[0m \u001b[32m━━━━━━━━━━━━━━━━━━━━\u001b[0m\u001b[37m\u001b[0m \u001b[1m0s\u001b[0m 2ms/step - loss: 2.8422e-04 - mae: 0.0124 - mape: 25071.1348 - mse: 2.8422e-04 - val_loss: 4.7057e-04 - val_mae: 0.0147 - val_mape: 3.6777 - val_mse: 4.7057e-04\n",
      "Epoch 14/50\n",
      "\u001b[1m90/90\u001b[0m \u001b[32m━━━━━━━━━━━━━━━━━━━━\u001b[0m\u001b[37m\u001b[0m \u001b[1m0s\u001b[0m 2ms/step - loss: 2.8488e-04 - mae: 0.0121 - mape: 32853.3672 - mse: 2.8488e-04 - val_loss: 4.5254e-04 - val_mae: 0.0143 - val_mape: 3.5857 - val_mse: 4.5254e-04\n",
      "Epoch 15/50\n",
      "\u001b[1m90/90\u001b[0m \u001b[32m━━━━━━━━━━━━━━━━━━━━\u001b[0m\u001b[37m\u001b[0m \u001b[1m0s\u001b[0m 2ms/step - loss: 2.7233e-04 - mae: 0.0119 - mape: 2196.5583 - mse: 2.7233e-04 - val_loss: 4.5939e-04 - val_mae: 0.0149 - val_mape: 3.6819 - val_mse: 4.5939e-04\n",
      "Epoch 16/50\n",
      "\u001b[1m90/90\u001b[0m \u001b[32m━━━━━━━━━━━━━━━━━━━━\u001b[0m\u001b[37m\u001b[0m \u001b[1m0s\u001b[0m 2ms/step - loss: 2.7362e-04 - mae: 0.0121 - mape: 6857.5571 - mse: 2.7362e-04 - val_loss: 4.5140e-04 - val_mae: 0.0142 - val_mape: 3.5634 - val_mse: 4.5140e-04\n",
      "Epoch 17/50\n",
      "\u001b[1m90/90\u001b[0m \u001b[32m━━━━━━━━━━━━━━━━━━━━\u001b[0m\u001b[37m\u001b[0m \u001b[1m0s\u001b[0m 2ms/step - loss: 2.6080e-04 - mae: 0.0116 - mape: 7898.2520 - mse: 2.6080e-04 - val_loss: 4.4786e-04 - val_mae: 0.0148 - val_mape: 3.6436 - val_mse: 4.4786e-04\n",
      "Epoch 18/50\n",
      "\u001b[1m90/90\u001b[0m \u001b[32m━━━━━━━━━━━━━━━━━━━━\u001b[0m\u001b[37m\u001b[0m \u001b[1m0s\u001b[0m 3ms/step - loss: 2.4442e-04 - mae: 0.0116 - mape: 1544.9000 - mse: 2.4442e-04 - val_loss: 4.2732e-04 - val_mae: 0.0138 - val_mape: 3.4585 - val_mse: 4.2732e-04\n",
      "Epoch 19/50\n",
      "\u001b[1m90/90\u001b[0m \u001b[32m━━━━━━━━━━━━━━━━━━━━\u001b[0m\u001b[37m\u001b[0m \u001b[1m0s\u001b[0m 2ms/step - loss: 2.5463e-04 - mae: 0.0119 - mape: 18883.9238 - mse: 2.5463e-04 - val_loss: 4.3101e-04 - val_mae: 0.0137 - val_mape: 3.4467 - val_mse: 4.3101e-04\n",
      "Epoch 20/50\n",
      "\u001b[1m90/90\u001b[0m \u001b[32m━━━━━━━━━━━━━━━━━━━━\u001b[0m\u001b[37m\u001b[0m \u001b[1m0s\u001b[0m 2ms/step - loss: 2.3464e-04 - mae: 0.0113 - mape: 4214.2930 - mse: 2.3464e-04 - val_loss: 4.2072e-04 - val_mae: 0.0136 - val_mape: 3.4144 - val_mse: 4.2072e-04\n",
      "Epoch 21/50\n",
      "\u001b[1m90/90\u001b[0m \u001b[32m━━━━━━━━━━━━━━━━━━━━\u001b[0m\u001b[37m\u001b[0m \u001b[1m0s\u001b[0m 3ms/step - loss: 2.4864e-04 - mae: 0.0115 - mape: 1719.8936 - mse: 2.4864e-04 - val_loss: 4.0757e-04 - val_mae: 0.0137 - val_mape: 3.3958 - val_mse: 4.0757e-04\n",
      "Epoch 22/50\n",
      "\u001b[1m90/90\u001b[0m \u001b[32m━━━━━━━━━━━━━━━━━━━━\u001b[0m\u001b[37m\u001b[0m \u001b[1m0s\u001b[0m 2ms/step - loss: 2.2083e-04 - mae: 0.0112 - mape: 4109.6353 - mse: 2.2083e-04 - val_loss: 4.3828e-04 - val_mae: 0.0138 - val_mape: 3.4697 - val_mse: 4.3828e-04\n",
      "Epoch 23/50\n",
      "\u001b[1m90/90\u001b[0m \u001b[32m━━━━━━━━━━━━━━━━━━━━\u001b[0m\u001b[37m\u001b[0m \u001b[1m0s\u001b[0m 2ms/step - loss: 2.4466e-04 - mae: 0.0111 - mape: 2185.9258 - mse: 2.4466e-04 - val_loss: 4.0323e-04 - val_mae: 0.0134 - val_mape: 3.3337 - val_mse: 4.0323e-04\n",
      "Epoch 24/50\n",
      "\u001b[1m90/90\u001b[0m \u001b[32m━━━━━━━━━━━━━━━━━━━━\u001b[0m\u001b[37m\u001b[0m \u001b[1m0s\u001b[0m 2ms/step - loss: 2.4848e-04 - mae: 0.0112 - mape: 2718.1265 - mse: 2.4848e-04 - val_loss: 4.0924e-04 - val_mae: 0.0137 - val_mape: 3.3847 - val_mse: 4.0924e-04\n",
      "Epoch 25/50\n",
      "\u001b[1m90/90\u001b[0m \u001b[32m━━━━━━━━━━━━━━━━━━━━\u001b[0m\u001b[37m\u001b[0m \u001b[1m0s\u001b[0m 3ms/step - loss: 2.3659e-04 - mae: 0.0112 - mape: 4720.7856 - mse: 2.3659e-04 - val_loss: 3.9195e-04 - val_mae: 0.0133 - val_mape: 3.2885 - val_mse: 3.9195e-04\n",
      "Epoch 26/50\n",
      "\u001b[1m90/90\u001b[0m \u001b[32m━━━━━━━━━━━━━━━━━━━━\u001b[0m\u001b[37m\u001b[0m \u001b[1m0s\u001b[0m 2ms/step - loss: 2.0424e-04 - mae: 0.0105 - mape: 27868.2656 - mse: 2.0424e-04 - val_loss: 4.0515e-04 - val_mae: 0.0141 - val_mape: 3.4344 - val_mse: 4.0515e-04\n",
      "Epoch 27/50\n",
      "\u001b[1m90/90\u001b[0m \u001b[32m━━━━━━━━━━━━━━━━━━━━\u001b[0m\u001b[37m\u001b[0m \u001b[1m0s\u001b[0m 2ms/step - loss: 2.3581e-04 - mae: 0.0111 - mape: 2413.9177 - mse: 2.3581e-04 - val_loss: 3.9577e-04 - val_mae: 0.0131 - val_mape: 3.2955 - val_mse: 3.9577e-04\n",
      "Epoch 28/50\n",
      "\u001b[1m90/90\u001b[0m \u001b[32m━━━━━━━━━━━━━━━━━━━━\u001b[0m\u001b[37m\u001b[0m \u001b[1m0s\u001b[0m 2ms/step - loss: 2.1206e-04 - mae: 0.0105 - mape: 560.0055 - mse: 2.1206e-04 - val_loss: 3.8440e-04 - val_mae: 0.0130 - val_mape: 3.2318 - val_mse: 3.8440e-04\n",
      "Epoch 29/50\n",
      "\u001b[1m90/90\u001b[0m \u001b[32m━━━━━━━━━━━━━━━━━━━━\u001b[0m\u001b[37m\u001b[0m \u001b[1m0s\u001b[0m 2ms/step - loss: 2.1628e-04 - mae: 0.0105 - mape: 3813.7039 - mse: 2.1628e-04 - val_loss: 4.0281e-04 - val_mae: 0.0133 - val_mape: 3.3147 - val_mse: 4.0281e-04\n",
      "Epoch 30/50\n",
      "\u001b[1m90/90\u001b[0m \u001b[32m━━━━━━━━━━━━━━━━━━━━\u001b[0m\u001b[37m\u001b[0m \u001b[1m0s\u001b[0m 2ms/step - loss: 1.9968e-04 - mae: 0.0101 - mape: 5875.1787 - mse: 1.9968e-04 - val_loss: 3.9203e-04 - val_mae: 0.0131 - val_mape: 3.2700 - val_mse: 3.9203e-04\n",
      "Epoch 31/50\n",
      "\u001b[1m90/90\u001b[0m \u001b[32m━━━━━━━━━━━━━━━━━━━━\u001b[0m\u001b[37m\u001b[0m \u001b[1m0s\u001b[0m 2ms/step - loss: 2.0408e-04 - mae: 0.0102 - mape: 6703.7812 - mse: 2.0408e-04 - val_loss: 4.2581e-04 - val_mae: 0.0152 - val_mape: 3.5995 - val_mse: 4.2581e-04\n",
      "Epoch 32/50\n",
      "\u001b[1m90/90\u001b[0m \u001b[32m━━━━━━━━━━━━━━━━━━━━\u001b[0m\u001b[37m\u001b[0m \u001b[1m0s\u001b[0m 2ms/step - loss: 2.1631e-04 - mae: 0.0106 - mape: 12710.1699 - mse: 2.1631e-04 - val_loss: 3.7483e-04 - val_mae: 0.0128 - val_mape: 3.1950 - val_mse: 3.7483e-04\n",
      "Epoch 33/50\n",
      "\u001b[1m90/90\u001b[0m \u001b[32m━━━━━━━━━━━━━━━━━━━━\u001b[0m\u001b[37m\u001b[0m \u001b[1m0s\u001b[0m 2ms/step - loss: 2.1628e-04 - mae: 0.0107 - mape: 969.2836 - mse: 2.1628e-04 - val_loss: 3.7291e-04 - val_mae: 0.0134 - val_mape: 3.2411 - val_mse: 3.7291e-04\n",
      "Epoch 34/50\n",
      "\u001b[1m90/90\u001b[0m \u001b[32m━━━━━━━━━━━━━━━━━━━━\u001b[0m\u001b[37m\u001b[0m \u001b[1m0s\u001b[0m 2ms/step - loss: 2.1628e-04 - mae: 0.0108 - mape: 1675.2784 - mse: 2.1628e-04 - val_loss: 4.3976e-04 - val_mae: 0.0142 - val_mape: 3.5123 - val_mse: 4.3976e-04\n",
      "Epoch 35/50\n",
      "\u001b[1m90/90\u001b[0m \u001b[32m━━━━━━━━━━━━━━━━━━━━\u001b[0m\u001b[37m\u001b[0m \u001b[1m0s\u001b[0m 2ms/step - loss: 2.3401e-04 - mae: 0.0111 - mape: 3392.5833 - mse: 2.3401e-04 - val_loss: 3.6053e-04 - val_mae: 0.0129 - val_mape: 3.1423 - val_mse: 3.6053e-04\n",
      "Epoch 36/50\n",
      "\u001b[1m90/90\u001b[0m \u001b[32m━━━━━━━━━━━━━━━━━━━━\u001b[0m\u001b[37m\u001b[0m \u001b[1m0s\u001b[0m 2ms/step - loss: 2.1000e-04 - mae: 0.0103 - mape: 11396.1641 - mse: 2.1000e-04 - val_loss: 3.4924e-04 - val_mae: 0.0127 - val_mape: 3.0880 - val_mse: 3.4924e-04\n",
      "Epoch 37/50\n",
      "\u001b[1m90/90\u001b[0m \u001b[32m━━━━━━━━━━━━━━━━━━━━\u001b[0m\u001b[37m\u001b[0m \u001b[1m0s\u001b[0m 2ms/step - loss: 2.0922e-04 - mae: 0.0106 - mape: 9086.1416 - mse: 2.0922e-04 - val_loss: 3.5533e-04 - val_mae: 0.0125 - val_mape: 3.0952 - val_mse: 3.5533e-04\n",
      "Epoch 38/50\n",
      "\u001b[1m90/90\u001b[0m \u001b[32m━━━━━━━━━━━━━━━━━━━━\u001b[0m\u001b[37m\u001b[0m \u001b[1m0s\u001b[0m 2ms/step - loss: 1.8820e-04 - mae: 0.0099 - mape: 3028.1797 - mse: 1.8820e-04 - val_loss: 3.5554e-04 - val_mae: 0.0125 - val_mape: 3.0534 - val_mse: 3.5554e-04\n",
      "Epoch 39/50\n",
      "\u001b[1m90/90\u001b[0m \u001b[32m━━━━━━━━━━━━━━━━━━━━\u001b[0m\u001b[37m\u001b[0m \u001b[1m0s\u001b[0m 2ms/step - loss: 1.7789e-04 - mae: 0.0096 - mape: 5488.1084 - mse: 1.7789e-04 - val_loss: 3.7359e-04 - val_mae: 0.0129 - val_mape: 3.1847 - val_mse: 3.7359e-04\n",
      "Epoch 40/50\n",
      "\u001b[1m90/90\u001b[0m \u001b[32m━━━━━━━━━━━━━━━━━━━━\u001b[0m\u001b[37m\u001b[0m \u001b[1m0s\u001b[0m 3ms/step - loss: 2.4271e-04 - mae: 0.0115 - mape: 2424.9854 - mse: 2.4271e-04 - val_loss: 3.7264e-04 - val_mae: 0.0129 - val_mape: 3.1731 - val_mse: 3.7264e-04\n",
      "Epoch 41/50\n",
      "\u001b[1m90/90\u001b[0m \u001b[32m━━━━━━━━━━━━━━━━━━━━\u001b[0m\u001b[37m\u001b[0m \u001b[1m0s\u001b[0m 2ms/step - loss: 2.0214e-04 - mae: 0.0102 - mape: 2144.2842 - mse: 2.0214e-04 - val_loss: 3.4127e-04 - val_mae: 0.0122 - val_mape: 2.9929 - val_mse: 3.4127e-04\n",
      "Epoch 42/50\n",
      "\u001b[1m90/90\u001b[0m \u001b[32m━━━━━━━━━━━━━━━━━━━━\u001b[0m\u001b[37m\u001b[0m \u001b[1m0s\u001b[0m 2ms/step - loss: 1.8522e-04 - mae: 0.0099 - mape: 4103.3159 - mse: 1.8522e-04 - val_loss: 3.3989e-04 - val_mae: 0.0126 - val_mape: 3.0246 - val_mse: 3.3989e-04\n",
      "Epoch 43/50\n",
      "\u001b[1m90/90\u001b[0m \u001b[32m━━━━━━━━━━━━━━━━━━━━\u001b[0m\u001b[37m\u001b[0m \u001b[1m0s\u001b[0m 2ms/step - loss: 1.8565e-04 - mae: 0.0100 - mape: 880.2051 - mse: 1.8565e-04 - val_loss: 3.8172e-04 - val_mae: 0.0131 - val_mape: 3.2063 - val_mse: 3.8172e-04\n",
      "Epoch 44/50\n",
      "\u001b[1m90/90\u001b[0m \u001b[32m━━━━━━━━━━━━━━━━━━━━\u001b[0m\u001b[37m\u001b[0m \u001b[1m0s\u001b[0m 2ms/step - loss: 1.8369e-04 - mae: 0.0099 - mape: 2557.7537 - mse: 1.8369e-04 - val_loss: 3.3277e-04 - val_mae: 0.0123 - val_mape: 2.9637 - val_mse: 3.3277e-04\n",
      "Epoch 45/50\n",
      "\u001b[1m90/90\u001b[0m \u001b[32m━━━━━━━━━━━━━━━━━━━━\u001b[0m\u001b[37m\u001b[0m \u001b[1m0s\u001b[0m 2ms/step - loss: 1.9065e-04 - mae: 0.0099 - mape: 3615.9929 - mse: 1.9065e-04 - val_loss: 4.0713e-04 - val_mae: 0.0150 - val_mape: 3.5004 - val_mse: 4.0713e-04\n",
      "Epoch 46/50\n",
      "\u001b[1m90/90\u001b[0m \u001b[32m━━━━━━━━━━━━━━━━━━━━\u001b[0m\u001b[37m\u001b[0m \u001b[1m0s\u001b[0m 2ms/step - loss: 2.0368e-04 - mae: 0.0104 - mape: 1732.0161 - mse: 2.0368e-04 - val_loss: 3.6813e-04 - val_mae: 0.0128 - val_mape: 3.1247 - val_mse: 3.6813e-04\n",
      "Epoch 47/50\n",
      "\u001b[1m90/90\u001b[0m \u001b[32m━━━━━━━━━━━━━━━━━━━━\u001b[0m\u001b[37m\u001b[0m \u001b[1m0s\u001b[0m 2ms/step - loss: 1.8905e-04 - mae: 0.0099 - mape: 2223.3804 - mse: 1.8905e-04 - val_loss: 3.4400e-04 - val_mae: 0.0124 - val_mape: 2.9899 - val_mse: 3.4400e-04\n",
      "Epoch 48/50\n",
      "\u001b[1m90/90\u001b[0m \u001b[32m━━━━━━━━━━━━━━━━━━━━\u001b[0m\u001b[37m\u001b[0m \u001b[1m0s\u001b[0m 2ms/step - loss: 1.9863e-04 - mae: 0.0102 - mape: 582.0186 - mse: 1.9863e-04 - val_loss: 3.2746e-04 - val_mae: 0.0120 - val_mape: 2.9086 - val_mse: 3.2746e-04\n",
      "Epoch 49/50\n",
      "\u001b[1m90/90\u001b[0m \u001b[32m━━━━━━━━━━━━━━━━━━━━\u001b[0m\u001b[37m\u001b[0m \u001b[1m0s\u001b[0m 2ms/step - loss: 1.9037e-04 - mae: 0.0099 - mape: 760.3162 - mse: 1.9037e-04 - val_loss: 3.3830e-04 - val_mae: 0.0122 - val_mape: 2.9699 - val_mse: 3.3830e-04\n",
      "Epoch 50/50\n",
      "\u001b[1m90/90\u001b[0m \u001b[32m━━━━━━━━━━━━━━━━━━━━\u001b[0m\u001b[37m\u001b[0m \u001b[1m0s\u001b[0m 2ms/step - loss: 2.0098e-04 - mae: 0.0102 - mape: 303.1739 - mse: 2.0098e-04 - val_loss: 3.4059e-04 - val_mae: 0.0122 - val_mape: 2.9642 - val_mse: 3.4059e-04\n",
      "\u001b[1m23/23\u001b[0m \u001b[32m━━━━━━━━━━━━━━━━━━━━\u001b[0m\u001b[37m\u001b[0m \u001b[1m0s\u001b[0m 2ms/step \n",
      "model_3: Processando VALE3 | Combinação 5...\n",
      "Epoch 1/50\n",
      "\u001b[1m90/90\u001b[0m \u001b[32m━━━━━━━━━━━━━━━━━━━━\u001b[0m\u001b[37m\u001b[0m \u001b[1m1s\u001b[0m 4ms/step - loss: 0.0052 - mae: 0.0489 - mape: 1149.7695 - mse: 0.0052 - val_loss: 0.0018 - val_mae: 0.0324 - val_mape: 5.1365 - val_mse: 0.0018\n",
      "Epoch 2/50\n",
      "\u001b[1m90/90\u001b[0m \u001b[32m━━━━━━━━━━━━━━━━━━━━\u001b[0m\u001b[37m\u001b[0m \u001b[1m0s\u001b[0m 2ms/step - loss: 3.0005e-04 - mae: 0.0129 - mape: 335.0352 - mse: 3.0005e-04 - val_loss: 7.6849e-04 - val_mae: 0.0210 - val_mape: 3.4653 - val_mse: 7.6849e-04\n",
      "Epoch 3/50\n",
      "\u001b[1m90/90\u001b[0m \u001b[32m━━━━━━━━━━━━━━━━━━━━\u001b[0m\u001b[37m\u001b[0m \u001b[1m0s\u001b[0m 2ms/step - loss: 1.9971e-04 - mae: 0.0105 - mape: 12611.9102 - mse: 1.9971e-04 - val_loss: 0.0014 - val_mae: 0.0278 - val_mape: 4.2002 - val_mse: 0.0014\n",
      "Epoch 4/50\n",
      "\u001b[1m90/90\u001b[0m \u001b[32m━━━━━━━━━━━━━━━━━━━━\u001b[0m\u001b[37m\u001b[0m \u001b[1m0s\u001b[0m 2ms/step - loss: 1.6196e-04 - mae: 0.0094 - mape: 398.0486 - mse: 1.6196e-04 - val_loss: 0.0012 - val_mae: 0.0259 - val_mape: 3.9071 - val_mse: 0.0012\n",
      "Epoch 5/50\n",
      "\u001b[1m90/90\u001b[0m \u001b[32m━━━━━━━━━━━━━━━━━━━━\u001b[0m\u001b[37m\u001b[0m \u001b[1m0s\u001b[0m 2ms/step - loss: 1.4605e-04 - mae: 0.0088 - mape: 883.8220 - mse: 1.4605e-04 - val_loss: 0.0016 - val_mae: 0.0294 - val_mape: 4.3318 - val_mse: 0.0016\n",
      "Epoch 6/50\n",
      "\u001b[1m90/90\u001b[0m \u001b[32m━━━━━━━━━━━━━━━━━━━━\u001b[0m\u001b[37m\u001b[0m \u001b[1m0s\u001b[0m 2ms/step - loss: 1.2439e-04 - mae: 0.0083 - mape: 1666.0956 - mse: 1.2439e-04 - val_loss: 0.0017 - val_mae: 0.0306 - val_mape: 4.4720 - val_mse: 0.0017\n",
      "Epoch 7/50\n",
      "\u001b[1m90/90\u001b[0m \u001b[32m━━━━━━━━━━━━━━━━━━━━\u001b[0m\u001b[37m\u001b[0m \u001b[1m0s\u001b[0m 2ms/step - loss: 1.2677e-04 - mae: 0.0081 - mape: 448.6348 - mse: 1.2677e-04 - val_loss: 0.0017 - val_mae: 0.0303 - val_mape: 4.4485 - val_mse: 0.0017\n",
      "Epoch 8/50\n",
      "\u001b[1m90/90\u001b[0m \u001b[32m━━━━━━━━━━━━━━━━━━━━\u001b[0m\u001b[37m\u001b[0m \u001b[1m0s\u001b[0m 2ms/step - loss: 1.0906e-04 - mae: 0.0078 - mape: 2182.2297 - mse: 1.0906e-04 - val_loss: 0.0017 - val_mae: 0.0309 - val_mape: 4.5258 - val_mse: 0.0017\n",
      "Epoch 9/50\n",
      "\u001b[1m90/90\u001b[0m \u001b[32m━━━━━━━━━━━━━━━━━━━━\u001b[0m\u001b[37m\u001b[0m \u001b[1m0s\u001b[0m 2ms/step - loss: 1.2815e-04 - mae: 0.0083 - mape: 1892.2291 - mse: 1.2815e-04 - val_loss: 0.0017 - val_mae: 0.0300 - val_mape: 4.3660 - val_mse: 0.0017\n",
      "Epoch 10/50\n",
      "\u001b[1m90/90\u001b[0m \u001b[32m━━━━━━━━━━━━━━━━━━━━\u001b[0m\u001b[37m\u001b[0m \u001b[1m0s\u001b[0m 2ms/step - loss: 1.2344e-04 - mae: 0.0081 - mape: 88.8009 - mse: 1.2344e-04 - val_loss: 0.0018 - val_mae: 0.0308 - val_mape: 4.4878 - val_mse: 0.0018\n",
      "Epoch 11/50\n",
      "\u001b[1m90/90\u001b[0m \u001b[32m━━━━━━━━━━━━━━━━━━━━\u001b[0m\u001b[37m\u001b[0m \u001b[1m0s\u001b[0m 2ms/step - loss: 9.3452e-05 - mae: 0.0072 - mape: 310.0868 - mse: 9.3452e-05 - val_loss: 0.0021 - val_mae: 0.0333 - val_mape: 4.7981 - val_mse: 0.0021\n",
      "Epoch 12/50\n",
      "\u001b[1m90/90\u001b[0m \u001b[32m━━━━━━━━━━━━━━━━━━━━\u001b[0m\u001b[37m\u001b[0m \u001b[1m0s\u001b[0m 2ms/step - loss: 1.0493e-04 - mae: 0.0074 - mape: 318.8632 - mse: 1.0493e-04 - val_loss: 0.0020 - val_mae: 0.0332 - val_mape: 4.8378 - val_mse: 0.0020\n",
      "\u001b[1m23/23\u001b[0m \u001b[32m━━━━━━━━━━━━━━━━━━━━\u001b[0m\u001b[37m\u001b[0m \u001b[1m0s\u001b[0m 2ms/step \n",
      "model_3: Processando BBDC4 | Combinação 5...\n",
      "Epoch 1/50\n",
      "\u001b[1m88/88\u001b[0m \u001b[32m━━━━━━━━━━━━━━━━━━━━\u001b[0m\u001b[37m\u001b[0m \u001b[1m3s\u001b[0m 6ms/step - loss: 0.0092 - mae: 0.0689 - mape: 18689.3398 - mse: 0.0092 - val_loss: 0.0023 - val_mae: 0.0381 - val_mape: 7.4677 - val_mse: 0.0023\n",
      "Epoch 2/50\n",
      "\u001b[1m88/88\u001b[0m \u001b[32m━━━━━━━━━━━━━━━━━━━━\u001b[0m\u001b[37m\u001b[0m \u001b[1m0s\u001b[0m 2ms/step - loss: 6.4851e-04 - mae: 0.0183 - mape: 6695.2222 - mse: 6.4851e-04 - val_loss: 0.0017 - val_mae: 0.0318 - val_mape: 6.2569 - val_mse: 0.0017\n",
      "Epoch 3/50\n",
      "\u001b[1m88/88\u001b[0m \u001b[32m━━━━━━━━━━━━━━━━━━━━\u001b[0m\u001b[37m\u001b[0m \u001b[1m0s\u001b[0m 2ms/step - loss: 4.9666e-04 - mae: 0.0159 - mape: 34823.9766 - mse: 4.9666e-04 - val_loss: 0.0013 - val_mae: 0.0274 - val_mape: 5.4126 - val_mse: 0.0013\n",
      "Epoch 4/50\n",
      "\u001b[1m88/88\u001b[0m \u001b[32m━━━━━━━━━━━━━━━━━━━━\u001b[0m\u001b[37m\u001b[0m \u001b[1m0s\u001b[0m 2ms/step - loss: 4.7090e-04 - mae: 0.0152 - mape: 2132.3643 - mse: 4.7090e-04 - val_loss: 0.0012 - val_mae: 0.0256 - val_mape: 5.0774 - val_mse: 0.0012\n",
      "Epoch 5/50\n",
      "\u001b[1m88/88\u001b[0m \u001b[32m━━━━━━━━━━━━━━━━━━━━\u001b[0m\u001b[37m\u001b[0m \u001b[1m0s\u001b[0m 2ms/step - loss: 4.9537e-04 - mae: 0.0155 - mape: 4952.1108 - mse: 4.9537e-04 - val_loss: 9.9369e-04 - val_mae: 0.0236 - val_mape: 4.6766 - val_mse: 9.9369e-04\n",
      "Epoch 6/50\n",
      "\u001b[1m88/88\u001b[0m \u001b[32m━━━━━━━━━━━━━━━━━━━━\u001b[0m\u001b[37m\u001b[0m \u001b[1m0s\u001b[0m 2ms/step - loss: 4.3397e-04 - mae: 0.0150 - mape: 1674.5945 - mse: 4.3397e-04 - val_loss: 9.4471e-04 - val_mae: 0.0226 - val_mape: 4.5021 - val_mse: 9.4471e-04\n",
      "Epoch 7/50\n",
      "\u001b[1m88/88\u001b[0m \u001b[32m━━━━━━━━━━━━━━━━━━━━\u001b[0m\u001b[37m\u001b[0m \u001b[1m0s\u001b[0m 2ms/step - loss: 4.5403e-04 - mae: 0.0144 - mape: 5422.7173 - mse: 4.5403e-04 - val_loss: 8.1275e-04 - val_mae: 0.0208 - val_mape: 4.1352 - val_mse: 8.1275e-04\n",
      "Epoch 8/50\n",
      "\u001b[1m88/88\u001b[0m \u001b[32m━━━━━━━━━━━━━━━━━━━━\u001b[0m\u001b[37m\u001b[0m \u001b[1m0s\u001b[0m 2ms/step - loss: 4.4160e-04 - mae: 0.0139 - mape: 230.4107 - mse: 4.4160e-04 - val_loss: 9.2701e-04 - val_mae: 0.0224 - val_mape: 4.4768 - val_mse: 9.2701e-04\n",
      "Epoch 9/50\n",
      "\u001b[1m88/88\u001b[0m \u001b[32m━━━━━━━━━━━━━━━━━━━━\u001b[0m\u001b[37m\u001b[0m \u001b[1m0s\u001b[0m 2ms/step - loss: 3.7790e-04 - mae: 0.0139 - mape: 771.5466 - mse: 3.7790e-04 - val_loss: 8.8238e-04 - val_mae: 0.0218 - val_mape: 4.3653 - val_mse: 8.8238e-04\n",
      "Epoch 10/50\n",
      "\u001b[1m88/88\u001b[0m \u001b[32m━━━━━━━━━━━━━━━━━━━━\u001b[0m\u001b[37m\u001b[0m \u001b[1m0s\u001b[0m 2ms/step - loss: 3.5933e-04 - mae: 0.0135 - mape: 7509.1802 - mse: 3.5933e-04 - val_loss: 7.7998e-04 - val_mae: 0.0202 - val_mape: 4.0657 - val_mse: 7.7998e-04\n",
      "Epoch 11/50\n",
      "\u001b[1m88/88\u001b[0m \u001b[32m━━━━━━━━━━━━━━━━━━━━\u001b[0m\u001b[37m\u001b[0m \u001b[1m0s\u001b[0m 2ms/step - loss: 3.8246e-04 - mae: 0.0135 - mape: 18001.3203 - mse: 3.8246e-04 - val_loss: 6.7459e-04 - val_mae: 0.0185 - val_mape: 3.7179 - val_mse: 6.7459e-04\n",
      "Epoch 12/50\n",
      "\u001b[1m88/88\u001b[0m \u001b[32m━━━━━━━━━━━━━━━━━━━━\u001b[0m\u001b[37m\u001b[0m \u001b[1m0s\u001b[0m 2ms/step - loss: 4.3748e-04 - mae: 0.0133 - mape: 4632.2192 - mse: 4.3748e-04 - val_loss: 6.3229e-04 - val_mae: 0.0179 - val_mape: 3.5862 - val_mse: 6.3229e-04\n",
      "Epoch 13/50\n",
      "\u001b[1m88/88\u001b[0m \u001b[32m━━━━━━━━━━━━━━━━━━━━\u001b[0m\u001b[37m\u001b[0m \u001b[1m0s\u001b[0m 2ms/step - loss: 3.7104e-04 - mae: 0.0135 - mape: 32968.8320 - mse: 3.7104e-04 - val_loss: 6.3707e-04 - val_mae: 0.0180 - val_mape: 3.6098 - val_mse: 6.3707e-04\n",
      "Epoch 14/50\n",
      "\u001b[1m88/88\u001b[0m \u001b[32m━━━━━━━━━━━━━━━━━━━━\u001b[0m\u001b[37m\u001b[0m \u001b[1m0s\u001b[0m 2ms/step - loss: 4.0549e-04 - mae: 0.0134 - mape: 2768.0940 - mse: 4.0549e-04 - val_loss: 6.2209e-04 - val_mae: 0.0177 - val_mape: 3.5525 - val_mse: 6.2209e-04\n",
      "Epoch 15/50\n",
      "\u001b[1m88/88\u001b[0m \u001b[32m━━━━━━━━━━━━━━━━━━━━\u001b[0m\u001b[37m\u001b[0m \u001b[1m0s\u001b[0m 2ms/step - loss: 4.1856e-04 - mae: 0.0133 - mape: 14716.7783 - mse: 4.1856e-04 - val_loss: 5.9066e-04 - val_mae: 0.0175 - val_mape: 3.4909 - val_mse: 5.9066e-04\n",
      "Epoch 16/50\n",
      "\u001b[1m88/88\u001b[0m \u001b[32m━━━━━━━━━━━━━━━━━━━━\u001b[0m\u001b[37m\u001b[0m \u001b[1m0s\u001b[0m 2ms/step - loss: 3.3388e-04 - mae: 0.0127 - mape: 2329.4272 - mse: 3.3388e-04 - val_loss: 6.5978e-04 - val_mae: 0.0185 - val_mape: 3.7122 - val_mse: 6.5978e-04\n",
      "Epoch 17/50\n",
      "\u001b[1m88/88\u001b[0m \u001b[32m━━━━━━━━━━━━━━━━━━━━\u001b[0m\u001b[37m\u001b[0m \u001b[1m0s\u001b[0m 2ms/step - loss: 3.4848e-04 - mae: 0.0125 - mape: 5403.1929 - mse: 3.4848e-04 - val_loss: 5.8357e-04 - val_mae: 0.0172 - val_mape: 3.4433 - val_mse: 5.8357e-04\n",
      "Epoch 18/50\n",
      "\u001b[1m88/88\u001b[0m \u001b[32m━━━━━━━━━━━━━━━━━━━━\u001b[0m\u001b[37m\u001b[0m \u001b[1m0s\u001b[0m 2ms/step - loss: 3.5224e-04 - mae: 0.0126 - mape: 1238.6530 - mse: 3.5224e-04 - val_loss: 6.1246e-04 - val_mae: 0.0177 - val_mape: 3.5492 - val_mse: 6.1246e-04\n",
      "Epoch 19/50\n",
      "\u001b[1m88/88\u001b[0m \u001b[32m━━━━━━━━━━━━━━━━━━━━\u001b[0m\u001b[37m\u001b[0m \u001b[1m0s\u001b[0m 2ms/step - loss: 3.1601e-04 - mae: 0.0127 - mape: 483.0327 - mse: 3.1601e-04 - val_loss: 5.4558e-04 - val_mae: 0.0167 - val_mape: 3.3357 - val_mse: 5.4558e-04\n",
      "Epoch 20/50\n",
      "\u001b[1m88/88\u001b[0m \u001b[32m━━━━━━━━━━━━━━━━━━━━\u001b[0m\u001b[37m\u001b[0m \u001b[1m0s\u001b[0m 2ms/step - loss: 3.0705e-04 - mae: 0.0122 - mape: 3906.0024 - mse: 3.0705e-04 - val_loss: 6.7831e-04 - val_mae: 0.0191 - val_mape: 3.7911 - val_mse: 6.7831e-04\n",
      "Epoch 21/50\n",
      "\u001b[1m88/88\u001b[0m \u001b[32m━━━━━━━━━━━━━━━━━━━━\u001b[0m\u001b[37m\u001b[0m \u001b[1m0s\u001b[0m 2ms/step - loss: 3.5802e-04 - mae: 0.0129 - mape: 1630.8151 - mse: 3.5802e-04 - val_loss: 5.2955e-04 - val_mae: 0.0164 - val_mape: 3.2772 - val_mse: 5.2955e-04\n",
      "Epoch 22/50\n",
      "\u001b[1m88/88\u001b[0m \u001b[32m━━━━━━━━━━━━━━━━━━━━\u001b[0m\u001b[37m\u001b[0m \u001b[1m0s\u001b[0m 2ms/step - loss: 3.4835e-04 - mae: 0.0126 - mape: 8205.3447 - mse: 3.4835e-04 - val_loss: 5.4061e-04 - val_mae: 0.0169 - val_mape: 3.3654 - val_mse: 5.4061e-04\n",
      "Epoch 23/50\n",
      "\u001b[1m88/88\u001b[0m \u001b[32m━━━━━━━━━━━━━━━━━━━━\u001b[0m\u001b[37m\u001b[0m \u001b[1m0s\u001b[0m 2ms/step - loss: 3.1874e-04 - mae: 0.0125 - mape: 4900.8711 - mse: 3.1874e-04 - val_loss: 5.8650e-04 - val_mae: 0.0174 - val_mape: 3.4779 - val_mse: 5.8650e-04\n",
      "Epoch 24/50\n",
      "\u001b[1m88/88\u001b[0m \u001b[32m━━━━━━━━━━━━━━━━━━━━\u001b[0m\u001b[37m\u001b[0m \u001b[1m0s\u001b[0m 2ms/step - loss: 2.8943e-04 - mae: 0.0122 - mape: 15921.6475 - mse: 2.8943e-04 - val_loss: 5.3662e-04 - val_mae: 0.0168 - val_mape: 3.3484 - val_mse: 5.3662e-04\n",
      "Epoch 25/50\n",
      "\u001b[1m88/88\u001b[0m \u001b[32m━━━━━━━━━━━━━━━━━━━━\u001b[0m\u001b[37m\u001b[0m \u001b[1m0s\u001b[0m 2ms/step - loss: 3.5210e-04 - mae: 0.0123 - mape: 712.5384 - mse: 3.5210e-04 - val_loss: 5.8845e-04 - val_mae: 0.0175 - val_mape: 3.5055 - val_mse: 5.8845e-04\n",
      "Epoch 26/50\n",
      "\u001b[1m88/88\u001b[0m \u001b[32m━━━━━━━━━━━━━━━━━━━━\u001b[0m\u001b[37m\u001b[0m \u001b[1m0s\u001b[0m 2ms/step - loss: 3.2855e-04 - mae: 0.0122 - mape: 2212.2856 - mse: 3.2855e-04 - val_loss: 5.2923e-04 - val_mae: 0.0165 - val_mape: 3.2859 - val_mse: 5.2923e-04\n",
      "Epoch 27/50\n",
      "\u001b[1m88/88\u001b[0m \u001b[32m━━━━━━━━━━━━━━━━━━━━\u001b[0m\u001b[37m\u001b[0m \u001b[1m0s\u001b[0m 2ms/step - loss: 3.7008e-04 - mae: 0.0131 - mape: 4935.7427 - mse: 3.7008e-04 - val_loss: 5.2352e-04 - val_mae: 0.0167 - val_mape: 3.3057 - val_mse: 5.2352e-04\n",
      "Epoch 28/50\n",
      "\u001b[1m88/88\u001b[0m \u001b[32m━━━━━━━━━━━━━━━━━━━━\u001b[0m\u001b[37m\u001b[0m \u001b[1m0s\u001b[0m 2ms/step - loss: 3.3797e-04 - mae: 0.0127 - mape: 5727.8657 - mse: 3.3797e-04 - val_loss: 5.1970e-04 - val_mae: 0.0166 - val_mape: 3.2948 - val_mse: 5.1970e-04\n",
      "Epoch 29/50\n",
      "\u001b[1m88/88\u001b[0m \u001b[32m━━━━━━━━━━━━━━━━━━━━\u001b[0m\u001b[37m\u001b[0m \u001b[1m0s\u001b[0m 2ms/step - loss: 3.2678e-04 - mae: 0.0120 - mape: 8136.0122 - mse: 3.2678e-04 - val_loss: 5.0773e-04 - val_mae: 0.0163 - val_mape: 3.2459 - val_mse: 5.0773e-04\n",
      "Epoch 30/50\n",
      "\u001b[1m88/88\u001b[0m \u001b[32m━━━━━━━━━━━━━━━━━━━━\u001b[0m\u001b[37m\u001b[0m \u001b[1m0s\u001b[0m 2ms/step - loss: 3.9654e-04 - mae: 0.0122 - mape: 11252.1367 - mse: 3.9654e-04 - val_loss: 5.4665e-04 - val_mae: 0.0168 - val_mape: 3.3552 - val_mse: 5.4665e-04\n",
      "Epoch 31/50\n",
      "\u001b[1m88/88\u001b[0m \u001b[32m━━━━━━━━━━━━━━━━━━━━\u001b[0m\u001b[37m\u001b[0m \u001b[1m0s\u001b[0m 2ms/step - loss: 2.9296e-04 - mae: 0.0120 - mape: 738.1854 - mse: 2.9296e-04 - val_loss: 5.4698e-04 - val_mae: 0.0170 - val_mape: 3.3819 - val_mse: 5.4698e-04\n",
      "Epoch 32/50\n",
      "\u001b[1m88/88\u001b[0m \u001b[32m━━━━━━━━━━━━━━━━━━━━\u001b[0m\u001b[37m\u001b[0m \u001b[1m0s\u001b[0m 2ms/step - loss: 2.9330e-04 - mae: 0.0119 - mape: 8261.2480 - mse: 2.9330e-04 - val_loss: 5.3846e-04 - val_mae: 0.0168 - val_mape: 3.3558 - val_mse: 5.3846e-04\n",
      "Epoch 33/50\n",
      "\u001b[1m88/88\u001b[0m \u001b[32m━━━━━━━━━━━━━━━━━━━━\u001b[0m\u001b[37m\u001b[0m \u001b[1m0s\u001b[0m 2ms/step - loss: 3.1156e-04 - mae: 0.0123 - mape: 5968.1797 - mse: 3.1156e-04 - val_loss: 6.5722e-04 - val_mae: 0.0192 - val_mape: 3.8208 - val_mse: 6.5722e-04\n",
      "Epoch 34/50\n",
      "\u001b[1m88/88\u001b[0m \u001b[32m━━━━━━━━━━━━━━━━━━━━\u001b[0m\u001b[37m\u001b[0m \u001b[1m0s\u001b[0m 2ms/step - loss: 3.2608e-04 - mae: 0.0129 - mape: 9395.7275 - mse: 3.2608e-04 - val_loss: 5.0047e-04 - val_mae: 0.0162 - val_mape: 3.2254 - val_mse: 5.0047e-04\n",
      "Epoch 35/50\n",
      "\u001b[1m88/88\u001b[0m \u001b[32m━━━━━━━━━━━━━━━━━━━━\u001b[0m\u001b[37m\u001b[0m \u001b[1m0s\u001b[0m 2ms/step - loss: 3.3151e-04 - mae: 0.0130 - mape: 817.7859 - mse: 3.3151e-04 - val_loss: 5.2747e-04 - val_mae: 0.0166 - val_mape: 3.3123 - val_mse: 5.2747e-04\n",
      "Epoch 36/50\n",
      "\u001b[1m88/88\u001b[0m \u001b[32m━━━━━━━━━━━━━━━━━━━━\u001b[0m\u001b[37m\u001b[0m \u001b[1m0s\u001b[0m 2ms/step - loss: 3.8776e-04 - mae: 0.0124 - mape: 5526.0771 - mse: 3.8776e-04 - val_loss: 5.6650e-04 - val_mae: 0.0178 - val_mape: 3.4881 - val_mse: 5.6650e-04\n",
      "Epoch 37/50\n",
      "\u001b[1m88/88\u001b[0m \u001b[32m━━━━━━━━━━━━━━━━━━━━\u001b[0m\u001b[37m\u001b[0m \u001b[1m0s\u001b[0m 2ms/step - loss: 3.3221e-04 - mae: 0.0130 - mape: 1368.6803 - mse: 3.3221e-04 - val_loss: 5.0635e-04 - val_mae: 0.0163 - val_mape: 3.2411 - val_mse: 5.0635e-04\n",
      "Epoch 38/50\n",
      "\u001b[1m88/88\u001b[0m \u001b[32m━━━━━━━━━━━━━━━━━━━━\u001b[0m\u001b[37m\u001b[0m \u001b[1m0s\u001b[0m 2ms/step - loss: 2.9448e-04 - mae: 0.0117 - mape: 11174.3271 - mse: 2.9448e-04 - val_loss: 5.4879e-04 - val_mae: 0.0173 - val_mape: 3.4152 - val_mse: 5.4879e-04\n",
      "Epoch 39/50\n",
      "\u001b[1m88/88\u001b[0m \u001b[32m━━━━━━━━━━━━━━━━━━━━\u001b[0m\u001b[37m\u001b[0m \u001b[1m0s\u001b[0m 2ms/step - loss: 3.6364e-04 - mae: 0.0129 - mape: 15600.1270 - mse: 3.6364e-04 - val_loss: 5.0290e-04 - val_mae: 0.0161 - val_mape: 3.2129 - val_mse: 5.0290e-04\n",
      "Epoch 40/50\n",
      "\u001b[1m88/88\u001b[0m \u001b[32m━━━━━━━━━━━━━━━━━━━━\u001b[0m\u001b[37m\u001b[0m \u001b[1m0s\u001b[0m 2ms/step - loss: 3.1633e-04 - mae: 0.0124 - mape: 1433.9183 - mse: 3.1633e-04 - val_loss: 6.3563e-04 - val_mae: 0.0188 - val_mape: 3.7399 - val_mse: 6.3563e-04\n",
      "Epoch 41/50\n",
      "\u001b[1m88/88\u001b[0m \u001b[32m━━━━━━━━━━━━━━━━━━━━\u001b[0m\u001b[37m\u001b[0m \u001b[1m0s\u001b[0m 2ms/step - loss: 2.9412e-04 - mae: 0.0119 - mape: 10838.9883 - mse: 2.9412e-04 - val_loss: 5.0537e-04 - val_mae: 0.0162 - val_mape: 3.2337 - val_mse: 5.0537e-04\n",
      "Epoch 42/50\n",
      "\u001b[1m88/88\u001b[0m \u001b[32m━━━━━━━━━━━━━━━━━━━━\u001b[0m\u001b[37m\u001b[0m \u001b[1m0s\u001b[0m 2ms/step - loss: 3.0251e-04 - mae: 0.0117 - mape: 5321.3198 - mse: 3.0251e-04 - val_loss: 5.2138e-04 - val_mae: 0.0168 - val_mape: 3.3243 - val_mse: 5.2138e-04\n",
      "Epoch 43/50\n",
      "\u001b[1m88/88\u001b[0m \u001b[32m━━━━━━━━━━━━━━━━━━━━\u001b[0m\u001b[37m\u001b[0m \u001b[1m0s\u001b[0m 2ms/step - loss: 2.9837e-04 - mae: 0.0118 - mape: 7766.2646 - mse: 2.9837e-04 - val_loss: 5.6265e-04 - val_mae: 0.0174 - val_mape: 3.4670 - val_mse: 5.6265e-04\n",
      "Epoch 44/50\n",
      "\u001b[1m88/88\u001b[0m \u001b[32m━━━━━━━━━━━━━━━━━━━━\u001b[0m\u001b[37m\u001b[0m \u001b[1m0s\u001b[0m 2ms/step - loss: 2.9271e-04 - mae: 0.0119 - mape: 933.1487 - mse: 2.9271e-04 - val_loss: 5.2768e-04 - val_mae: 0.0167 - val_mape: 3.3296 - val_mse: 5.2768e-04\n",
      "\u001b[1m22/22\u001b[0m \u001b[32m━━━━━━━━━━━━━━━━━━━━\u001b[0m\u001b[37m\u001b[0m \u001b[1m0s\u001b[0m 3ms/step \n",
      "model_3: Processando ITUB4 | Combinação 5...\n",
      "Epoch 1/50\n",
      "\u001b[1m90/90\u001b[0m \u001b[32m━━━━━━━━━━━━━━━━━━━━\u001b[0m\u001b[37m\u001b[0m \u001b[1m1s\u001b[0m 4ms/step - loss: 0.0436 - mae: 0.1448 - mape: 357791.7500 - mse: 0.0436 - val_loss: 0.0043 - val_mae: 0.0510 - val_mape: 8.5298 - val_mse: 0.0043\n",
      "Epoch 2/50\n",
      "\u001b[1m90/90\u001b[0m \u001b[32m━━━━━━━━━━━━━━━━━━━━\u001b[0m\u001b[37m\u001b[0m \u001b[1m0s\u001b[0m 2ms/step - loss: 0.0012 - mae: 0.0231 - mape: 268392.6875 - mse: 0.0012 - val_loss: 0.0022 - val_mae: 0.0362 - val_mape: 6.1523 - val_mse: 0.0022\n",
      "Epoch 3/50\n",
      "\u001b[1m90/90\u001b[0m \u001b[32m━━━━━━━━━━━━━━━━━━━━\u001b[0m\u001b[37m\u001b[0m \u001b[1m0s\u001b[0m 2ms/step - loss: 6.2398e-04 - mae: 0.0177 - mape: 31831.9512 - mse: 6.2398e-04 - val_loss: 0.0012 - val_mae: 0.0258 - val_mape: 4.3872 - val_mse: 0.0012\n",
      "Epoch 4/50\n",
      "\u001b[1m90/90\u001b[0m \u001b[32m━━━━━━━━━━━━━━━━━━━━\u001b[0m\u001b[37m\u001b[0m \u001b[1m0s\u001b[0m 2ms/step - loss: 4.3823e-04 - mae: 0.0153 - mape: 34399.8711 - mse: 4.3823e-04 - val_loss: 9.8218e-04 - val_mae: 0.0239 - val_mape: 4.0770 - val_mse: 9.8218e-04\n",
      "Epoch 5/50\n",
      "\u001b[1m90/90\u001b[0m \u001b[32m━━━━━━━━━━━━━━━━━━━━\u001b[0m\u001b[37m\u001b[0m \u001b[1m0s\u001b[0m 2ms/step - loss: 3.8304e-04 - mae: 0.0144 - mape: 19570.2871 - mse: 3.8304e-04 - val_loss: 8.4179e-04 - val_mae: 0.0218 - val_mape: 3.7084 - val_mse: 8.4179e-04\n",
      "Epoch 6/50\n",
      "\u001b[1m90/90\u001b[0m \u001b[32m━━━━━━━━━━━━━━━━━━━━\u001b[0m\u001b[37m\u001b[0m \u001b[1m0s\u001b[0m 2ms/step - loss: 3.1125e-04 - mae: 0.0130 - mape: 21755.2461 - mse: 3.1125e-04 - val_loss: 8.1346e-04 - val_mae: 0.0215 - val_mape: 3.6850 - val_mse: 8.1346e-04\n",
      "Epoch 7/50\n",
      "\u001b[1m90/90\u001b[0m \u001b[32m━━━━━━━━━━━━━━━━━━━━\u001b[0m\u001b[37m\u001b[0m \u001b[1m0s\u001b[0m 2ms/step - loss: 3.1006e-04 - mae: 0.0130 - mape: 64888.2930 - mse: 3.1006e-04 - val_loss: 7.1704e-04 - val_mae: 0.0199 - val_mape: 3.4093 - val_mse: 7.1704e-04\n",
      "Epoch 8/50\n",
      "\u001b[1m90/90\u001b[0m \u001b[32m━━━━━━━━━━━━━━━━━━━━\u001b[0m\u001b[37m\u001b[0m \u001b[1m0s\u001b[0m 2ms/step - loss: 2.8093e-04 - mae: 0.0124 - mape: 53179.5547 - mse: 2.8093e-04 - val_loss: 7.7441e-04 - val_mae: 0.0206 - val_mape: 3.5511 - val_mse: 7.7441e-04\n",
      "Epoch 9/50\n",
      "\u001b[1m90/90\u001b[0m \u001b[32m━━━━━━━━━━━━━━━━━━━━\u001b[0m\u001b[37m\u001b[0m \u001b[1m0s\u001b[0m 2ms/step - loss: 2.8353e-04 - mae: 0.0124 - mape: 25892.8652 - mse: 2.8353e-04 - val_loss: 6.1015e-04 - val_mae: 0.0179 - val_mape: 3.0629 - val_mse: 6.1015e-04\n",
      "Epoch 10/50\n",
      "\u001b[1m90/90\u001b[0m \u001b[32m━━━━━━━━━━━━━━━━━━━━\u001b[0m\u001b[37m\u001b[0m \u001b[1m0s\u001b[0m 2ms/step - loss: 2.8452e-04 - mae: 0.0127 - mape: 75261.7031 - mse: 2.8452e-04 - val_loss: 6.7599e-04 - val_mae: 0.0190 - val_mape: 3.2718 - val_mse: 6.7599e-04\n",
      "Epoch 11/50\n",
      "\u001b[1m90/90\u001b[0m \u001b[32m━━━━━━━━━━━━━━━━━━━━\u001b[0m\u001b[37m\u001b[0m \u001b[1m0s\u001b[0m 3ms/step - loss: 2.3234e-04 - mae: 0.0116 - mape: 22687.5586 - mse: 2.3234e-04 - val_loss: 5.7601e-04 - val_mae: 0.0171 - val_mape: 2.9265 - val_mse: 5.7601e-04\n",
      "Epoch 12/50\n",
      "\u001b[1m90/90\u001b[0m \u001b[32m━━━━━━━━━━━━━━━━━━━━\u001b[0m\u001b[37m\u001b[0m \u001b[1m0s\u001b[0m 2ms/step - loss: 2.3197e-04 - mae: 0.0114 - mape: 16562.6934 - mse: 2.3197e-04 - val_loss: 6.5622e-04 - val_mae: 0.0186 - val_mape: 3.2049 - val_mse: 6.5622e-04\n",
      "Epoch 13/50\n",
      "\u001b[1m90/90\u001b[0m \u001b[32m━━━━━━━━━━━━━━━━━━━━\u001b[0m\u001b[37m\u001b[0m \u001b[1m0s\u001b[0m 2ms/step - loss: 2.4047e-04 - mae: 0.0117 - mape: 8212.4336 - mse: 2.4047e-04 - val_loss: 5.3792e-04 - val_mae: 0.0165 - val_mape: 2.8067 - val_mse: 5.3792e-04\n",
      "Epoch 14/50\n",
      "\u001b[1m90/90\u001b[0m \u001b[32m━━━━━━━━━━━━━━━━━━━━\u001b[0m\u001b[37m\u001b[0m \u001b[1m0s\u001b[0m 2ms/step - loss: 2.2105e-04 - mae: 0.0112 - mape: 61183.9531 - mse: 2.2105e-04 - val_loss: 5.2296e-04 - val_mae: 0.0163 - val_mape: 2.7698 - val_mse: 5.2296e-04\n",
      "Epoch 15/50\n",
      "\u001b[1m90/90\u001b[0m \u001b[32m━━━━━━━━━━━━━━━━━━━━\u001b[0m\u001b[37m\u001b[0m \u001b[1m0s\u001b[0m 2ms/step - loss: 2.3880e-04 - mae: 0.0117 - mape: 10691.0146 - mse: 2.3880e-04 - val_loss: 5.5559e-04 - val_mae: 0.0174 - val_mape: 2.9086 - val_mse: 5.5559e-04\n",
      "Epoch 16/50\n",
      "\u001b[1m90/90\u001b[0m \u001b[32m━━━━━━━━━━━━━━━━━━━━\u001b[0m\u001b[37m\u001b[0m \u001b[1m0s\u001b[0m 2ms/step - loss: 2.0476e-04 - mae: 0.0109 - mape: 17669.7656 - mse: 2.0476e-04 - val_loss: 4.9620e-04 - val_mae: 0.0158 - val_mape: 2.6810 - val_mse: 4.9620e-04\n",
      "Epoch 17/50\n",
      "\u001b[1m90/90\u001b[0m \u001b[32m━━━━━━━━━━━━━━━━━━━━\u001b[0m\u001b[37m\u001b[0m \u001b[1m0s\u001b[0m 2ms/step - loss: 2.0825e-04 - mae: 0.0106 - mape: 29565.6680 - mse: 2.0825e-04 - val_loss: 5.3887e-04 - val_mae: 0.0165 - val_mape: 2.8237 - val_mse: 5.3887e-04\n",
      "Epoch 18/50\n",
      "\u001b[1m90/90\u001b[0m \u001b[32m━━━━━━━━━━━━━━━━━━━━\u001b[0m\u001b[37m\u001b[0m \u001b[1m0s\u001b[0m 2ms/step - loss: 1.9199e-04 - mae: 0.0104 - mape: 10263.6406 - mse: 1.9199e-04 - val_loss: 5.5760e-04 - val_mae: 0.0169 - val_mape: 2.8737 - val_mse: 5.5760e-04\n",
      "Epoch 19/50\n",
      "\u001b[1m90/90\u001b[0m \u001b[32m━━━━━━━━━━━━━━━━━━━━\u001b[0m\u001b[37m\u001b[0m \u001b[1m0s\u001b[0m 2ms/step - loss: 2.0678e-04 - mae: 0.0107 - mape: 70408.2344 - mse: 2.0678e-04 - val_loss: 4.6949e-04 - val_mae: 0.0153 - val_mape: 2.6132 - val_mse: 4.6949e-04\n",
      "Epoch 20/50\n",
      "\u001b[1m90/90\u001b[0m \u001b[32m━━━━━━━━━━━━━━━━━━━━\u001b[0m\u001b[37m\u001b[0m \u001b[1m0s\u001b[0m 2ms/step - loss: 2.1802e-04 - mae: 0.0112 - mape: 17593.2070 - mse: 2.1802e-04 - val_loss: 4.6961e-04 - val_mae: 0.0153 - val_mape: 2.6017 - val_mse: 4.6961e-04\n",
      "Epoch 21/50\n",
      "\u001b[1m90/90\u001b[0m \u001b[32m━━━━━━━━━━━━━━━━━━━━\u001b[0m\u001b[37m\u001b[0m \u001b[1m0s\u001b[0m 2ms/step - loss: 1.9844e-04 - mae: 0.0105 - mape: 55167.5156 - mse: 1.9844e-04 - val_loss: 4.7838e-04 - val_mae: 0.0158 - val_mape: 2.6683 - val_mse: 4.7838e-04\n",
      "Epoch 22/50\n",
      "\u001b[1m90/90\u001b[0m \u001b[32m━━━━━━━━━━━━━━━━━━━━\u001b[0m\u001b[37m\u001b[0m \u001b[1m0s\u001b[0m 2ms/step - loss: 1.9427e-04 - mae: 0.0105 - mape: 7728.5010 - mse: 1.9427e-04 - val_loss: 5.2717e-04 - val_mae: 0.0165 - val_mape: 2.8188 - val_mse: 5.2717e-04\n",
      "Epoch 23/50\n",
      "\u001b[1m90/90\u001b[0m \u001b[32m━━━━━━━━━━━━━━━━━━━━\u001b[0m\u001b[37m\u001b[0m \u001b[1m0s\u001b[0m 2ms/step - loss: 2.1771e-04 - mae: 0.0112 - mape: 18888.6230 - mse: 2.1771e-04 - val_loss: 4.8359e-04 - val_mae: 0.0161 - val_mape: 2.7147 - val_mse: 4.8359e-04\n",
      "Epoch 24/50\n",
      "\u001b[1m90/90\u001b[0m \u001b[32m━━━━━━━━━━━━━━━━━━━━\u001b[0m\u001b[37m\u001b[0m \u001b[1m0s\u001b[0m 2ms/step - loss: 2.3968e-04 - mae: 0.0116 - mape: 46918.5742 - mse: 2.3968e-04 - val_loss: 4.5904e-04 - val_mae: 0.0154 - val_mape: 2.5980 - val_mse: 4.5904e-04\n",
      "Epoch 25/50\n",
      "\u001b[1m90/90\u001b[0m \u001b[32m━━━━━━━━━━━━━━━━━━━━\u001b[0m\u001b[37m\u001b[0m \u001b[1m0s\u001b[0m 2ms/step - loss: 1.9728e-04 - mae: 0.0105 - mape: 32810.7031 - mse: 1.9728e-04 - val_loss: 4.4429e-04 - val_mae: 0.0150 - val_mape: 2.5536 - val_mse: 4.4429e-04\n",
      "Epoch 26/50\n",
      "\u001b[1m90/90\u001b[0m \u001b[32m━━━━━━━━━━━━━━━━━━━━\u001b[0m\u001b[37m\u001b[0m \u001b[1m0s\u001b[0m 2ms/step - loss: 1.9574e-04 - mae: 0.0105 - mape: 36126.9258 - mse: 1.9574e-04 - val_loss: 4.5642e-04 - val_mae: 0.0155 - val_mape: 2.6078 - val_mse: 4.5642e-04\n",
      "Epoch 27/50\n",
      "\u001b[1m90/90\u001b[0m \u001b[32m━━━━━━━━━━━━━━━━━━━━\u001b[0m\u001b[37m\u001b[0m \u001b[1m0s\u001b[0m 2ms/step - loss: 2.0714e-04 - mae: 0.0109 - mape: 15873.4668 - mse: 2.0714e-04 - val_loss: 6.9300e-04 - val_mae: 0.0201 - val_mape: 3.4287 - val_mse: 6.9300e-04\n",
      "Epoch 28/50\n",
      "\u001b[1m90/90\u001b[0m \u001b[32m━━━━━━━━━━━━━━━━━━━━\u001b[0m\u001b[37m\u001b[0m \u001b[1m0s\u001b[0m 2ms/step - loss: 2.2071e-04 - mae: 0.0112 - mape: 17550.4707 - mse: 2.2071e-04 - val_loss: 5.2644e-04 - val_mae: 0.0166 - val_mape: 2.8425 - val_mse: 5.2644e-04\n",
      "Epoch 29/50\n",
      "\u001b[1m90/90\u001b[0m \u001b[32m━━━━━━━━━━━━━━━━━━━━\u001b[0m\u001b[37m\u001b[0m \u001b[1m0s\u001b[0m 2ms/step - loss: 2.2138e-04 - mae: 0.0111 - mape: 49149.4062 - mse: 2.2138e-04 - val_loss: 4.8423e-04 - val_mae: 0.0158 - val_mape: 2.6971 - val_mse: 4.8423e-04\n",
      "Epoch 30/50\n",
      "\u001b[1m90/90\u001b[0m \u001b[32m━━━━━━━━━━━━━━━━━━━━\u001b[0m\u001b[37m\u001b[0m \u001b[1m0s\u001b[0m 2ms/step - loss: 2.2416e-04 - mae: 0.0114 - mape: 48532.2812 - mse: 2.2416e-04 - val_loss: 4.3452e-04 - val_mae: 0.0149 - val_mape: 2.5164 - val_mse: 4.3452e-04\n",
      "Epoch 31/50\n",
      "\u001b[1m90/90\u001b[0m \u001b[32m━━━━━━━━━━━━━━━━━━━━\u001b[0m\u001b[37m\u001b[0m \u001b[1m0s\u001b[0m 2ms/step - loss: 1.9381e-04 - mae: 0.0104 - mape: 38504.9805 - mse: 1.9381e-04 - val_loss: 4.2696e-04 - val_mae: 0.0147 - val_mape: 2.4932 - val_mse: 4.2696e-04\n",
      "Epoch 32/50\n",
      "\u001b[1m90/90\u001b[0m \u001b[32m━━━━━━━━━━━━━━━━━━━━\u001b[0m\u001b[37m\u001b[0m \u001b[1m0s\u001b[0m 2ms/step - loss: 2.0896e-04 - mae: 0.0111 - mape: 17708.6582 - mse: 2.0896e-04 - val_loss: 4.3398e-04 - val_mae: 0.0148 - val_mape: 2.5262 - val_mse: 4.3398e-04\n",
      "Epoch 33/50\n",
      "\u001b[1m90/90\u001b[0m \u001b[32m━━━━━━━━━━━━━━━━━━━━\u001b[0m\u001b[37m\u001b[0m \u001b[1m0s\u001b[0m 3ms/step - loss: 2.2451e-04 - mae: 0.0114 - mape: 38732.4805 - mse: 2.2451e-04 - val_loss: 5.1675e-04 - val_mae: 0.0171 - val_mape: 2.8501 - val_mse: 5.1675e-04\n",
      "Epoch 34/50\n",
      "\u001b[1m90/90\u001b[0m \u001b[32m━━━━━━━━━━━━━━━━━━━━\u001b[0m\u001b[37m\u001b[0m \u001b[1m0s\u001b[0m 3ms/step - loss: 2.2355e-04 - mae: 0.0112 - mape: 9802.0098 - mse: 2.2355e-04 - val_loss: 4.2780e-04 - val_mae: 0.0149 - val_mape: 2.5147 - val_mse: 4.2780e-04\n",
      "Epoch 35/50\n",
      "\u001b[1m90/90\u001b[0m \u001b[32m━━━━━━━━━━━━━━━━━━━━\u001b[0m\u001b[37m\u001b[0m \u001b[1m0s\u001b[0m 2ms/step - loss: 1.9070e-04 - mae: 0.0104 - mape: 8019.4102 - mse: 1.9070e-04 - val_loss: 4.4386e-04 - val_mae: 0.0154 - val_mape: 2.5811 - val_mse: 4.4386e-04\n",
      "Epoch 36/50\n",
      "\u001b[1m90/90\u001b[0m \u001b[32m━━━━━━━━━━━━━━━━━━━━\u001b[0m\u001b[37m\u001b[0m \u001b[1m0s\u001b[0m 2ms/step - loss: 1.9261e-04 - mae: 0.0103 - mape: 10021.4668 - mse: 1.9261e-04 - val_loss: 4.5388e-04 - val_mae: 0.0158 - val_mape: 2.6455 - val_mse: 4.5388e-04\n",
      "Epoch 37/50\n",
      "\u001b[1m90/90\u001b[0m \u001b[32m━━━━━━━━━━━━━━━━━━━━\u001b[0m\u001b[37m\u001b[0m \u001b[1m0s\u001b[0m 2ms/step - loss: 1.8731e-04 - mae: 0.0102 - mape: 25518.9707 - mse: 1.8731e-04 - val_loss: 4.3627e-04 - val_mae: 0.0149 - val_mape: 2.5441 - val_mse: 4.3627e-04\n",
      "Epoch 38/50\n",
      "\u001b[1m90/90\u001b[0m \u001b[32m━━━━━━━━━━━━━━━━━━━━\u001b[0m\u001b[37m\u001b[0m \u001b[1m0s\u001b[0m 3ms/step - loss: 1.8403e-04 - mae: 0.0101 - mape: 19743.8086 - mse: 1.8403e-04 - val_loss: 4.7588e-04 - val_mae: 0.0163 - val_mape: 2.7224 - val_mse: 4.7588e-04\n",
      "Epoch 39/50\n",
      "\u001b[1m90/90\u001b[0m \u001b[32m━━━━━━━━━━━━━━━━━━━━\u001b[0m\u001b[37m\u001b[0m \u001b[1m0s\u001b[0m 2ms/step - loss: 1.9581e-04 - mae: 0.0103 - mape: 13799.3486 - mse: 1.9581e-04 - val_loss: 4.0611e-04 - val_mae: 0.0145 - val_mape: 2.4654 - val_mse: 4.0611e-04\n",
      "Epoch 40/50\n",
      "\u001b[1m90/90\u001b[0m \u001b[32m━━━━━━━━━━━━━━━━━━━━\u001b[0m\u001b[37m\u001b[0m \u001b[1m0s\u001b[0m 2ms/step - loss: 2.1538e-04 - mae: 0.0109 - mape: 581.3758 - mse: 2.1538e-04 - val_loss: 4.4268e-04 - val_mae: 0.0155 - val_mape: 2.5975 - val_mse: 4.4268e-04\n",
      "Epoch 41/50\n",
      "\u001b[1m90/90\u001b[0m \u001b[32m━━━━━━━━━━━━━━━━━━━━\u001b[0m\u001b[37m\u001b[0m \u001b[1m0s\u001b[0m 2ms/step - loss: 1.9986e-04 - mae: 0.0103 - mape: 10068.6270 - mse: 1.9986e-04 - val_loss: 3.9425e-04 - val_mae: 0.0143 - val_mape: 2.4252 - val_mse: 3.9425e-04\n",
      "Epoch 42/50\n",
      "\u001b[1m90/90\u001b[0m \u001b[32m━━━━━━━━━━━━━━━━━━━━\u001b[0m\u001b[37m\u001b[0m \u001b[1m0s\u001b[0m 2ms/step - loss: 1.7204e-04 - mae: 0.0098 - mape: 2462.1450 - mse: 1.7204e-04 - val_loss: 4.0640e-04 - val_mae: 0.0145 - val_mape: 2.4506 - val_mse: 4.0640e-04\n",
      "Epoch 43/50\n",
      "\u001b[1m90/90\u001b[0m \u001b[32m━━━━━━━━━━━━━━━━━━━━\u001b[0m\u001b[37m\u001b[0m \u001b[1m0s\u001b[0m 2ms/step - loss: 2.0422e-04 - mae: 0.0109 - mape: 5602.4521 - mse: 2.0422e-04 - val_loss: 4.2130e-04 - val_mae: 0.0150 - val_mape: 2.5217 - val_mse: 4.2130e-04\n",
      "Epoch 44/50\n",
      "\u001b[1m90/90\u001b[0m \u001b[32m━━━━━━━━━━━━━━━━━━━━\u001b[0m\u001b[37m\u001b[0m \u001b[1m0s\u001b[0m 2ms/step - loss: 1.9992e-04 - mae: 0.0106 - mape: 35080.3711 - mse: 1.9992e-04 - val_loss: 3.9982e-04 - val_mae: 0.0144 - val_mape: 2.4447 - val_mse: 3.9982e-04\n",
      "Epoch 45/50\n",
      "\u001b[1m90/90\u001b[0m \u001b[32m━━━━━━━━━━━━━━━━━━━━\u001b[0m\u001b[37m\u001b[0m \u001b[1m0s\u001b[0m 2ms/step - loss: 1.7681e-04 - mae: 0.0100 - mape: 16499.6836 - mse: 1.7681e-04 - val_loss: 3.9428e-04 - val_mae: 0.0143 - val_mape: 2.4263 - val_mse: 3.9428e-04\n",
      "Epoch 46/50\n",
      "\u001b[1m90/90\u001b[0m \u001b[32m━━━━━━━━━━━━━━━━━━━━\u001b[0m\u001b[37m\u001b[0m \u001b[1m0s\u001b[0m 2ms/step - loss: 1.7839e-04 - mae: 0.0100 - mape: 9474.6904 - mse: 1.7839e-04 - val_loss: 4.0796e-04 - val_mae: 0.0146 - val_mape: 2.4713 - val_mse: 4.0796e-04\n",
      "Epoch 47/50\n",
      "\u001b[1m90/90\u001b[0m \u001b[32m━━━━━━━━━━━━━━━━━━━━\u001b[0m\u001b[37m\u001b[0m \u001b[1m0s\u001b[0m 2ms/step - loss: 1.8734e-04 - mae: 0.0101 - mape: 34411.2969 - mse: 1.8734e-04 - val_loss: 4.2733e-04 - val_mae: 0.0151 - val_mape: 2.5451 - val_mse: 4.2733e-04\n",
      "Epoch 48/50\n",
      "\u001b[1m90/90\u001b[0m \u001b[32m━━━━━━━━━━━━━━━━━━━━\u001b[0m\u001b[37m\u001b[0m \u001b[1m0s\u001b[0m 2ms/step - loss: 2.1949e-04 - mae: 0.0115 - mape: 36545.1133 - mse: 2.1949e-04 - val_loss: 4.1621e-04 - val_mae: 0.0147 - val_mape: 2.4931 - val_mse: 4.1621e-04\n",
      "Epoch 49/50\n",
      "\u001b[1m90/90\u001b[0m \u001b[32m━━━━━━━━━━━━━━━━━━━━\u001b[0m\u001b[37m\u001b[0m \u001b[1m0s\u001b[0m 2ms/step - loss: 1.6292e-04 - mae: 0.0096 - mape: 25503.2148 - mse: 1.6292e-04 - val_loss: 4.3431e-04 - val_mae: 0.0153 - val_mape: 2.5745 - val_mse: 4.3431e-04\n",
      "Epoch 50/50\n",
      "\u001b[1m90/90\u001b[0m \u001b[32m━━━━━━━━━━━━━━━━━━━━\u001b[0m\u001b[37m\u001b[0m \u001b[1m0s\u001b[0m 2ms/step - loss: 1.7637e-04 - mae: 0.0101 - mape: 2392.3467 - mse: 1.7637e-04 - val_loss: 3.9298e-04 - val_mae: 0.0143 - val_mape: 2.4331 - val_mse: 3.9298e-04\n",
      "\u001b[1m23/23\u001b[0m \u001b[32m━━━━━━━━━━━━━━━━━━━━\u001b[0m\u001b[37m\u001b[0m \u001b[1m0s\u001b[0m 2ms/step \n"
     ]
    },
    {
     "name": "stderr",
     "output_type": "stream",
     "text": [
      "Processando combinações:  71%|███████▏  | 5/7 [03:20<01:20, 40.30s/it]"
     ]
    },
    {
     "name": "stdout",
     "output_type": "stream",
     "text": [
      "model_3: Processando PETR4 | Combinação 6...\n",
      "Epoch 1/50\n",
      "\u001b[1m90/90\u001b[0m \u001b[32m━━━━━━━━━━━━━━━━━━━━\u001b[0m\u001b[37m\u001b[0m \u001b[1m1s\u001b[0m 4ms/step - loss: 0.0135 - mae: 0.0846 - mape: 18162.2773 - mse: 0.0135 - val_loss: 0.0017 - val_mae: 0.0314 - val_mape: 7.5031 - val_mse: 0.0017\n",
      "Epoch 2/50\n",
      "\u001b[1m90/90\u001b[0m \u001b[32m━━━━━━━━━━━━━━━━━━━━\u001b[0m\u001b[37m\u001b[0m \u001b[1m0s\u001b[0m 2ms/step - loss: 0.0012 - mae: 0.0251 - mape: 6644.7031 - mse: 0.0012 - val_loss: 9.9226e-04 - val_mae: 0.0229 - val_mape: 5.6149 - val_mse: 9.9226e-04\n",
      "Epoch 3/50\n",
      "\u001b[1m90/90\u001b[0m \u001b[32m━━━━━━━━━━━━━━━━━━━━\u001b[0m\u001b[37m\u001b[0m \u001b[1m0s\u001b[0m 2ms/step - loss: 6.0577e-04 - mae: 0.0184 - mape: 29343.4355 - mse: 6.0577e-04 - val_loss: 8.1052e-04 - val_mae: 0.0201 - val_mape: 4.9744 - val_mse: 8.1052e-04\n",
      "Epoch 4/50\n",
      "\u001b[1m90/90\u001b[0m \u001b[32m━━━━━━━━━━━━━━━━━━━━\u001b[0m\u001b[37m\u001b[0m \u001b[1m0s\u001b[0m 2ms/step - loss: 4.7885e-04 - mae: 0.0164 - mape: 7183.0620 - mse: 4.7885e-04 - val_loss: 7.2609e-04 - val_mae: 0.0187 - val_mape: 4.6448 - val_mse: 7.2609e-04\n",
      "Epoch 5/50\n",
      "\u001b[1m90/90\u001b[0m \u001b[32m━━━━━━━━━━━━━━━━━━━━\u001b[0m\u001b[37m\u001b[0m \u001b[1m0s\u001b[0m 2ms/step - loss: 3.5030e-04 - mae: 0.0139 - mape: 33823.6094 - mse: 3.5030e-04 - val_loss: 6.5249e-04 - val_mae: 0.0173 - val_mape: 4.3109 - val_mse: 6.5249e-04\n",
      "Epoch 6/50\n",
      "\u001b[1m90/90\u001b[0m \u001b[32m━━━━━━━━━━━━━━━━━━━━\u001b[0m\u001b[37m\u001b[0m \u001b[1m0s\u001b[0m 2ms/step - loss: 3.1476e-04 - mae: 0.0133 - mape: 7520.3022 - mse: 3.1476e-04 - val_loss: 5.7385e-04 - val_mae: 0.0162 - val_mape: 4.0385 - val_mse: 5.7385e-04\n",
      "Epoch 7/50\n",
      "\u001b[1m90/90\u001b[0m \u001b[32m━━━━━━━━━━━━━━━━━━━━\u001b[0m\u001b[37m\u001b[0m \u001b[1m0s\u001b[0m 2ms/step - loss: 2.9695e-04 - mae: 0.0127 - mape: 23833.3789 - mse: 2.9695e-04 - val_loss: 6.6006e-04 - val_mae: 0.0197 - val_mape: 4.6400 - val_mse: 6.6006e-04\n",
      "Epoch 8/50\n",
      "\u001b[1m90/90\u001b[0m \u001b[32m━━━━━━━━━━━━━━━━━━━━\u001b[0m\u001b[37m\u001b[0m \u001b[1m0s\u001b[0m 2ms/step - loss: 2.9449e-04 - mae: 0.0129 - mape: 5161.7080 - mse: 2.9449e-04 - val_loss: 5.3937e-04 - val_mae: 0.0166 - val_mape: 4.0241 - val_mse: 5.3937e-04\n",
      "Epoch 9/50\n",
      "\u001b[1m90/90\u001b[0m \u001b[32m━━━━━━━━━━━━━━━━━━━━\u001b[0m\u001b[37m\u001b[0m \u001b[1m0s\u001b[0m 2ms/step - loss: 2.5771e-04 - mae: 0.0119 - mape: 5500.3740 - mse: 2.5771e-04 - val_loss: 4.8684e-04 - val_mae: 0.0149 - val_mape: 3.7110 - val_mse: 4.8684e-04\n",
      "Epoch 10/50\n",
      "\u001b[1m90/90\u001b[0m \u001b[32m━━━━━━━━━━━━━━━━━━━━\u001b[0m\u001b[37m\u001b[0m \u001b[1m0s\u001b[0m 2ms/step - loss: 2.5353e-04 - mae: 0.0116 - mape: 3796.5027 - mse: 2.5353e-04 - val_loss: 4.6536e-04 - val_mae: 0.0145 - val_mape: 3.6108 - val_mse: 4.6536e-04\n",
      "Epoch 11/50\n",
      "\u001b[1m90/90\u001b[0m \u001b[32m━━━━━━━━━━━━━━━━━━━━\u001b[0m\u001b[37m\u001b[0m \u001b[1m0s\u001b[0m 2ms/step - loss: 2.3689e-04 - mae: 0.0114 - mape: 4059.5391 - mse: 2.3689e-04 - val_loss: 5.5317e-04 - val_mae: 0.0161 - val_mape: 4.0858 - val_mse: 5.5317e-04\n",
      "Epoch 12/50\n",
      "\u001b[1m90/90\u001b[0m \u001b[32m━━━━━━━━━━━━━━━━━━━━\u001b[0m\u001b[37m\u001b[0m \u001b[1m0s\u001b[0m 2ms/step - loss: 2.3968e-04 - mae: 0.0116 - mape: 492.8581 - mse: 2.3968e-04 - val_loss: 5.0146e-04 - val_mae: 0.0165 - val_mape: 3.9368 - val_mse: 5.0146e-04\n",
      "Epoch 13/50\n",
      "\u001b[1m90/90\u001b[0m \u001b[32m━━━━━━━━━━━━━━━━━━━━\u001b[0m\u001b[37m\u001b[0m \u001b[1m0s\u001b[0m 2ms/step - loss: 2.3183e-04 - mae: 0.0114 - mape: 5084.1836 - mse: 2.3183e-04 - val_loss: 6.1590e-04 - val_mae: 0.0176 - val_mape: 4.4110 - val_mse: 6.1590e-04\n",
      "Epoch 14/50\n",
      "\u001b[1m90/90\u001b[0m \u001b[32m━━━━━━━━━━━━━━━━━━━━\u001b[0m\u001b[37m\u001b[0m \u001b[1m0s\u001b[0m 2ms/step - loss: 2.4362e-04 - mae: 0.0116 - mape: 1544.0797 - mse: 2.4362e-04 - val_loss: 4.2504e-04 - val_mae: 0.0137 - val_mape: 3.4071 - val_mse: 4.2504e-04\n",
      "Epoch 15/50\n",
      "\u001b[1m90/90\u001b[0m \u001b[32m━━━━━━━━━━━━━━━━━━━━\u001b[0m\u001b[37m\u001b[0m \u001b[1m0s\u001b[0m 2ms/step - loss: 2.2962e-04 - mae: 0.0112 - mape: 6736.3218 - mse: 2.2962e-04 - val_loss: 4.5314e-04 - val_mae: 0.0141 - val_mape: 3.5464 - val_mse: 4.5314e-04\n",
      "Epoch 16/50\n",
      "\u001b[1m90/90\u001b[0m \u001b[32m━━━━━━━━━━━━━━━━━━━━\u001b[0m\u001b[37m\u001b[0m \u001b[1m0s\u001b[0m 2ms/step - loss: 2.2756e-04 - mae: 0.0112 - mape: 1729.9061 - mse: 2.2756e-04 - val_loss: 4.7585e-04 - val_mae: 0.0148 - val_mape: 3.7448 - val_mse: 4.7585e-04\n",
      "Epoch 17/50\n",
      "\u001b[1m90/90\u001b[0m \u001b[32m━━━━━━━━━━━━━━━━━━━━\u001b[0m\u001b[37m\u001b[0m \u001b[1m0s\u001b[0m 2ms/step - loss: 2.2695e-04 - mae: 0.0110 - mape: 3369.4453 - mse: 2.2695e-04 - val_loss: 4.1067e-04 - val_mae: 0.0134 - val_mape: 3.3329 - val_mse: 4.1067e-04\n",
      "Epoch 18/50\n",
      "\u001b[1m90/90\u001b[0m \u001b[32m━━━━━━━━━━━━━━━━━━━━\u001b[0m\u001b[37m\u001b[0m \u001b[1m0s\u001b[0m 2ms/step - loss: 2.0609e-04 - mae: 0.0104 - mape: 1085.2083 - mse: 2.0609e-04 - val_loss: 4.0188e-04 - val_mae: 0.0133 - val_mape: 3.2981 - val_mse: 4.0188e-04\n",
      "Epoch 19/50\n",
      "\u001b[1m90/90\u001b[0m \u001b[32m━━━━━━━━━━━━━━━━━━━━\u001b[0m\u001b[37m\u001b[0m \u001b[1m0s\u001b[0m 2ms/step - loss: 2.0302e-04 - mae: 0.0104 - mape: 1021.7617 - mse: 2.0302e-04 - val_loss: 3.9179e-04 - val_mae: 0.0134 - val_mape: 3.2609 - val_mse: 3.9179e-04\n",
      "Epoch 20/50\n",
      "\u001b[1m90/90\u001b[0m \u001b[32m━━━━━━━━━━━━━━━━━━━━\u001b[0m\u001b[37m\u001b[0m \u001b[1m0s\u001b[0m 2ms/step - loss: 1.9545e-04 - mae: 0.0102 - mape: 378.7172 - mse: 1.9545e-04 - val_loss: 3.7329e-04 - val_mae: 0.0129 - val_mape: 3.1639 - val_mse: 3.7329e-04\n",
      "Epoch 21/50\n",
      "\u001b[1m90/90\u001b[0m \u001b[32m━━━━━━━━━━━━━━━━━━━━\u001b[0m\u001b[37m\u001b[0m \u001b[1m0s\u001b[0m 2ms/step - loss: 1.9686e-04 - mae: 0.0101 - mape: 3710.2578 - mse: 1.9686e-04 - val_loss: 3.7857e-04 - val_mae: 0.0129 - val_mape: 3.1899 - val_mse: 3.7857e-04\n",
      "Epoch 22/50\n",
      "\u001b[1m90/90\u001b[0m \u001b[32m━━━━━━━━━━━━━━━━━━━━\u001b[0m\u001b[37m\u001b[0m \u001b[1m0s\u001b[0m 2ms/step - loss: 1.9895e-04 - mae: 0.0104 - mape: 3144.2026 - mse: 1.9895e-04 - val_loss: 4.0302e-04 - val_mae: 0.0143 - val_mape: 3.4049 - val_mse: 4.0302e-04\n",
      "Epoch 23/50\n",
      "\u001b[1m90/90\u001b[0m \u001b[32m━━━━━━━━━━━━━━━━━━━━\u001b[0m\u001b[37m\u001b[0m \u001b[1m0s\u001b[0m 2ms/step - loss: 2.4400e-04 - mae: 0.0117 - mape: 514.0715 - mse: 2.4400e-04 - val_loss: 3.7209e-04 - val_mae: 0.0135 - val_mape: 3.2457 - val_mse: 3.7209e-04\n",
      "Epoch 24/50\n",
      "\u001b[1m90/90\u001b[0m \u001b[32m━━━━━━━━━━━━━━━━━━━━\u001b[0m\u001b[37m\u001b[0m \u001b[1m0s\u001b[0m 2ms/step - loss: 2.0633e-04 - mae: 0.0104 - mape: 199.5633 - mse: 2.0633e-04 - val_loss: 3.7982e-04 - val_mae: 0.0128 - val_mape: 3.1845 - val_mse: 3.7982e-04\n",
      "Epoch 25/50\n",
      "\u001b[1m90/90\u001b[0m \u001b[32m━━━━━━━━━━━━━━━━━━━━\u001b[0m\u001b[37m\u001b[0m \u001b[1m0s\u001b[0m 2ms/step - loss: 1.8696e-04 - mae: 0.0100 - mape: 4779.7402 - mse: 1.8696e-04 - val_loss: 3.5513e-04 - val_mae: 0.0125 - val_mape: 3.0814 - val_mse: 3.5513e-04\n",
      "Epoch 26/50\n",
      "\u001b[1m90/90\u001b[0m \u001b[32m━━━━━━━━━━━━━━━━━━━━\u001b[0m\u001b[37m\u001b[0m \u001b[1m0s\u001b[0m 2ms/step - loss: 1.7586e-04 - mae: 0.0095 - mape: 1991.4830 - mse: 1.7586e-04 - val_loss: 3.4884e-04 - val_mae: 0.0126 - val_mape: 3.0619 - val_mse: 3.4884e-04\n",
      "Epoch 27/50\n",
      "\u001b[1m90/90\u001b[0m \u001b[32m━━━━━━━━━━━━━━━━━━━━\u001b[0m\u001b[37m\u001b[0m \u001b[1m0s\u001b[0m 2ms/step - loss: 1.9907e-04 - mae: 0.0102 - mape: 4903.4775 - mse: 1.9907e-04 - val_loss: 4.8624e-04 - val_mae: 0.0173 - val_mape: 3.9876 - val_mse: 4.8624e-04\n",
      "Epoch 28/50\n",
      "\u001b[1m90/90\u001b[0m \u001b[32m━━━━━━━━━━━━━━━━━━━━\u001b[0m\u001b[37m\u001b[0m \u001b[1m0s\u001b[0m 2ms/step - loss: 1.9823e-04 - mae: 0.0102 - mape: 3247.2622 - mse: 1.9823e-04 - val_loss: 3.4084e-04 - val_mae: 0.0122 - val_mape: 2.9980 - val_mse: 3.4084e-04\n",
      "Epoch 29/50\n",
      "\u001b[1m90/90\u001b[0m \u001b[32m━━━━━━━━━━━━━━━━━━━━\u001b[0m\u001b[37m\u001b[0m \u001b[1m0s\u001b[0m 2ms/step - loss: 2.2388e-04 - mae: 0.0109 - mape: 4583.7314 - mse: 2.2388e-04 - val_loss: 3.3320e-04 - val_mae: 0.0122 - val_mape: 2.9819 - val_mse: 3.3320e-04\n",
      "Epoch 30/50\n",
      "\u001b[1m90/90\u001b[0m \u001b[32m━━━━━━━━━━━━━━━━━━━━\u001b[0m\u001b[37m\u001b[0m \u001b[1m0s\u001b[0m 2ms/step - loss: 1.7290e-04 - mae: 0.0092 - mape: 15215.0732 - mse: 1.7290e-04 - val_loss: 3.9381e-04 - val_mae: 0.0133 - val_mape: 3.2813 - val_mse: 3.9381e-04\n",
      "Epoch 31/50\n",
      "\u001b[1m90/90\u001b[0m \u001b[32m━━━━━━━━━━━━━━━━━━━━\u001b[0m\u001b[37m\u001b[0m \u001b[1m0s\u001b[0m 2ms/step - loss: 2.1714e-04 - mae: 0.0108 - mape: 1376.9982 - mse: 2.1714e-04 - val_loss: 3.3030e-04 - val_mae: 0.0121 - val_mape: 2.9350 - val_mse: 3.3030e-04\n",
      "Epoch 32/50\n",
      "\u001b[1m90/90\u001b[0m \u001b[32m━━━━━━━━━━━━━━━━━━━━\u001b[0m\u001b[37m\u001b[0m \u001b[1m0s\u001b[0m 3ms/step - loss: 1.7991e-04 - mae: 0.0098 - mape: 5769.6855 - mse: 1.7991e-04 - val_loss: 3.5524e-04 - val_mae: 0.0134 - val_mape: 3.1607 - val_mse: 3.5524e-04\n",
      "Epoch 33/50\n",
      "\u001b[1m90/90\u001b[0m \u001b[32m━━━━━━━━━━━━━━━━━━━━\u001b[0m\u001b[37m\u001b[0m \u001b[1m0s\u001b[0m 2ms/step - loss: 1.8530e-04 - mae: 0.0100 - mape: 110.0539 - mse: 1.8530e-04 - val_loss: 3.3482e-04 - val_mae: 0.0127 - val_mape: 3.0368 - val_mse: 3.3482e-04\n",
      "Epoch 34/50\n",
      "\u001b[1m90/90\u001b[0m \u001b[32m━━━━━━━━━━━━━━━━━━━━\u001b[0m\u001b[37m\u001b[0m \u001b[1m0s\u001b[0m 2ms/step - loss: 1.8052e-04 - mae: 0.0097 - mape: 1809.5919 - mse: 1.8052e-04 - val_loss: 3.2772e-04 - val_mae: 0.0123 - val_mape: 2.9544 - val_mse: 3.2772e-04\n",
      "Epoch 35/50\n",
      "\u001b[1m90/90\u001b[0m \u001b[32m━━━━━━━━━━━━━━━━━━━━\u001b[0m\u001b[37m\u001b[0m \u001b[1m0s\u001b[0m 3ms/step - loss: 1.6337e-04 - mae: 0.0091 - mape: 1938.5731 - mse: 1.6337e-04 - val_loss: 3.3513e-04 - val_mae: 0.0121 - val_mape: 2.9294 - val_mse: 3.3513e-04\n",
      "Epoch 36/50\n",
      "\u001b[1m90/90\u001b[0m \u001b[32m━━━━━━━━━━━━━━━━━━━━\u001b[0m\u001b[37m\u001b[0m \u001b[1m0s\u001b[0m 2ms/step - loss: 1.7481e-04 - mae: 0.0095 - mape: 6473.0537 - mse: 1.7481e-04 - val_loss: 3.1893e-04 - val_mae: 0.0118 - val_mape: 2.8826 - val_mse: 3.1893e-04\n",
      "Epoch 37/50\n",
      "\u001b[1m90/90\u001b[0m \u001b[32m━━━━━━━━━━━━━━━━━━━━\u001b[0m\u001b[37m\u001b[0m \u001b[1m0s\u001b[0m 2ms/step - loss: 1.7669e-04 - mae: 0.0096 - mape: 969.7956 - mse: 1.7669e-04 - val_loss: 3.6205e-04 - val_mae: 0.0127 - val_mape: 3.1169 - val_mse: 3.6205e-04\n",
      "Epoch 38/50\n",
      "\u001b[1m90/90\u001b[0m \u001b[32m━━━━━━━━━━━━━━━━━━━━\u001b[0m\u001b[37m\u001b[0m \u001b[1m0s\u001b[0m 2ms/step - loss: 1.9213e-04 - mae: 0.0099 - mape: 19851.0820 - mse: 1.9213e-04 - val_loss: 3.5374e-04 - val_mae: 0.0136 - val_mape: 3.1945 - val_mse: 3.5374e-04\n",
      "Epoch 39/50\n",
      "\u001b[1m90/90\u001b[0m \u001b[32m━━━━━━━━━━━━━━━━━━━━\u001b[0m\u001b[37m\u001b[0m \u001b[1m0s\u001b[0m 2ms/step - loss: 1.7793e-04 - mae: 0.0096 - mape: 1192.0194 - mse: 1.7793e-04 - val_loss: 3.2112e-04 - val_mae: 0.0118 - val_mape: 2.8757 - val_mse: 3.2112e-04\n",
      "Epoch 40/50\n",
      "\u001b[1m90/90\u001b[0m \u001b[32m━━━━━━━━━━━━━━━━━━━━\u001b[0m\u001b[37m\u001b[0m \u001b[1m0s\u001b[0m 2ms/step - loss: 1.7063e-04 - mae: 0.0096 - mape: 592.5135 - mse: 1.7063e-04 - val_loss: 3.1145e-04 - val_mae: 0.0119 - val_mape: 2.8626 - val_mse: 3.1145e-04\n",
      "Epoch 41/50\n",
      "\u001b[1m90/90\u001b[0m \u001b[32m━━━━━━━━━━━━━━━━━━━━\u001b[0m\u001b[37m\u001b[0m \u001b[1m0s\u001b[0m 2ms/step - loss: 1.8136e-04 - mae: 0.0098 - mape: 674.9831 - mse: 1.8136e-04 - val_loss: 3.1632e-04 - val_mae: 0.0120 - val_mape: 2.8810 - val_mse: 3.1632e-04\n",
      "Epoch 42/50\n",
      "\u001b[1m90/90\u001b[0m \u001b[32m━━━━━━━━━━━━━━━━━━━━\u001b[0m\u001b[37m\u001b[0m \u001b[1m0s\u001b[0m 2ms/step - loss: 1.6835e-04 - mae: 0.0092 - mape: 57.6792 - mse: 1.6835e-04 - val_loss: 3.7036e-04 - val_mae: 0.0143 - val_mape: 3.3223 - val_mse: 3.7036e-04\n",
      "Epoch 43/50\n",
      "\u001b[1m90/90\u001b[0m \u001b[32m━━━━━━━━━━━━━━━━━━━━\u001b[0m\u001b[37m\u001b[0m \u001b[1m0s\u001b[0m 2ms/step - loss: 1.6966e-04 - mae: 0.0093 - mape: 12.9689 - mse: 1.6966e-04 - val_loss: 3.2603e-04 - val_mae: 0.0120 - val_mape: 2.8803 - val_mse: 3.2603e-04\n",
      "Epoch 44/50\n",
      "\u001b[1m90/90\u001b[0m \u001b[32m━━━━━━━━━━━━━━━━━━━━\u001b[0m\u001b[37m\u001b[0m \u001b[1m0s\u001b[0m 2ms/step - loss: 1.7693e-04 - mae: 0.0097 - mape: 473.4996 - mse: 1.7693e-04 - val_loss: 3.0688e-04 - val_mae: 0.0117 - val_mape: 2.8109 - val_mse: 3.0688e-04\n",
      "Epoch 45/50\n",
      "\u001b[1m90/90\u001b[0m \u001b[32m━━━━━━━━━━━━━━━━━━━━\u001b[0m\u001b[37m\u001b[0m \u001b[1m0s\u001b[0m 2ms/step - loss: 1.7250e-04 - mae: 0.0096 - mape: 2135.8665 - mse: 1.7250e-04 - val_loss: 3.5488e-04 - val_mae: 0.0138 - val_mape: 3.2295 - val_mse: 3.5488e-04\n",
      "Epoch 46/50\n",
      "\u001b[1m90/90\u001b[0m \u001b[32m━━━━━━━━━━━━━━━━━━━━\u001b[0m\u001b[37m\u001b[0m \u001b[1m0s\u001b[0m 2ms/step - loss: 1.9767e-04 - mae: 0.0104 - mape: 2762.3264 - mse: 1.9767e-04 - val_loss: 3.0536e-04 - val_mae: 0.0116 - val_mape: 2.8041 - val_mse: 3.0536e-04\n",
      "Epoch 47/50\n",
      "\u001b[1m90/90\u001b[0m \u001b[32m━━━━━━━━━━━━━━━━━━━━\u001b[0m\u001b[37m\u001b[0m \u001b[1m0s\u001b[0m 2ms/step - loss: 1.6914e-04 - mae: 0.0096 - mape: 2386.4968 - mse: 1.6914e-04 - val_loss: 3.3485e-04 - val_mae: 0.0131 - val_mape: 3.0755 - val_mse: 3.3485e-04\n",
      "Epoch 48/50\n",
      "\u001b[1m90/90\u001b[0m \u001b[32m━━━━━━━━━━━━━━━━━━━━\u001b[0m\u001b[37m\u001b[0m \u001b[1m0s\u001b[0m 2ms/step - loss: 1.6190e-04 - mae: 0.0092 - mape: 664.0919 - mse: 1.6190e-04 - val_loss: 3.2608e-04 - val_mae: 0.0120 - val_mape: 2.9026 - val_mse: 3.2608e-04\n",
      "Epoch 49/50\n",
      "\u001b[1m90/90\u001b[0m \u001b[32m━━━━━━━━━━━━━━━━━━━━\u001b[0m\u001b[37m\u001b[0m \u001b[1m0s\u001b[0m 2ms/step - loss: 1.6713e-04 - mae: 0.0093 - mape: 1950.7339 - mse: 1.6713e-04 - val_loss: 3.5951e-04 - val_mae: 0.0129 - val_mape: 3.1282 - val_mse: 3.5951e-04\n",
      "Epoch 50/50\n",
      "\u001b[1m90/90\u001b[0m \u001b[32m━━━━━━━━━━━━━━━━━━━━\u001b[0m\u001b[37m\u001b[0m \u001b[1m0s\u001b[0m 2ms/step - loss: 1.6561e-04 - mae: 0.0094 - mape: 1528.0731 - mse: 1.6561e-04 - val_loss: 3.3137e-04 - val_mae: 0.0121 - val_mape: 2.9230 - val_mse: 3.3137e-04\n",
      "\u001b[1m23/23\u001b[0m \u001b[32m━━━━━━━━━━━━━━━━━━━━\u001b[0m\u001b[37m\u001b[0m \u001b[1m0s\u001b[0m 2ms/step \n",
      "model_3: Processando VALE3 | Combinação 6...\n",
      "Epoch 1/50\n",
      "\u001b[1m90/90\u001b[0m \u001b[32m━━━━━━━━━━━━━━━━━━━━\u001b[0m\u001b[37m\u001b[0m \u001b[1m1s\u001b[0m 4ms/step - loss: 0.0193 - mae: 0.1004 - mape: 2175.5530 - mse: 0.0193 - val_loss: 0.0021 - val_mae: 0.0365 - val_mape: 6.2586 - val_mse: 0.0021\n",
      "Epoch 2/50\n",
      "\u001b[1m90/90\u001b[0m \u001b[32m━━━━━━━━━━━━━━━━━━━━\u001b[0m\u001b[37m\u001b[0m \u001b[1m0s\u001b[0m 2ms/step - loss: 6.3240e-04 - mae: 0.0184 - mape: 2874.2893 - mse: 6.3240e-04 - val_loss: 0.0016 - val_mae: 0.0314 - val_mape: 5.3956 - val_mse: 0.0016\n",
      "Epoch 3/50\n",
      "\u001b[1m90/90\u001b[0m \u001b[32m━━━━━━━━━━━━━━━━━━━━\u001b[0m\u001b[37m\u001b[0m \u001b[1m0s\u001b[0m 2ms/step - loss: 4.8962e-04 - mae: 0.0161 - mape: 481.6783 - mse: 4.8962e-04 - val_loss: 0.0015 - val_mae: 0.0298 - val_mape: 5.0118 - val_mse: 0.0015\n",
      "Epoch 4/50\n",
      "\u001b[1m90/90\u001b[0m \u001b[32m━━━━━━━━━━━━━━━━━━━━\u001b[0m\u001b[37m\u001b[0m \u001b[1m0s\u001b[0m 2ms/step - loss: 3.8343e-04 - mae: 0.0145 - mape: 4896.4961 - mse: 3.8343e-04 - val_loss: 0.0018 - val_mae: 0.0327 - val_mape: 5.3055 - val_mse: 0.0018\n",
      "Epoch 5/50\n",
      "\u001b[1m90/90\u001b[0m \u001b[32m━━━━━━━━━━━━━━━━━━━━\u001b[0m\u001b[37m\u001b[0m \u001b[1m0s\u001b[0m 2ms/step - loss: 3.1640e-04 - mae: 0.0131 - mape: 2074.0601 - mse: 3.1640e-04 - val_loss: 0.0015 - val_mae: 0.0291 - val_mape: 4.7605 - val_mse: 0.0015\n",
      "Epoch 6/50\n",
      "\u001b[1m90/90\u001b[0m \u001b[32m━━━━━━━━━━━━━━━━━━━━\u001b[0m\u001b[37m\u001b[0m \u001b[1m0s\u001b[0m 2ms/step - loss: 2.5204e-04 - mae: 0.0117 - mape: 1693.1832 - mse: 2.5204e-04 - val_loss: 9.8381e-04 - val_mae: 0.0242 - val_mape: 4.1517 - val_mse: 9.8381e-04\n",
      "Epoch 7/50\n",
      "\u001b[1m90/90\u001b[0m \u001b[32m━━━━━━━━━━━━━━━━━━━━\u001b[0m\u001b[37m\u001b[0m \u001b[1m0s\u001b[0m 2ms/step - loss: 2.3334e-04 - mae: 0.0110 - mape: 930.6583 - mse: 2.3334e-04 - val_loss: 0.0012 - val_mae: 0.0261 - val_mape: 4.2851 - val_mse: 0.0012\n",
      "Epoch 8/50\n",
      "\u001b[1m90/90\u001b[0m \u001b[32m━━━━━━━━━━━━━━━━━━━━\u001b[0m\u001b[37m\u001b[0m \u001b[1m0s\u001b[0m 3ms/step - loss: 2.1393e-04 - mae: 0.0110 - mape: 12022.6670 - mse: 2.1393e-04 - val_loss: 8.5878e-04 - val_mae: 0.0224 - val_mape: 3.8046 - val_mse: 8.5878e-04\n",
      "Epoch 9/50\n",
      "\u001b[1m90/90\u001b[0m \u001b[32m━━━━━━━━━━━━━━━━━━━━\u001b[0m\u001b[37m\u001b[0m \u001b[1m0s\u001b[0m 2ms/step - loss: 1.9038e-04 - mae: 0.0099 - mape: 2576.2544 - mse: 1.9038e-04 - val_loss: 8.0381e-04 - val_mae: 0.0216 - val_mape: 3.6925 - val_mse: 8.0381e-04\n",
      "Epoch 10/50\n",
      "\u001b[1m90/90\u001b[0m \u001b[32m━━━━━━━━━━━━━━━━━━━━\u001b[0m\u001b[37m\u001b[0m \u001b[1m0s\u001b[0m 2ms/step - loss: 1.8157e-04 - mae: 0.0094 - mape: 1135.0919 - mse: 1.8157e-04 - val_loss: 9.8291e-04 - val_mae: 0.0239 - val_mape: 3.9255 - val_mse: 9.8291e-04\n",
      "Epoch 11/50\n",
      "\u001b[1m90/90\u001b[0m \u001b[32m━━━━━━━━━━━━━━━━━━━━\u001b[0m\u001b[37m\u001b[0m \u001b[1m0s\u001b[0m 2ms/step - loss: 1.5887e-04 - mae: 0.0094 - mape: 3715.7593 - mse: 1.5887e-04 - val_loss: 0.0010 - val_mae: 0.0247 - val_mape: 4.0294 - val_mse: 0.0010\n",
      "Epoch 12/50\n",
      "\u001b[1m90/90\u001b[0m \u001b[32m━━━━━━━━━━━━━━━━━━━━\u001b[0m\u001b[37m\u001b[0m \u001b[1m0s\u001b[0m 2ms/step - loss: 1.3773e-04 - mae: 0.0087 - mape: 593.3731 - mse: 1.3773e-04 - val_loss: 8.4776e-04 - val_mae: 0.0223 - val_mape: 3.6797 - val_mse: 8.4776e-04\n",
      "Epoch 13/50\n",
      "\u001b[1m90/90\u001b[0m \u001b[32m━━━━━━━━━━━━━━━━━━━━\u001b[0m\u001b[37m\u001b[0m \u001b[1m0s\u001b[0m 2ms/step - loss: 1.5030e-04 - mae: 0.0092 - mape: 1493.2812 - mse: 1.5030e-04 - val_loss: 0.0010 - val_mae: 0.0248 - val_mape: 4.0317 - val_mse: 0.0010\n",
      "Epoch 14/50\n",
      "\u001b[1m90/90\u001b[0m \u001b[32m━━━━━━━━━━━━━━━━━━━━\u001b[0m\u001b[37m\u001b[0m \u001b[1m0s\u001b[0m 3ms/step - loss: 1.2281e-04 - mae: 0.0084 - mape: 5424.6660 - mse: 1.2281e-04 - val_loss: 6.7775e-04 - val_mae: 0.0200 - val_mape: 3.4015 - val_mse: 6.7775e-04\n",
      "Epoch 15/50\n",
      "\u001b[1m90/90\u001b[0m \u001b[32m━━━━━━━━━━━━━━━━━━━━\u001b[0m\u001b[37m\u001b[0m \u001b[1m0s\u001b[0m 2ms/step - loss: 1.2956e-04 - mae: 0.0088 - mape: 1701.3737 - mse: 1.2956e-04 - val_loss: 5.1634e-04 - val_mae: 0.0172 - val_mape: 2.9654 - val_mse: 5.1634e-04\n",
      "Epoch 16/50\n",
      "\u001b[1m90/90\u001b[0m \u001b[32m━━━━━━━━━━━━━━━━━━━━\u001b[0m\u001b[37m\u001b[0m \u001b[1m0s\u001b[0m 2ms/step - loss: 1.4277e-04 - mae: 0.0088 - mape: 2345.4924 - mse: 1.4277e-04 - val_loss: 5.5842e-04 - val_mae: 0.0180 - val_mape: 3.0485 - val_mse: 5.5842e-04\n",
      "Epoch 17/50\n",
      "\u001b[1m90/90\u001b[0m \u001b[32m━━━━━━━━━━━━━━━━━━━━\u001b[0m\u001b[37m\u001b[0m \u001b[1m0s\u001b[0m 2ms/step - loss: 1.0957e-04 - mae: 0.0079 - mape: 5526.0864 - mse: 1.0957e-04 - val_loss: 6.5274e-04 - val_mae: 0.0196 - val_mape: 3.2737 - val_mse: 6.5274e-04\n",
      "Epoch 18/50\n",
      "\u001b[1m90/90\u001b[0m \u001b[32m━━━━━━━━━━━━━━━━━━━━\u001b[0m\u001b[37m\u001b[0m \u001b[1m0s\u001b[0m 2ms/step - loss: 1.1644e-04 - mae: 0.0083 - mape: 214.3695 - mse: 1.1644e-04 - val_loss: 6.1753e-04 - val_mae: 0.0189 - val_mape: 3.1443 - val_mse: 6.1753e-04\n",
      "Epoch 19/50\n",
      "\u001b[1m90/90\u001b[0m \u001b[32m━━━━━━━━━━━━━━━━━━━━\u001b[0m\u001b[37m\u001b[0m \u001b[1m0s\u001b[0m 2ms/step - loss: 1.1271e-04 - mae: 0.0079 - mape: 6327.5674 - mse: 1.1271e-04 - val_loss: 5.5086e-04 - val_mae: 0.0178 - val_mape: 3.0077 - val_mse: 5.5086e-04\n",
      "Epoch 20/50\n",
      "\u001b[1m90/90\u001b[0m \u001b[32m━━━━━━━━━━━━━━━━━━━━\u001b[0m\u001b[37m\u001b[0m \u001b[1m0s\u001b[0m 2ms/step - loss: 1.0904e-04 - mae: 0.0078 - mape: 1396.7964 - mse: 1.0904e-04 - val_loss: 5.9970e-04 - val_mae: 0.0185 - val_mape: 3.0791 - val_mse: 5.9970e-04\n",
      "Epoch 21/50\n",
      "\u001b[1m90/90\u001b[0m \u001b[32m━━━━━━━━━━━━━━━━━━━━\u001b[0m\u001b[37m\u001b[0m \u001b[1m0s\u001b[0m 2ms/step - loss: 1.0747e-04 - mae: 0.0076 - mape: 465.3761 - mse: 1.0747e-04 - val_loss: 5.5763e-04 - val_mae: 0.0180 - val_mape: 3.0363 - val_mse: 5.5763e-04\n",
      "Epoch 22/50\n",
      "\u001b[1m90/90\u001b[0m \u001b[32m━━━━━━━━━━━━━━━━━━━━\u001b[0m\u001b[37m\u001b[0m \u001b[1m0s\u001b[0m 2ms/step - loss: 1.1856e-04 - mae: 0.0078 - mape: 2085.7197 - mse: 1.1856e-04 - val_loss: 6.2279e-04 - val_mae: 0.0187 - val_mape: 3.0701 - val_mse: 6.2279e-04\n",
      "Epoch 23/50\n",
      "\u001b[1m90/90\u001b[0m \u001b[32m━━━━━━━━━━━━━━━━━━━━\u001b[0m\u001b[37m\u001b[0m \u001b[1m0s\u001b[0m 2ms/step - loss: 9.7364e-05 - mae: 0.0075 - mape: 859.9326 - mse: 9.7364e-05 - val_loss: 6.4275e-04 - val_mae: 0.0192 - val_mape: 3.1660 - val_mse: 6.4275e-04\n",
      "Epoch 24/50\n",
      "\u001b[1m90/90\u001b[0m \u001b[32m━━━━━━━━━━━━━━━━━━━━\u001b[0m\u001b[37m\u001b[0m \u001b[1m0s\u001b[0m 2ms/step - loss: 1.1960e-04 - mae: 0.0084 - mape: 1308.3806 - mse: 1.1960e-04 - val_loss: 5.4432e-04 - val_mae: 0.0176 - val_mape: 2.9506 - val_mse: 5.4432e-04\n",
      "Epoch 25/50\n",
      "\u001b[1m90/90\u001b[0m \u001b[32m━━━━━━━━━━━━━━━━━━━━\u001b[0m\u001b[37m\u001b[0m \u001b[1m0s\u001b[0m 2ms/step - loss: 9.6467e-05 - mae: 0.0074 - mape: 45.0603 - mse: 9.6467e-05 - val_loss: 5.4247e-04 - val_mae: 0.0174 - val_mape: 2.9114 - val_mse: 5.4247e-04\n",
      "\u001b[1m23/23\u001b[0m \u001b[32m━━━━━━━━━━━━━━━━━━━━\u001b[0m\u001b[37m\u001b[0m \u001b[1m0s\u001b[0m 6ms/step\n",
      "model_3: Processando BBDC4 | Combinação 6...\n",
      "Epoch 1/50\n",
      "\u001b[1m88/88\u001b[0m \u001b[32m━━━━━━━━━━━━━━━━━━━━\u001b[0m\u001b[37m\u001b[0m \u001b[1m1s\u001b[0m 4ms/step - loss: 0.1822 - mae: 0.3259 - mape: 12408.5586 - mse: 0.1822 - val_loss: 0.0232 - val_mae: 0.1288 - val_mape: 22.0690 - val_mse: 0.0232\n",
      "Epoch 2/50\n",
      "\u001b[1m88/88\u001b[0m \u001b[32m━━━━━━━━━━━━━━━━━━━━\u001b[0m\u001b[37m\u001b[0m \u001b[1m0s\u001b[0m 2ms/step - loss: 0.0075 - mae: 0.0623 - mape: 1080.3130 - mse: 0.0075 - val_loss: 0.0021 - val_mae: 0.0343 - val_mape: 6.8745 - val_mse: 0.0021\n",
      "Epoch 3/50\n",
      "\u001b[1m88/88\u001b[0m \u001b[32m━━━━━━━━━━━━━━━━━━━━\u001b[0m\u001b[37m\u001b[0m \u001b[1m0s\u001b[0m 2ms/step - loss: 8.8325e-04 - mae: 0.0218 - mape: 4501.9937 - mse: 8.8325e-04 - val_loss: 0.0019 - val_mae: 0.0323 - val_mape: 6.4731 - val_mse: 0.0019\n",
      "Epoch 4/50\n",
      "\u001b[1m88/88\u001b[0m \u001b[32m━━━━━━━━━━━━━━━━━━━━\u001b[0m\u001b[37m\u001b[0m \u001b[1m0s\u001b[0m 2ms/step - loss: 9.1049e-04 - mae: 0.0208 - mape: 581.0448 - mse: 9.1049e-04 - val_loss: 0.0016 - val_mae: 0.0294 - val_mape: 5.8811 - val_mse: 0.0016\n",
      "Epoch 5/50\n",
      "\u001b[1m88/88\u001b[0m \u001b[32m━━━━━━━━━━━━━━━━━━━━\u001b[0m\u001b[37m\u001b[0m \u001b[1m0s\u001b[0m 2ms/step - loss: 6.9972e-04 - mae: 0.0188 - mape: 5736.3892 - mse: 6.9972e-04 - val_loss: 0.0014 - val_mae: 0.0275 - val_mape: 5.4811 - val_mse: 0.0014\n",
      "Epoch 6/50\n",
      "\u001b[1m88/88\u001b[0m \u001b[32m━━━━━━━━━━━━━━━━━━━━\u001b[0m\u001b[37m\u001b[0m \u001b[1m0s\u001b[0m 3ms/step - loss: 7.7613e-04 - mae: 0.0188 - mape: 65.7110 - mse: 7.7613e-04 - val_loss: 0.0014 - val_mae: 0.0274 - val_mape: 5.5276 - val_mse: 0.0014\n",
      "Epoch 7/50\n",
      "\u001b[1m88/88\u001b[0m \u001b[32m━━━━━━━━━━━━━━━━━━━━\u001b[0m\u001b[37m\u001b[0m \u001b[1m0s\u001b[0m 3ms/step - loss: 7.4679e-04 - mae: 0.0182 - mape: 741.8569 - mse: 7.4679e-04 - val_loss: 0.0013 - val_mae: 0.0257 - val_mape: 5.1662 - val_mse: 0.0013\n",
      "Epoch 8/50\n",
      "\u001b[1m88/88\u001b[0m \u001b[32m━━━━━━━━━━━━━━━━━━━━\u001b[0m\u001b[37m\u001b[0m \u001b[1m0s\u001b[0m 3ms/step - loss: 6.4225e-04 - mae: 0.0175 - mape: 471.4424 - mse: 6.4225e-04 - val_loss: 0.0011 - val_mae: 0.0237 - val_mape: 4.7362 - val_mse: 0.0011\n",
      "Epoch 9/50\n",
      "\u001b[1m88/88\u001b[0m \u001b[32m━━━━━━━━━━━━━━━━━━━━\u001b[0m\u001b[37m\u001b[0m \u001b[1m0s\u001b[0m 3ms/step - loss: 6.1825e-04 - mae: 0.0176 - mape: 764.1398 - mse: 6.1825e-04 - val_loss: 0.0011 - val_mae: 0.0231 - val_mape: 4.6621 - val_mse: 0.0011\n",
      "Epoch 10/50\n",
      "\u001b[1m88/88\u001b[0m \u001b[32m━━━━━━━━━━━━━━━━━━━━\u001b[0m\u001b[37m\u001b[0m \u001b[1m0s\u001b[0m 2ms/step - loss: 5.5288e-04 - mae: 0.0165 - mape: 2233.8757 - mse: 5.5288e-04 - val_loss: 0.0012 - val_mae: 0.0245 - val_mape: 4.9737 - val_mse: 0.0012\n",
      "Epoch 11/50\n",
      "\u001b[1m88/88\u001b[0m \u001b[32m━━━━━━━━━━━━━━━━━━━━\u001b[0m\u001b[37m\u001b[0m \u001b[1m0s\u001b[0m 2ms/step - loss: 6.6304e-04 - mae: 0.0170 - mape: 3298.7517 - mse: 6.6304e-04 - val_loss: 0.0010 - val_mae: 0.0222 - val_mape: 4.5113 - val_mse: 0.0010\n",
      "Epoch 12/50\n",
      "\u001b[1m88/88\u001b[0m \u001b[32m━━━━━━━━━━━━━━━━━━━━\u001b[0m\u001b[37m\u001b[0m \u001b[1m0s\u001b[0m 3ms/step - loss: 5.4462e-04 - mae: 0.0162 - mape: 244.7408 - mse: 5.4462e-04 - val_loss: 9.0796e-04 - val_mae: 0.0211 - val_mape: 4.2312 - val_mse: 9.0796e-04\n",
      "Epoch 13/50\n",
      "\u001b[1m88/88\u001b[0m \u001b[32m━━━━━━━━━━━━━━━━━━━━\u001b[0m\u001b[37m\u001b[0m \u001b[1m0s\u001b[0m 3ms/step - loss: 5.5308e-04 - mae: 0.0160 - mape: 9278.7148 - mse: 5.5308e-04 - val_loss: 0.0010 - val_mae: 0.0223 - val_mape: 4.5189 - val_mse: 0.0010\n",
      "Epoch 14/50\n",
      "\u001b[1m88/88\u001b[0m \u001b[32m━━━━━━━━━━━━━━━━━━━━\u001b[0m\u001b[37m\u001b[0m \u001b[1m0s\u001b[0m 3ms/step - loss: 4.6492e-04 - mae: 0.0149 - mape: 5869.6392 - mse: 4.6492e-04 - val_loss: 8.7586e-04 - val_mae: 0.0204 - val_mape: 4.1307 - val_mse: 8.7586e-04\n",
      "Epoch 15/50\n",
      "\u001b[1m88/88\u001b[0m \u001b[32m━━━━━━━━━━━━━━━━━━━━\u001b[0m\u001b[37m\u001b[0m \u001b[1m0s\u001b[0m 3ms/step - loss: 6.4222e-04 - mae: 0.0156 - mape: 2124.9219 - mse: 6.4222e-04 - val_loss: 8.6459e-04 - val_mae: 0.0205 - val_mape: 4.1350 - val_mse: 8.6459e-04\n",
      "Epoch 16/50\n",
      "\u001b[1m88/88\u001b[0m \u001b[32m━━━━━━━━━━━━━━━━━━━━\u001b[0m\u001b[37m\u001b[0m \u001b[1m0s\u001b[0m 2ms/step - loss: 4.3529e-04 - mae: 0.0150 - mape: 56.2805 - mse: 4.3529e-04 - val_loss: 7.8045e-04 - val_mae: 0.0195 - val_mape: 3.9095 - val_mse: 7.8045e-04\n",
      "Epoch 17/50\n",
      "\u001b[1m88/88\u001b[0m \u001b[32m━━━━━━━━━━━━━━━━━━━━\u001b[0m\u001b[37m\u001b[0m \u001b[1m0s\u001b[0m 2ms/step - loss: 5.3522e-04 - mae: 0.0148 - mape: 394.0887 - mse: 5.3522e-04 - val_loss: 7.6061e-04 - val_mae: 0.0194 - val_mape: 3.8705 - val_mse: 7.6061e-04\n",
      "Epoch 18/50\n",
      "\u001b[1m88/88\u001b[0m \u001b[32m━━━━━━━━━━━━━━━━━━━━\u001b[0m\u001b[37m\u001b[0m \u001b[1m0s\u001b[0m 2ms/step - loss: 4.3369e-04 - mae: 0.0143 - mape: 617.9290 - mse: 4.3369e-04 - val_loss: 7.3014e-04 - val_mae: 0.0186 - val_mape: 3.7486 - val_mse: 7.3014e-04\n",
      "Epoch 19/50\n",
      "\u001b[1m88/88\u001b[0m \u001b[32m━━━━━━━━━━━━━━━━━━━━\u001b[0m\u001b[37m\u001b[0m \u001b[1m0s\u001b[0m 2ms/step - loss: 3.9676e-04 - mae: 0.0141 - mape: 550.7000 - mse: 3.9676e-04 - val_loss: 6.9988e-04 - val_mae: 0.0186 - val_mape: 3.7133 - val_mse: 6.9988e-04\n",
      "Epoch 20/50\n",
      "\u001b[1m88/88\u001b[0m \u001b[32m━━━━━━━━━━━━━━━━━━━━\u001b[0m\u001b[37m\u001b[0m \u001b[1m0s\u001b[0m 2ms/step - loss: 4.4788e-04 - mae: 0.0138 - mape: 89.4649 - mse: 4.4788e-04 - val_loss: 6.8071e-04 - val_mae: 0.0184 - val_mape: 3.6701 - val_mse: 6.8071e-04\n",
      "Epoch 21/50\n",
      "\u001b[1m88/88\u001b[0m \u001b[32m━━━━━━━━━━━━━━━━━━━━\u001b[0m\u001b[37m\u001b[0m \u001b[1m0s\u001b[0m 4ms/step - loss: 5.4026e-04 - mae: 0.0147 - mape: 9.5528 - mse: 5.4026e-04 - val_loss: 6.5663e-04 - val_mae: 0.0181 - val_mape: 3.6013 - val_mse: 6.5663e-04\n",
      "Epoch 22/50\n",
      "\u001b[1m88/88\u001b[0m \u001b[32m━━━━━━━━━━━━━━━━━━━━\u001b[0m\u001b[37m\u001b[0m \u001b[1m0s\u001b[0m 4ms/step - loss: 4.5164e-04 - mae: 0.0141 - mape: 119.1817 - mse: 4.5164e-04 - val_loss: 6.4291e-04 - val_mae: 0.0180 - val_mape: 3.5849 - val_mse: 6.4291e-04\n",
      "Epoch 23/50\n",
      "\u001b[1m88/88\u001b[0m \u001b[32m━━━━━━━━━━━━━━━━━━━━\u001b[0m\u001b[37m\u001b[0m \u001b[1m0s\u001b[0m 3ms/step - loss: 5.0632e-04 - mae: 0.0141 - mape: 295.3396 - mse: 5.0632e-04 - val_loss: 6.6865e-04 - val_mae: 0.0180 - val_mape: 3.6043 - val_mse: 6.6865e-04\n",
      "Epoch 24/50\n",
      "\u001b[1m88/88\u001b[0m \u001b[32m━━━━━━━━━━━━━━━━━━━━\u001b[0m\u001b[37m\u001b[0m \u001b[1m0s\u001b[0m 3ms/step - loss: 3.6303e-04 - mae: 0.0136 - mape: 155.3705 - mse: 3.6303e-04 - val_loss: 7.7919e-04 - val_mae: 0.0201 - val_mape: 4.0326 - val_mse: 7.7919e-04\n",
      "Epoch 25/50\n",
      "\u001b[1m88/88\u001b[0m \u001b[32m━━━━━━━━━━━━━━━━━━━━\u001b[0m\u001b[37m\u001b[0m \u001b[1m0s\u001b[0m 2ms/step - loss: 3.5792e-04 - mae: 0.0134 - mape: 298.1377 - mse: 3.5792e-04 - val_loss: 6.3519e-04 - val_mae: 0.0177 - val_mape: 3.5292 - val_mse: 6.3519e-04\n",
      "Epoch 26/50\n",
      "\u001b[1m88/88\u001b[0m \u001b[32m━━━━━━━━━━━━━━━━━━━━\u001b[0m\u001b[37m\u001b[0m \u001b[1m0s\u001b[0m 2ms/step - loss: 3.6084e-04 - mae: 0.0135 - mape: 1567.5604 - mse: 3.6084e-04 - val_loss: 6.5048e-04 - val_mae: 0.0187 - val_mape: 3.6850 - val_mse: 6.5048e-04\n",
      "Epoch 27/50\n",
      "\u001b[1m88/88\u001b[0m \u001b[32m━━━━━━━━━━━━━━━━━━━━\u001b[0m\u001b[37m\u001b[0m \u001b[1m0s\u001b[0m 2ms/step - loss: 4.1192e-04 - mae: 0.0132 - mape: 558.2502 - mse: 4.1192e-04 - val_loss: 6.0038e-04 - val_mae: 0.0175 - val_mape: 3.4832 - val_mse: 6.0038e-04\n",
      "Epoch 28/50\n",
      "\u001b[1m88/88\u001b[0m \u001b[32m━━━━━━━━━━━━━━━━━━━━\u001b[0m\u001b[37m\u001b[0m \u001b[1m0s\u001b[0m 2ms/step - loss: 3.7001e-04 - mae: 0.0129 - mape: 627.8104 - mse: 3.7001e-04 - val_loss: 6.0683e-04 - val_mae: 0.0177 - val_mape: 3.5078 - val_mse: 6.0683e-04\n",
      "Epoch 29/50\n",
      "\u001b[1m88/88\u001b[0m \u001b[32m━━━━━━━━━━━━━━━━━━━━\u001b[0m\u001b[37m\u001b[0m \u001b[1m0s\u001b[0m 2ms/step - loss: 3.2640e-04 - mae: 0.0126 - mape: 1282.5028 - mse: 3.2640e-04 - val_loss: 6.4345e-04 - val_mae: 0.0181 - val_mape: 3.6187 - val_mse: 6.4345e-04\n",
      "Epoch 30/50\n",
      "\u001b[1m88/88\u001b[0m \u001b[32m━━━━━━━━━━━━━━━━━━━━\u001b[0m\u001b[37m\u001b[0m \u001b[1m0s\u001b[0m 2ms/step - loss: 4.0171e-04 - mae: 0.0132 - mape: 117.5383 - mse: 4.0171e-04 - val_loss: 5.9802e-04 - val_mae: 0.0173 - val_mape: 3.4587 - val_mse: 5.9802e-04\n",
      "Epoch 31/50\n",
      "\u001b[1m88/88\u001b[0m \u001b[32m━━━━━━━━━━━━━━━━━━━━\u001b[0m\u001b[37m\u001b[0m \u001b[1m0s\u001b[0m 2ms/step - loss: 3.7616e-04 - mae: 0.0135 - mape: 576.8535 - mse: 3.7616e-04 - val_loss: 6.4032e-04 - val_mae: 0.0183 - val_mape: 3.6454 - val_mse: 6.4032e-04\n",
      "Epoch 32/50\n",
      "\u001b[1m88/88\u001b[0m \u001b[32m━━━━━━━━━━━━━━━━━━━━\u001b[0m\u001b[37m\u001b[0m \u001b[1m0s\u001b[0m 2ms/step - loss: 3.3398e-04 - mae: 0.0129 - mape: 3165.4834 - mse: 3.3398e-04 - val_loss: 5.5716e-04 - val_mae: 0.0168 - val_mape: 3.3557 - val_mse: 5.5716e-04\n",
      "Epoch 33/50\n",
      "\u001b[1m88/88\u001b[0m \u001b[32m━━━━━━━━━━━━━━━━━━━━\u001b[0m\u001b[37m\u001b[0m \u001b[1m0s\u001b[0m 2ms/step - loss: 3.1317e-04 - mae: 0.0124 - mape: 10.4995 - mse: 3.1317e-04 - val_loss: 6.5403e-04 - val_mae: 0.0185 - val_mape: 3.6856 - val_mse: 6.5403e-04\n",
      "Epoch 34/50\n",
      "\u001b[1m88/88\u001b[0m \u001b[32m━━━━━━━━━━━━━━━━━━━━\u001b[0m\u001b[37m\u001b[0m \u001b[1m0s\u001b[0m 2ms/step - loss: 3.7336e-04 - mae: 0.0133 - mape: 496.2629 - mse: 3.7336e-04 - val_loss: 5.6548e-04 - val_mae: 0.0169 - val_mape: 3.3819 - val_mse: 5.6548e-04\n",
      "Epoch 35/50\n",
      "\u001b[1m88/88\u001b[0m \u001b[32m━━━━━━━━━━━━━━━━━━━━\u001b[0m\u001b[37m\u001b[0m \u001b[1m0s\u001b[0m 2ms/step - loss: 3.7602e-04 - mae: 0.0129 - mape: 109.2174 - mse: 3.7602e-04 - val_loss: 5.7044e-04 - val_mae: 0.0172 - val_mape: 3.4079 - val_mse: 5.7044e-04\n",
      "Epoch 36/50\n",
      "\u001b[1m88/88\u001b[0m \u001b[32m━━━━━━━━━━━━━━━━━━━━\u001b[0m\u001b[37m\u001b[0m \u001b[1m0s\u001b[0m 2ms/step - loss: 3.6527e-04 - mae: 0.0132 - mape: 172.1784 - mse: 3.6527e-04 - val_loss: 6.3874e-04 - val_mae: 0.0185 - val_mape: 3.6742 - val_mse: 6.3874e-04\n",
      "Epoch 37/50\n",
      "\u001b[1m88/88\u001b[0m \u001b[32m━━━━━━━━━━━━━━━━━━━━\u001b[0m\u001b[37m\u001b[0m \u001b[1m0s\u001b[0m 2ms/step - loss: 3.7147e-04 - mae: 0.0125 - mape: 908.5973 - mse: 3.7147e-04 - val_loss: 5.4745e-04 - val_mae: 0.0168 - val_mape: 3.3350 - val_mse: 5.4745e-04\n",
      "Epoch 38/50\n",
      "\u001b[1m88/88\u001b[0m \u001b[32m━━━━━━━━━━━━━━━━━━━━\u001b[0m\u001b[37m\u001b[0m \u001b[1m0s\u001b[0m 3ms/step - loss: 3.1650e-04 - mae: 0.0127 - mape: 3709.6614 - mse: 3.1650e-04 - val_loss: 6.1886e-04 - val_mae: 0.0180 - val_mape: 3.5930 - val_mse: 6.1886e-04\n",
      "Epoch 39/50\n",
      "\u001b[1m88/88\u001b[0m \u001b[32m━━━━━━━━━━━━━━━━━━━━\u001b[0m\u001b[37m\u001b[0m \u001b[1m0s\u001b[0m 2ms/step - loss: 3.4800e-04 - mae: 0.0125 - mape: 394.7671 - mse: 3.4800e-04 - val_loss: 6.4437e-04 - val_mae: 0.0187 - val_mape: 3.7087 - val_mse: 6.4437e-04\n",
      "Epoch 40/50\n",
      "\u001b[1m88/88\u001b[0m \u001b[32m━━━━━━━━━━━━━━━━━━━━\u001b[0m\u001b[37m\u001b[0m \u001b[1m0s\u001b[0m 3ms/step - loss: 3.3491e-04 - mae: 0.0128 - mape: 1428.1149 - mse: 3.3491e-04 - val_loss: 5.6080e-04 - val_mae: 0.0171 - val_mape: 3.4066 - val_mse: 5.6080e-04\n",
      "Epoch 41/50\n",
      "\u001b[1m88/88\u001b[0m \u001b[32m━━━━━━━━━━━━━━━━━━━━\u001b[0m\u001b[37m\u001b[0m \u001b[1m0s\u001b[0m 3ms/step - loss: 3.7644e-04 - mae: 0.0126 - mape: 7706.7607 - mse: 3.7644e-04 - val_loss: 6.3262e-04 - val_mae: 0.0185 - val_mape: 3.6583 - val_mse: 6.3262e-04\n",
      "Epoch 42/50\n",
      "\u001b[1m88/88\u001b[0m \u001b[32m━━━━━━━━━━━━━━━━━━━━\u001b[0m\u001b[37m\u001b[0m \u001b[1m0s\u001b[0m 2ms/step - loss: 3.5284e-04 - mae: 0.0125 - mape: 175.9763 - mse: 3.5284e-04 - val_loss: 5.5073e-04 - val_mae: 0.0171 - val_mape: 3.3662 - val_mse: 5.5073e-04\n",
      "Epoch 43/50\n",
      "\u001b[1m88/88\u001b[0m \u001b[32m━━━━━━━━━━━━━━━━━━━━\u001b[0m\u001b[37m\u001b[0m \u001b[1m0s\u001b[0m 2ms/step - loss: 3.5687e-04 - mae: 0.0126 - mape: 45.2154 - mse: 3.5687e-04 - val_loss: 5.6188e-04 - val_mae: 0.0172 - val_mape: 3.3963 - val_mse: 5.6188e-04\n",
      "Epoch 44/50\n",
      "\u001b[1m88/88\u001b[0m \u001b[32m━━━━━━━━━━━━━━━━━━━━\u001b[0m\u001b[37m\u001b[0m \u001b[1m0s\u001b[0m 2ms/step - loss: 3.1635e-04 - mae: 0.0122 - mape: 148.8504 - mse: 3.1635e-04 - val_loss: 5.6858e-04 - val_mae: 0.0174 - val_mape: 3.4320 - val_mse: 5.6858e-04\n",
      "Epoch 45/50\n",
      "\u001b[1m88/88\u001b[0m \u001b[32m━━━━━━━━━━━━━━━━━━━━\u001b[0m\u001b[37m\u001b[0m \u001b[1m0s\u001b[0m 2ms/step - loss: 3.5730e-04 - mae: 0.0124 - mape: 2481.7456 - mse: 3.5730e-04 - val_loss: 5.5179e-04 - val_mae: 0.0170 - val_mape: 3.3716 - val_mse: 5.5179e-04\n",
      "Epoch 46/50\n",
      "\u001b[1m88/88\u001b[0m \u001b[32m━━━━━━━━━━━━━━━━━━━━\u001b[0m\u001b[37m\u001b[0m \u001b[1m0s\u001b[0m 2ms/step - loss: 3.2104e-04 - mae: 0.0123 - mape: 33.4249 - mse: 3.2104e-04 - val_loss: 5.4424e-04 - val_mae: 0.0168 - val_mape: 3.3269 - val_mse: 5.4424e-04\n",
      "Epoch 47/50\n",
      "\u001b[1m88/88\u001b[0m \u001b[32m━━━━━━━━━━━━━━━━━━━━\u001b[0m\u001b[37m\u001b[0m \u001b[1m0s\u001b[0m 2ms/step - loss: 3.1417e-04 - mae: 0.0127 - mape: 1608.6696 - mse: 3.1417e-04 - val_loss: 5.7033e-04 - val_mae: 0.0175 - val_mape: 3.4410 - val_mse: 5.7033e-04\n",
      "Epoch 48/50\n",
      "\u001b[1m88/88\u001b[0m \u001b[32m━━━━━━━━━━━━━━━━━━━━\u001b[0m\u001b[37m\u001b[0m \u001b[1m0s\u001b[0m 2ms/step - loss: 3.8077e-04 - mae: 0.0127 - mape: 44.2157 - mse: 3.8077e-04 - val_loss: 5.4110e-04 - val_mae: 0.0169 - val_mape: 3.3351 - val_mse: 5.4110e-04\n",
      "Epoch 49/50\n",
      "\u001b[1m88/88\u001b[0m \u001b[32m━━━━━━━━━━━━━━━━━━━━\u001b[0m\u001b[37m\u001b[0m \u001b[1m0s\u001b[0m 2ms/step - loss: 4.0609e-04 - mae: 0.0130 - mape: 2019.5505 - mse: 4.0609e-04 - val_loss: 5.8808e-04 - val_mae: 0.0177 - val_mape: 3.5098 - val_mse: 5.8808e-04\n",
      "Epoch 50/50\n",
      "\u001b[1m88/88\u001b[0m \u001b[32m━━━━━━━━━━━━━━━━━━━━\u001b[0m\u001b[37m\u001b[0m \u001b[1m0s\u001b[0m 2ms/step - loss: 2.9883e-04 - mae: 0.0121 - mape: 797.2609 - mse: 2.9883e-04 - val_loss: 5.1979e-04 - val_mae: 0.0165 - val_mape: 3.2705 - val_mse: 5.1979e-04\n",
      "\u001b[1m22/22\u001b[0m \u001b[32m━━━━━━━━━━━━━━━━━━━━\u001b[0m\u001b[37m\u001b[0m \u001b[1m0s\u001b[0m 2ms/step \n",
      "model_3: Processando ITUB4 | Combinação 6...\n",
      "Epoch 1/50\n",
      "\u001b[1m90/90\u001b[0m \u001b[32m━━━━━━━━━━━━━━━━━━━━\u001b[0m\u001b[37m\u001b[0m \u001b[1m1s\u001b[0m 3ms/step - loss: 0.0637 - mae: 0.1814 - mape: 288637.4062 - mse: 0.0637 - val_loss: 0.0075 - val_mae: 0.0708 - val_mape: 11.4639 - val_mse: 0.0075\n",
      "Epoch 2/50\n",
      "\u001b[1m90/90\u001b[0m \u001b[32m━━━━━━━━━━━━━━━━━━━━\u001b[0m\u001b[37m\u001b[0m \u001b[1m0s\u001b[0m 2ms/step - loss: 0.0034 - mae: 0.0405 - mape: 256076.5469 - mse: 0.0034 - val_loss: 0.0018 - val_mae: 0.0337 - val_mape: 5.8204 - val_mse: 0.0018\n",
      "Epoch 3/50\n",
      "\u001b[1m90/90\u001b[0m \u001b[32m━━━━━━━━━━━━━━━━━━━━\u001b[0m\u001b[37m\u001b[0m \u001b[1m0s\u001b[0m 2ms/step - loss: 5.9333e-04 - mae: 0.0175 - mape: 15732.6436 - mse: 5.9333e-04 - val_loss: 0.0013 - val_mae: 0.0290 - val_mape: 4.9635 - val_mse: 0.0013\n",
      "Epoch 4/50\n",
      "\u001b[1m90/90\u001b[0m \u001b[32m━━━━━━━━━━━━━━━━━━━━\u001b[0m\u001b[37m\u001b[0m \u001b[1m0s\u001b[0m 2ms/step - loss: 3.7315e-04 - mae: 0.0138 - mape: 19721.9102 - mse: 3.7315e-04 - val_loss: 0.0013 - val_mae: 0.0291 - val_mape: 4.9864 - val_mse: 0.0013\n",
      "Epoch 5/50\n",
      "\u001b[1m90/90\u001b[0m \u001b[32m━━━━━━━━━━━━━━━━━━━━\u001b[0m\u001b[37m\u001b[0m \u001b[1m0s\u001b[0m 2ms/step - loss: 3.3648e-04 - mae: 0.0132 - mape: 16259.5488 - mse: 3.3648e-04 - val_loss: 0.0011 - val_mae: 0.0266 - val_mape: 4.5522 - val_mse: 0.0011\n",
      "Epoch 6/50\n",
      "\u001b[1m90/90\u001b[0m \u001b[32m━━━━━━━━━━━━━━━━━━━━\u001b[0m\u001b[37m\u001b[0m \u001b[1m0s\u001b[0m 2ms/step - loss: 3.0950e-04 - mae: 0.0127 - mape: 32950.0156 - mse: 3.0950e-04 - val_loss: 9.7390e-04 - val_mae: 0.0245 - val_mape: 4.1894 - val_mse: 9.7390e-04\n",
      "Epoch 7/50\n",
      "\u001b[1m90/90\u001b[0m \u001b[32m━━━━━━━━━━━━━━━━━━━━\u001b[0m\u001b[37m\u001b[0m \u001b[1m0s\u001b[0m 2ms/step - loss: 3.0911e-04 - mae: 0.0129 - mape: 139078.4375 - mse: 3.0911e-04 - val_loss: 9.0151e-04 - val_mae: 0.0235 - val_mape: 4.0087 - val_mse: 9.0151e-04\n",
      "Epoch 8/50\n",
      "\u001b[1m90/90\u001b[0m \u001b[32m━━━━━━━━━━━━━━━━━━━━\u001b[0m\u001b[37m\u001b[0m \u001b[1m0s\u001b[0m 2ms/step - loss: 2.7512e-04 - mae: 0.0118 - mape: 135169.9375 - mse: 2.7512e-04 - val_loss: 8.1063e-04 - val_mae: 0.0222 - val_mape: 3.7830 - val_mse: 8.1063e-04\n",
      "Epoch 9/50\n",
      "\u001b[1m90/90\u001b[0m \u001b[32m━━━━━━━━━━━━━━━━━━━━\u001b[0m\u001b[37m\u001b[0m \u001b[1m0s\u001b[0m 2ms/step - loss: 2.4351e-04 - mae: 0.0113 - mape: 105034.9297 - mse: 2.4351e-04 - val_loss: 7.3696e-04 - val_mae: 0.0210 - val_mape: 3.5835 - val_mse: 7.3696e-04\n",
      "Epoch 10/50\n",
      "\u001b[1m90/90\u001b[0m \u001b[32m━━━━━━━━━━━━━━━━━━━━\u001b[0m\u001b[37m\u001b[0m \u001b[1m0s\u001b[0m 2ms/step - loss: 2.2855e-04 - mae: 0.0110 - mape: 16465.4961 - mse: 2.2855e-04 - val_loss: 6.5896e-04 - val_mae: 0.0197 - val_mape: 3.3565 - val_mse: 6.5896e-04\n",
      "Epoch 11/50\n",
      "\u001b[1m90/90\u001b[0m \u001b[32m━━━━━━━━━━━━━━━━━━━━\u001b[0m\u001b[37m\u001b[0m \u001b[1m0s\u001b[0m 2ms/step - loss: 2.1825e-04 - mae: 0.0109 - mape: 33697.3984 - mse: 2.1825e-04 - val_loss: 7.6496e-04 - val_mae: 0.0215 - val_mape: 3.6590 - val_mse: 7.6496e-04\n",
      "Epoch 12/50\n",
      "\u001b[1m90/90\u001b[0m \u001b[32m━━━━━━━━━━━━━━━━━━━━\u001b[0m\u001b[37m\u001b[0m \u001b[1m0s\u001b[0m 2ms/step - loss: 2.2980e-04 - mae: 0.0111 - mape: 36086.9453 - mse: 2.2980e-04 - val_loss: 5.8371e-04 - val_mae: 0.0182 - val_mape: 3.0645 - val_mse: 5.8371e-04\n",
      "Epoch 13/50\n",
      "\u001b[1m90/90\u001b[0m \u001b[32m━━━━━━━━━━━━━━━━━━━━\u001b[0m\u001b[37m\u001b[0m \u001b[1m0s\u001b[0m 2ms/step - loss: 2.1467e-04 - mae: 0.0108 - mape: 56865.5469 - mse: 2.1467e-04 - val_loss: 5.4656e-04 - val_mae: 0.0174 - val_mape: 2.9488 - val_mse: 5.4656e-04\n",
      "Epoch 14/50\n",
      "\u001b[1m90/90\u001b[0m \u001b[32m━━━━━━━━━━━━━━━━━━━━\u001b[0m\u001b[37m\u001b[0m \u001b[1m0s\u001b[0m 2ms/step - loss: 2.0274e-04 - mae: 0.0104 - mape: 19941.4160 - mse: 2.0274e-04 - val_loss: 5.2383e-04 - val_mae: 0.0168 - val_mape: 2.8291 - val_mse: 5.2383e-04\n",
      "Epoch 15/50\n",
      "\u001b[1m90/90\u001b[0m \u001b[32m━━━━━━━━━━━━━━━━━━━━\u001b[0m\u001b[37m\u001b[0m \u001b[1m0s\u001b[0m 2ms/step - loss: 1.8516e-04 - mae: 0.0101 - mape: 52829.5000 - mse: 1.8516e-04 - val_loss: 5.2701e-04 - val_mae: 0.0171 - val_mape: 2.9043 - val_mse: 5.2701e-04\n",
      "Epoch 16/50\n",
      "\u001b[1m90/90\u001b[0m \u001b[32m━━━━━━━━━━━━━━━━━━━━\u001b[0m\u001b[37m\u001b[0m \u001b[1m0s\u001b[0m 2ms/step - loss: 1.9480e-04 - mae: 0.0103 - mape: 26988.7441 - mse: 1.9480e-04 - val_loss: 4.9764e-04 - val_mae: 0.0164 - val_mape: 2.7753 - val_mse: 4.9764e-04\n",
      "Epoch 17/50\n",
      "\u001b[1m90/90\u001b[0m \u001b[32m━━━━━━━━━━━━━━━━━━━━\u001b[0m\u001b[37m\u001b[0m \u001b[1m0s\u001b[0m 2ms/step - loss: 1.8907e-04 - mae: 0.0102 - mape: 30018.8633 - mse: 1.8907e-04 - val_loss: 4.9163e-04 - val_mae: 0.0163 - val_mape: 2.7462 - val_mse: 4.9163e-04\n",
      "Epoch 18/50\n",
      "\u001b[1m90/90\u001b[0m \u001b[32m━━━━━━━━━━━━━━━━━━━━\u001b[0m\u001b[37m\u001b[0m \u001b[1m0s\u001b[0m 2ms/step - loss: 1.7891e-04 - mae: 0.0101 - mape: 25348.4707 - mse: 1.7891e-04 - val_loss: 4.7791e-04 - val_mae: 0.0159 - val_mape: 2.6751 - val_mse: 4.7791e-04\n",
      "Epoch 19/50\n",
      "\u001b[1m90/90\u001b[0m \u001b[32m━━━━━━━━━━━━━━━━━━━━\u001b[0m\u001b[37m\u001b[0m \u001b[1m0s\u001b[0m 2ms/step - loss: 1.8822e-04 - mae: 0.0101 - mape: 20422.4512 - mse: 1.8822e-04 - val_loss: 5.0825e-04 - val_mae: 0.0166 - val_mape: 2.8131 - val_mse: 5.0825e-04\n",
      "Epoch 20/50\n",
      "\u001b[1m90/90\u001b[0m \u001b[32m━━━━━━━━━━━━━━━━━━━━\u001b[0m\u001b[37m\u001b[0m \u001b[1m0s\u001b[0m 2ms/step - loss: 1.8852e-04 - mae: 0.0102 - mape: 5137.6616 - mse: 1.8852e-04 - val_loss: 5.1268e-04 - val_mae: 0.0168 - val_mape: 2.8478 - val_mse: 5.1268e-04\n",
      "Epoch 21/50\n",
      "\u001b[1m90/90\u001b[0m \u001b[32m━━━━━━━━━━━━━━━━━━━━\u001b[0m\u001b[37m\u001b[0m \u001b[1m0s\u001b[0m 2ms/step - loss: 1.8788e-04 - mae: 0.0102 - mape: 12506.8320 - mse: 1.8788e-04 - val_loss: 4.7323e-04 - val_mae: 0.0159 - val_mape: 2.6909 - val_mse: 4.7323e-04\n",
      "Epoch 22/50\n",
      "\u001b[1m90/90\u001b[0m \u001b[32m━━━━━━━━━━━━━━━━━━━━\u001b[0m\u001b[37m\u001b[0m \u001b[1m0s\u001b[0m 2ms/step - loss: 1.7202e-04 - mae: 0.0097 - mape: 36342.0352 - mse: 1.7202e-04 - val_loss: 4.6203e-04 - val_mae: 0.0158 - val_mape: 2.6633 - val_mse: 4.6203e-04\n",
      "Epoch 23/50\n",
      "\u001b[1m90/90\u001b[0m \u001b[32m━━━━━━━━━━━━━━━━━━━━\u001b[0m\u001b[37m\u001b[0m \u001b[1m0s\u001b[0m 2ms/step - loss: 1.7740e-04 - mae: 0.0100 - mape: 12167.7324 - mse: 1.7740e-04 - val_loss: 4.4682e-04 - val_mae: 0.0153 - val_mape: 2.5903 - val_mse: 4.4682e-04\n",
      "Epoch 24/50\n",
      "\u001b[1m90/90\u001b[0m \u001b[32m━━━━━━━━━━━━━━━━━━━━\u001b[0m\u001b[37m\u001b[0m \u001b[1m0s\u001b[0m 2ms/step - loss: 1.8720e-04 - mae: 0.0101 - mape: 68280.9766 - mse: 1.8720e-04 - val_loss: 4.4410e-04 - val_mae: 0.0153 - val_mape: 2.5848 - val_mse: 4.4410e-04\n",
      "Epoch 25/50\n",
      "\u001b[1m90/90\u001b[0m \u001b[32m━━━━━━━━━━━━━━━━━━━━\u001b[0m\u001b[37m\u001b[0m \u001b[1m0s\u001b[0m 2ms/step - loss: 1.6022e-04 - mae: 0.0095 - mape: 28062.3047 - mse: 1.6022e-04 - val_loss: 4.5299e-04 - val_mae: 0.0155 - val_mape: 2.6243 - val_mse: 4.5299e-04\n",
      "Epoch 26/50\n",
      "\u001b[1m90/90\u001b[0m \u001b[32m━━━━━━━━━━━━━━━━━━━━\u001b[0m\u001b[37m\u001b[0m \u001b[1m0s\u001b[0m 2ms/step - loss: 2.0524e-04 - mae: 0.0110 - mape: 18411.8906 - mse: 2.0524e-04 - val_loss: 4.5577e-04 - val_mae: 0.0156 - val_mape: 2.6282 - val_mse: 4.5577e-04\n",
      "Epoch 27/50\n",
      "\u001b[1m90/90\u001b[0m \u001b[32m━━━━━━━━━━━━━━━━━━━━\u001b[0m\u001b[37m\u001b[0m \u001b[1m0s\u001b[0m 2ms/step - loss: 1.9157e-04 - mae: 0.0102 - mape: 19638.1797 - mse: 1.9157e-04 - val_loss: 4.4170e-04 - val_mae: 0.0154 - val_mape: 2.5677 - val_mse: 4.4170e-04\n",
      "Epoch 28/50\n",
      "\u001b[1m90/90\u001b[0m \u001b[32m━━━━━━━━━━━━━━━━━━━━\u001b[0m\u001b[37m\u001b[0m \u001b[1m0s\u001b[0m 2ms/step - loss: 2.0589e-04 - mae: 0.0107 - mape: 72054.7891 - mse: 2.0589e-04 - val_loss: 4.3452e-04 - val_mae: 0.0151 - val_mape: 2.5432 - val_mse: 4.3452e-04\n",
      "Epoch 29/50\n",
      "\u001b[1m90/90\u001b[0m \u001b[32m━━━━━━━━━━━━━━━━━━━━\u001b[0m\u001b[37m\u001b[0m \u001b[1m0s\u001b[0m 2ms/step - loss: 1.8463e-04 - mae: 0.0102 - mape: 8152.7949 - mse: 1.8463e-04 - val_loss: 4.3086e-04 - val_mae: 0.0150 - val_mape: 2.5242 - val_mse: 4.3086e-04\n",
      "Epoch 30/50\n",
      "\u001b[1m90/90\u001b[0m \u001b[32m━━━━━━━━━━━━━━━━━━━━\u001b[0m\u001b[37m\u001b[0m \u001b[1m0s\u001b[0m 2ms/step - loss: 1.8422e-04 - mae: 0.0103 - mape: 41280.8359 - mse: 1.8422e-04 - val_loss: 4.9746e-04 - val_mae: 0.0167 - val_mape: 2.8161 - val_mse: 4.9746e-04\n",
      "Epoch 31/50\n",
      "\u001b[1m90/90\u001b[0m \u001b[32m━━━━━━━━━━━━━━━━━━━━\u001b[0m\u001b[37m\u001b[0m \u001b[1m0s\u001b[0m 2ms/step - loss: 1.8714e-04 - mae: 0.0102 - mape: 27064.8984 - mse: 1.8714e-04 - val_loss: 4.3994e-04 - val_mae: 0.0154 - val_mape: 2.5903 - val_mse: 4.3994e-04\n",
      "Epoch 32/50\n",
      "\u001b[1m90/90\u001b[0m \u001b[32m━━━━━━━━━━━━━━━━━━━━\u001b[0m\u001b[37m\u001b[0m \u001b[1m0s\u001b[0m 2ms/step - loss: 1.7988e-04 - mae: 0.0100 - mape: 24377.1211 - mse: 1.7988e-04 - val_loss: 4.2276e-04 - val_mae: 0.0149 - val_mape: 2.5091 - val_mse: 4.2276e-04\n",
      "Epoch 33/50\n",
      "\u001b[1m90/90\u001b[0m \u001b[32m━━━━━━━━━━━━━━━━━━━━\u001b[0m\u001b[37m\u001b[0m \u001b[1m0s\u001b[0m 2ms/step - loss: 1.8777e-04 - mae: 0.0103 - mape: 15378.1201 - mse: 1.8777e-04 - val_loss: 4.2255e-04 - val_mae: 0.0149 - val_mape: 2.4952 - val_mse: 4.2255e-04\n",
      "Epoch 34/50\n",
      "\u001b[1m90/90\u001b[0m \u001b[32m━━━━━━━━━━━━━━━━━━━━\u001b[0m\u001b[37m\u001b[0m \u001b[1m0s\u001b[0m 3ms/step - loss: 1.8151e-04 - mae: 0.0101 - mape: 8520.2539 - mse: 1.8151e-04 - val_loss: 4.2072e-04 - val_mae: 0.0150 - val_mape: 2.5101 - val_mse: 4.2072e-04\n",
      "Epoch 35/50\n",
      "\u001b[1m90/90\u001b[0m \u001b[32m━━━━━━━━━━━━━━━━━━━━\u001b[0m\u001b[37m\u001b[0m \u001b[1m0s\u001b[0m 2ms/step - loss: 1.7443e-04 - mae: 0.0099 - mape: 37675.3711 - mse: 1.7443e-04 - val_loss: 4.3612e-04 - val_mae: 0.0153 - val_mape: 2.5557 - val_mse: 4.3612e-04\n",
      "Epoch 36/50\n",
      "\u001b[1m90/90\u001b[0m \u001b[32m━━━━━━━━━━━━━━━━━━━━\u001b[0m\u001b[37m\u001b[0m \u001b[1m0s\u001b[0m 3ms/step - loss: 1.7499e-04 - mae: 0.0099 - mape: 3804.4822 - mse: 1.7499e-04 - val_loss: 4.2590e-04 - val_mae: 0.0150 - val_mape: 2.5353 - val_mse: 4.2590e-04\n",
      "Epoch 37/50\n",
      "\u001b[1m90/90\u001b[0m \u001b[32m━━━━━━━━━━━━━━━━━━━━\u001b[0m\u001b[37m\u001b[0m \u001b[1m0s\u001b[0m 3ms/step - loss: 1.8147e-04 - mae: 0.0101 - mape: 57274.4180 - mse: 1.8147e-04 - val_loss: 4.1871e-04 - val_mae: 0.0147 - val_mape: 2.4770 - val_mse: 4.1871e-04\n",
      "Epoch 38/50\n",
      "\u001b[1m90/90\u001b[0m \u001b[32m━━━━━━━━━━━━━━━━━━━━\u001b[0m\u001b[37m\u001b[0m \u001b[1m0s\u001b[0m 3ms/step - loss: 1.7961e-04 - mae: 0.0099 - mape: 57088.1758 - mse: 1.7961e-04 - val_loss: 4.1791e-04 - val_mae: 0.0148 - val_mape: 2.4909 - val_mse: 4.1791e-04\n",
      "Epoch 39/50\n",
      "\u001b[1m90/90\u001b[0m \u001b[32m━━━━━━━━━━━━━━━━━━━━\u001b[0m\u001b[37m\u001b[0m \u001b[1m0s\u001b[0m 3ms/step - loss: 1.7798e-04 - mae: 0.0101 - mape: 40599.6406 - mse: 1.7798e-04 - val_loss: 4.2096e-04 - val_mae: 0.0149 - val_mape: 2.4981 - val_mse: 4.2096e-04\n",
      "Epoch 40/50\n",
      "\u001b[1m90/90\u001b[0m \u001b[32m━━━━━━━━━━━━━━━━━━━━\u001b[0m\u001b[37m\u001b[0m \u001b[1m0s\u001b[0m 3ms/step - loss: 1.8663e-04 - mae: 0.0104 - mape: 23118.2090 - mse: 1.8663e-04 - val_loss: 4.9194e-04 - val_mae: 0.0166 - val_mape: 2.8053 - val_mse: 4.9194e-04\n",
      "Epoch 41/50\n",
      "\u001b[1m90/90\u001b[0m \u001b[32m━━━━━━━━━━━━━━━━━━━━\u001b[0m\u001b[37m\u001b[0m \u001b[1m0s\u001b[0m 2ms/step - loss: 1.9650e-04 - mae: 0.0103 - mape: 28744.7168 - mse: 1.9650e-04 - val_loss: 4.1580e-04 - val_mae: 0.0147 - val_mape: 2.4751 - val_mse: 4.1580e-04\n",
      "Epoch 42/50\n",
      "\u001b[1m90/90\u001b[0m \u001b[32m━━━━━━━━━━━━━━━━━━━━\u001b[0m\u001b[37m\u001b[0m \u001b[1m0s\u001b[0m 3ms/step - loss: 1.7825e-04 - mae: 0.0100 - mape: 13773.2871 - mse: 1.7825e-04 - val_loss: 4.7856e-04 - val_mae: 0.0163 - val_mape: 2.7493 - val_mse: 4.7856e-04\n",
      "Epoch 43/50\n",
      "\u001b[1m90/90\u001b[0m \u001b[32m━━━━━━━━━━━━━━━━━━━━\u001b[0m\u001b[37m\u001b[0m \u001b[1m0s\u001b[0m 3ms/step - loss: 1.8281e-04 - mae: 0.0101 - mape: 11192.9492 - mse: 1.8281e-04 - val_loss: 4.5142e-04 - val_mae: 0.0157 - val_mape: 2.6613 - val_mse: 4.5142e-04\n",
      "Epoch 44/50\n",
      "\u001b[1m90/90\u001b[0m \u001b[32m━━━━━━━━━━━━━━━━━━━━\u001b[0m\u001b[37m\u001b[0m \u001b[1m0s\u001b[0m 3ms/step - loss: 1.9458e-04 - mae: 0.0105 - mape: 26406.0430 - mse: 1.9458e-04 - val_loss: 4.4169e-04 - val_mae: 0.0154 - val_mape: 2.5965 - val_mse: 4.4169e-04\n",
      "Epoch 45/50\n",
      "\u001b[1m90/90\u001b[0m \u001b[32m━━━━━━━━━━━━━━━━━━━━\u001b[0m\u001b[37m\u001b[0m \u001b[1m0s\u001b[0m 2ms/step - loss: 1.9490e-04 - mae: 0.0104 - mape: 20859.4121 - mse: 1.9490e-04 - val_loss: 4.3161e-04 - val_mae: 0.0152 - val_mape: 2.5439 - val_mse: 4.3161e-04\n",
      "Epoch 46/50\n",
      "\u001b[1m90/90\u001b[0m \u001b[32m━━━━━━━━━━━━━━━━━━━━\u001b[0m\u001b[37m\u001b[0m \u001b[1m0s\u001b[0m 2ms/step - loss: 1.7945e-04 - mae: 0.0099 - mape: 10018.7822 - mse: 1.7945e-04 - val_loss: 4.1127e-04 - val_mae: 0.0147 - val_mape: 2.4657 - val_mse: 4.1127e-04\n",
      "Epoch 47/50\n",
      "\u001b[1m90/90\u001b[0m \u001b[32m━━━━━━━━━━━━━━━━━━━━\u001b[0m\u001b[37m\u001b[0m \u001b[1m0s\u001b[0m 2ms/step - loss: 1.8246e-04 - mae: 0.0102 - mape: 30323.2949 - mse: 1.8246e-04 - val_loss: 4.7548e-04 - val_mae: 0.0163 - val_mape: 2.7139 - val_mse: 4.7548e-04\n",
      "Epoch 48/50\n",
      "\u001b[1m90/90\u001b[0m \u001b[32m━━━━━━━━━━━━━━━━━━━━\u001b[0m\u001b[37m\u001b[0m \u001b[1m0s\u001b[0m 2ms/step - loss: 1.8824e-04 - mae: 0.0102 - mape: 28997.3145 - mse: 1.8824e-04 - val_loss: 5.0866e-04 - val_mae: 0.0169 - val_mape: 2.8025 - val_mse: 5.0866e-04\n",
      "Epoch 49/50\n",
      "\u001b[1m90/90\u001b[0m \u001b[32m━━━━━━━━━━━━━━━━━━━━\u001b[0m\u001b[37m\u001b[0m \u001b[1m0s\u001b[0m 2ms/step - loss: 1.6834e-04 - mae: 0.0096 - mape: 14662.9736 - mse: 1.6834e-04 - val_loss: 4.1501e-04 - val_mae: 0.0148 - val_mape: 2.4884 - val_mse: 4.1501e-04\n",
      "Epoch 50/50\n",
      "\u001b[1m90/90\u001b[0m \u001b[32m━━━━━━━━━━━━━━━━━━━━\u001b[0m\u001b[37m\u001b[0m \u001b[1m0s\u001b[0m 2ms/step - loss: 1.6300e-04 - mae: 0.0096 - mape: 1391.8347 - mse: 1.6300e-04 - val_loss: 4.1613e-04 - val_mae: 0.0149 - val_mape: 2.4886 - val_mse: 4.1613e-04\n",
      "\u001b[1m23/23\u001b[0m \u001b[32m━━━━━━━━━━━━━━━━━━━━\u001b[0m\u001b[37m\u001b[0m \u001b[1m0s\u001b[0m 4ms/step\n"
     ]
    },
    {
     "name": "stderr",
     "output_type": "stream",
     "text": [
      "Processando combinações:  86%|████████▌ | 6/7 [04:03<00:41, 41.28s/it]"
     ]
    },
    {
     "name": "stdout",
     "output_type": "stream",
     "text": [
      "model_3: Processando PETR4 | Combinação 7...\n",
      "Epoch 1/50\n",
      "\u001b[1m90/90\u001b[0m \u001b[32m━━━━━━━━━━━━━━━━━━━━\u001b[0m\u001b[37m\u001b[0m \u001b[1m1s\u001b[0m 4ms/step - loss: 0.0254 - mae: 0.1175 - mape: 8100.8706 - mse: 0.0254 - val_loss: 0.0045 - val_mae: 0.0527 - val_mape: 11.6883 - val_mse: 0.0045\n",
      "Epoch 2/50\n",
      "\u001b[1m90/90\u001b[0m \u001b[32m━━━━━━━━━━━━━━━━━━━━\u001b[0m\u001b[37m\u001b[0m \u001b[1m0s\u001b[0m 2ms/step - loss: 0.0015 - mae: 0.0292 - mape: 7868.3506 - mse: 0.0015 - val_loss: 0.0017 - val_mae: 0.0312 - val_mape: 7.1807 - val_mse: 0.0017\n",
      "Epoch 3/50\n",
      "\u001b[1m90/90\u001b[0m \u001b[32m━━━━━━━━━━━━━━━━━━━━\u001b[0m\u001b[37m\u001b[0m \u001b[1m0s\u001b[0m 2ms/step - loss: 6.7960e-04 - mae: 0.0200 - mape: 30055.3867 - mse: 6.7960e-04 - val_loss: 0.0012 - val_mae: 0.0255 - val_mape: 5.9621 - val_mse: 0.0012\n",
      "Epoch 4/50\n",
      "\u001b[1m90/90\u001b[0m \u001b[32m━━━━━━━━━━━━━━━━━━━━\u001b[0m\u001b[37m\u001b[0m \u001b[1m0s\u001b[0m 2ms/step - loss: 4.2749e-04 - mae: 0.0151 - mape: 3926.6187 - mse: 4.2749e-04 - val_loss: 8.0302e-04 - val_mae: 0.0199 - val_mape: 4.7556 - val_mse: 8.0302e-04\n",
      "Epoch 5/50\n",
      "\u001b[1m90/90\u001b[0m \u001b[32m━━━━━━━━━━━━━━━━━━━━\u001b[0m\u001b[37m\u001b[0m \u001b[1m0s\u001b[0m 2ms/step - loss: 3.1330e-04 - mae: 0.0129 - mape: 1300.1970 - mse: 3.1330e-04 - val_loss: 6.0378e-04 - val_mae: 0.0166 - val_mape: 4.0415 - val_mse: 6.0378e-04\n",
      "Epoch 6/50\n",
      "\u001b[1m90/90\u001b[0m \u001b[32m━━━━━━━━━━━━━━━━━━━━\u001b[0m\u001b[37m\u001b[0m \u001b[1m0s\u001b[0m 2ms/step - loss: 2.8131e-04 - mae: 0.0121 - mape: 3379.8809 - mse: 2.8131e-04 - val_loss: 5.3669e-04 - val_mae: 0.0153 - val_mape: 3.8020 - val_mse: 5.3669e-04\n",
      "Epoch 7/50\n",
      "\u001b[1m90/90\u001b[0m \u001b[32m━━━━━━━━━━━━━━━━━━━━\u001b[0m\u001b[37m\u001b[0m \u001b[1m0s\u001b[0m 2ms/step - loss: 2.6530e-04 - mae: 0.0116 - mape: 564.2925 - mse: 2.6530e-04 - val_loss: 4.9636e-04 - val_mae: 0.0146 - val_mape: 3.6190 - val_mse: 4.9636e-04\n",
      "Epoch 8/50\n",
      "\u001b[1m90/90\u001b[0m \u001b[32m━━━━━━━━━━━━━━━━━━━━\u001b[0m\u001b[37m\u001b[0m \u001b[1m0s\u001b[0m 2ms/step - loss: 2.5422e-04 - mae: 0.0114 - mape: 1389.9292 - mse: 2.5422e-04 - val_loss: 4.7278e-04 - val_mae: 0.0146 - val_mape: 3.5723 - val_mse: 4.7278e-04\n",
      "Epoch 9/50\n",
      "\u001b[1m90/90\u001b[0m \u001b[32m━━━━━━━━━━━━━━━━━━━━\u001b[0m\u001b[37m\u001b[0m \u001b[1m0s\u001b[0m 2ms/step - loss: 2.3773e-04 - mae: 0.0112 - mape: 967.7234 - mse: 2.3773e-04 - val_loss: 4.4905e-04 - val_mae: 0.0139 - val_mape: 3.4260 - val_mse: 4.4905e-04\n",
      "Epoch 10/50\n",
      "\u001b[1m90/90\u001b[0m \u001b[32m━━━━━━━━━━━━━━━━━━━━\u001b[0m\u001b[37m\u001b[0m \u001b[1m0s\u001b[0m 2ms/step - loss: 2.2147e-04 - mae: 0.0110 - mape: 1134.8342 - mse: 2.2147e-04 - val_loss: 4.6922e-04 - val_mae: 0.0141 - val_mape: 3.5042 - val_mse: 4.6922e-04\n",
      "Epoch 11/50\n",
      "\u001b[1m90/90\u001b[0m \u001b[32m━━━━━━━━━━━━━━━━━━━━\u001b[0m\u001b[37m\u001b[0m \u001b[1m0s\u001b[0m 2ms/step - loss: 2.1924e-04 - mae: 0.0109 - mape: 170.2628 - mse: 2.1924e-04 - val_loss: 4.3843e-04 - val_mae: 0.0135 - val_mape: 3.3421 - val_mse: 4.3843e-04\n",
      "Epoch 12/50\n",
      "\u001b[1m90/90\u001b[0m \u001b[32m━━━━━━━━━━━━━━━━━━━━\u001b[0m\u001b[37m\u001b[0m \u001b[1m0s\u001b[0m 2ms/step - loss: 2.2650e-04 - mae: 0.0109 - mape: 3649.2151 - mse: 2.2650e-04 - val_loss: 4.1660e-04 - val_mae: 0.0133 - val_mape: 3.2605 - val_mse: 4.1660e-04\n",
      "Epoch 13/50\n",
      "\u001b[1m90/90\u001b[0m \u001b[32m━━━━━━━━━━━━━━━━━━━━\u001b[0m\u001b[37m\u001b[0m \u001b[1m0s\u001b[0m 2ms/step - loss: 2.3871e-04 - mae: 0.0109 - mape: 263.9923 - mse: 2.3871e-04 - val_loss: 4.0501e-04 - val_mae: 0.0131 - val_mape: 3.2117 - val_mse: 4.0501e-04\n",
      "Epoch 14/50\n",
      "\u001b[1m90/90\u001b[0m \u001b[32m━━━━━━━━━━━━━━━━━━━━\u001b[0m\u001b[37m\u001b[0m \u001b[1m0s\u001b[0m 2ms/step - loss: 2.1327e-04 - mae: 0.0105 - mape: 3464.8904 - mse: 2.1327e-04 - val_loss: 4.3534e-04 - val_mae: 0.0136 - val_mape: 3.3492 - val_mse: 4.3534e-04\n",
      "Epoch 15/50\n",
      "\u001b[1m90/90\u001b[0m \u001b[32m━━━━━━━━━━━━━━━━━━━━\u001b[0m\u001b[37m\u001b[0m \u001b[1m0s\u001b[0m 2ms/step - loss: 2.2323e-04 - mae: 0.0110 - mape: 871.0093 - mse: 2.2323e-04 - val_loss: 4.0076e-04 - val_mae: 0.0129 - val_mape: 3.1658 - val_mse: 4.0076e-04\n",
      "Epoch 16/50\n",
      "\u001b[1m90/90\u001b[0m \u001b[32m━━━━━━━━━━━━━━━━━━━━\u001b[0m\u001b[37m\u001b[0m \u001b[1m0s\u001b[0m 2ms/step - loss: 2.0052e-04 - mae: 0.0102 - mape: 798.7971 - mse: 2.0052e-04 - val_loss: 4.2262e-04 - val_mae: 0.0135 - val_mape: 3.3364 - val_mse: 4.2262e-04\n",
      "Epoch 17/50\n",
      "\u001b[1m90/90\u001b[0m \u001b[32m━━━━━━━━━━━━━━━━━━━━\u001b[0m\u001b[37m\u001b[0m \u001b[1m0s\u001b[0m 2ms/step - loss: 2.1766e-04 - mae: 0.0106 - mape: 4546.5879 - mse: 2.1766e-04 - val_loss: 3.7488e-04 - val_mae: 0.0129 - val_mape: 3.1102 - val_mse: 3.7488e-04\n",
      "Epoch 18/50\n",
      "\u001b[1m90/90\u001b[0m \u001b[32m━━━━━━━━━━━━━━━━━━━━\u001b[0m\u001b[37m\u001b[0m \u001b[1m0s\u001b[0m 2ms/step - loss: 1.9554e-04 - mae: 0.0105 - mape: 6170.9736 - mse: 1.9554e-04 - val_loss: 4.1658e-04 - val_mae: 0.0147 - val_mape: 3.4769 - val_mse: 4.1658e-04\n",
      "Epoch 19/50\n",
      "\u001b[1m90/90\u001b[0m \u001b[32m━━━━━━━━━━━━━━━━━━━━\u001b[0m\u001b[37m\u001b[0m \u001b[1m0s\u001b[0m 2ms/step - loss: 1.9719e-04 - mae: 0.0101 - mape: 326.5352 - mse: 1.9719e-04 - val_loss: 3.8237e-04 - val_mae: 0.0127 - val_mape: 3.1049 - val_mse: 3.8237e-04\n",
      "Epoch 20/50\n",
      "\u001b[1m90/90\u001b[0m \u001b[32m━━━━━━━━━━━━━━━━━━━━\u001b[0m\u001b[37m\u001b[0m \u001b[1m0s\u001b[0m 2ms/step - loss: 1.9366e-04 - mae: 0.0102 - mape: 226.4715 - mse: 1.9366e-04 - val_loss: 3.9179e-04 - val_mae: 0.0130 - val_mape: 3.1669 - val_mse: 3.9179e-04\n",
      "Epoch 21/50\n",
      "\u001b[1m90/90\u001b[0m \u001b[32m━━━━━━━━━━━━━━━━━━━━\u001b[0m\u001b[37m\u001b[0m \u001b[1m0s\u001b[0m 2ms/step - loss: 2.0052e-04 - mae: 0.0104 - mape: 1729.4801 - mse: 2.0052e-04 - val_loss: 3.5453e-04 - val_mae: 0.0126 - val_mape: 3.0381 - val_mse: 3.5453e-04\n",
      "Epoch 22/50\n",
      "\u001b[1m90/90\u001b[0m \u001b[32m━━━━━━━━━━━━━━━━━━━━\u001b[0m\u001b[37m\u001b[0m \u001b[1m0s\u001b[0m 2ms/step - loss: 1.8857e-04 - mae: 0.0099 - mape: 2850.9785 - mse: 1.8857e-04 - val_loss: 3.5078e-04 - val_mae: 0.0123 - val_mape: 2.9770 - val_mse: 3.5078e-04\n",
      "Epoch 23/50\n",
      "\u001b[1m90/90\u001b[0m \u001b[32m━━━━━━━━━━━━━━━━━━━━\u001b[0m\u001b[37m\u001b[0m \u001b[1m0s\u001b[0m 2ms/step - loss: 1.8031e-04 - mae: 0.0097 - mape: 5615.3501 - mse: 1.8031e-04 - val_loss: 3.7578e-04 - val_mae: 0.0127 - val_mape: 3.0931 - val_mse: 3.7578e-04\n",
      "Epoch 24/50\n",
      "\u001b[1m90/90\u001b[0m \u001b[32m━━━━━━━━━━━━━━━━━━━━\u001b[0m\u001b[37m\u001b[0m \u001b[1m0s\u001b[0m 2ms/step - loss: 1.8264e-04 - mae: 0.0099 - mape: 513.7795 - mse: 1.8264e-04 - val_loss: 3.5120e-04 - val_mae: 0.0123 - val_mape: 2.9883 - val_mse: 3.5120e-04\n",
      "Epoch 25/50\n",
      "\u001b[1m90/90\u001b[0m \u001b[32m━━━━━━━━━━━━━━━━━━━━\u001b[0m\u001b[37m\u001b[0m \u001b[1m0s\u001b[0m 2ms/step - loss: 2.0422e-04 - mae: 0.0101 - mape: 127.4296 - mse: 2.0422e-04 - val_loss: 3.6597e-04 - val_mae: 0.0135 - val_mape: 3.1917 - val_mse: 3.6597e-04\n",
      "Epoch 26/50\n",
      "\u001b[1m90/90\u001b[0m \u001b[32m━━━━━━━━━━━━━━━━━━━━\u001b[0m\u001b[37m\u001b[0m \u001b[1m0s\u001b[0m 2ms/step - loss: 1.8444e-04 - mae: 0.0099 - mape: 352.7822 - mse: 1.8444e-04 - val_loss: 3.7930e-04 - val_mae: 0.0140 - val_mape: 3.2827 - val_mse: 3.7930e-04\n",
      "Epoch 27/50\n",
      "\u001b[1m90/90\u001b[0m \u001b[32m━━━━━━━━━━━━━━━━━━━━\u001b[0m\u001b[37m\u001b[0m \u001b[1m0s\u001b[0m 2ms/step - loss: 1.8439e-04 - mae: 0.0099 - mape: 339.0126 - mse: 1.8439e-04 - val_loss: 3.4034e-04 - val_mae: 0.0120 - val_mape: 2.9081 - val_mse: 3.4034e-04\n",
      "Epoch 28/50\n",
      "\u001b[1m90/90\u001b[0m \u001b[32m━━━━━━━━━━━━━━━━━━━━\u001b[0m\u001b[37m\u001b[0m \u001b[1m0s\u001b[0m 2ms/step - loss: 1.9263e-04 - mae: 0.0101 - mape: 1483.3621 - mse: 1.9263e-04 - val_loss: 3.3701e-04 - val_mae: 0.0122 - val_mape: 2.9341 - val_mse: 3.3701e-04\n",
      "Epoch 29/50\n",
      "\u001b[1m90/90\u001b[0m \u001b[32m━━━━━━━━━━━━━━━━━━━━\u001b[0m\u001b[37m\u001b[0m \u001b[1m0s\u001b[0m 2ms/step - loss: 1.8069e-04 - mae: 0.0097 - mape: 10998.9590 - mse: 1.8069e-04 - val_loss: 3.3161e-04 - val_mae: 0.0123 - val_mape: 2.9315 - val_mse: 3.3161e-04\n",
      "Epoch 30/50\n",
      "\u001b[1m90/90\u001b[0m \u001b[32m━━━━━━━━━━━━━━━━━━━━\u001b[0m\u001b[37m\u001b[0m \u001b[1m0s\u001b[0m 2ms/step - loss: 1.9019e-04 - mae: 0.0100 - mape: 217.3159 - mse: 1.9019e-04 - val_loss: 3.2426e-04 - val_mae: 0.0120 - val_mape: 2.8702 - val_mse: 3.2426e-04\n",
      "Epoch 31/50\n",
      "\u001b[1m90/90\u001b[0m \u001b[32m━━━━━━━━━━━━━━━━━━━━\u001b[0m\u001b[37m\u001b[0m \u001b[1m0s\u001b[0m 2ms/step - loss: 1.7528e-04 - mae: 0.0095 - mape: 1573.3442 - mse: 1.7528e-04 - val_loss: 3.2877e-04 - val_mae: 0.0119 - val_mape: 2.8594 - val_mse: 3.2877e-04\n",
      "Epoch 32/50\n",
      "\u001b[1m90/90\u001b[0m \u001b[32m━━━━━━━━━━━━━━━━━━━━\u001b[0m\u001b[37m\u001b[0m \u001b[1m0s\u001b[0m 2ms/step - loss: 1.9371e-04 - mae: 0.0100 - mape: 583.6737 - mse: 1.9371e-04 - val_loss: 3.3982e-04 - val_mae: 0.0121 - val_mape: 2.9096 - val_mse: 3.3982e-04\n",
      "Epoch 33/50\n",
      "\u001b[1m90/90\u001b[0m \u001b[32m━━━━━━━━━━━━━━━━━━━━\u001b[0m\u001b[37m\u001b[0m \u001b[1m0s\u001b[0m 2ms/step - loss: 1.7875e-04 - mae: 0.0097 - mape: 638.7332 - mse: 1.7875e-04 - val_loss: 3.2540e-04 - val_mae: 0.0117 - val_mape: 2.8179 - val_mse: 3.2540e-04\n",
      "Epoch 34/50\n",
      "\u001b[1m90/90\u001b[0m \u001b[32m━━━━━━━━━━━━━━━━━━━━\u001b[0m\u001b[37m\u001b[0m \u001b[1m0s\u001b[0m 2ms/step - loss: 1.8439e-04 - mae: 0.0098 - mape: 208.0682 - mse: 1.8439e-04 - val_loss: 3.1972e-04 - val_mae: 0.0118 - val_mape: 2.8366 - val_mse: 3.1972e-04\n",
      "Epoch 35/50\n",
      "\u001b[1m90/90\u001b[0m \u001b[32m━━━━━━━━━━━━━━━━━━━━\u001b[0m\u001b[37m\u001b[0m \u001b[1m0s\u001b[0m 2ms/step - loss: 1.8769e-04 - mae: 0.0099 - mape: 71.2874 - mse: 1.8769e-04 - val_loss: 3.2533e-04 - val_mae: 0.0118 - val_mape: 2.8497 - val_mse: 3.2533e-04\n",
      "Epoch 36/50\n",
      "\u001b[1m90/90\u001b[0m \u001b[32m━━━━━━━━━━━━━━━━━━━━\u001b[0m\u001b[37m\u001b[0m \u001b[1m0s\u001b[0m 2ms/step - loss: 2.0382e-04 - mae: 0.0102 - mape: 933.8525 - mse: 2.0382e-04 - val_loss: 3.2098e-04 - val_mae: 0.0121 - val_mape: 2.8808 - val_mse: 3.2098e-04\n",
      "Epoch 37/50\n",
      "\u001b[1m90/90\u001b[0m \u001b[32m━━━━━━━━━━━━━━━━━━━━\u001b[0m\u001b[37m\u001b[0m \u001b[1m0s\u001b[0m 2ms/step - loss: 1.6162e-04 - mae: 0.0092 - mape: 6.5343 - mse: 1.6162e-04 - val_loss: 3.4438e-04 - val_mae: 0.0122 - val_mape: 2.9242 - val_mse: 3.4438e-04\n",
      "Epoch 38/50\n",
      "\u001b[1m90/90\u001b[0m \u001b[32m━━━━━━━━━━━━━━━━━━━━\u001b[0m\u001b[37m\u001b[0m \u001b[1m0s\u001b[0m 2ms/step - loss: 1.8814e-04 - mae: 0.0099 - mape: 110.2853 - mse: 1.8814e-04 - val_loss: 4.0078e-04 - val_mae: 0.0149 - val_mape: 3.4802 - val_mse: 4.0078e-04\n",
      "Epoch 39/50\n",
      "\u001b[1m90/90\u001b[0m \u001b[32m━━━━━━━━━━━━━━━━━━━━\u001b[0m\u001b[37m\u001b[0m \u001b[1m0s\u001b[0m 2ms/step - loss: 2.0025e-04 - mae: 0.0102 - mape: 477.5659 - mse: 2.0025e-04 - val_loss: 3.5336e-04 - val_mae: 0.0135 - val_mape: 3.1434 - val_mse: 3.5336e-04\n",
      "Epoch 40/50\n",
      "\u001b[1m90/90\u001b[0m \u001b[32m━━━━━━━━━━━━━━━━━━━━\u001b[0m\u001b[37m\u001b[0m \u001b[1m0s\u001b[0m 3ms/step - loss: 1.8023e-04 - mae: 0.0098 - mape: 49.0774 - mse: 1.8023e-04 - val_loss: 3.6388e-04 - val_mae: 0.0127 - val_mape: 3.0682 - val_mse: 3.6388e-04\n",
      "Epoch 41/50\n",
      "\u001b[1m90/90\u001b[0m \u001b[32m━━━━━━━━━━━━━━━━━━━━\u001b[0m\u001b[37m\u001b[0m \u001b[1m0s\u001b[0m 2ms/step - loss: 1.8654e-04 - mae: 0.0101 - mape: 3355.9722 - mse: 1.8654e-04 - val_loss: 3.7470e-04 - val_mae: 0.0142 - val_mape: 3.2974 - val_mse: 3.7470e-04\n",
      "Epoch 42/50\n",
      "\u001b[1m90/90\u001b[0m \u001b[32m━━━━━━━━━━━━━━━━━━━━\u001b[0m\u001b[37m\u001b[0m \u001b[1m0s\u001b[0m 2ms/step - loss: 1.9519e-04 - mae: 0.0103 - mape: 731.2612 - mse: 1.9519e-04 - val_loss: 3.1033e-04 - val_mae: 0.0116 - val_mape: 2.7832 - val_mse: 3.1033e-04\n",
      "Epoch 43/50\n",
      "\u001b[1m90/90\u001b[0m \u001b[32m━━━━━━━━━━━━━━━━━━━━\u001b[0m\u001b[37m\u001b[0m \u001b[1m0s\u001b[0m 2ms/step - loss: 1.7440e-04 - mae: 0.0095 - mape: 2516.4333 - mse: 1.7440e-04 - val_loss: 3.2230e-04 - val_mae: 0.0117 - val_mape: 2.8040 - val_mse: 3.2230e-04\n",
      "Epoch 44/50\n",
      "\u001b[1m90/90\u001b[0m \u001b[32m━━━━━━━━━━━━━━━━━━━━\u001b[0m\u001b[37m\u001b[0m \u001b[1m0s\u001b[0m 2ms/step - loss: 1.7716e-04 - mae: 0.0096 - mape: 761.8754 - mse: 1.7716e-04 - val_loss: 3.1512e-04 - val_mae: 0.0120 - val_mape: 2.8490 - val_mse: 3.1512e-04\n",
      "Epoch 45/50\n",
      "\u001b[1m90/90\u001b[0m \u001b[32m━━━━━━━━━━━━━━━━━━━━\u001b[0m\u001b[37m\u001b[0m \u001b[1m0s\u001b[0m 2ms/step - loss: 1.6112e-04 - mae: 0.0091 - mape: 374.0826 - mse: 1.6112e-04 - val_loss: 3.3844e-04 - val_mae: 0.0121 - val_mape: 2.9032 - val_mse: 3.3844e-04\n",
      "Epoch 46/50\n",
      "\u001b[1m90/90\u001b[0m \u001b[32m━━━━━━━━━━━━━━━━━━━━\u001b[0m\u001b[37m\u001b[0m \u001b[1m0s\u001b[0m 2ms/step - loss: 1.8882e-04 - mae: 0.0103 - mape: 61.2481 - mse: 1.8882e-04 - val_loss: 3.5823e-04 - val_mae: 0.0127 - val_mape: 3.0578 - val_mse: 3.5823e-04\n",
      "Epoch 47/50\n",
      "\u001b[1m90/90\u001b[0m \u001b[32m━━━━━━━━━━━━━━━━━━━━\u001b[0m\u001b[37m\u001b[0m \u001b[1m0s\u001b[0m 2ms/step - loss: 1.8519e-04 - mae: 0.0100 - mape: 2249.6992 - mse: 1.8519e-04 - val_loss: 3.1157e-04 - val_mae: 0.0118 - val_mape: 2.8097 - val_mse: 3.1157e-04\n",
      "Epoch 48/50\n",
      "\u001b[1m90/90\u001b[0m \u001b[32m━━━━━━━━━━━━━━━━━━━━\u001b[0m\u001b[37m\u001b[0m \u001b[1m0s\u001b[0m 2ms/step - loss: 1.7738e-04 - mae: 0.0095 - mape: 1655.1926 - mse: 1.7738e-04 - val_loss: 3.0936e-04 - val_mae: 0.0116 - val_mape: 2.7749 - val_mse: 3.0936e-04\n",
      "Epoch 49/50\n",
      "\u001b[1m90/90\u001b[0m \u001b[32m━━━━━━━━━━━━━━━━━━━━\u001b[0m\u001b[37m\u001b[0m \u001b[1m0s\u001b[0m 2ms/step - loss: 1.7792e-04 - mae: 0.0097 - mape: 50.4963 - mse: 1.7792e-04 - val_loss: 3.0538e-04 - val_mae: 0.0117 - val_mape: 2.7957 - val_mse: 3.0538e-04\n",
      "Epoch 50/50\n",
      "\u001b[1m90/90\u001b[0m \u001b[32m━━━━━━━━━━━━━━━━━━━━\u001b[0m\u001b[37m\u001b[0m \u001b[1m0s\u001b[0m 2ms/step - loss: 1.6969e-04 - mae: 0.0093 - mape: 117.8054 - mse: 1.6969e-04 - val_loss: 3.0671e-04 - val_mae: 0.0115 - val_mape: 2.7623 - val_mse: 3.0671e-04\n",
      "\u001b[1m23/23\u001b[0m \u001b[32m━━━━━━━━━━━━━━━━━━━━\u001b[0m\u001b[37m\u001b[0m \u001b[1m0s\u001b[0m 2ms/step \n",
      "model_3: Processando VALE3 | Combinação 7...\n",
      "Epoch 1/50\n",
      "\u001b[1m90/90\u001b[0m \u001b[32m━━━━━━━━━━━━━━━━━━━━\u001b[0m\u001b[37m\u001b[0m \u001b[1m1s\u001b[0m 4ms/step - loss: 0.0602 - mae: 0.1981 - mape: 10989.6934 - mse: 0.0602 - val_loss: 0.0177 - val_mae: 0.1084 - val_mape: 16.0926 - val_mse: 0.0177\n",
      "Epoch 2/50\n",
      "\u001b[1m90/90\u001b[0m \u001b[32m━━━━━━━━━━━━━━━━━━━━\u001b[0m\u001b[37m\u001b[0m \u001b[1m0s\u001b[0m 2ms/step - loss: 0.0011 - mae: 0.0224 - mape: 4044.8025 - mse: 0.0011 - val_loss: 0.0117 - val_mae: 0.0872 - val_mape: 12.7800 - val_mse: 0.0117\n",
      "Epoch 3/50\n",
      "\u001b[1m90/90\u001b[0m \u001b[32m━━━━━━━━━━━━━━━━━━━━\u001b[0m\u001b[37m\u001b[0m \u001b[1m0s\u001b[0m 2ms/step - loss: 3.5537e-04 - mae: 0.0135 - mape: 2336.8223 - mse: 3.5537e-04 - val_loss: 0.0059 - val_mae: 0.0590 - val_mape: 8.5692 - val_mse: 0.0059\n",
      "Epoch 4/50\n",
      "\u001b[1m90/90\u001b[0m \u001b[32m━━━━━━━━━━━━━━━━━━━━\u001b[0m\u001b[37m\u001b[0m \u001b[1m0s\u001b[0m 2ms/step - loss: 2.2426e-04 - mae: 0.0109 - mape: 15016.4893 - mse: 2.2426e-04 - val_loss: 0.0045 - val_mae: 0.0513 - val_mape: 7.4782 - val_mse: 0.0045\n",
      "Epoch 5/50\n",
      "\u001b[1m90/90\u001b[0m \u001b[32m━━━━━━━━━━━━━━━━━━━━\u001b[0m\u001b[37m\u001b[0m \u001b[1m0s\u001b[0m 2ms/step - loss: 1.7399e-04 - mae: 0.0097 - mape: 11412.4121 - mse: 1.7399e-04 - val_loss: 0.0042 - val_mae: 0.0496 - val_mape: 7.2310 - val_mse: 0.0042\n",
      "Epoch 6/50\n",
      "\u001b[1m90/90\u001b[0m \u001b[32m━━━━━━━━━━━━━━━━━━━━\u001b[0m\u001b[37m\u001b[0m \u001b[1m0s\u001b[0m 2ms/step - loss: 1.5780e-04 - mae: 0.0095 - mape: 4667.0967 - mse: 1.5780e-04 - val_loss: 0.0039 - val_mae: 0.0482 - val_mape: 7.0643 - val_mse: 0.0039\n",
      "Epoch 7/50\n",
      "\u001b[1m90/90\u001b[0m \u001b[32m━━━━━━━━━━━━━━━━━━━━\u001b[0m\u001b[37m\u001b[0m \u001b[1m0s\u001b[0m 2ms/step - loss: 1.5881e-04 - mae: 0.0092 - mape: 5779.5205 - mse: 1.5881e-04 - val_loss: 0.0035 - val_mae: 0.0451 - val_mape: 6.6247 - val_mse: 0.0035\n",
      "Epoch 8/50\n",
      "\u001b[1m90/90\u001b[0m \u001b[32m━━━━━━━━━━━━━━━━━━━━\u001b[0m\u001b[37m\u001b[0m \u001b[1m0s\u001b[0m 2ms/step - loss: 1.4523e-04 - mae: 0.0088 - mape: 8346.5273 - mse: 1.4523e-04 - val_loss: 0.0033 - val_mae: 0.0444 - val_mape: 6.5371 - val_mse: 0.0033\n",
      "Epoch 9/50\n",
      "\u001b[1m90/90\u001b[0m \u001b[32m━━━━━━━━━━━━━━━━━━━━\u001b[0m\u001b[37m\u001b[0m \u001b[1m0s\u001b[0m 3ms/step - loss: 1.5021e-04 - mae: 0.0088 - mape: 4353.6318 - mse: 1.5021e-04 - val_loss: 0.0032 - val_mae: 0.0432 - val_mape: 6.3394 - val_mse: 0.0032\n",
      "Epoch 10/50\n",
      "\u001b[1m90/90\u001b[0m \u001b[32m━━━━━━━━━━━━━━━━━━━━\u001b[0m\u001b[37m\u001b[0m \u001b[1m0s\u001b[0m 2ms/step - loss: 1.2887e-04 - mae: 0.0084 - mape: 714.9269 - mse: 1.2887e-04 - val_loss: 0.0030 - val_mae: 0.0414 - val_mape: 6.0846 - val_mse: 0.0030\n",
      "Epoch 11/50\n",
      "\u001b[1m90/90\u001b[0m \u001b[32m━━━━━━━━━━━━━━━━━━━━\u001b[0m\u001b[37m\u001b[0m \u001b[1m0s\u001b[0m 2ms/step - loss: 1.2727e-04 - mae: 0.0084 - mape: 1138.9623 - mse: 1.2727e-04 - val_loss: 0.0026 - val_mae: 0.0389 - val_mape: 5.7413 - val_mse: 0.0026\n",
      "Epoch 12/50\n",
      "\u001b[1m90/90\u001b[0m \u001b[32m━━━━━━━━━━━━━━━━━━━━\u001b[0m\u001b[37m\u001b[0m \u001b[1m0s\u001b[0m 2ms/step - loss: 1.3454e-04 - mae: 0.0085 - mape: 8832.9033 - mse: 1.3454e-04 - val_loss: 0.0025 - val_mae: 0.0381 - val_mape: 5.6297 - val_mse: 0.0025\n",
      "Epoch 13/50\n",
      "\u001b[1m90/90\u001b[0m \u001b[32m━━━━━━━━━━━━━━━━━━━━\u001b[0m\u001b[37m\u001b[0m \u001b[1m0s\u001b[0m 2ms/step - loss: 1.2880e-04 - mae: 0.0081 - mape: 1649.3639 - mse: 1.2880e-04 - val_loss: 0.0026 - val_mae: 0.0389 - val_mape: 5.7259 - val_mse: 0.0026\n",
      "Epoch 14/50\n",
      "\u001b[1m90/90\u001b[0m \u001b[32m━━━━━━━━━━━━━━━━━━━━\u001b[0m\u001b[37m\u001b[0m \u001b[1m0s\u001b[0m 2ms/step - loss: 1.3870e-04 - mae: 0.0084 - mape: 1840.6519 - mse: 1.3870e-04 - val_loss: 0.0026 - val_mae: 0.0393 - val_mape: 5.7906 - val_mse: 0.0026\n",
      "Epoch 15/50\n",
      "\u001b[1m90/90\u001b[0m \u001b[32m━━━━━━━━━━━━━━━━━━━━\u001b[0m\u001b[37m\u001b[0m \u001b[1m0s\u001b[0m 3ms/step - loss: 1.2214e-04 - mae: 0.0080 - mape: 8068.2817 - mse: 1.2214e-04 - val_loss: 0.0023 - val_mae: 0.0366 - val_mape: 5.4069 - val_mse: 0.0023\n",
      "Epoch 16/50\n",
      "\u001b[1m90/90\u001b[0m \u001b[32m━━━━━━━━━━━━━━━━━━━━\u001b[0m\u001b[37m\u001b[0m \u001b[1m0s\u001b[0m 2ms/step - loss: 1.2851e-04 - mae: 0.0082 - mape: 10352.2773 - mse: 1.2851e-04 - val_loss: 0.0023 - val_mae: 0.0363 - val_mape: 5.3705 - val_mse: 0.0023\n",
      "Epoch 17/50\n",
      "\u001b[1m90/90\u001b[0m \u001b[32m━━━━━━━━━━━━━━━━━━━━\u001b[0m\u001b[37m\u001b[0m \u001b[1m0s\u001b[0m 2ms/step - loss: 1.1376e-04 - mae: 0.0080 - mape: 21101.0488 - mse: 1.1376e-04 - val_loss: 0.0024 - val_mae: 0.0372 - val_mape: 5.4904 - val_mse: 0.0024\n",
      "Epoch 18/50\n",
      "\u001b[1m90/90\u001b[0m \u001b[32m━━━━━━━━━━━━━━━━━━━━\u001b[0m\u001b[37m\u001b[0m \u001b[1m0s\u001b[0m 2ms/step - loss: 1.1777e-04 - mae: 0.0078 - mape: 14923.7217 - mse: 1.1777e-04 - val_loss: 0.0027 - val_mae: 0.0395 - val_mape: 5.7910 - val_mse: 0.0027\n",
      "Epoch 19/50\n",
      "\u001b[1m90/90\u001b[0m \u001b[32m━━━━━━━━━━━━━━━━━━━━\u001b[0m\u001b[37m\u001b[0m \u001b[1m0s\u001b[0m 2ms/step - loss: 1.0290e-04 - mae: 0.0076 - mape: 428.6916 - mse: 1.0290e-04 - val_loss: 0.0023 - val_mae: 0.0357 - val_mape: 5.2587 - val_mse: 0.0023\n",
      "Epoch 20/50\n",
      "\u001b[1m90/90\u001b[0m \u001b[32m━━━━━━━━━━━━━━━━━━━━\u001b[0m\u001b[37m\u001b[0m \u001b[1m0s\u001b[0m 2ms/step - loss: 1.0891e-04 - mae: 0.0077 - mape: 591.9220 - mse: 1.0891e-04 - val_loss: 0.0025 - val_mae: 0.0386 - val_mape: 5.7033 - val_mse: 0.0025\n",
      "Epoch 21/50\n",
      "\u001b[1m90/90\u001b[0m \u001b[32m━━━━━━━━━━━━━━━━━━━━\u001b[0m\u001b[37m\u001b[0m \u001b[1m0s\u001b[0m 2ms/step - loss: 1.1609e-04 - mae: 0.0079 - mape: 5053.5049 - mse: 1.1609e-04 - val_loss: 0.0018 - val_mae: 0.0316 - val_mape: 4.7058 - val_mse: 0.0018\n",
      "Epoch 22/50\n",
      "\u001b[1m90/90\u001b[0m \u001b[32m━━━━━━━━━━━━━━━━━━━━\u001b[0m\u001b[37m\u001b[0m \u001b[1m0s\u001b[0m 3ms/step - loss: 1.0653e-04 - mae: 0.0076 - mape: 401.8839 - mse: 1.0653e-04 - val_loss: 0.0020 - val_mae: 0.0335 - val_mape: 4.9487 - val_mse: 0.0020\n",
      "Epoch 23/50\n",
      "\u001b[1m90/90\u001b[0m \u001b[32m━━━━━━━━━━━━━━━━━━━━\u001b[0m\u001b[37m\u001b[0m \u001b[1m0s\u001b[0m 2ms/step - loss: 9.9270e-05 - mae: 0.0076 - mape: 35806.9961 - mse: 9.9270e-05 - val_loss: 0.0020 - val_mae: 0.0331 - val_mape: 4.8980 - val_mse: 0.0020\n",
      "Epoch 24/50\n",
      "\u001b[1m90/90\u001b[0m \u001b[32m━━━━━━━━━━━━━━━━━━━━\u001b[0m\u001b[37m\u001b[0m \u001b[1m0s\u001b[0m 2ms/step - loss: 1.0644e-04 - mae: 0.0077 - mape: 16085.8584 - mse: 1.0644e-04 - val_loss: 0.0020 - val_mae: 0.0332 - val_mape: 4.8949 - val_mse: 0.0020\n",
      "Epoch 25/50\n",
      "\u001b[1m90/90\u001b[0m \u001b[32m━━━━━━━━━━━━━━━━━━━━\u001b[0m\u001b[37m\u001b[0m \u001b[1m0s\u001b[0m 2ms/step - loss: 1.0334e-04 - mae: 0.0074 - mape: 8249.3311 - mse: 1.0334e-04 - val_loss: 0.0021 - val_mae: 0.0342 - val_mape: 5.0516 - val_mse: 0.0021\n",
      "Epoch 26/50\n",
      "\u001b[1m90/90\u001b[0m \u001b[32m━━━━━━━━━━━━━━━━━━━━\u001b[0m\u001b[37m\u001b[0m \u001b[1m0s\u001b[0m 2ms/step - loss: 1.0582e-04 - mae: 0.0076 - mape: 5567.1943 - mse: 1.0582e-04 - val_loss: 0.0018 - val_mae: 0.0320 - val_mape: 4.7319 - val_mse: 0.0018\n",
      "Epoch 27/50\n",
      "\u001b[1m90/90\u001b[0m \u001b[32m━━━━━━━━━━━━━━━━━━━━\u001b[0m\u001b[37m\u001b[0m \u001b[1m0s\u001b[0m 2ms/step - loss: 9.6209e-05 - mae: 0.0074 - mape: 8609.1621 - mse: 9.6209e-05 - val_loss: 0.0020 - val_mae: 0.0338 - val_mape: 4.9793 - val_mse: 0.0020\n",
      "Epoch 28/50\n",
      "\u001b[1m90/90\u001b[0m \u001b[32m━━━━━━━━━━━━━━━━━━━━\u001b[0m\u001b[37m\u001b[0m \u001b[1m0s\u001b[0m 2ms/step - loss: 9.7426e-05 - mae: 0.0072 - mape: 1106.0200 - mse: 9.7426e-05 - val_loss: 0.0016 - val_mae: 0.0293 - val_mape: 4.3725 - val_mse: 0.0016\n",
      "Epoch 29/50\n",
      "\u001b[1m90/90\u001b[0m \u001b[32m━━━━━━━━━━━━━━━━━━━━\u001b[0m\u001b[37m\u001b[0m \u001b[1m0s\u001b[0m 2ms/step - loss: 9.5817e-05 - mae: 0.0073 - mape: 7423.2959 - mse: 9.5817e-05 - val_loss: 0.0020 - val_mae: 0.0333 - val_mape: 4.9273 - val_mse: 0.0020\n",
      "Epoch 30/50\n",
      "\u001b[1m90/90\u001b[0m \u001b[32m━━━━━━━━━━━━━━━━━━━━\u001b[0m\u001b[37m\u001b[0m \u001b[1m0s\u001b[0m 2ms/step - loss: 9.7146e-05 - mae: 0.0074 - mape: 12720.5898 - mse: 9.7146e-05 - val_loss: 0.0019 - val_mae: 0.0325 - val_mape: 4.7858 - val_mse: 0.0019\n",
      "Epoch 31/50\n",
      "\u001b[1m90/90\u001b[0m \u001b[32m━━━━━━━━━━━━━━━━━━━━\u001b[0m\u001b[37m\u001b[0m \u001b[1m0s\u001b[0m 2ms/step - loss: 9.7709e-05 - mae: 0.0073 - mape: 5842.5547 - mse: 9.7709e-05 - val_loss: 0.0019 - val_mae: 0.0321 - val_mape: 4.7269 - val_mse: 0.0019\n",
      "Epoch 32/50\n",
      "\u001b[1m90/90\u001b[0m \u001b[32m━━━━━━━━━━━━━━━━━━━━\u001b[0m\u001b[37m\u001b[0m \u001b[1m0s\u001b[0m 2ms/step - loss: 9.3316e-05 - mae: 0.0071 - mape: 2820.9209 - mse: 9.3316e-05 - val_loss: 0.0018 - val_mae: 0.0310 - val_mape: 4.5946 - val_mse: 0.0018\n",
      "Epoch 33/50\n",
      "\u001b[1m90/90\u001b[0m \u001b[32m━━━━━━━━━━━━━━━━━━━━\u001b[0m\u001b[37m\u001b[0m \u001b[1m0s\u001b[0m 2ms/step - loss: 1.0065e-04 - mae: 0.0070 - mape: 2871.1135 - mse: 1.0065e-04 - val_loss: 0.0020 - val_mae: 0.0333 - val_mape: 4.9280 - val_mse: 0.0020\n",
      "Epoch 34/50\n",
      "\u001b[1m90/90\u001b[0m \u001b[32m━━━━━━━━━━━━━━━━━━━━\u001b[0m\u001b[37m\u001b[0m \u001b[1m0s\u001b[0m 2ms/step - loss: 9.0823e-05 - mae: 0.0072 - mape: 7600.4692 - mse: 9.0823e-05 - val_loss: 0.0016 - val_mae: 0.0292 - val_mape: 4.3492 - val_mse: 0.0016\n",
      "Epoch 35/50\n",
      "\u001b[1m90/90\u001b[0m \u001b[32m━━━━━━━━━━━━━━━━━━━━\u001b[0m\u001b[37m\u001b[0m \u001b[1m0s\u001b[0m 2ms/step - loss: 1.0097e-04 - mae: 0.0073 - mape: 6526.7026 - mse: 1.0097e-04 - val_loss: 0.0016 - val_mae: 0.0295 - val_mape: 4.3852 - val_mse: 0.0016\n",
      "Epoch 36/50\n",
      "\u001b[1m90/90\u001b[0m \u001b[32m━━━━━━━━━━━━━━━━━━━━\u001b[0m\u001b[37m\u001b[0m \u001b[1m0s\u001b[0m 2ms/step - loss: 8.2544e-05 - mae: 0.0069 - mape: 11135.4922 - mse: 8.2544e-05 - val_loss: 0.0020 - val_mae: 0.0331 - val_mape: 4.8912 - val_mse: 0.0020\n",
      "Epoch 37/50\n",
      "\u001b[1m90/90\u001b[0m \u001b[32m━━━━━━━━━━━━━━━━━━━━\u001b[0m\u001b[37m\u001b[0m \u001b[1m0s\u001b[0m 2ms/step - loss: 1.0139e-04 - mae: 0.0074 - mape: 1119.3274 - mse: 1.0139e-04 - val_loss: 0.0016 - val_mae: 0.0295 - val_mape: 4.3866 - val_mse: 0.0016\n",
      "Epoch 38/50\n",
      "\u001b[1m90/90\u001b[0m \u001b[32m━━━━━━━━━━━━━━━━━━━━\u001b[0m\u001b[37m\u001b[0m \u001b[1m0s\u001b[0m 2ms/step - loss: 9.1046e-05 - mae: 0.0072 - mape: 4214.0190 - mse: 9.1046e-05 - val_loss: 0.0019 - val_mae: 0.0328 - val_mape: 4.8543 - val_mse: 0.0019\n",
      "Epoch 39/50\n",
      "\u001b[1m90/90\u001b[0m \u001b[32m━━━━━━━━━━━━━━━━━━━━\u001b[0m\u001b[37m\u001b[0m \u001b[1m0s\u001b[0m 2ms/step - loss: 8.9873e-05 - mae: 0.0070 - mape: 16654.7188 - mse: 8.9873e-05 - val_loss: 0.0017 - val_mae: 0.0308 - val_mape: 4.5540 - val_mse: 0.0017\n",
      "Epoch 40/50\n",
      "\u001b[1m90/90\u001b[0m \u001b[32m━━━━━━━━━━━━━━━━━━━━\u001b[0m\u001b[37m\u001b[0m \u001b[1m0s\u001b[0m 2ms/step - loss: 9.5500e-05 - mae: 0.0072 - mape: 7921.9258 - mse: 9.5500e-05 - val_loss: 0.0018 - val_mae: 0.0317 - val_mape: 4.6736 - val_mse: 0.0018\n",
      "Epoch 41/50\n",
      "\u001b[1m90/90\u001b[0m \u001b[32m━━━━━━━━━━━━━━━━━━━━\u001b[0m\u001b[37m\u001b[0m \u001b[1m0s\u001b[0m 2ms/step - loss: 8.5754e-05 - mae: 0.0068 - mape: 1030.2697 - mse: 8.5754e-05 - val_loss: 0.0019 - val_mae: 0.0324 - val_mape: 4.8125 - val_mse: 0.0019\n",
      "Epoch 42/50\n",
      "\u001b[1m90/90\u001b[0m \u001b[32m━━━━━━━━━━━━━━━━━━━━\u001b[0m\u001b[37m\u001b[0m \u001b[1m0s\u001b[0m 2ms/step - loss: 9.2632e-05 - mae: 0.0071 - mape: 15172.6523 - mse: 9.2632e-05 - val_loss: 0.0012 - val_mae: 0.0257 - val_mape: 3.8932 - val_mse: 0.0012\n",
      "Epoch 43/50\n",
      "\u001b[1m90/90\u001b[0m \u001b[32m━━━━━━━━━━━━━━━━━━━━\u001b[0m\u001b[37m\u001b[0m \u001b[1m0s\u001b[0m 2ms/step - loss: 8.4046e-05 - mae: 0.0070 - mape: 6020.1519 - mse: 8.4046e-05 - val_loss: 0.0014 - val_mae: 0.0277 - val_mape: 4.1257 - val_mse: 0.0014\n",
      "Epoch 44/50\n",
      "\u001b[1m90/90\u001b[0m \u001b[32m━━━━━━━━━━━━━━━━━━━━\u001b[0m\u001b[37m\u001b[0m \u001b[1m0s\u001b[0m 2ms/step - loss: 9.9278e-05 - mae: 0.0073 - mape: 310.5731 - mse: 9.9278e-05 - val_loss: 0.0016 - val_mae: 0.0298 - val_mape: 4.4050 - val_mse: 0.0016\n",
      "Epoch 45/50\n",
      "\u001b[1m90/90\u001b[0m \u001b[32m━━━━━━━━━━━━━━━━━━━━\u001b[0m\u001b[37m\u001b[0m \u001b[1m0s\u001b[0m 2ms/step - loss: 9.5589e-05 - mae: 0.0072 - mape: 3170.4441 - mse: 9.5589e-05 - val_loss: 0.0015 - val_mae: 0.0287 - val_mape: 4.2559 - val_mse: 0.0015\n",
      "Epoch 46/50\n",
      "\u001b[1m90/90\u001b[0m \u001b[32m━━━━━━━━━━━━━━━━━━━━\u001b[0m\u001b[37m\u001b[0m \u001b[1m0s\u001b[0m 2ms/step - loss: 1.0695e-04 - mae: 0.0079 - mape: 9341.3740 - mse: 1.0695e-04 - val_loss: 0.0019 - val_mae: 0.0330 - val_mape: 4.8899 - val_mse: 0.0019\n",
      "Epoch 47/50\n",
      "\u001b[1m90/90\u001b[0m \u001b[32m━━━━━━━━━━━━━━━━━━━━\u001b[0m\u001b[37m\u001b[0m \u001b[1m0s\u001b[0m 3ms/step - loss: 8.9576e-05 - mae: 0.0069 - mape: 6068.5283 - mse: 8.9576e-05 - val_loss: 0.0012 - val_mae: 0.0257 - val_mape: 3.8890 - val_mse: 0.0012\n",
      "Epoch 48/50\n",
      "\u001b[1m90/90\u001b[0m \u001b[32m━━━━━━━━━━━━━━━━━━━━\u001b[0m\u001b[37m\u001b[0m \u001b[1m0s\u001b[0m 2ms/step - loss: 1.0272e-04 - mae: 0.0071 - mape: 9129.3105 - mse: 1.0272e-04 - val_loss: 0.0012 - val_mae: 0.0256 - val_mape: 3.8916 - val_mse: 0.0012\n",
      "Epoch 49/50\n",
      "\u001b[1m90/90\u001b[0m \u001b[32m━━━━━━━━━━━━━━━━━━━━\u001b[0m\u001b[37m\u001b[0m \u001b[1m0s\u001b[0m 2ms/step - loss: 9.2524e-05 - mae: 0.0073 - mape: 2427.4194 - mse: 9.2524e-05 - val_loss: 0.0019 - val_mae: 0.0325 - val_mape: 4.7800 - val_mse: 0.0019\n",
      "Epoch 50/50\n",
      "\u001b[1m90/90\u001b[0m \u001b[32m━━━━━━━━━━━━━━━━━━━━\u001b[0m\u001b[37m\u001b[0m \u001b[1m0s\u001b[0m 2ms/step - loss: 8.3060e-05 - mae: 0.0066 - mape: 4467.6587 - mse: 8.3060e-05 - val_loss: 0.0017 - val_mae: 0.0307 - val_mape: 4.5302 - val_mse: 0.0017\n",
      "\u001b[1m23/23\u001b[0m \u001b[32m━━━━━━━━━━━━━━━━━━━━\u001b[0m\u001b[37m\u001b[0m \u001b[1m0s\u001b[0m 2ms/step \n",
      "model_3: Processando BBDC4 | Combinação 7...\n",
      "Epoch 1/50\n",
      "\u001b[1m88/88\u001b[0m \u001b[32m━━━━━━━━━━━━━━━━━━━━\u001b[0m\u001b[37m\u001b[0m \u001b[1m1s\u001b[0m 4ms/step - loss: 0.2478 - mae: 0.4013 - mape: 2842.7893 - mse: 0.2478 - val_loss: 0.0839 - val_mae: 0.2666 - val_mape: 46.1115 - val_mse: 0.0839\n",
      "Epoch 2/50\n",
      "\u001b[1m88/88\u001b[0m \u001b[32m━━━━━━━━━━━━━━━━━━━━\u001b[0m\u001b[37m\u001b[0m \u001b[1m0s\u001b[0m 2ms/step - loss: 0.0250 - mae: 0.1192 - mape: 145260.3750 - mse: 0.0250 - val_loss: 0.0077 - val_mae: 0.0717 - val_mape: 14.0310 - val_mse: 0.0077\n",
      "Epoch 3/50\n",
      "\u001b[1m88/88\u001b[0m \u001b[32m━━━━━━━━━━━━━━━━━━━━\u001b[0m\u001b[37m\u001b[0m \u001b[1m0s\u001b[0m 2ms/step - loss: 0.0023 - mae: 0.0364 - mape: 966.3224 - mse: 0.0023 - val_loss: 0.0048 - val_mae: 0.0559 - val_mape: 10.8764 - val_mse: 0.0048\n",
      "Epoch 4/50\n",
      "\u001b[1m88/88\u001b[0m \u001b[32m━━━━━━━━━━━━━━━━━━━━\u001b[0m\u001b[37m\u001b[0m \u001b[1m0s\u001b[0m 2ms/step - loss: 0.0014 - mae: 0.0271 - mape: 25273.6465 - mse: 0.0014 - val_loss: 0.0040 - val_mae: 0.0506 - val_mape: 9.7926 - val_mse: 0.0040\n",
      "Epoch 5/50\n",
      "\u001b[1m88/88\u001b[0m \u001b[32m━━━━━━━━━━━━━━━━━━━━\u001b[0m\u001b[37m\u001b[0m \u001b[1m0s\u001b[0m 2ms/step - loss: 0.0012 - mae: 0.0232 - mape: 5428.2725 - mse: 0.0012 - val_loss: 0.0031 - val_mae: 0.0448 - val_mape: 8.7142 - val_mse: 0.0031\n",
      "Epoch 6/50\n",
      "\u001b[1m88/88\u001b[0m \u001b[32m━━━━━━━━━━━━━━━━━━━━\u001b[0m\u001b[37m\u001b[0m \u001b[1m0s\u001b[0m 2ms/step - loss: 8.4661e-04 - mae: 0.0210 - mape: 11754.2480 - mse: 8.4661e-04 - val_loss: 0.0025 - val_mae: 0.0399 - val_mape: 7.7706 - val_mse: 0.0025\n",
      "Epoch 7/50\n",
      "\u001b[1m88/88\u001b[0m \u001b[32m━━━━━━━━━━━━━━━━━━━━\u001b[0m\u001b[37m\u001b[0m \u001b[1m0s\u001b[0m 2ms/step - loss: 7.9553e-04 - mae: 0.0201 - mape: 12995.2871 - mse: 7.9553e-04 - val_loss: 0.0022 - val_mae: 0.0374 - val_mape: 7.3263 - val_mse: 0.0022\n",
      "Epoch 8/50\n",
      "\u001b[1m88/88\u001b[0m \u001b[32m━━━━━━━━━━━━━━━━━━━━\u001b[0m\u001b[37m\u001b[0m \u001b[1m0s\u001b[0m 3ms/step - loss: 6.8062e-04 - mae: 0.0186 - mape: 2842.3608 - mse: 6.8062e-04 - val_loss: 0.0018 - val_mae: 0.0338 - val_mape: 6.6073 - val_mse: 0.0018\n",
      "Epoch 9/50\n",
      "\u001b[1m88/88\u001b[0m \u001b[32m━━━━━━━━━━━━━━━━━━━━\u001b[0m\u001b[37m\u001b[0m \u001b[1m0s\u001b[0m 2ms/step - loss: 7.3557e-04 - mae: 0.0183 - mape: 1146.8998 - mse: 7.3557e-04 - val_loss: 0.0016 - val_mae: 0.0318 - val_mape: 6.2291 - val_mse: 0.0016\n",
      "Epoch 10/50\n",
      "\u001b[1m88/88\u001b[0m \u001b[32m━━━━━━━━━━━━━━━━━━━━\u001b[0m\u001b[37m\u001b[0m \u001b[1m0s\u001b[0m 2ms/step - loss: 6.1013e-04 - mae: 0.0174 - mape: 12972.2393 - mse: 6.1013e-04 - val_loss: 0.0015 - val_mae: 0.0300 - val_mape: 5.9352 - val_mse: 0.0015\n",
      "Epoch 11/50\n",
      "\u001b[1m88/88\u001b[0m \u001b[32m━━━━━━━━━━━━━━━━━━━━\u001b[0m\u001b[37m\u001b[0m \u001b[1m0s\u001b[0m 2ms/step - loss: 5.8947e-04 - mae: 0.0163 - mape: 8087.1992 - mse: 5.8947e-04 - val_loss: 0.0012 - val_mae: 0.0266 - val_mape: 5.2611 - val_mse: 0.0012\n",
      "Epoch 12/50\n",
      "\u001b[1m88/88\u001b[0m \u001b[32m━━━━━━━━━━━━━━━━━━━━\u001b[0m\u001b[37m\u001b[0m \u001b[1m0s\u001b[0m 2ms/step - loss: 6.9826e-04 - mae: 0.0171 - mape: 3243.8582 - mse: 6.9826e-04 - val_loss: 0.0011 - val_mae: 0.0252 - val_mape: 4.9839 - val_mse: 0.0011\n",
      "Epoch 13/50\n",
      "\u001b[1m88/88\u001b[0m \u001b[32m━━━━━━━━━━━━━━━━━━━━\u001b[0m\u001b[37m\u001b[0m \u001b[1m0s\u001b[0m 2ms/step - loss: 4.7261e-04 - mae: 0.0153 - mape: 6408.3809 - mse: 4.7261e-04 - val_loss: 0.0011 - val_mae: 0.0248 - val_mape: 4.9145 - val_mse: 0.0011\n",
      "Epoch 14/50\n",
      "\u001b[1m88/88\u001b[0m \u001b[32m━━━━━━━━━━━━━━━━━━━━\u001b[0m\u001b[37m\u001b[0m \u001b[1m0s\u001b[0m 2ms/step - loss: 4.9580e-04 - mae: 0.0155 - mape: 18791.6113 - mse: 4.9580e-04 - val_loss: 0.0010 - val_mae: 0.0241 - val_mape: 4.7978 - val_mse: 0.0010\n",
      "Epoch 15/50\n",
      "\u001b[1m88/88\u001b[0m \u001b[32m━━━━━━━━━━━━━━━━━━━━\u001b[0m\u001b[37m\u001b[0m \u001b[1m0s\u001b[0m 2ms/step - loss: 4.4018e-04 - mae: 0.0151 - mape: 2346.9993 - mse: 4.4018e-04 - val_loss: 8.9671e-04 - val_mae: 0.0224 - val_mape: 4.4518 - val_mse: 8.9671e-04\n",
      "Epoch 16/50\n",
      "\u001b[1m88/88\u001b[0m \u001b[32m━━━━━━━━━━━━━━━━━━━━\u001b[0m\u001b[37m\u001b[0m \u001b[1m0s\u001b[0m 2ms/step - loss: 4.5031e-04 - mae: 0.0147 - mape: 2548.5618 - mse: 4.5031e-04 - val_loss: 8.3101e-04 - val_mae: 0.0212 - val_mape: 4.2253 - val_mse: 8.3101e-04\n",
      "Epoch 17/50\n",
      "\u001b[1m88/88\u001b[0m \u001b[32m━━━━━━━━━━━━━━━━━━━━\u001b[0m\u001b[37m\u001b[0m \u001b[1m0s\u001b[0m 2ms/step - loss: 3.8645e-04 - mae: 0.0142 - mape: 10629.0879 - mse: 3.8645e-04 - val_loss: 8.4462e-04 - val_mae: 0.0217 - val_mape: 4.3042 - val_mse: 8.4462e-04\n",
      "Epoch 18/50\n",
      "\u001b[1m88/88\u001b[0m \u001b[32m━━━━━━━━━━━━━━━━━━━━\u001b[0m\u001b[37m\u001b[0m \u001b[1m0s\u001b[0m 2ms/step - loss: 4.5754e-04 - mae: 0.0152 - mape: 12985.4844 - mse: 4.5754e-04 - val_loss: 7.8853e-04 - val_mae: 0.0207 - val_mape: 4.1205 - val_mse: 7.8853e-04\n",
      "Epoch 19/50\n",
      "\u001b[1m88/88\u001b[0m \u001b[32m━━━━━━━━━━━━━━━━━━━━\u001b[0m\u001b[37m\u001b[0m \u001b[1m0s\u001b[0m 2ms/step - loss: 4.2746e-04 - mae: 0.0143 - mape: 10819.9248 - mse: 4.2746e-04 - val_loss: 7.7520e-04 - val_mae: 0.0201 - val_mape: 4.0170 - val_mse: 7.7520e-04\n",
      "Epoch 20/50\n",
      "\u001b[1m88/88\u001b[0m \u001b[32m━━━━━━━━━━━━━━━━━━━━\u001b[0m\u001b[37m\u001b[0m \u001b[1m0s\u001b[0m 2ms/step - loss: 4.1105e-04 - mae: 0.0141 - mape: 10287.4092 - mse: 4.1105e-04 - val_loss: 7.8031e-04 - val_mae: 0.0200 - val_mape: 4.0032 - val_mse: 7.8031e-04\n",
      "Epoch 21/50\n",
      "\u001b[1m88/88\u001b[0m \u001b[32m━━━━━━━━━━━━━━━━━━━━\u001b[0m\u001b[37m\u001b[0m \u001b[1m0s\u001b[0m 2ms/step - loss: 3.7554e-04 - mae: 0.0138 - mape: 343.6517 - mse: 3.7554e-04 - val_loss: 7.4680e-04 - val_mae: 0.0197 - val_mape: 3.9398 - val_mse: 7.4680e-04\n",
      "Epoch 22/50\n",
      "\u001b[1m88/88\u001b[0m \u001b[32m━━━━━━━━━━━━━━━━━━━━\u001b[0m\u001b[37m\u001b[0m \u001b[1m0s\u001b[0m 2ms/step - loss: 3.9991e-04 - mae: 0.0137 - mape: 4882.9185 - mse: 3.9991e-04 - val_loss: 8.2955e-04 - val_mae: 0.0209 - val_mape: 4.1562 - val_mse: 8.2955e-04\n",
      "Epoch 23/50\n",
      "\u001b[1m88/88\u001b[0m \u001b[32m━━━━━━━━━━━━━━━━━━━━\u001b[0m\u001b[37m\u001b[0m \u001b[1m0s\u001b[0m 2ms/step - loss: 4.0906e-04 - mae: 0.0140 - mape: 1775.7886 - mse: 4.0906e-04 - val_loss: 7.9948e-04 - val_mae: 0.0205 - val_mape: 4.0976 - val_mse: 7.9948e-04\n",
      "Epoch 24/50\n",
      "\u001b[1m88/88\u001b[0m \u001b[32m━━━━━━━━━━━━━━━━━━━━\u001b[0m\u001b[37m\u001b[0m \u001b[1m0s\u001b[0m 2ms/step - loss: 4.3445e-04 - mae: 0.0139 - mape: 710.4329 - mse: 4.3445e-04 - val_loss: 8.0742e-04 - val_mae: 0.0217 - val_mape: 4.2299 - val_mse: 8.0742e-04\n",
      "Epoch 25/50\n",
      "\u001b[1m88/88\u001b[0m \u001b[32m━━━━━━━━━━━━━━━━━━━━\u001b[0m\u001b[37m\u001b[0m \u001b[1m0s\u001b[0m 2ms/step - loss: 4.2125e-04 - mae: 0.0145 - mape: 1197.6305 - mse: 4.2125e-04 - val_loss: 6.7376e-04 - val_mae: 0.0188 - val_mape: 3.7378 - val_mse: 6.7376e-04\n",
      "Epoch 26/50\n",
      "\u001b[1m88/88\u001b[0m \u001b[32m━━━━━━━━━━━━━━━━━━━━\u001b[0m\u001b[37m\u001b[0m \u001b[1m0s\u001b[0m 2ms/step - loss: 3.6962e-04 - mae: 0.0136 - mape: 9495.3486 - mse: 3.6962e-04 - val_loss: 6.9958e-04 - val_mae: 0.0190 - val_mape: 3.7923 - val_mse: 6.9958e-04\n",
      "Epoch 27/50\n",
      "\u001b[1m88/88\u001b[0m \u001b[32m━━━━━━━━━━━━━━━━━━━━\u001b[0m\u001b[37m\u001b[0m \u001b[1m0s\u001b[0m 2ms/step - loss: 5.0559e-04 - mae: 0.0144 - mape: 5144.7192 - mse: 5.0559e-04 - val_loss: 6.8193e-04 - val_mae: 0.0190 - val_mape: 3.7739 - val_mse: 6.8193e-04\n",
      "Epoch 28/50\n",
      "\u001b[1m88/88\u001b[0m \u001b[32m━━━━━━━━━━━━━━━━━━━━\u001b[0m\u001b[37m\u001b[0m \u001b[1m0s\u001b[0m 2ms/step - loss: 3.9508e-04 - mae: 0.0139 - mape: 4825.8677 - mse: 3.9508e-04 - val_loss: 6.7181e-04 - val_mae: 0.0186 - val_mape: 3.7183 - val_mse: 6.7181e-04\n",
      "Epoch 29/50\n",
      "\u001b[1m88/88\u001b[0m \u001b[32m━━━━━━━━━━━━━━━━━━━━\u001b[0m\u001b[37m\u001b[0m \u001b[1m0s\u001b[0m 2ms/step - loss: 3.7515e-04 - mae: 0.0134 - mape: 9677.1201 - mse: 3.7515e-04 - val_loss: 6.9893e-04 - val_mae: 0.0190 - val_mape: 3.8013 - val_mse: 6.9893e-04\n",
      "Epoch 30/50\n",
      "\u001b[1m88/88\u001b[0m \u001b[32m━━━━━━━━━━━━━━━━━━━━\u001b[0m\u001b[37m\u001b[0m \u001b[1m0s\u001b[0m 2ms/step - loss: 3.7029e-04 - mae: 0.0133 - mape: 7311.8359 - mse: 3.7029e-04 - val_loss: 8.0350e-04 - val_mae: 0.0210 - val_mape: 4.1979 - val_mse: 8.0350e-04\n",
      "Epoch 31/50\n",
      "\u001b[1m88/88\u001b[0m \u001b[32m━━━━━━━━━━━━━━━━━━━━\u001b[0m\u001b[37m\u001b[0m \u001b[1m0s\u001b[0m 2ms/step - loss: 3.8730e-04 - mae: 0.0144 - mape: 1837.2207 - mse: 3.8730e-04 - val_loss: 6.7059e-04 - val_mae: 0.0187 - val_mape: 3.7355 - val_mse: 6.7059e-04\n",
      "Epoch 32/50\n",
      "\u001b[1m88/88\u001b[0m \u001b[32m━━━━━━━━━━━━━━━━━━━━\u001b[0m\u001b[37m\u001b[0m \u001b[1m0s\u001b[0m 2ms/step - loss: 3.4504e-04 - mae: 0.0133 - mape: 11440.7578 - mse: 3.4504e-04 - val_loss: 6.5015e-04 - val_mae: 0.0185 - val_mape: 3.6866 - val_mse: 6.5015e-04\n",
      "Epoch 33/50\n",
      "\u001b[1m88/88\u001b[0m \u001b[32m━━━━━━━━━━━━━━━━━━━━\u001b[0m\u001b[37m\u001b[0m \u001b[1m0s\u001b[0m 2ms/step - loss: 5.2847e-04 - mae: 0.0141 - mape: 1191.9503 - mse: 5.2847e-04 - val_loss: 6.4360e-04 - val_mae: 0.0184 - val_mape: 3.6568 - val_mse: 6.4360e-04\n",
      "Epoch 34/50\n",
      "\u001b[1m88/88\u001b[0m \u001b[32m━━━━━━━━━━━━━━━━━━━━\u001b[0m\u001b[37m\u001b[0m \u001b[1m0s\u001b[0m 2ms/step - loss: 3.9938e-04 - mae: 0.0134 - mape: 5496.6602 - mse: 3.9938e-04 - val_loss: 6.9942e-04 - val_mae: 0.0192 - val_mape: 3.8112 - val_mse: 6.9942e-04\n",
      "Epoch 35/50\n",
      "\u001b[1m88/88\u001b[0m \u001b[32m━━━━━━━━━━━━━━━━━━━━\u001b[0m\u001b[37m\u001b[0m \u001b[1m0s\u001b[0m 2ms/step - loss: 3.6815e-04 - mae: 0.0133 - mape: 5519.3589 - mse: 3.6815e-04 - val_loss: 6.8224e-04 - val_mae: 0.0195 - val_mape: 3.8237 - val_mse: 6.8224e-04\n",
      "Epoch 36/50\n",
      "\u001b[1m88/88\u001b[0m \u001b[32m━━━━━━━━━━━━━━━━━━━━\u001b[0m\u001b[37m\u001b[0m \u001b[1m0s\u001b[0m 2ms/step - loss: 3.5397e-04 - mae: 0.0136 - mape: 615.3397 - mse: 3.5397e-04 - val_loss: 6.4871e-04 - val_mae: 0.0187 - val_mape: 3.7103 - val_mse: 6.4871e-04\n",
      "Epoch 37/50\n",
      "\u001b[1m88/88\u001b[0m \u001b[32m━━━━━━━━━━━━━━━━━━━━\u001b[0m\u001b[37m\u001b[0m \u001b[1m0s\u001b[0m 2ms/step - loss: 4.3389e-04 - mae: 0.0135 - mape: 2246.0591 - mse: 4.3389e-04 - val_loss: 6.3270e-04 - val_mae: 0.0182 - val_mape: 3.6295 - val_mse: 6.3270e-04\n",
      "Epoch 38/50\n",
      "\u001b[1m88/88\u001b[0m \u001b[32m━━━━━━━━━━━━━━━━━━━━\u001b[0m\u001b[37m\u001b[0m \u001b[1m0s\u001b[0m 3ms/step - loss: 3.4408e-04 - mae: 0.0132 - mape: 29206.7207 - mse: 3.4408e-04 - val_loss: 6.6047e-04 - val_mae: 0.0187 - val_mape: 3.7114 - val_mse: 6.6047e-04\n",
      "Epoch 39/50\n",
      "\u001b[1m88/88\u001b[0m \u001b[32m━━━━━━━━━━━━━━━━━━━━\u001b[0m\u001b[37m\u001b[0m \u001b[1m0s\u001b[0m 2ms/step - loss: 3.4762e-04 - mae: 0.0132 - mape: 867.9286 - mse: 3.4762e-04 - val_loss: 7.0603e-04 - val_mae: 0.0196 - val_mape: 3.8859 - val_mse: 7.0603e-04\n",
      "Epoch 40/50\n",
      "\u001b[1m88/88\u001b[0m \u001b[32m━━━━━━━━━━━━━━━━━━━━\u001b[0m\u001b[37m\u001b[0m \u001b[1m0s\u001b[0m 2ms/step - loss: 4.0351e-04 - mae: 0.0136 - mape: 6213.9683 - mse: 4.0351e-04 - val_loss: 7.1933e-04 - val_mae: 0.0198 - val_mape: 3.9223 - val_mse: 7.1933e-04\n",
      "Epoch 41/50\n",
      "\u001b[1m88/88\u001b[0m \u001b[32m━━━━━━━━━━━━━━━━━━━━\u001b[0m\u001b[37m\u001b[0m \u001b[1m0s\u001b[0m 2ms/step - loss: 3.7394e-04 - mae: 0.0129 - mape: 5198.2690 - mse: 3.7394e-04 - val_loss: 6.0713e-04 - val_mae: 0.0178 - val_mape: 3.5442 - val_mse: 6.0713e-04\n",
      "Epoch 42/50\n",
      "\u001b[1m88/88\u001b[0m \u001b[32m━━━━━━━━━━━━━━━━━━━━\u001b[0m\u001b[37m\u001b[0m \u001b[1m0s\u001b[0m 2ms/step - loss: 5.3325e-04 - mae: 0.0144 - mape: 2277.9841 - mse: 5.3325e-04 - val_loss: 6.2392e-04 - val_mae: 0.0184 - val_mape: 3.6073 - val_mse: 6.2392e-04\n",
      "Epoch 43/50\n",
      "\u001b[1m88/88\u001b[0m \u001b[32m━━━━━━━━━━━━━━━━━━━━\u001b[0m\u001b[37m\u001b[0m \u001b[1m0s\u001b[0m 2ms/step - loss: 3.2650e-04 - mae: 0.0128 - mape: 989.8160 - mse: 3.2650e-04 - val_loss: 6.2192e-04 - val_mae: 0.0183 - val_mape: 3.6161 - val_mse: 6.2192e-04\n",
      "Epoch 44/50\n",
      "\u001b[1m88/88\u001b[0m \u001b[32m━━━━━━━━━━━━━━━━━━━━\u001b[0m\u001b[37m\u001b[0m \u001b[1m0s\u001b[0m 2ms/step - loss: 3.1084e-04 - mae: 0.0126 - mape: 3232.2209 - mse: 3.1084e-04 - val_loss: 9.2055e-04 - val_mae: 0.0234 - val_mape: 4.6543 - val_mse: 9.2055e-04\n",
      "Epoch 45/50\n",
      "\u001b[1m88/88\u001b[0m \u001b[32m━━━━━━━━━━━━━━━━━━━━\u001b[0m\u001b[37m\u001b[0m \u001b[1m0s\u001b[0m 2ms/step - loss: 3.7936e-04 - mae: 0.0139 - mape: 7448.8921 - mse: 3.7936e-04 - val_loss: 6.3679e-04 - val_mae: 0.0188 - val_mape: 3.6957 - val_mse: 6.3679e-04\n",
      "Epoch 46/50\n",
      "\u001b[1m88/88\u001b[0m \u001b[32m━━━━━━━━━━━━━━━━━━━━\u001b[0m\u001b[37m\u001b[0m \u001b[1m0s\u001b[0m 2ms/step - loss: 3.3664e-04 - mae: 0.0122 - mape: 612.1308 - mse: 3.3664e-04 - val_loss: 7.0436e-04 - val_mae: 0.0196 - val_mape: 3.8607 - val_mse: 7.0436e-04\n",
      "Epoch 47/50\n",
      "\u001b[1m88/88\u001b[0m \u001b[32m━━━━━━━━━━━━━━━━━━━━\u001b[0m\u001b[37m\u001b[0m \u001b[1m0s\u001b[0m 2ms/step - loss: 4.1301e-04 - mae: 0.0131 - mape: 1446.6361 - mse: 4.1301e-04 - val_loss: 5.9541e-04 - val_mae: 0.0177 - val_mape: 3.5104 - val_mse: 5.9541e-04\n",
      "Epoch 48/50\n",
      "\u001b[1m88/88\u001b[0m \u001b[32m━━━━━━━━━━━━━━━━━━━━\u001b[0m\u001b[37m\u001b[0m \u001b[1m0s\u001b[0m 2ms/step - loss: 3.5134e-04 - mae: 0.0129 - mape: 1475.2108 - mse: 3.5134e-04 - val_loss: 5.9867e-04 - val_mae: 0.0177 - val_mape: 3.5176 - val_mse: 5.9867e-04\n",
      "Epoch 49/50\n",
      "\u001b[1m88/88\u001b[0m \u001b[32m━━━━━━━━━━━━━━━━━━━━\u001b[0m\u001b[37m\u001b[0m \u001b[1m0s\u001b[0m 2ms/step - loss: 4.4076e-04 - mae: 0.0131 - mape: 184.3636 - mse: 4.4076e-04 - val_loss: 6.3173e-04 - val_mae: 0.0183 - val_mape: 3.6220 - val_mse: 6.3173e-04\n",
      "Epoch 50/50\n",
      "\u001b[1m88/88\u001b[0m \u001b[32m━━━━━━━━━━━━━━━━━━━━\u001b[0m\u001b[37m\u001b[0m \u001b[1m0s\u001b[0m 2ms/step - loss: 3.5384e-04 - mae: 0.0129 - mape: 10740.8154 - mse: 3.5384e-04 - val_loss: 6.2770e-04 - val_mae: 0.0186 - val_mape: 3.6441 - val_mse: 6.2770e-04\n",
      "\u001b[1m22/22\u001b[0m \u001b[32m━━━━━━━━━━━━━━━━━━━━\u001b[0m\u001b[37m\u001b[0m \u001b[1m0s\u001b[0m 3ms/step \n",
      "model_3: Processando ITUB4 | Combinação 7...\n",
      "Epoch 1/50\n",
      "\u001b[1m90/90\u001b[0m \u001b[32m━━━━━━━━━━━━━━━━━━━━\u001b[0m\u001b[37m\u001b[0m \u001b[1m1s\u001b[0m 3ms/step - loss: 0.0075 - mae: 0.0626 - mape: 20596.7344 - mse: 0.0075 - val_loss: 0.0028 - val_mae: 0.0417 - val_mape: 7.0236 - val_mse: 0.0028\n",
      "Epoch 2/50\n",
      "\u001b[1m90/90\u001b[0m \u001b[32m━━━━━━━━━━━━━━━━━━━━\u001b[0m\u001b[37m\u001b[0m \u001b[1m0s\u001b[0m 2ms/step - loss: 7.6671e-04 - mae: 0.0204 - mape: 22426.2441 - mse: 7.6671e-04 - val_loss: 0.0016 - val_mae: 0.0307 - val_mape: 5.2905 - val_mse: 0.0016\n",
      "Epoch 3/50\n",
      "\u001b[1m90/90\u001b[0m \u001b[32m━━━━━━━━━━━━━━━━━━━━\u001b[0m\u001b[37m\u001b[0m \u001b[1m0s\u001b[0m 2ms/step - loss: 5.2400e-04 - mae: 0.0168 - mape: 16197.5928 - mse: 5.2400e-04 - val_loss: 0.0012 - val_mae: 0.0260 - val_mape: 4.4840 - val_mse: 0.0012\n",
      "Epoch 4/50\n",
      "\u001b[1m90/90\u001b[0m \u001b[32m━━━━━━━━━━━━━━━━━━━━\u001b[0m\u001b[37m\u001b[0m \u001b[1m0s\u001b[0m 2ms/step - loss: 3.8771e-04 - mae: 0.0146 - mape: 36400.5508 - mse: 3.8771e-04 - val_loss: 0.0011 - val_mae: 0.0244 - val_mape: 4.2092 - val_mse: 0.0011\n",
      "Epoch 5/50\n",
      "\u001b[1m90/90\u001b[0m \u001b[32m━━━━━━━━━━━━━━━━━━━━\u001b[0m\u001b[37m\u001b[0m \u001b[1m0s\u001b[0m 2ms/step - loss: 3.5472e-04 - mae: 0.0141 - mape: 24749.3008 - mse: 3.5472e-04 - val_loss: 0.0011 - val_mae: 0.0256 - val_mape: 4.4467 - val_mse: 0.0011\n",
      "Epoch 6/50\n",
      "\u001b[1m90/90\u001b[0m \u001b[32m━━━━━━━━━━━━━━━━━━━━\u001b[0m\u001b[37m\u001b[0m \u001b[1m0s\u001b[0m 3ms/step - loss: 3.4600e-04 - mae: 0.0138 - mape: 6480.7524 - mse: 3.4600e-04 - val_loss: 0.0012 - val_mae: 0.0260 - val_mape: 4.5342 - val_mse: 0.0012\n",
      "Epoch 7/50\n",
      "\u001b[1m90/90\u001b[0m \u001b[32m━━━━━━━━━━━━━━━━━━━━\u001b[0m\u001b[37m\u001b[0m \u001b[1m0s\u001b[0m 2ms/step - loss: 3.0840e-04 - mae: 0.0132 - mape: 50555.0273 - mse: 3.0840e-04 - val_loss: 9.2053e-04 - val_mae: 0.0227 - val_mape: 3.9125 - val_mse: 9.2053e-04\n",
      "Epoch 8/50\n",
      "\u001b[1m90/90\u001b[0m \u001b[32m━━━━━━━━━━━━━━━━━━━━\u001b[0m\u001b[37m\u001b[0m \u001b[1m0s\u001b[0m 2ms/step - loss: 2.7961e-04 - mae: 0.0127 - mape: 53903.1133 - mse: 2.7961e-04 - val_loss: 0.0010 - val_mae: 0.0240 - val_mape: 4.1714 - val_mse: 0.0010\n",
      "Epoch 9/50\n",
      "\u001b[1m90/90\u001b[0m \u001b[32m━━━━━━━━━━━━━━━━━━━━\u001b[0m\u001b[37m\u001b[0m \u001b[1m0s\u001b[0m 2ms/step - loss: 2.8362e-04 - mae: 0.0126 - mape: 22730.3418 - mse: 2.8362e-04 - val_loss: 8.3869e-04 - val_mae: 0.0216 - val_mape: 3.7083 - val_mse: 8.3869e-04\n",
      "Epoch 10/50\n",
      "\u001b[1m90/90\u001b[0m \u001b[32m━━━━━━━━━━━━━━━━━━━━\u001b[0m\u001b[37m\u001b[0m \u001b[1m0s\u001b[0m 2ms/step - loss: 2.8658e-04 - mae: 0.0127 - mape: 50377.7578 - mse: 2.8658e-04 - val_loss: 9.1823e-04 - val_mae: 0.0228 - val_mape: 3.9562 - val_mse: 9.1823e-04\n",
      "Epoch 11/50\n",
      "\u001b[1m90/90\u001b[0m \u001b[32m━━━━━━━━━━━━━━━━━━━━\u001b[0m\u001b[37m\u001b[0m \u001b[1m0s\u001b[0m 2ms/step - loss: 2.9789e-04 - mae: 0.0131 - mape: 57973.6172 - mse: 2.9789e-04 - val_loss: 8.0992e-04 - val_mae: 0.0214 - val_mape: 3.6464 - val_mse: 8.0992e-04\n",
      "Epoch 12/50\n",
      "\u001b[1m90/90\u001b[0m \u001b[32m━━━━━━━━━━━━━━━━━━━━\u001b[0m\u001b[37m\u001b[0m \u001b[1m0s\u001b[0m 2ms/step - loss: 2.8954e-04 - mae: 0.0128 - mape: 97762.8359 - mse: 2.8954e-04 - val_loss: 8.0873e-04 - val_mae: 0.0211 - val_mape: 3.6542 - val_mse: 8.0873e-04\n",
      "Epoch 13/50\n",
      "\u001b[1m90/90\u001b[0m \u001b[32m━━━━━━━━━━━━━━━━━━━━\u001b[0m\u001b[37m\u001b[0m \u001b[1m0s\u001b[0m 2ms/step - loss: 2.5795e-04 - mae: 0.0121 - mape: 96329.6719 - mse: 2.5795e-04 - val_loss: 7.2978e-04 - val_mae: 0.0199 - val_mape: 3.4172 - val_mse: 7.2978e-04\n",
      "Epoch 14/50\n",
      "\u001b[1m90/90\u001b[0m \u001b[32m━━━━━━━━━━━━━━━━━━━━\u001b[0m\u001b[37m\u001b[0m \u001b[1m0s\u001b[0m 2ms/step - loss: 2.4551e-04 - mae: 0.0117 - mape: 28652.0000 - mse: 2.4551e-04 - val_loss: 8.4930e-04 - val_mae: 0.0217 - val_mape: 3.7603 - val_mse: 8.4930e-04\n",
      "Epoch 15/50\n",
      "\u001b[1m90/90\u001b[0m \u001b[32m━━━━━━━━━━━━━━━━━━━━\u001b[0m\u001b[37m\u001b[0m \u001b[1m0s\u001b[0m 2ms/step - loss: 2.5278e-04 - mae: 0.0120 - mape: 16379.5957 - mse: 2.5278e-04 - val_loss: 8.7187e-04 - val_mae: 0.0224 - val_mape: 3.8845 - val_mse: 8.7187e-04\n",
      "Epoch 16/50\n",
      "\u001b[1m90/90\u001b[0m \u001b[32m━━━━━━━━━━━━━━━━━━━━\u001b[0m\u001b[37m\u001b[0m \u001b[1m0s\u001b[0m 2ms/step - loss: 2.4773e-04 - mae: 0.0120 - mape: 106987.0234 - mse: 2.4773e-04 - val_loss: 9.8429e-04 - val_mae: 0.0239 - val_mape: 4.1471 - val_mse: 9.8429e-04\n",
      "Epoch 17/50\n",
      "\u001b[1m90/90\u001b[0m \u001b[32m━━━━━━━━━━━━━━━━━━━━\u001b[0m\u001b[37m\u001b[0m \u001b[1m0s\u001b[0m 2ms/step - loss: 2.5992e-04 - mae: 0.0120 - mape: 42172.9688 - mse: 2.5992e-04 - val_loss: 8.1486e-04 - val_mae: 0.0213 - val_mape: 3.6779 - val_mse: 8.1486e-04\n",
      "Epoch 18/50\n",
      "\u001b[1m90/90\u001b[0m \u001b[32m━━━━━━━━━━━━━━━━━━━━\u001b[0m\u001b[37m\u001b[0m \u001b[1m0s\u001b[0m 2ms/step - loss: 2.5604e-04 - mae: 0.0122 - mape: 775.7617 - mse: 2.5604e-04 - val_loss: 8.3939e-04 - val_mae: 0.0217 - val_mape: 3.7376 - val_mse: 8.3939e-04\n",
      "Epoch 19/50\n",
      "\u001b[1m90/90\u001b[0m \u001b[32m━━━━━━━━━━━━━━━━━━━━\u001b[0m\u001b[37m\u001b[0m \u001b[1m0s\u001b[0m 2ms/step - loss: 2.4427e-04 - mae: 0.0120 - mape: 85856.5469 - mse: 2.4427e-04 - val_loss: 8.5743e-04 - val_mae: 0.0221 - val_mape: 3.8290 - val_mse: 8.5743e-04\n",
      "Epoch 20/50\n",
      "\u001b[1m90/90\u001b[0m \u001b[32m━━━━━━━━━━━━━━━━━━━━\u001b[0m\u001b[37m\u001b[0m \u001b[1m0s\u001b[0m 2ms/step - loss: 2.5772e-04 - mae: 0.0123 - mape: 14481.1650 - mse: 2.5772e-04 - val_loss: 6.5019e-04 - val_mae: 0.0191 - val_mape: 3.2265 - val_mse: 6.5019e-04\n",
      "Epoch 21/50\n",
      "\u001b[1m90/90\u001b[0m \u001b[32m━━━━━━━━━━━━━━━━━━━━\u001b[0m\u001b[37m\u001b[0m \u001b[1m0s\u001b[0m 2ms/step - loss: 2.4375e-04 - mae: 0.0117 - mape: 11279.3545 - mse: 2.4375e-04 - val_loss: 6.5375e-04 - val_mae: 0.0188 - val_mape: 3.2488 - val_mse: 6.5375e-04\n",
      "Epoch 22/50\n",
      "\u001b[1m90/90\u001b[0m \u001b[32m━━━━━━━━━━━━━━━━━━━━\u001b[0m\u001b[37m\u001b[0m \u001b[1m0s\u001b[0m 2ms/step - loss: 2.3518e-04 - mae: 0.0115 - mape: 59316.2109 - mse: 2.3518e-04 - val_loss: 6.0089e-04 - val_mae: 0.0181 - val_mape: 3.0791 - val_mse: 6.0089e-04\n",
      "Epoch 23/50\n",
      "\u001b[1m90/90\u001b[0m \u001b[32m━━━━━━━━━━━━━━━━━━━━\u001b[0m\u001b[37m\u001b[0m \u001b[1m0s\u001b[0m 2ms/step - loss: 2.1676e-04 - mae: 0.0111 - mape: 44460.3711 - mse: 2.1676e-04 - val_loss: 6.0872e-04 - val_mae: 0.0184 - val_mape: 3.1197 - val_mse: 6.0872e-04\n",
      "Epoch 24/50\n",
      "\u001b[1m90/90\u001b[0m \u001b[32m━━━━━━━━━━━━━━━━━━━━\u001b[0m\u001b[37m\u001b[0m \u001b[1m0s\u001b[0m 2ms/step - loss: 2.4109e-04 - mae: 0.0118 - mape: 72284.5625 - mse: 2.4109e-04 - val_loss: 6.7095e-04 - val_mae: 0.0199 - val_mape: 3.3088 - val_mse: 6.7095e-04\n",
      "Epoch 25/50\n",
      "\u001b[1m90/90\u001b[0m \u001b[32m━━━━━━━━━━━━━━━━━━━━\u001b[0m\u001b[37m\u001b[0m \u001b[1m0s\u001b[0m 2ms/step - loss: 2.4332e-04 - mae: 0.0117 - mape: 32270.2891 - mse: 2.4332e-04 - val_loss: 6.3957e-04 - val_mae: 0.0189 - val_mape: 3.2492 - val_mse: 6.3957e-04\n",
      "Epoch 26/50\n",
      "\u001b[1m90/90\u001b[0m \u001b[32m━━━━━━━━━━━━━━━━━━━━\u001b[0m\u001b[37m\u001b[0m \u001b[1m0s\u001b[0m 2ms/step - loss: 2.0545e-04 - mae: 0.0108 - mape: 32365.9727 - mse: 2.0545e-04 - val_loss: 5.8646e-04 - val_mae: 0.0180 - val_mape: 3.0488 - val_mse: 5.8646e-04\n",
      "Epoch 27/50\n",
      "\u001b[1m90/90\u001b[0m \u001b[32m━━━━━━━━━━━━━━━━━━━━\u001b[0m\u001b[37m\u001b[0m \u001b[1m0s\u001b[0m 2ms/step - loss: 2.4343e-04 - mae: 0.0119 - mape: 42225.3984 - mse: 2.4343e-04 - val_loss: 5.5877e-04 - val_mae: 0.0175 - val_mape: 2.9778 - val_mse: 5.5877e-04\n",
      "Epoch 28/50\n",
      "\u001b[1m90/90\u001b[0m \u001b[32m━━━━━━━━━━━━━━━━━━━━\u001b[0m\u001b[37m\u001b[0m \u001b[1m0s\u001b[0m 2ms/step - loss: 2.3922e-04 - mae: 0.0117 - mape: 78302.4531 - mse: 2.3922e-04 - val_loss: 5.6293e-04 - val_mae: 0.0175 - val_mape: 2.9957 - val_mse: 5.6293e-04\n",
      "Epoch 29/50\n",
      "\u001b[1m90/90\u001b[0m \u001b[32m━━━━━━━━━━━━━━━━━━━━\u001b[0m\u001b[37m\u001b[0m \u001b[1m0s\u001b[0m 2ms/step - loss: 2.0347e-04 - mae: 0.0107 - mape: 50246.9609 - mse: 2.0347e-04 - val_loss: 5.5012e-04 - val_mae: 0.0171 - val_mape: 2.8971 - val_mse: 5.5012e-04\n",
      "Epoch 30/50\n",
      "\u001b[1m90/90\u001b[0m \u001b[32m━━━━━━━━━━━━━━━━━━━━\u001b[0m\u001b[37m\u001b[0m \u001b[1m0s\u001b[0m 2ms/step - loss: 2.2813e-04 - mae: 0.0117 - mape: 34494.9766 - mse: 2.2813e-04 - val_loss: 5.4947e-04 - val_mae: 0.0174 - val_mape: 2.9411 - val_mse: 5.4947e-04\n",
      "Epoch 31/50\n",
      "\u001b[1m90/90\u001b[0m \u001b[32m━━━━━━━━━━━━━━━━━━━━\u001b[0m\u001b[37m\u001b[0m \u001b[1m0s\u001b[0m 2ms/step - loss: 2.0170e-04 - mae: 0.0107 - mape: 30553.6699 - mse: 2.0170e-04 - val_loss: 5.8108e-04 - val_mae: 0.0178 - val_mape: 3.0406 - val_mse: 5.8108e-04\n",
      "Epoch 32/50\n",
      "\u001b[1m90/90\u001b[0m \u001b[32m━━━━━━━━━━━━━━━━━━━━\u001b[0m\u001b[37m\u001b[0m \u001b[1m0s\u001b[0m 2ms/step - loss: 2.0577e-04 - mae: 0.0106 - mape: 46893.7930 - mse: 2.0577e-04 - val_loss: 5.8892e-04 - val_mae: 0.0177 - val_mape: 3.0378 - val_mse: 5.8892e-04\n",
      "Epoch 33/50\n",
      "\u001b[1m90/90\u001b[0m \u001b[32m━━━━━━━━━━━━━━━━━━━━\u001b[0m\u001b[37m\u001b[0m \u001b[1m0s\u001b[0m 2ms/step - loss: 1.9906e-04 - mae: 0.0105 - mape: 14989.6006 - mse: 1.9906e-04 - val_loss: 5.4257e-04 - val_mae: 0.0170 - val_mape: 2.9077 - val_mse: 5.4257e-04\n",
      "Epoch 34/50\n",
      "\u001b[1m90/90\u001b[0m \u001b[32m━━━━━━━━━━━━━━━━━━━━\u001b[0m\u001b[37m\u001b[0m \u001b[1m0s\u001b[0m 2ms/step - loss: 2.1113e-04 - mae: 0.0110 - mape: 33827.6172 - mse: 2.1113e-04 - val_loss: 5.2602e-04 - val_mae: 0.0169 - val_mape: 2.8535 - val_mse: 5.2602e-04\n",
      "Epoch 35/50\n",
      "\u001b[1m90/90\u001b[0m \u001b[32m━━━━━━━━━━━━━━━━━━━━\u001b[0m\u001b[37m\u001b[0m \u001b[1m0s\u001b[0m 2ms/step - loss: 2.2653e-04 - mae: 0.0112 - mape: 8370.8721 - mse: 2.2653e-04 - val_loss: 5.1944e-04 - val_mae: 0.0167 - val_mape: 2.8464 - val_mse: 5.1944e-04\n",
      "Epoch 36/50\n",
      "\u001b[1m90/90\u001b[0m \u001b[32m━━━━━━━━━━━━━━━━━━━━\u001b[0m\u001b[37m\u001b[0m \u001b[1m0s\u001b[0m 2ms/step - loss: 1.9189e-04 - mae: 0.0104 - mape: 28026.9082 - mse: 1.9189e-04 - val_loss: 5.8539e-04 - val_mae: 0.0177 - val_mape: 3.0255 - val_mse: 5.8539e-04\n",
      "Epoch 37/50\n",
      "\u001b[1m90/90\u001b[0m \u001b[32m━━━━━━━━━━━━━━━━━━━━\u001b[0m\u001b[37m\u001b[0m \u001b[1m0s\u001b[0m 2ms/step - loss: 2.2211e-04 - mae: 0.0115 - mape: 5316.7925 - mse: 2.2211e-04 - val_loss: 6.8121e-04 - val_mae: 0.0201 - val_mape: 3.3269 - val_mse: 6.8121e-04\n",
      "Epoch 38/50\n",
      "\u001b[1m90/90\u001b[0m \u001b[32m━━━━━━━━━━━━━━━━━━━━\u001b[0m\u001b[37m\u001b[0m \u001b[1m0s\u001b[0m 2ms/step - loss: 2.3979e-04 - mae: 0.0120 - mape: 12377.2754 - mse: 2.3979e-04 - val_loss: 5.5857e-04 - val_mae: 0.0174 - val_mape: 2.9639 - val_mse: 5.5857e-04\n",
      "Epoch 39/50\n",
      "\u001b[1m90/90\u001b[0m \u001b[32m━━━━━━━━━━━━━━━━━━━━\u001b[0m\u001b[37m\u001b[0m \u001b[1m0s\u001b[0m 2ms/step - loss: 2.1632e-04 - mae: 0.0111 - mape: 15291.0664 - mse: 2.1632e-04 - val_loss: 5.4927e-04 - val_mae: 0.0173 - val_mape: 2.9473 - val_mse: 5.4927e-04\n",
      "Epoch 40/50\n",
      "\u001b[1m90/90\u001b[0m \u001b[32m━━━━━━━━━━━━━━━━━━━━\u001b[0m\u001b[37m\u001b[0m \u001b[1m0s\u001b[0m 2ms/step - loss: 1.9255e-04 - mae: 0.0104 - mape: 33614.4961 - mse: 1.9255e-04 - val_loss: 5.0472e-04 - val_mae: 0.0166 - val_mape: 2.8196 - val_mse: 5.0472e-04\n",
      "Epoch 41/50\n",
      "\u001b[1m90/90\u001b[0m \u001b[32m━━━━━━━━━━━━━━━━━━━━\u001b[0m\u001b[37m\u001b[0m \u001b[1m0s\u001b[0m 2ms/step - loss: 1.9488e-04 - mae: 0.0104 - mape: 22776.9883 - mse: 1.9488e-04 - val_loss: 5.1050e-04 - val_mae: 0.0166 - val_mape: 2.8183 - val_mse: 5.1050e-04\n",
      "Epoch 42/50\n",
      "\u001b[1m90/90\u001b[0m \u001b[32m━━━━━━━━━━━━━━━━━━━━\u001b[0m\u001b[37m\u001b[0m \u001b[1m0s\u001b[0m 2ms/step - loss: 1.9122e-04 - mae: 0.0102 - mape: 52265.5586 - mse: 1.9122e-04 - val_loss: 5.0318e-04 - val_mae: 0.0166 - val_mape: 2.7966 - val_mse: 5.0318e-04\n",
      "Epoch 43/50\n",
      "\u001b[1m90/90\u001b[0m \u001b[32m━━━━━━━━━━━━━━━━━━━━\u001b[0m\u001b[37m\u001b[0m \u001b[1m0s\u001b[0m 2ms/step - loss: 2.0149e-04 - mae: 0.0105 - mape: 21990.9473 - mse: 2.0149e-04 - val_loss: 4.9209e-04 - val_mae: 0.0163 - val_mape: 2.7756 - val_mse: 4.9209e-04\n",
      "Epoch 44/50\n",
      "\u001b[1m90/90\u001b[0m \u001b[32m━━━━━━━━━━━━━━━━━━━━\u001b[0m\u001b[37m\u001b[0m \u001b[1m0s\u001b[0m 2ms/step - loss: 1.9056e-04 - mae: 0.0104 - mape: 20359.0137 - mse: 1.9056e-04 - val_loss: 5.2818e-04 - val_mae: 0.0172 - val_mape: 2.9308 - val_mse: 5.2818e-04\n",
      "Epoch 45/50\n",
      "\u001b[1m90/90\u001b[0m \u001b[32m━━━━━━━━━━━━━━━━━━━━\u001b[0m\u001b[37m\u001b[0m \u001b[1m0s\u001b[0m 2ms/step - loss: 1.8032e-04 - mae: 0.0101 - mape: 28373.8613 - mse: 1.8032e-04 - val_loss: 5.0051e-04 - val_mae: 0.0167 - val_mape: 2.8015 - val_mse: 5.0051e-04\n",
      "Epoch 46/50\n",
      "\u001b[1m90/90\u001b[0m \u001b[32m━━━━━━━━━━━━━━━━━━━━\u001b[0m\u001b[37m\u001b[0m \u001b[1m0s\u001b[0m 2ms/step - loss: 2.0282e-04 - mae: 0.0107 - mape: 40875.9727 - mse: 2.0282e-04 - val_loss: 4.8721e-04 - val_mae: 0.0161 - val_mape: 2.7228 - val_mse: 4.8721e-04\n",
      "Epoch 47/50\n",
      "\u001b[1m90/90\u001b[0m \u001b[32m━━━━━━━━━━━━━━━━━━━━\u001b[0m\u001b[37m\u001b[0m \u001b[1m0s\u001b[0m 2ms/step - loss: 1.9033e-04 - mae: 0.0103 - mape: 66187.6328 - mse: 1.9033e-04 - val_loss: 5.0270e-04 - val_mae: 0.0166 - val_mape: 2.8137 - val_mse: 5.0270e-04\n",
      "Epoch 48/50\n",
      "\u001b[1m90/90\u001b[0m \u001b[32m━━━━━━━━━━━━━━━━━━━━\u001b[0m\u001b[37m\u001b[0m \u001b[1m0s\u001b[0m 2ms/step - loss: 2.0226e-04 - mae: 0.0108 - mape: 27790.3340 - mse: 2.0226e-04 - val_loss: 6.0080e-04 - val_mae: 0.0184 - val_mape: 3.1519 - val_mse: 6.0080e-04\n",
      "Epoch 49/50\n",
      "\u001b[1m90/90\u001b[0m \u001b[32m━━━━━━━━━━━━━━━━━━━━\u001b[0m\u001b[37m\u001b[0m \u001b[1m0s\u001b[0m 2ms/step - loss: 2.0639e-04 - mae: 0.0110 - mape: 25444.2930 - mse: 2.0639e-04 - val_loss: 4.8539e-04 - val_mae: 0.0161 - val_mape: 2.7228 - val_mse: 4.8539e-04\n",
      "Epoch 50/50\n",
      "\u001b[1m90/90\u001b[0m \u001b[32m━━━━━━━━━━━━━━━━━━━━\u001b[0m\u001b[37m\u001b[0m \u001b[1m0s\u001b[0m 2ms/step - loss: 1.8628e-04 - mae: 0.0103 - mape: 26026.6523 - mse: 1.8628e-04 - val_loss: 4.7702e-04 - val_mae: 0.0161 - val_mape: 2.7114 - val_mse: 4.7702e-04\n",
      "\u001b[1m23/23\u001b[0m \u001b[32m━━━━━━━━━━━━━━━━━━━━\u001b[0m\u001b[37m\u001b[0m \u001b[1m0s\u001b[0m 2ms/step \n"
     ]
    },
    {
     "name": "stderr",
     "output_type": "stream",
     "text": [
      "Processando combinações: 100%|██████████| 7/7 [04:49<00:00, 41.31s/it]\n"
     ]
    }
   ],
   "source": [
    "# Processando o Modelo 3\n",
    "name_model = model_3\n",
    "results_list = []\n",
    "\n",
    "# Usando tqdm para exibir progresso das 7 combinações\n",
    "for i in tqdm(range(7), desc=\"Processando combinações\"):\n",
    "    results_list.append(process_stocks_and_save_metrics(all_stock_data, i + 1, name_model))\n",
    "\n",
    "# Combina os resultados em um único DataFrame\n",
    "results_model_3 = pd.concat(results_list, ignore_index=True)\n",
    "\n",
    "# Salvar em CSV\n",
    "results_model_3.to_csv(f'{OUTPUT_DIR}/Estudos_IEEE_{name_model.__name__}.csv', sep=';', encoding='utf-8-sig')"
   ]
  },
  {
   "cell_type": "code",
   "execution_count": null,
   "metadata": {},
   "outputs": [
    {
     "name": "stderr",
     "output_type": "stream",
     "text": [
      "Processando combinações:  14%|█▍        | 1/7 [00:00<00:01,  4.73it/s]"
     ]
    },
    {
     "name": "stdout",
     "output_type": "stream",
     "text": [
      "model_4: Processando PETR4 | Combinação 1...\n",
      "model_4: Processando VALE3 | Combinação 1...\n",
      "model_4: Processando BBDC4 | Combinação 1...\n",
      "model_4: Processando ITUB4 | Combinação 1...\n",
      "model_4: Processando PETR4 | Combinação 2...\n",
      "model_4: Processando VALE3 | Combinação 2...\n",
      "model_4: Processando BBDC4 | Combinação 2...\n",
      "model_4: Processando ITUB4 | Combinação 2...\n",
      "model_4: Processando PETR4 | Combinação 3...\n"
     ]
    },
    {
     "name": "stderr",
     "output_type": "stream",
     "text": [
      "Processando combinações: 100%|██████████| 7/7 [00:00<00:00, 18.80it/s]"
     ]
    },
    {
     "name": "stdout",
     "output_type": "stream",
     "text": [
      "model_4: Processando VALE3 | Combinação 3...\n",
      "model_4: Processando BBDC4 | Combinação 3...\n",
      "model_4: Processando ITUB4 | Combinação 3...\n",
      "model_4: Processando PETR4 | Combinação 4...\n",
      "model_4: Processando VALE3 | Combinação 4...\n",
      "model_4: Processando BBDC4 | Combinação 4...\n",
      "model_4: Processando ITUB4 | Combinação 4...\n",
      "model_4: Processando PETR4 | Combinação 5...\n",
      "model_4: Processando VALE3 | Combinação 5...\n",
      "model_4: Processando BBDC4 | Combinação 5...\n",
      "model_4: Processando ITUB4 | Combinação 5...\n",
      "model_4: Processando PETR4 | Combinação 6...\n",
      "model_4: Processando VALE3 | Combinação 6...\n",
      "model_4: Processando BBDC4 | Combinação 6...\n",
      "model_4: Processando ITUB4 | Combinação 6...\n",
      "model_4: Processando PETR4 | Combinação 7...\n",
      "model_4: Processando VALE3 | Combinação 7...\n",
      "model_4: Processando BBDC4 | Combinação 7...\n",
      "model_4: Processando ITUB4 | Combinação 7...\n"
     ]
    },
    {
     "name": "stderr",
     "output_type": "stream",
     "text": [
      "Processando combinações: 100%|██████████| 7/7 [00:00<00:00, 15.89it/s]\n"
     ]
    }
   ],
   "source": [
    "# Processando o Modelo 4 - \n",
    "name_model = model_4\n",
    "results_list = []\n",
    "\n",
    "# Usando tqdm para exibir progresso das 7 combinações\n",
    "for i in tqdm(range(7), desc=\"Processando combinações\"):\n",
    "    results_list.append(process_stocks_and_save_metrics(all_stock_data, i + 1, name_model))\n",
    "\n",
    "# Combina os resultados em um único DataFrame\n",
    "results_model_4 = pd.concat(results_list, ignore_index=True)\n",
    "\n",
    "# Salvar em CSV\n",
    "results_model_4.to_csv(f'{OUTPUT_DIR}/Estudos_IEEE_{name_model.__name__}.csv', sep=';', encoding='utf-8-sig')"
   ]
  },
  {
   "cell_type": "code",
   "execution_count": null,
   "metadata": {},
   "outputs": [],
   "source": [
    ".csv', sep=';', encoding='utf-8-sig')"
   ]
  },
  {
   "cell_type": "markdown",
   "metadata": {},
   "source": [
    "# 2. Carregando os Resultados Salvos"
   ]
  },
  {
   "cell_type": "code",
   "execution_count": 5,
   "metadata": {},
   "outputs": [
    {
     "name": "stdout",
     "output_type": "stream",
     "text": [
      "Carregado: output\\Estudos_IEEE_model_1.csv\n",
      "Carregado: output\\Estudos_IEEE_model_2.csv\n",
      "Carregado: output\\Estudos_IEEE_model_3.csv\n",
      "Carregado: output\\Estudos_IEEE_model_4.csv\n",
      "\n",
      "Modelos carregados com sucesso:\n",
      "- Estudos_IEEE_model_1\n",
      "- Estudos_IEEE_model_2\n",
      "- Estudos_IEEE_model_3\n",
      "- Estudos_IEEE_model_4\n"
     ]
    }
   ],
   "source": [
    "# Carregando da pasta 'results' todos os resultados\n",
    "dir = 'output'\n",
    "resultados = carregar_todos_resultados(dir) # salvar em um dicionário"
   ]
  },
  {
   "cell_type": "code",
   "execution_count": 6,
   "metadata": {},
   "outputs": [],
   "source": [
    "resultados_concatenados = pd.concat(list(resultados.values()), ignore_index=True) # concatenar todos os resultados"
   ]
  },
  {
   "cell_type": "code",
   "execution_count": null,
   "metadata": {},
   "outputs": [],
   "source": [
    "# Salvar em CSV todos os resultados\n",
    "resultados_concatenados.to_csv(f'{OUTPUT_DIR}/Estudos_IEEE_todos_Modelos.csv', sep=';', encoding='utf-8-sig')\n"
   ]
  },
  {
   "cell_type": "code",
   "execution_count": null,
   "metadata": {},
   "outputs": [
    {
     "data": {
      "application/vnd.plotly.v1+json": {
       "config": {
        "plotlyServerURL": "https://plot.ly"
       },
       "data": [
        {
         "hovertemplate": "Descrição=Stock Data<br>Model=model_1<br>Stock=%{x}<br>RMSE=%{y}<extra></extra>",
         "legendgroup": "Stock Data",
         "line": {
          "color": "#636efa",
          "dash": "solid"
         },
         "marker": {
          "symbol": "circle"
         },
         "mode": "lines+markers",
         "name": "Stock Data",
         "orientation": "v",
         "showlegend": true,
         "type": "scatter",
         "x": [
          "PETR4",
          "VALE3",
          "BBDC4",
          "ITUB4"
         ],
         "xaxis": "x",
         "y": {
          "bdata": "7XGDyv9Bkj+T7LQfKC+VP5/5PNGgkZc/nhAyJ/s9lT8=",
          "dtype": "f8"
         },
         "yaxis": "y"
        },
        {
         "hovertemplate": "Descrição=Stock Data<br>Model=model_2<br>Stock=%{x}<br>RMSE=%{y}<extra></extra>",
         "legendgroup": "Stock Data",
         "line": {
          "color": "#636efa",
          "dash": "solid"
         },
         "marker": {
          "symbol": "circle"
         },
         "mode": "lines+markers",
         "name": "Stock Data",
         "orientation": "v",
         "showlegend": false,
         "type": "scatter",
         "x": [
          "PETR4",
          "VALE3",
          "BBDC4",
          "ITUB4"
         ],
         "xaxis": "x2",
         "y": {
          "bdata": "KIt0dkITkj8sEmkXMfWSP4PxQPYBqJY/7ERc8ulklD8=",
          "dtype": "f8"
         },
         "yaxis": "y2"
        },
        {
         "hovertemplate": "Descrição=Stock Data<br>Model=model_3<br>Stock=%{x}<br>RMSE=%{y}<extra></extra>",
         "legendgroup": "Stock Data",
         "line": {
          "color": "#636efa",
          "dash": "solid"
         },
         "marker": {
          "symbol": "circle"
         },
         "mode": "lines+markers",
         "name": "Stock Data",
         "orientation": "v",
         "showlegend": false,
         "type": "scatter",
         "x": [
          "PETR4",
          "VALE3",
          "BBDC4",
          "ITUB4"
         ],
         "xaxis": "x3",
         "y": {
          "bdata": "GLoMH0b/kD+9z+ssIYiRP0cPhrYh05Y/toxA9XDnkz8=",
          "dtype": "f8"
         },
         "yaxis": "y3"
        },
        {
         "hovertemplate": "Descrição=Stock Data<br>Model=model_4<br>Stock=%{x}<br>RMSE=%{y}<extra></extra>",
         "legendgroup": "Stock Data",
         "line": {
          "color": "#636efa",
          "dash": "solid"
         },
         "marker": {
          "symbol": "circle"
         },
         "mode": "lines+markers",
         "name": "Stock Data",
         "orientation": "v",
         "showlegend": false,
         "type": "scatter",
         "x": [
          "PETR4",
          "VALE3",
          "BBDC4",
          "ITUB4"
         ],
         "xaxis": "x4",
         "y": {
          "bdata": "r15Yt5/akD/iBvnkK1zRP0yXeR/Mg5Y//7sjKQSDkz8=",
          "dtype": "f8"
         },
         "yaxis": "y4"
        },
        {
         "hovertemplate": "Descrição=Stock Data + Google News<br>Model=model_1<br>Stock=%{x}<br>RMSE=%{y}<extra></extra>",
         "legendgroup": "Stock Data + Google News",
         "line": {
          "color": "#EF553B",
          "dash": "solid"
         },
         "marker": {
          "symbol": "circle"
         },
         "mode": "lines+markers",
         "name": "Stock Data + Google News",
         "orientation": "v",
         "showlegend": true,
         "type": "scatter",
         "x": [
          "PETR4",
          "VALE3",
          "BBDC4",
          "ITUB4"
         ],
         "xaxis": "x",
         "y": {
          "bdata": "tKOr5x8pkj9tPw5dxCuUP0eeZDiwaZc/EwLsRsYxlT8=",
          "dtype": "f8"
         },
         "yaxis": "y"
        },
        {
         "hovertemplate": "Descrição=Stock Data + Google News<br>Model=model_2<br>Stock=%{x}<br>RMSE=%{y}<extra></extra>",
         "legendgroup": "Stock Data + Google News",
         "line": {
          "color": "#EF553B",
          "dash": "solid"
         },
         "marker": {
          "symbol": "circle"
         },
         "mode": "lines+markers",
         "name": "Stock Data + Google News",
         "orientation": "v",
         "showlegend": false,
         "type": "scatter",
         "x": [
          "PETR4",
          "VALE3",
          "BBDC4",
          "ITUB4"
         ],
         "xaxis": "x2",
         "y": {
          "bdata": "VQPNAVkxkj+hzjyh6NuSPzkA4YfXDZc/aaaOy5NrlD8=",
          "dtype": "f8"
         },
         "yaxis": "y2"
        },
        {
         "hovertemplate": "Descrição=Stock Data + Google News<br>Model=model_3<br>Stock=%{x}<br>RMSE=%{y}<extra></extra>",
         "legendgroup": "Stock Data + Google News",
         "line": {
          "color": "#EF553B",
          "dash": "solid"
         },
         "marker": {
          "symbol": "circle"
         },
         "mode": "lines+markers",
         "name": "Stock Data + Google News",
         "orientation": "v",
         "showlegend": false,
         "type": "scatter",
         "x": [
          "PETR4",
          "VALE3",
          "BBDC4",
          "ITUB4"
         ],
         "xaxis": "x3",
         "y": {
          "bdata": "cOTCdbXIkj+FjWckBHihP0xTwvU5lpc/PaePUkivlD8=",
          "dtype": "f8"
         },
         "yaxis": "y3"
        },
        {
         "hovertemplate": "Descrição=Stock Data + Google News<br>Model=model_4<br>Stock=%{x}<br>RMSE=%{y}<extra></extra>",
         "legendgroup": "Stock Data + Google News",
         "line": {
          "color": "#EF553B",
          "dash": "solid"
         },
         "marker": {
          "symbol": "circle"
         },
         "mode": "lines+markers",
         "name": "Stock Data + Google News",
         "orientation": "v",
         "showlegend": false,
         "type": "scatter",
         "x": [
          "PETR4",
          "VALE3",
          "BBDC4",
          "ITUB4"
         ],
         "xaxis": "x4",
         "y": {
          "bdata": "9I2OQLVBoz/0wU1JmavSP4E7bK6LipY/of7iQa3Zsz8=",
          "dtype": "f8"
         },
         "yaxis": "y4"
        },
        {
         "hovertemplate": "Descrição=Stock Data + Twitter<br>Model=model_1<br>Stock=%{x}<br>RMSE=%{y}<extra></extra>",
         "legendgroup": "Stock Data + Twitter",
         "line": {
          "color": "#00cc96",
          "dash": "solid"
         },
         "marker": {
          "symbol": "circle"
         },
         "mode": "lines+markers",
         "name": "Stock Data + Twitter",
         "orientation": "v",
         "showlegend": true,
         "type": "scatter",
         "x": [
          "PETR4",
          "VALE3",
          "BBDC4",
          "ITUB4"
         ],
         "xaxis": "x",
         "y": {
          "bdata": "QexSYE2akj/KXr0YZuqZP1D9r7Mqn5c/gRfe0ORwlD8=",
          "dtype": "f8"
         },
         "yaxis": "y"
        },
        {
         "hovertemplate": "Descrição=Stock Data + Twitter<br>Model=model_2<br>Stock=%{x}<br>RMSE=%{y}<extra></extra>",
         "legendgroup": "Stock Data + Twitter",
         "line": {
          "color": "#00cc96",
          "dash": "solid"
         },
         "marker": {
          "symbol": "circle"
         },
         "mode": "lines+markers",
         "name": "Stock Data + Twitter",
         "orientation": "v",
         "showlegend": false,
         "type": "scatter",
         "x": [
          "PETR4",
          "VALE3",
          "BBDC4",
          "ITUB4"
         ],
         "xaxis": "x2",
         "y": {
          "bdata": "PLJPKzTTkT/9HSxR2U2TP4CQzS1DBZc/UDg6QzR6lD8=",
          "dtype": "f8"
         },
         "yaxis": "y2"
        },
        {
         "hovertemplate": "Descrição=Stock Data + Twitter<br>Model=model_3<br>Stock=%{x}<br>RMSE=%{y}<extra></extra>",
         "legendgroup": "Stock Data + Twitter",
         "line": {
          "color": "#00cc96",
          "dash": "solid"
         },
         "marker": {
          "symbol": "circle"
         },
         "mode": "lines+markers",
         "name": "Stock Data + Twitter",
         "orientation": "v",
         "showlegend": false,
         "type": "scatter",
         "x": [
          "PETR4",
          "VALE3",
          "BBDC4",
          "ITUB4"
         ],
         "xaxis": "x3",
         "y": {
          "bdata": "2LkKRJVXkj85+RlTdtGnP5eeyhRCApc/8S2kotCNlD8=",
          "dtype": "f8"
         },
         "yaxis": "y3"
        },
        {
         "hovertemplate": "Descrição=Stock Data + Twitter<br>Model=model_4<br>Stock=%{x}<br>RMSE=%{y}<extra></extra>",
         "legendgroup": "Stock Data + Twitter",
         "line": {
          "color": "#00cc96",
          "dash": "solid"
         },
         "marker": {
          "symbol": "circle"
         },
         "mode": "lines+markers",
         "name": "Stock Data + Twitter",
         "orientation": "v",
         "showlegend": false,
         "type": "scatter",
         "x": [
          "PETR4",
          "VALE3",
          "BBDC4",
          "ITUB4"
         ],
         "xaxis": "x4",
         "y": {
          "bdata": "TDNRZPPjkD9oLwqsCYbRP0C4/Gkm8aY/UfjLsU/AmD8=",
          "dtype": "f8"
         },
         "yaxis": "y4"
        },
        {
         "hovertemplate": "Descrição=Stock Data + IT (IFR + MMS + MME)<br>Model=model_1<br>Stock=%{x}<br>RMSE=%{y}<extra></extra>",
         "legendgroup": "Stock Data + IT (IFR + MMS + MME)",
         "line": {
          "color": "#ab63fa",
          "dash": "solid"
         },
         "marker": {
          "symbol": "circle"
         },
         "mode": "lines+markers",
         "name": "Stock Data + IT (IFR + MMS + MME)",
         "orientation": "v",
         "showlegend": true,
         "type": "scatter",
         "x": [
          "PETR4",
          "VALE3",
          "BBDC4",
          "ITUB4"
         ],
         "xaxis": "x",
         "y": {
          "bdata": "62SJ5xT1kT8hTvBTyDSjP4HCV1GGXZc/f5AkArVklj8=",
          "dtype": "f8"
         },
         "yaxis": "y"
        },
        {
         "hovertemplate": "Descrição=Stock Data + IT (IFR + MMS + MME)<br>Model=model_2<br>Stock=%{x}<br>RMSE=%{y}<extra></extra>",
         "legendgroup": "Stock Data + IT (IFR + MMS + MME)",
         "line": {
          "color": "#ab63fa",
          "dash": "solid"
         },
         "marker": {
          "symbol": "circle"
         },
         "mode": "lines+markers",
         "name": "Stock Data + IT (IFR + MMS + MME)",
         "orientation": "v",
         "showlegend": false,
         "type": "scatter",
         "x": [
          "PETR4",
          "VALE3",
          "BBDC4",
          "ITUB4"
         ],
         "xaxis": "x2",
         "y": {
          "bdata": "CrzgMFxtkT/0Dq8wmlqVP/Rzc/DYApc/LZ6l4TUflD8=",
          "dtype": "f8"
         },
         "yaxis": "y2"
        },
        {
         "hovertemplate": "Descrição=Stock Data + IT (IFR + MMS + MME)<br>Model=model_3<br>Stock=%{x}<br>RMSE=%{y}<extra></extra>",
         "legendgroup": "Stock Data + IT (IFR + MMS + MME)",
         "line": {
          "color": "#ab63fa",
          "dash": "solid"
         },
         "marker": {
          "symbol": "circle"
         },
         "mode": "lines+markers",
         "name": "Stock Data + IT (IFR + MMS + MME)",
         "orientation": "v",
         "showlegend": false,
         "type": "scatter",
         "x": [
          "PETR4",
          "VALE3",
          "BBDC4",
          "ITUB4"
         ],
         "xaxis": "x3",
         "y": {
          "bdata": "luUtgATokT+Pg9d5NvuSP9YX+h4L9pY/c9zrD0l5lD8=",
          "dtype": "f8"
         },
         "yaxis": "y3"
        },
        {
         "hovertemplate": "Descrição=Stock Data + IT (IFR + MMS + MME)<br>Model=model_4<br>Stock=%{x}<br>RMSE=%{y}<extra></extra>",
         "legendgroup": "Stock Data + IT (IFR + MMS + MME)",
         "line": {
          "color": "#ab63fa",
          "dash": "solid"
         },
         "marker": {
          "symbol": "circle"
         },
         "mode": "lines+markers",
         "name": "Stock Data + IT (IFR + MMS + MME)",
         "orientation": "v",
         "showlegend": false,
         "type": "scatter",
         "x": [
          "PETR4",
          "VALE3",
          "BBDC4",
          "ITUB4"
         ],
         "xaxis": "x4",
         "y": {
          "bdata": "g6rHVZT2sz/FoFFNvxLLPzWbW0iJgMQ/wUUGPDXbtj8=",
          "dtype": "f8"
         },
         "yaxis": "y4"
        },
        {
         "hovertemplate": "Descrição=Google News + Twitter + IFR + MMS<br>Model=model_1<br>Stock=%{x}<br>RMSE=%{y}<extra></extra>",
         "legendgroup": "Google News + Twitter + IFR + MMS",
         "line": {
          "color": "#FFA15A",
          "dash": "solid"
         },
         "marker": {
          "symbol": "circle"
         },
         "mode": "lines+markers",
         "name": "Google News + Twitter + IFR + MMS",
         "orientation": "v",
         "showlegend": true,
         "type": "scatter",
         "x": [
          "PETR4",
          "VALE3",
          "BBDC4",
          "ITUB4"
         ],
         "xaxis": "x",
         "y": {
          "bdata": "adKtT+51kj/uF31YxzSnPx41GJSUJpg/Gx34pqBmlz8=",
          "dtype": "f8"
         },
         "yaxis": "y"
        },
        {
         "hovertemplate": "Descrição=Google News + Twitter + IFR + MMS<br>Model=model_2<br>Stock=%{x}<br>RMSE=%{y}<extra></extra>",
         "legendgroup": "Google News + Twitter + IFR + MMS",
         "line": {
          "color": "#FFA15A",
          "dash": "solid"
         },
         "marker": {
          "symbol": "circle"
         },
         "mode": "lines+markers",
         "name": "Google News + Twitter + IFR + MMS",
         "orientation": "v",
         "showlegend": false,
         "type": "scatter",
         "x": [
          "PETR4",
          "VALE3",
          "BBDC4",
          "ITUB4"
         ],
         "xaxis": "x2",
         "y": {
          "bdata": "PfSfzQ2akT/J78OJ9TWWPyuSrcnuApc/Nn3pJeDGlD8=",
          "dtype": "f8"
         },
         "yaxis": "y2"
        },
        {
         "hovertemplate": "Descrição=Google News + Twitter + IFR + MMS<br>Model=model_3<br>Stock=%{x}<br>RMSE=%{y}<extra></extra>",
         "legendgroup": "Google News + Twitter + IFR + MMS",
         "line": {
          "color": "#FFA15A",
          "dash": "solid"
         },
         "marker": {
          "symbol": "circle"
         },
         "mode": "lines+markers",
         "name": "Google News + Twitter + IFR + MMS",
         "orientation": "v",
         "showlegend": false,
         "type": "scatter",
         "x": [
          "PETR4",
          "VALE3",
          "BBDC4",
          "ITUB4"
         ],
         "xaxis": "x3",
         "y": {
          "bdata": "UYfa78CHkj/ZnpqeFWOcP06UlBN/6JY/OaDWUKpMlD8=",
          "dtype": "f8"
         },
         "yaxis": "y3"
        },
        {
         "hovertemplate": "Descrição=Google News + Twitter + IFR + MMS<br>Model=model_4<br>Stock=%{x}<br>RMSE=%{y}<extra></extra>",
         "legendgroup": "Google News + Twitter + IFR + MMS",
         "line": {
          "color": "#FFA15A",
          "dash": "solid"
         },
         "marker": {
          "symbol": "circle"
         },
         "mode": "lines+markers",
         "name": "Google News + Twitter + IFR + MMS",
         "orientation": "v",
         "showlegend": false,
         "type": "scatter",
         "x": [
          "PETR4",
          "VALE3",
          "BBDC4",
          "ITUB4"
         ],
         "xaxis": "x4",
         "y": {
          "bdata": "8u42g/EAsz9ZBMndstfOP1a3bWtvKsc/lsXbXBlqsD8=",
          "dtype": "f8"
         },
         "yaxis": "y4"
        },
        {
         "hovertemplate": "Descrição=Google News + Twitter + IFR + MME<br>Model=model_1<br>Stock=%{x}<br>RMSE=%{y}<extra></extra>",
         "legendgroup": "Google News + Twitter + IFR + MME",
         "line": {
          "color": "#19d3f3",
          "dash": "solid"
         },
         "marker": {
          "symbol": "circle"
         },
         "mode": "lines+markers",
         "name": "Google News + Twitter + IFR + MME",
         "orientation": "v",
         "showlegend": true,
         "type": "scatter",
         "x": [
          "PETR4",
          "VALE3",
          "BBDC4",
          "ITUB4"
         ],
         "xaxis": "x",
         "y": {
          "bdata": "xUNQk/pEkj/mAl9VaiytPx7AqXhA3Jc/yLWegr3Clj8=",
          "dtype": "f8"
         },
         "yaxis": "y"
        },
        {
         "hovertemplate": "Descrição=Google News + Twitter + IFR + MME<br>Model=model_2<br>Stock=%{x}<br>RMSE=%{y}<extra></extra>",
         "legendgroup": "Google News + Twitter + IFR + MME",
         "line": {
          "color": "#19d3f3",
          "dash": "solid"
         },
         "marker": {
          "symbol": "circle"
         },
         "mode": "lines+markers",
         "name": "Google News + Twitter + IFR + MME",
         "orientation": "v",
         "showlegend": false,
         "type": "scatter",
         "x": [
          "PETR4",
          "VALE3",
          "BBDC4",
          "ITUB4"
         ],
         "xaxis": "x2",
         "y": {
          "bdata": "osYaeBSPkT/FBD6r52iWP78xx3Vlapc/Q2uRxk+zlD8=",
          "dtype": "f8"
         },
         "yaxis": "y2"
        },
        {
         "hovertemplate": "Descrição=Google News + Twitter + IFR + MME<br>Model=model_3<br>Stock=%{x}<br>RMSE=%{y}<extra></extra>",
         "legendgroup": "Google News + Twitter + IFR + MME",
         "line": {
          "color": "#19d3f3",
          "dash": "solid"
         },
         "marker": {
          "symbol": "circle"
         },
         "mode": "lines+markers",
         "name": "Google News + Twitter + IFR + MME",
         "orientation": "v",
         "showlegend": false,
         "type": "scatter",
         "x": [
          "PETR4",
          "VALE3",
          "BBDC4",
          "ITUB4"
         ],
         "xaxis": "x3",
         "y": {
          "bdata": "Ogl5H9PkkT8u3ZeDu0SXP6JHDemeWJc/DoKtJzbElD8=",
          "dtype": "f8"
         },
         "yaxis": "y3"
        },
        {
         "hovertemplate": "Descrição=Google News + Twitter + IFR + MME<br>Model=model_4<br>Stock=%{x}<br>RMSE=%{y}<extra></extra>",
         "legendgroup": "Google News + Twitter + IFR + MME",
         "line": {
          "color": "#19d3f3",
          "dash": "solid"
         },
         "marker": {
          "symbol": "circle"
         },
         "mode": "lines+markers",
         "name": "Google News + Twitter + IFR + MME",
         "orientation": "v",
         "showlegend": false,
         "type": "scatter",
         "x": [
          "PETR4",
          "VALE3",
          "BBDC4",
          "ITUB4"
         ],
         "xaxis": "x4",
         "y": {
          "bdata": "Vu+Jp6Firj+0B7g1Lk7QP6W3IPjXIM8/N5HDv14Suj8=",
          "dtype": "f8"
         },
         "yaxis": "y4"
        },
        {
         "hovertemplate": "Descrição=Google News + Twitter + IFR + MME + MMS<br>Model=model_1<br>Stock=%{x}<br>RMSE=%{y}<extra></extra>",
         "legendgroup": "Google News + Twitter + IFR + MME + MMS",
         "line": {
          "color": "#FF6692",
          "dash": "solid"
         },
         "marker": {
          "symbol": "circle"
         },
         "mode": "lines+markers",
         "name": "Google News + Twitter + IFR + MME + MMS",
         "orientation": "v",
         "showlegend": true,
         "type": "scatter",
         "x": [
          "PETR4",
          "VALE3",
          "BBDC4",
          "ITUB4"
         ],
         "xaxis": "x",
         "y": {
          "bdata": "98/lOeSGkz+qrjNVBwuYPxgrGTWy3pc/2v+BVK3Ulj8=",
          "dtype": "f8"
         },
         "yaxis": "y"
        },
        {
         "hovertemplate": "Descrição=Google News + Twitter + IFR + MME + MMS<br>Model=model_2<br>Stock=%{x}<br>RMSE=%{y}<extra></extra>",
         "legendgroup": "Google News + Twitter + IFR + MME + MMS",
         "line": {
          "color": "#FF6692",
          "dash": "solid"
         },
         "marker": {
          "symbol": "circle"
         },
         "mode": "lines+markers",
         "name": "Google News + Twitter + IFR + MME + MMS",
         "orientation": "v",
         "showlegend": false,
         "type": "scatter",
         "x": [
          "PETR4",
          "VALE3",
          "BBDC4",
          "ITUB4"
         ],
         "xaxis": "x2",
         "y": {
          "bdata": "T7j5l4X7kT+zaVOM15yXP9tdmEvwspk/CgGjn9oJlT8=",
          "dtype": "f8"
         },
         "yaxis": "y2"
        },
        {
         "hovertemplate": "Descrição=Google News + Twitter + IFR + MME + MMS<br>Model=model_3<br>Stock=%{x}<br>RMSE=%{y}<extra></extra>",
         "legendgroup": "Google News + Twitter + IFR + MME + MMS",
         "line": {
          "color": "#FF6692",
          "dash": "solid"
         },
         "marker": {
          "symbol": "circle"
         },
         "mode": "lines+markers",
         "name": "Google News + Twitter + IFR + MME + MMS",
         "orientation": "v",
         "showlegend": false,
         "type": "scatter",
         "x": [
          "PETR4",
          "VALE3",
          "BBDC4",
          "ITUB4"
         ],
         "xaxis": "x3",
         "y": {
          "bdata": "vJJH5QXlkT8J/xRuoeShP85cwLGb/Jg/TXz9tmpdlj8=",
          "dtype": "f8"
         },
         "yaxis": "y3"
        },
        {
         "hovertemplate": "Descrição=Google News + Twitter + IFR + MME + MMS<br>Model=model_4<br>Stock=%{x}<br>RMSE=%{y}<extra></extra>",
         "legendgroup": "Google News + Twitter + IFR + MME + MMS",
         "line": {
          "color": "#FF6692",
          "dash": "solid"
         },
         "marker": {
          "symbol": "circle"
         },
         "mode": "lines+markers",
         "name": "Google News + Twitter + IFR + MME + MMS",
         "orientation": "v",
         "showlegend": false,
         "type": "scatter",
         "x": [
          "PETR4",
          "VALE3",
          "BBDC4",
          "ITUB4"
         ],
         "xaxis": "x4",
         "y": {
          "bdata": "xGKmanf5rD8C/1GkQHrQPxuAm2wXucY/u5VitaTTrT8=",
          "dtype": "f8"
         },
         "yaxis": "y4"
        }
       ],
       "layout": {
        "annotations": [
         {
          "font": {
           "size": 16
          },
          "showarrow": false,
          "text": "Model=model_1",
          "x": 0.1175,
          "xanchor": "center",
          "xref": "paper",
          "y": 1,
          "yanchor": "bottom",
          "yref": "paper"
         },
         {
          "font": {
           "size": 16
          },
          "showarrow": false,
          "text": "Model=model_2",
          "x": 0.3725,
          "xanchor": "center",
          "xref": "paper",
          "y": 1,
          "yanchor": "bottom",
          "yref": "paper"
         },
         {
          "font": {
           "size": 16
          },
          "showarrow": false,
          "text": "Model=model_3",
          "x": 0.6275,
          "xanchor": "center",
          "xref": "paper",
          "y": 1,
          "yanchor": "bottom",
          "yref": "paper"
         },
         {
          "font": {
           "size": 16
          },
          "showarrow": false,
          "text": "Model=model_4",
          "x": 0.8824999999999998,
          "xanchor": "center",
          "xref": "paper",
          "y": 1,
          "yanchor": "bottom",
          "yref": "paper"
         }
        ],
        "font": {
         "size": 10
        },
        "height": 600,
        "legend": {
         "font": {
          "size": 16
         },
         "orientation": "h",
         "title": {
          "text": "Descrição"
         },
         "tracegroupgap": 0,
         "x": 0.5,
         "xanchor": "center",
         "y": -0.2,
         "yanchor": "top"
        },
        "margin": {
         "b": 60,
         "l": 20,
         "r": 20,
         "t": 40
        },
        "template": {
         "data": {
          "bar": [
           {
            "error_x": {
             "color": "#2a3f5f"
            },
            "error_y": {
             "color": "#2a3f5f"
            },
            "marker": {
             "line": {
              "color": "#E5ECF6",
              "width": 0.5
             },
             "pattern": {
              "fillmode": "overlay",
              "size": 10,
              "solidity": 0.2
             }
            },
            "type": "bar"
           }
          ],
          "barpolar": [
           {
            "marker": {
             "line": {
              "color": "#E5ECF6",
              "width": 0.5
             },
             "pattern": {
              "fillmode": "overlay",
              "size": 10,
              "solidity": 0.2
             }
            },
            "type": "barpolar"
           }
          ],
          "carpet": [
           {
            "aaxis": {
             "endlinecolor": "#2a3f5f",
             "gridcolor": "white",
             "linecolor": "white",
             "minorgridcolor": "white",
             "startlinecolor": "#2a3f5f"
            },
            "baxis": {
             "endlinecolor": "#2a3f5f",
             "gridcolor": "white",
             "linecolor": "white",
             "minorgridcolor": "white",
             "startlinecolor": "#2a3f5f"
            },
            "type": "carpet"
           }
          ],
          "choropleth": [
           {
            "colorbar": {
             "outlinewidth": 0,
             "ticks": ""
            },
            "type": "choropleth"
           }
          ],
          "contour": [
           {
            "colorbar": {
             "outlinewidth": 0,
             "ticks": ""
            },
            "colorscale": [
             [
              0,
              "#0d0887"
             ],
             [
              0.1111111111111111,
              "#46039f"
             ],
             [
              0.2222222222222222,
              "#7201a8"
             ],
             [
              0.3333333333333333,
              "#9c179e"
             ],
             [
              0.4444444444444444,
              "#bd3786"
             ],
             [
              0.5555555555555556,
              "#d8576b"
             ],
             [
              0.6666666666666666,
              "#ed7953"
             ],
             [
              0.7777777777777778,
              "#fb9f3a"
             ],
             [
              0.8888888888888888,
              "#fdca26"
             ],
             [
              1,
              "#f0f921"
             ]
            ],
            "type": "contour"
           }
          ],
          "contourcarpet": [
           {
            "colorbar": {
             "outlinewidth": 0,
             "ticks": ""
            },
            "type": "contourcarpet"
           }
          ],
          "heatmap": [
           {
            "colorbar": {
             "outlinewidth": 0,
             "ticks": ""
            },
            "colorscale": [
             [
              0,
              "#0d0887"
             ],
             [
              0.1111111111111111,
              "#46039f"
             ],
             [
              0.2222222222222222,
              "#7201a8"
             ],
             [
              0.3333333333333333,
              "#9c179e"
             ],
             [
              0.4444444444444444,
              "#bd3786"
             ],
             [
              0.5555555555555556,
              "#d8576b"
             ],
             [
              0.6666666666666666,
              "#ed7953"
             ],
             [
              0.7777777777777778,
              "#fb9f3a"
             ],
             [
              0.8888888888888888,
              "#fdca26"
             ],
             [
              1,
              "#f0f921"
             ]
            ],
            "type": "heatmap"
           }
          ],
          "histogram": [
           {
            "marker": {
             "pattern": {
              "fillmode": "overlay",
              "size": 10,
              "solidity": 0.2
             }
            },
            "type": "histogram"
           }
          ],
          "histogram2d": [
           {
            "colorbar": {
             "outlinewidth": 0,
             "ticks": ""
            },
            "colorscale": [
             [
              0,
              "#0d0887"
             ],
             [
              0.1111111111111111,
              "#46039f"
             ],
             [
              0.2222222222222222,
              "#7201a8"
             ],
             [
              0.3333333333333333,
              "#9c179e"
             ],
             [
              0.4444444444444444,
              "#bd3786"
             ],
             [
              0.5555555555555556,
              "#d8576b"
             ],
             [
              0.6666666666666666,
              "#ed7953"
             ],
             [
              0.7777777777777778,
              "#fb9f3a"
             ],
             [
              0.8888888888888888,
              "#fdca26"
             ],
             [
              1,
              "#f0f921"
             ]
            ],
            "type": "histogram2d"
           }
          ],
          "histogram2dcontour": [
           {
            "colorbar": {
             "outlinewidth": 0,
             "ticks": ""
            },
            "colorscale": [
             [
              0,
              "#0d0887"
             ],
             [
              0.1111111111111111,
              "#46039f"
             ],
             [
              0.2222222222222222,
              "#7201a8"
             ],
             [
              0.3333333333333333,
              "#9c179e"
             ],
             [
              0.4444444444444444,
              "#bd3786"
             ],
             [
              0.5555555555555556,
              "#d8576b"
             ],
             [
              0.6666666666666666,
              "#ed7953"
             ],
             [
              0.7777777777777778,
              "#fb9f3a"
             ],
             [
              0.8888888888888888,
              "#fdca26"
             ],
             [
              1,
              "#f0f921"
             ]
            ],
            "type": "histogram2dcontour"
           }
          ],
          "mesh3d": [
           {
            "colorbar": {
             "outlinewidth": 0,
             "ticks": ""
            },
            "type": "mesh3d"
           }
          ],
          "parcoords": [
           {
            "line": {
             "colorbar": {
              "outlinewidth": 0,
              "ticks": ""
             }
            },
            "type": "parcoords"
           }
          ],
          "pie": [
           {
            "automargin": true,
            "type": "pie"
           }
          ],
          "scatter": [
           {
            "fillpattern": {
             "fillmode": "overlay",
             "size": 10,
             "solidity": 0.2
            },
            "type": "scatter"
           }
          ],
          "scatter3d": [
           {
            "line": {
             "colorbar": {
              "outlinewidth": 0,
              "ticks": ""
             }
            },
            "marker": {
             "colorbar": {
              "outlinewidth": 0,
              "ticks": ""
             }
            },
            "type": "scatter3d"
           }
          ],
          "scattercarpet": [
           {
            "marker": {
             "colorbar": {
              "outlinewidth": 0,
              "ticks": ""
             }
            },
            "type": "scattercarpet"
           }
          ],
          "scattergeo": [
           {
            "marker": {
             "colorbar": {
              "outlinewidth": 0,
              "ticks": ""
             }
            },
            "type": "scattergeo"
           }
          ],
          "scattergl": [
           {
            "marker": {
             "colorbar": {
              "outlinewidth": 0,
              "ticks": ""
             }
            },
            "type": "scattergl"
           }
          ],
          "scattermap": [
           {
            "marker": {
             "colorbar": {
              "outlinewidth": 0,
              "ticks": ""
             }
            },
            "type": "scattermap"
           }
          ],
          "scattermapbox": [
           {
            "marker": {
             "colorbar": {
              "outlinewidth": 0,
              "ticks": ""
             }
            },
            "type": "scattermapbox"
           }
          ],
          "scatterpolar": [
           {
            "marker": {
             "colorbar": {
              "outlinewidth": 0,
              "ticks": ""
             }
            },
            "type": "scatterpolar"
           }
          ],
          "scatterpolargl": [
           {
            "marker": {
             "colorbar": {
              "outlinewidth": 0,
              "ticks": ""
             }
            },
            "type": "scatterpolargl"
           }
          ],
          "scatterternary": [
           {
            "marker": {
             "colorbar": {
              "outlinewidth": 0,
              "ticks": ""
             }
            },
            "type": "scatterternary"
           }
          ],
          "surface": [
           {
            "colorbar": {
             "outlinewidth": 0,
             "ticks": ""
            },
            "colorscale": [
             [
              0,
              "#0d0887"
             ],
             [
              0.1111111111111111,
              "#46039f"
             ],
             [
              0.2222222222222222,
              "#7201a8"
             ],
             [
              0.3333333333333333,
              "#9c179e"
             ],
             [
              0.4444444444444444,
              "#bd3786"
             ],
             [
              0.5555555555555556,
              "#d8576b"
             ],
             [
              0.6666666666666666,
              "#ed7953"
             ],
             [
              0.7777777777777778,
              "#fb9f3a"
             ],
             [
              0.8888888888888888,
              "#fdca26"
             ],
             [
              1,
              "#f0f921"
             ]
            ],
            "type": "surface"
           }
          ],
          "table": [
           {
            "cells": {
             "fill": {
              "color": "#EBF0F8"
             },
             "line": {
              "color": "white"
             }
            },
            "header": {
             "fill": {
              "color": "#C8D4E3"
             },
             "line": {
              "color": "white"
             }
            },
            "type": "table"
           }
          ]
         },
         "layout": {
          "annotationdefaults": {
           "arrowcolor": "#2a3f5f",
           "arrowhead": 0,
           "arrowwidth": 1
          },
          "autotypenumbers": "strict",
          "coloraxis": {
           "colorbar": {
            "outlinewidth": 0,
            "ticks": ""
           }
          },
          "colorscale": {
           "diverging": [
            [
             0,
             "#8e0152"
            ],
            [
             0.1,
             "#c51b7d"
            ],
            [
             0.2,
             "#de77ae"
            ],
            [
             0.3,
             "#f1b6da"
            ],
            [
             0.4,
             "#fde0ef"
            ],
            [
             0.5,
             "#f7f7f7"
            ],
            [
             0.6,
             "#e6f5d0"
            ],
            [
             0.7,
             "#b8e186"
            ],
            [
             0.8,
             "#7fbc41"
            ],
            [
             0.9,
             "#4d9221"
            ],
            [
             1,
             "#276419"
            ]
           ],
           "sequential": [
            [
             0,
             "#0d0887"
            ],
            [
             0.1111111111111111,
             "#46039f"
            ],
            [
             0.2222222222222222,
             "#7201a8"
            ],
            [
             0.3333333333333333,
             "#9c179e"
            ],
            [
             0.4444444444444444,
             "#bd3786"
            ],
            [
             0.5555555555555556,
             "#d8576b"
            ],
            [
             0.6666666666666666,
             "#ed7953"
            ],
            [
             0.7777777777777778,
             "#fb9f3a"
            ],
            [
             0.8888888888888888,
             "#fdca26"
            ],
            [
             1,
             "#f0f921"
            ]
           ],
           "sequentialminus": [
            [
             0,
             "#0d0887"
            ],
            [
             0.1111111111111111,
             "#46039f"
            ],
            [
             0.2222222222222222,
             "#7201a8"
            ],
            [
             0.3333333333333333,
             "#9c179e"
            ],
            [
             0.4444444444444444,
             "#bd3786"
            ],
            [
             0.5555555555555556,
             "#d8576b"
            ],
            [
             0.6666666666666666,
             "#ed7953"
            ],
            [
             0.7777777777777778,
             "#fb9f3a"
            ],
            [
             0.8888888888888888,
             "#fdca26"
            ],
            [
             1,
             "#f0f921"
            ]
           ]
          },
          "colorway": [
           "#636efa",
           "#EF553B",
           "#00cc96",
           "#ab63fa",
           "#FFA15A",
           "#19d3f3",
           "#FF6692",
           "#B6E880",
           "#FF97FF",
           "#FECB52"
          ],
          "font": {
           "color": "#2a3f5f"
          },
          "geo": {
           "bgcolor": "white",
           "lakecolor": "white",
           "landcolor": "#E5ECF6",
           "showlakes": true,
           "showland": true,
           "subunitcolor": "white"
          },
          "hoverlabel": {
           "align": "left"
          },
          "hovermode": "closest",
          "mapbox": {
           "style": "light"
          },
          "paper_bgcolor": "white",
          "plot_bgcolor": "#E5ECF6",
          "polar": {
           "angularaxis": {
            "gridcolor": "white",
            "linecolor": "white",
            "ticks": ""
           },
           "bgcolor": "#E5ECF6",
           "radialaxis": {
            "gridcolor": "white",
            "linecolor": "white",
            "ticks": ""
           }
          },
          "scene": {
           "xaxis": {
            "backgroundcolor": "#E5ECF6",
            "gridcolor": "white",
            "gridwidth": 2,
            "linecolor": "white",
            "showbackground": true,
            "ticks": "",
            "zerolinecolor": "white"
           },
           "yaxis": {
            "backgroundcolor": "#E5ECF6",
            "gridcolor": "white",
            "gridwidth": 2,
            "linecolor": "white",
            "showbackground": true,
            "ticks": "",
            "zerolinecolor": "white"
           },
           "zaxis": {
            "backgroundcolor": "#E5ECF6",
            "gridcolor": "white",
            "gridwidth": 2,
            "linecolor": "white",
            "showbackground": true,
            "ticks": "",
            "zerolinecolor": "white"
           }
          },
          "shapedefaults": {
           "line": {
            "color": "#2a3f5f"
           }
          },
          "ternary": {
           "aaxis": {
            "gridcolor": "white",
            "linecolor": "white",
            "ticks": ""
           },
           "baxis": {
            "gridcolor": "white",
            "linecolor": "white",
            "ticks": ""
           },
           "bgcolor": "#E5ECF6",
           "caxis": {
            "gridcolor": "white",
            "linecolor": "white",
            "ticks": ""
           }
          },
          "title": {
           "x": 0.05
          },
          "xaxis": {
           "automargin": true,
           "gridcolor": "white",
           "linecolor": "white",
           "ticks": "",
           "title": {
            "standoff": 15
           },
           "zerolinecolor": "white",
           "zerolinewidth": 2
          },
          "yaxis": {
           "automargin": true,
           "gridcolor": "white",
           "linecolor": "white",
           "ticks": "",
           "title": {
            "standoff": 15
           },
           "zerolinecolor": "white",
           "zerolinewidth": 2
          }
         }
        },
        "title": {
         "x": 0.5
        },
        "width": 1400,
        "xaxis": {
         "anchor": "y",
         "domain": [
          0,
          0.235
         ],
         "tickfont": {
          "size": 14
         },
         "title": {
          "font": {
           "size": 14
          },
          "text": "Stock"
         }
        },
        "xaxis2": {
         "anchor": "y2",
         "domain": [
          0.255,
          0.49
         ],
         "matches": "x",
         "tickfont": {
          "size": 14
         },
         "title": {
          "font": {
           "size": 14
          },
          "text": "Stock"
         }
        },
        "xaxis3": {
         "anchor": "y3",
         "domain": [
          0.51,
          0.745
         ],
         "matches": "x",
         "tickfont": {
          "size": 14
         },
         "title": {
          "font": {
           "size": 14
          },
          "text": "Stock"
         }
        },
        "xaxis4": {
         "anchor": "y4",
         "domain": [
          0.7649999999999999,
          0.9999999999999999
         ],
         "matches": "x",
         "tickfont": {
          "size": 14
         },
         "title": {
          "font": {
           "size": 14
          },
          "text": "Stock"
         }
        },
        "yaxis": {
         "anchor": "x",
         "domain": [
          0,
          1
         ],
         "tickfont": {
          "size": 14
         },
         "title": {
          "font": {
           "size": 14
          },
          "text": "RMSE"
         }
        },
        "yaxis2": {
         "anchor": "x2",
         "domain": [
          0,
          1
         ],
         "matches": "y",
         "showticklabels": false,
         "tickfont": {
          "size": 14
         },
         "title": {
          "font": {
           "size": 14
          }
         }
        },
        "yaxis3": {
         "anchor": "x3",
         "domain": [
          0,
          1
         ],
         "matches": "y",
         "showticklabels": false,
         "tickfont": {
          "size": 14
         },
         "title": {
          "font": {
           "size": 14
          }
         }
        },
        "yaxis4": {
         "anchor": "x4",
         "domain": [
          0,
          1
         ],
         "matches": "y",
         "showticklabels": false,
         "tickfont": {
          "size": 14
         },
         "title": {
          "font": {
           "size": 14
          }
         }
        }
       }
      }
     },
     "metadata": {},
     "output_type": "display_data"
    }
   ],
   "source": [
    "# Graficos com os resultados de todos modelos\n",
    "fig = plot_rmse_facet_plotly(resultados_concatenados)\n",
    "fig.show()"
   ]
  },
  {
   "cell_type": "code",
   "execution_count": null,
   "metadata": {},
   "outputs": [
    {
     "data": {
      "application/vnd.plotly.v1+json": {
       "config": {
        "plotlyServerURL": "https://plot.ly"
       },
       "data": [
        {
         "hovertemplate": "Description=Stock Data<br>Model=model_1<br>Stock=%{x}<br>RMSE=%{y}<extra></extra>",
         "legendgroup": "Stock Data",
         "line": {
          "color": "#636efa",
          "dash": "solid"
         },
         "marker": {
          "symbol": "circle"
         },
         "mode": "lines+markers",
         "name": "Stock Data",
         "orientation": "v",
         "showlegend": true,
         "type": "scatter",
         "x": [
          "PETR4",
          "VALE3",
          "BBDC4",
          "ITUB4"
         ],
         "xaxis": "x",
         "y": {
          "bdata": "7XGDyv9Bkj+T7LQfKC+VP5/5PNGgkZc/nhAyJ/s9lT8=",
          "dtype": "f8"
         },
         "yaxis": "y"
        },
        {
         "hovertemplate": "Description=Stock Data<br>Model=model_2<br>Stock=%{x}<br>RMSE=%{y}<extra></extra>",
         "legendgroup": "Stock Data",
         "line": {
          "color": "#636efa",
          "dash": "solid"
         },
         "marker": {
          "symbol": "circle"
         },
         "mode": "lines+markers",
         "name": "Stock Data",
         "orientation": "v",
         "showlegend": false,
         "type": "scatter",
         "x": [
          "PETR4",
          "VALE3",
          "BBDC4",
          "ITUB4"
         ],
         "xaxis": "x2",
         "y": {
          "bdata": "KIt0dkITkj8sEmkXMfWSP4PxQPYBqJY/7ERc8ulklD8=",
          "dtype": "f8"
         },
         "yaxis": "y2"
        },
        {
         "hovertemplate": "Description=Stock Data<br>Model=model_3<br>Stock=%{x}<br>RMSE=%{y}<extra></extra>",
         "legendgroup": "Stock Data",
         "line": {
          "color": "#636efa",
          "dash": "solid"
         },
         "marker": {
          "symbol": "circle"
         },
         "mode": "lines+markers",
         "name": "Stock Data",
         "orientation": "v",
         "showlegend": false,
         "type": "scatter",
         "x": [
          "PETR4",
          "VALE3",
          "BBDC4",
          "ITUB4"
         ],
         "xaxis": "x3",
         "y": {
          "bdata": "GLoMH0b/kD+9z+ssIYiRP0cPhrYh05Y/toxA9XDnkz8=",
          "dtype": "f8"
         },
         "yaxis": "y3"
        },
        {
         "hovertemplate": "Description=Stock Data + Google News<br>Model=model_1<br>Stock=%{x}<br>RMSE=%{y}<extra></extra>",
         "legendgroup": "Stock Data + Google News",
         "line": {
          "color": "#EF553B",
          "dash": "solid"
         },
         "marker": {
          "symbol": "circle"
         },
         "mode": "lines+markers",
         "name": "Stock Data + Google News",
         "orientation": "v",
         "showlegend": true,
         "type": "scatter",
         "x": [
          "PETR4",
          "VALE3",
          "BBDC4",
          "ITUB4"
         ],
         "xaxis": "x",
         "y": {
          "bdata": "tKOr5x8pkj9tPw5dxCuUP0eeZDiwaZc/EwLsRsYxlT8=",
          "dtype": "f8"
         },
         "yaxis": "y"
        },
        {
         "hovertemplate": "Description=Stock Data + Google News<br>Model=model_2<br>Stock=%{x}<br>RMSE=%{y}<extra></extra>",
         "legendgroup": "Stock Data + Google News",
         "line": {
          "color": "#EF553B",
          "dash": "solid"
         },
         "marker": {
          "symbol": "circle"
         },
         "mode": "lines+markers",
         "name": "Stock Data + Google News",
         "orientation": "v",
         "showlegend": false,
         "type": "scatter",
         "x": [
          "PETR4",
          "VALE3",
          "BBDC4",
          "ITUB4"
         ],
         "xaxis": "x2",
         "y": {
          "bdata": "VQPNAVkxkj+hzjyh6NuSPzkA4YfXDZc/aaaOy5NrlD8=",
          "dtype": "f8"
         },
         "yaxis": "y2"
        },
        {
         "hovertemplate": "Description=Stock Data + Google News<br>Model=model_3<br>Stock=%{x}<br>RMSE=%{y}<extra></extra>",
         "legendgroup": "Stock Data + Google News",
         "line": {
          "color": "#EF553B",
          "dash": "solid"
         },
         "marker": {
          "symbol": "circle"
         },
         "mode": "lines+markers",
         "name": "Stock Data + Google News",
         "orientation": "v",
         "showlegend": false,
         "type": "scatter",
         "x": [
          "PETR4",
          "VALE3",
          "BBDC4",
          "ITUB4"
         ],
         "xaxis": "x3",
         "y": {
          "bdata": "cOTCdbXIkj+FjWckBHihP0xTwvU5lpc/PaePUkivlD8=",
          "dtype": "f8"
         },
         "yaxis": "y3"
        },
        {
         "hovertemplate": "Description=Stock Data + Twitter<br>Model=model_1<br>Stock=%{x}<br>RMSE=%{y}<extra></extra>",
         "legendgroup": "Stock Data + Twitter",
         "line": {
          "color": "#00cc96",
          "dash": "solid"
         },
         "marker": {
          "symbol": "circle"
         },
         "mode": "lines+markers",
         "name": "Stock Data + Twitter",
         "orientation": "v",
         "showlegend": true,
         "type": "scatter",
         "x": [
          "PETR4",
          "VALE3",
          "BBDC4",
          "ITUB4"
         ],
         "xaxis": "x",
         "y": {
          "bdata": "QexSYE2akj/KXr0YZuqZP1D9r7Mqn5c/gRfe0ORwlD8=",
          "dtype": "f8"
         },
         "yaxis": "y"
        },
        {
         "hovertemplate": "Description=Stock Data + Twitter<br>Model=model_2<br>Stock=%{x}<br>RMSE=%{y}<extra></extra>",
         "legendgroup": "Stock Data + Twitter",
         "line": {
          "color": "#00cc96",
          "dash": "solid"
         },
         "marker": {
          "symbol": "circle"
         },
         "mode": "lines+markers",
         "name": "Stock Data + Twitter",
         "orientation": "v",
         "showlegend": false,
         "type": "scatter",
         "x": [
          "PETR4",
          "VALE3",
          "BBDC4",
          "ITUB4"
         ],
         "xaxis": "x2",
         "y": {
          "bdata": "PLJPKzTTkT/9HSxR2U2TP4CQzS1DBZc/UDg6QzR6lD8=",
          "dtype": "f8"
         },
         "yaxis": "y2"
        },
        {
         "hovertemplate": "Description=Stock Data + Twitter<br>Model=model_3<br>Stock=%{x}<br>RMSE=%{y}<extra></extra>",
         "legendgroup": "Stock Data + Twitter",
         "line": {
          "color": "#00cc96",
          "dash": "solid"
         },
         "marker": {
          "symbol": "circle"
         },
         "mode": "lines+markers",
         "name": "Stock Data + Twitter",
         "orientation": "v",
         "showlegend": false,
         "type": "scatter",
         "x": [
          "PETR4",
          "VALE3",
          "BBDC4",
          "ITUB4"
         ],
         "xaxis": "x3",
         "y": {
          "bdata": "2LkKRJVXkj85+RlTdtGnP5eeyhRCApc/8S2kotCNlD8=",
          "dtype": "f8"
         },
         "yaxis": "y3"
        },
        {
         "hovertemplate": "Description=Stock Data + IT (IFR + MMS + MME)<br>Model=model_1<br>Stock=%{x}<br>RMSE=%{y}<extra></extra>",
         "legendgroup": "Stock Data + IT (IFR + MMS + MME)",
         "line": {
          "color": "#ab63fa",
          "dash": "solid"
         },
         "marker": {
          "symbol": "circle"
         },
         "mode": "lines+markers",
         "name": "Stock Data + IT (IFR + MMS + MME)",
         "orientation": "v",
         "showlegend": true,
         "type": "scatter",
         "x": [
          "PETR4",
          "VALE3",
          "BBDC4",
          "ITUB4"
         ],
         "xaxis": "x",
         "y": {
          "bdata": "62SJ5xT1kT8hTvBTyDSjP4HCV1GGXZc/f5AkArVklj8=",
          "dtype": "f8"
         },
         "yaxis": "y"
        },
        {
         "hovertemplate": "Description=Stock Data + IT (IFR + MMS + MME)<br>Model=model_2<br>Stock=%{x}<br>RMSE=%{y}<extra></extra>",
         "legendgroup": "Stock Data + IT (IFR + MMS + MME)",
         "line": {
          "color": "#ab63fa",
          "dash": "solid"
         },
         "marker": {
          "symbol": "circle"
         },
         "mode": "lines+markers",
         "name": "Stock Data + IT (IFR + MMS + MME)",
         "orientation": "v",
         "showlegend": false,
         "type": "scatter",
         "x": [
          "PETR4",
          "VALE3",
          "BBDC4",
          "ITUB4"
         ],
         "xaxis": "x2",
         "y": {
          "bdata": "CrzgMFxtkT/0Dq8wmlqVP/Rzc/DYApc/LZ6l4TUflD8=",
          "dtype": "f8"
         },
         "yaxis": "y2"
        },
        {
         "hovertemplate": "Description=Stock Data + IT (IFR + MMS + MME)<br>Model=model_3<br>Stock=%{x}<br>RMSE=%{y}<extra></extra>",
         "legendgroup": "Stock Data + IT (IFR + MMS + MME)",
         "line": {
          "color": "#ab63fa",
          "dash": "solid"
         },
         "marker": {
          "symbol": "circle"
         },
         "mode": "lines+markers",
         "name": "Stock Data + IT (IFR + MMS + MME)",
         "orientation": "v",
         "showlegend": false,
         "type": "scatter",
         "x": [
          "PETR4",
          "VALE3",
          "BBDC4",
          "ITUB4"
         ],
         "xaxis": "x3",
         "y": {
          "bdata": "luUtgATokT+Pg9d5NvuSP9YX+h4L9pY/c9zrD0l5lD8=",
          "dtype": "f8"
         },
         "yaxis": "y3"
        },
        {
         "hovertemplate": "Description=Google News + Twitter + IFR + MMS<br>Model=model_1<br>Stock=%{x}<br>RMSE=%{y}<extra></extra>",
         "legendgroup": "Google News + Twitter + IFR + MMS",
         "line": {
          "color": "#FFA15A",
          "dash": "solid"
         },
         "marker": {
          "symbol": "circle"
         },
         "mode": "lines+markers",
         "name": "Google News + Twitter + IFR + MMS",
         "orientation": "v",
         "showlegend": true,
         "type": "scatter",
         "x": [
          "PETR4",
          "VALE3",
          "BBDC4",
          "ITUB4"
         ],
         "xaxis": "x",
         "y": {
          "bdata": "adKtT+51kj/uF31YxzSnPx41GJSUJpg/Gx34pqBmlz8=",
          "dtype": "f8"
         },
         "yaxis": "y"
        },
        {
         "hovertemplate": "Description=Google News + Twitter + IFR + MMS<br>Model=model_2<br>Stock=%{x}<br>RMSE=%{y}<extra></extra>",
         "legendgroup": "Google News + Twitter + IFR + MMS",
         "line": {
          "color": "#FFA15A",
          "dash": "solid"
         },
         "marker": {
          "symbol": "circle"
         },
         "mode": "lines+markers",
         "name": "Google News + Twitter + IFR + MMS",
         "orientation": "v",
         "showlegend": false,
         "type": "scatter",
         "x": [
          "PETR4",
          "VALE3",
          "BBDC4",
          "ITUB4"
         ],
         "xaxis": "x2",
         "y": {
          "bdata": "PfSfzQ2akT/J78OJ9TWWPyuSrcnuApc/Nn3pJeDGlD8=",
          "dtype": "f8"
         },
         "yaxis": "y2"
        },
        {
         "hovertemplate": "Description=Google News + Twitter + IFR + MMS<br>Model=model_3<br>Stock=%{x}<br>RMSE=%{y}<extra></extra>",
         "legendgroup": "Google News + Twitter + IFR + MMS",
         "line": {
          "color": "#FFA15A",
          "dash": "solid"
         },
         "marker": {
          "symbol": "circle"
         },
         "mode": "lines+markers",
         "name": "Google News + Twitter + IFR + MMS",
         "orientation": "v",
         "showlegend": false,
         "type": "scatter",
         "x": [
          "PETR4",
          "VALE3",
          "BBDC4",
          "ITUB4"
         ],
         "xaxis": "x3",
         "y": {
          "bdata": "UYfa78CHkj/ZnpqeFWOcP06UlBN/6JY/OaDWUKpMlD8=",
          "dtype": "f8"
         },
         "yaxis": "y3"
        },
        {
         "hovertemplate": "Description=Google News + Twitter + IFR + MME<br>Model=model_1<br>Stock=%{x}<br>RMSE=%{y}<extra></extra>",
         "legendgroup": "Google News + Twitter + IFR + MME",
         "line": {
          "color": "#19d3f3",
          "dash": "solid"
         },
         "marker": {
          "symbol": "circle"
         },
         "mode": "lines+markers",
         "name": "Google News + Twitter + IFR + MME",
         "orientation": "v",
         "showlegend": true,
         "type": "scatter",
         "x": [
          "PETR4",
          "VALE3",
          "BBDC4",
          "ITUB4"
         ],
         "xaxis": "x",
         "y": {
          "bdata": "xUNQk/pEkj/mAl9VaiytPx7AqXhA3Jc/yLWegr3Clj8=",
          "dtype": "f8"
         },
         "yaxis": "y"
        },
        {
         "hovertemplate": "Description=Google News + Twitter + IFR + MME<br>Model=model_2<br>Stock=%{x}<br>RMSE=%{y}<extra></extra>",
         "legendgroup": "Google News + Twitter + IFR + MME",
         "line": {
          "color": "#19d3f3",
          "dash": "solid"
         },
         "marker": {
          "symbol": "circle"
         },
         "mode": "lines+markers",
         "name": "Google News + Twitter + IFR + MME",
         "orientation": "v",
         "showlegend": false,
         "type": "scatter",
         "x": [
          "PETR4",
          "VALE3",
          "BBDC4",
          "ITUB4"
         ],
         "xaxis": "x2",
         "y": {
          "bdata": "osYaeBSPkT/FBD6r52iWP78xx3Vlapc/Q2uRxk+zlD8=",
          "dtype": "f8"
         },
         "yaxis": "y2"
        },
        {
         "hovertemplate": "Description=Google News + Twitter + IFR + MME<br>Model=model_3<br>Stock=%{x}<br>RMSE=%{y}<extra></extra>",
         "legendgroup": "Google News + Twitter + IFR + MME",
         "line": {
          "color": "#19d3f3",
          "dash": "solid"
         },
         "marker": {
          "symbol": "circle"
         },
         "mode": "lines+markers",
         "name": "Google News + Twitter + IFR + MME",
         "orientation": "v",
         "showlegend": false,
         "type": "scatter",
         "x": [
          "PETR4",
          "VALE3",
          "BBDC4",
          "ITUB4"
         ],
         "xaxis": "x3",
         "y": {
          "bdata": "Ogl5H9PkkT8u3ZeDu0SXP6JHDemeWJc/DoKtJzbElD8=",
          "dtype": "f8"
         },
         "yaxis": "y3"
        },
        {
         "hovertemplate": "Description=Google News + Twitter + IFR + MME + MMS<br>Model=model_1<br>Stock=%{x}<br>RMSE=%{y}<extra></extra>",
         "legendgroup": "Google News + Twitter + IFR + MME + MMS",
         "line": {
          "color": "#FF6692",
          "dash": "solid"
         },
         "marker": {
          "symbol": "circle"
         },
         "mode": "lines+markers",
         "name": "Google News + Twitter + IFR + MME + MMS",
         "orientation": "v",
         "showlegend": true,
         "type": "scatter",
         "x": [
          "PETR4",
          "VALE3",
          "BBDC4",
          "ITUB4"
         ],
         "xaxis": "x",
         "y": {
          "bdata": "98/lOeSGkz+qrjNVBwuYPxgrGTWy3pc/2v+BVK3Ulj8=",
          "dtype": "f8"
         },
         "yaxis": "y"
        },
        {
         "hovertemplate": "Description=Google News + Twitter + IFR + MME + MMS<br>Model=model_2<br>Stock=%{x}<br>RMSE=%{y}<extra></extra>",
         "legendgroup": "Google News + Twitter + IFR + MME + MMS",
         "line": {
          "color": "#FF6692",
          "dash": "solid"
         },
         "marker": {
          "symbol": "circle"
         },
         "mode": "lines+markers",
         "name": "Google News + Twitter + IFR + MME + MMS",
         "orientation": "v",
         "showlegend": false,
         "type": "scatter",
         "x": [
          "PETR4",
          "VALE3",
          "BBDC4",
          "ITUB4"
         ],
         "xaxis": "x2",
         "y": {
          "bdata": "T7j5l4X7kT+zaVOM15yXP9tdmEvwspk/CgGjn9oJlT8=",
          "dtype": "f8"
         },
         "yaxis": "y2"
        },
        {
         "hovertemplate": "Description=Google News + Twitter + IFR + MME + MMS<br>Model=model_3<br>Stock=%{x}<br>RMSE=%{y}<extra></extra>",
         "legendgroup": "Google News + Twitter + IFR + MME + MMS",
         "line": {
          "color": "#FF6692",
          "dash": "solid"
         },
         "marker": {
          "symbol": "circle"
         },
         "mode": "lines+markers",
         "name": "Google News + Twitter + IFR + MME + MMS",
         "orientation": "v",
         "showlegend": false,
         "type": "scatter",
         "x": [
          "PETR4",
          "VALE3",
          "BBDC4",
          "ITUB4"
         ],
         "xaxis": "x3",
         "y": {
          "bdata": "vJJH5QXlkT8J/xRuoeShP85cwLGb/Jg/TXz9tmpdlj8=",
          "dtype": "f8"
         },
         "yaxis": "y3"
        }
       ],
       "layout": {
        "annotations": [
         {
          "font": {
           "size": 16
          },
          "showarrow": false,
          "text": "Model=model_1",
          "x": 0.15999999999999998,
          "xanchor": "center",
          "xref": "paper",
          "y": 1,
          "yanchor": "bottom",
          "yref": "paper"
         },
         {
          "font": {
           "size": 16
          },
          "showarrow": false,
          "text": "Model=model_2",
          "x": 0.49999999999999994,
          "xanchor": "center",
          "xref": "paper",
          "y": 1,
          "yanchor": "bottom",
          "yref": "paper"
         },
         {
          "font": {
           "size": 16
          },
          "showarrow": false,
          "text": "Model=model_3",
          "x": 0.8399999999999999,
          "xanchor": "center",
          "xref": "paper",
          "y": 1,
          "yanchor": "bottom",
          "yref": "paper"
         }
        ],
        "font": {
         "size": 10
        },
        "height": 600,
        "legend": {
         "font": {
          "size": 15
         },
         "orientation": "h",
         "title": {
          "text": "Description"
         },
         "tracegroupgap": 0,
         "x": 0.5,
         "xanchor": "center",
         "y": -0.2,
         "yanchor": "top"
        },
        "margin": {
         "b": 60,
         "l": 20,
         "r": 20,
         "t": 40
        },
        "template": {
         "data": {
          "bar": [
           {
            "error_x": {
             "color": "#2a3f5f"
            },
            "error_y": {
             "color": "#2a3f5f"
            },
            "marker": {
             "line": {
              "color": "#E5ECF6",
              "width": 0.5
             },
             "pattern": {
              "fillmode": "overlay",
              "size": 10,
              "solidity": 0.2
             }
            },
            "type": "bar"
           }
          ],
          "barpolar": [
           {
            "marker": {
             "line": {
              "color": "#E5ECF6",
              "width": 0.5
             },
             "pattern": {
              "fillmode": "overlay",
              "size": 10,
              "solidity": 0.2
             }
            },
            "type": "barpolar"
           }
          ],
          "carpet": [
           {
            "aaxis": {
             "endlinecolor": "#2a3f5f",
             "gridcolor": "white",
             "linecolor": "white",
             "minorgridcolor": "white",
             "startlinecolor": "#2a3f5f"
            },
            "baxis": {
             "endlinecolor": "#2a3f5f",
             "gridcolor": "white",
             "linecolor": "white",
             "minorgridcolor": "white",
             "startlinecolor": "#2a3f5f"
            },
            "type": "carpet"
           }
          ],
          "choropleth": [
           {
            "colorbar": {
             "outlinewidth": 0,
             "ticks": ""
            },
            "type": "choropleth"
           }
          ],
          "contour": [
           {
            "colorbar": {
             "outlinewidth": 0,
             "ticks": ""
            },
            "colorscale": [
             [
              0,
              "#0d0887"
             ],
             [
              0.1111111111111111,
              "#46039f"
             ],
             [
              0.2222222222222222,
              "#7201a8"
             ],
             [
              0.3333333333333333,
              "#9c179e"
             ],
             [
              0.4444444444444444,
              "#bd3786"
             ],
             [
              0.5555555555555556,
              "#d8576b"
             ],
             [
              0.6666666666666666,
              "#ed7953"
             ],
             [
              0.7777777777777778,
              "#fb9f3a"
             ],
             [
              0.8888888888888888,
              "#fdca26"
             ],
             [
              1,
              "#f0f921"
             ]
            ],
            "type": "contour"
           }
          ],
          "contourcarpet": [
           {
            "colorbar": {
             "outlinewidth": 0,
             "ticks": ""
            },
            "type": "contourcarpet"
           }
          ],
          "heatmap": [
           {
            "colorbar": {
             "outlinewidth": 0,
             "ticks": ""
            },
            "colorscale": [
             [
              0,
              "#0d0887"
             ],
             [
              0.1111111111111111,
              "#46039f"
             ],
             [
              0.2222222222222222,
              "#7201a8"
             ],
             [
              0.3333333333333333,
              "#9c179e"
             ],
             [
              0.4444444444444444,
              "#bd3786"
             ],
             [
              0.5555555555555556,
              "#d8576b"
             ],
             [
              0.6666666666666666,
              "#ed7953"
             ],
             [
              0.7777777777777778,
              "#fb9f3a"
             ],
             [
              0.8888888888888888,
              "#fdca26"
             ],
             [
              1,
              "#f0f921"
             ]
            ],
            "type": "heatmap"
           }
          ],
          "histogram": [
           {
            "marker": {
             "pattern": {
              "fillmode": "overlay",
              "size": 10,
              "solidity": 0.2
             }
            },
            "type": "histogram"
           }
          ],
          "histogram2d": [
           {
            "colorbar": {
             "outlinewidth": 0,
             "ticks": ""
            },
            "colorscale": [
             [
              0,
              "#0d0887"
             ],
             [
              0.1111111111111111,
              "#46039f"
             ],
             [
              0.2222222222222222,
              "#7201a8"
             ],
             [
              0.3333333333333333,
              "#9c179e"
             ],
             [
              0.4444444444444444,
              "#bd3786"
             ],
             [
              0.5555555555555556,
              "#d8576b"
             ],
             [
              0.6666666666666666,
              "#ed7953"
             ],
             [
              0.7777777777777778,
              "#fb9f3a"
             ],
             [
              0.8888888888888888,
              "#fdca26"
             ],
             [
              1,
              "#f0f921"
             ]
            ],
            "type": "histogram2d"
           }
          ],
          "histogram2dcontour": [
           {
            "colorbar": {
             "outlinewidth": 0,
             "ticks": ""
            },
            "colorscale": [
             [
              0,
              "#0d0887"
             ],
             [
              0.1111111111111111,
              "#46039f"
             ],
             [
              0.2222222222222222,
              "#7201a8"
             ],
             [
              0.3333333333333333,
              "#9c179e"
             ],
             [
              0.4444444444444444,
              "#bd3786"
             ],
             [
              0.5555555555555556,
              "#d8576b"
             ],
             [
              0.6666666666666666,
              "#ed7953"
             ],
             [
              0.7777777777777778,
              "#fb9f3a"
             ],
             [
              0.8888888888888888,
              "#fdca26"
             ],
             [
              1,
              "#f0f921"
             ]
            ],
            "type": "histogram2dcontour"
           }
          ],
          "mesh3d": [
           {
            "colorbar": {
             "outlinewidth": 0,
             "ticks": ""
            },
            "type": "mesh3d"
           }
          ],
          "parcoords": [
           {
            "line": {
             "colorbar": {
              "outlinewidth": 0,
              "ticks": ""
             }
            },
            "type": "parcoords"
           }
          ],
          "pie": [
           {
            "automargin": true,
            "type": "pie"
           }
          ],
          "scatter": [
           {
            "fillpattern": {
             "fillmode": "overlay",
             "size": 10,
             "solidity": 0.2
            },
            "type": "scatter"
           }
          ],
          "scatter3d": [
           {
            "line": {
             "colorbar": {
              "outlinewidth": 0,
              "ticks": ""
             }
            },
            "marker": {
             "colorbar": {
              "outlinewidth": 0,
              "ticks": ""
             }
            },
            "type": "scatter3d"
           }
          ],
          "scattercarpet": [
           {
            "marker": {
             "colorbar": {
              "outlinewidth": 0,
              "ticks": ""
             }
            },
            "type": "scattercarpet"
           }
          ],
          "scattergeo": [
           {
            "marker": {
             "colorbar": {
              "outlinewidth": 0,
              "ticks": ""
             }
            },
            "type": "scattergeo"
           }
          ],
          "scattergl": [
           {
            "marker": {
             "colorbar": {
              "outlinewidth": 0,
              "ticks": ""
             }
            },
            "type": "scattergl"
           }
          ],
          "scattermap": [
           {
            "marker": {
             "colorbar": {
              "outlinewidth": 0,
              "ticks": ""
             }
            },
            "type": "scattermap"
           }
          ],
          "scattermapbox": [
           {
            "marker": {
             "colorbar": {
              "outlinewidth": 0,
              "ticks": ""
             }
            },
            "type": "scattermapbox"
           }
          ],
          "scatterpolar": [
           {
            "marker": {
             "colorbar": {
              "outlinewidth": 0,
              "ticks": ""
             }
            },
            "type": "scatterpolar"
           }
          ],
          "scatterpolargl": [
           {
            "marker": {
             "colorbar": {
              "outlinewidth": 0,
              "ticks": ""
             }
            },
            "type": "scatterpolargl"
           }
          ],
          "scatterternary": [
           {
            "marker": {
             "colorbar": {
              "outlinewidth": 0,
              "ticks": ""
             }
            },
            "type": "scatterternary"
           }
          ],
          "surface": [
           {
            "colorbar": {
             "outlinewidth": 0,
             "ticks": ""
            },
            "colorscale": [
             [
              0,
              "#0d0887"
             ],
             [
              0.1111111111111111,
              "#46039f"
             ],
             [
              0.2222222222222222,
              "#7201a8"
             ],
             [
              0.3333333333333333,
              "#9c179e"
             ],
             [
              0.4444444444444444,
              "#bd3786"
             ],
             [
              0.5555555555555556,
              "#d8576b"
             ],
             [
              0.6666666666666666,
              "#ed7953"
             ],
             [
              0.7777777777777778,
              "#fb9f3a"
             ],
             [
              0.8888888888888888,
              "#fdca26"
             ],
             [
              1,
              "#f0f921"
             ]
            ],
            "type": "surface"
           }
          ],
          "table": [
           {
            "cells": {
             "fill": {
              "color": "#EBF0F8"
             },
             "line": {
              "color": "white"
             }
            },
            "header": {
             "fill": {
              "color": "#C8D4E3"
             },
             "line": {
              "color": "white"
             }
            },
            "type": "table"
           }
          ]
         },
         "layout": {
          "annotationdefaults": {
           "arrowcolor": "#2a3f5f",
           "arrowhead": 0,
           "arrowwidth": 1
          },
          "autotypenumbers": "strict",
          "coloraxis": {
           "colorbar": {
            "outlinewidth": 0,
            "ticks": ""
           }
          },
          "colorscale": {
           "diverging": [
            [
             0,
             "#8e0152"
            ],
            [
             0.1,
             "#c51b7d"
            ],
            [
             0.2,
             "#de77ae"
            ],
            [
             0.3,
             "#f1b6da"
            ],
            [
             0.4,
             "#fde0ef"
            ],
            [
             0.5,
             "#f7f7f7"
            ],
            [
             0.6,
             "#e6f5d0"
            ],
            [
             0.7,
             "#b8e186"
            ],
            [
             0.8,
             "#7fbc41"
            ],
            [
             0.9,
             "#4d9221"
            ],
            [
             1,
             "#276419"
            ]
           ],
           "sequential": [
            [
             0,
             "#0d0887"
            ],
            [
             0.1111111111111111,
             "#46039f"
            ],
            [
             0.2222222222222222,
             "#7201a8"
            ],
            [
             0.3333333333333333,
             "#9c179e"
            ],
            [
             0.4444444444444444,
             "#bd3786"
            ],
            [
             0.5555555555555556,
             "#d8576b"
            ],
            [
             0.6666666666666666,
             "#ed7953"
            ],
            [
             0.7777777777777778,
             "#fb9f3a"
            ],
            [
             0.8888888888888888,
             "#fdca26"
            ],
            [
             1,
             "#f0f921"
            ]
           ],
           "sequentialminus": [
            [
             0,
             "#0d0887"
            ],
            [
             0.1111111111111111,
             "#46039f"
            ],
            [
             0.2222222222222222,
             "#7201a8"
            ],
            [
             0.3333333333333333,
             "#9c179e"
            ],
            [
             0.4444444444444444,
             "#bd3786"
            ],
            [
             0.5555555555555556,
             "#d8576b"
            ],
            [
             0.6666666666666666,
             "#ed7953"
            ],
            [
             0.7777777777777778,
             "#fb9f3a"
            ],
            [
             0.8888888888888888,
             "#fdca26"
            ],
            [
             1,
             "#f0f921"
            ]
           ]
          },
          "colorway": [
           "#636efa",
           "#EF553B",
           "#00cc96",
           "#ab63fa",
           "#FFA15A",
           "#19d3f3",
           "#FF6692",
           "#B6E880",
           "#FF97FF",
           "#FECB52"
          ],
          "font": {
           "color": "#2a3f5f"
          },
          "geo": {
           "bgcolor": "white",
           "lakecolor": "white",
           "landcolor": "#E5ECF6",
           "showlakes": true,
           "showland": true,
           "subunitcolor": "white"
          },
          "hoverlabel": {
           "align": "left"
          },
          "hovermode": "closest",
          "mapbox": {
           "style": "light"
          },
          "paper_bgcolor": "white",
          "plot_bgcolor": "#E5ECF6",
          "polar": {
           "angularaxis": {
            "gridcolor": "white",
            "linecolor": "white",
            "ticks": ""
           },
           "bgcolor": "#E5ECF6",
           "radialaxis": {
            "gridcolor": "white",
            "linecolor": "white",
            "ticks": ""
           }
          },
          "scene": {
           "xaxis": {
            "backgroundcolor": "#E5ECF6",
            "gridcolor": "white",
            "gridwidth": 2,
            "linecolor": "white",
            "showbackground": true,
            "ticks": "",
            "zerolinecolor": "white"
           },
           "yaxis": {
            "backgroundcolor": "#E5ECF6",
            "gridcolor": "white",
            "gridwidth": 2,
            "linecolor": "white",
            "showbackground": true,
            "ticks": "",
            "zerolinecolor": "white"
           },
           "zaxis": {
            "backgroundcolor": "#E5ECF6",
            "gridcolor": "white",
            "gridwidth": 2,
            "linecolor": "white",
            "showbackground": true,
            "ticks": "",
            "zerolinecolor": "white"
           }
          },
          "shapedefaults": {
           "line": {
            "color": "#2a3f5f"
           }
          },
          "ternary": {
           "aaxis": {
            "gridcolor": "white",
            "linecolor": "white",
            "ticks": ""
           },
           "baxis": {
            "gridcolor": "white",
            "linecolor": "white",
            "ticks": ""
           },
           "bgcolor": "#E5ECF6",
           "caxis": {
            "gridcolor": "white",
            "linecolor": "white",
            "ticks": ""
           }
          },
          "title": {
           "x": 0.05
          },
          "xaxis": {
           "automargin": true,
           "gridcolor": "white",
           "linecolor": "white",
           "ticks": "",
           "title": {
            "standoff": 15
           },
           "zerolinecolor": "white",
           "zerolinewidth": 2
          },
          "yaxis": {
           "automargin": true,
           "gridcolor": "white",
           "linecolor": "white",
           "ticks": "",
           "title": {
            "standoff": 15
           },
           "zerolinecolor": "white",
           "zerolinewidth": 2
          }
         }
        },
        "title": {
         "x": 0.5
        },
        "width": 1400,
        "xaxis": {
         "anchor": "y",
         "domain": [
          0,
          0.31999999999999995
         ],
         "tickfont": {
          "size": 14
         },
         "title": {
          "font": {
           "size": 14
          },
          "text": "Stock"
         }
        },
        "xaxis2": {
         "anchor": "y2",
         "domain": [
          0.33999999999999997,
          0.6599999999999999
         ],
         "matches": "x",
         "tickfont": {
          "size": 14
         },
         "title": {
          "font": {
           "size": 14
          },
          "text": "Stock"
         }
        },
        "xaxis3": {
         "anchor": "y3",
         "domain": [
          0.6799999999999999,
          0.9999999999999999
         ],
         "matches": "x",
         "tickfont": {
          "size": 14
         },
         "title": {
          "font": {
           "size": 14
          },
          "text": "Stock"
         }
        },
        "yaxis": {
         "anchor": "x",
         "domain": [
          0,
          1
         ],
         "tickfont": {
          "size": 14
         },
         "title": {
          "font": {
           "size": 14
          },
          "text": "RMSE"
         }
        },
        "yaxis2": {
         "anchor": "x2",
         "domain": [
          0,
          1
         ],
         "matches": "y",
         "showticklabels": false,
         "tickfont": {
          "size": 14
         },
         "title": {
          "font": {
           "size": 14
          }
         }
        },
        "yaxis3": {
         "anchor": "x3",
         "domain": [
          0,
          1
         ],
         "matches": "y",
         "showticklabels": false,
         "tickfont": {
          "size": 14
         },
         "title": {
          "font": {
           "size": 14
          }
         }
        }
       }
      }
     },
     "metadata": {},
     "output_type": "display_data"
    }
   ],
   "source": [
    "# Grafico sem o modelo 4\n",
    "fig = plot_rmse_facet_plotly(resultados_concatenados[resultados_concatenados['Model'] != 'model_4'])\n",
    "fig.show()"
   ]
  },
  {
   "cell_type": "code",
   "execution_count": 12,
   "metadata": {},
   "outputs": [
    {
     "data": {
      "application/vnd.plotly.v1+json": {
       "config": {
        "plotlyServerURL": "https://plot.ly"
       },
       "data": [
        {
         "hovertemplate": "Model=model_1<br>Description=%{x}<br>RMSE=%{y}<extra></extra>",
         "legendgroup": "model_1",
         "line": {
          "color": "#636efa",
          "dash": "solid"
         },
         "marker": {
          "symbol": "circle"
         },
         "mode": "lines+markers",
         "name": "model_1",
         "orientation": "v",
         "showlegend": true,
         "type": "scatter",
         "x": [
          "Stock Data",
          "Stock Data + Google News",
          "Stock Data + Twitter",
          "Stock Data + IT (IFR + MMS + MME)",
          "Google News + Twitter + IFR + MMS",
          "Google News + Twitter + IFR + MME",
          "Google News + Twitter + IFR + MME + MMS"
         ],
         "xaxis": "x",
         "y": {
          "bdata": "7XGDyv9Bkj+0o6vnHymSP0HsUmBNmpI/62SJ5xT1kT9p0q1P7nWSP8VDUJP6RJI/98/lOeSGkz8=",
          "dtype": "f8"
         },
         "yaxis": "y"
        },
        {
         "hovertemplate": "Model=model_2<br>Description=%{x}<br>RMSE=%{y}<extra></extra>",
         "legendgroup": "model_2",
         "line": {
          "color": "#EF553B",
          "dash": "solid"
         },
         "marker": {
          "symbol": "circle"
         },
         "mode": "lines+markers",
         "name": "model_2",
         "orientation": "v",
         "showlegend": true,
         "type": "scatter",
         "x": [
          "Stock Data",
          "Stock Data + Google News",
          "Stock Data + Twitter",
          "Stock Data + IT (IFR + MMS + MME)",
          "Google News + Twitter + IFR + MMS",
          "Google News + Twitter + IFR + MME",
          "Google News + Twitter + IFR + MME + MMS"
         ],
         "xaxis": "x",
         "y": {
          "bdata": "KIt0dkITkj9VA80BWTGSPzyyTys005E/CrzgMFxtkT899J/NDZqRP6LGGngUj5E/T7j5l4X7kT8=",
          "dtype": "f8"
         },
         "yaxis": "y"
        },
        {
         "hovertemplate": "Model=model_3<br>Description=%{x}<br>RMSE=%{y}<extra></extra>",
         "legendgroup": "model_3",
         "line": {
          "color": "#00cc96",
          "dash": "solid"
         },
         "marker": {
          "symbol": "circle"
         },
         "mode": "lines+markers",
         "name": "model_3",
         "orientation": "v",
         "showlegend": true,
         "type": "scatter",
         "x": [
          "Stock Data",
          "Stock Data + Google News",
          "Stock Data + Twitter",
          "Stock Data + IT (IFR + MMS + MME)",
          "Google News + Twitter + IFR + MMS",
          "Google News + Twitter + IFR + MME",
          "Google News + Twitter + IFR + MME + MMS"
         ],
         "xaxis": "x",
         "y": {
          "bdata": "GLoMH0b/kD9w5MJ1tciSP9i5CkSVV5I/luUtgATokT9Rh9rvwIeSPzoJeR/T5JE/vJJH5QXlkT8=",
          "dtype": "f8"
         },
         "yaxis": "y"
        },
        {
         "hovertemplate": "Model=model_4<br>Description=%{x}<br>RMSE=%{y}<extra></extra>",
         "legendgroup": "model_4",
         "line": {
          "color": "#ab63fa",
          "dash": "solid"
         },
         "marker": {
          "symbol": "circle"
         },
         "mode": "lines+markers",
         "name": "model_4",
         "orientation": "v",
         "showlegend": true,
         "type": "scatter",
         "x": [
          "Stock Data",
          "Stock Data + Google News",
          "Stock Data + Twitter",
          "Stock Data + IT (IFR + MMS + MME)",
          "Google News + Twitter + IFR + MMS",
          "Google News + Twitter + IFR + MME",
          "Google News + Twitter + IFR + MME + MMS"
         ],
         "xaxis": "x",
         "y": {
          "bdata": "r15Yt5/akD/0jY5AtUGjP0wzUWTz45A/g6rHVZT2sz/y7jaD8QCzP1bviaehYq4/xGKmanf5rD8=",
          "dtype": "f8"
         },
         "yaxis": "y"
        }
       ],
       "layout": {
        "font": {
         "size": 10
        },
        "height": 500,
        "legend": {
         "title": {
          "text": "Model"
         },
         "tracegroupgap": 0
        },
        "margin": {
         "b": 20,
         "l": 20,
         "r": 20,
         "t": 40
        },
        "template": {
         "data": {
          "bar": [
           {
            "error_x": {
             "color": "#2a3f5f"
            },
            "error_y": {
             "color": "#2a3f5f"
            },
            "marker": {
             "line": {
              "color": "#E5ECF6",
              "width": 0.5
             },
             "pattern": {
              "fillmode": "overlay",
              "size": 10,
              "solidity": 0.2
             }
            },
            "type": "bar"
           }
          ],
          "barpolar": [
           {
            "marker": {
             "line": {
              "color": "#E5ECF6",
              "width": 0.5
             },
             "pattern": {
              "fillmode": "overlay",
              "size": 10,
              "solidity": 0.2
             }
            },
            "type": "barpolar"
           }
          ],
          "carpet": [
           {
            "aaxis": {
             "endlinecolor": "#2a3f5f",
             "gridcolor": "white",
             "linecolor": "white",
             "minorgridcolor": "white",
             "startlinecolor": "#2a3f5f"
            },
            "baxis": {
             "endlinecolor": "#2a3f5f",
             "gridcolor": "white",
             "linecolor": "white",
             "minorgridcolor": "white",
             "startlinecolor": "#2a3f5f"
            },
            "type": "carpet"
           }
          ],
          "choropleth": [
           {
            "colorbar": {
             "outlinewidth": 0,
             "ticks": ""
            },
            "type": "choropleth"
           }
          ],
          "contour": [
           {
            "colorbar": {
             "outlinewidth": 0,
             "ticks": ""
            },
            "colorscale": [
             [
              0,
              "#0d0887"
             ],
             [
              0.1111111111111111,
              "#46039f"
             ],
             [
              0.2222222222222222,
              "#7201a8"
             ],
             [
              0.3333333333333333,
              "#9c179e"
             ],
             [
              0.4444444444444444,
              "#bd3786"
             ],
             [
              0.5555555555555556,
              "#d8576b"
             ],
             [
              0.6666666666666666,
              "#ed7953"
             ],
             [
              0.7777777777777778,
              "#fb9f3a"
             ],
             [
              0.8888888888888888,
              "#fdca26"
             ],
             [
              1,
              "#f0f921"
             ]
            ],
            "type": "contour"
           }
          ],
          "contourcarpet": [
           {
            "colorbar": {
             "outlinewidth": 0,
             "ticks": ""
            },
            "type": "contourcarpet"
           }
          ],
          "heatmap": [
           {
            "colorbar": {
             "outlinewidth": 0,
             "ticks": ""
            },
            "colorscale": [
             [
              0,
              "#0d0887"
             ],
             [
              0.1111111111111111,
              "#46039f"
             ],
             [
              0.2222222222222222,
              "#7201a8"
             ],
             [
              0.3333333333333333,
              "#9c179e"
             ],
             [
              0.4444444444444444,
              "#bd3786"
             ],
             [
              0.5555555555555556,
              "#d8576b"
             ],
             [
              0.6666666666666666,
              "#ed7953"
             ],
             [
              0.7777777777777778,
              "#fb9f3a"
             ],
             [
              0.8888888888888888,
              "#fdca26"
             ],
             [
              1,
              "#f0f921"
             ]
            ],
            "type": "heatmap"
           }
          ],
          "histogram": [
           {
            "marker": {
             "pattern": {
              "fillmode": "overlay",
              "size": 10,
              "solidity": 0.2
             }
            },
            "type": "histogram"
           }
          ],
          "histogram2d": [
           {
            "colorbar": {
             "outlinewidth": 0,
             "ticks": ""
            },
            "colorscale": [
             [
              0,
              "#0d0887"
             ],
             [
              0.1111111111111111,
              "#46039f"
             ],
             [
              0.2222222222222222,
              "#7201a8"
             ],
             [
              0.3333333333333333,
              "#9c179e"
             ],
             [
              0.4444444444444444,
              "#bd3786"
             ],
             [
              0.5555555555555556,
              "#d8576b"
             ],
             [
              0.6666666666666666,
              "#ed7953"
             ],
             [
              0.7777777777777778,
              "#fb9f3a"
             ],
             [
              0.8888888888888888,
              "#fdca26"
             ],
             [
              1,
              "#f0f921"
             ]
            ],
            "type": "histogram2d"
           }
          ],
          "histogram2dcontour": [
           {
            "colorbar": {
             "outlinewidth": 0,
             "ticks": ""
            },
            "colorscale": [
             [
              0,
              "#0d0887"
             ],
             [
              0.1111111111111111,
              "#46039f"
             ],
             [
              0.2222222222222222,
              "#7201a8"
             ],
             [
              0.3333333333333333,
              "#9c179e"
             ],
             [
              0.4444444444444444,
              "#bd3786"
             ],
             [
              0.5555555555555556,
              "#d8576b"
             ],
             [
              0.6666666666666666,
              "#ed7953"
             ],
             [
              0.7777777777777778,
              "#fb9f3a"
             ],
             [
              0.8888888888888888,
              "#fdca26"
             ],
             [
              1,
              "#f0f921"
             ]
            ],
            "type": "histogram2dcontour"
           }
          ],
          "mesh3d": [
           {
            "colorbar": {
             "outlinewidth": 0,
             "ticks": ""
            },
            "type": "mesh3d"
           }
          ],
          "parcoords": [
           {
            "line": {
             "colorbar": {
              "outlinewidth": 0,
              "ticks": ""
             }
            },
            "type": "parcoords"
           }
          ],
          "pie": [
           {
            "automargin": true,
            "type": "pie"
           }
          ],
          "scatter": [
           {
            "fillpattern": {
             "fillmode": "overlay",
             "size": 10,
             "solidity": 0.2
            },
            "type": "scatter"
           }
          ],
          "scatter3d": [
           {
            "line": {
             "colorbar": {
              "outlinewidth": 0,
              "ticks": ""
             }
            },
            "marker": {
             "colorbar": {
              "outlinewidth": 0,
              "ticks": ""
             }
            },
            "type": "scatter3d"
           }
          ],
          "scattercarpet": [
           {
            "marker": {
             "colorbar": {
              "outlinewidth": 0,
              "ticks": ""
             }
            },
            "type": "scattercarpet"
           }
          ],
          "scattergeo": [
           {
            "marker": {
             "colorbar": {
              "outlinewidth": 0,
              "ticks": ""
             }
            },
            "type": "scattergeo"
           }
          ],
          "scattergl": [
           {
            "marker": {
             "colorbar": {
              "outlinewidth": 0,
              "ticks": ""
             }
            },
            "type": "scattergl"
           }
          ],
          "scattermap": [
           {
            "marker": {
             "colorbar": {
              "outlinewidth": 0,
              "ticks": ""
             }
            },
            "type": "scattermap"
           }
          ],
          "scattermapbox": [
           {
            "marker": {
             "colorbar": {
              "outlinewidth": 0,
              "ticks": ""
             }
            },
            "type": "scattermapbox"
           }
          ],
          "scatterpolar": [
           {
            "marker": {
             "colorbar": {
              "outlinewidth": 0,
              "ticks": ""
             }
            },
            "type": "scatterpolar"
           }
          ],
          "scatterpolargl": [
           {
            "marker": {
             "colorbar": {
              "outlinewidth": 0,
              "ticks": ""
             }
            },
            "type": "scatterpolargl"
           }
          ],
          "scatterternary": [
           {
            "marker": {
             "colorbar": {
              "outlinewidth": 0,
              "ticks": ""
             }
            },
            "type": "scatterternary"
           }
          ],
          "surface": [
           {
            "colorbar": {
             "outlinewidth": 0,
             "ticks": ""
            },
            "colorscale": [
             [
              0,
              "#0d0887"
             ],
             [
              0.1111111111111111,
              "#46039f"
             ],
             [
              0.2222222222222222,
              "#7201a8"
             ],
             [
              0.3333333333333333,
              "#9c179e"
             ],
             [
              0.4444444444444444,
              "#bd3786"
             ],
             [
              0.5555555555555556,
              "#d8576b"
             ],
             [
              0.6666666666666666,
              "#ed7953"
             ],
             [
              0.7777777777777778,
              "#fb9f3a"
             ],
             [
              0.8888888888888888,
              "#fdca26"
             ],
             [
              1,
              "#f0f921"
             ]
            ],
            "type": "surface"
           }
          ],
          "table": [
           {
            "cells": {
             "fill": {
              "color": "#EBF0F8"
             },
             "line": {
              "color": "white"
             }
            },
            "header": {
             "fill": {
              "color": "#C8D4E3"
             },
             "line": {
              "color": "white"
             }
            },
            "type": "table"
           }
          ]
         },
         "layout": {
          "annotationdefaults": {
           "arrowcolor": "#2a3f5f",
           "arrowhead": 0,
           "arrowwidth": 1
          },
          "autotypenumbers": "strict",
          "coloraxis": {
           "colorbar": {
            "outlinewidth": 0,
            "ticks": ""
           }
          },
          "colorscale": {
           "diverging": [
            [
             0,
             "#8e0152"
            ],
            [
             0.1,
             "#c51b7d"
            ],
            [
             0.2,
             "#de77ae"
            ],
            [
             0.3,
             "#f1b6da"
            ],
            [
             0.4,
             "#fde0ef"
            ],
            [
             0.5,
             "#f7f7f7"
            ],
            [
             0.6,
             "#e6f5d0"
            ],
            [
             0.7,
             "#b8e186"
            ],
            [
             0.8,
             "#7fbc41"
            ],
            [
             0.9,
             "#4d9221"
            ],
            [
             1,
             "#276419"
            ]
           ],
           "sequential": [
            [
             0,
             "#0d0887"
            ],
            [
             0.1111111111111111,
             "#46039f"
            ],
            [
             0.2222222222222222,
             "#7201a8"
            ],
            [
             0.3333333333333333,
             "#9c179e"
            ],
            [
             0.4444444444444444,
             "#bd3786"
            ],
            [
             0.5555555555555556,
             "#d8576b"
            ],
            [
             0.6666666666666666,
             "#ed7953"
            ],
            [
             0.7777777777777778,
             "#fb9f3a"
            ],
            [
             0.8888888888888888,
             "#fdca26"
            ],
            [
             1,
             "#f0f921"
            ]
           ],
           "sequentialminus": [
            [
             0,
             "#0d0887"
            ],
            [
             0.1111111111111111,
             "#46039f"
            ],
            [
             0.2222222222222222,
             "#7201a8"
            ],
            [
             0.3333333333333333,
             "#9c179e"
            ],
            [
             0.4444444444444444,
             "#bd3786"
            ],
            [
             0.5555555555555556,
             "#d8576b"
            ],
            [
             0.6666666666666666,
             "#ed7953"
            ],
            [
             0.7777777777777778,
             "#fb9f3a"
            ],
            [
             0.8888888888888888,
             "#fdca26"
            ],
            [
             1,
             "#f0f921"
            ]
           ]
          },
          "colorway": [
           "#636efa",
           "#EF553B",
           "#00cc96",
           "#ab63fa",
           "#FFA15A",
           "#19d3f3",
           "#FF6692",
           "#B6E880",
           "#FF97FF",
           "#FECB52"
          ],
          "font": {
           "color": "#2a3f5f"
          },
          "geo": {
           "bgcolor": "white",
           "lakecolor": "white",
           "landcolor": "#E5ECF6",
           "showlakes": true,
           "showland": true,
           "subunitcolor": "white"
          },
          "hoverlabel": {
           "align": "left"
          },
          "hovermode": "closest",
          "mapbox": {
           "style": "light"
          },
          "paper_bgcolor": "white",
          "plot_bgcolor": "#E5ECF6",
          "polar": {
           "angularaxis": {
            "gridcolor": "white",
            "linecolor": "white",
            "ticks": ""
           },
           "bgcolor": "#E5ECF6",
           "radialaxis": {
            "gridcolor": "white",
            "linecolor": "white",
            "ticks": ""
           }
          },
          "scene": {
           "xaxis": {
            "backgroundcolor": "#E5ECF6",
            "gridcolor": "white",
            "gridwidth": 2,
            "linecolor": "white",
            "showbackground": true,
            "ticks": "",
            "zerolinecolor": "white"
           },
           "yaxis": {
            "backgroundcolor": "#E5ECF6",
            "gridcolor": "white",
            "gridwidth": 2,
            "linecolor": "white",
            "showbackground": true,
            "ticks": "",
            "zerolinecolor": "white"
           },
           "zaxis": {
            "backgroundcolor": "#E5ECF6",
            "gridcolor": "white",
            "gridwidth": 2,
            "linecolor": "white",
            "showbackground": true,
            "ticks": "",
            "zerolinecolor": "white"
           }
          },
          "shapedefaults": {
           "line": {
            "color": "#2a3f5f"
           }
          },
          "ternary": {
           "aaxis": {
            "gridcolor": "white",
            "linecolor": "white",
            "ticks": ""
           },
           "baxis": {
            "gridcolor": "white",
            "linecolor": "white",
            "ticks": ""
           },
           "bgcolor": "#E5ECF6",
           "caxis": {
            "gridcolor": "white",
            "linecolor": "white",
            "ticks": ""
           }
          },
          "title": {
           "x": 0.05
          },
          "xaxis": {
           "automargin": true,
           "gridcolor": "white",
           "linecolor": "white",
           "ticks": "",
           "title": {
            "standoff": 15
           },
           "zerolinecolor": "white",
           "zerolinewidth": 2
          },
          "yaxis": {
           "automargin": true,
           "gridcolor": "white",
           "linecolor": "white",
           "ticks": "",
           "title": {
            "standoff": 15
           },
           "zerolinecolor": "white",
           "zerolinewidth": 2
          }
         }
        },
        "title": {
         "text": "RMSE por Combinações para PETR4",
         "x": 0.5
        },
        "width": 800,
        "xaxis": {
         "anchor": "y",
         "domain": [
          0,
          1
         ],
         "title": {
          "text": "Description"
         }
        },
        "yaxis": {
         "anchor": "x",
         "domain": [
          0,
          1
         ],
         "title": {
          "text": "RMSE"
         }
        }
       }
      }
     },
     "metadata": {},
     "output_type": "display_data"
    }
   ],
   "source": [
    "# Grafico RMSE por combinação por ação\n",
    "fig_filtered = plot_rmse_line_plotly(resultados_concatenados, stock_name='PETR4')\n",
    "fig_filtered.show()"
   ]
  },
  {
   "cell_type": "code",
   "execution_count": null,
   "metadata": {},
   "outputs": [
    {
     "data": {
      "application/vnd.plotly.v1+json": {
       "config": {
        "plotlyServerURL": "https://plot.ly"
       },
       "data": [
        {
         "hovertemplate": "Model=model_1<br>Description=%{x}<br>RMSE=%{y}<extra></extra>",
         "legendgroup": "model_1",
         "line": {
          "color": "#636efa",
          "dash": "solid"
         },
         "marker": {
          "symbol": "circle"
         },
         "mode": "lines+markers",
         "name": "model_1",
         "orientation": "v",
         "showlegend": true,
         "type": "scatter",
         "x": [
          "Stock Data",
          "Stock Data + Google News",
          "Stock Data + Twitter",
          "Stock Data + IT (IFR + MMS + MME)",
          "Google News + Twitter + IFR + MMS",
          "Google News + Twitter + IFR + MME",
          "Google News + Twitter + IFR + MME + MMS"
         ],
         "xaxis": "x",
         "y": {
          "bdata": "k+y0HygvlT9tPw5dxCuUP8pevRhm6pk/IU7wU8g0oz/uF31YxzSnP+YCX1VqLK0/qq4zVQcLmD8=",
          "dtype": "f8"
         },
         "yaxis": "y"
        },
        {
         "hovertemplate": "Model=model_2<br>Description=%{x}<br>RMSE=%{y}<extra></extra>",
         "legendgroup": "model_2",
         "line": {
          "color": "#EF553B",
          "dash": "solid"
         },
         "marker": {
          "symbol": "circle"
         },
         "mode": "lines+markers",
         "name": "model_2",
         "orientation": "v",
         "showlegend": true,
         "type": "scatter",
         "x": [
          "Stock Data",
          "Stock Data + Google News",
          "Stock Data + Twitter",
          "Stock Data + IT (IFR + MMS + MME)",
          "Google News + Twitter + IFR + MMS",
          "Google News + Twitter + IFR + MME",
          "Google News + Twitter + IFR + MME + MMS"
         ],
         "xaxis": "x",
         "y": {
          "bdata": "LBJpFzH1kj+hzjyh6NuSP/0dLFHZTZM/9A6vMJpalT/J78OJ9TWWP8UEPqvnaJY/s2lTjNeclz8=",
          "dtype": "f8"
         },
         "yaxis": "y"
        },
        {
         "hovertemplate": "Model=model_3<br>Description=%{x}<br>RMSE=%{y}<extra></extra>",
         "legendgroup": "model_3",
         "line": {
          "color": "#00cc96",
          "dash": "solid"
         },
         "marker": {
          "symbol": "circle"
         },
         "mode": "lines+markers",
         "name": "model_3",
         "orientation": "v",
         "showlegend": true,
         "type": "scatter",
         "x": [
          "Stock Data",
          "Stock Data + Google News",
          "Stock Data + Twitter",
          "Stock Data + IT (IFR + MMS + MME)",
          "Google News + Twitter + IFR + MMS",
          "Google News + Twitter + IFR + MME",
          "Google News + Twitter + IFR + MME + MMS"
         ],
         "xaxis": "x",
         "y": {
          "bdata": "vc/rLCGIkT+FjWckBHihPzn5GVN20ac/j4PXeTb7kj/ZnpqeFWOcPy7dl4O7RJc/Cf8UbqHkoT8=",
          "dtype": "f8"
         },
         "yaxis": "y"
        },
        {
         "hovertemplate": "Model=model_4<br>Description=%{x}<br>RMSE=%{y}<extra></extra>",
         "legendgroup": "model_4",
         "line": {
          "color": "#ab63fa",
          "dash": "solid"
         },
         "marker": {
          "symbol": "circle"
         },
         "mode": "lines+markers",
         "name": "model_4",
         "orientation": "v",
         "showlegend": true,
         "type": "scatter",
         "x": [
          "Stock Data",
          "Stock Data + Google News",
          "Stock Data + Twitter",
          "Stock Data + IT (IFR + MMS + MME)",
          "Google News + Twitter + IFR + MMS",
          "Google News + Twitter + IFR + MME",
          "Google News + Twitter + IFR + MME + MMS"
         ],
         "xaxis": "x",
         "y": {
          "bdata": "4gb55Ctc0T/0wU1JmavSP2gvCqwJhtE/xaBRTb8Syz9ZBMndstfOP7QHuDUuTtA/Av9RpEB60D8=",
          "dtype": "f8"
         },
         "yaxis": "y"
        }
       ],
       "layout": {
        "font": {
         "size": 10
        },
        "height": 500,
        "legend": {
         "title": {
          "text": "Model"
         },
         "tracegroupgap": 0
        },
        "margin": {
         "b": 20,
         "l": 20,
         "r": 20,
         "t": 40
        },
        "template": {
         "data": {
          "bar": [
           {
            "error_x": {
             "color": "#2a3f5f"
            },
            "error_y": {
             "color": "#2a3f5f"
            },
            "marker": {
             "line": {
              "color": "#E5ECF6",
              "width": 0.5
             },
             "pattern": {
              "fillmode": "overlay",
              "size": 10,
              "solidity": 0.2
             }
            },
            "type": "bar"
           }
          ],
          "barpolar": [
           {
            "marker": {
             "line": {
              "color": "#E5ECF6",
              "width": 0.5
             },
             "pattern": {
              "fillmode": "overlay",
              "size": 10,
              "solidity": 0.2
             }
            },
            "type": "barpolar"
           }
          ],
          "carpet": [
           {
            "aaxis": {
             "endlinecolor": "#2a3f5f",
             "gridcolor": "white",
             "linecolor": "white",
             "minorgridcolor": "white",
             "startlinecolor": "#2a3f5f"
            },
            "baxis": {
             "endlinecolor": "#2a3f5f",
             "gridcolor": "white",
             "linecolor": "white",
             "minorgridcolor": "white",
             "startlinecolor": "#2a3f5f"
            },
            "type": "carpet"
           }
          ],
          "choropleth": [
           {
            "colorbar": {
             "outlinewidth": 0,
             "ticks": ""
            },
            "type": "choropleth"
           }
          ],
          "contour": [
           {
            "colorbar": {
             "outlinewidth": 0,
             "ticks": ""
            },
            "colorscale": [
             [
              0,
              "#0d0887"
             ],
             [
              0.1111111111111111,
              "#46039f"
             ],
             [
              0.2222222222222222,
              "#7201a8"
             ],
             [
              0.3333333333333333,
              "#9c179e"
             ],
             [
              0.4444444444444444,
              "#bd3786"
             ],
             [
              0.5555555555555556,
              "#d8576b"
             ],
             [
              0.6666666666666666,
              "#ed7953"
             ],
             [
              0.7777777777777778,
              "#fb9f3a"
             ],
             [
              0.8888888888888888,
              "#fdca26"
             ],
             [
              1,
              "#f0f921"
             ]
            ],
            "type": "contour"
           }
          ],
          "contourcarpet": [
           {
            "colorbar": {
             "outlinewidth": 0,
             "ticks": ""
            },
            "type": "contourcarpet"
           }
          ],
          "heatmap": [
           {
            "colorbar": {
             "outlinewidth": 0,
             "ticks": ""
            },
            "colorscale": [
             [
              0,
              "#0d0887"
             ],
             [
              0.1111111111111111,
              "#46039f"
             ],
             [
              0.2222222222222222,
              "#7201a8"
             ],
             [
              0.3333333333333333,
              "#9c179e"
             ],
             [
              0.4444444444444444,
              "#bd3786"
             ],
             [
              0.5555555555555556,
              "#d8576b"
             ],
             [
              0.6666666666666666,
              "#ed7953"
             ],
             [
              0.7777777777777778,
              "#fb9f3a"
             ],
             [
              0.8888888888888888,
              "#fdca26"
             ],
             [
              1,
              "#f0f921"
             ]
            ],
            "type": "heatmap"
           }
          ],
          "histogram": [
           {
            "marker": {
             "pattern": {
              "fillmode": "overlay",
              "size": 10,
              "solidity": 0.2
             }
            },
            "type": "histogram"
           }
          ],
          "histogram2d": [
           {
            "colorbar": {
             "outlinewidth": 0,
             "ticks": ""
            },
            "colorscale": [
             [
              0,
              "#0d0887"
             ],
             [
              0.1111111111111111,
              "#46039f"
             ],
             [
              0.2222222222222222,
              "#7201a8"
             ],
             [
              0.3333333333333333,
              "#9c179e"
             ],
             [
              0.4444444444444444,
              "#bd3786"
             ],
             [
              0.5555555555555556,
              "#d8576b"
             ],
             [
              0.6666666666666666,
              "#ed7953"
             ],
             [
              0.7777777777777778,
              "#fb9f3a"
             ],
             [
              0.8888888888888888,
              "#fdca26"
             ],
             [
              1,
              "#f0f921"
             ]
            ],
            "type": "histogram2d"
           }
          ],
          "histogram2dcontour": [
           {
            "colorbar": {
             "outlinewidth": 0,
             "ticks": ""
            },
            "colorscale": [
             [
              0,
              "#0d0887"
             ],
             [
              0.1111111111111111,
              "#46039f"
             ],
             [
              0.2222222222222222,
              "#7201a8"
             ],
             [
              0.3333333333333333,
              "#9c179e"
             ],
             [
              0.4444444444444444,
              "#bd3786"
             ],
             [
              0.5555555555555556,
              "#d8576b"
             ],
             [
              0.6666666666666666,
              "#ed7953"
             ],
             [
              0.7777777777777778,
              "#fb9f3a"
             ],
             [
              0.8888888888888888,
              "#fdca26"
             ],
             [
              1,
              "#f0f921"
             ]
            ],
            "type": "histogram2dcontour"
           }
          ],
          "mesh3d": [
           {
            "colorbar": {
             "outlinewidth": 0,
             "ticks": ""
            },
            "type": "mesh3d"
           }
          ],
          "parcoords": [
           {
            "line": {
             "colorbar": {
              "outlinewidth": 0,
              "ticks": ""
             }
            },
            "type": "parcoords"
           }
          ],
          "pie": [
           {
            "automargin": true,
            "type": "pie"
           }
          ],
          "scatter": [
           {
            "fillpattern": {
             "fillmode": "overlay",
             "size": 10,
             "solidity": 0.2
            },
            "type": "scatter"
           }
          ],
          "scatter3d": [
           {
            "line": {
             "colorbar": {
              "outlinewidth": 0,
              "ticks": ""
             }
            },
            "marker": {
             "colorbar": {
              "outlinewidth": 0,
              "ticks": ""
             }
            },
            "type": "scatter3d"
           }
          ],
          "scattercarpet": [
           {
            "marker": {
             "colorbar": {
              "outlinewidth": 0,
              "ticks": ""
             }
            },
            "type": "scattercarpet"
           }
          ],
          "scattergeo": [
           {
            "marker": {
             "colorbar": {
              "outlinewidth": 0,
              "ticks": ""
             }
            },
            "type": "scattergeo"
           }
          ],
          "scattergl": [
           {
            "marker": {
             "colorbar": {
              "outlinewidth": 0,
              "ticks": ""
             }
            },
            "type": "scattergl"
           }
          ],
          "scattermap": [
           {
            "marker": {
             "colorbar": {
              "outlinewidth": 0,
              "ticks": ""
             }
            },
            "type": "scattermap"
           }
          ],
          "scattermapbox": [
           {
            "marker": {
             "colorbar": {
              "outlinewidth": 0,
              "ticks": ""
             }
            },
            "type": "scattermapbox"
           }
          ],
          "scatterpolar": [
           {
            "marker": {
             "colorbar": {
              "outlinewidth": 0,
              "ticks": ""
             }
            },
            "type": "scatterpolar"
           }
          ],
          "scatterpolargl": [
           {
            "marker": {
             "colorbar": {
              "outlinewidth": 0,
              "ticks": ""
             }
            },
            "type": "scatterpolargl"
           }
          ],
          "scatterternary": [
           {
            "marker": {
             "colorbar": {
              "outlinewidth": 0,
              "ticks": ""
             }
            },
            "type": "scatterternary"
           }
          ],
          "surface": [
           {
            "colorbar": {
             "outlinewidth": 0,
             "ticks": ""
            },
            "colorscale": [
             [
              0,
              "#0d0887"
             ],
             [
              0.1111111111111111,
              "#46039f"
             ],
             [
              0.2222222222222222,
              "#7201a8"
             ],
             [
              0.3333333333333333,
              "#9c179e"
             ],
             [
              0.4444444444444444,
              "#bd3786"
             ],
             [
              0.5555555555555556,
              "#d8576b"
             ],
             [
              0.6666666666666666,
              "#ed7953"
             ],
             [
              0.7777777777777778,
              "#fb9f3a"
             ],
             [
              0.8888888888888888,
              "#fdca26"
             ],
             [
              1,
              "#f0f921"
             ]
            ],
            "type": "surface"
           }
          ],
          "table": [
           {
            "cells": {
             "fill": {
              "color": "#EBF0F8"
             },
             "line": {
              "color": "white"
             }
            },
            "header": {
             "fill": {
              "color": "#C8D4E3"
             },
             "line": {
              "color": "white"
             }
            },
            "type": "table"
           }
          ]
         },
         "layout": {
          "annotationdefaults": {
           "arrowcolor": "#2a3f5f",
           "arrowhead": 0,
           "arrowwidth": 1
          },
          "autotypenumbers": "strict",
          "coloraxis": {
           "colorbar": {
            "outlinewidth": 0,
            "ticks": ""
           }
          },
          "colorscale": {
           "diverging": [
            [
             0,
             "#8e0152"
            ],
            [
             0.1,
             "#c51b7d"
            ],
            [
             0.2,
             "#de77ae"
            ],
            [
             0.3,
             "#f1b6da"
            ],
            [
             0.4,
             "#fde0ef"
            ],
            [
             0.5,
             "#f7f7f7"
            ],
            [
             0.6,
             "#e6f5d0"
            ],
            [
             0.7,
             "#b8e186"
            ],
            [
             0.8,
             "#7fbc41"
            ],
            [
             0.9,
             "#4d9221"
            ],
            [
             1,
             "#276419"
            ]
           ],
           "sequential": [
            [
             0,
             "#0d0887"
            ],
            [
             0.1111111111111111,
             "#46039f"
            ],
            [
             0.2222222222222222,
             "#7201a8"
            ],
            [
             0.3333333333333333,
             "#9c179e"
            ],
            [
             0.4444444444444444,
             "#bd3786"
            ],
            [
             0.5555555555555556,
             "#d8576b"
            ],
            [
             0.6666666666666666,
             "#ed7953"
            ],
            [
             0.7777777777777778,
             "#fb9f3a"
            ],
            [
             0.8888888888888888,
             "#fdca26"
            ],
            [
             1,
             "#f0f921"
            ]
           ],
           "sequentialminus": [
            [
             0,
             "#0d0887"
            ],
            [
             0.1111111111111111,
             "#46039f"
            ],
            [
             0.2222222222222222,
             "#7201a8"
            ],
            [
             0.3333333333333333,
             "#9c179e"
            ],
            [
             0.4444444444444444,
             "#bd3786"
            ],
            [
             0.5555555555555556,
             "#d8576b"
            ],
            [
             0.6666666666666666,
             "#ed7953"
            ],
            [
             0.7777777777777778,
             "#fb9f3a"
            ],
            [
             0.8888888888888888,
             "#fdca26"
            ],
            [
             1,
             "#f0f921"
            ]
           ]
          },
          "colorway": [
           "#636efa",
           "#EF553B",
           "#00cc96",
           "#ab63fa",
           "#FFA15A",
           "#19d3f3",
           "#FF6692",
           "#B6E880",
           "#FF97FF",
           "#FECB52"
          ],
          "font": {
           "color": "#2a3f5f"
          },
          "geo": {
           "bgcolor": "white",
           "lakecolor": "white",
           "landcolor": "#E5ECF6",
           "showlakes": true,
           "showland": true,
           "subunitcolor": "white"
          },
          "hoverlabel": {
           "align": "left"
          },
          "hovermode": "closest",
          "mapbox": {
           "style": "light"
          },
          "paper_bgcolor": "white",
          "plot_bgcolor": "#E5ECF6",
          "polar": {
           "angularaxis": {
            "gridcolor": "white",
            "linecolor": "white",
            "ticks": ""
           },
           "bgcolor": "#E5ECF6",
           "radialaxis": {
            "gridcolor": "white",
            "linecolor": "white",
            "ticks": ""
           }
          },
          "scene": {
           "xaxis": {
            "backgroundcolor": "#E5ECF6",
            "gridcolor": "white",
            "gridwidth": 2,
            "linecolor": "white",
            "showbackground": true,
            "ticks": "",
            "zerolinecolor": "white"
           },
           "yaxis": {
            "backgroundcolor": "#E5ECF6",
            "gridcolor": "white",
            "gridwidth": 2,
            "linecolor": "white",
            "showbackground": true,
            "ticks": "",
            "zerolinecolor": "white"
           },
           "zaxis": {
            "backgroundcolor": "#E5ECF6",
            "gridcolor": "white",
            "gridwidth": 2,
            "linecolor": "white",
            "showbackground": true,
            "ticks": "",
            "zerolinecolor": "white"
           }
          },
          "shapedefaults": {
           "line": {
            "color": "#2a3f5f"
           }
          },
          "ternary": {
           "aaxis": {
            "gridcolor": "white",
            "linecolor": "white",
            "ticks": ""
           },
           "baxis": {
            "gridcolor": "white",
            "linecolor": "white",
            "ticks": ""
           },
           "bgcolor": "#E5ECF6",
           "caxis": {
            "gridcolor": "white",
            "linecolor": "white",
            "ticks": ""
           }
          },
          "title": {
           "x": 0.05
          },
          "xaxis": {
           "automargin": true,
           "gridcolor": "white",
           "linecolor": "white",
           "ticks": "",
           "title": {
            "standoff": 15
           },
           "zerolinecolor": "white",
           "zerolinewidth": 2
          },
          "yaxis": {
           "automargin": true,
           "gridcolor": "white",
           "linecolor": "white",
           "ticks": "",
           "title": {
            "standoff": 15
           },
           "zerolinecolor": "white",
           "zerolinewidth": 2
          }
         }
        },
        "title": {
         "text": "RMSE por Combinações para VALE3",
         "x": 0.5
        },
        "width": 800,
        "xaxis": {
         "anchor": "y",
         "domain": [
          0,
          1
         ],
         "title": {
          "text": "Description"
         }
        },
        "yaxis": {
         "anchor": "x",
         "domain": [
          0,
          1
         ],
         "title": {
          "text": "RMSE"
         }
        }
       }
      }
     },
     "metadata": {},
     "output_type": "display_data"
    }
   ],
   "source": [
    "# Grafico RMSE por combinação por ação\n",
    "fig_filtered = plot_rmse_line_plotly(resultados_concatenados, stock_name='VALE3')\n",
    "fig_filtered.show()"
   ]
  },
  {
   "cell_type": "code",
   "execution_count": null,
   "metadata": {},
   "outputs": [
    {
     "data": {
      "application/vnd.plotly.v1+json": {
       "config": {
        "plotlyServerURL": "https://plot.ly"
       },
       "data": [
        {
         "hovertemplate": "Model=model_1<br>Description=%{x}<br>RMSE=%{y}<extra></extra>",
         "legendgroup": "model_1",
         "line": {
          "color": "#636efa",
          "dash": "solid"
         },
         "marker": {
          "symbol": "circle"
         },
         "mode": "lines+markers",
         "name": "model_1",
         "orientation": "v",
         "showlegend": true,
         "type": "scatter",
         "x": [
          "Stock Data",
          "Stock Data + Google News",
          "Stock Data + Twitter",
          "Stock Data + IT (IFR + MMS + MME)",
          "Google News + Twitter + IFR + MMS",
          "Google News + Twitter + IFR + MME",
          "Google News + Twitter + IFR + MME + MMS"
         ],
         "xaxis": "x",
         "y": {
          "bdata": "n/k80aCRlz9HnmQ4sGmXP1D9r7Mqn5c/gcJXUYZdlz8eNRiUlCaYPx7AqXhA3Jc/GCsZNbLelz8=",
          "dtype": "f8"
         },
         "yaxis": "y"
        },
        {
         "hovertemplate": "Model=model_2<br>Description=%{x}<br>RMSE=%{y}<extra></extra>",
         "legendgroup": "model_2",
         "line": {
          "color": "#EF553B",
          "dash": "solid"
         },
         "marker": {
          "symbol": "circle"
         },
         "mode": "lines+markers",
         "name": "model_2",
         "orientation": "v",
         "showlegend": true,
         "type": "scatter",
         "x": [
          "Stock Data",
          "Stock Data + Google News",
          "Stock Data + Twitter",
          "Stock Data + IT (IFR + MMS + MME)",
          "Google News + Twitter + IFR + MMS",
          "Google News + Twitter + IFR + MME",
          "Google News + Twitter + IFR + MME + MMS"
         ],
         "xaxis": "x",
         "y": {
          "bdata": "g/FA9gGolj85AOGH1w2XP4CQzS1DBZc/9HNz8NgClz8rkq3J7gKXP78xx3Vlapc/212YS/CymT8=",
          "dtype": "f8"
         },
         "yaxis": "y"
        },
        {
         "hovertemplate": "Model=model_3<br>Description=%{x}<br>RMSE=%{y}<extra></extra>",
         "legendgroup": "model_3",
         "line": {
          "color": "#00cc96",
          "dash": "solid"
         },
         "marker": {
          "symbol": "circle"
         },
         "mode": "lines+markers",
         "name": "model_3",
         "orientation": "v",
         "showlegend": true,
         "type": "scatter",
         "x": [
          "Stock Data",
          "Stock Data + Google News",
          "Stock Data + Twitter",
          "Stock Data + IT (IFR + MMS + MME)",
          "Google News + Twitter + IFR + MMS",
          "Google News + Twitter + IFR + MME",
          "Google News + Twitter + IFR + MME + MMS"
         ],
         "xaxis": "x",
         "y": {
          "bdata": "Rw+GtiHTlj9MU8L1OZaXP5eeyhRCApc/1hf6Hgv2lj9OlJQTf+iWP6JHDemeWJc/zlzAsZv8mD8=",
          "dtype": "f8"
         },
         "yaxis": "y"
        },
        {
         "hovertemplate": "Model=model_4<br>Description=%{x}<br>RMSE=%{y}<extra></extra>",
         "legendgroup": "model_4",
         "line": {
          "color": "#ab63fa",
          "dash": "solid"
         },
         "marker": {
          "symbol": "circle"
         },
         "mode": "lines+markers",
         "name": "model_4",
         "orientation": "v",
         "showlegend": true,
         "type": "scatter",
         "x": [
          "Stock Data",
          "Stock Data + Google News",
          "Stock Data + Twitter",
          "Stock Data + IT (IFR + MMS + MME)",
          "Google News + Twitter + IFR + MMS",
          "Google News + Twitter + IFR + MME",
          "Google News + Twitter + IFR + MME + MMS"
         ],
         "xaxis": "x",
         "y": {
          "bdata": "TJd5H8yDlj+BO2yui4qWP0C4/Gkm8aY/NZtbSImAxD9Wt21rbyrHP6W3IPjXIM8/G4CbbBe5xj8=",
          "dtype": "f8"
         },
         "yaxis": "y"
        }
       ],
       "layout": {
        "font": {
         "size": 10
        },
        "height": 500,
        "legend": {
         "title": {
          "text": "Model"
         },
         "tracegroupgap": 0
        },
        "margin": {
         "b": 20,
         "l": 20,
         "r": 20,
         "t": 40
        },
        "template": {
         "data": {
          "bar": [
           {
            "error_x": {
             "color": "#2a3f5f"
            },
            "error_y": {
             "color": "#2a3f5f"
            },
            "marker": {
             "line": {
              "color": "#E5ECF6",
              "width": 0.5
             },
             "pattern": {
              "fillmode": "overlay",
              "size": 10,
              "solidity": 0.2
             }
            },
            "type": "bar"
           }
          ],
          "barpolar": [
           {
            "marker": {
             "line": {
              "color": "#E5ECF6",
              "width": 0.5
             },
             "pattern": {
              "fillmode": "overlay",
              "size": 10,
              "solidity": 0.2
             }
            },
            "type": "barpolar"
           }
          ],
          "carpet": [
           {
            "aaxis": {
             "endlinecolor": "#2a3f5f",
             "gridcolor": "white",
             "linecolor": "white",
             "minorgridcolor": "white",
             "startlinecolor": "#2a3f5f"
            },
            "baxis": {
             "endlinecolor": "#2a3f5f",
             "gridcolor": "white",
             "linecolor": "white",
             "minorgridcolor": "white",
             "startlinecolor": "#2a3f5f"
            },
            "type": "carpet"
           }
          ],
          "choropleth": [
           {
            "colorbar": {
             "outlinewidth": 0,
             "ticks": ""
            },
            "type": "choropleth"
           }
          ],
          "contour": [
           {
            "colorbar": {
             "outlinewidth": 0,
             "ticks": ""
            },
            "colorscale": [
             [
              0,
              "#0d0887"
             ],
             [
              0.1111111111111111,
              "#46039f"
             ],
             [
              0.2222222222222222,
              "#7201a8"
             ],
             [
              0.3333333333333333,
              "#9c179e"
             ],
             [
              0.4444444444444444,
              "#bd3786"
             ],
             [
              0.5555555555555556,
              "#d8576b"
             ],
             [
              0.6666666666666666,
              "#ed7953"
             ],
             [
              0.7777777777777778,
              "#fb9f3a"
             ],
             [
              0.8888888888888888,
              "#fdca26"
             ],
             [
              1,
              "#f0f921"
             ]
            ],
            "type": "contour"
           }
          ],
          "contourcarpet": [
           {
            "colorbar": {
             "outlinewidth": 0,
             "ticks": ""
            },
            "type": "contourcarpet"
           }
          ],
          "heatmap": [
           {
            "colorbar": {
             "outlinewidth": 0,
             "ticks": ""
            },
            "colorscale": [
             [
              0,
              "#0d0887"
             ],
             [
              0.1111111111111111,
              "#46039f"
             ],
             [
              0.2222222222222222,
              "#7201a8"
             ],
             [
              0.3333333333333333,
              "#9c179e"
             ],
             [
              0.4444444444444444,
              "#bd3786"
             ],
             [
              0.5555555555555556,
              "#d8576b"
             ],
             [
              0.6666666666666666,
              "#ed7953"
             ],
             [
              0.7777777777777778,
              "#fb9f3a"
             ],
             [
              0.8888888888888888,
              "#fdca26"
             ],
             [
              1,
              "#f0f921"
             ]
            ],
            "type": "heatmap"
           }
          ],
          "histogram": [
           {
            "marker": {
             "pattern": {
              "fillmode": "overlay",
              "size": 10,
              "solidity": 0.2
             }
            },
            "type": "histogram"
           }
          ],
          "histogram2d": [
           {
            "colorbar": {
             "outlinewidth": 0,
             "ticks": ""
            },
            "colorscale": [
             [
              0,
              "#0d0887"
             ],
             [
              0.1111111111111111,
              "#46039f"
             ],
             [
              0.2222222222222222,
              "#7201a8"
             ],
             [
              0.3333333333333333,
              "#9c179e"
             ],
             [
              0.4444444444444444,
              "#bd3786"
             ],
             [
              0.5555555555555556,
              "#d8576b"
             ],
             [
              0.6666666666666666,
              "#ed7953"
             ],
             [
              0.7777777777777778,
              "#fb9f3a"
             ],
             [
              0.8888888888888888,
              "#fdca26"
             ],
             [
              1,
              "#f0f921"
             ]
            ],
            "type": "histogram2d"
           }
          ],
          "histogram2dcontour": [
           {
            "colorbar": {
             "outlinewidth": 0,
             "ticks": ""
            },
            "colorscale": [
             [
              0,
              "#0d0887"
             ],
             [
              0.1111111111111111,
              "#46039f"
             ],
             [
              0.2222222222222222,
              "#7201a8"
             ],
             [
              0.3333333333333333,
              "#9c179e"
             ],
             [
              0.4444444444444444,
              "#bd3786"
             ],
             [
              0.5555555555555556,
              "#d8576b"
             ],
             [
              0.6666666666666666,
              "#ed7953"
             ],
             [
              0.7777777777777778,
              "#fb9f3a"
             ],
             [
              0.8888888888888888,
              "#fdca26"
             ],
             [
              1,
              "#f0f921"
             ]
            ],
            "type": "histogram2dcontour"
           }
          ],
          "mesh3d": [
           {
            "colorbar": {
             "outlinewidth": 0,
             "ticks": ""
            },
            "type": "mesh3d"
           }
          ],
          "parcoords": [
           {
            "line": {
             "colorbar": {
              "outlinewidth": 0,
              "ticks": ""
             }
            },
            "type": "parcoords"
           }
          ],
          "pie": [
           {
            "automargin": true,
            "type": "pie"
           }
          ],
          "scatter": [
           {
            "fillpattern": {
             "fillmode": "overlay",
             "size": 10,
             "solidity": 0.2
            },
            "type": "scatter"
           }
          ],
          "scatter3d": [
           {
            "line": {
             "colorbar": {
              "outlinewidth": 0,
              "ticks": ""
             }
            },
            "marker": {
             "colorbar": {
              "outlinewidth": 0,
              "ticks": ""
             }
            },
            "type": "scatter3d"
           }
          ],
          "scattercarpet": [
           {
            "marker": {
             "colorbar": {
              "outlinewidth": 0,
              "ticks": ""
             }
            },
            "type": "scattercarpet"
           }
          ],
          "scattergeo": [
           {
            "marker": {
             "colorbar": {
              "outlinewidth": 0,
              "ticks": ""
             }
            },
            "type": "scattergeo"
           }
          ],
          "scattergl": [
           {
            "marker": {
             "colorbar": {
              "outlinewidth": 0,
              "ticks": ""
             }
            },
            "type": "scattergl"
           }
          ],
          "scattermap": [
           {
            "marker": {
             "colorbar": {
              "outlinewidth": 0,
              "ticks": ""
             }
            },
            "type": "scattermap"
           }
          ],
          "scattermapbox": [
           {
            "marker": {
             "colorbar": {
              "outlinewidth": 0,
              "ticks": ""
             }
            },
            "type": "scattermapbox"
           }
          ],
          "scatterpolar": [
           {
            "marker": {
             "colorbar": {
              "outlinewidth": 0,
              "ticks": ""
             }
            },
            "type": "scatterpolar"
           }
          ],
          "scatterpolargl": [
           {
            "marker": {
             "colorbar": {
              "outlinewidth": 0,
              "ticks": ""
             }
            },
            "type": "scatterpolargl"
           }
          ],
          "scatterternary": [
           {
            "marker": {
             "colorbar": {
              "outlinewidth": 0,
              "ticks": ""
             }
            },
            "type": "scatterternary"
           }
          ],
          "surface": [
           {
            "colorbar": {
             "outlinewidth": 0,
             "ticks": ""
            },
            "colorscale": [
             [
              0,
              "#0d0887"
             ],
             [
              0.1111111111111111,
              "#46039f"
             ],
             [
              0.2222222222222222,
              "#7201a8"
             ],
             [
              0.3333333333333333,
              "#9c179e"
             ],
             [
              0.4444444444444444,
              "#bd3786"
             ],
             [
              0.5555555555555556,
              "#d8576b"
             ],
             [
              0.6666666666666666,
              "#ed7953"
             ],
             [
              0.7777777777777778,
              "#fb9f3a"
             ],
             [
              0.8888888888888888,
              "#fdca26"
             ],
             [
              1,
              "#f0f921"
             ]
            ],
            "type": "surface"
           }
          ],
          "table": [
           {
            "cells": {
             "fill": {
              "color": "#EBF0F8"
             },
             "line": {
              "color": "white"
             }
            },
            "header": {
             "fill": {
              "color": "#C8D4E3"
             },
             "line": {
              "color": "white"
             }
            },
            "type": "table"
           }
          ]
         },
         "layout": {
          "annotationdefaults": {
           "arrowcolor": "#2a3f5f",
           "arrowhead": 0,
           "arrowwidth": 1
          },
          "autotypenumbers": "strict",
          "coloraxis": {
           "colorbar": {
            "outlinewidth": 0,
            "ticks": ""
           }
          },
          "colorscale": {
           "diverging": [
            [
             0,
             "#8e0152"
            ],
            [
             0.1,
             "#c51b7d"
            ],
            [
             0.2,
             "#de77ae"
            ],
            [
             0.3,
             "#f1b6da"
            ],
            [
             0.4,
             "#fde0ef"
            ],
            [
             0.5,
             "#f7f7f7"
            ],
            [
             0.6,
             "#e6f5d0"
            ],
            [
             0.7,
             "#b8e186"
            ],
            [
             0.8,
             "#7fbc41"
            ],
            [
             0.9,
             "#4d9221"
            ],
            [
             1,
             "#276419"
            ]
           ],
           "sequential": [
            [
             0,
             "#0d0887"
            ],
            [
             0.1111111111111111,
             "#46039f"
            ],
            [
             0.2222222222222222,
             "#7201a8"
            ],
            [
             0.3333333333333333,
             "#9c179e"
            ],
            [
             0.4444444444444444,
             "#bd3786"
            ],
            [
             0.5555555555555556,
             "#d8576b"
            ],
            [
             0.6666666666666666,
             "#ed7953"
            ],
            [
             0.7777777777777778,
             "#fb9f3a"
            ],
            [
             0.8888888888888888,
             "#fdca26"
            ],
            [
             1,
             "#f0f921"
            ]
           ],
           "sequentialminus": [
            [
             0,
             "#0d0887"
            ],
            [
             0.1111111111111111,
             "#46039f"
            ],
            [
             0.2222222222222222,
             "#7201a8"
            ],
            [
             0.3333333333333333,
             "#9c179e"
            ],
            [
             0.4444444444444444,
             "#bd3786"
            ],
            [
             0.5555555555555556,
             "#d8576b"
            ],
            [
             0.6666666666666666,
             "#ed7953"
            ],
            [
             0.7777777777777778,
             "#fb9f3a"
            ],
            [
             0.8888888888888888,
             "#fdca26"
            ],
            [
             1,
             "#f0f921"
            ]
           ]
          },
          "colorway": [
           "#636efa",
           "#EF553B",
           "#00cc96",
           "#ab63fa",
           "#FFA15A",
           "#19d3f3",
           "#FF6692",
           "#B6E880",
           "#FF97FF",
           "#FECB52"
          ],
          "font": {
           "color": "#2a3f5f"
          },
          "geo": {
           "bgcolor": "white",
           "lakecolor": "white",
           "landcolor": "#E5ECF6",
           "showlakes": true,
           "showland": true,
           "subunitcolor": "white"
          },
          "hoverlabel": {
           "align": "left"
          },
          "hovermode": "closest",
          "mapbox": {
           "style": "light"
          },
          "paper_bgcolor": "white",
          "plot_bgcolor": "#E5ECF6",
          "polar": {
           "angularaxis": {
            "gridcolor": "white",
            "linecolor": "white",
            "ticks": ""
           },
           "bgcolor": "#E5ECF6",
           "radialaxis": {
            "gridcolor": "white",
            "linecolor": "white",
            "ticks": ""
           }
          },
          "scene": {
           "xaxis": {
            "backgroundcolor": "#E5ECF6",
            "gridcolor": "white",
            "gridwidth": 2,
            "linecolor": "white",
            "showbackground": true,
            "ticks": "",
            "zerolinecolor": "white"
           },
           "yaxis": {
            "backgroundcolor": "#E5ECF6",
            "gridcolor": "white",
            "gridwidth": 2,
            "linecolor": "white",
            "showbackground": true,
            "ticks": "",
            "zerolinecolor": "white"
           },
           "zaxis": {
            "backgroundcolor": "#E5ECF6",
            "gridcolor": "white",
            "gridwidth": 2,
            "linecolor": "white",
            "showbackground": true,
            "ticks": "",
            "zerolinecolor": "white"
           }
          },
          "shapedefaults": {
           "line": {
            "color": "#2a3f5f"
           }
          },
          "ternary": {
           "aaxis": {
            "gridcolor": "white",
            "linecolor": "white",
            "ticks": ""
           },
           "baxis": {
            "gridcolor": "white",
            "linecolor": "white",
            "ticks": ""
           },
           "bgcolor": "#E5ECF6",
           "caxis": {
            "gridcolor": "white",
            "linecolor": "white",
            "ticks": ""
           }
          },
          "title": {
           "x": 0.05
          },
          "xaxis": {
           "automargin": true,
           "gridcolor": "white",
           "linecolor": "white",
           "ticks": "",
           "title": {
            "standoff": 15
           },
           "zerolinecolor": "white",
           "zerolinewidth": 2
          },
          "yaxis": {
           "automargin": true,
           "gridcolor": "white",
           "linecolor": "white",
           "ticks": "",
           "title": {
            "standoff": 15
           },
           "zerolinecolor": "white",
           "zerolinewidth": 2
          }
         }
        },
        "title": {
         "text": "RMSE por Combinações para BBDC4",
         "x": 0.5
        },
        "width": 800,
        "xaxis": {
         "anchor": "y",
         "domain": [
          0,
          1
         ],
         "title": {
          "text": "Description"
         }
        },
        "yaxis": {
         "anchor": "x",
         "domain": [
          0,
          1
         ],
         "title": {
          "text": "RMSE"
         }
        }
       }
      }
     },
     "metadata": {},
     "output_type": "display_data"
    }
   ],
   "source": [
    "# Grafico RMSE por combinação por ação\n",
    "fig_filtered = plot_rmse_line_plotly(resultados_concatenados, stock_name='BBDC4')\n",
    "fig_filtered.show()"
   ]
  },
  {
   "cell_type": "code",
   "execution_count": null,
   "metadata": {},
   "outputs": [
    {
     "data": {
      "application/vnd.plotly.v1+json": {
       "config": {
        "plotlyServerURL": "https://plot.ly"
       },
       "data": [
        {
         "hovertemplate": "Model=model_1<br>Description=%{x}<br>RMSE=%{y}<extra></extra>",
         "legendgroup": "model_1",
         "line": {
          "color": "#636efa",
          "dash": "solid"
         },
         "marker": {
          "symbol": "circle"
         },
         "mode": "lines+markers",
         "name": "model_1",
         "orientation": "v",
         "showlegend": true,
         "type": "scatter",
         "x": [
          "Stock Data",
          "Stock Data + Google News",
          "Stock Data + Twitter",
          "Stock Data + IT (IFR + MMS + MME)",
          "Google News + Twitter + IFR + MMS",
          "Google News + Twitter + IFR + MME",
          "Google News + Twitter + IFR + MME + MMS"
         ],
         "xaxis": "x",
         "y": {
          "bdata": "nhAyJ/s9lT8TAuxGxjGVP4EX3tDkcJQ/f5AkArVklj8bHfimoGaXP8i1noK9wpY/2v+BVK3Ulj8=",
          "dtype": "f8"
         },
         "yaxis": "y"
        },
        {
         "hovertemplate": "Model=model_2<br>Description=%{x}<br>RMSE=%{y}<extra></extra>",
         "legendgroup": "model_2",
         "line": {
          "color": "#EF553B",
          "dash": "solid"
         },
         "marker": {
          "symbol": "circle"
         },
         "mode": "lines+markers",
         "name": "model_2",
         "orientation": "v",
         "showlegend": true,
         "type": "scatter",
         "x": [
          "Stock Data",
          "Stock Data + Google News",
          "Stock Data + Twitter",
          "Stock Data + IT (IFR + MMS + MME)",
          "Google News + Twitter + IFR + MMS",
          "Google News + Twitter + IFR + MME",
          "Google News + Twitter + IFR + MME + MMS"
         ],
         "xaxis": "x",
         "y": {
          "bdata": "7ERc8ulklD9ppo7Lk2uUP1A4OkM0epQ/LZ6l4TUflD82fekl4MaUP0NrkcZPs5Q/CgGjn9oJlT8=",
          "dtype": "f8"
         },
         "yaxis": "y"
        },
        {
         "hovertemplate": "Model=model_3<br>Description=%{x}<br>RMSE=%{y}<extra></extra>",
         "legendgroup": "model_3",
         "line": {
          "color": "#00cc96",
          "dash": "solid"
         },
         "marker": {
          "symbol": "circle"
         },
         "mode": "lines+markers",
         "name": "model_3",
         "orientation": "v",
         "showlegend": true,
         "type": "scatter",
         "x": [
          "Stock Data",
          "Stock Data + Google News",
          "Stock Data + Twitter",
          "Stock Data + IT (IFR + MMS + MME)",
          "Google News + Twitter + IFR + MMS",
          "Google News + Twitter + IFR + MME",
          "Google News + Twitter + IFR + MME + MMS"
         ],
         "xaxis": "x",
         "y": {
          "bdata": "toxA9XDnkz89p49SSK+UP/EtpKLQjZQ/c9zrD0l5lD85oNZQqkyUPw6CrSc2xJQ/TXz9tmpdlj8=",
          "dtype": "f8"
         },
         "yaxis": "y"
        },
        {
         "hovertemplate": "Model=model_4<br>Description=%{x}<br>RMSE=%{y}<extra></extra>",
         "legendgroup": "model_4",
         "line": {
          "color": "#ab63fa",
          "dash": "solid"
         },
         "marker": {
          "symbol": "circle"
         },
         "mode": "lines+markers",
         "name": "model_4",
         "orientation": "v",
         "showlegend": true,
         "type": "scatter",
         "x": [
          "Stock Data",
          "Stock Data + Google News",
          "Stock Data + Twitter",
          "Stock Data + IT (IFR + MMS + MME)",
          "Google News + Twitter + IFR + MMS",
          "Google News + Twitter + IFR + MME",
          "Google News + Twitter + IFR + MME + MMS"
         ],
         "xaxis": "x",
         "y": {
          "bdata": "/7sjKQSDkz+h/uJBrdmzP1H4y7FPwJg/wUUGPDXbtj+WxdtcGWqwPzeRw79eEro/u5VitaTTrT8=",
          "dtype": "f8"
         },
         "yaxis": "y"
        }
       ],
       "layout": {
        "font": {
         "size": 10
        },
        "height": 500,
        "legend": {
         "title": {
          "text": "Model"
         },
         "tracegroupgap": 0
        },
        "margin": {
         "b": 20,
         "l": 20,
         "r": 20,
         "t": 40
        },
        "template": {
         "data": {
          "bar": [
           {
            "error_x": {
             "color": "#2a3f5f"
            },
            "error_y": {
             "color": "#2a3f5f"
            },
            "marker": {
             "line": {
              "color": "#E5ECF6",
              "width": 0.5
             },
             "pattern": {
              "fillmode": "overlay",
              "size": 10,
              "solidity": 0.2
             }
            },
            "type": "bar"
           }
          ],
          "barpolar": [
           {
            "marker": {
             "line": {
              "color": "#E5ECF6",
              "width": 0.5
             },
             "pattern": {
              "fillmode": "overlay",
              "size": 10,
              "solidity": 0.2
             }
            },
            "type": "barpolar"
           }
          ],
          "carpet": [
           {
            "aaxis": {
             "endlinecolor": "#2a3f5f",
             "gridcolor": "white",
             "linecolor": "white",
             "minorgridcolor": "white",
             "startlinecolor": "#2a3f5f"
            },
            "baxis": {
             "endlinecolor": "#2a3f5f",
             "gridcolor": "white",
             "linecolor": "white",
             "minorgridcolor": "white",
             "startlinecolor": "#2a3f5f"
            },
            "type": "carpet"
           }
          ],
          "choropleth": [
           {
            "colorbar": {
             "outlinewidth": 0,
             "ticks": ""
            },
            "type": "choropleth"
           }
          ],
          "contour": [
           {
            "colorbar": {
             "outlinewidth": 0,
             "ticks": ""
            },
            "colorscale": [
             [
              0,
              "#0d0887"
             ],
             [
              0.1111111111111111,
              "#46039f"
             ],
             [
              0.2222222222222222,
              "#7201a8"
             ],
             [
              0.3333333333333333,
              "#9c179e"
             ],
             [
              0.4444444444444444,
              "#bd3786"
             ],
             [
              0.5555555555555556,
              "#d8576b"
             ],
             [
              0.6666666666666666,
              "#ed7953"
             ],
             [
              0.7777777777777778,
              "#fb9f3a"
             ],
             [
              0.8888888888888888,
              "#fdca26"
             ],
             [
              1,
              "#f0f921"
             ]
            ],
            "type": "contour"
           }
          ],
          "contourcarpet": [
           {
            "colorbar": {
             "outlinewidth": 0,
             "ticks": ""
            },
            "type": "contourcarpet"
           }
          ],
          "heatmap": [
           {
            "colorbar": {
             "outlinewidth": 0,
             "ticks": ""
            },
            "colorscale": [
             [
              0,
              "#0d0887"
             ],
             [
              0.1111111111111111,
              "#46039f"
             ],
             [
              0.2222222222222222,
              "#7201a8"
             ],
             [
              0.3333333333333333,
              "#9c179e"
             ],
             [
              0.4444444444444444,
              "#bd3786"
             ],
             [
              0.5555555555555556,
              "#d8576b"
             ],
             [
              0.6666666666666666,
              "#ed7953"
             ],
             [
              0.7777777777777778,
              "#fb9f3a"
             ],
             [
              0.8888888888888888,
              "#fdca26"
             ],
             [
              1,
              "#f0f921"
             ]
            ],
            "type": "heatmap"
           }
          ],
          "histogram": [
           {
            "marker": {
             "pattern": {
              "fillmode": "overlay",
              "size": 10,
              "solidity": 0.2
             }
            },
            "type": "histogram"
           }
          ],
          "histogram2d": [
           {
            "colorbar": {
             "outlinewidth": 0,
             "ticks": ""
            },
            "colorscale": [
             [
              0,
              "#0d0887"
             ],
             [
              0.1111111111111111,
              "#46039f"
             ],
             [
              0.2222222222222222,
              "#7201a8"
             ],
             [
              0.3333333333333333,
              "#9c179e"
             ],
             [
              0.4444444444444444,
              "#bd3786"
             ],
             [
              0.5555555555555556,
              "#d8576b"
             ],
             [
              0.6666666666666666,
              "#ed7953"
             ],
             [
              0.7777777777777778,
              "#fb9f3a"
             ],
             [
              0.8888888888888888,
              "#fdca26"
             ],
             [
              1,
              "#f0f921"
             ]
            ],
            "type": "histogram2d"
           }
          ],
          "histogram2dcontour": [
           {
            "colorbar": {
             "outlinewidth": 0,
             "ticks": ""
            },
            "colorscale": [
             [
              0,
              "#0d0887"
             ],
             [
              0.1111111111111111,
              "#46039f"
             ],
             [
              0.2222222222222222,
              "#7201a8"
             ],
             [
              0.3333333333333333,
              "#9c179e"
             ],
             [
              0.4444444444444444,
              "#bd3786"
             ],
             [
              0.5555555555555556,
              "#d8576b"
             ],
             [
              0.6666666666666666,
              "#ed7953"
             ],
             [
              0.7777777777777778,
              "#fb9f3a"
             ],
             [
              0.8888888888888888,
              "#fdca26"
             ],
             [
              1,
              "#f0f921"
             ]
            ],
            "type": "histogram2dcontour"
           }
          ],
          "mesh3d": [
           {
            "colorbar": {
             "outlinewidth": 0,
             "ticks": ""
            },
            "type": "mesh3d"
           }
          ],
          "parcoords": [
           {
            "line": {
             "colorbar": {
              "outlinewidth": 0,
              "ticks": ""
             }
            },
            "type": "parcoords"
           }
          ],
          "pie": [
           {
            "automargin": true,
            "type": "pie"
           }
          ],
          "scatter": [
           {
            "fillpattern": {
             "fillmode": "overlay",
             "size": 10,
             "solidity": 0.2
            },
            "type": "scatter"
           }
          ],
          "scatter3d": [
           {
            "line": {
             "colorbar": {
              "outlinewidth": 0,
              "ticks": ""
             }
            },
            "marker": {
             "colorbar": {
              "outlinewidth": 0,
              "ticks": ""
             }
            },
            "type": "scatter3d"
           }
          ],
          "scattercarpet": [
           {
            "marker": {
             "colorbar": {
              "outlinewidth": 0,
              "ticks": ""
             }
            },
            "type": "scattercarpet"
           }
          ],
          "scattergeo": [
           {
            "marker": {
             "colorbar": {
              "outlinewidth": 0,
              "ticks": ""
             }
            },
            "type": "scattergeo"
           }
          ],
          "scattergl": [
           {
            "marker": {
             "colorbar": {
              "outlinewidth": 0,
              "ticks": ""
             }
            },
            "type": "scattergl"
           }
          ],
          "scattermap": [
           {
            "marker": {
             "colorbar": {
              "outlinewidth": 0,
              "ticks": ""
             }
            },
            "type": "scattermap"
           }
          ],
          "scattermapbox": [
           {
            "marker": {
             "colorbar": {
              "outlinewidth": 0,
              "ticks": ""
             }
            },
            "type": "scattermapbox"
           }
          ],
          "scatterpolar": [
           {
            "marker": {
             "colorbar": {
              "outlinewidth": 0,
              "ticks": ""
             }
            },
            "type": "scatterpolar"
           }
          ],
          "scatterpolargl": [
           {
            "marker": {
             "colorbar": {
              "outlinewidth": 0,
              "ticks": ""
             }
            },
            "type": "scatterpolargl"
           }
          ],
          "scatterternary": [
           {
            "marker": {
             "colorbar": {
              "outlinewidth": 0,
              "ticks": ""
             }
            },
            "type": "scatterternary"
           }
          ],
          "surface": [
           {
            "colorbar": {
             "outlinewidth": 0,
             "ticks": ""
            },
            "colorscale": [
             [
              0,
              "#0d0887"
             ],
             [
              0.1111111111111111,
              "#46039f"
             ],
             [
              0.2222222222222222,
              "#7201a8"
             ],
             [
              0.3333333333333333,
              "#9c179e"
             ],
             [
              0.4444444444444444,
              "#bd3786"
             ],
             [
              0.5555555555555556,
              "#d8576b"
             ],
             [
              0.6666666666666666,
              "#ed7953"
             ],
             [
              0.7777777777777778,
              "#fb9f3a"
             ],
             [
              0.8888888888888888,
              "#fdca26"
             ],
             [
              1,
              "#f0f921"
             ]
            ],
            "type": "surface"
           }
          ],
          "table": [
           {
            "cells": {
             "fill": {
              "color": "#EBF0F8"
             },
             "line": {
              "color": "white"
             }
            },
            "header": {
             "fill": {
              "color": "#C8D4E3"
             },
             "line": {
              "color": "white"
             }
            },
            "type": "table"
           }
          ]
         },
         "layout": {
          "annotationdefaults": {
           "arrowcolor": "#2a3f5f",
           "arrowhead": 0,
           "arrowwidth": 1
          },
          "autotypenumbers": "strict",
          "coloraxis": {
           "colorbar": {
            "outlinewidth": 0,
            "ticks": ""
           }
          },
          "colorscale": {
           "diverging": [
            [
             0,
             "#8e0152"
            ],
            [
             0.1,
             "#c51b7d"
            ],
            [
             0.2,
             "#de77ae"
            ],
            [
             0.3,
             "#f1b6da"
            ],
            [
             0.4,
             "#fde0ef"
            ],
            [
             0.5,
             "#f7f7f7"
            ],
            [
             0.6,
             "#e6f5d0"
            ],
            [
             0.7,
             "#b8e186"
            ],
            [
             0.8,
             "#7fbc41"
            ],
            [
             0.9,
             "#4d9221"
            ],
            [
             1,
             "#276419"
            ]
           ],
           "sequential": [
            [
             0,
             "#0d0887"
            ],
            [
             0.1111111111111111,
             "#46039f"
            ],
            [
             0.2222222222222222,
             "#7201a8"
            ],
            [
             0.3333333333333333,
             "#9c179e"
            ],
            [
             0.4444444444444444,
             "#bd3786"
            ],
            [
             0.5555555555555556,
             "#d8576b"
            ],
            [
             0.6666666666666666,
             "#ed7953"
            ],
            [
             0.7777777777777778,
             "#fb9f3a"
            ],
            [
             0.8888888888888888,
             "#fdca26"
            ],
            [
             1,
             "#f0f921"
            ]
           ],
           "sequentialminus": [
            [
             0,
             "#0d0887"
            ],
            [
             0.1111111111111111,
             "#46039f"
            ],
            [
             0.2222222222222222,
             "#7201a8"
            ],
            [
             0.3333333333333333,
             "#9c179e"
            ],
            [
             0.4444444444444444,
             "#bd3786"
            ],
            [
             0.5555555555555556,
             "#d8576b"
            ],
            [
             0.6666666666666666,
             "#ed7953"
            ],
            [
             0.7777777777777778,
             "#fb9f3a"
            ],
            [
             0.8888888888888888,
             "#fdca26"
            ],
            [
             1,
             "#f0f921"
            ]
           ]
          },
          "colorway": [
           "#636efa",
           "#EF553B",
           "#00cc96",
           "#ab63fa",
           "#FFA15A",
           "#19d3f3",
           "#FF6692",
           "#B6E880",
           "#FF97FF",
           "#FECB52"
          ],
          "font": {
           "color": "#2a3f5f"
          },
          "geo": {
           "bgcolor": "white",
           "lakecolor": "white",
           "landcolor": "#E5ECF6",
           "showlakes": true,
           "showland": true,
           "subunitcolor": "white"
          },
          "hoverlabel": {
           "align": "left"
          },
          "hovermode": "closest",
          "mapbox": {
           "style": "light"
          },
          "paper_bgcolor": "white",
          "plot_bgcolor": "#E5ECF6",
          "polar": {
           "angularaxis": {
            "gridcolor": "white",
            "linecolor": "white",
            "ticks": ""
           },
           "bgcolor": "#E5ECF6",
           "radialaxis": {
            "gridcolor": "white",
            "linecolor": "white",
            "ticks": ""
           }
          },
          "scene": {
           "xaxis": {
            "backgroundcolor": "#E5ECF6",
            "gridcolor": "white",
            "gridwidth": 2,
            "linecolor": "white",
            "showbackground": true,
            "ticks": "",
            "zerolinecolor": "white"
           },
           "yaxis": {
            "backgroundcolor": "#E5ECF6",
            "gridcolor": "white",
            "gridwidth": 2,
            "linecolor": "white",
            "showbackground": true,
            "ticks": "",
            "zerolinecolor": "white"
           },
           "zaxis": {
            "backgroundcolor": "#E5ECF6",
            "gridcolor": "white",
            "gridwidth": 2,
            "linecolor": "white",
            "showbackground": true,
            "ticks": "",
            "zerolinecolor": "white"
           }
          },
          "shapedefaults": {
           "line": {
            "color": "#2a3f5f"
           }
          },
          "ternary": {
           "aaxis": {
            "gridcolor": "white",
            "linecolor": "white",
            "ticks": ""
           },
           "baxis": {
            "gridcolor": "white",
            "linecolor": "white",
            "ticks": ""
           },
           "bgcolor": "#E5ECF6",
           "caxis": {
            "gridcolor": "white",
            "linecolor": "white",
            "ticks": ""
           }
          },
          "title": {
           "x": 0.05
          },
          "xaxis": {
           "automargin": true,
           "gridcolor": "white",
           "linecolor": "white",
           "ticks": "",
           "title": {
            "standoff": 15
           },
           "zerolinecolor": "white",
           "zerolinewidth": 2
          },
          "yaxis": {
           "automargin": true,
           "gridcolor": "white",
           "linecolor": "white",
           "ticks": "",
           "title": {
            "standoff": 15
           },
           "zerolinecolor": "white",
           "zerolinewidth": 2
          }
         }
        },
        "title": {
         "text": "RMSE por Combinações para ITUB4",
         "x": 0.5
        },
        "width": 800,
        "xaxis": {
         "anchor": "y",
         "domain": [
          0,
          1
         ],
         "title": {
          "text": "Description"
         }
        },
        "yaxis": {
         "anchor": "x",
         "domain": [
          0,
          1
         ],
         "title": {
          "text": "RMSE"
         }
        }
       }
      }
     },
     "metadata": {},
     "output_type": "display_data"
    }
   ],
   "source": [
    "# Grafico RMSE por combinação por ação\n",
    "fig_filtered = plot_rmse_line_plotly(resultados_concatenados, stock_name='ITUB4')\n",
    "fig_filtered.show()"
   ]
  }
 ],
 "metadata": {
  "kernelspec": {
   "display_name": "ieee",
   "language": "python",
   "name": "python3"
  },
  "language_info": {
   "codemirror_mode": {
    "name": "ipython",
    "version": 3
   },
   "file_extension": ".py",
   "mimetype": "text/x-python",
   "name": "python",
   "nbconvert_exporter": "python",
   "pygments_lexer": "ipython3",
   "version": "3.9.21"
  }
 },
 "nbformat": 4,
 "nbformat_minor": 2
}
